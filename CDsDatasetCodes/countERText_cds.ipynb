{
  "cells": [
    {
      "cell_type": "markdown",
      "source": [
        "Link to Drive for CDs dataset: https://drive.google.com/drive/folders/1t2Y24NSpGlT2M29zJUDvvEg2KfP0JqkN?usp=share_link"
      ],
      "metadata": {
        "id": "kGMaaNgWVEMz"
      }
    },
    {
      "cell_type": "markdown",
      "source": [
        "# Preprocessing..."
      ],
      "metadata": {
        "id": "0HnhVVYoVGYG"
      }
    },
    {
      "cell_type": "code",
      "execution_count": null,
      "metadata": {
        "colab": {
          "base_uri": "https://localhost:8080/"
        },
        "id": "HnZRW-GvrGOL",
        "outputId": "7945f37a-edc9-4742-eb86-b1c8cef58d34"
      },
      "outputs": [
        {
          "output_type": "stream",
          "name": "stdout",
          "text": [
            "Mounted at /content/drive\n"
          ]
        }
      ],
      "source": [
        "from google.colab import drive\n",
        "drive.mount('/content/drive')"
      ]
    },
    {
      "cell_type": "code",
      "execution_count": null,
      "metadata": {
        "id": "kqmspiJd2PHt"
      },
      "outputs": [],
      "source": [
        "import pandas as pd\n",
        "import numpy as np\n",
        "import torch\n",
        "import json\n",
        "import matplotlib.pyplot as plt\n",
        "import os\n",
        "import tqdm\n",
        "import pickle\n",
        "from pathlib import Path\n",
        "from torch.utils.data import DataLoader\n",
        "from sklearn.metrics import ndcg_score\n",
        "np.random.seed(0)"
      ]
    },
    {
      "cell_type": "code",
      "execution_count": null,
      "metadata": {
        "colab": {
          "base_uri": "https://localhost:8080/"
        },
        "id": "8DiUsXtF2SIS",
        "outputId": "800b8c8a-4bd6-4e57-b3c1-5a431c9769d8"
      },
      "outputs": [
        {
          "output_type": "stream",
          "name": "stdout",
          "text": [
            "--2023-01-21 10:47:56--  https://jmcauley.ucsd.edu/data/amazon_v2/categoryFiles/CDs_and_Vinyl.json.gz\n",
            "Resolving jmcauley.ucsd.edu (jmcauley.ucsd.edu)... 137.110.160.73\n",
            "Connecting to jmcauley.ucsd.edu (jmcauley.ucsd.edu)|137.110.160.73|:443... connected.\n",
            "WARNING: cannot verify jmcauley.ucsd.edu's certificate, issued by ‘CN=InCommon RSA Server CA,OU=InCommon,O=Internet2,L=Ann Arbor,ST=MI,C=US’:\n",
            "  Unable to locally verify the issuer's authority.\n",
            "HTTP request sent, awaiting response... 200 OK\n",
            "Length: 1172666826 (1.1G) [application/x-gzip]\n",
            "Saving to: ‘CDs_and_Vinyl.json.gz’\n",
            "\n",
            "CDs_and_Vinyl.json.  36%[======>             ] 405.80M  46.2MB/s    eta 11s    ^C\n"
          ]
        }
      ],
      "source": [
        "!wget https://jmcauley.ucsd.edu/data/amazon_v2/categoryFiles/CDs_and_Vinyl.json.gz --no-check-certificate "
      ]
    },
    {
      "cell_type": "code",
      "execution_count": null,
      "metadata": {
        "id": "4Htc_yec2VLB"
      },
      "outputs": [],
      "source": [
        "!gunzip CDs_and_Vinyl.json.gz"
      ]
    },
    {
      "cell_type": "code",
      "execution_count": null,
      "metadata": {
        "colab": {
          "base_uri": "https://localhost:8080/"
        },
        "id": "gn5qp_282dmg",
        "outputId": "a7868c5e-33a6-4a6a-98a5-c16a0a9645cd"
      },
      "outputs": [
        {
          "output_type": "stream",
          "name": "stdout",
          "text": [
            "--2023-01-17 11:31:31--  https://jmcauley.ucsd.edu/data/amazon_v2/metaFiles2/meta_CDs_and_Vinyl.json.gz\n",
            "Resolving jmcauley.ucsd.edu (jmcauley.ucsd.edu)... 137.110.160.73\n",
            "Connecting to jmcauley.ucsd.edu (jmcauley.ucsd.edu)|137.110.160.73|:443... connected.\n",
            "WARNING: cannot verify jmcauley.ucsd.edu's certificate, issued by ‘CN=InCommon RSA Server CA,OU=InCommon,O=Internet2,L=Ann Arbor,ST=MI,C=US’:\n",
            "  Unable to locally verify the issuer's authority.\n",
            "HTTP request sent, awaiting response... 200 OK\n",
            "Length: 161716387 (154M) [application/x-gzip]\n",
            "Saving to: ‘meta_CDs_and_Vinyl.json.gz’\n",
            "\n",
            "meta_CDs_and_Vinyl. 100%[===================>] 154.22M  90.1MB/s    in 1.7s    \n",
            "\n",
            "2023-01-17 11:31:32 (90.1 MB/s) - ‘meta_CDs_and_Vinyl.json.gz’ saved [161716387/161716387]\n",
            "\n"
          ]
        }
      ],
      "source": [
        "!wget https://jmcauley.ucsd.edu/data/amazon_v2/metaFiles2/meta_CDs_and_Vinyl.json.gz --no-check-certificate "
      ]
    },
    {
      "cell_type": "code",
      "execution_count": null,
      "metadata": {
        "id": "3uKVAbhA2jQh"
      },
      "outputs": [],
      "source": [
        "from nltk.corpus import stopwords\n",
        "from nltk import word_tokenize\n",
        "from nltk import FreqDist\n",
        "import re\n",
        "from nltk.tokenize import RegexpTokenizer\n",
        "import nltk\n",
        "from nltk.stem import WordNetLemmatizer\n",
        "from nltk import word_tokenize,pos_tag\n",
        "import pandas as pd"
      ]
    },
    {
      "cell_type": "code",
      "execution_count": null,
      "metadata": {
        "id": "p9GEI0QDVX5a"
      },
      "outputs": [],
      "source": [
        "save_path='/content/drive/Shareddrives/Unlimited Drive | @LicenseMarket/Recommender/cds/'"
      ]
    },
    {
      "cell_type": "code",
      "execution_count": null,
      "metadata": {
        "id": "qjnAFk-vpVWz"
      },
      "outputs": [],
      "source": [
        "df_review=pd.read_csv(save_path+'df_reviews.csv')"
      ]
    },
    {
      "cell_type": "code",
      "execution_count": null,
      "metadata": {
        "id": "7V09pueGpc4b"
      },
      "outputs": [],
      "source": [
        "df_meta=pd.read_csv(save_path+'df_meta.csv')"
      ]
    },
    {
      "cell_type": "code",
      "execution_count": null,
      "metadata": {
        "id": "tc-C0agaIArH"
      },
      "outputs": [],
      "source": [
        "df_review.drop(df_review.index[~df_review['asin'].isin(df_meta['asin'])], inplace=True) "
      ]
    },
    {
      "cell_type": "code",
      "execution_count": null,
      "metadata": {
        "id": "MRItXJfIcQuz"
      },
      "outputs": [],
      "source": [
        "sentires_dir='/content/drive/Shareddrives/Unlimited Drive | @LicenseMarket/Recommender/cds/CDs_and_Vinyl'\n",
        "test_length=5\n",
        "sample_ratio=2\n",
        "val_length=1\n",
        "neg_length=50\n",
        "dataset='cds_and_vinyl'\n",
        "save_path='/content/drive/Shareddrives/Unlimited Drive | @LicenseMarket/Recommender/cds/'"
      ]
    },
    {
      "cell_type": "code",
      "execution_count": null,
      "metadata": {
        "id": "mwGTbhQJRUG1"
      },
      "outputs": [],
      "source": [
        "def get_user_item_dict(df_review,items_list):\n",
        "  user_dict = {}\n",
        "  item_dict = {}\n",
        "  j=0\n",
        "  # removed_users=['A1ULCCHD1QNOS5','A1ZS098EKPVT8F','A1K1WK6I122RX2','A2PAFKGAUSBMIE','AAOYA0DKWED4W','AJS9Q2JYS3DLJ','ADOF1VKGDCBWF','A3G11XDKGXZT9Q','A1R233YLWSRBTC','A3VH9QMH2UTX9D','A15DZOS6KVANQH']    \n",
        "  for index, row in df_review.iterrows():\n",
        "    if j%100000==0:\n",
        "      print(j)\n",
        "    j+=1\n",
        "    user=row['reviewerID']\n",
        "    item=row['asin']\n",
        "    if item in items_list:\n",
        "      if user not in user_dict:\n",
        "          user_dict[user] = [item]\n",
        "      else:\n",
        "          user_dict[user].append(item)\n",
        "      if item not in item_dict:\n",
        "          item_dict[item] = [user]\n",
        "      else:\n",
        "          item_dict[item].append(user)\n",
        "  return user_dict,item_dict"
      ]
    },
    {
      "cell_type": "code",
      "execution_count": null,
      "metadata": {
        "id": "hh8HbcOEjqgN"
      },
      "outputs": [],
      "source": [
        "df_meta.loc[df_meta['feature'].str.len()<15]"
      ]
    },
    {
      "cell_type": "code",
      "execution_count": null,
      "metadata": {
        "id": "BMC87xZi-M9N"
      },
      "outputs": [],
      "source": [
        "def get_average_vect_train(df,not_in_columns):\n",
        "  df1=df.copy()\n",
        "  df1['main_word']=np.where(df1['replaced_word'] == df1[not_in_columns],1,0)\n",
        "  df1=df1[df1['main_word']==1]\n",
        "  if df1.empty:\n",
        "    df1=df.copy()\n",
        "    df1['main_word']=np.where(df1['logit']==5.0,1,0)\n",
        "    df1=df1[df1['main_word']==1]\n",
        "  if df1.empty:\n",
        "    df1=df.copy()\n",
        "    df1['main_word']=np.where(df1['logit']==12.0,1,0)\n",
        "    df1=df1[df1['main_word']==1]\n",
        "  lists=df1.loc[:, ~df1.columns.isin([not_in_columns,'replaced_word','logit','main_word'])].values\n",
        "  words=df1[not_in_columns].values\n",
        "  # print(words)\n",
        "  vects=[sub_list[0] for sub_list in lists]\n",
        "  average=np.average(np.array(vects),axis=0)\n",
        "  # print(vects)\n",
        "  # print(average)\n",
        "  # print(df)\n",
        "  # print(words)\n",
        "  # print(df)\n",
        "  return average,list(words)"
      ]
    },
    {
      "cell_type": "code",
      "execution_count": null,
      "metadata": {
        "id": "Q6_hIQu5sUrW"
      },
      "outputs": [],
      "source": [
        "def get_average_vect_test(weights,tensor_vect):\n",
        "  # weights=torch.FloatTensor(weights).to(device)\n",
        "  weights=torch.transpose(weights.repeat(tensor_vect.shape[1],1),0,1)\n",
        "  average=torch.mean(weights*tensor_vect,axis=0).to(device)\n",
        "  return average"
      ]
    },
    {
      "cell_type": "code",
      "execution_count": null,
      "metadata": {
        "id": "H6v8XMseBgND"
      },
      "outputs": [],
      "source": [
        "import os"
      ]
    },
    {
      "cell_type": "code",
      "execution_count": null,
      "metadata": {
        "id": "woUUSm-mdH1A"
      },
      "outputs": [],
      "source": [
        "from typing_extensions import final\n",
        "def get_item_matrix(item_name_dict,items_list):\n",
        "  print('----- get items matrix -------')\n",
        "  item_quality_matrix = np.zeros((len(item_name_dict), 1536))\n",
        "  print((len(item_name_dict)))\n",
        "  i=0\n",
        "  features={}\n",
        "  for item_id in items_list:\n",
        "    if item_id in item_name_dict.keys():\n",
        "      item=item_name_dict[item_id]\n",
        "      features[item]=[]\n",
        "      if i%100==0:\n",
        "        print(i)\n",
        "      i+=1\n",
        "      # if i<950:\n",
        "      #   continue\n",
        "      final_vector=[]\n",
        "      # print(item_id)\n",
        "      df_vect_desc_item= pd.read_json(save_path+'descriptions_bert/'+'{}.json'.format(item_id))\n",
        "      df_vect_title_item= pd.read_json(save_path+'titles_bert/'+'{}.json'.format(item_id))\n",
        "      # df_vect_feature_item= pd.read_json(save_path+'features_bert/'+'{}.json'.format(item_id))\n",
        "      \n",
        "      # print(item_id)\n",
        "      # print(df_vect_desc_item)\n",
        "\n",
        "      average_vect_desc,words_desc=get_average_vect_train(df_vect_desc_item,'description_words')\n",
        "      average_vect_title,words_title=get_average_vect_train(df_vect_title_item,'title_words')\n",
        "      # average_vect_feature,words_feature=get_average_vect_train(df_vect_feature_item,'feature_words')\n",
        "      # print(average_vect_title.shape)\n",
        "      features[item].append(words_desc)\n",
        "      features[item].append(words_title)\n",
        "      # features[item].append(words_feature)\n",
        "      # features[item].append(words_senti)\n",
        "      # features[item].append([rank])\n",
        "      final_vector=list(average_vect_desc)\n",
        "      final_vector+=list(average_vect_title)\n",
        "      # final_vector+=list(average_vect_feature)\n",
        "  # final_vector+=list(average_bert_sentiment)\n",
        "  # final_vector+=[rank]\n",
        "  \n",
        "      if len(final_vector)>1536:\n",
        "          print(len(list(average_vect_desc)))\n",
        "          print(len(list(average_vect_title)))\n",
        "          # print(len(list(average_vect_feature)))\n",
        "          # print(len(list(average_bert_sentiment)))\n",
        "          print(item_id)\n",
        "      item_quality_matrix[item]=final_vector\n",
        "      # print(item_quality_matrix)\n",
        "\n",
        "  item_quality_matrix = np.array(item_quality_matrix, dtype='float32')\n",
        "  return item_quality_matrix,features"
      ]
    },
    {
      "cell_type": "code",
      "execution_count": null,
      "metadata": {
        "id": "QRpOh_KG94WX"
      },
      "outputs": [],
      "source": [
        "def get_user_matrix(item_matrix,inv_user_name_dict,item_name_dict):\n",
        "  user_quality_matrix = np.zeros((len(inv_user_name_dict), 1536))\n",
        "  i=0\n",
        "  print('----- get users matrix -------')\n",
        "  print((len(inv_user_name_dict)))\n",
        "  for  user in inv_user_name_dict.keys():\n",
        "    if i%1000==0:\n",
        "      print(i)\n",
        "    i+=1\n",
        "    user_id= inv_user_name_dict[user]\n",
        "    final_vector=[]\n",
        "    items_interacted=df_review[df_review['reviewerID']==user_id ]\n",
        "    # mean_rate=np.average(items_interacted['overall'].values)\n",
        "    # weights=[]\n",
        "    for item_id in items_interacted['asin'].values:\n",
        "      if item_id in item_name_dict.keys():\n",
        "        item=item_name_dict[item_id]\n",
        "        # weight=items_interacted[items_interacted['asin']==item_id]['overall'].values[0]-mean_rate\n",
        "        # weights.append(weight)\n",
        "        final_vector.append(item_matrix[item])\n",
        "    # if np.sum(weights)>0 or np.sum(weights)<0:\n",
        "    #   final_average=np.average(final_vector,weights=weights,axis=0)\n",
        "    # else:\n",
        "    final_average=np.average(final_vector,axis=0)\n",
        "    if ~np.isnan(np.sum(final_average)):\n",
        "      user_quality_matrix[user]=final_average\n",
        "    else:\n",
        "      print(user_id)\n",
        "  user_quality_matrix = np.array(user_quality_matrix, dtype='float32')\n",
        "  return user_quality_matrix"
      ]
    },
    {
      "cell_type": "code",
      "execution_count": null,
      "metadata": {
        "id": "Rfm9U58AAOnk"
      },
      "outputs": [],
      "source": [
        "def sample_training_pairs(user, training_items, item_set, sample_ratio=5):\n",
        "    positive_items = set(training_items)\n",
        "    negative_items = set()\n",
        "    for item in item_set:\n",
        "        if item not in positive_items:\n",
        "            negative_items.add(item)\n",
        "    neg_length = len(positive_items) * sample_ratio\n",
        "    negative_items = np.random.choice(np.array(list(negative_items)), neg_length, replace=False)\n",
        "    train_pairs = []\n",
        "    for p_item in positive_items:\n",
        "        train_pairs.append([user, p_item, 1])\n",
        "    for n_item in negative_items:\n",
        "        train_pairs.append([user, n_item, 0])\n",
        "    return train_pairs"
      ]
    },
    {
      "cell_type": "code",
      "execution_count": null,
      "metadata": {
        "id": "Nrl9nTx0iGFW"
      },
      "outputs": [],
      "source": [
        "import glob\n",
        "def get_items_list():\n",
        "  items_list=[]\n",
        "  names=glob.glob(save_path+\"titles_bert/*.json\")\n",
        "  for name in names:\n",
        "    items_list.append(name.split('/')[-1].split('_')[-1][0:-5])\n",
        "  return items_list"
      ]
    },
    {
      "cell_type": "code",
      "execution_count": null,
      "metadata": {
        "id": "wRV2woMaQP2z"
      },
      "outputs": [],
      "source": [
        "from re import S\n",
        "import torch\n",
        "import numpy as np\n",
        "import json\n",
        "import pickle\n",
        "# from torch._C import R\n",
        "import tqdm\n",
        "from torch.random import seed\n",
        "\n",
        "\n",
        "class AmazonDataset():\n",
        "    def __init__(self):\n",
        "        super().__init__()\n",
        "\n",
        "        self.user_name_dict = {}  # rename users to integer names\n",
        "        self.item_name_dict = {}\n",
        "        # self.feature_name_dict = {}\n",
        "\n",
        "        self.features = {}  # feature list\n",
        "        self.users = []\n",
        "        self.items = []\n",
        "\n",
        "        # the interacted items for each user, sorted with date {user:[i1, i2, i3, ...], user:[i1, i2, i3, ...]}\n",
        "        self.user_hist_inter_dict = {}\n",
        "        # the interacted users for each item\n",
        "        self.item_hist_inter_dict = {}  \n",
        "\n",
        "        self.user_num = None\n",
        "        self.item_num = None\n",
        "        self.feature_num = 1536# number of features\n",
        "\n",
        "        self.user_feature_matrix = None  # user aspect attention matrix\n",
        "        self.item_feature_matrix = None  # item aspect quality matrix\n",
        "\n",
        "        self.training_data = None\n",
        "        self.test_data = None\n",
        "        self.pre_processing()\n",
        "        self.get_user_item_feature_matrix()\n",
        "        self.sample_training()  # sample training data, for traning BPR loss\n",
        "        self.sample_test()  # sample test data\n",
        "\n",
        "    def pre_processing(self,):\n",
        "        self.items_list=items_list\n",
        "        user_dict, item_dict = get_user_item_dict(df_review,self.items_list)  # not sorted with time\n",
        "        self.items_list=list(item_dict.keys())\n",
        "        print('num_items: ',len(item_dict))\n",
        "        user_item_date_dict = {}   # {(user, item): date, (user, item): date ...}  # used to remove duplicate\n",
        "        # # removed_users=['A1ULCCHD1QNOS5','A1ZS098EKPVT8F','A1K1WK6I122RX2','A2PAFKGAUSBMIE','AAOYA0DKWED4W','AJS9Q2JYS3DLJ','ADOF1VKGDCBWF','A3G11XDKGXZT9Q','A1R233YLWSRBTC','A3VH9QMH2UTX9D','A15DZOS6KVANQH']\n",
        "        # print(df_review.shape)\n",
        "        for i, row in df_review.iterrows():\n",
        "            user = row['reviewerID']\n",
        "            # if user not in removed_users:\n",
        "            item = row['asin']\n",
        "            date = row['unixReviewTime']\n",
        "            if item in self.items_list:\n",
        "              if user in user_dict and item in user_dict[user] and (user, item) not in user_item_date_dict:\n",
        "                  user_item_date_dict[(user, item)] = date\n",
        "        \n",
        "        # rename users, items, and features to integer names\n",
        "        user_name_dict = {}\n",
        "        item_name_dict = {}\n",
        "        # feature_name_dict = {}\n",
        "        # features = get_feature_list(df_bert_sentiment,df_bert_desc,)\n",
        "        \n",
        "        count = 0\n",
        "        for user in user_dict:\n",
        "            if user not in user_name_dict:\n",
        "                user_name_dict[user] = count\n",
        "                count += 1\n",
        "        count = 0\n",
        "        for item in item_dict:\n",
        "            if item not in item_name_dict:\n",
        "                item_name_dict[item] = count\n",
        "                count += 1\n",
        "        self.inv_user_name_dict = {v: k for k, v in user_name_dict.items()}\n",
        "        self.inv_item_name_dict = {v: k for k, v in item_name_dict.items()}\n",
        "        \n",
        "\n",
        "        renamed_user_item_date_dict = {}\n",
        "        for key, value in user_item_date_dict.items():\n",
        "            renamed_user_item_date_dict[user_name_dict[key[0]], item_name_dict[key[1]]] = value\n",
        "\n",
        "        # sort with date\n",
        "        renamed_user_item_date_dict  = dict(sorted(renamed_user_item_date_dict .items(), key=lambda item: item[1]))\n",
        "\n",
        "        user_hist_inter_dict = {}  # {\"u1\": [i1, i2, i3, ...], \"u2\": [i1, i2, i3, ...]}, sort with time\n",
        "        item_hist_inter_dict = {}\n",
        "        # ranked_user_item_dict = {}  # {\"u1\": [i1, i2, i3, ...], \"u2\": [i1, i2, i3, ...]}\n",
        "        for key, value in renamed_user_item_date_dict.items():\n",
        "            user = key[0]\n",
        "            item = key[1]\n",
        "            if user not in user_hist_inter_dict:\n",
        "                user_hist_inter_dict[user] = [item]\n",
        "            else:\n",
        "                user_hist_inter_dict[user].append(item)\n",
        "            if item not in item_hist_inter_dict:\n",
        "                item_hist_inter_dict[item] = [user]\n",
        "            else:\n",
        "                item_hist_inter_dict[item].append(user)\n",
        "\n",
        "        user_hist_inter_dict = dict(sorted(user_hist_inter_dict.items()))\n",
        "        item_hist_inter_dict = dict(sorted(item_hist_inter_dict.items()))\n",
        "\n",
        "        users = list(user_hist_inter_dict.keys())\n",
        "        items = list(item_hist_inter_dict.keys())\n",
        "\n",
        "        self.user_name_dict = user_name_dict\n",
        "        self.item_name_dict = item_name_dict\n",
        "        self.user_hist_inter_dict = user_hist_inter_dict\n",
        "        self.item_hist_inter_dict = item_hist_inter_dict\n",
        "        self.users = users\n",
        "        self.items = items\n",
        "        self.user_num = len(users)\n",
        "        self.item_num = len(items)\n",
        "        return True\n",
        "    \n",
        "    def get_user_item_feature_matrix(self,):\n",
        "        # exclude test data from the sentiment data to construct matrix\n",
        "        train_u_i_set = set()\n",
        "        for user, items in self.user_hist_inter_dict.items():\n",
        "            items = items[:-test_length]\n",
        "            for item in items:\n",
        "                train_u_i_set.add((user, item))\n",
        "\n",
        "        self.item_feature_matrix,self.item_features= get_item_matrix(self.item_name_dict,self.items_list)\n",
        "        self.user_feature_matrix = get_user_matrix(self.item_feature_matrix,self.inv_user_name_dict,self.item_name_dict)\n",
        "        \n",
        "        return True\n",
        "    \n",
        "    def sample_training(self):\n",
        "        print('======================= sample training data =======================')\n",
        "        # training_data = []\n",
        "        # training_pairs = np.loadtxt(save_path+'training_data.txt',dtype=str)\n",
        "        # for pair in training_pairs:\n",
        "        #   # print(self.user_name_dict)\n",
        "        #   # print(pair[0])\n",
        "        #   if pair[0] in self.user_name_dict.keys() and pair[1] in self.item_name_dict.keys():\n",
        "        #     training_data.append([self.user_name_dict[pair[0]],self.item_name_dict[pair[1]],int(pair[2])])\n",
        "\n",
        "\n",
        "        print(self.user_feature_matrix.shape, self.item_feature_matrix.shape)\n",
        "        training_data = []\n",
        "        item_set = set(self.items)\n",
        "        for user, items in self.user_hist_inter_dict.items():\n",
        "            if len(items)>15:\n",
        "              items = items[:-(test_length)]\n",
        "              training_pairs = sample_training_pairs(\n",
        "                  user, \n",
        "                  items, \n",
        "                  item_set, \n",
        "                  sample_ratio)\n",
        "              for pair in training_pairs:\n",
        "                  training_data.append(pair)\n",
        "        print('# training samples :', len(training_data))\n",
        "        self.training_data = np.array(training_data)\n",
        "      \n",
        "        return True\n",
        "    \n",
        "    def sample_test(self):\n",
        "        print('======================= sample test data =======================')\n",
        "        # user_item_label_list = []  # [[u, [item1, item2, ...], [l1, l2, ...]], ...]\n",
        "        # with open(save_path+'test_data.pickle', 'rb') as f:\n",
        "        #     test_pairs= pickle.load(f)\n",
        "        # for user_id in test_pairs.keys():\n",
        "        #   user=self.user_name_dict[user_id]\n",
        "        #   items_ids=test_pairs[user_id][0]\n",
        "        #   labels=test_pairs[user_id][1]\n",
        "        #   items=np.array([self.item_name_dict[item] for item in items_ids if item in self.item_name_dict])\n",
        "        #   labels=np.array([float(labels[i]) for i in range(len(labels)) if items_ids[i] in self.item_name_dict])\n",
        "        #   user_item_label_list.append([user,items,labels])\n",
        "        # print('# test samples :', len(user_item_label_list))\n",
        "        # self.test_data = np.array(user_item_label_list)\n",
        "\n",
        "        # validation_data = []  # [[u, [item1, item2, ...], [l1, l2, ...]], ...]\n",
        "        # with open(save_path+'validation_data.pickle', 'rb') as f:\n",
        "        #     validation_pairs= pickle.load(f)\n",
        "        # for user_id in validation_pairs.keys():\n",
        "        #   user=self.user_name_dict[user_id]\n",
        "        #   items_ids=validation_pairs[user_id][0]\n",
        "        #   labels=validation_pairs[user_id][1]\n",
        "        #   items=np.array([self.item_name_dict[item] for item in items_ids if item in self.item_name_dict])\n",
        "        #   labels=np.array([float(labels[i]) for i in range(len(labels)) if items_ids[i] in self.item_name_dict])\n",
        "        #   validation_data.append([user,items,labels])\n",
        "        # print('# validation samples :', len(validation_data))\n",
        "        # self.validation_data = np.array(validation_data)\n",
        "\n",
        "\n",
        "        user_item_label_list = []  # [[u, [item1, item2, ...], [l1, l2, ...]], ...]\n",
        "        validation_data=[]\n",
        "        for user, items in self.user_hist_inter_dict.items():\n",
        "          if len(items)>15:\n",
        "            # print(items)\n",
        "            items1 = items[-(test_length):-(val_length)]\n",
        "            items2 = items[-(val_length):]\n",
        "            # print(items1)\n",
        "            # print(items2)\n",
        "            user_item_label_list.append([user, items1, np.ones(len(items1))])  # add the test items\n",
        "            validation_data.append([user, items2, np.ones(len(items2))])\n",
        "            neg_length1=len(items1)*5\n",
        "            neg_length2=len(items2)*5\n",
        "            negative_items1 = [item for item in self.items if \n",
        "                item not in self.user_hist_inter_dict[user]]  # the not interacted items\n",
        "            # print(len(negative_items1))\n",
        "            negative_items1 = np.random.choice(np.array(negative_items1), neg_length1, replace=False)\n",
        "            negative_items2 = np.random.choice(np.array(negative_items1), neg_length2, replace=False)\n",
        "\n",
        "            user_item_label_list[-1][1] = np.concatenate((user_item_label_list[-1][1], negative_items1), axis=0)\n",
        "            user_item_label_list[-1][2] = np.concatenate((user_item_label_list[-1][2], np.zeros(neg_length1)), axis=0)\n",
        "\n",
        "            validation_data[-1][1] = np.concatenate((validation_data[-1][1], negative_items2), axis=0)\n",
        "            validation_data[-1][2] = np.concatenate((validation_data[-1][2], np.zeros(neg_length2)), axis=0)\n",
        "        print('# test samples :', len(user_item_label_list))\n",
        "        print('# validation samples :', len(validation_data))\n",
        "        self.test_data = np.array(user_item_label_list)\n",
        "        self.validation_data=np.array(validation_data)\n",
        "        return True\n",
        "\n",
        "    def save(self, save_path):\n",
        "        return True\n",
        "    \n",
        "    def load(self):\n",
        "        return False"
      ]
    },
    {
      "cell_type": "code",
      "execution_count": null,
      "metadata": {
        "id": "mJU1IgY8LF07"
      },
      "outputs": [],
      "source": [
        "def amazon_preprocessing():\n",
        "    rec_dataset = AmazonDataset()\n",
        "    return rec_dataset"
      ]
    },
    {
      "cell_type": "code",
      "execution_count": null,
      "metadata": {
        "id": "6ECM0Lw3NFbC"
      },
      "outputs": [],
      "source": [
        "def dataset_init():\n",
        "\tif dataset == \"yelp\":\n",
        "\t\trec_dataset = yelp_preprocessing()\n",
        "\telif dataset == \"cell_phones\" or \"kindle_store\" or \"electronic\" or \"cds_and_vinyl\":\n",
        "\t\trec_dataset = amazon_preprocessing()\n",
        "\treturn rec_dataset"
      ]
    },
    {
      "cell_type": "code",
      "execution_count": null,
      "metadata": {
        "id": "zAb2lKMWb1Zo"
      },
      "outputs": [],
      "source": [
        "dataset=\"cds_and_vinyl\"\n",
        "gpu=True\n",
        "cuda='0'\n",
        "weight_decay=0.00001\n",
        "lr=0.01\n",
        "epochs=80\n",
        "batch_size=64\n",
        "rec_k=5"
      ]
    },
    {
      "cell_type": "code",
      "execution_count": null,
      "metadata": {
        "id": "x4Zo-5mANolR"
      },
      "outputs": [],
      "source": [
        "import numpy as np\n",
        "from torch.utils.data import Dataset\n",
        "class UserItemInterDataset(Dataset):\n",
        "    def __init__(self, data, user_feature_matrix, item_feature_matrix):\n",
        "        self.data = data\n",
        "        self.user_feature_matrix = user_feature_matrix\n",
        "        self.item_feature_matrix = item_feature_matrix\n",
        "\n",
        "    def __getitem__(self, index):\n",
        "        user = self.data[index][0]\n",
        "        item = self.data[index][1]\n",
        "        label = self.data[index][2]\n",
        "        user_feature = self.user_feature_matrix[user]\n",
        "        item_feature = self.item_feature_matrix[item]\n",
        "        return user_feature, item_feature, label\n",
        "    def __len__(self):\n",
        "        return len(self.data)"
      ]
    },
    {
      "cell_type": "markdown",
      "source": [
        "# Train Black-box model..."
      ],
      "metadata": {
        "id": "WD0NlIsJVNCH"
      }
    },
    {
      "cell_type": "code",
      "execution_count": null,
      "metadata": {
        "id": "Lma7BKCoNySG"
      },
      "outputs": [],
      "source": [
        "import numpy as np\n",
        "import torch\n",
        "from sklearn.metrics import ndcg_score"
      ]
    },
    {
      "cell_type": "code",
      "execution_count": null,
      "metadata": {
        "id": "Ep5Pi9VbNtvi"
      },
      "outputs": [],
      "source": [
        "def compute_ndcg(test_data, user_feature_matrix, item_feature_matrix, k, model, device):\n",
        "    model.eval()\n",
        "    ndcgs = []\n",
        "    with torch.no_grad():\n",
        "        for row in test_data:\n",
        "            user = row[0]\n",
        "            items = row[1]\n",
        "            gt_labels = row[2]\n",
        "            user_features = np.array([user_feature_matrix[user] for i in range(len(items))])\n",
        "            item_features = np.array([item_feature_matrix[item] for item in items])\n",
        "            scores = model(torch.from_numpy(user_features).to(device),\n",
        "                                    torch.from_numpy(item_features).to(device)).squeeze()\n",
        "            scores = np.array(scores.to('cpu'))\n",
        "            ndcg = ndcg_score([gt_labels], [scores], k=k)\n",
        "            ndcgs.append(ndcg)\n",
        "    ave_ndcg = np.mean(ndcgs)\n",
        "    return ave_ndcg\n"
      ]
    },
    {
      "cell_type": "code",
      "execution_count": null,
      "metadata": {
        "id": "rnvfmuGXM-7F"
      },
      "outputs": [],
      "source": [
        "import torch\n",
        "import numpy as np\n",
        "import os\n",
        "import tqdm\n",
        "import pickle\n",
        "from pathlib import Path\n",
        "from torch.utils.data import DataLoader"
      ]
    },
    {
      "cell_type": "code",
      "execution_count": null,
      "metadata": {
        "id": "T-szQN49N-l0"
      },
      "outputs": [],
      "source": [
        "from numpy import core\n",
        "\n",
        "class BaseRecModel(torch.nn.Module):\n",
        "    def __init__(self, feature_length):\n",
        "        super(BaseRecModel, self).__init__()\n",
        "        self.fc = torch.nn.Sequential(\n",
        "            torch.nn.Linear(feature_length * 2, 512),\n",
        "            torch.nn.ReLU(),\n",
        "            torch.nn.Linear(512, 256),\n",
        "            torch.nn.ReLU(),\n",
        "            torch.nn.Linear(256, 1),\n",
        "            torch.nn.Sigmoid()\n",
        "        )\n",
        "\n",
        "    def forward(self, user_feature, item_feature):\n",
        "        fusion = torch.cat((user_feature, item_feature), 1)\n",
        "        out = self.fc(fusion)\n",
        "        return out\n"
      ]
    },
    {
      "cell_type": "code",
      "execution_count": null,
      "metadata": {
        "colab": {
          "base_uri": "https://localhost:8080/"
        },
        "id": "05LMQ0K63i30",
        "outputId": "67161641-c457-4fec-cd6a-1a327450cb0b"
      },
      "outputs": [
        {
          "output_type": "stream",
          "name": "stdout",
          "text": [
            "cuda:0\n"
          ]
        }
      ],
      "source": [
        "if gpu:\n",
        "  device = torch.device('cuda:%s' % cuda)\n",
        "else:\n",
        "  device = 'cpu'\n",
        "print(device)"
      ]
    },
    {
      "cell_type": "code",
      "execution_count": null,
      "metadata": {
        "id": "9VSW0s52y3vR"
      },
      "outputs": [],
      "source": [
        "rec_dataset = dataset_init()"
      ]
    },
    {
      "cell_type": "code",
      "execution_count": null,
      "metadata": {
        "id": "taAj1CnnK50V"
      },
      "outputs": [],
      "source": [
        "with open(os.path.join(save_path, dataset + \"_dataset_obj_2.pickle\"), 'rb') as inp:\n",
        "  rec_dataset = pickle.load(inp)"
      ]
    },
    {
      "cell_type": "code",
      "execution_count": null,
      "metadata": {
        "id": "stGgIm7nvgfs"
      },
      "outputs": [],
      "source": [
        "import matplotlib.pyplot as plt"
      ]
    },
    {
      "cell_type": "code",
      "execution_count": null,
      "metadata": {
        "colab": {
          "base_uri": "https://localhost:8080/",
          "height": 1000
        },
        "id": "v2G66iinM9Os",
        "outputId": "9479539d-3ca5-4ffa-9435-de0097c0059e"
      },
      "outputs": [
        {
          "metadata": {
            "tags": null
          },
          "name": "stdout",
          "output_type": "stream",
          "text": [
            "Using CUDA 0\n",
            "init ndcg: 0.282767313364255\n"
          ]
        },
        {
          "metadata": {
            "tags": null
          },
          "name": "stderr",
          "output_type": "stream",
          "text": [
            "\r  0%|          | 0/80 [00:00<?, ?it/s]"
          ]
        },
        {
          "metadata": {
            "tags": null
          },
          "name": "stdout",
          "output_type": "stream",
          "text": [
            "epoch 0:  training loss:  0.6129235\n"
          ]
        },
        {
          "metadata": {
            "tags": null
          },
          "name": "stderr",
          "output_type": "stream",
          "text": [
            "\r  1%|▏         | 1/80 [00:26<35:02, 26.61s/it]"
          ]
        },
        {
          "metadata": {
            "tags": null
          },
          "name": "stdout",
          "output_type": "stream",
          "text": [
            "epoch 0:  training loss:  0.6129235 NDCG_validation:  0.4291378945191202\n"
          ]
        },
        {
          "metadata": {
            "tags": null
          },
          "name": "stderr",
          "output_type": "stream",
          "text": [
            "\r  2%|▎         | 2/80 [00:47<29:50, 22.96s/it]"
          ]
        },
        {
          "metadata": {
            "tags": null
          },
          "name": "stdout",
          "output_type": "stream",
          "text": [
            "epoch 1:  training loss:  0.52338547\n"
          ]
        },
        {
          "metadata": {
            "tags": null
          },
          "name": "stderr",
          "output_type": "stream",
          "text": [
            "\r  4%|▍         | 3/80 [01:07<27:57, 21.79s/it]"
          ]
        },
        {
          "metadata": {
            "tags": null
          },
          "name": "stdout",
          "output_type": "stream",
          "text": [
            "epoch 2:  training loss:  0.46956953\n"
          ]
        },
        {
          "metadata": {
            "tags": null
          },
          "name": "stderr",
          "output_type": "stream",
          "text": [
            "\r  5%|▌         | 4/80 [01:27<26:52, 21.22s/it]"
          ]
        },
        {
          "metadata": {
            "tags": null
          },
          "name": "stdout",
          "output_type": "stream",
          "text": [
            "epoch 3:  training loss:  0.44381717\n"
          ]
        },
        {
          "metadata": {
            "tags": null
          },
          "name": "stderr",
          "output_type": "stream",
          "text": [
            "\r  6%|▋         | 5/80 [01:48<26:08, 20.91s/it]"
          ]
        },
        {
          "metadata": {
            "tags": null
          },
          "name": "stdout",
          "output_type": "stream",
          "text": [
            "epoch 4:  training loss:  0.42542708\n"
          ]
        },
        {
          "metadata": {
            "tags": null
          },
          "name": "stderr",
          "output_type": "stream",
          "text": [
            "\r  8%|▊         | 6/80 [02:08<25:34, 20.73s/it]"
          ]
        },
        {
          "metadata": {
            "tags": null
          },
          "name": "stdout",
          "output_type": "stream",
          "text": [
            "epoch 5:  training loss:  0.41204154\n"
          ]
        },
        {
          "metadata": {
            "tags": null
          },
          "name": "stderr",
          "output_type": "stream",
          "text": [
            "\r  9%|▉         | 7/80 [02:28<25:02, 20.58s/it]"
          ]
        },
        {
          "metadata": {
            "tags": null
          },
          "name": "stdout",
          "output_type": "stream",
          "text": [
            "epoch 6:  training loss:  0.40105578\n"
          ]
        },
        {
          "metadata": {
            "tags": null
          },
          "name": "stderr",
          "output_type": "stream",
          "text": [
            "\r 10%|█         | 8/80 [02:48<24:32, 20.45s/it]"
          ]
        },
        {
          "metadata": {
            "tags": null
          },
          "name": "stdout",
          "output_type": "stream",
          "text": [
            "epoch 7:  training loss:  0.39171344\n"
          ]
        },
        {
          "metadata": {
            "tags": null
          },
          "name": "stderr",
          "output_type": "stream",
          "text": [
            "\r 11%|█▏        | 9/80 [03:09<24:05, 20.36s/it]"
          ]
        },
        {
          "metadata": {
            "tags": null
          },
          "name": "stdout",
          "output_type": "stream",
          "text": [
            "epoch 8:  training loss:  0.38317624\n"
          ]
        },
        {
          "metadata": {
            "tags": null
          },
          "name": "stderr",
          "output_type": "stream",
          "text": [
            "\r 12%|█▎        | 10/80 [03:29<23:38, 20.26s/it]"
          ]
        },
        {
          "metadata": {
            "tags": null
          },
          "name": "stdout",
          "output_type": "stream",
          "text": [
            "epoch 9:  training loss:  0.37634182\n",
            "epoch 10:  training loss:  0.36899644\n"
          ]
        },
        {
          "metadata": {
            "tags": null
          },
          "name": "stderr",
          "output_type": "stream",
          "text": [
            "\r 14%|█▍        | 11/80 [03:55<25:24, 22.09s/it]"
          ]
        },
        {
          "metadata": {
            "tags": null
          },
          "name": "stdout",
          "output_type": "stream",
          "text": [
            "epoch 10:  training loss:  0.36899644 NDCG_validation:  0.7115241013054225\n"
          ]
        },
        {
          "metadata": {
            "tags": null
          },
          "name": "stderr",
          "output_type": "stream",
          "text": [
            "\r 15%|█▌        | 12/80 [04:15<24:20, 21.48s/it]"
          ]
        },
        {
          "metadata": {
            "tags": null
          },
          "name": "stdout",
          "output_type": "stream",
          "text": [
            "epoch 11:  training loss:  0.36251155\n"
          ]
        },
        {
          "metadata": {
            "tags": null
          },
          "name": "stderr",
          "output_type": "stream",
          "text": [
            "\r 16%|█▋        | 13/80 [04:35<23:30, 21.06s/it]"
          ]
        },
        {
          "metadata": {
            "tags": null
          },
          "name": "stdout",
          "output_type": "stream",
          "text": [
            "epoch 12:  training loss:  0.35650292\n"
          ]
        },
        {
          "metadata": {
            "tags": null
          },
          "name": "stderr",
          "output_type": "stream",
          "text": [
            "\r 18%|█▊        | 14/80 [04:55<22:54, 20.82s/it]"
          ]
        },
        {
          "metadata": {
            "tags": null
          },
          "name": "stdout",
          "output_type": "stream",
          "text": [
            "epoch 13:  training loss:  0.35071734\n"
          ]
        },
        {
          "metadata": {
            "tags": null
          },
          "name": "stderr",
          "output_type": "stream",
          "text": [
            "\r 19%|█▉        | 15/80 [05:15<22:19, 20.61s/it]"
          ]
        },
        {
          "metadata": {
            "tags": null
          },
          "name": "stdout",
          "output_type": "stream",
          "text": [
            "epoch 14:  training loss:  0.34568077\n"
          ]
        },
        {
          "metadata": {
            "tags": null
          },
          "name": "stderr",
          "output_type": "stream",
          "text": [
            "\r 20%|██        | 16/80 [05:36<21:51, 20.49s/it]"
          ]
        },
        {
          "metadata": {
            "tags": null
          },
          "name": "stdout",
          "output_type": "stream",
          "text": [
            "epoch 15:  training loss:  0.34040752\n"
          ]
        },
        {
          "metadata": {
            "tags": null
          },
          "name": "stderr",
          "output_type": "stream",
          "text": [
            "\r 21%|██▏       | 17/80 [05:56<21:24, 20.38s/it]"
          ]
        },
        {
          "metadata": {
            "tags": null
          },
          "name": "stdout",
          "output_type": "stream",
          "text": [
            "epoch 16:  training loss:  0.33611637\n"
          ]
        },
        {
          "metadata": {
            "tags": null
          },
          "name": "stderr",
          "output_type": "stream",
          "text": [
            "\r 22%|██▎       | 18/80 [06:16<20:58, 20.30s/it]"
          ]
        },
        {
          "metadata": {
            "tags": null
          },
          "name": "stdout",
          "output_type": "stream",
          "text": [
            "epoch 17:  training loss:  0.33109093\n"
          ]
        },
        {
          "metadata": {
            "tags": null
          },
          "name": "stderr",
          "output_type": "stream",
          "text": [
            "\r 24%|██▍       | 19/80 [06:36<20:35, 20.26s/it]"
          ]
        },
        {
          "metadata": {
            "tags": null
          },
          "name": "stdout",
          "output_type": "stream",
          "text": [
            "epoch 18:  training loss:  0.32644656\n"
          ]
        },
        {
          "metadata": {
            "tags": null
          },
          "name": "stderr",
          "output_type": "stream",
          "text": [
            "\r 25%|██▌       | 20/80 [06:56<20:14, 20.24s/it]"
          ]
        },
        {
          "metadata": {
            "tags": null
          },
          "name": "stdout",
          "output_type": "stream",
          "text": [
            "epoch 19:  training loss:  0.32187378\n",
            "epoch 20:  training loss:  0.3182147\n"
          ]
        },
        {
          "metadata": {
            "tags": null
          },
          "name": "stderr",
          "output_type": "stream",
          "text": [
            "\r 26%|██▋       | 21/80 [07:22<21:24, 21.78s/it]"
          ]
        },
        {
          "metadata": {
            "tags": null
          },
          "name": "stdout",
          "output_type": "stream",
          "text": [
            "epoch 20:  training loss:  0.3182147 NDCG_validation:  0.7560824768966159\n"
          ]
        },
        {
          "metadata": {
            "tags": null
          },
          "name": "stderr",
          "output_type": "stream",
          "text": [
            "\r 28%|██▊       | 22/80 [07:42<20:33, 21.27s/it]"
          ]
        },
        {
          "metadata": {
            "tags": null
          },
          "name": "stdout",
          "output_type": "stream",
          "text": [
            "epoch 21:  training loss:  0.31349957\n"
          ]
        },
        {
          "metadata": {
            "tags": null
          },
          "name": "stderr",
          "output_type": "stream",
          "text": [
            "\r 29%|██▉       | 23/80 [08:02<19:51, 20.90s/it]"
          ]
        },
        {
          "metadata": {
            "tags": null
          },
          "name": "stdout",
          "output_type": "stream",
          "text": [
            "epoch 22:  training loss:  0.30982986\n"
          ]
        },
        {
          "metadata": {
            "tags": null
          },
          "name": "stderr",
          "output_type": "stream",
          "text": [
            "\r 30%|███       | 24/80 [08:22<19:17, 20.68s/it]"
          ]
        },
        {
          "metadata": {
            "tags": null
          },
          "name": "stdout",
          "output_type": "stream",
          "text": [
            "epoch 23:  training loss:  0.30580398\n"
          ]
        },
        {
          "metadata": {
            "tags": null
          },
          "name": "stderr",
          "output_type": "stream",
          "text": [
            "\r 31%|███▏      | 25/80 [08:42<18:47, 20.50s/it]"
          ]
        },
        {
          "metadata": {
            "tags": null
          },
          "name": "stdout",
          "output_type": "stream",
          "text": [
            "epoch 24:  training loss:  0.30231294\n"
          ]
        },
        {
          "metadata": {
            "tags": null
          },
          "name": "stderr",
          "output_type": "stream",
          "text": [
            "\r 32%|███▎      | 26/80 [09:02<18:19, 20.37s/it]"
          ]
        },
        {
          "metadata": {
            "tags": null
          },
          "name": "stdout",
          "output_type": "stream",
          "text": [
            "epoch 25:  training loss:  0.29820284\n"
          ]
        },
        {
          "metadata": {
            "tags": null
          },
          "name": "stderr",
          "output_type": "stream",
          "text": [
            "\r 34%|███▍      | 27/80 [09:22<17:54, 20.28s/it]"
          ]
        },
        {
          "metadata": {
            "tags": null
          },
          "name": "stdout",
          "output_type": "stream",
          "text": [
            "epoch 26:  training loss:  0.2945484\n"
          ]
        },
        {
          "metadata": {
            "tags": null
          },
          "name": "stderr",
          "output_type": "stream",
          "text": [
            "\r 35%|███▌      | 28/80 [09:42<17:33, 20.25s/it]"
          ]
        },
        {
          "metadata": {
            "tags": null
          },
          "name": "stdout",
          "output_type": "stream",
          "text": [
            "epoch 27:  training loss:  0.29129234\n"
          ]
        },
        {
          "metadata": {
            "tags": null
          },
          "name": "stderr",
          "output_type": "stream",
          "text": [
            "\r 36%|███▋      | 29/80 [10:03<17:23, 20.46s/it]"
          ]
        },
        {
          "metadata": {
            "tags": null
          },
          "name": "stdout",
          "output_type": "stream",
          "text": [
            "epoch 28:  training loss:  0.28783584\n"
          ]
        },
        {
          "metadata": {
            "tags": null
          },
          "name": "stderr",
          "output_type": "stream",
          "text": [
            "\r 38%|███▊      | 30/80 [10:23<16:57, 20.36s/it]"
          ]
        },
        {
          "metadata": {
            "tags": null
          },
          "name": "stdout",
          "output_type": "stream",
          "text": [
            "epoch 29:  training loss:  0.28418052\n",
            "epoch 30:  training loss:  0.2808718\n"
          ]
        },
        {
          "metadata": {
            "tags": null
          },
          "name": "stderr",
          "output_type": "stream",
          "text": [
            "\r 39%|███▉      | 31/80 [10:49<17:52, 21.88s/it]"
          ]
        },
        {
          "metadata": {
            "tags": null
          },
          "name": "stdout",
          "output_type": "stream",
          "text": [
            "epoch 30:  training loss:  0.2808718 NDCG_validation:  0.7688554191584921\n"
          ]
        },
        {
          "metadata": {
            "tags": null
          },
          "name": "stderr",
          "output_type": "stream",
          "text": [
            "\r 40%|████      | 32/80 [11:09<17:05, 21.37s/it]"
          ]
        },
        {
          "metadata": {
            "tags": null
          },
          "name": "stdout",
          "output_type": "stream",
          "text": [
            "epoch 31:  training loss:  0.2775722\n"
          ]
        },
        {
          "metadata": {
            "tags": null
          },
          "name": "stderr",
          "output_type": "stream",
          "text": [
            "\r 41%|████▏     | 33/80 [11:29<16:26, 20.99s/it]"
          ]
        },
        {
          "metadata": {
            "tags": null
          },
          "name": "stdout",
          "output_type": "stream",
          "text": [
            "epoch 32:  training loss:  0.27374512\n"
          ]
        },
        {
          "metadata": {
            "tags": null
          },
          "name": "stderr",
          "output_type": "stream",
          "text": [
            "\r 42%|████▎     | 34/80 [11:49<15:53, 20.73s/it]"
          ]
        },
        {
          "metadata": {
            "tags": null
          },
          "name": "stdout",
          "output_type": "stream",
          "text": [
            "epoch 33:  training loss:  0.27116096\n"
          ]
        },
        {
          "metadata": {
            "tags": null
          },
          "name": "stderr",
          "output_type": "stream",
          "text": [
            "\r 44%|████▍     | 35/80 [12:09<15:24, 20.54s/it]"
          ]
        },
        {
          "metadata": {
            "tags": null
          },
          "name": "stdout",
          "output_type": "stream",
          "text": [
            "epoch 34:  training loss:  0.2679187\n"
          ]
        },
        {
          "metadata": {
            "tags": null
          },
          "name": "stderr",
          "output_type": "stream",
          "text": [
            "\r 45%|████▌     | 36/80 [12:29<14:58, 20.43s/it]"
          ]
        },
        {
          "metadata": {
            "tags": null
          },
          "name": "stdout",
          "output_type": "stream",
          "text": [
            "epoch 35:  training loss:  0.2641884\n"
          ]
        },
        {
          "metadata": {
            "tags": null
          },
          "name": "stderr",
          "output_type": "stream",
          "text": [
            "\r 46%|████▋     | 37/80 [12:50<14:34, 20.33s/it]"
          ]
        },
        {
          "metadata": {
            "tags": null
          },
          "name": "stdout",
          "output_type": "stream",
          "text": [
            "epoch 36:  training loss:  0.26144263\n"
          ]
        },
        {
          "metadata": {
            "tags": null
          },
          "name": "stderr",
          "output_type": "stream",
          "text": [
            "\r 48%|████▊     | 38/80 [13:10<14:11, 20.26s/it]"
          ]
        },
        {
          "metadata": {
            "tags": null
          },
          "name": "stdout",
          "output_type": "stream",
          "text": [
            "epoch 37:  training loss:  0.2584729\n"
          ]
        },
        {
          "metadata": {
            "tags": null
          },
          "name": "stderr",
          "output_type": "stream",
          "text": [
            "\r 49%|████▉     | 39/80 [13:30<13:48, 20.20s/it]"
          ]
        },
        {
          "metadata": {
            "tags": null
          },
          "name": "stdout",
          "output_type": "stream",
          "text": [
            "epoch 38:  training loss:  0.2553127\n"
          ]
        },
        {
          "metadata": {
            "tags": null
          },
          "name": "stderr",
          "output_type": "stream",
          "text": [
            "\r 50%|█████     | 40/80 [13:51<13:35, 20.38s/it]"
          ]
        },
        {
          "metadata": {
            "tags": null
          },
          "name": "stdout",
          "output_type": "stream",
          "text": [
            "epoch 39:  training loss:  0.25230473\n",
            "epoch 40:  training loss:  0.24938053\n"
          ]
        },
        {
          "metadata": {
            "tags": null
          },
          "name": "stderr",
          "output_type": "stream",
          "text": [
            "\r 51%|█████▏    | 41/80 [14:16<14:13, 21.89s/it]"
          ]
        },
        {
          "metadata": {
            "tags": null
          },
          "name": "stdout",
          "output_type": "stream",
          "text": [
            "epoch 40:  training loss:  0.24938053 NDCG_validation:  0.7749640548068283\n"
          ]
        },
        {
          "metadata": {
            "tags": null
          },
          "name": "stderr",
          "output_type": "stream",
          "text": [
            "\r 52%|█████▎    | 42/80 [14:36<13:30, 21.32s/it]"
          ]
        },
        {
          "metadata": {
            "tags": null
          },
          "name": "stdout",
          "output_type": "stream",
          "text": [
            "epoch 41:  training loss:  0.24605912\n"
          ]
        },
        {
          "metadata": {
            "tags": null
          },
          "name": "stderr",
          "output_type": "stream",
          "text": [
            "\r 54%|█████▍    | 43/80 [14:56<12:55, 20.95s/it]"
          ]
        },
        {
          "metadata": {
            "tags": null
          },
          "name": "stdout",
          "output_type": "stream",
          "text": [
            "epoch 42:  training loss:  0.24331671\n"
          ]
        },
        {
          "metadata": {
            "tags": null
          },
          "name": "stderr",
          "output_type": "stream",
          "text": [
            "\r 55%|█████▌    | 44/80 [15:16<12:26, 20.72s/it]"
          ]
        },
        {
          "metadata": {
            "tags": null
          },
          "name": "stdout",
          "output_type": "stream",
          "text": [
            "epoch 43:  training loss:  0.24037616\n"
          ]
        },
        {
          "metadata": {
            "tags": null
          },
          "name": "stderr",
          "output_type": "stream",
          "text": [
            "\r 56%|█████▋    | 45/80 [15:36<11:57, 20.50s/it]"
          ]
        },
        {
          "metadata": {
            "tags": null
          },
          "name": "stdout",
          "output_type": "stream",
          "text": [
            "epoch 44:  training loss:  0.2377181\n"
          ]
        },
        {
          "metadata": {
            "tags": null
          },
          "name": "stderr",
          "output_type": "stream",
          "text": [
            "\r 57%|█████▊    | 46/80 [15:56<11:34, 20.42s/it]"
          ]
        },
        {
          "metadata": {
            "tags": null
          },
          "name": "stdout",
          "output_type": "stream",
          "text": [
            "epoch 45:  training loss:  0.2352352\n"
          ]
        },
        {
          "metadata": {
            "tags": null
          },
          "name": "stderr",
          "output_type": "stream",
          "text": [
            "\r 59%|█████▉    | 47/80 [16:17<11:10, 20.32s/it]"
          ]
        },
        {
          "metadata": {
            "tags": null
          },
          "name": "stdout",
          "output_type": "stream",
          "text": [
            "epoch 46:  training loss:  0.23191774\n"
          ]
        },
        {
          "metadata": {
            "tags": null
          },
          "name": "stderr",
          "output_type": "stream",
          "text": [
            "\r 60%|██████    | 48/80 [16:37<10:47, 20.24s/it]"
          ]
        },
        {
          "metadata": {
            "tags": null
          },
          "name": "stdout",
          "output_type": "stream",
          "text": [
            "epoch 47:  training loss:  0.22907309\n"
          ]
        },
        {
          "metadata": {
            "tags": null
          },
          "name": "stderr",
          "output_type": "stream",
          "text": [
            "\r 61%|██████▏   | 49/80 [16:57<10:26, 20.20s/it]"
          ]
        },
        {
          "metadata": {
            "tags": null
          },
          "name": "stdout",
          "output_type": "stream",
          "text": [
            "epoch 48:  training loss:  0.22630943\n"
          ]
        },
        {
          "metadata": {
            "tags": null
          },
          "name": "stderr",
          "output_type": "stream",
          "text": [
            "\r 62%|██████▎   | 50/80 [17:17<10:10, 20.35s/it]"
          ]
        },
        {
          "metadata": {
            "tags": null
          },
          "name": "stdout",
          "output_type": "stream",
          "text": [
            "epoch 49:  training loss:  0.2242377\n",
            "epoch 50:  training loss:  0.2215449\n"
          ]
        },
        {
          "metadata": {
            "tags": null
          },
          "name": "stderr",
          "output_type": "stream",
          "text": [
            "\r 64%|██████▍   | 51/80 [17:43<10:34, 21.88s/it]"
          ]
        },
        {
          "metadata": {
            "tags": null
          },
          "name": "stdout",
          "output_type": "stream",
          "text": [
            "epoch 50:  training loss:  0.2215449 NDCG_validation:  0.7674679611737333\n"
          ]
        },
        {
          "metadata": {
            "tags": null
          },
          "name": "stderr",
          "output_type": "stream",
          "text": [
            "\r 65%|██████▌   | 52/80 [18:03<09:58, 21.38s/it]"
          ]
        },
        {
          "metadata": {
            "tags": null
          },
          "name": "stdout",
          "output_type": "stream",
          "text": [
            "epoch 51:  training loss:  0.21794148\n"
          ]
        },
        {
          "metadata": {
            "tags": null
          },
          "name": "stderr",
          "output_type": "stream",
          "text": [
            "\r 66%|██████▋   | 53/80 [18:23<09:26, 20.97s/it]"
          ]
        },
        {
          "metadata": {
            "tags": null
          },
          "name": "stdout",
          "output_type": "stream",
          "text": [
            "epoch 52:  training loss:  0.2156794\n"
          ]
        },
        {
          "metadata": {
            "tags": null
          },
          "name": "stderr",
          "output_type": "stream",
          "text": [
            "\r 68%|██████▊   | 54/80 [18:43<08:58, 20.69s/it]"
          ]
        },
        {
          "metadata": {
            "tags": null
          },
          "name": "stdout",
          "output_type": "stream",
          "text": [
            "epoch 53:  training loss:  0.21289706\n"
          ]
        },
        {
          "metadata": {
            "tags": null
          },
          "name": "stderr",
          "output_type": "stream",
          "text": [
            "\r 69%|██████▉   | 55/80 [19:03<08:33, 20.53s/it]"
          ]
        },
        {
          "metadata": {
            "tags": null
          },
          "name": "stdout",
          "output_type": "stream",
          "text": [
            "epoch 54:  training loss:  0.21033114\n"
          ]
        },
        {
          "metadata": {
            "tags": null
          },
          "name": "stderr",
          "output_type": "stream",
          "text": [
            "\r 70%|███████   | 56/80 [19:23<08:09, 20.40s/it]"
          ]
        },
        {
          "metadata": {
            "tags": null
          },
          "name": "stdout",
          "output_type": "stream",
          "text": [
            "epoch 55:  training loss:  0.20737706\n"
          ]
        },
        {
          "metadata": {
            "tags": null
          },
          "name": "stderr",
          "output_type": "stream",
          "text": [
            "\r 71%|███████▏  | 57/80 [19:44<07:47, 20.32s/it]"
          ]
        },
        {
          "metadata": {
            "tags": null
          },
          "name": "stdout",
          "output_type": "stream",
          "text": [
            "epoch 56:  training loss:  0.20550014\n"
          ]
        },
        {
          "metadata": {
            "tags": null
          },
          "name": "stderr",
          "output_type": "stream",
          "text": [
            "\r 72%|███████▎  | 58/80 [20:04<07:25, 20.26s/it]"
          ]
        },
        {
          "metadata": {
            "tags": null
          },
          "name": "stdout",
          "output_type": "stream",
          "text": [
            "epoch 57:  training loss:  0.20305064\n"
          ]
        },
        {
          "metadata": {
            "tags": null
          },
          "name": "stderr",
          "output_type": "stream",
          "text": [
            "\r 74%|███████▍  | 59/80 [20:25<07:11, 20.54s/it]"
          ]
        },
        {
          "metadata": {
            "tags": null
          },
          "name": "stdout",
          "output_type": "stream",
          "text": [
            "epoch 58:  training loss:  0.20049775\n"
          ]
        },
        {
          "metadata": {
            "tags": null
          },
          "name": "stderr",
          "output_type": "stream",
          "text": [
            "\r 75%|███████▌  | 60/80 [20:45<06:48, 20.44s/it]"
          ]
        },
        {
          "metadata": {
            "tags": null
          },
          "name": "stdout",
          "output_type": "stream",
          "text": [
            "epoch 59:  training loss:  0.19783486\n",
            "epoch 60:  training loss:  0.19571011\n"
          ]
        },
        {
          "metadata": {
            "tags": null
          },
          "name": "stderr",
          "output_type": "stream",
          "text": [
            "\r 76%|███████▋  | 61/80 [21:10<06:57, 21.95s/it]"
          ]
        },
        {
          "metadata": {
            "tags": null
          },
          "name": "stdout",
          "output_type": "stream",
          "text": [
            "epoch 60:  training loss:  0.19571011 NDCG_validation:  0.770923786605518\n"
          ]
        },
        {
          "metadata": {
            "tags": null
          },
          "name": "stderr",
          "output_type": "stream",
          "text": [
            "\r 78%|███████▊  | 62/80 [21:31<06:24, 21.38s/it]"
          ]
        },
        {
          "metadata": {
            "tags": null
          },
          "name": "stdout",
          "output_type": "stream",
          "text": [
            "epoch 61:  training loss:  0.1924739\n"
          ]
        },
        {
          "metadata": {
            "tags": null
          },
          "name": "stderr",
          "output_type": "stream",
          "text": [
            "\r 79%|███████▉  | 63/80 [21:51<05:57, 21.01s/it]"
          ]
        },
        {
          "metadata": {
            "tags": null
          },
          "name": "stdout",
          "output_type": "stream",
          "text": [
            "epoch 62:  training loss:  0.19049442\n"
          ]
        },
        {
          "metadata": {
            "tags": null
          },
          "name": "stderr",
          "output_type": "stream",
          "text": [
            "\r 80%|████████  | 64/80 [22:11<05:31, 20.72s/it]"
          ]
        },
        {
          "metadata": {
            "tags": null
          },
          "name": "stdout",
          "output_type": "stream",
          "text": [
            "epoch 63:  training loss:  0.18894523\n"
          ]
        },
        {
          "metadata": {
            "tags": null
          },
          "name": "stderr",
          "output_type": "stream",
          "text": [
            "\r 81%|████████▏ | 65/80 [22:31<05:07, 20.52s/it]"
          ]
        },
        {
          "metadata": {
            "tags": null
          },
          "name": "stdout",
          "output_type": "stream",
          "text": [
            "epoch 64:  training loss:  0.18602182\n"
          ]
        },
        {
          "metadata": {
            "tags": null
          },
          "name": "stderr",
          "output_type": "stream",
          "text": [
            "\r 82%|████████▎ | 66/80 [22:51<04:45, 20.39s/it]"
          ]
        },
        {
          "metadata": {
            "tags": null
          },
          "name": "stdout",
          "output_type": "stream",
          "text": [
            "epoch 65:  training loss:  0.18347627\n"
          ]
        },
        {
          "metadata": {
            "tags": null
          },
          "name": "stderr",
          "output_type": "stream",
          "text": [
            "\r 84%|████████▍ | 67/80 [23:11<04:24, 20.35s/it]"
          ]
        },
        {
          "metadata": {
            "tags": null
          },
          "name": "stdout",
          "output_type": "stream",
          "text": [
            "epoch 66:  training loss:  0.18131322\n"
          ]
        },
        {
          "metadata": {
            "tags": null
          },
          "name": "stderr",
          "output_type": "stream",
          "text": [
            "\r 85%|████████▌ | 68/80 [23:31<04:03, 20.27s/it]"
          ]
        },
        {
          "metadata": {
            "tags": null
          },
          "name": "stdout",
          "output_type": "stream",
          "text": [
            "epoch 67:  training loss:  0.17860548\n"
          ]
        },
        {
          "metadata": {
            "tags": null
          },
          "name": "stderr",
          "output_type": "stream",
          "text": [
            "\r 86%|████████▋ | 69/80 [23:52<03:45, 20.48s/it]"
          ]
        },
        {
          "metadata": {
            "tags": null
          },
          "name": "stdout",
          "output_type": "stream",
          "text": [
            "epoch 68:  training loss:  0.17685387\n"
          ]
        },
        {
          "metadata": {
            "tags": null
          },
          "name": "stderr",
          "output_type": "stream",
          "text": [
            "\r 88%|████████▊ | 70/80 [24:12<03:23, 20.36s/it]"
          ]
        },
        {
          "metadata": {
            "tags": null
          },
          "name": "stdout",
          "output_type": "stream",
          "text": [
            "epoch 69:  training loss:  0.17470725\n",
            "epoch 70:  training loss:  0.17231621\n"
          ]
        },
        {
          "metadata": {
            "tags": null
          },
          "name": "stderr",
          "output_type": "stream",
          "text": [
            "\r 89%|████████▉ | 71/80 [24:38<03:16, 21.89s/it]"
          ]
        },
        {
          "metadata": {
            "tags": null
          },
          "name": "stdout",
          "output_type": "stream",
          "text": [
            "epoch 70:  training loss:  0.17231621 NDCG_validation:  0.7701936460215051\n"
          ]
        },
        {
          "metadata": {
            "tags": null
          },
          "name": "stderr",
          "output_type": "stream",
          "text": [
            "\r 90%|█████████ | 72/80 [24:58<02:50, 21.37s/it]"
          ]
        },
        {
          "metadata": {
            "tags": null
          },
          "name": "stdout",
          "output_type": "stream",
          "text": [
            "epoch 71:  training loss:  0.1708911\n"
          ]
        },
        {
          "metadata": {
            "tags": null
          },
          "name": "stderr",
          "output_type": "stream",
          "text": [
            "\r 91%|█████████▏| 73/80 [25:18<02:27, 21.03s/it]"
          ]
        },
        {
          "metadata": {
            "tags": null
          },
          "name": "stdout",
          "output_type": "stream",
          "text": [
            "epoch 72:  training loss:  0.16883104\n"
          ]
        },
        {
          "metadata": {
            "tags": null
          },
          "name": "stderr",
          "output_type": "stream",
          "text": [
            "\r 92%|█████████▎| 74/80 [25:38<02:04, 20.81s/it]"
          ]
        },
        {
          "metadata": {
            "tags": null
          },
          "name": "stdout",
          "output_type": "stream",
          "text": [
            "epoch 73:  training loss:  0.16563115\n"
          ]
        },
        {
          "metadata": {
            "tags": null
          },
          "name": "stderr",
          "output_type": "stream",
          "text": [
            "\r 94%|█████████▍| 75/80 [25:59<01:43, 20.63s/it]"
          ]
        },
        {
          "metadata": {
            "tags": null
          },
          "name": "stdout",
          "output_type": "stream",
          "text": [
            "epoch 74:  training loss:  0.1646738\n"
          ]
        },
        {
          "metadata": {
            "tags": null
          },
          "name": "stderr",
          "output_type": "stream",
          "text": [
            "\r 95%|█████████▌| 76/80 [26:19<01:21, 20.48s/it]"
          ]
        },
        {
          "metadata": {
            "tags": null
          },
          "name": "stdout",
          "output_type": "stream",
          "text": [
            "epoch 75:  training loss:  0.1624762\n"
          ]
        },
        {
          "metadata": {
            "tags": null
          },
          "name": "stderr",
          "output_type": "stream",
          "text": [
            "\r 96%|█████████▋| 77/80 [26:39<01:01, 20.35s/it]"
          ]
        },
        {
          "metadata": {
            "tags": null
          },
          "name": "stdout",
          "output_type": "stream",
          "text": [
            "epoch 76:  training loss:  0.1600154\n"
          ]
        },
        {
          "metadata": {
            "tags": null
          },
          "name": "stderr",
          "output_type": "stream",
          "text": [
            "\r 98%|█████████▊| 78/80 [26:59<00:40, 20.30s/it]"
          ]
        },
        {
          "metadata": {
            "tags": null
          },
          "name": "stdout",
          "output_type": "stream",
          "text": [
            "epoch 77:  training loss:  0.15783876\n"
          ]
        },
        {
          "output_type": "stream",
          "name": "stderr",
          "text": [
            "\r 99%|█████████▉| 79/80 [27:20<00:20, 20.56s/it]"
          ]
        },
        {
          "output_type": "stream",
          "name": "stdout",
          "text": [
            "epoch 78:  training loss:  0.15636705\n"
          ]
        },
        {
          "output_type": "stream",
          "name": "stderr",
          "text": [
            "100%|██████████| 80/80 [27:40<00:00, 20.76s/it]"
          ]
        },
        {
          "output_type": "stream",
          "name": "stdout",
          "text": [
            "epoch 79:  training loss:  0.15411894\n"
          ]
        },
        {
          "output_type": "stream",
          "name": "stderr",
          "text": [
            "\n"
          ]
        },
        {
          "output_type": "stream",
          "name": "stdout",
          "text": [
            "\n",
            "ndcg_test:  0.652819334898632\n"
          ]
        },
        {
          "output_type": "display_data",
          "data": {
            "text/plain": [
              "<Figure size 432x288 with 1 Axes>"
            ],
            "image/png": "[encoded data removed]"
          },
          "metadata": {
            "needs_background": "light"
          }
        }
      ],
      "source": [
        "def train_base_recommendation():\n",
        "    losses_all=[]\n",
        "    ndcgs=[]\n",
        "    if gpu:\n",
        "        device = torch.device('cuda:%s' % cuda)\n",
        "    else:\n",
        "        device = 'cpu'\n",
        "    Path(save_path).mkdir(parents=True, exist_ok=True)\n",
        "    with open(os.path.join(save_path,dataset + \"_dataset_obj.pickle\"), 'wb') as outp:\n",
        "        pickle.dump(rec_dataset, outp, pickle.HIGHEST_PROTOCOL)\n",
        "\n",
        "    train_loader = DataLoader(dataset=UserItemInterDataset(rec_dataset.training_data, \n",
        "                                rec_dataset.user_feature_matrix, \n",
        "                                rec_dataset.item_feature_matrix),\n",
        "                          batch_size=batch_size,\n",
        "                          shuffle=True)\n",
        "\n",
        "    model = BaseRecModel(rec_dataset.feature_num).to(device)\n",
        "    loss_fn = torch.nn.BCELoss()\n",
        "    optimizer = torch.optim.SGD(model.parameters(), lr=lr, weight_decay=weight_decay)\n",
        "\n",
        "    out_path = os.path.join(\"./logs\", dataset + \"_logs\")\n",
        "    Path(out_path).mkdir(parents=True, exist_ok=True)\n",
        "\n",
        "    ndcg = compute_ndcg(rec_dataset.validation_data, \n",
        "            rec_dataset.user_feature_matrix, \n",
        "            rec_dataset.item_feature_matrix, \n",
        "            rec_k, \n",
        "            model, \n",
        "            device)\n",
        "    print('init ndcg:', ndcg)\n",
        "    for epoch in tqdm.trange(epochs):\n",
        "        model.train()\n",
        "        optimizer.zero_grad()\n",
        "        losses = []\n",
        "        for user_behaviour_feature, item_aspect_feature, label in train_loader:\n",
        "            user_behaviour_feature = user_behaviour_feature.to(device)\n",
        "            item_aspect_feature = item_aspect_feature.to(device)\n",
        "            label = label.float().to(device)\n",
        "            out = model(user_behaviour_feature, item_aspect_feature).squeeze()\n",
        "            loss = loss_fn(out, label)\n",
        "            loss.backward()\n",
        "            optimizer.step()\n",
        "            optimizer.zero_grad()\n",
        "            losses.append(loss.to('cpu').detach().numpy())\n",
        "            ave_train = np.mean(np.array(losses))\n",
        "            losses_all.append(ave_train)\n",
        "        print('epoch %d: ' % epoch, 'training loss: ', ave_train)\n",
        "      \n",
        "        # compute necg\n",
        "        if epoch % 10 == 0:\n",
        "            ndcg = compute_ndcg(rec_dataset.validation_data, \n",
        "            rec_dataset.user_feature_matrix, \n",
        "            rec_dataset.item_feature_matrix, \n",
        "            rec_k, \n",
        "            model, \n",
        "            device)\n",
        "            print('epoch %d: ' % epoch, 'training loss: ', ave_train, 'NDCG_validation: ', ndcg)\n",
        "\n",
        "            ndcgs.append(ndcg)\n",
        "    torch.save(model.state_dict(), os.path.join(save_path, \"model.model\"))\n",
        "    ndcg_test = compute_ndcg(rec_dataset.test_data, \n",
        "            rec_dataset.user_feature_matrix, \n",
        "            rec_dataset.item_feature_matrix, \n",
        "            rec_k, \n",
        "            model, \n",
        "            device)\n",
        "    print('\\nndcg_test: ',ndcg_test)\n",
        "    # plt.xlabel('iterations')\n",
        "    # plt.ylabel('train_loss')\n",
        "    # plt.xticks(np.arange(0,len(losses_all),100))\n",
        "    # plt.plot(np.arange(0,len(losses_all)),losses_all)\n",
        "    # plt.show()\n",
        "\n",
        "    plt.xlabel('iterations')\n",
        "    plt.ylabel('validation_ndcg')\n",
        "    plt.xticks(np.arange(-2,len(ndcgs)+2,2))\n",
        "    plt.plot(np.arange(1,len(ndcgs)+1),ndcgs)\n",
        "    plt.show()\n",
        "    return rec_dataset\n",
        "\n",
        "\n",
        "if __name__ == \"__main__\":\n",
        "    torch.manual_seed(0)\n",
        "    np.random.seed(0)\n",
        "    if gpu:\n",
        "        os.environ[\"CUDA_VISIBLE_DEVICES\"] =cuda\n",
        "        print(\"Using CUDA\",cuda)\n",
        "    else:\n",
        "        print(\"Using CPU\")\n",
        "    rec_dataset=train_base_recommendation()"
      ]
    },
    {
      "cell_type": "code",
      "execution_count": null,
      "metadata": {
        "id": "4ucRyXRT4mzb"
      },
      "outputs": [],
      "source": [
        "dataset=\"cds_and_vinyl\"\n",
        "base_model_path=\"/content/drive/Shareddrives/Unlimited Drive | @LicenseMarket/Recommender/cds/\"\n",
        "gpu=True\n",
        "cuda='0'\n",
        "data_obj_path=\"/content/drive/Shareddrives/Unlimited Drive | @LicenseMarket/Recommender/cds/\"\n",
        "rec_k=5\n",
        "lam=100\n",
        "gam=0.5\n",
        "alp=0.2\n",
        "user_mask=False\n",
        "lr=0.01\n",
        "step=250\n",
        "mask_thresh=0.3\n",
        "test_num=-1\n",
        "# save_path=\"./explanation_objs/\""
      ]
    },
    {
      "cell_type": "code",
      "execution_count": null,
      "metadata": {
        "id": "snwXLWLePEmC"
      },
      "outputs": [],
      "source": [
        "import torch\n",
        "import pickle\n",
        "import os\n",
        "from pathlib import Path"
      ]
    },
    {
      "cell_type": "markdown",
      "metadata": {
        "id": "IC_P_74iOR-T"
      },
      "source": [
        "# User Perspective Features"
      ]
    },
    {
      "cell_type": "code",
      "execution_count": null,
      "metadata": {
        "id": "j03L6H5PA4bK"
      },
      "outputs": [],
      "source": [
        "import json\n",
        "import nltk"
      ]
    },
    {
      "cell_type": "code",
      "execution_count": null,
      "metadata": {
        "colab": {
          "base_uri": "https://localhost:8080/"
        },
        "id": "o93FnpHX60cX",
        "outputId": "f4e4a41e-f65c-4f97-d0df-2c1c5dc41677"
      },
      "outputs": [
        {
          "output_type": "stream",
          "name": "stderr",
          "text": [
            "[nltk_data] Downloading package wordnet to /root/nltk_data...\n",
            "[nltk_data] Downloading package stopwords to /root/nltk_data...\n",
            "[nltk_data]   Unzipping corpora/stopwords.zip.\n",
            "[nltk_data] Downloading package punkt to /root/nltk_data...\n",
            "[nltk_data]   Unzipping tokenizers/punkt.zip.\n",
            "[nltk_data] Downloading package averaged_perceptron_tagger to\n",
            "[nltk_data]     /root/nltk_data...\n",
            "[nltk_data]   Unzipping taggers/averaged_perceptron_tagger.zip.\n"
          ]
        }
      ],
      "source": [
        "nltk.download('wordnet')\n",
        "nltk.download('stopwords')\n",
        "nltk.download('punkt')\n",
        "nltk.download('averaged_perceptron_tagger')\n",
        "def lemmatization(text):\n",
        "    result=''\n",
        "    wordnet = WordNetLemmatizer()\n",
        "    for token,tag in pos_tag(text):\n",
        "        pos=tag[0].lower()\n",
        "        if pos not in ['a', 'r', 'n', 'v']:\n",
        "            pos='n'\n",
        "        # if pos in ['n','a']:   \n",
        "        result+=wordnet.lemmatize(token,pos)+' '\n",
        "    return result\n",
        "def remove_stopwords(text):\n",
        "    en_stopwords = stopwords.words('english')\n",
        "    en_stopwords+=['may','could','that','without','iii','with','and','This','That','Those','These','the','The','brbr','so','it','such']\n",
        "    result = []\n",
        "    for token in text:\n",
        "        if token not in en_stopwords:\n",
        "            result.append(token)\n",
        "            \n",
        "    return result\n",
        "def remove_punct(text):\n",
        "    tokenizer = RegexpTokenizer(r\"\\w+\")\n",
        "    lst=tokenizer.tokenize(' '.join(text))\n",
        "    return lst\n",
        "\n",
        "def remove_tag(text):\n",
        "    text=' '.join(text)\n",
        "    html_pattern = re.compile('<.*?>')\n",
        "    return html_pattern.sub(r'', text)\n",
        "def remove_urls(text):\n",
        "    url_pattern = re.compile(r'https?://\\S+|www\\.\\S+')\n",
        "    return url_pattern.sub(r'', text)\n",
        "\n",
        "def preprocess(text):\n",
        "  chars=['&','%','#','@','^','>','<','\\n','\\\\','\\t',';','\"','/']\n",
        "  stwords=stopwords.words('english')\n",
        "  for ch in chars:\n",
        "    text=text.replace(ch,' ')\n",
        "  text=\" \".join(text.split())\n",
        "  # text=text.lower()\n",
        "  text_tokenized=word_tokenize(text)\n",
        "  cleaned_text= remove_stopwords(text_tokenized)\n",
        "  cleaned_text= remove_punct(cleaned_text)\n",
        "  # cleaned_text=lemmatization(cleaned_text)\n",
        "  cleaned_text=remove_tag(cleaned_text)\n",
        "  cleaned_text=remove_urls(cleaned_text)\n",
        "  cleaned_text=''.join([i for i in cleaned_text ])\n",
        "  cleaned_text=[word for word in cleaned_text.split(' ') if len(word)>1]\n",
        "  # print(cleaned_text)\n",
        "  return ' '.join(cleaned_text)"
      ]
    },
    {
      "cell_type": "code",
      "execution_count": null,
      "metadata": {
        "id": "NtlEHpkN-lCe"
      },
      "outputs": [],
      "source": [
        "def preprocess_text_first(text):\n",
        "  while '<' in text and '>' in text and text.index('<')<text.index('>'):\n",
        "    toRemove=text[int(text.index('<')):int(text.index('>'))]+'>'\n",
        "    text=text.replace(toRemove,' ')\n",
        "  list_to_replace=['mso','gte','xml','false','#',',','!','-','\\'','\\\"','[',']','/','\\\\n','\\\\','span','a-size-base','a-color-secondary','input type','header name','value','=','<a href= javascript:void(0) class= ','{','}','class=','header','<a href= javascript:void(0)','<','>','href',')','(',';','quot','&',':','javascript']\n",
        "  for char in list_to_replace:\n",
        "    text=text.replace(char,' ')\n",
        "  for i in range(15):\n",
        "    text=text.replace('  ',' ')\n",
        "  # while 'if' in text and 'endif' in text and text.index('if')<text.index('endif'):\n",
        "  #   # print(int(text.index('if')),int(text.index('endif')))\n",
        "  #   toRemove=text[int(text.index('if')):int(text.index('endif'))]+'endif'\n",
        "  #   text=text.replace(toRemove,' ')\n",
        "  new_text=''\n",
        "  for word in text.split(' '):\n",
        "    if len(word)>1 and len(word)<35:\n",
        "      new_text+=word+' '\n",
        "  # new_text=lemmatization(new_text)\n",
        "  # print(new_text)\n",
        "  return new_text"
      ]
    },
    {
      "cell_type": "code",
      "execution_count": null,
      "metadata": {
        "colab": {
          "base_uri": "https://localhost:8080/"
        },
        "id": "dQRrvFS4cifS",
        "outputId": "11496e30-1171-47ae-f245-f07e83195c13"
      },
      "outputs": [
        {
          "output_type": "stream",
          "name": "stdout",
          "text": [
            "0\n",
            "5000\n",
            "10000\n",
            "15000\n",
            "20000\n",
            "25000\n",
            "30000\n",
            "35000\n",
            "40000\n",
            "45000\n",
            "50000\n",
            "55000\n",
            "60000\n",
            "65000\n",
            "70000\n",
            "75000\n",
            "80000\n",
            "85000\n",
            "90000\n",
            "95000\n",
            "100000\n",
            "105000\n",
            "110000\n",
            "115000\n",
            "120000\n",
            "125000\n",
            "130000\n",
            "135000\n",
            "140000\n",
            "145000\n",
            "150000\n",
            "155000\n",
            "160000\n",
            "165000\n",
            "170000\n",
            "175000\n",
            "180000\n",
            "185000\n",
            "190000\n",
            "195000\n",
            "200000\n",
            "205000\n",
            "210000\n",
            "215000\n",
            "220000\n",
            "225000\n",
            "230000\n",
            "235000\n",
            "240000\n",
            "245000\n",
            "250000\n",
            "255000\n",
            "260000\n",
            "265000\n"
          ]
        }
      ],
      "source": [
        "items_list=[]\n",
        "users_list=[]\n",
        "review_features={}\n",
        "f=open(save_path+'CDs_and_Vinyl')\n",
        "lines=f.readlines()\n",
        "i=0\n",
        "for line in lines:\n",
        "  if i%5000==0:\n",
        "    print(i)\n",
        "  i+=1\n",
        "  user_id = line.split('@')[0]\n",
        "  item_id = line.split('@')[1]\n",
        "  # if item_id in df_meta['asin'].values:\n",
        "  users_list.append(user_id)\n",
        "  items_list.append(item_id)\n",
        "  l = len(user_id) + len(item_id)\n",
        "  fosr_data = line[l+3:]\n",
        "  for seg in fosr_data.split('||'):\n",
        "    if (user_id,item_id) not in review_features.keys():\n",
        "      review_features[(user_id,item_id)]=[]\n",
        "    fos = seg.split(':')[0].strip('|')\n",
        "    if len(fos.split('|')) > 1:\n",
        "          feature = fos.split('|')[0]\n",
        "          opinion = fos.split('|')[1]\n",
        "          sentiment = fos.split('|')[2]\n",
        "          sentence= seg.split(':')[1]\n",
        "          if sentiment=='+1':\n",
        "            senti=1\n",
        "          else:\n",
        "            senti=-1\n",
        "          review_features[(user_id,item_id)].append([feature,opinion,senti,sentence])"
      ]
    },
    {
      "cell_type": "code",
      "execution_count": null,
      "metadata": {
        "id": "Vqg-cDlQFqIx"
      },
      "outputs": [],
      "source": [
        "user_test_perspective={}\n",
        "i=0\n",
        "for (user_id , item_id) in review_features.keys():\n",
        "  review_feature=review_features[(user_id,item_id)]\n",
        "  if i%5000==0:\n",
        "    print(i)\n",
        "  i+=1\n",
        "  for features in review_feature:\n",
        "    sentence=features[3]\n",
        "    sentence=preprocess_text_first(sentence)\n",
        "    sentence=preprocess(sentence).lower()\n",
        "    if (user_id , item_id) not in user_test_perspective.keys():\n",
        "      final_vect=[]\n",
        "    final_vect+=sentence.split(' ')\n",
        "    for word in sentence.split(' '):\n",
        "      # tokens=list(set(df_words[df_words['word']==word]['tokenized'].values))\n",
        "      # for token in tokens:\n",
        "        final_vect+=word.split(' ')\n",
        "    final_vect=list(set(final_vect))\n",
        "    new_final_vect=[]\n",
        "    for word in final_vect:\n",
        "      if len(word)>1:\n",
        "        new_final_vect.append(word)\n",
        "    user_test_perspective[(user_id , item_id)]=new_final_vect"
      ]
    },
    {
      "cell_type": "code",
      "execution_count": null,
      "metadata": {
        "id": "W254L5obCgm6"
      },
      "outputs": [],
      "source": [
        "user_test_perspective"
      ]
    },
    {
      "cell_type": "code",
      "execution_count": null,
      "metadata": {
        "colab": {
          "base_uri": "https://localhost:8080/",
          "height": 35
        },
        "id": "cuVEpuvBde8T",
        "outputId": "f87a9d13-36eb-4bf7-afed-9aeabdd894c1"
      },
      "outputs": [
        {
          "data": {
            "application/vnd.google.colaboratory.intrinsic+json": {
              "type": "string"
            },
            "text/plain": [
              "'B00FL6ADNC'"
            ]
          },
          "execution_count": 95,
          "metadata": {},
          "output_type": "execute_result"
        }
      ],
      "source": [
        "rec_dataset.inv_item_name_dict[622]"
      ]
    },
    {
      "cell_type": "markdown",
      "metadata": {
        "id": "IdHtY0uTOppf"
      },
      "source": [
        "# Train Explaination Generator Model\n"
      ]
    },
    {
      "cell_type": "code",
      "execution_count": null,
      "metadata": {
        "id": "Bp4cMNYcPIFm"
      },
      "outputs": [],
      "source": [
        "class ExpOptimizationModel(torch.nn.Module):\n",
        "    def __init__(self, base_model, rec_dataset, device):\n",
        "        super(ExpOptimizationModel, self).__init__()\n",
        "        self.base_model = base_model\n",
        "        self.rec_dataset = rec_dataset\n",
        "        self.device = device\n",
        "        self.u_i_exp_dict = {}  # {(user, item): [f1, f2, f3 ...], ...}\n",
        "        self.user_feature_matrix = torch.from_numpy(self.rec_dataset.user_feature_matrix).to(self.device)\n",
        "        self.item_feature_matrix = torch.from_numpy(self.rec_dataset.item_feature_matrix).to(self.device)\n",
        "        self.rec_dict, self.user_perspective_test_data = self.generate_rec_dict()\n",
        "        self.dict_items_cf_feature={}\n",
        "\n",
        "    def generate_rec_dict(self):\n",
        "        rec_dict = {}\n",
        "        correct_rec_dict = {}  # used for user-side evaluation\n",
        "        for row in self.rec_dataset.test_data:\n",
        "            user = row[0]\n",
        "            items = row[1]\n",
        "            labels = row[2]\n",
        "            correct_rec_dict[user] = []\n",
        "            user_features = self.user_feature_matrix[user].repeat(len(items), 1)\n",
        "            scores = self.base_model(user_features,\n",
        "                        self.item_feature_matrix[items]).squeeze()\n",
        "            scores = np.array(scores.to('cpu'))\n",
        "            sort_index = sorted(range(len(scores)), key=lambda k: scores[k], reverse=True)\n",
        "            sorted_items = [items[i] for i in sort_index]\n",
        "            rec_dict[user] = sorted_items\n",
        "            for i in range(rec_k):  # find the correct items and add to the user side test data\n",
        "                if labels[sort_index[i]] == 1:\n",
        "                    correct_rec_dict[user].append(items[sort_index[i]])\n",
        "\n",
        "        user_perspective_test_data = {}  # {(u, i):f, (u, i): f]}\n",
        "        # for user, items in correct_rec_dict.items():\n",
        "        #     for item in items:\n",
        "        #         user_id=rec_dataset.inv_user_name_dict[user]\n",
        "        #         item_id=rec_dataset.inv_item_name_dict[item]\n",
        "        #         feature = user_test_perspective[(user_id, item_id)]\n",
        "        #         user_perspective_test_data[(user, item)] = feature\n",
        "        return rec_dict, user_perspective_test_data\n",
        "    def user_side_evaluation(self):\n",
        "        ave_pre, ave_rec, ave_f1 = evaluate_user_perspective(self.user_perspective_test_data, self.u_i_exp_dict)\n",
        "        print('user\\'s perspective:')\n",
        "        print('ave pre: ', ave_pre, '  ave rec: ', ave_rec, '  ave f1: ', ave_f1)\n",
        "    \n",
        "    def model_side_evaluation(self):\n",
        "        ave_pn, ave_ps, ave_fns = evaluate_model_perspective(\n",
        "            self.rec_dict,\n",
        "            self.u_i_exp_dict,\n",
        "            self.base_model,\n",
        "            self.rec_dataset.user_feature_matrix,\n",
        "            self.rec_dataset.item_feature_matrix,\n",
        "            rec_k,\n",
        "            self.dict_items_cf_feature,\n",
        "            self.device)\n",
        "        print('model\\'s perspective:')\n",
        "        print('ave PN: ', ave_pn, '  ave PS: ', ave_ps, '  ave F_{NS}: ', ave_fns)  \n",
        "    def generate_explanation(self):\n",
        "        # u_i_exps_dict = {}  # {(user, item): [f1, f2, f3 ...], ...}\n",
        "        exp_nums = []\n",
        "        exp_complexities = []\n",
        "        self.no_exp_count = 0\n",
        "        self.exp_count=0\n",
        "        if test_num == -1:\n",
        "            test_num1 = len(list(self.rec_dict.items()))\n",
        "        else:\n",
        "            test_num1 = test_num\n",
        "        count=0\n",
        "        for user, items in tqdm.tqdm(list(self.rec_dict.items())[:20]):\n",
        "            count+=1\n",
        "            # if count<200:\n",
        "            #   continue\n",
        "            # if count==2:\n",
        "            #   break\n",
        "            items = self.rec_dict[user]\n",
        "            margin_item = items[rec_k]\n",
        "            margin_score = self.base_model(self.user_feature_matrix[user].unsqueeze(0), \n",
        "                            self.item_feature_matrix[margin_item].unsqueeze(0)).squeeze()\n",
        "            # print(margin_score)\n",
        "            # if user_mask:\n",
        "            #     # mask_vec = self.generate_mask(user)\n",
        "            #     mask_vec = torch.where(self.user_feature_matrix[user]>0, 1., 0.).unsqueeze(0)  # only choose exps from the user cared aspects\n",
        "            # else:\n",
        "                \n",
        "            for item in items[: rec_k]:\n",
        "                item_id=rec_dataset.inv_item_name_dict[item]\n",
        "                tensor_vect_desc,tensor_vect_title=get_tensor_vects(item_id)\n",
        "                self.dict_items_cf_feature[item]=(tensor_vect_desc,tensor_vect_title)\n",
        "                # print(tensor_vect_desc.shape)\n",
        "                # print(tensor_vect_title.shape)\n",
        "                # print(tensor_vect_feature.shape)\n",
        "                explanation_features,explanation_features_words, exp_num, exp_complexity = self.explain(user,item,\n",
        "                    self.user_feature_matrix[user], \n",
        "                    self.item_feature_matrix[item], \n",
        "                    margin_score,\n",
        "                    tensor_vect_desc,tensor_vect_title)\n",
        "                \n",
        "                if explanation_features is None:\n",
        "                    # print('no explanation for user %d and item %d' % (user, item))\n",
        "                    self.no_exp_count += 1\n",
        "                else:\n",
        "                    self.exp_count+=1\n",
        "                    self.u_i_exp_dict[(user, item)] = explanation_features_words\n",
        "                    # print(explanation_features_words)\n",
        "                    exp_nums.append(exp_num)\n",
        "                    exp_complexities.append(exp_complexity)\n",
        "            # if count%500==0:\n",
        "            #   json1 = json.dumps(self.u_i_exp_dict)\n",
        "            #   f = open(\"drive/MyDrive/ranjbar/dict{}.json\".format(count),\"w\")\n",
        "            #   f.write(json1)\n",
        "            #   f.close()\n",
        "\n",
        "              \n",
        "        print('ave num: ', np.mean(exp_nums), 'ave complexity: ', np.mean(exp_complexities) , 'no_exp_count: ', self.no_exp_count, 'exp_count: ', self.exp_count)\n",
        "        return True\n",
        "    \n",
        "    def explain(self,user,item, user_feature, item_feature, margin_score,tensor_vect_desc,tensor_vect_title):\n",
        "        exp_generator = EXPGenerator(\n",
        "            self.rec_dataset, \n",
        "            self.base_model, \n",
        "            user_feature, \n",
        "            item_feature, \n",
        "            user,\n",
        "            item,\n",
        "            margin_score,\n",
        "            tensor_vect_desc,tensor_vect_title, \n",
        "            self.device).to(self.device)\n",
        "\n",
        "        # optimization\n",
        "        optimizer = torch.optim.SGD(exp_generator.parameters(), lr=lr, weight_decay=0)\n",
        "        exp_generator.train()\n",
        "        lowest_loss = None\n",
        "        lowest_bpr = None\n",
        "        lowest_l2 = 0\n",
        "        optimize_delta = None\n",
        "        score = exp_generator()\n",
        "        # print(score)\n",
        "        bpr, l2, l1, loss = exp_generator.loss(score)\n",
        "        # print('init: ', 0, '  train loss: ', loss, '  bpr: ', bpr, '  l2: ', l2, '  l1: ', l1)\n",
        "        lowest_loss = loss\n",
        "        lowest_bpr=bpr\n",
        "        optimize_delta = exp_generator.delta.detach().to('cpu').numpy()\n",
        "        optimize_weights=exp_generator.weights.detach().to('cpu').numpy()\n",
        "        lowest_l2 = l2\n",
        "        for epoch in range(step):\n",
        "            exp_generator.zero_grad()\n",
        "            score = exp_generator()\n",
        "            bpr, l2, l1, loss = exp_generator.loss(score)\n",
        "\n",
        "            # if epoch %20 == 0:\n",
        "            #     print(\n",
        "            #         'epoch', epoch,\n",
        "            #         'bpr: ', bpr,\n",
        "            #         'l2: ', l2,\n",
        "            #         'l1', l1,\n",
        "            #         'loss', loss)\n",
        "\n",
        "            loss.backward()\n",
        "            optimizer.step()\n",
        "            if loss < lowest_loss:\n",
        "                lowest_loss = loss\n",
        "                lowest_l2 = l2\n",
        "                lowest_bpr = bpr\n",
        "                optimize_delta = exp_generator.delta.detach().to('cpu').numpy()\n",
        "                optimize_weights=exp_generator.weights.detach().to('cpu').numpy()\n",
        "        # print(lowest_bpr)\n",
        "        # print(lam * alp)\n",
        "        # print(optimize_delta)\n",
        "        if lowest_bpr >= lam * alp:\n",
        "            explanation_features = None \n",
        "            exp_num = None\n",
        "            exp_complexity = None\n",
        "            explanation_features_words=None\n",
        "        else:\n",
        "            # optimize_delta = exp_generator.delta.detach().to('cpu').numpy()\n",
        "            # print(optimize_delta)\n",
        "            # explanation_features = np.argwhere(optimize_delta < - mask_thresh).squeeze(axis=1)\n",
        "            explanation_features = np.argwhere(optimize_weights <  mask_thresh).squeeze(axis=1)\n",
        "            # print(optimize_weights)\n",
        "            \n",
        "            # print(explanation_features)\n",
        "            if len(explanation_features) == 0:\n",
        "                explanation_features = np.array([np.argmin(optimize_weights)])\n",
        "            explanation_features_words=list(set([exp_generator.features[i] for i in explanation_features]))\n",
        "            # print(explanation_features_words)\n",
        "            # print('-------------\\n')\n",
        "            new_vect=[]\n",
        "            for word in explanation_features_words:\n",
        "              new_vect+=(str(word).split(' '))\n",
        "            new_vect=list(set(new_vect))\n",
        "            new_vect=[word for word in new_vect if len(word)>1]\n",
        "            explanation_features_words=new_vect\n",
        "            exp_num = len(explanation_features_words)\n",
        "            exp_complexity = lowest_l2.to('cpu').detach().numpy() + gam * exp_num\n",
        "        return explanation_features,explanation_features_words, exp_num, exp_complexity\n",
        "    \n"
      ]
    },
    {
      "cell_type": "code",
      "execution_count": null,
      "metadata": {
        "id": "vX0E2BXY4EBH"
      },
      "outputs": [],
      "source": [
        "def get_tensor_vect_df(df,not_in_columns):\n",
        "  df1=df.copy()\n",
        "  df1['main_word']=np.where(df1['replaced_word'] == df1[not_in_columns],1,0)\n",
        "  df1=df1[df1['main_word']==1]\n",
        "  if df1.empty:\n",
        "    df1=df.copy()\n",
        "    df1['main_word']=np.where(df1['logit']==5.0,1,0)\n",
        "    df1=df1[df1['main_word']==1]\n",
        "  if df1.empty:\n",
        "    df1=df.copy()\n",
        "    df1['main_word']=np.where(df1['logit']==12.0,1,0)\n",
        "    df1=df1[df1['main_word']==1]\n",
        "  lists=df1.loc[:, ~df1.columns.isin([not_in_columns,'replaced_word','logit','main_word'])].values\n",
        "  words=df1[not_in_columns].values\n",
        "  # print(words)\n",
        "  vects=[sub_list[0] for sub_list in lists]\n",
        "  tensor_vect=torch.FloatTensor(vects).to(device)\n",
        "  return tensor_vect"
      ]
    },
    {
      "cell_type": "code",
      "execution_count": null,
      "metadata": {
        "id": "jyzyAFFI28Va"
      },
      "outputs": [],
      "source": [
        "def get_tensor_vects(item_id):\n",
        "  tensor_vect_desc=None\n",
        "  tensor_vect_title=None\n",
        "  # print(item_id)\n",
        "  # if os.path.exists(save_path+'descriptions_bert/'+'df_bert_desc_{}.json'.format(item_id)) :\n",
        "  df_vect_desc= pd.read_json(save_path+'descriptions_bert/'+'{}.json'.format(item_id))\n",
        "  # df_vect_desc=df_vect[0]\n",
        "  tensor_vect_desc=get_tensor_vect_df(df_vect_desc,'description_words')\n",
        "\n",
        "  df_vect_title= pd.read_json(save_path+'titles_bert/'+'{}.json'.format(item_id))\n",
        "  # df_vect_title=df_vect[1]\n",
        "  tensor_vect_title=get_tensor_vect_df(df_vect_title,'title_words')\n",
        "  return tensor_vect_desc,tensor_vect_title"
      ]
    },
    {
      "cell_type": "code",
      "execution_count": null,
      "metadata": {
        "id": "okThcrd-kPZ2"
      },
      "outputs": [],
      "source": [
        "rec_dataset.inv_item_name_dict"
      ]
    },
    {
      "cell_type": "code",
      "execution_count": null,
      "metadata": {
        "id": "P6o-et3EvqQ9"
      },
      "outputs": [],
      "source": [
        "def get_features(item):\n",
        "  item_features=rec_dataset.item_features[item]\n",
        "  len_features=0\n",
        "  features=[]\n",
        "  # print(item)\n",
        "  # print(item_features)\n",
        "  for i in range(2):\n",
        "    len_features+=len(item_features[i])\n",
        "    features+=item_features[i]\n",
        "  # for key in item_features[3]:\n",
        "  #   len_features+=len(item_features[3][key])\n",
        "  #   features+=item_features[3][key]\n",
        "  # features+=item_features[3]\n",
        "  # len_features+=1\n",
        "  return len_features,features"
      ]
    },
    {
      "cell_type": "code",
      "execution_count": null,
      "metadata": {
        "id": "Hjd28mVPv-k3"
      },
      "outputs": [],
      "source": [
        "def get_new_item_vector(item,item_feature_name,new_weights,tensor_vect_desc,tensor_vect_title):\n",
        "    # item_id= rec_dataset.inv_item_name_dict[item]\n",
        "    final_vector=[]\n",
        "    # print(len(new_weights))\n",
        "    # print(len(item_feature_name[0]))\n",
        "    # print(tensor_vect_desc.shape)\n",
        "    average_vect_desc=get_average_vect_test(new_weights[0:len(item_feature_name[0])],tensor_vect_desc)\n",
        "    average_vect_title=get_average_vect_test(new_weights[len(item_feature_name[0]):len(item_feature_name[0])+len(item_feature_name[1])],tensor_vect_title)\n",
        "    # average_vect_feature=get_average_vect_test(new_weights[len(item_feature_name[0])+len(item_feature_name[1]):],tensor_vect_feature)\n",
        "    # rank=normalized_rank[item_id]*new_weights[-1]\n",
        "    final_vector=torch.cat((average_vect_desc,average_vect_title))\n",
        "    # print(len(final_vector))\n",
        "    # final_vect=np.array(final_vector, dtype='float32')\n",
        "    return final_vector"
      ]
    },
    {
      "cell_type": "code",
      "execution_count": null,
      "metadata": {
        "colab": {
          "base_uri": "https://localhost:8080/"
        },
        "id": "wN92i5b1FY6Y",
        "outputId": "a6232584-f108-4bf9-d458-2fcd573b00ef"
      },
      "outputs": [
        {
          "data": {
            "text/plain": [
              "tensor([4.7803e-05])"
            ]
          },
          "execution_count": 119,
          "metadata": {},
          "output_type": "execute_result"
        }
      ],
      "source": [
        "torch.reshape(normalized_rank[item_id]*torch.tensor(0.5),(1,))"
      ]
    },
    {
      "cell_type": "code",
      "execution_count": null,
      "metadata": {
        "id": "oQ-IFon4P5O4"
      },
      "outputs": [],
      "source": [
        "class EXPGenerator(torch.nn.Module):\n",
        "    def __init__(self, rec_dataset, base_model, user_vect, item_vect,user,item, margin_score,tensor_vect_desc,tensor_vect_title, device):\n",
        "        super(EXPGenerator, self).__init__()\n",
        "        self.rec_dataset = rec_dataset\n",
        "        self.base_model = base_model\n",
        "        self.user_vect = user_vect\n",
        "        self.item_vect= item_vect\n",
        "        self.margin_score = margin_score\n",
        "        self.device = device\n",
        "        self.feature_length,self.features=get_features(item)\n",
        "        # print(self.features)\n",
        "        self.item=item\n",
        "        self.user=user\n",
        "        self.tensor_vect_desc=tensor_vect_desc\n",
        "        self.tensor_vect_title=tensor_vect_title\n",
        "        # self.tensor_vect_feature=tensor_vect_feature\n",
        "        # self.feature_range = [0, 1]  # hard coded, should be improved later\n",
        "        self.delta_range = 1  # the maximum feature value.\n",
        "        self.delta = torch.nn.Parameter(\n",
        "            torch.FloatTensor(self.feature_length).uniform_(-self.delta_range, 0))\n",
        "        self.ws=torch.ones(self.feature_length).to(device)\n",
        "    \n",
        "    def get_masked_item_feature(self):\n",
        "        item_feature_name=self.rec_dataset.item_features[self.item]\n",
        "        # print(item_feature_name)\n",
        "        self.weights=(self.ws+ torch.clamp((self.delta), -self.delta_range,0))\n",
        "        # new_weights= 1.0/(1.0+torch.exp(-3.0*new_weights))\n",
        "        # new_weights= torch.where(new_weights>=0.5 , 1.0 , 0.0)\n",
        "        # new_weights=torch.tensor(new_weights , dtype= torch.float)\n",
        "        # print(len(self.weights))\n",
        "        item_feature_star=get_new_item_vector(self.item,item_feature_name,self.weights,self.tensor_vect_desc,self.tensor_vect_title)\n",
        "        # print(item_feature_star)\n",
        "        return item_feature_star\n",
        "    \n",
        "    def forward(self):\n",
        "        item_feature_star = self.get_masked_item_feature()\n",
        "        # print(item_feature_star.unsqueeze(0).shape)\n",
        "        # print(self.user_vect.unsqueeze(0).shape)\n",
        "        score = self.base_model(self.user_vect.unsqueeze(0), item_feature_star.unsqueeze(0))\n",
        "        # print(score)\n",
        "        return score\n",
        "    \n",
        "    def loss(self, score):\n",
        "        # print(score - self.margin_score)\n",
        "        bpr = torch.nn.functional.relu(alp + score - self.margin_score) * lam\n",
        "        # print(score - self.margin_score)\n",
        "        l2 = torch.linalg.norm(self.delta)\n",
        "        # num_removed= 1.0/(1.0+torch.exp(-1.0*self.delta))\n",
        "        # num_removed=torch.tensor(num_removed , dtype= torch.float)\n",
        "        # print(num_removed)\n",
        "        l1 = torch.linalg.norm(self.delta, ord=1) * gam\n",
        "        loss =  bpr +l1\n",
        "        return bpr, l2, l1, loss"
      ]
    },
    {
      "cell_type": "code",
      "execution_count": null,
      "metadata": {
        "id": "OfOGzq-Wsz7y"
      },
      "outputs": [],
      "source": [
        "with open(os.path.join(data_obj_path, dataset + \"_dataset_obj.pickle\"), 'rb') as inp:\n",
        "  rec_dataset = pickle.load(inp)"
      ]
    },
    {
      "cell_type": "code",
      "execution_count": null,
      "metadata": {
        "id": "1rzyaeIINiOz"
      },
      "outputs": [],
      "source": [
        "user_test_perspective"
      ]
    },
    {
      "cell_type": "code",
      "execution_count": null,
      "metadata": {
        "id": "fGywTyrWPsrh"
      },
      "outputs": [],
      "source": [
        "def evaluate_user_perspective(user_perspective_data, u_i_expl_dict):\n",
        "    pres = []\n",
        "    recs = []\n",
        "    f1s = []\n",
        "    for u_i, gt_features in user_perspective_data.items():\n",
        "        if u_i in u_i_expl_dict:\n",
        "            TP = 0\n",
        "            pre_features = u_i_expl_dict[u_i]\n",
        "            # print('f: ', gt_features, pre_features)\n",
        "            for feature in pre_features:\n",
        "                if feature in gt_features:\n",
        "                    TP += 1\n",
        "            # print(gt_features)\n",
        "            # print(pre_features)\n",
        "            pre = TP / len(pre_features)\n",
        "            rec = TP / len(gt_features)\n",
        "            if (pre + rec) != 0:\n",
        "                f1 = (2 * pre * rec) / (pre + rec)\n",
        "            else:\n",
        "                f1 = 0\n",
        "            pres.append(pre)\n",
        "            recs.append(rec)\n",
        "            f1s.append(f1)\n",
        "    ave_pre = np.mean(pres)\n",
        "    ave_rec = np.mean(recs)\n",
        "    ave_f1 = np.mean(f1s)\n",
        "    return ave_pre, ave_rec, ave_f1"
      ]
    },
    {
      "cell_type": "code",
      "execution_count": null,
      "metadata": {
        "id": "jzO5JyluPyG-"
      },
      "outputs": [],
      "source": [
        "def evaluate_model_perspective(\n",
        "        rec_dict,\n",
        "        u_i_exp_dict,\n",
        "        base_model,\n",
        "        user_feature_matrix,\n",
        "        item_feature_matrix,\n",
        "        rec_k,\n",
        "        dict_items_cf_feature,\n",
        "        device):\n",
        "    \"\"\"\n",
        "    compute PN, PS and F_NS score for the explanations\n",
        "    :param rec_dict: {u1: [i1, i2, i3, ...] , u2: [i1, i2, i3, ...]}\n",
        "    :param u_i_exp_dict: {(u, i): [f1, f2, ...], ...}\n",
        "    :param base_model: the trained base recommendation model\n",
        "    :param user_feature_matrix: |u| x |p| matrix, the attention on each feature p for each user u\n",
        "    :param item_feature_matrix: |i| x |p| matrix, the quality on each feature p for each item i\n",
        "    :param rec_k: the length of the recommendation list, only generated explanations for the items on the list\n",
        "    :param device: the device of the model\n",
        "    :return: the mean of the PN, PS and FNS scores\n",
        "    \"\"\"\n",
        "    pn_count = 0\n",
        "    ps_count = 0\n",
        "    # df_vects=rec_dataset.df_vects\n",
        "    # print(len( u_i_exp_dict))\n",
        "    i=0\n",
        "    for u_i, fs in u_i_exp_dict.items():\n",
        "        user = u_i[0]\n",
        "        target_item = u_i[1]\n",
        "        features = set(fs)\n",
        "        items = rec_dict[user]\n",
        "        target_index = items.index(target_item)\n",
        "        features=list(features)\n",
        "        if i%50==0:\n",
        "          print(i)\n",
        "        i+=1\n",
        "        # print(len(items))\n",
        "        # print(features)\n",
        "        # compute PN\n",
        "        cf_items_features1 = []\n",
        "        cf_items_features2 = []\n",
        "        for item in items:\n",
        "            # print(item)\n",
        "            # item_ori_feature = np.array(item_feature_matrix[item])\n",
        "            item_id=rec_dataset.inv_item_name_dict[item]\n",
        "            len_features,all_features=get_features(item)\n",
        "            # print(all_features)\n",
        "            item_feature_name=rec_dataset.item_features[item]\n",
        "            weights1=[0.0 if fea in features else 1.0 for fea in all_features]\n",
        "            weights2=[1.0 if fea in features else 0.0 for fea in all_features]\n",
        "            weights1=torch.from_numpy(np.array(weights1,dtype='float32')).to(device)\n",
        "            weights2=torch.from_numpy(np.array(weights2,dtype='float32')).to(device)\n",
        "            # print(len(all_features))\n",
        "            # print(all_features)\n",
        "            # weights=torch.FloatTensor(weights).to(device)\n",
        "            if item in dict_items_cf_feature.keys():\n",
        "              tensor_vect_desc,tensor_vect_title=dict_items_cf_feature[item]\n",
        "            else:\n",
        "              tensor_vect_desc,tensor_vect_title=get_tensor_vects(item_id)\n",
        "              dict_items_cf_feature[item]=(tensor_vect_desc,tensor_vect_title)\n",
        "            \n",
        "            item_cf_feature1=get_new_item_vector(item,item_feature_name,weights1,tensor_vect_desc,tensor_vect_title).detach().to('cpu').numpy()\n",
        "            item_cf_feature2=get_new_item_vector(item,item_feature_name,weights2,tensor_vect_desc,tensor_vect_title).detach().to('cpu').numpy()\n",
        "            cf_items_features1.append(item_cf_feature1)\n",
        "            cf_items_features2.append(item_cf_feature2)\n",
        "            # print(item_cf_feature)\n",
        "            # print(torch.from_numpy(np.array(cf_items_features,dtype='float32')).to(device))\n",
        "            # print(np.shape(item_cf_feature))\n",
        "            # print(np.shape(cf_items_features))\n",
        "        # print(np.shape(cf_items_features))\n",
        "        cf_ranking_scores1 = base_model(torch.from_numpy(np.array([user_feature_matrix[user]\n",
        "                                                                      for i in range(len(cf_items_features1))])\n",
        "                                                            ).to(device),\n",
        "                                           torch.from_numpy(np.array(cf_items_features1,dtype='float32')).to(device)).squeeze()\n",
        "        cf_score_list1 = cf_ranking_scores1.to('cpu').detach().numpy()\n",
        "        sorted_index1 = np.argsort(cf_score_list1)[::-1]\n",
        "        cf_rank1 = np.argwhere(sorted_index1 == target_index)[0, 0]  # the updated ranking of the current item\n",
        "        if cf_rank1 > rec_k - 1:\n",
        "            pn_count += 1\n",
        "        # compute NS\n",
        "        cf_ranking_scores2 = base_model(torch.from_numpy(np.array([user_feature_matrix[user]\n",
        "                                                                      for i in range(len(cf_items_features2))])\n",
        "                                                            ).to(device),\n",
        "                                           torch.from_numpy(np.array(cf_items_features2,dtype='float32')).to(device)).squeeze()\n",
        "        cf_score_list2 = cf_ranking_scores2.to('cpu').detach().numpy()\n",
        "        sorted_index2 = np.argsort(cf_score_list2)[::-1]\n",
        "        cf_rank2 = np.argwhere(sorted_index2 == target_index)[0, 0]  # the updated ranking of the current item\n",
        "        if cf_rank2 < rec_k:\n",
        "            ps_count += 1\n",
        "    if len(u_i_exp_dict) != 0:\n",
        "        pn = pn_count / len(u_i_exp_dict)\n",
        "        ps = ps_count / len(u_i_exp_dict)\n",
        "        if (pn + ps) != 0:\n",
        "            fns = (2 * pn * ps) / (pn + ps)\n",
        "        else:\n",
        "            fns = 0\n",
        "    else:\n",
        "        pn = 0\n",
        "        ps = 0\n",
        "        fns = 0\n",
        "    return pn, ps, fns"
      ]
    },
    {
      "cell_type": "code",
      "execution_count": null,
      "metadata": {
        "id": "WBYDMTkqqdz2"
      },
      "outputs": [],
      "source": [
        "with open(os.path.join(data_obj_path, dataset + \"_dataset_obj.pickle\"), 'rb') as inp:\n",
        "   rec_dataset = pickle.load(inp)"
      ]
    },
    {
      "cell_type": "code",
      "source": [
        "rec_dataset.test_data"
      ],
      "metadata": {
        "id": "I0HmBysJFVvq"
      },
      "execution_count": null,
      "outputs": []
    },
    {
      "cell_type": "code",
      "source": [
        "save_path2='/content/drive/MyDrive/CDs'"
      ],
      "metadata": {
        "id": "iQQ0KFDcgjB0"
      },
      "execution_count": null,
      "outputs": []
    },
    {
      "cell_type": "code",
      "execution_count": null,
      "metadata": {
        "colab": {
          "base_uri": "https://localhost:8080/"
        },
        "id": "ol5Ikjv8PAkK",
        "outputId": "1db96118-873d-49a7-c8ac-8ffb15820562"
      },
      "outputs": [
        {
          "output_type": "stream",
          "name": "stdout",
          "text": [
            "cuda:0\n"
          ]
        },
        {
          "output_type": "stream",
          "name": "stderr",
          "text": [
            "100%|██████████| 20/20 [00:42<00:00,  2.14s/it]\n"
          ]
        },
        {
          "output_type": "stream",
          "name": "stdout",
          "text": [
            "ave num:  2.9797979797979797 ave complexity:  3.436972268302031 no_exp_count:  1 exp_count:  99\n",
            "0\n",
            "50\n",
            "model's perspective:\n",
            "ave PN:  0.9090909090909091   ave PS:  1.0   ave F_{NS}:  0.9523809523809523\n"
          ]
        }
      ],
      "source": [
        "def generate_explanation():\n",
        "    if gpu:\n",
        "        device = torch.device('cuda:%s' %cuda)\n",
        "    else:\n",
        "        device = 'cpu'\n",
        "    print(device)\n",
        "    # import dataset\n",
        "    with open(os.path.join(data_obj_path, dataset + \"_dataset_obj_2.pickle\"), 'rb') as inp:\n",
        "        rec_dataset = pickle.load(inp)\n",
        "    base_model = BaseRecModel(rec_dataset.feature_num).to(device)\n",
        "    base_model.load_state_dict(torch.load(os.path.join(base_model_path,\"model2.model\"),map_location=torch.device(device)))\n",
        "    base_model.eval()\n",
        "    #  fix the rec model\n",
        "    for param in base_model.parameters():\n",
        "        param.requires_grad = False\n",
        "    \n",
        "    # Create optimization model\n",
        "    opt_model = ExpOptimizationModel(\n",
        "        base_model=base_model,\n",
        "        rec_dataset=rec_dataset,\n",
        "        device = device,\n",
        "          \n",
        "    )\n",
        "\n",
        "    opt_model.generate_explanation()\n",
        "    Path(save_path2).mkdir(parents=True, exist_ok=True)\n",
        "    with open(os.path.join(save_path2, dataset + \"_explanation_obj.pickle\"), 'wb') as outp:\n",
        "        pickle.dump(opt_model, outp, pickle.HIGHEST_PROTOCOL)\n",
        "    # with open(os.path.join(save_path, dataset + \"_explanation_obj.pickle\"), 'rb') as opt:\n",
        "    #     opt_model = pickle.load(opt)\n",
        "    # opt_model.user_side_evaluation()\n",
        "    opt_model.model_side_evaluation()\n",
        "    # print(opt_model.u_i_exp_dict)\n",
        "    # Path(save_path).mkdir(parents=True, exist_ok=True)\n",
        "    # with open(os.path.join(save_path, dataset + \"_explanation_obj.pickle\"), 'wb') as outp:\n",
        "    #     pickle.dump(opt_model, outp, pickle.HIGHEST_PROTOCOL)\n",
        "    return opt_model\n",
        "\n",
        "\n",
        "if __name__ == \"__main__\":\n",
        "    opt_model=generate_explanation()"
      ]
    },
    {
      "cell_type": "markdown",
      "source": [
        "cuda:0\n",
        "\n",
        "100%|██████████| 3631/3631 [4:04:25<00:00,  4.04s/it]\n",
        "\n",
        "ave num:  2.567246879722393 ave complexity:  3.0515313470124092 no_exp_count:  288 exp_count:  17867\n",
        "user's perspective:\n",
        "ave pre:  0.1777001827878397   ave rec:  0.01650741082818545   ave f1:  0.025512447817401505\n",
        "model's perspective:\n",
        "ave PN:  0.8202272345665192   ave PS:  0.9979851122180556   ave F_{NS}:  0.9004169069479533\n"
      ],
      "metadata": {
        "id": "iCittK15gyVR"
      }
    },
    {
      "cell_type": "code",
      "execution_count": null,
      "metadata": {
        "id": "Mvr4AmUTzJJl"
      },
      "outputs": [],
      "source": [
        "user_test_perspective"
      ]
    },
    {
      "cell_type": "code",
      "execution_count": null,
      "metadata": {
        "id": "yrR3tFsAPdDh"
      },
      "outputs": [],
      "source": [
        "with open(os.path.join(save_path2, dataset + \"_explanation_obj.pickle\"), 'rb') as opt:\n",
        "  opt_model = pickle.load(opt)"
      ]
    },
    {
      "cell_type": "code",
      "source": [
        "opt_model.u_i_exp_dict"
      ],
      "metadata": {
        "colab": {
          "base_uri": "https://localhost:8080/"
        },
        "id": "-JlnMbhjjefU",
        "outputId": "b6dffdd1-4c26-4902-dfcc-f2a5a3607dc8"
      },
      "execution_count": null,
      "outputs": [
        {
          "output_type": "execute_result",
          "data": {
            "text/plain": [
              "{(0, 11246): ['wishes', 'holiday'],\n",
              " (0, 9121): ['christmas', 'cheers'],\n",
              " (0, 11558): ['irish', 'musical', 'celtic', 'traditional'],\n",
              " (0, 8955): ['holiday', 'spirits'],\n",
              " (0, 7365): ['remastered', 'sunset'],\n",
              " (3, 2780): ['extremely'],\n",
              " (3, 0): ['christmas'],\n",
              " (3, 614): ['new'],\n",
              " (3, 4165): ['greatest', 'hits'],\n",
              " (3, 9824): ['years'],\n",
              " (4, 5860): ['harry', 'chamber', 'secrets', 'composer', 'potter', 'academy'],\n",
              " (4, 2177): ['dream', 'summertime'],\n",
              " (4, 7310): ['harry', 'potter', 'goblet'],\n",
              " (4, 8040): ['harry', 'potter', 'order', 'phoenix'],\n",
              " (4, 2425): ['nine', 'cloud'],\n",
              " (5, 1219): ['alice', 'cooper', 'stoopid'],\n",
              " (5, 0): ['stories', 'christmas', 'eve'],\n",
              " (5, 10126): ['radio', 'god'],\n",
              " (5, 9004): ['shm', 'democracy'],\n",
              " (5, 7243): ['machine'],\n",
              " (6, 0): ['stories', 'christmas', 'eve'],\n",
              " (6, 1609): ['apply', 'amazon'],\n",
              " (6, 1294): ['shoes'],\n",
              " (6, 5008): ['mod', '1998', 'human', 'rooster', 'rod', '70s'],\n",
              " (6, 7431): ['pursuit'],\n",
              " (7, 9801): ['dramatic', 'album'],\n",
              " (7, 9519): ['static'],\n",
              " (7, 994): ['wall'],\n",
              " (7, 9740): ['dedicated'],\n",
              " (7, 9223): ['mountain'],\n",
              " (8, 9121): ['christmas', 'cheers'],\n",
              " (8, 941): ['christmas', 'album'],\n",
              " (8, 8955): ['holiday'],\n",
              " (8, 5515): ['white'],\n",
              " (8, 3062): ['greatest'],\n",
              " (9, 0): ['stories', 'christmas', 'eve'],\n",
              " (9, 5389): ['mannheim', 'christmas', 'extraordinaire'],\n",
              " (9, 3990): ['christmas'],\n",
              " (9, 1431): ['christmas', 'album'],\n",
              " (9, 80): ['fresh'],\n",
              " (10, 9393): ['two', 'amp'],\n",
              " (10, 3985): ['celine', 'titanic', 'back'],\n",
              " (10, 5741): ['jane'],\n",
              " (10, 2871): ['wind'],\n",
              " (10, 9473): ['croweology'],\n",
              " (11, 1787): ['seasons'],\n",
              " (11, 1918): ['dream', 'infinity'],\n",
              " (11, 4520): ['rattle'],\n",
              " (11, 2091): ['progressive',\n",
              "  'palmer',\n",
              "  'roll',\n",
              "  'yes',\n",
              "  'rock',\n",
              "  'theater',\n",
              "  'awake',\n",
              "  'dream',\n",
              "  'lie'],\n",
              " (11, 1840): ['zeppelin', 'film', 'led'],\n",
              " (12, 3714): ['powerslave', 'maiden', 'iron'],\n",
              " (12, 7198): ['ghost', 'reveries'],\n",
              " (12, 7438): ['operation'],\n",
              " (12, 948): ['dylan', 'vol', 'hits', 'greatest', 'bob'],\n",
              " (13, 6435): ['full', 'quotes', 'circles', 'diary', 'color', 'invisible'],\n",
              " (13, 5984): ['concert',\n",
              "  'disasterpieces',\n",
              "  'time',\n",
              "  'slipknot',\n",
              "  'band',\n",
              "  'songs',\n",
              "  'multi',\n",
              "  'iowa'],\n",
              " (13, 8883): ['thunder',\n",
              "  'vocals',\n",
              "  'devil',\n",
              "  'cradle',\n",
              "  'speed',\n",
              "  'godspeed',\n",
              "  'guitars'],\n",
              " (13, 7130): ['skeleton',\n",
              "  'metal',\n",
              "  'arch',\n",
              "  'enemy',\n",
              "  'vocalist',\n",
              "  'dance',\n",
              "  'single',\n",
              "  'cross',\n",
              "  'nemesis',\n",
              "  'machine',\n",
              "  'doomsday'],\n",
              " (13, 7507): ['stadium'],\n",
              " (14, 6110): ['crue', 'motley'],\n",
              " (14, 0): ['christmas', 'eve'],\n",
              " (14, 5394): ['star', 'rock'],\n",
              " (14, 6777): ['christmas'],\n",
              " (14, 2880): ['john', 'lennon'],\n",
              " (15, 485): ['rainbow',\n",
              "  'ken',\n",
              "  'heavy',\n",
              "  'tracks',\n",
              "  'david',\n",
              "  'album',\n",
              "  '1972',\n",
              "  'hitting',\n",
              "  'sensitive',\n",
              "  'hard',\n",
              "  'acoustic',\n",
              "  'side',\n",
              "  'like',\n",
              "  'traveler'],\n",
              " (15, 1640): ['pie', 'fillmore'],\n",
              " (15, 3095): ['goodbye', 'sound', 'hits', 'way', 'strange'],\n",
              " (15, 11171): ['live'],\n",
              " (15, 953): ['netherlands'],\n",
              " (16, 6431): ['ferdinand', 'franz'],\n",
              " (16, 1349): ['jar', 'alice', 'chains', 'flies'],\n",
              " (16, 2111): ['audio'],\n",
              " (16, 3520): ['dusk', 'anthems', 'welkin'],\n",
              " (16, 6310): ['glorious'],\n",
              " (17, 2014): ['broadway',\n",
              "  'peter',\n",
              "  'lies',\n",
              "  'lamb',\n",
              "  'band',\n",
              "  'extended',\n",
              "  'steve',\n",
              "  'epic'],\n",
              " (17, 2040): ['going'],\n",
              " (17, 8389): ['moment'],\n",
              " (17, 9243): ['best'],\n",
              " (17, 5637): ['vegas', 'las', 'live'],\n",
              " (21, 8721): ['live', 'carnegie', 'hall'],\n",
              " (21, 1574): ['synchronicity'],\n",
              " (21, 2184): ['deeds', 'done'],\n",
              " (21, 8156): ['something',\n",
              "  'armageddon',\n",
              "  'guardian',\n",
              "  'framing',\n",
              "  'wicked',\n",
              "  'earth',\n",
              "  'overture'],\n",
              " (21, 7798): ['paradise'],\n",
              " (23, 3901): ['guilty', 'pleasures'],\n",
              " (23, 6415): ['lichtspielhaus'],\n",
              " (23, 6374): ['1992', 'singles', '2003'],\n",
              " (23, 9129): ['veckatimest'],\n",
              " (23, 7438): ['mindcrime'],\n",
              " (25, 4027): ['metal',\n",
              "  'maiden',\n",
              "  'track',\n",
              "  'title',\n",
              "  'iron',\n",
              "  'immediately',\n",
              "  'production',\n",
              "  'closing',\n",
              "  'punk',\n",
              "  'lead'],\n",
              " (25, 5653): ['number', 'enhanced', 'beast'],\n",
              " (25, 945): ['wish'],\n",
              " (25, 3993): ['chemical'],\n",
              " (25, 4003): ['good', 'self', 'wiederhorn', 'size'],\n",
              " (26, 8398): ['celebration',\n",
              "  '1977',\n",
              "  'band',\n",
              "  'led',\n",
              "  'story',\n",
              "  'music',\n",
              "  'zeppelin',\n",
              "  'day',\n",
              "  'inside'],\n",
              " (26, 11068): ['heavy',\n",
              "  'career',\n",
              "  'stylistic',\n",
              "  'etc',\n",
              "  'album',\n",
              "  'painkiller',\n",
              "  'screaming',\n",
              "  'anniversary',\n",
              "  'march',\n",
              "  'along',\n",
              "  'guitar',\n",
              "  'albums',\n",
              "  'rob',\n",
              "  'leadoff',\n",
              "  'priest',\n",
              "  'metal',\n",
              "  'judas',\n",
              "  'single',\n",
              "  'richie',\n",
              "  'british',\n",
              "  'ahead',\n",
              "  '40th',\n",
              "  'souls',\n",
              "  'steel',\n",
              "  'pedal'],\n",
              " (26, 5657): ['hammered'],\n",
              " (26, 7694): ['anniversary',\n",
              "  'live',\n",
              "  'world',\n",
              "  'orchestra',\n",
              "  'tour',\n",
              "  'theater',\n",
              "  'dream',\n",
              "  'octavarium',\n",
              "  '20th',\n",
              "  'score'],\n",
              " (26, 4004): ['enhanced', 'psycho']}"
            ]
          },
          "metadata": {},
          "execution_count": 49
        }
      ]
    },
    {
      "cell_type": "code",
      "source": [
        "for ui in opt_model.u_i_exp_dict:\n",
        "  user_id=rec_dataset.inv_user_name_dict[ui[0]]\n",
        "  item_id=rec_dataset.inv_item_name_dict[ui[1]]\n",
        "  # opt_model.user_perspective_test_data\n",
        "  print(user_id , item_id)\n",
        "  if(user_id,item_id) in review_features:\n",
        "    print(review_features[(user_id,item_id)])\n",
        "  print(opt_model.u_i_exp_dict[ui])"
      ],
      "metadata": {
        "colab": {
          "base_uri": "https://localhost:8080/"
        },
        "id": "jC9SCMG4j5_Q",
        "outputId": "cf92084a-ed40-49da-f950-6b93e05dff87"
      },
      "execution_count": null,
      "outputs": [
        {
          "output_type": "stream",
          "name": "stdout",
          "text": [
            "A3LEN0P07MGJE2 B00NB81XS6\n",
            "[['favorite', 'on', 1, 'It is easily my favorite on this CD'], ['songs', 'contemplative', -1, 'The more contemplative songs such as Silent Night (the most egregious) and Do You Hear I What Hear\\n']]\n",
            "['wishes', 'holiday']\n",
            "A3LEN0P07MGJE2 B001TRDPB4\n",
            "[['twists', 'new', 1, 'There were some songs that were new to me as well as new twists to old favorites -- the introduction to We Three Kings comes to mind with its hints of the Mission Impossible theme'], ['twists', 'in', 1, 'The twists in Rudolph the Red-Nosed Reindeer\\n']]\n",
            "['christmas', 'cheers']\n",
            "A3LEN0P07MGJE2 B016PUSFFK\n",
            "[['favorites', 'in', 1, 'New favorites from this recording include Skyrim Theme'], ['favorites', 'old', 1, 'The ones omitted are old favorites'], ['recording', 'in', 1, 'New favorites from this recording include Skyrim Theme'], ['recording', 'live', 1, 'This CD has the same title as the live recording DVD\\n']]\n",
            "['irish', 'musical', 'celtic', 'traditional']\n",
            "A3LEN0P07MGJE2 B001G0LBXS\n",
            "[['favorites', 'in', 1, 'Other favorites include This Christmas'], ['harmonies', 'lovely', 1, 'Straight No Chaser has lovely harmonies in the group'], ['performance', 'live', 1, 'I think choosing a live performance was wise as the laughter is infectious\\n']]\n",
            "['holiday', 'spirits']\n",
            "A3LEN0P07MGJE2 B000BSM29I\n",
            "[['songs', 'memorable', 1, 'There are a lot of memorable songs\\n']]\n",
            "['remastered', 'sunset']\n",
            "A2LYK2N9IHPGZB B000002TST\n",
            "[['music', 'back', 1, 'First listened to Seger during college up in Michigan - his music brings back fond memories of my college days - the good and the bad'], ['music', 'fond', 1, 'First listened to Seger during college up in Michigan - his music brings back fond memories of my college days - the good and the bad\\n']]\n",
            "['extremely']\n",
            "A2LYK2N9IHPGZB 0005164885\n",
            "[['tracks', 'good', 1, 'It has some really good tracks on it that are very well done'], ['tracks', 'real', -1, 'It has some really good tracks on it that are very well done\\n']]\n",
            "['christmas']\n",
            "A2LYK2N9IHPGZB B000001FP8\n",
            "['new']\n",
            "A2LYK2N9IHPGZB B00000FC5H\n",
            "[['music', 'good', 1, 'The music is really good'], ['tunes', 'several', 1, 'There are several tunes on this CD that will bring back memories form your formative years\\n']]\n",
            "['greatest', 'hits']\n",
            "A2LYK2N9IHPGZB B005D51JQQ\n",
            "['years']\n",
            "A2GT0MCMRKLKDW B00006IR5S\n",
            "[['music', 'in', 1, 'His music is directly in tune with the movie and carries you along with ease'], ['kick', 'in', 1, 'kick back in the \"lazy Boy'], ['music', 'direct', -1, 'His music is directly in tune with the movie and carries you along with ease\\n']]\n",
            "['harry', 'chamber', 'secrets', 'composer', 'potter', 'academy']\n",
            "A2GT0MCMRKLKDW B000002KCK\n",
            "[['artistry', 'in', 1, '\"  The artistry in that song made me a fan in an instant'], ['fan', 'in', 1, '\"  The artistry in that song made me a fan in an instant'], ['album', 'right', 1, 'This album is right up to standard for him\\n']]\n",
            "['dream', 'summertime']\n",
            "A2GT0MCMRKLKDW B000BGH22W\n",
            "[['track', 'sound', 1, 'This sound track definitely carries the film along very well'], ['track', 'sound', -1, 'Another very well done sound track\\n']]\n",
            "['harry', 'potter', 'goblet']\n",
            "A2GT0MCMRKLKDW B000OLGCHA\n",
            "[['music', 'very', 1, 'His music very nicely accompanies the mood of the film from beginning to end'], ['music', 'nice', 1, 'His music very nicely accompanies the mood of the film from beginning to end'], ['tracks', 'sound', 1, 'So it is with the sound tracks of the movies\\n']]\n",
            "['harry', 'potter', 'order', 'phoenix']\n",
            "A2GT0MCMRKLKDW B000002LCU\n",
            "[['albums', 'better', 1, \"This is one of George Harrison's better albums\"], ['listening', 'pleasant', 1, 'and a couple of others make for a very pleasant listening\\n']]\n",
            "['nine', 'cloud']\n",
            "A9VROMAWXIL9G B0000027DJ\n",
            "[['albums', 'later', 1, 'the former taking a more prominent role in later albums particularly the Brutal Planet trilogy'], ['rock', 'modern', 1, 'not the best nor far from the worst of modern rock Alice'], ['hit', 'on', 1, 'he deliberately teamed up with hit maker/songwriter Desmond Child to get back on the charts after a decade & become again the respected musical force he once was'], ['feat', 'in', 1, 'a fresh image & a successful world tour featuring an array of future icons in his backing back (Al Pitrelli'], ['lyrics', 'musical', 1, 'catchy lyrics that are more mini-narratives & unpredictable musical arrangements'], ['classics', 'on', 1, \"It didn't have the plethora hits that Trash spawned but that's more a reflection of changing MTV audiences than the number of future classics on the album\"], ['album', 'hard', -1, 'the album achieved its goal while establishing Cooper as a leather wearing hard rocker balladier still surrounded by his famous props'], ['metal', 'vicious', -1, 'The post-Trash Alice Cooper is a heavy metal vicious beast\\n']]\n",
            "['alice', 'cooper', 'stoopid']\n",
            "A9VROMAWXIL9G 0005164885\n",
            "[['albums', 'later', 1, 'On later albums & on future tours TSO would eventually flesh out its ranks before expanding into two bands to bring the show to as many cities as possible in their short touring season'], ['albums', 'numerous', 1, 'despite numerous albums later both holiday themed & not'], ['radio', 'friendly', 1, \"Many metal fans don't consider it's heavily choreographed light show & radio friendly tunes true metal\"], ['radio', 'friendly', 1, 'radio friendly metal'], ['edge', 'modern', 1, 'gave a modern metal edge to the traditional holiday song \"Carol of the Bells\"'], ['music', 'metal', 1, \"This wasn't the first time the band had given traditional &/or classical music metal flourishes\"], ['band', 'in', 1, 'which Atlantic Records largely considered the last chance for the band to break into needed commercial heights'], ['album', 'double', 1, \"It's quite a contrast to 2009's double album Night Castle with 26 musicians\"], ['metal band', 'on', 1, \"In the 80's if anyone had said that the struggling Florida metal band Savatage would eventually become one of the most popular\"], ['metal', 'modern', 1, 'gave a modern metal edge to the traditional holiday song \"Carol of the Bells\"'], ['guitar', 'on', 1, \"You don't have to wonder who is playing guitar or piano on what track as would be the case later\"], ['rockers', 'melodic', 1, 'for Christmas albums this is an undoubtable highlight because it has just enough solos for the rockers but is melodic enough for everyone else'], ['vocals', 'perfect', 1, \"as he's one of the most under-rated powerhouses in rock & his operatic vocals are perfect for this project\"], ['playing', 'on', 1, \"You don't have to wonder who is playing guitar or piano on what track as would be the case later\"], ['sy', 'in', -1, 'the biggest hurdle with the album is that the 2 page synopsis in the linear notes often puts emphasis on events that get only a passing reference in song'], ['album', 'in', -1, 'the biggest hurdle with the album is that the 2 page synopsis in the linear notes often puts emphasis on events that get only a passing reference in song'], ['guitarist', 'new', -1, 'with new New York guitarist Al Pitrelli'], ['cello', 'in', -1, 'musically representing a brave lone celloist in the middle of a battlefield\\n']]\n",
            "['stories', 'christmas', 'eve']\n",
            "A9VROMAWXIL9G B007U1FEJE\n",
            "[['release', 'interesting', 1, 'an interesting release'], ['sound', 'lush', 1, \"It may sound lush but the BB have never been a sad sounding band so Wilson isn't going to let them become that now\"], ['hit', 'last', 1, 'Even their last hit \"Kokomo\" is a few generations past'], ['piano', 'instrumental', 1, 'a piano instrumental with some trademarked BB chorus vocalizations'], ['music', 'lush', 1, \"The music might be lush but I've always believed that darker emotions come across more realistically\"], ['music', 'good', 1, 'Once upon a time there was a world of feel good music'], ['music', 'good', 1, 'Literally - feel good music'], ['reviews', 'best', 1, \"The fact that its getting the best reviews a BB album has gotten since 1977's Love You says a lot \"], ['instrumentation', 'important', 1, 'With Pet Sounds Wilson made the instrumentation as important as the trademarkable \"Help Me Rhonda\" vocal arrangements had once been'], ['ac', 'on', 1, 'while happiness you just let happen & float across ones life'], ['albums', 'top', 1, 'placing them second with longest span of top ten albums'], ['albums', 'first', 1, 'who was 13 when he originally played with the BB moving over their first four albums'], ['vocal', 'amazing', 1, \"it's amazing how vocally accurate & timeless the album is\"], ['somethin', 'different', 1, 'when the BB debuted they were something different'], ['songwriter', 'primary', 1, 'as primary songwriter & producer'], ['listening', 'new', 1, 'listening to the new reunion album by the remaining BB - excluding the ill Glen Campbell who originally replaced Brian Wilson on tour & played on Pet Sounds - is a strange experience'], ['album', 'happy', 1, 'its hard to say if this honestly is a happy album'], ['album', 'hard', 1, \"It's not a hard album to enjoy\"], ['album', 'inspired', 1, 'Pet Sounds was the album that inspired Sgt Pepper & the BB have always been different'], ['album', 'first', 1, \"It's the first album to feature original material since 1992's Summer In Paradise & the first to be made since the 1998 death of Carl Wilson\"], ['album', 'open', 1, 'The album opens with \"Think About The Days\"'], ['throwback', 'complete', 1, 'The fact that what follows is a complete throwback belays that Wilson knew what the expectations would be & he is not going to dwell on his mortality just to meet those expectations'], ['hits', 'major', 1, 'but a majority of hits come from the sparser sounding early days'], ['songs', 'cheerful', 1, 'One wonders if when Wilson started his return to music if he could have even have composed songs as cheerful as these'], ['singer', 'great', -1, \"he's never going to be a great singer & remains a bit of a weight to listen to & watch\"], ['rock', 'friendly', -1, 'not the sparse pop songs of earlier days or the radio friendly rock of the \"Kokomo\" era'], ['pop', 'early', -1, \"In awhile it would have been nice to hear the pop early 60's pop band again\"], ['band', 'on', -1, 'even though the band is now on tour'], ['track', 'numb', -1, 'The title track reached number three on the Billboard charts & is their highest charting song since 1965'], ['als', 'first', -1, 'It was also the first top ten studio album since 1976 & the highest studio album since 1971 in England'], ['als', 'first', -1, \"It's also the first to feature guitarist David Marks since Little Deuce Coupe in 1963\"], ['performance', 'stiff', -1, 'He may still be the performance shy stiff musician'], ['performance', 'shy', -1, 'He may still be the performance shy stiff musician\\n']]\n",
            "['radio', 'god']\n",
            "A9VROMAWXIL9G B001IZIK3A\n",
            "[['piano', 'in', 1, \"replaced by more piano & intricate & lush arrangements that in some ways could be better than earlier G'N'R\"], ['music', 'particular', 1, 'particularly in the music biz'], ['hits', 'past', 1, \"If it wasn't for Axl's reputation & G'N'R's past hits this album might have faired better on the charts\"], ['songs', 'great', 1, \"It's got some great songs culling diverse sources of inspiration that G'N'R previously only hinted at behind a bluesy faade\"], ['album', 'bad', 1, 'this is not a bad album'], ['albums', 'older', -1, \"Unlike older G'N'R albums\\n\"]]\n",
            "['shm', 'democracy']\n",
            "A9VROMAWXIL9G B000B0WOF8\n",
            "['machine']\n",
            "A2KYG4U9VNPDVQ 0005164885\n",
            "[['lyrics', 'all', 1, 'lyrics all seem to complement each other\\n']]\n",
            "['stories', 'christmas', 'eve']\n",
            "A2KYG4U9VNPDVQ B000002G90\n",
            "['apply', 'amazon']\n",
            "A2KYG4U9VNPDVQ B00000293R\n",
            "['shoes']\n",
            "A2KYG4U9VNPDVQ B00004ZAZ9\n",
            "[['songs', 'only', 1, 'There are only 3 good songs out of 11 on this CD'], ['songs', 'good', 1, 'There are only 3 good songs out of 11 on this CD\\n']]\n",
            "['mod', '1998', 'human', 'rooster', 'rod', '70s']\n",
            "A2KYG4U9VNPDVQ B000E11568\n",
            "['pursuit']\n",
            "A1URYPVG5DLLZZ B005804N9G\n",
            "[['music', 'good', 1, 'Dream Theater gave us hope that good music still exists and perfection is a reality'], ['instruments', 'in', 1, 'you get the song by listening to the 4 instruments blending into one song'], ['bass', 'deeper', 1, 'John Myung\\'s bass is deeper and heavier and even lyrically \"Breaking all Illusions\" he is a master of his own domain'], ['album', 'long', -1, 'I have waited for too long for this album\\n']]\n",
            "['dramatic', 'album']\n",
            "A1URYPVG5DLLZZ B003ZDCGLA\n",
            "[['album', 'total', 1, \"People have been complaining about the new style of Labrie's new album and I totally disagree with them\\n\"]]\n",
            "['static']\n",
            "A1URYPVG5DLLZZ B0000025H6\n",
            "['wall']\n",
            "A1URYPVG5DLLZZ B004YKB5FQ\n",
            "[['release', 'live', 1, 'live release'], ['album', 'single', 1, 'I have heard every single album'], ['fans', 'big', 1, 'I am one of the biggest fans'], ['songs', 'couple', 1, 'To be honest I only liked a couple of songs\\n']]\n",
            "['dedicated']\n",
            "A1URYPVG5DLLZZ B002A9OJ0Q\n",
            "[['song', 'simple', 1, 'a great and an simple song'], ['album', 'great', 1, 'Simply a great album from a great band'], ['album', 'great', 1, 'the album is great musically\\n']]\n",
            "['mountain']\n",
            "A2I6MHMAZZDCRX B001TRDPB4\n",
            "[['release', 'second', 1, 'their second release'], ['cover', 'great', 1, 'the guys do a great job of covering it here'], ['music', 'in', 1, 'this is coming from the guy who started listening to Christmas music in October this year'], ['track', 'original', 1, 'They start out with the original track \"The Christmas Can-Can'], ['track', 'final', 1, \"but that's the final track out of 15\"], ['lyrics', 'in', 1, 'with most of the guys singing the lyrics in perfect unison and harmony'], ['listening', 'in', 1, 'this is coming from the guy who started listening to Christmas music in October this year'], ['singing', 'actual', 1, \"You'd swear he was actually singing with them\"], ['singing', 'in', 1, 'with most of the guys singing the lyrics in perfect unison and harmony'], ['classic', 'all', 1, 'That just makes some of the classic lines all the funnier to me'], ['songs', 'in', 1, 'All the same jokes and other songs are included'], ['songs', 'serious', 1, 'But there are plenty of more serious songs on the disc'], ['vocals', 'great', 1, '\"Donde Esta Santa Claus\" has a very Mexican flavor with their vocals doing a great job of imitating shakers and castanets'], ['disc', 'in', 1, ')  The first disc included that live version'], ['instruments', 'vocal', -1, 'no vocal instruments or beat box to distract from the lyrics'], ['humor', 'real', -1, 'The other attempts at humor really do show the range of the guys in this group\\n']]\n",
            "['christmas', 'cheers']\n",
            "A2I6MHMAZZDCRX B0000024TV\n",
            "[['backup singers', 'in', 1, 'There are times where backup singers are involved'], ['theres', 'special', 1, 'theres a special introduction where she bemoans the nice weather in Beverly Hills on Christmas Eve'], ['song', 'familiar', 1, \"which includes a lyrical introduction I don't think Ive heard anywhere else before she launches into the familiar song\"], ['songs', 'on', 1, 'when I stick these songs on'], ['rhythms', 'strange', -1, 'Its fast and furious with a couple of different voices as well as some strange rhythms\\n']]\n",
            "['christmas', 'album']\n",
            "A2I6MHMAZZDCRX B001G0LBXS\n",
            "[['song', 'original', 1, 'The other original song is \"Indiana Christmas'], ['haunting', 'beautiful', 1, '\"  It\\'s beautiful and haunting'], ['singing', 'actual', 1, 'Then they do start actually singing the song'], ['sound', 'same', 1, 'I have quite a few Christmas discs that begin to sound the same after a while'], ['video', 'live', 1, 'Straight No Chaser rose to fame based on a You Tube video of a live performance of \"The Twelve Days of Christmas'], ['hits', 'little', 1, '\"Christmas Wish\" hits home a little as a single guy asks for a woman for Christmas'], ['harmonies', 'tight', 1, 'It really gives you a good feel for the joys you can expect for the rest of the disc since the harmonies are tight'], ['harmonies', 'great', 1, 'since the Beach Boys had such great harmonies'], ['harmonies', 'great', 1, \"those great harmonies don't hurt things either\"], ['songs', 'original', 1, 'That song is followed by one of two completely original songs'], ['songs', 'earlier', 1, '\"  This traditional New Years song is back to the fun of the earlier songs on the disc'], ['songs', 'several', 1, \"there are several songs on here I'm not that familiar with\"], ['melody', 'catchy', -1, \"It's another mid-tempo song with a really catchy melody\"], ['melody', 'real', -1, \"It's another mid-tempo song with a really catchy melody\"], ['goin', 'crazy', -1, 'But then they start going crazy\\n']]\n",
            "['holiday']\n",
            "A2I6MHMAZZDCRX B00005QW3E\n",
            "['white']\n",
            "A2I6MHMAZZDCRX B0000032IB\n",
            "['greatest']\n",
            "A27ZOCD5B63Y0P 0005164885\n",
            "[['somethin', 'in', 1, 'There is something in this CD for everyone'], ['music', 'very', 1, 'I love Christmas music very much'], ['band', 'big', 1, 'I particularly enjoy Mannheim Steamroller and the big band crooners of the 1940s and 1950s'], ['rock', 'hard', -1, 'hard rock (\"Christmas Eve/Sarajevo 12/24\")\\n']]\n",
            "['stories', 'christmas', 'eve']\n",
            "A27ZOCD5B63Y0P B00005NNDK\n",
            "[['sound', 'beautiful', 1, \"It's a beautiful sound\"], ['sound', 'bad', -1, \"But CHRISTMAS EXTRAORDINAIRE's synthesizer sound doesn't sound half as bad as the first Christmas album they put out\\n\"]]\n",
            "['mannheim', 'christmas', 'extraordinaire']\n",
            "A27ZOCD5B63Y0P B00000AEDW\n",
            "[['album', 'familiar', 1, 'But what the majority of them are sorely lacking (and what is absolutely essential in a Christmas album) is the familiar'], ['album', 'great', 1, 'but it was still a great album'], ['album', 'first', 1, \"The first album had a fairly healthy mixture of familiar Christmas classics and TSO's own songs to help tell their story\"], ['album', 'first', 1, 'Most of the good stuff from the first album'], ['release', 'second', 1, 'THE CHRISTMAS ATTIC marked the second CD release by the Christmas rock-opera sensation'], ['rock', 'enjoyable', -1, '\"Midnight Christmas Eve\" and \"Appalachian Snowfall\" are enjoyable light rock instrumentals'], ['rock', 'light', -1, '\"Midnight Christmas Eve\" and \"Appalachian Snowfall\" are enjoyable light rock instrumentals'], ['music', 'little', -1, 'Very little of the music herein echoes the astounding quality of CHRISTMAS EVE AND OTHER STORIES\\n']]\n",
            "['christmas']\n",
            "A27ZOCD5B63Y0P B000002ATB\n",
            "[['song', 'only', 1, 'The only song I don\\'t really care for that much is \"Deck the Halls/We Wish You a Merry Christmas\"\\n']]\n",
            "['christmas', 'album']\n",
            "A27ZOCD5B63Y0P B0000005MV\n",
            "[['haunting', 'beautiful', 1, 'and hauntingly beautiful music'], ['somethin', 'different', 1, \"There's just something different about this one\"], ['somethin', 'different', 1, \"there's just something different about it\"], ['dee', 'in', -1, 'all I am is just some guy who is deeply in love with this poetic\\n']]\n",
            "['fresh']\n",
            "A1SCJWCMQ3W3KK B0036BDQ4W\n",
            "[['sounds', 'different', 1, 'it sounds different'], ['covers', 'on', 1, 'there are some covers on here - though rather than the Beatles or Smokey Robinson'], ['album', 'pretty', 1, 'as the phrase sums up this album pretty well'], ['vocals', 'on', 1, 'hymn-like ballad that evokes memories of Deschanel\\'s vocals on \"Volume One\"\\'s \\'Swing Low'], ['songs', 'obscure', -1, \"they're more obscure songs that seem to fit in very well\\n\"]]\n",
            "['two', 'amp']\n",
            "A1SCJWCMQ3W3KK B00000ADKZ\n",
            "['celine', 'titanic', 'back']\n",
            "A1SCJWCMQ3W3KK B00006879E\n",
            "[['release', 'in', 1, \"while 'Tangled' is more reminiscent of something Motown would have released back in the 1970s\"], ['release', 'back', 1, \"while 'Tangled' is more reminiscent of something Motown would have released back in the 1970s\"], ['music', 'fresh', 1, 'the record still holds up as fresh music'], ['band', 'in', 1, 'which takes the band into a slightly softer feel'], ['blues', 'little', 1, 'a little blues'], ['rock', 'in', 1, 'and rock and roll in a way that was previously unknown (at least on a grand scale) on US airwaves'], ['rock', 'little', 1, 'a little rock'], ['tracks', 'first', 1, 'the first eight tracks are spectacular'], ['funk', 'little', 1, 'A little funk\\n']]\n",
            "['jane']\n",
            "A1SCJWCMQ3W3KK B000002U8O\n",
            "['wind']\n",
            "A1SCJWCMQ3W3KK B003S897P0\n",
            "['croweology']\n",
            "A30BCRSABL9AYI B000002HK4\n",
            "[['band', 'general', 1, 'however is not your generalized band'], ['vocals', 'incredible', 1, 'Funeral For A Friend is a great song where the vocals are incredible'], ['album', 'live', 1, \"The rest of the album is played live at Ronnie Scott's Jazz Club in London\"], ['songs', 'past', 1, 'Overall this cd is worth it for the wonderful title song as well as the great memories from great songs of the past few years\\n']]\n",
            "['seasons']\n",
            "A30BCRSABL9AYI B000002HPT\n",
            "[['somethin', 'different', 1, 'In every bands career they get to a point where they want to put out something different than the norm for various reasons'], ['radio', 'in', 1, ') that all of their songs are radio friendly in tempo and length'], ['radio', 'friendly', 1, ') that all of their songs are radio friendly in tempo and length'], ['genres', 'different', 1, 'Examples of this can come from many different genres such Kiss\\' album entitled \"The Elder\"'], ['album', 'slower', 1, 'when I think of \"Falling Into Infinity\" I immediately think \\'the slower album\\' vs'], ['album', 'different', 1, 'In each example a very popular group/artist put out an album very different than their norm and it met a cold shoulder of their fans at the music store'], ['album', 'previous', 1, '\"Falling Into Infinity\" is a slower paced album than previous releases but still boasts the amazing musicianship that their fans have come to expect'], ['album', 'great', 1, 'I think this is a great album to be enjoyed but maybe not in the same way or at the same time as the others\\n']]\n",
            "['dream', 'infinity']\n",
            "A30BCRSABL9AYI B000022TT6\n",
            "['rattle']\n",
            "A30BCRSABL9AYI B000002JKA\n",
            "[['pop', 'in', 1, 'They especially were popular in Europe'], ['songs', 'only', 1, '(There are only 2 songs over 6 minutes in length which means only 2 would have to be cut short to be played on the radio)'], ['bands', 'sudden', -1, 'Many bands that suddenly found themselves popular try to duplicate their newfound success\\n']]\n",
            "['progressive', 'palmer', 'roll', 'yes', 'rock', 'theater', 'awake', 'dream', 'lie']\n",
            "A30BCRSABL9AYI B000002I3D\n",
            "['zeppelin', 'film', 'led']\n",
            "A1BHJY46QTUS7J B000006RHK\n",
            "[['song', 'best', 1, '\"2 Minutes to Midnight\" is arguably Maiden\\'s best known song'], ['song', 'in', 1, 'this song is actually interesting'], ['vocals', 'great', 1, 'with great vocals and guitar solo'], ['albums', 'accessible', 1, \"This is probably one of Iron Maiden's more accessible albums\"], ['solo section', 'in', 1, 'and the guitar solo section in the middle is one of their better interludes'], ['track', 'one', 1, 'The title track is one of the greatest mini-epics that Iron Maiden has written (along with \"Caught Somewhere in Time\")'], ['album', 'in', 1, 'making this a great album to get into their music'], ['guitar', 'in', 1, 'and the guitar solo section in the middle is one of their better interludes'], ['album', 'mad', -1, '\" Relentless touring for this album made Iron Maiden much bigger than they were before\\n']]\n",
            "['powerslave', 'maiden', 'iron']\n",
            "A1BHJY46QTUS7J B000AADYYO\n",
            "[['song', 'full', 1, 'The full song drags on too long'], ['vocals', 'clean', 1, 'The clean vocals are slightly different'], ['albums', 'consistent', 1, 'there are better and more consistent Opeth albums out there'], ['kick', 'in', 1, '\" The former kicks off with a short acoustic intro'], ['songs', 'all', 1, 'This is one of the few songs on all of music where I like the radio edit more than the full song'], ['songs', 'on', 1, 'This is one of the few songs on all of music where I like the radio edit more than the full song'], ['guitar work', 'excellent', 1, 'contains excellent guitar work'], ['acoustic', 'in', 1, '\" The former kicks off with a short acoustic intro'], ['melodies', 'acoustic', 1, 'acoustic melodies'], ['album', 'bad', 1, '\" but this is not a bad album by any stretch of the imagination'], ['fans', 'old', 1, 'Will old school fans like this'], ['tracks', 'first', -1, 'if not only for the first two tracks\\n']]\n",
            "['ghost', 'reveries']\n",
            "A1BHJY46QTUS7J B000E1ZBHM\n",
            "['operation']\n",
            "A1BHJY46QTUS7J B0000024Y4\n",
            "['dylan', 'vol', 'hits', 'greatest', 'bob']\n",
            "A2HRVE5MUWP0PN B00015U9W8\n",
            "[['sound', 'on', 1, 'The 6 member band has a full and in your face sound based on their musical abilities and the varied style of vocals presented during the songs'], ['musicians', 'talented', 1, 'Behind her is a forceful group of talented musicians made up of Ben Maas (guitar'], ['booklet', 'all', 1, 'The enclosed booklet allows you to get the whole story in a lot more detail throughout its 16 pages'], ['disappointment', 'in', 1, \"hardship and disappointment in one's self\"], ['band', 'on', 1, 'The band is labeled as Melodic Dark Metal and this fits especially well based on the lyrical storyline that is the basis of the album'], ['band', 'on', 1, 'The 6 member band has a full and in your face sound based on their musical abilities and the varied style of vocals presented during the songs'], ['tunes', 'solid', 1, 'There are a number of solid tunes on the album'], ['label', 'on', 1, 'The band is labeled as Melodic Dark Metal and this fits especially well based on the lyrical storyline that is the basis of the album'], ['songs', 'little', 1, 'The story itself has some interesting moments but the dialogue between the central characters that is blended in some of the songs takes a little bit away from it'], ['disappointment', 'on', -1, \"hardship and disappointment in one's self\\n\"]]\n",
            "['full', 'quotes', 'circles', 'diary', 'color', 'invisible']\n",
            "A2HRVE5MUWP0PN B00007BHOE\n",
            "[['goin', 'on', 1, 'It is actually difficult at times to follow what is going on\\n']]\n",
            "['concert', 'disasterpieces', 'time', 'slipknot', 'band', 'songs', 'multi', 'iowa']\n",
            "A2HRVE5MUWP0PN B001E18C8G\n",
            "['thunder', 'vocals', 'devil', 'cradle', 'speed', 'godspeed', 'guitars']\n",
            "A2HRVE5MUWP0PN B0009WPLM6\n",
            "[['music', 'one', 1, 'show the different skills and time signature changeups that make Arch Enemy music much better than the bands that opt for one format and sound for an entire record'], ['band', 'one', 1, 'The band has become one of the more interesting providers of the form'], ['band', 'live', 1, 'Those who have ever caught the band live already know how imposing she is as a performer'], ['musical', 'technical', 1, 'with a very musical and technical level of Death Metal meets Thrash'], ['opener', 'perfect', 1, 'which is an instrumental and serves as the perfect opener for \"Taking Back My Soul\"'], ['album', 'right', 1, '\"Nemesis\" is the song that gained most of the attention on the album and rightfully so since we find Angela Gossow delivering the goods like never before'], ['drummer', 'great', 1, 'Erlandsson is a great drummer and provides a lot of tasty fills and patterns along with a thunderous double-bass technique and he gets to show off a little in \"Machkampf\"'], ['bands', 'one', -1, 'show the different skills and time signature changeups that make Arch Enemy music much better than the bands that opt for one format and sound for an entire record\\n']]\n",
            "['skeleton', 'metal', 'arch', 'enemy', 'vocalist', 'dance', 'single', 'cross', 'nemesis', 'machine', 'doomsday']\n",
            "A2HRVE5MUWP0PN B000EMGAOY\n",
            "['stadium']\n",
            "A2UGVZFKH8O5X4 B00008OLIH\n",
            "[['anthem', 'all', 1, 'There is excellent solos on this track and this is definitely an anthem for all of rock and roll'], ['guitar work', 'best', 1, 'Mick shows some of his best guitar work on this tune'], ['tune', 'excellent', 1, 'This is an excellent tune that deserves an \"A\" all the way'], ['1990s', 'early', 1, 'In the early 1990s after the Dr'], ['track', 'all', 1, 'There is excellent solos on this track and this is definitely an anthem for all of rock and roll'], ['track', 'next', 1, 'The next track'], ['ballads', 'greatest', 1, 'you will hear one of the greatest ballads you have ever heard in your life'], ['lyrics', 'catchy', 1, 'The lyrics are very catchy and is an underrated Crue classic'], ['lyrics', 'excellent', 1, 'The lyrics are excellent and the song is very catchy'], ['song', 'best', 1, 'The best song out of the 3 is \"Babykills'], ['album', 'all', 1, 'The most appealing thing about the album is all the songs are very long'], ['album', 'original', 1, \"It is a wonder why they took this off the album's original release\"], ['album', 'half', 1, 'I ranked this 3 stars because half the album is really good and there is a handful of just fillers (in my opinion)'], ['album', 'best', 1, \"It's one of the album's best tracks\"], ['album', 'good', 1, 'this is an good album'], ['album', 'on', 1, 'Then the album has 3 unreleased tracks that were added onto the CD later on which are songs 13-15'], ['ballad', 'half', 1, '\"Misunderstood\" is a half ballad'], ['studio album', 'new', 1, 'a new studio album was needed to show the fans how good their new frontman was'], ['jams', 'good', 1, 'There is a lot good jams'], ['tracks', 'on', 1, \"It's one of the heaviest tracks on the album and the lyrics are pure Crue\"], ['tracks', 'on', 1, 'Then the album has 3 unreleased tracks that were added onto the CD later on which are songs 13-15'], ['songs', 'long', 1, 'The most appealing thing about the album is all the songs are very long'], ['song', 'slow', -1, 'The first couple minutes of the song are slow and very passionate\\n']]\n",
            "['crue', 'motley']\n",
            "A2UGVZFKH8O5X4 0005164885\n",
            "[['albums', 'rock', 1, 'the lyrics are genious and the albums rocks all the way from the beginning to the very end'], ['guitar solos', 'in', 1, '\" The guitar solos in this piece are phenomenal'], ['sounds', 'old', 1, 'Nothing expresses the Christmas spirit better that than that of the gold old sounds of rock and roll'], ['album', 'further', 1, 'Buy this album to further extend your Christmas Collection\\n']]\n",
            "['christmas', 'eve']\n",
            "A2UGVZFKH8O5X4 B00005NQIM\n",
            "[['song', 'in', 1, 'And remember that song Mark Wahlberg sang at the end with his band in that night club \"Colorful'], ['beats', 'all', 1, 'banging drum beats and outstanding vocal performances by all the contributing singers'], ['rock', 'pure', 1, \"It's pure rock and roll\"], ['songs', 'excellent', 1, 'Remember all those excellent songs you heard in the movie done by Steel Dragon'], ['band', 'in', 1, 'And remember that song Mark Wahlberg sang at the end with his band in that night club \"Colorful\\n']]\n",
            "['star', 'rock']\n",
            "A2UGVZFKH8O5X4 B0002ZDVGS\n",
            "[['music', 'unbeatable', 1, 'drum beats and the power of the music is unbeatable'], ['album', 'great', 1, 'the album has great guitar riffs'], ['solo', 'on', 1, 'The solo is really on the classic lose style and sounds like something that Ace Frehley of KISS of Mick Mars of Motley Crue would play'], ['favorite', 'instrumental', 1, 'My personal favorite instrumental is \"Siberian Sleigh Ride\\n']]\n",
            "['christmas']\n",
            "A2UGVZFKH8O5X4 B000002UUH\n",
            "['john', 'lennon']\n",
            "A3464G00K8ZYD1 B000001F43\n",
            "['rainbow', 'ken', 'heavy', 'tracks', 'david', 'album', '1972', 'hitting', 'sensitive', 'hard', 'acoustic', 'side', 'like', 'traveler']\n",
            "A3464G00K8ZYD1 B000002GKT\n",
            "['pie', 'fillmore']\n",
            "A3464G00K8ZYD1 B0000032VG\n",
            "[['collection', 'great', 1, \"Firefall's GREATEST HITS is a great collection of a 70s country-rock band that really was so much more than its two biggest hits\"], ['rock', 'hard', -1, \"as much of the band's material showed that they could rock as hard as\\n\"]]\n",
            "['goodbye', 'sound', 'hits', 'way', 'strange']\n",
            "A3464G00K8ZYD1 B00LU8QCBM\n",
            "['live']\n",
            "A3464G00K8ZYD1 B000002570\n",
            "[['albums', 'next', 1, 'His new style was obvious on his next few albums'], ['albums', 'finest', 1, 'is one of the finest albums Dan Fogelberg ever recorded'], ['release', 'in', 1, 'Had NETHERLANDS been released in the early 80s\\n']]\n",
            "['netherlands']\n",
            "A1OKMIT8B373YD B00014TQ7S\n",
            "[['rockin', 'good', 1, 'It is really good and rocking\\n']]\n",
            "['ferdinand', 'franz']\n",
            "A1OKMIT8B373YD B0000029F8\n",
            "['jar', 'alice', 'chains', 'flies']\n",
            "A1OKMIT8B373YD B000002JNN\n",
            "['audio']\n",
            "A1OKMIT8B373YD B000005HN9\n",
            "[['metal', 'black', 1, 'I picked this one up noting that they are a highly respected black metal norweigen type band'], ['album', 'real', 1, \"it's a really good album\"], ['album', 'good', 1, \"it's a really good album\"], ['metal', 'black', -1, 'You have this super harcore black metal poudning drums'], ['guitars', 'crazy', -1, 'blazing guitars crazy ass screaming\\n']]\n",
            "['dusk', 'anthems', 'welkin']\n",
            "A1OKMIT8B373YD B0000CAXVR\n",
            "[['album', 'pop', 1, 'pop this album in'], ['album', 'on', 1, 'The best part of this album (on Disc two) and on disc one of the one disc version is the Gettysburg Trillogy\\n']]\n",
            "['glorious']\n",
            "ALD1CRUBY1365 B000002J1S\n",
            "[['classic', 'in', 1, 'Prog is often identified by (and condemned) for its classical influences\\n']]\n",
            "['broadway', 'peter', 'lies', 'lamb', 'band', 'extended', 'steve', 'epic']\n",
            "ALD1CRUBY1365 B000002IG4\n",
            "[['video', 'on', 1, 'My daughter had just seen the video on MTV of this album\\'s version of \"You Can\\'t Hurry Love\"'], ['drummer', 'in', 1, 'the drummer in my bar band was lobbying to do a medley of the angry \"I Don\\'t Care Anymore\" and the plaintive \"I Cannot Believe It\\'s True\" just like they appear here--just so he could insert the same single-measure \"drum soloette\" between the songs'], ['song', 'lone', -1, 'a loneliness song from the POV of a peeping tom'], ['performances', 'old', -1, 'Just like old performances of the Supremes with Flo and Mary flanking Diana\\n']]\n",
            "['going']\n",
            "ALD1CRUBY1365 B000ZK0CKI\n",
            "['moment']\n",
            "ALD1CRUBY1365 B002CGS00C\n",
            "['best']\n",
            "ALD1CRUBY1365 B000062XFH\n",
            "['vegas', 'las', 'live']\n",
            "A10872FHIJAKKD B0018CVR1A\n",
            "['live', 'carnegie', 'hall']\n",
            "A10872FHIJAKKD B000002GF8\n",
            "['synchronicity']\n",
            "A10872FHIJAKKD B000002JS2\n",
            "['deeds', 'done']\n",
            "A10872FHIJAKKD B000SNUMC0\n",
            "[['recording', 'crisp', 1, 'The recording is crisp and multi-layered'], ['music', 'great', 1, 'that stands alone as truly great music'], ['music', 'live', 1, \"But I think it's Jon Schaffer who deserves high marks for crafting music that lives and breathes\"], ['sounds', 'different', 1, 'Even his guitar tone sounds different'], ['songwriter', 'in', 1, \"I'm hearing a mature songwriter who has just created an album that spotlights the talents of everyone involved\"], ['album', 'in', 1, \"I'm hearing a mature songwriter who has just created an album that spotlights the talents of everyone involved\"], ['tracks', 'especial', 1, 'But so are many of the other tracks -- especially \"The Domino Decree'], ['vocals', 'on', 1, \"Whereas in the past I thought Tim's vocals seemed tacked on\"], ['talents', 'in', 1, \"I'm hearing a mature songwriter who has just created an album that spotlights the talents of everyone involved\\n\"]]\n",
            "['something', 'armageddon', 'guardian', 'framing', 'wicked', 'earth', 'overture']\n",
            "A10872FHIJAKKD B000I8ON6Q\n",
            "[['song', 'beautiful', 1, \"It's just a beautiful song\"], ['song', 'on', 1, '\" But I can leave that song on repeat literally all day long'], ['vocals', 'powerful', 1, 'powerful vocals'], ['guitar playing', 'powerful', 1, 'What I love about Sym-X is their ability to seamlessly blend classical/bombastic musical interludes with truly inspired metal guitar playing and powerful vocals'], ['guitar playing', 'vocal', 1, 'What I love about Sym-X is their ability to seamlessly blend classical/bombastic musical interludes with truly inspired metal guitar playing and powerful vocals'], ['musicians', 'talented', 1, \"Once you hear these supremely talented musicians you'll want to get everything in their catalog\"], ['musicians', 'creative', 1, 'highly creative musicians who never fail to astound me'], ['trademark', 'powerful', 1, \"pretty piano intro that gives way to gentle acoustic guitar and Allen's trademark powerful\"], ['nothin', 'less', 1, 'And the chorus is nothing less than chilling'], ['metal band', 'progressive', 1, \"there isn't a finer progressive metal band in the U\"], ['riffs', 'on', 1, 'The riffs on Paradise Lost are bone-crushing\\n']]\n",
            "['paradise']\n",
            "A3LYLRNW15DPU6 B000008G9R\n",
            "['guilty', 'pleasures']\n",
            "A3LYLRNW15DPU6 B0000YWHOI\n",
            "[['release', 'on', 1, '\" which was released on DVD here a couple of years ago'], ['videos', 'live', 1, 'there\\'s also a couple of hours worth of \"the making of\" various videos and live clips from shows around the world'], ['videos', 'various', -1, \"I'd heard about the various videos\"], ['video', 'live', -1, 'nor does it contain a live video of the infamous stage working of \"Buck Dich\" that got Till and Flake Lorenz arrested a few years ago\\n']]\n",
            "['lichtspielhaus']\n",
            "A3LYLRNW15DPU6 B0000DZDYN\n",
            "[['career', 'in', 1, '\"The Singles\" is a very good overlook at the career of a band that very few thought would have any longevity in pop music'], ['cover', 'great', 1, 'I will give them major credit for the great cover of Talk Talk\\'s \"It\\'s My Life'], ['band', 'in', 1, '\"The Singles\" is a very good overlook at the career of a band that very few thought would have any longevity in pop music'], ['tunes', 'pop', 1, 'Bright poppy tunes with bright poppy vocals\\n']]\n",
            "['1992', 'singles', '2003']\n",
            "A3LYLRNW15DPU6 B001U7FWMI\n",
            "['veckatimest']\n",
            "A3LYLRNW15DPU6 B000E1ZBHM\n",
            "[['recordings', 'recent', 1, 'Much better than their recent recordings'], ['sound', 'great', 1, '\"mindcrime II\" will probably sound great to you if you\\'re a fan of progressive metal'], ['sounds', 'excellent', 1, 'sounds excellent'], ['album', 'good', 1, 'I believed their last good album was 1994\\'s \"Promised Land\"'], ['album', 'last', 1, 'I believed their last good album was 1994\\'s \"Promised Land\"\\n']]\n",
            "['mindcrime']\n",
            "A3P81N48BDEYVK B00000BKDS\n",
            "[['instruments', 'in', 1, 'Each of the instruments are played incredibly well and the vocals are catchy'], ['song', 'last', 1, 'The last song'], ['guitars', 'fast', 1, 'The song is excellent with fast guitars and a well played rhythm'], ['guitars', 'great', 1, 'The vocals are great and the guitars are superb'], ['songs', 'wonderful', 1, 'Guitarist Dave Murray and Dennis Stratton deliver the songs wonderfully with the usual power chords and harmonic leads'], ['track', 'amazing', 1, 'the the overbearing presence of the bass midway through the track is amazing and the drumming is excellent'], ['power chords', 'harmonic', 1, 'Guitarist Dave Murray and Dennis Stratton deliver the songs wonderfully with the usual power chords and harmonic leads'], ['album', 'great', 1, 'The album begins with Prowler which is a really catchy song with some great guitar'], ['album', 'great', 1, 'this album is a classic and a great start for the band'], ['guitar', 'instrumental', 1, 'guitar driven instrumental'], ['guitar', 'driven', 1, 'more guitar driven track'], ['guitar', 'driven', 1, 'guitar driven instrumental'], ['edge', 'on', -1, 'This album has a raw edge that is not seen on their later releases (maybe No Prayer For The Dying) and that makes it all the more better'], ['song', 'awesome', -1, 'Running Free is another awesome song because of the feel of the song'], ['song', 'great', -1, \"Di'Anno's vocals are great on this song and Burr's drumming is wonderful\"], ['album', 'on', -1, 'This album has a raw edge that is not seen on their later releases (maybe No Prayer For The Dying) and that makes it all the more better'], ['playing', 'simple', -1, 'playing simple\\n'], ['instruments', 'in', 1, 'Each of the instruments are played incredibly well and the vocals are catchy'], ['song', 'last', 1, 'The last song'], ['guitars', 'fast', 1, 'The song is excellent with fast guitars and a well played rhythm'], ['guitars', 'great', 1, 'The vocals are great and the guitars are superb'], ['songs', 'wonderful', 1, 'Guitarist Dave Murray and Dennis Stratton deliver the songs wonderfully with the usual power chords and harmonic leads'], ['track', 'amazing', 1, 'the the overbearing presence of the bass midway through the track is amazing and the drumming is excellent'], ['power chords', 'harmonic', 1, 'Guitarist Dave Murray and Dennis Stratton deliver the songs wonderfully with the usual power chords and harmonic leads'], ['album', 'great', 1, 'The album begins with Prowler which is a really catchy song with some great guitar'], ['album', 'great', 1, 'this album is a classic and a great start for the band'], ['guitar', 'instrumental', 1, 'guitar driven instrumental'], ['guitar', 'driven', 1, 'more guitar driven track'], ['guitar', 'driven', 1, 'guitar driven instrumental'], ['edge', 'on', -1, 'This album has a raw edge that is not seen on their later releases (maybe No Prayer For The Dying) and that makes it all the more better'], ['song', 'awesome', -1, 'Running Free is another awesome song because of the feel of the song'], ['song', 'great', -1, \"Di'Anno's vocals are great on this song and Burr's drumming is wonderful\"], ['album', 'on', -1, 'This album has a raw edge that is not seen on their later releases (maybe No Prayer For The Dying) and that makes it all the more better'], ['playing', 'simple', -1, 'playing simple\\n']]\n",
            "['metal', 'maiden', 'track', 'title', 'iron', 'immediately', 'production', 'closing', 'punk', 'lead']\n",
            "A3P81N48BDEYVK B000063CP6\n",
            "[['release', 'in', 1, 'released in 1982'], ['instruments', 'in', 1, 'All the instruments come in hard and play the perfect riffs and beats'], ['song', 'in', 1, 'probably their most popular song in the history of the band'], ['song', 'wonderful', 1, 'This song is wonderful and just shows what makes Iron Maiden so great and innovative'], ['song', 'great', 1, 'Total Eclipse is great song'], ['song', 'heavy', 1, 'The Prisoner is a pretty heavy song'], ['albums', 'on', 1, 'Out of the three albums he was on'], ['guitars', 'pretty', 1, 'The guitars are pretty heavy and the bass is good'], ['guitars', 'slow', 1, 'The verses are filled with heavy guitars and a slow rhythm before breaking to the extremely catchy chorus'], ['guitars', 'slow', 1, 'The song starts off with slow guitars and bass and erupts into an all-out distorted song'], ['classic', 'po', 1, 'The guitar is classic Maiden power-chord progression and the rhythm is nice and tight'], ['playing', 'in', 1, 'playing in line with the solid drum beats'], ['album', 'third', 1, 'On their third album'], ['guitar', 'cool', 1, 'The drumming here is very cool and the guitar is really nice'], ['albums', 'best', -1, 'Proclaimed as one of their best albums'], ['track', 'worst', -1, 'Gangland is considered the worst track here but I really like it'], ['song', 'pretty', -1, 'The Prisoner is a pretty heavy song'], ['song', 'one', -1, 'This song is another one of the Maiden song that has basically everything\\n']]\n",
            "['number', 'enhanced', 'beast']\n",
            "A3P81N48BDEYVK B00000254C\n",
            "[['music', 'back', 1, 'solid and consistant beats that give the music a nice background and soft rhythm'], ['music', 'in', 1, \"Have A Cigar is basically about the music industry and Waters' feelings toward it\"], ['drums', 'on', 1, \"There aren't any drums on this song but in a way\"], ['notes', 'on', 1, 'grooving notes you can find on albums like Dark Side Of The Moon and The Wall'], ['rhythm', 'perfect', 1, 'providing the perfect rhythm to this spaced-out song'], ['release', 'in', 1, 'Wish You Were Here was released in 1975 and was met with strong sales and positive feedback'], ['song', 'only', 1, 'even if it is only one song'], ['song', 'awesome', 1, 'Quite an awesome song'], ['song', 'final', 1, 'The final song'], ['songs', 'on', 1, 'It is also the simplest of the songs found on this album'], ['songs', 'on', 1, 'Three of the songs on this album are dedicated to him'], ['bassist', 'primary', 1, 'Roger Waters leads the band as bassist and primary songwriter'], ['sales', 'positive', 1, 'Wish You Were Here was released in 1975 and was met with strong sales and positive feedback'], ['album', 'emotional', 1, 'A very nice ending to such an emotional album\\n']]\n",
            "['wish']\n",
            "A3P81N48BDEYVK B00000ADLF\n",
            "[['solo career', 'on', 1, 'Bruce Dickinson began a solo career on the strength of a song he recorded for a movie soundtrack'], ['instrumentation', 'perfect', 1, \"It starts a little slow and picks up with Dickinson's vocals flying high while the instrumentation hits home perfectly\"], ['guitarist', 'on', 1, 'Former Iron Maiden guitarist Adrian Smith also lends his services on this album but'], ['song', 'incredible', 1, 'Trumpets Of Jericho is a incredible song'], ['song', 'incredible', 1, 'An incredible song'], ['song', 'final', 1, 'The final song'], ['singing', 'in', 1, 'thick song with Dickinson singing in his signature wail'], ['vocals', 'powerful', 1, \"Dickinson's vocals are powerful and clear while Adrian and Roy play the perfect riffs\"], ['vocals', 'astounding', 1, 'the rhythm is solid and the vocals are astounding'], ['vocals', 'wonderful', 1, \"The guitar is beautiful and Dickinson's vocals are wonderful\"], ['vocals', 'great', 1, 'The vocals are great'], ['track', 'very', 1, 'A very mellow track for the most part'], ['track', 'mellow', 1, 'A very mellow track for the most part'], ['track', 'long', 1, 'is a long track which has a slower tempo with some great work from all members'], ['lyrics', 'incredible', 1, 'who contributes to the incredible lyrics found on this album'], ['lyrics', 'great', 1, \"Dickinson's sings great lyrics\"], ['album', 'in', 1, 'This album is an incredible work of metal'], ['album', 'in', 1, \"The album was a landmark in Dickinson's career and his best work yet\"], ['guitar', 'beautiful', 1, \"The guitar is beautiful and Dickinson's vocals are wonderful\"], ['guitar', 'great', 1, 'Starting with some great guitar'], ['hits', 'perfect', 1, \"It starts a little slow and picks up with Dickinson's vocals flying high while the instrumentation hits home perfectly\"], ['songs', 'best', 1, 'One of the best songs on the album'], ['songs', 'longer', 1, 'The Book Of Thel is one of the longer songs on the album and is an amazing song'], ['songs', 'faster', 1, 'One of the faster songs on the album'], ['tempo', 'on', -1, 'The Tower picks up with the tempo but not with the heaviness found on the first song'], ['guitar riffs', 'thick', -1, 'thick guitar riffs and great solos played to perfection'], ['vocals', 'center', -1, 'Dickinson\\'s \"Air Raid\" vocals take center stage and come through clear as a bell with precision and beauty\\n']]\n",
            "['chemical']\n",
            "A3P81N48BDEYVK B00000AFGM\n",
            "['good', 'self', 'wiederhorn', 'size']\n",
            "A16HM5IJDLDQOP B000ZPPS0W\n",
            "[['dvd', 'same', -1, \"I just saw the Blu Ray of this but because even though it's an excellent concert I couldn't understand why the second dvd had the same concert on it as a sort of rehearsal show (or so it seemed) I did notice a few drop outs that were seemingly fixed on the main disc when i went back to check it on the first dvd but it had been quite a while since I had seen them on that boxed dvd set that Jimmy Page metiulously handcrafted himself (the one just titled Led Zepplin\\n\"], ['dvd', 'same', -1, \"I just saw the Blu Ray of this but because even though it's an excellent concert I couldn't understand why the second dvd had the same concert on it as a sort of rehearsal show (or so it seemed) I did notice a few drop outs that were seemingly fixed on the main disc when i went back to check it on the first dvd but it had been quite a while since I had seen them on that boxed dvd set that Jimmy Page metiulously handcrafted himself (the one just titled Led Zepplin\\n\"]]\n",
            "['celebration', '1977', 'band', 'led', 'story', 'music', 'zeppelin', 'day', 'inside']\n",
            "A16HM5IJDLDQOP B00JXETVRC\n",
            "[['music', 'pre', -1, 'I want a copy of the 2 disc set that I read about in the music press that was told about by Rob Halford himself where they planned on a 2 dvd set of the Nostradamus album as a whole stand alone project\\n']]\n",
            "['heavy', 'career', 'stylistic', 'etc', 'album', 'painkiller', 'screaming', 'anniversary', 'march', 'along', 'guitar', 'albums', 'rob', 'leadoff', 'priest', 'metal', 'judas', 'single', 'richie', 'british', 'ahead', '40th', 'souls', 'steel', 'pedal']\n",
            "A16HM5IJDLDQOP B000063DM3\n",
            "['hammered']\n",
            "A16HM5IJDLDQOP B000GIWS7E\n",
            "['anniversary', 'live', 'world', 'orchestra', 'tour', 'theater', 'dream', 'octavarium', '20th', 'score']\n",
            "A16HM5IJDLDQOP B00000AFDW\n",
            "['enhanced', 'psycho']\n"
          ]
        }
      ]
    },
    {
      "cell_type": "code",
      "execution_count": null,
      "metadata": {
        "colab": {
          "base_uri": "https://localhost:8080/"
        },
        "id": "0P7lxMHC9Qk2",
        "outputId": "4861e0fe-3111-46df-e02d-4eb0efd1d3db"
      },
      "outputs": [
        {
          "output_type": "stream",
          "name": "stdout",
          "text": [
            "A1ZU55TM45Y2R8 B01BCWL472\n",
            "[['case', 'good', 1, 'but its a good case\\n']]\n",
            "['grade', 'edge', 'samsung', 'military', 'galaxy']\n",
            "A1ZU55TM45Y2R8 B01CEAYXFG\n",
            "[['product', 'decent', 1, 'ZeroTouch is a decent product that works in an interesting way\\n']]\n",
            "['voice', 'amazon', 'car', 'mount', 'free', 'zerotouch', 'hands', 'phones', 'android', 'logitech']\n",
            "A1ZU55TM45Y2R8 B01BCWL4AY\n",
            "[['case', 'good', 1, 'She got the gold color so she wants to show it off and this case adds good protection while still allowing the phone to be seen'], ['case', 'good', 1, 'She got the gold color so she wants to show it off and this case adds good protection while still allowing the phone to be seen\\n']]\n",
            "['samsung', 'galaxy']\n",
            "A1ZU55TM45Y2R8 B00P2SC6BQ\n",
            "['android', 'iphone', 'smartphones']\n",
            "A1ZU55TM45Y2R8 B00Z7RMAMC\n",
            "[['protection', 'great', 1, 'It goes on and off easily but provides great protection from dropping and even protects the screen thanks to the magnetic cover'], ['protection', 'great', 1, 'It goes on and off easily but provides great protection from dropping and even protects '], ['case', 'great', 1, \"Overall it's a great case and I do like it\\n\"]]\n",
            "['samsung', 'galaxy']\n",
            "A12DQZKRKTNF5E B00LS08VMK\n",
            "['distortion', '6s', 'ios', 'isolation', 'design', 'earphones', 'free', 'response', 'pair', 'jeune', 'control', 'android', 'works', 'noise', 'etre', 'innovative', 'optimized', 'delivers', 'microphone', 'mic', 'volume', 'acoustic', '5mm', 'built']\n",
            "A12DQZKRKTNF5E B00KTZKRP4\n",
            "['carrying', 'sanoxy', 'samsung', 'blackberry', 'universal', 'access', 'easily', 'saving', 'features', 'motorola', 'lg', 'micro', 'laptop', 'usb', 'provides', 'black', 'data', 'palm', 'adapter', 'advantage', 'nokia']\n",
            "A12DQZKRKTNF5E B00BW0XZO0\n",
            "['battery', 'samsung', 'manufacturer', 'outlet', '2600mah', 'charges', 'included', 'discontinued', 'compact', 'wall', 'case', 'usb', 'also', 'seconds', 'charging', 'using', 'adapter', '700mah', 'travel', 'galaxy']\n",
            "A12DQZKRKTNF5E B00XEGT31O\n",
            "['apple', 'white']\n",
            "A12DQZKRKTNF5E B00974L1T4\n",
            "['5s']\n",
            "A33WFRICMYRPT6 B00C96CGXM\n",
            "['carrier', 'case', 'samsung', 'series', 'manufacturer', 'packaging', 'otterbox', 'navy', 'commuter', 'gunmetal', 'galaxy']\n",
            "A33WFRICMYRPT6 B01B3J7H5W\n",
            "[['cost', 'low', 1, '(at a significantly lower cost'], ['protection', 'similar', 1, 'This case seems to offer a level of protection similar to the Otterbox Symmetry series (see'], ['case', 'similar', 1, 'This case seems to offer a level of protection similar to the Otterbox Symmetry series (see\\n']]\n",
            "['case', 'composite', 'uag', 'light', 'lg', 'feather', 'military', 'cobalt']\n",
            "A33WFRICMYRPT6 B00Z7S3YEY\n",
            "[['protection', 'great', 1, 'They offer great protection at various levels'], ['case', 'very', 1, 'The case fits very nicely on the G5 (even with the additional glass screen protector installed)\\n']]\n",
            "['case', 'series', 'symmetry']\n",
            "A33WFRICMYRPT6 B00Z7SHD96\n",
            "['case', 'symmetry', 'retail', 'series', 'packaging', 'black', 'microsoft']\n",
            "A33WFRICMYRPT6 B00TYTDO88\n",
            "['liberty', 'samsung', 'purple', 'galaxy']\n",
            "A1F7YU6O5RU432 B00CRZXS82\n",
            "['protective', 'leapfrog', 'learning', 'ultimate', 'helps', '4s', '4g', 'iphone', 'case', 'creativity', 'modes', 'works', 'app', 'ipod', 'work', 'teaches', 'camera', 'includes', 'touch', 'green', 'reinforces']\n",
            "A1F7YU6O5RU432 B00Z7RK9OS\n",
            "[['looks', 'good', 1, 'Even the Otterbox logo on the side of the case looks good'], ['case', 'good', 1, 'Even the Otterbox logo on the side of the case looks good\\n']]\n",
            "['case', 'life', '6s', 'entire', 'glass', 'retail', 'only', 'limited', 'strada', 'series', 'otterbox', 'packaging', 'edition', 'leather', 'alpha', 'onyx', 'iphone', 'lifetime']\n",
            "A1F7YU6O5RU432 B00Z7RQ0NC\n",
            "[['case', 'pretty', 1, 'Love the looks of it and when the sun catches the silver flecks on the case its so pretty'], ['case', 'clear', 1, 'The case is clear so whatever color your iPhone is youll be able to see it a bit through the sparkles'], ['photos', 'online', -1, 'What might be hard to tell initially from the online photos is this case has a bunch of gorgeous sparkles inside the clear plastic\\n']]\n",
            "['polka', 'only', 'dot', 'night', 'date', 'iphone', 'lifetime', 'white']\n",
            "A1F7YU6O5RU432 B00GMR99LQ\n",
            "['kyasi', 'iphone', '5c', '5s']\n",
            "A1F7YU6O5RU432 B00N1X4D92\n",
            "['6s', 'pink', 'rose', 'whisper', 'series', 'packaging', 'iphone', 'neon', 'white']\n",
            "A3VVMIMMTYQV5F B004XZHY34\n",
            "['jabra', 'advanced', 'freeway', 'retail', 'bluetooth', 'time', 'reduction', 'provides', 'assist', 'car', 'in', 'sends', 'hours', 'speakerphone']\n",
            "A3VVMIMMTYQV5F B00U7YKO78\n",
            "[['plastic', 'back', 1, 'I have a Spigen case that has a clear plastic back'], ['charge', 'quick', 1, \"It charged so quick I didn't get the chance to really figure out when it topped off\"], ['phone', 'right', 1, 'I charged my phone right away to try it out'], ['case', 'clear', 1, 'I have a Spigen case that has a clear plastic back'], ['case', 'clear', 1, 'My Spigen case was a clear plastic'], ['lights', 'blue', 1, 'the blue lights will start blinking'], ['lights', 'blue', 1, 'it emits 2 deep blue tubular lights along the front side to let you know\\n']]\n",
            "['wireless', 'us', 'version', 'samsung', 'warranty', 'international', 'white']\n",
            "A3VVMIMMTYQV5F B0093CDLM0\n",
            "['description']\n",
            "A3VVMIMMTYQV5F B00HAYWLE2\n",
            "['speeds', 'provides', 'samsung', 'data', 'packaging', 'galaxy']\n",
            "A3VVMIMMTYQV5F B00MHV8TZ8\n",
            "['apple']\n",
            "A680RUE1FDO8B B009A51Y1U\n",
            "['iphone', '5c', '5s']\n",
            "A680RUE1FDO8B B01B3J7H5W\n",
            "['light', 'composite']\n",
            "A680RUE1FDO8B B00SLHWTN0\n",
            "['version', 'iphone', 'white']\n",
            "A680RUE1FDO8B B010MVJ6NS\n",
            "['life', '6s', 'edge', 'screen', 'easy', 'iphone']\n",
            "A680RUE1FDO8B B00BV96VDY\n",
            "['bubble', 'glass', 'yoyamo', 'provides', 'samsung', 'screen', 'ensures', 'galaxy']\n",
            "A1UQUDT2Q0YENM B00Z7RNO5E\n",
            "[['looks', 'great', 1, 'I got the red and I think it looks great'], ['looks', 'nice', 1, 'but still looks nice'], ['case', 'best', 1, \"I think it's the best Edge case I've seen yet\"], ['phone', 'bulky', -1, 'it makes the phone more bulky\\n']]\n",
            "['edge', 'samsung', 'phantom', 'leather', 'galaxy']\n",
            "A1UQUDT2Q0YENM B00CRZXS82\n",
            "['creativity', 'touch', '4s', 'helps', 'works', 'includes', 'app', '4g', 'ipod', 'leapfrog', 'green', 'iphone', 'teaches', 'camera']\n",
            "A1UQUDT2Q0YENM B00T3CJMLO\n",
            "['google', 'sony', 'samsung', 'charge', 'motorola', 'data', 'android', 'feet', 'nylon', 'smartphone', 'universal', 'micro', 'lightning', 'fenix', 'reduces']\n",
            "A1UQUDT2Q0YENM B007C5S3AU\n",
            "['packaging', '5mm']\n",
            "A1UQUDT2Q0YENM B00CXN0YAS\n",
            "['year', 'copyright']\n",
            "A2503LT8PZIHAD B00AD5KK7K\n",
            "['life', 'battery', '5s', 'pack', 'mophie', '5se', 'provides', 'status', 'warranty', '500mah', 'helium', 'amp', 'juice', 'hours', 'iphone']\n",
            "A2503LT8PZIHAD B00Z7S0OTW\n",
            "['bubblegum']\n",
            "A2503LT8PZIHAD B00Z7RJ0Y8\n",
            "[['phone', 'protective', 1, 'It is extremely protective of the phone'], ['case', 'nice', 1, 'This case has a nice rich color\\n']]\n",
            "['dark', '6s', 'brown', 'apple', 'iphone']\n",
            "A2503LT8PZIHAD B0151E6U3K\n",
            "['military']\n",
            "A2503LT8PZIHAD B01E4T6Y2A\n",
            "[['case', 'real', 1, 'This is a really clever case and platform for VR\\n']]\n",
            "['virtual', 'products', 'samsung', 'reality', 'speck']\n",
            "A1TJ60Y7ZBO4EK B009WO3H3M\n",
            "['app', 'glow', 'smartphone', 'findables', 'iphone']\n",
            "A1TJ60Y7ZBO4EK B0069Y1YT2\n",
            "[['iphone', 'good', 1, 'fits better on the 4s because the button is more centered on the actually button and you can hear a realistic click as on iphone 4 its good but not on the lower volume button'], ['iphone', 'good', 1, 'good case for iphone 4 and 4s'], ['fits', 'better', 1, 'fits better on the 4s because the button is more centered on the actually button and you can hear a realistic click as on iphone 4 its good but not on the lower volume button'], ['case', 'good', 1, 'good case for iphone 4 and 4s\\n']]\n",
            "['bumper', '4s', 'premium', 'apple', 'iphone']\n",
            "A1TJ60Y7ZBO4EK B00Z7RT4J4\n",
            "['packaging', 'version']\n",
            "A1TJ60Y7ZBO4EK B0092KJ9BU\n",
            "['smartphones', 'bluetooth', 'packaging', 'android', 'iphone']\n",
            "A1TJ60Y7ZBO4EK B006G8ILJC\n",
            "[['looks', 'good', 1, 'looks good on my phone and fits perfect for iPhone 4 not broken when received and looks nice on my phone'], ['phone', 'perfect', 1, 'looks good on my phone and fits perfect for iPhone 4 not broken when received and looks nice on my phone'], ['fits', 'perfect', 1, 'looks good on my phone and fits perfect for iPhone 4 not broken when received and looks nice on my phone\\n']]\n",
            "['iphone', '4s', 'apple']\n",
            "ANGGNFE8DXGYC B00AD5KDQ8\n",
            "[['fit', 'good', 1, 'good fit'], ['color', 'nice', 1, 'nice color\\n']]\n",
            "['life', 'se', '5s', 'mophie', 'juice', 'iphone']\n",
            "ANGGNFE8DXGYC B015DPJ746\n",
            "[['plastic', 'thin', 1, 'replacing thin plastic covers'], ['looks', 'good', 1, 'looks good\\n']]\n",
            "['iphone', '6s', 'screen', 'inch']\n",
            "ANGGNFE8DXGYC B00NN94UJW\n",
            "['iphone', 'apple']\n",
            "ANGGNFE8DXGYC B00VKSJUFM\n",
            "['touch', 'screen', 'clear', 'accurate', 'galaxy']\n",
            "ANGGNFE8DXGYC B00XM0UVOA\n",
            "['6s', '5s', 'feet', 'iphone', 'galaxy']\n",
            "AFHYEO3Y1IIDD B00TRG8KGY\n",
            "[['phone', 'little', 1, 'gives your phone a little something to hold on to and protects your phone too\\n']]\n",
            "['case', 'edge', 'composite', 'uag', 'drop', 'phone', 'light', 'samsung', 'screen', 'inch', 'ash', 'feather', 'military', 's6', 'galaxy']\n",
            "AFHYEO3Y1IIDD B00INH5FAC\n",
            "['samsung', 'galaxy']\n",
            "AFHYEO3Y1IIDD B0082YVBTA\n",
            "['qi', 'doesn', 'devices', 'provides', 'hub', 'duracell', 'black', 'powermat', 'pma', 'iphone', 'compatible']\n",
            "AFHYEO3Y1IIDD B00N28ARN2\n",
            "['packaging', 'version', 'retail', 'otterbox']\n",
            "AFHYEO3Y1IIDD B00IZ1XJ3Q\n",
            "[['screen', 'clear', 1, 'has a gorgeous screen that is clear and crisp'], ['phone', 'fast', 1, 'fast phone powerful phone that you can either plug-n-play ir personalize to your  hearts content \\n']]\n",
            "['os', 'white']\n",
            "ABDR6IJ93HFIO B00Z24FTR8\n",
            "['iphones', 'power', 'electronics', 'basic', 'battery', 'ultra', 'cell', 'phone', 'usb', 'pocket', 'kolumb', 'charger', 'one', 'android', '5000mah', 'iphone', 'portable', 'white']\n",
            "ABDR6IJ93HFIO B00GJFGE3W\n",
            "['6s', '7plus', '5s', '5se', 'port', 'usb', '5c', 'car', '8plus', 'iphone', 'xs', 'xr']\n",
            "ABDR6IJ93HFIO B009P16FKY\n",
            "[['phone', 'older', 1, 'She had a micro Sim in her older phone and needed a Nano Sim for her new phone\\n']]\n",
            "['nano', 'micro', 'cellphones']\n",
            "ABDR6IJ93HFIO B00K4VQZCM\n",
            "['5s', 'charging', 'anker', 'iphone', 'xs']\n",
            "ABDR6IJ93HFIO B00HUIL310\n",
            "['smartphone']\n",
            "A2D1LPEUCTNT8X B00DY9WN8G\n",
            "[['charging', 'current', 1, 'In addition to the current monitor I also used a 10 minute charging test which is less abstract than the measurements of current and voltage'], ['charging', 'mobile', 1, 'The 10 minutes test consists of charging each mobile device on each port of the battery pack for 10 minutes and measure how much each unit was charge in that 10 minute period'], ['voltage', 'current', 1, 'The amount of energy transferred from the charger to the device is calculated by multiplying voltage and current'], ['voltage', 'higher', 1, 'If the voltage is higher it can damage a device and I will report higher than expected voltage if I see it'], ['batteries', 'similar', -1, 'and measured up well against batteries of similar size and capacity\\n']]\n",
            "['power', 'battery', 'smartphones', '0a', 'arctic', 'charger', 'compact']\n",
            "A2D1LPEUCTNT8X B00D6KQ3XE\n",
            "[['charge', 'able', 1, 'I was able charge my phone with 3800mAh extended battery from low levels to full once\\n']]\n",
            "['charger', 'phone', 'power', '5200mah']\n",
            "A2D1LPEUCTNT8X B00ITILPZ4\n",
            "[['charge', 'able', 1, 'I was able charge my phone with 3800mAh extended battery from low levels to full twice'], ['capacity', 'big', 1, 'big capacity in a compact charging package and quick charging to boot'], ['charging indicator', 'next', 1, 'The battery has small white LED light charging indicator next to the on/off button'], ['lights', 'steady', 1, 'Charge level is indicated by blinking and steady lights\\n']]\n",
            "['power', 'speed', 'tablet', '4a', 'poweradd', 'charge', 'samsung', '2gs', 'phones', 'ipad', 'charger', 'iphone', 'portable', 'mobile']\n",
            "A2D1LPEUCTNT8X B00CQAODG4\n",
            "['nokia', 'white']\n",
            "A2D1LPEUCTNT8X B0194WDVHI\n",
            "['speed', 'batteries', 'charging', 'high', 'iphone']\n",
            "AVPNQUVZWMDSX B00OBSPWD2\n",
            "[['price', 'low', 1, 'low price\\n']]\n",
            "['pvc', 'generation', '5s', '5c', 'mini2', 'ipod', 'air', '4th', '5th', 'ipad', 'iphone', 'mini']\n",
            "AVPNQUVZWMDSX B00PRXHCPQ\n",
            "['case', 'battery', 'extended', 'anker', 'premium']\n",
            "AVPNQUVZWMDSX B00KNJJPSG\n",
            "['phone', 'dual', 'headphone', 'audio', 'amorral', 'compactible', 'listen', 'iphone', 'xs', 'xr']\n",
            "AVPNQUVZWMDSX B00JLVNF6A\n",
            "['smartphones', 'bluetooth', 'charging', 'manufacturer', 'android', 'iphone']\n",
            "AVPNQUVZWMDSX B00KIMX4EY\n",
            "[['adapter', 'lighter', 1, 'The Mpow Streambot is comprised of a long cigarette lighter adapter (about 3\") which also doubles as a USB power adapter'], ['feature', 'available', 1, \"The action button triggers the phone's vocal assistance feature if available\"], ['phone', 'available', 1, \"The action button triggers the phone's vocal assistance feature if available\\n\"]]\n",
            "['6s', '5s', 'port', 'usb', '5c', 'car', 'ipad', 'charger', 'iphone', 'dual']\n",
            "A32LX4XJ2LU740 B00PRXHCPQ\n",
            "['anker', 'battery', 'premium', 'extended']\n",
            "A32LX4XJ2LU740 B00KNJJPSG\n",
            "['run', 'dual', 'headphone', 'audio', 'iphone', 'amorral', 'compactible', 'charger', 'max', 'xs', 'xr']\n",
            "A32LX4XJ2LU740 B00JG9O2P0\n",
            "['electronics', 'manufacturer', 'packaging', '4g', 'cellular']\n",
            "A32LX4XJ2LU740 B00Z24FTR8\n",
            "['iphones', 'power', 'electronics', 'battery', 'ultra', 'cell', 'phone', 'usb', 'pocket', 'charger', 'android', 'iphone', 'portable']\n",
            "A32LX4XJ2LU740 B00GMR99LQ\n",
            "['iphone']\n",
            "A3RDS0DJ5EJGA7 B00DHEHC3E\n",
            "['battery', '6s', 's6', '4s', 's5', 's2', '6th', 'phones', 'android', 'iphone', 's4', 'generation', '5s', 'ipod', 'ipad', 'devices', '5c', 'apple', 'mobile', 'charger', 'galaxy']\n",
            "A3RDS0DJ5EJGA7 B00M30B4IW\n",
            "['poweriq', 'power', 'capacity', 'battery', 'ultra', '4a', 'astro', 'nintendo', 'high', 'charger', 'compact', 'iphone', 'portable']\n",
            "A3RDS0DJ5EJGA7 B005NF5NTK\n",
            "[['charge', 'full', 1, \"It's small and you can't expect it to give you a full charge\\n\"]]\n",
            "['power', 'smartphones', 'powercore', 'batteries', 'charger', 'android', 'iphone', 'xs', 'portable', 'xr']\n",
            "A3RDS0DJ5EJGA7 B014ZO46LK\n",
            "[['charger', 'real', -1, 'I decided to go for their flagship portable USB-C charger not realizing how big it is\\n']]\n",
            "['poweriq', 'capacity', 'battery', 'powercore', 'usb', 'macbooks', 'high', 'ipad', 'charger', 'iphone', 'portable']\n",
            "A3RDS0DJ5EJGA7 B00F0JCAJK\n",
            "['apple']\n",
            "A1UX3U22CLSPV8 B00GDQ6DG0\n",
            "['power', 'capacity', 'battery', 'rechargeable', 'samsung', 'external', 'high', '5600mah', 'iphone', 'portable', 'galaxy']\n",
            "A1UX3U22CLSPV8 B00E4S3038\n",
            "['16', '6s', 'google', 'devices', 'samsung', 'warranty', 'inch', '10', 'trademark', 'iphone', 'arm', 'cellphone']\n",
            "A1UX3U22CLSPV8 B00GBFQX22\n",
            "['battery', '5s', 'series', 'apple', 'models', 'iphone']\n",
            "A1UX3U22CLSPV8 B01B1V3QOS\n",
            "['screen', 'edge', 'composite', 'inch']\n",
            "A1UX3U22CLSPV8 B00Q873I3K\n",
            "['ultra', 'usb', '4a', 'samsung', 'iphone', 'ipad', 'charger', 'wall', 'aukey', 'compact']\n",
            "A1LA4K5JF78BER B00Z7RURS6\n",
            "[['protection', 'best', 1, 'but if you want some of the best protection there is little out there that is better\\n']]\n",
            "['case', 'winsome', 'nebula', 'defender', 'otterbox', 'night', 'orchid', 'purple', 'iphone', 'plus']\n",
            "A1LA4K5JF78BER B00Z7RQ0NC\n",
            "[['case', 'good', 1, 'The case provides a good level of protection and at the same time looks very good'], ['buttons', 'easy', 1, 'I find the buttons to be easy to press and responsive\\n'], ['screen', 'protected', 1, 'I still like to keep the screen protected so with this case I would still add a protector'], ['protection', 'good', 1, 'I love the Symmetry Series for being a sleek design yet with good protection and not as bulky as the Commuter and Defender Series'], ['colors', 'bright', 1, 'The new brightly themed colors are vibrant and eye catching'], ['grip', 'decent', 1, 'The sides give decent grip too'], ['buttons', 'easy', 1, 'yet the buttons are easy to press\\n']]\n",
            "['case', 'symmetry', 'polka', 'dot', 'otterbox', 'night', 'black', 'graphic', 'date', 'iphone', 'white']\n",
            "A1LA4K5JF78BER B00Z7SOUN8\n",
            "[['screen protector', 'less', 1, 'I am also finding the need for a built-in screen protector to be less as well'], ['case', 'last', 1, \"I've had a FRE case on my last 3 phone versions and still swear by them\"], ['case', 'back', 1, 'The back of the case also seems to amplify and resonant the sound too'], ['case', 'great', 1, 'I still think they are a great case option for many\\n']]\n",
            "['case', 'retail', 'packaging', 'bay', 'coral', 'amp', 'blue', 'iphone']\n",
            "A1LA4K5JF78BER B00Z7TXGC8\n",
            "[['screen protector', 'less', 1, 'I am also finding the need for a built-in screen protector to be less as well'], ['case', 'last', 1, \"I've had a FRE case on my last 3 phone versions and still swear by them\"], ['case', 'back', 1, 'The back of the case also seems to amplify and resonant the sound too'], ['case', 'great', 1, 'I still think they are a great case option for many\\n']]\n",
            "['case', 'retail', 'lite', 'packaging', 'night', 'iphone', 'lime']\n",
            "A1LA4K5JF78BER B0093IHVKW\n",
            "['products', 'raspberry']\n",
            "A2ZY49IDE6TY5I B00SXFEAB4\n",
            "[['case', 'protective', 1, 'The thing that struck me after opening the box was how protective this case looked'], ['plastic', 'clear', 1, 'While its core is clear plastic\\n']]\n",
            "['case', 'samsung', 'military', 'galaxy']\n",
            "A2ZY49IDE6TY5I B011ERMDG6\n",
            "['case', 'edge', 'composite', 'light', 'feather', 'military']\n",
            "A2ZY49IDE6TY5I B01B1V3QNY\n",
            "['case', 'composite', 'feather', 'military']\n",
            "A2ZY49IDE6TY5I B00F8OYPUO\n",
            "['iphone', '5s']\n",
            "A2ZY49IDE6TY5I B00Z7SHCC4\n",
            "[['case', 'best', 1, 'This is the best iPhone case you will ever own\\n']]\n",
            "['packaging', 'case', 'retail']\n",
            "A1X1CEGHTHMBL1 B00D6KQ3XE\n",
            "['charger', 'phone', 'power', 'tube']\n",
            "A1X1CEGHTHMBL1 B00QFHZURK\n",
            "['24v', 'cell', 'phone', 'usb', 'dc12v', 'car', 'electronic', 'safe', 'cigarette', '5a', 'conveter', 'portable', 'opluz']\n",
            "A1X1CEGHTHMBL1 B00P7N0320\n",
            "[['charging capacity', 'available', 1, '70 * 5200 mAh = 3640 mAh charging capacity available for your electronic devices'], ['battery', 'perfect', 1, 'The perfect battery for your purse'], ['battery', 'several', 1, 'This was based upon the first full charge of the battery pack and the results should get better after the battery is charged several more times'], ['battery', 'full', 1, 'iPhone 5S unit one 74% - battery fully charged with 4 LEDs'], ['inches', 'long', 1, '* An USB to Micro USB charging cable that is 27 inches long'], ['charge', 'full', 1, '3% of a full charge'], ['charge', 'full', 1, '8% of a full charge'], ['devices', 'smart', 1, \"Android devices and Chinese smart devices have different circuitry in them and if the charger doesn't match their circuitry they can charge at a much slower rate\"], ['charging', 'current', 1, 'That means that you can plug in any type of device and this smart port will set the charging current to match the maximum charging rate that your device can safely handle'], ['phone', 'smaller', 1, 'That battery is ideal for recharging your smart phone or smaller smart tablet'], ['device', 'safe', 1, 'That means that you can plug in any type of device and this smart port will set the charging current to match the maximum charging rate that your device can safely handle'], ['device', 'charged', 1, 'The charging will stop automatically when your device is fully charged or the battery pack is depleted'], ['pocket', 'back', 1, 'pocket or backpack and it is one of the most portable batteries that I have tested'], ['charge', 'full', -1, 'As you can see the Anker 5200 mAh will not fully charge a totally dead iPad 3 or 4 because it contains only 5200 mAh of capacity'], ['battery', 'dead', -1, '* 120 minutes 97% battery dead\\n']]\n",
            "['power', 'battery', 'astro', 'charger', 'bar', 'anker', 'high', 'candy', 'compact', 'portable']\n",
            "A1X1CEGHTHMBL1 B00V4LPCQG\n",
            "['20mp', 'gsm', '32gb', 'gunmetal', 'camera']\n",
            "A1X1CEGHTHMBL1 B00MNAWM92\n",
            "['battery', 'smartphones', 'phone', 'most', 'portable']\n",
            "A2I7IS0OXGGVPA B00M04ISF8\n",
            "['holder', 'cases', 'technology', 'swivel', 'smartphones', 'cell', 'phone', 'with', 'provides', 'easy', 'head', 'adjustable', 'makes', 'smartphone', 'ball', 'rotation', '360', 'compatible']\n",
            "A2I7IS0OXGGVPA B00DY9WN8G\n",
            "['power', 'battery', 'bank', 'smartphones', 'ultra', 'backup', '2200', 'charger', 'arctic', '0a', 'output', 'mp3', 'amp', '2200mah', 'compact', 'iphone']\n",
            "A2I7IS0OXGGVPA B00SXFEAB4\n",
            "[['case', 'great', 1, 'Always great case\\n']]\n",
            "['uag', 'phone', 'samsung', 'military', 's6', 'card', 'folio', 'galaxy']\n",
            "A2I7IS0OXGGVPA B00UNOB0FW\n",
            "['case', 'credit', 'ultimate', 'carrying', 'ultra', 'provides', 'samsung', 'cm4', 'silk', 'comfortably', 'protectivekickstand', 's6', 'gold', 'slim', 'card', 'galaxy']\n",
            "A2I7IS0OXGGVPA B01H1C9T6K\n",
            "['burst', 'delivering', 'battery', 'oem', 'motorola', 'data', 'charger', 'going', '15w', 'wall']\n",
            "A2BMZRO0H7TFCS B00BWG4TUI\n",
            "[['price', 'little', 1, 'even if it is a little pricey\\n']]\n",
            "['jabra', 'life', 'battery', 'intelligence', 'mono', 'retail', 'bluetooth', 'headset', 'automatically', 'mode', 'packaging', 'saving', 'motion']\n",
            "A2BMZRO0H7TFCS B00OBSPWD2\n",
            "['generation', '5s', 'inches', '7th', 'ipod', 'charges', 'years', 'ipad', '5th', 'iphone']\n",
            "A2BMZRO0H7TFCS B00NH12EHQ\n",
            "['amazon']\n",
            "A2BMZRO0H7TFCS B00IUQ41GA\n",
            "['touch', 'se', '5s', '5c', 'apple', 'iphone']\n",
            "A2BMZRO0H7TFCS B01H2RBQUG\n",
            "['bluetooth', 'wireless', 'plantronics', '5200']\n",
            "A1ZCSSCAGBCD49 B00NCJ4GP6\n",
            "['case', 'pink', 'light', 'version', 'waterproof', 'iphone']\n",
            "A1ZCSSCAGBCD49 B00XJK46Q2\n",
            "['leather', 'galaxy']\n",
            "A1ZCSSCAGBCD49 B00V9JSLW0\n",
            "['fit', 'inch', 'shell', 'iphone', 'slim']\n",
            "A1ZCSSCAGBCD49 B00JOB1IES\n",
            "[['case', 'very', 1, 'this LifeProof case is very rugged and it is also waterproof'], ['case', 'strong', 1, 'This is a nice strong case and while a little pricey seems well constructed and should last'], ['case', 'rugged', 1, 'If you are looking for a rugged case for your iPhone 5 series'], ['case', 'good', 1, \"It's a good case and is certainly worthy of consideration for your extreme adventures\"], ['case', 'waterproof', 1, 'A rugged waterproof case for your iPhone 5 series and SE\\n']]\n",
            "['lifeproof']\n",
            "A1ZCSSCAGBCD49 B00F4AYI2M\n",
            "['packaging']\n",
            "ARBKYIVNYWK3C B00KAFXJ4Y\n",
            "['power', 'times', 'battery', 'bank', '6s', 'samsung', 'half', '5000mah', 'compatible', 'mp4', 'lets', 'almost', 'cell', 'nexus', 'lg', 'compatibility', 'tg90', 'maximizes', 'mp3', 'android', 'iphone', 'enabling', 'sony', '5s', 'phone', 'time', 'ipod', 'takes', 'ipad', 'portable', 'maximized', 'speeds', 'players', 'apple', 'charger', 'external']\n",
            "ARBKYIVNYWK3C B004G1L52Q\n",
            "['phones', 'devices', 'cell']\n",
            "ARBKYIVNYWK3C B00CMVLH66\n",
            "['m7', '32gb', 'htc', 'one', 'cellphone']\n",
            "ARBKYIVNYWK3C B009ZJ3MSY\n",
            "['b235', 'headset', 'bluetooth', 'connectivity', 'plantronics']\n",
            "ARBKYIVNYWK3C B005BYSV7O\n",
            "['iphone', 'apple']\n",
            "A3CJ3DKELFXX59 B013TK80QI\n",
            "['grade', '6s', 'fit', 'apple', 'military', 'verus', 'iphone', 'slim']\n",
            "A3CJ3DKELFXX59 B00MOOFFY6\n",
            "[['case', 'different', 1, \"As you may know by now with all the different case manufacturer's\"], ['case', 'good', 1, 'Very good case\\n']]\n",
            "['6s', 'clear', 'unicorn', 'apple', 'iphone', 'plus']\n",
            "A3CJ3DKELFXX59 B00Z7SCR9C\n",
            "['packaging']\n",
            "A3CJ3DKELFXX59 B01BHCLFCG\n",
            "['grade', 'edge', 'military', 'galaxy']\n",
            "A3CJ3DKELFXX59 B00GBFQX22\n",
            "['battery', '5s', 'unu', 'series', 'aero']\n",
            "AN81JUYW2SL24 B00F7QKHFA\n",
            "['rates', 'com', '45', '1u', 'port', 'usb', 'data', 'connections', '12', 'cat5e', 'degree', 'startech', 'wall', 'supports', '110']\n",
            "AN81JUYW2SL24 B00BMCYYL6\n",
            "['true', 'wireless', 'touch', 'battery', 'ear', 'sports', 'cancelling', 'headphones', 'bluetooth', 'sound', 'control', 'earphones', '3d', 'hours', 'stereo']\n",
            "AN81JUYW2SL24 B00YAJOWQU\n",
            "['phones', 'lg']\n",
            "AN81JUYW2SL24 B0094CX3CM\n",
            "['iphone', '5s']\n",
            "AN81JUYW2SL24 B00Q873I3K\n",
            "['usb', '4a', 'samsung', 'iphone', 'ipad', 'wall', 'aukey']\n",
            "A10UHQH1YL5Q6B B00M8PRSWI\n",
            "['crystal', '6s', 'ultra', 'phone', 'champagne', 'protective', 'pureview']\n",
            "A10UHQH1YL5Q6B B009Z25H9S\n",
            "['case', 'max', 'cover', 'grip']\n",
            "A10UHQH1YL5Q6B B00RPUAUYE\n",
            "[['looks', 'nice', 1, 'The design actually looks nice but one thing you need to keep in mind\\n']]\n",
            "['case', 'absorbing', 'color', 'smokey', 'inch', 'panel', 'skin', 'cover', 'liquid']\n",
            "A10UHQH1YL5Q6B B01FT8AXAO\n",
            "['diamond']\n",
            "A10UHQH1YL5Q6B B00JH82WRK\n",
            "[['grip', 'good', 1, 'it has a good grip to it and most importantly of all\\n']]\n",
            "['case', 'cutout', '6s', 'matte', 'fit', 'hard', 'amp', 'iphone']\n",
            "AHUT55E980RDR B00Z7S6IY2\n",
            "['case', 'retail', 'lg', 'series', 'packaging', 'black', 'lifeproof', 'waterproof', 'g5']\n",
            "AHUT55E980RDR B00Z7S98VM\n",
            "[['protection', 'available', 1, \"It's a high quality case offering your Samsung the utmost protection available\\n\"]]\n",
            "['case', 'model', 'retail', 'light', 'samsung', 'series', 'sky', 'packaging', 'otterbox', 'teal', 'two', 'blue', 'aqua', 'galaxy']\n",
            "AHUT55E980RDR B00Z7TKWLG\n",
            "[['price', 'high', 1, 'It is rather high priced'], ['case', 'waterproof', 1, 'This is an adequate waterproof case\\n']]\n",
            "['riot', 'grape', 'haze', 'light', 'plum']\n",
            "AHUT55E980RDR B01DRV2BBY\n",
            "['seniors', 'greatcall']\n",
            "AHUT55E980RDR B01BM01J1U\n",
            "[['case', 'expensive', 1, 'You can spend lots more for an expensive looking case\\n']]\n",
            "['samsung', 'galaxy']\n",
            "A2S26YGSVXBCFL B00TRG8KGY\n",
            "[['edges', 'nice', 1, 'The case itself protects the edges nicely and the buttons are easily pressed'], ['protection', 'good', 1, 'If you are looking for good protection with minimal bulk'], ['case', 'very', 1, 'The case fits  very well and the bezel is high enough that it should protect the face a bit as well'], ['case', 'nice', 1, 'The case itself protects the edges nicely and the buttons are easily pressed'], ['case', 'thin', 1, 'and the fact that this is a relatively thin case makes me forgive these shortcomings a bit\\n']]\n",
            "['edge', 'composite', 'military']\n",
            "A2S26YGSVXBCFL B009Z25H9S\n",
            "['pink']\n",
            "A2S26YGSVXBCFL B00SXFEAB4\n",
            "[['case', 'thin', 1, 'Great thin case'], ['screen protector', 'great', 1, 'The screen protector is also great and a welcome part of the case to add that extra bit of protection that I need from possible scratches'], ['phone', 'trim', 1, 'This keeps your phone as trim as possible and still provides a very good amount of protection'], ['phone', 'good', 1, 'This keeps your phone as trim as possible and still provides a very good amount of protection\\n']]\n",
            "['galaxy', 'samsung', 'military', 'card']\n",
            "A2S26YGSVXBCFL B00UNOB0FW\n",
            "[['phone protection', 'good', 1, 'I get good phone protection plus a wallet that holds my license'], ['buttons', 'easy', 1, 'The buttons are easy to press and engage the phone well'], ['phones', 'own', 1, 'My kids have their own phones'], ['phone', 'left', -1, 'many of which left my phone getting so hot that I would get nervous\\n']]\n",
            "['case', 'samsung', 'galaxy']\n",
            "A2S26YGSVXBCFL B005SUHQ3Q\n",
            "['teal']\n",
            "A23GFTVIETX7DS B00NLKOUHU\n",
            "['6s', 'versions', 'screen', 'inch', 'iphone']\n",
            "A23GFTVIETX7DS B00KRKJ43W\n",
            "[['corners', 'thick', 1, 'I love that the corners are thick with rubberized material'], ['plastic', 'back', 1, 'Because the back is plastic'], ['case', 'protective', 1, 'This Verus Thor case combines a protective shell with a slim design'], ['case', 'right', 1, 'but my husband disliked the case right away for that'], ['plastic', 'that protects the', -1, 'The silver back is made of a rigid plastic that protects the iPhone 6 from bending'], ['case', 'different', -1, 'you might want to look at a different case\\n']]\n",
            "['6s', 'adapter', 'military', 'apple', 'verus', 'iphone']\n",
            "A23GFTVIETX7DS B00CXN0YAS\n",
            "['usa', 'ea', 'copyright', 'wholesale']\n",
            "A23GFTVIETX7DS B009AFPJ7K\n",
            "['iphone', '5g', 'apple']\n",
            "A23GFTVIETX7DS B00B7E1D7W\n",
            "['hdtv', 'automatic', 'switching', 'monitors', '1080p', 'function', 'audio', 'hd', 'roku', 'burkemany', 'computer', '4k']\n",
            "A22CW0ZHY3NJH8 B01DRV2BBY\n",
            "[['buttons', 'big', 1, 'The buttons are big and the sound is loud and clear'], ['phone', 'easy', 1, 'The phone is easy to use'], ['customer service', 'technical', -1, \"I would have bought any other dumb phone for my mom (don't like that extra-long wait time with customer service or technical support when there are problems) except I need the GPS capability for when she gets lost or when she loses her phone\\n\"]]\n",
            "['easy']\n",
            "A22CW0ZHY3NJH8 B016EOU294\n",
            "['bluetooth', 'headphone', 'microphone', 'earphones', 'ip', 'fourcase', 'earbuds', 'xs', 'xr']\n",
            "A22CW0ZHY3NJH8 B004MF3IA8\n",
            "['sim', 'unlimited']\n",
            "A22CW0ZHY3NJH8 B00E3SD8QI\n",
            "['sim', 'life', 'kaisi', 'technology', 'cell', 'phones', 'extends', 'offers']\n",
            "A22CW0ZHY3NJH8 B00IZ1XJ3Q\n",
            "[['brand', 'new', 1, 'Mine was brand new\\n']]\n",
            "['os', 'white']\n",
            "A3QNQQKJTL76H0 B00DQKQ7U8\n",
            "['ipevo', 'devices', 'usb', 'ipod', 'ipad', 'charger', 'supercharger', 'iphone']\n",
            "A3QNQQKJTL76H0 B00A0ABQLM\n",
            "['cable', '6s', 'wire', 'mfi', '5s', '5c', 'charging', 'data', 'compatible', 'iphone', 'charger', 'max', 'xs', 'xr']\n",
            "A3QNQQKJTL76H0 B00XQ0XOVI\n",
            "[['charge', 'overnight', 1, 'I usually charge iPads overnight (so charging time is really not much of a concern)'], ['charge', 'rapid', 1, 'which means it can rapid charge 4 smaller devices at once like phones'], ['nylon', 'braided', 1, \"I like nylon braided ones because they don't tangle\"], ['quality', 'very', 1, 'Build quality is very high and the materials feel good in hand\\n']]\n",
            "['power', 'speed', 'joto', 'devices', 'usb', 'ic', 'intelligent', 'high', 'apple', 'charger', 'wall', 'android', '25w']\n",
            "A3QNQQKJTL76H0 B00OZN4LYO\n",
            "[['cases', 'careful', 1, 'Some people like super slim cases (super careful users who never drop their phone'], ['smells', 'synthetic', 1, 'it smells synthetic'], ['phone', 'bottom', 1, 'and cups around the bottom of the phone slightly'], ['case', 'bad', 1, 'This is not a bad case'], ['case', 'slim', 1, \"which you shouldn't expect if you're in the market for a slim case\\n\"]]\n",
            "['1m', '6s', 'charging', 'apple', 'iphone', 'accessories']\n",
            "A3QNQQKJTL76H0 B00JLVNF6A\n",
            "['android', 'iphone', 'smartphones', 'manufacturer']\n",
            "A1I8OVYZX81JPA B00KB5IH54\n",
            "['sheer', 'grip', '5s']\n",
            "A1I8OVYZX81JPA B003XIBJKG\n",
            "['battery', 'ultrapower', 'apple', 'charger', 'iphone']\n",
            "A1I8OVYZX81JPA B01BCZBT56\n",
            "['grade', 'edge', 'military', 'galaxy']\n",
            "A1I8OVYZX81JPA B00GPAFLGW\n",
            "['iphone', 'screen', '4s', 'apple']\n",
            "A1I8OVYZX81JPA B00JG9O2P0\n",
            "[['product', 'good', 1, 'good product\\n']]\n",
            "['electronics']\n",
            "AHQRU3MRORIWQ B008PQAFTM\n",
            "['sojourn', 'battery', '1000', 'connector', 'time', 'mycharge', 'charges', 'apple', 'talk', 'hours', 'built']\n",
            "AHQRU3MRORIWQ B00CGY4JBY\n",
            "['power', 'battery', 'time', 'usb', 'mycharge', 'connectors', 'mah', 'hours']\n",
            "AHQRU3MRORIWQ B00TRG8KGY\n",
            "[['products', 'good', 1, \"I'm always on the lookout for good products for phones and this is one of those\\n\"]]\n",
            "['edge', 'uag', 'phone', 'screen', 'inch']\n",
            "AHQRU3MRORIWQ B001UC9NOQ\n",
            "['compatible']\n",
            "AHQRU3MRORIWQ B00XEGT31O\n",
            "['apple', 'white']\n",
            "AUBEFRFHJR64Y B00BQ2Y458\n",
            "['buttons', 'gray', 'knobs', 'manufacturer', 'material', 'control', 'transparent', 'durable', 'borders', 'customer', 'volume']\n",
            "AUBEFRFHJR64Y B004I6F3E0\n",
            "['roadster', 'products', 'smartphone']\n",
            "AUBEFRFHJR64Y B00I3E17RA\n",
            "['phone', 'gps', 'car', 'universal']\n",
            "AUBEFRFHJR64Y B00Z7RT4J4\n",
            "[['screen protector', 'plastic', 1, 'The built in screen protector plastic is not that great'], ['protection', 'good', 1, 'Very good protection for my Pixel XL\\n']]\n",
            "['version', 'google', 'retail']\n",
            "AUBEFRFHJR64Y B00Q651QBU\n",
            "['speed', 'connection', 'with', '5c', 'protects', '12', 'efficient', 'iphone']\n",
            "A3LDPF5FMB782Z B00CO3HCSY\n",
            "['phone', 'panavise', 'windshield']\n",
            "A3LDPF5FMB782Z B00G197Q4M\n",
            "['cell', 'phone', 'samsung', 'gsm', '32gb']\n",
            "A3LDPF5FMB782Z B00CTM5L0Q\n",
            "['edge', 'usb', 'colors', '10pcs', 'blackberry', 'colorful', '10']\n",
            "A3LDPF5FMB782Z B00J9Z0L5G\n",
            "['nokia', 'blackberry', '4s', 'portable']\n",
            "A3LDPF5FMB782Z B0098FKIIM\n",
            "[['case', 'very', 1, 'very slim case made from a thin layer of flexible rubber'], ['case', 'slim', 1, 'but it is also the lightest and slimmest case for the iPhone 5\\n']]\n",
            "['iphone']\n",
            "ACJT8MUC0LRF0 B00GBFQX22\n",
            "[['charging', 'ic', 1, 'The battery charging icon will come up on the screen'], ['feature', 'nice', 1, 'One of the nicest features of course is the Aero Wireless Technology'], ['battery case', 'rechargeable', 1, \"you're probably in the market for a rechargeable external battery case\\n\"]]\n",
            "['battery', 'iphone', 'apple']\n",
            "ACJT8MUC0LRF0 B00HZWJGS8\n",
            "[['screen', 'large', 1, '400~500% to large screen phones'], ['phones', 'large', 1, '400~500% to large screen phones'], ['output', 'less', 1, 'Note that significantly longer recharging time is expected if adapter output less than 1A)\\n']]\n",
            "['power', '15000mah', 'smartphones', 'usb', 'tablets', 'charger', 'portable', 'dual']\n",
            "ACJT8MUC0LRF0 B00PINR91M\n",
            "[['charge', 'enough', 1, 'The iClever will send out enough juice to charge it'], ['devices', 'simultaneous', 1, 'tablets or other USB-compatible devices simultaneously\\n']]\n",
            "['pro', 's6', 'xr', 's7', '12a', 'air', 'wall', 'iphone', 'xs', 'mini', 'usb', 's9', 's8', 'ipad', 'boostcube', 'edge', 'tablet', 'charging', 'charger', 'desktop', 'galaxy']\n",
            "ACJT8MUC0LRF0 B00LS08VMK\n",
            "['pair', 'android', 'etre', '6s']\n",
            "ACJT8MUC0LRF0 B00DG8NUC8\n",
            "['wireless', 'phone', 'phones', 'battery']\n",
            "A1P0JSFW184ZXJ B00Z7SVPHC\n",
            "[['shell', 'inner', 1, 'They have a tough inner shell which forms a frame around the device to protect from crushing impact'], ['rubber', 'outer', 1, 'which is then surrounded by a fairly thick rubber outer skin that acts as a fantastic shock absorber in the event of drops'], ['protection', 'available', 1, 'Best protection available'], ['case', 'waterproof', 1, 'If you need a great waterproof case\\n']]\n",
            "['case', 'symmetry', 'includes', 'simplicity', 'edge', 's7', 'samsung', 'construction', 'series', 'packaging', 'otterbox', 'frustration', 'free', 'black', 'style', 'galaxy']\n",
            "A1P0JSFW184ZXJ B00Z7SHD96\n",
            "[['shell', 'inner', 1, 'They have a tough inner shell which forms a frame around the device to protect from crushing impact'], ['rubber', 'outer', 1, 'which is then surrounded by a fairly thick rubber outer skin that acts as a fantastic shock absorber in the event of drops'], ['protection', 'available', 1, 'Best protection available'], ['case', 'waterproof', 1, 'If you need a great waterproof case\\n']]\n",
            "['sim', 'retail', 'protects', 'otterbox', 'easy', 'dual', 'symmetry', 'protection', 'lumia', 'safe', 'case', 'absorbing', 'series', 'packaging', 'black', 'keeps', '650', 'installation', 'microsoft']\n",
            "A1P0JSFW184ZXJ B00Z7SMIUU\n",
            "[['shell', 'inner', 1, 'They have a tough inner shell which forms a frame around the device to protect from crushing impact'], ['rubber', 'outer', 1, 'which is then surrounded by a fairly thick rubber outer skin that acts as a fantastic shock absorber in the event of drops'], ['protection', 'available', 1, 'Best protection available'], ['case', 'waterproof', 1, 'If you need a great waterproof case\\n']]\n",
            "['pink', 'samsung', 'otterbox', 'mauve', 'briefcase', 'bag', 'pack', 's7', 'fits', 'slim', 'case', 'merlot', 'series', 'bumps', 'two', 'commuter', 'purple', 'go', 'way', 'construction', 'galaxy']\n",
            "A1P0JSFW184ZXJ B00Z7TG15C\n",
            "[['shell', 'inner', 1, 'They have a tough inner shell which forms a frame around the device to protect from crushing impact'], ['rubber', 'outer', 1, 'which is then surrounded by a fairly thick rubber outer skin that acts as a fantastic shock absorber in the event of drops'], ['case', 'waterproof', 1, 'If you need a great waterproof case\\n']]\n",
            "['samsung', 'otterbox', 'flame', 'garnet', 'red', 's7', 'frustration', 'case', 'provides', 'series', 'packaging', 'two', 'entry', 'commuter', 'includes', 'life', 'edge', 'way', 'details', 'construction', 'galaxy']\n",
            "A1P0JSFW184ZXJ B00AD5KK7K\n",
            "['5se', 'pack', 'mophie', '5s', 'provides', '500mah', 'juice', 'iphone']\n",
            "A26SO3TOT2TLJE B00AD5KK7K\n",
            "['twice', 'battery', '5s', 'pack', 'mophie', '5se', 'provides', 'nearly', 'status', '500mah', 'charging', 'amp', 'juice', 'hours', 'iphone']\n",
            "A26SO3TOT2TLJE B00NH12EHQ\n",
            "['ipod', 'amazon']\n",
            "A26SO3TOT2TLJE B0069J0GWI\n",
            "['power', 'usb', 'belkin', 'prongs', 'use', 'charges', 'amps', '10', 'versatile']\n",
            "A26SO3TOT2TLJE B00Z7RQ0NC\n",
            "[['case', 'sturdy', 1, 'The Otterbox case feels sturdy and would be a great case to protect from minor falls'], ['case', 'sturdy', 1, 'The Otterbox case feels sturdy and would be a great case to protect from '], ['buttons', 'easy', 1, 'The lip covers the edges nicely and the buttons are easy to press'], ['edges', 'nice', 1, 'The lip covers the edges nicely and the buttons are easy to press\\n']]\n",
            "['night', 'date', 'iphone', 'white']\n",
            "A26SO3TOT2TLJE B00KNJJPSG\n",
            "['run', 'iphone', 'headphone']\n",
            "A2LB4FLRZG6CUV B00NAHOQ1O\n",
            "['ultrathin', 'ultra', 'scratch', '4mm', 'skin', 'transparent', 'iphone']\n",
            "A2LB4FLRZG6CUV B00QZRYLBQ\n",
            "[['protection', 'sufficient', 1, \"Provides sufficient protection for my iPhone 6s+ and I don't have to be annoyed with the screen protector only covering 95% of the screen\"], ['review', 'free', 1, 'Got this free to review\\n']]\n",
            "['bubble', 'edge', 'glass', 'screen', 'shockproof', 'cover']\n",
            "A2LB4FLRZG6CUV B00MOOF4D8\n",
            "['screen', 'inch']\n",
            "A2LB4FLRZG6CUV B00MU59QH6\n",
            "['slim', 'apple']\n",
            "A2LB4FLRZG6CUV B00O08PWSS\n",
            "['armband']\n",
            "A2XIOXRRYX0KZY B00SUWLTLO\n",
            "[['color', 'nice', 1, 'The color is nice and saturated as well'], ['phone', 'nice', 1, \"it does feel like it was made well and like it'll do the basic job of keeping scuffs off of the phone while looking nice\"], ['case', 'nice', 1, 'This is a nice case that has a well-made feel to it\\n']]\n",
            "['packaging', 'iphone', 'brown', 'retail']\n",
            "A2XIOXRRYX0KZY B00CRZXS82\n",
            "['creativity', 'helps', 'modes', 'protective', 'app', 'ipod', 'green', 'learning', 'teaches', 'camera']\n",
            "A2XIOXRRYX0KZY B00JOB1IES\n",
            "['se', 'retail', '5s', 'packaging', 'iphone']\n",
            "A2XIOXRRYX0KZY B00XEGT31O\n",
            "['apple', 'white']\n",
            "A2XIOXRRYX0KZY B0140PTDD0\n",
            "[['case', 'nice', 1, 'This is a fairly nice case\\n']]\n",
            "['pink', 'purple']\n",
            "A6VPK7X53QNAQ B00ZQAR95I\n",
            "['5s', '5c', 'screen', 'ballistics', 'iphone']\n",
            "A6VPK7X53QNAQ B00M807UK8\n",
            "[['smartphone', 'simple', 1, 'I am a fan of magnetic mounts as they really make mounting a GPS device or a smartphone really simple\\n']]\n",
            "['phone', 'car', 'mount', 'cradle', 'windshield']\n",
            "A6VPK7X53QNAQ B009TCUPIC\n",
            "['ultra', 'samsung', 'screen', 'definition', 'high', '3d', 'galaxy']\n",
            "A6VPK7X53QNAQ B00NLJ3NPG\n",
            "[['app', 'pre', 1, 'let it rest for 1 minute - do NOT apply pressure yet - as the adhesive goes to work slowly covering the screen'], ['screen', 'light', 1, 'It is perhaps 1mm wider than other screen protectors I tested as it covers just a little beyond the screen that lights up'], ['screen', 'clean', 1, 'and clean off the screen'], ['phone', 'right', 1, \"The 'case friendly' is just some smart marketing as none of the screen protectors can cover the phone right up to the edge due to its curved design\"], ['plastic', 'flexible', -1, 'nothing complicated like the flexible plastic screen protectors'], ['dust', 'trapped', -1, \"This protector doesn't really get the traditional bubbling since it's stiff but you see the adhesive makes a fine design wherever there is a dust particle trapped underneath but it does go away after a day or so\\n\"]]\n",
            "['iphone', '6s', 'apple']\n",
            "A6VPK7X53QNAQ B00QZS0H2W\n",
            "['6s', 'screen', 'inches', 'iphone', 'white']\n",
            "A3NHUQ33CFH3VM B00Z7S1KHM\n",
            "['case', '6s', 'lite', 'night', 'lifeproof', 'iphone', 'waterproof', 'fre']\n",
            "A3NHUQ33CFH3VM B00Z7RK9OS\n",
            "[['fits', 'good', 1, 'It feels good and fits right'], ['cases', 'protective', -1, \"For an OtterBox it's one of the most protective cases\\n\"]]\n",
            "['case', '6s', 'glass', 'limited', 'strada', 'packaging', 'edition', 'leather', 'alpha', 'onyx', 'iphone']\n",
            "A3NHUQ33CFH3VM B00Z7RT4J4\n",
            "[['case', 'thick', 1, 'The Pixel XL is already thick and this case adds\\n']]\n",
            "['packaging', 'case', 'version', 'pixel']\n",
            "A3NHUQ33CFH3VM B00Z7SAGZ4\n",
            "[['case', 'thick', 1, 'The case is thick as expected of the Defender series'], ['shell', 'inner', -1, \"There's no way of getting around the fact that the foam inner shell makes it thick but it does a lot to protect the phone from the toughest and most alarming drops\\n\"], ['phone', 'expensive', 1, \"You get a really expensive phone and then you're probably thinking it's got to last for a longer than usual time\\n\"]]\n",
            "['case', 'cowabunga', 'lg', 'packaging', 'free', 'blue', 'marathoner']\n",
            "A3NHUQ33CFH3VM B00IZFOGFM\n",
            "['m8']\n",
            "A2BX8DDQGCCG2J B00OBSPWD2\n",
            "['pvc', 'generation', '5s', 'usb', '5c', '7th', 'ipod', 'air', '4th', '5th', 'ipad', 'iphone', 'mini']\n",
            "A2BX8DDQGCCG2J B01H1C9T6K\n",
            "['delivering', 'cable', 'charging', 'data', 'motorola', 'decreasing', 'original', 'oem', 'turbopower', 'charger', 'wall', '15w']\n",
            "A2BX8DDQGCCG2J B00F7QKHFA\n",
            "['com', '45', '1u', 'port', '12', 'cat5e', 'degree', 'startech', 'wall', '110']\n",
            "A2BX8DDQGCCG2J B00P06KOVO\n",
            "['cycles', 'wireless', 'power', 'battery', 'advanced', '1000', 'devices', 'usb', 'charging', 'ipod', 'use', 'mobile', 'ipad', 'iphone', 'led', 'portable']\n",
            "A2BX8DDQGCCG2J B009A51Y10\n",
            "['apple']\n",
            "A2QP5ZEZ12F8CR B00UMHTUSE\n",
            "['description', 'including', 'compatibility', 'package', 'specifications', 'feature', 'android']\n",
            "A2QP5ZEZ12F8CR B00Z7S1KHM\n",
            "['iphone', 'waterproof', '6s']\n",
            "A2QP5ZEZ12F8CR B00CGY4JBY\n",
            "['power', '2000m', 'mycharge']\n",
            "A2QP5ZEZ12F8CR B00AD5KDQ8\n",
            "['se', '5s', 'mophie', 'juice', 'iphone']\n",
            "A2QP5ZEZ12F8CR B0099I81JG\n",
            "['iphone', 'composite', '5s']\n",
            "A35LT14WG5BX0T B00Z7RNO5E\n",
            "[['protection', 'amazing', 1, 'amazing protection for your investment\\n']]\n",
            "['case', 'edge', 'samsung', 'phantom', 'sleek', 'slim', 'folio', 'galaxy']\n",
            "A35LT14WG5BX0T B00Z7RMAMC\n",
            "[['protection', 'amazing', 1, 'amazing protection for your investment\\n']]\n",
            "['case', 'romance', 'samsung', 'otterbox', 'ruby', 'galaxy']\n",
            "A35LT14WG5BX0T B01B1V3QNY\n",
            "[['protection', 'solid', 1, \"If you're looking for solid protection this case is a great option\"], ['case', 'smooth', 1, 'My husband actually prefers the rugged look of this case over the smooth Otterbox cases we usually end up with\\n']]\n",
            "['case', 'composite', 'light', 'inch', 'feather', 'military', 'galaxy']\n",
            "A35LT14WG5BX0T B00Z7S5IY8\n",
            "['case', 'symmetry', 'edge', 's7', 'samsung', 'series', 'galaxy']\n",
            "A35LT14WG5BX0T B00BWG4TUI\n",
            "['packaging', 'retail']\n",
            "A99K7S15XOQ45 B00NIOGKL8\n",
            "['power', 'solarjuice', 'usb', 'samsung', 'shockproof', 'solar', 'zerolemon', 'phones', 'iphone', 'waterproof', 'charger', 'android', 'max', 'xs', 'portable', 'xr']\n",
            "A99K7S15XOQ45 B00K4VQZCM\n",
            "['5s', 'charging', 'certified', 'charger', '3ft', 'iphone', 'xs', 'xr']\n",
            "A99K7S15XOQ45 B00HRKI5V2\n",
            "['devices', 'android', 'iphone', 'smartphone']\n",
            "A99K7S15XOQ45 B01BGTCWHW\n",
            "['iphone', '5s']\n",
            "A99K7S15XOQ45 B009Z25H9S\n",
            "['5s']\n",
            "A3AYSYSLHU26U9 B008PQAFTM\n",
            "['sojourn', '1000', 'time', 'mycharge', 'hours']\n",
            "A3AYSYSLHU26U9 B00T2NZ0C4\n",
            "[['battery', 'larger', 1, 'The iPhone 6 has a larger battery'], ['cable', 'micro', 1, 'You also get a microUSB cable in the box'], ['case', 'back', 1, 'Four LEDs on the back of the case let you know how much electricity is left\\n']]\n",
            "['power', 'life', 'battery', 'effectively', 'apple', 'provide', 'iphone']\n",
            "A3AYSYSLHU26U9 B00GMR99LQ\n",
            "['iphone']\n",
            "A3AYSYSLHU26U9 B009WO3H3M\n",
            "['iphone']\n",
            "A3AYSYSLHU26U9 B00VR7B6FI\n",
            "['android', 'apple', 'smartphone']\n",
            "A33Y8C4818EJL0 B00Z7SEBXM\n",
            "['case', 'retail', 'motorola', 'otterbox', 'packaging']\n",
            "A33Y8C4818EJL0 B00Z7S98VM\n",
            "['light', 'samsung', 'packaging', 'aqua', 'galaxy']\n",
            "A33Y8C4818EJL0 B00Z7RL28A\n",
            "[['fits', 'comfortable', 1, 'It fits comfortable in your hand\\n']]\n",
            "['case', 'edge', 'retail', 'samsung', 'packaging', 'galaxy']\n",
            "A33Y8C4818EJL0 B00TYTDO88\n",
            "['purple']\n",
            "A33Y8C4818EJL0 B00Z7RQ0NC\n",
            "[['case', 'everyday', 1, 'Otterbox Symmetry is my goto case for everyday use\\n']]\n",
            "['symmetry', 'otterbox', 'graphic', 'date', 'white']\n",
            "A3OXHLG6DIBRW8 B01B3J7H5W\n",
            "[['protection', 'good', 1, 'This UAG LG G5 Case provides good protection and allows full access to all of the controls and ports'], ['fits', 'good', 1, 'The case fits well and looks good on the phone'], ['looks', 'good', 1, 'The case fits well and looks good on the phone'], ['case', 'good', 1, 'The case fits well and looks good on the phone\\n']]\n",
            "['light', 'composite', 'military', 'lg']\n",
            "A3OXHLG6DIBRW8 B005G0DEG6\n",
            "['protectora', 'de']\n",
            "A3OXHLG6DIBRW8 B01B1V3QOS\n",
            "['light', 'edge', 'composite', 'military']\n",
            "A3OXHLG6DIBRW8 B011ERMDG6\n",
            "[['cover', 'protective', 1, 'A very good choice for a functional and good looking protective cover\\n']]\n",
            "['screen', 'edge', 'composite', 'galaxy']\n",
            "A3OXHLG6DIBRW8 B00Z7S3YEY\n",
            "[['phones', 'good', 1, 'My son is hard on phones so a good case is an absolute necessity for him'], ['protection', 'great', 1, 'This OtterBox SYMMETRY SERIES Case for LG G5 provides great protection while leaving access to all controls and ports\\n']]\n",
            "['symmetry']\n",
            "A1QBOC76MIOJYP B00Z7SKFMI\n",
            "[['looks', 'amazing', 1, 'looks amazing and the glass screen protector is a really nice bonus'], ['phone', 'secure', 1, 'Snaps onto the phone securely and all ports\\n']]\n",
            "['statement', 'fabulous', 'case', 'life', 'entire', 'glass', 'retail', 'limited', 'strada', 'otterbox', 'packaging', 'ease', 'leather', 'onyx', 'iphone', 'coverage']\n",
            "A1QBOC76MIOJYP B01B1V3QNY\n",
            "['case', 'composite', 'inch', 'feather', 'military']\n",
            "A1QBOC76MIOJYP B00TYTDO88\n",
            "[['fits', 'nice', 1, 'It fits very nicely\\n']]\n",
            "['purple', 'samsung', 'galaxy']\n",
            "A1QBOC76MIOJYP B00Z7SVPHC\n",
            "['packaging', 'case', 'samsung', 'galaxy']\n",
            "A1QBOC76MIOJYP B006MY8GMM\n",
            "['case', 'acc', 'oem', 'blackberry', 'shell', 'access', 'included']\n",
            "A1TKPYCOI1IZVL B00CXZI7EG\n",
            "['battery', 'apple', 'iphone', 'xs', 'slim']\n",
            "A1TKPYCOI1IZVL B00604L9BO\n",
            "['ipod', 'lcd']\n",
            "A1TKPYCOI1IZVL B00PINR91M\n",
            "['power', 'pro', 's6', 'xr', 's7', '12a', 'air', 'wall', 'iphone', 'xs', 'max', 'mini', 'usb', 's9', 's8', 'ipad', 'boostcube', 'iclever', 'edge', 'tablet', 'charger', 'desktop', 'galaxy']\n",
            "A1TKPYCOI1IZVL B00JLVNF6A\n",
            "['edge', 'smartphones', 'bluetooth', 'charging', 'manufacturer', 'hands', 'android', 'iphone']\n",
            "A1TKPYCOI1IZVL B00SYWIW24\n",
            "['usb', 'samsung', 'ipad', 'charger', 'mediabridge', 'iphone']\n",
            "A33BLUJ6RQ6B4I B00F0JCAJK\n",
            "['iphone', 'apple', 'extreme']\n",
            "A33BLUJ6RQ6B4I B012HQI7AO\n",
            "[['installation', 'easy', 1, 'easy installation guidelines\\n']]\n",
            "['touch', '5c', 'screen', '5s']\n",
            "A33BLUJ6RQ6B4I B014U7MLFK\n",
            "[['feedback', 'honest', 1, 'to provide my honest feedback\\n']]\n",
            "['6s', '4mm', 'skin', 'like', 'iphone']\n",
            "A33BLUJ6RQ6B4I B019WUS98S\n",
            "['galaxy']\n",
            "A33BLUJ6RQ6B4I B014IB1RAI\n",
            "[['case', 'minimal', 1, 'The case adds minimal thickness to the iPhone 6 and wrapped in a full body skin to protect from just scratches'], ['case', 'exact', 1, 'This Maxboost Vibrance S iPhone 6/6s case  is exactly what I wanted\\n']]\n",
            "['iphone', '6s', 'interior', 'inch']\n",
            "A3RDSN4SZKF3O B010MVJM5K\n",
            "['fiber', 'armor']\n",
            "A3RDSN4SZKF3O B01AX3S17C\n",
            "[['cases', 'great', 1, 'Bastex makes great cases'], ['bucks', 'free', 1, 'Highly recommended and well worth the 8 bucks and free Prime shipping'], ['color', 'great', 1, 'The purple and black is a great color scheme'], ['looks', 'great', 1, 'This case looks great'], ['case', 'solid', 1, 'good looking and solid case'], ['case', 'great', 1, 'This case looks great\\n']]\n",
            "['duty', 'heavy', 'protective', 'galaxy']\n",
            "A3RDSN4SZKF3O B01GU4MEFI\n",
            "['body', 'slim', 'ultra']\n",
            "A3RDSN4SZKF3O B01CNL4126\n",
            "[['price', 'less', 1, \"Awesome build and a decent price at less than 13 bucks and free shipping(this isn't a 5 Below case)\"], ['case', 'awesome', 1, 'awesome case'], ['quality', 'great', 1, 'You get great quality at this price\\n']]\n",
            "['galaxy']\n",
            "A3RDSN4SZKF3O B00PCPU9D6\n",
            "['ultra', 'galaxy']\n",
            "AIFLY2HF8NS8U B00M5JKZY0\n",
            "[['cases', 'great', 1, 'The cases are great but the charging cables are not\\n']]\n",
            "['pvc', 'generation', '5s', 'nano', 'usb', 'connector', '5c', 'inch', '7th', 'mini2', 'ipod', 'air', 'charges', '4th', '5th', 'ipad', 'iphone', 'mini']\n",
            "AIFLY2HF8NS8U B00LCL7XP6\n",
            "['powerful', 'wireless', 'boost', 'battery', 'energy', 'samsung', 'charging', 'emitting', 'lifecharge', 'inair', 'hours', 'slim', 'galaxy']\n",
            "AIFLY2HF8NS8U B009A51Y1U\n",
            "['iphone']\n",
            "AIFLY2HF8NS8U B00MXWFUQC\n",
            "['smartphones', 'phone', 'car', 'mobile', 'iphone']\n",
            "AIFLY2HF8NS8U B00O3AE982\n",
            "[['cases', 'hard', 1, \"there's also the issue of newer companies producing innovative hard cases with built in compartments for either credit or business cards or cash\"], ['plastic', 'clear', 1, 'The housing is made out of a hard and clear plastic'], ['case', 'hard', -1, 'The UAG for the Note 4 is as good of a hard case as they did for the Note 3 which we had last year\\n']]\n",
            "['galaxy']\n",
            "A1PBID89L5MGCP B00I3UWD40\n",
            "['case', 'duty', 'armor', 'extreme', 'heavy', 'tough']\n",
            "A1PBID89L5MGCP B00IUQ41GA\n",
            "['touch', 'se', 'ultra', 'fingerprint', 'glass', '5s', 'screen', 'apple', 'iphone', 'shatterguardz']\n",
            "A1PBID89L5MGCP B00EV8Y7XI\n",
            "['case', 'infinity', 'armor', 'slim']\n",
            "A1PBID89L5MGCP B01BGTCWHW\n",
            "['hardness', 'case', '5s', 'screen', 'friendly']\n",
            "A1PBID89L5MGCP B009TCUPIC\n",
            "['ultra', 'glass', 'screen', 'high', '3d', 'galaxy']\n",
            "A34RBY6VRFMFD B01BCWL472\n",
            "['grade', 'edge', 'samsung', 'military', 'galaxy']\n",
            "A34RBY6VRFMFD B00BWG4TUI\n",
            "['jabra', 'mono', 'headset', 'bluetooth', 'motion']\n",
            "A34RBY6VRFMFD B004I8WD7S\n",
            "['iphone', 'screen', '4s', 'tpu']\n",
            "A34RBY6VRFMFD B00NAHOQ1O\n",
            "['ultrathin', 'ultra', '4mm', 'skin', 'like', 'iphone', 'nothing']\n",
            "A34RBY6VRFMFD B00AIQ1ZS2\n",
            "['battery', '5500mah', 'samsung', 'charging', 'portable', 'slimpower', 'charger', 'note', 'galaxy']\n",
            "A8VI7KMUHI7ZH B00A0ABQLM\n",
            "['6s', '5s', '5c', 'charger', 'iphone', 'xs', 'xr']\n",
            "A8VI7KMUHI7ZH B00TAA8MNS\n",
            "[['review', 'helpful', 1, 'I hope this review is helpful as you comparison shop online'], ['pocket', 'little', 1, 'This is a handy little pocket charger\\n']]\n",
            "['power', 'battery', '4s', '5s', 'port', 'provides', 'samsung', '5c', 'motorola', 'tablets', 'charger', 'nokia', 'phones', 'ipad', 'mah', 'iphone', 'portable', 'galaxy']\n",
            "A8VI7KMUHI7ZH B00AZW4MYI\n",
            "['battery', 'phone', 'tablet', '0a', 'arctic']\n",
            "A8VI7KMUHI7ZH B00B90GLTO\n",
            "['generations', 'battery', '4s', '6s', 'edge', '5s', 'mini', '5c', '6a', 'ipod', 'adapter', 'apple', 'ipad', 'phones', 'models', 'iphone', '4g', 'galaxy']\n",
            "A8VI7KMUHI7ZH B00KIMX4EY\n",
            "['6s', '5s', '5c', 'car', 'iphone']\n",
            "A2LTYEYGKBYXRR B00MQSMDYU\n",
            "[['output', 'higher', 1, 'It is a new version that has higher output USB ports\\n']]\n",
            "['ravpower', 'chargers', 'power', 'battery', 'phone', 'usb', 'dual', 'nintendo', 'external', '5a', 'charger', 'switch', 'iphone', 'portable', 'galaxy']\n",
            "A2LTYEYGKBYXRR B018S6X92I\n",
            "['fast', 'galaxy', 'usb', 'charging', 'pixel', 'ipad', 'charger', 'iphone', 'xs', 'xr']\n",
            "A2LTYEYGKBYXRR B001UC9NOQ\n",
            "['series', '95xx']\n",
            "A2LTYEYGKBYXRR B00KAF9IQW\n",
            "[['looks', 'good', 1, 'The Pawtec Lightning cable is a very high quality cable that is made to last and looks good'], ['cables', 'black', 1, 'bright orange and black (all 3 cables have a white pattern on the cable)'], ['color', 'blue', 1, '-A blue color option'], ['quality', 'high', 1, 'They are very high quality and are now my preferred cable to take with my when I go on a road trip'], ['quality', 'high', 1, 'These are very high quality and stylish lightning cables that are Apple Certified\\n']]\n",
            "['6s', 'ipod', 'apple', 'iphone', 'xs']\n",
            "A2LTYEYGKBYXRR B0092KJ9BU\n",
            "['android', 'smartphones']\n",
            "A1QZJJXKXF6CWC B00IGISU1E\n",
            "['charger', 'screen']\n",
            "A1QZJJXKXF6CWC B00A0ABQLM\n",
            "['cable', '6s', 'wire', 'mfi', '5s', '5c', 'charging', 'data', 'compatible', 'iphone', 'charger', 'max', 'xs', 'xr']\n",
            "A1QZJJXKXF6CWC B009AB557I\n",
            "['sim', '4s', 'apple', 'iphone', '4g']\n",
            "A1QZJJXKXF6CWC B00HZDX42G\n",
            "['degree', 'car']\n",
            "A1QZJJXKXF6CWC B00OT74FIS\n",
            "['ravpower', 'mini', 'edge', 'galaxy', 's7', 'desk', 'air', 's9', 's8', '8a', 's6', 'iphone', 'xs', 'xr']\n",
            "AJHXHLDK0T8IE B00F8OYPUO\n",
            "['screen', '5s']\n",
            "AJHXHLDK0T8IE B01A7IDCC2\n",
            "[['texture', 'slight', 1, \"A slightly grippy texture would've earned this case a 5 out of 5\"], ['case', 'very', 1, 'it is that the case is very smooth and slippery'], ['case', 'nice', 1, 'This is a nice and thin case that is easy to put on and easy to take off'], ['case', 'slippery', 1, 'Great case but very slippery'], ['case', 'thin', 1, 'This is a nice and thin case that is easy to put on and easy to take off\\n']]\n",
            "['edge', 'surface', 'samsung', 'slip', 'galaxy']\n",
            "AJHXHLDK0T8IE B005G0DEG6\n",
            "['protectora']\n",
            "AJHXHLDK0T8IE B00JTU2OAG\n",
            "[['mint', 'green', 1, 'mint green'], ['case', 'great', 1, 'the case still offers great grip'], ['case', 'thin', 1, 'and thin case for the Galaxy Note 3 and Spigen delivers'], ['case', 'thin', 1, 'high-quality thin case for the Galaxy Note 3'], ['case', 'exact', 1, 'This is exactly the case I was looking for'], ['phone', 'taller', -1, \"it doesn't offer much protection but I don't like medium- to large-sized cases that makes a phone taller\"], ['phone', 'bulky', -1, \"The case is very thin and doesn't make the phone bulky\"], ['case', 'bulky', -1, \"The case is very thin and doesn't make the phone bulky\\n\"]]\n",
            "['galaxy']\n",
            "AJHXHLDK0T8IE B01AJFS2QY\n",
            "['edge', 'galaxy']\n",
            "A38FPHYE72Y25P B01B1I6IT6\n",
            "['bumper', 'case', 'edge', 'frame', 'neo', 'samsung', 'inner', 'hybrid', 'galaxy']\n",
            "A38FPHYE72Y25P B00SV638ZE\n",
            "['case', 'edge', 'drop', 'armor', 'slim', 'galaxy']\n",
            "A38FPHYE72Y25P B01FT8AXAO\n",
            "['heart', 'ultra', 'diamond']\n",
            "A38FPHYE72Y25P B01GU4MEFI\n",
            "['light', 'fit', 'slim', 'body']\n",
            "A38FPHYE72Y25P B00Q3OXJKA\n",
            "['touchscreen', 'screen', 'glass']\n",
            "A2LW5AL0KQ9P1M B00XJK47OI\n",
            "[['packaging', 'great', 1, 'this frustration-free packaging is a great alternative to the plastic clam-shells that these are usually shipped in (here'], ['case', 'black', 1, 'The black case is slightly nicer in-person'], ['quality', 'outstanding', 1, 'the quality is outstanding and the look is quite nice'], ['case', 'everyday', -1, 'this will not be my everyday case (but will keep it for special occasions)\\n']]\n",
            "['case', 'protection', 'chic', 'samsung', 'otterbox', 'packaging', 'sleek', 'leather', 'slim', 'folio', 'galaxy']\n",
            "A2LW5AL0KQ9P1M B00O08PWSS\n",
            "[['price', 'little', 1, 'Outside of being a little pricey\\n']]\n",
            "['6s', 'sport', 'limelight', 'fit', 'armband', 'belkin']\n",
            "A2LW5AL0KQ9P1M B01DUWX9T8\n",
            "[['size', 'smaller', 1, 'the size is smaller than the actual face'], ['watch', 'little', 1, 'It does make using watch a little less smooth '], ['price', 'little', 1, 'The price is a little steep for an almost nonexistent product\\n']]\n",
            "['optometric', '42mm', 'belkin', 'screen', 'apple', 'standards']\n",
            "A2LW5AL0KQ9P1M B00TYTBHKU\n",
            "[['case', 'clear', 1, 'I guess I liked the clear case and slick look\\n']]\n",
            "['symmetry', 'gridlock', 'samsung', 'packaging', 's6', 'graphic', 'galaxy']\n",
            "A2LW5AL0KQ9P1M B00FNWM33C\n",
            "['poetic', 'borderline', 'year', 'manufacturer', 'google']\n",
            "A2UX8I05VSEL6 B00UIF3MA2\n",
            "['packaging', 'lifeproof', 'quickmount']\n",
            "A2UX8I05VSEL6 B016X1FODW\n",
            "[['phone', 'long', 1, \"This is one of the best protective cases I've seen for v10 i would get this if you want to keep your phone long time you will have to put up a few extra dollars but it's worth it\"], ['dollars', 'extra', -1, \"This is one of the best protective cases I've seen for v10 i would get this if you want to keep your phone long time you will have to put up a few extra dollars but it's worth it\\n\"]]\n",
            "['case', 'armor', 'lg', 'slim']\n",
            "A2UX8I05VSEL6 B010MWH616\n",
            "['spigen', 'style', 'armor', 'slim']\n",
            "A2UX8I05VSEL6 B00H99DBFQ\n",
            "['rounded', 'screen', 'edges', 'glass']\n",
            "A2UX8I05VSEL6 B009A51Y10\n",
            "['screen', '5c', 'apple']\n",
            "A18U49406IPPIJ B00AGJMMVA\n",
            "['6s', 'connector', 'pro', 'certified', 'xr', 'feet', 'air', 'iphone', 'mini', 'max', 'xs', 'usb', 'ipod', '6ft', 'ipad', '8m', 'cable', 'charge', 'data', 'rnd', 'apple', 'plus']\n",
            "A18U49406IPPIJ B00M807UK8\n",
            "[['phones', 'larger', -1, 'not so good for larger phones like my Note 4\\n']]\n",
            "['phone', 'car', 'windshield']\n",
            "A18U49406IPPIJ B0067UPRQ4\n",
            "['battery', 'technology', 'ultra', 'brushed', 'aluminum', 'cell', 'super', 'unicharge', 'orei', 'phones', 'slim']\n",
            "A18U49406IPPIJ B00P933OJC\n",
            "['mini', 'edge', 'galaxy', 's7', 'usb', 'powerport', 'ipod', 'air', 's9', 's8', 's6', 'charger', 'wall', 'ipad', 'iphone', 'xs', 'xr']\n",
            "A18U49406IPPIJ B00MV76NS8\n",
            "['iphone', '6s', 'inch', 'versions']\n",
            "A1PARINL2CPD2K B0094CX0PW\n",
            "['iphone', 'se', '5s']\n",
            "A1PARINL2CPD2K B00JLVNF6A\n",
            "['wireless', 'edge', 'smartphones', 'bluetooth', 'compatible', 'charging', 'manufacturer', 'discontinued', 'hands', 'android', 'iphone', 'other']\n",
            "A1PARINL2CPD2K B004I8WD7S\n",
            "['iphone', '4s']\n",
            "A1PARINL2CPD2K B00WM93M9S\n",
            "['75w', 'usb', 'samsung', 'apple', 'computers', 'desktop']\n",
            "A1PARINL2CPD2K B000IN5ZHM\n",
            "['battery', 'amp', 'motorola']\n",
            "ALYZJ7W14YS26 B00M9E10UE\n",
            "[['screen', 'generous', 1, 'The case has a raised front edge to protect the screen and generous space around the ear jack plug'], ['polycarbonate', 'shell', 1, 'this case has a black protective edge and three choices of polycarbonate back shell so that you can mix or match your phone to the shell case'], ['case', 'stylish', 1, 'Extra tough and stylish case'], ['case', 'extra', 1, 'This is a very sturdy extra tough case and certainly worth consideration'], ['case', 'protective', 1, 'protective case'], ['case', 'tough', 1, 'This is a very sturdy extra tough case and certainly worth consideration\\n'], ['plastic', 'black', 1, 'the black plastic makes it easy to insert the phone into the case\\n']]\n",
            "['case', 'grade', 'phone', 'armor', 'protective', 'silk', 'stealth', 'military', 'cover', 'tough']\n",
            "ALYZJ7W14YS26 B00M8PRSWI\n",
            "[['screen', 'generous', 1, 'The case has a raised front edge to protect the screen and generous space around the ear jack plug'], ['phone', 'very', 1, 'The edge is curved making the phone very comfortable to hold in your hand'], ['phone', 'comfortable', 1, 'The edge is curved making the phone very comfortable to hold in your hand'], ['case', 'very', 1, 'This is a very sturdy case and certainly worth consideration'], ['case', 'sturdy', 1, 'This is a very sturdy case and certainly worth consideration\\n']]\n",
            "['case', 'crystal', '6s', 'ultra', 'phone', 'clear', 'slim', 'pureview']\n",
            "ALYZJ7W14YS26 B005SUHQ3Q\n",
            "['case', 'defender', 'teal', 'series']\n",
            "ALYZJ7W14YS26 B00Z7SEJ4S\n",
            "['packaging', 'lg']\n",
            "ALYZJ7W14YS26 B00Z7S1KHM\n",
            "['lifeproof', 'waterproof', '6s']\n",
            "A1FDSZISWIXH1A B00F7QKHFA\n",
            "[['cable', 'long', 1, 'long and the cable itself is thin\\n']]\n",
            "['com', '45', '1u', 'port', '12', 'mount', 'patch', 'panel', 'degree', 'startech', 'cat5e', 'wall', '110']\n",
            "A1FDSZISWIXH1A B00NCJ4GP6\n",
            "['version', 'waterproof', 'fre', 'iphone']\n",
            "A1FDSZISWIXH1A B0094CX4NK\n",
            "['iphone', '5s']\n",
            "A1FDSZISWIXH1A B00G3ZI0UI\n",
            "['6s', '5s', 'cell', 'phone', 'iphone', '7s']\n",
            "A1FDSZISWIXH1A B007C5S3AU\n",
            "['packaging', '5mm']\n",
            "AUITG1DJ3QUGK B00F7QKHFA\n",
            "[['charging', 'mobile', 1, 'There are a number of mobile charging solutions available'], ['colors', 'different', 1, 'That they make them in so many different colors does make it easier to distinguish one type of cable from another'], ['cord', 'longer', -1, 'At some point I did not understand why i would want a longer cord but have a large  pup who puts his nose into all kinds of places it does not belong\\n']]\n",
            "['com', '45', '1u', 'port', '12', 'mount', 'patch', 'panel', 'degree', 'startech', 'cat5e', 'wall', '110']\n",
            "AUITG1DJ3QUGK B00TRG8KGY\n",
            "['edge', 'composite', 'phone', 'light', 'samsung', 'screen', 'inch', 'galaxy']\n",
            "AUITG1DJ3QUGK B00Z7RNO5E\n",
            "[['protection', 'solid', 1, 'solid protection in a nice looking package'], ['protection', 'solid', 1, 'solid protection in an elegent package'], ['ports', 'accessible', 1, 'ports and camera accessible so that your phone is always protected'], ['camera', 'accessible', 1, 'ports and camera accessible so that your phone is always protected'], ['device', 'large', 1, 'Being a larger device'], ['case', 'practical', 1, 'not garish but also not the same color as practically every case in the house'], ['case', 'old', 1, 'He is still partial to his Oregami case (for his old Kindle) but that was noot an option for his tablet'], ['case', 'best', 1, 'I bought the pro as a gift for my husband and got him the best case I could find to go with it'], ['leather', 'real', -1, 'It is difficult enough to sort out which cases are real leather and which are plastic (PU) sincew  so many sellers\\n']]\n",
            "['samsung', 'edge', 'galaxy']\n",
            "AUITG1DJ3QUGK B00SXFEAB4\n",
            "['galaxy', 'samsung', 'uag']\n",
            "AUITG1DJ3QUGK B00O08PWSS\n",
            "['iphone', '6s']\n",
            "A2FYKVIX9WEISX B003XIBJKG\n",
            "['battery', 'ultrapower', 'apple', 'charger', 'iphone']\n",
            "A2FYKVIX9WEISX B00CXO0US8\n",
            "['battery', 'copyright', 'wholesale', 'affiliate', 'subject', 'warrantied', 'ea']\n",
            "A2FYKVIX9WEISX B004DCATIE\n",
            "['4s']\n",
            "A2FYKVIX9WEISX B00HFMUBYG\n",
            "['up', 'capacity', 'charges', 'output', 'indicator', 'iphone', 'supports', 'button']\n",
            "A2FYKVIX9WEISX B00T3CJMLO\n",
            "['sony', 'charging', 'data', 'motorola', 'smartphone', 'android']\n",
            "AQCJWSMSURQI2 B00Z7SS1NS\n",
            "[['quality', 'good', 1, '-Very good build quality'], ['case', 'good', 1, 'durable case that it good at protecting against drops and other impacts\\n']]\n",
            "['packaging', 'case', 'black']\n",
            "AQCJWSMSURQI2 B00X0X3AOM\n",
            "['symmetry', 'samsung', 'edge', 'galaxy']\n",
            "AQCJWSMSURQI2 B00JOB1IES\n",
            "['case', 'retail', 'packaging', 'lifeproof', 'waterproof']\n",
            "AQCJWSMSURQI2 B00Z7RZMAO\n",
            "[['cases', 'protective', -1, 'For most people they are fine protective cases\\n']]\n",
            "['samsung', 'galaxy']\n",
            "AQCJWSMSURQI2 B00ONYDCQI\n",
            "['packaging']\n",
            "A2IG1KMH6D47QA B00SXFEAB4\n",
            "['case', 'drop', 'samsung', 'military', 'card', 'galaxy']\n",
            "A2IG1KMH6D47QA B005G0DEG6\n",
            "['protectora', 'de']\n",
            "A2IG1KMH6D47QA B00Z7RMAMC\n",
            "['samsung', 'galaxy']\n",
            "A2IG1KMH6D47QA B00UUZFVTU\n",
            "['case', 'frame', 'edge', 'premium']\n",
            "A2IG1KMH6D47QA B00BCK2G40\n",
            "['product']\n",
            "A2CBG5BBJYMOJ1 B00OBSPWD2\n",
            "['generation', '5s', 'usb', 'connector', '5c', 'inches', 'inch', '7th', 'ipod', 'charges', 'computer', 'ipad', 'years', '5th', 'iphone']\n",
            "A2CBG5BBJYMOJ1 B00LFUNGU0\n",
            "['smart', 'works', 'phone', 'easy', 'bell', 'blackberry', 'degree', 'phones', 'extends', 'android', 'iphone']\n",
            "A2CBG5BBJYMOJ1 B00IGISU1E\n",
            "['cord', 'protector']\n",
            "A2CBG5BBJYMOJ1 B005G606O8\n",
            "['ipod', 'belkin', 'apple', 'camera']\n",
            "A2CBG5BBJYMOJ1 B0030DCDYA\n",
            "['back', 'galaxy']\n",
            "A3M9MJGQVQL67F B01BCZBT56\n",
            "[['cases', 'nice', 1, 'these guys are REALLY putting out some nice cases and this is one of them'], ['review', 'honest', 1, \"I received mine at a discount or maybe free for an honest review which I've given\"], ['case', 'nice', 1, 'A+++ VERY nice case\\n']]\n",
            "['case', 'grade', 'edge', 'samsung', 'military', 'slim']\n",
            "A3M9MJGQVQL67F B00JTU2OAG\n",
            "['case', 'ultra', 'galaxy', 'note', 'smooth']\n",
            "A3M9MJGQVQL67F B01BCZFKA6\n",
            "[['texture', 'great', 1, 'great texture on back for gripping'], ['packaging', 'great', 1, 'great packaging'], ['protection', 'awesome', 1, 'awesome protection'], ['quality', 'happy', 1, \"You'll be happy with the quality and they came packaged I\"], ['corners', 'excellent', 1, \"rubbery corners and excellent fit but the buttons aren't hindered\"], ['case', 'very', 1, \"seriously regardless that I got mine free or at a discount it's a very nice case especially for the asking price\"], ['knockoff', 'cheap', -1, 'Not just some lame knockoff or cheap case whatsoever\\n']]\n",
            "['case', 'protection', 'edge']\n",
            "A3M9MJGQVQL67F B013A1ONDA\n",
            "['bumper', 'case', 'protection', 'bulk', 'protective', 'material', 'premium', 'thin', 'affinity']\n",
            "A3M9MJGQVQL67F B01637DS70\n",
            "['protection', 'drop', 'nexus', 'screen', 'huawei', 'absorption']\n",
            "A1MO3UU7XWQ90R B00IGISU1E\n",
            "['charger', 'screen']\n",
            "A1MO3UU7XWQ90R B00JRHOFP8\n",
            "['cable', 'electronics', 'charging', 'data', 'certified', 'apple', 'charger', 'iphone']\n",
            "A1MO3UU7XWQ90R B00GNQ10VS\n",
            "['wireless', 'edge', 'ultra', 'charge', 'charging', 's8', '5w', 'charger', 'iphone', 'slim', 'galaxy']\n",
            "A1MO3UU7XWQ90R B00MQ8KRRA\n",
            "['6s', '7plus', 'mfi', 'compatible', '8plus', '10', 'charger', 'long', 'iphone', 'xs', 'ft', 'xr']\n",
            "A1MO3UU7XWQ90R B00YCBBDTA\n",
            "['bluetooth']\n",
            "AE0337VVP8MRM B00Z7SOUN8\n",
            "[['phone', 'perfect', 1, 'The case itself is rather slim and fits the phone perfectly'], ['fits', 'perfect', 1, 'The case itself is rather slim and fits the phone perfectly'], ['case', 'perfect', 1, 'The case itself is rather slim and fits the phone perfectly\\n']]\n",
            "['case', 'retail', 'packaging', 'lifeproof', 'coral', 'waterproof']\n",
            "AE0337VVP8MRM B00Z7TKWLG\n",
            "[['looks', 'terrific', 1, 'It looks terrific and is pretty light-weight considering what the case does'], ['phone', 'perfect', 1, 'The case itself is pretty slim and fits the phone perfectly'], ['fits', 'perfect', 1, 'The case itself is pretty slim and fits the phone perfectly'], ['case', 'perfect', 1, 'The case itself is pretty slim and fits the phone perfectly\\n']]\n",
            "['haze', 'light', 'riot', 'grape']\n",
            "AE0337VVP8MRM B00UIF3MA2\n",
            "['packaging']\n",
            "AE0337VVP8MRM B0093IHVKW\n",
            "['products']\n",
            "AE0337VVP8MRM B00Z7RUD80\n",
            "[['phone', 'perfect', 1, 'The case itself is rather slim and fits the phone perfectly'], ['fits', 'perfect', 1, 'The case itself is rather slim and fits the phone perfectly'], ['case', 'perfect', 1, 'The case itself is rather slim and fits the phone perfectly'], ['case', 'nice', 1, 'Very nice case\\n']]\n",
            "['grape']\n",
            "AX329NHW6B7BA B00Z7SKFMI\n",
            "[['fits', 'slim', 1, \"It's slim and fits easily in your pocket\\n\"]]\n",
            "['case', 'fabulous', 'glass', 'retail', 'limited', 'strada', 'otterbox', 'packaging', 'edition', 'leather', 'onyx']\n",
            "AX329NHW6B7BA B00Z7SVPHC\n",
            "['packaging', 'case', 'symmetry']\n",
            "AX329NHW6B7BA B00Z7SM8DM\n",
            "[['cases', 'great', 1, 'Lifeproof makes great cases and you can count on them'], ['protection', 'great', 1, 'great protection'], ['protection', 'good', 1, 'Offers good protection against everything'], ['case', 'best', 1, 'If you are into sports you will probably find this the best case to use over all the others\\n']]\n",
            "['packaging', 'case', 'pixel', 'waterproof']\n",
            "AX329NHW6B7BA B00Z7S98VM\n",
            "[['protection', 'great', 1, 'Most of all I love how thick they are and this one is thick and offers great protection'], ['shell', 'outer', -1, 'The outer shell is very compact and durable and the second piece that fits inside is thicker than most cases of the cheaper brands are\\n']]\n",
            "['case', 'light', 'samsung', 'packaging', 'aqua', 'galaxy']\n",
            "AX329NHW6B7BA B01B1V3QNY\n",
            "['case', 'composite', 'feather', 'military']\n",
            "AVU1ILDDYW301 B00CYNMFP4\n",
            "['case', 'retail', 'surf', 'samsung', 'admiral', 'otterbox', 'packaging', 'ocean', 'commuter', 'galaxy']\n",
            "AVU1ILDDYW301 B00Z7SD3V8\n",
            "[['protection', 'better', 1, 'They offer better protection than most other generic cases'], ['plastic', 'clear', 1, 'There is the hard plastic clear back'], ['case', 'clear', 1, \"If you're looking for a clear case\"], ['colors', 'different', -1, 'This listing is for a few different colors\\n']]\n",
            "['case', 'symmetry', 'g6', 'series', 'otterbox', 'lg', 'clear', '77']\n",
            "AVU1ILDDYW301 B00C96CMDG\n",
            "['case', 'galaxy', 'otterbox']\n",
            "AVU1ILDDYW301 B00Z7RQ0NC\n",
            "[['candy', 'pink', 1, 'I have the halftone aqua mint / candy pink / halftone graphic case'], ['protection', 'best', 1, 'OtterBox has about the best protection around'], ['case', 'outer', 1, 'This is a super high-gloss outer case\\n']]\n",
            "['symmetry', 'polka', 'otterbox', 'night', 'date']\n",
            "AVU1ILDDYW301 B00CGY4JBY\n",
            "['power', '2000m', 'mycharge']\n",
            "A3HFQE02MDPC6I B01B6GA7WW\n",
            "['case', 'edge', 'duty', 'samsung', 'protective', 'heavy', 'slim', 'galaxy']\n",
            "A3HFQE02MDPC6I B00EV8Y7XI\n",
            "['case', 'protection', 'infinity', 'drop', 'armor', 'slim']\n",
            "A3HFQE02MDPC6I B0176UXH7E\n",
            "['finish', 'ultimate', 'armor', 'lg', 'resilient', 'rugged']\n",
            "A3HFQE02MDPC6I B00SXFEAB4\n",
            "['samsung', 'military', 'card', 'folio', 'galaxy']\n",
            "A3HFQE02MDPC6I B00VXXRLEQ\n",
            "[['dust', 'clean', 1, 'when instructions are followed properly and it is done on a clean dust free environment\\n']]\n",
            "['coverage', 'screen']\n",
            "A375SX4A8HYU97 B00PEK5QA0\n",
            "['iphone', 'screen']\n",
            "A375SX4A8HYU97 B003XIBJKG\n",
            "['battery', 'iphone', 'apple']\n",
            "A375SX4A8HYU97 B015BHBYEM\n",
            "['back', '6s', 'ultra', 'inch', 'hard', 'cover']\n",
            "A375SX4A8HYU97 B00604L9BO\n",
            "['ipod', '4g']\n",
            "A375SX4A8HYU97 B00B78MT44\n",
            "['6s', 'view', '5s', 'easy', 'iphone']\n",
            "A2Y6BQ8UGY8VFV B00LIWB34Q\n",
            "[['phone', 'great', 1, \"I've been testing this phone out for work and it's a great budget smartphone\"], ['camera', 'front', 1, \"There isn't a front facing camera but you do at least get a good rear facing camera which produces decent photos for the price considering it's just a 5MP camera\\n\"]]\n",
            "['635', 'phone', 'lumia', 'mobile', 'nokia']\n",
            "A2Y6BQ8UGY8VFV B0067UPRQ4\n",
            "['power', '1000mah', 'life', 'battery', 'technology', 'cell', 'usb', 'elegant', 'ac', 'orei', 'phones', 'hours', 'led', 'much', 'adapters']\n",
            "A2Y6BQ8UGY8VFV B00U8KSUIG\n",
            "[['looks', 'gorgeous', 1, 'The screen looks gorgeous and its big enough to allow the use of onscreen controls without your hands getting in the way of the action'], ['storage space', 'free', 1, 'however this is somewhat mitigated by being given 100GB of OneDrive storage space free for 2 years'], ['card', 'micro', 1, \"Unfortunately there isn't the option to add a microSD card\"], ['apps', 'pre', 1, 'things like the health sensor make use of the included S Health app and the apps pre installed all seem like they might be useful\\n']]\n",
            "['32gb', 'factory', 'samsung', 'galaxy']\n",
            "A2Y6BQ8UGY8VFV B00BLTCZ70\n",
            "['lte', '4g', 'mobile']\n",
            "A2Y6BQ8UGY8VFV B00AD5KDQ8\n",
            "['iphone', '5s']\n",
            "A3VS2RYRGDW4HS B00Z7SEJ4S\n",
            "['packaging', 'tribute', 'lg']\n",
            "A3VS2RYRGDW4HS B00WI4LO8I\n",
            "['packaging', 'case', 'lg']\n",
            "A3VS2RYRGDW4HS B00Z7RMAMC\n",
            "[['case', 'nice', 1, \"The Otterbox Strada case is the nicest case I've ever owned\"], ['case', 'less', -1, 'this case is much less bulky than the Defender case and is about the same as the Commuter\\n']]\n",
            "['case', 'ruby', 'samsung', 'galaxy']\n",
            "A3VS2RYRGDW4HS B00Z7S0OTW\n",
            "['lg', 'bubblegum']\n",
            "A3VS2RYRGDW4HS B00Z7TG15C\n",
            "[['screen', 'protected', 1, 'the case stops just short of covering the edges of the phone and this leaves the screen less protected than if the case fit snugly around the entire screen'], ['screen', 'less', 1, 'the case stops just short of covering the edges of the phone and this leaves the screen less protected than if the case fit snugly around the entire screen'], ['looks', 'great', 1, 'looks great'], ['phone', 'damaged', -1, 'Both of us have always used Otterbox Commuter or Defender cases and neither of us have ever had a phone damaged\\n']]\n",
            "['samsung', 'edge', 'galaxy']\n",
            "A1EOTB1WHLSW6G B00PRXHCPQ\n",
            "[['performance', 'nice', 1, 'nice performance in a nicely design hardware'], ['case', 'internal', 1, '- 4 leds indicating the charge level of the case internal battery'], ['product', 'excellent', -1, \"This product is another example of Anker's excellent quality and performance\\n\"]]\n",
            "['case', 'battery', '6s', 'extended', 'anker', 'extra']\n",
            "A1EOTB1WHLSW6G B00HZWJGS8\n",
            "['power', '15000mah', 'smartphones', 'electron', 'usb', 'tablets', 'charger', 'portable', 'dual']\n",
            "A1EOTB1WHLSW6G B01A7UWFY6\n",
            "['devices', 'usb', 'station', 'charging', 'tablets', 'wearable', 'iphone']\n",
            "A1EOTB1WHLSW6G B00N4DIM0A\n",
            "['6s', '7plus', 'phone', 'charging', 'xs']\n",
            "A1EOTB1WHLSW6G B00S01L348\n",
            "['battery', '6s', 'inches', 'apple', 'iphone']\n",
            "A3QF1T3G8FG5P9 B019WUS98S\n",
            "[['case', 'very', 1, 'The case has a very clean look with just a little branding on the back a the bottom if some like clear cases I would recommend this case'], ['case', 'clear', 1, 'The case is clear but has black designs to match the black variant of the S7 Edge I own'], ['case', 'great', 1, \"The case it's self even though it's clear offers some great protection for the aluminum frae and back of the device\\n\"]]\n",
            "['bumper', 'case', 'corner', 'edge', 'bulk', 'samsung', 'protective', 'premium', 'galaxy']\n",
            "A3QF1T3G8FG5P9 B01A7IDNWQ\n",
            "[['protection', 'great', 1, 'great protection'], ['packaging', 'normal', 1, 'The case comes in black and orange Spigen packaging as normal'], ['case', 'back', 1, 'On the back of the case is a kickstand with spigen branding on it'], ['case', 'great', 1, 'The case is dual layered for great protection\\n']]\n",
            "['edge', 'duty', 'armor', 'tough', 'galaxy']\n",
            "A3QF1T3G8FG5P9 B01B1I6IT6\n",
            "[['rubber', 'black', 1, 'The first part being a black rubber that covers the back and sides of the device'], ['silver', 'black', 1, 'I love the combination of the black and silver because I own the onyx black variant of the S7 Edge'], ['case', 'great', 1, 'This case is a great combination of protection and design\\n']]\n",
            "['protection', 'edge', 'frame', 'inner', 'galaxy']\n",
            "A3QF1T3G8FG5P9 B01B3J7H5W\n",
            "[['phone', 'first', 1, 'The device also has a nice lip when I drop my phone face first the lip of the case hits the ground first'], ['device', 'unique', 1, 'it gave my device a unique look\\n']]\n",
            "['light', 'composite', 'military', 'lg']\n",
            "A3QF1T3G8FG5P9 B01B1I6JWW\n",
            "['case', 'frame', 'protection']\n",
            "ADEUZ8CDBECA1 B019WUS98S\n",
            "[['cases', 'available', 1, 'As someone who gets around to owning most of the cases that are available'], ['screen protectors', 'available', 1, 'and peel up most of the screen protectors available'], ['button', 'tactile', -1, 'Each button is tactile and easy to press'], ['phone', 'cheap', -1, 'but found that many clear cases make the phone look cheap and accumulate fingerprints really easily\\n']]\n",
            "['bumper', 'case', 'corner', 'edge', 'bulk', 'samsung', 'premium', 'galaxy']\n",
            "ADEUZ8CDBECA1 B00I3UWD40\n",
            "['case', 'duty', 'armor', 'extreme', 'heavy', 'tough']\n",
            "ADEUZ8CDBECA1 B01BIHUABW\n",
            "[['case', 'good', 1, 'So the first thing I did was find a case that could be protective but still look good enough to cover up the terrible g5 style\\n']]\n",
            "['case', 'scratch', 'lg']\n",
            "ADEUZ8CDBECA1 B013A1ONDA\n",
            "['case', 'protective', 'material', 'premium', 'affinity']\n",
            "ADEUZ8CDBECA1 B010MWFUBY\n",
            "['design', 'armor']\n",
            "A4VMQ6ZTSXSSL B00Z7S0OTW\n",
            "['case', 'bubblegum', 'pink', 'seashell', 'lg', 'series']\n",
            "A4VMQ6ZTSXSSL B00Z7S5IY8\n",
            "[['phone', 'heavy', 1, \"If you're a heavy phone user go for the defender case\"], ['fits', 'nice', 1, 'It was easy to install and fits nice'], ['case', 'real', 1, \"It's really cute case\"], ['case', 'cute', 1, \"It's really cute case\\n\"]]\n",
            "['case', 'symmetry', 'edge', 'samsung', 'series', 'galaxy']\n",
            "A4VMQ6ZTSXSSL B0044WL17Q\n",
            "['quality']\n",
            "A4VMQ6ZTSXSSL B00Z7RQ0NC\n",
            "[['protection', 'easy', 1, 'So this case is thinner but still provides adequate protection for easy going users'], ['case', 'easy', 1, 'So this case is thinner but still provides adequate protection for easy going users'], ['buttons', 'easy', 1, 'The on/off buttons are easy to press through the case\\n']]\n",
            "['night', 'symmetry', 'date', 'otterbox']\n",
            "A4VMQ6ZTSXSSL B00Z7RT4J4\n",
            "['packaging', 'cowabunga', 'marthoner']\n",
            "A2QDOJFFLFGF18 B00Z7S0OTW\n",
            "[['cases', 'great', 1, 'Otterbox makes great cases'], ['case', 'great', 1, 'This case has a great slick design'], ['case', 'great', 1, 'This case has great colors\\n']]\n",
            "['case', 'bubblegum', 'pink', 'seashell', 'series', 'otterbox', 'lg', '77', 'commuter']\n",
            "A2QDOJFFLFGF18 B00Z7SVPHC\n",
            "['case', 'symmetry', 'samsung', 'series', 'otterbox', 'packaging', 'galaxy']\n",
            "A2QDOJFFLFGF18 B0044WL17Q\n",
            "['quality']\n",
            "A2QDOJFFLFGF18 B00Z7S353E\n",
            "[['cases', 'good', 1, 'Otterbox makes some very good cases\\n']]\n",
            "['packaging', 'retail']\n",
            "A2QDOJFFLFGF18 B00Z7RMJ1O\n",
            "[['screen protector', 'good', 1, 'This is a good quality screen protector'], ['quality', 'good', 1, 'This is a good quality screen protector\\n']]\n",
            "['packaging']\n",
            "ALXRR13LFL1Q4 B00GDQ6DG0\n",
            "['power', 'capacity', 'battery', 'rechargeable', 'external', 'high', '5600mah', 'iphone', 'portable']\n",
            "ALXRR13LFL1Q4 B00YRYS4T4\n",
            "[['quality', 'high', 1, '- affordable for a high quality 10-port charger'], ['quality', 'excellent', 1, '- excellent build quality as always by Anker\\n']]\n",
            "['6s', 'pro', 'xr', 's7', 'lg', 'air', 'wall', 'iphone', 'mini', 'xs', 'usb', 's9', 's8', 'ipad', 'edge', 'powerport', '10', 'charger', 'galaxy']\n",
            "ALXRR13LFL1Q4 B00DW1K35G\n",
            "['6s', 'speed', 'car', 'iphone', 'storage', 'high', 'max', 'xs', '15w']\n",
            "ALXRR13LFL1Q4 B014ZO46LK\n",
            "[['cable', 'micro', 1, 'micro USB cable'], ['charge', 'compatible', 1, 'Its dual port feature can simultaneously charge two compatible devices at once\\n']]\n",
            "['battery', 'macbooks', 'ipad', 'charger', 'iphone', 'portable']\n",
            "ALXRR13LFL1Q4 B00VH88CJ0\n",
            "['car', 'iphone', 'max', 'xs', 'xr']\n",
            "ASY25YMTIC2A9 B00IPGVYS8\n",
            "['case', 'retail', 'pink', 'rose', 'samsung', 'protective', 'otterbox', 'packaging', 'neon', 'white']\n",
            "ASY25YMTIC2A9 B00Z7RQB7M\n",
            "[['protection', 'great', 1, 'the protection is great'], ['fit', 'great', 1, 'Not so great fit\\n']]\n",
            "['packaging', 'case', 'lg', 'otterbox']\n",
            "ASY25YMTIC2A9 B0151E6U3K\n",
            "['motorola', 'military', 'composite']\n",
            "ASY25YMTIC2A9 B00Z7TNISU\n",
            "[['protection', 'available', 1, 'perfect case with the best protection available\\n']]\n",
            "['profile', 'styles', 'symmetry', 'ultra', 'saltwater', 'pink', 'otterbox', 'packaging', 'design', 'sleek', 'slim']\n",
            "ASY25YMTIC2A9 B00Z7TXGC8\n",
            "[['drop protection', 'good', 1, 'but very good drop protection'], ['protection', 'good', 1, 'It offers a good deal of protection with moderate added bulk'], ['protection', 'good', 1, 'Drop protection is very good'], ['fits', 'perfect', 1, 'fits perfectly with no problems\\n']]\n",
            "['case', 'retail', 'packaging', 'waterproof', 'iphone', 'lime']\n",
            "A2FWOQYH1NJQ2M B01A7ID3PS\n",
            "[['protection', 'moderate', 1, 'If you are looking for moderate protection but without losing your wallet this will work\\n']]\n",
            "['armor', 'fortification']\n",
            "A2FWOQYH1NJQ2M B01B1I6JWW\n",
            "[['review', 'quick', 1, 'Check out my video below for a quick review of the case\\n']]\n",
            "['frame', 'inner', 'protection']\n",
            "A2FWOQYH1NJQ2M B0131KPW4Y\n",
            "['grade', 'edge']\n",
            "A2FWOQYH1NJQ2M B01A7IDCC2\n",
            "[['drops', 'great', 1, 'Not protecting against drops but great for basic protection'], ['case', 'thin', 1, 'Good thin case\\n']]\n",
            "['surface', 'edge', 'galaxy']\n",
            "A2FWOQYH1NJQ2M B01AX3S17C\n",
            "['heavy', 'protective']\n",
            "ABIVILOWVFQ9F B00Z7TKWLG\n",
            "[['case', 'red', 1, 'Some people have question whether the case reduces the quality of sound'], ['quality', 'sound', 1, 'Some people have question whether the case reduces the quality of sound\\n']]\n",
            "['edge', 'riot', 'grape', 'haze', 'light', 'plum']\n",
            "ABIVILOWVFQ9F B00Z7TXGC8\n",
            "[['ports', 'accessible', 1, 'Buttons and ports easily accessible'], ['protection', 'best', -1, 'I just cant spend the money on a new iPhone and not have the very best protection\\n']]\n",
            "['case', 'retail', 'lite', 'series', 'packaging', 'night', 'black', 'lifeproof', 'waterproof', 'amp', 'iphone', 'lime']\n",
            "ABIVILOWVFQ9F B01BHCLFCG\n",
            "['edge', 'candyshell', 'military', 'products', 'galaxy']\n",
            "ABIVILOWVFQ9F B00Z7RUD80\n",
            "[['case', 'red', 1, 'Some people have question whether the case reduces the quality of sound'], ['quality', 'sound', 1, 'Some people have question whether the case reduces the quality of sound\\n']]\n",
            "['riot', 'grape', 'haze', 'light', 'plum']\n",
            "ABIVILOWVFQ9F B00QM0GAXI\n",
            "['galaxy']\n",
            "A215WH6RUDUCMP B00Z7RQB7M\n",
            "[['color', 'nice', 1, 'nice color'], ['fit', 'good', 1, 'good fit'], ['case', 'heavy', 1, 'Great heavy duty case\\n']]\n",
            "['packaging', 'case', 'lg', 'otterbox']\n",
            "A215WH6RUDUCMP B00Z7RL28A\n",
            "['case', 'symmetry', 'crystal', 'edge', 'retail', 'samsung', 'otterbox', 'packaging', 'clear', 'galaxy']\n",
            "A215WH6RUDUCMP B00Z7RURS6\n",
            "[['color', 'nice', 1, 'nice color'], ['fit', 'good', 1, 'good fit'], ['case', 'heavy', 1, 'Great heavy duty case\\n']]\n",
            "['winsome', 'nebula', 'defender', 'otterbox', 'night', 'orchid', 'purple']\n",
            "A215WH6RUDUCMP B00Z7S353E\n",
            "[['fit', 'good', 1, 'good fit'], ['color', 'nice', 1, 'nice color'], ['case', 'heavy', 1, 'Great heavy duty case\\n']]\n",
            "['packaging', 'case']\n",
            "A215WH6RUDUCMP B0085JRQZU\n",
            "['sample']\n",
            "A1FL151ER57VW3 B00SV63L38\n",
            "['case', 'edge', 'duty', 'armor', 'tough', 'galaxy']\n",
            "A1FL151ER57VW3 B0131KPW4Y\n",
            "['bumper', 'edge']\n",
            "A1FL151ER57VW3 B01GU4MEFI\n",
            "[['reviews', 'helpful', 1, 'My hope is that these reviews are helpful to others'], ['review', 'good', 1, 'I received no monetary compensation and not required to give a good review'], ['screen protector', 'free', 1, 'We liked the way the order included a free glass screen protector'], ['case', 'real', 1, 'This is a really nice case and I really liked it'], ['case', 'nice', 1, 'This is a really nice case and I really liked it'], ['case', 'thin', 1, 'Nice looking and functioning thin case'], ['case', 'beautiful', 1, 'When I saw this I had to grab this beautiful case'], ['case', 'full', 1, \"My wife really likes the fact that it's a full body case and is still slim\\n\"]]\n",
            "['body', 'light', 'slim', 'ultra']\n",
            "A1FL151ER57VW3 B014U7MLFK\n",
            "['skin', 'ultra']\n",
            "A1FL151ER57VW3 B00H3YFNIU\n",
            "['protective', 'slim']\n"
          ]
        }
      ],
      "source": [
        "for ui in opt_model.u_i_exp_dict:\n",
        "  user_id=rec_dataset.inv_user_name_dict[ui[0]]\n",
        "  item_id=rec_dataset.inv_item_name_dict[ui[1]]\n",
        "  # opt_model.user_perspective_test_data\n",
        "  print(user_id , item_id)\n",
        "  if(user_id,item_id) in review_features:\n",
        "    print(review_features[(user_id,item_id)])\n",
        "  print(opt_model.u_i_exp_dict[ui])"
      ]
    },
    {
      "cell_type": "code",
      "execution_count": null,
      "metadata": {
        "id": "usq8YLJD9JhA"
      },
      "outputs": [],
      "source": [
        "with open(os.path.join(save_path, dataset + \"_explanation_obj_main.pickle\"), 'rb') as opt:\n",
        "  opt_model_main = pickle.load(opt)"
      ]
    },
    {
      "cell_type": "code",
      "source": [
        "with open(os.path.join(data_obj_path, dataset + \"_dataset_obj_main.pickle\"), 'rb') as inp:\n",
        "        rec_dataset_main = pickle.load(inp)"
      ],
      "metadata": {
        "id": "gZz7MNWDBjLN"
      },
      "execution_count": null,
      "outputs": []
    },
    {
      "cell_type": "code",
      "source": [
        "inv_user_name_dict = {v: k for k, v in rec_dataset_main.user_name_dict.items()}\n",
        "inv_item_name_dict = {v: k for k, v in rec_dataset_main.item_name_dict.items()}\n",
        "inv_features_dict = {v: k for k, v in rec_dataset_main.feature_name_dict.items()}"
      ],
      "metadata": {
        "id": "BePdG4Uz_GqQ"
      },
      "execution_count": null,
      "outputs": []
    },
    {
      "cell_type": "code",
      "source": [
        "for key in opt_model_main.u_i_exp_dict.keys():\n",
        "  user=key[0]\n",
        "  item=key[1]\n",
        "  features=opt_model_main.u_i_exp_dict[key]\n",
        "  user_id=inv_user_name_dict[user]\n",
        "  item_id=inv_item_name_dict[item]\n",
        "  print(user_id)\n",
        "  print(item_id)\n",
        "  # print(df_reviews[(df_reviews['reviewerID']==user_id)])\n",
        "  if(user_id,item_id) in review_features:\n",
        "    print(review_features[(user_id,item_id)])\n",
        "  for feature in features:\n",
        "    print(inv_features_dict[feature])\n",
        "  print('----------------')"
      ],
      "metadata": {
        "colab": {
          "base_uri": "https://localhost:8080/"
        },
        "id": "HAj4DFDs-2RX",
        "outputId": "79a440ff-d317-4b18-af8b-1b5f6c9f6417"
      },
      "execution_count": null,
      "outputs": [
        {
          "output_type": "stream",
          "name": "stdout",
          "text": [
            "A1ZU55TM45Y2R8\n",
            "B01BCWL4AY\n",
            "[['case', 'good', 1, 'She got the gold color so she wants to show it off and this case adds good protection while still allowing the phone to be seen'], ['case', 'good', 1, 'She got the gold color so she wants to show it off and this case adds good protection while still allowing the phone to be seen\\n']]\n",
            "buttons\n",
            "case\n",
            "cases\n",
            "----------------\n",
            "A1ZU55TM45Y2R8\n",
            "B00TYTDO88\n",
            "phone\n",
            "buttons\n",
            "case\n",
            "plastic\n",
            "----------------\n",
            "A1ZU55TM45Y2R8\n",
            "B00Z7RQB7M\n",
            "case\n",
            "polycarbonate\n",
            "----------------\n",
            "A12DQZKRKTNF5E\n",
            "B00BW0XZO0\n",
            "battery\n",
            "quality\n",
            "price\n",
            "product\n",
            "charge\n",
            "case\n",
            "charger\n",
            "screen\n",
            "----------------\n",
            "A12DQZKRKTNF5E\n",
            "B00LS08VMK\n",
            "battery\n",
            "quality\n",
            "cable\n",
            "----------------\n",
            "A12DQZKRKTNF5E\n",
            "B00G0AMUE8\n",
            "[['charge', 'fast', 1, 'The bank has fast charge capabilities and a flashlight built-in'], ['charge', 'full', 1, 'and fully charged it could give you enough power to recharge an iPhone multiple times over a 3 day weekend'], ['price', 'low', 1, 'low price (paid seventeen for the 10400mAh) and the TP-Link brand name'], ['capacity', 'higher', 1, 'There are a lot of power banks out that have higher capacity for a competitive price\\n']]\n",
            "quality\n",
            "charger\n",
            "----------------\n",
            "A12DQZKRKTNF5E\n",
            "B00RDMZKBM\n",
            "quality\n",
            "price\n",
            "----------------\n",
            "A33WFRICMYRPT6\n",
            "B00Z7RT4J4\n",
            "[['screen protector', 'plastic', 1, 'the integrated plastic screen protector I had loved so much now seems cheap with the introduction of glass screen protectors'], ['plastic', 'inner', 1, 'The inner plastic shell snaps together tightly and seamlessly so if dirt gets past the outer rubber layer it still has the plastic shell to get by'], ['shell', 'inner', 1, 'The inner plastic shell snaps together tightly and seamlessly so if dirt gets past the outer rubber layer it still has the plastic shell to get by'], ['camera', 'open', 1, \"I can't say I like the aesthetics of the camera opening\\n\"]]\n",
            "buttons\n",
            "product\n",
            "case\n",
            "phones\n",
            "----------------\n",
            "A33WFRICMYRPT6\n",
            "B00Z7SHD96\n",
            "looks\n",
            "case\n",
            "rubber\n",
            "screen\n",
            "ports\n",
            "shell\n",
            "----------------\n",
            "A33WFRICMYRPT6\n",
            "B00U8KSUIG\n",
            "charge\n",
            "phones\n",
            "----------------\n",
            "A33WFRICMYRPT6\n",
            "B00Z7S3YEY\n",
            "[['protection', 'great', 1, 'They offer great protection at various levels'], ['case', 'very', 1, 'The case fits very nicely on the G5 (even with the additional glass screen protector installed)\\n']]\n",
            "case\n",
            "protection\n",
            "phones\n",
            "----------------\n",
            "A1F7YU6O5RU432\n",
            "B00Z7RQIJS\n",
            "[['color', 'blue', 1, 'Ocean Way is a light aqua blue color\\n']]\n",
            "buttons\n",
            "protection\n",
            "screen\n",
            "----------------\n",
            "A1F7YU6O5RU432\n",
            "B00XQ0XOVI\n",
            "device\n",
            "charge\n",
            "charger\n",
            "nylon\n",
            "----------------\n",
            "A1F7YU6O5RU432\n",
            "B00Z7RK9OS\n",
            "[['looks', 'good', 1, 'Even the Otterbox logo on the side of the case looks good'], ['case', 'good', 1, 'Even the Otterbox logo on the side of the case looks good\\n']]\n",
            "buttons\n",
            "----------------\n",
            "A3VVMIMMTYQV5F\n",
            "B00P7N0320\n",
            "battery\n",
            "quality\n",
            "size\n",
            "devices\n",
            "looks\n",
            "lights\n",
            "device\n",
            "charging\n",
            "charger\n",
            "capacity\n",
            "----------------\n",
            "A3VVMIMMTYQV5F\n",
            "B00TAA8MNS\n",
            "[['item', 'complimentary', 1, 'I will ALWAYS state if I received the item complimentary from the vendor'], ['phones', 'small', 1, 'and about 125% for smaller phones'], ['quality', 'functional', 1, 'this is a quality and functional portable charger'], ['inches', 'long', 1, 'At about 4 inches long'], ['inches', 'long', 1, \"It's just under 4 inches long\\n\"]]\n",
            "devices\n",
            "device\n",
            "charge\n",
            "review\n",
            "----------------\n",
            "A3VVMIMMTYQV5F\n",
            "B00Z7ROHG4\n",
            "looks\n",
            "protection\n",
            "cases\n",
            "shell\n",
            "----------------\n",
            "A3VVMIMMTYQV5F\n",
            "B00U7YKO78\n",
            "[['plastic', 'back', 1, 'I have a Spigen case that has a clear plastic back'], ['charge', 'quick', 1, \"It charged so quick I didn't get the chance to really figure out when it topped off\"], ['phone', 'right', 1, 'I charged my phone right away to try it out'], ['case', 'clear', 1, 'I have a Spigen case that has a clear plastic back'], ['case', 'clear', 1, 'My Spigen case was a clear plastic'], ['lights', 'blue', 1, 'the blue lights will start blinking'], ['lights', 'blue', 1, 'it emits 2 deep blue tubular lights along the front side to let you know\\n']]\n",
            "battery\n",
            "----------------\n",
            "A3VVMIMMTYQV5F\n",
            "B00OZN4LYO\n",
            "phone\n",
            "looks\n",
            "----------------\n",
            "A680RUE1FDO8B\n",
            "B00NIKOT56\n",
            "phone\n",
            "product\n",
            "screen\n",
            "----------------\n",
            "A680RUE1FDO8B\n",
            "B009A51Y1U\n",
            "product\n",
            "----------------\n",
            "A680RUE1FDO8B\n",
            "B00MOOFFY6\n",
            "product\n",
            "----------------\n",
            "A680RUE1FDO8B\n",
            "B011BIWAX4\n",
            "phone\n",
            "----------------\n",
            "A1UQUDT2Q0YENM\n",
            "B00Z7RNO5E\n",
            "[['looks', 'great', 1, 'I got the red and I think it looks great'], ['looks', 'nice', 1, 'but still looks nice'], ['case', 'best', 1, \"I think it's the best Edge case I've seen yet\"], ['phone', 'bulky', -1, 'it makes the phone more bulky\\n']]\n",
            "rubber\n",
            "magnet\n",
            "emergency\n",
            "shell\n",
            "----------------\n",
            "A1UQUDT2Q0YENM\n",
            "B010MWINAO\n",
            "product\n",
            "----------------\n",
            "A1UQUDT2Q0YENM\n",
            "B00P7N0320\n",
            "battery\n",
            "devices\n",
            "lights\n",
            "iphone\n",
            "capacity\n",
            "----------------\n",
            "A1UQUDT2Q0YENM\n",
            "B010MVJM5K\n",
            "product\n",
            "----------------\n",
            "A1UQUDT2Q0YENM\n",
            "B019Q68JSI\n",
            "case\n",
            "magnet\n",
            "----------------\n",
            "A2503LT8PZIHAD\n",
            "B00Z7S0OTW\n",
            "case\n",
            "protection\n",
            "rubber\n",
            "cases\n",
            "screen\n",
            "----------------\n",
            "A2503LT8PZIHAD\n",
            "B009GB6DBO\n",
            "phone\n",
            "----------------\n",
            "A2503LT8PZIHAD\n",
            "B00Z7RQIJS\n",
            "[['screen protector', 'plastic', 1, 'but struggled with the plastic screen protector'], ['phone', 'pretty', 1, 'pretty phone'], ['case', 'entire', 1, 'I ended up taking the entire case off because I was so annoyed by how difficult it was to use'], ['case', 'protective', 1, 'I initially put a more protective case on it\\n']]\n",
            "buttons\n",
            "protection\n",
            "grip\n",
            "----------------\n",
            "A1TJ60Y7ZBO4EK\n",
            "B00GDQ6DG0\n",
            "quality\n",
            "weight\n",
            "capacity\n",
            "----------------\n",
            "A1TJ60Y7ZBO4EK\n",
            "B01BM01J1U\n",
            "case\n",
            "----------------\n",
            "A1TJ60Y7ZBO4EK\n",
            "B00Z7RT4J4\n",
            "buttons\n",
            "product\n",
            "----------------\n",
            "A1TJ60Y7ZBO4EK\n",
            "B0069Y3AS0\n",
            "[['case', 'good', 1, 'good case\\n']]\n",
            "case\n",
            "----------------\n",
            "ANGGNFE8DXGYC\n",
            "B008HTJMY6\n",
            "battery\n",
            "quality\n",
            "charge\n",
            "cable\n",
            "----------------\n",
            "ANGGNFE8DXGYC\n",
            "B00V80ZQ5K\n",
            "[['price', 'good', 1, 'good price\\n']]\n",
            "price\n",
            "device\n",
            "cable\n",
            "----------------\n",
            "ANGGNFE8DXGYC\n",
            "B00VKSJUFM\n",
            "product\n",
            "----------------\n",
            "ANGGNFE8DXGYC\n",
            "B00HQMNS8G\n",
            "looks\n",
            "----------------\n",
            "ANGGNFE8DXGYC\n",
            "B00JH88AJ4\n",
            "[['product', 'good', 1, 'good product - clear and sturdy'], ['buy', 'good', 1, 'good buy'], ['fitting', 'tight', 1, 'tight fitting\\n']]\n",
            "looks\n",
            "----------------\n",
            "AFHYEO3Y1IIDD\n",
            "B01B8E1FFU\n",
            "product\n",
            "case\n",
            "cases\n",
            "shell\n",
            "----------------\n",
            "AFHYEO3Y1IIDD\n",
            "B00U7YKO78\n",
            "phone\n",
            "product\n",
            "charge\n",
            "charger\n",
            "----------------\n",
            "AFHYEO3Y1IIDD\n",
            "B005LUBUT4\n",
            "quality\n",
            "case\n",
            "----------------\n",
            "AFHYEO3Y1IIDD\n",
            "B00BMCYYL6\n",
            "phone\n",
            "quality\n",
            "case\n",
            "----------------\n",
            "A2D1LPEUCTNT8X\n",
            "B00ITILPZ4\n",
            "[['charge', 'able', 1, 'I was able charge my phone with 3800mAh extended battery from low levels to full twice'], ['capacity', 'big', 1, 'big capacity in a compact charging package and quick charging to boot'], ['charging indicator', 'next', 1, 'The battery has small white LED light charging indicator next to the on/off button'], ['lights', 'steady', 1, 'Charge level is indicated by blinking and steady lights\\n']]\n",
            "quality\n",
            "charge\n",
            "cable\n",
            "----------------\n",
            "A2D1LPEUCTNT8X\n",
            "B00D6KQ3XE\n",
            "[['charge', 'able', 1, 'I was able charge my phone with 3800mAh extended battery from low levels to full once\\n']]\n",
            "battery\n",
            "devices\n",
            "device\n",
            "cable\n",
            "----------------\n",
            "A2D1LPEUCTNT8X\n",
            "B00JPIAK7Q\n",
            "battery\n",
            "devices\n",
            "price\n",
            "camera\n",
            "----------------\n",
            "A2D1LPEUCTNT8X\n",
            "B00GP0GUC6\n",
            "quality\n",
            "cable\n",
            "----------------\n",
            "AVPNQUVZWMDSX\n",
            "B00OBSPWD2\n",
            "[['price', 'low', 1, 'low price\\n']]\n",
            "quality\n",
            "price\n",
            "colors\n",
            "cable\n",
            "----------------\n",
            "AVPNQUVZWMDSX\n",
            "B00PRXHCPQ\n",
            "battery\n",
            "product\n",
            "charge\n",
            "protection\n",
            "cable\n",
            "----------------\n",
            "AVPNQUVZWMDSX\n",
            "B00B7E1D7W\n",
            "[['case', 'open', -1, 'the connector is roughly the same size so it fits even the tightest case opening\\n']]\n",
            "price\n",
            "cables\n",
            "cable\n",
            "----------------\n",
            "AVPNQUVZWMDSX\n",
            "B016EHAAY8\n",
            "battery\n",
            "fit\n",
            "cases\n",
            "----------------\n",
            "A32LX4XJ2LU740\n",
            "B00JG9O2P0\n",
            "device\n",
            "product\n",
            "----------------\n",
            "A32LX4XJ2LU740\n",
            "B00PRXHCPQ\n",
            "phone\n",
            "battery\n",
            "product\n",
            "----------------\n",
            "A32LX4XJ2LU740\n",
            "B0056AN7SQ\n",
            "phone\n",
            "battery\n",
            "product\n",
            "----------------\n",
            "A3RDS0DJ5EJGA7\n",
            "B00Z7RMAMC\n",
            "phone\n",
            "quality\n",
            "looks\n",
            "protection\n",
            "----------------\n",
            "A3RDS0DJ5EJGA7\n",
            "B0085R2F3K\n",
            "phone\n",
            "quality\n",
            "camera\n",
            "----------------\n",
            "A3RDS0DJ5EJGA7\n",
            "B00974L60S\n",
            "phone\n",
            "fits\n",
            "product\n",
            "----------------\n",
            "A1UX3U22CLSPV8\n",
            "B00GDQ6DG0\n",
            "battery\n",
            "quality\n",
            "weight\n",
            "capacity\n",
            "----------------\n",
            "A1UX3U22CLSPV8\n",
            "B008HTJMY6\n",
            "battery\n",
            "quality\n",
            "charge\n",
            "cable\n",
            "----------------\n",
            "A1UX3U22CLSPV8\n",
            "B01222ELSA\n",
            "devices\n",
            "product\n",
            "----------------\n",
            "A1LA4K5JF78BER\n",
            "B00Z7RQ0NC\n",
            "[['case', 'good', 1, 'The case provides a good level of protection and at the same time looks very good'], ['buttons', 'easy', 1, 'I find the buttons to be easy to press and responsive\\n'], ['screen', 'protected', 1, 'I still like to keep the screen protected so with this case I would still add a protector'], ['protection', 'good', 1, 'I love the Symmetry Series for being a sleek design yet with good protection and not as bulky as the Commuter and Defender Series'], ['colors', 'bright', 1, 'The new brightly themed colors are vibrant and eye catching'], ['grip', 'decent', 1, 'The sides give decent grip too'], ['buttons', 'easy', 1, 'yet the buttons are easy to press\\n']]\n",
            "fit\n",
            "buttons\n",
            "protection\n",
            "cases\n",
            "----------------\n",
            "A1LA4K5JF78BER\n",
            "B00Z7RURS6\n",
            "[['protection', 'best', 1, 'but if you want some of the best protection there is little out there that is better\\n']]\n",
            "buttons\n",
            "protection\n",
            "----------------\n",
            "A1LA4K5JF78BER\n",
            "B00Z7SXR0K\n",
            "cases\n",
            "----------------\n",
            "A1LA4K5JF78BER\n",
            "B01AQBGHEA\n",
            "protection\n",
            "----------------\n",
            "A2ZY49IDE6TY5I\n",
            "B00F8OYPUO\n",
            "quality\n",
            "price\n",
            "edge\n",
            "lint\n",
            "bubble\n",
            "----------------\n",
            "A2ZY49IDE6TY5I\n",
            "B009S16LWS\n",
            "case\n",
            "plastic\n",
            "----------------\n",
            "A1X1CEGHTHMBL1\n",
            "B00D6KQ3XE\n",
            "battery\n",
            "devices\n",
            "device\n",
            "cable\n",
            "----------------\n",
            "A1X1CEGHTHMBL1\n",
            "B00V4LPCQG\n",
            "battery\n",
            "device\n",
            "charge\n",
            "camera\n",
            "----------------\n",
            "A1X1CEGHTHMBL1\n",
            "B00A29WCA0\n",
            "devices\n",
            "price\n",
            "charge\n",
            "camera\n",
            "----------------\n",
            "A2I7IS0OXGGVPA\n",
            "B00DY9WN8G\n",
            "quality\n",
            "capacity\n",
            "----------------\n",
            "A2I7IS0OXGGVPA\n",
            "B00UNOB0FW\n",
            "phone\n",
            "looks\n",
            "protection\n",
            "----------------\n",
            "A2I7IS0OXGGVPA\n",
            "B00SXFEAB4\n",
            "[['case', 'great', 1, 'Always great case\\n']]\n",
            "fit\n",
            "looks\n",
            "shield\n",
            "----------------\n",
            "A2I7IS0OXGGVPA\n",
            "B00Z7RMJ1O\n",
            "quality\n",
            "----------------\n",
            "A2I7IS0OXGGVPA\n",
            "B00BJU0CHQ\n",
            "quality\n",
            "----------------\n",
            "A2BMZRO0H7TFCS\n",
            "B00Z7T2QQA\n",
            "[['screen protector', 'easy', 1, 'The OtterBox glass screen protector is easy to install and feels great\\n']]\n",
            "product\n",
            "plastic\n",
            "products\n",
            "screen\n",
            "screen protector\n",
            "----------------\n",
            "A2BMZRO0H7TFCS\n",
            "B00NH12EHQ\n",
            "phone\n",
            "price\n",
            "product\n",
            "cables\n",
            "charge\n",
            "plastic\n",
            "cable\n",
            "package\n",
            "car charger\n",
            "----------------\n",
            "A2BMZRO0H7TFCS\n",
            "B00BWG4TUI\n",
            "[['price', 'little', 1, 'even if it is a little pricey\\n']]\n",
            "battery\n",
            "charge\n",
            "bluetooth\n",
            "touch\n",
            "----------------\n",
            "A2BMZRO0H7TFCS\n",
            "B009P16FKY\n",
            "[['nano', 'micro', 1, 'I needed to cut a microSIM to a nanoSIM and this card cutter did the job\\n']]\n",
            "phone\n",
            "product\n",
            "phones\n",
            "----------------\n",
            "A1ZCSSCAGBCD49\n",
            "B00JOB1IES\n",
            "[['case', 'very', 1, 'this LifeProof case is very rugged and it is also waterproof'], ['case', 'strong', 1, 'This is a nice strong case and while a little pricey seems well constructed and should last'], ['case', 'rugged', 1, 'If you are looking for a rugged case for your iPhone 5 series'], ['case', 'good', 1, \"It's a good case and is certainly worthy of consideration for your extreme adventures\"], ['case', 'waterproof', 1, 'A rugged waterproof case for your iPhone 5 series and SE\\n']]\n",
            "fit\n",
            "charging\n",
            "case\n",
            "protection\n",
            "----------------\n",
            "A1ZCSSCAGBCD49\n",
            "B00XJK46Q2\n",
            "quality\n",
            "case\n",
            "protection\n",
            "quality product\n",
            "----------------\n",
            "A1ZCSSCAGBCD49\n",
            "B00846V35I\n",
            "quality\n",
            "----------------\n",
            "A1ZCSSCAGBCD49\n",
            "B003SX0P1A\n",
            "buttons\n",
            "case\n",
            "----------------\n",
            "ARBKYIVNYWK3C\n",
            "B00RH0IWJC\n",
            "phone\n",
            "quality\n",
            "price\n",
            "protection\n",
            "quality product\n",
            "----------------\n",
            "ARBKYIVNYWK3C\n",
            "B00UK3U3AY\n",
            "[['phone', 'secure', 1, 'holds the phone securely\\n']]\n",
            "price\n",
            "----------------\n",
            "ARBKYIVNYWK3C\n",
            "B00QAXY27S\n",
            "[['cost', 'low', 1, 'at a lower cost\\n']]\n",
            "phone\n",
            "magnet\n",
            "----------------\n",
            "ARBKYIVNYWK3C\n",
            "B00C4NWEJQ\n",
            "quality\n",
            "----------------\n",
            "ARBKYIVNYWK3C\n",
            "B010MWECCW\n",
            "phone\n",
            "----------------\n",
            "A3CJ3DKELFXX59\n",
            "B00Z7SCR9C\n",
            "fit\n",
            "weight\n",
            "----------------\n",
            "AN81JUYW2SL24\n",
            "B00F7QKHFA\n",
            "quality\n",
            "cable\n",
            "color\n",
            "----------------\n",
            "AN81JUYW2SL24\n",
            "B0061YRDX6\n",
            "phone\n",
            "battery\n",
            "device\n",
            "screen\n",
            "----------------\n",
            "AN81JUYW2SL24\n",
            "B017JT6846\n",
            "[['quality', 'excellent', 1, 'The build quality is excellent\\n']]\n",
            "looks\n",
            "device\n",
            "packaging\n",
            "----------------\n",
            "AN81JUYW2SL24\n",
            "B01B1V3QNY\n",
            "[['buttons', 'easy', 1, 'The buttons are easy to use and the ports are all cleared of obstructions'], ['cases', 'clear', 1, 'The Ice clear plastic cases are a different material from their colored cases'], ['screen protector', 'ballistic', 1, \"Throw on a ballistic glass screen protector and you're good to go\"], ['plastic', 'clear', 1, 'The Ice clear plastic cases are a different material from their colored cases\\n']]\n",
            "phone\n",
            "looks\n",
            "buttons\n",
            "----------------\n",
            "AN81JUYW2SL24\n",
            "B0094CX3CM\n",
            "phone\n",
            "looks\n",
            "case\n",
            "plastic\n",
            "----------------\n",
            "A10UHQH1YL5Q6B\n",
            "B01CEAYXFG\n",
            "product\n",
            "phones\n",
            "magnet\n",
            "cell phone\n",
            "app\n",
            "----------------\n",
            "A10UHQH1YL5Q6B\n",
            "B00C4NWEJQ\n",
            "quality\n",
            "cable\n",
            "color\n",
            "----------------\n",
            "A10UHQH1YL5Q6B\n",
            "B00MHMT23K\n",
            "magnet\n",
            "----------------\n",
            "A10UHQH1YL5Q6B\n",
            "B00KO4SBR6\n",
            "product\n",
            "----------------\n",
            "A10UHQH1YL5Q6B\n",
            "B00T3CJMLO\n",
            "looks\n",
            "nylon\n",
            "----------------\n",
            "A2S26YGSVXBCFL\n",
            "B009Z25H9S\n",
            "case\n",
            "protection\n",
            "----------------\n",
            "A2S26YGSVXBCFL\n",
            "B00H3YFNIU\n",
            "case\n",
            "protection\n",
            "cases\n",
            "----------------\n",
            "A2S26YGSVXBCFL\n",
            "B00TRG8KGY\n",
            "[['edges', 'nice', 1, 'The case itself protects the edges nicely and the buttons are easily pressed'], ['protection', 'good', 1, 'If you are looking for good protection with minimal bulk'], ['case', 'very', 1, 'The case fits  very well and the bezel is high enough that it should protect the face a bit as well'], ['case', 'nice', 1, 'The case itself protects the edges nicely and the buttons are easily pressed'], ['case', 'thin', 1, 'and the fact that this is a relatively thin case makes me forgive these shortcomings a bit\\n']]\n",
            "looks\n",
            "buttons\n",
            "case\n",
            "quality product\n",
            "edge\n",
            "----------------\n",
            "A2S26YGSVXBCFL\n",
            "B009VUGH34\n",
            "case\n",
            "----------------\n",
            "A23GFTVIETX7DS\n",
            "B00NLKOUHU\n",
            "sample\n",
            "screen\n",
            "----------------\n",
            "A23GFTVIETX7DS\n",
            "B00B7E1D7W\n",
            "cables\n",
            "case\n",
            "cable\n",
            "cases\n",
            "review\n",
            "----------------\n",
            "A23GFTVIETX7DS\n",
            "B005LFXBLE\n",
            "device\n",
            "cable\n",
            "----------------\n",
            "A23GFTVIETX7DS\n",
            "B004C049JC\n",
            "battery\n",
            "screen\n",
            "----------------\n",
            "A23GFTVIETX7DS\n",
            "B00993E8WK\n",
            "plastic\n",
            "cases\n",
            "----------------\n",
            "A22CW0ZHY3NJH8\n",
            "B00H8XGNUS\n",
            "camera\n",
            "phones\n",
            "screen\n",
            "color\n",
            "----------------\n",
            "A22CW0ZHY3NJH8\n",
            "B016EOU294\n",
            "screen\n",
            "lens\n",
            "----------------\n",
            "A22CW0ZHY3NJH8\n",
            "B00IZ1XJ3Q\n",
            "[['brand', 'new', 1, 'Mine was brand new\\n']]\n",
            "battery\n",
            "buttons\n",
            "price\n",
            "camera\n",
            "phones\n",
            "screen\n",
            "cell phone\n",
            "----------------\n",
            "A22CW0ZHY3NJH8\n",
            "B00F9VRQ2K\n",
            "protection\n",
            "screen protector\n",
            "----------------\n",
            "A22CW0ZHY3NJH8\n",
            "B00X53T4HY\n",
            "price\n",
            "protection\n",
            "color\n",
            "quality product\n",
            "----------------\n",
            "A3QNQQKJTL76H0\n",
            "B00DQKQ7U8\n",
            "phone\n",
            "devices\n",
            "device\n",
            "product\n",
            "----------------\n",
            "A3QNQQKJTL76H0\n",
            "B00XQ0XOVI\n",
            "[['charge', 'overnight', 1, 'I usually charge iPads overnight (so charging time is really not much of a concern)'], ['charge', 'rapid', 1, 'which means it can rapid charge 4 smaller devices at once like phones'], ['nylon', 'braided', 1, \"I like nylon braided ones because they don't tangle\"], ['quality', 'very', 1, 'Build quality is very high and the materials feel good in hand\\n']]\n",
            "quality\n",
            "devices\n",
            "device\n",
            "----------------\n",
            "A3QNQQKJTL76H0\n",
            "B00X53TLP4\n",
            "looks\n",
            "buttons\n",
            "price\n",
            "----------------\n",
            "A3QNQQKJTL76H0\n",
            "B00NC1PFP4\n",
            "devices\n",
            "device\n",
            "cable\n",
            "cases\n",
            "----------------\n",
            "A3QNQQKJTL76H0\n",
            "B00D6KQ3XE\n",
            "battery\n",
            "devices\n",
            "device\n",
            "cable\n",
            "----------------\n",
            "A1I8OVYZX81JPA\n",
            "B00GPAFLGW\n",
            "product\n",
            "----------------\n",
            "A1I8OVYZX81JPA\n",
            "B00LWT7AXI\n",
            "product\n",
            "----------------\n",
            "A1I8OVYZX81JPA\n",
            "B00M0RDH6U\n",
            "[['case', 'heavy', 1, 'heavy duty case\\n']]\n",
            "product\n",
            "----------------\n",
            "AHQRU3MRORIWQ\n",
            "B00TRG8KGY\n",
            "[['products', 'good', 1, \"I'm always on the lookout for good products for phones and this is one of those\\n\"]]\n",
            "phone\n",
            "fit\n",
            "rubber\n",
            "quality product\n",
            "edge\n",
            "edges\n",
            "bumper\n",
            "----------------\n",
            "AHQRU3MRORIWQ\n",
            "B00CGY4JBY\n",
            "battery\n",
            "cables\n",
            "----------------\n",
            "AHQRU3MRORIWQ\n",
            "B00P06KOVO\n",
            "devices\n",
            "device\n",
            "----------------\n",
            "AHQRU3MRORIWQ\n",
            "B00HIW5WW4\n",
            "product\n",
            "camera\n",
            "phones\n",
            "----------------\n",
            "AUBEFRFHJR64Y\n",
            "B004I6F3E0\n",
            "phone\n",
            "size\n",
            "devices\n",
            "device\n",
            "phones\n",
            "----------------\n",
            "AUBEFRFHJR64Y\n",
            "B00ITILPZ4\n",
            "lights\n",
            "charge\n",
            "cable\n",
            "capacity\n",
            "----------------\n",
            "AUBEFRFHJR64Y\n",
            "B00HR10NZW\n",
            "[['charger', 'right', 1, 'I does have to be be centered right on the charger\\n']]\n",
            "phone\n",
            "----------------\n",
            "AUBEFRFHJR64Y\n",
            "B01BCZ83PK\n",
            "phone\n",
            "----------------\n",
            "AUBEFRFHJR64Y\n",
            "B00FHI6GVM\n",
            "phone\n",
            "quality\n",
            "aluminum\n",
            "----------------\n",
            "A3LDPF5FMB782Z\n",
            "B014ZO46LK\n",
            "battery\n",
            "quality\n",
            "charge\n",
            "cable\n",
            "----------------\n",
            "A3LDPF5FMB782Z\n",
            "B00LJK4HL8\n",
            "phone\n",
            "quality\n",
            "device\n",
            "charge\n",
            "charger\n",
            "----------------\n",
            "A3LDPF5FMB782Z\n",
            "B016EHAAY8\n",
            "[['drop', 'prone', 1, 'The Incipio DualPro case provides heavy duty protection if you are drop prone'], ['screen', 'large', 1, 'The ZMax 2 is a very good large screen phone'], ['screen', 'good', 1, 'The ZMax 2 is a very good large screen phone'], ['battery', 'last', 1, 'and even with heavier use the battery should last 10 or 12 hours per charge'], ['fits', 'perfect', 1, 'The Incipio NGP case is light and fits perfectly'], ['fit', 'tight', 1, \"It  is a tight fit in a guy's front jeans pocket but is a good fit in a top pocket of a sports coat\"], ['size', 'similar', 1, 'It is similar in size to the massive Apple iPhone 6 Plus and to the huge Samsung Galaxy Note 4'], ['phone', 'large', 1, 'The ZMax 2 is a very good large screen phone'], ['card', 'micro', 1, 'You can add a 32gb microSD card to store your music and videos'], ['case', 'light', 1, 'The Incipio NGP case is light and fits perfectly\\n'], ['cases', 'several', 1, 'Amazon sells several nice cases (such as the Incipio case) if you are drop prone'], ['cases', 'nice', 1, 'Amazon sells several nice cases (such as the Incipio case) if you are drop prone'], ['screen', 'large', 1, 'this may be the best large screen phone in its $60 to $70 price range at Big Box stores'], ['screen', 'large', 1, 'The ZTE ZMax 2 is a very good large screen phone and it is a \"Best Buy\" if you buy the AT&T GoPhone version for $60 or $70 at your local \"Big Box\" store'], ['screen', 'huge', 1, 'Even with a huge screen and thickish body'], ['screen', 'best', 1, 'this may be the best large screen phone in its $60 to $70 price range at Big Box stores'], ['screen', 'good', 1, 'The ZTE ZMax 2 is a very good large screen phone and it is a \"Best Buy\" if you buy the AT&T GoPhone version for $60 or $70 at your local \"Big Box\" store'], ['battery', 'last', 1, 'The battery will last up to 24 hours on a charge unless you watch a lot of videos or use GPS navigation with a high screen brightness level'], ['quality', 'good', 1, 'Voice quality is good during calls and Netflix movies look good on the big 5'], ['size', 'same', 1, 'which is the same size'], ['phone', 'large', 1, 'this may be the best large screen phone in its $60 to $70 price range at Big Box stores'], ['phone', 'large', 1, 'The ZTE ZMax 2 is a very good large screen phone and it is a \"Best Buy\" if you buy the AT&T GoPhone version for $60 or $70 at your local \"Big Box\" store\\n']]\n",
            "battery\n",
            "fit\n",
            "----------------\n",
            "A3LDPF5FMB782Z\n",
            "B01AIVP2A8\n",
            "phone\n",
            "----------------\n",
            "A3LDPF5FMB782Z\n",
            "B00VKSJUFM\n",
            "phone\n",
            "product\n",
            "----------------\n",
            "ACJT8MUC0LRF0\n",
            "B00HZWJGS8\n",
            "[['screen', 'large', 1, '400~500% to large screen phones'], ['phones', 'large', 1, '400~500% to large screen phones'], ['output', 'less', 1, 'Note that significantly longer recharging time is expected if adapter output less than 1A)\\n']]\n",
            "phone\n",
            "battery\n",
            "devices\n",
            "device\n",
            "charge\n",
            "charger\n",
            "phones\n",
            "----------------\n",
            "ACJT8MUC0LRF0\n",
            "B00E45043A\n",
            "phone\n",
            "quality\n",
            "devices\n",
            "device\n",
            "speaker\n",
            "camera\n",
            "colors\n",
            "phones\n",
            "app\n",
            "----------------\n",
            "ACJT8MUC0LRF0\n",
            "B00MXWFUQC\n",
            "phone\n",
            "battery\n",
            "protection\n",
            "phones\n",
            "----------------\n",
            "A26SO3TOT2TLJE\n",
            "B00X53TLP4\n",
            "[['fit', 'perfect', 1, 'The buttons fit perfect although the power button  is a bit stiff which will probably be fine over time'], ['buttons', 'perfect', 1, 'The buttons fit perfect although the power button  is a bit stiff which will probably be fine over time'], ['phone', 'easy', 1, 'The phone is easy to put on and take off\\n']]\n",
            "looks\n",
            "buttons\n",
            "protection\n",
            "----------------\n",
            "A26SO3TOT2TLJE\n",
            "B00NH12EHQ\n",
            "quality\n",
            "case\n",
            "products\n",
            "cord\n",
            "package\n",
            "car charger\n",
            "----------------\n",
            "A26SO3TOT2TLJE\n",
            "B00AANQLRI\n",
            "battery\n",
            "quality\n",
            "weight\n",
            "----------------\n",
            "A26SO3TOT2TLJE\n",
            "B00Z7RQ0NC\n",
            "[['case', 'sturdy', 1, 'The Otterbox case feels sturdy and would be a great case to protect from minor falls'], ['case', 'sturdy', 1, 'The Otterbox case feels sturdy and would be a great case to protect from '], ['buttons', 'easy', 1, 'The lip covers the edges nicely and the buttons are easy to press'], ['edges', 'nice', 1, 'The lip covers the edges nicely and the buttons are easy to press\\n']]\n",
            "quality\n",
            "screen\n",
            "grip\n",
            "----------------\n",
            "A2LB4FLRZG6CUV\n",
            "B00B7E1D7W\n",
            "[['tangle', 'free', 1, 'The fact that the Skiva Lightning cable is a a tangle and wrinkle free design and slim connector make it much more practical than the OE Apple Lightning cable without a doubt'], ['wrinkle', 'free', 1, 'The fact that the Skiva Lightning cable is a a tangle and wrinkle free design and slim connector make it much more practical than the OE Apple Lightning cable without a doubt'], ['quality', 'high', 1, \"They make high quality stuff and every time I have had to contact their customer service it's been exceptional by being prompt and courteous\"], ['cable', 'good', 1, 'Very good cable\\n']]\n",
            "quality\n",
            "price\n",
            "cases\n",
            "----------------\n",
            "A2LB4FLRZG6CUV\n",
            "B00Z7SEJ4S\n",
            "looks\n",
            "buttons\n",
            "protection\n",
            "cases\n",
            "----------------\n",
            "A2LB4FLRZG6CUV\n",
            "B00MU59QH6\n",
            "looks\n",
            "protection\n",
            "----------------\n",
            "A2LB4FLRZG6CUV\n",
            "B00RDMZKBM\n",
            "quality\n",
            "case\n",
            "screen protector\n",
            "----------------\n",
            "A2XIOXRRYX0KZY\n",
            "B015P1MKP6\n",
            "product\n",
            "plastic\n",
            "screen\n",
            "----------------\n",
            "A2XIOXRRYX0KZY\n",
            "B00PRXHCPQ\n",
            "product\n",
            "charge\n",
            "cable\n",
            "----------------\n",
            "A2XIOXRRYX0KZY\n",
            "B00SUWLTLO\n",
            "[['color', 'nice', 1, 'The color is nice and saturated as well'], ['phone', 'nice', 1, \"it does feel like it was made well and like it'll do the basic job of keeping scuffs off of the phone while looking nice\"], ['case', 'nice', 1, 'This is a nice case that has a well-made feel to it\\n']]\n",
            "looks\n",
            "protection\n",
            "coverage\n",
            "----------------\n",
            "A2XIOXRRYX0KZY\n",
            "B00JOB1IES\n",
            "phone\n",
            "fit\n",
            "charging\n",
            "protection\n",
            "screen\n",
            "shield\n",
            "panel\n",
            "----------------\n",
            "A6VPK7X53QNAQ\n",
            "B00ZQAR95I\n",
            "product\n",
            "phones\n",
            "----------------\n",
            "A6VPK7X53QNAQ\n",
            "B00DW1K35G\n",
            "phone\n",
            "quality\n",
            "devices\n",
            "looks\n",
            "weight\n",
            "product\n",
            "color\n",
            "----------------\n",
            "A6VPK7X53QNAQ\n",
            "B00HHT9FL2\n",
            "quality\n",
            "device\n",
            "product\n",
            "phones\n",
            "----------------\n",
            "A6VPK7X53QNAQ\n",
            "B00M807UK8\n",
            "[['smartphone', 'simple', 1, 'I am a fan of magnetic mounts as they really make mounting a GPS device or a smartphone really simple\\n']]\n",
            "price\n",
            "phones\n",
            "magnet\n",
            "----------------\n",
            "A6VPK7X53QNAQ\n",
            "B01B6GA7WW\n",
            "phone\n",
            "review\n",
            "----------------\n",
            "A3NHUQ33CFH3VM\n",
            "B005LFXBLE\n",
            "quality\n",
            "devices\n",
            "looks\n",
            "device\n",
            "cable\n",
            "phones\n",
            "----------------\n",
            "A3NHUQ33CFH3VM\n",
            "B00TAA8MNS\n",
            "quality\n",
            "devices\n",
            "device\n",
            "product\n",
            "charge\n",
            "----------------\n",
            "A3NHUQ33CFH3VM\n",
            "B00BT7RCEK\n",
            "price\n",
            "----------------\n",
            "A3NHUQ33CFH3VM\n",
            "B00X5RV14Y\n",
            "quality\n",
            "charge\n",
            "----------------\n",
            "A3NHUQ33CFH3VM\n",
            "B013T5ISN8\n",
            "battery\n",
            "----------------\n",
            "A2BX8DDQGCCG2J\n",
            "B00F7QKHFA\n",
            "quality\n",
            "price\n",
            "cable\n",
            "color\n",
            "drawer\n",
            "----------------\n",
            "A2BX8DDQGCCG2J\n",
            "B00OBSPWD2\n",
            "quality\n",
            "colors\n",
            "color\n",
            "nylon\n",
            "----------------\n",
            "A2BX8DDQGCCG2J\n",
            "B009A51Y10\n",
            "quality\n",
            "price\n",
            "product\n",
            "camera\n",
            "lint\n",
            "----------------\n",
            "A2BX8DDQGCCG2J\n",
            "B00ZQAR95I\n",
            "fits\n",
            "product\n",
            "phones\n",
            "----------------\n",
            "A2BX8DDQGCCG2J\n",
            "B00YRYS4T4\n",
            "quality\n",
            "charge\n",
            "charges\n",
            "headphones\n",
            "----------------\n",
            "A2QP5ZEZ12F8CR\n",
            "B00M2GL69Y\n",
            "phone\n",
            "----------------\n",
            "A2QP5ZEZ12F8CR\n",
            "B00Z7S1KHM\n",
            "case\n",
            "lens\n",
            "----------------\n",
            "A35LT14WG5BX0T\n",
            "B00Z7RMAMC\n",
            "[['protection', 'amazing', 1, 'amazing protection for your investment\\n']]\n",
            "quality\n",
            "looks\n",
            "case\n",
            "protection\n",
            "----------------\n",
            "A35LT14WG5BX0T\n",
            "B00Z7RNO5E\n",
            "[['protection', 'amazing', 1, 'amazing protection for your investment\\n']]\n",
            "phone\n",
            "case\n",
            "protection\n",
            "magnet\n",
            "----------------\n",
            "A35LT14WG5BX0T\n",
            "B00Z7RQ0NC\n",
            "fits\n",
            "quality\n",
            "buttons\n",
            "case\n",
            "cases\n",
            "color\n",
            "----------------\n",
            "A35LT14WG5BX0T\n",
            "B01B1V3QNY\n",
            "[['protection', 'solid', 1, \"If you're looking for solid protection this case is a great option\"], ['case', 'smooth', 1, 'My husband actually prefers the rugged look of this case over the smooth Otterbox cases we usually end up with\\n']]\n",
            "phone\n",
            "looks\n",
            "buttons\n",
            "----------------\n",
            "A35LT14WG5BX0T\n",
            "B00BWG4TUI\n",
            "quality\n",
            "----------------\n",
            "A99K7S15XOQ45\n",
            "B00HRKI5V2\n",
            "price\n",
            "----------------\n",
            "A99K7S15XOQ45\n",
            "B01FT8AXAO\n",
            "quality\n",
            "----------------\n",
            "A99K7S15XOQ45\n",
            "B00K4VQZCM\n",
            "quality\n",
            "----------------\n",
            "A99K7S15XOQ45\n",
            "B00NQG2YQS\n",
            "quality\n",
            "----------------\n",
            "A99K7S15XOQ45\n",
            "B009Z25H9S\n",
            "phone\n",
            "rubber\n",
            "----------------\n",
            "A3AYSYSLHU26U9\n",
            "B008PQAFTM\n",
            "phone\n",
            "battery\n",
            "quality\n",
            "devices\n",
            "device\n",
            "cable\n",
            "----------------\n",
            "A3AYSYSLHU26U9\n",
            "B00X0X3AR4\n",
            "phone\n",
            "quality\n",
            "looks\n",
            "----------------\n",
            "A3AYSYSLHU26U9\n",
            "B00IPGW3I8\n",
            "quality\n",
            "cases\n",
            "clip\n",
            "----------------\n",
            "A3AYSYSLHU26U9\n",
            "B00T2NZ0C4\n",
            "[['battery', 'larger', 1, 'The iPhone 6 has a larger battery'], ['cable', 'micro', 1, 'You also get a microUSB cable in the box'], ['case', 'back', 1, 'Four LEDs on the back of the case let you know how much electricity is left\\n']]\n",
            "battery\n",
            "cable\n",
            "----------------\n",
            "A3AYSYSLHU26U9\n",
            "B00SUWLTLO\n",
            "[['case', 'beautiful', 1, 'I think it is a tad too expensive but it is a beautiful case'], ['case', 'total', -1, 'The bottom of the case is totally open for charging port'], ['cloth', 'hard', -1, 'lint cloth and hard plastic card to squeegee out air bubbles\\n']]\n",
            "looks\n",
            "protection\n",
            "cost\n",
            "coverage\n",
            "----------------\n",
            "A33Y8C4818EJL0\n",
            "B00Z7RL28A\n",
            "[['fits', 'comfortable', 1, 'It fits comfortable in your hand\\n']]\n",
            "case\n",
            "protection\n",
            "----------------\n",
            "A33Y8C4818EJL0\n",
            "B016EOU294\n",
            "case\n",
            "screen\n",
            "lens\n",
            "----------------\n",
            "A3OXHLG6DIBRW8\n",
            "B01DRV2BBY\n",
            "[['buttons', 'large', 1, 'The buttons are large and most screen prompts use the \"Yes\" or \"No\" buttons for selection'], ['phone', 'open', 1, 'I like that \"Dial Tone\" can be heard when the phone is flipped open since this is a sound most Seniors are very comfortable hearing and know what to do when it starts\\n']]\n",
            "phone\n",
            "speaker\n",
            "----------------\n",
            "A3OXHLG6DIBRW8\n",
            "B00Z7SFFFU\n",
            "phone\n",
            "protection\n",
            "----------------\n",
            "A1QBOC76MIOJYP\n",
            "B00Z7SKFMI\n",
            "[['looks', 'amazing', 1, 'looks amazing and the glass screen protector is a really nice bonus'], ['phone', 'secure', 1, 'Snaps onto the phone securely and all ports\\n']]\n",
            "buttons\n",
            "price\n",
            "protection\n",
            "----------------\n",
            "A1QBOC76MIOJYP\n",
            "B0093IHYRC\n",
            "protection\n",
            "----------------\n",
            "A1QBOC76MIOJYP\n",
            "B00TYTDO88\n",
            "[['fits', 'nice', 1, 'It fits very nicely\\n']]\n",
            "phone\n",
            "buttons\n",
            "protection\n",
            "----------------\n",
            "A1QBOC76MIOJYP\n",
            "B00Z7RQIJS\n",
            "[['fit', 'great', 1, 'Snug fit and great protection\\n']]\n",
            "protection\n",
            "grip\n",
            "----------------\n",
            "A1QBOC76MIOJYP\n",
            "B004IADSQG\n",
            "protection\n",
            "----------------\n",
            "A1TKPYCOI1IZVL\n",
            "B0039YP2VG\n",
            "phone\n",
            "brand\n",
            "device\n",
            "charge\n",
            "----------------\n",
            "A1TKPYCOI1IZVL\n",
            "B00974L1T4\n",
            "cases\n",
            "----------------\n",
            "A1TKPYCOI1IZVL\n",
            "B01AHX1ABW\n",
            "phone\n",
            "charge\n",
            "----------------\n",
            "A1TKPYCOI1IZVL\n",
            "B00CXZI7EG\n",
            "battery\n",
            "charge\n",
            "----------------\n",
            "A1TKPYCOI1IZVL\n",
            "B00ITI23MS\n",
            "magnet\n",
            "----------------\n",
            "A33BLUJ6RQ6B4I\n",
            "B012HQI7AO\n",
            "[['installation', 'easy', 1, 'easy installation guidelines\\n']]\n",
            "product\n",
            "phones\n",
            "screen protector\n",
            "installation\n",
            "----------------\n",
            "A33BLUJ6RQ6B4I\n",
            "B011BIWAX4\n",
            "fit\n",
            "charge\n",
            "----------------\n",
            "A33BLUJ6RQ6B4I\n",
            "B00F0JCAJK\n",
            "plastic\n",
            "screen protector\n",
            "----------------\n",
            "A33BLUJ6RQ6B4I\n",
            "B0085JRQZU\n",
            "fit\n",
            "buttons\n",
            "case\n",
            "plastic\n",
            "----------------\n",
            "A33BLUJ6RQ6B4I\n",
            "B019WUS98S\n",
            "case\n",
            "cases\n",
            "----------------\n",
            "A3RDSN4SZKF3O\n",
            "B00B0IA3JY\n",
            "protection\n",
            "grip\n",
            "----------------\n",
            "A3RDSN4SZKF3O\n",
            "B005G606O8\n",
            "phone\n",
            "fits\n",
            "price\n",
            "device\n",
            "product\n",
            "case\n",
            "grip\n",
            "app\n",
            "----------------\n",
            "A3RDSN4SZKF3O\n",
            "B01CNL4126\n",
            "[['price', 'less', 1, \"Awesome build and a decent price at less than 13 bucks and free shipping(this isn't a 5 Below case)\"], ['case', 'awesome', 1, 'awesome case'], ['quality', 'great', 1, 'You get great quality at this price\\n']]\n",
            "protection\n",
            "grip\n",
            "----------------\n",
            "A3RDSN4SZKF3O\n",
            "B00K2XX4OY\n",
            "phone\n",
            "battery\n",
            "----------------\n",
            "AIFLY2HF8NS8U\n",
            "B00O3AE982\n",
            "[['cases', 'hard', 1, \"there's also the issue of newer companies producing innovative hard cases with built in compartments for either credit or business cards or cash\"], ['plastic', 'clear', 1, 'The housing is made out of a hard and clear plastic'], ['case', 'hard', -1, 'The UAG for the Note 4 is as good of a hard case as they did for the Note 3 which we had last year\\n']]\n",
            "phone\n",
            "devices\n",
            "looks\n",
            "buttons\n",
            "price\n",
            "plastic\n",
            "cases\n",
            "screen\n",
            "color\n",
            "shell\n",
            "bumper\n",
            "----------------\n",
            "AIFLY2HF8NS8U\n",
            "B00LCL7XP6\n",
            "devices\n",
            "charge\n",
            "camera\n",
            "cable\n",
            "buy\n",
            "grip\n",
            "port\n",
            "edge\n",
            "----------------\n",
            "AIFLY2HF8NS8U\n",
            "B00M5JKZY0\n",
            "[['cases', 'great', 1, 'The cases are great but the charging cables are not\\n']]\n",
            "cables\n",
            "colors\n",
            "cable\n",
            "nylon\n",
            "lightning cable\n",
            "----------------\n",
            "AIFLY2HF8NS8U\n",
            "B00MXWFUQC\n",
            "phone\n",
            "battery\n",
            "phones\n",
            "----------------\n",
            "AIFLY2HF8NS8U\n",
            "B00Z7SCR9C\n",
            "fit\n",
            "----------------\n",
            "A1PBID89L5MGCP\n",
            "B01BGTCWHW\n",
            "product\n",
            "reviews\n",
            "screen\n",
            "screen protector\n",
            "review\n",
            "----------------\n",
            "A1PBID89L5MGCP\n",
            "B014QDKKMY\n",
            "[['scratches', 'present', 1, 'I found micro scratches present throughout the clear case but I guess you rather have the case scratched than your phone'], ['brand', 'new', 1, 'I found the inner to have a yellow tint on it despite being a brand new case'], ['case', 'protective', 1, 'a protective case with a few material design issues\\n']]\n",
            "looks\n",
            "cases\n",
            "----------------\n",
            "A1PBID89L5MGCP\n",
            "B00N2KYABK\n",
            "product\n",
            "reviews\n",
            "screen\n",
            "----------------\n",
            "A1PBID89L5MGCP\n",
            "B00RHMFPCW\n",
            "lights\n",
            "product\n",
            "reviews\n",
            "products\n",
            "----------------\n",
            "A34RBY6VRFMFD\n",
            "B00BWG4TUI\n",
            "quality\n",
            "headset\n",
            "charge\n",
            "bluetooth\n",
            "touch\n",
            "----------------\n",
            "A34RBY6VRFMFD\n",
            "B004I8WD7S\n",
            "phone\n",
            "product\n",
            "screen\n",
            "grip\n",
            "scratches\n",
            "layer\n",
            "----------------\n",
            "A34RBY6VRFMFD\n",
            "B011BIWAX4\n",
            "product\n",
            "charge\n",
            "buy\n",
            "package\n",
            "----------------\n",
            "A34RBY6VRFMFD\n",
            "B010MWINAO\n",
            "product\n",
            "----------------\n",
            "A34RBY6VRFMFD\n",
            "B00NMQ01JY\n",
            "product\n",
            "----------------\n",
            "A8VI7KMUHI7ZH\n",
            "B00AZW4MYI\n",
            "battery\n",
            "quality\n",
            "devices\n",
            "price\n",
            "case\n",
            "charger\n",
            "cord\n",
            "aluminum\n",
            "capacity\n",
            "voltage\n",
            "----------------\n",
            "A8VI7KMUHI7ZH\n",
            "B006YCORR0\n",
            "quality\n",
            "product\n",
            "charger\n",
            "phones\n",
            "----------------\n",
            "A8VI7KMUHI7ZH\n",
            "B00TAA8MNS\n",
            "[['review', 'helpful', 1, 'I hope this review is helpful as you comparison shop online'], ['pocket', 'little', 1, 'This is a handy little pocket charger\\n']]\n",
            "quality\n",
            "device\n",
            "product\n",
            "charge\n",
            "phones\n",
            "review\n",
            "----------------\n",
            "A8VI7KMUHI7ZH\n",
            "B00S01L348\n",
            "[['products', 'first', 1, '7\" version are my first ZVOLTZ products'], ['looks', 'good', 1, 'The basic Black looks good'], ['review', 'useful', 1, 'I hope this review is useful as you research and comparison shop online'], ['case', 'obscure', -1, 'This case obscures the 3\\n']]\n",
            "quality\n",
            "looks\n",
            "buttons\n",
            "product\n",
            "charge\n",
            "cable\n",
            "review\n",
            "----------------\n",
            "A8VI7KMUHI7ZH\n",
            "B00B90GLTO\n",
            "battery\n",
            "quality\n",
            "product\n",
            "charge\n",
            "review\n",
            "----------------\n",
            "A2LTYEYGKBYXRR\n",
            "B00MQSMDYU\n",
            "[['output', 'higher', 1, 'It is a new version that has higher output USB ports\\n']]\n",
            "battery\n",
            "quality\n",
            "devices\n",
            "device\n",
            "product\n",
            "charge\n",
            "charger\n",
            "sample\n",
            "capacity\n",
            "----------------\n",
            "A2LTYEYGKBYXRR\n",
            "B00974L60S\n",
            "fit\n",
            "product\n",
            "----------------\n",
            "A2LTYEYGKBYXRR\n",
            "B00KAF9IQW\n",
            "[['looks', 'good', 1, 'The Pawtec Lightning cable is a very high quality cable that is made to last and looks good'], ['cables', 'black', 1, 'bright orange and black (all 3 cables have a white pattern on the cable)'], ['color', 'blue', 1, '-A blue color option'], ['quality', 'high', 1, 'They are very high quality and are now my preferred cable to take with my when I go on a road trip'], ['quality', 'high', 1, 'These are very high quality and stylish lightning cables that are Apple Certified\\n']]\n",
            "quality\n",
            "charge\n",
            "cable\n",
            "----------------\n",
            "A2LTYEYGKBYXRR\n",
            "B00C6VP03I\n",
            "battery\n",
            "charge\n",
            "charger\n",
            "----------------\n",
            "A1QZJJXKXF6CWC\n",
            "B00I3ULRH4\n",
            "[['phone', 'better', 1, 'Easy to snap on and makes the phone look even better than it already did\\n']]\n",
            "fits\n",
            "product\n",
            "cases\n",
            "----------------\n",
            "A1QZJJXKXF6CWC\n",
            "B00HZDX42G\n",
            "device\n",
            "touch\n",
            "tabs\n",
            "----------------\n",
            "A1QZJJXKXF6CWC\n",
            "B00WXKO9NO\n",
            "product\n",
            "cases\n",
            "----------------\n",
            "A1QZJJXKXF6CWC\n",
            "B00SUWLTLO\n",
            "cost\n",
            "coverage\n",
            "----------------\n",
            "A1QZJJXKXF6CWC\n",
            "B00UGIA0WY\n",
            "cable\n",
            "cases\n",
            "----------------\n",
            "AJHXHLDK0T8IE\n",
            "B005G0DEG6\n",
            "cover\n",
            "protection\n",
            "screen\n",
            "screen protector\n",
            "app\n",
            "bubble\n",
            "----------------\n",
            "AJHXHLDK0T8IE\n",
            "B00F8OYPUO\n",
            "screen\n",
            "screen protector\n",
            "lint\n",
            "bubble\n",
            "----------------\n",
            "AJHXHLDK0T8IE\n",
            "B004IADSQG\n",
            "case\n",
            "protection\n",
            "----------------\n",
            "AJHXHLDK0T8IE\n",
            "B00MHV8TZ8\n",
            "case\n",
            "----------------\n",
            "A38FPHYE72Y25P\n",
            "B00QPAQ0Y4\n",
            "case\n",
            "----------------\n",
            "A38FPHYE72Y25P\n",
            "B01FT8AXAO\n",
            "case\n",
            "----------------\n",
            "A38FPHYE72Y25P\n",
            "B014QDKKMY\n",
            "[['looks', 'nice', 1, 'it looks pretty nice'], ['cases', 'clear', 1, \"I like it but can't really recommend it over some other clear cases\\n\"]]\n",
            "brand\n",
            "case\n",
            "scratches\n",
            "----------------\n",
            "A38FPHYE72Y25P\n",
            "B01C69AHCI\n",
            "case\n",
            "----------------\n",
            "A38FPHYE72Y25P\n",
            "B00SV638ZE\n",
            "case\n",
            "----------------\n",
            "A2LW5AL0KQ9P1M\n",
            "B00JH88AJ4\n",
            "looks\n",
            "brand\n",
            "protection\n",
            "cases\n",
            "----------------\n",
            "A2LW5AL0KQ9P1M\n",
            "B00XJK47OI\n",
            "[['packaging', 'great', 1, 'this frustration-free packaging is a great alternative to the plastic clam-shells that these are usually shipped in (here'], ['case', 'black', 1, 'The black case is slightly nicer in-person'], ['quality', 'outstanding', 1, 'the quality is outstanding and the look is quite nice'], ['case', 'everyday', -1, 'this will not be my everyday case (but will keep it for special occasions)\\n']]\n",
            "quality\n",
            "protection\n",
            "----------------\n",
            "A2LW5AL0KQ9P1M\n",
            "B00JRHOFP8\n",
            "quality\n",
            "colors\n",
            "----------------\n",
            "A2LW5AL0KQ9P1M\n",
            "B00O08PWSS\n",
            "[['price', 'little', 1, 'Outside of being a little pricey\\n']]\n",
            "price\n",
            "----------------\n",
            "A2LW5AL0KQ9P1M\n",
            "B00TYTBHKU\n",
            "[['case', 'clear', 1, 'I guess I liked the clear case and slick look\\n']]\n",
            "looks\n",
            "buttons\n",
            "price\n",
            "protection\n",
            "rubber\n",
            "----------------\n",
            "A2UX8I05VSEL6\n",
            "B00H99DBFQ\n",
            "quality\n",
            "size\n",
            "colors\n",
            "charger\n",
            "capacity\n",
            "ultra\n",
            "----------------\n",
            "A2UX8I05VSEL6\n",
            "B00XJK46Q2\n",
            "quality\n",
            "case\n",
            "protection\n",
            "quality product\n",
            "packaging\n",
            "----------------\n",
            "A2UX8I05VSEL6\n",
            "B00KPRVPK2\n",
            "phone\n",
            "case\n",
            "camera\n",
            "screen protector\n",
            "----------------\n",
            "A2UX8I05VSEL6\n",
            "B00DPMNNUO\n",
            "phone\n",
            "magnet\n",
            "screen\n",
            "----------------\n",
            "A18U49406IPPIJ\n",
            "B00NC1PFP4\n",
            "[['cord', 'extra', 1, 'If you are looking for an extra cord\\n']]\n",
            "devices\n",
            "device\n",
            "cables\n",
            "charge\n",
            "cable\n",
            "review\n",
            "----------------\n",
            "A18U49406IPPIJ\n",
            "B00GNVEY0W\n",
            "phone\n",
            "devices\n",
            "cable\n",
            "----------------\n",
            "A18U49406IPPIJ\n",
            "B00AGJMMVA\n",
            "phone\n",
            "charge\n",
            "cable\n",
            "----------------\n",
            "A18U49406IPPIJ\n",
            "B00O08PWSS\n",
            "phones\n",
            "----------------\n",
            "A1PARINL2CPD2K\n",
            "B012HQI7AO\n",
            "phone\n",
            "product\n",
            "phones\n",
            "screen\n",
            "----------------\n",
            "A1PARINL2CPD2K\n",
            "B00WM93M9S\n",
            "quality\n",
            "----------------\n",
            "A1PARINL2CPD2K\n",
            "B018TYVKT8\n",
            "quality\n",
            "----------------\n",
            "A1PARINL2CPD2K\n",
            "B004I8WD7S\n",
            "phone\n",
            "fits\n",
            "plastic\n",
            "screen\n",
            "----------------\n",
            "A1PARINL2CPD2K\n",
            "B00NJBVH6S\n",
            "[['phone', 'good', 1, 'It will add some bulk to your phone but any case with good protection will'], ['case', 'good', 1, 'It will add some bulk to your phone but any case with good protection will'], ['phone', 'cheap', -1, 'because they feel squishy and kinda cheap on the phone itself'], ['layer', 'hard', -1, 'full soft shell with an outer layer of hard plastic that cinches over for a nice tight fit\\n']]\n",
            "phone\n",
            "----------------\n",
            "ALYZJ7W14YS26\n",
            "B00Z7S1KHM\n",
            "case\n",
            "lens\n",
            "----------------\n",
            "ALYZJ7W14YS26\n",
            "B00M8PRSWI\n",
            "[['screen', 'generous', 1, 'The case has a raised front edge to protect the screen and generous space around the ear jack plug'], ['phone', 'very', 1, 'The edge is curved making the phone very comfortable to hold in your hand'], ['phone', 'comfortable', 1, 'The edge is curved making the phone very comfortable to hold in your hand'], ['case', 'very', 1, 'This is a very sturdy case and certainly worth consideration'], ['case', 'sturdy', 1, 'This is a very sturdy case and certainly worth consideration\\n']]\n",
            "case\n",
            "plastic\n",
            "cases\n",
            "screen\n",
            "polycarbonate\n",
            "----------------\n",
            "A1FDSZISWIXH1A\n",
            "B0094CX4NK\n",
            "phone\n",
            "protection\n",
            "plastic\n",
            "----------------\n",
            "A1FDSZISWIXH1A\n",
            "B00NCJ4GP6\n",
            "product\n",
            "case\n",
            "cases\n",
            "phones\n",
            "----------------\n",
            "A1FDSZISWIXH1A\n",
            "B00Z7SD3V8\n",
            "looks\n",
            "protection\n",
            "screen\n",
            "grip\n",
            "----------------\n",
            "A1FDSZISWIXH1A\n",
            "B0093IHVL6\n",
            "looks\n",
            "cases\n",
            "----------------\n",
            "A1FDSZISWIXH1A\n",
            "B00F7QKHFA\n",
            "[['cable', 'long', 1, 'long and the cable itself is thin\\n']]\n",
            "cable\n",
            "----------------\n",
            "AUITG1DJ3QUGK\n",
            "B00Z7T2ZMA\n",
            "[['cases', 'solid', 1, 'I should have almost expected as much from a company which produces cases solid as a tank'], ['screen protector', 'used', -1, 'cleaner and more trouble (and bubble) free install than any of the other screen protector I have used\\n']]\n",
            "quality\n",
            "case\n",
            "protection\n",
            "plastic\n",
            "screen\n",
            "touchscreen\n",
            "quality product\n",
            "----------------\n",
            "AUITG1DJ3QUGK\n",
            "B00Z7RNO5E\n",
            "[['protection', 'solid', 1, 'solid protection in a nice looking package'], ['protection', 'solid', 1, 'solid protection in an elegent package'], ['ports', 'accessible', 1, 'ports and camera accessible so that your phone is always protected'], ['camera', 'accessible', 1, 'ports and camera accessible so that your phone is always protected'], ['device', 'large', 1, 'Being a larger device'], ['case', 'practical', 1, 'not garish but also not the same color as practically every case in the house'], ['case', 'old', 1, 'He is still partial to his Oregami case (for his old Kindle) but that was noot an option for his tablet'], ['case', 'best', 1, 'I bought the pro as a gift for my husband and got him the best case I could find to go with it'], ['leather', 'real', -1, 'It is difficult enough to sort out which cases are real leather and which are plastic (PU) sincew  so many sellers\\n']]\n",
            "phone\n",
            "case\n",
            "protection\n",
            "----------------\n",
            "AUITG1DJ3QUGK\n",
            "B00AANQLRI\n",
            "phone\n",
            "battery\n",
            "weight\n",
            "device\n",
            "plastic\n",
            "charger\n",
            "----------------\n",
            "AUITG1DJ3QUGK\n",
            "B00F7QKHFA\n",
            "[['charging', 'mobile', 1, 'There are a number of mobile charging solutions available'], ['colors', 'different', 1, 'That they make them in so many different colors does make it easier to distinguish one type of cable from another'], ['cord', 'longer', -1, 'At some point I did not understand why i would want a longer cord but have a large  pup who puts his nose into all kinds of places it does not belong\\n']]\n",
            "quality\n",
            "cable\n",
            "color\n",
            "warranty\n",
            "drawer\n",
            "----------------\n",
            "A2FYKVIX9WEISX\n",
            "B00VY3XJ5U\n",
            "phone\n",
            "review\n",
            "----------------\n",
            "A2FYKVIX9WEISX\n",
            "B01222ELSA\n",
            "devices\n",
            "cables\n",
            "package\n",
            "----------------\n",
            "A2FYKVIX9WEISX\n",
            "B00TYTBGOC\n",
            "phone\n",
            "fit\n",
            "clip\n",
            "cutouts\n",
            "----------------\n",
            "A2FYKVIX9WEISX\n",
            "B010MVR76Q\n",
            "fit\n",
            "protection\n",
            "----------------\n",
            "AQCJWSMSURQI2\n",
            "B00Z7SS1NS\n",
            "[['quality', 'good', 1, '-Very good build quality'], ['case', 'good', 1, 'durable case that it good at protecting against drops and other impacts\\n']]\n",
            "quality\n",
            "buttons\n",
            "case\n",
            "plastic\n",
            "screen\n",
            "polycarbonate\n",
            "----------------\n",
            "AQCJWSMSURQI2\n",
            "B00Z7S4QRI\n",
            "[['case', 'good', 1, 'durable case that it good at protecting against drops and other impacts'], ['quality', 'good', 1, '-Very good build quality\\n']]\n",
            "phone\n",
            "buttons\n",
            "case\n",
            "----------------\n",
            "AQCJWSMSURQI2\n",
            "B00JOB1IES\n",
            "case\n",
            "shield\n",
            "----------------\n",
            "AQCJWSMSURQI2\n",
            "B00N28AOVC\n",
            "buttons\n",
            "price\n",
            "case\n",
            "protection\n",
            "----------------\n",
            "A2IG1KMH6D47QA\n",
            "B00Z7RMAMC\n",
            "quality\n",
            "looks\n",
            "protection\n",
            "rubber\n",
            "----------------\n",
            "A2CBG5BBJYMOJ1\n",
            "B00IGISU1E\n",
            "brand\n",
            "dust\n",
            "scratches\n",
            "app\n",
            "----------------\n",
            "A2CBG5BBJYMOJ1\n",
            "B012AWAV1S\n",
            "case\n",
            "----------------\n",
            "A2CBG5BBJYMOJ1\n",
            "B00UH8KUMS\n",
            "screen\n",
            "----------------\n",
            "A2CBG5BBJYMOJ1\n",
            "B00OBSPWD2\n",
            "quality\n",
            "colors\n",
            "----------------\n",
            "A2CBG5BBJYMOJ1\n",
            "B00H5I8MNM\n",
            "battery\n",
            "----------------\n",
            "A3M9MJGQVQL67F\n",
            "B01BCZBT56\n",
            "[['cases', 'nice', 1, 'these guys are REALLY putting out some nice cases and this is one of them'], ['review', 'honest', 1, \"I received mine at a discount or maybe free for an honest review which I've given\"], ['case', 'nice', 1, 'A+++ VERY nice case\\n']]\n",
            "phone\n",
            "case\n",
            "cases\n",
            "----------------\n",
            "A3M9MJGQVQL67F\n",
            "B010MVJAUM\n",
            "phone\n",
            "case\n",
            "----------------\n",
            "A3M9MJGQVQL67F\n",
            "B00JTU2OAG\n",
            "fits\n",
            "fit\n",
            "----------------\n",
            "A3M9MJGQVQL67F\n",
            "B007YT0ZIM\n",
            "case\n",
            "----------------\n",
            "A3M9MJGQVQL67F\n",
            "B005NF5NTK\n",
            "phone\n",
            "charges\n",
            "----------------\n",
            "A1MO3UU7XWQ90R\n",
            "B00JRHOFP8\n",
            "price\n",
            "cables\n",
            "cable\n",
            "color\n",
            "----------------\n",
            "A1MO3UU7XWQ90R\n",
            "B006H5PZ7K\n",
            "price\n",
            "----------------\n",
            "A1MO3UU7XWQ90R\n",
            "B00HIW5WW4\n",
            "product\n",
            "----------------\n",
            "AE0337VVP8MRM\n",
            "B00Z7SHCC4\n",
            "case\n",
            "protection\n",
            "----------------\n",
            "AE0337VVP8MRM\n",
            "B01B1I6JWW\n",
            "case\n",
            "protection\n",
            "----------------\n",
            "AE0337VVP8MRM\n",
            "B00KDPR6Z4\n",
            "case\n",
            "cases\n",
            "----------------\n",
            "AE0337VVP8MRM\n",
            "B00Z7SXR0K\n",
            "protection\n",
            "cases\n",
            "----------------\n",
            "AE0337VVP8MRM\n",
            "B00W65W8OS\n",
            "case\n",
            "protection\n",
            "----------------\n",
            "AX329NHW6B7BA\n",
            "B01B1V3QNY\n",
            "phone\n",
            "looks\n",
            "buttons\n",
            "case\n",
            "----------------\n",
            "AX329NHW6B7BA\n",
            "B00AAJDASK\n",
            "looks\n",
            "case\n",
            "protection\n",
            "----------------\n",
            "AX329NHW6B7BA\n",
            "B00HQMNS8G\n",
            "looks\n",
            "case\n",
            "----------------\n",
            "AVU1ILDDYW301\n",
            "B00C96CMDG\n",
            "protection\n",
            "coverage\n",
            "----------------\n",
            "AVU1ILDDYW301\n",
            "B00Z7SD3V8\n",
            "[['protection', 'better', 1, 'They offer better protection than most other generic cases'], ['plastic', 'clear', 1, 'There is the hard plastic clear back'], ['case', 'clear', 1, \"If you're looking for a clear case\"], ['colors', 'different', -1, 'This listing is for a few different colors\\n']]\n",
            "looks\n",
            "buttons\n",
            "protection\n",
            "----------------\n",
            "AVU1ILDDYW301\n",
            "B00YCBBDTA\n",
            "phone\n",
            "buttons\n",
            "speaker\n",
            "----------------\n",
            "AVU1ILDDYW301\n",
            "B0148DEHCQ\n",
            "[['case', 'light', 1, 'would be quite effective keeping moisture out in the case of a light shower\\n']]\n",
            "protection\n",
            "----------------\n",
            "AVU1ILDDYW301\n",
            "B00Z7RQ0NC\n",
            "[['candy', 'pink', 1, 'I have the halftone aqua mint / candy pink / halftone graphic case'], ['protection', 'best', 1, 'OtterBox has about the best protection around'], ['case', 'outer', 1, 'This is a super high-gloss outer case\\n']]\n",
            "fits\n",
            "buttons\n",
            "protection\n",
            "----------------\n",
            "A3HFQE02MDPC6I\n",
            "B01B6GA7WW\n",
            "phone\n",
            "protection\n",
            "----------------\n",
            "A3HFQE02MDPC6I\n",
            "B009IFU5P8\n",
            "phone\n",
            "price\n",
            "color\n",
            "----------------\n",
            "A3HFQE02MDPC6I\n",
            "B014I948U6\n",
            "phone\n",
            "protection\n",
            "----------------\n",
            "A3HFQE02MDPC6I\n",
            "B00GNVEY0W\n",
            "phone\n",
            "----------------\n",
            "A3HFQE02MDPC6I\n",
            "B00OKU5RPE\n",
            "phone\n",
            "charge\n",
            "----------------\n",
            "A375SX4A8HYU97\n",
            "B01BEJB7FW\n",
            "[['iphone', 'great', 1, 'This is a great case for iphone 5/5s/SE'], ['case', 'protective', 1, 'yet somewhat protective case then I would recommend this'], ['case', 'great', 1, 'This is a great case for iphone 5/5s/SE'], ['case', 'great', 1, 'This case is great for protection your phone from small drops/shocks and scratches\\n']]\n",
            "phone\n",
            "case\n",
            "color\n",
            "review\n",
            "----------------\n",
            "A375SX4A8HYU97\n",
            "B00AKZWGAC\n",
            "phone\n",
            "product\n",
            "charge\n",
            "charges\n",
            "----------------\n",
            "A375SX4A8HYU97\n",
            "B00Z7T2QQA\n",
            "fits\n",
            "price\n",
            "product\n",
            "products\n",
            "screen\n",
            "----------------\n",
            "A2Y6BQ8UGY8VFV\n",
            "B00HUIL310\n",
            "phone\n",
            "----------------\n",
            "A2Y6BQ8UGY8VFV\n",
            "B004C049JC\n",
            "battery\n",
            "----------------\n",
            "A2Y6BQ8UGY8VFV\n",
            "B00BLTCZ70\n",
            "battery\n",
            "----------------\n",
            "A3VS2RYRGDW4HS\n",
            "B00Z7RMAMC\n",
            "[['case', 'nice', 1, \"The Otterbox Strada case is the nicest case I've ever owned\"], ['case', 'less', -1, 'this case is much less bulky than the Defender case and is about the same as the Commuter\\n']]\n",
            "case\n",
            "rubber\n",
            "leather\n",
            "shell\n",
            "flap\n",
            "----------------\n",
            "A3VS2RYRGDW4HS\n",
            "B004LJ8N78\n",
            "phone\n",
            "quality\n",
            "----------------\n",
            "A3VS2RYRGDW4HS\n",
            "B00OMMLL8C\n",
            "buttons\n",
            "case\n",
            "----------------\n",
            "A3VS2RYRGDW4HS\n",
            "B00C7J5ZC0\n",
            "phone\n",
            "phones\n",
            "----------------\n",
            "A3VS2RYRGDW4HS\n",
            "B00LJK4HL8\n",
            "quality\n",
            "----------------\n",
            "A1EOTB1WHLSW6G\n",
            "B017JT6846\n",
            "[['plastic', 'durable', 1, 'hard durable matte plastic and aluminum details\\n']]\n",
            "devices\n",
            "looks\n",
            "device\n",
            "products\n",
            "charger\n",
            "packaging\n",
            "----------------\n",
            "A1EOTB1WHLSW6G\n",
            "B00B7E1D7W\n",
            "case\n",
            "cases\n",
            "----------------\n",
            "A1EOTB1WHLSW6G\n",
            "B00QU4PP46\n",
            "quality\n",
            "case\n",
            "----------------\n",
            "A1EOTB1WHLSW6G\n",
            "B00MHV8JO4\n",
            "[['case', 'protective', 1, 'very protective case'], ['case', 'good', 1, 'good looking case\\n']]\n",
            "case\n",
            "protection\n",
            "----------------\n",
            "A3QF1T3G8FG5P9\n",
            "B00Z7SS1NS\n",
            "phone\n",
            "case\n",
            "rubber\n",
            "port\n",
            "polycarbonate\n",
            "----------------\n",
            "A3QF1T3G8FG5P9\n",
            "B00H99DBFQ\n",
            "quality\n",
            "size\n",
            "charger\n",
            "capacity\n",
            "ultra\n",
            "----------------\n",
            "A3QF1T3G8FG5P9\n",
            "B01B3J7H5W\n",
            "[['phone', 'first', 1, 'The device also has a nice lip when I drop my phone face first the lip of the case hits the ground first'], ['device', 'unique', 1, 'it gave my device a unique look\\n']]\n",
            "weight\n",
            "cost\n",
            "----------------\n",
            "A3QF1T3G8FG5P9\n",
            "B00AECECGW\n",
            "phone\n",
            "case\n",
            "----------------\n",
            "A3QF1T3G8FG5P9\n",
            "B01B1I6JWW\n",
            "devices\n",
            "case\n",
            "----------------\n",
            "ADEUZ8CDBECA1\n",
            "B00ITILPZ4\n",
            "fits\n",
            "quality\n",
            "charge\n",
            "charges\n",
            "----------------\n",
            "ADEUZ8CDBECA1\n",
            "B00FS5L9D4\n",
            "phone\n",
            "cases\n",
            "----------------\n",
            "ADEUZ8CDBECA1\n",
            "B013A1ONDA\n",
            "quality\n",
            "----------------\n",
            "ADEUZ8CDBECA1\n",
            "B019WUS98S\n",
            "[['cases', 'available', 1, 'As someone who gets around to owning most of the cases that are available'], ['screen protectors', 'available', 1, 'and peel up most of the screen protectors available'], ['button', 'tactile', -1, 'Each button is tactile and easy to press'], ['phone', 'cheap', -1, 'but found that many clear cases make the phone look cheap and accumulate fingerprints really easily\\n']]\n",
            "cases\n",
            "----------------\n",
            "A4VMQ6ZTSXSSL\n",
            "B00Z7S0OTW\n",
            "buttons\n",
            "protection\n",
            "cases\n",
            "shell\n",
            "----------------\n",
            "A4VMQ6ZTSXSSL\n",
            "B00Z7RQ0NC\n",
            "[['protection', 'easy', 1, 'So this case is thinner but still provides adequate protection for easy going users'], ['case', 'easy', 1, 'So this case is thinner but still provides adequate protection for easy going users'], ['buttons', 'easy', 1, 'The on/off buttons are easy to press through the case\\n']]\n",
            "buttons\n",
            "protection\n",
            "cases\n",
            "screen\n",
            "----------------\n",
            "A4VMQ6ZTSXSSL\n",
            "B00Z7RQIJS\n",
            "[['buttons', 'easy', 1, 'The on/off buttons are easy to press through the case'], ['protection', 'easy', 1, 'So this case is thinner but still provides adequate protection for easy going users'], ['case', 'easy', 1, 'So this case is thinner but still provides adequate protection for easy going users\\n']]\n",
            "buttons\n",
            "protection\n",
            "----------------\n",
            "A4VMQ6ZTSXSSL\n",
            "B00UIF3MA2\n",
            "device\n",
            "case\n",
            "phone case\n",
            "----------------\n",
            "A4VMQ6ZTSXSSL\n",
            "B00Z7RT4J4\n",
            "buttons\n",
            "----------------\n",
            "ALXRR13LFL1Q4\n",
            "B00GDQ6DG0\n",
            "quality\n",
            "devices\n",
            "weight\n",
            "charge\n",
            "cable\n",
            "charger\n",
            "capacity\n",
            "----------------\n",
            "ALXRR13LFL1Q4\n",
            "B005G606O8\n",
            "buttons\n",
            "price\n",
            "product\n",
            "app\n",
            "----------------\n",
            "ALXRR13LFL1Q4\n",
            "B00DW1K35G\n",
            "phone\n",
            "battery\n",
            "devices\n",
            "weight\n",
            "charger\n",
            "----------------\n",
            "ALXRR13LFL1Q4\n",
            "B014ZO46LK\n",
            "[['cable', 'micro', 1, 'micro USB cable'], ['charge', 'compatible', 1, 'Its dual port feature can simultaneously charge two compatible devices at once\\n']]\n",
            "charge\n",
            "cable\n",
            "----------------\n",
            "ALXRR13LFL1Q4\n",
            "B00YRYS4T4\n",
            "[['quality', 'high', 1, '- affordable for a high quality 10-port charger'], ['quality', 'excellent', 1, '- excellent build quality as always by Anker\\n']]\n",
            "charge\n",
            "----------------\n",
            "ASY25YMTIC2A9\n",
            "B00IPGVYS8\n",
            "looks\n",
            "buttons\n",
            "case\n",
            "----------------\n",
            "ASY25YMTIC2A9\n",
            "B00Z7RQB7M\n",
            "[['protection', 'great', 1, 'the protection is great'], ['fit', 'great', 1, 'Not so great fit\\n']]\n",
            "case\n",
            "protection\n",
            "polycarbonate\n",
            "----------------\n",
            "ASY25YMTIC2A9\n",
            "B0151E6U3K\n",
            "fits\n",
            "buttons\n",
            "cases\n",
            "----------------\n",
            "ASY25YMTIC2A9\n",
            "B00Z7TNISU\n",
            "[['protection', 'available', 1, 'perfect case with the best protection available\\n']]\n",
            "buttons\n",
            "protection\n",
            "texture\n",
            "----------------\n",
            "ASY25YMTIC2A9\n",
            "B00Z7SXR0K\n",
            "cases\n",
            "----------------\n",
            "A2FWOQYH1NJQ2M\n",
            "B01B6RHCJW\n",
            "case\n",
            "polycarbonate\n",
            "----------------\n",
            "A2FWOQYH1NJQ2M\n",
            "B01A7IDCC2\n",
            "[['drops', 'great', 1, 'Not protecting against drops but great for basic protection'], ['case', 'thin', 1, 'Good thin case\\n']]\n",
            "case\n",
            "texture\n",
            "----------------\n",
            "A2FWOQYH1NJQ2M\n",
            "B01CUQ9Z7A\n",
            "[['reviews', 'bad', -1, 'I am really surprised this protector has so many bad reviews\\n']]\n",
            "case\n",
            "----------------\n",
            "ABIVILOWVFQ9F\n",
            "B00Z7TXGC8\n",
            "[['ports', 'accessible', 1, 'Buttons and ports easily accessible'], ['protection', 'best', -1, 'I just cant spend the money on a new iPhone and not have the very best protection\\n']]\n",
            "case\n",
            "----------------\n",
            "ABIVILOWVFQ9F\n",
            "B00Z7RUD80\n",
            "[['case', 'red', 1, 'Some people have question whether the case reduces the quality of sound'], ['quality', 'sound', 1, 'Some people have question whether the case reduces the quality of sound\\n']]\n",
            "case\n",
            "----------------\n",
            "ABIVILOWVFQ9F\n",
            "B00Z7TKWLG\n",
            "[['case', 'red', 1, 'Some people have question whether the case reduces the quality of sound'], ['quality', 'sound', 1, 'Some people have question whether the case reduces the quality of sound\\n']]\n",
            "case\n",
            "----------------\n",
            "ABIVILOWVFQ9F\n",
            "B00QM0GAXI\n",
            "case\n",
            "protection\n",
            "screen protector\n",
            "----------------\n",
            "ABIVILOWVFQ9F\n",
            "B00MEVLX3Q\n",
            "case\n",
            "----------------\n",
            "A215WH6RUDUCMP\n",
            "B00Z7S4QRI\n",
            "buttons\n",
            "protection\n",
            "----------------\n",
            "A215WH6RUDUCMP\n",
            "B00Z7RQB7M\n",
            "[['color', 'nice', 1, 'nice color'], ['fit', 'good', 1, 'good fit'], ['case', 'heavy', 1, 'Great heavy duty case\\n']]\n",
            "protection\n",
            "----------------\n",
            "A215WH6RUDUCMP\n",
            "B00Z7RL28A\n",
            "protection\n",
            "----------------\n",
            "A215WH6RUDUCMP\n",
            "B00Z7RQIJS\n",
            "[['fit', 'easy', 1, 'easy snap fit and extra secure you get what you pay for with this name'], ['fit', 'easy', 1, 'easy snap fit'], ['case', 'perfect', 1, 'Otterbox commuter series case perfect for fitting into slim spots\\n']]\n",
            "buttons\n",
            "protection\n",
            "----------------\n",
            "A1FL151ER57VW3\n",
            "B01DEB12KI\n",
            "[['colors', 'different', 1, 'This style of Samsung Edge Case comes in six (6) different colors'], ['reviews', 'helpful', 1, 'My hope is that these reviews are helpful to others'], ['review', 'good', 1, 'I received no monetary compensation and not required to give a good review'], ['case', 'back', 1, 'on the back of the case there is a vertical sliding compartment for card storage of up to 2 cards'], ['case', 'dual', 1, 'It offers a dual layer case that offers rubberized hard TPU material and a Matte Poly-carbonate that protects your device against impacts and bumps without damaging your device\\n']]\n",
            "product\n",
            "reviews\n",
            "review\n",
            "----------------\n",
            "A1FL151ER57VW3\n",
            "B01F1V11DC\n",
            "[['touch', 'responsive', 1, 'and are very responsive to the touch'], ['reviews', 'helpful', 1, 'My hope is that these reviews are helpful to others'], ['review', 'good', 1, 'I received no monetary compensation and not required to give a good review\\n']]\n",
            "reviews\n",
            "review\n",
            "----------------\n",
            "A1FL151ER57VW3\n",
            "B01FVQHF6Y\n",
            "[['reviews', 'helpful', 1, 'My hope is that these reviews are helpful to others'], ['review', 'good', 1, 'I received no monetary compensation and not required to give a good review\\n']]\n",
            "reviews\n",
            "review\n",
            "----------------\n",
            "A1FL151ER57VW3\n",
            "B01GU4MEFI\n",
            "[['reviews', 'helpful', 1, 'My hope is that these reviews are helpful to others'], ['review', 'good', 1, 'I received no monetary compensation and not required to give a good review'], ['screen protector', 'free', 1, 'We liked the way the order included a free glass screen protector'], ['case', 'real', 1, 'This is a really nice case and I really liked it'], ['case', 'nice', 1, 'This is a really nice case and I really liked it'], ['case', 'thin', 1, 'Nice looking and functioning thin case'], ['case', 'beautiful', 1, 'When I saw this I had to grab this beautiful case'], ['case', 'full', 1, \"My wife really likes the fact that it's a full body case and is still slim\\n\"]]\n",
            "reviews\n",
            "review\n",
            "----------------\n",
            "A1FL151ER57VW3\n",
            "B00GDQ6DG0\n",
            "quality\n",
            "weight\n",
            "review\n",
            "----------------\n"
          ]
        }
      ]
    },
    {
      "cell_type": "markdown",
      "source": [
        "# calculate Stability..."
      ],
      "metadata": {
        "id": "iEJ8MjpDVcDy"
      }
    },
    {
      "cell_type": "code",
      "source": [
        "def generate_explanation_check_stability():\n",
        "    if gpu:\n",
        "        device = torch.device('cuda:%s' %cuda)\n",
        "    else:\n",
        "        device = 'cpu'\n",
        "    print(device)\n",
        "    # import dataset\n",
        "    with open(os.path.join(data_obj_path, dataset + \"_dataset_obj_2.pickle\"), 'rb') as inp:\n",
        "        rec_dataset = pickle.load(inp)\n",
        "    \n",
        "    base_model = BaseRecModel(rec_dataset.feature_num).to(device)\n",
        "    base_model.load_state_dict(torch.load(os.path.join(base_model_path,\"model2.model\"),map_location=torch.device(device)))\n",
        "    base_model.eval()\n",
        "    #  fix the rec model\n",
        "    for param in base_model.parameters():\n",
        "        param.requires_grad = False\n",
        "    \n",
        "    # Create optimization model\n",
        "\n",
        "    features_found=[]\n",
        "    for i in range(10):\n",
        "      opt_model = ExpOptimizationModel(\n",
        "        base_model=base_model,\n",
        "        rec_dataset=rec_dataset,\n",
        "        device = device,)\n",
        "      opt_model.generate_explanation()\n",
        "      features_found.append(opt_model.u_i_exp_dict)\n",
        "      \n",
        "    \n",
        "    return features_found\n",
        "\n",
        "\n",
        "if __name__ == \"__main__\":\n",
        "    features_found=generate_explanation_check_stability()"
      ],
      "metadata": {
        "colab": {
          "base_uri": "https://localhost:8080/"
        },
        "id": "Jw3vT7lYtMMH",
        "outputId": "1b72d03b-3f90-46f6-ab17-3c9c73d9a81d"
      },
      "execution_count": null,
      "outputs": [
        {
          "output_type": "stream",
          "name": "stdout",
          "text": [
            "cuda:0\n"
          ]
        },
        {
          "output_type": "stream",
          "name": "stderr",
          "text": [
            "100%|██████████| 20/20 [02:35<00:00,  7.78s/it]\n"
          ]
        },
        {
          "output_type": "stream",
          "name": "stdout",
          "text": [
            "ave num:  2.4479166666666665 ave complexity:  2.9691089832534394 no_exp_count:  4 exp_count:  96\n"
          ]
        },
        {
          "output_type": "stream",
          "name": "stderr",
          "text": [
            "100%|██████████| 20/20 [00:43<00:00,  2.17s/it]\n"
          ]
        },
        {
          "output_type": "stream",
          "name": "stdout",
          "text": [
            "ave num:  2.8181818181818183 ave complexity:  3.3004044195016227 no_exp_count:  1 exp_count:  99\n"
          ]
        },
        {
          "output_type": "stream",
          "name": "stderr",
          "text": [
            "100%|██████████| 20/20 [00:42<00:00,  2.14s/it]\n"
          ]
        },
        {
          "output_type": "stream",
          "name": "stdout",
          "text": [
            "ave num:  2.7448979591836733 ave complexity:  3.229408089299591 no_exp_count:  2 exp_count:  98\n"
          ]
        },
        {
          "output_type": "stream",
          "name": "stderr",
          "text": [
            "100%|██████████| 20/20 [00:42<00:00,  2.14s/it]\n"
          ]
        },
        {
          "output_type": "stream",
          "name": "stdout",
          "text": [
            "ave num:  2.8229166666666665 ave complexity:  3.2385756373405457 no_exp_count:  4 exp_count:  96\n"
          ]
        },
        {
          "output_type": "stream",
          "name": "stderr",
          "text": [
            "100%|██████████| 20/20 [00:43<00:00,  2.19s/it]\n"
          ]
        },
        {
          "output_type": "stream",
          "name": "stdout",
          "text": [
            "ave num:  2.86734693877551 ave complexity:  3.3010072890593083 no_exp_count:  2 exp_count:  98\n"
          ]
        },
        {
          "output_type": "stream",
          "name": "stderr",
          "text": [
            "100%|██████████| 20/20 [00:42<00:00,  2.14s/it]\n"
          ]
        },
        {
          "output_type": "stream",
          "name": "stdout",
          "text": [
            "ave num:  2.898989898989899 ave complexity:  3.307501833848279 no_exp_count:  1 exp_count:  99\n"
          ]
        },
        {
          "output_type": "stream",
          "name": "stderr",
          "text": [
            "100%|██████████| 20/20 [00:42<00:00,  2.14s/it]\n"
          ]
        },
        {
          "output_type": "stream",
          "name": "stdout",
          "text": [
            "ave num:  2.686868686868687 ave complexity:  3.2008876078056567 no_exp_count:  1 exp_count:  99\n"
          ]
        },
        {
          "output_type": "stream",
          "name": "stderr",
          "text": [
            "100%|██████████| 20/20 [00:42<00:00,  2.14s/it]\n"
          ]
        },
        {
          "output_type": "stream",
          "name": "stdout",
          "text": [
            "ave num:  2.6363636363636362 ave complexity:  3.2384340338634723 no_exp_count:  1 exp_count:  99\n"
          ]
        },
        {
          "output_type": "stream",
          "name": "stderr",
          "text": [
            "100%|██████████| 20/20 [00:43<00:00,  2.16s/it]\n"
          ]
        },
        {
          "output_type": "stream",
          "name": "stdout",
          "text": [
            "ave num:  2.7142857142857144 ave complexity:  3.2524822147525088 no_exp_count:  2 exp_count:  98\n"
          ]
        },
        {
          "output_type": "stream",
          "name": "stderr",
          "text": [
            "100%|██████████| 20/20 [00:42<00:00,  2.14s/it]"
          ]
        },
        {
          "output_type": "stream",
          "name": "stdout",
          "text": [
            "ave num:  2.686868686868687 ave complexity:  3.1597419164397498 no_exp_count:  1 exp_count:  99\n"
          ]
        },
        {
          "output_type": "stream",
          "name": "stderr",
          "text": [
            "\n"
          ]
        }
      ]
    },
    {
      "cell_type": "code",
      "source": [
        "dict_features={}\n",
        "for iter_feas in features_found:\n",
        "  for u_i in iter_feas.keys():\n",
        "    if u_i in dict_features.keys():\n",
        "      dict_features[u_i].append(iter_feas[u_i])\n",
        "    else:\n",
        "      dict_features[u_i]=[]\n",
        "      dict_features[u_i].append(iter_feas[u_i])"
      ],
      "metadata": {
        "id": "nHcOCida1oXF"
      },
      "execution_count": null,
      "outputs": []
    },
    {
      "cell_type": "code",
      "source": [
        "dict_features"
      ],
      "metadata": {
        "id": "QL---3oP2QMN"
      },
      "execution_count": null,
      "outputs": []
    },
    {
      "cell_type": "code",
      "source": [
        "stability=0\n",
        "# count_all=0\n",
        "for ui in dict_features.keys():\n",
        "  features=dict_features[ui]\n",
        "  stabs=0\n",
        "  count=0\n",
        "  if(len(features)>1):\n",
        "    # count_all+=1\n",
        "    for i in range(len(features)):\n",
        "      for j in range(len(features)):\n",
        "        if i != j:\n",
        "          intersection = list(set(features[i]) & set(features[j]))\n",
        "          union = list(set(features[i]) | set(features[j]))\n",
        "          # print(features[i],features[j])\n",
        "          # print(intersection)\n",
        "          # print(union)\n",
        "          count+=1\n",
        "          stabs+=(len(intersection)/len(union))\n",
        "    # print(stabs)\n",
        "    # print(len(features)*(len(features)-1))\n",
        "    # print((stabs/(len(features)*(len(features)-1))))\n",
        "    stability+=(stabs/(9.0*10.0))\n",
        "\n",
        "stability=stability/len( dict_features)\n",
        "print(stability)"
      ],
      "metadata": {
        "colab": {
          "base_uri": "https://localhost:8080/"
        },
        "id": "YzjzCNTA5Nxu",
        "outputId": "7b25cade-d3cf-4430-ff39-744a515a522a"
      },
      "execution_count": null,
      "outputs": [
        {
          "output_type": "stream",
          "name": "stdout",
          "text": [
            "0.6532861583110565\n"
          ]
        }
      ]
    },
    {
      "cell_type": "code",
      "source": [
        "print(count_all)"
      ],
      "metadata": {
        "colab": {
          "base_uri": "https://localhost:8080/"
        },
        "id": "EE9XTcck7dWd",
        "outputId": "84f4e8f4-cff5-4457-ffea-f451f5011b01"
      },
      "execution_count": null,
      "outputs": [
        {
          "output_type": "stream",
          "name": "stdout",
          "text": [
            "100\n"
          ]
        }
      ]
    }
  ],
  "metadata": {
    "accelerator": "GPU",
    "colab": {
      "provenance": []
    },
    "kernelspec": {
      "display_name": "Python 3",
      "name": "python3"
    },
    "language_info": {
      "name": "python"
    },
    "gpuClass": "standard"
  },
  "nbformat": 4,
  "nbformat_minor": 0
}