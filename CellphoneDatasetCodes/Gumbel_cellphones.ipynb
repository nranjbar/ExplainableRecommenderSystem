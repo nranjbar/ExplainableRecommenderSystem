{
  "cells": [
    {
      "cell_type": "markdown",
      "source": [
        "Line to Drive files for cell-phone dataset: https://drive.google.com/file/d/1ET7rXNa5vAhWNLK6YQsbuQsiQNavO2sL/view?usp=share_link"
      ],
      "metadata": {
        "id": "vsmqWWFmCjZH"
      }
    },
    {
      "cell_type": "code",
      "execution_count": null,
      "metadata": {
        "colab": {
          "base_uri": "https://localhost:8080/"
        },
        "id": "HnZRW-GvrGOL",
        "outputId": "d7c5fa39-76c5-4996-bdcb-22cf4a482e4d"
      },
      "outputs": [
        {
          "output_type": "stream",
          "name": "stdout",
          "text": [
            "Mounted at /content/drive\n"
          ]
        }
      ],
      "source": [
        "from google.colab import drive\n",
        "drive.mount('/content/drive')"
      ]
    },
    {
      "cell_type": "markdown",
      "source": [
        "# Preprocessing..."
      ],
      "metadata": {
        "id": "gizkQH7qBxbM"
      }
    },
    {
      "cell_type": "code",
      "execution_count": null,
      "metadata": {
        "id": "kqmspiJd2PHt"
      },
      "outputs": [],
      "source": [
        "import pandas as pd\n",
        "import numpy as np\n",
        "import torch\n",
        "import json\n",
        "import matplotlib.pyplot as plt\n",
        "import os\n",
        "import tqdm\n",
        "import pickle\n",
        "from pathlib import Path\n",
        "from torch.utils.data import DataLoader\n",
        "from sklearn.metrics import ndcg_score\n",
        "import torch.nn.functional as F\n",
        "np.random.seed(0)"
      ]
    },
    {
      "cell_type": "code",
      "execution_count": null,
      "metadata": {
        "colab": {
          "base_uri": "https://localhost:8080/"
        },
        "id": "8DiUsXtF2SIS",
        "outputId": "ed82f6ce-b95a-4326-d5b4-e861938cce3e"
      },
      "outputs": [
        {
          "output_type": "stream",
          "name": "stdout",
          "text": [
            "--2023-01-19 09:36:51--  https://jmcauley.ucsd.edu/data/amazon_v2/categoryFiles/Cell_Phones_and_Accessories.json.gz\n",
            "Resolving jmcauley.ucsd.edu (jmcauley.ucsd.edu)... 137.110.160.73\n",
            "Connecting to jmcauley.ucsd.edu (jmcauley.ucsd.edu)|137.110.160.73|:443... connected.\n",
            "WARNING: cannot verify jmcauley.ucsd.edu's certificate, issued by ‘CN=InCommon RSA Server CA,OU=InCommon,O=Internet2,L=Ann Arbor,ST=MI,C=US’:\n",
            "  Unable to locally verify the issuer's authority.\n",
            "HTTP request sent, awaiting response... 200 OK\n",
            "Length: 1232323281 (1.1G) [application/x-gzip]\n",
            "Saving to: ‘Cell_Phones_and_Accessories.json.gz’\n",
            "\n",
            "Cell_Phones_and_Acc 100%[===================>]   1.15G  17.5MB/s    in 69s     \n",
            "\n",
            "2023-01-19 09:38:01 (17.0 MB/s) - ‘Cell_Phones_and_Accessories.json.gz’ saved [1232323281/1232323281]\n",
            "\n"
          ]
        }
      ],
      "source": [
        "!wget https://jmcauley.ucsd.edu/data/amazon_v2/categoryFiles/Cell_Phones_and_Accessories.json.gz --no-check-certificate "
      ]
    },
    {
      "cell_type": "code",
      "execution_count": null,
      "metadata": {
        "id": "4Htc_yec2VLB"
      },
      "outputs": [],
      "source": [
        "!gunzip Cell_Phones_and_Accessories.json.gz"
      ]
    },
    {
      "cell_type": "code",
      "execution_count": null,
      "metadata": {
        "id": "gn5qp_282dmg",
        "colab": {
          "base_uri": "https://localhost:8080/"
        },
        "outputId": "8e3d9686-77aa-4a32-8573-7a22b39daec4"
      },
      "outputs": [
        {
          "output_type": "stream",
          "name": "stdout",
          "text": [
            "--2023-01-19 09:38:35--  https://jmcauley.ucsd.edu/data/amazon_v2/metaFiles2/meta_Cell_Phones_and_Accessories.json.gz\n",
            "Resolving jmcauley.ucsd.edu (jmcauley.ucsd.edu)... 137.110.160.73\n",
            "Connecting to jmcauley.ucsd.edu (jmcauley.ucsd.edu)|137.110.160.73|:443... connected.\n",
            "WARNING: cannot verify jmcauley.ucsd.edu's certificate, issued by ‘CN=InCommon RSA Server CA,OU=InCommon,O=Internet2,L=Ann Arbor,ST=MI,C=US’:\n",
            "  Unable to locally verify the issuer's authority.\n",
            "HTTP request sent, awaiting response... 200 OK\n",
            "Length: 360006372 (343M) [application/x-gzip]\n",
            "Saving to: ‘meta_Cell_Phones_and_Accessories.json.gz’\n",
            "\n",
            "meta_Cell_Phones_an 100%[===================>] 343.33M  17.5MB/s    in 21s     \n",
            "\n",
            "2023-01-19 09:38:57 (16.3 MB/s) - ‘meta_Cell_Phones_and_Accessories.json.gz’ saved [360006372/360006372]\n",
            "\n"
          ]
        }
      ],
      "source": [
        "!wget https://jmcauley.ucsd.edu/data/amazon_v2/metaFiles2/meta_Cell_Phones_and_Accessories.json.gz --no-check-certificate "
      ]
    },
    {
      "cell_type": "code",
      "execution_count": null,
      "metadata": {
        "id": "3uKVAbhA2jQh"
      },
      "outputs": [],
      "source": [
        "from nltk.corpus import stopwords\n",
        "from nltk import word_tokenize\n",
        "from nltk import FreqDist\n",
        "import re\n",
        "from nltk.tokenize import RegexpTokenizer\n",
        "import nltk\n",
        "from nltk.stem import WordNetLemmatizer\n",
        "from nltk import word_tokenize,pos_tag\n",
        "import pandas as pd"
      ]
    },
    {
      "cell_type": "code",
      "execution_count": null,
      "metadata": {
        "id": "p9GEI0QDVX5a"
      },
      "outputs": [],
      "source": [
        "save_path='/content/drive/MyDrive/cell_phone/'"
      ]
    },
    {
      "cell_type": "code",
      "execution_count": null,
      "metadata": {
        "id": "qjnAFk-vpVWz",
        "colab": {
          "base_uri": "https://localhost:8080/"
        },
        "outputId": "7223fd9f-2ca2-420f-c851-2010e4b6426a"
      },
      "outputs": [
        {
          "output_type": "stream",
          "name": "stderr",
          "text": [
            "/usr/local/lib/python3.8/dist-packages/IPython/core/interactiveshell.py:3326: DtypeWarning: Columns (5) have mixed types.Specify dtype option on import or set low_memory=False.\n",
            "  exec(code_obj, self.user_global_ns, self.user_ns)\n"
          ]
        }
      ],
      "source": [
        "df_review=pd.read_csv(save_path+'df_reviews.csv')"
      ]
    },
    {
      "cell_type": "code",
      "execution_count": null,
      "metadata": {
        "id": "7V09pueGpc4b"
      },
      "outputs": [],
      "source": [
        "df_meta=pd.read_csv(save_path+'df_meta.csv')"
      ]
    },
    {
      "cell_type": "code",
      "source": [
        "import glob\n",
        "items_list=[]\n",
        "names=glob.glob(save_path+\"description_bert/*.json\")\n",
        "for name in names:\n",
        "  # items_dframe=pd.read_json(name)\n",
        "  item_id=name.split('/')[-1].split('_')[-1][0:-5]\n",
        "  items_list.append(item_id)\n"
      ],
      "metadata": {
        "id": "FjdaO80t1VmR"
      },
      "execution_count": null,
      "outputs": []
    },
    {
      "cell_type": "code",
      "source": [
        "print('B014QE0N8O' in items_list)"
      ],
      "metadata": {
        "colab": {
          "base_uri": "https://localhost:8080/"
        },
        "id": "KGiBnzsn7Sw-",
        "outputId": "21b1a271-80b1-4455-da5c-d4d640de790e"
      },
      "execution_count": null,
      "outputs": [
        {
          "output_type": "stream",
          "name": "stdout",
          "text": [
            "True\n"
          ]
        }
      ]
    },
    {
      "cell_type": "code",
      "execution_count": null,
      "metadata": {
        "colab": {
          "base_uri": "https://localhost:8080/"
        },
        "id": "0WMpbJPywlK0",
        "outputId": "9857ca6f-647a-4bef-a048-25b8735cdc30"
      },
      "outputs": [
        {
          "output_type": "execute_result",
          "data": {
            "text/plain": [
              "1940"
            ]
          },
          "metadata": {},
          "execution_count": 8
        }
      ],
      "source": [
        "len(items_list)"
      ]
    },
    {
      "cell_type": "code",
      "execution_count": null,
      "metadata": {
        "id": "tc-C0agaIArH"
      },
      "outputs": [],
      "source": [
        "df_review.drop(df_review.index[~df_review['asin'].isin(items_list)], inplace=True) "
      ]
    },
    {
      "cell_type": "code",
      "execution_count": null,
      "metadata": {
        "id": "LP1V1WdmvuoX"
      },
      "outputs": [],
      "source": [
        "# df_review=df_review[df_review['reviewerID'].isin(df_review['reviewerID'].value_counts()[df_review['reviewerID'].value_counts()>=5].index)]\n",
        "# df_review=df_review[df_review['asin'].isin(df_review['asin'].value_counts()[df_review['asin'].value_counts()>=10].index)]"
      ]
    },
    {
      "cell_type": "code",
      "source": [
        "df_review"
      ],
      "metadata": {
        "id": "HflW2FS_9F9j"
      },
      "execution_count": null,
      "outputs": []
    },
    {
      "cell_type": "code",
      "execution_count": null,
      "metadata": {
        "id": "xOvDThkpxVFC"
      },
      "outputs": [],
      "source": [
        "df_review.drop('Unnamed: 0',axis=1,inplace=True)"
      ]
    },
    {
      "cell_type": "code",
      "source": [
        "df_review.drop_duplicates(inplace=True)"
      ],
      "metadata": {
        "id": "pD6sVB9wn_rz"
      },
      "execution_count": null,
      "outputs": []
    },
    {
      "cell_type": "code",
      "source": [
        "df_review"
      ],
      "metadata": {
        "colab": {
          "base_uri": "https://localhost:8080/",
          "height": 423
        },
        "id": "Z37JRPewoExa",
        "outputId": "c7cbd4f8-31ff-41b7-f75c-97506d9bc60d"
      },
      "execution_count": null,
      "outputs": [
        {
          "output_type": "execute_result",
          "data": {
            "text/plain": [
              "         overall      reviewerID        asin  unixReviewTime  vote\n",
              "1075         1.0   AQL4Y2G5IMTLH  B0004OPNTA      1154563200  27.0\n",
              "1076         5.0  A24ELVKE7L81X1  B0004OPNTA      1139184000   3.0\n",
              "1077         5.0   A4SASFK7TLPGY  B0004OPNTA      1130630400   3.0\n",
              "1078         5.0  A1T9HX66DMGN6S  B0004OPNTA      1130457600  21.0\n",
              "1079         1.0  A34TC14MCJXDK7  B0004OPNTA      1116892800  15.0\n",
              "...          ...             ...         ...             ...   ...\n",
              "3793055      5.0  A3BI52GIXW9N06  B01HCH03HS      1538006400   NaN\n",
              "3793056      5.0  A1UVJ55JU0U81S  B01HCH03HS      1537920000   NaN\n",
              "3793057      5.0  A2N2ETUGNPSDJD  B01HCH03HS      1537747200   NaN\n",
              "3793058      5.0  A3HRMHWLAUY1A3  B01HCH03HS      1537574400   NaN\n",
              "3793059      4.0  A23I3VKQE3TGCI  B01HCH03HS      1537488000   NaN\n",
              "\n",
              "[1706896 rows x 5 columns]"
            ],
            "text/html": [
              "\n",
              "  <div id=\"df-676c54c7-db4f-4c0d-84b3-e4655a42a5e1\">\n",
              "    <div class=\"colab-df-container\">\n",
              "      <div>\n",
              "<style scoped>\n",
              "    .dataframe tbody tr th:only-of-type {\n",
              "        vertical-align: middle;\n",
              "    }\n",
              "\n",
              "    .dataframe tbody tr th {\n",
              "        vertical-align: top;\n",
              "    }\n",
              "\n",
              "    .dataframe thead th {\n",
              "        text-align: right;\n",
              "    }\n",
              "</style>\n",
              "<table border=\"1\" class=\"dataframe\">\n",
              "  <thead>\n",
              "    <tr style=\"text-align: right;\">\n",
              "      <th></th>\n",
              "      <th>overall</th>\n",
              "      <th>reviewerID</th>\n",
              "      <th>asin</th>\n",
              "      <th>unixReviewTime</th>\n",
              "      <th>vote</th>\n",
              "    </tr>\n",
              "  </thead>\n",
              "  <tbody>\n",
              "    <tr>\n",
              "      <th>1075</th>\n",
              "      <td>1.0</td>\n",
              "      <td>AQL4Y2G5IMTLH</td>\n",
              "      <td>B0004OPNTA</td>\n",
              "      <td>1154563200</td>\n",
              "      <td>27.0</td>\n",
              "    </tr>\n",
              "    <tr>\n",
              "      <th>1076</th>\n",
              "      <td>5.0</td>\n",
              "      <td>A24ELVKE7L81X1</td>\n",
              "      <td>B0004OPNTA</td>\n",
              "      <td>1139184000</td>\n",
              "      <td>3.0</td>\n",
              "    </tr>\n",
              "    <tr>\n",
              "      <th>1077</th>\n",
              "      <td>5.0</td>\n",
              "      <td>A4SASFK7TLPGY</td>\n",
              "      <td>B0004OPNTA</td>\n",
              "      <td>1130630400</td>\n",
              "      <td>3.0</td>\n",
              "    </tr>\n",
              "    <tr>\n",
              "      <th>1078</th>\n",
              "      <td>5.0</td>\n",
              "      <td>A1T9HX66DMGN6S</td>\n",
              "      <td>B0004OPNTA</td>\n",
              "      <td>1130457600</td>\n",
              "      <td>21.0</td>\n",
              "    </tr>\n",
              "    <tr>\n",
              "      <th>1079</th>\n",
              "      <td>1.0</td>\n",
              "      <td>A34TC14MCJXDK7</td>\n",
              "      <td>B0004OPNTA</td>\n",
              "      <td>1116892800</td>\n",
              "      <td>15.0</td>\n",
              "    </tr>\n",
              "    <tr>\n",
              "      <th>...</th>\n",
              "      <td>...</td>\n",
              "      <td>...</td>\n",
              "      <td>...</td>\n",
              "      <td>...</td>\n",
              "      <td>...</td>\n",
              "    </tr>\n",
              "    <tr>\n",
              "      <th>3793055</th>\n",
              "      <td>5.0</td>\n",
              "      <td>A3BI52GIXW9N06</td>\n",
              "      <td>B01HCH03HS</td>\n",
              "      <td>1538006400</td>\n",
              "      <td>NaN</td>\n",
              "    </tr>\n",
              "    <tr>\n",
              "      <th>3793056</th>\n",
              "      <td>5.0</td>\n",
              "      <td>A1UVJ55JU0U81S</td>\n",
              "      <td>B01HCH03HS</td>\n",
              "      <td>1537920000</td>\n",
              "      <td>NaN</td>\n",
              "    </tr>\n",
              "    <tr>\n",
              "      <th>3793057</th>\n",
              "      <td>5.0</td>\n",
              "      <td>A2N2ETUGNPSDJD</td>\n",
              "      <td>B01HCH03HS</td>\n",
              "      <td>1537747200</td>\n",
              "      <td>NaN</td>\n",
              "    </tr>\n",
              "    <tr>\n",
              "      <th>3793058</th>\n",
              "      <td>5.0</td>\n",
              "      <td>A3HRMHWLAUY1A3</td>\n",
              "      <td>B01HCH03HS</td>\n",
              "      <td>1537574400</td>\n",
              "      <td>NaN</td>\n",
              "    </tr>\n",
              "    <tr>\n",
              "      <th>3793059</th>\n",
              "      <td>4.0</td>\n",
              "      <td>A23I3VKQE3TGCI</td>\n",
              "      <td>B01HCH03HS</td>\n",
              "      <td>1537488000</td>\n",
              "      <td>NaN</td>\n",
              "    </tr>\n",
              "  </tbody>\n",
              "</table>\n",
              "<p>1706896 rows × 5 columns</p>\n",
              "</div>\n",
              "      <button class=\"colab-df-convert\" onclick=\"convertToInteractive('df-676c54c7-db4f-4c0d-84b3-e4655a42a5e1')\"\n",
              "              title=\"Convert this dataframe to an interactive table.\"\n",
              "              style=\"display:none;\">\n",
              "        \n",
              "  <svg xmlns=\"http://www.w3.org/2000/svg\" height=\"24px\"viewBox=\"0 0 24 24\"\n",
              "       width=\"24px\">\n",
              "    <path d=\"M0 0h24v24H0V0z\" fill=\"none\"/>\n",
              "    <path d=\"M18.56 5.44l.94 2.06.94-2.06 2.06-.94-2.06-.94-.94-2.06-.94 2.06-2.06.94zm-11 1L8.5 8.5l.94-2.06 2.06-.94-2.06-.94L8.5 2.5l-.94 2.06-2.06.94zm10 10l.94 2.06.94-2.06 2.06-.94-2.06-.94-.94-2.06-.94 2.06-2.06.94z\"/><path d=\"M17.41 7.96l-1.37-1.37c-.4-.4-.92-.59-1.43-.59-.52 0-1.04.2-1.43.59L10.3 9.45l-7.72 7.72c-.78.78-.78 2.05 0 2.83L4 21.41c.39.39.9.59 1.41.59.51 0 1.02-.2 1.41-.59l7.78-7.78 2.81-2.81c.8-.78.8-2.07 0-2.86zM5.41 20L4 18.59l7.72-7.72 1.47 1.35L5.41 20z\"/>\n",
              "  </svg>\n",
              "      </button>\n",
              "      \n",
              "  <style>\n",
              "    .colab-df-container {\n",
              "      display:flex;\n",
              "      flex-wrap:wrap;\n",
              "      gap: 12px;\n",
              "    }\n",
              "\n",
              "    .colab-df-convert {\n",
              "      background-color: #E8F0FE;\n",
              "      border: none;\n",
              "      border-radius: 50%;\n",
              "      cursor: pointer;\n",
              "      display: none;\n",
              "      fill: #1967D2;\n",
              "      height: 32px;\n",
              "      padding: 0 0 0 0;\n",
              "      width: 32px;\n",
              "    }\n",
              "\n",
              "    .colab-df-convert:hover {\n",
              "      background-color: #E2EBFA;\n",
              "      box-shadow: 0px 1px 2px rgba(60, 64, 67, 0.3), 0px 1px 3px 1px rgba(60, 64, 67, 0.15);\n",
              "      fill: #174EA6;\n",
              "    }\n",
              "\n",
              "    [theme=dark] .colab-df-convert {\n",
              "      background-color: #3B4455;\n",
              "      fill: #D2E3FC;\n",
              "    }\n",
              "\n",
              "    [theme=dark] .colab-df-convert:hover {\n",
              "      background-color: #434B5C;\n",
              "      box-shadow: 0px 1px 3px 1px rgba(0, 0, 0, 0.15);\n",
              "      filter: drop-shadow(0px 1px 2px rgba(0, 0, 0, 0.3));\n",
              "      fill: #FFFFFF;\n",
              "    }\n",
              "  </style>\n",
              "\n",
              "      <script>\n",
              "        const buttonEl =\n",
              "          document.querySelector('#df-676c54c7-db4f-4c0d-84b3-e4655a42a5e1 button.colab-df-convert');\n",
              "        buttonEl.style.display =\n",
              "          google.colab.kernel.accessAllowed ? 'block' : 'none';\n",
              "\n",
              "        async function convertToInteractive(key) {\n",
              "          const element = document.querySelector('#df-676c54c7-db4f-4c0d-84b3-e4655a42a5e1');\n",
              "          const dataTable =\n",
              "            await google.colab.kernel.invokeFunction('convertToInteractive',\n",
              "                                                     [key], {});\n",
              "          if (!dataTable) return;\n",
              "\n",
              "          const docLinkHtml = 'Like what you see? Visit the ' +\n",
              "            '<a target=\"_blank\" href=https://colab.research.google.com/notebooks/data_table.ipynb>data table notebook</a>'\n",
              "            + ' to learn more about interactive tables.';\n",
              "          element.innerHTML = '';\n",
              "          dataTable['output_type'] = 'display_data';\n",
              "          await google.colab.output.renderOutput(dataTable, element);\n",
              "          const docLink = document.createElement('div');\n",
              "          docLink.innerHTML = docLinkHtml;\n",
              "          element.appendChild(docLink);\n",
              "        }\n",
              "      </script>\n",
              "    </div>\n",
              "  </div>\n",
              "  "
            ]
          },
          "metadata": {},
          "execution_count": 12
        }
      ]
    },
    {
      "cell_type": "code",
      "source": [
        "items_list1=[]\n",
        "users_list=[]\n",
        "review_features={}\n",
        "f=open(save_path+'Cell_Phones_and_Accessories')\n",
        "lines=f.readlines()\n",
        "i=0\n",
        "for line in lines:\n",
        "  if i%5000==0:\n",
        "    print(i)\n",
        "  i+=1\n",
        "  user_id = line.split('@')[0]\n",
        "  item_id = line.split('@')[1]\n",
        "  if item_id in items_list:\n",
        "    users_list.append(user_id)\n",
        "    items_list1.append(item_id)\n",
        "    l = len(user_id) + len(item_id)\n",
        "    fosr_data = line[l+3:]\n",
        "    for seg in fosr_data.split('||'):\n",
        "      if (user_id,item_id) not in review_features.keys():\n",
        "        review_features[(user_id,item_id)]=[]\n",
        "      fos = seg.split(':')[0].strip('|')\n",
        "      if len(fos.split('|')) > 1:\n",
        "          feature = fos.split('|')[0]\n",
        "          opinion = fos.split('|')[1]\n",
        "          sentiment = fos.split('|')[2]\n",
        "          sentence= seg.split(':')[1]\n",
        "          if sentiment=='+1':\n",
        "            senti=1\n",
        "          else:\n",
        "            senti=-1\n",
        "          review_features[(user_id,item_id)].append([feature,opinion,senti,sentence])"
      ],
      "metadata": {
        "colab": {
          "base_uri": "https://localhost:8080/"
        },
        "id": "YEY-XMN6uKcy",
        "outputId": "6a1e8585-a624-4680-f9da-9a81e419188f"
      },
      "execution_count": null,
      "outputs": [
        {
          "output_type": "stream",
          "name": "stdout",
          "text": [
            "0\n",
            "5000\n",
            "10000\n",
            "15000\n",
            "20000\n",
            "25000\n",
            "30000\n",
            "35000\n"
          ]
        }
      ]
    },
    {
      "cell_type": "code",
      "execution_count": null,
      "metadata": {
        "id": "kUi4wSfVSLNA"
      },
      "outputs": [],
      "source": [
        "df_review=df_review[df_review.set_index(['reviewerID','asin']).index.isin(review_features.keys())]"
      ]
    },
    {
      "cell_type": "code",
      "execution_count": null,
      "metadata": {
        "colab": {
          "base_uri": "https://localhost:8080/",
          "height": 423
        },
        "id": "K4I5TIM9SZYi",
        "outputId": "b5687063-29fa-4c08-cc38-d6d76ec40cbe"
      },
      "outputs": [
        {
          "output_type": "execute_result",
          "data": {
            "text/plain": [
              "         overall      reviewerID        asin  unixReviewTime vote\n",
              "1182         5.0   AHO9V8YUQ2G3Q  B0004OPNTA      1405123200  NaN\n",
              "1258         5.0  A2MXCDMK91S143  B0004OPNTA      1354492800  NaN\n",
              "1290         5.0  A2FD834RITVVXH  B0004OPNTA      1316131200  NaN\n",
              "1516         3.0  A39EN5XP8LDVX8  B0006TIA8Y      1367884800  NaN\n",
              "1523         5.0  A2P68VRKQMYBDE  B0006TIA8Y      1363305600  NaN\n",
              "...          ...             ...         ...             ...  ...\n",
              "3747249      5.0   AMS2CPERWN7JV  B01DK7T4M4      1468368000  NaN\n",
              "3766849      3.0  A1LYAOOXZFWB20  B01F5VMRCM      1513382400  NaN\n",
              "3773744      5.0   ARHQG5T73YT3R  B01FSV8782      1536624000  NaN\n",
              "3773792      5.0   ARHQG5T73YT3R  B01FSVN3W2      1536624000  NaN\n",
              "3792727      5.0  A3TU4DNHX3XSHM  B01HBLS89K      1537056000  NaN\n",
              "\n",
              "[17348 rows x 5 columns]"
            ],
            "text/html": [
              "\n",
              "  <div id=\"df-84270110-491c-4db7-adf5-f9cc223d1670\">\n",
              "    <div class=\"colab-df-container\">\n",
              "      <div>\n",
              "<style scoped>\n",
              "    .dataframe tbody tr th:only-of-type {\n",
              "        vertical-align: middle;\n",
              "    }\n",
              "\n",
              "    .dataframe tbody tr th {\n",
              "        vertical-align: top;\n",
              "    }\n",
              "\n",
              "    .dataframe thead th {\n",
              "        text-align: right;\n",
              "    }\n",
              "</style>\n",
              "<table border=\"1\" class=\"dataframe\">\n",
              "  <thead>\n",
              "    <tr style=\"text-align: right;\">\n",
              "      <th></th>\n",
              "      <th>overall</th>\n",
              "      <th>reviewerID</th>\n",
              "      <th>asin</th>\n",
              "      <th>unixReviewTime</th>\n",
              "      <th>vote</th>\n",
              "    </tr>\n",
              "  </thead>\n",
              "  <tbody>\n",
              "    <tr>\n",
              "      <th>1182</th>\n",
              "      <td>5.0</td>\n",
              "      <td>AHO9V8YUQ2G3Q</td>\n",
              "      <td>B0004OPNTA</td>\n",
              "      <td>1405123200</td>\n",
              "      <td>NaN</td>\n",
              "    </tr>\n",
              "    <tr>\n",
              "      <th>1258</th>\n",
              "      <td>5.0</td>\n",
              "      <td>A2MXCDMK91S143</td>\n",
              "      <td>B0004OPNTA</td>\n",
              "      <td>1354492800</td>\n",
              "      <td>NaN</td>\n",
              "    </tr>\n",
              "    <tr>\n",
              "      <th>1290</th>\n",
              "      <td>5.0</td>\n",
              "      <td>A2FD834RITVVXH</td>\n",
              "      <td>B0004OPNTA</td>\n",
              "      <td>1316131200</td>\n",
              "      <td>NaN</td>\n",
              "    </tr>\n",
              "    <tr>\n",
              "      <th>1516</th>\n",
              "      <td>3.0</td>\n",
              "      <td>A39EN5XP8LDVX8</td>\n",
              "      <td>B0006TIA8Y</td>\n",
              "      <td>1367884800</td>\n",
              "      <td>NaN</td>\n",
              "    </tr>\n",
              "    <tr>\n",
              "      <th>1523</th>\n",
              "      <td>5.0</td>\n",
              "      <td>A2P68VRKQMYBDE</td>\n",
              "      <td>B0006TIA8Y</td>\n",
              "      <td>1363305600</td>\n",
              "      <td>NaN</td>\n",
              "    </tr>\n",
              "    <tr>\n",
              "      <th>...</th>\n",
              "      <td>...</td>\n",
              "      <td>...</td>\n",
              "      <td>...</td>\n",
              "      <td>...</td>\n",
              "      <td>...</td>\n",
              "    </tr>\n",
              "    <tr>\n",
              "      <th>3747249</th>\n",
              "      <td>5.0</td>\n",
              "      <td>AMS2CPERWN7JV</td>\n",
              "      <td>B01DK7T4M4</td>\n",
              "      <td>1468368000</td>\n",
              "      <td>NaN</td>\n",
              "    </tr>\n",
              "    <tr>\n",
              "      <th>3766849</th>\n",
              "      <td>3.0</td>\n",
              "      <td>A1LYAOOXZFWB20</td>\n",
              "      <td>B01F5VMRCM</td>\n",
              "      <td>1513382400</td>\n",
              "      <td>NaN</td>\n",
              "    </tr>\n",
              "    <tr>\n",
              "      <th>3773744</th>\n",
              "      <td>5.0</td>\n",
              "      <td>ARHQG5T73YT3R</td>\n",
              "      <td>B01FSV8782</td>\n",
              "      <td>1536624000</td>\n",
              "      <td>NaN</td>\n",
              "    </tr>\n",
              "    <tr>\n",
              "      <th>3773792</th>\n",
              "      <td>5.0</td>\n",
              "      <td>ARHQG5T73YT3R</td>\n",
              "      <td>B01FSVN3W2</td>\n",
              "      <td>1536624000</td>\n",
              "      <td>NaN</td>\n",
              "    </tr>\n",
              "    <tr>\n",
              "      <th>3792727</th>\n",
              "      <td>5.0</td>\n",
              "      <td>A3TU4DNHX3XSHM</td>\n",
              "      <td>B01HBLS89K</td>\n",
              "      <td>1537056000</td>\n",
              "      <td>NaN</td>\n",
              "    </tr>\n",
              "  </tbody>\n",
              "</table>\n",
              "<p>17348 rows × 5 columns</p>\n",
              "</div>\n",
              "      <button class=\"colab-df-convert\" onclick=\"convertToInteractive('df-84270110-491c-4db7-adf5-f9cc223d1670')\"\n",
              "              title=\"Convert this dataframe to an interactive table.\"\n",
              "              style=\"display:none;\">\n",
              "        \n",
              "  <svg xmlns=\"http://www.w3.org/2000/svg\" height=\"24px\"viewBox=\"0 0 24 24\"\n",
              "       width=\"24px\">\n",
              "    <path d=\"M0 0h24v24H0V0z\" fill=\"none\"/>\n",
              "    <path d=\"M18.56 5.44l.94 2.06.94-2.06 2.06-.94-2.06-.94-.94-2.06-.94 2.06-2.06.94zm-11 1L8.5 8.5l.94-2.06 2.06-.94-2.06-.94L8.5 2.5l-.94 2.06-2.06.94zm10 10l.94 2.06.94-2.06 2.06-.94-2.06-.94-.94-2.06-.94 2.06-2.06.94z\"/><path d=\"M17.41 7.96l-1.37-1.37c-.4-.4-.92-.59-1.43-.59-.52 0-1.04.2-1.43.59L10.3 9.45l-7.72 7.72c-.78.78-.78 2.05 0 2.83L4 21.41c.39.39.9.59 1.41.59.51 0 1.02-.2 1.41-.59l7.78-7.78 2.81-2.81c.8-.78.8-2.07 0-2.86zM5.41 20L4 18.59l7.72-7.72 1.47 1.35L5.41 20z\"/>\n",
              "  </svg>\n",
              "      </button>\n",
              "      \n",
              "  <style>\n",
              "    .colab-df-container {\n",
              "      display:flex;\n",
              "      flex-wrap:wrap;\n",
              "      gap: 12px;\n",
              "    }\n",
              "\n",
              "    .colab-df-convert {\n",
              "      background-color: #E8F0FE;\n",
              "      border: none;\n",
              "      border-radius: 50%;\n",
              "      cursor: pointer;\n",
              "      display: none;\n",
              "      fill: #1967D2;\n",
              "      height: 32px;\n",
              "      padding: 0 0 0 0;\n",
              "      width: 32px;\n",
              "    }\n",
              "\n",
              "    .colab-df-convert:hover {\n",
              "      background-color: #E2EBFA;\n",
              "      box-shadow: 0px 1px 2px rgba(60, 64, 67, 0.3), 0px 1px 3px 1px rgba(60, 64, 67, 0.15);\n",
              "      fill: #174EA6;\n",
              "    }\n",
              "\n",
              "    [theme=dark] .colab-df-convert {\n",
              "      background-color: #3B4455;\n",
              "      fill: #D2E3FC;\n",
              "    }\n",
              "\n",
              "    [theme=dark] .colab-df-convert:hover {\n",
              "      background-color: #434B5C;\n",
              "      box-shadow: 0px 1px 3px 1px rgba(0, 0, 0, 0.15);\n",
              "      filter: drop-shadow(0px 1px 2px rgba(0, 0, 0, 0.3));\n",
              "      fill: #FFFFFF;\n",
              "    }\n",
              "  </style>\n",
              "\n",
              "      <script>\n",
              "        const buttonEl =\n",
              "          document.querySelector('#df-84270110-491c-4db7-adf5-f9cc223d1670 button.colab-df-convert');\n",
              "        buttonEl.style.display =\n",
              "          google.colab.kernel.accessAllowed ? 'block' : 'none';\n",
              "\n",
              "        async function convertToInteractive(key) {\n",
              "          const element = document.querySelector('#df-84270110-491c-4db7-adf5-f9cc223d1670');\n",
              "          const dataTable =\n",
              "            await google.colab.kernel.invokeFunction('convertToInteractive',\n",
              "                                                     [key], {});\n",
              "          if (!dataTable) return;\n",
              "\n",
              "          const docLinkHtml = 'Like what you see? Visit the ' +\n",
              "            '<a target=\"_blank\" href=https://colab.research.google.com/notebooks/data_table.ipynb>data table notebook</a>'\n",
              "            + ' to learn more about interactive tables.';\n",
              "          element.innerHTML = '';\n",
              "          dataTable['output_type'] = 'display_data';\n",
              "          await google.colab.output.renderOutput(dataTable, element);\n",
              "          const docLink = document.createElement('div');\n",
              "          docLink.innerHTML = docLinkHtml;\n",
              "          element.appendChild(docLink);\n",
              "        }\n",
              "      </script>\n",
              "    </div>\n",
              "  </div>\n",
              "  "
            ]
          },
          "metadata": {},
          "execution_count": 14
        }
      ],
      "source": [
        "df_review"
      ]
    },
    {
      "cell_type": "code",
      "execution_count": null,
      "metadata": {
        "id": "MRItXJfIcQuz"
      },
      "outputs": [],
      "source": [
        "sentires_dir='/content/drive/MyDrive/cell_phone/Cell_Phones_and_Accessories'\n",
        "test_length=10\n",
        "sample_ratio=5\n",
        "val_length=5\n",
        "neg_length=100\n",
        "dataset='cell_phone'\n",
        "save_path='/content/drive/MyDrive/cell_phone/'"
      ]
    },
    {
      "cell_type": "code",
      "execution_count": null,
      "metadata": {
        "id": "mwGTbhQJRUG1"
      },
      "outputs": [],
      "source": [
        "def get_user_item_dict(df_review,items_list):\n",
        "  user_dict = {}\n",
        "  item_dict = {}\n",
        "  j=0\n",
        "  # removed_users=['A1ULCCHD1QNOS5','A1ZS098EKPVT8F','A1K1WK6I122RX2','A2PAFKGAUSBMIE','AAOYA0DKWED4W','AJS9Q2JYS3DLJ','ADOF1VKGDCBWF','A3G11XDKGXZT9Q','A1R233YLWSRBTC','A3VH9QMH2UTX9D','A15DZOS6KVANQH']    \n",
        "  for index, row in df_review.iterrows():\n",
        "    if j%100000==0:\n",
        "      print(j)\n",
        "    j+=1\n",
        "    user=row['reviewerID']\n",
        "    item=row['asin']\n",
        "    if item in items_list:\n",
        "      if user not in user_dict:\n",
        "          user_dict[user] = [item]\n",
        "      else:\n",
        "          user_dict[user].append(item)\n",
        "      if item not in item_dict:\n",
        "          item_dict[item] = [user]\n",
        "      else:\n",
        "          item_dict[item].append(user)\n",
        "  return user_dict,item_dict"
      ]
    },
    {
      "cell_type": "code",
      "execution_count": null,
      "metadata": {
        "id": "hh8HbcOEjqgN"
      },
      "outputs": [],
      "source": [
        "df_meta.loc[df_meta['feature'].str.len()<15]"
      ]
    },
    {
      "cell_type": "code",
      "execution_count": null,
      "metadata": {
        "id": "BMC87xZi-M9N"
      },
      "outputs": [],
      "source": [
        "def get_average_vect_train(df,not_in_columns):\n",
        "  df['main_word']=np.where(df['replaced_word'] == df[not_in_columns],1,0)\n",
        "  df=df[df['main_word']==1]\n",
        "  lists=df.loc[:, ~df.columns.isin([not_in_columns,'replaced_word','logit','main_word'])].values\n",
        "  words=df[not_in_columns].values\n",
        "  # print(words)\n",
        "  vects=[sub_list[0] for sub_list in lists]\n",
        "  average=np.average(np.array(vects),axis=0)\n",
        "  # print(words)\n",
        "  # print(df)\n",
        "  return average,list(words)"
      ]
    },
    {
      "cell_type": "code",
      "execution_count": null,
      "metadata": {
        "id": "Q6_hIQu5sUrW"
      },
      "outputs": [],
      "source": [
        "def get_average_vect_test(weights,tensor_vect):\n",
        "  # weights=torch.FloatTensor(weights).to(device)\n",
        "  weights=torch.transpose(weights.repeat(tensor_vect.shape[1],1),0,1)\n",
        "  average=torch.mean(weights*tensor_vect,axis=0).to(device)\n",
        "  return average"
      ]
    },
    {
      "cell_type": "code",
      "execution_count": null,
      "metadata": {
        "id": "H6v8XMseBgND"
      },
      "outputs": [],
      "source": [
        "import os"
      ]
    },
    {
      "cell_type": "code",
      "execution_count": null,
      "metadata": {
        "id": "woUUSm-mdH1A"
      },
      "outputs": [],
      "source": [
        "from typing_extensions import final\n",
        "def get_item_matrix(item_name_dict,items_list):\n",
        "  print('----- get items matrix -------')\n",
        "  item_quality_matrix = np.zeros((len(item_name_dict), 2304))\n",
        "  print((len(item_name_dict)))\n",
        "  i=0\n",
        "  features={}\n",
        "  for item_id in items_list:\n",
        "    if item_id in item_name_dict.keys():\n",
        "      item=item_name_dict[item_id]\n",
        "      features[item]=[]\n",
        "      if i%100==0:\n",
        "        print(i)\n",
        "      i+=1\n",
        "      final_vector=[]\n",
        "      # print(item_id)\n",
        "      df_vect_desc_item= pd.read_json(save_path+'description_bert/'+'df_bert_desc_{}.json'.format(item_id))\n",
        "      df_vect_title_item= pd.read_json(save_path+'title_bert/'+'df_bert_title_{}.json'.format(item_id))\n",
        "      df_vect_feature_item= pd.read_json(save_path+'feature_bert/'+'df_bert_feature_{}.json'.format(item_id))\n",
        "\n",
        "      # print(item_id)\n",
        "      # print(df_vect_desc_item)\n",
        "\n",
        "      average_vect_desc,words_desc=get_average_vect_train(df_vect_desc_item,'description_words')\n",
        "      average_vect_title,words_title=get_average_vect_train(df_vect_title_item,'title_words')\n",
        "      average_vect_feature,words_feature=get_average_vect_train(df_vect_feature_item,'feature_words')\n",
        "\n",
        "      features[item].append(words_desc)\n",
        "      features[item].append(words_title)\n",
        "      features[item].append(words_feature)\n",
        "      # features[item].append(words_senti)\n",
        "      # features[item].append([rank])\n",
        "      final_vector=list(average_vect_desc)\n",
        "      final_vector+=list(average_vect_title)\n",
        "      final_vector+=list(average_vect_feature)\n",
        "  # final_vector+=list(average_bert_sentiment)\n",
        "  # final_vector+=[rank]\n",
        "  \n",
        "      if len(final_vector)>2304:\n",
        "          print(len(list(average_vect_desc)))\n",
        "          print(len(list(average_vect_title)))\n",
        "          print(len(list(average_vect_feature)))\n",
        "          # print(len(list(average_bert_sentiment)))\n",
        "          print(item_id)\n",
        "      item_quality_matrix[item]=final_vector\n",
        "      # print(item_quality_matrix)\n",
        "\n",
        "  item_quality_matrix = np.array(item_quality_matrix, dtype='float32')\n",
        "  return item_quality_matrix,features"
      ]
    },
    {
      "cell_type": "code",
      "execution_count": null,
      "metadata": {
        "id": "QRpOh_KG94WX"
      },
      "outputs": [],
      "source": [
        "def get_user_matrix(item_matrix,inv_user_name_dict,item_name_dict):\n",
        "  user_quality_matrix = np.zeros((len(inv_user_name_dict), 2304))\n",
        "  i=0\n",
        "  print('----- get users matrix -------')\n",
        "  print((len(inv_user_name_dict)))\n",
        "  for  user in inv_user_name_dict.keys():\n",
        "    if i%1000==0:\n",
        "      print(i)\n",
        "    i+=1\n",
        "    user_id= inv_user_name_dict[user]\n",
        "    final_vector=[]\n",
        "    items_interacted=df_review[df_review['reviewerID']==user_id ]\n",
        "    # mean_rate=np.average(items_interacted['overall'].values)\n",
        "    # weights=[]\n",
        "    for item_id in items_interacted['asin'].values:\n",
        "      if item_id in item_name_dict.keys():\n",
        "        item=item_name_dict[item_id]\n",
        "        # weight=items_interacted[items_interacted['asin']==item_id]['overall'].values[0]-mean_rate\n",
        "        # weights.append(weight)\n",
        "        final_vector.append(item_matrix[item])\n",
        "    # if np.sum(weights)>0 or np.sum(weights)<0:\n",
        "    #   final_average=np.average(final_vector,weights=weights,axis=0)\n",
        "    # else:\n",
        "    final_average=np.average(final_vector,axis=0)\n",
        "    if ~np.isnan(np.sum(final_average)):\n",
        "      user_quality_matrix[user]=final_average\n",
        "    else:\n",
        "      print(user_id)\n",
        "  user_quality_matrix = np.array(user_quality_matrix, dtype='float32')\n",
        "  return user_quality_matrix"
      ]
    },
    {
      "cell_type": "code",
      "execution_count": null,
      "metadata": {
        "id": "Rfm9U58AAOnk"
      },
      "outputs": [],
      "source": [
        "def sample_training_pairs(user, training_items, item_set, sample_ratio=5):\n",
        "    positive_items = set(training_items)\n",
        "    negative_items = set()\n",
        "    for item in item_set:\n",
        "        if item not in positive_items:\n",
        "            negative_items.add(item)\n",
        "    neg_length = len(positive_items) * sample_ratio\n",
        "    negative_items = np.random.choice(np.array(list(negative_items)), neg_length, replace=False)\n",
        "    train_pairs = []\n",
        "    for p_item in positive_items:\n",
        "        train_pairs.append([user, p_item, 1])\n",
        "    for n_item in negative_items:\n",
        "        train_pairs.append([user, n_item, 0])\n",
        "    return train_pairs"
      ]
    },
    {
      "cell_type": "code",
      "execution_count": null,
      "metadata": {
        "id": "4RVzSKXxGF7u",
        "colab": {
          "base_uri": "https://localhost:8080/"
        },
        "outputId": "08b6ebf7-5a09-41fb-e1bf-9a0f0cdb8095"
      },
      "outputs": [
        {
          "output_type": "stream",
          "name": "stdout",
          "text": [
            "0\n"
          ]
        }
      ],
      "source": [
        "user_dict,item_dict=get_user_item_dict(df_review,items_list)"
      ]
    },
    {
      "cell_type": "code",
      "execution_count": null,
      "metadata": {
        "id": "wRV2woMaQP2z"
      },
      "outputs": [],
      "source": [
        "from re import S\n",
        "import torch\n",
        "import numpy as np\n",
        "import json\n",
        "import pickle\n",
        "# from torch._C import R\n",
        "import tqdm\n",
        "from torch.random import seed\n",
        "\n",
        "\n",
        "class AmazonDataset():\n",
        "    def __init__(self):\n",
        "        super().__init__()\n",
        "\n",
        "        self.user_name_dict = {}  # rename users to integer names\n",
        "        self.item_name_dict = {}\n",
        "        # self.feature_name_dict = {}\n",
        "\n",
        "        self.features = {}  # feature list\n",
        "        self.users = []\n",
        "        self.items = []\n",
        "\n",
        "        # the interacted items for each user, sorted with date {user:[i1, i2, i3, ...], user:[i1, i2, i3, ...]}\n",
        "        self.user_hist_inter_dict = {}\n",
        "        # the interacted users for each item\n",
        "        self.item_hist_inter_dict = {}  \n",
        "\n",
        "        self.user_num = None\n",
        "        self.item_num = None\n",
        "        self.feature_num = 2304# number of features\n",
        "\n",
        "        self.user_feature_matrix = None  # user aspect attention matrix\n",
        "        self.item_feature_matrix = None  # item aspect quality matrix\n",
        "\n",
        "        self.training_data = None\n",
        "        self.test_data = None\n",
        "        self.pre_processing()\n",
        "        self.get_user_item_feature_matrix()\n",
        "        self.sample_training()  # sample training data, for traning BPR loss\n",
        "        self.sample_test()  # sample test data\n",
        "\n",
        "    def pre_processing(self,):\n",
        "        self.items_list=items_list\n",
        "        user_dict, item_dict = get_user_item_dict(df_review,self.items_list)  # not sorted with time\n",
        "        self.items_list=list(item_dict.keys())\n",
        "        print('num_items: ',len(item_dict))\n",
        "        user_item_date_dict = {}   # {(user, item): date, (user, item): date ...}  # used to remove duplicate\n",
        "        # # removed_users=['A1ULCCHD1QNOS5','A1ZS098EKPVT8F','A1K1WK6I122RX2','A2PAFKGAUSBMIE','AAOYA0DKWED4W','AJS9Q2JYS3DLJ','ADOF1VKGDCBWF','A3G11XDKGXZT9Q','A1R233YLWSRBTC','A3VH9QMH2UTX9D','A15DZOS6KVANQH']\n",
        "        # print(df_review.shape)\n",
        "        for i, row in df_review.iterrows():\n",
        "            user = row['reviewerID']\n",
        "            # if user not in removed_users:\n",
        "            item = row['asin']\n",
        "            date = row['unixReviewTime']\n",
        "            if item in self.items_list:\n",
        "              if user in user_dict and item in user_dict[user] and (user, item) not in user_item_date_dict:\n",
        "                  user_item_date_dict[(user, item)] = date\n",
        "        \n",
        "        # rename users, items, and features to integer names\n",
        "        user_name_dict = {}\n",
        "        item_name_dict = {}\n",
        "        # feature_name_dict = {}\n",
        "        # features = get_feature_list(df_bert_sentiment,df_bert_desc,)\n",
        "        \n",
        "        count = 0\n",
        "        for user in user_dict:\n",
        "            if user not in user_name_dict:\n",
        "                user_name_dict[user] = count\n",
        "                count += 1\n",
        "        count = 0\n",
        "        for item in item_dict:\n",
        "            if item not in item_name_dict:\n",
        "                item_name_dict[item] = count\n",
        "                count += 1\n",
        "        self.inv_user_name_dict = {v: k for k, v in user_name_dict.items()}\n",
        "        self.inv_item_name_dict = {v: k for k, v in item_name_dict.items()}\n",
        "        \n",
        "\n",
        "        renamed_user_item_date_dict = {}\n",
        "        for key, value in user_item_date_dict.items():\n",
        "            renamed_user_item_date_dict[user_name_dict[key[0]], item_name_dict[key[1]]] = value\n",
        "\n",
        "        # sort with date\n",
        "        renamed_user_item_date_dict  = dict(sorted(renamed_user_item_date_dict .items(), key=lambda item: item[1]))\n",
        "\n",
        "        user_hist_inter_dict = {}  # {\"u1\": [i1, i2, i3, ...], \"u2\": [i1, i2, i3, ...]}, sort with time\n",
        "        item_hist_inter_dict = {}\n",
        "        # ranked_user_item_dict = {}  # {\"u1\": [i1, i2, i3, ...], \"u2\": [i1, i2, i3, ...]}\n",
        "        for key, value in renamed_user_item_date_dict.items():\n",
        "            user = key[0]\n",
        "            item = key[1]\n",
        "            if user not in user_hist_inter_dict:\n",
        "                user_hist_inter_dict[user] = [item]\n",
        "            else:\n",
        "                user_hist_inter_dict[user].append(item)\n",
        "            if item not in item_hist_inter_dict:\n",
        "                item_hist_inter_dict[item] = [user]\n",
        "            else:\n",
        "                item_hist_inter_dict[item].append(user)\n",
        "\n",
        "        user_hist_inter_dict = dict(sorted(user_hist_inter_dict.items()))\n",
        "        item_hist_inter_dict = dict(sorted(item_hist_inter_dict.items()))\n",
        "\n",
        "        users = list(user_hist_inter_dict.keys())\n",
        "        items = list(item_hist_inter_dict.keys())\n",
        "\n",
        "        self.user_name_dict = user_name_dict\n",
        "        self.item_name_dict = item_name_dict\n",
        "        self.user_hist_inter_dict = user_hist_inter_dict\n",
        "        self.item_hist_inter_dict = item_hist_inter_dict\n",
        "        self.users = users\n",
        "        self.items = items\n",
        "        self.user_num = len(users)\n",
        "        self.item_num = len(items)\n",
        "        return True\n",
        "    \n",
        "    def get_user_item_feature_matrix(self,):\n",
        "        # exclude test data from the sentiment data to construct matrix\n",
        "        train_u_i_set = set()\n",
        "        for user, items in self.user_hist_inter_dict.items():\n",
        "            items = items[:-test_length]\n",
        "            for item in items:\n",
        "                train_u_i_set.add((user, item))\n",
        "\n",
        "        self.item_feature_matrix,self.item_features= get_item_matrix(self.item_name_dict,self.items_list)\n",
        "        self.user_feature_matrix = get_user_matrix(self.item_feature_matrix,self.inv_user_name_dict,self.item_name_dict)\n",
        "        \n",
        "        return True\n",
        "    \n",
        "    def sample_training(self):\n",
        "        print('======================= sample training data =======================')\n",
        "        training_data = []\n",
        "        training_pairs = np.loadtxt(save_path+'training_data.txt',dtype=str)\n",
        "        for pair in training_pairs:\n",
        "          # print(self.user_name_dict)\n",
        "          # print(pair[0])\n",
        "          if pair[0] in self.user_name_dict.keys() and pair[1] in self.item_name_dict.keys():\n",
        "            training_data.append([self.user_name_dict[pair[0]],self.item_name_dict[pair[1]],int(pair[2])])\n",
        "\n",
        "\n",
        "        # print(self.user_feature_matrix.shape, self.item_feature_matrix.shape)\n",
        "        # training_data = []\n",
        "        # item_set = set(self.items)\n",
        "        # for user, items in self.user_hist_inter_dict.items():\n",
        "        #     if len(items)>15:\n",
        "        #       items = items[:-(test_length)]\n",
        "        #       training_pairs = sample_training_pairs(\n",
        "        #           user, \n",
        "        #           items, \n",
        "        #           item_set, \n",
        "        #           sample_ratio)\n",
        "        #       for pair in training_pairs:\n",
        "        #           training_data.append(pair)\n",
        "        print('# training samples :', len(training_data))\n",
        "        self.training_data = np.array(training_data)\n",
        "      \n",
        "        return True\n",
        "    \n",
        "    def sample_test(self):\n",
        "        print('======================= sample test data =======================')\n",
        "        user_item_label_list = []  # [[u, [item1, item2, ...], [l1, l2, ...]], ...]\n",
        "        with open(save_path+'test_data.pickle', 'rb') as f:\n",
        "            test_pairs= pickle.load(f)\n",
        "        for user_id in test_pairs.keys():\n",
        "          user=self.user_name_dict[user_id]\n",
        "          items_ids=test_pairs[user_id][0]\n",
        "          labels=test_pairs[user_id][1]\n",
        "          items=np.array([self.item_name_dict[item] for item in items_ids if item in self.item_name_dict])\n",
        "          labels=np.array([float(labels[i]) for i in range(len(labels)) if items_ids[i] in self.item_name_dict])\n",
        "          user_item_label_list.append([user,items,labels])\n",
        "        print('# test samples :', len(user_item_label_list))\n",
        "        self.test_data = np.array(user_item_label_list)\n",
        "\n",
        "        # validation_data = []  # [[u, [item1, item2, ...], [l1, l2, ...]], ...]\n",
        "        # with open(save_path+'validation_data.pickle', 'rb') as f:\n",
        "        #     validation_pairs= pickle.load(f)\n",
        "        # for user_id in validation_pairs.keys():\n",
        "        #   user=self.user_name_dict[user_id]\n",
        "        #   items_ids=validation_pairs[user_id][0]\n",
        "        #   labels=validation_pairs[user_id][1]\n",
        "        #   items=np.array([self.item_name_dict[item] for item in items_ids if item in self.item_name_dict])\n",
        "        #   labels=np.array([float(labels[i]) for i in range(len(labels)) if items_ids[i] in self.item_name_dict])\n",
        "        #   validation_data.append([user,items,labels])\n",
        "        # print('# validation samples :', len(validation_data))\n",
        "        # self.validation_data = np.array(validation_data)\n",
        "\n",
        "\n",
        "        # user_item_label_list = []  # [[u, [item1, item2, ...], [l1, l2, ...]], ...]\n",
        "        # validation_data=[]\n",
        "        # for user, items in self.user_hist_inter_dict.items():\n",
        "        #   if len(items)>15:\n",
        "        #     # print(items)\n",
        "        #     items1 = items[-(test_length):-(val_length)]\n",
        "        #     items2 = items[-(val_length):]\n",
        "        #     # print(items1)\n",
        "        #     # print(items2)\n",
        "        #     user_item_label_list.append([user, items1, np.ones(len(items1))])  # add the test items\n",
        "        #     validation_data.append([user, items2, np.ones(len(items2))])\n",
        "        #     neg_length1=len(items1)*5\n",
        "        #     neg_length2=len(items2)*5\n",
        "        #     negative_items1 = [item for item in self.items if \n",
        "        #         item not in self.user_hist_inter_dict[user]]  # the not interacted items\n",
        "        #     # print(len(negative_items1))\n",
        "        #     negative_items1 = np.random.choice(np.array(negative_items1), neg_length1, replace=False)\n",
        "        #     negative_items2 = np.random.choice(np.array(negative_items1), neg_length2, replace=False)\n",
        "\n",
        "        #     user_item_label_list[-1][1] = np.concatenate((user_item_label_list[-1][1], negative_items1), axis=0)\n",
        "        #     user_item_label_list[-1][2] = np.concatenate((user_item_label_list[-1][2], np.zeros(neg_length1)), axis=0)\n",
        "\n",
        "        #     validation_data[-1][1] = np.concatenate((validation_data[-1][1], negative_items2), axis=0)\n",
        "        #     validation_data[-1][2] = np.concatenate((validation_data[-1][2], np.zeros(neg_length2)), axis=0)\n",
        "        # print('# test samples :', len(user_item_label_list))\n",
        "        # print('# validation samples :', len(validation_data))\n",
        "        # self.test_data = np.array(user_item_label_list)\n",
        "        # self.validation_data=np.array(validation_data)\n",
        "        return True\n",
        "\n",
        "    def save(self, save_path):\n",
        "        return True\n",
        "    \n",
        "    def load(self):\n",
        "        return False"
      ]
    },
    {
      "cell_type": "code",
      "source": [
        "len(rec_dataset.test_data[2][1])"
      ],
      "metadata": {
        "id": "70psSSnqD_EL"
      },
      "execution_count": null,
      "outputs": []
    },
    {
      "cell_type": "code",
      "execution_count": null,
      "metadata": {
        "id": "mJU1IgY8LF07"
      },
      "outputs": [],
      "source": [
        "def amazon_preprocessing():\n",
        "    rec_dataset = AmazonDataset()\n",
        "    return rec_dataset"
      ]
    },
    {
      "cell_type": "code",
      "execution_count": null,
      "metadata": {
        "id": "6ECM0Lw3NFbC"
      },
      "outputs": [],
      "source": [
        "def dataset_init():\n",
        "\tif dataset == \"yelp\":\n",
        "\t\trec_dataset = yelp_preprocessing()\n",
        "\telif dataset == \"cell_phones\" or \"kindle_store\" or \"electronic\" or \"cds_and_vinyl\":\n",
        "\t\trec_dataset = amazon_preprocessing()\n",
        "\treturn rec_dataset"
      ]
    },
    {
      "cell_type": "code",
      "execution_count": null,
      "metadata": {
        "id": "zAb2lKMWb1Zo"
      },
      "outputs": [],
      "source": [
        "dataset=\"cell_phones\"\n",
        "gpu=True\n",
        "cuda='0'\n",
        "weight_decay=0.00001\n",
        "lr=0.01\n",
        "epochs=500\n",
        "batch_size=64\n",
        "rec_k=5"
      ]
    },
    {
      "cell_type": "code",
      "execution_count": null,
      "metadata": {
        "id": "x4Zo-5mANolR"
      },
      "outputs": [],
      "source": [
        "import numpy as np\n",
        "from torch.utils.data import Dataset\n",
        "class UserItemInterDataset(Dataset):\n",
        "    def __init__(self, data, user_feature_matrix, item_feature_matrix):\n",
        "        self.data = data\n",
        "        self.user_feature_matrix = user_feature_matrix\n",
        "        self.item_feature_matrix = item_feature_matrix\n",
        "\n",
        "    def __getitem__(self, index):\n",
        "        user = self.data[index][0]\n",
        "        item = self.data[index][1]\n",
        "        label = self.data[index][2]\n",
        "        user_feature = self.user_feature_matrix[user]\n",
        "        item_feature = self.item_feature_matrix[item]\n",
        "        return user_feature, item_feature, label\n",
        "    def __len__(self):\n",
        "        return len(self.data)"
      ]
    },
    {
      "cell_type": "markdown",
      "source": [
        "# Train Black-box model..."
      ],
      "metadata": {
        "id": "kP54LfheB7tY"
      }
    },
    {
      "cell_type": "code",
      "execution_count": null,
      "metadata": {
        "id": "Lma7BKCoNySG"
      },
      "outputs": [],
      "source": [
        "import numpy as np\n",
        "import torch\n",
        "from sklearn.metrics import ndcg_score"
      ]
    },
    {
      "cell_type": "code",
      "execution_count": null,
      "metadata": {
        "id": "Ep5Pi9VbNtvi"
      },
      "outputs": [],
      "source": [
        "def compute_ndcg(test_data, user_feature_matrix, item_feature_matrix, k, model, device):\n",
        "    model.eval()\n",
        "    ndcgs = []\n",
        "    with torch.no_grad():\n",
        "        for row in test_data:\n",
        "            user = row[0]\n",
        "            items = row[1]\n",
        "            gt_labels = row[2]\n",
        "            user_features = np.array([user_feature_matrix[user] for i in range(len(items))])\n",
        "            item_features = np.array([item_feature_matrix[item] for item in items])\n",
        "            scores = model(torch.from_numpy(user_features).to(device),\n",
        "                                    torch.from_numpy(item_features).to(device)).squeeze()\n",
        "            # print(scores)\n",
        "            # print(gt_labels)                        \n",
        "            scores = np.array(scores.to('cpu'))\n",
        "            ndcg = ndcg_score([gt_labels], [scores], k=k)\n",
        "            ndcgs.append(ndcg)\n",
        "    ave_ndcg = np.mean(ndcgs)\n",
        "    return ave_ndcg\n"
      ]
    },
    {
      "cell_type": "code",
      "execution_count": null,
      "metadata": {
        "id": "rnvfmuGXM-7F"
      },
      "outputs": [],
      "source": [
        "import torch\n",
        "import numpy as np\n",
        "import os\n",
        "import tqdm\n",
        "import pickle\n",
        "from pathlib import Path\n",
        "from torch.utils.data import DataLoader"
      ]
    },
    {
      "cell_type": "code",
      "execution_count": null,
      "metadata": {
        "id": "T-szQN49N-l0"
      },
      "outputs": [],
      "source": [
        "from numpy import core\n",
        "\n",
        "class BaseRecModel(torch.nn.Module):\n",
        "    def __init__(self, feature_length):\n",
        "        super(BaseRecModel, self).__init__()\n",
        "        self.fc = torch.nn.Sequential(\n",
        "            torch.nn.Linear(feature_length * 2, 512),\n",
        "            torch.nn.ReLU(),\n",
        "            torch.nn.Linear(512, 256),\n",
        "            torch.nn.ReLU(),\n",
        "            torch.nn.Linear(256, 1),\n",
        "            torch.nn.Sigmoid()\n",
        "        )\n",
        "\n",
        "    def forward(self, user_feature, item_feature):\n",
        "        fusion = torch.cat((user_feature, item_feature), 1)\n",
        "        out = self.fc(fusion)\n",
        "        return out\n"
      ]
    },
    {
      "cell_type": "code",
      "execution_count": null,
      "metadata": {
        "colab": {
          "base_uri": "https://localhost:8080/"
        },
        "id": "05LMQ0K63i30",
        "outputId": "4916b6b0-39e9-4eec-a1b6-d63106b463cc"
      },
      "outputs": [
        {
          "output_type": "stream",
          "name": "stdout",
          "text": [
            "cuda:0\n"
          ]
        }
      ],
      "source": [
        "if gpu:\n",
        "  device = torch.device('cuda:%s' % cuda)\n",
        "else:\n",
        "  device = 'cpu'\n",
        "print(device)"
      ]
    },
    {
      "cell_type": "code",
      "execution_count": null,
      "metadata": {
        "colab": {
          "base_uri": "https://localhost:8080/"
        },
        "id": "9VSW0s52y3vR",
        "outputId": "bdb0a09e-6db2-49ab-dc2e-809e1c093442"
      },
      "outputs": [
        {
          "output_type": "stream",
          "name": "stdout",
          "text": [
            "0\n",
            "num_items:  1940\n",
            "----- get items matrix -------\n",
            "1940\n",
            "0\n",
            "100\n",
            "200\n",
            "300\n",
            "400\n",
            "500\n",
            "600\n",
            "700\n",
            "800\n",
            "900\n",
            "1000\n",
            "1100\n",
            "1200\n",
            "1300\n",
            "1400\n",
            "1500\n",
            "1600\n",
            "1700\n",
            "1800\n",
            "1900\n",
            "----- get users matrix -------\n",
            "6783\n",
            "0\n",
            "1000\n",
            "2000\n",
            "3000\n",
            "4000\n",
            "5000\n",
            "6000\n",
            "======================= sample training data =======================\n",
            "# training samples : 2858\n",
            "======================= sample test data =======================\n",
            "# test samples : 93\n"
          ]
        },
        {
          "output_type": "stream",
          "name": "stderr",
          "text": [
            "<ipython-input-25-44906a73d21d>:172: VisibleDeprecationWarning: Creating an ndarray from ragged nested sequences (which is a list-or-tuple of lists-or-tuples-or ndarrays with different lengths or shapes) is deprecated. If you meant to do this, you must specify 'dtype=object' when creating the ndarray.\n",
            "  self.test_data = np.array(user_item_label_list)\n"
          ]
        }
      ],
      "source": [
        "rec_dataset = dataset_init()"
      ]
    },
    {
      "cell_type": "code",
      "execution_count": null,
      "metadata": {
        "id": "L7B-OCKL37Sx"
      },
      "outputs": [],
      "source": [
        "Path(save_path).mkdir(parents=True, exist_ok=True)\n",
        "with open(os.path.join(save_path,dataset + \"_dataset_obj_Gumbel.pickle\"), 'wb') as outp:\n",
        "   pickle.dump(rec_dataset, outp, pickle.HIGHEST_PROTOCOL)"
      ]
    },
    {
      "cell_type": "code",
      "execution_count": null,
      "metadata": {
        "id": "taAj1CnnK50V"
      },
      "outputs": [],
      "source": [
        "with open(os.path.join(save_path, dataset + \"_dataset_obj_Gumbel.pickle\"), 'rb') as inp:\n",
        "  rec_dataset = pickle.load(inp)"
      ]
    },
    {
      "cell_type": "code",
      "execution_count": null,
      "metadata": {
        "id": "stGgIm7nvgfs"
      },
      "outputs": [],
      "source": [
        "import matplotlib.pyplot as plt"
      ]
    },
    {
      "cell_type": "code",
      "execution_count": null,
      "metadata": {
        "colab": {
          "base_uri": "https://localhost:8080/",
          "height": 1000
        },
        "id": "v2G66iinM9Os",
        "outputId": "f2f4d9eb-31cb-488d-9bac-263c3f190cb9"
      },
      "outputs": [
        {
          "output_type": "stream",
          "name": "stdout",
          "text": [
            "Using CPU\n",
            "init ndcg: 0.09603078199016701\n"
          ]
        },
        {
          "output_type": "stream",
          "name": "stderr",
          "text": [
            "\r  0%|          | 0/500 [00:00<?, ?it/s]"
          ]
        },
        {
          "output_type": "stream",
          "name": "stdout",
          "text": [
            "epoch 0:  training loss:  0.66067535\n"
          ]
        },
        {
          "output_type": "stream",
          "name": "stderr",
          "text": [
            "\r  0%|          | 1/500 [00:02<23:49,  2.87s/it]"
          ]
        },
        {
          "output_type": "stream",
          "name": "stdout",
          "text": [
            "epoch 0:  training loss:  0.66067535 NDCG_validation:  0.12113219648835566\n"
          ]
        },
        {
          "output_type": "stream",
          "name": "stderr",
          "text": [
            "\r  0%|          | 2/500 [00:04<19:03,  2.30s/it]"
          ]
        },
        {
          "output_type": "stream",
          "name": "stdout",
          "text": [
            "epoch 1:  training loss:  0.63828695\n"
          ]
        },
        {
          "output_type": "stream",
          "name": "stderr",
          "text": [
            "\r  1%|          | 3/500 [00:06<16:45,  2.02s/it]"
          ]
        },
        {
          "output_type": "stream",
          "name": "stdout",
          "text": [
            "epoch 2:  training loss:  0.6349782\n"
          ]
        },
        {
          "output_type": "stream",
          "name": "stderr",
          "text": [
            "\r  1%|          | 4/500 [00:07<14:14,  1.72s/it]"
          ]
        },
        {
          "output_type": "stream",
          "name": "stdout",
          "text": [
            "epoch 3:  training loss:  0.63407904\n"
          ]
        },
        {
          "output_type": "stream",
          "name": "stderr",
          "text": [
            "\r  1%|          | 5/500 [00:08<12:38,  1.53s/it]"
          ]
        },
        {
          "output_type": "stream",
          "name": "stdout",
          "text": [
            "epoch 4:  training loss:  0.6326144\n"
          ]
        },
        {
          "output_type": "stream",
          "name": "stderr",
          "text": [
            "\r  1%|          | 6/500 [00:10<11:35,  1.41s/it]"
          ]
        },
        {
          "output_type": "stream",
          "name": "stdout",
          "text": [
            "epoch 5:  training loss:  0.63207185\n"
          ]
        },
        {
          "output_type": "stream",
          "name": "stderr",
          "text": [
            "\r  1%|▏         | 7/500 [00:11<10:58,  1.34s/it]"
          ]
        },
        {
          "output_type": "stream",
          "name": "stdout",
          "text": [
            "epoch 6:  training loss:  0.6314249\n"
          ]
        },
        {
          "output_type": "stream",
          "name": "stderr",
          "text": [
            "\r  2%|▏         | 8/500 [00:12<10:30,  1.28s/it]"
          ]
        },
        {
          "output_type": "stream",
          "name": "stdout",
          "text": [
            "epoch 7:  training loss:  0.62963045\n"
          ]
        },
        {
          "output_type": "stream",
          "name": "stderr",
          "text": [
            "\r  2%|▏         | 9/500 [00:13<10:09,  1.24s/it]"
          ]
        },
        {
          "output_type": "stream",
          "name": "stdout",
          "text": [
            "epoch 8:  training loss:  0.62904745\n"
          ]
        },
        {
          "output_type": "stream",
          "name": "stderr",
          "text": [
            "\r  2%|▏         | 10/500 [00:14<09:55,  1.22s/it]"
          ]
        },
        {
          "output_type": "stream",
          "name": "stdout",
          "text": [
            "epoch 9:  training loss:  0.6285547\n",
            "epoch 10:  training loss:  0.62755513\n"
          ]
        },
        {
          "output_type": "stream",
          "name": "stderr",
          "text": [
            "\r  2%|▏         | 11/500 [00:16<11:24,  1.40s/it]"
          ]
        },
        {
          "output_type": "stream",
          "name": "stdout",
          "text": [
            "epoch 10:  training loss:  0.62755513 NDCG_validation:  0.20556222869778987\n"
          ]
        },
        {
          "output_type": "stream",
          "name": "stderr",
          "text": [
            "\r  2%|▏         | 12/500 [00:17<10:47,  1.33s/it]"
          ]
        },
        {
          "output_type": "stream",
          "name": "stdout",
          "text": [
            "epoch 11:  training loss:  0.62585104\n"
          ]
        },
        {
          "output_type": "stream",
          "name": "stderr",
          "text": [
            "\r  3%|▎         | 13/500 [00:18<10:26,  1.29s/it]"
          ]
        },
        {
          "output_type": "stream",
          "name": "stdout",
          "text": [
            "epoch 12:  training loss:  0.625431\n"
          ]
        },
        {
          "output_type": "stream",
          "name": "stderr",
          "text": [
            "\r  3%|▎         | 14/500 [00:20<10:13,  1.26s/it]"
          ]
        },
        {
          "output_type": "stream",
          "name": "stdout",
          "text": [
            "epoch 13:  training loss:  0.62368006\n"
          ]
        },
        {
          "output_type": "stream",
          "name": "stderr",
          "text": [
            "\r  3%|▎         | 15/500 [00:21<10:03,  1.24s/it]"
          ]
        },
        {
          "output_type": "stream",
          "name": "stdout",
          "text": [
            "epoch 14:  training loss:  0.622511\n"
          ]
        },
        {
          "output_type": "stream",
          "name": "stderr",
          "text": [
            "\r  3%|▎         | 16/500 [00:22<09:52,  1.22s/it]"
          ]
        },
        {
          "output_type": "stream",
          "name": "stdout",
          "text": [
            "epoch 15:  training loss:  0.62027705\n"
          ]
        },
        {
          "output_type": "stream",
          "name": "stderr",
          "text": [
            "\r  3%|▎         | 17/500 [00:23<09:50,  1.22s/it]"
          ]
        },
        {
          "output_type": "stream",
          "name": "stdout",
          "text": [
            "epoch 16:  training loss:  0.6190137\n"
          ]
        },
        {
          "output_type": "stream",
          "name": "stderr",
          "text": [
            "\r  4%|▎         | 18/500 [00:24<09:44,  1.21s/it]"
          ]
        },
        {
          "output_type": "stream",
          "name": "stdout",
          "text": [
            "epoch 17:  training loss:  0.6173535\n"
          ]
        },
        {
          "output_type": "stream",
          "name": "stderr",
          "text": [
            "\r  4%|▍         | 19/500 [00:26<09:42,  1.21s/it]"
          ]
        },
        {
          "output_type": "stream",
          "name": "stdout",
          "text": [
            "epoch 18:  training loss:  0.6153119\n"
          ]
        },
        {
          "output_type": "stream",
          "name": "stderr",
          "text": [
            "\r  4%|▍         | 20/500 [00:27<09:39,  1.21s/it]"
          ]
        },
        {
          "output_type": "stream",
          "name": "stdout",
          "text": [
            "epoch 19:  training loss:  0.6132453\n",
            "epoch 20:  training loss:  0.6105089\n"
          ]
        },
        {
          "output_type": "stream",
          "name": "stderr",
          "text": [
            "\r  4%|▍         | 21/500 [00:29<11:11,  1.40s/it]"
          ]
        },
        {
          "output_type": "stream",
          "name": "stdout",
          "text": [
            "epoch 20:  training loss:  0.6105089 NDCG_validation:  0.23138961032078706\n"
          ]
        },
        {
          "output_type": "stream",
          "name": "stderr",
          "text": [
            "\r  4%|▍         | 22/500 [00:30<10:42,  1.34s/it]"
          ]
        },
        {
          "output_type": "stream",
          "name": "stdout",
          "text": [
            "epoch 21:  training loss:  0.60826486\n"
          ]
        },
        {
          "output_type": "stream",
          "name": "stderr",
          "text": [
            "\r  5%|▍         | 23/500 [00:31<10:21,  1.30s/it]"
          ]
        },
        {
          "output_type": "stream",
          "name": "stdout",
          "text": [
            "epoch 22:  training loss:  0.6050163\n"
          ]
        },
        {
          "output_type": "stream",
          "name": "stderr",
          "text": [
            "\r  5%|▍         | 24/500 [00:32<10:02,  1.27s/it]"
          ]
        },
        {
          "output_type": "stream",
          "name": "stdout",
          "text": [
            "epoch 23:  training loss:  0.60289043\n"
          ]
        },
        {
          "output_type": "stream",
          "name": "stderr",
          "text": [
            "\r  5%|▌         | 25/500 [00:33<09:51,  1.24s/it]"
          ]
        },
        {
          "output_type": "stream",
          "name": "stdout",
          "text": [
            "epoch 24:  training loss:  0.60011095\n"
          ]
        },
        {
          "output_type": "stream",
          "name": "stderr",
          "text": [
            "\r  5%|▌         | 26/500 [00:35<09:43,  1.23s/it]"
          ]
        },
        {
          "output_type": "stream",
          "name": "stdout",
          "text": [
            "epoch 25:  training loss:  0.59599465\n"
          ]
        },
        {
          "output_type": "stream",
          "name": "stderr",
          "text": [
            "\r  5%|▌         | 27/500 [00:36<09:35,  1.22s/it]"
          ]
        },
        {
          "output_type": "stream",
          "name": "stdout",
          "text": [
            "epoch 26:  training loss:  0.5941915\n"
          ]
        },
        {
          "output_type": "stream",
          "name": "stderr",
          "text": [
            "\r  6%|▌         | 28/500 [00:37<09:31,  1.21s/it]"
          ]
        },
        {
          "output_type": "stream",
          "name": "stdout",
          "text": [
            "epoch 27:  training loss:  0.5918367\n"
          ]
        },
        {
          "output_type": "stream",
          "name": "stderr",
          "text": [
            "\r  6%|▌         | 29/500 [00:38<09:28,  1.21s/it]"
          ]
        },
        {
          "output_type": "stream",
          "name": "stdout",
          "text": [
            "epoch 28:  training loss:  0.5899196\n"
          ]
        },
        {
          "output_type": "stream",
          "name": "stderr",
          "text": [
            "\r  6%|▌         | 30/500 [00:39<09:28,  1.21s/it]"
          ]
        },
        {
          "output_type": "stream",
          "name": "stdout",
          "text": [
            "epoch 29:  training loss:  0.5859467\n",
            "epoch 30:  training loss:  0.58223486\n"
          ]
        },
        {
          "output_type": "stream",
          "name": "stderr",
          "text": [
            "\r  6%|▌         | 31/500 [00:41<10:59,  1.41s/it]"
          ]
        },
        {
          "output_type": "stream",
          "name": "stdout",
          "text": [
            "epoch 30:  training loss:  0.58223486 NDCG_validation:  0.24366139997596384\n"
          ]
        },
        {
          "output_type": "stream",
          "name": "stderr",
          "text": [
            "\r  6%|▋         | 32/500 [00:43<10:28,  1.34s/it]"
          ]
        },
        {
          "output_type": "stream",
          "name": "stdout",
          "text": [
            "epoch 31:  training loss:  0.581558\n"
          ]
        },
        {
          "output_type": "stream",
          "name": "stderr",
          "text": [
            "\r  7%|▋         | 33/500 [00:44<10:05,  1.30s/it]"
          ]
        },
        {
          "output_type": "stream",
          "name": "stdout",
          "text": [
            "epoch 32:  training loss:  0.5758232\n"
          ]
        },
        {
          "output_type": "stream",
          "name": "stderr",
          "text": [
            "\r  7%|▋         | 34/500 [00:45<09:50,  1.27s/it]"
          ]
        },
        {
          "output_type": "stream",
          "name": "stdout",
          "text": [
            "epoch 33:  training loss:  0.5735873\n"
          ]
        },
        {
          "output_type": "stream",
          "name": "stderr",
          "text": [
            "\r  7%|▋         | 35/500 [00:46<09:40,  1.25s/it]"
          ]
        },
        {
          "output_type": "stream",
          "name": "stdout",
          "text": [
            "epoch 34:  training loss:  0.5708995\n"
          ]
        },
        {
          "output_type": "stream",
          "name": "stderr",
          "text": [
            "\r  7%|▋         | 36/500 [00:47<09:35,  1.24s/it]"
          ]
        },
        {
          "output_type": "stream",
          "name": "stdout",
          "text": [
            "epoch 35:  training loss:  0.5682141\n"
          ]
        },
        {
          "output_type": "stream",
          "name": "stderr",
          "text": [
            "\r  7%|▋         | 37/500 [00:49<09:31,  1.23s/it]"
          ]
        },
        {
          "output_type": "stream",
          "name": "stdout",
          "text": [
            "epoch 36:  training loss:  0.5650748\n"
          ]
        },
        {
          "output_type": "stream",
          "name": "stderr",
          "text": [
            "\r  8%|▊         | 38/500 [00:50<09:31,  1.24s/it]"
          ]
        },
        {
          "output_type": "stream",
          "name": "stdout",
          "text": [
            "epoch 37:  training loss:  0.56466067\n"
          ]
        },
        {
          "output_type": "stream",
          "name": "stderr",
          "text": [
            "\r  8%|▊         | 39/500 [00:51<09:27,  1.23s/it]"
          ]
        },
        {
          "output_type": "stream",
          "name": "stdout",
          "text": [
            "epoch 38:  training loss:  0.5587568\n"
          ]
        },
        {
          "output_type": "stream",
          "name": "stderr",
          "text": [
            "\r  8%|▊         | 40/500 [00:52<09:20,  1.22s/it]"
          ]
        },
        {
          "output_type": "stream",
          "name": "stdout",
          "text": [
            "epoch 39:  training loss:  0.55606884\n",
            "epoch 40:  training loss:  0.55486786\n"
          ]
        },
        {
          "output_type": "stream",
          "name": "stderr",
          "text": [
            "\r  8%|▊         | 41/500 [00:54<10:50,  1.42s/it]"
          ]
        },
        {
          "output_type": "stream",
          "name": "stdout",
          "text": [
            "epoch 40:  training loss:  0.55486786 NDCG_validation:  0.2581518314071855\n"
          ]
        },
        {
          "output_type": "stream",
          "name": "stderr",
          "text": [
            "\r  8%|▊         | 42/500 [00:55<10:19,  1.35s/it]"
          ]
        },
        {
          "output_type": "stream",
          "name": "stdout",
          "text": [
            "epoch 41:  training loss:  0.55271757\n"
          ]
        },
        {
          "output_type": "stream",
          "name": "stderr",
          "text": [
            "\r  9%|▊         | 43/500 [00:57<10:00,  1.31s/it]"
          ]
        },
        {
          "output_type": "stream",
          "name": "stdout",
          "text": [
            "epoch 42:  training loss:  0.5494981\n"
          ]
        },
        {
          "output_type": "stream",
          "name": "stderr",
          "text": [
            "\r  9%|▉         | 44/500 [00:58<09:46,  1.29s/it]"
          ]
        },
        {
          "output_type": "stream",
          "name": "stdout",
          "text": [
            "epoch 43:  training loss:  0.54686886\n"
          ]
        },
        {
          "output_type": "stream",
          "name": "stderr",
          "text": [
            "\r  9%|▉         | 45/500 [00:59<09:38,  1.27s/it]"
          ]
        },
        {
          "output_type": "stream",
          "name": "stdout",
          "text": [
            "epoch 44:  training loss:  0.54360574\n"
          ]
        },
        {
          "output_type": "stream",
          "name": "stderr",
          "text": [
            "\r  9%|▉         | 46/500 [01:00<09:34,  1.27s/it]"
          ]
        },
        {
          "output_type": "stream",
          "name": "stdout",
          "text": [
            "epoch 45:  training loss:  0.5430032\n"
          ]
        },
        {
          "output_type": "stream",
          "name": "stderr",
          "text": [
            "\r  9%|▉         | 47/500 [01:01<09:24,  1.25s/it]"
          ]
        },
        {
          "output_type": "stream",
          "name": "stdout",
          "text": [
            "epoch 46:  training loss:  0.5388952\n"
          ]
        },
        {
          "output_type": "stream",
          "name": "stderr",
          "text": [
            "\r 10%|▉         | 48/500 [01:03<09:19,  1.24s/it]"
          ]
        },
        {
          "output_type": "stream",
          "name": "stdout",
          "text": [
            "epoch 47:  training loss:  0.5357407\n"
          ]
        },
        {
          "output_type": "stream",
          "name": "stderr",
          "text": [
            "\r 10%|▉         | 49/500 [01:04<09:14,  1.23s/it]"
          ]
        },
        {
          "output_type": "stream",
          "name": "stdout",
          "text": [
            "epoch 48:  training loss:  0.530978\n"
          ]
        },
        {
          "output_type": "stream",
          "name": "stderr",
          "text": [
            "\r 10%|█         | 50/500 [01:05<09:12,  1.23s/it]"
          ]
        },
        {
          "output_type": "stream",
          "name": "stdout",
          "text": [
            "epoch 49:  training loss:  0.52891624\n",
            "epoch 50:  training loss:  0.52748734\n"
          ]
        },
        {
          "output_type": "stream",
          "name": "stderr",
          "text": [
            "\r 10%|█         | 51/500 [01:07<10:46,  1.44s/it]"
          ]
        },
        {
          "output_type": "stream",
          "name": "stdout",
          "text": [
            "epoch 50:  training loss:  0.52748734 NDCG_validation:  0.28935068329317076\n"
          ]
        },
        {
          "output_type": "stream",
          "name": "stderr",
          "text": [
            "\r 10%|█         | 52/500 [01:08<10:14,  1.37s/it]"
          ]
        },
        {
          "output_type": "stream",
          "name": "stdout",
          "text": [
            "epoch 51:  training loss:  0.52631986\n"
          ]
        },
        {
          "output_type": "stream",
          "name": "stderr",
          "text": [
            "\r 11%|█         | 53/500 [01:09<09:50,  1.32s/it]"
          ]
        },
        {
          "output_type": "stream",
          "name": "stdout",
          "text": [
            "epoch 52:  training loss:  0.5200968\n"
          ]
        },
        {
          "output_type": "stream",
          "name": "stderr",
          "text": [
            "\r 11%|█         | 54/500 [01:11<09:38,  1.30s/it]"
          ]
        },
        {
          "output_type": "stream",
          "name": "stdout",
          "text": [
            "epoch 53:  training loss:  0.5163076\n"
          ]
        },
        {
          "output_type": "stream",
          "name": "stderr",
          "text": [
            "\r 11%|█         | 55/500 [01:12<09:23,  1.27s/it]"
          ]
        },
        {
          "output_type": "stream",
          "name": "stdout",
          "text": [
            "epoch 54:  training loss:  0.51238626\n"
          ]
        },
        {
          "output_type": "stream",
          "name": "stderr",
          "text": [
            "\r 11%|█         | 56/500 [01:13<09:14,  1.25s/it]"
          ]
        },
        {
          "output_type": "stream",
          "name": "stdout",
          "text": [
            "epoch 55:  training loss:  0.50854284\n"
          ]
        },
        {
          "output_type": "stream",
          "name": "stderr",
          "text": [
            "\r 11%|█▏        | 57/500 [01:14<09:05,  1.23s/it]"
          ]
        },
        {
          "output_type": "stream",
          "name": "stdout",
          "text": [
            "epoch 56:  training loss:  0.51020813\n"
          ]
        },
        {
          "output_type": "stream",
          "name": "stderr",
          "text": [
            "\r 12%|█▏        | 58/500 [01:15<09:00,  1.22s/it]"
          ]
        },
        {
          "output_type": "stream",
          "name": "stdout",
          "text": [
            "epoch 57:  training loss:  0.5147992\n"
          ]
        },
        {
          "output_type": "stream",
          "name": "stderr",
          "text": [
            "\r 12%|█▏        | 59/500 [01:17<08:56,  1.22s/it]"
          ]
        },
        {
          "output_type": "stream",
          "name": "stdout",
          "text": [
            "epoch 58:  training loss:  0.50176466\n"
          ]
        },
        {
          "output_type": "stream",
          "name": "stderr",
          "text": [
            "\r 12%|█▏        | 60/500 [01:18<08:53,  1.21s/it]"
          ]
        },
        {
          "output_type": "stream",
          "name": "stdout",
          "text": [
            "epoch 59:  training loss:  0.49281996\n",
            "epoch 60:  training loss:  0.49570045\n"
          ]
        },
        {
          "output_type": "stream",
          "name": "stderr",
          "text": [
            "\r 12%|█▏        | 61/500 [01:20<10:19,  1.41s/it]"
          ]
        },
        {
          "output_type": "stream",
          "name": "stdout",
          "text": [
            "epoch 60:  training loss:  0.49570045 NDCG_validation:  0.30102608060655783\n"
          ]
        },
        {
          "output_type": "stream",
          "name": "stderr",
          "text": [
            "\r 12%|█▏        | 62/500 [01:22<11:30,  1.58s/it]"
          ]
        },
        {
          "output_type": "stream",
          "name": "stdout",
          "text": [
            "epoch 61:  training loss:  0.49350712\n"
          ]
        },
        {
          "output_type": "stream",
          "name": "stderr",
          "text": [
            "\r 13%|█▎        | 63/500 [01:23<10:35,  1.45s/it]"
          ]
        },
        {
          "output_type": "stream",
          "name": "stdout",
          "text": [
            "epoch 62:  training loss:  0.49182096\n"
          ]
        },
        {
          "output_type": "stream",
          "name": "stderr",
          "text": [
            "\r 13%|█▎        | 64/500 [01:24<09:54,  1.36s/it]"
          ]
        },
        {
          "output_type": "stream",
          "name": "stdout",
          "text": [
            "epoch 63:  training loss:  0.48214903\n"
          ]
        },
        {
          "output_type": "stream",
          "name": "stderr",
          "text": [
            "\r 13%|█▎        | 65/500 [01:25<09:26,  1.30s/it]"
          ]
        },
        {
          "output_type": "stream",
          "name": "stdout",
          "text": [
            "epoch 64:  training loss:  0.48334822\n"
          ]
        },
        {
          "output_type": "stream",
          "name": "stderr",
          "text": [
            "\r 13%|█▎        | 66/500 [01:26<09:08,  1.26s/it]"
          ]
        },
        {
          "output_type": "stream",
          "name": "stdout",
          "text": [
            "epoch 65:  training loss:  0.47938126\n"
          ]
        },
        {
          "output_type": "stream",
          "name": "stderr",
          "text": [
            "\r 13%|█▎        | 67/500 [01:28<08:56,  1.24s/it]"
          ]
        },
        {
          "output_type": "stream",
          "name": "stdout",
          "text": [
            "epoch 66:  training loss:  0.47538066\n"
          ]
        },
        {
          "output_type": "stream",
          "name": "stderr",
          "text": [
            "\r 14%|█▎        | 68/500 [01:29<08:47,  1.22s/it]"
          ]
        },
        {
          "output_type": "stream",
          "name": "stdout",
          "text": [
            "epoch 67:  training loss:  0.48059344\n"
          ]
        },
        {
          "output_type": "stream",
          "name": "stderr",
          "text": [
            "\r 14%|█▍        | 69/500 [01:30<08:41,  1.21s/it]"
          ]
        },
        {
          "output_type": "stream",
          "name": "stdout",
          "text": [
            "epoch 68:  training loss:  0.47452784\n"
          ]
        },
        {
          "output_type": "stream",
          "name": "stderr",
          "text": [
            "\r 14%|█▍        | 70/500 [01:31<08:34,  1.20s/it]"
          ]
        },
        {
          "output_type": "stream",
          "name": "stdout",
          "text": [
            "epoch 69:  training loss:  0.46860912\n",
            "epoch 70:  training loss:  0.47228464\n"
          ]
        },
        {
          "output_type": "stream",
          "name": "stderr",
          "text": [
            "\r 14%|█▍        | 71/500 [01:33<09:57,  1.39s/it]"
          ]
        },
        {
          "output_type": "stream",
          "name": "stdout",
          "text": [
            "epoch 70:  training loss:  0.47228464 NDCG_validation:  0.307200548202999\n"
          ]
        },
        {
          "output_type": "stream",
          "name": "stderr",
          "text": [
            "\r 14%|█▍        | 72/500 [01:34<09:30,  1.33s/it]"
          ]
        },
        {
          "output_type": "stream",
          "name": "stdout",
          "text": [
            "epoch 71:  training loss:  0.46556944\n"
          ]
        },
        {
          "output_type": "stream",
          "name": "stderr",
          "text": [
            "\r 15%|█▍        | 73/500 [01:36<09:49,  1.38s/it]"
          ]
        },
        {
          "output_type": "stream",
          "name": "stdout",
          "text": [
            "epoch 72:  training loss:  0.45811632\n"
          ]
        },
        {
          "output_type": "stream",
          "name": "stderr",
          "text": [
            "\r 15%|█▍        | 74/500 [01:37<09:24,  1.33s/it]"
          ]
        },
        {
          "output_type": "stream",
          "name": "stdout",
          "text": [
            "epoch 73:  training loss:  0.46429104\n"
          ]
        },
        {
          "output_type": "stream",
          "name": "stderr",
          "text": [
            "\r 15%|█▌        | 75/500 [01:38<09:02,  1.28s/it]"
          ]
        },
        {
          "output_type": "stream",
          "name": "stdout",
          "text": [
            "epoch 74:  training loss:  0.4674661\n"
          ]
        },
        {
          "output_type": "stream",
          "name": "stderr",
          "text": [
            "\r 15%|█▌        | 76/500 [01:39<08:48,  1.25s/it]"
          ]
        },
        {
          "output_type": "stream",
          "name": "stdout",
          "text": [
            "epoch 75:  training loss:  0.46076795\n"
          ]
        },
        {
          "output_type": "stream",
          "name": "stderr",
          "text": [
            "\r 15%|█▌        | 77/500 [01:40<08:39,  1.23s/it]"
          ]
        },
        {
          "output_type": "stream",
          "name": "stdout",
          "text": [
            "epoch 76:  training loss:  0.43621305\n"
          ]
        },
        {
          "output_type": "stream",
          "name": "stderr",
          "text": [
            "\r 16%|█▌        | 78/500 [01:42<08:31,  1.21s/it]"
          ]
        },
        {
          "output_type": "stream",
          "name": "stdout",
          "text": [
            "epoch 77:  training loss:  0.45992622\n"
          ]
        },
        {
          "output_type": "stream",
          "name": "stderr",
          "text": [
            "\r 16%|█▌        | 79/500 [01:43<08:27,  1.21s/it]"
          ]
        },
        {
          "output_type": "stream",
          "name": "stdout",
          "text": [
            "epoch 78:  training loss:  0.43942374\n"
          ]
        },
        {
          "output_type": "stream",
          "name": "stderr",
          "text": [
            "\r 16%|█▌        | 80/500 [01:44<08:23,  1.20s/it]"
          ]
        },
        {
          "output_type": "stream",
          "name": "stdout",
          "text": [
            "epoch 79:  training loss:  0.4418351\n",
            "epoch 80:  training loss:  0.44535157\n"
          ]
        },
        {
          "output_type": "stream",
          "name": "stderr",
          "text": [
            "\r 16%|█▌        | 81/500 [01:46<09:40,  1.38s/it]"
          ]
        },
        {
          "output_type": "stream",
          "name": "stdout",
          "text": [
            "epoch 80:  training loss:  0.44535157 NDCG_validation:  0.3369345674357462\n"
          ]
        },
        {
          "output_type": "stream",
          "name": "stderr",
          "text": [
            "\r 16%|█▋        | 82/500 [01:47<09:12,  1.32s/it]"
          ]
        },
        {
          "output_type": "stream",
          "name": "stdout",
          "text": [
            "epoch 81:  training loss:  0.44030982\n"
          ]
        },
        {
          "output_type": "stream",
          "name": "stderr",
          "text": [
            "\r 17%|█▋        | 83/500 [01:48<08:56,  1.29s/it]"
          ]
        },
        {
          "output_type": "stream",
          "name": "stdout",
          "text": [
            "epoch 82:  training loss:  0.4484746\n"
          ]
        },
        {
          "output_type": "stream",
          "name": "stderr",
          "text": [
            "\r 17%|█▋        | 84/500 [01:49<08:40,  1.25s/it]"
          ]
        },
        {
          "output_type": "stream",
          "name": "stdout",
          "text": [
            "epoch 83:  training loss:  0.44308454\n"
          ]
        },
        {
          "output_type": "stream",
          "name": "stderr",
          "text": [
            "\r 17%|█▋        | 85/500 [01:50<08:33,  1.24s/it]"
          ]
        },
        {
          "output_type": "stream",
          "name": "stdout",
          "text": [
            "epoch 84:  training loss:  0.43385378\n"
          ]
        },
        {
          "output_type": "stream",
          "name": "stderr",
          "text": [
            "\r 17%|█▋        | 86/500 [01:52<08:26,  1.22s/it]"
          ]
        },
        {
          "output_type": "stream",
          "name": "stdout",
          "text": [
            "epoch 85:  training loss:  0.43556482\n"
          ]
        },
        {
          "output_type": "stream",
          "name": "stderr",
          "text": [
            "\r 17%|█▋        | 87/500 [01:53<08:21,  1.21s/it]"
          ]
        },
        {
          "output_type": "stream",
          "name": "stdout",
          "text": [
            "epoch 86:  training loss:  0.43510365\n"
          ]
        },
        {
          "output_type": "stream",
          "name": "stderr",
          "text": [
            "\r 18%|█▊        | 88/500 [01:54<08:18,  1.21s/it]"
          ]
        },
        {
          "output_type": "stream",
          "name": "stdout",
          "text": [
            "epoch 87:  training loss:  0.42719933\n"
          ]
        },
        {
          "output_type": "stream",
          "name": "stderr",
          "text": [
            "\r 18%|█▊        | 89/500 [01:55<08:13,  1.20s/it]"
          ]
        },
        {
          "output_type": "stream",
          "name": "stdout",
          "text": [
            "epoch 88:  training loss:  0.43300617\n"
          ]
        },
        {
          "output_type": "stream",
          "name": "stderr",
          "text": [
            "\r 18%|█▊        | 90/500 [01:56<08:11,  1.20s/it]"
          ]
        },
        {
          "output_type": "stream",
          "name": "stdout",
          "text": [
            "epoch 89:  training loss:  0.42814857\n",
            "epoch 90:  training loss:  0.43100908\n"
          ]
        },
        {
          "output_type": "stream",
          "name": "stderr",
          "text": [
            "\r 18%|█▊        | 91/500 [01:58<09:28,  1.39s/it]"
          ]
        },
        {
          "output_type": "stream",
          "name": "stdout",
          "text": [
            "epoch 90:  training loss:  0.43100908 NDCG_validation:  0.35552079986895285\n"
          ]
        },
        {
          "output_type": "stream",
          "name": "stderr",
          "text": [
            "\r 18%|█▊        | 92/500 [01:59<09:02,  1.33s/it]"
          ]
        },
        {
          "output_type": "stream",
          "name": "stdout",
          "text": [
            "epoch 91:  training loss:  0.40547565\n"
          ]
        },
        {
          "output_type": "stream",
          "name": "stderr",
          "text": [
            "\r 19%|█▊        | 93/500 [02:01<08:44,  1.29s/it]"
          ]
        },
        {
          "output_type": "stream",
          "name": "stdout",
          "text": [
            "epoch 92:  training loss:  0.4100458\n"
          ]
        },
        {
          "output_type": "stream",
          "name": "stderr",
          "text": [
            "\r 19%|█▉        | 94/500 [02:02<08:29,  1.25s/it]"
          ]
        },
        {
          "output_type": "stream",
          "name": "stdout",
          "text": [
            "epoch 93:  training loss:  0.4377611\n"
          ]
        },
        {
          "output_type": "stream",
          "name": "stderr",
          "text": [
            "\r 19%|█▉        | 95/500 [02:03<08:22,  1.24s/it]"
          ]
        },
        {
          "output_type": "stream",
          "name": "stdout",
          "text": [
            "epoch 94:  training loss:  0.4236714\n"
          ]
        },
        {
          "output_type": "stream",
          "name": "stderr",
          "text": [
            "\r 19%|█▉        | 96/500 [02:04<08:13,  1.22s/it]"
          ]
        },
        {
          "output_type": "stream",
          "name": "stdout",
          "text": [
            "epoch 95:  training loss:  0.42795545\n"
          ]
        },
        {
          "output_type": "stream",
          "name": "stderr",
          "text": [
            "\r 19%|█▉        | 97/500 [02:05<08:06,  1.21s/it]"
          ]
        },
        {
          "output_type": "stream",
          "name": "stdout",
          "text": [
            "epoch 96:  training loss:  0.4031872\n"
          ]
        },
        {
          "output_type": "stream",
          "name": "stderr",
          "text": [
            "\r 20%|█▉        | 98/500 [02:07<08:05,  1.21s/it]"
          ]
        },
        {
          "output_type": "stream",
          "name": "stdout",
          "text": [
            "epoch 97:  training loss:  0.39755547\n"
          ]
        },
        {
          "output_type": "stream",
          "name": "stderr",
          "text": [
            "\r 20%|█▉        | 99/500 [02:08<08:43,  1.31s/it]"
          ]
        },
        {
          "output_type": "stream",
          "name": "stdout",
          "text": [
            "epoch 98:  training loss:  0.41781303\n"
          ]
        },
        {
          "output_type": "stream",
          "name": "stderr",
          "text": [
            "\r 20%|██        | 100/500 [02:10<09:18,  1.40s/it]"
          ]
        },
        {
          "output_type": "stream",
          "name": "stdout",
          "text": [
            "epoch 99:  training loss:  0.38782853\n",
            "epoch 100:  training loss:  0.42461124\n"
          ]
        },
        {
          "output_type": "stream",
          "name": "stderr",
          "text": [
            "\r 20%|██        | 101/500 [02:14<14:34,  2.19s/it]"
          ]
        },
        {
          "output_type": "stream",
          "name": "stdout",
          "text": [
            "epoch 100:  training loss:  0.42461124 NDCG_validation:  0.343778344983144\n"
          ]
        },
        {
          "output_type": "stream",
          "name": "stderr",
          "text": [
            "\r 20%|██        | 102/500 [02:15<12:37,  1.90s/it]"
          ]
        },
        {
          "output_type": "stream",
          "name": "stdout",
          "text": [
            "epoch 101:  training loss:  0.38868475\n"
          ]
        },
        {
          "output_type": "stream",
          "name": "stderr",
          "text": [
            "\r 21%|██        | 103/500 [02:16<11:11,  1.69s/it]"
          ]
        },
        {
          "output_type": "stream",
          "name": "stdout",
          "text": [
            "epoch 102:  training loss:  0.39677218\n"
          ]
        },
        {
          "output_type": "stream",
          "name": "stderr",
          "text": [
            "\r 21%|██        | 104/500 [02:17<10:11,  1.54s/it]"
          ]
        },
        {
          "output_type": "stream",
          "name": "stdout",
          "text": [
            "epoch 103:  training loss:  0.40775612\n"
          ]
        },
        {
          "output_type": "stream",
          "name": "stderr",
          "text": [
            "\r 21%|██        | 105/500 [02:19<09:29,  1.44s/it]"
          ]
        },
        {
          "output_type": "stream",
          "name": "stdout",
          "text": [
            "epoch 104:  training loss:  0.40071648\n"
          ]
        },
        {
          "output_type": "stream",
          "name": "stderr",
          "text": [
            "\r 21%|██        | 106/500 [02:20<09:00,  1.37s/it]"
          ]
        },
        {
          "output_type": "stream",
          "name": "stdout",
          "text": [
            "epoch 105:  training loss:  0.39959484\n"
          ]
        },
        {
          "output_type": "stream",
          "name": "stderr",
          "text": [
            "\r 21%|██▏       | 107/500 [02:21<08:37,  1.32s/it]"
          ]
        },
        {
          "output_type": "stream",
          "name": "stdout",
          "text": [
            "epoch 106:  training loss:  0.3899298\n"
          ]
        },
        {
          "output_type": "stream",
          "name": "stderr",
          "text": [
            "\r 22%|██▏       | 108/500 [02:22<08:21,  1.28s/it]"
          ]
        },
        {
          "output_type": "stream",
          "name": "stdout",
          "text": [
            "epoch 107:  training loss:  0.3862075\n"
          ]
        },
        {
          "output_type": "stream",
          "name": "stderr",
          "text": [
            "\r 22%|██▏       | 109/500 [02:23<08:08,  1.25s/it]"
          ]
        },
        {
          "output_type": "stream",
          "name": "stdout",
          "text": [
            "epoch 108:  training loss:  0.37544832\n"
          ]
        },
        {
          "output_type": "stream",
          "name": "stderr",
          "text": [
            "\r 22%|██▏       | 110/500 [02:25<07:59,  1.23s/it]"
          ]
        },
        {
          "output_type": "stream",
          "name": "stdout",
          "text": [
            "epoch 109:  training loss:  0.3772425\n",
            "epoch 110:  training loss:  0.3728892\n"
          ]
        },
        {
          "output_type": "stream",
          "name": "stderr",
          "text": [
            "\r 22%|██▏       | 111/500 [02:26<09:08,  1.41s/it]"
          ]
        },
        {
          "output_type": "stream",
          "name": "stdout",
          "text": [
            "epoch 110:  training loss:  0.3728892 NDCG_validation:  0.3507931774009303\n"
          ]
        },
        {
          "output_type": "stream",
          "name": "stderr",
          "text": [
            "\r 22%|██▏       | 112/500 [02:28<08:38,  1.34s/it]"
          ]
        },
        {
          "output_type": "stream",
          "name": "stdout",
          "text": [
            "epoch 111:  training loss:  0.38435194\n"
          ]
        },
        {
          "output_type": "stream",
          "name": "stderr",
          "text": [
            "\r 23%|██▎       | 113/500 [02:29<08:19,  1.29s/it]"
          ]
        },
        {
          "output_type": "stream",
          "name": "stdout",
          "text": [
            "epoch 112:  training loss:  0.387468\n"
          ]
        },
        {
          "output_type": "stream",
          "name": "stderr",
          "text": [
            "\r 23%|██▎       | 114/500 [02:30<08:06,  1.26s/it]"
          ]
        },
        {
          "output_type": "stream",
          "name": "stdout",
          "text": [
            "epoch 113:  training loss:  0.38151357\n"
          ]
        },
        {
          "output_type": "stream",
          "name": "stderr",
          "text": [
            "\r 23%|██▎       | 115/500 [02:31<07:56,  1.24s/it]"
          ]
        },
        {
          "output_type": "stream",
          "name": "stdout",
          "text": [
            "epoch 114:  training loss:  0.38649577\n"
          ]
        },
        {
          "output_type": "stream",
          "name": "stderr",
          "text": [
            "\r 23%|██▎       | 116/500 [02:32<07:49,  1.22s/it]"
          ]
        },
        {
          "output_type": "stream",
          "name": "stdout",
          "text": [
            "epoch 115:  training loss:  0.37952352\n"
          ]
        },
        {
          "output_type": "stream",
          "name": "stderr",
          "text": [
            "\r 23%|██▎       | 117/500 [02:33<07:43,  1.21s/it]"
          ]
        },
        {
          "output_type": "stream",
          "name": "stdout",
          "text": [
            "epoch 116:  training loss:  0.36456248\n"
          ]
        },
        {
          "output_type": "stream",
          "name": "stderr",
          "text": [
            "\r 24%|██▎       | 118/500 [02:35<07:38,  1.20s/it]"
          ]
        },
        {
          "output_type": "stream",
          "name": "stdout",
          "text": [
            "epoch 117:  training loss:  0.36713994\n"
          ]
        },
        {
          "output_type": "stream",
          "name": "stderr",
          "text": [
            "\r 24%|██▍       | 119/500 [02:36<07:38,  1.20s/it]"
          ]
        },
        {
          "output_type": "stream",
          "name": "stdout",
          "text": [
            "epoch 118:  training loss:  0.35771644\n"
          ]
        },
        {
          "output_type": "stream",
          "name": "stderr",
          "text": [
            "\r 24%|██▍       | 120/500 [02:37<07:36,  1.20s/it]"
          ]
        },
        {
          "output_type": "stream",
          "name": "stdout",
          "text": [
            "epoch 119:  training loss:  0.38231993\n",
            "epoch 120:  training loss:  0.36871284\n"
          ]
        },
        {
          "output_type": "stream",
          "name": "stderr",
          "text": [
            "\r 24%|██▍       | 121/500 [02:39<08:39,  1.37s/it]"
          ]
        },
        {
          "output_type": "stream",
          "name": "stdout",
          "text": [
            "epoch 120:  training loss:  0.36871284 NDCG_validation:  0.35288452024283457\n"
          ]
        },
        {
          "output_type": "stream",
          "name": "stderr",
          "text": [
            "\r 24%|██▍       | 122/500 [02:40<08:17,  1.32s/it]"
          ]
        },
        {
          "output_type": "stream",
          "name": "stdout",
          "text": [
            "epoch 121:  training loss:  0.3579927\n"
          ]
        },
        {
          "output_type": "stream",
          "name": "stderr",
          "text": [
            "\r 25%|██▍       | 123/500 [02:41<08:03,  1.28s/it]"
          ]
        },
        {
          "output_type": "stream",
          "name": "stdout",
          "text": [
            "epoch 122:  training loss:  0.34869722\n"
          ]
        },
        {
          "output_type": "stream",
          "name": "stderr",
          "text": [
            "\r 25%|██▍       | 124/500 [02:42<07:51,  1.25s/it]"
          ]
        },
        {
          "output_type": "stream",
          "name": "stdout",
          "text": [
            "epoch 123:  training loss:  0.35334995\n"
          ]
        },
        {
          "output_type": "stream",
          "name": "stderr",
          "text": [
            "\r 25%|██▌       | 125/500 [02:44<07:41,  1.23s/it]"
          ]
        },
        {
          "output_type": "stream",
          "name": "stdout",
          "text": [
            "epoch 124:  training loss:  0.36586794\n"
          ]
        },
        {
          "output_type": "stream",
          "name": "stderr",
          "text": [
            "\r 25%|██▌       | 126/500 [02:45<07:33,  1.21s/it]"
          ]
        },
        {
          "output_type": "stream",
          "name": "stdout",
          "text": [
            "epoch 125:  training loss:  0.34037304\n"
          ]
        },
        {
          "output_type": "stream",
          "name": "stderr",
          "text": [
            "\r 25%|██▌       | 127/500 [02:46<07:30,  1.21s/it]"
          ]
        },
        {
          "output_type": "stream",
          "name": "stdout",
          "text": [
            "epoch 126:  training loss:  0.36659592\n"
          ]
        },
        {
          "output_type": "stream",
          "name": "stderr",
          "text": [
            "\r 26%|██▌       | 128/500 [02:47<07:26,  1.20s/it]"
          ]
        },
        {
          "output_type": "stream",
          "name": "stdout",
          "text": [
            "epoch 127:  training loss:  0.3461218\n"
          ]
        },
        {
          "output_type": "stream",
          "name": "stderr",
          "text": [
            "\r 26%|██▌       | 129/500 [02:48<07:23,  1.19s/it]"
          ]
        },
        {
          "output_type": "stream",
          "name": "stdout",
          "text": [
            "epoch 128:  training loss:  0.35407975\n"
          ]
        },
        {
          "output_type": "stream",
          "name": "stderr",
          "text": [
            "\r 26%|██▌       | 130/500 [02:49<07:20,  1.19s/it]"
          ]
        },
        {
          "output_type": "stream",
          "name": "stdout",
          "text": [
            "epoch 129:  training loss:  0.3263136\n",
            "epoch 130:  training loss:  0.33547398\n"
          ]
        },
        {
          "output_type": "stream",
          "name": "stderr",
          "text": [
            "\r 26%|██▌       | 131/500 [02:51<08:31,  1.39s/it]"
          ]
        },
        {
          "output_type": "stream",
          "name": "stdout",
          "text": [
            "epoch 130:  training loss:  0.33547398 NDCG_validation:  0.3512357343155869\n"
          ]
        },
        {
          "output_type": "stream",
          "name": "stderr",
          "text": [
            "\r 26%|██▋       | 132/500 [02:52<08:05,  1.32s/it]"
          ]
        },
        {
          "output_type": "stream",
          "name": "stdout",
          "text": [
            "epoch 131:  training loss:  0.36057574\n"
          ]
        },
        {
          "output_type": "stream",
          "name": "stderr",
          "text": [
            "\r 27%|██▋       | 133/500 [02:54<07:45,  1.27s/it]"
          ]
        },
        {
          "output_type": "stream",
          "name": "stdout",
          "text": [
            "epoch 132:  training loss:  0.3538337\n"
          ]
        },
        {
          "output_type": "stream",
          "name": "stderr",
          "text": [
            "\r 27%|██▋       | 134/500 [02:55<07:34,  1.24s/it]"
          ]
        },
        {
          "output_type": "stream",
          "name": "stdout",
          "text": [
            "epoch 133:  training loss:  0.3423011\n"
          ]
        },
        {
          "output_type": "stream",
          "name": "stderr",
          "text": [
            "\r 27%|██▋       | 135/500 [02:56<07:28,  1.23s/it]"
          ]
        },
        {
          "output_type": "stream",
          "name": "stdout",
          "text": [
            "epoch 134:  training loss:  0.3456096\n"
          ]
        },
        {
          "output_type": "stream",
          "name": "stderr",
          "text": [
            "\r 27%|██▋       | 136/500 [02:57<07:21,  1.21s/it]"
          ]
        },
        {
          "output_type": "stream",
          "name": "stdout",
          "text": [
            "epoch 135:  training loss:  0.3459362\n"
          ]
        },
        {
          "output_type": "stream",
          "name": "stderr",
          "text": [
            "\r 27%|██▋       | 137/500 [02:58<07:15,  1.20s/it]"
          ]
        },
        {
          "output_type": "stream",
          "name": "stdout",
          "text": [
            "epoch 136:  training loss:  0.3363134\n"
          ]
        },
        {
          "output_type": "stream",
          "name": "stderr",
          "text": [
            "\r 28%|██▊       | 138/500 [03:00<07:13,  1.20s/it]"
          ]
        },
        {
          "output_type": "stream",
          "name": "stdout",
          "text": [
            "epoch 137:  training loss:  0.32963336\n"
          ]
        },
        {
          "output_type": "stream",
          "name": "stderr",
          "text": [
            "\r 28%|██▊       | 139/500 [03:01<07:10,  1.19s/it]"
          ]
        },
        {
          "output_type": "stream",
          "name": "stdout",
          "text": [
            "epoch 138:  training loss:  0.33369413\n"
          ]
        },
        {
          "output_type": "stream",
          "name": "stderr",
          "text": [
            "\r 28%|██▊       | 140/500 [03:02<07:06,  1.18s/it]"
          ]
        },
        {
          "output_type": "stream",
          "name": "stdout",
          "text": [
            "epoch 139:  training loss:  0.31650656\n",
            "epoch 140:  training loss:  0.3514752\n"
          ]
        },
        {
          "output_type": "stream",
          "name": "stderr",
          "text": [
            "\r 28%|██▊       | 141/500 [03:04<08:11,  1.37s/it]"
          ]
        },
        {
          "output_type": "stream",
          "name": "stdout",
          "text": [
            "epoch 140:  training loss:  0.3514752 NDCG_validation:  0.348441073232545\n"
          ]
        },
        {
          "output_type": "stream",
          "name": "stderr",
          "text": [
            "\r 28%|██▊       | 142/500 [03:05<07:49,  1.31s/it]"
          ]
        },
        {
          "output_type": "stream",
          "name": "stdout",
          "text": [
            "epoch 141:  training loss:  0.34483573\n"
          ]
        },
        {
          "output_type": "stream",
          "name": "stderr",
          "text": [
            "\r 29%|██▊       | 143/500 [03:06<07:36,  1.28s/it]"
          ]
        },
        {
          "output_type": "stream",
          "name": "stdout",
          "text": [
            "epoch 142:  training loss:  0.3304312\n"
          ]
        },
        {
          "output_type": "stream",
          "name": "stderr",
          "text": [
            "\r 29%|██▉       | 144/500 [03:07<07:30,  1.26s/it]"
          ]
        },
        {
          "output_type": "stream",
          "name": "stdout",
          "text": [
            "epoch 143:  training loss:  0.30837694\n"
          ]
        },
        {
          "output_type": "stream",
          "name": "stderr",
          "text": [
            "\r 29%|██▉       | 145/500 [03:08<07:20,  1.24s/it]"
          ]
        },
        {
          "output_type": "stream",
          "name": "stdout",
          "text": [
            "epoch 144:  training loss:  0.33332682\n"
          ]
        },
        {
          "output_type": "stream",
          "name": "stderr",
          "text": [
            "\r 29%|██▉       | 146/500 [03:10<07:09,  1.21s/it]"
          ]
        },
        {
          "output_type": "stream",
          "name": "stdout",
          "text": [
            "epoch 145:  training loss:  0.31161416\n"
          ]
        },
        {
          "output_type": "stream",
          "name": "stderr",
          "text": [
            "\r 29%|██▉       | 147/500 [03:11<07:05,  1.21s/it]"
          ]
        },
        {
          "output_type": "stream",
          "name": "stdout",
          "text": [
            "epoch 146:  training loss:  0.32289684\n"
          ]
        },
        {
          "output_type": "stream",
          "name": "stderr",
          "text": [
            "\r 30%|██▉       | 148/500 [03:12<06:58,  1.19s/it]"
          ]
        },
        {
          "output_type": "stream",
          "name": "stdout",
          "text": [
            "epoch 147:  training loss:  0.34421206\n"
          ]
        },
        {
          "output_type": "stream",
          "name": "stderr",
          "text": [
            "\r 30%|██▉       | 149/500 [03:13<06:55,  1.18s/it]"
          ]
        },
        {
          "output_type": "stream",
          "name": "stdout",
          "text": [
            "epoch 148:  training loss:  0.3067117\n"
          ]
        },
        {
          "output_type": "stream",
          "name": "stderr",
          "text": [
            "\r 30%|███       | 150/500 [03:14<06:54,  1.18s/it]"
          ]
        },
        {
          "output_type": "stream",
          "name": "stdout",
          "text": [
            "epoch 149:  training loss:  0.31811213\n",
            "epoch 150:  training loss:  0.334439\n"
          ]
        },
        {
          "output_type": "stream",
          "name": "stderr",
          "text": [
            "\r 30%|███       | 151/500 [03:16<07:59,  1.37s/it]"
          ]
        },
        {
          "output_type": "stream",
          "name": "stdout",
          "text": [
            "epoch 150:  training loss:  0.334439 NDCG_validation:  0.36729510535910853\n"
          ]
        },
        {
          "output_type": "stream",
          "name": "stderr",
          "text": [
            "\r 30%|███       | 152/500 [03:17<07:39,  1.32s/it]"
          ]
        },
        {
          "output_type": "stream",
          "name": "stdout",
          "text": [
            "epoch 151:  training loss:  0.31770387\n"
          ]
        },
        {
          "output_type": "stream",
          "name": "stderr",
          "text": [
            "\r 31%|███       | 153/500 [03:19<07:23,  1.28s/it]"
          ]
        },
        {
          "output_type": "stream",
          "name": "stdout",
          "text": [
            "epoch 152:  training loss:  0.30203435\n"
          ]
        },
        {
          "output_type": "stream",
          "name": "stderr",
          "text": [
            "\r 31%|███       | 154/500 [03:20<07:11,  1.25s/it]"
          ]
        },
        {
          "output_type": "stream",
          "name": "stdout",
          "text": [
            "epoch 153:  training loss:  0.32491723\n"
          ]
        },
        {
          "output_type": "stream",
          "name": "stderr",
          "text": [
            "\r 31%|███       | 155/500 [03:21<07:04,  1.23s/it]"
          ]
        },
        {
          "output_type": "stream",
          "name": "stdout",
          "text": [
            "epoch 154:  training loss:  0.3022843\n"
          ]
        },
        {
          "output_type": "stream",
          "name": "stderr",
          "text": [
            "\r 31%|███       | 156/500 [03:22<06:55,  1.21s/it]"
          ]
        },
        {
          "output_type": "stream",
          "name": "stdout",
          "text": [
            "epoch 155:  training loss:  0.31086838\n"
          ]
        },
        {
          "output_type": "stream",
          "name": "stderr",
          "text": [
            "\r 31%|███▏      | 157/500 [03:23<06:51,  1.20s/it]"
          ]
        },
        {
          "output_type": "stream",
          "name": "stdout",
          "text": [
            "epoch 156:  training loss:  0.29690593\n"
          ]
        },
        {
          "output_type": "stream",
          "name": "stderr",
          "text": [
            "\r 32%|███▏      | 158/500 [03:24<06:49,  1.20s/it]"
          ]
        },
        {
          "output_type": "stream",
          "name": "stdout",
          "text": [
            "epoch 157:  training loss:  0.3341981\n"
          ]
        },
        {
          "output_type": "stream",
          "name": "stderr",
          "text": [
            "\r 32%|███▏      | 159/500 [03:26<06:48,  1.20s/it]"
          ]
        },
        {
          "output_type": "stream",
          "name": "stdout",
          "text": [
            "epoch 158:  training loss:  0.321399\n"
          ]
        },
        {
          "output_type": "stream",
          "name": "stderr",
          "text": [
            "\r 32%|███▏      | 160/500 [03:27<06:48,  1.20s/it]"
          ]
        },
        {
          "output_type": "stream",
          "name": "stdout",
          "text": [
            "epoch 159:  training loss:  0.3127515\n",
            "epoch 160:  training loss:  0.29314205\n"
          ]
        },
        {
          "output_type": "stream",
          "name": "stderr",
          "text": [
            "\r 32%|███▏      | 161/500 [03:29<07:52,  1.39s/it]"
          ]
        },
        {
          "output_type": "stream",
          "name": "stdout",
          "text": [
            "epoch 160:  training loss:  0.29314205 NDCG_validation:  0.36562671447863204\n"
          ]
        },
        {
          "output_type": "stream",
          "name": "stderr",
          "text": [
            "\r 32%|███▏      | 162/500 [03:30<07:30,  1.33s/it]"
          ]
        },
        {
          "output_type": "stream",
          "name": "stdout",
          "text": [
            "epoch 161:  training loss:  0.2994375\n"
          ]
        },
        {
          "output_type": "stream",
          "name": "stderr",
          "text": [
            "\r 33%|███▎      | 163/500 [03:31<07:14,  1.29s/it]"
          ]
        },
        {
          "output_type": "stream",
          "name": "stdout",
          "text": [
            "epoch 162:  training loss:  0.31612712\n"
          ]
        },
        {
          "output_type": "stream",
          "name": "stderr",
          "text": [
            "\r 33%|███▎      | 164/500 [03:32<06:59,  1.25s/it]"
          ]
        },
        {
          "output_type": "stream",
          "name": "stdout",
          "text": [
            "epoch 163:  training loss:  0.26915884\n"
          ]
        },
        {
          "output_type": "stream",
          "name": "stderr",
          "text": [
            "\r 33%|███▎      | 165/500 [03:33<06:51,  1.23s/it]"
          ]
        },
        {
          "output_type": "stream",
          "name": "stdout",
          "text": [
            "epoch 164:  training loss:  0.2933416\n"
          ]
        },
        {
          "output_type": "stream",
          "name": "stderr",
          "text": [
            "\r 33%|███▎      | 166/500 [03:35<06:45,  1.22s/it]"
          ]
        },
        {
          "output_type": "stream",
          "name": "stdout",
          "text": [
            "epoch 165:  training loss:  0.2723604\n"
          ]
        },
        {
          "output_type": "stream",
          "name": "stderr",
          "text": [
            "\r 33%|███▎      | 167/500 [03:36<06:40,  1.20s/it]"
          ]
        },
        {
          "output_type": "stream",
          "name": "stdout",
          "text": [
            "epoch 166:  training loss:  0.28659067\n"
          ]
        },
        {
          "output_type": "stream",
          "name": "stderr",
          "text": [
            "\r 34%|███▎      | 168/500 [03:37<06:38,  1.20s/it]"
          ]
        },
        {
          "output_type": "stream",
          "name": "stdout",
          "text": [
            "epoch 167:  training loss:  0.2909095\n"
          ]
        },
        {
          "output_type": "stream",
          "name": "stderr",
          "text": [
            "\r 34%|███▍      | 169/500 [03:38<06:36,  1.20s/it]"
          ]
        },
        {
          "output_type": "stream",
          "name": "stdout",
          "text": [
            "epoch 168:  training loss:  0.2808023\n"
          ]
        },
        {
          "output_type": "stream",
          "name": "stderr",
          "text": [
            "\r 34%|███▍      | 170/500 [03:39<06:32,  1.19s/it]"
          ]
        },
        {
          "output_type": "stream",
          "name": "stdout",
          "text": [
            "epoch 169:  training loss:  0.27159104\n",
            "epoch 170:  training loss:  0.2652002\n"
          ]
        },
        {
          "output_type": "stream",
          "name": "stderr",
          "text": [
            "\r 34%|███▍      | 171/500 [03:41<07:34,  1.38s/it]"
          ]
        },
        {
          "output_type": "stream",
          "name": "stdout",
          "text": [
            "epoch 170:  training loss:  0.2652002 NDCG_validation:  0.37704351098535527\n"
          ]
        },
        {
          "output_type": "stream",
          "name": "stderr",
          "text": [
            "\r 34%|███▍      | 172/500 [03:42<07:12,  1.32s/it]"
          ]
        },
        {
          "output_type": "stream",
          "name": "stdout",
          "text": [
            "epoch 171:  training loss:  0.28849947\n"
          ]
        },
        {
          "output_type": "stream",
          "name": "stderr",
          "text": [
            "\r 35%|███▍      | 173/500 [03:43<06:57,  1.28s/it]"
          ]
        },
        {
          "output_type": "stream",
          "name": "stdout",
          "text": [
            "epoch 172:  training loss:  0.2568171\n"
          ]
        },
        {
          "output_type": "stream",
          "name": "stderr",
          "text": [
            "\r 35%|███▍      | 174/500 [03:45<06:47,  1.25s/it]"
          ]
        },
        {
          "output_type": "stream",
          "name": "stdout",
          "text": [
            "epoch 173:  training loss:  0.27934474\n"
          ]
        },
        {
          "output_type": "stream",
          "name": "stderr",
          "text": [
            "\r 35%|███▌      | 175/500 [03:46<06:39,  1.23s/it]"
          ]
        },
        {
          "output_type": "stream",
          "name": "stdout",
          "text": [
            "epoch 174:  training loss:  0.28345585\n"
          ]
        },
        {
          "output_type": "stream",
          "name": "stderr",
          "text": [
            "\r 35%|███▌      | 176/500 [03:47<06:36,  1.22s/it]"
          ]
        },
        {
          "output_type": "stream",
          "name": "stdout",
          "text": [
            "epoch 175:  training loss:  0.2697081\n"
          ]
        },
        {
          "output_type": "stream",
          "name": "stderr",
          "text": [
            "\r 35%|███▌      | 177/500 [03:48<06:32,  1.22s/it]"
          ]
        },
        {
          "output_type": "stream",
          "name": "stdout",
          "text": [
            "epoch 176:  training loss:  0.29002985\n"
          ]
        },
        {
          "output_type": "stream",
          "name": "stderr",
          "text": [
            "\r 36%|███▌      | 178/500 [03:49<06:29,  1.21s/it]"
          ]
        },
        {
          "output_type": "stream",
          "name": "stdout",
          "text": [
            "epoch 177:  training loss:  0.28138116\n"
          ]
        },
        {
          "output_type": "stream",
          "name": "stderr",
          "text": [
            "\r 36%|███▌      | 179/500 [03:51<06:28,  1.21s/it]"
          ]
        },
        {
          "output_type": "stream",
          "name": "stdout",
          "text": [
            "epoch 178:  training loss:  0.27443302\n"
          ]
        },
        {
          "output_type": "stream",
          "name": "stderr",
          "text": [
            "\r 36%|███▌      | 180/500 [03:52<06:25,  1.20s/it]"
          ]
        },
        {
          "output_type": "stream",
          "name": "stdout",
          "text": [
            "epoch 179:  training loss:  0.26190415\n",
            "epoch 180:  training loss:  0.27763802\n"
          ]
        },
        {
          "output_type": "stream",
          "name": "stderr",
          "text": [
            "\r 36%|███▌      | 181/500 [03:54<07:22,  1.39s/it]"
          ]
        },
        {
          "output_type": "stream",
          "name": "stdout",
          "text": [
            "epoch 180:  training loss:  0.27763802 NDCG_validation:  0.37809828724680367\n"
          ]
        },
        {
          "output_type": "stream",
          "name": "stderr",
          "text": [
            "\r 36%|███▋      | 182/500 [03:55<07:02,  1.33s/it]"
          ]
        },
        {
          "output_type": "stream",
          "name": "stdout",
          "text": [
            "epoch 181:  training loss:  0.25193468\n"
          ]
        },
        {
          "output_type": "stream",
          "name": "stderr",
          "text": [
            "\r 37%|███▋      | 183/500 [03:56<06:49,  1.29s/it]"
          ]
        },
        {
          "output_type": "stream",
          "name": "stdout",
          "text": [
            "epoch 182:  training loss:  0.24066618\n"
          ]
        },
        {
          "output_type": "stream",
          "name": "stderr",
          "text": [
            "\r 37%|███▋      | 184/500 [03:57<06:36,  1.25s/it]"
          ]
        },
        {
          "output_type": "stream",
          "name": "stdout",
          "text": [
            "epoch 183:  training loss:  0.23763089\n"
          ]
        },
        {
          "output_type": "stream",
          "name": "stderr",
          "text": [
            "\r 37%|███▋      | 185/500 [03:58<06:27,  1.23s/it]"
          ]
        },
        {
          "output_type": "stream",
          "name": "stdout",
          "text": [
            "epoch 184:  training loss:  0.25187275\n"
          ]
        },
        {
          "output_type": "stream",
          "name": "stderr",
          "text": [
            "\r 37%|███▋      | 186/500 [04:00<06:22,  1.22s/it]"
          ]
        },
        {
          "output_type": "stream",
          "name": "stdout",
          "text": [
            "epoch 185:  training loss:  0.28408602\n"
          ]
        },
        {
          "output_type": "stream",
          "name": "stderr",
          "text": [
            "\r 37%|███▋      | 187/500 [04:01<06:16,  1.20s/it]"
          ]
        },
        {
          "output_type": "stream",
          "name": "stdout",
          "text": [
            "epoch 186:  training loss:  0.2325851\n"
          ]
        },
        {
          "output_type": "stream",
          "name": "stderr",
          "text": [
            "\r 38%|███▊      | 188/500 [04:02<06:12,  1.20s/it]"
          ]
        },
        {
          "output_type": "stream",
          "name": "stdout",
          "text": [
            "epoch 187:  training loss:  0.27789548\n"
          ]
        },
        {
          "output_type": "stream",
          "name": "stderr",
          "text": [
            "\r 38%|███▊      | 189/500 [04:03<06:10,  1.19s/it]"
          ]
        },
        {
          "output_type": "stream",
          "name": "stdout",
          "text": [
            "epoch 188:  training loss:  0.21841978\n"
          ]
        },
        {
          "output_type": "stream",
          "name": "stderr",
          "text": [
            "\r 38%|███▊      | 190/500 [04:04<06:07,  1.19s/it]"
          ]
        },
        {
          "output_type": "stream",
          "name": "stdout",
          "text": [
            "epoch 189:  training loss:  0.30168048\n",
            "epoch 190:  training loss:  0.22211994\n"
          ]
        },
        {
          "output_type": "stream",
          "name": "stderr",
          "text": [
            "\r 38%|███▊      | 191/500 [04:06<07:04,  1.37s/it]"
          ]
        },
        {
          "output_type": "stream",
          "name": "stdout",
          "text": [
            "epoch 190:  training loss:  0.22211994 NDCG_validation:  0.35950436086023535\n"
          ]
        },
        {
          "output_type": "stream",
          "name": "stderr",
          "text": [
            "\r 38%|███▊      | 192/500 [04:07<06:45,  1.32s/it]"
          ]
        },
        {
          "output_type": "stream",
          "name": "stdout",
          "text": [
            "epoch 191:  training loss:  0.22975822\n"
          ]
        },
        {
          "output_type": "stream",
          "name": "stderr",
          "text": [
            "\r 39%|███▊      | 193/500 [04:08<06:33,  1.28s/it]"
          ]
        },
        {
          "output_type": "stream",
          "name": "stdout",
          "text": [
            "epoch 192:  training loss:  0.27412632\n"
          ]
        },
        {
          "output_type": "stream",
          "name": "stderr",
          "text": [
            "\r 39%|███▉      | 194/500 [04:10<06:22,  1.25s/it]"
          ]
        },
        {
          "output_type": "stream",
          "name": "stdout",
          "text": [
            "epoch 193:  training loss:  0.26013684\n"
          ]
        },
        {
          "output_type": "stream",
          "name": "stderr",
          "text": [
            "\r 39%|███▉      | 195/500 [04:11<06:17,  1.24s/it]"
          ]
        },
        {
          "output_type": "stream",
          "name": "stdout",
          "text": [
            "epoch 194:  training loss:  0.25736687\n"
          ]
        },
        {
          "output_type": "stream",
          "name": "stderr",
          "text": [
            "\r 39%|███▉      | 196/500 [04:12<06:10,  1.22s/it]"
          ]
        },
        {
          "output_type": "stream",
          "name": "stdout",
          "text": [
            "epoch 195:  training loss:  0.22588696\n"
          ]
        },
        {
          "output_type": "stream",
          "name": "stderr",
          "text": [
            "\r 39%|███▉      | 197/500 [04:14<06:43,  1.33s/it]"
          ]
        },
        {
          "output_type": "stream",
          "name": "stdout",
          "text": [
            "epoch 196:  training loss:  0.2170794\n"
          ]
        },
        {
          "output_type": "stream",
          "name": "stderr",
          "text": [
            "\r 40%|███▉      | 198/500 [04:16<07:44,  1.54s/it]"
          ]
        },
        {
          "output_type": "stream",
          "name": "stdout",
          "text": [
            "epoch 197:  training loss:  0.2493874\n"
          ]
        },
        {
          "output_type": "stream",
          "name": "stderr",
          "text": [
            "\r 40%|███▉      | 199/500 [04:19<10:13,  2.04s/it]"
          ]
        },
        {
          "output_type": "stream",
          "name": "stdout",
          "text": [
            "epoch 198:  training loss:  0.26357147\n"
          ]
        },
        {
          "output_type": "stream",
          "name": "stderr",
          "text": [
            "\r 40%|████      | 200/500 [04:21<10:22,  2.07s/it]"
          ]
        },
        {
          "output_type": "stream",
          "name": "stdout",
          "text": [
            "epoch 199:  training loss:  0.25748518\n",
            "epoch 200:  training loss:  0.2100791\n"
          ]
        },
        {
          "output_type": "stream",
          "name": "stderr",
          "text": [
            "\r 40%|████      | 201/500 [04:23<09:56,  1.99s/it]"
          ]
        },
        {
          "output_type": "stream",
          "name": "stdout",
          "text": [
            "epoch 200:  training loss:  0.2100791 NDCG_validation:  0.38306414032068054\n"
          ]
        },
        {
          "output_type": "stream",
          "name": "stderr",
          "text": [
            "\r 40%|████      | 202/500 [04:24<08:41,  1.75s/it]"
          ]
        },
        {
          "output_type": "stream",
          "name": "stdout",
          "text": [
            "epoch 201:  training loss:  0.21800035\n"
          ]
        },
        {
          "output_type": "stream",
          "name": "stderr",
          "text": [
            "\r 41%|████      | 203/500 [04:25<07:48,  1.58s/it]"
          ]
        },
        {
          "output_type": "stream",
          "name": "stdout",
          "text": [
            "epoch 202:  training loss:  0.22464783\n"
          ]
        },
        {
          "output_type": "stream",
          "name": "stderr",
          "text": [
            "\r 41%|████      | 204/500 [04:26<07:14,  1.47s/it]"
          ]
        },
        {
          "output_type": "stream",
          "name": "stdout",
          "text": [
            "epoch 203:  training loss:  0.2427689\n"
          ]
        },
        {
          "output_type": "stream",
          "name": "stderr",
          "text": [
            "\r 41%|████      | 205/500 [04:28<06:46,  1.38s/it]"
          ]
        },
        {
          "output_type": "stream",
          "name": "stdout",
          "text": [
            "epoch 204:  training loss:  0.21115312\n"
          ]
        },
        {
          "output_type": "stream",
          "name": "stderr",
          "text": [
            "\r 41%|████      | 206/500 [04:29<06:28,  1.32s/it]"
          ]
        },
        {
          "output_type": "stream",
          "name": "stdout",
          "text": [
            "epoch 205:  training loss:  0.21167673\n"
          ]
        },
        {
          "output_type": "stream",
          "name": "stderr",
          "text": [
            "\r 41%|████▏     | 207/500 [04:30<06:12,  1.27s/it]"
          ]
        },
        {
          "output_type": "stream",
          "name": "stdout",
          "text": [
            "epoch 206:  training loss:  0.20180495\n"
          ]
        },
        {
          "output_type": "stream",
          "name": "stderr",
          "text": [
            "\r 42%|████▏     | 208/500 [04:31<06:02,  1.24s/it]"
          ]
        },
        {
          "output_type": "stream",
          "name": "stdout",
          "text": [
            "epoch 207:  training loss:  0.2194232\n"
          ]
        },
        {
          "output_type": "stream",
          "name": "stderr",
          "text": [
            "\r 42%|████▏     | 209/500 [04:32<05:57,  1.23s/it]"
          ]
        },
        {
          "output_type": "stream",
          "name": "stdout",
          "text": [
            "epoch 208:  training loss:  0.21992275\n"
          ]
        },
        {
          "output_type": "stream",
          "name": "stderr",
          "text": [
            "\r 42%|████▏     | 210/500 [04:33<05:52,  1.22s/it]"
          ]
        },
        {
          "output_type": "stream",
          "name": "stdout",
          "text": [
            "epoch 209:  training loss:  0.228831\n",
            "epoch 210:  training loss:  0.2506172\n"
          ]
        },
        {
          "output_type": "stream",
          "name": "stderr",
          "text": [
            "\r 42%|████▏     | 211/500 [04:35<06:43,  1.40s/it]"
          ]
        },
        {
          "output_type": "stream",
          "name": "stdout",
          "text": [
            "epoch 210:  training loss:  0.2506172 NDCG_validation:  0.3812313982854401\n"
          ]
        },
        {
          "output_type": "stream",
          "name": "stderr",
          "text": [
            "\r 42%|████▏     | 212/500 [04:36<06:25,  1.34s/it]"
          ]
        },
        {
          "output_type": "stream",
          "name": "stdout",
          "text": [
            "epoch 211:  training loss:  0.2275827\n"
          ]
        },
        {
          "output_type": "stream",
          "name": "stderr",
          "text": [
            "\r 43%|████▎     | 213/500 [04:38<06:10,  1.29s/it]"
          ]
        },
        {
          "output_type": "stream",
          "name": "stdout",
          "text": [
            "epoch 212:  training loss:  0.23342487\n"
          ]
        },
        {
          "output_type": "stream",
          "name": "stderr",
          "text": [
            "\r 43%|████▎     | 214/500 [04:39<06:01,  1.26s/it]"
          ]
        },
        {
          "output_type": "stream",
          "name": "stdout",
          "text": [
            "epoch 213:  training loss:  0.2210222\n"
          ]
        },
        {
          "output_type": "stream",
          "name": "stderr",
          "text": [
            "\r 43%|████▎     | 215/500 [04:40<05:53,  1.24s/it]"
          ]
        },
        {
          "output_type": "stream",
          "name": "stdout",
          "text": [
            "epoch 214:  training loss:  0.25463277\n"
          ]
        },
        {
          "output_type": "stream",
          "name": "stderr",
          "text": [
            "\r 43%|████▎     | 216/500 [04:41<05:48,  1.23s/it]"
          ]
        },
        {
          "output_type": "stream",
          "name": "stdout",
          "text": [
            "epoch 215:  training loss:  0.21444912\n"
          ]
        },
        {
          "output_type": "stream",
          "name": "stderr",
          "text": [
            "\r 43%|████▎     | 217/500 [04:42<05:42,  1.21s/it]"
          ]
        },
        {
          "output_type": "stream",
          "name": "stdout",
          "text": [
            "epoch 216:  training loss:  0.2827783\n"
          ]
        },
        {
          "output_type": "stream",
          "name": "stderr",
          "text": [
            "\r 44%|████▎     | 218/500 [04:44<05:40,  1.21s/it]"
          ]
        },
        {
          "output_type": "stream",
          "name": "stdout",
          "text": [
            "epoch 217:  training loss:  0.24193773\n"
          ]
        },
        {
          "output_type": "stream",
          "name": "stderr",
          "text": [
            "\r 44%|████▍     | 219/500 [04:45<05:36,  1.20s/it]"
          ]
        },
        {
          "output_type": "stream",
          "name": "stdout",
          "text": [
            "epoch 218:  training loss:  0.1958944\n"
          ]
        },
        {
          "output_type": "stream",
          "name": "stderr",
          "text": [
            "\r 44%|████▍     | 220/500 [04:46<05:32,  1.19s/it]"
          ]
        },
        {
          "output_type": "stream",
          "name": "stdout",
          "text": [
            "epoch 219:  training loss:  0.20270197\n",
            "epoch 220:  training loss:  0.20773757\n"
          ]
        },
        {
          "output_type": "stream",
          "name": "stderr",
          "text": [
            "\r 44%|████▍     | 221/500 [04:48<06:24,  1.38s/it]"
          ]
        },
        {
          "output_type": "stream",
          "name": "stdout",
          "text": [
            "epoch 220:  training loss:  0.20773757 NDCG_validation:  0.37792635179977313\n"
          ]
        },
        {
          "output_type": "stream",
          "name": "stderr",
          "text": [
            "\r 44%|████▍     | 222/500 [04:49<06:08,  1.32s/it]"
          ]
        },
        {
          "output_type": "stream",
          "name": "stdout",
          "text": [
            "epoch 221:  training loss:  0.20072265\n"
          ]
        },
        {
          "output_type": "stream",
          "name": "stderr",
          "text": [
            "\r 45%|████▍     | 223/500 [04:50<05:55,  1.28s/it]"
          ]
        },
        {
          "output_type": "stream",
          "name": "stdout",
          "text": [
            "epoch 222:  training loss:  0.18807457\n"
          ]
        },
        {
          "output_type": "stream",
          "name": "stderr",
          "text": [
            "\r 45%|████▍     | 224/500 [04:51<05:46,  1.26s/it]"
          ]
        },
        {
          "output_type": "stream",
          "name": "stdout",
          "text": [
            "epoch 223:  training loss:  0.19220835\n"
          ]
        },
        {
          "output_type": "stream",
          "name": "stderr",
          "text": [
            "\r 45%|████▌     | 225/500 [04:53<05:39,  1.24s/it]"
          ]
        },
        {
          "output_type": "stream",
          "name": "stdout",
          "text": [
            "epoch 224:  training loss:  0.20784861\n"
          ]
        },
        {
          "output_type": "stream",
          "name": "stderr",
          "text": [
            "\r 45%|████▌     | 226/500 [04:54<05:32,  1.21s/it]"
          ]
        },
        {
          "output_type": "stream",
          "name": "stdout",
          "text": [
            "epoch 225:  training loss:  0.17355528\n"
          ]
        },
        {
          "output_type": "stream",
          "name": "stderr",
          "text": [
            "\r 45%|████▌     | 227/500 [04:55<05:28,  1.20s/it]"
          ]
        },
        {
          "output_type": "stream",
          "name": "stdout",
          "text": [
            "epoch 226:  training loss:  0.20377716\n"
          ]
        },
        {
          "output_type": "stream",
          "name": "stderr",
          "text": [
            "\r 46%|████▌     | 228/500 [04:56<05:26,  1.20s/it]"
          ]
        },
        {
          "output_type": "stream",
          "name": "stdout",
          "text": [
            "epoch 227:  training loss:  0.16459629\n"
          ]
        },
        {
          "output_type": "stream",
          "name": "stderr",
          "text": [
            "\r 46%|████▌     | 229/500 [04:57<05:26,  1.21s/it]"
          ]
        },
        {
          "output_type": "stream",
          "name": "stdout",
          "text": [
            "epoch 228:  training loss:  0.22328067\n"
          ]
        },
        {
          "output_type": "stream",
          "name": "stderr",
          "text": [
            "\r 46%|████▌     | 230/500 [04:58<05:23,  1.20s/it]"
          ]
        },
        {
          "output_type": "stream",
          "name": "stdout",
          "text": [
            "epoch 229:  training loss:  0.18313964\n",
            "epoch 230:  training loss:  0.17278999\n"
          ]
        },
        {
          "output_type": "stream",
          "name": "stderr",
          "text": [
            "\r 46%|████▌     | 231/500 [05:00<06:16,  1.40s/it]"
          ]
        },
        {
          "output_type": "stream",
          "name": "stdout",
          "text": [
            "epoch 230:  training loss:  0.17278999 NDCG_validation:  0.3716646785862737\n"
          ]
        },
        {
          "output_type": "stream",
          "name": "stderr",
          "text": [
            "\r 46%|████▋     | 232/500 [05:02<05:57,  1.34s/it]"
          ]
        },
        {
          "output_type": "stream",
          "name": "stdout",
          "text": [
            "epoch 231:  training loss:  0.20744807\n"
          ]
        },
        {
          "output_type": "stream",
          "name": "stderr",
          "text": [
            "\r 47%|████▋     | 233/500 [05:03<05:44,  1.29s/it]"
          ]
        },
        {
          "output_type": "stream",
          "name": "stdout",
          "text": [
            "epoch 232:  training loss:  0.21489736\n"
          ]
        },
        {
          "output_type": "stream",
          "name": "stderr",
          "text": [
            "\r 47%|████▋     | 234/500 [05:04<05:35,  1.26s/it]"
          ]
        },
        {
          "output_type": "stream",
          "name": "stdout",
          "text": [
            "epoch 233:  training loss:  0.18694451\n"
          ]
        },
        {
          "output_type": "stream",
          "name": "stderr",
          "text": [
            "\r 47%|████▋     | 235/500 [05:05<05:27,  1.24s/it]"
          ]
        },
        {
          "output_type": "stream",
          "name": "stdout",
          "text": [
            "epoch 234:  training loss:  0.19011025\n"
          ]
        },
        {
          "output_type": "stream",
          "name": "stderr",
          "text": [
            "\r 47%|████▋     | 236/500 [05:06<05:22,  1.22s/it]"
          ]
        },
        {
          "output_type": "stream",
          "name": "stdout",
          "text": [
            "epoch 235:  training loss:  0.18645397\n"
          ]
        },
        {
          "output_type": "stream",
          "name": "stderr",
          "text": [
            "\r 47%|████▋     | 237/500 [05:07<05:17,  1.21s/it]"
          ]
        },
        {
          "output_type": "stream",
          "name": "stdout",
          "text": [
            "epoch 236:  training loss:  0.17866158\n"
          ]
        },
        {
          "output_type": "stream",
          "name": "stderr",
          "text": [
            "\r 48%|████▊     | 238/500 [05:09<05:14,  1.20s/it]"
          ]
        },
        {
          "output_type": "stream",
          "name": "stdout",
          "text": [
            "epoch 237:  training loss:  0.15795949\n"
          ]
        },
        {
          "output_type": "stream",
          "name": "stderr",
          "text": [
            "\r 48%|████▊     | 239/500 [05:10<05:11,  1.20s/it]"
          ]
        },
        {
          "output_type": "stream",
          "name": "stdout",
          "text": [
            "epoch 238:  training loss:  0.2401794\n"
          ]
        },
        {
          "output_type": "stream",
          "name": "stderr",
          "text": [
            "\r 48%|████▊     | 240/500 [05:11<05:10,  1.19s/it]"
          ]
        },
        {
          "output_type": "stream",
          "name": "stdout",
          "text": [
            "epoch 239:  training loss:  0.22233099\n",
            "epoch 240:  training loss:  0.207721\n"
          ]
        },
        {
          "output_type": "stream",
          "name": "stderr",
          "text": [
            "\r 48%|████▊     | 241/500 [05:13<05:55,  1.37s/it]"
          ]
        },
        {
          "output_type": "stream",
          "name": "stdout",
          "text": [
            "epoch 240:  training loss:  0.207721 NDCG_validation:  0.37937384968069476\n"
          ]
        },
        {
          "output_type": "stream",
          "name": "stderr",
          "text": [
            "\r 48%|████▊     | 242/500 [05:14<05:42,  1.33s/it]"
          ]
        },
        {
          "output_type": "stream",
          "name": "stdout",
          "text": [
            "epoch 241:  training loss:  0.17597076\n"
          ]
        },
        {
          "output_type": "stream",
          "name": "stderr",
          "text": [
            "\r 49%|████▊     | 243/500 [05:16<06:04,  1.42s/it]"
          ]
        },
        {
          "output_type": "stream",
          "name": "stdout",
          "text": [
            "epoch 242:  training loss:  0.19203973\n"
          ]
        },
        {
          "output_type": "stream",
          "name": "stderr",
          "text": [
            "\r 49%|████▉     | 244/500 [05:17<06:20,  1.49s/it]"
          ]
        },
        {
          "output_type": "stream",
          "name": "stdout",
          "text": [
            "epoch 243:  training loss:  0.23635262\n"
          ]
        },
        {
          "output_type": "stream",
          "name": "stderr",
          "text": [
            "\r 49%|████▉     | 245/500 [05:19<06:22,  1.50s/it]"
          ]
        },
        {
          "output_type": "stream",
          "name": "stdout",
          "text": [
            "epoch 244:  training loss:  0.16223137\n"
          ]
        },
        {
          "output_type": "stream",
          "name": "stderr",
          "text": [
            "\r 49%|████▉     | 246/500 [05:20<05:55,  1.40s/it]"
          ]
        },
        {
          "output_type": "stream",
          "name": "stdout",
          "text": [
            "epoch 245:  training loss:  0.2133286\n"
          ]
        },
        {
          "output_type": "stream",
          "name": "stderr",
          "text": [
            "\r 49%|████▉     | 247/500 [05:21<05:39,  1.34s/it]"
          ]
        },
        {
          "output_type": "stream",
          "name": "stdout",
          "text": [
            "epoch 246:  training loss:  0.18224557\n"
          ]
        },
        {
          "output_type": "stream",
          "name": "stderr",
          "text": [
            "\r 50%|████▉     | 248/500 [05:22<05:24,  1.29s/it]"
          ]
        },
        {
          "output_type": "stream",
          "name": "stdout",
          "text": [
            "epoch 247:  training loss:  0.1425438\n"
          ]
        },
        {
          "output_type": "stream",
          "name": "stderr",
          "text": [
            "\r 50%|████▉     | 249/500 [05:24<05:14,  1.25s/it]"
          ]
        },
        {
          "output_type": "stream",
          "name": "stdout",
          "text": [
            "epoch 248:  training loss:  0.16209465\n"
          ]
        },
        {
          "output_type": "stream",
          "name": "stderr",
          "text": [
            "\r 50%|█████     | 250/500 [05:25<05:06,  1.23s/it]"
          ]
        },
        {
          "output_type": "stream",
          "name": "stdout",
          "text": [
            "epoch 249:  training loss:  0.17142746\n",
            "epoch 250:  training loss:  0.15563501\n"
          ]
        },
        {
          "output_type": "stream",
          "name": "stderr",
          "text": [
            "\r 50%|█████     | 251/500 [05:27<05:51,  1.41s/it]"
          ]
        },
        {
          "output_type": "stream",
          "name": "stdout",
          "text": [
            "epoch 250:  training loss:  0.15563501 NDCG_validation:  0.39663402596435815\n"
          ]
        },
        {
          "output_type": "stream",
          "name": "stderr",
          "text": [
            "\r 50%|█████     | 252/500 [05:28<05:30,  1.33s/it]"
          ]
        },
        {
          "output_type": "stream",
          "name": "stdout",
          "text": [
            "epoch 251:  training loss:  0.1538233\n"
          ]
        },
        {
          "output_type": "stream",
          "name": "stderr",
          "text": [
            "\r 51%|█████     | 253/500 [05:29<05:17,  1.28s/it]"
          ]
        },
        {
          "output_type": "stream",
          "name": "stdout",
          "text": [
            "epoch 252:  training loss:  0.14557455\n"
          ]
        },
        {
          "output_type": "stream",
          "name": "stderr",
          "text": [
            "\r 51%|█████     | 254/500 [05:30<05:09,  1.26s/it]"
          ]
        },
        {
          "output_type": "stream",
          "name": "stdout",
          "text": [
            "epoch 253:  training loss:  0.15514986\n"
          ]
        },
        {
          "output_type": "stream",
          "name": "stderr",
          "text": [
            "\r 51%|█████     | 255/500 [05:31<05:02,  1.23s/it]"
          ]
        },
        {
          "output_type": "stream",
          "name": "stdout",
          "text": [
            "epoch 254:  training loss:  0.14123973\n"
          ]
        },
        {
          "output_type": "stream",
          "name": "stderr",
          "text": [
            "\r 51%|█████     | 256/500 [05:32<04:55,  1.21s/it]"
          ]
        },
        {
          "output_type": "stream",
          "name": "stdout",
          "text": [
            "epoch 255:  training loss:  0.22254157\n"
          ]
        },
        {
          "output_type": "stream",
          "name": "stderr",
          "text": [
            "\r 51%|█████▏    | 257/500 [05:34<04:50,  1.20s/it]"
          ]
        },
        {
          "output_type": "stream",
          "name": "stdout",
          "text": [
            "epoch 256:  training loss:  0.1772262\n"
          ]
        },
        {
          "output_type": "stream",
          "name": "stderr",
          "text": [
            "\r 52%|█████▏    | 258/500 [05:35<04:46,  1.18s/it]"
          ]
        },
        {
          "output_type": "stream",
          "name": "stdout",
          "text": [
            "epoch 257:  training loss:  0.23819055\n"
          ]
        },
        {
          "output_type": "stream",
          "name": "stderr",
          "text": [
            "\r 52%|█████▏    | 259/500 [05:36<04:43,  1.18s/it]"
          ]
        },
        {
          "output_type": "stream",
          "name": "stdout",
          "text": [
            "epoch 258:  training loss:  0.15704244\n"
          ]
        },
        {
          "output_type": "stream",
          "name": "stderr",
          "text": [
            "\r 52%|█████▏    | 260/500 [05:37<04:42,  1.18s/it]"
          ]
        },
        {
          "output_type": "stream",
          "name": "stdout",
          "text": [
            "epoch 259:  training loss:  0.14303866\n",
            "epoch 260:  training loss:  0.20841557\n"
          ]
        },
        {
          "output_type": "stream",
          "name": "stderr",
          "text": [
            "\r 52%|█████▏    | 261/500 [05:39<05:27,  1.37s/it]"
          ]
        },
        {
          "output_type": "stream",
          "name": "stdout",
          "text": [
            "epoch 260:  training loss:  0.20841557 NDCG_validation:  0.376660649507027\n"
          ]
        },
        {
          "output_type": "stream",
          "name": "stderr",
          "text": [
            "\r 52%|█████▏    | 262/500 [05:40<05:12,  1.31s/it]"
          ]
        },
        {
          "output_type": "stream",
          "name": "stdout",
          "text": [
            "epoch 261:  training loss:  0.15385927\n"
          ]
        },
        {
          "output_type": "stream",
          "name": "stderr",
          "text": [
            "\r 53%|█████▎    | 263/500 [05:41<05:01,  1.27s/it]"
          ]
        },
        {
          "output_type": "stream",
          "name": "stdout",
          "text": [
            "epoch 262:  training loss:  0.14201218\n"
          ]
        },
        {
          "output_type": "stream",
          "name": "stderr",
          "text": [
            "\r 53%|█████▎    | 264/500 [05:42<04:52,  1.24s/it]"
          ]
        },
        {
          "output_type": "stream",
          "name": "stdout",
          "text": [
            "epoch 263:  training loss:  0.12681362\n"
          ]
        },
        {
          "output_type": "stream",
          "name": "stderr",
          "text": [
            "\r 53%|█████▎    | 265/500 [05:44<04:45,  1.21s/it]"
          ]
        },
        {
          "output_type": "stream",
          "name": "stdout",
          "text": [
            "epoch 264:  training loss:  0.21548015\n"
          ]
        },
        {
          "output_type": "stream",
          "name": "stderr",
          "text": [
            "\r 53%|█████▎    | 266/500 [05:45<04:40,  1.20s/it]"
          ]
        },
        {
          "output_type": "stream",
          "name": "stdout",
          "text": [
            "epoch 265:  training loss:  0.20205297\n"
          ]
        },
        {
          "output_type": "stream",
          "name": "stderr",
          "text": [
            "\r 53%|█████▎    | 267/500 [05:46<04:38,  1.20s/it]"
          ]
        },
        {
          "output_type": "stream",
          "name": "stdout",
          "text": [
            "epoch 266:  training loss:  0.15261266\n"
          ]
        },
        {
          "output_type": "stream",
          "name": "stderr",
          "text": [
            "\r 54%|█████▎    | 268/500 [05:47<04:38,  1.20s/it]"
          ]
        },
        {
          "output_type": "stream",
          "name": "stdout",
          "text": [
            "epoch 267:  training loss:  0.20873952\n"
          ]
        },
        {
          "output_type": "stream",
          "name": "stderr",
          "text": [
            "\r 54%|█████▍    | 269/500 [05:48<04:37,  1.20s/it]"
          ]
        },
        {
          "output_type": "stream",
          "name": "stdout",
          "text": [
            "epoch 268:  training loss:  0.16489522\n"
          ]
        },
        {
          "output_type": "stream",
          "name": "stderr",
          "text": [
            "\r 54%|█████▍    | 270/500 [05:50<04:36,  1.20s/it]"
          ]
        },
        {
          "output_type": "stream",
          "name": "stdout",
          "text": [
            "epoch 269:  training loss:  0.26739296\n",
            "epoch 270:  training loss:  0.21805035\n"
          ]
        },
        {
          "output_type": "stream",
          "name": "stderr",
          "text": [
            "\r 54%|█████▍    | 271/500 [05:51<05:18,  1.39s/it]"
          ]
        },
        {
          "output_type": "stream",
          "name": "stdout",
          "text": [
            "epoch 270:  training loss:  0.21805035 NDCG_validation:  0.3957814183258779\n"
          ]
        },
        {
          "output_type": "stream",
          "name": "stderr",
          "text": [
            "\r 54%|█████▍    | 272/500 [05:53<05:01,  1.32s/it]"
          ]
        },
        {
          "output_type": "stream",
          "name": "stdout",
          "text": [
            "epoch 271:  training loss:  0.26516524\n"
          ]
        },
        {
          "output_type": "stream",
          "name": "stderr",
          "text": [
            "\r 55%|█████▍    | 273/500 [05:54<04:49,  1.27s/it]"
          ]
        },
        {
          "output_type": "stream",
          "name": "stdout",
          "text": [
            "epoch 272:  training loss:  0.14203334\n"
          ]
        },
        {
          "output_type": "stream",
          "name": "stderr",
          "text": [
            "\r 55%|█████▍    | 274/500 [05:55<04:42,  1.25s/it]"
          ]
        },
        {
          "output_type": "stream",
          "name": "stdout",
          "text": [
            "epoch 273:  training loss:  0.14375931\n"
          ]
        },
        {
          "output_type": "stream",
          "name": "stderr",
          "text": [
            "\r 55%|█████▌    | 275/500 [05:56<04:37,  1.23s/it]"
          ]
        },
        {
          "output_type": "stream",
          "name": "stdout",
          "text": [
            "epoch 274:  training loss:  0.1813984\n"
          ]
        },
        {
          "output_type": "stream",
          "name": "stderr",
          "text": [
            "\r 55%|█████▌    | 276/500 [05:57<04:32,  1.21s/it]"
          ]
        },
        {
          "output_type": "stream",
          "name": "stdout",
          "text": [
            "epoch 275:  training loss:  0.14741215\n"
          ]
        },
        {
          "output_type": "stream",
          "name": "stderr",
          "text": [
            "\r 55%|█████▌    | 277/500 [05:58<04:28,  1.20s/it]"
          ]
        },
        {
          "output_type": "stream",
          "name": "stdout",
          "text": [
            "epoch 276:  training loss:  0.17358504\n"
          ]
        },
        {
          "output_type": "stream",
          "name": "stderr",
          "text": [
            "\r 56%|█████▌    | 278/500 [06:00<04:26,  1.20s/it]"
          ]
        },
        {
          "output_type": "stream",
          "name": "stdout",
          "text": [
            "epoch 277:  training loss:  0.2345035\n"
          ]
        },
        {
          "output_type": "stream",
          "name": "stderr",
          "text": [
            "\r 56%|█████▌    | 279/500 [06:01<04:23,  1.19s/it]"
          ]
        },
        {
          "output_type": "stream",
          "name": "stdout",
          "text": [
            "epoch 278:  training loss:  0.19759691\n"
          ]
        },
        {
          "output_type": "stream",
          "name": "stderr",
          "text": [
            "\r 56%|█████▌    | 280/500 [06:02<04:22,  1.19s/it]"
          ]
        },
        {
          "output_type": "stream",
          "name": "stdout",
          "text": [
            "epoch 279:  training loss:  0.22238049\n",
            "epoch 280:  training loss:  0.2185069\n"
          ]
        },
        {
          "output_type": "stream",
          "name": "stderr",
          "text": [
            "\r 56%|█████▌    | 281/500 [06:04<05:02,  1.38s/it]"
          ]
        },
        {
          "output_type": "stream",
          "name": "stdout",
          "text": [
            "epoch 280:  training loss:  0.2185069 NDCG_validation:  0.3954157762908049\n"
          ]
        },
        {
          "output_type": "stream",
          "name": "stderr",
          "text": [
            "\r 56%|█████▋    | 282/500 [06:05<04:47,  1.32s/it]"
          ]
        },
        {
          "output_type": "stream",
          "name": "stdout",
          "text": [
            "epoch 281:  training loss:  0.19845073\n"
          ]
        },
        {
          "output_type": "stream",
          "name": "stderr",
          "text": [
            "\r 57%|█████▋    | 283/500 [06:06<04:35,  1.27s/it]"
          ]
        },
        {
          "output_type": "stream",
          "name": "stdout",
          "text": [
            "epoch 282:  training loss:  0.18326065\n"
          ]
        },
        {
          "output_type": "stream",
          "name": "stderr",
          "text": [
            "\r 57%|█████▋    | 284/500 [06:07<04:29,  1.25s/it]"
          ]
        },
        {
          "output_type": "stream",
          "name": "stdout",
          "text": [
            "epoch 283:  training loss:  0.16687788\n"
          ]
        },
        {
          "output_type": "stream",
          "name": "stderr",
          "text": [
            "\r 57%|█████▋    | 285/500 [06:08<04:22,  1.22s/it]"
          ]
        },
        {
          "output_type": "stream",
          "name": "stdout",
          "text": [
            "epoch 284:  training loss:  0.1577964\n"
          ]
        },
        {
          "output_type": "stream",
          "name": "stderr",
          "text": [
            "\r 57%|█████▋    | 286/500 [06:10<04:17,  1.20s/it]"
          ]
        },
        {
          "output_type": "stream",
          "name": "stdout",
          "text": [
            "epoch 285:  training loss:  0.16433345\n"
          ]
        },
        {
          "output_type": "stream",
          "name": "stderr",
          "text": [
            "\r 57%|█████▋    | 287/500 [06:11<04:15,  1.20s/it]"
          ]
        },
        {
          "output_type": "stream",
          "name": "stdout",
          "text": [
            "epoch 286:  training loss:  0.13213918\n"
          ]
        },
        {
          "output_type": "stream",
          "name": "stderr",
          "text": [
            "\r 58%|█████▊    | 288/500 [06:12<04:11,  1.19s/it]"
          ]
        },
        {
          "output_type": "stream",
          "name": "stdout",
          "text": [
            "epoch 287:  training loss:  0.14005604\n"
          ]
        },
        {
          "output_type": "stream",
          "name": "stderr",
          "text": [
            "\r 58%|█████▊    | 289/500 [06:13<04:08,  1.18s/it]"
          ]
        },
        {
          "output_type": "stream",
          "name": "stdout",
          "text": [
            "epoch 288:  training loss:  0.14030679\n"
          ]
        },
        {
          "output_type": "stream",
          "name": "stderr",
          "text": [
            "\r 58%|█████▊    | 290/500 [06:14<04:05,  1.17s/it]"
          ]
        },
        {
          "output_type": "stream",
          "name": "stdout",
          "text": [
            "epoch 289:  training loss:  0.18361849\n",
            "epoch 290:  training loss:  0.13596009\n"
          ]
        },
        {
          "output_type": "stream",
          "name": "stderr",
          "text": [
            "\r 58%|█████▊    | 291/500 [06:16<04:45,  1.37s/it]"
          ]
        },
        {
          "output_type": "stream",
          "name": "stdout",
          "text": [
            "epoch 290:  training loss:  0.13596009 NDCG_validation:  0.3852971882676607\n"
          ]
        },
        {
          "output_type": "stream",
          "name": "stderr",
          "text": [
            "\r 58%|█████▊    | 292/500 [06:17<04:32,  1.31s/it]"
          ]
        },
        {
          "output_type": "stream",
          "name": "stdout",
          "text": [
            "epoch 291:  training loss:  0.15554498\n"
          ]
        },
        {
          "output_type": "stream",
          "name": "stderr",
          "text": [
            "\r 59%|█████▊    | 293/500 [06:18<04:24,  1.28s/it]"
          ]
        },
        {
          "output_type": "stream",
          "name": "stdout",
          "text": [
            "epoch 292:  training loss:  0.2075588\n"
          ]
        },
        {
          "output_type": "stream",
          "name": "stderr",
          "text": [
            "\r 59%|█████▉    | 294/500 [06:20<04:17,  1.25s/it]"
          ]
        },
        {
          "output_type": "stream",
          "name": "stdout",
          "text": [
            "epoch 293:  training loss:  0.18909399\n"
          ]
        },
        {
          "output_type": "stream",
          "name": "stderr",
          "text": [
            "\r 59%|█████▉    | 295/500 [06:21<04:12,  1.23s/it]"
          ]
        },
        {
          "output_type": "stream",
          "name": "stdout",
          "text": [
            "epoch 294:  training loss:  0.21788587\n"
          ]
        },
        {
          "output_type": "stream",
          "name": "stderr",
          "text": [
            "\r 59%|█████▉    | 296/500 [06:22<04:08,  1.22s/it]"
          ]
        },
        {
          "output_type": "stream",
          "name": "stdout",
          "text": [
            "epoch 295:  training loss:  0.14539854\n"
          ]
        },
        {
          "output_type": "stream",
          "name": "stderr",
          "text": [
            "\r 59%|█████▉    | 297/500 [06:23<04:04,  1.21s/it]"
          ]
        },
        {
          "output_type": "stream",
          "name": "stdout",
          "text": [
            "epoch 296:  training loss:  0.13222945\n"
          ]
        },
        {
          "output_type": "stream",
          "name": "stderr",
          "text": [
            "\r 60%|█████▉    | 298/500 [06:24<04:01,  1.20s/it]"
          ]
        },
        {
          "output_type": "stream",
          "name": "stdout",
          "text": [
            "epoch 297:  training loss:  0.11255363\n"
          ]
        },
        {
          "output_type": "stream",
          "name": "stderr",
          "text": [
            "\r 60%|█████▉    | 299/500 [06:26<03:59,  1.19s/it]"
          ]
        },
        {
          "output_type": "stream",
          "name": "stdout",
          "text": [
            "epoch 298:  training loss:  0.14830409\n"
          ]
        },
        {
          "output_type": "stream",
          "name": "stderr",
          "text": [
            "\r 60%|██████    | 300/500 [06:27<03:58,  1.19s/it]"
          ]
        },
        {
          "output_type": "stream",
          "name": "stdout",
          "text": [
            "epoch 299:  training loss:  0.11605957\n",
            "epoch 300:  training loss:  0.1324595\n"
          ]
        },
        {
          "output_type": "stream",
          "name": "stderr",
          "text": [
            "\r 60%|██████    | 301/500 [06:29<04:33,  1.37s/it]"
          ]
        },
        {
          "output_type": "stream",
          "name": "stdout",
          "text": [
            "epoch 300:  training loss:  0.1324595 NDCG_validation:  0.38605554625424093\n"
          ]
        },
        {
          "output_type": "stream",
          "name": "stderr",
          "text": [
            "\r 60%|██████    | 302/500 [06:30<04:19,  1.31s/it]"
          ]
        },
        {
          "output_type": "stream",
          "name": "stdout",
          "text": [
            "epoch 301:  training loss:  0.15020302\n"
          ]
        },
        {
          "output_type": "stream",
          "name": "stderr",
          "text": [
            "\r 61%|██████    | 303/500 [06:31<04:12,  1.28s/it]"
          ]
        },
        {
          "output_type": "stream",
          "name": "stdout",
          "text": [
            "epoch 302:  training loss:  0.11865219\n"
          ]
        },
        {
          "output_type": "stream",
          "name": "stderr",
          "text": [
            "\r 61%|██████    | 304/500 [06:32<04:05,  1.25s/it]"
          ]
        },
        {
          "output_type": "stream",
          "name": "stdout",
          "text": [
            "epoch 303:  training loss:  0.14687759\n"
          ]
        },
        {
          "output_type": "stream",
          "name": "stderr",
          "text": [
            "\r 61%|██████    | 305/500 [06:33<04:00,  1.23s/it]"
          ]
        },
        {
          "output_type": "stream",
          "name": "stdout",
          "text": [
            "epoch 304:  training loss:  0.12429189\n"
          ]
        },
        {
          "output_type": "stream",
          "name": "stderr",
          "text": [
            "\r 61%|██████    | 306/500 [06:35<03:57,  1.23s/it]"
          ]
        },
        {
          "output_type": "stream",
          "name": "stdout",
          "text": [
            "epoch 305:  training loss:  0.10851559\n"
          ]
        },
        {
          "output_type": "stream",
          "name": "stderr",
          "text": [
            "\r 61%|██████▏   | 307/500 [06:36<03:54,  1.22s/it]"
          ]
        },
        {
          "output_type": "stream",
          "name": "stdout",
          "text": [
            "epoch 306:  training loss:  0.08478912\n"
          ]
        },
        {
          "output_type": "stream",
          "name": "stderr",
          "text": [
            "\r 62%|██████▏   | 308/500 [06:37<03:53,  1.21s/it]"
          ]
        },
        {
          "output_type": "stream",
          "name": "stdout",
          "text": [
            "epoch 307:  training loss:  0.10480017\n"
          ]
        },
        {
          "output_type": "stream",
          "name": "stderr",
          "text": [
            "\r 62%|██████▏   | 309/500 [06:38<03:51,  1.21s/it]"
          ]
        },
        {
          "output_type": "stream",
          "name": "stdout",
          "text": [
            "epoch 308:  training loss:  0.101244375\n"
          ]
        },
        {
          "output_type": "stream",
          "name": "stderr",
          "text": [
            "\r 62%|██████▏   | 310/500 [06:39<03:48,  1.20s/it]"
          ]
        },
        {
          "output_type": "stream",
          "name": "stdout",
          "text": [
            "epoch 309:  training loss:  0.092249066\n",
            "epoch 310:  training loss:  0.18879117\n"
          ]
        },
        {
          "output_type": "stream",
          "name": "stderr",
          "text": [
            "\r 62%|██████▏   | 311/500 [06:41<04:24,  1.40s/it]"
          ]
        },
        {
          "output_type": "stream",
          "name": "stdout",
          "text": [
            "epoch 310:  training loss:  0.18879117 NDCG_validation:  0.3691827774786964\n"
          ]
        },
        {
          "output_type": "stream",
          "name": "stderr",
          "text": [
            "\r 62%|██████▏   | 312/500 [06:42<04:11,  1.34s/it]"
          ]
        },
        {
          "output_type": "stream",
          "name": "stdout",
          "text": [
            "epoch 311:  training loss:  0.1458517\n"
          ]
        },
        {
          "output_type": "stream",
          "name": "stderr",
          "text": [
            "\r 63%|██████▎   | 313/500 [06:44<04:01,  1.29s/it]"
          ]
        },
        {
          "output_type": "stream",
          "name": "stdout",
          "text": [
            "epoch 312:  training loss:  0.24343452\n"
          ]
        },
        {
          "output_type": "stream",
          "name": "stderr",
          "text": [
            "\r 63%|██████▎   | 314/500 [06:45<03:53,  1.26s/it]"
          ]
        },
        {
          "output_type": "stream",
          "name": "stdout",
          "text": [
            "epoch 313:  training loss:  0.15034392\n"
          ]
        },
        {
          "output_type": "stream",
          "name": "stderr",
          "text": [
            "\r 63%|██████▎   | 315/500 [06:46<03:48,  1.23s/it]"
          ]
        },
        {
          "output_type": "stream",
          "name": "stdout",
          "text": [
            "epoch 314:  training loss:  0.15930857\n"
          ]
        },
        {
          "output_type": "stream",
          "name": "stderr",
          "text": [
            "\r 63%|██████▎   | 316/500 [06:47<03:43,  1.21s/it]"
          ]
        },
        {
          "output_type": "stream",
          "name": "stdout",
          "text": [
            "epoch 315:  training loss:  0.16573505\n"
          ]
        },
        {
          "output_type": "stream",
          "name": "stderr",
          "text": [
            "\r 63%|██████▎   | 317/500 [06:48<03:41,  1.21s/it]"
          ]
        },
        {
          "output_type": "stream",
          "name": "stdout",
          "text": [
            "epoch 316:  training loss:  0.13857928\n"
          ]
        },
        {
          "output_type": "stream",
          "name": "stderr",
          "text": [
            "\r 64%|██████▎   | 318/500 [06:49<03:39,  1.21s/it]"
          ]
        },
        {
          "output_type": "stream",
          "name": "stdout",
          "text": [
            "epoch 317:  training loss:  0.14512931\n"
          ]
        },
        {
          "output_type": "stream",
          "name": "stderr",
          "text": [
            "\r 64%|██████▍   | 319/500 [06:51<03:38,  1.21s/it]"
          ]
        },
        {
          "output_type": "stream",
          "name": "stdout",
          "text": [
            "epoch 318:  training loss:  0.11889251\n"
          ]
        },
        {
          "output_type": "stream",
          "name": "stderr",
          "text": [
            "\r 64%|██████▍   | 320/500 [06:52<03:36,  1.20s/it]"
          ]
        },
        {
          "output_type": "stream",
          "name": "stdout",
          "text": [
            "epoch 319:  training loss:  0.18754213\n",
            "epoch 320:  training loss:  0.09676321\n"
          ]
        },
        {
          "output_type": "stream",
          "name": "stderr",
          "text": [
            "\r 64%|██████▍   | 321/500 [06:54<04:09,  1.39s/it]"
          ]
        },
        {
          "output_type": "stream",
          "name": "stdout",
          "text": [
            "epoch 320:  training loss:  0.09676321 NDCG_validation:  0.3825393515811029\n"
          ]
        },
        {
          "output_type": "stream",
          "name": "stderr",
          "text": [
            "\r 64%|██████▍   | 322/500 [06:55<03:56,  1.33s/it]"
          ]
        },
        {
          "output_type": "stream",
          "name": "stdout",
          "text": [
            "epoch 321:  training loss:  0.18616089\n"
          ]
        },
        {
          "output_type": "stream",
          "name": "stderr",
          "text": [
            "\r 65%|██████▍   | 323/500 [06:56<03:47,  1.29s/it]"
          ]
        },
        {
          "output_type": "stream",
          "name": "stdout",
          "text": [
            "epoch 322:  training loss:  0.12527774\n"
          ]
        },
        {
          "output_type": "stream",
          "name": "stderr",
          "text": [
            "\r 65%|██████▍   | 324/500 [06:57<03:41,  1.26s/it]"
          ]
        },
        {
          "output_type": "stream",
          "name": "stdout",
          "text": [
            "epoch 323:  training loss:  0.09547809\n"
          ]
        },
        {
          "output_type": "stream",
          "name": "stderr",
          "text": [
            "\r 65%|██████▌   | 325/500 [06:58<03:34,  1.23s/it]"
          ]
        },
        {
          "output_type": "stream",
          "name": "stdout",
          "text": [
            "epoch 324:  training loss:  0.11836232\n"
          ]
        },
        {
          "output_type": "stream",
          "name": "stderr",
          "text": [
            "\r 65%|██████▌   | 326/500 [07:00<03:30,  1.21s/it]"
          ]
        },
        {
          "output_type": "stream",
          "name": "stdout",
          "text": [
            "epoch 325:  training loss:  0.16868442\n"
          ]
        },
        {
          "output_type": "stream",
          "name": "stderr",
          "text": [
            "\r 65%|██████▌   | 327/500 [07:01<03:28,  1.20s/it]"
          ]
        },
        {
          "output_type": "stream",
          "name": "stdout",
          "text": [
            "epoch 326:  training loss:  0.21235597\n"
          ]
        },
        {
          "output_type": "stream",
          "name": "stderr",
          "text": [
            "\r 66%|██████▌   | 328/500 [07:02<03:26,  1.20s/it]"
          ]
        },
        {
          "output_type": "stream",
          "name": "stdout",
          "text": [
            "epoch 327:  training loss:  0.17478769\n"
          ]
        },
        {
          "output_type": "stream",
          "name": "stderr",
          "text": [
            "\r 66%|██████▌   | 329/500 [07:03<03:24,  1.19s/it]"
          ]
        },
        {
          "output_type": "stream",
          "name": "stdout",
          "text": [
            "epoch 328:  training loss:  0.14688013\n"
          ]
        },
        {
          "output_type": "stream",
          "name": "stderr",
          "text": [
            "\r 66%|██████▌   | 330/500 [07:04<03:21,  1.19s/it]"
          ]
        },
        {
          "output_type": "stream",
          "name": "stdout",
          "text": [
            "epoch 329:  training loss:  0.2026686\n",
            "epoch 330:  training loss:  0.17188819\n"
          ]
        },
        {
          "output_type": "stream",
          "name": "stderr",
          "text": [
            "\r 66%|██████▌   | 331/500 [07:06<03:54,  1.39s/it]"
          ]
        },
        {
          "output_type": "stream",
          "name": "stdout",
          "text": [
            "epoch 330:  training loss:  0.17188819 NDCG_validation:  0.36533128644150104\n"
          ]
        },
        {
          "output_type": "stream",
          "name": "stderr",
          "text": [
            "\r 66%|██████▋   | 332/500 [07:07<03:43,  1.33s/it]"
          ]
        },
        {
          "output_type": "stream",
          "name": "stdout",
          "text": [
            "epoch 331:  training loss:  0.123309016\n"
          ]
        },
        {
          "output_type": "stream",
          "name": "stderr",
          "text": [
            "\r 67%|██████▋   | 333/500 [07:09<03:36,  1.29s/it]"
          ]
        },
        {
          "output_type": "stream",
          "name": "stdout",
          "text": [
            "epoch 332:  training loss:  0.22035435\n"
          ]
        },
        {
          "output_type": "stream",
          "name": "stderr",
          "text": [
            "\r 67%|██████▋   | 334/500 [07:10<03:29,  1.26s/it]"
          ]
        },
        {
          "output_type": "stream",
          "name": "stdout",
          "text": [
            "epoch 333:  training loss:  0.20471528\n"
          ]
        },
        {
          "output_type": "stream",
          "name": "stderr",
          "text": [
            "\r 67%|██████▋   | 335/500 [07:11<03:25,  1.24s/it]"
          ]
        },
        {
          "output_type": "stream",
          "name": "stdout",
          "text": [
            "epoch 334:  training loss:  0.20091176\n"
          ]
        },
        {
          "output_type": "stream",
          "name": "stderr",
          "text": [
            "\r 67%|██████▋   | 336/500 [07:12<03:21,  1.23s/it]"
          ]
        },
        {
          "output_type": "stream",
          "name": "stdout",
          "text": [
            "epoch 335:  training loss:  0.18749543\n"
          ]
        },
        {
          "output_type": "stream",
          "name": "stderr",
          "text": [
            "\r 67%|██████▋   | 337/500 [07:13<03:18,  1.22s/it]"
          ]
        },
        {
          "output_type": "stream",
          "name": "stdout",
          "text": [
            "epoch 336:  training loss:  0.26607877\n"
          ]
        },
        {
          "output_type": "stream",
          "name": "stderr",
          "text": [
            "\r 68%|██████▊   | 338/500 [07:15<03:15,  1.21s/it]"
          ]
        },
        {
          "output_type": "stream",
          "name": "stdout",
          "text": [
            "epoch 337:  training loss:  0.20587024\n"
          ]
        },
        {
          "output_type": "stream",
          "name": "stderr",
          "text": [
            "\r 68%|██████▊   | 339/500 [07:16<03:13,  1.20s/it]"
          ]
        },
        {
          "output_type": "stream",
          "name": "stdout",
          "text": [
            "epoch 338:  training loss:  0.2933388\n"
          ]
        },
        {
          "output_type": "stream",
          "name": "stderr",
          "text": [
            "\r 68%|██████▊   | 340/500 [07:17<03:12,  1.20s/it]"
          ]
        },
        {
          "output_type": "stream",
          "name": "stdout",
          "text": [
            "epoch 339:  training loss:  0.20089927\n",
            "epoch 340:  training loss:  0.21070236\n"
          ]
        },
        {
          "output_type": "stream",
          "name": "stderr",
          "text": [
            "\r 68%|██████▊   | 341/500 [07:19<03:43,  1.40s/it]"
          ]
        },
        {
          "output_type": "stream",
          "name": "stdout",
          "text": [
            "epoch 340:  training loss:  0.21070236 NDCG_validation:  0.3814056067473659\n"
          ]
        },
        {
          "output_type": "stream",
          "name": "stderr",
          "text": [
            "\r 68%|██████▊   | 342/500 [07:20<03:32,  1.35s/it]"
          ]
        },
        {
          "output_type": "stream",
          "name": "stdout",
          "text": [
            "epoch 341:  training loss:  0.19518456\n"
          ]
        },
        {
          "output_type": "stream",
          "name": "stderr",
          "text": [
            "\r 69%|██████▊   | 343/500 [07:21<03:24,  1.31s/it]"
          ]
        },
        {
          "output_type": "stream",
          "name": "stdout",
          "text": [
            "epoch 342:  training loss:  0.23102343\n"
          ]
        },
        {
          "output_type": "stream",
          "name": "stderr",
          "text": [
            "\r 69%|██████▉   | 344/500 [07:22<03:18,  1.27s/it]"
          ]
        },
        {
          "output_type": "stream",
          "name": "stdout",
          "text": [
            "epoch 343:  training loss:  0.21134566\n"
          ]
        },
        {
          "output_type": "stream",
          "name": "stderr",
          "text": [
            "\r 69%|██████▉   | 345/500 [07:24<03:13,  1.25s/it]"
          ]
        },
        {
          "output_type": "stream",
          "name": "stdout",
          "text": [
            "epoch 344:  training loss:  0.20121601\n"
          ]
        },
        {
          "output_type": "stream",
          "name": "stderr",
          "text": [
            "\r 69%|██████▉   | 346/500 [07:25<03:10,  1.23s/it]"
          ]
        },
        {
          "output_type": "stream",
          "name": "stdout",
          "text": [
            "epoch 345:  training loss:  0.16896039\n"
          ]
        },
        {
          "output_type": "stream",
          "name": "stderr",
          "text": [
            "\r 69%|██████▉   | 347/500 [07:26<03:07,  1.22s/it]"
          ]
        },
        {
          "output_type": "stream",
          "name": "stdout",
          "text": [
            "epoch 346:  training loss:  0.122095264\n"
          ]
        },
        {
          "output_type": "stream",
          "name": "stderr",
          "text": [
            "\r 70%|██████▉   | 348/500 [07:27<03:04,  1.22s/it]"
          ]
        },
        {
          "output_type": "stream",
          "name": "stdout",
          "text": [
            "epoch 347:  training loss:  0.14472704\n"
          ]
        },
        {
          "output_type": "stream",
          "name": "stderr",
          "text": [
            "\r 70%|██████▉   | 349/500 [07:28<03:03,  1.21s/it]"
          ]
        },
        {
          "output_type": "stream",
          "name": "stdout",
          "text": [
            "epoch 348:  training loss:  0.18862337\n"
          ]
        },
        {
          "output_type": "stream",
          "name": "stderr",
          "text": [
            "\r 70%|███████   | 350/500 [07:30<03:01,  1.21s/it]"
          ]
        },
        {
          "output_type": "stream",
          "name": "stdout",
          "text": [
            "epoch 349:  training loss:  0.17126781\n",
            "epoch 350:  training loss:  0.1401207\n"
          ]
        },
        {
          "output_type": "stream",
          "name": "stderr",
          "text": [
            "\r 70%|███████   | 351/500 [07:32<03:30,  1.41s/it]"
          ]
        },
        {
          "output_type": "stream",
          "name": "stdout",
          "text": [
            "epoch 350:  training loss:  0.1401207 NDCG_validation:  0.37911752188892606\n"
          ]
        },
        {
          "output_type": "stream",
          "name": "stderr",
          "text": [
            "\r 70%|███████   | 352/500 [07:33<03:22,  1.37s/it]"
          ]
        },
        {
          "output_type": "stream",
          "name": "stdout",
          "text": [
            "epoch 351:  training loss:  0.108024694\n"
          ]
        },
        {
          "output_type": "stream",
          "name": "stderr",
          "text": [
            "\r 71%|███████   | 353/500 [07:34<03:15,  1.33s/it]"
          ]
        },
        {
          "output_type": "stream",
          "name": "stdout",
          "text": [
            "epoch 352:  training loss:  0.14581245\n"
          ]
        },
        {
          "output_type": "stream",
          "name": "stderr",
          "text": [
            "\r 71%|███████   | 354/500 [07:35<03:08,  1.29s/it]"
          ]
        },
        {
          "output_type": "stream",
          "name": "stdout",
          "text": [
            "epoch 353:  training loss:  0.09815888\n"
          ]
        },
        {
          "output_type": "stream",
          "name": "stderr",
          "text": [
            "\r 71%|███████   | 355/500 [07:36<03:02,  1.26s/it]"
          ]
        },
        {
          "output_type": "stream",
          "name": "stdout",
          "text": [
            "epoch 354:  training loss:  0.15015608\n"
          ]
        },
        {
          "output_type": "stream",
          "name": "stderr",
          "text": [
            "\r 71%|███████   | 356/500 [07:38<02:57,  1.23s/it]"
          ]
        },
        {
          "output_type": "stream",
          "name": "stdout",
          "text": [
            "epoch 355:  training loss:  0.18418024\n"
          ]
        },
        {
          "output_type": "stream",
          "name": "stderr",
          "text": [
            "\r 71%|███████▏  | 357/500 [07:39<02:54,  1.22s/it]"
          ]
        },
        {
          "output_type": "stream",
          "name": "stdout",
          "text": [
            "epoch 356:  training loss:  0.14156085\n"
          ]
        },
        {
          "output_type": "stream",
          "name": "stderr",
          "text": [
            "\r 72%|███████▏  | 358/500 [07:40<02:53,  1.22s/it]"
          ]
        },
        {
          "output_type": "stream",
          "name": "stdout",
          "text": [
            "epoch 357:  training loss:  0.121989295\n"
          ]
        },
        {
          "output_type": "stream",
          "name": "stderr",
          "text": [
            "\r 72%|███████▏  | 359/500 [07:41<02:51,  1.22s/it]"
          ]
        },
        {
          "output_type": "stream",
          "name": "stdout",
          "text": [
            "epoch 358:  training loss:  0.20390497\n"
          ]
        },
        {
          "output_type": "stream",
          "name": "stderr",
          "text": [
            "\r 72%|███████▏  | 360/500 [07:42<02:50,  1.22s/it]"
          ]
        },
        {
          "output_type": "stream",
          "name": "stdout",
          "text": [
            "epoch 359:  training loss:  0.14858705\n",
            "epoch 360:  training loss:  0.16915052\n"
          ]
        },
        {
          "output_type": "stream",
          "name": "stderr",
          "text": [
            "\r 72%|███████▏  | 361/500 [07:44<03:16,  1.41s/it]"
          ]
        },
        {
          "output_type": "stream",
          "name": "stdout",
          "text": [
            "epoch 360:  training loss:  0.16915052 NDCG_validation:  0.3926753868716418\n"
          ]
        },
        {
          "output_type": "stream",
          "name": "stderr",
          "text": [
            "\r 72%|███████▏  | 362/500 [07:46<03:05,  1.35s/it]"
          ]
        },
        {
          "output_type": "stream",
          "name": "stdout",
          "text": [
            "epoch 361:  training loss:  0.16781275\n"
          ]
        },
        {
          "output_type": "stream",
          "name": "stderr",
          "text": [
            "\r 73%|███████▎  | 363/500 [07:47<02:57,  1.30s/it]"
          ]
        },
        {
          "output_type": "stream",
          "name": "stdout",
          "text": [
            "epoch 362:  training loss:  0.14541864\n"
          ]
        },
        {
          "output_type": "stream",
          "name": "stderr",
          "text": [
            "\r 73%|███████▎  | 364/500 [07:48<02:51,  1.26s/it]"
          ]
        },
        {
          "output_type": "stream",
          "name": "stdout",
          "text": [
            "epoch 363:  training loss:  0.11944854\n"
          ]
        },
        {
          "output_type": "stream",
          "name": "stderr",
          "text": [
            "\r 73%|███████▎  | 365/500 [07:49<02:47,  1.24s/it]"
          ]
        },
        {
          "output_type": "stream",
          "name": "stdout",
          "text": [
            "epoch 364:  training loss:  0.09873865\n"
          ]
        },
        {
          "output_type": "stream",
          "name": "stderr",
          "text": [
            "\r 73%|███████▎  | 366/500 [07:50<02:44,  1.23s/it]"
          ]
        },
        {
          "output_type": "stream",
          "name": "stdout",
          "text": [
            "epoch 365:  training loss:  0.118503645\n"
          ]
        },
        {
          "output_type": "stream",
          "name": "stderr",
          "text": [
            "\r 73%|███████▎  | 367/500 [07:51<02:41,  1.22s/it]"
          ]
        },
        {
          "output_type": "stream",
          "name": "stdout",
          "text": [
            "epoch 366:  training loss:  0.09920836\n"
          ]
        },
        {
          "output_type": "stream",
          "name": "stderr",
          "text": [
            "\r 74%|███████▎  | 368/500 [07:53<02:38,  1.20s/it]"
          ]
        },
        {
          "output_type": "stream",
          "name": "stdout",
          "text": [
            "epoch 367:  training loss:  0.08528246\n"
          ]
        },
        {
          "output_type": "stream",
          "name": "stderr",
          "text": [
            "\r 74%|███████▍  | 369/500 [07:54<02:36,  1.19s/it]"
          ]
        },
        {
          "output_type": "stream",
          "name": "stdout",
          "text": [
            "epoch 368:  training loss:  0.26424602\n"
          ]
        },
        {
          "output_type": "stream",
          "name": "stderr",
          "text": [
            "\r 74%|███████▍  | 370/500 [07:55<02:34,  1.19s/it]"
          ]
        },
        {
          "output_type": "stream",
          "name": "stdout",
          "text": [
            "epoch 369:  training loss:  0.14318985\n",
            "epoch 370:  training loss:  0.1531892\n"
          ]
        },
        {
          "output_type": "stream",
          "name": "stderr",
          "text": [
            "\r 74%|███████▍  | 371/500 [07:57<02:58,  1.38s/it]"
          ]
        },
        {
          "output_type": "stream",
          "name": "stdout",
          "text": [
            "epoch 370:  training loss:  0.1531892 NDCG_validation:  0.39521449107846185\n"
          ]
        },
        {
          "output_type": "stream",
          "name": "stderr",
          "text": [
            "\r 74%|███████▍  | 372/500 [07:58<02:49,  1.32s/it]"
          ]
        },
        {
          "output_type": "stream",
          "name": "stdout",
          "text": [
            "epoch 371:  training loss:  0.122183904\n"
          ]
        },
        {
          "output_type": "stream",
          "name": "stderr",
          "text": [
            "\r 75%|███████▍  | 373/500 [07:59<02:42,  1.28s/it]"
          ]
        },
        {
          "output_type": "stream",
          "name": "stdout",
          "text": [
            "epoch 372:  training loss:  0.11915802\n"
          ]
        },
        {
          "output_type": "stream",
          "name": "stderr",
          "text": [
            "\r 75%|███████▍  | 374/500 [08:00<02:38,  1.25s/it]"
          ]
        },
        {
          "output_type": "stream",
          "name": "stdout",
          "text": [
            "epoch 373:  training loss:  0.079206735\n"
          ]
        },
        {
          "output_type": "stream",
          "name": "stderr",
          "text": [
            "\r 75%|███████▌  | 375/500 [08:02<02:33,  1.23s/it]"
          ]
        },
        {
          "output_type": "stream",
          "name": "stdout",
          "text": [
            "epoch 374:  training loss:  0.15630339\n"
          ]
        },
        {
          "output_type": "stream",
          "name": "stderr",
          "text": [
            "\r 75%|███████▌  | 376/500 [08:03<02:30,  1.21s/it]"
          ]
        },
        {
          "output_type": "stream",
          "name": "stdout",
          "text": [
            "epoch 375:  training loss:  0.25229996\n"
          ]
        },
        {
          "output_type": "stream",
          "name": "stderr",
          "text": [
            "\r 75%|███████▌  | 377/500 [08:04<02:27,  1.20s/it]"
          ]
        },
        {
          "output_type": "stream",
          "name": "stdout",
          "text": [
            "epoch 376:  training loss:  0.25495636\n"
          ]
        },
        {
          "output_type": "stream",
          "name": "stderr",
          "text": [
            "\r 76%|███████▌  | 378/500 [08:05<02:25,  1.19s/it]"
          ]
        },
        {
          "output_type": "stream",
          "name": "stdout",
          "text": [
            "epoch 377:  training loss:  0.19932008\n"
          ]
        },
        {
          "output_type": "stream",
          "name": "stderr",
          "text": [
            "\r 76%|███████▌  | 379/500 [08:06<02:24,  1.19s/it]"
          ]
        },
        {
          "output_type": "stream",
          "name": "stdout",
          "text": [
            "epoch 378:  training loss:  0.2914487\n"
          ]
        },
        {
          "output_type": "stream",
          "name": "stderr",
          "text": [
            "\r 76%|███████▌  | 380/500 [08:07<02:22,  1.19s/it]"
          ]
        },
        {
          "output_type": "stream",
          "name": "stdout",
          "text": [
            "epoch 379:  training loss:  0.20994373\n",
            "epoch 380:  training loss:  0.1960509\n"
          ]
        },
        {
          "output_type": "stream",
          "name": "stderr",
          "text": [
            "\r 76%|███████▌  | 381/500 [08:09<02:44,  1.38s/it]"
          ]
        },
        {
          "output_type": "stream",
          "name": "stdout",
          "text": [
            "epoch 380:  training loss:  0.1960509 NDCG_validation:  0.3774966961227207\n"
          ]
        },
        {
          "output_type": "stream",
          "name": "stderr",
          "text": [
            "\r 76%|███████▋  | 382/500 [08:10<02:36,  1.32s/it]"
          ]
        },
        {
          "output_type": "stream",
          "name": "stdout",
          "text": [
            "epoch 381:  training loss:  0.17966542\n"
          ]
        },
        {
          "output_type": "stream",
          "name": "stderr",
          "text": [
            "\r 77%|███████▋  | 383/500 [08:12<02:30,  1.29s/it]"
          ]
        },
        {
          "output_type": "stream",
          "name": "stdout",
          "text": [
            "epoch 382:  training loss:  0.18038473\n"
          ]
        },
        {
          "output_type": "stream",
          "name": "stderr",
          "text": [
            "\r 77%|███████▋  | 384/500 [08:13<02:24,  1.25s/it]"
          ]
        },
        {
          "output_type": "stream",
          "name": "stdout",
          "text": [
            "epoch 383:  training loss:  0.15310472\n"
          ]
        },
        {
          "output_type": "stream",
          "name": "stderr",
          "text": [
            "\r 77%|███████▋  | 385/500 [08:14<02:21,  1.23s/it]"
          ]
        },
        {
          "output_type": "stream",
          "name": "stdout",
          "text": [
            "epoch 384:  training loss:  0.2574964\n"
          ]
        },
        {
          "output_type": "stream",
          "name": "stderr",
          "text": [
            "\r 77%|███████▋  | 386/500 [08:15<02:19,  1.22s/it]"
          ]
        },
        {
          "output_type": "stream",
          "name": "stdout",
          "text": [
            "epoch 385:  training loss:  0.18231845\n"
          ]
        },
        {
          "output_type": "stream",
          "name": "stderr",
          "text": [
            "\r 77%|███████▋  | 387/500 [08:16<02:16,  1.21s/it]"
          ]
        },
        {
          "output_type": "stream",
          "name": "stdout",
          "text": [
            "epoch 386:  training loss:  0.18887238\n"
          ]
        },
        {
          "output_type": "stream",
          "name": "stderr",
          "text": [
            "\r 78%|███████▊  | 388/500 [08:18<02:14,  1.20s/it]"
          ]
        },
        {
          "output_type": "stream",
          "name": "stdout",
          "text": [
            "epoch 387:  training loss:  0.170649\n"
          ]
        },
        {
          "output_type": "stream",
          "name": "stderr",
          "text": [
            "\r 78%|███████▊  | 389/500 [08:19<02:12,  1.19s/it]"
          ]
        },
        {
          "output_type": "stream",
          "name": "stdout",
          "text": [
            "epoch 388:  training loss:  0.18003385\n"
          ]
        },
        {
          "output_type": "stream",
          "name": "stderr",
          "text": [
            "\r 78%|███████▊  | 390/500 [08:20<02:10,  1.19s/it]"
          ]
        },
        {
          "output_type": "stream",
          "name": "stdout",
          "text": [
            "epoch 389:  training loss:  0.1919354\n",
            "epoch 390:  training loss:  0.1669967\n"
          ]
        },
        {
          "output_type": "stream",
          "name": "stderr",
          "text": [
            "\r 78%|███████▊  | 391/500 [08:22<02:52,  1.59s/it]"
          ]
        },
        {
          "output_type": "stream",
          "name": "stdout",
          "text": [
            "epoch 390:  training loss:  0.1669967 NDCG_validation:  0.38645358198506863\n"
          ]
        },
        {
          "output_type": "stream",
          "name": "stderr",
          "text": [
            "\r 78%|███████▊  | 392/500 [08:24<02:53,  1.61s/it]"
          ]
        },
        {
          "output_type": "stream",
          "name": "stdout",
          "text": [
            "epoch 391:  training loss:  0.13935056\n"
          ]
        },
        {
          "output_type": "stream",
          "name": "stderr",
          "text": [
            "\r 79%|███████▊  | 393/500 [08:25<02:45,  1.54s/it]"
          ]
        },
        {
          "output_type": "stream",
          "name": "stdout",
          "text": [
            "epoch 392:  training loss:  0.15831017\n"
          ]
        },
        {
          "output_type": "stream",
          "name": "stderr",
          "text": [
            "\r 79%|███████▉  | 394/500 [08:27<02:33,  1.45s/it]"
          ]
        },
        {
          "output_type": "stream",
          "name": "stdout",
          "text": [
            "epoch 393:  training loss:  0.22250858\n"
          ]
        },
        {
          "output_type": "stream",
          "name": "stderr",
          "text": [
            "\r 79%|███████▉  | 395/500 [08:28<02:24,  1.37s/it]"
          ]
        },
        {
          "output_type": "stream",
          "name": "stdout",
          "text": [
            "epoch 394:  training loss:  0.2091719\n"
          ]
        },
        {
          "output_type": "stream",
          "name": "stderr",
          "text": [
            "\r 79%|███████▉  | 396/500 [08:29<02:17,  1.32s/it]"
          ]
        },
        {
          "output_type": "stream",
          "name": "stdout",
          "text": [
            "epoch 395:  training loss:  0.16566762\n"
          ]
        },
        {
          "output_type": "stream",
          "name": "stderr",
          "text": [
            "\r 79%|███████▉  | 397/500 [08:30<02:11,  1.28s/it]"
          ]
        },
        {
          "output_type": "stream",
          "name": "stdout",
          "text": [
            "epoch 396:  training loss:  0.15275972\n"
          ]
        },
        {
          "output_type": "stream",
          "name": "stderr",
          "text": [
            "\r 80%|███████▉  | 398/500 [08:31<02:07,  1.25s/it]"
          ]
        },
        {
          "output_type": "stream",
          "name": "stdout",
          "text": [
            "epoch 397:  training loss:  0.1319004\n"
          ]
        },
        {
          "output_type": "stream",
          "name": "stderr",
          "text": [
            "\r 80%|███████▉  | 399/500 [08:33<02:05,  1.24s/it]"
          ]
        },
        {
          "output_type": "stream",
          "name": "stdout",
          "text": [
            "epoch 398:  training loss:  0.22913496\n"
          ]
        },
        {
          "output_type": "stream",
          "name": "stderr",
          "text": [
            "\r 80%|████████  | 400/500 [08:34<02:02,  1.23s/it]"
          ]
        },
        {
          "output_type": "stream",
          "name": "stdout",
          "text": [
            "epoch 399:  training loss:  0.21484405\n",
            "epoch 400:  training loss:  0.21500355\n"
          ]
        },
        {
          "output_type": "stream",
          "name": "stderr",
          "text": [
            "\r 80%|████████  | 401/500 [08:36<02:20,  1.42s/it]"
          ]
        },
        {
          "output_type": "stream",
          "name": "stdout",
          "text": [
            "epoch 400:  training loss:  0.21500355 NDCG_validation:  0.39543842234049276\n"
          ]
        },
        {
          "output_type": "stream",
          "name": "stderr",
          "text": [
            "\r 80%|████████  | 402/500 [08:37<02:13,  1.36s/it]"
          ]
        },
        {
          "output_type": "stream",
          "name": "stdout",
          "text": [
            "epoch 401:  training loss:  0.22832504\n"
          ]
        },
        {
          "output_type": "stream",
          "name": "stderr",
          "text": [
            "\r 81%|████████  | 403/500 [08:38<02:07,  1.31s/it]"
          ]
        },
        {
          "output_type": "stream",
          "name": "stdout",
          "text": [
            "epoch 402:  training loss:  0.21128917\n"
          ]
        },
        {
          "output_type": "stream",
          "name": "stderr",
          "text": [
            "\r 81%|████████  | 404/500 [08:39<02:02,  1.28s/it]"
          ]
        },
        {
          "output_type": "stream",
          "name": "stdout",
          "text": [
            "epoch 403:  training loss:  0.2447449\n"
          ]
        },
        {
          "output_type": "stream",
          "name": "stderr",
          "text": [
            "\r 81%|████████  | 405/500 [08:41<01:58,  1.25s/it]"
          ]
        },
        {
          "output_type": "stream",
          "name": "stdout",
          "text": [
            "epoch 404:  training loss:  0.19075193\n"
          ]
        },
        {
          "output_type": "stream",
          "name": "stderr",
          "text": [
            "\r 81%|████████  | 406/500 [08:42<01:55,  1.23s/it]"
          ]
        },
        {
          "output_type": "stream",
          "name": "stdout",
          "text": [
            "epoch 405:  training loss:  0.14512633\n"
          ]
        },
        {
          "output_type": "stream",
          "name": "stderr",
          "text": [
            "\r 81%|████████▏ | 407/500 [08:43<01:53,  1.22s/it]"
          ]
        },
        {
          "output_type": "stream",
          "name": "stdout",
          "text": [
            "epoch 406:  training loss:  0.13840601\n"
          ]
        },
        {
          "output_type": "stream",
          "name": "stderr",
          "text": [
            "\r 82%|████████▏ | 408/500 [08:44<01:51,  1.21s/it]"
          ]
        },
        {
          "output_type": "stream",
          "name": "stdout",
          "text": [
            "epoch 407:  training loss:  0.15815946\n"
          ]
        },
        {
          "output_type": "stream",
          "name": "stderr",
          "text": [
            "\r 82%|████████▏ | 409/500 [08:45<01:49,  1.20s/it]"
          ]
        },
        {
          "output_type": "stream",
          "name": "stdout",
          "text": [
            "epoch 408:  training loss:  0.1482651\n"
          ]
        },
        {
          "output_type": "stream",
          "name": "stderr",
          "text": [
            "\r 82%|████████▏ | 410/500 [08:46<01:47,  1.20s/it]"
          ]
        },
        {
          "output_type": "stream",
          "name": "stdout",
          "text": [
            "epoch 409:  training loss:  0.13094148\n",
            "epoch 410:  training loss:  0.18052693\n"
          ]
        },
        {
          "output_type": "stream",
          "name": "stderr",
          "text": [
            "\r 82%|████████▏ | 411/500 [08:48<02:03,  1.39s/it]"
          ]
        },
        {
          "output_type": "stream",
          "name": "stdout",
          "text": [
            "epoch 410:  training loss:  0.18052693 NDCG_validation:  0.3841066765989767\n"
          ]
        },
        {
          "output_type": "stream",
          "name": "stderr",
          "text": [
            "\r 82%|████████▏ | 412/500 [08:49<01:56,  1.32s/it]"
          ]
        },
        {
          "output_type": "stream",
          "name": "stdout",
          "text": [
            "epoch 411:  training loss:  0.19871812\n"
          ]
        },
        {
          "output_type": "stream",
          "name": "stderr",
          "text": [
            "\r 83%|████████▎ | 413/500 [08:51<01:51,  1.28s/it]"
          ]
        },
        {
          "output_type": "stream",
          "name": "stdout",
          "text": [
            "epoch 412:  training loss:  0.14159162\n"
          ]
        },
        {
          "output_type": "stream",
          "name": "stderr",
          "text": [
            "\r 83%|████████▎ | 414/500 [08:52<01:47,  1.25s/it]"
          ]
        },
        {
          "output_type": "stream",
          "name": "stdout",
          "text": [
            "epoch 413:  training loss:  0.14550479\n"
          ]
        },
        {
          "output_type": "stream",
          "name": "stderr",
          "text": [
            "\r 83%|████████▎ | 415/500 [08:53<01:44,  1.23s/it]"
          ]
        },
        {
          "output_type": "stream",
          "name": "stdout",
          "text": [
            "epoch 414:  training loss:  0.1021198\n"
          ]
        },
        {
          "output_type": "stream",
          "name": "stderr",
          "text": [
            "\r 83%|████████▎ | 416/500 [08:54<01:42,  1.22s/it]"
          ]
        },
        {
          "output_type": "stream",
          "name": "stdout",
          "text": [
            "epoch 415:  training loss:  0.0861304\n"
          ]
        },
        {
          "output_type": "stream",
          "name": "stderr",
          "text": [
            "\r 83%|████████▎ | 417/500 [08:55<01:41,  1.22s/it]"
          ]
        },
        {
          "output_type": "stream",
          "name": "stdout",
          "text": [
            "epoch 416:  training loss:  0.13788879\n"
          ]
        },
        {
          "output_type": "stream",
          "name": "stderr",
          "text": [
            "\r 84%|████████▎ | 418/500 [08:57<01:39,  1.22s/it]"
          ]
        },
        {
          "output_type": "stream",
          "name": "stdout",
          "text": [
            "epoch 417:  training loss:  0.11284258\n"
          ]
        },
        {
          "output_type": "stream",
          "name": "stderr",
          "text": [
            "\r 84%|████████▍ | 419/500 [08:58<01:38,  1.22s/it]"
          ]
        },
        {
          "output_type": "stream",
          "name": "stdout",
          "text": [
            "epoch 418:  training loss:  0.13529514\n"
          ]
        },
        {
          "output_type": "stream",
          "name": "stderr",
          "text": [
            "\r 84%|████████▍ | 420/500 [08:59<01:37,  1.21s/it]"
          ]
        },
        {
          "output_type": "stream",
          "name": "stdout",
          "text": [
            "epoch 419:  training loss:  0.1041729\n",
            "epoch 420:  training loss:  0.08488503\n"
          ]
        },
        {
          "output_type": "stream",
          "name": "stderr",
          "text": [
            "\r 84%|████████▍ | 421/500 [09:01<01:50,  1.39s/it]"
          ]
        },
        {
          "output_type": "stream",
          "name": "stdout",
          "text": [
            "epoch 420:  training loss:  0.08488503 NDCG_validation:  0.38017218848927936\n"
          ]
        },
        {
          "output_type": "stream",
          "name": "stderr",
          "text": [
            "\r 84%|████████▍ | 422/500 [09:02<01:44,  1.33s/it]"
          ]
        },
        {
          "output_type": "stream",
          "name": "stdout",
          "text": [
            "epoch 421:  training loss:  0.18154581\n"
          ]
        },
        {
          "output_type": "stream",
          "name": "stderr",
          "text": [
            "\r 85%|████████▍ | 423/500 [09:03<01:39,  1.29s/it]"
          ]
        },
        {
          "output_type": "stream",
          "name": "stdout",
          "text": [
            "epoch 422:  training loss:  0.19359493\n"
          ]
        },
        {
          "output_type": "stream",
          "name": "stderr",
          "text": [
            "\r 85%|████████▍ | 424/500 [09:04<01:35,  1.26s/it]"
          ]
        },
        {
          "output_type": "stream",
          "name": "stdout",
          "text": [
            "epoch 423:  training loss:  0.13088182\n"
          ]
        },
        {
          "output_type": "stream",
          "name": "stderr",
          "text": [
            "\r 85%|████████▌ | 425/500 [09:06<01:32,  1.24s/it]"
          ]
        },
        {
          "output_type": "stream",
          "name": "stdout",
          "text": [
            "epoch 424:  training loss:  0.13217051\n"
          ]
        },
        {
          "output_type": "stream",
          "name": "stderr",
          "text": [
            "\r 85%|████████▌ | 426/500 [09:07<01:30,  1.22s/it]"
          ]
        },
        {
          "output_type": "stream",
          "name": "stdout",
          "text": [
            "epoch 425:  training loss:  0.13725223\n"
          ]
        },
        {
          "output_type": "stream",
          "name": "stderr",
          "text": [
            "\r 85%|████████▌ | 427/500 [09:08<01:28,  1.21s/it]"
          ]
        },
        {
          "output_type": "stream",
          "name": "stdout",
          "text": [
            "epoch 426:  training loss:  0.11809882\n"
          ]
        },
        {
          "output_type": "stream",
          "name": "stderr",
          "text": [
            "\r 86%|████████▌ | 428/500 [09:09<01:26,  1.20s/it]"
          ]
        },
        {
          "output_type": "stream",
          "name": "stdout",
          "text": [
            "epoch 427:  training loss:  0.1131643\n"
          ]
        },
        {
          "output_type": "stream",
          "name": "stderr",
          "text": [
            "\r 86%|████████▌ | 429/500 [09:10<01:24,  1.19s/it]"
          ]
        },
        {
          "output_type": "stream",
          "name": "stdout",
          "text": [
            "epoch 428:  training loss:  0.07514672\n"
          ]
        },
        {
          "output_type": "stream",
          "name": "stderr",
          "text": [
            "\r 86%|████████▌ | 430/500 [09:12<01:23,  1.19s/it]"
          ]
        },
        {
          "output_type": "stream",
          "name": "stdout",
          "text": [
            "epoch 429:  training loss:  0.2005565\n",
            "epoch 430:  training loss:  0.22734909\n"
          ]
        },
        {
          "output_type": "stream",
          "name": "stderr",
          "text": [
            "\r 86%|████████▌ | 431/500 [09:13<01:34,  1.37s/it]"
          ]
        },
        {
          "output_type": "stream",
          "name": "stdout",
          "text": [
            "epoch 430:  training loss:  0.22734909 NDCG_validation:  0.35164135433868116\n"
          ]
        },
        {
          "output_type": "stream",
          "name": "stderr",
          "text": [
            "\r 86%|████████▋ | 432/500 [09:15<01:29,  1.31s/it]"
          ]
        },
        {
          "output_type": "stream",
          "name": "stdout",
          "text": [
            "epoch 431:  training loss:  0.19832139\n"
          ]
        },
        {
          "output_type": "stream",
          "name": "stderr",
          "text": [
            "\r 87%|████████▋ | 433/500 [09:16<01:25,  1.28s/it]"
          ]
        },
        {
          "output_type": "stream",
          "name": "stdout",
          "text": [
            "epoch 432:  training loss:  0.21775864\n"
          ]
        },
        {
          "output_type": "stream",
          "name": "stderr",
          "text": [
            "\r 87%|████████▋ | 434/500 [09:17<01:22,  1.25s/it]"
          ]
        },
        {
          "output_type": "stream",
          "name": "stdout",
          "text": [
            "epoch 433:  training loss:  0.18449217\n"
          ]
        },
        {
          "output_type": "stream",
          "name": "stderr",
          "text": [
            "\r 87%|████████▋ | 435/500 [09:18<01:20,  1.23s/it]"
          ]
        },
        {
          "output_type": "stream",
          "name": "stdout",
          "text": [
            "epoch 434:  training loss:  0.2636431\n"
          ]
        },
        {
          "output_type": "stream",
          "name": "stderr",
          "text": [
            "\r 87%|████████▋ | 436/500 [09:19<01:17,  1.21s/it]"
          ]
        },
        {
          "output_type": "stream",
          "name": "stdout",
          "text": [
            "epoch 435:  training loss:  0.17512895\n"
          ]
        },
        {
          "output_type": "stream",
          "name": "stderr",
          "text": [
            "\r 87%|████████▋ | 437/500 [09:20<01:15,  1.20s/it]"
          ]
        },
        {
          "output_type": "stream",
          "name": "stdout",
          "text": [
            "epoch 436:  training loss:  0.15697585\n"
          ]
        },
        {
          "output_type": "stream",
          "name": "stderr",
          "text": [
            "\r 88%|████████▊ | 438/500 [09:22<01:14,  1.20s/it]"
          ]
        },
        {
          "output_type": "stream",
          "name": "stdout",
          "text": [
            "epoch 437:  training loss:  0.0888791\n"
          ]
        },
        {
          "output_type": "stream",
          "name": "stderr",
          "text": [
            "\r 88%|████████▊ | 439/500 [09:23<01:12,  1.19s/it]"
          ]
        },
        {
          "output_type": "stream",
          "name": "stdout",
          "text": [
            "epoch 438:  training loss:  0.13168435\n"
          ]
        },
        {
          "output_type": "stream",
          "name": "stderr",
          "text": [
            "\r 88%|████████▊ | 440/500 [09:24<01:11,  1.19s/it]"
          ]
        },
        {
          "output_type": "stream",
          "name": "stdout",
          "text": [
            "epoch 439:  training loss:  0.15723155\n",
            "epoch 440:  training loss:  0.25008693\n"
          ]
        },
        {
          "output_type": "stream",
          "name": "stderr",
          "text": [
            "\r 88%|████████▊ | 441/500 [09:26<01:22,  1.40s/it]"
          ]
        },
        {
          "output_type": "stream",
          "name": "stdout",
          "text": [
            "epoch 440:  training loss:  0.25008693 NDCG_validation:  0.3972063769842237\n"
          ]
        },
        {
          "output_type": "stream",
          "name": "stderr",
          "text": [
            "\r 88%|████████▊ | 442/500 [09:27<01:17,  1.34s/it]"
          ]
        },
        {
          "output_type": "stream",
          "name": "stdout",
          "text": [
            "epoch 441:  training loss:  0.15157507\n"
          ]
        },
        {
          "output_type": "stream",
          "name": "stderr",
          "text": [
            "\r 89%|████████▊ | 443/500 [09:28<01:13,  1.29s/it]"
          ]
        },
        {
          "output_type": "stream",
          "name": "stdout",
          "text": [
            "epoch 442:  training loss:  0.10476045\n"
          ]
        },
        {
          "output_type": "stream",
          "name": "stderr",
          "text": [
            "\r 89%|████████▉ | 444/500 [09:29<01:10,  1.26s/it]"
          ]
        },
        {
          "output_type": "stream",
          "name": "stdout",
          "text": [
            "epoch 443:  training loss:  0.19586022\n"
          ]
        },
        {
          "output_type": "stream",
          "name": "stderr",
          "text": [
            "\r 89%|████████▉ | 445/500 [09:31<01:07,  1.24s/it]"
          ]
        },
        {
          "output_type": "stream",
          "name": "stdout",
          "text": [
            "epoch 444:  training loss:  0.11992914\n"
          ]
        },
        {
          "output_type": "stream",
          "name": "stderr",
          "text": [
            "\r 89%|████████▉ | 446/500 [09:32<01:05,  1.22s/it]"
          ]
        },
        {
          "output_type": "stream",
          "name": "stdout",
          "text": [
            "epoch 445:  training loss:  0.12625022\n"
          ]
        },
        {
          "output_type": "stream",
          "name": "stderr",
          "text": [
            "\r 89%|████████▉ | 447/500 [09:33<01:03,  1.21s/it]"
          ]
        },
        {
          "output_type": "stream",
          "name": "stdout",
          "text": [
            "epoch 446:  training loss:  0.1462707\n"
          ]
        },
        {
          "output_type": "stream",
          "name": "stderr",
          "text": [
            "\r 90%|████████▉ | 448/500 [09:34<01:02,  1.20s/it]"
          ]
        },
        {
          "output_type": "stream",
          "name": "stdout",
          "text": [
            "epoch 447:  training loss:  0.123916544\n"
          ]
        },
        {
          "output_type": "stream",
          "name": "stderr",
          "text": [
            "\r 90%|████████▉ | 449/500 [09:35<01:00,  1.19s/it]"
          ]
        },
        {
          "output_type": "stream",
          "name": "stdout",
          "text": [
            "epoch 448:  training loss:  0.17306435\n"
          ]
        },
        {
          "output_type": "stream",
          "name": "stderr",
          "text": [
            "\r 90%|█████████ | 450/500 [09:37<01:00,  1.21s/it]"
          ]
        },
        {
          "output_type": "stream",
          "name": "stdout",
          "text": [
            "epoch 449:  training loss:  0.119012676\n",
            "epoch 450:  training loss:  0.12026912\n"
          ]
        },
        {
          "output_type": "stream",
          "name": "stderr",
          "text": [
            "\r 90%|█████████ | 451/500 [09:38<01:08,  1.40s/it]"
          ]
        },
        {
          "output_type": "stream",
          "name": "stdout",
          "text": [
            "epoch 450:  training loss:  0.12026912 NDCG_validation:  0.37379588975510425\n"
          ]
        },
        {
          "output_type": "stream",
          "name": "stderr",
          "text": [
            "\r 90%|█████████ | 452/500 [09:40<01:05,  1.37s/it]"
          ]
        },
        {
          "output_type": "stream",
          "name": "stdout",
          "text": [
            "epoch 451:  training loss:  0.07707603\n"
          ]
        },
        {
          "output_type": "stream",
          "name": "stderr",
          "text": [
            "\r 91%|█████████ | 453/500 [09:41<01:02,  1.33s/it]"
          ]
        },
        {
          "output_type": "stream",
          "name": "stdout",
          "text": [
            "epoch 452:  training loss:  0.1543641\n"
          ]
        },
        {
          "output_type": "stream",
          "name": "stderr",
          "text": [
            "\r 91%|█████████ | 454/500 [09:42<00:59,  1.30s/it]"
          ]
        },
        {
          "output_type": "stream",
          "name": "stdout",
          "text": [
            "epoch 453:  training loss:  0.1018077\n"
          ]
        },
        {
          "output_type": "stream",
          "name": "stderr",
          "text": [
            "\r 91%|█████████ | 455/500 [09:43<00:57,  1.28s/it]"
          ]
        },
        {
          "output_type": "stream",
          "name": "stdout",
          "text": [
            "epoch 454:  training loss:  0.09769274\n"
          ]
        },
        {
          "output_type": "stream",
          "name": "stderr",
          "text": [
            "\r 91%|█████████ | 456/500 [09:45<00:55,  1.27s/it]"
          ]
        },
        {
          "output_type": "stream",
          "name": "stdout",
          "text": [
            "epoch 455:  training loss:  0.16884133\n"
          ]
        },
        {
          "output_type": "stream",
          "name": "stderr",
          "text": [
            "\r 91%|█████████▏| 457/500 [09:46<00:55,  1.30s/it]"
          ]
        },
        {
          "output_type": "stream",
          "name": "stdout",
          "text": [
            "epoch 456:  training loss:  0.15777245\n"
          ]
        },
        {
          "output_type": "stream",
          "name": "stderr",
          "text": [
            "\r 92%|█████████▏| 458/500 [09:47<00:56,  1.34s/it]"
          ]
        },
        {
          "output_type": "stream",
          "name": "stdout",
          "text": [
            "epoch 457:  training loss:  0.16090307\n"
          ]
        },
        {
          "output_type": "stream",
          "name": "stderr",
          "text": [
            "\r 92%|█████████▏| 459/500 [09:49<00:53,  1.29s/it]"
          ]
        },
        {
          "output_type": "stream",
          "name": "stdout",
          "text": [
            "epoch 458:  training loss:  0.12726918\n"
          ]
        },
        {
          "output_type": "stream",
          "name": "stderr",
          "text": [
            "\r 92%|█████████▏| 460/500 [09:50<00:50,  1.26s/it]"
          ]
        },
        {
          "output_type": "stream",
          "name": "stdout",
          "text": [
            "epoch 459:  training loss:  0.0702496\n",
            "epoch 460:  training loss:  0.07448395\n"
          ]
        },
        {
          "output_type": "stream",
          "name": "stderr",
          "text": [
            "\r 92%|█████████▏| 461/500 [09:52<00:55,  1.43s/it]"
          ]
        },
        {
          "output_type": "stream",
          "name": "stdout",
          "text": [
            "epoch 460:  training loss:  0.07448395 NDCG_validation:  0.3889330975826726\n"
          ]
        },
        {
          "output_type": "stream",
          "name": "stderr",
          "text": [
            "\r 92%|█████████▏| 462/500 [09:53<00:51,  1.35s/it]"
          ]
        },
        {
          "output_type": "stream",
          "name": "stdout",
          "text": [
            "epoch 461:  training loss:  0.2082777\n"
          ]
        },
        {
          "output_type": "stream",
          "name": "stderr",
          "text": [
            "\r 93%|█████████▎| 463/500 [09:54<00:48,  1.30s/it]"
          ]
        },
        {
          "output_type": "stream",
          "name": "stdout",
          "text": [
            "epoch 462:  training loss:  0.16561481\n"
          ]
        },
        {
          "output_type": "stream",
          "name": "stderr",
          "text": [
            "\r 93%|█████████▎| 464/500 [09:55<00:45,  1.27s/it]"
          ]
        },
        {
          "output_type": "stream",
          "name": "stdout",
          "text": [
            "epoch 463:  training loss:  0.16652466\n"
          ]
        },
        {
          "output_type": "stream",
          "name": "stderr",
          "text": [
            "\r 93%|█████████▎| 465/500 [09:56<00:43,  1.25s/it]"
          ]
        },
        {
          "output_type": "stream",
          "name": "stdout",
          "text": [
            "epoch 464:  training loss:  0.15478477\n"
          ]
        },
        {
          "output_type": "stream",
          "name": "stderr",
          "text": [
            "\r 93%|█████████▎| 466/500 [09:58<00:41,  1.23s/it]"
          ]
        },
        {
          "output_type": "stream",
          "name": "stdout",
          "text": [
            "epoch 465:  training loss:  0.0920415\n"
          ]
        },
        {
          "output_type": "stream",
          "name": "stderr",
          "text": [
            "\r 93%|█████████▎| 467/500 [09:59<00:39,  1.21s/it]"
          ]
        },
        {
          "output_type": "stream",
          "name": "stdout",
          "text": [
            "epoch 466:  training loss:  0.21248606\n"
          ]
        },
        {
          "output_type": "stream",
          "name": "stderr",
          "text": [
            "\r 94%|█████████▎| 468/500 [10:00<00:38,  1.21s/it]"
          ]
        },
        {
          "output_type": "stream",
          "name": "stdout",
          "text": [
            "epoch 467:  training loss:  0.12093723\n"
          ]
        },
        {
          "output_type": "stream",
          "name": "stderr",
          "text": [
            "\r 94%|█████████▍| 469/500 [10:01<00:37,  1.19s/it]"
          ]
        },
        {
          "output_type": "stream",
          "name": "stdout",
          "text": [
            "epoch 468:  training loss:  0.074187025\n"
          ]
        },
        {
          "output_type": "stream",
          "name": "stderr",
          "text": [
            "\r 94%|█████████▍| 470/500 [10:02<00:35,  1.19s/it]"
          ]
        },
        {
          "output_type": "stream",
          "name": "stdout",
          "text": [
            "epoch 469:  training loss:  0.06734473\n",
            "epoch 470:  training loss:  0.13501512\n"
          ]
        },
        {
          "output_type": "stream",
          "name": "stderr",
          "text": [
            "\r 94%|█████████▍| 471/500 [10:04<00:40,  1.39s/it]"
          ]
        },
        {
          "output_type": "stream",
          "name": "stdout",
          "text": [
            "epoch 470:  training loss:  0.13501512 NDCG_validation:  0.39289921130656064\n"
          ]
        },
        {
          "output_type": "stream",
          "name": "stderr",
          "text": [
            "\r 94%|█████████▍| 472/500 [10:05<00:37,  1.33s/it]"
          ]
        },
        {
          "output_type": "stream",
          "name": "stdout",
          "text": [
            "epoch 471:  training loss:  0.06562052\n"
          ]
        },
        {
          "output_type": "stream",
          "name": "stderr",
          "text": [
            "\r 95%|█████████▍| 473/500 [10:07<00:34,  1.28s/it]"
          ]
        },
        {
          "output_type": "stream",
          "name": "stdout",
          "text": [
            "epoch 472:  training loss:  0.07851046\n"
          ]
        },
        {
          "output_type": "stream",
          "name": "stderr",
          "text": [
            "\r 95%|█████████▍| 474/500 [10:08<00:32,  1.25s/it]"
          ]
        },
        {
          "output_type": "stream",
          "name": "stdout",
          "text": [
            "epoch 473:  training loss:  0.066672005\n"
          ]
        },
        {
          "output_type": "stream",
          "name": "stderr",
          "text": [
            "\r 95%|█████████▌| 475/500 [10:09<00:30,  1.23s/it]"
          ]
        },
        {
          "output_type": "stream",
          "name": "stdout",
          "text": [
            "epoch 474:  training loss:  0.2433951\n"
          ]
        },
        {
          "output_type": "stream",
          "name": "stderr",
          "text": [
            "\r 95%|█████████▌| 476/500 [10:10<00:29,  1.22s/it]"
          ]
        },
        {
          "output_type": "stream",
          "name": "stdout",
          "text": [
            "epoch 475:  training loss:  0.18192849\n"
          ]
        },
        {
          "output_type": "stream",
          "name": "stderr",
          "text": [
            "\r 95%|█████████▌| 477/500 [10:11<00:27,  1.20s/it]"
          ]
        },
        {
          "output_type": "stream",
          "name": "stdout",
          "text": [
            "epoch 476:  training loss:  0.13355829\n"
          ]
        },
        {
          "output_type": "stream",
          "name": "stderr",
          "text": [
            "\r 96%|█████████▌| 478/500 [10:12<00:26,  1.19s/it]"
          ]
        },
        {
          "output_type": "stream",
          "name": "stdout",
          "text": [
            "epoch 477:  training loss:  0.23058043\n"
          ]
        },
        {
          "output_type": "stream",
          "name": "stderr",
          "text": [
            "\r 96%|█████████▌| 479/500 [10:14<00:25,  1.20s/it]"
          ]
        },
        {
          "output_type": "stream",
          "name": "stdout",
          "text": [
            "epoch 478:  training loss:  0.22201945\n"
          ]
        },
        {
          "output_type": "stream",
          "name": "stderr",
          "text": [
            "\r 96%|█████████▌| 480/500 [10:15<00:24,  1.20s/it]"
          ]
        },
        {
          "output_type": "stream",
          "name": "stdout",
          "text": [
            "epoch 479:  training loss:  0.13543542\n",
            "epoch 480:  training loss:  0.11111928\n"
          ]
        },
        {
          "output_type": "stream",
          "name": "stderr",
          "text": [
            "\r 96%|█████████▌| 481/500 [10:17<00:26,  1.40s/it]"
          ]
        },
        {
          "output_type": "stream",
          "name": "stdout",
          "text": [
            "epoch 480:  training loss:  0.11111928 NDCG_validation:  0.3531883034877792\n"
          ]
        },
        {
          "output_type": "stream",
          "name": "stderr",
          "text": [
            "\r 96%|█████████▋| 482/500 [10:18<00:24,  1.35s/it]"
          ]
        },
        {
          "output_type": "stream",
          "name": "stdout",
          "text": [
            "epoch 481:  training loss:  0.122899964\n"
          ]
        },
        {
          "output_type": "stream",
          "name": "stderr",
          "text": [
            "\r 97%|█████████▋| 483/500 [10:19<00:22,  1.31s/it]"
          ]
        },
        {
          "output_type": "stream",
          "name": "stdout",
          "text": [
            "epoch 482:  training loss:  0.14709447\n"
          ]
        },
        {
          "output_type": "stream",
          "name": "stderr",
          "text": [
            "\r 97%|█████████▋| 484/500 [10:20<00:20,  1.28s/it]"
          ]
        },
        {
          "output_type": "stream",
          "name": "stdout",
          "text": [
            "epoch 483:  training loss:  0.19280599\n"
          ]
        },
        {
          "output_type": "stream",
          "name": "stderr",
          "text": [
            "\r 97%|█████████▋| 485/500 [10:22<00:18,  1.26s/it]"
          ]
        },
        {
          "output_type": "stream",
          "name": "stdout",
          "text": [
            "epoch 484:  training loss:  0.15597844\n"
          ]
        },
        {
          "output_type": "stream",
          "name": "stderr",
          "text": [
            "\r 97%|█████████▋| 486/500 [10:23<00:17,  1.24s/it]"
          ]
        },
        {
          "output_type": "stream",
          "name": "stdout",
          "text": [
            "epoch 485:  training loss:  0.17065498\n"
          ]
        },
        {
          "output_type": "stream",
          "name": "stderr",
          "text": [
            "\r 97%|█████████▋| 487/500 [10:24<00:16,  1.24s/it]"
          ]
        },
        {
          "output_type": "stream",
          "name": "stdout",
          "text": [
            "epoch 486:  training loss:  0.214751\n"
          ]
        },
        {
          "output_type": "stream",
          "name": "stderr",
          "text": [
            "\r 98%|█████████▊| 488/500 [10:25<00:14,  1.23s/it]"
          ]
        },
        {
          "output_type": "stream",
          "name": "stdout",
          "text": [
            "epoch 487:  training loss:  0.13204925\n"
          ]
        },
        {
          "output_type": "stream",
          "name": "stderr",
          "text": [
            "\r 98%|█████████▊| 489/500 [10:26<00:13,  1.24s/it]"
          ]
        },
        {
          "output_type": "stream",
          "name": "stdout",
          "text": [
            "epoch 488:  training loss:  0.15472972\n"
          ]
        },
        {
          "output_type": "stream",
          "name": "stderr",
          "text": [
            "\r 98%|█████████▊| 490/500 [10:28<00:12,  1.23s/it]"
          ]
        },
        {
          "output_type": "stream",
          "name": "stdout",
          "text": [
            "epoch 489:  training loss:  0.13967116\n",
            "epoch 490:  training loss:  0.14244536\n"
          ]
        },
        {
          "output_type": "stream",
          "name": "stderr",
          "text": [
            "\r 98%|█████████▊| 491/500 [10:30<00:12,  1.43s/it]"
          ]
        },
        {
          "output_type": "stream",
          "name": "stdout",
          "text": [
            "epoch 490:  training loss:  0.14244536 NDCG_validation:  0.3752854136487863\n"
          ]
        },
        {
          "output_type": "stream",
          "name": "stderr",
          "text": [
            "\r 98%|█████████▊| 492/500 [10:31<00:10,  1.36s/it]"
          ]
        },
        {
          "output_type": "stream",
          "name": "stdout",
          "text": [
            "epoch 491:  training loss:  0.16375926\n"
          ]
        },
        {
          "output_type": "stream",
          "name": "stderr",
          "text": [
            "\r 99%|█████████▊| 493/500 [10:32<00:09,  1.32s/it]"
          ]
        },
        {
          "output_type": "stream",
          "name": "stdout",
          "text": [
            "epoch 492:  training loss:  0.13221496\n"
          ]
        },
        {
          "output_type": "stream",
          "name": "stderr",
          "text": [
            "\r 99%|█████████▉| 494/500 [10:33<00:07,  1.28s/it]"
          ]
        },
        {
          "output_type": "stream",
          "name": "stdout",
          "text": [
            "epoch 493:  training loss:  0.122990176\n"
          ]
        },
        {
          "output_type": "stream",
          "name": "stderr",
          "text": [
            "\r 99%|█████████▉| 495/500 [10:34<00:06,  1.27s/it]"
          ]
        },
        {
          "output_type": "stream",
          "name": "stdout",
          "text": [
            "epoch 494:  training loss:  0.07694154\n"
          ]
        },
        {
          "output_type": "stream",
          "name": "stderr",
          "text": [
            "\r 99%|█████████▉| 496/500 [10:36<00:04,  1.25s/it]"
          ]
        },
        {
          "output_type": "stream",
          "name": "stdout",
          "text": [
            "epoch 495:  training loss:  0.06472449\n"
          ]
        },
        {
          "output_type": "stream",
          "name": "stderr",
          "text": [
            "\r 99%|█████████▉| 497/500 [10:37<00:03,  1.23s/it]"
          ]
        },
        {
          "output_type": "stream",
          "name": "stdout",
          "text": [
            "epoch 496:  training loss:  0.10083863\n"
          ]
        },
        {
          "output_type": "stream",
          "name": "stderr",
          "text": [
            "\r100%|█████████▉| 498/500 [10:38<00:02,  1.22s/it]"
          ]
        },
        {
          "output_type": "stream",
          "name": "stdout",
          "text": [
            "epoch 497:  training loss:  0.2019462\n"
          ]
        },
        {
          "output_type": "stream",
          "name": "stderr",
          "text": [
            "\r100%|█████████▉| 499/500 [10:39<00:01,  1.21s/it]"
          ]
        },
        {
          "output_type": "stream",
          "name": "stdout",
          "text": [
            "epoch 498:  training loss:  0.14249785\n"
          ]
        },
        {
          "output_type": "stream",
          "name": "stderr",
          "text": [
            "100%|██████████| 500/500 [10:40<00:00,  1.28s/it]"
          ]
        },
        {
          "output_type": "stream",
          "name": "stdout",
          "text": [
            "epoch 499:  training loss:  0.091748245\n"
          ]
        },
        {
          "output_type": "stream",
          "name": "stderr",
          "text": [
            "\n"
          ]
        },
        {
          "output_type": "stream",
          "name": "stdout",
          "text": [
            "\n",
            "ndcg_test:  0.403714523516313\n"
          ]
        },
        {
          "output_type": "display_data",
          "data": {
            "text/plain": [
              "<Figure size 432x288 with 1 Axes>"
            ],
            "image/png": "[encoded data removed]"
          },
          "metadata": {
            "needs_background": "light"
          }
        }
      ],
      "source": [
        "def train_base_recommendation():\n",
        "    losses_all=[]\n",
        "    ndcgs=[]\n",
        "    if gpu:\n",
        "        device = torch.device('cuda:%s' % cuda)\n",
        "    else:\n",
        "        device = 'cpu'\n",
        "    # Path(save_path).mkdir(parents=True, exist_ok=True)\n",
        "    # with open(os.path.join(save_path,dataset + \"_dataset_obj.pickle\"), 'wb') as outp:\n",
        "    #     pickle.dump(rec_dataset, outp, pickle.HIGHEST_PROTOCOL)\n",
        "\n",
        "    train_loader = DataLoader(dataset=UserItemInterDataset(rec_dataset.training_data, \n",
        "                                rec_dataset.user_feature_matrix, \n",
        "                                rec_dataset.item_feature_matrix),\n",
        "                          batch_size=batch_size,\n",
        "                          shuffle=True)\n",
        "\n",
        "    model = BaseRecModel(rec_dataset.feature_num).to(device)\n",
        "    loss_fn = torch.nn.BCELoss()\n",
        "    optimizer = torch.optim.SGD(model.parameters(), lr=lr, weight_decay=weight_decay)\n",
        "\n",
        "    out_path = os.path.join(\"./logs\", dataset + \"_logs\")\n",
        "    Path(out_path).mkdir(parents=True, exist_ok=True)\n",
        "\n",
        "    ndcg = compute_ndcg(rec_dataset.test_data, \n",
        "            rec_dataset.user_feature_matrix, \n",
        "            rec_dataset.item_feature_matrix, \n",
        "            rec_k, \n",
        "            model, \n",
        "            device)\n",
        "    print('init ndcg:', ndcg)\n",
        "    for epoch in tqdm.trange(epochs):\n",
        "        model.train()\n",
        "        optimizer.zero_grad()\n",
        "        losses = []\n",
        "        # print(len(train_loader))\n",
        "        for user_behaviour_feature, item_aspect_feature, label in train_loader:\n",
        "            user_behaviour_feature = user_behaviour_feature.to(device)\n",
        "            item_aspect_feature = item_aspect_feature.to(device)\n",
        "            label = label.float().to(device)\n",
        "            out = model(user_behaviour_feature, item_aspect_feature).squeeze()\n",
        "            if len(out.size())==0:\n",
        "              continue\n",
        "            # print(user_behaviour_feature)\n",
        "            # print( item_aspect_feature)\n",
        "            loss = loss_fn(out, label)\n",
        "            loss.backward()\n",
        "            optimizer.step()\n",
        "            optimizer.zero_grad()\n",
        "            losses.append(loss.to('cpu').detach().numpy())\n",
        "            ave_train = np.mean(np.array(losses))\n",
        "            losses_all.append(ave_train)\n",
        "        print('epoch %d: ' % epoch, 'training loss: ', ave_train)\n",
        "      \n",
        "        # compute necg\n",
        "        if epoch % 10 == 0:\n",
        "            ndcg = compute_ndcg(rec_dataset.test_data, \n",
        "            rec_dataset.user_feature_matrix, \n",
        "            rec_dataset.item_feature_matrix, \n",
        "            rec_k, \n",
        "            model, \n",
        "            device)\n",
        "            print('epoch %d: ' % epoch, 'training loss: ', ave_train, 'NDCG_validation: ', ndcg)\n",
        "\n",
        "            ndcgs.append(ndcg)\n",
        "    torch.save(model.state_dict(), os.path.join(save_path, \"model4.model\"))\n",
        "    ndcg_test = compute_ndcg(rec_dataset.test_data, \n",
        "            rec_dataset.user_feature_matrix, \n",
        "            rec_dataset.item_feature_matrix, \n",
        "            rec_k, \n",
        "            model, \n",
        "            device)\n",
        "    print('\\nndcg_test: ',ndcg_test)\n",
        "    # plt.xlabel('iterations')\n",
        "    # plt.ylabel('train_loss')\n",
        "    # plt.xticks(np.arange(0,len(losses_all),100))\n",
        "    # plt.plot(np.arange(0,len(losses_all)),losses_all)\n",
        "    # plt.show()\n",
        "\n",
        "    plt.xlabel('iterations')\n",
        "    plt.ylabel('validation_ndcg')\n",
        "    plt.xticks(np.arange(-2,len(ndcgs)+2,2))\n",
        "    plt.plot(np.arange(1,len(ndcgs)+1),ndcgs)\n",
        "    plt.show()\n",
        "    return rec_dataset\n",
        "\n",
        "\n",
        "if __name__ == \"__main__\":\n",
        "    torch.manual_seed(0)\n",
        "    np.random.seed(0)\n",
        "    if gpu:\n",
        "        os.environ[\"CUDA_VISIBLE_DEVICES\"] =cuda\n",
        "        print(\"Using CUDA\",cuda)\n",
        "    else:\n",
        "        print(\"Using CPU\")\n",
        "    rec_dataset=train_base_recommendation()"
      ]
    },
    {
      "cell_type": "code",
      "execution_count": null,
      "metadata": {
        "id": "4ucRyXRT4mzb"
      },
      "outputs": [],
      "source": [
        "dataset=\"cell_phones\"\n",
        "base_model_path=\"/content/drive/MyDrive/cell_phone/\"\n",
        "gpu=True\n",
        "cuda='0'\n",
        "data_obj_path=\"/content/drive/MyDrive/cell_phone/\"\n",
        "rec_k=5\n",
        "lam=100\n",
        "gam=0.7\n",
        "alp=0.2\n",
        "user_mask=False\n",
        "lr=0.4\n",
        "step=2000\n",
        "mask_thresh=0.3\n",
        "test_num=-1\n",
        "# save_path=\"./explanation_objs/\""
      ]
    },
    {
      "cell_type": "code",
      "execution_count": null,
      "metadata": {
        "id": "snwXLWLePEmC"
      },
      "outputs": [],
      "source": [
        "import torch\n",
        "import pickle\n",
        "import os\n",
        "from pathlib import Path"
      ]
    },
    {
      "cell_type": "markdown",
      "metadata": {
        "id": "IC_P_74iOR-T"
      },
      "source": [
        "# User Perspective Features"
      ]
    },
    {
      "cell_type": "code",
      "execution_count": null,
      "metadata": {
        "id": "j03L6H5PA4bK"
      },
      "outputs": [],
      "source": [
        "import json\n",
        "import nltk"
      ]
    },
    {
      "cell_type": "code",
      "execution_count": null,
      "metadata": {
        "colab": {
          "base_uri": "https://localhost:8080/"
        },
        "id": "o93FnpHX60cX",
        "outputId": "4d547f71-70e1-4f50-8fcc-ba4ae12cba82"
      },
      "outputs": [
        {
          "output_type": "stream",
          "name": "stderr",
          "text": [
            "[nltk_data] Downloading package wordnet to /root/nltk_data...\n",
            "[nltk_data] Downloading package stopwords to /root/nltk_data...\n",
            "[nltk_data]   Unzipping corpora/stopwords.zip.\n",
            "[nltk_data] Downloading package punkt to /root/nltk_data...\n",
            "[nltk_data]   Unzipping tokenizers/punkt.zip.\n",
            "[nltk_data] Downloading package averaged_perceptron_tagger to\n",
            "[nltk_data]     /root/nltk_data...\n",
            "[nltk_data]   Unzipping taggers/averaged_perceptron_tagger.zip.\n"
          ]
        }
      ],
      "source": [
        "nltk.download('wordnet')\n",
        "nltk.download('stopwords')\n",
        "nltk.download('punkt')\n",
        "nltk.download('averaged_perceptron_tagger')\n",
        "def lemmatization(text):\n",
        "    result=''\n",
        "    wordnet = WordNetLemmatizer()\n",
        "    for token,tag in pos_tag(text):\n",
        "        pos=tag[0].lower()\n",
        "        if pos not in ['a', 'r', 'n', 'v']:\n",
        "            pos='n'\n",
        "        # if pos in ['n','a']:   \n",
        "        result+=wordnet.lemmatize(token,pos)+' '\n",
        "    return result\n",
        "def remove_stopwords(text):\n",
        "    en_stopwords = stopwords.words('english')\n",
        "    en_stopwords+=['may','could','that','without','iii','with','and','This','That','Those','These','the','The','brbr','so','it','such']\n",
        "    result = []\n",
        "    for token in text:\n",
        "        if token not in en_stopwords:\n",
        "            result.append(token)\n",
        "            \n",
        "    return result\n",
        "def remove_punct(text):\n",
        "    tokenizer = RegexpTokenizer(r\"\\w+\")\n",
        "    lst=tokenizer.tokenize(' '.join(text))\n",
        "    return lst\n",
        "\n",
        "def remove_tag(text):\n",
        "    text=' '.join(text)\n",
        "    html_pattern = re.compile('<.*?>')\n",
        "    return html_pattern.sub(r'', text)\n",
        "def remove_urls(text):\n",
        "    url_pattern = re.compile(r'https?://\\S+|www\\.\\S+')\n",
        "    return url_pattern.sub(r'', text)\n",
        "\n",
        "def preprocess(text):\n",
        "  chars=['&','%','#','@','^','>','<','\\n','\\\\','\\t',';','\"','/']\n",
        "  stwords=stopwords.words('english')\n",
        "  for ch in chars:\n",
        "    text=text.replace(ch,' ')\n",
        "  text=\" \".join(text.split())\n",
        "  # text=text.lower()\n",
        "  text_tokenized=word_tokenize(text)\n",
        "  cleaned_text= remove_stopwords(text_tokenized)\n",
        "  cleaned_text= remove_punct(cleaned_text)\n",
        "  # cleaned_text=lemmatization(cleaned_text)\n",
        "  cleaned_text=remove_tag(cleaned_text)\n",
        "  cleaned_text=remove_urls(cleaned_text)\n",
        "  cleaned_text=''.join([i for i in cleaned_text ])\n",
        "  cleaned_text=[word for word in cleaned_text.split(' ') if len(word)>1]\n",
        "  # print(cleaned_text)\n",
        "  return ' '.join(cleaned_text)"
      ]
    },
    {
      "cell_type": "code",
      "execution_count": null,
      "metadata": {
        "id": "NtlEHpkN-lCe"
      },
      "outputs": [],
      "source": [
        "def preprocess_text_first(text):\n",
        "  while '<' in text and '>' in text and text.index('<')<text.index('>'):\n",
        "    toRemove=text[int(text.index('<')):int(text.index('>'))]+'>'\n",
        "    text=text.replace(toRemove,' ')\n",
        "  list_to_replace=['mso','gte','xml','false','#',',','!','-','\\'','\\\"','[',']','/','\\\\n','\\\\','span','a-size-base','a-color-secondary','input type','header name','value','=','<a href= javascript:void(0) class= ','{','}','class=','header','<a href= javascript:void(0)','<','>','href',')','(',';','quot','&',':','javascript']\n",
        "  for char in list_to_replace:\n",
        "    text=text.replace(char,' ')\n",
        "  for i in range(15):\n",
        "    text=text.replace('  ',' ')\n",
        "  # while 'if' in text and 'endif' in text and text.index('if')<text.index('endif'):\n",
        "  #   # print(int(text.index('if')),int(text.index('endif')))\n",
        "  #   toRemove=text[int(text.index('if')):int(text.index('endif'))]+'endif'\n",
        "  #   text=text.replace(toRemove,' ')\n",
        "  new_text=''\n",
        "  for word in text.split(' '):\n",
        "    if len(word)>1 and len(word)<35:\n",
        "      new_text+=word+' '\n",
        "  # new_text=lemmatization(new_text)\n",
        "  # print(new_text)\n",
        "  return new_text"
      ]
    },
    {
      "cell_type": "code",
      "execution_count": null,
      "metadata": {
        "colab": {
          "base_uri": "https://localhost:8080/"
        },
        "id": "dQRrvFS4cifS",
        "outputId": "a9570708-5858-4d57-fe5a-83db91965fd2"
      },
      "outputs": [
        {
          "output_type": "stream",
          "name": "stdout",
          "text": [
            "0\n",
            "5000\n",
            "10000\n",
            "15000\n",
            "20000\n",
            "25000\n",
            "30000\n",
            "35000\n"
          ]
        }
      ],
      "source": [
        "items_list1=[]\n",
        "users_list=[]\n",
        "review_features={}\n",
        "f=open(save_path+'Cell_Phones_and_Accessories')\n",
        "lines=f.readlines()\n",
        "i=0\n",
        "for line in lines:\n",
        "  if i%5000==0:\n",
        "    print(i)\n",
        "  i+=1\n",
        "  user_id = line.split('@')[0]\n",
        "  item_id = line.split('@')[1]\n",
        "  if item_id in items_list:\n",
        "    users_list.append(user_id)\n",
        "    items_list1.append(item_id)\n",
        "    l = len(user_id) + len(item_id)\n",
        "    fosr_data = line[l+3:]\n",
        "    for seg in fosr_data.split('||'):\n",
        "      if (user_id,item_id) not in review_features.keys():\n",
        "        review_features[(user_id,item_id)]=[]\n",
        "      fos = seg.split(':')[0].strip('|')\n",
        "      if len(fos.split('|')) > 1:\n",
        "            feature = fos.split('|')[0]\n",
        "            opinion = fos.split('|')[1]\n",
        "            sentiment = fos.split('|')[2]\n",
        "            sentence= seg.split(':')[1]\n",
        "            if sentiment=='+1':\n",
        "              senti=1\n",
        "            else:\n",
        "              senti=-1\n",
        "            review_features[(user_id,item_id)].append([feature,opinion,senti,sentence])"
      ]
    },
    {
      "cell_type": "code",
      "execution_count": null,
      "metadata": {
        "colab": {
          "base_uri": "https://localhost:8080/"
        },
        "id": "Vqg-cDlQFqIx",
        "outputId": "6ed63181-c4ed-4568-93e5-1670faac19c0"
      },
      "outputs": [
        {
          "output_type": "stream",
          "name": "stdout",
          "text": [
            "0\n",
            "5000\n",
            "10000\n",
            "15000\n"
          ]
        }
      ],
      "source": [
        "user_test_perspective={}\n",
        "i=0\n",
        "for (user_id , item_id) in review_features.keys():\n",
        "  review_feature=review_features[(user_id,item_id)]\n",
        "  if i%5000==0:\n",
        "    print(i)\n",
        "  i+=1\n",
        "  for features in review_feature:\n",
        "    sentence=features[3]\n",
        "    sentence=preprocess_text_first(sentence)\n",
        "    sentence=preprocess(sentence).lower()\n",
        "    if (user_id , item_id) not in user_test_perspective.keys():\n",
        "      final_vect=[]\n",
        "    final_vect+=sentence.split(' ')\n",
        "    for word in sentence.split(' '):\n",
        "      # tokens=list(set(df_words[df_words['word']==word]['tokenized'].values))\n",
        "      # for token in tokens:\n",
        "        final_vect+=word.split(' ')\n",
        "    final_vect=list(set(final_vect))\n",
        "    new_final_vect=[]\n",
        "    for word in final_vect:\n",
        "      if len(word)>1:\n",
        "        new_final_vect.append(word)\n",
        "    user_test_perspective[(user_id , item_id)]=new_final_vect"
      ]
    },
    {
      "cell_type": "code",
      "execution_count": null,
      "metadata": {
        "id": "W254L5obCgm6"
      },
      "outputs": [],
      "source": [
        "user_test_perspective"
      ]
    },
    {
      "cell_type": "code",
      "execution_count": null,
      "metadata": {
        "colab": {
          "base_uri": "https://localhost:8080/",
          "height": 35
        },
        "id": "cuVEpuvBde8T",
        "outputId": "f87a9d13-36eb-4bf7-afed-9aeabdd894c1"
      },
      "outputs": [
        {
          "data": {
            "application/vnd.google.colaboratory.intrinsic+json": {
              "type": "string"
            },
            "text/plain": [
              "'B00FL6ADNC'"
            ]
          },
          "execution_count": 95,
          "metadata": {},
          "output_type": "execute_result"
        }
      ],
      "source": [
        "rec_dataset.inv_item_name_dict[622]"
      ]
    },
    {
      "cell_type": "markdown",
      "metadata": {
        "id": "IdHtY0uTOppf"
      },
      "source": [
        "# Train Explaination Generator Model\n"
      ]
    },
    {
      "cell_type": "code",
      "execution_count": null,
      "metadata": {
        "id": "Bp4cMNYcPIFm"
      },
      "outputs": [],
      "source": [
        "temp_min =1.0\n",
        "ANNEAL_RATE = 0.00003\n",
        "class ExpOptimizationModel(torch.nn.Module):\n",
        "    def __init__(self, base_model, rec_dataset, device):\n",
        "        super(ExpOptimizationModel, self).__init__()\n",
        "        self.base_model = base_model\n",
        "        self.rec_dataset = rec_dataset\n",
        "        self.device = device\n",
        "        self.u_i_exp_dict = {}  # {(user, item): [f1, f2, f3 ...], ...}\n",
        "        self.user_feature_matrix = torch.from_numpy(self.rec_dataset.user_feature_matrix).to(self.device)\n",
        "        self.item_feature_matrix = torch.from_numpy(self.rec_dataset.item_feature_matrix).to(self.device)\n",
        "        self.rec_dict, self.user_perspective_test_data = self.generate_rec_dict()\n",
        "        self.dict_items_cf_feature={}\n",
        "\n",
        "    def generate_rec_dict(self):\n",
        "        rec_dict = {}\n",
        "        correct_rec_dict = {}  # used for user-side evaluation\n",
        "        for row in self.rec_dataset.test_data:\n",
        "            user = row[0]\n",
        "            items = row[1]\n",
        "            labels = row[2]\n",
        "            # print(labels)\n",
        "            # print(items)\n",
        "            correct_rec_dict[user] = []\n",
        "            user_features = self.user_feature_matrix[user].repeat(len(items), 1)\n",
        "            scores = self.base_model(user_features,\n",
        "                        self.item_feature_matrix[items]).squeeze()\n",
        "            scores = np.array(scores.to('cpu'))\n",
        "            sort_index = sorted(range(len(scores)), key=lambda k: scores[k], reverse=True)\n",
        "            \n",
        "            sorted_items = [items[i] for i in sort_index]\n",
        "            # print(sorted_items)\n",
        "            # print(np.sort(scores))\n",
        "            rec_dict[user] = sorted_items\n",
        "            for i in range(rec_k):  # find the correct items and add to the user side test data\n",
        "                if labels[sort_index[i]] == 1:\n",
        "                    correct_rec_dict[user].append(items[sort_index[i]])\n",
        "\n",
        "        user_perspective_test_data = {}  # {(u, i):f, (u, i): f]}\n",
        "        # for user, items in correct_rec_dict.items():\n",
        "        #     for item in items:\n",
        "        #         user_id=rec_dataset.inv_user_name_dict[user]\n",
        "        #         item_id=rec_dataset.inv_item_name_dict[item]\n",
        "        #         feature = user_test_perspective[(user_id, item_id)]\n",
        "        #         user_perspective_test_data[(user, item)] = feature\n",
        "        return rec_dict, user_perspective_test_data\n",
        "    def user_side_evaluation(self):\n",
        "        ave_pre, ave_rec, ave_f1 = evaluate_user_perspective(self.user_perspective_test_data, self.u_i_exp_dict)\n",
        "        print('user\\'s perspective:')\n",
        "        print('ave pre: ', ave_pre, '  ave rec: ', ave_rec, '  ave f1: ', ave_f1)\n",
        "        return ave_pre,ave_rec,ave_f1\n",
        "    \n",
        "    def model_side_evaluation(self):\n",
        "        ave_pn, ave_ps, ave_fns = evaluate_model_perspective(\n",
        "            self.rec_dict,\n",
        "            self.u_i_exp_dict,\n",
        "            self.base_model,\n",
        "            self.rec_dataset.user_feature_matrix,\n",
        "            self.rec_dataset.item_feature_matrix,\n",
        "            rec_k,\n",
        "            self.dict_items_cf_feature,\n",
        "            self.device)\n",
        "        print('model\\'s perspective:')\n",
        "        print('ave PN: ', ave_pn, '  ave PS: ', ave_ps, '  ave F_{NS}: ', ave_fns)  \n",
        "        return ave_pn , ave_ps , ave_fns\n",
        "    def generate_explanation(self,lr,temp,a,b,c):\n",
        "        # u_i_exps_dict = {}  # {(user, item): [f1, f2, f3 ...], ...}\n",
        "        exp_nums = []\n",
        "        exp_complexities = []\n",
        "        self.no_exp_count = 0\n",
        "        self.exp_count=0\n",
        "        if test_num == -1:\n",
        "            test_num1 = len(list(self.rec_dict.items()))\n",
        "        else:\n",
        "            test_num1 = test_num\n",
        "        count=0\n",
        "        for user, items in tqdm.tqdm(list(self.rec_dict.items())[:10]):\n",
        "            count+=1\n",
        "            # if count<200:\n",
        "            #   continue\n",
        "            # if count==2:\n",
        "            #   break\n",
        "            items = self.rec_dict[user]\n",
        "            margin_item = items[rec_k]\n",
        "            margin_score = self.base_model(self.user_feature_matrix[user].unsqueeze(0), \n",
        "                            self.item_feature_matrix[margin_item].unsqueeze(0)).squeeze()\n",
        "            # print(margin_score)\n",
        "            # if user_mask:\n",
        "            #     # mask_vec = self.generate_mask(user)\n",
        "            #     mask_vec = torch.where(self.user_feature_matrix[user]>0, 1., 0.).unsqueeze(0)  # only choose exps from the user cared aspects\n",
        "            # else:\n",
        "                \n",
        "            for item in items[: rec_k]:\n",
        "                if item in rec_dataset.inv_item_name_dict.keys():\n",
        "                  item_id=rec_dataset.inv_item_name_dict[item]\n",
        "            \n",
        "                  tensor_vect_desc,tensor_vect_title,tensor_vect_feature=get_tensor_vects(item_id)\n",
        "                  self.dict_items_cf_feature[item]=(tensor_vect_desc,tensor_vect_title,tensor_vect_feature)\n",
        "                  # print(tensor_vect_desc.shape)\n",
        "                  # print(tensor_vect_title.shape)\n",
        "                  # print(tensor_vect_feature.shape)\n",
        "                  # feature_length,features=get_features(item)\n",
        "                  # replaced_words,replaced_vects,logits_tensor,words_indices=get_replaced_words_vects(rec_dataset.inv_item_name_dict[item])\n",
        "                  # print(len(words_indices) ,len(features))\n",
        "\n",
        "                  explanation_features_words,explanation_features_words_replaced, exp_num = self.explain(user,item,\n",
        "                      self.user_feature_matrix[user], \n",
        "                      self.item_feature_matrix[item], \n",
        "                      margin_score,\n",
        "                      tensor_vect_desc,tensor_vect_title,tensor_vect_feature,lr, temp,a,b,c)\n",
        "                  \n",
        "                  if explanation_features_words==None or len(explanation_features_words)==0:\n",
        "                      # print('no explanation for user %d and item %d' % (user, item))\n",
        "                      self.no_exp_count += 1\n",
        "                  else:\n",
        "                      self.exp_count+=1\n",
        "                      self.u_i_exp_dict[(user, item)] = (explanation_features_words,explanation_features_words_replaced)\n",
        "                      # print(explanation_features_words)\n",
        "                      exp_nums.append(exp_num)\n",
        "              \n",
        "                    # exp_complexities.append(exp_complexity)\n",
        "            # if count%500==0:\n",
        "            #   json1 = json.dumps(self.u_i_exp_dict)\n",
        "            #   f = open(\"drive/MyDrive/ranjbar/dict{}.json\".format(count),\"w\")\n",
        "            #   f.write(json1)\n",
        "            #   f.close()\n",
        "\n",
        "              \n",
        "        print('ave num: ', np.mean(exp_nums),  'no_exp_count: ', self.no_exp_count, 'exp_count: ', self.exp_count)\n",
        "        return  np.mean(exp_nums), self.no_exp_count,  self.exp_count\n",
        "    \n",
        "    def explain(self,user,item, user_feature, item_feature, margin_score,tensor_vect_desc,tensor_vect_title,tensor_vect_feature , lr, temp,a, b, c):\n",
        "        self.exp_generator = EXPGenerator(\n",
        "            self.rec_dataset, \n",
        "            self.base_model, \n",
        "            user_feature, \n",
        "            item_feature, \n",
        "            user,\n",
        "            item,\n",
        "            margin_score,\n",
        "            tensor_vect_desc,tensor_vect_title, tensor_vect_feature,\n",
        "            self.device).to(self.device)\n",
        "        # optimization\n",
        "        optimizer = torch.optim.SGD(self.exp_generator.parameters(), lr=lr, weight_decay=0)\n",
        "        self.exp_generator.train()\n",
        "        lowest_loss = None\n",
        "        lowest_bpr = None\n",
        "        optimize_pi = None\n",
        "        # temp=1.0\n",
        "        score = self.exp_generator(temp)\n",
        "        # print(score)\n",
        "        bpr, l1,prob_loss, loss = self.exp_generator.loss(a,b,c,score)\n",
        "        # print('init: ', 0, '  train loss: ', loss, '  bpr: ', bpr, '  l2: ', l2, '  l1: ', l1)\n",
        "        lowest_loss = loss\n",
        "        lowest_bpr=bpr\n",
        "        optimize_pi = self.exp_generator.pi\n",
        "        for epoch in range(step):\n",
        "            self.exp_generator.zero_grad()\n",
        "            score = self.exp_generator(temp)\n",
        "            bpr, l1,prob_loss, loss = self.exp_generator.loss(a,b,c,score)\n",
        "            if epoch %10==0:\n",
        "               temp = np.minimum(temp * np.exp(-ANNEAL_RATE * epoch), temp)\n",
        "            # if epoch %100 == 0:\n",
        "            #    print(\n",
        "            #         'temp',temp,\n",
        "            #         'epoch', epoch,\n",
        "            #         'bpr: ', bpr,\n",
        "            #         'loss', loss,\n",
        "            #         'prob_loss', prob_loss,\n",
        "            #          'l1',l1\n",
        "            #          )\n",
        "\n",
        "            loss.backward(retain_graph=True)\n",
        "            # bpr.backward(retain_graph=True)\n",
        "            # l1.backward(retain_graph=True)\n",
        "\n",
        "            optimizer.step()\n",
        "            if loss < lowest_loss:\n",
        "                lowest_loss = loss\n",
        "                lowest_bpr = bpr\n",
        "                optimize_pi =self.exp_generator.pi\n",
        "        # print(lowest_bpr)\n",
        "        # print(lam * alp)\n",
        "        # print(optimize_delta)\n",
        "        if lowest_bpr >= a * alp:\n",
        "            explanation_features = None \n",
        "            exp_num = None\n",
        "            exp_complexity = None\n",
        "            explanation_features_words=None\n",
        "            explanation_features_words_replaced=None\n",
        "        else:\n",
        "            # optimize_delta = exp_generator.delta.detach().to('cpu').numpy()\n",
        "            # print(optimize_delta)\n",
        "            # explanation_features = np.argwhere(optimize_delta < - mask_thresh).squeeze(axis=1)\n",
        "            main_features=self.exp_generator.features\n",
        "            new_features_inds=torch.argmax(optimize_pi,axis=1)\n",
        "            # print(torch.sort(optimize_pi))\n",
        "            # print(torch.sort(exp_generator.pi))\n",
        "            # print(torch.sort(exp_generator.main_pi))\n",
        "            new_features=[self.exp_generator.replaced_words[i] for i in new_features_inds]\n",
        "            # print(main_features)\n",
        "            # print(new_features)\n",
        "            explanation_features_words= [main_features[i] for i in range(len(main_features)) if main_features[i] != new_features[i]]\n",
        "            explanation_features_words_replaced=[new_features[i] for i in range(len(main_features)) if main_features[i] != new_features[i]]\n",
        "            # print([main_features[i].tolist() for i in explanation_features_inds[0]])\n",
        "            # print(new_features[explanation_features_inds[0]])\n",
        "            # print(main_features[explanation_features_inds[0]])\n",
        "            \n",
        "            # explanation_features_words=main_features[explanation_features_inds[0]]\n",
        "            # print(explanation_features_words)\n",
        "            # print(explanation_features_words_replaced)\n",
        "            # print('-------------\\n')\n",
        "            new_vect=[]\n",
        "            for word in explanation_features_words:\n",
        "              new_vect+=(str(word).split(' '))\n",
        "            new_vect=list(set(new_vect))\n",
        "            new_vect=[word for word in new_vect if len(word)>1]\n",
        "            explanation_features_words=new_vect\n",
        "            exp_num = len(explanation_features_words)\n",
        "            # exp_complexity = lowest_l2.to('cpu').detach().numpy() + gam * exp_num\n",
        "        return explanation_features_words,explanation_features_words_replaced, exp_num\n",
        "    \n"
      ]
    },
    {
      "cell_type": "code",
      "execution_count": null,
      "metadata": {
        "id": "vX0E2BXY4EBH"
      },
      "outputs": [],
      "source": [
        "def get_tensor_vect_df(df,not_in_columns):\n",
        "  df['main_word']=np.where(df['replaced_word'] == df[not_in_columns],1,0)\n",
        "  df=df[df['main_word']==1]\n",
        "  lists=df.loc[:, ~df.columns.isin([not_in_columns,'replaced_word','logit','main_word'])].values\n",
        "  words=df[not_in_columns].values\n",
        "  # print(words)\n",
        "  vects=[sub_list[0] for sub_list in lists]\n",
        "  tensor_vect=torch.FloatTensor(vects).to(device)\n",
        "  return tensor_vect"
      ]
    },
    {
      "cell_type": "code",
      "execution_count": null,
      "metadata": {
        "id": "jyzyAFFI28Va"
      },
      "outputs": [],
      "source": [
        "def get_tensor_vects(item_id):\n",
        "  tensor_vect_desc=None\n",
        "  tensor_vect_title=None\n",
        "  tensor_vect_feature=None\n",
        "  # print(item_id)\n",
        "  if os.path.exists(save_path+'description_bert/'+'df_bert_desc_{}.json'.format(item_id)) :\n",
        "    df_vect_desc= pd.read_json(save_path+'description_bert/'+'df_bert_desc_{}.json'.format(item_id))\n",
        "    # df_vect_desc=df_vect[0]\n",
        "    tensor_vect_desc=get_tensor_vect_df(df_vect_desc,'description_words')\n",
        "\n",
        "    df_vect_title= pd.read_json(save_path+'title_bert/'+'df_bert_title_{}.json'.format(item_id))\n",
        "    # df_vect_title=df_vect[1]\n",
        "    tensor_vect_title=get_tensor_vect_df(df_vect_title,'title_words')\n",
        "\n",
        "    df_vect_feature= pd.read_json(save_path+'feature_bert/'+'df_bert_feature_{}.json'.format(item_id))\n",
        "    # # df_vect_feature=df_vect[2]\n",
        "    tensor_vect_feature=get_tensor_vect_df(df_vect_feature,'feature_words')\n",
        "  # print(tensor_vect_feature)\n",
        "  return tensor_vect_desc,tensor_vect_title,tensor_vect_feature"
      ]
    },
    {
      "cell_type": "code",
      "execution_count": null,
      "metadata": {
        "id": "okThcrd-kPZ2"
      },
      "outputs": [],
      "source": [
        "rec_dataset.inv_item_name_dict"
      ]
    },
    {
      "cell_type": "code",
      "execution_count": null,
      "metadata": {
        "id": "P6o-et3EvqQ9"
      },
      "outputs": [],
      "source": [
        "def get_features(item):\n",
        "  item_features=rec_dataset.item_features[item]\n",
        "  len_features=0\n",
        "  features=[]\n",
        "  for i in range(3):\n",
        "    len_features+=len(item_features[i])\n",
        "    features+=item_features[i]\n",
        "  # for key in item_features[3]:\n",
        "  #   len_features+=len(item_features[3][key])\n",
        "  #   features+=item_features[3][key]\n",
        "  # features+=item_features[3]\n",
        "  # len_features+=1\n",
        "  # print(len_features)\n",
        "  # print(features)\n",
        "  return len_features,features"
      ]
    },
    {
      "cell_type": "code",
      "execution_count": null,
      "metadata": {
        "id": "kOAF1788-HK6"
      },
      "outputs": [],
      "source": [
        "def get_average_vect_test(weights,tensor_vect):\n",
        "  # weights=torch.FloatTensor(weights).to(device)\n",
        "  weights=torch.transpose(weights.repeat(tensor_vect.shape[1],1),0,1)\n",
        "  average=torch.mean(weights*tensor_vect,axis=0).to(device)\n",
        "  return average"
      ]
    },
    {
      "cell_type": "code",
      "execution_count": null,
      "metadata": {
        "id": "NHxwk9Rm-HK8"
      },
      "outputs": [],
      "source": [
        "def get_new_item_vector2(item,item_feature_name,new_weights,tensor_vect_desc,tensor_vect_title,tensor_vect_feature):\n",
        "    # item_id= rec_dataset.inv_item_name_dict[item]\n",
        "    final_vector=[]\n",
        "    # print(len(new_weights))\n",
        "    # print(len(item_feature_name[0]))\n",
        "    # print(tensor_vect_desc.shape)\n",
        "    average_vect_desc=get_average_vect_test(new_weights[0:len(item_feature_name[0])],tensor_vect_desc)\n",
        "    average_vect_title=get_average_vect_test(new_weights[len(item_feature_name[0]):len(item_feature_name[0])+len(item_feature_name[1])],tensor_vect_title)\n",
        "    average_vect_feature=get_average_vect_test(new_weights[len(item_feature_name[0])+len(item_feature_name[1]):],tensor_vect_feature)\n",
        "    # rank=normalized_rank[item_id]*new_weights[-1]\n",
        "    final_vector=torch.cat((average_vect_desc,average_vect_title,average_vect_feature))\n",
        "    # print(len(final_vector))\n",
        "    # final_vect=np.array(final_vector, dtype='float32')\n",
        "    return final_vector"
      ]
    },
    {
      "cell_type": "code",
      "execution_count": null,
      "metadata": {
        "id": "Hjd28mVPv-k3"
      },
      "outputs": [],
      "source": [
        "def get_new_item_vector(replaced_vects,item,item_feature_name,pi):\n",
        "    # print(pi.shape)\n",
        "    # print(replaced_vects)\n",
        "    # print(pi)\n",
        "    final_vector=torch.mm(pi,replaced_vects)\n",
        "    desc_vect=final_vector[0:len(item_feature_name[0])]\n",
        "    # print(desc_vect.shape)\n",
        "    title_vect=final_vector[len(item_feature_name[0]):len(item_feature_name[0])+len(item_feature_name[1])]\n",
        "    features_vect=final_vector[len(item_feature_name[0])+len(item_feature_name[1]):]\n",
        "    if len(title_vect)>0:\n",
        "      average_title=torch.mean(title_vect,axis=0).to(device)\n",
        "    else:\n",
        "      average_title=torch.zeros(768).to(device)\n",
        "    if len(features_vect)>0:  \n",
        "      average_features=torch.mean(features_vect,axis=0).to(device)\n",
        "    else:\n",
        "      average_features=torch.zeros(768).to(device)\n",
        "    if len(desc_vect)>0:\n",
        "      average_descriptions=torch.mean(desc_vect,axis=0).to(device)\n",
        "    else:\n",
        "      average_descriptions=torch.zeros(768).to(device)\n",
        "    final_vector=torch.cat((average_descriptions,average_title,average_features))\n",
        "    # print(final_vector)\n",
        "    # final_vect=np.array(final_vector, dtype='float32')\n",
        "    return final_vector"
      ]
    },
    {
      "cell_type": "code",
      "source": [
        "!pip install transformers"
      ],
      "metadata": {
        "colab": {
          "base_uri": "https://localhost:8080/"
        },
        "id": "pHAlXlmQI9Py",
        "outputId": "099dffb1-5d27-4090-c7c5-b591c2f9b2eb"
      },
      "execution_count": null,
      "outputs": [
        {
          "output_type": "stream",
          "name": "stdout",
          "text": [
            "Looking in indexes: https://pypi.org/simple, https://us-python.pkg.dev/colab-wheels/public/simple/\n",
            "Collecting transformers\n",
            "  Downloading transformers-4.26.0-py3-none-any.whl (6.3 MB)\n",
            "\u001b[2K     \u001b[90m━━━━━━━━━━━━━━━━━━━━━━━━━━━━━━━━━━━━━━━━\u001b[0m \u001b[32m6.3/6.3 MB\u001b[0m \u001b[31m85.9 MB/s\u001b[0m eta \u001b[36m0:00:00\u001b[0m\n",
            "\u001b[?25hCollecting tokenizers!=0.11.3,<0.14,>=0.11.1\n",
            "  Downloading tokenizers-0.13.2-cp38-cp38-manylinux_2_17_x86_64.manylinux2014_x86_64.whl (7.6 MB)\n",
            "\u001b[2K     \u001b[90m━━━━━━━━━━━━━━━━━━━━━━━━━━━━━━━━━━━━━━━━\u001b[0m \u001b[32m7.6/7.6 MB\u001b[0m \u001b[31m52.0 MB/s\u001b[0m eta \u001b[36m0:00:00\u001b[0m\n",
            "\u001b[?25hRequirement already satisfied: tqdm>=4.27 in /usr/local/lib/python3.8/dist-packages (from transformers) (4.64.1)\n",
            "Requirement already satisfied: filelock in /usr/local/lib/python3.8/dist-packages (from transformers) (3.9.0)\n",
            "Collecting huggingface-hub<1.0,>=0.11.0\n",
            "  Downloading huggingface_hub-0.12.0-py3-none-any.whl (190 kB)\n",
            "\u001b[2K     \u001b[90m━━━━━━━━━━━━━━━━━━━━━━━━━━━━━━━━━━━━━━\u001b[0m \u001b[32m190.3/190.3 KB\u001b[0m \u001b[31m22.9 MB/s\u001b[0m eta \u001b[36m0:00:00\u001b[0m\n",
            "\u001b[?25hRequirement already satisfied: requests in /usr/local/lib/python3.8/dist-packages (from transformers) (2.25.1)\n",
            "Requirement already satisfied: pyyaml>=5.1 in /usr/local/lib/python3.8/dist-packages (from transformers) (6.0)\n",
            "Requirement already satisfied: packaging>=20.0 in /usr/local/lib/python3.8/dist-packages (from transformers) (21.3)\n",
            "Requirement already satisfied: numpy>=1.17 in /usr/local/lib/python3.8/dist-packages (from transformers) (1.21.6)\n",
            "Requirement already satisfied: regex!=2019.12.17 in /usr/local/lib/python3.8/dist-packages (from transformers) (2022.6.2)\n",
            "Requirement already satisfied: typing-extensions>=3.7.4.3 in /usr/local/lib/python3.8/dist-packages (from huggingface-hub<1.0,>=0.11.0->transformers) (4.4.0)\n",
            "Requirement already satisfied: pyparsing!=3.0.5,>=2.0.2 in /usr/local/lib/python3.8/dist-packages (from packaging>=20.0->transformers) (3.0.9)\n",
            "Requirement already satisfied: idna<3,>=2.5 in /usr/local/lib/python3.8/dist-packages (from requests->transformers) (2.10)\n",
            "Requirement already satisfied: certifi>=2017.4.17 in /usr/local/lib/python3.8/dist-packages (from requests->transformers) (2022.12.7)\n",
            "Requirement already satisfied: chardet<5,>=3.0.2 in /usr/local/lib/python3.8/dist-packages (from requests->transformers) (4.0.0)\n",
            "Requirement already satisfied: urllib3<1.27,>=1.21.1 in /usr/local/lib/python3.8/dist-packages (from requests->transformers) (1.24.3)\n",
            "Installing collected packages: tokenizers, huggingface-hub, transformers\n",
            "Successfully installed huggingface-hub-0.12.0 tokenizers-0.13.2 transformers-4.26.0\n"
          ]
        }
      ]
    },
    {
      "cell_type": "code",
      "source": [
        "from transformers import AutoConfig, AutoTokenizer, AutoModel\n",
        "import torch\n",
        "config = AutoConfig.from_pretrained(\"bert-base-uncased\")\n",
        "tokenizer = AutoTokenizer.from_pretrained(\"bert-base-uncased\")\n",
        "model = AutoModel.from_pretrained(\"bert-base-uncased\").to(device)"
      ],
      "metadata": {
        "colab": {
          "base_uri": "https://localhost:8080/",
          "height": 250,
          "referenced_widgets": [
            "2bf09af76bee440cb9d80861863161c8",
            "9c9045bf5e65465cad9423d32ac318f1",
            "5888f754a7ef40b794358564f2e91075",
            "7b47af07616f47289ccbe8be4a8f18bf",
            "24a54d0d74d54ad092a8633938015f65",
            "55c456a7c0424323be3bd55627ba3c1f",
            "2059e1db5f2c414db6cd2f357bcb2787",
            "ccd519e638bf424f8d30e63262c73c1e",
            "f7c891fa3a6a41138f6cb8aee5243268",
            "3d0f7c3308494319bf94bc4abcae11b4",
            "a0553a4938514a998b791b947c01b8fb",
            "7971992af61040f89ea2d442805966a2",
            "941401980d074ea3853bbf6076fa8d83",
            "07d48641efe948c2b39f8a7edcd3b884",
            "243304c0354f4489bb38d2f68d9edc0a",
            "17bca7bf65a743d7815d53d16718f7fd",
            "a91a5fdcd94245bbb2084791879767fb",
            "e7fc3894c04f4eb7910d67ecef2d2eea",
            "371e47e50baf49d08fd0655965e6e606",
            "90eefdcbda914e328b8ef22acc3310a4",
            "b6ef247b79bf4f8b8b0dd0497ce08edc",
            "3c9285ba68ce47e585e97a71bbd02506",
            "a0b9edca3be34d4c85f5d0e13817c52b",
            "615f2f6f857942a7a1ad5ecd9e539a3a",
            "5dbc963408274e5d924e4d9b62404409",
            "c9bb1d43878f4b4d91c8225c40933948",
            "9594bd9b411e421ab12111a18d039e9a",
            "3dc76df0ac994eddbd978755a1865938",
            "5126bdef6d73482cb89ce3ff6cd89ae8",
            "6db9ca0bcc45433b8eb9b43e34974444",
            "d3570ce566f54c3e91403d8aefdec915",
            "f856b225063842928a64d00fac745b4c",
            "2769e1f672b84eb38d03c4f0777c6cd1",
            "905bd5b58c554aa5afc39468fc93c293",
            "10b6b6ba3f3f4989841a807a7bd11de2",
            "d0e133b9c53d4fefbb5749d6ee3164b7",
            "7d542e55e6a8423383c03a166a2c33ea",
            "703ec98538b04f86b101670e4d48236d",
            "4e6e4ec37b07458c8bd1952fc11f7bbd",
            "0eb27c7fc9844ac48ae61390aabf68be",
            "49ccbf130c8447a08ee98ef0939f5c13",
            "0fa23cd503da44deba6be8487b251ea6",
            "d052516b8a2b43e4ab40c16e3582e60f",
            "14e8bec56627450b81273ac2cdc0b7ad",
            "398bbe917acd4ceab4f542f4348c02ea",
            "bf98368573584ee1b9fb4fee830dc653",
            "554852f84fdc4bdf86c2594c6b87fb93",
            "0e66698562414319bdb502c75aa4e857",
            "45102e6bb63e40b39010db3684da8a4a",
            "83c951798f6643fe933bfdac2ce4e7d9",
            "979a57d653e6440aa0cf0eb9a76d6fbd",
            "ecf5307e90804288aba2288c7dade27b",
            "fcfaf10c6cb3463bb9e30e4e26fce03c",
            "edad2e7d0dd249aa97ed61e181b2f16d",
            "e76472d314a248b0a4935e3b38bcf34d"
          ]
        },
        "id": "qTqhE3yYJAKX",
        "outputId": "d4c77b14-1a18-4995-cdca-51d256707682"
      },
      "execution_count": null,
      "outputs": [
        {
          "output_type": "display_data",
          "data": {
            "text/plain": [
              "Downloading (…)lve/main/config.json:   0%|          | 0.00/570 [00:00<?, ?B/s]"
            ],
            "application/vnd.jupyter.widget-view+json": {
              "version_major": 2,
              "version_minor": 0,
              "model_id": "2bf09af76bee440cb9d80861863161c8"
            }
          },
          "metadata": {}
        },
        {
          "output_type": "display_data",
          "data": {
            "text/plain": [
              "Downloading (…)okenizer_config.json:   0%|          | 0.00/28.0 [00:00<?, ?B/s]"
            ],
            "application/vnd.jupyter.widget-view+json": {
              "version_major": 2,
              "version_minor": 0,
              "model_id": "7971992af61040f89ea2d442805966a2"
            }
          },
          "metadata": {}
        },
        {
          "output_type": "display_data",
          "data": {
            "text/plain": [
              "Downloading (…)solve/main/vocab.txt:   0%|          | 0.00/232k [00:00<?, ?B/s]"
            ],
            "application/vnd.jupyter.widget-view+json": {
              "version_major": 2,
              "version_minor": 0,
              "model_id": "a0b9edca3be34d4c85f5d0e13817c52b"
            }
          },
          "metadata": {}
        },
        {
          "output_type": "display_data",
          "data": {
            "text/plain": [
              "Downloading (…)/main/tokenizer.json:   0%|          | 0.00/466k [00:00<?, ?B/s]"
            ],
            "application/vnd.jupyter.widget-view+json": {
              "version_major": 2,
              "version_minor": 0,
              "model_id": "905bd5b58c554aa5afc39468fc93c293"
            }
          },
          "metadata": {}
        },
        {
          "output_type": "display_data",
          "data": {
            "text/plain": [
              "Downloading (…)\"pytorch_model.bin\";:   0%|          | 0.00/440M [00:00<?, ?B/s]"
            ],
            "application/vnd.jupyter.widget-view+json": {
              "version_major": 2,
              "version_minor": 0,
              "model_id": "398bbe917acd4ceab4f542f4348c02ea"
            }
          },
          "metadata": {}
        },
        {
          "output_type": "stream",
          "name": "stderr",
          "text": [
            "Some weights of the model checkpoint at bert-base-uncased were not used when initializing BertModel: ['cls.predictions.bias', 'cls.predictions.transform.LayerNorm.weight', 'cls.seq_relationship.bias', 'cls.seq_relationship.weight', 'cls.predictions.decoder.weight', 'cls.predictions.transform.dense.bias', 'cls.predictions.transform.dense.weight', 'cls.predictions.transform.LayerNorm.bias']\n",
            "- This IS expected if you are initializing BertModel from the checkpoint of a model trained on another task or with another architecture (e.g. initializing a BertForSequenceClassification model from a BertForPreTraining model).\n",
            "- This IS NOT expected if you are initializing BertModel from the checkpoint of a model that you expect to be exactly identical (initializing a BertForSequenceClassification model from a BertForSequenceClassification model).\n"
          ]
        }
      ]
    },
    {
      "cell_type": "code",
      "source": [
        "def get_initialized_teta(features,len_words,words_indices,val):\n",
        "  init_teta=torch.zeros(len(features), len_words)\n",
        "  indices = torch.arange(init_teta.size(0)).long()\n",
        "  init_teta[indices, torch.LongTensor(words_indices)] =val\n",
        "  init_teta = init_teta.to(device)\n",
        "  init_teta.requires_grad = True\n",
        "  return init_teta"
      ],
      "metadata": {
        "id": "A4BDXqXzMbji"
      },
      "execution_count": null,
      "outputs": []
    },
    {
      "cell_type": "code",
      "source": [
        "def get_all_logits(len_features,df_desc,df_title, df_feature,main_words):\n",
        "  len_words=len(main_words[0])+len(main_words[1])+len(main_words[2])\n",
        "  all_logits=np.zeros((len_words,len_features))\n",
        "  j=0\n",
        "  len_desc=0\n",
        "  for i, row in df_desc.iterrows():\n",
        "    len_desc+=1\n",
        "    if row['description_words'] != main_words[0][j]:\n",
        "      j+=1\n",
        "    all_logits[j][i]=row['logit']\n",
        "  \n",
        "  k=j+1\n",
        "  j=0\n",
        "  len_title=0\n",
        "  for i, row in df_title.iterrows():\n",
        "    len_title+=1\n",
        "    if row['title_words'] != main_words[1][j]:\n",
        "      k+=1\n",
        "      j+=1\n",
        "    all_logits[k][i+len_desc]=row['logit']\n",
        "\n",
        "  j=0\n",
        "  k+=1\n",
        "  for i, row in df_feature.iterrows():\n",
        "    if row['feature_words']!= main_words[2][j]:\n",
        "      k+=1\n",
        "      j+=1\n",
        "    all_logits[k][i+len_desc+len_title]=row['logit']\n",
        "\n",
        "  # print(all_logits[-4])\n",
        "  return all_logits"
      ],
      "metadata": {
        "id": "Eu5UAdCCSKlb"
      },
      "execution_count": null,
      "outputs": []
    },
    {
      "cell_type": "code",
      "source": [
        "def get_replaced_words_vects(item_id):\n",
        "    replaced_words=[]\n",
        "    replaced_logits=[]\n",
        "    replaced_vects=[]\n",
        "    words_indices=[]\n",
        "    main_words=[]\n",
        "    final_logits_tensor=[]\n",
        "    i=0\n",
        "    # print(save_path+'description_bert/'+'df_bert_desc_{}.json'.format(item_id))\n",
        "    if os.path.exists(save_path+'description_bert/'+'df_bert_desc_{}.json'.format(item_id)):\n",
        "      df_vect_desc_item= pd.read_json(save_path+'description_bert/'+'df_bert_desc_{}.json'.format(item_id))\n",
        "      df_vect_title_item= pd.read_json(save_path+'title_bert/'+'df_bert_title_{}.json'.format(item_id))\n",
        "      df_vect_feature_item= pd.read_json(save_path+'feature_bert/'+'df_bert_feature_{}.json'.format(item_id))\n",
        "\n",
        "      replaced_words_desc=df_vect_desc_item['replaced_word'].values\n",
        "      replaced_words_title=df_vect_title_item['replaced_word'].values\n",
        "      replaced_words_feature=df_vect_feature_item['replaced_word'].values\n",
        "\n",
        "      vects_desc=df_vect_desc_item['description_vects'].values\n",
        "      vects_title=df_vect_title_item['title_vects'].values\n",
        "      vects_feature=df_vect_feature_item['feature_vects'].values\n",
        "\n",
        "      replaced_words=list(replaced_words_desc)\n",
        "      replaced_words+=list(replaced_words_title)\n",
        "      replaced_words+=list(replaced_words_feature)\n",
        "\n",
        "      vects1=[sub_list for sub_list in  vects_desc]\n",
        "      replaced_vects=vects1\n",
        "      vects2=[sub_list for sub_list in  vects_title]\n",
        "      replaced_vects+=vects2\n",
        "      vects3=[sub_list for sub_list in  vects_feature]\n",
        "      replaced_vects+=vects3\n",
        "      replaced_vects=torch.FloatTensor(replaced_vects).to(device)\n",
        "\n",
        "      df_vect_desc_item['main_word']=np.where(df_vect_desc_item['replaced_word'] == df_vect_desc_item['description_words'],1,0)\n",
        "      indexes=df_vect_desc_item[df_vect_desc_item['main_word']==1].index\n",
        "      main_words.append(list(df_vect_desc_item[df_vect_desc_item['main_word']==1]['description_words'].values))\n",
        "      for ind in indexes:\n",
        "        words_indices.append(i+ind)\n",
        "      i=df_vect_desc_item.shape[0]\n",
        "\n",
        "      df_vect_title_item['main_word']=np.where(df_vect_title_item['replaced_word'] == df_vect_title_item['title_words'],1,0)\n",
        "      indexes=df_vect_title_item[df_vect_title_item['main_word']==1].index\n",
        "      main_words.append(list(df_vect_title_item[df_vect_title_item['main_word']==1]['title_words'].values))\n",
        "      for ind in indexes:\n",
        "        words_indices.append(i+ind)\n",
        "      i=df_vect_desc_item.shape[0]+df_vect_title_item.shape[0]\n",
        "\n",
        "      df_vect_feature_item['main_word']=np.where(df_vect_feature_item['replaced_word'] == df_vect_feature_item['feature_words'],1,0)\n",
        "      indexes=df_vect_feature_item[df_vect_feature_item['main_word']==1].index\n",
        "      main_words.append(list(df_vect_feature_item[df_vect_feature_item['main_word']==1]['feature_words'].values))\n",
        "      for ind in indexes:\n",
        "        words_indices.append(i+ind)\n",
        "      \n",
        "      # print(item_id)\n",
        "      # print(main_words)\n",
        "      # print(replaced_words)\n",
        "      # print(words_indices)\n",
        "      # flatList = [ item for elem in main_words for item in elem]\n",
        "      # i=0\n",
        "      # for ind in words_indices:\n",
        "      #   print(flatList[i],replaced_words[ind])\n",
        "      #   i+=1\n",
        "      # print(len(replaced_words))\n",
        "      # print(len(words_indices))\n",
        "      replaced_logits= get_all_logits(len(replaced_words),df_vect_desc_item,df_vect_title_item, df_vect_feature_item,main_words)\n",
        "      final_logits_tensor=torch.FloatTensor(replaced_logits).to(device)\n",
        "    return replaced_words,replaced_vects,final_logits_tensor,words_indices"
      ],
      "metadata": {
        "id": "npMlwCb7PKaI"
      },
      "execution_count": null,
      "outputs": []
    },
    {
      "cell_type": "code",
      "source": [
        "q =[[0,1,2],[3,0,4],[5,6,0]]\n",
        "tense_tensor = torch.tensor(q)\n",
        "print(torch.where(tense_tensor==0,torch.tensor(-1),tense_tensor))"
      ],
      "metadata": {
        "colab": {
          "base_uri": "https://localhost:8080/"
        },
        "id": "dOttUSKp2NLk",
        "outputId": "0345cb1f-3393-449f-832d-c8611caf5b7d"
      },
      "execution_count": null,
      "outputs": [
        {
          "output_type": "stream",
          "name": "stdout",
          "text": [
            "tensor([[-1,  1,  2],\n",
            "        [ 3, -1,  4],\n",
            "        [ 5,  6, -1]])\n"
          ]
        }
      ]
    },
    {
      "cell_type": "code",
      "execution_count": null,
      "metadata": {
        "id": "oQ-IFon4P5O4"
      },
      "outputs": [],
      "source": [
        "class EXPGenerator(torch.nn.Module):\n",
        "    def __init__(self, rec_dataset, base_model, user_vect, item_vect,user,item, margin_score,tensor_vect_desc,tensor_vect_title,tensor_vect_feature, device):\n",
        "        super(EXPGenerator, self).__init__()\n",
        "        self.rec_dataset = rec_dataset\n",
        "        self.base_model = base_model\n",
        "        self.user_vect = user_vect\n",
        "        self.item_vect= item_vect\n",
        "        self.margin_score = margin_score\n",
        "        self.device = device\n",
        "        self.feature_length,self.features=get_features(item)\n",
        "        self.item=item\n",
        "        self.user=user\n",
        "        self.replaced_words,self.replaced_vects,self.logits_tensor,self.words_indices=get_replaced_words_vects(rec_dataset.inv_item_name_dict[item])\n",
        "        self.logits_tensor=torch.where(self.logits_tensor==12.0,torch.tensor(-0.1).to(device),self.logits_tensor).to(device)\n",
        "        self.logits_tensor=torch.where(self.logits_tensor==5.0,torch.tensor(-0.1).to(device),self.logits_tensor).to(device)\n",
        "        self.logits_tensor=torch.where(self.logits_tensor==0.0,torch.tensor(-1.0).to(device),self.logits_tensor).to(device)\n",
        "        # print(self.logits_tensor)\n",
        "        # self.feature_range = [0, 1]  # hard coded, should be improved later\n",
        "        # print(self.features)\n",
        "        teta_par=get_initialized_teta(self.features,len(self.replaced_words),self.words_indices,12.0)\n",
        "        # print(torch.sort(teta_par))\n",
        "        self.teta =  torch.nn.Parameter(teta_par)\n",
        "        \n",
        "        self.main_pi = F.softmax((self.teta + self.sample_gumbel((self.feature_length,len(self.replaced_words)))) /0.000000000001, dim=-1)\n",
        "        # self.main_pi=torch.clamp((self.teta), 0,1)\n",
        "        # print(self.features)\n",
        "        self.item=item\n",
        "        self.user=user\n",
        "        self.tensor_vect_desc=tensor_vect_desc\n",
        "        self.tensor_vect_title=tensor_vect_title\n",
        "        self.tensor_vect_feature=tensor_vect_feature\n",
        "    \n",
        "    def get_masked_item_feature(self,temp):\n",
        "        item_feature_name=self.rec_dataset.item_features[self.item]\n",
        "        self.pi = F.softmax((self.teta + self.sample_gumbel((self.feature_length,len(self.replaced_words)))) /temp, dim=-1)\n",
        "        # print(self.teta)\n",
        "        # print(self.pi)\n",
        "        # self.pi=torch.clamp((self.teta), 0,1)\n",
        "        # print(self.pi)\n",
        "        item_feature_star=get_new_item_vector(self.replaced_vects,self.item,item_feature_name,self.pi)\n",
        "        # print(item_feature_star)\n",
        "        return item_feature_star\n",
        "\n",
        "    def sample_gumbel(self,shape, eps=1e-20):\n",
        "      U = torch.rand(shape)\n",
        "      U = U.cuda()\n",
        "      return -torch.log(-torch.log(U + eps) + eps)\n",
        "    \n",
        "    def forward(self,temp):\n",
        "        item_feature_star = self.get_masked_item_feature(temp)\n",
        "        # print(item_feature_star.unsqueeze(0).shape)\n",
        "        # print(self.user_vect.unsqueeze(0).shape)\n",
        "        score = self.base_model(self.user_vect.unsqueeze(0), item_feature_star.unsqueeze(0))\n",
        "        # print(score)\n",
        "        return score\n",
        "    \n",
        "    def loss(self, a,b,c, score):\n",
        "        # print(self.margin_score)\n",
        "        # print(score)\n",
        "        # print(torch.sort(self.pi))\n",
        "        bpr = torch.nn.functional.relu(alp + score - self.margin_score) * a\n",
        "        l1 = torch.linalg.norm(self.main_pi-self.pi,ord=1)*b\n",
        "        prob_loss= ((1.0/torch.tensordot(self.pi,self.logits_tensor))*c)\n",
        "        loss = prob_loss + l1 + bpr\n",
        "        return bpr, l1,prob_loss, loss"
      ]
    },
    {
      "cell_type": "code",
      "execution_count": null,
      "metadata": {
        "id": "OfOGzq-Wsz7y"
      },
      "outputs": [],
      "source": [
        "with open(os.path.join(data_obj_path, dataset + \"_dataset_obj_4.pickle\"), 'rb') as inp:\n",
        "  rec_dataset = pickle.load(inp)"
      ]
    },
    {
      "cell_type": "code",
      "execution_count": null,
      "metadata": {
        "id": "1rzyaeIINiOz"
      },
      "outputs": [],
      "source": [
        "user_test_perspective"
      ]
    },
    {
      "cell_type": "code",
      "execution_count": null,
      "metadata": {
        "id": "fGywTyrWPsrh"
      },
      "outputs": [],
      "source": [
        "def evaluate_user_perspective(user_perspective_data, u_i_expl_dict):\n",
        "    pres = []\n",
        "    recs = []\n",
        "    f1s = []\n",
        "    for u_i, gt_features in user_perspective_data.items():\n",
        "        if u_i in u_i_expl_dict:\n",
        "            TP = 0\n",
        "            pre_features = u_i_expl_dict[u_i][0]\n",
        "            # print('f: ', gt_features, pre_features)\n",
        "            for feature in pre_features:\n",
        "                if feature in gt_features:\n",
        "                    TP += 1\n",
        "            # print(gt_features)\n",
        "            # print(pre_features)\n",
        "            pre = TP / len(pre_features)\n",
        "            rec = TP / len(gt_features)\n",
        "            if (pre + rec) != 0:\n",
        "                f1 = (2 * pre * rec) / (pre + rec)\n",
        "            else:\n",
        "                f1 = 0\n",
        "            pres.append(pre)\n",
        "            recs.append(rec)\n",
        "            f1s.append(f1)\n",
        "    ave_pre = np.mean(pres)\n",
        "    ave_rec = np.mean(recs)\n",
        "    ave_f1 = np.mean(f1s)\n",
        "    return ave_pre, ave_rec, ave_f1"
      ]
    },
    {
      "cell_type": "code",
      "execution_count": null,
      "metadata": {
        "colab": {
          "base_uri": "https://localhost:8080/"
        },
        "id": "wNLVgos_eXJk",
        "outputId": "b01d9526-89e8-43d5-f822-701d81214114"
      },
      "outputs": [
        {
          "output_type": "execute_result",
          "data": {
            "text/plain": [
              "0"
            ]
          },
          "metadata": {},
          "execution_count": 46
        }
      ],
      "source": [
        "import torch\n",
        "import gc\n",
        "torch.cuda.empty_cache()\n",
        "gc.collect()"
      ]
    },
    {
      "cell_type": "code",
      "execution_count": null,
      "metadata": {
        "id": "jzO5JyluPyG-"
      },
      "outputs": [],
      "source": [
        "def sample_gumbel(shape, eps=1e-20):\n",
        "      U = torch.rand(shape)\n",
        "      U = U.cuda()\n",
        "      return -torch.log(-torch.log(U + eps) + eps)\n",
        "def evaluate_model_perspective(\n",
        "        rec_dict,\n",
        "        u_i_exp_dict,\n",
        "        base_model,\n",
        "        user_feature_matrix,\n",
        "        item_feature_matrix,\n",
        "        rec_k,\n",
        "        dict_items_cf_feature,\n",
        "        device):\n",
        "    \"\"\"\n",
        "    compute PN, PS and F_NS score for the explanations\n",
        "    :param rec_dict: {u1: [i1, i2, i3, ...] , u2: [i1, i2, i3, ...]}\n",
        "    :param u_i_exp_dict: {(u, i): [f1, f2, ...], ...}\n",
        "    :param base_model: the trained base recommendation model\n",
        "    :param user_feature_matrix: |u| x |p| matrix, the attention on each feature p for each user u\n",
        "    :param item_feature_matrix: |i| x |p| matrix, the quality on each feature p for each item i\n",
        "    :param rec_k: the length of the recommendation list, only generated explanations for the items on the list\n",
        "    :param device: the device of the model\n",
        "    :return: the mean of the PN, PS and FNS scores\n",
        "    \"\"\"\n",
        "    pn_count = 0\n",
        "    ps_count = 0\n",
        "    # df_vects=rec_dataset.df_vects\n",
        "    # print(len( u_i_exp_dict))\n",
        "    i=0\n",
        "    count_all=0\n",
        "    dict_items={}\n",
        "    for u_i, fs in u_i_exp_dict.items():\n",
        "        # if i%100==0:\n",
        "        #   print(i)\n",
        "        # i+=1\n",
        "        # if i>15600 and i<16000: \n",
        "        #   continue\n",
        "        count_all+=1\n",
        "        user = u_i[0]\n",
        "        target_item = u_i[1]\n",
        "        features = fs[0]\n",
        "        replaced_features=fs[1]\n",
        "        items = rec_dict[user]\n",
        "        target_index = items.index(target_item)\n",
        "        features=list(set(features))\n",
        "        \n",
        "        # print(len(items))\n",
        "\n",
        "        # compute PN\n",
        "        cf_items_features1 = []\n",
        "        cf_items_features2 = []\n",
        "        for item in items:\n",
        "          # if item in dict_items.keys():\n",
        "          #   replaced_words,replaced_vects,logits_tensor,words_indices=dict_items.get(item)\n",
        "          # else:\n",
        "          #   replaced_words,replaced_vects,logits_tensor,words_indices=get_replaced_words_vects(rec_dataset.inv_item_name_dict[item])\n",
        "          #   dict_items[item]=(replaced_words,replaced_vects,logits_tensor,words_indices)\n",
        "\n",
        "          # item_id=rec_dataset.inv_item_name_dict[item]\n",
        "          # item_cf_feature1,item_cf_feature2=get_item_vector1(item,features,replaced_words,replaced_vects,logits_tensor,words_indices)\n",
        "  \n",
        "          # cf_items_features1.append(item_cf_feature1)\n",
        "          # cf_items_features2.append(item_cf_feature2)\n",
        "            item_id=rec_dataset.inv_item_name_dict[item]\n",
        "            len_features,all_features=get_features(item)\n",
        "            # print(all_features)\n",
        "            # print(features)\n",
        "            item_feature_name=rec_dataset.item_features[item]\n",
        "            weights1=[0.0 if fea in features else 1.0 for fea in all_features]\n",
        "            weights2=[1.0 if fea in features else 0.0 for fea in all_features]\n",
        "            weights1=torch.from_numpy(np.array(weights1,dtype='float32')).to(device)\n",
        "            weights2=torch.from_numpy(np.array(weights2,dtype='float32')).to(device)\n",
        "            # print(len(all_features))\n",
        "            # print(all_features)\n",
        "            # weights=torch.FloatTensor(weights).to(device)\n",
        "            if item in dict_items_cf_feature.keys():\n",
        "              tensor_vect_desc,tensor_vect_title,tensor_vect_feature=dict_items_cf_feature[item]\n",
        "            else:\n",
        "              tensor_vect_desc,tensor_vect_title,tensor_vect_feature=get_tensor_vects(item_id)\n",
        "              dict_items_cf_feature[item]=(tensor_vect_desc,tensor_vect_title,tensor_vect_feature)\n",
        "            \n",
        "            item_cf_feature1=get_new_item_vector2(item,item_feature_name,weights1,tensor_vect_desc,tensor_vect_title,tensor_vect_feature).detach().to('cpu').numpy()\n",
        "            item_cf_feature2=get_new_item_vector2(item,item_feature_name,weights2,tensor_vect_desc,tensor_vect_title,tensor_vect_feature).detach().to('cpu').numpy()\n",
        "            cf_items_features1.append(item_cf_feature1)\n",
        "            cf_items_features2.append(item_cf_feature2)\n",
        "\n",
        "        cf_ranking_scores1 = base_model(torch.from_numpy(np.array([user_feature_matrix[user]\n",
        "                                                                      for i in range(len(cf_items_features1))])\n",
        "                                                            ).to(device),\n",
        "                                           torch.from_numpy(np.array(cf_items_features1,dtype='float32')).to(device)).squeeze()\n",
        "        cf_score_list1 = cf_ranking_scores1.to('cpu').detach().numpy()\n",
        "        # print(np.sort( cf_score_list1)[::-1])\n",
        "        sorted_index1 = np.argsort(cf_score_list1)[::-1]\n",
        "        # print(sorted_index1)\n",
        "        cf_rank1 = np.argwhere(sorted_index1 == target_index)[0, 0]  # the updated ranking of the current item\n",
        "        # print(cf_rank1)\n",
        "        if cf_rank1 > rec_k - 1:\n",
        "            pn_count += 1\n",
        "        # compute NS\n",
        "        cf_ranking_scores2 = base_model(torch.from_numpy(np.array([user_feature_matrix[user]\n",
        "                                                                      for i in range(len(cf_items_features2))])\n",
        "                                                            ).to(device),\n",
        "                                           torch.from_numpy(np.array(cf_items_features2,dtype='float32')).to(device)).squeeze()\n",
        "        cf_score_list2 = cf_ranking_scores2.to('cpu').detach().numpy()\n",
        "        sorted_index2 = np.argsort(cf_score_list2)[::-1]\n",
        "        cf_rank2 = np.argwhere(sorted_index2 == target_index)[0, 0]  # the updated ranking of the current item\n",
        "        if cf_rank2 < rec_k:\n",
        "            ps_count += 1\n",
        "    if len(u_i_exp_dict) != 0:\n",
        "        pn = pn_count / count_all\n",
        "        ps = ps_count / count_all\n",
        "        if (pn + ps) != 0:\n",
        "            fns = (2 * pn * ps) / (pn + ps)\n",
        "        else:\n",
        "            fns = 0\n",
        "    else:\n",
        "        pn = 0\n",
        "        ps = 0\n",
        "        fns = 0\n",
        "    return pn, ps, fns"
      ]
    },
    {
      "cell_type": "code",
      "execution_count": null,
      "metadata": {
        "id": "WBYDMTkqqdz2"
      },
      "outputs": [],
      "source": [
        "with open(os.path.join(data_obj_path, dataset + \"_dataset_obj_Gumbel.pickle\"), 'rb') as inp:\n",
        "   rec_dataset = pickle.load(inp)"
      ]
    },
    {
      "cell_type": "code",
      "source": [
        "def get_item_vector1(item,features, replaced_words,replaced_vects,logits_tensor,words_indices):\n",
        "    all_features=[replaced_words[ind] for ind in words_indices]\n",
        "    words_indices_new1=[words_indices[i] for i in range(len(words_indices)) if all_features[i] not in features]\n",
        "    # print(all_features)\n",
        "    # print([replaced_words[ind] for ind in words_indices_new1])\n",
        "    words_indices_new2=[words_indices[i] for i in range(len(words_indices)) if all_features[i] in features]\n",
        "    # print([replaced_words[ind] for ind in words_indices_new2])\n",
        "    teta_par1=get_initialized_teta(words_indices_new1,len(replaced_words),words_indices_new1,1.0)\n",
        "\n",
        "    # pi1 = F.softmax((teta_par1 + sample_gumbel((len(words_indices_new1),len(replaced_words)))) /0.0000001, dim=-1)\n",
        "\n",
        "    teta_par2=get_initialized_teta(words_indices_new2,len(replaced_words),words_indices_new2,1.0)\n",
        "    # pi2 = F.softmax((teta_par2 + sample_gumbel((len(words_indices_new2),len(replaced_words)))) /0.0000001, dim=-1)\n",
        "    \n",
        "    item_cf_feature1=get_new_item_vector(replaced_vects,item,all_features,teta_par1).detach().to('cpu').numpy()\n",
        "    item_cf_feature2=get_new_item_vector(replaced_vects,item,all_features,teta_par2).detach().to('cpu').numpy()\n",
        "    return item_cf_feature1, item_cf_feature2"
      ],
      "metadata": {
        "id": "pHTI4FavoaP0"
      },
      "execution_count": null,
      "outputs": []
    },
    {
      "cell_type": "code",
      "source": [
        "def get_item_vector2(item):\n",
        "  item_cf_feature=rec_dataset.item_feature_matrix[item]\n",
        "  return item_cf_feature,item_cf_feature"
      ],
      "metadata": {
        "id": "1JdP2smbpBpk"
      },
      "execution_count": null,
      "outputs": []
    },
    {
      "cell_type": "code",
      "source": [
        "# result_dict={'lr':[],'temp':[],'l1_b':[],'prob_c':[],'ave_num':[] , 'no_exp_count':[] , 'exp_count':[], 'ave_pre_user':[] ,'ave_rec_user':[], 'ave_f1_user':[] , 'ave_ps_model':[],'ave_pn_model':[],'ave_fNS_model':[]}"
      ],
      "metadata": {
        "id": "-KUN6FASOMEO"
      },
      "execution_count": null,
      "outputs": []
    },
    {
      "cell_type": "code",
      "source": [
        "users_list=[]\n",
        "for i in range(len(rec_dataset.test_data)):\n",
        "    users_list.append(rec_dataset.inv_user_name_dict[rec_dataset.test_data[i][0]])"
      ],
      "metadata": {
        "id": "aVAC5P36qCfB"
      },
      "execution_count": null,
      "outputs": []
    },
    {
      "cell_type": "code",
      "source": [
        "users_list"
      ],
      "metadata": {
        "id": "J-QMg6vOqcFb"
      },
      "execution_count": null,
      "outputs": []
    },
    {
      "cell_type": "code",
      "source": [
        "items_list=[]\n",
        "for i in range(10):\n",
        "  for item in rec_dataset.test_data[i][1]:\n",
        "    items_list.append(rec_dataset.inv_item_name_dict[item])"
      ],
      "metadata": {
        "id": "Y8q8GMwXSv0Y"
      },
      "execution_count": null,
      "outputs": []
    },
    {
      "cell_type": "code",
      "source": [
        "items_list=list(set(items_list))"
      ],
      "metadata": {
        "id": "034WNY8wTFFP"
      },
      "execution_count": null,
      "outputs": []
    },
    {
      "cell_type": "code",
      "execution_count": null,
      "metadata": {
        "colab": {
          "base_uri": "https://localhost:8080/"
        },
        "id": "ol5Ikjv8PAkK",
        "outputId": "4077b702-f3a9-4f1c-e409-5f67870ec972"
      },
      "outputs": [
        {
          "output_type": "stream",
          "name": "stdout",
          "text": [
            "cuda:0\n",
            "lr: 0.1    temp: 1.0    l1_b: 2.0    prob_c: 10000.0\n"
          ]
        },
        {
          "output_type": "stream",
          "name": "stderr",
          "text": [
            "100%|██████████| 20/20 [14:20<00:00, 43.02s/it]\n"
          ]
        },
        {
          "output_type": "stream",
          "name": "stdout",
          "text": [
            "ave num:  7.771428571428571 no_exp_count:  30 exp_count:  70\n",
            "model's perspective:\n",
            "ave PN:  0.9   ave PS:  0.9714285714285714   ave F_{NS}:  0.934351145038168\n"
          ]
        }
      ],
      "source": [
        "def generate_explanation():\n",
        "    if gpu:\n",
        "        device = torch.device('cuda:%s' %cuda)\n",
        "    else:\n",
        "        device = 'cpu'\n",
        "    print(device)\n",
        "    # import dataset\n",
        "    with open(os.path.join(data_obj_path, dataset + \"_dataset_obj_Gumbel.pickle\"), 'rb') as inp:\n",
        "        rec_dataset = pickle.load(inp)\n",
        "    base_model = BaseRecModel(rec_dataset.feature_num).to(device)\n",
        "    base_model.load_state_dict(torch.load(os.path.join(base_model_path,\"model4.model\"),map_location=torch.device(device)))\n",
        "    base_model.eval()\n",
        "    #  fix the rec model\n",
        "    for param in base_model.parameters():\n",
        "        param.requires_grad = False\n",
        "    \n",
        "    # Create optimization model\n",
        "   \n",
        "    # lrs=[1.0]\n",
        "    # temps=[0.5,1.0,1.5]\n",
        "    a=100.0\n",
        "    # bs=[1.0,2.0]\n",
        "    # cs=[1000.0,2000.0,10000.0]\n",
        "    lrs=[0.1]\n",
        "    temps=[1.0]\n",
        "    bs=[2.0]\n",
        "    cs=[10000.0]\n",
        "    with open(save_path+'result_validation.txt','w') as result_file:\n",
        "      for lr in lrs:\n",
        "        for temp in temps:\n",
        "          for b in bs:\n",
        "            for c in cs:\n",
        "              print('lr:', lr , '   temp:', temp , '   l1_b:', b , '   prob_c:', c)\n",
        "              opt_model = ExpOptimizationModel(base_model=base_model,rec_dataset=rec_dataset,device = device)\n",
        "              ave_num,no_exp_count,exp_count=opt_model.generate_explanation(lr,temp,a,b,c)\n",
        "              # ave_pre,ave_rec,ave_f1=opt_model.user_side_evaluation()\n",
        "              ave_pn,ave_ps,ave_fns=opt_model.model_side_evaluation()\n",
        "              # result_file.write(str(lr)+'#'+str(temp)+'#'+str(b)+'#'+str(c)+'#'+str(ave_num)+'#'+str(no_exp_count)+'#'+str(exp_count)+'#'+str(ave_pre)+'#'+str(ave_rec)+'#'+str(ave_f1)+'#'+str(ave_pn)+'#'+str(ave_ps)+'#'+str(ave_fns))\n",
        "              # result_file.write('\\n')\n",
        "    # Path(save_path).mkdir(parents=True, exist_ok=True)\n",
        "    # with open(os.path.join(save_path, dataset + \"_explanation_obj.pickle\"), 'wb') as outp:\n",
        "    #     pickle.dump(opt_model, outp, pickle.HIGHEST_PROTOCOL)\n",
        "    \n",
        "    # with open(os.path.join(save_path, dataset + \"_explanation_obj.pickle\"), 'rb') as opt:\n",
        "    #     opt_model = pickle.load(opt)\n",
        "            \n",
        "    # print(opt_model.u_i_exp_dict)\n",
        "    # Path(save_path).mkdir(parents=True, exist_ok=True)\n",
        "    # with open(os.path.join(save_path, dataset + \"_explanation_obj.pickle\"), 'wb') as outp:\n",
        "    #     pickle.dump(opt_model, outp, pickle.HIGHEST_PROTOCOL)\n",
        "    return opt_model\n",
        "\n",
        "\n",
        "if __name__ == \"__main__\":\n",
        "    opt_model=generate_explanation()"
      ]
    },
    {
      "cell_type": "code",
      "source": [
        "with open(os.path.join(save_path, dataset + \"_dataset_obj_Gumbel.pickle\"), 'rb') as inp:\n",
        "  rec_datasetG = pickle.load(inp)"
      ],
      "metadata": {
        "id": "RYp5I49Z9EvZ"
      },
      "execution_count": null,
      "outputs": []
    },
    {
      "cell_type": "code",
      "source": [
        "with open(os.path.join(save_path, dataset + \"_dataset_obj_4.pickle\"), 'rb') as inp:\n",
        "  rec_dataset = pickle.load(inp)"
      ],
      "metadata": {
        "id": "5llwAaH09I24"
      },
      "execution_count": null,
      "outputs": []
    },
    {
      "cell_type": "code",
      "source": [
        "review_features[('A3VVMIMMTYQV5F','B00U7YKO78')]"
      ],
      "metadata": {
        "colab": {
          "base_uri": "https://localhost:8080/"
        },
        "id": "qpDP0uofLHcO",
        "outputId": "e25a9b48-022e-4b0e-912e-beec97f8fb41"
      },
      "execution_count": null,
      "outputs": [
        {
          "output_type": "execute_result",
          "data": {
            "text/plain": [
              "[['plastic', 'back', 1, 'I have a Spigen case that has a clear plastic back'],\n",
              " ['charge',\n",
              "  'quick',\n",
              "  1,\n",
              "  \"It charged so quick I didn't get the chance to really figure out when it topped off\"],\n",
              " ['phone', 'right', 1, 'I charged my phone right away to try it out'],\n",
              " ['case', 'clear', 1, 'I have a Spigen case that has a clear plastic back'],\n",
              " ['case', 'clear', 1, 'My Spigen case was a clear plastic'],\n",
              " ['lights', 'blue', 1, 'the blue lights will start blinking'],\n",
              " ['lights',\n",
              "  'blue',\n",
              "  1,\n",
              "  'it emits 2 deep blue tubular lights along the front side to let you know\\n']]"
            ]
          },
          "metadata": {},
          "execution_count": 92
        }
      ]
    },
    {
      "cell_type": "code",
      "source": [
        "user_test_perspective[('A3VVMIMMTYQV5F','B00U7YKO78')]"
      ],
      "metadata": {
        "colab": {
          "base_uri": "https://localhost:8080/"
        },
        "id": "_wB8_UCsLmfl",
        "outputId": "f89be3c0-9276-4989-ceaa-278f4ab37a56"
      },
      "execution_count": null,
      "outputs": [
        {
          "output_type": "execute_result",
          "data": {
            "text/plain": [
              "['start',\n",
              " 'my',\n",
              " 'charged',\n",
              " 'side',\n",
              " 'figure',\n",
              " 'away',\n",
              " 'blue',\n",
              " 'along',\n",
              " 'clear',\n",
              " 'back',\n",
              " 'blinking',\n",
              " 'quick',\n",
              " 'chance',\n",
              " 'let',\n",
              " 'it',\n",
              " 'plastic',\n",
              " 'really',\n",
              " 'phone',\n",
              " 'know',\n",
              " 'deep',\n",
              " 'front',\n",
              " 'topped',\n",
              " 'get',\n",
              " 'emits',\n",
              " 'tubular',\n",
              " 'case',\n",
              " 'lights',\n",
              " 'spigen',\n",
              " 'try',\n",
              " 'right']"
            ]
          },
          "metadata": {},
          "execution_count": 93
        }
      ]
    },
    {
      "cell_type": "code",
      "source": [
        "review_features[('A1F7YU6O5RU432','B00Z7RQ0NC')]"
      ],
      "metadata": {
        "colab": {
          "base_uri": "https://localhost:8080/"
        },
        "id": "A3bhiFZ_MDn7",
        "outputId": "b05c247a-d420-43ff-cde4-7c86e8173c2a"
      },
      "execution_count": null,
      "outputs": [
        {
          "output_type": "execute_result",
          "data": {
            "text/plain": [
              "[['case',\n",
              "  'pretty',\n",
              "  1,\n",
              "  'Love the looks of it and when the sun catches the silver flecks on the case its so pretty'],\n",
              " ['case',\n",
              "  'clear',\n",
              "  1,\n",
              "  'The case is clear so whatever color your iPhone is youll be able to see it a bit through the sparkles'],\n",
              " ['photos',\n",
              "  'online',\n",
              "  -1,\n",
              "  'What might be hard to tell initially from the online photos is this case has a bunch of gorgeous sparkles inside the clear plastic\\n']]"
            ]
          },
          "metadata": {},
          "execution_count": 95
        }
      ]
    },
    {
      "cell_type": "code",
      "source": [
        "user_test_perspective[('A1F7YU6O5RU432','B00Z7RQ0NC')]"
      ],
      "metadata": {
        "colab": {
          "base_uri": "https://localhost:8080/"
        },
        "id": "nf-t2vEzL6RL",
        "outputId": "f823f7e4-2116-4e3a-8aa2-7dcce2e803c7"
      },
      "execution_count": null,
      "outputs": [
        {
          "output_type": "execute_result",
          "data": {
            "text/plain": [
              "['iphone',\n",
              " 'catches',\n",
              " 'tell',\n",
              " 'youll',\n",
              " 'silver',\n",
              " 'might',\n",
              " 'whatever',\n",
              " 'looks',\n",
              " 'hard',\n",
              " 'able',\n",
              " 'flecks',\n",
              " 'bunch',\n",
              " 'love',\n",
              " 'clear',\n",
              " 'what',\n",
              " 'sun',\n",
              " 'plastic',\n",
              " 'initially',\n",
              " 'color',\n",
              " 'gorgeous',\n",
              " 'photos',\n",
              " 'online',\n",
              " 'sparkles',\n",
              " 'inside',\n",
              " 'see',\n",
              " 'case',\n",
              " 'bit',\n",
              " 'pretty']"
            ]
          },
          "metadata": {},
          "execution_count": 94
        }
      ]
    },
    {
      "cell_type": "code",
      "source": [
        "rec_datasetG.item_name_dict['B00Z7RQ0NC']"
      ],
      "metadata": {
        "colab": {
          "base_uri": "https://localhost:8080/"
        },
        "id": "O4PJ6ZcoqrwU",
        "outputId": "397eecc9-266a-44e0-cf65-de29cda14fe2"
      },
      "execution_count": null,
      "outputs": [
        {
          "output_type": "execute_result",
          "data": {
            "text/plain": [
              "1460"
            ]
          },
          "metadata": {},
          "execution_count": 96
        }
      ]
    },
    {
      "cell_type": "code",
      "source": [
        "rec_datasetG.user_name_dict['A1F7YU6O5RU432']"
      ],
      "metadata": {
        "colab": {
          "base_uri": "https://localhost:8080/"
        },
        "id": "rmavTHSrFdRv",
        "outputId": "b4ad675d-4b1d-4cc6-8bb6-3d65b07e4873"
      },
      "execution_count": null,
      "outputs": [
        {
          "output_type": "execute_result",
          "data": {
            "text/plain": [
              "57"
            ]
          },
          "metadata": {},
          "execution_count": 97
        }
      ]
    },
    {
      "cell_type": "code",
      "source": [
        "opt_model.u_i_exp_dict"
      ],
      "metadata": {
        "colab": {
          "base_uri": "https://localhost:8080/"
        },
        "id": "vHx4-wF_J1J6",
        "outputId": "d8c34856-0afe-4cb3-b85e-69c96e8b36f1"
      },
      "execution_count": null,
      "outputs": [
        {
          "output_type": "execute_result",
          "data": {
            "text/plain": [
              "{(6, 1311): (['purple', 'protection'], ['and', 'structure', 'for', 'screen']),\n",
              " (8, 911): (['blackberry', 'motorola', 'nokia'],\n",
              "  ['gear', 'construction', 'optional']),\n",
              " (8,\n",
              "  448): (['included',\n",
              "   'spare',\n",
              "   'sticker',\n",
              "   'samsung',\n",
              "   'portability',\n",
              "   'battery',\n",
              "   '2600mah',\n",
              "   'adapter',\n",
              "   'galaxy',\n",
              "   'travel',\n",
              "   'compact',\n",
              "   '700mah',\n",
              "   'discontinued',\n",
              "   'seconds',\n",
              "   'charging'], ['galaxy',\n",
              "   'mobile',\n",
              "   'down',\n",
              "   'as',\n",
              "   'cell',\n",
              "   'charge',\n",
              "   'and',\n",
              "   'turn',\n",
              "   'charger',\n",
              "   'your',\n",
              "   'and',\n",
              "   'small',\n",
              "   'charger',\n",
              "   'complaints',\n",
              "   'mobile',\n",
              "   'battery',\n",
              "   'like']),\n",
              " (8, 1480): (['cowabunga', 'gunmetal', 'grey', 'series', 'packaging'],\n",
              "  ['protection', '-', '.', 'bar', 'also']),\n",
              " (50, 1311): (['purple'], ['pockets']),\n",
              " (57,\n",
              "  1449): (['black',\n",
              "   'limited',\n",
              "   'alpha',\n",
              "   'series',\n",
              "   'leather',\n",
              "   'retail',\n",
              "   'packaging',\n",
              "   'iphone',\n",
              "   'onyx',\n",
              "   'otterbox',\n",
              "   'case'], [',',\n",
              "   'special',\n",
              "   ';',\n",
              "   'camera',\n",
              "   'windows',\n",
              "   'and',\n",
              "   '.',\n",
              "   '!',\n",
              "   '!',\n",
              "   'and',\n",
              "   'series']),\n",
              " (57,\n",
              "  491): (['protective',\n",
              "   'child',\n",
              "   'camera',\n",
              "   'photographer',\n",
              "   'includes',\n",
              "   'green',\n",
              "   'age',\n",
              "   'create',\n",
              "   'app',\n",
              "   'teaches',\n",
              "   'modes',\n",
              "   'learning',\n",
              "   'helps',\n",
              "   'flying',\n",
              "   'work',\n",
              "   'silly',\n",
              "   'iphone',\n",
              "   'creativity',\n",
              "   'ipod'], ['3d',\n",
              "   'action',\n",
              "   ';',\n",
              "   '.',\n",
              "   'iphone',\n",
              "   'the',\n",
              "   'painting',\n",
              "   'awareness',\n",
              "   'skills',\n",
              "   'used',\n",
              "   'life',\n",
              "   '!',\n",
              "   'designed',\n",
              "   'uses',\n",
              "   'purchase',\n",
              "   'camera',\n",
              "   'imagination',\n",
              "   'for',\n",
              "   '.',\n",
              "   'objects',\n",
              "   'smart',\n",
              "   'photos',\n",
              "   'up',\n",
              "   'mode',\n",
              "   'teaches',\n",
              "   'special',\n",
              "   'to',\n",
              "   'visual',\n",
              "   'fast',\n",
              "   '-']),\n",
              " (57, 1047): (['protection', 'packaging', 'iphone', 'provides', 'neon'],\n",
              "  ['security', 'protection', 'protection', 'for', 'the', 'the', 'the', 'on']),\n",
              " (57, 659): (['screen', 'iphone', 'kyasi'],\n",
              "  ['light', '.', 'glass', 'protection']),\n",
              " (57,\n",
              "  966): (['delivers',\n",
              "   'amp',\n",
              "   'efficient',\n",
              "   'activated',\n",
              "   'smartphones',\n",
              "   'wall',\n",
              "   'detect',\n",
              "   'compact'], ['consumption',\n",
              "   '/',\n",
              "   'charging',\n",
              "   'outlet',\n",
              "   'this',\n",
              "   'them',\n",
              "   '-',\n",
              "   'connector',\n",
              "   'charging']),\n",
              " (80,\n",
              "  696): (['data',\n",
              "   'samsung',\n",
              "   'digital',\n",
              "   'note',\n",
              "   'packaging',\n",
              "   'provides',\n",
              "   'rates'], ['special', 'e', 'the', '6', 'or', 'the', 'supports', 'white']),\n",
              " (80, 1318): (['cover', 'samsung', 'wireless', 'international', 'white'],\n",
              "  ['daydream', 'with', 'galaxy', 'board', ';']),\n",
              " (80, 1219): (['enhanced', 'swap', 'iphone'], ['produced', 'system', 'with']),\n",
              " (80,\n",
              "  109): (['assist',\n",
              "   'sends',\n",
              "   'freeway',\n",
              "   'reduction',\n",
              "   'battery',\n",
              "   'retail',\n",
              "   'provides',\n",
              "   'pairing',\n",
              "   'car'], ['hd',\n",
              "   'then',\n",
              "   'transmit',\n",
              "   'hear',\n",
              "   'reports',\n",
              "   'location',\n",
              "   'and',\n",
              "   'days',\n",
              "   'status',\n",
              "   'mobile']),\n",
              " (95,\n",
              "  1268): (['bright',\n",
              "   'lifeproof',\n",
              "   'cool',\n",
              "   'grey',\n",
              "   'retail',\n",
              "   'nuud',\n",
              "   'packaging',\n",
              "   'iphone',\n",
              "   'waterproof',\n",
              "   'version'], ['.',\n",
              "   'integration',\n",
              "   'or',\n",
              "   'separation',\n",
              "   'are',\n",
              "   'and',\n",
              "   '.',\n",
              "   'usb',\n",
              "   'camera',\n",
              "   'new']),\n",
              " (95, 1799): (['military', 'light', 'phone', 'ports', 'uag', 'composite'],\n",
              "  ['hardware', 'model', 'back', 'for', 'days', 'your']),\n",
              " (95,\n",
              "  1611): (['easily',\n",
              "   'including',\n",
              "   'includes',\n",
              "   'email',\n",
              "   'smart',\n",
              "   'mount',\n",
              "   'incidental',\n",
              "   'provides',\n",
              "   'rotates',\n",
              "   'stroller',\n",
              "   'case',\n",
              "   'phone',\n",
              "   'allows',\n",
              "   'cyclers',\n",
              "   'phones',\n",
              "   'window',\n",
              "   'allsop',\n",
              "   'click',\n",
              "   'sweat',\n",
              "   'tech',\n",
              "   'interchangeable',\n",
              "   'removable',\n",
              "   'pouch',\n",
              "   'gym',\n",
              "   'galaxy',\n",
              "   'measure',\n",
              "   'bike',\n",
              "   'universal',\n",
              "   'working',\n",
              "   'active',\n",
              "   'iphone',\n",
              "   'usage',\n",
              "   'fitness'], ['pouch',\n",
              "   'belt',\n",
              "   'active',\n",
              "   'cold',\n",
              "   'internet',\n",
              "   'the',\n",
              "   'or',\n",
              "   'clickgo',\n",
              "   ';',\n",
              "   'coating',\n",
              "   'and',\n",
              "   'it',\n",
              "   'sports',\n",
              "   'horizontal',\n",
              "   'now',\n",
              "   'control',\n",
              "   'gun',\n",
              "   'it',\n",
              "   'eyes',\n",
              "   'their',\n",
              "   'pouch',\n",
              "   'inch',\n",
              "   'amp',\n",
              "   'and',\n",
              "   '?',\n",
              "   'smartphone',\n",
              "   'bag',\n",
              "   'safety',\n",
              "   'bike',\n",
              "   'the',\n",
              "   ',',\n",
              "   '.',\n",
              "   '.',\n",
              "   'phone',\n",
              "   'mounted',\n",
              "   'models',\n",
              "   'controls',\n",
              "   'has',\n",
              "   'pouch']),\n",
              " (95,\n",
              "  447): (['film',\n",
              "   'sensitivity',\n",
              "   'kit',\n",
              "   'thats',\n",
              "   'coverage',\n",
              "   'last',\n",
              "   'note',\n",
              "   'installation',\n",
              "   'galaxy',\n",
              "   'covers',\n",
              "   'ensures',\n",
              "   'protector'], ['smart',\n",
              "   'light',\n",
              "   'the',\n",
              "   'give',\n",
              "   'gold',\n",
              "   'illumination',\n",
              "   'way',\n",
              "   'protector',\n",
              "   'coverage',\n",
              "   'side',\n",
              "   ':',\n",
              "   ',',\n",
              "   'clean',\n",
              "   '5',\n",
              "   '.',\n",
              "   'user',\n",
              "   'soft',\n",
              "   'area',\n",
              "   'will']),\n",
              " (176,\n",
              "  1402): (['material',\n",
              "   'series',\n",
              "   'retail',\n",
              "   'safe',\n",
              "   'edge',\n",
              "   'packaging',\n",
              "   'case'], ['see',\n",
              "   'range',\n",
              "   'galaxy',\n",
              "   'that',\n",
              "   'textures',\n",
              "   'exterior',\n",
              "   'cases']),\n",
              " (176,\n",
              "  1284): (['mac',\n",
              "   'sony',\n",
              "   'smartphone',\n",
              "   'data',\n",
              "   'micro',\n",
              "   'amazon',\n",
              "   'charge',\n",
              "   'nexus',\n",
              "   'nokia',\n",
              "   'computer',\n",
              "   'reduces',\n",
              "   'feet',\n",
              "   'motorola',\n",
              "   'lightning',\n",
              "   'transferring',\n",
              "   'android'], ['braided',\n",
              "   'cable',\n",
              "   'music',\n",
              "   'system',\n",
              "   'allows',\n",
              "   ')',\n",
              "   '!',\n",
              "   'enough',\n",
              "   'large',\n",
              "   'tens',\n",
              "   '+',\n",
              "   'maps',\n",
              "   'long',\n",
              "   'of',\n",
              "   'computer',\n",
              "   'products',\n",
              "   'usb']),\n",
              " (176,\n",
              "  491): (['protective',\n",
              "   'camera',\n",
              "   'photographer',\n",
              "   'includes',\n",
              "   'green',\n",
              "   'expression',\n",
              "   'action',\n",
              "   'features',\n",
              "   'simply',\n",
              "   'express',\n",
              "   'app',\n",
              "   'safe',\n",
              "   'ultimate',\n",
              "   'activities',\n",
              "   'leapfrog',\n",
              "   'teaches',\n",
              "   'modes',\n",
              "   'learning',\n",
              "   'helps',\n",
              "   'reinforces',\n",
              "   'iphone',\n",
              "   'creativity'], ['only',\n",
              "   'friendly',\n",
              "   'a',\n",
              "   'online',\n",
              "   'using',\n",
              "   'nintendo',\n",
              "   'for',\n",
              "   'and',\n",
              "   'and',\n",
              "   'ultimate',\n",
              "   ',',\n",
              "   ';',\n",
              "   'skills',\n",
              "   ':',\n",
              "   '?',\n",
              "   'appropriate',\n",
              "   'exciting',\n",
              "   'new',\n",
              "   'ipad',\n",
              "   'work',\n",
              "   'active',\n",
              "   'mobile',\n",
              "   'virtual',\n",
              "   'community',\n",
              "   'use',\n",
              "   'photo',\n",
              "   'picture',\n",
              "   'demonstrate',\n",
              "   'battery',\n",
              "   'photo',\n",
              "   'mobile',\n",
              "   'mobile',\n",
              "   'take']),\n",
              " (176,\n",
              "  1460): (['symmetry',\n",
              "   'withstands',\n",
              "   'absorbs',\n",
              "   'series',\n",
              "   'date',\n",
              "   'iphone',\n",
              "   'graphic',\n",
              "   'white'], ['suit',\n",
              "   '2',\n",
              "   'black',\n",
              "   'dj',\n",
              "   'late',\n",
              "   'box',\n",
              "   '.',\n",
              "   'moisture',\n",
              "   'for']),\n",
              " (183, 369): (['juice', 'iphone'], ['thin', 'soft']),\n",
              " (183, 1634): (['military', 'shell', 'composite'],\n",
              "  ['thumb', '-', 'resistant']),\n",
              " (183, 791): (['speed', 'amp', '16gb', 'white', 'android'],\n",
              "  ['newer', '.', 'automatic', 'capture', 'what']),\n",
              " (183, 999): (['apple', 'iphone'], ['stability', '.', '|']),\n",
              " (267,\n",
              "  1469): (['cowabunga',\n",
              "   'grey',\n",
              "   'retail',\n",
              "   'packaging',\n",
              "   'version',\n",
              "   'layers',\n",
              "   'otterbox',\n",
              "   'case'], ['items', 'covers', '+', ',', 'with', 'hard', 'the', 'surface']),\n",
              " (267, 192): (['clear', 'iphone', 'possible'], ['ipad', 'black', \"'\"]),\n",
              " (283, 368): (['indicator', 'juice', 'iphone'], ['!', '.', 'ipad', 'reader']),\n",
              " (283, 851): (['1st', 'phone', 'generation', 'motorola', 'gsm'],\n",
              "  ['usb', '4', ',', '.', 'concrete']),\n",
              " (283,\n",
              "  1419): (['100',\n",
              "   'perfect',\n",
              "   'activities',\n",
              "   'swimming',\n",
              "   'protects',\n",
              "   'mini',\n",
              "   'iphone',\n",
              "   'galaxy',\n",
              "   'feet',\n",
              "   'keep',\n",
              "   'beach',\n",
              "   'functionality',\n",
              "   'ipod'], ['free',\n",
              "   'leather',\n",
              "   'cover',\n",
              "   'gravel',\n",
              "   'or',\n",
              "   'leather',\n",
              "   'contact',\n",
              "   'case',\n",
              "   'snow',\n",
              "   'with',\n",
              "   'screen',\n",
              "   'samsung',\n",
              "   'nokia',\n",
              "   'google']),\n",
              " (283, 1644): (['installation', 'iphone', 'grip'],\n",
              "  ['display', 'warranty', 'windows', 'sound']),\n",
              " (349,\n",
              "  791): (['camera',\n",
              "   'samsung',\n",
              "   'speed',\n",
              "   'kitkat',\n",
              "   '16gb',\n",
              "   'processor',\n",
              "   'white',\n",
              "   'android'], ['.',\n",
              "   'intel',\n",
              "   'android',\n",
              "   'digging',\n",
              "   'door',\n",
              "   'camera',\n",
              "   'those',\n",
              "   'also',\n",
              "   'greatly']),\n",
              " (349, 1049): (['otterbox', 'packaging', 'case', 'retail'],\n",
              "  ['usability', 'the', 'in', 'protection']),\n",
              " (349, 1737): (['turbo', 'motorola', 'works'], ['.', 'the', '4']),\n",
              " (361,\n",
              "  324): (['standard',\n",
              "   'micro',\n",
              "   'sim',\n",
              "   'aerb',\n",
              "   'thousands',\n",
              "   'nano',\n",
              "   'cellphones'], ['speed',\n",
              "   'transform',\n",
              "   'and',\n",
              "   'own',\n",
              "   'choose',\n",
              "   'card',\n",
              "   'nano',\n",
              "   '-',\n",
              "   'one',\n",
              "   'code',\n",
              "   'cycles']),\n",
              " (361,\n",
              "  1444): (['usb',\n",
              "   'iphones',\n",
              "   'exquisite',\n",
              "   'worry',\n",
              "   'twice',\n",
              "   'bank',\n",
              "   'iphone',\n",
              "   'rohs',\n",
              "   'power',\n",
              "   'capacity',\n",
              "   'hundreds',\n",
              "   '5000',\n",
              "   'portable',\n",
              "   'mah'], ['small',\n",
              "   'with',\n",
              "   'pack',\n",
              "   'accessory',\n",
              "   'for',\n",
              "   'take',\n",
              "   'batteries',\n",
              "   'the',\n",
              "   ':',\n",
              "   'with',\n",
              "   'small',\n",
              "   'lightweight',\n",
              "   'makes',\n",
              "   'communicate',\n",
              "   'iphone',\n",
              "   'new',\n",
              "   'usb',\n",
              "   '##s',\n",
              "   'phones',\n",
              "   'about']),\n",
              " (361,\n",
              "  656): (['plus',\n",
              "   'usb',\n",
              "   'speed',\n",
              "   'performance',\n",
              "   '480',\n",
              "   'iphone',\n",
              "   'ensures',\n",
              "   'car'], ['|',\n",
              "   'connected',\n",
              "   'comfortable',\n",
              "   'apps',\n",
              "   'added',\n",
              "   'plus',\n",
              "   'air',\n",
              "   'wireless',\n",
              "   'system',\n",
              "   'replacement',\n",
              "   'iphone',\n",
              "   'sync',\n",
              "   '.',\n",
              "   'power']),\n",
              " (361, 725): (['smartphone', 'magnetic', 'car'],\n",
              "  ['player', 'expensive', 'top']),\n",
              " (361, 858): (['iphone', 'anker', '3ft'], ['can', '-', 'account']),\n",
              " (362,\n",
              "  543): (['battery',\n",
              "   'amp',\n",
              "   'output',\n",
              "   'arctic',\n",
              "   'smartphones',\n",
              "   'compact',\n",
              "   '0a',\n",
              "   'mp3',\n",
              "   'tablets'],\n",
              "  ['for', 'to', 'supporting', ',', '.', 'charging', 'sooner', '.', ';', 'or']),\n",
              " (362, 508): (['mipow', '5200mah', 'phone', 'power', 'shown'],\n",
              "  ['replaced', 'installed', '.', 'nominal', 'connect']),\n",
              " (362,\n",
              "  783): (['included',\n",
              "   'product',\n",
              "   'charge',\n",
              "   'speed',\n",
              "   '2gs',\n",
              "   'input',\n",
              "   'power',\n",
              "   'get',\n",
              "   'phones'], ['to',\n",
              "   'unlimited',\n",
              "   'increase',\n",
              "   'promise',\n",
              "   ';',\n",
              "   'pay',\n",
              "   'full',\n",
              "   '?',\n",
              "   '?',\n",
              "   '.',\n",
              "   'design']),\n",
              " (362, 333): (['iphone', 'smartphone', 'app'], ['a', 'with', 'orange']),\n",
              " (362,\n",
              "  1739): (['lightest',\n",
              "   'protector',\n",
              "   'batteries',\n",
              "   'speed',\n",
              "   'friendly',\n",
              "   'iphone',\n",
              "   'charges',\n",
              "   'compact',\n",
              "   'counting',\n",
              "   'cable',\n",
              "   'charging'], ['more',\n",
              "   'able',\n",
              "   'cheaper',\n",
              "   ':',\n",
              "   'all',\n",
              "   '#',\n",
              "   'brand',\n",
              "   'supply',\n",
              "   'usb',\n",
              "   'screen',\n",
              "   '.']),\n",
              " (372,\n",
              "  821): (['manufacturer',\n",
              "   'buttons',\n",
              "   'visually',\n",
              "   'sending',\n",
              "   'free',\n",
              "   'headset',\n",
              "   'automatically',\n",
              "   'leading',\n",
              "   'sensor',\n",
              "   'technology',\n",
              "   'recognition',\n",
              "   'iphone',\n",
              "   'smartphones',\n",
              "   'hands',\n",
              "   'charging',\n",
              "   'senses',\n",
              "   'android'], ['##s',\n",
              "   'samsung',\n",
              "   ',',\n",
              "   'explore',\n",
              "   'the',\n",
              "   'which',\n",
              "   'keep',\n",
              "   ';',\n",
              "   'sound',\n",
              "   'clean',\n",
              "   'to',\n",
              "   'edge',\n",
              "   'commands',\n",
              "   'bluetooth',\n",
              "   'it',\n",
              "   'yourself',\n",
              "   'call',\n",
              "   'screen',\n",
              "   '##mail',\n",
              "   'formerly']),\n",
              " (372,\n",
              "  888): (['led',\n",
              "   'helps',\n",
              "   'stops',\n",
              "   'usb',\n",
              "   'offer',\n",
              "   'provide',\n",
              "   'speed',\n",
              "   'automatically',\n",
              "   'adapter',\n",
              "   'protects',\n",
              "   'iphone',\n",
              "   'lightning',\n",
              "   'optimal',\n",
              "   'efficiency',\n",
              "   'charging'], ['computer',\n",
              "   'call',\n",
              "   'for',\n",
              "   'flash',\n",
              "   'quality',\n",
              "   'to',\n",
              "   'extremely',\n",
              "   'small',\n",
              "   'purse',\n",
              "   'high',\n",
              "   'communication',\n",
              "   '.',\n",
              "   'on',\n",
              "   'output',\n",
              "   'it',\n",
              "   'charge']),\n",
              " (411, 285): (['people', 'incipio', 'packaging', 'iphone', 'iph'],\n",
              "  ['offices', '!', 'successful', 'card', 'secure']),\n",
              " (411, 659): (['iphone'], ['.', 'protection']),\n",
              " (427, 770): (['support', 'warranty', 'products', 'famous', 'world'],\n",
              "  ['designed', '#', 'and', 'safe', '!', 'amp']),\n",
              " (427,\n",
              "  968): (['poweriq',\n",
              "   'amp',\n",
              "   'travel',\n",
              "   'charges',\n",
              "   'famous',\n",
              "   'circuitry',\n",
              "   '26800mah',\n",
              "   'phone',\n",
              "   'output',\n",
              "   'products',\n",
              "   'astro',\n",
              "   'times',\n",
              "   'deliver',\n",
              "   'soundbar',\n",
              "   'anker',\n",
              "   'twice',\n",
              "   'america',\n",
              "   'bank',\n",
              "   'meter',\n",
              "   'power',\n",
              "   'capacity',\n",
              "   'nintendo',\n",
              "   'boot',\n",
              "   'cells',\n",
              "   'detects',\n",
              "   'speed',\n",
              "   'air',\n",
              "   'premium',\n",
              "   'multiple',\n",
              "   'warranty',\n",
              "   'giant',\n",
              "   'iphone',\n",
              "   'amps',\n",
              "   'support',\n",
              "   'else',\n",
              "   'possibly'], ['seconds',\n",
              "   'battery',\n",
              "   'every',\n",
              "   'website',\n",
              "   '10',\n",
              "   'four',\n",
              "   'the',\n",
              "   'devices',\n",
              "   'six',\n",
              "   'portable',\n",
              "   'hold',\n",
              "   'one',\n",
              "   'capacity',\n",
              "   'wide',\n",
              "   'raised',\n",
              "   'device',\n",
              "   'with',\n",
              "   'optimal',\n",
              "   'for',\n",
              "   'apply',\n",
              "   'power',\n",
              "   'going',\n",
              "   'bring',\n",
              "   'cables',\n",
              "   'two',\n",
              "   'wireless',\n",
              "   'technology',\n",
              "   'and',\n",
              "   ':',\n",
              "   'going',\n",
              "   'safer',\n",
              "   'unique',\n",
              "   'function',\n",
              "   'a',\n",
              "   'devices',\n",
              "   'state',\n",
              "   'design',\n",
              "   'cart',\n",
              "   'batteries',\n",
              "   'very',\n",
              "   'ultra',\n",
              "   'provided',\n",
              "   'or',\n",
              "   'usb',\n",
              "   'pocket',\n",
              "   'wood']),\n",
              " (427,\n",
              "  1633): (['usb',\n",
              "   'macbooks',\n",
              "   'samsung',\n",
              "   'leading',\n",
              "   'premium',\n",
              "   'battery',\n",
              "   'powercore',\n",
              "   'anker',\n",
              "   'poweriq',\n",
              "   'nexus',\n",
              "   'ultra',\n",
              "   'charger',\n",
              "   'iphone',\n",
              "   'capacity',\n",
              "   'ipad',\n",
              "   'portable',\n",
              "   'join'], ['this',\n",
              "   'look',\n",
              "   'access',\n",
              "   'to',\n",
              "   '20100mah',\n",
              "   'please',\n",
              "   'ports',\n",
              "   'finish',\n",
              "   '@',\n",
              "   'compatible',\n",
              "   'keep',\n",
              "   'code',\n",
              "   'your',\n",
              "   'plastic',\n",
              "   'compact',\n",
              "   'connection',\n",
              "   'the']),\n",
              " (427, 479): (['samsung', 'galaxy', 'amfilm', 'screen', 'clear', 'invisible'],\n",
              "  ['contains',\n",
              "   '&',\n",
              "   'and',\n",
              "   'compatible',\n",
              "   'invisible',\n",
              "   'kit',\n",
              "   '.',\n",
              "   'restoration']),\n",
              " (452, 647): (['battery', 'series', 'time', 'iphone', 'charging'],\n",
              "  ['and', 'means', 'case', 'standard', 'for', 'for', 'platform', '-', '.']),\n",
              " (452,\n",
              "  555): (['10',\n",
              "   'samsung',\n",
              "   'inch',\n",
              "   'warranty',\n",
              "   'iphone',\n",
              "   'home',\n",
              "   'cellphone'], ['color', ';', 'safe', '.', 'moko', '!', 'office', 'each']),\n",
              " (452, 991): (['poetic', 'iphone'], ['me', 'and', 'premium']),\n",
              " (452, 1353): (['iphone', 'case'], ['that', '6', 'hard', '8']),\n",
              " (466,\n",
              "  1492): (['tint',\n",
              "   'venture',\n",
              "   'series',\n",
              "   'amp',\n",
              "   'retail',\n",
              "   'blue',\n",
              "   'packaging',\n",
              "   'iphone',\n",
              "   'sync',\n",
              "   'fusion',\n",
              "   'case'], ['you',\n",
              "   ':',\n",
              "   'of',\n",
              "   'impact',\n",
              "   '.',\n",
              "   'or',\n",
              "   'please',\n",
              "   'critical',\n",
              "   '-',\n",
              "   ':',\n",
              "   'exposure',\n",
              "   'look']),\n",
              " (466,\n",
              "  271): (['protection',\n",
              "   'products',\n",
              "   'iphone',\n",
              "   'raspberry',\n",
              "   'pink',\n",
              "   'case'], ['hard', '##s', 'hp', 'pi', 'also', 'interior']),\n",
              " (466,\n",
              "  1505): (['lime',\n",
              "   'series',\n",
              "   'retail',\n",
              "   'packaging',\n",
              "   'iphone',\n",
              "   'lite',\n",
              "   'case'], ['.', 'usb', 'proper', 'air', 'selection', '.', 'less']),\n",
              " (472, 607): (['perfectly', 'iphone', 'screen', 'alin', 'protector'],\n",
              "  ['.', 'filter', 'back', 'a', 'load']),\n",
              " (472, 1487): (['retail', 'packaging', 'iphone', 'otterbox', 'case'],\n",
              "  ['has', 'complete', 'and', 'high', 'protection']),\n",
              " (472, 1278): (['resistant', 'fits', 'buttons', 'card', 'phone', 'case'],\n",
              "  ['soft', 'with', 'card', ';', 'new', 'smart', ';']),\n",
              " (472,\n",
              "  1472): (['symmetry',\n",
              "   'protection',\n",
              "   'express',\n",
              "   'series',\n",
              "   'galaxy',\n",
              "   'otterbox',\n",
              "   'case',\n",
              "   'authentic'], ['vibration',\n",
              "   'and',\n",
              "   'watch',\n",
              "   'samsung',\n",
              "   'perfectly',\n",
              "   'premium',\n",
              "   'prime',\n",
              "   'galaxy',\n",
              "   'or']),\n",
              " (472, 1550): (['edge', 'marriage', 'case', 'composite'],\n",
              "  ['composite', 'weight', 'device', '.']),\n",
              " (527,\n",
              "  508): (['left',\n",
              "   'mipow',\n",
              "   'tube',\n",
              "   '5200mah',\n",
              "   'phone',\n",
              "   'power',\n",
              "   'charger',\n",
              "   'extra',\n",
              "   'support',\n",
              "   'cable'], ['battery',\n",
              "   'one',\n",
              "   '4',\n",
              "   'usb',\n",
              "   '.',\n",
              "   '.',\n",
              "   'connector',\n",
              "   '.',\n",
              "   '/',\n",
              "   'convenient']),\n",
              " (527,\n",
              "  350): (['manufacturer',\n",
              "   'ricocheting',\n",
              "   'flying',\n",
              "   'packaging',\n",
              "   'iphone',\n",
              "   'discontinued',\n",
              "   'white'], ['crazy', 'dirt', '.', 'need', 'in', 'lines', '.']),\n",
              " (527, 1281): (['ideal', 'magnetic', 'phone', 'iphone', 'vertically'],\n",
              "  ['designed', '?', 'test', 'models', 'cylinder', 'smaller']),\n",
              " (527, 927): (['iphone'], ['-', 'collision']),\n",
              " (527, 1348): (['smartphone', 'gunmetal', '20mp', 'one', '32gb', 'gsm', 'htc'],\n",
              "  ['camera', '-', '-', 'ones', 'the', 'and', 'grip'])}"
            ]
          },
          "metadata": {},
          "execution_count": 58
        }
      ]
    },
    {
      "cell_type": "markdown",
      "source": [
        "cuda:0\n",
        "lr: 0.1    temp: 1.0    l1_b: 2.0    prob_c: 10000.0\n",
        "\n",
        "100%|██████████| 93/93 [1:02:01<00:00, 40.01s/it]\n",
        "\n",
        "ave num:  9.617728531855956 no_exp_count:  104 exp_count:  361\n",
        "user's perspective:\n",
        "ave pre:  0.1103627430177672   ave rec:  0.06848063392516375   ave f1:  0.07372088911510503\n",
        "model's perspective:\n",
        "ave PN:  0.9750692520775623   ave PS:  0.9944598337950139   ave F_{NS}:  0.9846690900023767\n"
      ],
      "metadata": {
        "id": "_wwlMG_FLHzI"
      }
    },
    {
      "cell_type": "code",
      "source": [
        "lens=[]\n",
        "for item in rec_dataset.inv_item_name_dict.keys():\n",
        "  lens.append(get_features(item)[0])"
      ],
      "metadata": {
        "id": "rmfNnAcCJ-VT"
      },
      "execution_count": null,
      "outputs": []
    },
    {
      "cell_type": "code",
      "source": [
        "print(np.average(lens))"
      ],
      "metadata": {
        "colab": {
          "base_uri": "https://localhost:8080/"
        },
        "id": "3JRRhfYDK43_",
        "outputId": "bed91b4c-4d5c-4fd8-af06-4b983a4dc59b"
      },
      "execution_count": null,
      "outputs": [
        {
          "output_type": "stream",
          "name": "stdout",
          "text": [
            "165.66185567010308\n"
          ]
        }
      ]
    },
    {
      "cell_type": "code",
      "source": [
        "15.6/165"
      ],
      "metadata": {
        "colab": {
          "base_uri": "https://localhost:8080/"
        },
        "id": "WTjBO7DIK9v8",
        "outputId": "c3e42c51-757d-43d4-8e53-4697b7a41829"
      },
      "execution_count": null,
      "outputs": [
        {
          "output_type": "execute_result",
          "data": {
            "text/plain": [
              "0.09454545454545454"
            ]
          },
          "metadata": {},
          "execution_count": 82
        }
      ]
    },
    {
      "cell_type": "code",
      "source": [
        "df_vect_desc_item= pd.read_json(save_path+'descriptions_bert/'+'{}.json'.format('B005SUHRH6'))\n",
        "df_vect_title_item= pd.read_json(save_path+'titles_bert/'+'{}.json'.format('B005SUHRH6'))\n",
        "df_vect_feature_item= pd.read_json(save_path+'features_bert/'+'{}.json'.format('B005SUHRH6'))"
      ],
      "metadata": {
        "id": "sKWbEB-7ViA5"
      },
      "execution_count": null,
      "outputs": []
    },
    {
      "cell_type": "code",
      "source": [
        "df_vect_feature_item[50:80]"
      ],
      "metadata": {
        "colab": {
          "base_uri": "https://localhost:8080/",
          "height": 990
        },
        "id": "IzvZJtSZVsbW",
        "outputId": "f924ed9d-5f33-42ed-bc16-085bbe4e4137"
      },
      "execution_count": null,
      "outputs": [
        {
          "output_type": "execute_result",
          "data": {
            "text/plain": [
              "        logit replaced_word feature_words  \\\n",
              "50   7.369977          plug           usb   \n",
              "51   7.482923        socket           usb   \n",
              "52   8.356534     connector           usb   \n",
              "53  11.160816          pins           usb   \n",
              "54  14.596963           pin           usb   \n",
              "55   5.000000           usb           usb   \n",
              "56   8.763692     connector     lightning   \n",
              "57   8.776958          port     lightning   \n",
              "58   9.968749           usb     lightning   \n",
              "59  11.939353           pin     lightning   \n",
              "60   5.000000     lightning     lightning   \n",
              "61   6.055697             |        cables   \n",
              "62   6.852102             ?        cables   \n",
              "63   8.254688             !        cables   \n",
              "64  13.592566             ;        cables   \n",
              "65  18.403915             .        cables   \n",
              "66   5.000000        cables        cables   \n",
              "67  12.000000      adapters      adapters   \n",
              "68   5.954945           air          drop   \n",
              "69   5.994893          heat          drop   \n",
              "70   6.270002         water          drop   \n",
              "71   6.361749       surface          drop   \n",
              "72   6.807731          dust          drop   \n",
              "73   5.000000          drop          drop   \n",
              "74   5.928583          some    protection   \n",
              "75   6.155573             a    protection   \n",
              "76   6.176774            of    protection   \n",
              "77   6.302132            on    protection   \n",
              "78   9.020075           the    protection   \n",
              "79   5.000000    protection    protection   \n",
              "\n",
              "                                        feature_vects  \n",
              "50  [0.3451986611, -0.047913707800000004, 0.499550...  \n",
              "51  [0.6237714887, -0.2293379307, 0.03471336140000...  \n",
              "52  [0.8944671154, -0.23064228890000002, 0.3981048...  \n",
              "53  [0.42672345040000004, 0.40431830290000004, 0.4...  \n",
              "54  [0.46698412300000003, -0.3236961067, 0.5272601...  \n",
              "55  [0.0133157885, -0.1174044833, 0.3586080968, 0....  \n",
              "56  [0.6830018163, -0.7294709086000001, 0.04348436...  \n",
              "57  [-0.2468748987, -0.7753401399000001, 0.2136877...  \n",
              "58  [0.14637564120000002, -0.3030876219, 0.3372566...  \n",
              "59  [0.29500448700000004, -0.2540922165, 0.5088470...  \n",
              "60  [0.671184957, -0.0601037741, 0.400289624900000...  \n",
              "61  [-0.3422879279, -1.0709651709, -0.2549002469, ...  \n",
              "62  [-0.14899671080000002, -0.5971987844000001, -0...  \n",
              "63  [-0.5817197561, -0.8534200788, 0.0511091240000...  \n",
              "64  [-1.2353101969, -0.30849078300000005, -1.00561...  \n",
              "65  [0.6070592999000001, -0.0171866231, -0.4881298...  \n",
              "66  [0.6118146181, -0.3049056828, 0.5793243051, 0....  \n",
              "67  [-0.22759529950000001, 0.3631500006, 0.0602906...  \n",
              "68  [0.0126447929, 0.4992359281, 0.699401080600000...  \n",
              "69  [0.1076116636, 0.2744801342, 0.905641377, -0.1...  \n",
              "70  [0.10416436200000001, 0.4478968978, 0.33404564...  \n",
              "71  [0.5818451047000001, 0.0510448068, 0.571982324...  \n",
              "72  [0.5505945683, 0.1114001349, 0.7222960591, -0....  \n",
              "73  [0.41955202820000004, 0.146756947, 0.620957553...  \n",
              "74  [-0.1877443194, -0.5506439805000001, 0.4111155...  \n",
              "75  [-0.1079841852, 0.5237098932, -0.16145657, 0.0...  \n",
              "76  [-0.4683236182, 0.08410689980000001, -0.205966...  \n",
              "77  [0.0581165962, 0.1470233351, 0.129464149500000...  \n",
              "78  [-0.29811239240000004, -0.2522083223, 0.180222...  \n",
              "79  [0.23694689570000002, 0.9865238070000001, -0.1...  "
            ],
            "text/html": [
              "\n",
              "  <div id=\"df-0678c1dc-07a1-4bc7-9947-95ab14ea81c0\">\n",
              "    <div class=\"colab-df-container\">\n",
              "      <div>\n",
              "<style scoped>\n",
              "    .dataframe tbody tr th:only-of-type {\n",
              "        vertical-align: middle;\n",
              "    }\n",
              "\n",
              "    .dataframe tbody tr th {\n",
              "        vertical-align: top;\n",
              "    }\n",
              "\n",
              "    .dataframe thead th {\n",
              "        text-align: right;\n",
              "    }\n",
              "</style>\n",
              "<table border=\"1\" class=\"dataframe\">\n",
              "  <thead>\n",
              "    <tr style=\"text-align: right;\">\n",
              "      <th></th>\n",
              "      <th>logit</th>\n",
              "      <th>replaced_word</th>\n",
              "      <th>feature_words</th>\n",
              "      <th>feature_vects</th>\n",
              "    </tr>\n",
              "  </thead>\n",
              "  <tbody>\n",
              "    <tr>\n",
              "      <th>50</th>\n",
              "      <td>7.369977</td>\n",
              "      <td>plug</td>\n",
              "      <td>usb</td>\n",
              "      <td>[0.3451986611, -0.047913707800000004, 0.499550...</td>\n",
              "    </tr>\n",
              "    <tr>\n",
              "      <th>51</th>\n",
              "      <td>7.482923</td>\n",
              "      <td>socket</td>\n",
              "      <td>usb</td>\n",
              "      <td>[0.6237714887, -0.2293379307, 0.03471336140000...</td>\n",
              "    </tr>\n",
              "    <tr>\n",
              "      <th>52</th>\n",
              "      <td>8.356534</td>\n",
              "      <td>connector</td>\n",
              "      <td>usb</td>\n",
              "      <td>[0.8944671154, -0.23064228890000002, 0.3981048...</td>\n",
              "    </tr>\n",
              "    <tr>\n",
              "      <th>53</th>\n",
              "      <td>11.160816</td>\n",
              "      <td>pins</td>\n",
              "      <td>usb</td>\n",
              "      <td>[0.42672345040000004, 0.40431830290000004, 0.4...</td>\n",
              "    </tr>\n",
              "    <tr>\n",
              "      <th>54</th>\n",
              "      <td>14.596963</td>\n",
              "      <td>pin</td>\n",
              "      <td>usb</td>\n",
              "      <td>[0.46698412300000003, -0.3236961067, 0.5272601...</td>\n",
              "    </tr>\n",
              "    <tr>\n",
              "      <th>55</th>\n",
              "      <td>5.000000</td>\n",
              "      <td>usb</td>\n",
              "      <td>usb</td>\n",
              "      <td>[0.0133157885, -0.1174044833, 0.3586080968, 0....</td>\n",
              "    </tr>\n",
              "    <tr>\n",
              "      <th>56</th>\n",
              "      <td>8.763692</td>\n",
              "      <td>connector</td>\n",
              "      <td>lightning</td>\n",
              "      <td>[0.6830018163, -0.7294709086000001, 0.04348436...</td>\n",
              "    </tr>\n",
              "    <tr>\n",
              "      <th>57</th>\n",
              "      <td>8.776958</td>\n",
              "      <td>port</td>\n",
              "      <td>lightning</td>\n",
              "      <td>[-0.2468748987, -0.7753401399000001, 0.2136877...</td>\n",
              "    </tr>\n",
              "    <tr>\n",
              "      <th>58</th>\n",
              "      <td>9.968749</td>\n",
              "      <td>usb</td>\n",
              "      <td>lightning</td>\n",
              "      <td>[0.14637564120000002, -0.3030876219, 0.3372566...</td>\n",
              "    </tr>\n",
              "    <tr>\n",
              "      <th>59</th>\n",
              "      <td>11.939353</td>\n",
              "      <td>pin</td>\n",
              "      <td>lightning</td>\n",
              "      <td>[0.29500448700000004, -0.2540922165, 0.5088470...</td>\n",
              "    </tr>\n",
              "    <tr>\n",
              "      <th>60</th>\n",
              "      <td>5.000000</td>\n",
              "      <td>lightning</td>\n",
              "      <td>lightning</td>\n",
              "      <td>[0.671184957, -0.0601037741, 0.400289624900000...</td>\n",
              "    </tr>\n",
              "    <tr>\n",
              "      <th>61</th>\n",
              "      <td>6.055697</td>\n",
              "      <td>|</td>\n",
              "      <td>cables</td>\n",
              "      <td>[-0.3422879279, -1.0709651709, -0.2549002469, ...</td>\n",
              "    </tr>\n",
              "    <tr>\n",
              "      <th>62</th>\n",
              "      <td>6.852102</td>\n",
              "      <td>?</td>\n",
              "      <td>cables</td>\n",
              "      <td>[-0.14899671080000002, -0.5971987844000001, -0...</td>\n",
              "    </tr>\n",
              "    <tr>\n",
              "      <th>63</th>\n",
              "      <td>8.254688</td>\n",
              "      <td>!</td>\n",
              "      <td>cables</td>\n",
              "      <td>[-0.5817197561, -0.8534200788, 0.0511091240000...</td>\n",
              "    </tr>\n",
              "    <tr>\n",
              "      <th>64</th>\n",
              "      <td>13.592566</td>\n",
              "      <td>;</td>\n",
              "      <td>cables</td>\n",
              "      <td>[-1.2353101969, -0.30849078300000005, -1.00561...</td>\n",
              "    </tr>\n",
              "    <tr>\n",
              "      <th>65</th>\n",
              "      <td>18.403915</td>\n",
              "      <td>.</td>\n",
              "      <td>cables</td>\n",
              "      <td>[0.6070592999000001, -0.0171866231, -0.4881298...</td>\n",
              "    </tr>\n",
              "    <tr>\n",
              "      <th>66</th>\n",
              "      <td>5.000000</td>\n",
              "      <td>cables</td>\n",
              "      <td>cables</td>\n",
              "      <td>[0.6118146181, -0.3049056828, 0.5793243051, 0....</td>\n",
              "    </tr>\n",
              "    <tr>\n",
              "      <th>67</th>\n",
              "      <td>12.000000</td>\n",
              "      <td>adapters</td>\n",
              "      <td>adapters</td>\n",
              "      <td>[-0.22759529950000001, 0.3631500006, 0.0602906...</td>\n",
              "    </tr>\n",
              "    <tr>\n",
              "      <th>68</th>\n",
              "      <td>5.954945</td>\n",
              "      <td>air</td>\n",
              "      <td>drop</td>\n",
              "      <td>[0.0126447929, 0.4992359281, 0.699401080600000...</td>\n",
              "    </tr>\n",
              "    <tr>\n",
              "      <th>69</th>\n",
              "      <td>5.994893</td>\n",
              "      <td>heat</td>\n",
              "      <td>drop</td>\n",
              "      <td>[0.1076116636, 0.2744801342, 0.905641377, -0.1...</td>\n",
              "    </tr>\n",
              "    <tr>\n",
              "      <th>70</th>\n",
              "      <td>6.270002</td>\n",
              "      <td>water</td>\n",
              "      <td>drop</td>\n",
              "      <td>[0.10416436200000001, 0.4478968978, 0.33404564...</td>\n",
              "    </tr>\n",
              "    <tr>\n",
              "      <th>71</th>\n",
              "      <td>6.361749</td>\n",
              "      <td>surface</td>\n",
              "      <td>drop</td>\n",
              "      <td>[0.5818451047000001, 0.0510448068, 0.571982324...</td>\n",
              "    </tr>\n",
              "    <tr>\n",
              "      <th>72</th>\n",
              "      <td>6.807731</td>\n",
              "      <td>dust</td>\n",
              "      <td>drop</td>\n",
              "      <td>[0.5505945683, 0.1114001349, 0.7222960591, -0....</td>\n",
              "    </tr>\n",
              "    <tr>\n",
              "      <th>73</th>\n",
              "      <td>5.000000</td>\n",
              "      <td>drop</td>\n",
              "      <td>drop</td>\n",
              "      <td>[0.41955202820000004, 0.146756947, 0.620957553...</td>\n",
              "    </tr>\n",
              "    <tr>\n",
              "      <th>74</th>\n",
              "      <td>5.928583</td>\n",
              "      <td>some</td>\n",
              "      <td>protection</td>\n",
              "      <td>[-0.1877443194, -0.5506439805000001, 0.4111155...</td>\n",
              "    </tr>\n",
              "    <tr>\n",
              "      <th>75</th>\n",
              "      <td>6.155573</td>\n",
              "      <td>a</td>\n",
              "      <td>protection</td>\n",
              "      <td>[-0.1079841852, 0.5237098932, -0.16145657, 0.0...</td>\n",
              "    </tr>\n",
              "    <tr>\n",
              "      <th>76</th>\n",
              "      <td>6.176774</td>\n",
              "      <td>of</td>\n",
              "      <td>protection</td>\n",
              "      <td>[-0.4683236182, 0.08410689980000001, -0.205966...</td>\n",
              "    </tr>\n",
              "    <tr>\n",
              "      <th>77</th>\n",
              "      <td>6.302132</td>\n",
              "      <td>on</td>\n",
              "      <td>protection</td>\n",
              "      <td>[0.0581165962, 0.1470233351, 0.129464149500000...</td>\n",
              "    </tr>\n",
              "    <tr>\n",
              "      <th>78</th>\n",
              "      <td>9.020075</td>\n",
              "      <td>the</td>\n",
              "      <td>protection</td>\n",
              "      <td>[-0.29811239240000004, -0.2522083223, 0.180222...</td>\n",
              "    </tr>\n",
              "    <tr>\n",
              "      <th>79</th>\n",
              "      <td>5.000000</td>\n",
              "      <td>protection</td>\n",
              "      <td>protection</td>\n",
              "      <td>[0.23694689570000002, 0.9865238070000001, -0.1...</td>\n",
              "    </tr>\n",
              "  </tbody>\n",
              "</table>\n",
              "</div>\n",
              "      <button class=\"colab-df-convert\" onclick=\"convertToInteractive('df-0678c1dc-07a1-4bc7-9947-95ab14ea81c0')\"\n",
              "              title=\"Convert this dataframe to an interactive table.\"\n",
              "              style=\"display:none;\">\n",
              "        \n",
              "  <svg xmlns=\"http://www.w3.org/2000/svg\" height=\"24px\"viewBox=\"0 0 24 24\"\n",
              "       width=\"24px\">\n",
              "    <path d=\"M0 0h24v24H0V0z\" fill=\"none\"/>\n",
              "    <path d=\"M18.56 5.44l.94 2.06.94-2.06 2.06-.94-2.06-.94-.94-2.06-.94 2.06-2.06.94zm-11 1L8.5 8.5l.94-2.06 2.06-.94-2.06-.94L8.5 2.5l-.94 2.06-2.06.94zm10 10l.94 2.06.94-2.06 2.06-.94-2.06-.94-.94-2.06-.94 2.06-2.06.94z\"/><path d=\"M17.41 7.96l-1.37-1.37c-.4-.4-.92-.59-1.43-.59-.52 0-1.04.2-1.43.59L10.3 9.45l-7.72 7.72c-.78.78-.78 2.05 0 2.83L4 21.41c.39.39.9.59 1.41.59.51 0 1.02-.2 1.41-.59l7.78-7.78 2.81-2.81c.8-.78.8-2.07 0-2.86zM5.41 20L4 18.59l7.72-7.72 1.47 1.35L5.41 20z\"/>\n",
              "  </svg>\n",
              "      </button>\n",
              "      \n",
              "  <style>\n",
              "    .colab-df-container {\n",
              "      display:flex;\n",
              "      flex-wrap:wrap;\n",
              "      gap: 12px;\n",
              "    }\n",
              "\n",
              "    .colab-df-convert {\n",
              "      background-color: #E8F0FE;\n",
              "      border: none;\n",
              "      border-radius: 50%;\n",
              "      cursor: pointer;\n",
              "      display: none;\n",
              "      fill: #1967D2;\n",
              "      height: 32px;\n",
              "      padding: 0 0 0 0;\n",
              "      width: 32px;\n",
              "    }\n",
              "\n",
              "    .colab-df-convert:hover {\n",
              "      background-color: #E2EBFA;\n",
              "      box-shadow: 0px 1px 2px rgba(60, 64, 67, 0.3), 0px 1px 3px 1px rgba(60, 64, 67, 0.15);\n",
              "      fill: #174EA6;\n",
              "    }\n",
              "\n",
              "    [theme=dark] .colab-df-convert {\n",
              "      background-color: #3B4455;\n",
              "      fill: #D2E3FC;\n",
              "    }\n",
              "\n",
              "    [theme=dark] .colab-df-convert:hover {\n",
              "      background-color: #434B5C;\n",
              "      box-shadow: 0px 1px 3px 1px rgba(0, 0, 0, 0.15);\n",
              "      filter: drop-shadow(0px 1px 2px rgba(0, 0, 0, 0.3));\n",
              "      fill: #FFFFFF;\n",
              "    }\n",
              "  </style>\n",
              "\n",
              "      <script>\n",
              "        const buttonEl =\n",
              "          document.querySelector('#df-0678c1dc-07a1-4bc7-9947-95ab14ea81c0 button.colab-df-convert');\n",
              "        buttonEl.style.display =\n",
              "          google.colab.kernel.accessAllowed ? 'block' : 'none';\n",
              "\n",
              "        async function convertToInteractive(key) {\n",
              "          const element = document.querySelector('#df-0678c1dc-07a1-4bc7-9947-95ab14ea81c0');\n",
              "          const dataTable =\n",
              "            await google.colab.kernel.invokeFunction('convertToInteractive',\n",
              "                                                     [key], {});\n",
              "          if (!dataTable) return;\n",
              "\n",
              "          const docLinkHtml = 'Like what you see? Visit the ' +\n",
              "            '<a target=\"_blank\" href=https://colab.research.google.com/notebooks/data_table.ipynb>data table notebook</a>'\n",
              "            + ' to learn more about interactive tables.';\n",
              "          element.innerHTML = '';\n",
              "          dataTable['output_type'] = 'display_data';\n",
              "          await google.colab.output.renderOutput(dataTable, element);\n",
              "          const docLink = document.createElement('div');\n",
              "          docLink.innerHTML = docLinkHtml;\n",
              "          element.appendChild(docLink);\n",
              "        }\n",
              "      </script>\n",
              "    </div>\n",
              "  </div>\n",
              "  "
            ]
          },
          "metadata": {},
          "execution_count": 497
        }
      ]
    },
    {
      "cell_type": "code",
      "source": [
        "df_vect_feature_item"
      ],
      "metadata": {
        "colab": {
          "base_uri": "https://localhost:8080/",
          "height": 424
        },
        "id": "-FjQV_REVwkO",
        "outputId": "52c0dfd2-9027-4a83-9d6d-d04df83932d4"
      },
      "execution_count": null,
      "outputs": [
        {
          "output_type": "execute_result",
          "data": {
            "text/plain": [
              "         logit  replaced_word  feature_words  \\\n",
              "0     6.166025          their           thin   \n",
              "1     8.826415            its           thin   \n",
              "2    10.703783           this           thin   \n",
              "3    12.222874              a           thin   \n",
              "4    12.750452            the           thin   \n",
              "..         ...            ...            ...   \n",
              "310  15.545843              .  functionality   \n",
              "311   5.000000  functionality  functionality   \n",
              "312  12.000000       slipcove       slipcove   \n",
              "313  12.000000  polycarbonate  polycarbonate   \n",
              "314  12.000000       adhesive       adhesive   \n",
              "\n",
              "                                         feature_vects  \n",
              "0    [-0.3473565876, 0.20034636560000002, -0.155139...  \n",
              "1    [-0.492998749, -0.0604706109, 0.0940119326, 0....  \n",
              "2    [-0.3779140711, -0.0742769316, 0.4536553621, 0...  \n",
              "3    [-0.33735147120000003, 0.3568473458, 0.2088575...  \n",
              "4    [-0.3229449391, 0.0389152393, 0.1690048426, 0....  \n",
              "..                                                 ...  \n",
              "310  [-0.6461682916, -0.7841964960000001, 0.0656060...  \n",
              "311  [-0.0949051902, 0.14716817440000002, -0.002338...  \n",
              "312  [-0.8096024394, -0.3548494875, 0.3294498622, 0...  \n",
              "313  [0.5454215407, 0.1840000153, 0.4778344333, 0.4...  \n",
              "314  [0.4294275343, 0.40629401800000003, 0.38288491...  \n",
              "\n",
              "[315 rows x 4 columns]"
            ],
            "text/html": [
              "\n",
              "  <div id=\"df-41eef88b-2852-440b-8e3d-b0e2b4a3ce80\">\n",
              "    <div class=\"colab-df-container\">\n",
              "      <div>\n",
              "<style scoped>\n",
              "    .dataframe tbody tr th:only-of-type {\n",
              "        vertical-align: middle;\n",
              "    }\n",
              "\n",
              "    .dataframe tbody tr th {\n",
              "        vertical-align: top;\n",
              "    }\n",
              "\n",
              "    .dataframe thead th {\n",
              "        text-align: right;\n",
              "    }\n",
              "</style>\n",
              "<table border=\"1\" class=\"dataframe\">\n",
              "  <thead>\n",
              "    <tr style=\"text-align: right;\">\n",
              "      <th></th>\n",
              "      <th>logit</th>\n",
              "      <th>replaced_word</th>\n",
              "      <th>feature_words</th>\n",
              "      <th>feature_vects</th>\n",
              "    </tr>\n",
              "  </thead>\n",
              "  <tbody>\n",
              "    <tr>\n",
              "      <th>0</th>\n",
              "      <td>6.166025</td>\n",
              "      <td>their</td>\n",
              "      <td>thin</td>\n",
              "      <td>[-0.3473565876, 0.20034636560000002, -0.155139...</td>\n",
              "    </tr>\n",
              "    <tr>\n",
              "      <th>1</th>\n",
              "      <td>8.826415</td>\n",
              "      <td>its</td>\n",
              "      <td>thin</td>\n",
              "      <td>[-0.492998749, -0.0604706109, 0.0940119326, 0....</td>\n",
              "    </tr>\n",
              "    <tr>\n",
              "      <th>2</th>\n",
              "      <td>10.703783</td>\n",
              "      <td>this</td>\n",
              "      <td>thin</td>\n",
              "      <td>[-0.3779140711, -0.0742769316, 0.4536553621, 0...</td>\n",
              "    </tr>\n",
              "    <tr>\n",
              "      <th>3</th>\n",
              "      <td>12.222874</td>\n",
              "      <td>a</td>\n",
              "      <td>thin</td>\n",
              "      <td>[-0.33735147120000003, 0.3568473458, 0.2088575...</td>\n",
              "    </tr>\n",
              "    <tr>\n",
              "      <th>4</th>\n",
              "      <td>12.750452</td>\n",
              "      <td>the</td>\n",
              "      <td>thin</td>\n",
              "      <td>[-0.3229449391, 0.0389152393, 0.1690048426, 0....</td>\n",
              "    </tr>\n",
              "    <tr>\n",
              "      <th>...</th>\n",
              "      <td>...</td>\n",
              "      <td>...</td>\n",
              "      <td>...</td>\n",
              "      <td>...</td>\n",
              "    </tr>\n",
              "    <tr>\n",
              "      <th>310</th>\n",
              "      <td>15.545843</td>\n",
              "      <td>.</td>\n",
              "      <td>functionality</td>\n",
              "      <td>[-0.6461682916, -0.7841964960000001, 0.0656060...</td>\n",
              "    </tr>\n",
              "    <tr>\n",
              "      <th>311</th>\n",
              "      <td>5.000000</td>\n",
              "      <td>functionality</td>\n",
              "      <td>functionality</td>\n",
              "      <td>[-0.0949051902, 0.14716817440000002, -0.002338...</td>\n",
              "    </tr>\n",
              "    <tr>\n",
              "      <th>312</th>\n",
              "      <td>12.000000</td>\n",
              "      <td>slipcove</td>\n",
              "      <td>slipcove</td>\n",
              "      <td>[-0.8096024394, -0.3548494875, 0.3294498622, 0...</td>\n",
              "    </tr>\n",
              "    <tr>\n",
              "      <th>313</th>\n",
              "      <td>12.000000</td>\n",
              "      <td>polycarbonate</td>\n",
              "      <td>polycarbonate</td>\n",
              "      <td>[0.5454215407, 0.1840000153, 0.4778344333, 0.4...</td>\n",
              "    </tr>\n",
              "    <tr>\n",
              "      <th>314</th>\n",
              "      <td>12.000000</td>\n",
              "      <td>adhesive</td>\n",
              "      <td>adhesive</td>\n",
              "      <td>[0.4294275343, 0.40629401800000003, 0.38288491...</td>\n",
              "    </tr>\n",
              "  </tbody>\n",
              "</table>\n",
              "<p>315 rows × 4 columns</p>\n",
              "</div>\n",
              "      <button class=\"colab-df-convert\" onclick=\"convertToInteractive('df-41eef88b-2852-440b-8e3d-b0e2b4a3ce80')\"\n",
              "              title=\"Convert this dataframe to an interactive table.\"\n",
              "              style=\"display:none;\">\n",
              "        \n",
              "  <svg xmlns=\"http://www.w3.org/2000/svg\" height=\"24px\"viewBox=\"0 0 24 24\"\n",
              "       width=\"24px\">\n",
              "    <path d=\"M0 0h24v24H0V0z\" fill=\"none\"/>\n",
              "    <path d=\"M18.56 5.44l.94 2.06.94-2.06 2.06-.94-2.06-.94-.94-2.06-.94 2.06-2.06.94zm-11 1L8.5 8.5l.94-2.06 2.06-.94-2.06-.94L8.5 2.5l-.94 2.06-2.06.94zm10 10l.94 2.06.94-2.06 2.06-.94-2.06-.94-.94-2.06-.94 2.06-2.06.94z\"/><path d=\"M17.41 7.96l-1.37-1.37c-.4-.4-.92-.59-1.43-.59-.52 0-1.04.2-1.43.59L10.3 9.45l-7.72 7.72c-.78.78-.78 2.05 0 2.83L4 21.41c.39.39.9.59 1.41.59.51 0 1.02-.2 1.41-.59l7.78-7.78 2.81-2.81c.8-.78.8-2.07 0-2.86zM5.41 20L4 18.59l7.72-7.72 1.47 1.35L5.41 20z\"/>\n",
              "  </svg>\n",
              "      </button>\n",
              "      \n",
              "  <style>\n",
              "    .colab-df-container {\n",
              "      display:flex;\n",
              "      flex-wrap:wrap;\n",
              "      gap: 12px;\n",
              "    }\n",
              "\n",
              "    .colab-df-convert {\n",
              "      background-color: #E8F0FE;\n",
              "      border: none;\n",
              "      border-radius: 50%;\n",
              "      cursor: pointer;\n",
              "      display: none;\n",
              "      fill: #1967D2;\n",
              "      height: 32px;\n",
              "      padding: 0 0 0 0;\n",
              "      width: 32px;\n",
              "    }\n",
              "\n",
              "    .colab-df-convert:hover {\n",
              "      background-color: #E2EBFA;\n",
              "      box-shadow: 0px 1px 2px rgba(60, 64, 67, 0.3), 0px 1px 3px 1px rgba(60, 64, 67, 0.15);\n",
              "      fill: #174EA6;\n",
              "    }\n",
              "\n",
              "    [theme=dark] .colab-df-convert {\n",
              "      background-color: #3B4455;\n",
              "      fill: #D2E3FC;\n",
              "    }\n",
              "\n",
              "    [theme=dark] .colab-df-convert:hover {\n",
              "      background-color: #434B5C;\n",
              "      box-shadow: 0px 1px 3px 1px rgba(0, 0, 0, 0.15);\n",
              "      filter: drop-shadow(0px 1px 2px rgba(0, 0, 0, 0.3));\n",
              "      fill: #FFFFFF;\n",
              "    }\n",
              "  </style>\n",
              "\n",
              "      <script>\n",
              "        const buttonEl =\n",
              "          document.querySelector('#df-41eef88b-2852-440b-8e3d-b0e2b4a3ce80 button.colab-df-convert');\n",
              "        buttonEl.style.display =\n",
              "          google.colab.kernel.accessAllowed ? 'block' : 'none';\n",
              "\n",
              "        async function convertToInteractive(key) {\n",
              "          const element = document.querySelector('#df-41eef88b-2852-440b-8e3d-b0e2b4a3ce80');\n",
              "          const dataTable =\n",
              "            await google.colab.kernel.invokeFunction('convertToInteractive',\n",
              "                                                     [key], {});\n",
              "          if (!dataTable) return;\n",
              "\n",
              "          const docLinkHtml = 'Like what you see? Visit the ' +\n",
              "            '<a target=\"_blank\" href=https://colab.research.google.com/notebooks/data_table.ipynb>data table notebook</a>'\n",
              "            + ' to learn more about interactive tables.';\n",
              "          element.innerHTML = '';\n",
              "          dataTable['output_type'] = 'display_data';\n",
              "          await google.colab.output.renderOutput(dataTable, element);\n",
              "          const docLink = document.createElement('div');\n",
              "          docLink.innerHTML = docLinkHtml;\n",
              "          element.appendChild(docLink);\n",
              "        }\n",
              "      </script>\n",
              "    </div>\n",
              "  </div>\n",
              "  "
            ]
          },
          "metadata": {},
          "execution_count": 203
        }
      ]
    },
    {
      "cell_type": "code",
      "execution_count": null,
      "metadata": {
        "id": "Mvr4AmUTzJJl"
      },
      "outputs": [],
      "source": [
        "user_test_perspective"
      ]
    },
    {
      "cell_type": "markdown",
      "source": [
        "# Calculate Stability ..."
      ],
      "metadata": {
        "id": "jxGLm2xzCZgV"
      }
    },
    {
      "cell_type": "code",
      "execution_count": null,
      "metadata": {
        "id": "k2PmcsmgewMZ"
      },
      "outputs": [],
      "source": [
        "with open(os.path.join(save_path, dataset + \"_explanation_obj.pickle\"), 'rb') as opt:\n",
        "  opt_model = pickle.load(opt)"
      ]
    },
    {
      "cell_type": "code",
      "source": [
        "def generate_explanation_check_stability():\n",
        "    if gpu:\n",
        "        device = torch.device('cuda:%s' %cuda)\n",
        "    else:\n",
        "        device = 'cpu'\n",
        "    print(device)\n",
        "    with open(os.path.join(data_obj_path, dataset + \"_dataset_obj_Gumbel.pickle\"), 'rb') as inp:\n",
        "        rec_dataset = pickle.load(inp)\n",
        "    base_model = BaseRecModel(rec_dataset.feature_num).to(device)\n",
        "    base_model.load_state_dict(torch.load(os.path.join(base_model_path,\"model4.model\"),map_location=torch.device(device)))\n",
        "    base_model.eval()\n",
        "    #  fix the rec model\n",
        "    for param in base_model.parameters():\n",
        "        param.requires_grad = False\n",
        "    \n",
        "    \n",
        "    # Create optimization model\n",
        "    a=100.0\n",
        "    # bs=[1.0,2.0]\n",
        "    # cs=[1000.0,2000.0,10000.0]\n",
        "    lr=0.1\n",
        "    temp=1.0\n",
        "    b=2.0\n",
        "    c=10000.0\n",
        "    features_found=[]\n",
        "    for i in range(10):\n",
        "      opt_model = ExpOptimizationModel(\n",
        "        base_model=base_model,\n",
        "        rec_dataset=rec_dataset,\n",
        "        device = device,)\n",
        "      opt_model.generate_explanation(lr,temp,a,b,c)\n",
        "      features_found.append(opt_model.u_i_exp_dict)\n",
        "    return features_found\n",
        "\n",
        "if __name__ == \"__main__\":\n",
        "    features_found=generate_explanation_check_stability()"
      ],
      "metadata": {
        "colab": {
          "base_uri": "https://localhost:8080/"
        },
        "id": "Jw3vT7lYtMMH",
        "outputId": "45e58e7d-c090-48f1-8098-0c2c3cecd7b0"
      },
      "execution_count": null,
      "outputs": [
        {
          "output_type": "stream",
          "name": "stdout",
          "text": [
            "cuda:0\n"
          ]
        },
        {
          "output_type": "stream",
          "name": "stderr",
          "text": [
            "100%|██████████| 10/10 [08:58<00:00, 53.84s/it]\n"
          ]
        },
        {
          "output_type": "stream",
          "name": "stdout",
          "text": [
            "ave num:  7.757575757575758 no_exp_count:  17 exp_count:  33\n"
          ]
        },
        {
          "output_type": "stream",
          "name": "stderr",
          "text": [
            "100%|██████████| 10/10 [06:26<00:00, 38.64s/it]\n"
          ]
        },
        {
          "output_type": "stream",
          "name": "stdout",
          "text": [
            "ave num:  8.15625 no_exp_count:  18 exp_count:  32\n"
          ]
        },
        {
          "output_type": "stream",
          "name": "stderr",
          "text": [
            "100%|██████████| 10/10 [06:24<00:00, 38.42s/it]\n"
          ]
        },
        {
          "output_type": "stream",
          "name": "stdout",
          "text": [
            "ave num:  7.75 no_exp_count:  18 exp_count:  32\n"
          ]
        },
        {
          "output_type": "stream",
          "name": "stderr",
          "text": [
            "100%|██████████| 10/10 [06:18<00:00, 37.85s/it]\n"
          ]
        },
        {
          "output_type": "stream",
          "name": "stdout",
          "text": [
            "ave num:  8.161290322580646 no_exp_count:  19 exp_count:  31\n"
          ]
        },
        {
          "output_type": "stream",
          "name": "stderr",
          "text": [
            "100%|██████████| 10/10 [06:15<00:00, 37.55s/it]\n"
          ]
        },
        {
          "output_type": "stream",
          "name": "stdout",
          "text": [
            "ave num:  7.53125 no_exp_count:  18 exp_count:  32\n"
          ]
        },
        {
          "output_type": "stream",
          "name": "stderr",
          "text": [
            "100%|██████████| 10/10 [06:15<00:00, 37.57s/it]\n"
          ]
        },
        {
          "output_type": "stream",
          "name": "stdout",
          "text": [
            "ave num:  7.7272727272727275 no_exp_count:  17 exp_count:  33\n"
          ]
        },
        {
          "output_type": "stream",
          "name": "stderr",
          "text": [
            "100%|██████████| 10/10 [06:13<00:00, 37.38s/it]\n"
          ]
        },
        {
          "output_type": "stream",
          "name": "stdout",
          "text": [
            "ave num:  8.064516129032258 no_exp_count:  19 exp_count:  31\n"
          ]
        },
        {
          "output_type": "stream",
          "name": "stderr",
          "text": [
            "100%|██████████| 10/10 [06:11<00:00, 37.17s/it]\n"
          ]
        },
        {
          "output_type": "stream",
          "name": "stdout",
          "text": [
            "ave num:  8.121212121212121 no_exp_count:  17 exp_count:  33\n"
          ]
        },
        {
          "output_type": "stream",
          "name": "stderr",
          "text": [
            "100%|██████████| 10/10 [06:13<00:00, 37.36s/it]\n"
          ]
        },
        {
          "output_type": "stream",
          "name": "stdout",
          "text": [
            "ave num:  7.735294117647059 no_exp_count:  16 exp_count:  34\n"
          ]
        },
        {
          "output_type": "stream",
          "name": "stderr",
          "text": [
            "100%|██████████| 10/10 [06:11<00:00, 37.15s/it]"
          ]
        },
        {
          "output_type": "stream",
          "name": "stdout",
          "text": [
            "ave num:  7.6875 no_exp_count:  18 exp_count:  32\n"
          ]
        },
        {
          "output_type": "stream",
          "name": "stderr",
          "text": [
            "\n"
          ]
        }
      ]
    },
    {
      "cell_type": "code",
      "source": [
        "dict_features={}\n",
        "for iter_feas in features_found:\n",
        "  for u_i in iter_feas.keys():\n",
        "    # feas=list(iter_feas[u_i][0][0].columns)\n",
        "    feas=iter_feas[u_i][0]\n",
        "    # print(iter_feas[u_i][0])\n",
        "    if u_i in dict_features.keys():\n",
        "      dict_features[u_i].append(feas)\n",
        "    else:\n",
        "      dict_features[u_i]=[]\n",
        "      dict_features[u_i].append(feas)"
      ],
      "metadata": {
        "id": "nHcOCida1oXF"
      },
      "execution_count": null,
      "outputs": []
    },
    {
      "cell_type": "code",
      "source": [
        "dict_features"
      ],
      "metadata": {
        "id": "3J-zJC-yNKVh",
        "outputId": "983b2b94-9ccf-4f00-d985-97cbdf637d10",
        "colab": {
          "base_uri": "https://localhost:8080/"
        }
      },
      "execution_count": null,
      "outputs": [
        {
          "output_type": "execute_result",
          "data": {
            "text/plain": [
              "{(6, 1452): [['series', 'romance'], ['series']],\n",
              " (6, 1809): [['warning', 'case'],\n",
              "  ['revolution', 'products'],\n",
              "  ['purple', 'orange', 'bezel'],\n",
              "  ['orange', 'soft', 'speck']],\n",
              " (6, 1311): [['purple', 'included'],\n",
              "  ['purple'],\n",
              "  ['purple'],\n",
              "  ['purple'],\n",
              "  ['purple'],\n",
              "  ['purple'],\n",
              "  ['purple'],\n",
              "  ['purple'],\n",
              "  ['purple'],\n",
              "  ['purple']],\n",
              " (8,\n",
              "  448): [['included',\n",
              "   '2600mah',\n",
              "   'samsung',\n",
              "   'travel',\n",
              "   'outlet',\n",
              "   'battery',\n",
              "   'galaxy',\n",
              "   'seconds',\n",
              "   'charges',\n",
              "   'charger',\n",
              "   'wall',\n",
              "   '700mah',\n",
              "   'charging',\n",
              "   'spare',\n",
              "   'compact',\n",
              "   'charge'], ['rsquo',\n",
              "   'outlet',\n",
              "   'charges',\n",
              "   'great',\n",
              "   '2600mah',\n",
              "   'travel',\n",
              "   'battery',\n",
              "   'discontinued',\n",
              "   'compact',\n",
              "   'also',\n",
              "   'seconds',\n",
              "   '700mah',\n",
              "   'charging',\n",
              "   'view',\n",
              "   'spare',\n",
              "   'accessories',\n",
              "   'samsung',\n",
              "   'larger',\n",
              "   'wall',\n",
              "   'mah'], ['doubles',\n",
              "   '2600mah',\n",
              "   'samsung',\n",
              "   'included',\n",
              "   'travel',\n",
              "   'outlet',\n",
              "   'battery',\n",
              "   'galaxy',\n",
              "   'seconds',\n",
              "   'slowed',\n",
              "   'discontinued',\n",
              "   'charges',\n",
              "   '700mah',\n",
              "   'charging',\n",
              "   'spare',\n",
              "   'compact'], ['included',\n",
              "   '2600mah',\n",
              "   'travel',\n",
              "   'battery',\n",
              "   'plan',\n",
              "   'seconds',\n",
              "   'charged',\n",
              "   'discontinued',\n",
              "   'wall',\n",
              "   'charges',\n",
              "   '700mah',\n",
              "   'spare',\n",
              "   'compact',\n",
              "   'great'], ['included',\n",
              "   '2600mah',\n",
              "   'reseller',\n",
              "   'travel',\n",
              "   'outlet',\n",
              "   'battery',\n",
              "   'galaxy',\n",
              "   'seconds',\n",
              "   'discontinued',\n",
              "   'adapter',\n",
              "   'wall',\n",
              "   '700mah',\n",
              "   'charging',\n",
              "   'spare',\n",
              "   'micro',\n",
              "   'compact',\n",
              "   'great'], ['included',\n",
              "   '2600mah',\n",
              "   'samsung',\n",
              "   'travel',\n",
              "   'outlet',\n",
              "   'battery',\n",
              "   'galaxy',\n",
              "   'seconds',\n",
              "   'discontinued',\n",
              "   'charges',\n",
              "   'wall',\n",
              "   'adapter',\n",
              "   '700mah',\n",
              "   'spare',\n",
              "   'compact',\n",
              "   'great'], ['included',\n",
              "   '2600mah',\n",
              "   'samsung',\n",
              "   'travel',\n",
              "   'battery',\n",
              "   'seconds',\n",
              "   'discontinued',\n",
              "   'charges',\n",
              "   'charger',\n",
              "   'wall',\n",
              "   'adapter',\n",
              "   'charging',\n",
              "   '700mah',\n",
              "   'spare',\n",
              "   'compact',\n",
              "   'low'], ['included',\n",
              "   '2600mah',\n",
              "   'samsung',\n",
              "   'outlet',\n",
              "   'battery',\n",
              "   'galaxy',\n",
              "   'discontinued',\n",
              "   'charges',\n",
              "   'charger',\n",
              "   'wall',\n",
              "   '700mah',\n",
              "   'spare',\n",
              "   'micro',\n",
              "   'compact',\n",
              "   'great'], ['continue',\n",
              "   'outlet',\n",
              "   'galaxy',\n",
              "   'charges',\n",
              "   'instead',\n",
              "   'great',\n",
              "   '2600mah',\n",
              "   'battery',\n",
              "   'discontinued',\n",
              "   'power',\n",
              "   'compact',\n",
              "   'also',\n",
              "   'included',\n",
              "   'seconds',\n",
              "   '700mah',\n",
              "   'charging',\n",
              "   'spare',\n",
              "   'samsung',\n",
              "   'wall'], ['included',\n",
              "   '2600mah',\n",
              "   'day',\n",
              "   'reseller',\n",
              "   'samsung',\n",
              "   'outlet',\n",
              "   'battery',\n",
              "   'travel',\n",
              "   'seconds',\n",
              "   'discontinued',\n",
              "   'charges',\n",
              "   'charger',\n",
              "   'wall',\n",
              "   '700mah',\n",
              "   'charging',\n",
              "   'spare',\n",
              "   'compact',\n",
              "   'also']],\n",
              " (8,\n",
              "  1480): [['series',\n",
              "   'grey',\n",
              "   'packaging',\n",
              "   'gunmetal',\n",
              "   'marathoner',\n",
              "   'cowabunga',\n",
              "   'otterbox'], ['included',\n",
              "   'series',\n",
              "   'packaging',\n",
              "   'gunmetal',\n",
              "   'marathoner',\n",
              "   'cowabunga'], ['series',\n",
              "   'grey',\n",
              "   'packaging',\n",
              "   'gunmetal',\n",
              "   'cowabunga',\n",
              "   'otterbox'], ['series',\n",
              "   'grey',\n",
              "   'packaging',\n",
              "   'gunmetal',\n",
              "   'marathoner',\n",
              "   'cowabunga',\n",
              "   'otterbox',\n",
              "   'holster'], ['series',\n",
              "   'packaging',\n",
              "   'gunmetal',\n",
              "   'marathoner',\n",
              "   'happens',\n",
              "   'cowabunga',\n",
              "   'otterbox'], ['series',\n",
              "   'grey',\n",
              "   'packaging',\n",
              "   'gunmetal',\n",
              "   'marathoner',\n",
              "   'cowabunga',\n",
              "   'otterbox'], ['series',\n",
              "   'grey',\n",
              "   'packaging',\n",
              "   'gunmetal',\n",
              "   'marathoner',\n",
              "   'cowabunga'], ['display',\n",
              "   'series',\n",
              "   'grey',\n",
              "   'packaging',\n",
              "   'gunmetal',\n",
              "   'marathoner',\n",
              "   'cowabunga',\n",
              "   'otterbox'], ['series',\n",
              "   'grey',\n",
              "   'packaging',\n",
              "   'gunmetal',\n",
              "   'cowabunga',\n",
              "   'otterbox'], ['doubles',\n",
              "   'series',\n",
              "   'packaging',\n",
              "   'gunmetal',\n",
              "   'marathoner',\n",
              "   'cowabunga',\n",
              "   'otterbox']],\n",
              " (8, 1412): [['42mm', 'watch', 'products', 'speck', 'white'],\n",
              "  ['speck', 'fit', 'products', 'white'],\n",
              "  ['42mm', 'accessible', 'apple', 'products', 'speck', 'white'],\n",
              "  ['42mm', 'products', 'speck', 'bumps', 'white'],\n",
              "  ['42mm', 'durable', 'leaving', 'products', 'speck', 'white'],\n",
              "  ['42mm', 'edition', 'products', 'speck', 'white'],\n",
              "  ['fit', 'products', 'bulk', 'speck', 'white'],\n",
              "  ['speck', '42mm', 'products', 'white'],\n",
              "  ['apple', 'products', 'white']],\n",
              " (50, 1311): [['purple'],\n",
              "  ['purple', 'protector', 'series'],\n",
              "  ['purple', 'protection'],\n",
              "  ['purple'],\n",
              "  ['purple'],\n",
              "  ['purple', 'slim', 'included'],\n",
              "  ['purple'],\n",
              "  ['purple'],\n",
              "  ['purple']],\n",
              " (57,\n",
              "  1449): [['life',\n",
              "   'series',\n",
              "   'onyx',\n",
              "   'packaging',\n",
              "   'black',\n",
              "   'retail',\n",
              "   'iphone',\n",
              "   'case',\n",
              "   'alpha',\n",
              "   'otterbox',\n",
              "   'leather'], ['life',\n",
              "   'series',\n",
              "   'onyx',\n",
              "   'packaging',\n",
              "   'black',\n",
              "   'retail',\n",
              "   'iphone',\n",
              "   'alpha',\n",
              "   'otterbox',\n",
              "   'leather'], ['life',\n",
              "   'series',\n",
              "   'onyx',\n",
              "   'packaging',\n",
              "   'retail',\n",
              "   'iphone',\n",
              "   'case',\n",
              "   'alpha',\n",
              "   'otterbox',\n",
              "   'leather'], ['life',\n",
              "   'series',\n",
              "   'onyx',\n",
              "   'packaging',\n",
              "   'strada',\n",
              "   'retail',\n",
              "   'iphone',\n",
              "   'alpha',\n",
              "   'otterbox',\n",
              "   'leather'], ['life',\n",
              "   'series',\n",
              "   'onyx',\n",
              "   'packaging',\n",
              "   'retail',\n",
              "   'entire',\n",
              "   'iphone',\n",
              "   'alpha',\n",
              "   'otterbox',\n",
              "   'leather'], ['life',\n",
              "   'series',\n",
              "   'onyx',\n",
              "   'packaging',\n",
              "   'black',\n",
              "   'strada',\n",
              "   'retail',\n",
              "   'iphone',\n",
              "   'case',\n",
              "   'alpha',\n",
              "   'otterbox',\n",
              "   'leather'], ['life',\n",
              "   'series',\n",
              "   'onyx',\n",
              "   'packaging',\n",
              "   'black',\n",
              "   'retail',\n",
              "   'iphone',\n",
              "   'case',\n",
              "   'alpha',\n",
              "   'otterbox',\n",
              "   'leather'], ['life',\n",
              "   'series',\n",
              "   'onyx',\n",
              "   'packaging',\n",
              "   'retail',\n",
              "   'iphone',\n",
              "   'case',\n",
              "   'alpha',\n",
              "   'otterbox',\n",
              "   'leather'], ['life',\n",
              "   'series',\n",
              "   'onyx',\n",
              "   'protection',\n",
              "   'packaging',\n",
              "   'black',\n",
              "   'strada',\n",
              "   'retail',\n",
              "   'iphone',\n",
              "   'case',\n",
              "   'alpha',\n",
              "   'otterbox',\n",
              "   'leather'], ['life',\n",
              "   'series',\n",
              "   'onyx',\n",
              "   'limited',\n",
              "   'packaging',\n",
              "   'black',\n",
              "   'retail',\n",
              "   'iphone',\n",
              "   'alpha',\n",
              "   'otterbox',\n",
              "   'leather']],\n",
              " (57,\n",
              "  491): [['ipod',\n",
              "   'creativity',\n",
              "   'fun',\n",
              "   'experiential',\n",
              "   'create',\n",
              "   'helps',\n",
              "   'data',\n",
              "   'learning',\n",
              "   'photographer',\n",
              "   'iphone',\n",
              "   'camera',\n",
              "   'protective',\n",
              "   'modes',\n",
              "   'green',\n",
              "   'app',\n",
              "   'includes',\n",
              "   'reinforces'], ['modes',\n",
              "   'work',\n",
              "   'leapfrog',\n",
              "   'teaches',\n",
              "   'age',\n",
              "   'photographer',\n",
              "   'includes',\n",
              "   'reinforces',\n",
              "   'flying',\n",
              "   'create',\n",
              "   'iphone',\n",
              "   'camera',\n",
              "   'green',\n",
              "   'app',\n",
              "   'ipod',\n",
              "   'creativity',\n",
              "   'ultimate',\n",
              "   'creative',\n",
              "   'learning',\n",
              "   'protective',\n",
              "   'device'], ['modes',\n",
              "   'work',\n",
              "   'leapfrog',\n",
              "   'teaches',\n",
              "   'photographer',\n",
              "   'includes',\n",
              "   'reinforces',\n",
              "   'create',\n",
              "   'iphone',\n",
              "   'camera',\n",
              "   'green',\n",
              "   'app',\n",
              "   'creativity',\n",
              "   'expression',\n",
              "   'helps',\n",
              "   'learning',\n",
              "   'protective',\n",
              "   'device',\n",
              "   'simply'], ['modes',\n",
              "   'work',\n",
              "   'teaches',\n",
              "   'experience',\n",
              "   'photographer',\n",
              "   'includes',\n",
              "   'reinforces',\n",
              "   'create',\n",
              "   'iphone',\n",
              "   'camera',\n",
              "   'app',\n",
              "   'ipod',\n",
              "   'creativity',\n",
              "   'ultimate',\n",
              "   'helps',\n",
              "   'expert',\n",
              "   'learning',\n",
              "   'protective',\n",
              "   'simply'], ['modes',\n",
              "   'even',\n",
              "   'work',\n",
              "   'teaches',\n",
              "   'experience',\n",
              "   'includes',\n",
              "   'reinforces',\n",
              "   'create',\n",
              "   'iphone',\n",
              "   'camera',\n",
              "   'green',\n",
              "   'app',\n",
              "   'ipod',\n",
              "   'creativity',\n",
              "   'ultimate',\n",
              "   'helps',\n",
              "   'learning',\n",
              "   'protective',\n",
              "   'simply'], ['4th',\n",
              "   'modes',\n",
              "   'work',\n",
              "   'teaches',\n",
              "   'experience',\n",
              "   'photographer',\n",
              "   'includes',\n",
              "   'reinforces',\n",
              "   'create',\n",
              "   'iphone',\n",
              "   'case',\n",
              "   'camera',\n",
              "   'leappad',\n",
              "   'green',\n",
              "   'app',\n",
              "   'ipod',\n",
              "   'creativity',\n",
              "   'helps',\n",
              "   'learning',\n",
              "   'protective'], ['modes',\n",
              "   'shutterbug',\n",
              "   'work',\n",
              "   'teaches',\n",
              "   'matching',\n",
              "   'guide',\n",
              "   'photographer',\n",
              "   'apple',\n",
              "   'includes',\n",
              "   'reinforces',\n",
              "   'explore',\n",
              "   'iphone',\n",
              "   'camera',\n",
              "   'green',\n",
              "   'app',\n",
              "   'ipod',\n",
              "   'creativity',\n",
              "   'expression',\n",
              "   'helps',\n",
              "   'learning',\n",
              "   'protective'], ['ipod',\n",
              "   'creativity',\n",
              "   'ones',\n",
              "   'create',\n",
              "   'work',\n",
              "   'ultimate',\n",
              "   'helps',\n",
              "   'teaches',\n",
              "   'learning',\n",
              "   'photographer',\n",
              "   'iphone',\n",
              "   'camera',\n",
              "   'protective',\n",
              "   'modes',\n",
              "   'green',\n",
              "   'app',\n",
              "   'reinforces'], ['pixel',\n",
              "   'modes',\n",
              "   'work',\n",
              "   'teaches',\n",
              "   'photographer',\n",
              "   'includes',\n",
              "   'reinforces',\n",
              "   'experiential',\n",
              "   'create',\n",
              "   'iphone',\n",
              "   'play',\n",
              "   'camera',\n",
              "   'green',\n",
              "   'app',\n",
              "   'ipod',\n",
              "   'creativity',\n",
              "   'helps',\n",
              "   'learning',\n",
              "   'protective'], ['creativity',\n",
              "   'sold',\n",
              "   'create',\n",
              "   'work',\n",
              "   'ultimate',\n",
              "   'helps',\n",
              "   'teaches',\n",
              "   'learning',\n",
              "   'iphone',\n",
              "   'camera',\n",
              "   'protective',\n",
              "   'modes',\n",
              "   'green',\n",
              "   'app',\n",
              "   'stamp',\n",
              "   'includes']],\n",
              " (57,\n",
              "  1047): [['provides',\n",
              "   'protection',\n",
              "   'port',\n",
              "   'packaging',\n",
              "   'iphone',\n",
              "   'rose',\n",
              "   'neon'], ['provides',\n",
              "   'protection',\n",
              "   'port',\n",
              "   'packaging',\n",
              "   'iphone',\n",
              "   'neon'], ['entry',\n",
              "   'provides',\n",
              "   'protection',\n",
              "   'piece',\n",
              "   'packaging',\n",
              "   'port',\n",
              "   'iphone',\n",
              "   'neon'], ['provides',\n",
              "   'protection',\n",
              "   'port',\n",
              "   'packaging',\n",
              "   'iphone',\n",
              "   'neon'], ['provides',\n",
              "   'protection',\n",
              "   'port',\n",
              "   'packaging',\n",
              "   'two',\n",
              "   'iphone',\n",
              "   'neon'], ['provides',\n",
              "   'protection',\n",
              "   'port',\n",
              "   'packaging',\n",
              "   'iphone',\n",
              "   'rose',\n",
              "   'neon'], ['provides',\n",
              "   'protection',\n",
              "   'jacks',\n",
              "   'packaging',\n",
              "   'slides',\n",
              "   'iphone',\n",
              "   'neon'], ['provides',\n",
              "   'protection',\n",
              "   'phone',\n",
              "   'commuter',\n",
              "   'jacks',\n",
              "   'packaging',\n",
              "   'port',\n",
              "   'iphone',\n",
              "   'neon'], ['provides',\n",
              "   'protection',\n",
              "   'inputs',\n",
              "   'packaging',\n",
              "   'port',\n",
              "   'iphone',\n",
              "   'neon'], ['provides',\n",
              "   'protection',\n",
              "   'port',\n",
              "   'packaging',\n",
              "   'iphone',\n",
              "   'rose',\n",
              "   'neon']],\n",
              " (57, 659): [['tempered', 'iphone', 'kyasi'],\n",
              "  ['iphone', 'kyasi', 'invisible'],\n",
              "  ['iphone', 'gold', 'kyasi'],\n",
              "  ['iphone', 'kyasi'],\n",
              "  ['iphone'],\n",
              "  ['iphone', 'issues', 'kyasi'],\n",
              "  ['iphone', 'glass', 'kyasi'],\n",
              "  ['iphone', 'screen', 'kyasi'],\n",
              "  ['iphone', 'kyasi'],\n",
              "  ['iphone', 'issues', 'kyasi']],\n",
              " (57,\n",
              "  966): [['amp',\n",
              "   'powerful',\n",
              "   'wall',\n",
              "   'illuminates',\n",
              "   'shuts',\n",
              "   'smartphones',\n",
              "   'efficient',\n",
              "   'delivers'], ['amp',\n",
              "   'activated',\n",
              "   'wall',\n",
              "   'illuminates',\n",
              "   'convenience',\n",
              "   'smartphones',\n",
              "   'efficient',\n",
              "   'delivers'], ['amp',\n",
              "   'powerful',\n",
              "   'wall',\n",
              "   'illuminates',\n",
              "   'smartphones',\n",
              "   'efficient',\n",
              "   'delivers'], ['amp',\n",
              "   'wall',\n",
              "   'illuminates',\n",
              "   'shuts',\n",
              "   'smartphones',\n",
              "   'efficient',\n",
              "   'delivers',\n",
              "   'charge'], ['amp',\n",
              "   'wall',\n",
              "   'detects',\n",
              "   'efficient',\n",
              "   'smartphones',\n",
              "   'delivers'], ['amp',\n",
              "   'powerful',\n",
              "   'wall',\n",
              "   'illuminates',\n",
              "   'shuts',\n",
              "   'smartphones',\n",
              "   'efficient',\n",
              "   'delivers',\n",
              "   'complete'], ['amp',\n",
              "   'powerful',\n",
              "   'wall',\n",
              "   'illuminates',\n",
              "   'smartphones',\n",
              "   'efficient',\n",
              "   'delivers'], ['connector',\n",
              "   'amp',\n",
              "   'activated',\n",
              "   'wall',\n",
              "   'illuminates',\n",
              "   'detects',\n",
              "   'convenience',\n",
              "   'smartphones',\n",
              "   'efficient',\n",
              "   'delivers'], ['amp',\n",
              "   'powerful',\n",
              "   'wall',\n",
              "   'illuminates',\n",
              "   'convenience',\n",
              "   'shuts',\n",
              "   'smartphones',\n",
              "   'efficient',\n",
              "   'micro',\n",
              "   'delivers',\n",
              "   'fumbling'], ['amp',\n",
              "   'powerful',\n",
              "   'wall',\n",
              "   'illuminates',\n",
              "   'convenience',\n",
              "   'shuts',\n",
              "   'efficient',\n",
              "   'delivers']],\n",
              " (80, 696): [['samsung', 'note', 'rates', 'packaging', 'data'],\n",
              "  ['samsung', 'note', 'rates', 'packaging', 'data'],\n",
              "  ['samsung', 'note', 'rates', 'packaging', 'data'],\n",
              "  ['samsung', 'note', 'rates', 'packaging', 'data', 'supports'],\n",
              "  ['samsung', 'note', 'rates', 'packaging', 'data', 'white'],\n",
              "  ['samsung', 'note', 'rates', 'packaging', 'works', 'data'],\n",
              "  ['samsung', 'note', 'rates', 'packaging', 'data', 'transfer'],\n",
              "  ['samsung', 'note', 'rates', 'packaging', 'data', 'cable'],\n",
              "  ['samsung', 'note', 'rates', 'packaging', 'data'],\n",
              "  ['samsung', 'note', 'rates', 'port', 'packaging', 'data', 'supports']],\n",
              " (80, 1318): [['samsung', 'wireless', 'international'],\n",
              "  ['samsung', 'international', 'warranty', 'wireless', 'white'],\n",
              "  ['samsung', 'international', 'galaxy', 'wireless', 'white'],\n",
              "  ['additional', 'samsung', 'international'],\n",
              "  ['samsung', 'international', 'doors', 'charger', 'warranty', 'wireless'],\n",
              "  ['samsung', 'international', 'charging', 'warranty', 'wireless'],\n",
              "  ['samsung', 'international', 'warranty', 'wireless', 'white'],\n",
              "  ['samsung', 'wireless', 'international'],\n",
              "  ['warranty', 'international'],\n",
              "  ['cable', 'samsung', 'note', 'international']],\n",
              " (80,\n",
              "  109): [['provides',\n",
              "   'battery',\n",
              "   'assist',\n",
              "   'car',\n",
              "   'sends',\n",
              "   'reduction',\n",
              "   'voice',\n",
              "   'advanced'], ['provides',\n",
              "   'level',\n",
              "   'battery',\n",
              "   'assist',\n",
              "   'sends',\n",
              "   'supported',\n",
              "   'car',\n",
              "   'multiuse',\n",
              "   'reduction',\n",
              "   'radio',\n",
              "   'pairing',\n",
              "   'technology',\n",
              "   'a2dp',\n",
              "   'background',\n",
              "   'advanced',\n",
              "   'time'], ['provides',\n",
              "   'level',\n",
              "   'battery',\n",
              "   'assist',\n",
              "   'answer',\n",
              "   'car',\n",
              "   'sends',\n",
              "   'reduction',\n",
              "   'background',\n",
              "   'calls',\n",
              "   'status'], ['provides',\n",
              "   'level',\n",
              "   'battery',\n",
              "   'assist',\n",
              "   'car',\n",
              "   'multiuse',\n",
              "   'reduction',\n",
              "   'pairing',\n",
              "   'advanced',\n",
              "   'status',\n",
              "   'time',\n",
              "   'streaming'], ['provides',\n",
              "   'butadien',\n",
              "   'level',\n",
              "   'assist',\n",
              "   'wheel',\n",
              "   'car',\n",
              "   'speakerphone',\n",
              "   'reduction',\n",
              "   'pairing',\n",
              "   'streaming'], ['battery',\n",
              "   'assist',\n",
              "   'car',\n",
              "   'reduction',\n",
              "   'status'], ['provides', 'battery', 'assist', 'car', 'sends', 'background', 'status'], ['provides',\n",
              "   'butadien',\n",
              "   'level',\n",
              "   'battery',\n",
              "   'assist',\n",
              "   'end',\n",
              "   'sends',\n",
              "   'car',\n",
              "   'multiuse',\n",
              "   'reduction',\n",
              "   'voice',\n",
              "   'technology',\n",
              "   'instructions',\n",
              "   'status',\n",
              "   'streaming'], ['provides',\n",
              "   'level',\n",
              "   'battery',\n",
              "   'assist',\n",
              "   'edr',\n",
              "   'car',\n",
              "   'sends',\n",
              "   'reduction',\n",
              "   'background',\n",
              "   'advanced',\n",
              "   'status',\n",
              "   'bluetooth',\n",
              "   'streaming'], ['provides',\n",
              "   'level',\n",
              "   'battery',\n",
              "   'assist',\n",
              "   'car',\n",
              "   'reduction',\n",
              "   'pairing',\n",
              "   'applications',\n",
              "   'background',\n",
              "   'status',\n",
              "   'streaming']],\n",
              " (95,\n",
              "  1268): [['bright',\n",
              "   'lifeproof',\n",
              "   'cool',\n",
              "   'grey',\n",
              "   'nuud',\n",
              "   'waterproof',\n",
              "   'retail',\n",
              "   'iphone',\n",
              "   'version'], ['bright',\n",
              "   'lifeproof',\n",
              "   'cool',\n",
              "   'nuud',\n",
              "   'packaging',\n",
              "   'waterproof',\n",
              "   'retail',\n",
              "   'iphone',\n",
              "   'version'], ['bright',\n",
              "   'lifeproof',\n",
              "   'cool',\n",
              "   'grey',\n",
              "   'nuud',\n",
              "   'packaging',\n",
              "   'waterproof',\n",
              "   'retail',\n",
              "   'iphone',\n",
              "   'version',\n",
              "   'white'], ['bright',\n",
              "   'lifeproof',\n",
              "   'cool',\n",
              "   'grey',\n",
              "   'nuud',\n",
              "   'packaging',\n",
              "   'waterproof',\n",
              "   'retail',\n",
              "   'iphone',\n",
              "   'version',\n",
              "   'white'], ['bright',\n",
              "   'lifeproof',\n",
              "   'cool',\n",
              "   'grey',\n",
              "   'nuud',\n",
              "   'packaging',\n",
              "   'waterproof',\n",
              "   'retail',\n",
              "   'iphone',\n",
              "   'version'], ['bright',\n",
              "   'lifeproof',\n",
              "   'cool',\n",
              "   'grey',\n",
              "   'nuud',\n",
              "   'packaging',\n",
              "   'waterproof',\n",
              "   'iphone',\n",
              "   'version',\n",
              "   'white'], ['bright',\n",
              "   'lifeproof',\n",
              "   'cool',\n",
              "   'grey',\n",
              "   'nuud',\n",
              "   'packaging',\n",
              "   'waterproof',\n",
              "   'retail',\n",
              "   'iphone',\n",
              "   'version'], ['bright',\n",
              "   'lifeproof',\n",
              "   'cool',\n",
              "   'grey',\n",
              "   'nuud',\n",
              "   'packaging',\n",
              "   'waterproof',\n",
              "   'retail',\n",
              "   'iphone',\n",
              "   'case',\n",
              "   'version',\n",
              "   'white'], ['bright',\n",
              "   'lifeproof',\n",
              "   'cool',\n",
              "   'grey',\n",
              "   'nuud',\n",
              "   'packaging',\n",
              "   'waterproof',\n",
              "   'retail',\n",
              "   'iphone',\n",
              "   'version'], ['bright',\n",
              "   'lifeproof',\n",
              "   'cool',\n",
              "   'grey',\n",
              "   'nuud',\n",
              "   'takes',\n",
              "   'packaging',\n",
              "   'waterproof',\n",
              "   'retail',\n",
              "   'iphone',\n",
              "   'version',\n",
              "   'white']],\n",
              " (95, 1799): [['outer', 'military', 'uag', 'phone', 'composite', 'drop'],\n",
              "  ['military', 'uag', 'phone', 'composite', 'drop'],\n",
              "  ['military', 'uag', 'phone', 'composite', 'drop'],\n",
              "  ['military', 'uag', 'phone', 'composite', 'drop'],\n",
              "  ['military', 'light', 'uag', 'phone', 'composite'],\n",
              "  ['military', 'uag', 'phone', 'composite', 'openings'],\n",
              "  ['military', 'uag', 'phone', 'composite', 'drop'],\n",
              "  ['phone', 'composite', 'military', 'uag'],\n",
              "  ['phone', 'composite', 'military', 'uag'],\n",
              "  ['light', 'uag', 'phone', 'audio', 'composite']],\n",
              " (95,\n",
              "  1611): [['goers',\n",
              "   'galaxy',\n",
              "   'usage',\n",
              "   'allsop',\n",
              "   'window',\n",
              "   'classes',\n",
              "   'allows',\n",
              "   'easily',\n",
              "   'phones',\n",
              "   'free',\n",
              "   'including',\n",
              "   'universal',\n",
              "   'includes',\n",
              "   'clickgo',\n",
              "   'smart',\n",
              "   'gym',\n",
              "   'system',\n",
              "   'stroller',\n",
              "   'fitness',\n",
              "   'bike',\n",
              "   'iphone',\n",
              "   'active',\n",
              "   'phone',\n",
              "   'tech'], ['incidental',\n",
              "   'galaxy',\n",
              "   'usage',\n",
              "   'allsop',\n",
              "   'classes',\n",
              "   'allows',\n",
              "   'easily',\n",
              "   'phones',\n",
              "   'including',\n",
              "   'interchangeable',\n",
              "   'universal',\n",
              "   'includes',\n",
              "   'attachment',\n",
              "   'provides',\n",
              "   'clickgo',\n",
              "   'smart',\n",
              "   'gym',\n",
              "   'system',\n",
              "   'stroller',\n",
              "   'fitness',\n",
              "   'cash',\n",
              "   'iphone',\n",
              "   'case',\n",
              "   'diameters',\n",
              "   'sweat',\n",
              "   'active',\n",
              "   'phone',\n",
              "   'mount',\n",
              "   'walking',\n",
              "   'pouch',\n",
              "   'tech',\n",
              "   'measure'], ['galaxy',\n",
              "   'strap',\n",
              "   'window',\n",
              "   'allows',\n",
              "   'easily',\n",
              "   'phones',\n",
              "   'including',\n",
              "   'interchangeable',\n",
              "   'click',\n",
              "   'universal',\n",
              "   'includes',\n",
              "   'attachment',\n",
              "   'provides',\n",
              "   'rotates',\n",
              "   'clickgo',\n",
              "   'smart',\n",
              "   'gym',\n",
              "   'fitness',\n",
              "   'iphone',\n",
              "   'access',\n",
              "   'active',\n",
              "   'phone',\n",
              "   'determine',\n",
              "   'pouch',\n",
              "   'tech',\n",
              "   'measure'], ['galaxy',\n",
              "   'allsop',\n",
              "   'window',\n",
              "   'perfect',\n",
              "   'fits',\n",
              "   'allows',\n",
              "   'phones',\n",
              "   'including',\n",
              "   'universal',\n",
              "   'includes',\n",
              "   'provides',\n",
              "   'smart',\n",
              "   'gym',\n",
              "   'stroller',\n",
              "   'fitness',\n",
              "   'iphone',\n",
              "   'access',\n",
              "   'sweat',\n",
              "   'active',\n",
              "   'cyclers',\n",
              "   'phone',\n",
              "   'mount',\n",
              "   'pouch',\n",
              "   'tech'], ['galaxy',\n",
              "   'allsop',\n",
              "   'classes',\n",
              "   'allows',\n",
              "   'easily',\n",
              "   'phones',\n",
              "   'including',\n",
              "   'never',\n",
              "   'click',\n",
              "   'universal',\n",
              "   'includes',\n",
              "   'attachment',\n",
              "   'provides',\n",
              "   'clickgo',\n",
              "   'smart',\n",
              "   'gym',\n",
              "   'stroller',\n",
              "   'fitness',\n",
              "   'bike',\n",
              "   'iphone',\n",
              "   'email',\n",
              "   'sweat',\n",
              "   'active',\n",
              "   'phone',\n",
              "   'mount',\n",
              "   'pouch',\n",
              "   'tech',\n",
              "   'measure'], ['incidental',\n",
              "   'galaxy',\n",
              "   'works',\n",
              "   'allsop',\n",
              "   'allows',\n",
              "   'phones',\n",
              "   'including',\n",
              "   'universal',\n",
              "   'includes',\n",
              "   'provides',\n",
              "   'clickgo',\n",
              "   'smart',\n",
              "   'gym',\n",
              "   'cash',\n",
              "   'stroller',\n",
              "   'fitness',\n",
              "   'iphone',\n",
              "   'email',\n",
              "   'sweat',\n",
              "   'active',\n",
              "   'phone',\n",
              "   'mount',\n",
              "   'determine',\n",
              "   'adjustable',\n",
              "   'pouch',\n",
              "   'tech',\n",
              "   'measure'], ['incidental',\n",
              "   'galaxy',\n",
              "   'bounce',\n",
              "   'usage',\n",
              "   'allsop',\n",
              "   'allows',\n",
              "   'easily',\n",
              "   'phones',\n",
              "   'including',\n",
              "   'answer',\n",
              "   'interchangeable',\n",
              "   'universal',\n",
              "   'includes',\n",
              "   'etc',\n",
              "   'provides',\n",
              "   'clickgo',\n",
              "   'smart',\n",
              "   'gym',\n",
              "   'system',\n",
              "   'stroller',\n",
              "   'fitness',\n",
              "   'iphone',\n",
              "   'access',\n",
              "   'email',\n",
              "   'sweat',\n",
              "   'active',\n",
              "   'cyclers',\n",
              "   'phone',\n",
              "   'mount',\n",
              "   'pouch',\n",
              "   'tech'], ['incidental',\n",
              "   'galaxy',\n",
              "   'usage',\n",
              "   'allsop',\n",
              "   'classes',\n",
              "   'allows',\n",
              "   'easily',\n",
              "   'phones',\n",
              "   'interchangeable',\n",
              "   'universal',\n",
              "   'includes',\n",
              "   'provides',\n",
              "   'rotates',\n",
              "   'smart',\n",
              "   'gym',\n",
              "   'system',\n",
              "   'stroller',\n",
              "   'fitness',\n",
              "   'bike',\n",
              "   'iphone',\n",
              "   'case',\n",
              "   'email',\n",
              "   'sweat',\n",
              "   'active',\n",
              "   'resistant',\n",
              "   'phone',\n",
              "   'mount',\n",
              "   'calls',\n",
              "   'pouch',\n",
              "   'tech',\n",
              "   'measure'], ['galaxy',\n",
              "   'usage',\n",
              "   'allsop',\n",
              "   'window',\n",
              "   'allows',\n",
              "   'phones',\n",
              "   'including',\n",
              "   'washable',\n",
              "   'interchangeable',\n",
              "   'universal',\n",
              "   'includes',\n",
              "   'attachment',\n",
              "   'provides',\n",
              "   'attaches',\n",
              "   'clickgo',\n",
              "   'smart',\n",
              "   'gym',\n",
              "   'stroller',\n",
              "   'fitness',\n",
              "   'iphone',\n",
              "   'access',\n",
              "   'case',\n",
              "   'sweat',\n",
              "   'active',\n",
              "   'phone',\n",
              "   'mount',\n",
              "   'pouch',\n",
              "   'tech',\n",
              "   'measure'], ['incidental',\n",
              "   'galaxy',\n",
              "   'allsop',\n",
              "   'classes',\n",
              "   'allows',\n",
              "   'easily',\n",
              "   'phones',\n",
              "   'rail',\n",
              "   'including',\n",
              "   'answer',\n",
              "   'interchangeable',\n",
              "   'universal',\n",
              "   'includes',\n",
              "   'provides',\n",
              "   'clickgo',\n",
              "   'smart',\n",
              "   'gym',\n",
              "   'stroller',\n",
              "   'fitness',\n",
              "   'iphone',\n",
              "   'active',\n",
              "   'phone',\n",
              "   'walking',\n",
              "   'mount',\n",
              "   'pouch',\n",
              "   'tech',\n",
              "   'measure']],\n",
              " (95,\n",
              "  447): [['factors',\n",
              "   'sensitivity',\n",
              "   'last',\n",
              "   'response',\n",
              "   'flat',\n",
              "   'note',\n",
              "   'galaxy',\n",
              "   'self',\n",
              "   'protector',\n",
              "   'covers',\n",
              "   'coverage',\n",
              "   'film',\n",
              "   'yoyamo',\n",
              "   'installation',\n",
              "   'ensures',\n",
              "   'thats'], ['last',\n",
              "   'response',\n",
              "   'flexible',\n",
              "   'note',\n",
              "   'galaxy',\n",
              "   'protector',\n",
              "   'covers',\n",
              "   'coverage',\n",
              "   'film',\n",
              "   'installation',\n",
              "   'year',\n",
              "   'kit',\n",
              "   'ensures',\n",
              "   'screen',\n",
              "   'bubble'], ['sensitivity',\n",
              "   'last',\n",
              "   'response',\n",
              "   'note',\n",
              "   'galaxy',\n",
              "   'protector',\n",
              "   'covers',\n",
              "   'coverage',\n",
              "   'film',\n",
              "   'installation',\n",
              "   'kit',\n",
              "   'ensures',\n",
              "   'thats'], ['last',\n",
              "   'response',\n",
              "   'note',\n",
              "   'galaxy',\n",
              "   'protector',\n",
              "   'covers',\n",
              "   'coverage',\n",
              "   'film',\n",
              "   'yoyamo',\n",
              "   'installation',\n",
              "   'kit',\n",
              "   'ensures',\n",
              "   'device',\n",
              "   'thats',\n",
              "   'bubble'], ['factors',\n",
              "   'unprotected',\n",
              "   'last',\n",
              "   'note',\n",
              "   'galaxy',\n",
              "   'covers',\n",
              "   'coverage',\n",
              "   'film',\n",
              "   'installation',\n",
              "   'kit',\n",
              "   'ensures',\n",
              "   'heals'], ['sensitivity',\n",
              "   'response',\n",
              "   'note',\n",
              "   'galaxy',\n",
              "   'covers',\n",
              "   'coverage',\n",
              "   'pet',\n",
              "   'installation',\n",
              "   'kit',\n",
              "   'ensures',\n",
              "   'thats',\n",
              "   'bubble'], ['last',\n",
              "   'note',\n",
              "   'galaxy',\n",
              "   'self',\n",
              "   'protector',\n",
              "   'covers',\n",
              "   'large',\n",
              "   'coverage',\n",
              "   'yoyamo',\n",
              "   'installation',\n",
              "   'kit',\n",
              "   'ensures',\n",
              "   'device',\n",
              "   'thats',\n",
              "   'bubble'], ['sensitivity',\n",
              "   'last',\n",
              "   'response',\n",
              "   'note',\n",
              "   'galaxy',\n",
              "   'protector',\n",
              "   'covers',\n",
              "   'coverage',\n",
              "   'film',\n",
              "   'installation',\n",
              "   'kit',\n",
              "   'ensures',\n",
              "   'thats'], ['last',\n",
              "   'note',\n",
              "   'galaxy',\n",
              "   'covers',\n",
              "   'large',\n",
              "   'coverage',\n",
              "   'film',\n",
              "   'yoyamo',\n",
              "   'installation',\n",
              "   'year',\n",
              "   'kit',\n",
              "   'ensures',\n",
              "   'bubble'], ['sensitivity',\n",
              "   'last',\n",
              "   'response',\n",
              "   'note',\n",
              "   'galaxy',\n",
              "   'self',\n",
              "   'protector',\n",
              "   'covers',\n",
              "   'coverage',\n",
              "   'film',\n",
              "   'installation',\n",
              "   'kit',\n",
              "   'ensures',\n",
              "   'thats']],\n",
              " (176, 1402): [['series', 'edge', 'packaging', 'retail', 'case'],\n",
              "  ['series', 'edge', 'packaging', 'retail', 'case', 'flash'],\n",
              "  ['series', 'edge', 'packaging', 'retail', 'case'],\n",
              "  ['series', 'edge', 'packaging', 'retail', 'case'],\n",
              "  ['series', 'edge', 'packaging', 'retail', 'case'],\n",
              "  ['series', 'edge', 'keeps', 'packaging', 'retail', 'case'],\n",
              "  ['series', 'edge', 'packaging', 'retail', 'case', 'graphics'],\n",
              "  ['series', 'edge', 'protection', 'packaging', 'retail', 'case'],\n",
              "  ['series', 'edge', 'packaging', 'retail', 'case', 'material'],\n",
              "  ['series', 'edge', 'packaging', 'retail', 'case', 'style']],\n",
              " (176,\n",
              "  1284): [['transferring',\n",
              "   'amp',\n",
              "   'mac',\n",
              "   'smartphone',\n",
              "   'benefit',\n",
              "   'yellow',\n",
              "   'computer',\n",
              "   'micro',\n",
              "   'feet',\n",
              "   'charge',\n",
              "   'universal',\n",
              "   'nylon',\n",
              "   'sony',\n",
              "   'nexus',\n",
              "   'reduces',\n",
              "   'google',\n",
              "   'phone',\n",
              "   'nokia',\n",
              "   'data',\n",
              "   'android',\n",
              "   'amazon',\n",
              "   'motorola',\n",
              "   'lightning'], ['charge',\n",
              "   'smartphone',\n",
              "   'google',\n",
              "   'nokia',\n",
              "   'nylon',\n",
              "   'sony',\n",
              "   'nexus',\n",
              "   'data',\n",
              "   'android',\n",
              "   'micro',\n",
              "   'feet',\n",
              "   'motorola',\n",
              "   'amazon',\n",
              "   'lightning',\n",
              "   'universal',\n",
              "   'mac',\n",
              "   'reduces',\n",
              "   'cable'], ['smartphone',\n",
              "   'phone',\n",
              "   'nokia',\n",
              "   'nexus',\n",
              "   'sony',\n",
              "   'data',\n",
              "   'android',\n",
              "   'micro',\n",
              "   'amazon',\n",
              "   'motorola',\n",
              "   'charge',\n",
              "   'lightning',\n",
              "   'mac',\n",
              "   'reduces'], ['amp',\n",
              "   'smartphone',\n",
              "   'files',\n",
              "   'computer',\n",
              "   'red',\n",
              "   'lumia',\n",
              "   'micro',\n",
              "   'feet',\n",
              "   'charge',\n",
              "   'universal',\n",
              "   'nylon',\n",
              "   'sony',\n",
              "   'nexus',\n",
              "   'reduces',\n",
              "   'nokia',\n",
              "   'data',\n",
              "   'android',\n",
              "   'amazon',\n",
              "   'motorola',\n",
              "   'lightning'], ['smartphone',\n",
              "   'google',\n",
              "   'nokia',\n",
              "   'nexus',\n",
              "   'sony',\n",
              "   'data',\n",
              "   'computer',\n",
              "   'android',\n",
              "   'micro',\n",
              "   'feet',\n",
              "   'motorola',\n",
              "   'charge',\n",
              "   'lightning',\n",
              "   'mac',\n",
              "   'reduces'], ['one',\n",
              "   'smartphone',\n",
              "   'benefit',\n",
              "   'google',\n",
              "   'nokia',\n",
              "   'nexus',\n",
              "   'sony',\n",
              "   'data',\n",
              "   'computer',\n",
              "   'amazon',\n",
              "   'micro',\n",
              "   'feet',\n",
              "   'motorola',\n",
              "   'charge',\n",
              "   'lightning',\n",
              "   'universal',\n",
              "   'mac',\n",
              "   'reduces'], ['transferring',\n",
              "   'smartphone',\n",
              "   'amp',\n",
              "   'google',\n",
              "   'nokia',\n",
              "   'nylon',\n",
              "   'nexus',\n",
              "   'data',\n",
              "   'computer',\n",
              "   'android',\n",
              "   'micro',\n",
              "   'feet',\n",
              "   'motorola',\n",
              "   'charge',\n",
              "   'lightning',\n",
              "   'universal',\n",
              "   'mac',\n",
              "   'reduces'], ['smartphone',\n",
              "   'google',\n",
              "   'phone',\n",
              "   'nokia',\n",
              "   'nexus',\n",
              "   'sony',\n",
              "   'syncing',\n",
              "   'data',\n",
              "   'android',\n",
              "   'micro',\n",
              "   'feet',\n",
              "   'motorola',\n",
              "   'amazon',\n",
              "   'lightning',\n",
              "   'universal',\n",
              "   'mac',\n",
              "   'charge',\n",
              "   'reduces'], ['mac',\n",
              "   'smartphone',\n",
              "   'benefit',\n",
              "   'computer',\n",
              "   'micro',\n",
              "   'feet',\n",
              "   'charge',\n",
              "   'universal',\n",
              "   'nylon',\n",
              "   'sony',\n",
              "   'reduces',\n",
              "   'google',\n",
              "   'phone',\n",
              "   'nokia',\n",
              "   'data',\n",
              "   'android',\n",
              "   'amazon',\n",
              "   'motorola',\n",
              "   'lightning'], ['smartphone',\n",
              "   'quicker',\n",
              "   'nokia',\n",
              "   'sony',\n",
              "   'data',\n",
              "   'computer',\n",
              "   'android',\n",
              "   'micro',\n",
              "   'feet',\n",
              "   'motorola',\n",
              "   'amazon',\n",
              "   'lightning',\n",
              "   'charge',\n",
              "   'syncing',\n",
              "   'reduces']],\n",
              " (176,\n",
              "  491): [['exploring',\n",
              "   'modes',\n",
              "   'work',\n",
              "   'leapfrog',\n",
              "   'teaches',\n",
              "   'photographer',\n",
              "   'includes',\n",
              "   'reinforces',\n",
              "   'learn',\n",
              "   'iphone',\n",
              "   'camera',\n",
              "   'green',\n",
              "   'app',\n",
              "   'ipod',\n",
              "   'creativity',\n",
              "   'fun',\n",
              "   'learning',\n",
              "   'family',\n",
              "   'protective',\n",
              "   'safe'], ['ipod',\n",
              "   'creativity',\n",
              "   'ultimate',\n",
              "   'edit',\n",
              "   'helps',\n",
              "   'teaches',\n",
              "   'learning',\n",
              "   'photographer',\n",
              "   'iphone',\n",
              "   'camera',\n",
              "   'protective',\n",
              "   'modes',\n",
              "   'green',\n",
              "   'app',\n",
              "   'includes',\n",
              "   'reinforces'], ['modes',\n",
              "   'work',\n",
              "   'teaches',\n",
              "   'photographer',\n",
              "   'stamp',\n",
              "   'includes',\n",
              "   'reinforces',\n",
              "   'create',\n",
              "   'iphone',\n",
              "   'camera',\n",
              "   'green',\n",
              "   'app',\n",
              "   'navigate',\n",
              "   'ipod',\n",
              "   'creativity',\n",
              "   'ultimate',\n",
              "   'helps',\n",
              "   'learning',\n",
              "   'activities',\n",
              "   'protective',\n",
              "   'safe'], ['included',\n",
              "   'ipod',\n",
              "   'creativity',\n",
              "   'leapster',\n",
              "   'create',\n",
              "   'helps',\n",
              "   'teaches',\n",
              "   'learning',\n",
              "   'photographer',\n",
              "   'iphone',\n",
              "   'camera',\n",
              "   'protective',\n",
              "   'safe',\n",
              "   'modes',\n",
              "   'app',\n",
              "   'express',\n",
              "   'includes',\n",
              "   'reinforces'], ['ipod',\n",
              "   'creativity',\n",
              "   'ultimate',\n",
              "   'work',\n",
              "   'pixel',\n",
              "   'helps',\n",
              "   'teaches',\n",
              "   'learning',\n",
              "   'photographer',\n",
              "   'iphone',\n",
              "   'camera',\n",
              "   'protective',\n",
              "   'safe',\n",
              "   'modes',\n",
              "   'app',\n",
              "   'includes',\n",
              "   'reinforces',\n",
              "   'incorporates'], ['ipod',\n",
              "   'creativity',\n",
              "   'app',\n",
              "   'helps',\n",
              "   'teaches',\n",
              "   'creative',\n",
              "   'skills',\n",
              "   'learning',\n",
              "   'green',\n",
              "   'iphone',\n",
              "   'camera',\n",
              "   'protective',\n",
              "   'safe',\n",
              "   'modes',\n",
              "   'silly',\n",
              "   'photographer',\n",
              "   'includes',\n",
              "   'reinforces'], ['modes',\n",
              "   'express',\n",
              "   'work',\n",
              "   'teaches',\n",
              "   'photographer',\n",
              "   'includes',\n",
              "   'reinforces',\n",
              "   'included',\n",
              "   'iphone',\n",
              "   'camera',\n",
              "   'leappad',\n",
              "   'green',\n",
              "   'app',\n",
              "   'creativity',\n",
              "   'expression',\n",
              "   'helps',\n",
              "   'learning',\n",
              "   'protective',\n",
              "   'safe'], ['creativity',\n",
              "   'toys',\n",
              "   'work',\n",
              "   'number',\n",
              "   'helps',\n",
              "   'teaches',\n",
              "   'green',\n",
              "   'learning',\n",
              "   'photographer',\n",
              "   'iphone',\n",
              "   'camera',\n",
              "   'protective',\n",
              "   'safe',\n",
              "   'modes',\n",
              "   'app',\n",
              "   'express',\n",
              "   'includes',\n",
              "   'reinforces'], ['modes',\n",
              "   'work',\n",
              "   'leapfrog',\n",
              "   'teaches',\n",
              "   'photographer',\n",
              "   'includes',\n",
              "   'reinforces',\n",
              "   'leapster',\n",
              "   'iphone',\n",
              "   'case',\n",
              "   'camera',\n",
              "   'green',\n",
              "   'app',\n",
              "   'ipod',\n",
              "   'creativity',\n",
              "   'ultimate',\n",
              "   'helps',\n",
              "   'learning',\n",
              "   'protective',\n",
              "   'safe'], ['catch',\n",
              "   'modes',\n",
              "   'express',\n",
              "   'teaches',\n",
              "   'photographer',\n",
              "   'includes',\n",
              "   'reinforces',\n",
              "   'create',\n",
              "   'iphone',\n",
              "   'camera',\n",
              "   'green',\n",
              "   'app',\n",
              "   'ipod',\n",
              "   'creativity',\n",
              "   'helps',\n",
              "   'learning',\n",
              "   'family',\n",
              "   'protective',\n",
              "   'safe']],\n",
              " (176, 1460): [['symmetry', 'series', 'iphone', 'graphic', 'white'],\n",
              "  ['symmetry', 'date', 'iphone', 'graphic', 'white'],\n",
              "  ['symmetry', 'series', 'iphone', 'case', 'graphic', 'white'],\n",
              "  ['symmetry', 'series', 'date', 'absorbs', 'iphone', 'case', 'white'],\n",
              "  ['symmetry', 'series', 'date', 'absorbs', 'iphone', 'white'],\n",
              "  ['symmetry',\n",
              "   'series',\n",
              "   'date',\n",
              "   'absorbs',\n",
              "   'iphone',\n",
              "   'case',\n",
              "   'graphic',\n",
              "   'white'],\n",
              "  ['symmetry', 'series', 'plus', 'iphone', 'case', 'material', 'white'],\n",
              "  ['symmetry', 'series', 'date', 'iphone', 'case', 'graphic', 'white'],\n",
              "  ['symmetry', 'series', 'date', 'iphone', 'case', 'graphic', 'white'],\n",
              "  ['symmetry', 'series', 'date', 'iphone', 'graphic', 'white']],\n",
              " (183, 369): [['5se', 'juice', 'iphone', 'pocket', 'mophie'],\n",
              "  ['5se', 'juice', 'pack', 'iphone', 'easily'],\n",
              "  ['amp', 'iphone', 'juice', 'status'],\n",
              "  ['amp', 'helium', 'iphone', 'juice'],\n",
              "  ['iphone', '8mophie', '5se', '500mah'],\n",
              "  ['iphone', 'mophie', '5se', '500mah'],\n",
              "  ['iphone', '5se'],\n",
              "  ['helium', 'iphone'],\n",
              "  ['charging', 'iphone', 'juice'],\n",
              "  ['5se', 'iphone', 'fitting']],\n",
              " (183, 1634): [['ice', 'military', 'composite', 'case', 'motorola'],\n",
              "  ['motorola', 'composite', 'case', 'military'],\n",
              "  ['motorola', 'composite', 'military'],\n",
              "  ['motorola', 'composite', 'case', 'military'],\n",
              "  ['motorola', 'composite'],\n",
              "  ['composite', 'military'],\n",
              "  ['composite', 'military'],\n",
              "  ['motorola', 'composite', 'case', 'military'],\n",
              "  ['composite', 'military'],\n",
              "  ['motorola', 'composite']],\n",
              " (183, 791): [['16gb', 'processor', 'amp', 'speed', 'android', 'white'],\n",
              "  ['16gb', 'processor', 'amp', 'speed', 'android', 'white'],\n",
              "  ['16gb', 'processor', 'amp', 'speed', 'white'],\n",
              "  ['frame', '16gb', 'processor', 'amp', 'android', 'contacts', 'white'],\n",
              "  ['amp', '16gb', 'android', 'white'],\n",
              "  ['16gb', 'amp', 'speed', 'android', 'white'],\n",
              "  ['16gb', 'amp', 'speed', 'android', 'white'],\n",
              "  ['16gb', 'processor', 'working', 'speed', 'android', 'white'],\n",
              "  ['16gb', 'processor', 'android', 'white'],\n",
              "  ['16gb', 'amp', 'speed', 'android', 'powered', 'white']],\n",
              " (183, 999): [['iphone', 'apple'],\n",
              "  ['iphone', 'apple'],\n",
              "  ['iphone', 'apple'],\n",
              "  ['iphone', 'flexible'],\n",
              "  ['premium', 'iphone'],\n",
              "  ['iphone', 'defense'],\n",
              "  ['combining', 'iphone'],\n",
              "  ['iphone', 'apple', 'convenience'],\n",
              "  ['iphone', 'grip'],\n",
              "  ['iphone', 'perfect']],\n",
              " (267, 1069): [['skin', 'iphone', '4mm', 'ultra'],\n",
              "  ['nothing', 'iphone', 'anti', '4mm'],\n",
              "  ['nothing', 'iphone', '4mm', 'transparent', 'skin'],\n",
              "  ['ultrathin', 'provides', 'iphone', 'case', '4mm', 'skin', 'lifetime'],\n",
              "  ['skin', 'provides', 'iphone', '4mm']],\n",
              " (267, 192): [['iphone', 'ability', 'clear'],\n",
              "  ['iphone', 'clear'],\n",
              "  ['ability', 'clear'],\n",
              "  ['iphone', 'clear'],\n",
              "  ['ability', 'clear'],\n",
              "  ['fits', 'iphone', 'ability', 'clear'],\n",
              "  ['iphone', 'ability', 'clear'],\n",
              "  ['antenna', 'iphone', 'clear'],\n",
              "  ['frame', 'ability', 'anti', 'clear'],\n",
              "  ['iphone', 'clear']],\n",
              " (283, 368): [['indicator', 'juice', 'simultaneously', 'iphone', 'protective'],\n",
              "  ['indicator', 'iphone', 'juice'],\n",
              "  ['indicator', 'iphone', 'juice', 'simultaneously'],\n",
              "  ['indicator', 'iphone', 'juice', 'difference'],\n",
              "  ['iphone', 'indicator', 'inside', 'juice'],\n",
              "  ['iphone', 'juice'],\n",
              "  ['indicator', 'iphone', 'juice', 'simultaneously'],\n",
              "  ['iphone', 'juice', 'simultaneously'],\n",
              "  ['life', 'indicator', 'juice', 'led', 'simultaneously', 'iphone', 'packs'],\n",
              "  ['indicator', 'led', 'juice', 'thinner', 'iphone']],\n",
              " (283, 851): [['generation', '1st', 'phone', 'motorola', 'gsm'],\n",
              "  ['generation', '1st', 'phone', 'motorola', 'gsm'],\n",
              "  ['generation', '1st', 'phone', 'motorola', 'gsm'],\n",
              "  ['generation', '1st', 'phone', 'motorola', 'gsm'],\n",
              "  ['motorola', 'phone', 'gsm', '1st'],\n",
              "  ['generation', '1st', 'phone', 'motorola', 'gsm'],\n",
              "  ['generation', '1st', 'phone', 'motorola', 'gsm'],\n",
              "  ['generation', '1st', 'phone', 'motorola', 'gsm'],\n",
              "  ['generation', '1st', 'phone', 'motorola', 'gsm'],\n",
              "  ['generation', '1st', 'phone', 'motorola', 'gsm']],\n",
              " (283,\n",
              "  1419): [['ipod',\n",
              "   'beach',\n",
              "   'keep',\n",
              "   'galaxy',\n",
              "   'protects',\n",
              "   'functionality',\n",
              "   'mini',\n",
              "   '100',\n",
              "   'iphone',\n",
              "   'pda',\n",
              "   'factory',\n",
              "   'swimming',\n",
              "   'feet',\n",
              "   'perfect'], ['ipod',\n",
              "   'beach',\n",
              "   'protection',\n",
              "   'keep',\n",
              "   'galaxy',\n",
              "   'protects',\n",
              "   'functionality',\n",
              "   'mini',\n",
              "   '100',\n",
              "   'iphone',\n",
              "   'activities',\n",
              "   'factory',\n",
              "   'swimming',\n",
              "   'feet',\n",
              "   'smartphones'], ['ipod',\n",
              "   'beach',\n",
              "   'keep',\n",
              "   'galaxy',\n",
              "   'protects',\n",
              "   'functionality',\n",
              "   'mini',\n",
              "   '100',\n",
              "   'iphone',\n",
              "   'case',\n",
              "   'factory',\n",
              "   'swimming',\n",
              "   'feet',\n",
              "   'perfect',\n",
              "   'smartphones',\n",
              "   'keys'], ['ipod',\n",
              "   'beach',\n",
              "   'keep',\n",
              "   'galaxy',\n",
              "   'protects',\n",
              "   'functionality',\n",
              "   'mini',\n",
              "   '100',\n",
              "   'iphone',\n",
              "   'activities',\n",
              "   'factory',\n",
              "   'swimming',\n",
              "   'feet',\n",
              "   'perfect',\n",
              "   'smartphones'], ['ipod',\n",
              "   'beach',\n",
              "   'keep',\n",
              "   'galaxy',\n",
              "   'protects',\n",
              "   'functionality',\n",
              "   'mini',\n",
              "   '100',\n",
              "   'iphone',\n",
              "   'case',\n",
              "   'factory',\n",
              "   'swimming',\n",
              "   'feet',\n",
              "   'perfect',\n",
              "   'smartphones'], ['ipod',\n",
              "   'beach',\n",
              "   'keep',\n",
              "   'galaxy',\n",
              "   'protects',\n",
              "   'functionality',\n",
              "   'mini',\n",
              "   '100',\n",
              "   'iphone',\n",
              "   'factory',\n",
              "   'swimming',\n",
              "   'feet',\n",
              "   'perfect'], ['ipod',\n",
              "   'beach',\n",
              "   'keep',\n",
              "   'galaxy',\n",
              "   'protects',\n",
              "   'functionality',\n",
              "   'mini',\n",
              "   '100',\n",
              "   'iphone',\n",
              "   'factory',\n",
              "   'swimming',\n",
              "   'feet',\n",
              "   'perfect'], ['ipod',\n",
              "   'beach',\n",
              "   'keep',\n",
              "   'galaxy',\n",
              "   'protects',\n",
              "   'functionality',\n",
              "   'mini',\n",
              "   '100',\n",
              "   'iphone',\n",
              "   'activities',\n",
              "   'factory',\n",
              "   'swimming',\n",
              "   'feet',\n",
              "   'perfect'], ['ipod',\n",
              "   'beach',\n",
              "   'keep',\n",
              "   'galaxy',\n",
              "   'protects',\n",
              "   'functionality',\n",
              "   'mini',\n",
              "   '100',\n",
              "   'iphone',\n",
              "   'cameras',\n",
              "   'factory',\n",
              "   'swimming',\n",
              "   'feet',\n",
              "   'perfect'], ['ipod',\n",
              "   'beach',\n",
              "   'keep',\n",
              "   'galaxy',\n",
              "   'protects',\n",
              "   'functionality',\n",
              "   'mini',\n",
              "   'test',\n",
              "   '100',\n",
              "   'iphone',\n",
              "   'perfect',\n",
              "   'swimming',\n",
              "   'feet']],\n",
              " (283, 1644): [['2mm', 'iphone'],\n",
              "  ['iphone', 'scrapes', 'application'],\n",
              "  ['safety', 'iphone', 'clarity'],\n",
              "  ['premium', 'iphone', 'screen', 'scratches'],\n",
              "  ['feeling', 'iphone', 'processed'],\n",
              "  ['oleophobic', 'iphone'],\n",
              "  ['tempered', 'iphone', 'case'],\n",
              "  ['cover', 'shatterproof', 'tempered', 'iphone'],\n",
              "  ['face', 'iphone'],\n",
              "  ['2mm', 'iphone']],\n",
              " (80, 1219): [['iphone'],\n",
              "  ['easy', 'iphone'],\n",
              "  ['iphone'],\n",
              "  ['iphone'],\n",
              "  ['iphone', 'aluminum'],\n",
              "  ['iphone', 'lens'],\n",
              "  ['iphone'],\n",
              "  ['iphone'],\n",
              "  ['iphone', 'sticks']],\n",
              " (95, 290): [['iphone', 'resistant', 'glare']],\n",
              " (8, 911): [['nokia', 'data', 'blackberry', 'motorola', 'universal'],\n",
              "  ['nokia', 'motorola', 'data', 'blackberry', 'features']],\n",
              " (80, 711): [['color', 'iphone', 'thickness', 'silver']],\n",
              " (267,\n",
              "  1469): [['grey',\n",
              "   'packaging',\n",
              "   'blue',\n",
              "   'retail',\n",
              "   'case',\n",
              "   'version',\n",
              "   'cowabunga']]}"
            ]
          },
          "metadata": {},
          "execution_count": 63
        }
      ]
    },
    {
      "cell_type": "code",
      "source": [
        "stability=0\n",
        "# count_all=0\n",
        "for ui in dict_features.keys():\n",
        "  features=dict_features[ui]\n",
        "  stabs=0\n",
        "  count=0\n",
        "  if(len(features)>1):\n",
        "    # count_all+=1\n",
        "    for i in range(len(features)):\n",
        "      for j in range(len(features)):\n",
        "        # print(features[i])\n",
        "        # print(features[j])\n",
        "        if len(features[i])>0 and len(features[j])>0:\n",
        "          if i != j:\n",
        "            intersection = list(set(features[i]) & set(features[j]))\n",
        "            union = list(set(features[i]) | set(features[j]))\n",
        "            # print(features[i],features[j])\n",
        "            # print(intersection)\n",
        "            # print(union)\n",
        "            count+=1\n",
        "            stabs+=(len(intersection)/len(union))\n",
        "    # print(stabs)\n",
        "    # print(len(features)*(len(features)-1))\n",
        "    # print((stabs/(len(features)*(len(features)-1))))\n",
        "    stability+=(stabs/(9.0*10.0))\n",
        "\n",
        "stability=stability/len(dict_features)\n",
        "print(stability)"
      ],
      "metadata": {
        "colab": {
          "base_uri": "https://localhost:8080/"
        },
        "id": "YzjzCNTA5Nxu",
        "outputId": "a826d5e3-4945-44e7-8e8c-8fab99a1e92f"
      },
      "execution_count": null,
      "outputs": [
        {
          "output_type": "stream",
          "name": "stdout",
          "text": [
            "0.5129018820142084\n"
          ]
        }
      ]
    }
  ],
  "metadata": {
    "accelerator": "GPU",
    "colab": {
      "provenance": []
    },
    "gpuClass": "standard",
    "kernelspec": {
      "display_name": "Python 3",
      "name": "python3"
    },
    "language_info": {
      "name": "python"
    },
    "widgets": {
      "application/vnd.jupyter.widget-state+json": {
        "2bf09af76bee440cb9d80861863161c8": {
          "model_module": "@jupyter-widgets/controls",
          "model_name": "HBoxModel",
          "model_module_version": "1.5.0",
          "state": {
            "_dom_classes": [],
            "_model_module": "@jupyter-widgets/controls",
            "_model_module_version": "1.5.0",
            "_model_name": "HBoxModel",
            "_view_count": null,
            "_view_module": "@jupyter-widgets/controls",
            "_view_module_version": "1.5.0",
            "_view_name": "HBoxView",
            "box_style": "",
            "children": [
              "IPY_MODEL_9c9045bf5e65465cad9423d32ac318f1",
              "IPY_MODEL_5888f754a7ef40b794358564f2e91075",
              "IPY_MODEL_7b47af07616f47289ccbe8be4a8f18bf"
            ],
            "layout": "IPY_MODEL_24a54d0d74d54ad092a8633938015f65"
          }
        },
        "9c9045bf5e65465cad9423d32ac318f1": {
          "model_module": "@jupyter-widgets/controls",
          "model_name": "HTMLModel",
          "model_module_version": "1.5.0",
          "state": {
            "_dom_classes": [],
            "_model_module": "@jupyter-widgets/controls",
            "_model_module_version": "1.5.0",
            "_model_name": "HTMLModel",
            "_view_count": null,
            "_view_module": "@jupyter-widgets/controls",
            "_view_module_version": "1.5.0",
            "_view_name": "HTMLView",
            "description": "",
            "description_tooltip": null,
            "layout": "IPY_MODEL_55c456a7c0424323be3bd55627ba3c1f",
            "placeholder": "​",
            "style": "IPY_MODEL_2059e1db5f2c414db6cd2f357bcb2787",
            "value": "Downloading (…)lve/main/config.json: 100%"
          }
        },
        "5888f754a7ef40b794358564f2e91075": {
          "model_module": "@jupyter-widgets/controls",
          "model_name": "FloatProgressModel",
          "model_module_version": "1.5.0",
          "state": {
            "_dom_classes": [],
            "_model_module": "@jupyter-widgets/controls",
            "_model_module_version": "1.5.0",
            "_model_name": "FloatProgressModel",
            "_view_count": null,
            "_view_module": "@jupyter-widgets/controls",
            "_view_module_version": "1.5.0",
            "_view_name": "ProgressView",
            "bar_style": "success",
            "description": "",
            "description_tooltip": null,
            "layout": "IPY_MODEL_ccd519e638bf424f8d30e63262c73c1e",
            "max": 570,
            "min": 0,
            "orientation": "horizontal",
            "style": "IPY_MODEL_f7c891fa3a6a41138f6cb8aee5243268",
            "value": 570
          }
        },
        "7b47af07616f47289ccbe8be4a8f18bf": {
          "model_module": "@jupyter-widgets/controls",
          "model_name": "HTMLModel",
          "model_module_version": "1.5.0",
          "state": {
            "_dom_classes": [],
            "_model_module": "@jupyter-widgets/controls",
            "_model_module_version": "1.5.0",
            "_model_name": "HTMLModel",
            "_view_count": null,
            "_view_module": "@jupyter-widgets/controls",
            "_view_module_version": "1.5.0",
            "_view_name": "HTMLView",
            "description": "",
            "description_tooltip": null,
            "layout": "IPY_MODEL_3d0f7c3308494319bf94bc4abcae11b4",
            "placeholder": "​",
            "style": "IPY_MODEL_a0553a4938514a998b791b947c01b8fb",
            "value": " 570/570 [00:00&lt;00:00, 24.9kB/s]"
          }
        },
        "24a54d0d74d54ad092a8633938015f65": {
          "model_module": "@jupyter-widgets/base",
          "model_name": "LayoutModel",
          "model_module_version": "1.2.0",
          "state": {
            "_model_module": "@jupyter-widgets/base",
            "_model_module_version": "1.2.0",
            "_model_name": "LayoutModel",
            "_view_count": null,
            "_view_module": "@jupyter-widgets/base",
            "_view_module_version": "1.2.0",
            "_view_name": "LayoutView",
            "align_content": null,
            "align_items": null,
            "align_self": null,
            "border": null,
            "bottom": null,
            "display": null,
            "flex": null,
            "flex_flow": null,
            "grid_area": null,
            "grid_auto_columns": null,
            "grid_auto_flow": null,
            "grid_auto_rows": null,
            "grid_column": null,
            "grid_gap": null,
            "grid_row": null,
            "grid_template_areas": null,
            "grid_template_columns": null,
            "grid_template_rows": null,
            "height": null,
            "justify_content": null,
            "justify_items": null,
            "left": null,
            "margin": null,
            "max_height": null,
            "max_width": null,
            "min_height": null,
            "min_width": null,
            "object_fit": null,
            "object_position": null,
            "order": null,
            "overflow": null,
            "overflow_x": null,
            "overflow_y": null,
            "padding": null,
            "right": null,
            "top": null,
            "visibility": null,
            "width": null
          }
        },
        "55c456a7c0424323be3bd55627ba3c1f": {
          "model_module": "@jupyter-widgets/base",
          "model_name": "LayoutModel",
          "model_module_version": "1.2.0",
          "state": {
            "_model_module": "@jupyter-widgets/base",
            "_model_module_version": "1.2.0",
            "_model_name": "LayoutModel",
            "_view_count": null,
            "_view_module": "@jupyter-widgets/base",
            "_view_module_version": "1.2.0",
            "_view_name": "LayoutView",
            "align_content": null,
            "align_items": null,
            "align_self": null,
            "border": null,
            "bottom": null,
            "display": null,
            "flex": null,
            "flex_flow": null,
            "grid_area": null,
            "grid_auto_columns": null,
            "grid_auto_flow": null,
            "grid_auto_rows": null,
            "grid_column": null,
            "grid_gap": null,
            "grid_row": null,
            "grid_template_areas": null,
            "grid_template_columns": null,
            "grid_template_rows": null,
            "height": null,
            "justify_content": null,
            "justify_items": null,
            "left": null,
            "margin": null,
            "max_height": null,
            "max_width": null,
            "min_height": null,
            "min_width": null,
            "object_fit": null,
            "object_position": null,
            "order": null,
            "overflow": null,
            "overflow_x": null,
            "overflow_y": null,
            "padding": null,
            "right": null,
            "top": null,
            "visibility": null,
            "width": null
          }
        },
        "2059e1db5f2c414db6cd2f357bcb2787": {
          "model_module": "@jupyter-widgets/controls",
          "model_name": "DescriptionStyleModel",
          "model_module_version": "1.5.0",
          "state": {
            "_model_module": "@jupyter-widgets/controls",
            "_model_module_version": "1.5.0",
            "_model_name": "DescriptionStyleModel",
            "_view_count": null,
            "_view_module": "@jupyter-widgets/base",
            "_view_module_version": "1.2.0",
            "_view_name": "StyleView",
            "description_width": ""
          }
        },
        "ccd519e638bf424f8d30e63262c73c1e": {
          "model_module": "@jupyter-widgets/base",
          "model_name": "LayoutModel",
          "model_module_version": "1.2.0",
          "state": {
            "_model_module": "@jupyter-widgets/base",
            "_model_module_version": "1.2.0",
            "_model_name": "LayoutModel",
            "_view_count": null,
            "_view_module": "@jupyter-widgets/base",
            "_view_module_version": "1.2.0",
            "_view_name": "LayoutView",
            "align_content": null,
            "align_items": null,
            "align_self": null,
            "border": null,
            "bottom": null,
            "display": null,
            "flex": null,
            "flex_flow": null,
            "grid_area": null,
            "grid_auto_columns": null,
            "grid_auto_flow": null,
            "grid_auto_rows": null,
            "grid_column": null,
            "grid_gap": null,
            "grid_row": null,
            "grid_template_areas": null,
            "grid_template_columns": null,
            "grid_template_rows": null,
            "height": null,
            "justify_content": null,
            "justify_items": null,
            "left": null,
            "margin": null,
            "max_height": null,
            "max_width": null,
            "min_height": null,
            "min_width": null,
            "object_fit": null,
            "object_position": null,
            "order": null,
            "overflow": null,
            "overflow_x": null,
            "overflow_y": null,
            "padding": null,
            "right": null,
            "top": null,
            "visibility": null,
            "width": null
          }
        },
        "f7c891fa3a6a41138f6cb8aee5243268": {
          "model_module": "@jupyter-widgets/controls",
          "model_name": "ProgressStyleModel",
          "model_module_version": "1.5.0",
          "state": {
            "_model_module": "@jupyter-widgets/controls",
            "_model_module_version": "1.5.0",
            "_model_name": "ProgressStyleModel",
            "_view_count": null,
            "_view_module": "@jupyter-widgets/base",
            "_view_module_version": "1.2.0",
            "_view_name": "StyleView",
            "bar_color": null,
            "description_width": ""
          }
        },
        "3d0f7c3308494319bf94bc4abcae11b4": {
          "model_module": "@jupyter-widgets/base",
          "model_name": "LayoutModel",
          "model_module_version": "1.2.0",
          "state": {
            "_model_module": "@jupyter-widgets/base",
            "_model_module_version": "1.2.0",
            "_model_name": "LayoutModel",
            "_view_count": null,
            "_view_module": "@jupyter-widgets/base",
            "_view_module_version": "1.2.0",
            "_view_name": "LayoutView",
            "align_content": null,
            "align_items": null,
            "align_self": null,
            "border": null,
            "bottom": null,
            "display": null,
            "flex": null,
            "flex_flow": null,
            "grid_area": null,
            "grid_auto_columns": null,
            "grid_auto_flow": null,
            "grid_auto_rows": null,
            "grid_column": null,
            "grid_gap": null,
            "grid_row": null,
            "grid_template_areas": null,
            "grid_template_columns": null,
            "grid_template_rows": null,
            "height": null,
            "justify_content": null,
            "justify_items": null,
            "left": null,
            "margin": null,
            "max_height": null,
            "max_width": null,
            "min_height": null,
            "min_width": null,
            "object_fit": null,
            "object_position": null,
            "order": null,
            "overflow": null,
            "overflow_x": null,
            "overflow_y": null,
            "padding": null,
            "right": null,
            "top": null,
            "visibility": null,
            "width": null
          }
        },
        "a0553a4938514a998b791b947c01b8fb": {
          "model_module": "@jupyter-widgets/controls",
          "model_name": "DescriptionStyleModel",
          "model_module_version": "1.5.0",
          "state": {
            "_model_module": "@jupyter-widgets/controls",
            "_model_module_version": "1.5.0",
            "_model_name": "DescriptionStyleModel",
            "_view_count": null,
            "_view_module": "@jupyter-widgets/base",
            "_view_module_version": "1.2.0",
            "_view_name": "StyleView",
            "description_width": ""
          }
        },
        "7971992af61040f89ea2d442805966a2": {
          "model_module": "@jupyter-widgets/controls",
          "model_name": "HBoxModel",
          "model_module_version": "1.5.0",
          "state": {
            "_dom_classes": [],
            "_model_module": "@jupyter-widgets/controls",
            "_model_module_version": "1.5.0",
            "_model_name": "HBoxModel",
            "_view_count": null,
            "_view_module": "@jupyter-widgets/controls",
            "_view_module_version": "1.5.0",
            "_view_name": "HBoxView",
            "box_style": "",
            "children": [
              "IPY_MODEL_941401980d074ea3853bbf6076fa8d83",
              "IPY_MODEL_07d48641efe948c2b39f8a7edcd3b884",
              "IPY_MODEL_243304c0354f4489bb38d2f68d9edc0a"
            ],
            "layout": "IPY_MODEL_17bca7bf65a743d7815d53d16718f7fd"
          }
        },
        "941401980d074ea3853bbf6076fa8d83": {
          "model_module": "@jupyter-widgets/controls",
          "model_name": "HTMLModel",
          "model_module_version": "1.5.0",
          "state": {
            "_dom_classes": [],
            "_model_module": "@jupyter-widgets/controls",
            "_model_module_version": "1.5.0",
            "_model_name": "HTMLModel",
            "_view_count": null,
            "_view_module": "@jupyter-widgets/controls",
            "_view_module_version": "1.5.0",
            "_view_name": "HTMLView",
            "description": "",
            "description_tooltip": null,
            "layout": "IPY_MODEL_a91a5fdcd94245bbb2084791879767fb",
            "placeholder": "​",
            "style": "IPY_MODEL_e7fc3894c04f4eb7910d67ecef2d2eea",
            "value": "Downloading (…)okenizer_config.json: 100%"
          }
        },
        "07d48641efe948c2b39f8a7edcd3b884": {
          "model_module": "@jupyter-widgets/controls",
          "model_name": "FloatProgressModel",
          "model_module_version": "1.5.0",
          "state": {
            "_dom_classes": [],
            "_model_module": "@jupyter-widgets/controls",
            "_model_module_version": "1.5.0",
            "_model_name": "FloatProgressModel",
            "_view_count": null,
            "_view_module": "@jupyter-widgets/controls",
            "_view_module_version": "1.5.0",
            "_view_name": "ProgressView",
            "bar_style": "success",
            "description": "",
            "description_tooltip": null,
            "layout": "IPY_MODEL_371e47e50baf49d08fd0655965e6e606",
            "max": 28,
            "min": 0,
            "orientation": "horizontal",
            "style": "IPY_MODEL_90eefdcbda914e328b8ef22acc3310a4",
            "value": 28
          }
        },
        "243304c0354f4489bb38d2f68d9edc0a": {
          "model_module": "@jupyter-widgets/controls",
          "model_name": "HTMLModel",
          "model_module_version": "1.5.0",
          "state": {
            "_dom_classes": [],
            "_model_module": "@jupyter-widgets/controls",
            "_model_module_version": "1.5.0",
            "_model_name": "HTMLModel",
            "_view_count": null,
            "_view_module": "@jupyter-widgets/controls",
            "_view_module_version": "1.5.0",
            "_view_name": "HTMLView",
            "description": "",
            "description_tooltip": null,
            "layout": "IPY_MODEL_b6ef247b79bf4f8b8b0dd0497ce08edc",
            "placeholder": "​",
            "style": "IPY_MODEL_3c9285ba68ce47e585e97a71bbd02506",
            "value": " 28.0/28.0 [00:00&lt;00:00, 1.14kB/s]"
          }
        },
        "17bca7bf65a743d7815d53d16718f7fd": {
          "model_module": "@jupyter-widgets/base",
          "model_name": "LayoutModel",
          "model_module_version": "1.2.0",
          "state": {
            "_model_module": "@jupyter-widgets/base",
            "_model_module_version": "1.2.0",
            "_model_name": "LayoutModel",
            "_view_count": null,
            "_view_module": "@jupyter-widgets/base",
            "_view_module_version": "1.2.0",
            "_view_name": "LayoutView",
            "align_content": null,
            "align_items": null,
            "align_self": null,
            "border": null,
            "bottom": null,
            "display": null,
            "flex": null,
            "flex_flow": null,
            "grid_area": null,
            "grid_auto_columns": null,
            "grid_auto_flow": null,
            "grid_auto_rows": null,
            "grid_column": null,
            "grid_gap": null,
            "grid_row": null,
            "grid_template_areas": null,
            "grid_template_columns": null,
            "grid_template_rows": null,
            "height": null,
            "justify_content": null,
            "justify_items": null,
            "left": null,
            "margin": null,
            "max_height": null,
            "max_width": null,
            "min_height": null,
            "min_width": null,
            "object_fit": null,
            "object_position": null,
            "order": null,
            "overflow": null,
            "overflow_x": null,
            "overflow_y": null,
            "padding": null,
            "right": null,
            "top": null,
            "visibility": null,
            "width": null
          }
        },
        "a91a5fdcd94245bbb2084791879767fb": {
          "model_module": "@jupyter-widgets/base",
          "model_name": "LayoutModel",
          "model_module_version": "1.2.0",
          "state": {
            "_model_module": "@jupyter-widgets/base",
            "_model_module_version": "1.2.0",
            "_model_name": "LayoutModel",
            "_view_count": null,
            "_view_module": "@jupyter-widgets/base",
            "_view_module_version": "1.2.0",
            "_view_name": "LayoutView",
            "align_content": null,
            "align_items": null,
            "align_self": null,
            "border": null,
            "bottom": null,
            "display": null,
            "flex": null,
            "flex_flow": null,
            "grid_area": null,
            "grid_auto_columns": null,
            "grid_auto_flow": null,
            "grid_auto_rows": null,
            "grid_column": null,
            "grid_gap": null,
            "grid_row": null,
            "grid_template_areas": null,
            "grid_template_columns": null,
            "grid_template_rows": null,
            "height": null,
            "justify_content": null,
            "justify_items": null,
            "left": null,
            "margin": null,
            "max_height": null,
            "max_width": null,
            "min_height": null,
            "min_width": null,
            "object_fit": null,
            "object_position": null,
            "order": null,
            "overflow": null,
            "overflow_x": null,
            "overflow_y": null,
            "padding": null,
            "right": null,
            "top": null,
            "visibility": null,
            "width": null
          }
        },
        "e7fc3894c04f4eb7910d67ecef2d2eea": {
          "model_module": "@jupyter-widgets/controls",
          "model_name": "DescriptionStyleModel",
          "model_module_version": "1.5.0",
          "state": {
            "_model_module": "@jupyter-widgets/controls",
            "_model_module_version": "1.5.0",
            "_model_name": "DescriptionStyleModel",
            "_view_count": null,
            "_view_module": "@jupyter-widgets/base",
            "_view_module_version": "1.2.0",
            "_view_name": "StyleView",
            "description_width": ""
          }
        },
        "371e47e50baf49d08fd0655965e6e606": {
          "model_module": "@jupyter-widgets/base",
          "model_name": "LayoutModel",
          "model_module_version": "1.2.0",
          "state": {
            "_model_module": "@jupyter-widgets/base",
            "_model_module_version": "1.2.0",
            "_model_name": "LayoutModel",
            "_view_count": null,
            "_view_module": "@jupyter-widgets/base",
            "_view_module_version": "1.2.0",
            "_view_name": "LayoutView",
            "align_content": null,
            "align_items": null,
            "align_self": null,
            "border": null,
            "bottom": null,
            "display": null,
            "flex": null,
            "flex_flow": null,
            "grid_area": null,
            "grid_auto_columns": null,
            "grid_auto_flow": null,
            "grid_auto_rows": null,
            "grid_column": null,
            "grid_gap": null,
            "grid_row": null,
            "grid_template_areas": null,
            "grid_template_columns": null,
            "grid_template_rows": null,
            "height": null,
            "justify_content": null,
            "justify_items": null,
            "left": null,
            "margin": null,
            "max_height": null,
            "max_width": null,
            "min_height": null,
            "min_width": null,
            "object_fit": null,
            "object_position": null,
            "order": null,
            "overflow": null,
            "overflow_x": null,
            "overflow_y": null,
            "padding": null,
            "right": null,
            "top": null,
            "visibility": null,
            "width": null
          }
        },
        "90eefdcbda914e328b8ef22acc3310a4": {
          "model_module": "@jupyter-widgets/controls",
          "model_name": "ProgressStyleModel",
          "model_module_version": "1.5.0",
          "state": {
            "_model_module": "@jupyter-widgets/controls",
            "_model_module_version": "1.5.0",
            "_model_name": "ProgressStyleModel",
            "_view_count": null,
            "_view_module": "@jupyter-widgets/base",
            "_view_module_version": "1.2.0",
            "_view_name": "StyleView",
            "bar_color": null,
            "description_width": ""
          }
        },
        "b6ef247b79bf4f8b8b0dd0497ce08edc": {
          "model_module": "@jupyter-widgets/base",
          "model_name": "LayoutModel",
          "model_module_version": "1.2.0",
          "state": {
            "_model_module": "@jupyter-widgets/base",
            "_model_module_version": "1.2.0",
            "_model_name": "LayoutModel",
            "_view_count": null,
            "_view_module": "@jupyter-widgets/base",
            "_view_module_version": "1.2.0",
            "_view_name": "LayoutView",
            "align_content": null,
            "align_items": null,
            "align_self": null,
            "border": null,
            "bottom": null,
            "display": null,
            "flex": null,
            "flex_flow": null,
            "grid_area": null,
            "grid_auto_columns": null,
            "grid_auto_flow": null,
            "grid_auto_rows": null,
            "grid_column": null,
            "grid_gap": null,
            "grid_row": null,
            "grid_template_areas": null,
            "grid_template_columns": null,
            "grid_template_rows": null,
            "height": null,
            "justify_content": null,
            "justify_items": null,
            "left": null,
            "margin": null,
            "max_height": null,
            "max_width": null,
            "min_height": null,
            "min_width": null,
            "object_fit": null,
            "object_position": null,
            "order": null,
            "overflow": null,
            "overflow_x": null,
            "overflow_y": null,
            "padding": null,
            "right": null,
            "top": null,
            "visibility": null,
            "width": null
          }
        },
        "3c9285ba68ce47e585e97a71bbd02506": {
          "model_module": "@jupyter-widgets/controls",
          "model_name": "DescriptionStyleModel",
          "model_module_version": "1.5.0",
          "state": {
            "_model_module": "@jupyter-widgets/controls",
            "_model_module_version": "1.5.0",
            "_model_name": "DescriptionStyleModel",
            "_view_count": null,
            "_view_module": "@jupyter-widgets/base",
            "_view_module_version": "1.2.0",
            "_view_name": "StyleView",
            "description_width": ""
          }
        },
        "a0b9edca3be34d4c85f5d0e13817c52b": {
          "model_module": "@jupyter-widgets/controls",
          "model_name": "HBoxModel",
          "model_module_version": "1.5.0",
          "state": {
            "_dom_classes": [],
            "_model_module": "@jupyter-widgets/controls",
            "_model_module_version": "1.5.0",
            "_model_name": "HBoxModel",
            "_view_count": null,
            "_view_module": "@jupyter-widgets/controls",
            "_view_module_version": "1.5.0",
            "_view_name": "HBoxView",
            "box_style": "",
            "children": [
              "IPY_MODEL_615f2f6f857942a7a1ad5ecd9e539a3a",
              "IPY_MODEL_5dbc963408274e5d924e4d9b62404409",
              "IPY_MODEL_c9bb1d43878f4b4d91c8225c40933948"
            ],
            "layout": "IPY_MODEL_9594bd9b411e421ab12111a18d039e9a"
          }
        },
        "615f2f6f857942a7a1ad5ecd9e539a3a": {
          "model_module": "@jupyter-widgets/controls",
          "model_name": "HTMLModel",
          "model_module_version": "1.5.0",
          "state": {
            "_dom_classes": [],
            "_model_module": "@jupyter-widgets/controls",
            "_model_module_version": "1.5.0",
            "_model_name": "HTMLModel",
            "_view_count": null,
            "_view_module": "@jupyter-widgets/controls",
            "_view_module_version": "1.5.0",
            "_view_name": "HTMLView",
            "description": "",
            "description_tooltip": null,
            "layout": "IPY_MODEL_3dc76df0ac994eddbd978755a1865938",
            "placeholder": "​",
            "style": "IPY_MODEL_5126bdef6d73482cb89ce3ff6cd89ae8",
            "value": "Downloading (…)solve/main/vocab.txt: 100%"
          }
        },
        "5dbc963408274e5d924e4d9b62404409": {
          "model_module": "@jupyter-widgets/controls",
          "model_name": "FloatProgressModel",
          "model_module_version": "1.5.0",
          "state": {
            "_dom_classes": [],
            "_model_module": "@jupyter-widgets/controls",
            "_model_module_version": "1.5.0",
            "_model_name": "FloatProgressModel",
            "_view_count": null,
            "_view_module": "@jupyter-widgets/controls",
            "_view_module_version": "1.5.0",
            "_view_name": "ProgressView",
            "bar_style": "success",
            "description": "",
            "description_tooltip": null,
            "layout": "IPY_MODEL_6db9ca0bcc45433b8eb9b43e34974444",
            "max": 231508,
            "min": 0,
            "orientation": "horizontal",
            "style": "IPY_MODEL_d3570ce566f54c3e91403d8aefdec915",
            "value": 231508
          }
        },
        "c9bb1d43878f4b4d91c8225c40933948": {
          "model_module": "@jupyter-widgets/controls",
          "model_name": "HTMLModel",
          "model_module_version": "1.5.0",
          "state": {
            "_dom_classes": [],
            "_model_module": "@jupyter-widgets/controls",
            "_model_module_version": "1.5.0",
            "_model_name": "HTMLModel",
            "_view_count": null,
            "_view_module": "@jupyter-widgets/controls",
            "_view_module_version": "1.5.0",
            "_view_name": "HTMLView",
            "description": "",
            "description_tooltip": null,
            "layout": "IPY_MODEL_f856b225063842928a64d00fac745b4c",
            "placeholder": "​",
            "style": "IPY_MODEL_2769e1f672b84eb38d03c4f0777c6cd1",
            "value": " 232k/232k [00:00&lt;00:00, 259kB/s]"
          }
        },
        "9594bd9b411e421ab12111a18d039e9a": {
          "model_module": "@jupyter-widgets/base",
          "model_name": "LayoutModel",
          "model_module_version": "1.2.0",
          "state": {
            "_model_module": "@jupyter-widgets/base",
            "_model_module_version": "1.2.0",
            "_model_name": "LayoutModel",
            "_view_count": null,
            "_view_module": "@jupyter-widgets/base",
            "_view_module_version": "1.2.0",
            "_view_name": "LayoutView",
            "align_content": null,
            "align_items": null,
            "align_self": null,
            "border": null,
            "bottom": null,
            "display": null,
            "flex": null,
            "flex_flow": null,
            "grid_area": null,
            "grid_auto_columns": null,
            "grid_auto_flow": null,
            "grid_auto_rows": null,
            "grid_column": null,
            "grid_gap": null,
            "grid_row": null,
            "grid_template_areas": null,
            "grid_template_columns": null,
            "grid_template_rows": null,
            "height": null,
            "justify_content": null,
            "justify_items": null,
            "left": null,
            "margin": null,
            "max_height": null,
            "max_width": null,
            "min_height": null,
            "min_width": null,
            "object_fit": null,
            "object_position": null,
            "order": null,
            "overflow": null,
            "overflow_x": null,
            "overflow_y": null,
            "padding": null,
            "right": null,
            "top": null,
            "visibility": null,
            "width": null
          }
        },
        "3dc76df0ac994eddbd978755a1865938": {
          "model_module": "@jupyter-widgets/base",
          "model_name": "LayoutModel",
          "model_module_version": "1.2.0",
          "state": {
            "_model_module": "@jupyter-widgets/base",
            "_model_module_version": "1.2.0",
            "_model_name": "LayoutModel",
            "_view_count": null,
            "_view_module": "@jupyter-widgets/base",
            "_view_module_version": "1.2.0",
            "_view_name": "LayoutView",
            "align_content": null,
            "align_items": null,
            "align_self": null,
            "border": null,
            "bottom": null,
            "display": null,
            "flex": null,
            "flex_flow": null,
            "grid_area": null,
            "grid_auto_columns": null,
            "grid_auto_flow": null,
            "grid_auto_rows": null,
            "grid_column": null,
            "grid_gap": null,
            "grid_row": null,
            "grid_template_areas": null,
            "grid_template_columns": null,
            "grid_template_rows": null,
            "height": null,
            "justify_content": null,
            "justify_items": null,
            "left": null,
            "margin": null,
            "max_height": null,
            "max_width": null,
            "min_height": null,
            "min_width": null,
            "object_fit": null,
            "object_position": null,
            "order": null,
            "overflow": null,
            "overflow_x": null,
            "overflow_y": null,
            "padding": null,
            "right": null,
            "top": null,
            "visibility": null,
            "width": null
          }
        },
        "5126bdef6d73482cb89ce3ff6cd89ae8": {
          "model_module": "@jupyter-widgets/controls",
          "model_name": "DescriptionStyleModel",
          "model_module_version": "1.5.0",
          "state": {
            "_model_module": "@jupyter-widgets/controls",
            "_model_module_version": "1.5.0",
            "_model_name": "DescriptionStyleModel",
            "_view_count": null,
            "_view_module": "@jupyter-widgets/base",
            "_view_module_version": "1.2.0",
            "_view_name": "StyleView",
            "description_width": ""
          }
        },
        "6db9ca0bcc45433b8eb9b43e34974444": {
          "model_module": "@jupyter-widgets/base",
          "model_name": "LayoutModel",
          "model_module_version": "1.2.0",
          "state": {
            "_model_module": "@jupyter-widgets/base",
            "_model_module_version": "1.2.0",
            "_model_name": "LayoutModel",
            "_view_count": null,
            "_view_module": "@jupyter-widgets/base",
            "_view_module_version": "1.2.0",
            "_view_name": "LayoutView",
            "align_content": null,
            "align_items": null,
            "align_self": null,
            "border": null,
            "bottom": null,
            "display": null,
            "flex": null,
            "flex_flow": null,
            "grid_area": null,
            "grid_auto_columns": null,
            "grid_auto_flow": null,
            "grid_auto_rows": null,
            "grid_column": null,
            "grid_gap": null,
            "grid_row": null,
            "grid_template_areas": null,
            "grid_template_columns": null,
            "grid_template_rows": null,
            "height": null,
            "justify_content": null,
            "justify_items": null,
            "left": null,
            "margin": null,
            "max_height": null,
            "max_width": null,
            "min_height": null,
            "min_width": null,
            "object_fit": null,
            "object_position": null,
            "order": null,
            "overflow": null,
            "overflow_x": null,
            "overflow_y": null,
            "padding": null,
            "right": null,
            "top": null,
            "visibility": null,
            "width": null
          }
        },
        "d3570ce566f54c3e91403d8aefdec915": {
          "model_module": "@jupyter-widgets/controls",
          "model_name": "ProgressStyleModel",
          "model_module_version": "1.5.0",
          "state": {
            "_model_module": "@jupyter-widgets/controls",
            "_model_module_version": "1.5.0",
            "_model_name": "ProgressStyleModel",
            "_view_count": null,
            "_view_module": "@jupyter-widgets/base",
            "_view_module_version": "1.2.0",
            "_view_name": "StyleView",
            "bar_color": null,
            "description_width": ""
          }
        },
        "f856b225063842928a64d00fac745b4c": {
          "model_module": "@jupyter-widgets/base",
          "model_name": "LayoutModel",
          "model_module_version": "1.2.0",
          "state": {
            "_model_module": "@jupyter-widgets/base",
            "_model_module_version": "1.2.0",
            "_model_name": "LayoutModel",
            "_view_count": null,
            "_view_module": "@jupyter-widgets/base",
            "_view_module_version": "1.2.0",
            "_view_name": "LayoutView",
            "align_content": null,
            "align_items": null,
            "align_self": null,
            "border": null,
            "bottom": null,
            "display": null,
            "flex": null,
            "flex_flow": null,
            "grid_area": null,
            "grid_auto_columns": null,
            "grid_auto_flow": null,
            "grid_auto_rows": null,
            "grid_column": null,
            "grid_gap": null,
            "grid_row": null,
            "grid_template_areas": null,
            "grid_template_columns": null,
            "grid_template_rows": null,
            "height": null,
            "justify_content": null,
            "justify_items": null,
            "left": null,
            "margin": null,
            "max_height": null,
            "max_width": null,
            "min_height": null,
            "min_width": null,
            "object_fit": null,
            "object_position": null,
            "order": null,
            "overflow": null,
            "overflow_x": null,
            "overflow_y": null,
            "padding": null,
            "right": null,
            "top": null,
            "visibility": null,
            "width": null
          }
        },
        "2769e1f672b84eb38d03c4f0777c6cd1": {
          "model_module": "@jupyter-widgets/controls",
          "model_name": "DescriptionStyleModel",
          "model_module_version": "1.5.0",
          "state": {
            "_model_module": "@jupyter-widgets/controls",
            "_model_module_version": "1.5.0",
            "_model_name": "DescriptionStyleModel",
            "_view_count": null,
            "_view_module": "@jupyter-widgets/base",
            "_view_module_version": "1.2.0",
            "_view_name": "StyleView",
            "description_width": ""
          }
        },
        "905bd5b58c554aa5afc39468fc93c293": {
          "model_module": "@jupyter-widgets/controls",
          "model_name": "HBoxModel",
          "model_module_version": "1.5.0",
          "state": {
            "_dom_classes": [],
            "_model_module": "@jupyter-widgets/controls",
            "_model_module_version": "1.5.0",
            "_model_name": "HBoxModel",
            "_view_count": null,
            "_view_module": "@jupyter-widgets/controls",
            "_view_module_version": "1.5.0",
            "_view_name": "HBoxView",
            "box_style": "",
            "children": [
              "IPY_MODEL_10b6b6ba3f3f4989841a807a7bd11de2",
              "IPY_MODEL_d0e133b9c53d4fefbb5749d6ee3164b7",
              "IPY_MODEL_7d542e55e6a8423383c03a166a2c33ea"
            ],
            "layout": "IPY_MODEL_703ec98538b04f86b101670e4d48236d"
          }
        },
        "10b6b6ba3f3f4989841a807a7bd11de2": {
          "model_module": "@jupyter-widgets/controls",
          "model_name": "HTMLModel",
          "model_module_version": "1.5.0",
          "state": {
            "_dom_classes": [],
            "_model_module": "@jupyter-widgets/controls",
            "_model_module_version": "1.5.0",
            "_model_name": "HTMLModel",
            "_view_count": null,
            "_view_module": "@jupyter-widgets/controls",
            "_view_module_version": "1.5.0",
            "_view_name": "HTMLView",
            "description": "",
            "description_tooltip": null,
            "layout": "IPY_MODEL_4e6e4ec37b07458c8bd1952fc11f7bbd",
            "placeholder": "​",
            "style": "IPY_MODEL_0eb27c7fc9844ac48ae61390aabf68be",
            "value": "Downloading (…)/main/tokenizer.json: 100%"
          }
        },
        "d0e133b9c53d4fefbb5749d6ee3164b7": {
          "model_module": "@jupyter-widgets/controls",
          "model_name": "FloatProgressModel",
          "model_module_version": "1.5.0",
          "state": {
            "_dom_classes": [],
            "_model_module": "@jupyter-widgets/controls",
            "_model_module_version": "1.5.0",
            "_model_name": "FloatProgressModel",
            "_view_count": null,
            "_view_module": "@jupyter-widgets/controls",
            "_view_module_version": "1.5.0",
            "_view_name": "ProgressView",
            "bar_style": "success",
            "description": "",
            "description_tooltip": null,
            "layout": "IPY_MODEL_49ccbf130c8447a08ee98ef0939f5c13",
            "max": 466062,
            "min": 0,
            "orientation": "horizontal",
            "style": "IPY_MODEL_0fa23cd503da44deba6be8487b251ea6",
            "value": 466062
          }
        },
        "7d542e55e6a8423383c03a166a2c33ea": {
          "model_module": "@jupyter-widgets/controls",
          "model_name": "HTMLModel",
          "model_module_version": "1.5.0",
          "state": {
            "_dom_classes": [],
            "_model_module": "@jupyter-widgets/controls",
            "_model_module_version": "1.5.0",
            "_model_name": "HTMLModel",
            "_view_count": null,
            "_view_module": "@jupyter-widgets/controls",
            "_view_module_version": "1.5.0",
            "_view_name": "HTMLView",
            "description": "",
            "description_tooltip": null,
            "layout": "IPY_MODEL_d052516b8a2b43e4ab40c16e3582e60f",
            "placeholder": "​",
            "style": "IPY_MODEL_14e8bec56627450b81273ac2cdc0b7ad",
            "value": " 466k/466k [00:01&lt;00:00, 417kB/s]"
          }
        },
        "703ec98538b04f86b101670e4d48236d": {
          "model_module": "@jupyter-widgets/base",
          "model_name": "LayoutModel",
          "model_module_version": "1.2.0",
          "state": {
            "_model_module": "@jupyter-widgets/base",
            "_model_module_version": "1.2.0",
            "_model_name": "LayoutModel",
            "_view_count": null,
            "_view_module": "@jupyter-widgets/base",
            "_view_module_version": "1.2.0",
            "_view_name": "LayoutView",
            "align_content": null,
            "align_items": null,
            "align_self": null,
            "border": null,
            "bottom": null,
            "display": null,
            "flex": null,
            "flex_flow": null,
            "grid_area": null,
            "grid_auto_columns": null,
            "grid_auto_flow": null,
            "grid_auto_rows": null,
            "grid_column": null,
            "grid_gap": null,
            "grid_row": null,
            "grid_template_areas": null,
            "grid_template_columns": null,
            "grid_template_rows": null,
            "height": null,
            "justify_content": null,
            "justify_items": null,
            "left": null,
            "margin": null,
            "max_height": null,
            "max_width": null,
            "min_height": null,
            "min_width": null,
            "object_fit": null,
            "object_position": null,
            "order": null,
            "overflow": null,
            "overflow_x": null,
            "overflow_y": null,
            "padding": null,
            "right": null,
            "top": null,
            "visibility": null,
            "width": null
          }
        },
        "4e6e4ec37b07458c8bd1952fc11f7bbd": {
          "model_module": "@jupyter-widgets/base",
          "model_name": "LayoutModel",
          "model_module_version": "1.2.0",
          "state": {
            "_model_module": "@jupyter-widgets/base",
            "_model_module_version": "1.2.0",
            "_model_name": "LayoutModel",
            "_view_count": null,
            "_view_module": "@jupyter-widgets/base",
            "_view_module_version": "1.2.0",
            "_view_name": "LayoutView",
            "align_content": null,
            "align_items": null,
            "align_self": null,
            "border": null,
            "bottom": null,
            "display": null,
            "flex": null,
            "flex_flow": null,
            "grid_area": null,
            "grid_auto_columns": null,
            "grid_auto_flow": null,
            "grid_auto_rows": null,
            "grid_column": null,
            "grid_gap": null,
            "grid_row": null,
            "grid_template_areas": null,
            "grid_template_columns": null,
            "grid_template_rows": null,
            "height": null,
            "justify_content": null,
            "justify_items": null,
            "left": null,
            "margin": null,
            "max_height": null,
            "max_width": null,
            "min_height": null,
            "min_width": null,
            "object_fit": null,
            "object_position": null,
            "order": null,
            "overflow": null,
            "overflow_x": null,
            "overflow_y": null,
            "padding": null,
            "right": null,
            "top": null,
            "visibility": null,
            "width": null
          }
        },
        "0eb27c7fc9844ac48ae61390aabf68be": {
          "model_module": "@jupyter-widgets/controls",
          "model_name": "DescriptionStyleModel",
          "model_module_version": "1.5.0",
          "state": {
            "_model_module": "@jupyter-widgets/controls",
            "_model_module_version": "1.5.0",
            "_model_name": "DescriptionStyleModel",
            "_view_count": null,
            "_view_module": "@jupyter-widgets/base",
            "_view_module_version": "1.2.0",
            "_view_name": "StyleView",
            "description_width": ""
          }
        },
        "49ccbf130c8447a08ee98ef0939f5c13": {
          "model_module": "@jupyter-widgets/base",
          "model_name": "LayoutModel",
          "model_module_version": "1.2.0",
          "state": {
            "_model_module": "@jupyter-widgets/base",
            "_model_module_version": "1.2.0",
            "_model_name": "LayoutModel",
            "_view_count": null,
            "_view_module": "@jupyter-widgets/base",
            "_view_module_version": "1.2.0",
            "_view_name": "LayoutView",
            "align_content": null,
            "align_items": null,
            "align_self": null,
            "border": null,
            "bottom": null,
            "display": null,
            "flex": null,
            "flex_flow": null,
            "grid_area": null,
            "grid_auto_columns": null,
            "grid_auto_flow": null,
            "grid_auto_rows": null,
            "grid_column": null,
            "grid_gap": null,
            "grid_row": null,
            "grid_template_areas": null,
            "grid_template_columns": null,
            "grid_template_rows": null,
            "height": null,
            "justify_content": null,
            "justify_items": null,
            "left": null,
            "margin": null,
            "max_height": null,
            "max_width": null,
            "min_height": null,
            "min_width": null,
            "object_fit": null,
            "object_position": null,
            "order": null,
            "overflow": null,
            "overflow_x": null,
            "overflow_y": null,
            "padding": null,
            "right": null,
            "top": null,
            "visibility": null,
            "width": null
          }
        },
        "0fa23cd503da44deba6be8487b251ea6": {
          "model_module": "@jupyter-widgets/controls",
          "model_name": "ProgressStyleModel",
          "model_module_version": "1.5.0",
          "state": {
            "_model_module": "@jupyter-widgets/controls",
            "_model_module_version": "1.5.0",
            "_model_name": "ProgressStyleModel",
            "_view_count": null,
            "_view_module": "@jupyter-widgets/base",
            "_view_module_version": "1.2.0",
            "_view_name": "StyleView",
            "bar_color": null,
            "description_width": ""
          }
        },
        "d052516b8a2b43e4ab40c16e3582e60f": {
          "model_module": "@jupyter-widgets/base",
          "model_name": "LayoutModel",
          "model_module_version": "1.2.0",
          "state": {
            "_model_module": "@jupyter-widgets/base",
            "_model_module_version": "1.2.0",
            "_model_name": "LayoutModel",
            "_view_count": null,
            "_view_module": "@jupyter-widgets/base",
            "_view_module_version": "1.2.0",
            "_view_name": "LayoutView",
            "align_content": null,
            "align_items": null,
            "align_self": null,
            "border": null,
            "bottom": null,
            "display": null,
            "flex": null,
            "flex_flow": null,
            "grid_area": null,
            "grid_auto_columns": null,
            "grid_auto_flow": null,
            "grid_auto_rows": null,
            "grid_column": null,
            "grid_gap": null,
            "grid_row": null,
            "grid_template_areas": null,
            "grid_template_columns": null,
            "grid_template_rows": null,
            "height": null,
            "justify_content": null,
            "justify_items": null,
            "left": null,
            "margin": null,
            "max_height": null,
            "max_width": null,
            "min_height": null,
            "min_width": null,
            "object_fit": null,
            "object_position": null,
            "order": null,
            "overflow": null,
            "overflow_x": null,
            "overflow_y": null,
            "padding": null,
            "right": null,
            "top": null,
            "visibility": null,
            "width": null
          }
        },
        "14e8bec56627450b81273ac2cdc0b7ad": {
          "model_module": "@jupyter-widgets/controls",
          "model_name": "DescriptionStyleModel",
          "model_module_version": "1.5.0",
          "state": {
            "_model_module": "@jupyter-widgets/controls",
            "_model_module_version": "1.5.0",
            "_model_name": "DescriptionStyleModel",
            "_view_count": null,
            "_view_module": "@jupyter-widgets/base",
            "_view_module_version": "1.2.0",
            "_view_name": "StyleView",
            "description_width": ""
          }
        },
        "398bbe917acd4ceab4f542f4348c02ea": {
          "model_module": "@jupyter-widgets/controls",
          "model_name": "HBoxModel",
          "model_module_version": "1.5.0",
          "state": {
            "_dom_classes": [],
            "_model_module": "@jupyter-widgets/controls",
            "_model_module_version": "1.5.0",
            "_model_name": "HBoxModel",
            "_view_count": null,
            "_view_module": "@jupyter-widgets/controls",
            "_view_module_version": "1.5.0",
            "_view_name": "HBoxView",
            "box_style": "",
            "children": [
              "IPY_MODEL_bf98368573584ee1b9fb4fee830dc653",
              "IPY_MODEL_554852f84fdc4bdf86c2594c6b87fb93",
              "IPY_MODEL_0e66698562414319bdb502c75aa4e857"
            ],
            "layout": "IPY_MODEL_45102e6bb63e40b39010db3684da8a4a"
          }
        },
        "bf98368573584ee1b9fb4fee830dc653": {
          "model_module": "@jupyter-widgets/controls",
          "model_name": "HTMLModel",
          "model_module_version": "1.5.0",
          "state": {
            "_dom_classes": [],
            "_model_module": "@jupyter-widgets/controls",
            "_model_module_version": "1.5.0",
            "_model_name": "HTMLModel",
            "_view_count": null,
            "_view_module": "@jupyter-widgets/controls",
            "_view_module_version": "1.5.0",
            "_view_name": "HTMLView",
            "description": "",
            "description_tooltip": null,
            "layout": "IPY_MODEL_83c951798f6643fe933bfdac2ce4e7d9",
            "placeholder": "​",
            "style": "IPY_MODEL_979a57d653e6440aa0cf0eb9a76d6fbd",
            "value": "Downloading (…)&quot;pytorch_model.bin&quot;;: 100%"
          }
        },
        "554852f84fdc4bdf86c2594c6b87fb93": {
          "model_module": "@jupyter-widgets/controls",
          "model_name": "FloatProgressModel",
          "model_module_version": "1.5.0",
          "state": {
            "_dom_classes": [],
            "_model_module": "@jupyter-widgets/controls",
            "_model_module_version": "1.5.0",
            "_model_name": "FloatProgressModel",
            "_view_count": null,
            "_view_module": "@jupyter-widgets/controls",
            "_view_module_version": "1.5.0",
            "_view_name": "ProgressView",
            "bar_style": "success",
            "description": "",
            "description_tooltip": null,
            "layout": "IPY_MODEL_ecf5307e90804288aba2288c7dade27b",
            "max": 440473133,
            "min": 0,
            "orientation": "horizontal",
            "style": "IPY_MODEL_fcfaf10c6cb3463bb9e30e4e26fce03c",
            "value": 440473133
          }
        },
        "0e66698562414319bdb502c75aa4e857": {
          "model_module": "@jupyter-widgets/controls",
          "model_name": "HTMLModel",
          "model_module_version": "1.5.0",
          "state": {
            "_dom_classes": [],
            "_model_module": "@jupyter-widgets/controls",
            "_model_module_version": "1.5.0",
            "_model_name": "HTMLModel",
            "_view_count": null,
            "_view_module": "@jupyter-widgets/controls",
            "_view_module_version": "1.5.0",
            "_view_name": "HTMLView",
            "description": "",
            "description_tooltip": null,
            "layout": "IPY_MODEL_edad2e7d0dd249aa97ed61e181b2f16d",
            "placeholder": "​",
            "style": "IPY_MODEL_e76472d314a248b0a4935e3b38bcf34d",
            "value": " 440M/440M [00:11&lt;00:00, 30.6MB/s]"
          }
        },
        "45102e6bb63e40b39010db3684da8a4a": {
          "model_module": "@jupyter-widgets/base",
          "model_name": "LayoutModel",
          "model_module_version": "1.2.0",
          "state": {
            "_model_module": "@jupyter-widgets/base",
            "_model_module_version": "1.2.0",
            "_model_name": "LayoutModel",
            "_view_count": null,
            "_view_module": "@jupyter-widgets/base",
            "_view_module_version": "1.2.0",
            "_view_name": "LayoutView",
            "align_content": null,
            "align_items": null,
            "align_self": null,
            "border": null,
            "bottom": null,
            "display": null,
            "flex": null,
            "flex_flow": null,
            "grid_area": null,
            "grid_auto_columns": null,
            "grid_auto_flow": null,
            "grid_auto_rows": null,
            "grid_column": null,
            "grid_gap": null,
            "grid_row": null,
            "grid_template_areas": null,
            "grid_template_columns": null,
            "grid_template_rows": null,
            "height": null,
            "justify_content": null,
            "justify_items": null,
            "left": null,
            "margin": null,
            "max_height": null,
            "max_width": null,
            "min_height": null,
            "min_width": null,
            "object_fit": null,
            "object_position": null,
            "order": null,
            "overflow": null,
            "overflow_x": null,
            "overflow_y": null,
            "padding": null,
            "right": null,
            "top": null,
            "visibility": null,
            "width": null
          }
        },
        "83c951798f6643fe933bfdac2ce4e7d9": {
          "model_module": "@jupyter-widgets/base",
          "model_name": "LayoutModel",
          "model_module_version": "1.2.0",
          "state": {
            "_model_module": "@jupyter-widgets/base",
            "_model_module_version": "1.2.0",
            "_model_name": "LayoutModel",
            "_view_count": null,
            "_view_module": "@jupyter-widgets/base",
            "_view_module_version": "1.2.0",
            "_view_name": "LayoutView",
            "align_content": null,
            "align_items": null,
            "align_self": null,
            "border": null,
            "bottom": null,
            "display": null,
            "flex": null,
            "flex_flow": null,
            "grid_area": null,
            "grid_auto_columns": null,
            "grid_auto_flow": null,
            "grid_auto_rows": null,
            "grid_column": null,
            "grid_gap": null,
            "grid_row": null,
            "grid_template_areas": null,
            "grid_template_columns": null,
            "grid_template_rows": null,
            "height": null,
            "justify_content": null,
            "justify_items": null,
            "left": null,
            "margin": null,
            "max_height": null,
            "max_width": null,
            "min_height": null,
            "min_width": null,
            "object_fit": null,
            "object_position": null,
            "order": null,
            "overflow": null,
            "overflow_x": null,
            "overflow_y": null,
            "padding": null,
            "right": null,
            "top": null,
            "visibility": null,
            "width": null
          }
        },
        "979a57d653e6440aa0cf0eb9a76d6fbd": {
          "model_module": "@jupyter-widgets/controls",
          "model_name": "DescriptionStyleModel",
          "model_module_version": "1.5.0",
          "state": {
            "_model_module": "@jupyter-widgets/controls",
            "_model_module_version": "1.5.0",
            "_model_name": "DescriptionStyleModel",
            "_view_count": null,
            "_view_module": "@jupyter-widgets/base",
            "_view_module_version": "1.2.0",
            "_view_name": "StyleView",
            "description_width": ""
          }
        },
        "ecf5307e90804288aba2288c7dade27b": {
          "model_module": "@jupyter-widgets/base",
          "model_name": "LayoutModel",
          "model_module_version": "1.2.0",
          "state": {
            "_model_module": "@jupyter-widgets/base",
            "_model_module_version": "1.2.0",
            "_model_name": "LayoutModel",
            "_view_count": null,
            "_view_module": "@jupyter-widgets/base",
            "_view_module_version": "1.2.0",
            "_view_name": "LayoutView",
            "align_content": null,
            "align_items": null,
            "align_self": null,
            "border": null,
            "bottom": null,
            "display": null,
            "flex": null,
            "flex_flow": null,
            "grid_area": null,
            "grid_auto_columns": null,
            "grid_auto_flow": null,
            "grid_auto_rows": null,
            "grid_column": null,
            "grid_gap": null,
            "grid_row": null,
            "grid_template_areas": null,
            "grid_template_columns": null,
            "grid_template_rows": null,
            "height": null,
            "justify_content": null,
            "justify_items": null,
            "left": null,
            "margin": null,
            "max_height": null,
            "max_width": null,
            "min_height": null,
            "min_width": null,
            "object_fit": null,
            "object_position": null,
            "order": null,
            "overflow": null,
            "overflow_x": null,
            "overflow_y": null,
            "padding": null,
            "right": null,
            "top": null,
            "visibility": null,
            "width": null
          }
        },
        "fcfaf10c6cb3463bb9e30e4e26fce03c": {
          "model_module": "@jupyter-widgets/controls",
          "model_name": "ProgressStyleModel",
          "model_module_version": "1.5.0",
          "state": {
            "_model_module": "@jupyter-widgets/controls",
            "_model_module_version": "1.5.0",
            "_model_name": "ProgressStyleModel",
            "_view_count": null,
            "_view_module": "@jupyter-widgets/base",
            "_view_module_version": "1.2.0",
            "_view_name": "StyleView",
            "bar_color": null,
            "description_width": ""
          }
        },
        "edad2e7d0dd249aa97ed61e181b2f16d": {
          "model_module": "@jupyter-widgets/base",
          "model_name": "LayoutModel",
          "model_module_version": "1.2.0",
          "state": {
            "_model_module": "@jupyter-widgets/base",
            "_model_module_version": "1.2.0",
            "_model_name": "LayoutModel",
            "_view_count": null,
            "_view_module": "@jupyter-widgets/base",
            "_view_module_version": "1.2.0",
            "_view_name": "LayoutView",
            "align_content": null,
            "align_items": null,
            "align_self": null,
            "border": null,
            "bottom": null,
            "display": null,
            "flex": null,
            "flex_flow": null,
            "grid_area": null,
            "grid_auto_columns": null,
            "grid_auto_flow": null,
            "grid_auto_rows": null,
            "grid_column": null,
            "grid_gap": null,
            "grid_row": null,
            "grid_template_areas": null,
            "grid_template_columns": null,
            "grid_template_rows": null,
            "height": null,
            "justify_content": null,
            "justify_items": null,
            "left": null,
            "margin": null,
            "max_height": null,
            "max_width": null,
            "min_height": null,
            "min_width": null,
            "object_fit": null,
            "object_position": null,
            "order": null,
            "overflow": null,
            "overflow_x": null,
            "overflow_y": null,
            "padding": null,
            "right": null,
            "top": null,
            "visibility": null,
            "width": null
          }
        },
        "e76472d314a248b0a4935e3b38bcf34d": {
          "model_module": "@jupyter-widgets/controls",
          "model_name": "DescriptionStyleModel",
          "model_module_version": "1.5.0",
          "state": {
            "_model_module": "@jupyter-widgets/controls",
            "_model_module_version": "1.5.0",
            "_model_name": "DescriptionStyleModel",
            "_view_count": null,
            "_view_module": "@jupyter-widgets/base",
            "_view_module_version": "1.2.0",
            "_view_name": "StyleView",
            "description_width": ""
          }
        }
      }
    }
  },
  "nbformat": 4,
  "nbformat_minor": 0
}