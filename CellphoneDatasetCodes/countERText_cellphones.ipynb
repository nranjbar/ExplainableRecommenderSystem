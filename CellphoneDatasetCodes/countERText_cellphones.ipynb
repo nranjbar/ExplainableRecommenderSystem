{
  "cells": [
    {
      "cell_type": "markdown",
      "source": [
        "Line to Drive files for cell-phone dataset: https://drive.google.com/file/d/1ET7rXNa5vAhWNLK6YQsbuQsiQNavO2sL/view?usp=share_link"
      ],
      "metadata": {
        "id": "h0REGl9EBGQ_"
      }
    },
    {
      "cell_type": "code",
      "execution_count": null,
      "metadata": {
        "colab": {
          "base_uri": "https://localhost:8080/"
        },
        "id": "HnZRW-GvrGOL",
        "outputId": "e3dab889-0c23-4d36-d91f-c0925654f225"
      },
      "outputs": [
        {
          "output_type": "stream",
          "name": "stdout",
          "text": [
            "Mounted at /content/drive\n"
          ]
        }
      ],
      "source": [
        "from google.colab import drive\n",
        "drive.mount('/content/drive')"
      ]
    },
    {
      "cell_type": "markdown",
      "source": [
        "# Preprocessing ..."
      ],
      "metadata": {
        "id": "QBioioD-AHLP"
      }
    },
    {
      "cell_type": "code",
      "execution_count": null,
      "metadata": {
        "id": "kqmspiJd2PHt"
      },
      "outputs": [],
      "source": [
        "import pandas as pd\n",
        "import numpy as np\n",
        "import torch\n",
        "import json\n",
        "import matplotlib.pyplot as plt\n",
        "import os\n",
        "import tqdm\n",
        "import pickle\n",
        "from pathlib import Path\n",
        "from torch.utils.data import DataLoader\n",
        "from sklearn.metrics import ndcg_score\n",
        "np.random.seed(0)"
      ]
    },
    {
      "cell_type": "code",
      "execution_count": null,
      "metadata": {
        "colab": {
          "base_uri": "https://localhost:8080/"
        },
        "id": "8DiUsXtF2SIS",
        "outputId": "75640c56-4304-4770-da19-8fd07f38214a"
      },
      "outputs": [
        {
          "output_type": "stream",
          "name": "stdout",
          "text": [
            "--2023-02-02 09:21:33--  https://jmcauley.ucsd.edu/data/amazon_v2/categoryFiles/Cell_Phones_and_Accessories.json.gz\n",
            "Resolving jmcauley.ucsd.edu (jmcauley.ucsd.edu)... 137.110.160.73\n",
            "Connecting to jmcauley.ucsd.edu (jmcauley.ucsd.edu)|137.110.160.73|:443... connected.\n",
            "WARNING: cannot verify jmcauley.ucsd.edu's certificate, issued by ‘CN=InCommon RSA Server CA,OU=InCommon,O=Internet2,L=Ann Arbor,ST=MI,C=US’:\n",
            "  Unable to locally verify the issuer's authority.\n",
            "HTTP request sent, awaiting response... 200 OK\n",
            "Length: 1232323281 (1.1G) [application/x-gzip]\n",
            "Saving to: ‘Cell_Phones_and_Accessories.json.gz’\n",
            "\n",
            "Cell_Phones_and_Acc 100%[===================>]   1.15G  45.0MB/s    in 27s     \n",
            "\n",
            "2023-02-02 09:21:59 (44.3 MB/s) - ‘Cell_Phones_and_Accessories.json.gz’ saved [1232323281/1232323281]\n",
            "\n"
          ]
        }
      ],
      "source": [
        "!wget https://jmcauley.ucsd.edu/data/amazon_v2/categoryFiles/Cell_Phones_and_Accessories.json.gz --no-check-certificate "
      ]
    },
    {
      "cell_type": "code",
      "execution_count": null,
      "metadata": {
        "id": "4Htc_yec2VLB"
      },
      "outputs": [],
      "source": [
        "!gunzip Cell_Phones_and_Accessories.json.gz"
      ]
    },
    {
      "cell_type": "code",
      "execution_count": null,
      "metadata": {
        "colab": {
          "base_uri": "https://localhost:8080/"
        },
        "id": "gn5qp_282dmg",
        "outputId": "241b11f3-5482-42f9-ae8f-3e4a17a312c9"
      },
      "outputs": [
        {
          "output_type": "stream",
          "name": "stdout",
          "text": [
            "--2023-02-02 09:22:39--  https://jmcauley.ucsd.edu/data/amazon_v2/metaFiles2/meta_Cell_Phones_and_Accessories.json.gz\n",
            "Resolving jmcauley.ucsd.edu (jmcauley.ucsd.edu)... 137.110.160.73\n",
            "Connecting to jmcauley.ucsd.edu (jmcauley.ucsd.edu)|137.110.160.73|:443... connected.\n",
            "WARNING: cannot verify jmcauley.ucsd.edu's certificate, issued by ‘CN=InCommon RSA Server CA,OU=InCommon,O=Internet2,L=Ann Arbor,ST=MI,C=US’:\n",
            "  Unable to locally verify the issuer's authority.\n",
            "HTTP request sent, awaiting response... 200 OK\n",
            "Length: 360006372 (343M) [application/x-gzip]\n",
            "Saving to: ‘meta_Cell_Phones_and_Accessories.json.gz’\n",
            "\n",
            "meta_Cell_Phones_an 100%[===================>] 343.33M  44.4MB/s    in 8.2s    \n",
            "\n",
            "2023-02-02 09:22:48 (42.0 MB/s) - ‘meta_Cell_Phones_and_Accessories.json.gz’ saved [360006372/360006372]\n",
            "\n"
          ]
        }
      ],
      "source": [
        "!wget https://jmcauley.ucsd.edu/data/amazon_v2/metaFiles2/meta_Cell_Phones_and_Accessories.json.gz --no-check-certificate "
      ]
    },
    {
      "cell_type": "code",
      "execution_count": null,
      "metadata": {
        "id": "3uKVAbhA2jQh"
      },
      "outputs": [],
      "source": [
        "from nltk.corpus import stopwords\n",
        "from nltk import word_tokenize\n",
        "from nltk import FreqDist\n",
        "import re\n",
        "from nltk.tokenize import RegexpTokenizer\n",
        "import nltk\n",
        "from nltk.stem import WordNetLemmatizer\n",
        "from nltk import word_tokenize,pos_tag\n",
        "import pandas as pd"
      ]
    },
    {
      "cell_type": "code",
      "execution_count": null,
      "metadata": {
        "id": "MRItXJfIcQuz"
      },
      "outputs": [],
      "source": [
        "sentires_dir='/content/drive/MyDrive/cell_phone/Cell_Phones_and_Accessories'\n",
        "test_length=5\n",
        "sample_ratio=2\n",
        "val_length=1\n",
        "neg_length=50\n",
        "dataset='cell_phones'\n",
        "save_path='/content/drive/MyDrive/cell_phone/'"
      ]
    },
    {
      "cell_type": "code",
      "execution_count": null,
      "metadata": {
        "id": "p9GEI0QDVX5a"
      },
      "outputs": [],
      "source": [
        "save_path='/content/drive/MyDrive/cell_phone/'"
      ]
    },
    {
      "cell_type": "code",
      "execution_count": null,
      "metadata": {
        "id": "qjnAFk-vpVWz",
        "colab": {
          "base_uri": "https://localhost:8080/"
        },
        "outputId": "4eab370f-df19-479d-e4d4-2d6641e913ba"
      },
      "outputs": [
        {
          "output_type": "stream",
          "name": "stderr",
          "text": [
            "/usr/local/lib/python3.8/dist-packages/IPython/core/interactiveshell.py:3326: DtypeWarning: Columns (5) have mixed types.Specify dtype option on import or set low_memory=False.\n",
            "  exec(code_obj, self.user_global_ns, self.user_ns)\n"
          ]
        }
      ],
      "source": [
        "df_review=pd.read_csv(save_path+'df_reviews.csv')"
      ]
    },
    {
      "cell_type": "code",
      "execution_count": null,
      "metadata": {
        "id": "7V09pueGpc4b"
      },
      "outputs": [],
      "source": [
        "df_meta=pd.read_csv(save_path+'df_meta.csv')"
      ]
    },
    {
      "cell_type": "code",
      "source": [
        "import glob\n",
        "items_list=[]\n",
        "names=glob.glob(save_path+\"description_bert/*.json\")\n",
        "for name in names:\n",
        "  # items_dframe=pd.read_json(name)\n",
        "  item_id=name.split('/')[-1].split('_')[-1][0:-5]\n",
        "  items_list.append(item_id)\n"
      ],
      "metadata": {
        "id": "FjdaO80t1VmR"
      },
      "execution_count": null,
      "outputs": []
    },
    {
      "cell_type": "code",
      "execution_count": null,
      "metadata": {
        "colab": {
          "base_uri": "https://localhost:8080/"
        },
        "id": "0WMpbJPywlK0",
        "outputId": "24179be6-c69d-4685-c4ce-1dde213ff816"
      },
      "outputs": [
        {
          "output_type": "execute_result",
          "data": {
            "text/plain": [
              "1940"
            ]
          },
          "metadata": {},
          "execution_count": 9
        }
      ],
      "source": [
        "len(items_list)"
      ]
    },
    {
      "cell_type": "code",
      "execution_count": null,
      "metadata": {
        "id": "tc-C0agaIArH"
      },
      "outputs": [],
      "source": [
        "df_review.drop(df_review.index[~df_review['asin'].isin(items_list)], inplace=True) "
      ]
    },
    {
      "cell_type": "code",
      "execution_count": null,
      "metadata": {
        "id": "xOvDThkpxVFC"
      },
      "outputs": [],
      "source": [
        "df_review.drop('Unnamed: 0',axis=1,inplace=True)"
      ]
    },
    {
      "cell_type": "code",
      "source": [
        "df_review.drop_duplicates(inplace=True)"
      ],
      "metadata": {
        "id": "pD6sVB9wn_rz"
      },
      "execution_count": null,
      "outputs": []
    },
    {
      "cell_type": "code",
      "source": [
        "items_list1=[]\n",
        "users_list=[]\n",
        "review_features={}\n",
        "f=open(save_path+'Cell_Phones_and_Accessories')\n",
        "lines=f.readlines()\n",
        "i=0\n",
        "for line in lines:\n",
        "  if i%5000==0:\n",
        "    print(i)\n",
        "  i+=1\n",
        "  user_id = line.split('@')[0]\n",
        "  item_id = line.split('@')[1]\n",
        "  if item_id in items_list:\n",
        "    users_list.append(user_id)\n",
        "    items_list1.append(item_id)\n",
        "    l = len(user_id) + len(item_id)\n",
        "    fosr_data = line[l+3:]\n",
        "    for seg in fosr_data.split('||'):\n",
        "      if (user_id,item_id) not in review_features.keys():\n",
        "        review_features[(user_id,item_id)]=[]\n",
        "      fos = seg.split(':')[0].strip('|')\n",
        "      if len(fos.split('|')) > 1:\n",
        "          feature = fos.split('|')[0]\n",
        "          opinion = fos.split('|')[1]\n",
        "          sentiment = fos.split('|')[2]\n",
        "          sentence= seg.split(':')[1]\n",
        "          if sentiment=='+1':\n",
        "            senti=1\n",
        "          else:\n",
        "            senti=-1\n",
        "          review_features[(user_id,item_id)].append([feature,opinion,senti,sentence])"
      ],
      "metadata": {
        "colab": {
          "base_uri": "https://localhost:8080/"
        },
        "id": "YEY-XMN6uKcy",
        "outputId": "a1fa4c56-24f8-4a2e-8121-8901d4070b78"
      },
      "execution_count": null,
      "outputs": [
        {
          "output_type": "stream",
          "name": "stdout",
          "text": [
            "0\n",
            "5000\n",
            "10000\n",
            "15000\n",
            "20000\n",
            "25000\n",
            "30000\n",
            "35000\n"
          ]
        }
      ]
    },
    {
      "cell_type": "code",
      "execution_count": null,
      "metadata": {
        "id": "kUi4wSfVSLNA"
      },
      "outputs": [],
      "source": [
        "df_review=df_review[df_review.set_index(['reviewerID','asin']).index.isin(review_features.keys())]"
      ]
    },
    {
      "cell_type": "code",
      "source": [
        "df_review"
      ],
      "metadata": {
        "id": "R3oZjyddgr41"
      },
      "execution_count": null,
      "outputs": []
    },
    {
      "cell_type": "code",
      "execution_count": null,
      "metadata": {
        "id": "mwGTbhQJRUG1"
      },
      "outputs": [],
      "source": [
        "def get_user_item_dict(df_review,items_list):\n",
        "  user_dict = {}\n",
        "  item_dict = {}\n",
        "  i=0\n",
        "  # removed_users=['A1ULCCHD1QNOS5','A1ZS098EKPVT8F','A1K1WK6I122RX2','A2PAFKGAUSBMIE','AAOYA0DKWED4W','AJS9Q2JYS3DLJ','ADOF1VKGDCBWF','A3G11XDKGXZT9Q','A1R233YLWSRBTC','A3VH9QMH2UTX9D','A15DZOS6KVANQH']    \n",
        "  for index, row in df_review.iterrows():\n",
        "    user=row['reviewerID']\n",
        "    item=row['asin']\n",
        "    if i%100000==0:\n",
        "      print(i)\n",
        "    i+=1\n",
        "    if item in items_list:\n",
        "      if user not in user_dict:\n",
        "          user_dict[user] = [item]\n",
        "      else:\n",
        "          user_dict[user].append(item)\n",
        "      if item not in item_dict:\n",
        "          item_dict[item] = [user]\n",
        "      else:\n",
        "          item_dict[item].append(user)\n",
        "  return user_dict,item_dict"
      ]
    },
    {
      "cell_type": "code",
      "execution_count": null,
      "metadata": {
        "id": "hh8HbcOEjqgN"
      },
      "outputs": [],
      "source": [
        "df_meta.loc[df_meta['feature'].str.len()<15]"
      ]
    },
    {
      "cell_type": "code",
      "execution_count": null,
      "metadata": {
        "id": "Dxn5byR5qCfv"
      },
      "outputs": [],
      "source": [
        "def get_normalized_rank(df_meta):\n",
        "  ranks_dict={}\n",
        "  for ind, row  in df_meta.iterrows():\n",
        "    rank=row['rank']\n",
        "    item_id=row['asin']\n",
        "    numbers= rank.split('#')\n",
        "    mean_rank=0\n",
        "    count=0\n",
        "    for num_text in numbers:\n",
        "      if num_text.find(' ')>-1:\n",
        "        num=float(num_text[0:num_text.find(' ')].replace(',',''))\n",
        "        mean_rank+=num\n",
        "        count+=1\n",
        "    mean_rank/=(count)\n",
        "    ranks_dict[item_id]=mean_rank\n",
        "  minv=min(ranks_dict.values())\n",
        "  maxv=max(ranks_dict.values())\n",
        "  for k in ranks_dict:\n",
        "    # print(ranks_dict[k])\n",
        "    # print(minv)\n",
        "    # print(maxv)\n",
        "    ranks_dict[k] = (ranks_dict[k]-minv)/(maxv-minv)\n",
        "  return ranks_dict"
      ]
    },
    {
      "cell_type": "code",
      "execution_count": null,
      "metadata": {
        "id": "H6v8XMseBgND"
      },
      "outputs": [],
      "source": [
        "import os"
      ]
    },
    {
      "cell_type": "code",
      "execution_count": null,
      "metadata": {
        "id": "BMC87xZi-M9N"
      },
      "outputs": [],
      "source": [
        "def get_average_vect_train(df,not_in_columns):\n",
        "  df['main_word']=np.where(df['replaced_word'] == df[not_in_columns],1,0)\n",
        "  df=df[df['main_word']==1]\n",
        "  lists=df.loc[:, ~df.columns.isin([not_in_columns,'replaced_word','logit','main_word'])].values\n",
        "  words=df[not_in_columns].values\n",
        "  # print(words)\n",
        "  vects=[sub_list[0] for sub_list in lists]\n",
        "  average=np.average(np.array(vects),axis=0)\n",
        "  # print(words)\n",
        "  # print(df)\n",
        "  return average,list(words)"
      ]
    },
    {
      "cell_type": "code",
      "execution_count": null,
      "metadata": {
        "id": "Q6_hIQu5sUrW"
      },
      "outputs": [],
      "source": [
        "def get_average_vect_test(weights,tensor_vect):\n",
        "  # weights=torch.FloatTensor(weights).to(device)\n",
        "  weights=torch.transpose(weights.repeat(tensor_vect.shape[1],1),0,1)\n",
        "  average=torch.mean(weights*tensor_vect,axis=0).to(device)\n",
        "  return average"
      ]
    },
    {
      "cell_type": "code",
      "execution_count": null,
      "metadata": {
        "id": "woUUSm-mdH1A"
      },
      "outputs": [],
      "source": [
        "from typing_extensions import final\n",
        "def get_item_matrix(item_name_dict,items_list):\n",
        "  print('----- get items matrix -------')\n",
        "  item_quality_matrix = np.zeros((len(item_name_dict), 2304))\n",
        "  print((len(item_name_dict)))\n",
        "  i=0\n",
        "  features={}\n",
        "  for item_id in items_list:\n",
        "    if item_id in item_name_dict.keys():\n",
        "      item=item_name_dict[item_id]\n",
        "      features[item]=[]\n",
        "      if i%100==0:\n",
        "        print(i)\n",
        "      i+=1\n",
        "      final_vector=[]\n",
        "      # print(item_id)\n",
        "      df_vect_desc_item= pd.read_json(save_path+'description_bert/'+'df_bert_desc_{}.json'.format(item_id))\n",
        "      df_vect_title_item= pd.read_json(save_path+'title_bert/'+'df_bert_title_{}.json'.format(item_id))\n",
        "      df_vect_feature_item= pd.read_json(save_path+'feature_bert/'+'df_bert_feature_{}.json'.format(item_id))\n",
        "\n",
        "      # print(item_id)\n",
        "      # print(df_vect_desc_item)\n",
        "\n",
        "      average_vect_desc,words_desc=get_average_vect_train(df_vect_desc_item,'description_words')\n",
        "      average_vect_title,words_title=get_average_vect_train(df_vect_title_item,'title_words')\n",
        "      average_vect_feature,words_feature=get_average_vect_train(df_vect_feature_item,'feature_words')\n",
        "\n",
        "      features[item].append(words_desc)\n",
        "      features[item].append(words_title)\n",
        "      features[item].append(words_feature)\n",
        "      # features[item].append(words_senti)\n",
        "      # features[item].append([rank])\n",
        "      final_vector=list(average_vect_desc)\n",
        "      final_vector+=list(average_vect_title)\n",
        "      final_vector+=list(average_vect_feature)\n",
        "  # final_vector+=list(average_bert_sentiment)\n",
        "  # final_vector+=[rank]\n",
        "  \n",
        "      if len(final_vector)>2304:\n",
        "          print(len(list(average_vect_desc)))\n",
        "          print(len(list(average_vect_title)))\n",
        "          print(len(list(average_vect_feature)))\n",
        "          # print(len(list(average_bert_sentiment)))\n",
        "          print(item_id)\n",
        "      item_quality_matrix[item]=final_vector\n",
        "      # print(item_quality_matrix)\n",
        "\n",
        "  item_quality_matrix = np.array(item_quality_matrix, dtype='float32')\n",
        "  return item_quality_matrix,features"
      ]
    },
    {
      "cell_type": "code",
      "execution_count": null,
      "metadata": {
        "id": "QRpOh_KG94WX"
      },
      "outputs": [],
      "source": [
        "def get_user_matrix(item_matrix,inv_user_name_dict,item_name_dict):\n",
        "  user_quality_matrix = np.zeros((len(inv_user_name_dict), 2304))\n",
        "  i=0\n",
        "  print('----- get users matrix -------')\n",
        "  print((len(inv_user_name_dict)))\n",
        "  for  user in inv_user_name_dict.keys():\n",
        "    if i%1000==0:\n",
        "      print(i)\n",
        "    i+=1\n",
        "    user_id= inv_user_name_dict[user]\n",
        "    final_vector=[]\n",
        "    items_interacted=df_review[df_review['reviewerID']==user_id ]\n",
        "    # mean_rate=np.average(items_interacted['overall'].values)\n",
        "    # weights=[]\n",
        "    for item_id in items_interacted['asin'].values:\n",
        "      if item_id in item_name_dict.keys():\n",
        "        item=item_name_dict[item_id]\n",
        "        # weight=items_interacted[items_interacted['asin']==item_id]['overall'].values[0]-mean_rate\n",
        "        # weights.append(weight)\n",
        "        final_vector.append(item_matrix[item])\n",
        "    # if np.sum(weights)>0 or np.sum(weights)<0:\n",
        "    #   final_average=np.average(final_vector,weights=weights,axis=0)\n",
        "    # else:\n",
        "    final_average=np.average(final_vector,axis=0)\n",
        "    if ~np.isnan(np.sum(final_average)):\n",
        "      user_quality_matrix[user]=final_average\n",
        "    else:\n",
        "      print(user_id)\n",
        "  user_quality_matrix = np.array(user_quality_matrix, dtype='float32')\n",
        "  return user_quality_matrix"
      ]
    },
    {
      "cell_type": "code",
      "execution_count": null,
      "metadata": {
        "id": "Rfm9U58AAOnk"
      },
      "outputs": [],
      "source": [
        "def sample_training_pairs(user, training_items, item_set, sample_ratio=10):\n",
        "    positive_items = set(training_items)\n",
        "    negative_items = set()\n",
        "    for item in item_set:\n",
        "        if item not in positive_items:\n",
        "            negative_items.add(item)\n",
        "    neg_length = len(positive_items) * sample_ratio\n",
        "    negative_items = np.random.choice(np.array(list(negative_items)), neg_length, replace=False)\n",
        "    train_pairs = []\n",
        "    for p_item in positive_items:\n",
        "        train_pairs.append([user, p_item, 1])\n",
        "    for n_item in negative_items:\n",
        "        train_pairs.append([user, n_item, 0])\n",
        "    return train_pairs"
      ]
    },
    {
      "cell_type": "code",
      "execution_count": null,
      "metadata": {
        "id": "Nrl9nTx0iGFW"
      },
      "outputs": [],
      "source": [
        "import glob\n",
        "def get_items_list():\n",
        "  items_list=[]\n",
        "  names=glob.glob(save_path+\"title_bert/*.json\")\n",
        "  for name in names:\n",
        "    items_list.append(name.split('/')[-1].split('_')[-1][0:-5])\n",
        "  return items_list"
      ]
    },
    {
      "cell_type": "code",
      "execution_count": null,
      "metadata": {
        "id": "wRV2woMaQP2z"
      },
      "outputs": [],
      "source": [
        "from re import S\n",
        "import torch\n",
        "import numpy as np\n",
        "import json\n",
        "import pickle\n",
        "# from torch._C import R\n",
        "import tqdm\n",
        "from torch.random import seed\n",
        "\n",
        "\n",
        "class AmazonDataset():\n",
        "    def __init__(self):\n",
        "        super().__init__()\n",
        "\n",
        "        self.user_name_dict = {}  # rename users to integer names\n",
        "        self.item_name_dict = {}\n",
        "        self.feature_name_dict = {}\n",
        "\n",
        "        self.features = {}  # feature list\n",
        "        self.users = []\n",
        "        self.items = []\n",
        "\n",
        "        # the interacted items for each user, sorted with date {user:[i1, i2, i3, ...], user:[i1, i2, i3, ...]}\n",
        "        self.user_hist_inter_dict = {}\n",
        "        # the interacted users for each item\n",
        "        self.item_hist_inter_dict = {}  \n",
        "\n",
        "        self.user_num = None\n",
        "        self.item_num = None\n",
        "        self.feature_num = 2304# number of features\n",
        "\n",
        "        self.user_feature_matrix = None  # user aspect attention matrix\n",
        "        self.item_feature_matrix = None  # item aspect quality matrix\n",
        "\n",
        "        self.training_data = None\n",
        "        self.test_data = None\n",
        "        self.pre_processing()\n",
        "        self.get_user_item_feature_matrix()\n",
        "        self.sample_training()  # sample training data, for traning BPR loss\n",
        "        self.sample_test()  # sample test data\n",
        "\n",
        "    def pre_processing(self,):\n",
        "        self.items_list=get_items_list()\n",
        "        user_dict, item_dict = get_user_item_dict(df_review,self.items_list)  # not sorted with time\n",
        "        print(len(item_dict))\n",
        "        user_item_date_dict = {}   # {(user, item): date, (user, item): date ...}  # used to remove duplicate\n",
        "        # removed_users=['A1ULCCHD1QNOS5','A1ZS098EKPVT8F','A1K1WK6I122RX2','A2PAFKGAUSBMIE','AAOYA0DKWED4W','AJS9Q2JYS3DLJ','ADOF1VKGDCBWF','A3G11XDKGXZT9Q','A1R233YLWSRBTC','A3VH9QMH2UTX9D','A15DZOS6KVANQH']\n",
        "        for i, row in df_review.iterrows():\n",
        "            user = row['reviewerID']\n",
        "            item = row['asin']\n",
        "            date = row['unixReviewTime']\n",
        "            if item in self.items_list:\n",
        "                if user in user_dict and item in user_dict[user] and (user, item) not in user_item_date_dict:\n",
        "                    user_item_date_dict[(user, item)] = date\n",
        "        \n",
        "        # rename users, items, and features to integer names\n",
        "        user_name_dict = {}\n",
        "        item_name_dict = {}\n",
        "        # feature_name_dict = {}\n",
        "        # features = get_feature_list(df_bert_sentiment,df_bert_desc,)\n",
        "        \n",
        "        count = 0\n",
        "        for user in user_dict:\n",
        "            if user not in user_name_dict:\n",
        "                user_name_dict[user] = count\n",
        "                count += 1\n",
        "        count = 0\n",
        "        for item in item_dict:\n",
        "            if item not in item_name_dict:\n",
        "                item_name_dict[item] = count\n",
        "                count += 1\n",
        "        self.inv_user_name_dict = {v: k for k, v in user_name_dict.items()}\n",
        "        self.inv_item_name_dict = {v: k for k, v in item_name_dict.items()}\n",
        "        \n",
        "        # for i in range(len(sentiment_data)):\n",
        "        #     sentiment_data[i][0] = user_name_dict[sentiment_data[i][0]]\n",
        "        #     sentiment_data[i][1] = item_name_dict[sentiment_data[i][1]]\n",
        "        #     for j in range(len(sentiment_data[i]) - 2):\n",
        "        #         sentiment_data[i][j+2][0] = feature_name_dict[sentiment_data[i][j + 2][0]]\n",
        "\n",
        "        renamed_user_item_date_dict = {}\n",
        "        for key, value in user_item_date_dict.items():\n",
        "            renamed_user_item_date_dict[user_name_dict[key[0]], item_name_dict[key[1]]] = value\n",
        "\n",
        "        # sort with date\n",
        "        renamed_user_item_date_dict  = dict(sorted(renamed_user_item_date_dict .items(), key=lambda item: item[1]))\n",
        "\n",
        "        user_hist_inter_dict = {}  # {\"u1\": [i1, i2, i3, ...], \"u2\": [i1, i2, i3, ...]}, sort with time\n",
        "        item_hist_inter_dict = {}\n",
        "        # ranked_user_item_dict = {}  # {\"u1\": [i1, i2, i3, ...], \"u2\": [i1, i2, i3, ...]}\n",
        "        for key, value in renamed_user_item_date_dict.items():\n",
        "            user = key[0]\n",
        "            item = key[1]\n",
        "            if user not in user_hist_inter_dict:\n",
        "                user_hist_inter_dict[user] = [item]\n",
        "            else:\n",
        "                user_hist_inter_dict[user].append(item)\n",
        "            if item not in item_hist_inter_dict:\n",
        "                item_hist_inter_dict[item] = [user]\n",
        "            else:\n",
        "                item_hist_inter_dict[item].append(user)\n",
        "\n",
        "        user_hist_inter_dict = dict(sorted(user_hist_inter_dict.items()))\n",
        "        item_hist_inter_dict = dict(sorted(item_hist_inter_dict.items()))\n",
        "\n",
        "        users = list(user_hist_inter_dict.keys())\n",
        "        items = list(item_hist_inter_dict.keys())\n",
        "\n",
        "        self.user_name_dict = user_name_dict\n",
        "        self.item_name_dict = item_name_dict\n",
        "        self.user_hist_inter_dict = user_hist_inter_dict\n",
        "        self.item_hist_inter_dict = item_hist_inter_dict\n",
        "        self.users = users\n",
        "        self.items = items\n",
        "        self.user_num = len(users)\n",
        "        self.item_num = len(items)\n",
        "        return True\n",
        "    \n",
        "    def get_user_item_feature_matrix(self,):\n",
        "        # exclude test data from the sentiment data to construct matrix\n",
        "        train_u_i_set = set()\n",
        "        for user, items in self.user_hist_inter_dict.items():\n",
        "            items = items[:-test_length]\n",
        "            for item in items:\n",
        "                train_u_i_set.add((user, item))\n",
        "\n",
        "        self.item_feature_matrix,self.item_features= get_item_matrix(self.item_name_dict,self.items_list)\n",
        "        self.user_feature_matrix = get_user_matrix(self.item_feature_matrix,self.inv_user_name_dict,self.item_name_dict)\n",
        "        \n",
        "        return True\n",
        "    \n",
        "    def sample_training(self):\n",
        "        print('======================= sample training data =======================')\n",
        "        training_data = []\n",
        "        training_pairs = np.loadtxt(save_path+'training_data.txt',dtype=str)\n",
        "        for pair in training_pairs:\n",
        "          # print(self.user_name_dict)\n",
        "          # print(pair[0])\n",
        "          if pair[0] in self.user_name_dict.keys() and pair[1] in self.item_name_dict.keys():\n",
        "            training_data.append([self.user_name_dict[pair[0]],self.item_name_dict[pair[1]],int(pair[2])])\n",
        "\n",
        "\n",
        "        # print(self.user_feature_matrix.shape, self.item_feature_matrix.shape)\n",
        "        # training_data = []\n",
        "        # item_set = set(self.items)\n",
        "        # for user, items in self.user_hist_inter_dict.items():\n",
        "        #     if len(items)>15:\n",
        "        #       items = items[:-(test_length)]\n",
        "        #       training_pairs = sample_training_pairs(\n",
        "        #           user, \n",
        "        #           items, \n",
        "        #           item_set, \n",
        "        #           sample_ratio)\n",
        "        #       for pair in training_pairs:\n",
        "        #           training_data.append(pair)\n",
        "        print('# training samples :', len(training_data))\n",
        "        self.training_data = np.array(training_data)\n",
        "      \n",
        "        return True\n",
        "    \n",
        "    def sample_test(self):\n",
        "        print('======================= sample test data =======================')\n",
        "        user_item_label_list = []  # [[u, [item1, item2, ...], [l1, l2, ...]], ...]\n",
        "        with open(save_path+'test_data.pickle', 'rb') as f:\n",
        "            test_pairs= pickle.load(f)\n",
        "        for user_id in test_pairs.keys():\n",
        "          user=self.user_name_dict[user_id]\n",
        "          items_ids=test_pairs[user_id][0]\n",
        "          labels=test_pairs[user_id][1]\n",
        "          items=np.array([self.item_name_dict[item] for item in items_ids if item in self.item_name_dict])\n",
        "          labels=np.array([float(labels[i]) for i in range(len(labels)) if items_ids[i] in self.item_name_dict])\n",
        "          user_item_label_list.append([user,items,labels])\n",
        "        print('# test samples :', len(user_item_label_list))\n",
        "        self.test_data = np.array(user_item_label_list)\n",
        "\n",
        "        # validation_data = []  # [[u, [item1, item2, ...], [l1, l2, ...]], ...]\n",
        "        # with open(save_path+'validation_data.pickle', 'rb') as f:\n",
        "        #     validation_pairs= pickle.load(f)\n",
        "        # for user_id in validation_pairs.keys():\n",
        "        #   user=self.user_name_dict[user_id]\n",
        "        #   items_ids=validation_pairs[user_id][0]\n",
        "        #   labels=validation_pairs[user_id][1]\n",
        "        #   items=np.array([self.item_name_dict[item] for item in items_ids if item in self.item_name_dict])\n",
        "        #   labels=np.array([float(labels[i]) for i in range(len(labels)) if items_ids[i] in self.item_name_dict])\n",
        "        #   validation_data.append([user,items,labels])\n",
        "        # print('# validation samples :', len(validation_data))\n",
        "        # self.validation_data = np.array(validation_data)\n",
        "\n",
        "\n",
        "        # user_item_label_list = []  # [[u, [item1, item2, ...], [l1, l2, ...]], ...]\n",
        "        # validation_data=[]\n",
        "        # for user, items in self.user_hist_inter_dict.items():\n",
        "        #   if len(items)>15:\n",
        "        #     # print(items)\n",
        "        #     items1 = items[-(test_length):-(val_length)]\n",
        "        #     items2 = items[-(val_length):]\n",
        "        #     # print(items1)\n",
        "        #     # print(items2)\n",
        "        #     user_item_label_list.append([user, items1, np.ones(len(items1))])  # add the test items\n",
        "        #     validation_data.append([user, items2, np.ones(len(items2))])\n",
        "        #     neg_length1=len(items1)*5\n",
        "        #     neg_length2=len(items2)*5\n",
        "        #     negative_items1 = [item for item in self.items if \n",
        "        #         item not in self.user_hist_inter_dict[user]]  # the not interacted items\n",
        "        #     # print(len(negative_items1))\n",
        "        #     negative_items1 = np.random.choice(np.array(negative_items1), neg_length1, replace=False)\n",
        "        #     negative_items2 = np.random.choice(np.array(negative_items1), neg_length2, replace=False)\n",
        "\n",
        "        #     user_item_label_list[-1][1] = np.concatenate((user_item_label_list[-1][1], negative_items1), axis=0)\n",
        "        #     user_item_label_list[-1][2] = np.concatenate((user_item_label_list[-1][2], np.zeros(neg_length1)), axis=0)\n",
        "\n",
        "        #     validation_data[-1][1] = np.concatenate((validation_data[-1][1], negative_items2), axis=0)\n",
        "        #     validation_data[-1][2] = np.concatenate((validation_data[-1][2], np.zeros(neg_length2)), axis=0)\n",
        "        # print('# test samples :', len(user_item_label_list))\n",
        "        # print('# validation samples :', len(validation_data))\n",
        "        # self.test_data = np.array(user_item_label_list)\n",
        "        # self.validation_data=np.array(validation_data)\n",
        "        return True\n",
        "\n",
        "    def save(self, save_path):\n",
        "        return True\n",
        "    \n",
        "    def load(self):\n",
        "        return False"
      ]
    },
    {
      "cell_type": "code",
      "execution_count": null,
      "metadata": {
        "id": "EC-Of2i-wfae"
      },
      "outputs": [],
      "source": [
        "user_item_label_list"
      ]
    },
    {
      "cell_type": "code",
      "execution_count": null,
      "metadata": {
        "id": "mJU1IgY8LF07"
      },
      "outputs": [],
      "source": [
        "def amazon_preprocessing():\n",
        "    rec_dataset = AmazonDataset()\n",
        "    return rec_dataset"
      ]
    },
    {
      "cell_type": "code",
      "execution_count": null,
      "metadata": {
        "id": "6ECM0Lw3NFbC"
      },
      "outputs": [],
      "source": [
        "def dataset_init():\n",
        "\tif dataset == \"yelp\":\n",
        "\t\trec_dataset = yelp_preprocessing()\n",
        "\telif dataset == \"cell_phones\" or \"kindle_store\" or \"electronic\" or \"cds_and_vinyl\":\n",
        "\t\trec_dataset = amazon_preprocessing()\n",
        "\treturn rec_dataset"
      ]
    },
    {
      "cell_type": "code",
      "execution_count": null,
      "metadata": {
        "id": "zAb2lKMWb1Zo"
      },
      "outputs": [],
      "source": [
        "dataset=\"cell_phones\"\n",
        "gpu=True\n",
        "cuda='0'\n",
        "weight_decay=0.00001\n",
        "lr=0.005\n",
        "epochs=500\n",
        "batch_size=64\n",
        "rec_k=5"
      ]
    },
    {
      "cell_type": "code",
      "execution_count": null,
      "metadata": {
        "id": "x4Zo-5mANolR"
      },
      "outputs": [],
      "source": [
        "import numpy as np\n",
        "from torch.utils.data import Dataset\n",
        "class UserItemInterDataset(Dataset):\n",
        "    def __init__(self, data, user_feature_matrix, item_feature_matrix):\n",
        "        self.data = data\n",
        "        self.user_feature_matrix = user_feature_matrix\n",
        "        self.item_feature_matrix = item_feature_matrix\n",
        "\n",
        "    def __getitem__(self, index):\n",
        "        user = self.data[index][0]\n",
        "        item = self.data[index][1]\n",
        "        label = self.data[index][2]\n",
        "        user_feature = self.user_feature_matrix[user]\n",
        "        item_feature = self.item_feature_matrix[item]\n",
        "        return user_feature, item_feature, label\n",
        "    def __len__(self):\n",
        "        return len(self.data)"
      ]
    },
    {
      "cell_type": "markdown",
      "source": [
        "# Train Black-box Model ...\n"
      ],
      "metadata": {
        "id": "-HYBiTWoAQdI"
      }
    },
    {
      "cell_type": "code",
      "execution_count": null,
      "metadata": {
        "id": "Lma7BKCoNySG"
      },
      "outputs": [],
      "source": [
        "import numpy as np\n",
        "import torch\n",
        "from sklearn.metrics import ndcg_score"
      ]
    },
    {
      "cell_type": "code",
      "execution_count": null,
      "metadata": {
        "id": "Ep5Pi9VbNtvi"
      },
      "outputs": [],
      "source": [
        "def compute_ndcg(test_data, user_feature_matrix, item_feature_matrix, k, model, device):\n",
        "    model.eval()\n",
        "    ndcgs = []\n",
        "    with torch.no_grad():\n",
        "        for row in test_data:\n",
        "            user = row[0]\n",
        "            items = row[1]\n",
        "            gt_labels = row[2]\n",
        "            user_features = np.array([user_feature_matrix[user] for i in range(len(items))])\n",
        "            item_features = np.array([item_feature_matrix[item] for item in items])\n",
        "            scores = model(torch.from_numpy(user_features).to(device),\n",
        "                                    torch.from_numpy(item_features).to(device)).squeeze()\n",
        "            scores = np.array(scores.to('cpu'))\n",
        "            ndcg = ndcg_score([gt_labels], [scores], k=k)\n",
        "            ndcgs.append(ndcg)\n",
        "    ave_ndcg = np.mean(ndcgs)\n",
        "    return ave_ndcg\n"
      ]
    },
    {
      "cell_type": "code",
      "execution_count": null,
      "metadata": {
        "id": "rnvfmuGXM-7F"
      },
      "outputs": [],
      "source": [
        "import torch\n",
        "import numpy as np\n",
        "import os\n",
        "import tqdm\n",
        "import pickle\n",
        "from pathlib import Path\n",
        "from torch.utils.data import DataLoader"
      ]
    },
    {
      "cell_type": "code",
      "execution_count": null,
      "metadata": {
        "id": "T-szQN49N-l0"
      },
      "outputs": [],
      "source": [
        "from numpy import core\n",
        "\n",
        "class BaseRecModel(torch.nn.Module):\n",
        "    def __init__(self, feature_length):\n",
        "        super(BaseRecModel, self).__init__()\n",
        "        self.fc = torch.nn.Sequential(\n",
        "            torch.nn.Linear(feature_length * 2, 512),\n",
        "            torch.nn.ReLU(),\n",
        "            torch.nn.Linear(512, 256),\n",
        "            torch.nn.ReLU(),\n",
        "            torch.nn.Linear(256, 1),\n",
        "            torch.nn.Sigmoid()\n",
        "        )\n",
        "\n",
        "    def forward(self, user_feature, item_feature):\n",
        "        fusion = torch.cat((user_feature, item_feature), 1)\n",
        "        out = self.fc(fusion)\n",
        "        return out\n"
      ]
    },
    {
      "cell_type": "code",
      "execution_count": null,
      "metadata": {
        "colab": {
          "base_uri": "https://localhost:8080/"
        },
        "id": "05LMQ0K63i30",
        "outputId": "1cc31126-fd97-407f-a8ba-7aa414eed382"
      },
      "outputs": [
        {
          "output_type": "stream",
          "name": "stdout",
          "text": [
            "cuda:0\n"
          ]
        }
      ],
      "source": [
        "if gpu:\n",
        "  device = torch.device('cuda:%s' % cuda)\n",
        "else:\n",
        "  device = 'cpu'\n",
        "print(device)"
      ]
    },
    {
      "cell_type": "code",
      "execution_count": null,
      "metadata": {
        "colab": {
          "base_uri": "https://localhost:8080/"
        },
        "id": "9VSW0s52y3vR",
        "outputId": "a59d8b5d-6733-49e2-dd2c-3eac2b12b44b"
      },
      "outputs": [
        {
          "metadata": {
            "tags": null
          },
          "name": "stdout",
          "output_type": "stream",
          "text": [
            "0\n",
            "1940\n",
            "----- get items matrix -------\n",
            "1940\n",
            "0\n",
            "100\n",
            "200\n",
            "300\n",
            "400\n",
            "500\n",
            "600\n",
            "700\n",
            "800\n",
            "900\n",
            "1000\n",
            "1100\n",
            "1200\n",
            "1300\n",
            "1400\n",
            "1500\n",
            "1600\n",
            "1700\n",
            "1800\n",
            "1900\n",
            "----- get users matrix -------\n",
            "6783\n",
            "0\n",
            "1000\n",
            "2000\n",
            "3000\n",
            "4000\n",
            "5000\n",
            "6000\n",
            "======================= sample training data =======================\n",
            "# training samples : 2858\n",
            "======================= sample test data =======================\n",
            "# test samples : 93\n"
          ]
        },
        {
          "metadata": {
            "tags": null
          },
          "name": "stderr",
          "output_type": "stream",
          "text": [
            "<ipython-input-59-47ccbcb18f4a>:174: VisibleDeprecationWarning: Creating an ndarray from ragged nested sequences (which is a list-or-tuple of lists-or-tuples-or ndarrays with different lengths or shapes) is deprecated. If you meant to do this, you must specify 'dtype=object' when creating the ndarray.\n",
            "  self.test_data = np.array(user_item_label_list)\n"
          ]
        }
      ],
      "source": [
        "rec_dataset = dataset_init()"
      ]
    },
    {
      "cell_type": "code",
      "source": [
        " Path(save_path).mkdir(parents=True, exist_ok=True)\n",
        " with open(os.path.join(save_path,dataset + \"_dataset_obj.pickle\"), 'wb') as outp:\n",
        "        pickle.dump(rec_dataset, outp, pickle.HIGHEST_PROTOCOL)"
      ],
      "metadata": {
        "id": "MQrHtA_esO7_"
      },
      "execution_count": null,
      "outputs": []
    },
    {
      "cell_type": "code",
      "execution_count": null,
      "metadata": {
        "id": "taAj1CnnK50V"
      },
      "outputs": [],
      "source": [
        "with open(os.path.join(save_path, dataset + \"_dataset_obj.pickle\"), 'rb') as inp:\n",
        "  rec_dataset = pickle.load(inp)"
      ]
    },
    {
      "cell_type": "code",
      "execution_count": null,
      "metadata": {
        "id": "8XM1V8Hhskut"
      },
      "outputs": [],
      "source": [
        "training_data=[]\n",
        "for train_data in rec_dataset.training_data:\n",
        "  user=train_data[0]\n",
        "  item=train_data[1]\n",
        "  label=train_data[2]\n",
        "  user_id=rec_dataset.inv_user_name_dict[user]\n",
        "  item_id=rec_dataset.inv_item_name_dict[item]\n",
        "  training_data.append([user_id,item_id,label])"
      ]
    },
    {
      "cell_type": "code",
      "execution_count": null,
      "metadata": {
        "id": "htzdic-Y5qdN"
      },
      "outputs": [],
      "source": [
        "np.savetxt('training_data.txt', training_data, fmt='%s')\n",
        "b = np.loadtxt('training_data.txt',dtype=str)"
      ]
    },
    {
      "cell_type": "code",
      "execution_count": null,
      "metadata": {
        "id": "z63k8gEo-Cio"
      },
      "outputs": [],
      "source": [
        "import pickle\n",
        "pet_stats = {'name':\"\", 'int':1, 'bool':False}\n",
        "\n",
        "def pet_save(pet,name):\n",
        "    with open('{}_data.pickle'.format(name), 'wb') as f:\n",
        "        pickle.dump(pet, f, pickle.HIGHEST_PROTOCOL)\n",
        "\n",
        "def digimon_load():\n",
        "    with open('test_data.pickle', 'rb') as f:\n",
        "        return pickle.load(f)"
      ]
    },
    {
      "cell_type": "code",
      "execution_count": null,
      "metadata": {
        "id": "oEWe8RSEtkNV"
      },
      "outputs": [],
      "source": [
        "testing_data={}\n",
        "for ts_data in rec_dataset.test_data:\n",
        "  user=ts_data[0]\n",
        "  items=ts_data[1]\n",
        "  labels=ts_data[2]\n",
        "  # print(user , item, label)\n",
        "  user_id=rec_dataset.inv_user_name_dict[user]\n",
        "  items_id=[rec_dataset.inv_item_name_dict[item] for item in items]\n",
        "  testing_data[user_id]=[items_id,labels]"
      ]
    },
    {
      "cell_type": "code",
      "execution_count": null,
      "metadata": {
        "id": "fET26ltJwksQ"
      },
      "outputs": [],
      "source": [
        "pet_save(testing_data,'test')"
      ]
    },
    {
      "cell_type": "code",
      "execution_count": null,
      "metadata": {
        "id": "stGgIm7nvgfs"
      },
      "outputs": [],
      "source": [
        "import matplotlib.pyplot as plt"
      ]
    },
    {
      "cell_type": "code",
      "execution_count": null,
      "metadata": {
        "colab": {
          "base_uri": "https://localhost:8080/",
          "height": 1000
        },
        "id": "v2G66iinM9Os",
        "outputId": "312ffb94-dded-4eb3-ec2f-9023c82cc717"
      },
      "outputs": [
        {
          "output_type": "stream",
          "name": "stdout",
          "text": [
            "Using CUDA 0\n",
            "init ndcg: 0.09603078199016701\n"
          ]
        },
        {
          "output_type": "stream",
          "name": "stderr",
          "text": [
            "\r  0%|          | 0/500 [00:00<?, ?it/s]"
          ]
        },
        {
          "output_type": "stream",
          "name": "stdout",
          "text": [
            "epoch 0:  training loss:  0.67331594\n"
          ]
        },
        {
          "output_type": "stream",
          "name": "stderr",
          "text": [
            "\r  0%|          | 1/500 [00:00<02:28,  3.36it/s]"
          ]
        },
        {
          "output_type": "stream",
          "name": "stdout",
          "text": [
            "epoch 0:  training loss:  0.67331594 NDCG_validation:  0.07678337265764436\n"
          ]
        },
        {
          "output_type": "stream",
          "name": "stderr",
          "text": [
            "\r  0%|          | 2/500 [00:00<01:38,  5.04it/s]"
          ]
        },
        {
          "output_type": "stream",
          "name": "stdout",
          "text": [
            "epoch 1:  training loss:  0.64971954\n"
          ]
        },
        {
          "output_type": "stream",
          "name": "stderr",
          "text": [
            "\r  1%|          | 3/500 [00:00<01:21,  6.10it/s]"
          ]
        },
        {
          "output_type": "stream",
          "name": "stdout",
          "text": [
            "epoch 2:  training loss:  0.6400992\n"
          ]
        },
        {
          "output_type": "stream",
          "name": "stderr",
          "text": [
            "\r  1%|          | 4/500 [00:00<01:12,  6.83it/s]"
          ]
        },
        {
          "output_type": "stream",
          "name": "stdout",
          "text": [
            "epoch 3:  training loss:  0.636355\n"
          ]
        },
        {
          "output_type": "stream",
          "name": "stderr",
          "text": [
            "\r  1%|          | 5/500 [00:00<01:08,  7.23it/s]"
          ]
        },
        {
          "output_type": "stream",
          "name": "stdout",
          "text": [
            "epoch 4:  training loss:  0.63443226\n"
          ]
        },
        {
          "output_type": "stream",
          "name": "stderr",
          "text": [
            "\r  1%|          | 6/500 [00:00<01:05,  7.51it/s]"
          ]
        },
        {
          "output_type": "stream",
          "name": "stdout",
          "text": [
            "epoch 5:  training loss:  0.63443\n"
          ]
        },
        {
          "output_type": "stream",
          "name": "stderr",
          "text": [
            "\r  1%|▏         | 7/500 [00:01<01:03,  7.75it/s]"
          ]
        },
        {
          "output_type": "stream",
          "name": "stdout",
          "text": [
            "epoch 6:  training loss:  0.63401186\n"
          ]
        },
        {
          "output_type": "stream",
          "name": "stderr",
          "text": [
            "\r  2%|▏         | 8/500 [00:01<01:01,  7.98it/s]"
          ]
        },
        {
          "output_type": "stream",
          "name": "stdout",
          "text": [
            "epoch 7:  training loss:  0.6327359\n"
          ]
        },
        {
          "output_type": "stream",
          "name": "stderr",
          "text": [
            "\r  2%|▏         | 9/500 [00:01<01:02,  7.86it/s]"
          ]
        },
        {
          "output_type": "stream",
          "name": "stdout",
          "text": [
            "epoch 8:  training loss:  0.6325523\n"
          ]
        },
        {
          "output_type": "stream",
          "name": "stderr",
          "text": [
            "\r  2%|▏         | 10/500 [00:01<01:02,  7.79it/s]"
          ]
        },
        {
          "output_type": "stream",
          "name": "stdout",
          "text": [
            "epoch 9:  training loss:  0.6326231\n",
            "epoch 10:  training loss:  0.632245\n"
          ]
        },
        {
          "output_type": "stream",
          "name": "stderr",
          "text": [
            "\r  2%|▏         | 11/500 [00:01<01:18,  6.22it/s]"
          ]
        },
        {
          "output_type": "stream",
          "name": "stdout",
          "text": [
            "epoch 10:  training loss:  0.632245 NDCG_validation:  0.20439825068811532\n"
          ]
        },
        {
          "output_type": "stream",
          "name": "stderr",
          "text": [
            "\r  2%|▏         | 12/500 [00:01<01:12,  6.69it/s]"
          ]
        },
        {
          "output_type": "stream",
          "name": "stdout",
          "text": [
            "epoch 11:  training loss:  0.6313473\n"
          ]
        },
        {
          "output_type": "stream",
          "name": "stderr",
          "text": [
            "\r  3%|▎         | 13/500 [00:01<01:08,  7.13it/s]"
          ]
        },
        {
          "output_type": "stream",
          "name": "stdout",
          "text": [
            "epoch 12:  training loss:  0.6316836\n"
          ]
        },
        {
          "output_type": "stream",
          "name": "stderr",
          "text": [
            "\r  3%|▎         | 14/500 [00:02<01:04,  7.50it/s]"
          ]
        },
        {
          "output_type": "stream",
          "name": "stdout",
          "text": [
            "epoch 13:  training loss:  0.63063\n"
          ]
        },
        {
          "output_type": "stream",
          "name": "stderr",
          "text": [
            "\r  3%|▎         | 15/500 [00:02<01:02,  7.70it/s]"
          ]
        },
        {
          "output_type": "stream",
          "name": "stdout",
          "text": [
            "epoch 14:  training loss:  0.6306069\n"
          ]
        },
        {
          "output_type": "stream",
          "name": "stderr",
          "text": [
            "\r  3%|▎         | 16/500 [00:02<01:01,  7.92it/s]"
          ]
        },
        {
          "output_type": "stream",
          "name": "stdout",
          "text": [
            "epoch 15:  training loss:  0.62961996\n"
          ]
        },
        {
          "output_type": "stream",
          "name": "stderr",
          "text": [
            "\r  3%|▎         | 17/500 [00:02<01:01,  7.90it/s]"
          ]
        },
        {
          "output_type": "stream",
          "name": "stdout",
          "text": [
            "epoch 16:  training loss:  0.6296974\n"
          ]
        },
        {
          "output_type": "stream",
          "name": "stderr",
          "text": [
            "\r  4%|▎         | 18/500 [00:02<00:59,  8.09it/s]"
          ]
        },
        {
          "output_type": "stream",
          "name": "stdout",
          "text": [
            "epoch 17:  training loss:  0.62910163\n"
          ]
        },
        {
          "output_type": "stream",
          "name": "stderr",
          "text": [
            "\r  4%|▍         | 19/500 [00:02<00:58,  8.17it/s]"
          ]
        },
        {
          "output_type": "stream",
          "name": "stdout",
          "text": [
            "epoch 18:  training loss:  0.6285865\n"
          ]
        },
        {
          "output_type": "stream",
          "name": "stderr",
          "text": [
            "\r  4%|▍         | 20/500 [00:02<00:58,  8.21it/s]"
          ]
        },
        {
          "output_type": "stream",
          "name": "stdout",
          "text": [
            "epoch 19:  training loss:  0.62821305\n",
            "epoch 20:  training loss:  0.6273433\n"
          ]
        },
        {
          "output_type": "stream",
          "name": "stderr",
          "text": [
            "\r  4%|▍         | 21/500 [00:02<01:15,  6.36it/s]"
          ]
        },
        {
          "output_type": "stream",
          "name": "stdout",
          "text": [
            "epoch 20:  training loss:  0.6273433 NDCG_validation:  0.20632590079572452\n"
          ]
        },
        {
          "output_type": "stream",
          "name": "stderr",
          "text": [
            "\r  4%|▍         | 22/500 [00:03<01:09,  6.84it/s]"
          ]
        },
        {
          "output_type": "stream",
          "name": "stdout",
          "text": [
            "epoch 21:  training loss:  0.6268001\n"
          ]
        },
        {
          "output_type": "stream",
          "name": "stderr",
          "text": [
            "\r  5%|▍         | 23/500 [00:03<01:05,  7.26it/s]"
          ]
        },
        {
          "output_type": "stream",
          "name": "stdout",
          "text": [
            "epoch 22:  training loss:  0.62590086\n"
          ]
        },
        {
          "output_type": "stream",
          "name": "stderr",
          "text": [
            "\r  5%|▍         | 24/500 [00:03<01:04,  7.43it/s]"
          ]
        },
        {
          "output_type": "stream",
          "name": "stdout",
          "text": [
            "epoch 23:  training loss:  0.625171\n"
          ]
        },
        {
          "output_type": "stream",
          "name": "stderr",
          "text": [
            "\r  5%|▌         | 25/500 [00:03<01:01,  7.71it/s]"
          ]
        },
        {
          "output_type": "stream",
          "name": "stdout",
          "text": [
            "epoch 24:  training loss:  0.62494653\n"
          ]
        },
        {
          "output_type": "stream",
          "name": "stderr",
          "text": [
            "\r  5%|▌         | 26/500 [00:03<01:00,  7.89it/s]"
          ]
        },
        {
          "output_type": "stream",
          "name": "stdout",
          "text": [
            "epoch 25:  training loss:  0.62380093\n"
          ]
        },
        {
          "output_type": "stream",
          "name": "stderr",
          "text": [
            "\r  5%|▌         | 27/500 [00:03<00:59,  8.00it/s]"
          ]
        },
        {
          "output_type": "stream",
          "name": "stdout",
          "text": [
            "epoch 26:  training loss:  0.6232139\n"
          ]
        },
        {
          "output_type": "stream",
          "name": "stderr",
          "text": [
            "\r  6%|▌         | 28/500 [00:03<00:58,  8.01it/s]"
          ]
        },
        {
          "output_type": "stream",
          "name": "stdout",
          "text": [
            "epoch 27:  training loss:  0.6226231\n"
          ]
        },
        {
          "output_type": "stream",
          "name": "stderr",
          "text": [
            "\r  6%|▌         | 29/500 [00:03<00:58,  7.98it/s]"
          ]
        },
        {
          "output_type": "stream",
          "name": "stdout",
          "text": [
            "epoch 28:  training loss:  0.6225164\n"
          ]
        },
        {
          "output_type": "stream",
          "name": "stderr",
          "text": [
            "\r  6%|▌         | 30/500 [00:04<00:57,  8.11it/s]"
          ]
        },
        {
          "output_type": "stream",
          "name": "stdout",
          "text": [
            "epoch 29:  training loss:  0.6208027\n",
            "epoch 30:  training loss:  0.62038696\n"
          ]
        },
        {
          "output_type": "stream",
          "name": "stderr",
          "text": [
            "\r  6%|▌         | 31/500 [00:04<01:13,  6.39it/s]"
          ]
        },
        {
          "output_type": "stream",
          "name": "stdout",
          "text": [
            "epoch 30:  training loss:  0.62038696 NDCG_validation:  0.2187892308511606\n"
          ]
        },
        {
          "output_type": "stream",
          "name": "stderr",
          "text": [
            "\r  6%|▋         | 32/500 [00:04<01:08,  6.79it/s]"
          ]
        },
        {
          "output_type": "stream",
          "name": "stdout",
          "text": [
            "epoch 31:  training loss:  0.61983013\n"
          ]
        },
        {
          "output_type": "stream",
          "name": "stderr",
          "text": [
            "\r  7%|▋         | 33/500 [00:04<01:05,  7.09it/s]"
          ]
        },
        {
          "output_type": "stream",
          "name": "stdout",
          "text": [
            "epoch 32:  training loss:  0.6181537\n"
          ]
        },
        {
          "output_type": "stream",
          "name": "stderr",
          "text": [
            "\r  7%|▋         | 34/500 [00:04<01:02,  7.45it/s]"
          ]
        },
        {
          "output_type": "stream",
          "name": "stdout",
          "text": [
            "epoch 33:  training loss:  0.6174254\n"
          ]
        },
        {
          "output_type": "stream",
          "name": "stderr",
          "text": [
            "\r  7%|▋         | 35/500 [00:04<01:00,  7.64it/s]"
          ]
        },
        {
          "output_type": "stream",
          "name": "stdout",
          "text": [
            "epoch 34:  training loss:  0.6166035\n"
          ]
        },
        {
          "output_type": "stream",
          "name": "stderr",
          "text": [
            "\r  7%|▋         | 36/500 [00:04<00:58,  7.87it/s]"
          ]
        },
        {
          "output_type": "stream",
          "name": "stdout",
          "text": [
            "epoch 35:  training loss:  0.61560893\n"
          ]
        },
        {
          "output_type": "stream",
          "name": "stderr",
          "text": [
            "\r  7%|▋         | 37/500 [00:05<00:57,  8.06it/s]"
          ]
        },
        {
          "output_type": "stream",
          "name": "stdout",
          "text": [
            "epoch 36:  training loss:  0.61537766\n"
          ]
        },
        {
          "output_type": "stream",
          "name": "stderr",
          "text": [
            "\r  8%|▊         | 38/500 [00:05<00:57,  8.07it/s]"
          ]
        },
        {
          "output_type": "stream",
          "name": "stdout",
          "text": [
            "epoch 37:  training loss:  0.6138488\n"
          ]
        },
        {
          "output_type": "stream",
          "name": "stderr",
          "text": [
            "\r  8%|▊         | 39/500 [00:05<00:57,  8.07it/s]"
          ]
        },
        {
          "output_type": "stream",
          "name": "stdout",
          "text": [
            "epoch 38:  training loss:  0.612393\n"
          ]
        },
        {
          "output_type": "stream",
          "name": "stderr",
          "text": [
            "\r  8%|▊         | 40/500 [00:05<00:57,  8.03it/s]"
          ]
        },
        {
          "output_type": "stream",
          "name": "stdout",
          "text": [
            "epoch 39:  training loss:  0.6120976\n",
            "epoch 40:  training loss:  0.6102229\n"
          ]
        },
        {
          "output_type": "stream",
          "name": "stderr",
          "text": [
            "\r  8%|▊         | 41/500 [00:05<01:12,  6.32it/s]"
          ]
        },
        {
          "output_type": "stream",
          "name": "stdout",
          "text": [
            "epoch 40:  training loss:  0.6102229 NDCG_validation:  0.2296240383530465\n"
          ]
        },
        {
          "output_type": "stream",
          "name": "stderr",
          "text": [
            "\r  8%|▊         | 42/500 [00:05<01:07,  6.82it/s]"
          ]
        },
        {
          "output_type": "stream",
          "name": "stdout",
          "text": [
            "epoch 41:  training loss:  0.6087767\n"
          ]
        },
        {
          "output_type": "stream",
          "name": "stderr",
          "text": [
            "\r  9%|▊         | 43/500 [00:05<01:03,  7.16it/s]"
          ]
        },
        {
          "output_type": "stream",
          "name": "stdout",
          "text": [
            "epoch 42:  training loss:  0.60753316\n"
          ]
        },
        {
          "output_type": "stream",
          "name": "stderr",
          "text": [
            "\r  9%|▉         | 44/500 [00:06<01:01,  7.44it/s]"
          ]
        },
        {
          "output_type": "stream",
          "name": "stdout",
          "text": [
            "epoch 43:  training loss:  0.60594267\n"
          ]
        },
        {
          "output_type": "stream",
          "name": "stderr",
          "text": [
            "\r  9%|▉         | 45/500 [00:06<00:59,  7.68it/s]"
          ]
        },
        {
          "output_type": "stream",
          "name": "stdout",
          "text": [
            "epoch 44:  training loss:  0.60488707\n"
          ]
        },
        {
          "output_type": "stream",
          "name": "stderr",
          "text": [
            "\r  9%|▉         | 46/500 [00:06<00:57,  7.86it/s]"
          ]
        },
        {
          "output_type": "stream",
          "name": "stdout",
          "text": [
            "epoch 45:  training loss:  0.6037908\n"
          ]
        },
        {
          "output_type": "stream",
          "name": "stderr",
          "text": [
            "\r  9%|▉         | 47/500 [00:06<00:56,  8.02it/s]"
          ]
        },
        {
          "output_type": "stream",
          "name": "stdout",
          "text": [
            "epoch 46:  training loss:  0.6026032\n"
          ]
        },
        {
          "output_type": "stream",
          "name": "stderr",
          "text": [
            "\r 10%|▉         | 48/500 [00:06<00:56,  8.01it/s]"
          ]
        },
        {
          "output_type": "stream",
          "name": "stdout",
          "text": [
            "epoch 47:  training loss:  0.60075325\n"
          ]
        },
        {
          "output_type": "stream",
          "name": "stderr",
          "text": [
            "\r 10%|▉         | 49/500 [00:06<00:55,  8.16it/s]"
          ]
        },
        {
          "output_type": "stream",
          "name": "stdout",
          "text": [
            "epoch 48:  training loss:  0.59826195\n"
          ]
        },
        {
          "output_type": "stream",
          "name": "stderr",
          "text": [
            "\r 10%|█         | 50/500 [00:06<00:55,  8.05it/s]"
          ]
        },
        {
          "output_type": "stream",
          "name": "stdout",
          "text": [
            "epoch 49:  training loss:  0.5985606\n",
            "epoch 50:  training loss:  0.59664506\n"
          ]
        },
        {
          "output_type": "stream",
          "name": "stderr",
          "text": [
            "\r 10%|█         | 51/500 [00:06<01:12,  6.16it/s]"
          ]
        },
        {
          "output_type": "stream",
          "name": "stdout",
          "text": [
            "epoch 50:  training loss:  0.59664506 NDCG_validation:  0.24021237537032566\n"
          ]
        },
        {
          "output_type": "stream",
          "name": "stderr",
          "text": [
            "\r 10%|█         | 52/500 [00:07<01:07,  6.63it/s]"
          ]
        },
        {
          "output_type": "stream",
          "name": "stdout",
          "text": [
            "epoch 51:  training loss:  0.594649\n"
          ]
        },
        {
          "output_type": "stream",
          "name": "stderr",
          "text": [
            "\r 11%|█         | 53/500 [00:07<01:02,  7.10it/s]"
          ]
        },
        {
          "output_type": "stream",
          "name": "stdout",
          "text": [
            "epoch 52:  training loss:  0.59328336\n"
          ]
        },
        {
          "output_type": "stream",
          "name": "stderr",
          "text": [
            "\r 11%|█         | 54/500 [00:07<01:00,  7.41it/s]"
          ]
        },
        {
          "output_type": "stream",
          "name": "stdout",
          "text": [
            "epoch 53:  training loss:  0.5918943\n"
          ]
        },
        {
          "output_type": "stream",
          "name": "stderr",
          "text": [
            "\r 11%|█         | 55/500 [00:07<00:59,  7.51it/s]"
          ]
        },
        {
          "output_type": "stream",
          "name": "stdout",
          "text": [
            "epoch 54:  training loss:  0.58965653\n"
          ]
        },
        {
          "output_type": "stream",
          "name": "stderr",
          "text": [
            "\r 11%|█         | 56/500 [00:07<00:57,  7.73it/s]"
          ]
        },
        {
          "output_type": "stream",
          "name": "stdout",
          "text": [
            "epoch 55:  training loss:  0.58889896\n"
          ]
        },
        {
          "output_type": "stream",
          "name": "stderr",
          "text": [
            "\r 11%|█▏        | 57/500 [00:07<00:55,  7.91it/s]"
          ]
        },
        {
          "output_type": "stream",
          "name": "stdout",
          "text": [
            "epoch 56:  training loss:  0.5876808\n"
          ]
        },
        {
          "output_type": "stream",
          "name": "stderr",
          "text": [
            "\r 12%|█▏        | 58/500 [00:07<00:55,  7.95it/s]"
          ]
        },
        {
          "output_type": "stream",
          "name": "stdout",
          "text": [
            "epoch 57:  training loss:  0.586562\n"
          ]
        },
        {
          "output_type": "stream",
          "name": "stderr",
          "text": [
            "\r 12%|█▏        | 59/500 [00:07<00:54,  8.10it/s]"
          ]
        },
        {
          "output_type": "stream",
          "name": "stdout",
          "text": [
            "epoch 58:  training loss:  0.58447814\n"
          ]
        },
        {
          "output_type": "stream",
          "name": "stderr",
          "text": [
            "\r 12%|█▏        | 60/500 [00:08<00:53,  8.18it/s]"
          ]
        },
        {
          "output_type": "stream",
          "name": "stdout",
          "text": [
            "epoch 59:  training loss:  0.5824943\n",
            "epoch 60:  training loss:  0.5809355\n"
          ]
        },
        {
          "output_type": "stream",
          "name": "stderr",
          "text": [
            "\r 12%|█▏        | 61/500 [00:08<01:07,  6.51it/s]"
          ]
        },
        {
          "output_type": "stream",
          "name": "stdout",
          "text": [
            "epoch 60:  training loss:  0.5809355 NDCG_validation:  0.24376843837038992\n"
          ]
        },
        {
          "output_type": "stream",
          "name": "stderr",
          "text": [
            "\r 12%|█▏        | 62/500 [00:08<01:03,  6.94it/s]"
          ]
        },
        {
          "output_type": "stream",
          "name": "stdout",
          "text": [
            "epoch 61:  training loss:  0.57940114\n"
          ]
        },
        {
          "output_type": "stream",
          "name": "stderr",
          "text": [
            "\r 13%|█▎        | 63/500 [00:08<01:00,  7.24it/s]"
          ]
        },
        {
          "output_type": "stream",
          "name": "stdout",
          "text": [
            "epoch 62:  training loss:  0.5785089\n"
          ]
        },
        {
          "output_type": "stream",
          "name": "stderr",
          "text": [
            "\r 13%|█▎        | 64/500 [00:08<00:57,  7.55it/s]"
          ]
        },
        {
          "output_type": "stream",
          "name": "stdout",
          "text": [
            "epoch 63:  training loss:  0.5760915\n"
          ]
        },
        {
          "output_type": "stream",
          "name": "stderr",
          "text": [
            "\r 13%|█▎        | 65/500 [00:08<00:55,  7.82it/s]"
          ]
        },
        {
          "output_type": "stream",
          "name": "stdout",
          "text": [
            "epoch 64:  training loss:  0.5747853\n"
          ]
        },
        {
          "output_type": "stream",
          "name": "stderr",
          "text": [
            "\r 13%|█▎        | 66/500 [00:08<00:54,  7.90it/s]"
          ]
        },
        {
          "output_type": "stream",
          "name": "stdout",
          "text": [
            "epoch 65:  training loss:  0.5728823\n"
          ]
        },
        {
          "output_type": "stream",
          "name": "stderr",
          "text": [
            "\r 13%|█▎        | 67/500 [00:09<00:53,  8.03it/s]"
          ]
        },
        {
          "output_type": "stream",
          "name": "stdout",
          "text": [
            "epoch 66:  training loss:  0.5707316\n"
          ]
        },
        {
          "output_type": "stream",
          "name": "stderr",
          "text": [
            "\r 14%|█▎        | 68/500 [00:09<00:53,  8.02it/s]"
          ]
        },
        {
          "output_type": "stream",
          "name": "stdout",
          "text": [
            "epoch 67:  training loss:  0.5708262\n"
          ]
        },
        {
          "output_type": "stream",
          "name": "stderr",
          "text": [
            "\r 14%|█▍        | 69/500 [00:09<00:52,  8.15it/s]"
          ]
        },
        {
          "output_type": "stream",
          "name": "stdout",
          "text": [
            "epoch 68:  training loss:  0.56751424\n"
          ]
        },
        {
          "output_type": "stream",
          "name": "stderr",
          "text": [
            "\r 14%|█▍        | 70/500 [00:09<00:52,  8.22it/s]"
          ]
        },
        {
          "output_type": "stream",
          "name": "stdout",
          "text": [
            "epoch 69:  training loss:  0.5673572\n",
            "epoch 70:  training loss:  0.565911\n"
          ]
        },
        {
          "output_type": "stream",
          "name": "stderr",
          "text": [
            "\r 14%|█▍        | 71/500 [00:09<01:07,  6.35it/s]"
          ]
        },
        {
          "output_type": "stream",
          "name": "stdout",
          "text": [
            "epoch 70:  training loss:  0.565911 NDCG_validation:  0.24366139997596387\n"
          ]
        },
        {
          "output_type": "stream",
          "name": "stderr",
          "text": [
            "\r 14%|█▍        | 72/500 [00:09<01:02,  6.82it/s]"
          ]
        },
        {
          "output_type": "stream",
          "name": "stdout",
          "text": [
            "epoch 71:  training loss:  0.5638665\n"
          ]
        },
        {
          "output_type": "stream",
          "name": "stderr",
          "text": [
            "\r 15%|█▍        | 73/500 [00:09<00:58,  7.25it/s]"
          ]
        },
        {
          "output_type": "stream",
          "name": "stdout",
          "text": [
            "epoch 72:  training loss:  0.56247085\n"
          ]
        },
        {
          "output_type": "stream",
          "name": "stderr",
          "text": [
            "\r 15%|█▍        | 74/500 [00:09<00:56,  7.50it/s]"
          ]
        },
        {
          "output_type": "stream",
          "name": "stdout",
          "text": [
            "epoch 73:  training loss:  0.5614668\n"
          ]
        },
        {
          "output_type": "stream",
          "name": "stderr",
          "text": [
            "\r 15%|█▌        | 75/500 [00:10<00:54,  7.77it/s]"
          ]
        },
        {
          "output_type": "stream",
          "name": "stdout",
          "text": [
            "epoch 74:  training loss:  0.55939037\n"
          ]
        },
        {
          "output_type": "stream",
          "name": "stderr",
          "text": [
            "\r 15%|█▌        | 76/500 [00:10<00:53,  7.91it/s]"
          ]
        },
        {
          "output_type": "stream",
          "name": "stdout",
          "text": [
            "epoch 75:  training loss:  0.55839866\n"
          ]
        },
        {
          "output_type": "stream",
          "name": "stderr",
          "text": [
            "\r 15%|█▌        | 77/500 [00:10<00:52,  8.09it/s]"
          ]
        },
        {
          "output_type": "stream",
          "name": "stdout",
          "text": [
            "epoch 76:  training loss:  0.5552417\n"
          ]
        },
        {
          "output_type": "stream",
          "name": "stderr",
          "text": [
            "\r 16%|█▌        | 78/500 [00:10<00:52,  8.11it/s]"
          ]
        },
        {
          "output_type": "stream",
          "name": "stdout",
          "text": [
            "epoch 77:  training loss:  0.5541752\n"
          ]
        },
        {
          "output_type": "stream",
          "name": "stderr",
          "text": [
            "\r 16%|█▌        | 79/500 [00:10<00:51,  8.17it/s]"
          ]
        },
        {
          "output_type": "stream",
          "name": "stdout",
          "text": [
            "epoch 78:  training loss:  0.5535868\n"
          ]
        },
        {
          "output_type": "stream",
          "name": "stderr",
          "text": [
            "\r 16%|█▌        | 80/500 [00:10<00:52,  8.02it/s]"
          ]
        },
        {
          "output_type": "stream",
          "name": "stdout",
          "text": [
            "epoch 79:  training loss:  0.5531768\n",
            "epoch 80:  training loss:  0.5506551\n"
          ]
        },
        {
          "output_type": "stream",
          "name": "stderr",
          "text": [
            "\r 16%|█▌        | 81/500 [00:10<01:08,  6.16it/s]"
          ]
        },
        {
          "output_type": "stream",
          "name": "stdout",
          "text": [
            "epoch 80:  training loss:  0.5506551 NDCG_validation:  0.24822467412320545\n"
          ]
        },
        {
          "output_type": "stream",
          "name": "stderr",
          "text": [
            "\r 16%|█▋        | 82/500 [00:11<01:02,  6.68it/s]"
          ]
        },
        {
          "output_type": "stream",
          "name": "stdout",
          "text": [
            "epoch 81:  training loss:  0.54805\n"
          ]
        },
        {
          "output_type": "stream",
          "name": "stderr",
          "text": [
            "\r 17%|█▋        | 83/500 [00:11<00:58,  7.09it/s]"
          ]
        },
        {
          "output_type": "stream",
          "name": "stdout",
          "text": [
            "epoch 82:  training loss:  0.5460423\n"
          ]
        },
        {
          "output_type": "stream",
          "name": "stderr",
          "text": [
            "\r 17%|█▋        | 84/500 [00:11<00:56,  7.38it/s]"
          ]
        },
        {
          "output_type": "stream",
          "name": "stdout",
          "text": [
            "epoch 83:  training loss:  0.5457518\n"
          ]
        },
        {
          "output_type": "stream",
          "name": "stderr",
          "text": [
            "\r 17%|█▋        | 85/500 [00:11<00:54,  7.64it/s]"
          ]
        },
        {
          "output_type": "stream",
          "name": "stdout",
          "text": [
            "epoch 84:  training loss:  0.5433556\n"
          ]
        },
        {
          "output_type": "stream",
          "name": "stderr",
          "text": [
            "\r 17%|█▋        | 86/500 [00:11<00:53,  7.67it/s]"
          ]
        },
        {
          "output_type": "stream",
          "name": "stdout",
          "text": [
            "epoch 85:  training loss:  0.5421493\n"
          ]
        },
        {
          "output_type": "stream",
          "name": "stderr",
          "text": [
            "\r 17%|█▋        | 87/500 [00:11<00:52,  7.84it/s]"
          ]
        },
        {
          "output_type": "stream",
          "name": "stdout",
          "text": [
            "epoch 86:  training loss:  0.540305\n"
          ]
        },
        {
          "output_type": "stream",
          "name": "stderr",
          "text": [
            "\r 18%|█▊        | 88/500 [00:11<00:51,  8.02it/s]"
          ]
        },
        {
          "output_type": "stream",
          "name": "stdout",
          "text": [
            "epoch 87:  training loss:  0.538231\n"
          ]
        },
        {
          "output_type": "stream",
          "name": "stderr",
          "text": [
            "\r 18%|█▊        | 89/500 [00:11<00:50,  8.11it/s]"
          ]
        },
        {
          "output_type": "stream",
          "name": "stdout",
          "text": [
            "epoch 88:  training loss:  0.53699243\n"
          ]
        },
        {
          "output_type": "stream",
          "name": "stderr",
          "text": [
            "\r 18%|█▊        | 90/500 [00:12<00:49,  8.22it/s]"
          ]
        },
        {
          "output_type": "stream",
          "name": "stdout",
          "text": [
            "epoch 89:  training loss:  0.5354919\n",
            "epoch 90:  training loss:  0.5338419\n"
          ]
        },
        {
          "output_type": "stream",
          "name": "stderr",
          "text": [
            "\r 18%|█▊        | 91/500 [00:12<01:03,  6.45it/s]"
          ]
        },
        {
          "output_type": "stream",
          "name": "stdout",
          "text": [
            "epoch 90:  training loss:  0.5338419 NDCG_validation:  0.27938127217229114\n"
          ]
        },
        {
          "output_type": "stream",
          "name": "stderr",
          "text": [
            "\r 18%|█▊        | 92/500 [00:12<00:59,  6.89it/s]"
          ]
        },
        {
          "output_type": "stream",
          "name": "stdout",
          "text": [
            "epoch 91:  training loss:  0.531743\n"
          ]
        },
        {
          "output_type": "stream",
          "name": "stderr",
          "text": [
            "\r 19%|█▊        | 93/500 [00:12<00:56,  7.25it/s]"
          ]
        },
        {
          "output_type": "stream",
          "name": "stdout",
          "text": [
            "epoch 92:  training loss:  0.52904487\n"
          ]
        },
        {
          "output_type": "stream",
          "name": "stderr",
          "text": [
            "\r 19%|█▉        | 94/500 [00:12<00:53,  7.60it/s]"
          ]
        },
        {
          "output_type": "stream",
          "name": "stdout",
          "text": [
            "epoch 93:  training loss:  0.52748954\n"
          ]
        },
        {
          "output_type": "stream",
          "name": "stderr",
          "text": [
            "\r 19%|█▉        | 95/500 [00:12<00:52,  7.78it/s]"
          ]
        },
        {
          "output_type": "stream",
          "name": "stdout",
          "text": [
            "epoch 94:  training loss:  0.5262797\n"
          ]
        },
        {
          "output_type": "stream",
          "name": "stderr",
          "text": [
            "\r 19%|█▉        | 96/500 [00:12<00:51,  7.92it/s]"
          ]
        },
        {
          "output_type": "stream",
          "name": "stdout",
          "text": [
            "epoch 95:  training loss:  0.52626723\n"
          ]
        },
        {
          "output_type": "stream",
          "name": "stderr",
          "text": [
            "\r 19%|█▉        | 97/500 [00:13<00:49,  8.07it/s]"
          ]
        },
        {
          "output_type": "stream",
          "name": "stdout",
          "text": [
            "epoch 96:  training loss:  0.5211602\n"
          ]
        },
        {
          "output_type": "stream",
          "name": "stderr",
          "text": [
            "\r 20%|█▉        | 98/500 [00:13<00:48,  8.21it/s]"
          ]
        },
        {
          "output_type": "stream",
          "name": "stdout",
          "text": [
            "epoch 97:  training loss:  0.5196688\n"
          ]
        },
        {
          "output_type": "stream",
          "name": "stderr",
          "text": [
            "\r 20%|█▉        | 99/500 [00:13<00:48,  8.28it/s]"
          ]
        },
        {
          "output_type": "stream",
          "name": "stdout",
          "text": [
            "epoch 98:  training loss:  0.51927483\n"
          ]
        },
        {
          "output_type": "stream",
          "name": "stderr",
          "text": [
            "\r 20%|██        | 100/500 [00:13<00:48,  8.29it/s]"
          ]
        },
        {
          "output_type": "stream",
          "name": "stdout",
          "text": [
            "epoch 99:  training loss:  0.51612246\n",
            "epoch 100:  training loss:  0.51543903\n"
          ]
        },
        {
          "output_type": "stream",
          "name": "stderr",
          "text": [
            "\r 20%|██        | 101/500 [00:13<01:01,  6.52it/s]"
          ]
        },
        {
          "output_type": "stream",
          "name": "stdout",
          "text": [
            "epoch 100:  training loss:  0.51543903 NDCG_validation:  0.2929987229302398\n"
          ]
        },
        {
          "output_type": "stream",
          "name": "stderr",
          "text": [
            "\r 20%|██        | 102/500 [00:13<00:57,  6.97it/s]"
          ]
        },
        {
          "output_type": "stream",
          "name": "stdout",
          "text": [
            "epoch 101:  training loss:  0.5135557\n"
          ]
        },
        {
          "output_type": "stream",
          "name": "stderr",
          "text": [
            "\r 21%|██        | 103/500 [00:13<00:54,  7.35it/s]"
          ]
        },
        {
          "output_type": "stream",
          "name": "stdout",
          "text": [
            "epoch 102:  training loss:  0.51280487\n"
          ]
        },
        {
          "output_type": "stream",
          "name": "stderr",
          "text": [
            "\r 21%|██        | 104/500 [00:13<00:52,  7.60it/s]"
          ]
        },
        {
          "output_type": "stream",
          "name": "stdout",
          "text": [
            "epoch 103:  training loss:  0.5117483\n"
          ]
        },
        {
          "output_type": "stream",
          "name": "stderr",
          "text": [
            "\r 21%|██        | 105/500 [00:14<00:50,  7.84it/s]"
          ]
        },
        {
          "output_type": "stream",
          "name": "stdout",
          "text": [
            "epoch 104:  training loss:  0.509035\n"
          ]
        },
        {
          "output_type": "stream",
          "name": "stderr",
          "text": [
            "\r 21%|██        | 106/500 [00:14<00:49,  7.99it/s]"
          ]
        },
        {
          "output_type": "stream",
          "name": "stdout",
          "text": [
            "epoch 105:  training loss:  0.5060008\n"
          ]
        },
        {
          "output_type": "stream",
          "name": "stderr",
          "text": [
            "\r 21%|██▏       | 107/500 [00:14<00:49,  7.99it/s]"
          ]
        },
        {
          "output_type": "stream",
          "name": "stdout",
          "text": [
            "epoch 106:  training loss:  0.5056761\n"
          ]
        },
        {
          "output_type": "stream",
          "name": "stderr",
          "text": [
            "\r 22%|██▏       | 108/500 [00:14<00:48,  8.11it/s]"
          ]
        },
        {
          "output_type": "stream",
          "name": "stdout",
          "text": [
            "epoch 107:  training loss:  0.502044\n"
          ]
        },
        {
          "output_type": "stream",
          "name": "stderr",
          "text": [
            "\r 22%|██▏       | 109/500 [00:14<00:48,  8.09it/s]"
          ]
        },
        {
          "output_type": "stream",
          "name": "stdout",
          "text": [
            "epoch 108:  training loss:  0.49894688\n"
          ]
        },
        {
          "output_type": "stream",
          "name": "stderr",
          "text": [
            "\r 22%|██▏       | 110/500 [00:14<00:47,  8.23it/s]"
          ]
        },
        {
          "output_type": "stream",
          "name": "stdout",
          "text": [
            "epoch 109:  training loss:  0.49813852\n",
            "epoch 110:  training loss:  0.49447513\n"
          ]
        },
        {
          "output_type": "stream",
          "name": "stderr",
          "text": [
            "\r 22%|██▏       | 111/500 [00:14<01:00,  6.42it/s]"
          ]
        },
        {
          "output_type": "stream",
          "name": "stdout",
          "text": [
            "epoch 110:  training loss:  0.49447513 NDCG_validation:  0.29837246620812313\n"
          ]
        },
        {
          "output_type": "stream",
          "name": "stderr",
          "text": [
            "\r 22%|██▏       | 112/500 [00:15<00:56,  6.82it/s]"
          ]
        },
        {
          "output_type": "stream",
          "name": "stdout",
          "text": [
            "epoch 111:  training loss:  0.4953227\n"
          ]
        },
        {
          "output_type": "stream",
          "name": "stderr",
          "text": [
            "\r 23%|██▎       | 113/500 [00:15<00:53,  7.23it/s]"
          ]
        },
        {
          "output_type": "stream",
          "name": "stdout",
          "text": [
            "epoch 112:  training loss:  0.49378225\n"
          ]
        },
        {
          "output_type": "stream",
          "name": "stderr",
          "text": [
            "\r 23%|██▎       | 114/500 [00:15<00:50,  7.58it/s]"
          ]
        },
        {
          "output_type": "stream",
          "name": "stdout",
          "text": [
            "epoch 113:  training loss:  0.4922606\n"
          ]
        },
        {
          "output_type": "stream",
          "name": "stderr",
          "text": [
            "\r 23%|██▎       | 115/500 [00:15<00:48,  7.86it/s]"
          ]
        },
        {
          "output_type": "stream",
          "name": "stdout",
          "text": [
            "epoch 114:  training loss:  0.4937913\n"
          ]
        },
        {
          "output_type": "stream",
          "name": "stderr",
          "text": [
            "\r 23%|██▎       | 116/500 [00:15<00:47,  8.04it/s]"
          ]
        },
        {
          "output_type": "stream",
          "name": "stdout",
          "text": [
            "epoch 115:  training loss:  0.48606083\n"
          ]
        },
        {
          "output_type": "stream",
          "name": "stderr",
          "text": [
            "\r 23%|██▎       | 117/500 [00:15<00:47,  8.11it/s]"
          ]
        },
        {
          "output_type": "stream",
          "name": "stdout",
          "text": [
            "epoch 116:  training loss:  0.4858741\n"
          ]
        },
        {
          "output_type": "stream",
          "name": "stderr",
          "text": [
            "\r 24%|██▎       | 118/500 [00:15<00:46,  8.20it/s]"
          ]
        },
        {
          "output_type": "stream",
          "name": "stdout",
          "text": [
            "epoch 117:  training loss:  0.4812268\n"
          ]
        },
        {
          "output_type": "stream",
          "name": "stderr",
          "text": [
            "\r 24%|██▍       | 119/500 [00:15<00:45,  8.32it/s]"
          ]
        },
        {
          "output_type": "stream",
          "name": "stdout",
          "text": [
            "epoch 118:  training loss:  0.4809554\n"
          ]
        },
        {
          "output_type": "stream",
          "name": "stderr",
          "text": [
            "\r 24%|██▍       | 120/500 [00:16<00:46,  8.21it/s]"
          ]
        },
        {
          "output_type": "stream",
          "name": "stdout",
          "text": [
            "epoch 119:  training loss:  0.47768566\n",
            "epoch 120:  training loss:  0.4777643\n"
          ]
        },
        {
          "output_type": "stream",
          "name": "stderr",
          "text": [
            "\r 24%|██▍       | 121/500 [00:16<00:58,  6.46it/s]"
          ]
        },
        {
          "output_type": "stream",
          "name": "stdout",
          "text": [
            "epoch 120:  training loss:  0.4777643 NDCG_validation:  0.30348533566444724\n"
          ]
        },
        {
          "output_type": "stream",
          "name": "stderr",
          "text": [
            "\r 24%|██▍       | 122/500 [00:16<00:55,  6.81it/s]"
          ]
        },
        {
          "output_type": "stream",
          "name": "stdout",
          "text": [
            "epoch 121:  training loss:  0.47472933\n"
          ]
        },
        {
          "output_type": "stream",
          "name": "stderr",
          "text": [
            "\r 25%|██▍       | 123/500 [00:16<00:52,  7.23it/s]"
          ]
        },
        {
          "output_type": "stream",
          "name": "stdout",
          "text": [
            "epoch 122:  training loss:  0.46886796\n"
          ]
        },
        {
          "output_type": "stream",
          "name": "stderr",
          "text": [
            "\r 25%|██▍       | 124/500 [00:16<00:50,  7.43it/s]"
          ]
        },
        {
          "output_type": "stream",
          "name": "stdout",
          "text": [
            "epoch 123:  training loss:  0.4692736\n"
          ]
        },
        {
          "output_type": "stream",
          "name": "stderr",
          "text": [
            "\r 25%|██▌       | 125/500 [00:16<00:48,  7.72it/s]"
          ]
        },
        {
          "output_type": "stream",
          "name": "stdout",
          "text": [
            "epoch 124:  training loss:  0.46634233\n"
          ]
        },
        {
          "output_type": "stream",
          "name": "stderr",
          "text": [
            "\r 25%|██▌       | 126/500 [00:16<00:46,  7.96it/s]"
          ]
        },
        {
          "output_type": "stream",
          "name": "stdout",
          "text": [
            "epoch 125:  training loss:  0.4623884\n"
          ]
        },
        {
          "output_type": "stream",
          "name": "stderr",
          "text": [
            "\r 25%|██▌       | 127/500 [00:16<00:45,  8.11it/s]"
          ]
        },
        {
          "output_type": "stream",
          "name": "stdout",
          "text": [
            "epoch 126:  training loss:  0.4660242\n"
          ]
        },
        {
          "output_type": "stream",
          "name": "stderr",
          "text": [
            "\r 26%|██▌       | 128/500 [00:17<00:44,  8.27it/s]"
          ]
        },
        {
          "output_type": "stream",
          "name": "stdout",
          "text": [
            "epoch 127:  training loss:  0.4621805\n"
          ]
        },
        {
          "output_type": "stream",
          "name": "stderr",
          "text": [
            "\r 26%|██▌       | 129/500 [00:17<00:45,  8.22it/s]"
          ]
        },
        {
          "output_type": "stream",
          "name": "stdout",
          "text": [
            "epoch 128:  training loss:  0.4609323\n"
          ]
        },
        {
          "output_type": "stream",
          "name": "stderr",
          "text": [
            "\r 26%|██▌       | 130/500 [00:17<00:45,  8.16it/s]"
          ]
        },
        {
          "output_type": "stream",
          "name": "stdout",
          "text": [
            "epoch 129:  training loss:  0.45893428\n",
            "epoch 130:  training loss:  0.45764273\n"
          ]
        },
        {
          "output_type": "stream",
          "name": "stderr",
          "text": [
            "\r 26%|██▌       | 131/500 [00:17<00:57,  6.47it/s]"
          ]
        },
        {
          "output_type": "stream",
          "name": "stdout",
          "text": [
            "epoch 130:  training loss:  0.45764273 NDCG_validation:  0.318473366589751\n"
          ]
        },
        {
          "output_type": "stream",
          "name": "stderr",
          "text": [
            "\r 26%|██▋       | 132/500 [00:17<00:53,  6.89it/s]"
          ]
        },
        {
          "output_type": "stream",
          "name": "stdout",
          "text": [
            "epoch 131:  training loss:  0.46334404\n"
          ]
        },
        {
          "output_type": "stream",
          "name": "stderr",
          "text": [
            "\r 27%|██▋       | 133/500 [00:17<00:50,  7.27it/s]"
          ]
        },
        {
          "output_type": "stream",
          "name": "stdout",
          "text": [
            "epoch 132:  training loss:  0.45047078\n"
          ]
        },
        {
          "output_type": "stream",
          "name": "stderr",
          "text": [
            "\r 27%|██▋       | 134/500 [00:17<00:48,  7.53it/s]"
          ]
        },
        {
          "output_type": "stream",
          "name": "stdout",
          "text": [
            "epoch 133:  training loss:  0.45100504\n"
          ]
        },
        {
          "output_type": "stream",
          "name": "stderr",
          "text": [
            "\r 27%|██▋       | 135/500 [00:18<00:46,  7.77it/s]"
          ]
        },
        {
          "output_type": "stream",
          "name": "stdout",
          "text": [
            "epoch 134:  training loss:  0.44866434\n"
          ]
        },
        {
          "output_type": "stream",
          "name": "stderr",
          "text": [
            "\r 27%|██▋       | 136/500 [00:18<00:45,  8.00it/s]"
          ]
        },
        {
          "output_type": "stream",
          "name": "stdout",
          "text": [
            "epoch 135:  training loss:  0.44695273\n"
          ]
        },
        {
          "output_type": "stream",
          "name": "stderr",
          "text": [
            "\r 27%|██▋       | 137/500 [00:18<00:44,  8.17it/s]"
          ]
        },
        {
          "output_type": "stream",
          "name": "stdout",
          "text": [
            "epoch 136:  training loss:  0.44151446\n"
          ]
        },
        {
          "output_type": "stream",
          "name": "stderr",
          "text": [
            "\r 28%|██▊       | 138/500 [00:18<00:43,  8.26it/s]"
          ]
        },
        {
          "output_type": "stream",
          "name": "stdout",
          "text": [
            "epoch 137:  training loss:  0.4406968\n"
          ]
        },
        {
          "output_type": "stream",
          "name": "stderr",
          "text": [
            "\r 28%|██▊       | 139/500 [00:18<00:43,  8.27it/s]"
          ]
        },
        {
          "output_type": "stream",
          "name": "stdout",
          "text": [
            "epoch 138:  training loss:  0.439856\n"
          ]
        },
        {
          "output_type": "stream",
          "name": "stderr",
          "text": [
            "\r 28%|██▊       | 140/500 [00:18<00:44,  8.11it/s]"
          ]
        },
        {
          "output_type": "stream",
          "name": "stdout",
          "text": [
            "epoch 139:  training loss:  0.43939507\n",
            "epoch 140:  training loss:  0.44629753\n"
          ]
        },
        {
          "output_type": "stream",
          "name": "stderr",
          "text": [
            "\r 28%|██▊       | 141/500 [00:18<00:55,  6.46it/s]"
          ]
        },
        {
          "output_type": "stream",
          "name": "stdout",
          "text": [
            "epoch 140:  training loss:  0.44629753 NDCG_validation:  0.3158770649516542\n"
          ]
        },
        {
          "output_type": "stream",
          "name": "stderr",
          "text": [
            "\r 28%|██▊       | 142/500 [00:18<00:52,  6.81it/s]"
          ]
        },
        {
          "output_type": "stream",
          "name": "stdout",
          "text": [
            "epoch 141:  training loss:  0.4344292\n"
          ]
        },
        {
          "output_type": "stream",
          "name": "stderr",
          "text": [
            "\r 29%|██▊       | 143/500 [00:19<00:49,  7.23it/s]"
          ]
        },
        {
          "output_type": "stream",
          "name": "stdout",
          "text": [
            "epoch 142:  training loss:  0.43107426\n"
          ]
        },
        {
          "output_type": "stream",
          "name": "stderr",
          "text": [
            "\r 29%|██▉       | 144/500 [00:19<00:47,  7.49it/s]"
          ]
        },
        {
          "output_type": "stream",
          "name": "stdout",
          "text": [
            "epoch 143:  training loss:  0.4307112\n"
          ]
        },
        {
          "output_type": "stream",
          "name": "stderr",
          "text": [
            "\r 29%|██▉       | 145/500 [00:19<00:45,  7.73it/s]"
          ]
        },
        {
          "output_type": "stream",
          "name": "stdout",
          "text": [
            "epoch 144:  training loss:  0.4327869\n"
          ]
        },
        {
          "output_type": "stream",
          "name": "stderr",
          "text": [
            "\r 29%|██▉       | 146/500 [00:19<00:44,  7.89it/s]"
          ]
        },
        {
          "output_type": "stream",
          "name": "stdout",
          "text": [
            "epoch 145:  training loss:  0.43200895\n"
          ]
        },
        {
          "output_type": "stream",
          "name": "stderr",
          "text": [
            "\r 29%|██▉       | 147/500 [00:19<00:43,  8.05it/s]"
          ]
        },
        {
          "output_type": "stream",
          "name": "stdout",
          "text": [
            "epoch 146:  training loss:  0.43353182\n"
          ]
        },
        {
          "output_type": "stream",
          "name": "stderr",
          "text": [
            "\r 30%|██▉       | 148/500 [00:19<00:45,  7.82it/s]"
          ]
        },
        {
          "output_type": "stream",
          "name": "stdout",
          "text": [
            "epoch 147:  training loss:  0.43306252\n"
          ]
        },
        {
          "output_type": "stream",
          "name": "stderr",
          "text": [
            "\r 30%|██▉       | 149/500 [00:19<00:44,  7.83it/s]"
          ]
        },
        {
          "output_type": "stream",
          "name": "stdout",
          "text": [
            "epoch 148:  training loss:  0.41882885\n"
          ]
        },
        {
          "output_type": "stream",
          "name": "stderr",
          "text": [
            "\r 30%|███       | 150/500 [00:19<00:44,  7.88it/s]"
          ]
        },
        {
          "output_type": "stream",
          "name": "stdout",
          "text": [
            "epoch 149:  training loss:  0.42166498\n",
            "epoch 150:  training loss:  0.42172214\n"
          ]
        },
        {
          "output_type": "stream",
          "name": "stderr",
          "text": [
            "\r 30%|███       | 151/500 [00:20<00:55,  6.31it/s]"
          ]
        },
        {
          "output_type": "stream",
          "name": "stdout",
          "text": [
            "epoch 150:  training loss:  0.42172214 NDCG_validation:  0.3356190298478168\n"
          ]
        },
        {
          "output_type": "stream",
          "name": "stderr",
          "text": [
            "\r 30%|███       | 152/500 [00:20<00:51,  6.71it/s]"
          ]
        },
        {
          "output_type": "stream",
          "name": "stdout",
          "text": [
            "epoch 151:  training loss:  0.41882768\n"
          ]
        },
        {
          "output_type": "stream",
          "name": "stderr",
          "text": [
            "\r 31%|███       | 153/500 [00:20<00:48,  7.14it/s]"
          ]
        },
        {
          "output_type": "stream",
          "name": "stdout",
          "text": [
            "epoch 152:  training loss:  0.41859248\n"
          ]
        },
        {
          "output_type": "stream",
          "name": "stderr",
          "text": [
            "\r 31%|███       | 154/500 [00:20<00:46,  7.51it/s]"
          ]
        },
        {
          "output_type": "stream",
          "name": "stdout",
          "text": [
            "epoch 153:  training loss:  0.419222\n"
          ]
        },
        {
          "output_type": "stream",
          "name": "stderr",
          "text": [
            "\r 31%|███       | 155/500 [00:20<00:44,  7.70it/s]"
          ]
        },
        {
          "output_type": "stream",
          "name": "stdout",
          "text": [
            "epoch 154:  training loss:  0.41483957\n"
          ]
        },
        {
          "output_type": "stream",
          "name": "stderr",
          "text": [
            "\r 31%|███       | 156/500 [00:20<00:43,  7.92it/s]"
          ]
        },
        {
          "output_type": "stream",
          "name": "stdout",
          "text": [
            "epoch 155:  training loss:  0.418373\n"
          ]
        },
        {
          "output_type": "stream",
          "name": "stderr",
          "text": [
            "\r 31%|███▏      | 157/500 [00:20<00:42,  8.05it/s]"
          ]
        },
        {
          "output_type": "stream",
          "name": "stdout",
          "text": [
            "epoch 156:  training loss:  0.40870094\n"
          ]
        },
        {
          "output_type": "stream",
          "name": "stderr",
          "text": [
            "\r 32%|███▏      | 158/500 [00:21<00:42,  8.10it/s]"
          ]
        },
        {
          "output_type": "stream",
          "name": "stdout",
          "text": [
            "epoch 157:  training loss:  0.42690125\n"
          ]
        },
        {
          "output_type": "stream",
          "name": "stderr",
          "text": [
            "\r 32%|███▏      | 159/500 [00:21<00:41,  8.26it/s]"
          ]
        },
        {
          "output_type": "stream",
          "name": "stdout",
          "text": [
            "epoch 158:  training loss:  0.4223095\n"
          ]
        },
        {
          "output_type": "stream",
          "name": "stderr",
          "text": [
            "\r 32%|███▏      | 160/500 [00:21<00:40,  8.31it/s]"
          ]
        },
        {
          "output_type": "stream",
          "name": "stdout",
          "text": [
            "epoch 159:  training loss:  0.41532508\n",
            "epoch 160:  training loss:  0.40638602\n"
          ]
        },
        {
          "output_type": "stream",
          "name": "stderr",
          "text": [
            "\r 32%|███▏      | 161/500 [00:21<00:53,  6.29it/s]"
          ]
        },
        {
          "output_type": "stream",
          "name": "stdout",
          "text": [
            "epoch 160:  training loss:  0.40638602 NDCG_validation:  0.35356596051584815\n"
          ]
        },
        {
          "output_type": "stream",
          "name": "stderr",
          "text": [
            "\r 32%|███▏      | 162/500 [00:21<00:50,  6.75it/s]"
          ]
        },
        {
          "output_type": "stream",
          "name": "stdout",
          "text": [
            "epoch 161:  training loss:  0.41192383\n"
          ]
        },
        {
          "output_type": "stream",
          "name": "stderr",
          "text": [
            "\r 33%|███▎      | 163/500 [00:21<00:47,  7.06it/s]"
          ]
        },
        {
          "output_type": "stream",
          "name": "stdout",
          "text": [
            "epoch 162:  training loss:  0.41714677\n"
          ]
        },
        {
          "output_type": "stream",
          "name": "stderr",
          "text": [
            "\r 33%|███▎      | 164/500 [00:21<00:45,  7.39it/s]"
          ]
        },
        {
          "output_type": "stream",
          "name": "stdout",
          "text": [
            "epoch 163:  training loss:  0.39814538\n"
          ]
        },
        {
          "output_type": "stream",
          "name": "stderr",
          "text": [
            "\r 33%|███▎      | 165/500 [00:22<00:44,  7.61it/s]"
          ]
        },
        {
          "output_type": "stream",
          "name": "stdout",
          "text": [
            "epoch 164:  training loss:  0.41246843\n"
          ]
        },
        {
          "output_type": "stream",
          "name": "stderr",
          "text": [
            "\r 33%|███▎      | 166/500 [00:22<00:42,  7.85it/s]"
          ]
        },
        {
          "output_type": "stream",
          "name": "stdout",
          "text": [
            "epoch 165:  training loss:  0.39974013\n"
          ]
        },
        {
          "output_type": "stream",
          "name": "stderr",
          "text": [
            "\r 33%|███▎      | 167/500 [00:22<00:41,  8.00it/s]"
          ]
        },
        {
          "output_type": "stream",
          "name": "stdout",
          "text": [
            "epoch 166:  training loss:  0.39412084\n"
          ]
        },
        {
          "output_type": "stream",
          "name": "stderr",
          "text": [
            "\r 34%|███▎      | 168/500 [00:22<00:41,  8.07it/s]"
          ]
        },
        {
          "output_type": "stream",
          "name": "stdout",
          "text": [
            "epoch 167:  training loss:  0.4081501\n"
          ]
        },
        {
          "output_type": "stream",
          "name": "stderr",
          "text": [
            "\r 34%|███▍      | 169/500 [00:22<00:40,  8.16it/s]"
          ]
        },
        {
          "output_type": "stream",
          "name": "stdout",
          "text": [
            "epoch 168:  training loss:  0.3956179\n"
          ]
        },
        {
          "output_type": "stream",
          "name": "stderr",
          "text": [
            "\r 34%|███▍      | 170/500 [00:22<00:40,  8.23it/s]"
          ]
        },
        {
          "output_type": "stream",
          "name": "stdout",
          "text": [
            "epoch 169:  training loss:  0.38662305\n",
            "epoch 170:  training loss:  0.38827294\n"
          ]
        },
        {
          "output_type": "stream",
          "name": "stderr",
          "text": [
            "\r 34%|███▍      | 171/500 [00:22<00:51,  6.38it/s]"
          ]
        },
        {
          "output_type": "stream",
          "name": "stdout",
          "text": [
            "epoch 170:  training loss:  0.38827294 NDCG_validation:  0.35265072600567565\n"
          ]
        },
        {
          "output_type": "stream",
          "name": "stderr",
          "text": [
            "\r 34%|███▍      | 172/500 [00:22<00:48,  6.79it/s]"
          ]
        },
        {
          "output_type": "stream",
          "name": "stdout",
          "text": [
            "epoch 171:  training loss:  0.40189108\n"
          ]
        },
        {
          "output_type": "stream",
          "name": "stderr",
          "text": [
            "\r 35%|███▍      | 173/500 [00:23<00:45,  7.20it/s]"
          ]
        },
        {
          "output_type": "stream",
          "name": "stdout",
          "text": [
            "epoch 172:  training loss:  0.38806614\n"
          ]
        },
        {
          "output_type": "stream",
          "name": "stderr",
          "text": [
            "\r 35%|███▍      | 174/500 [00:23<00:43,  7.53it/s]"
          ]
        },
        {
          "output_type": "stream",
          "name": "stdout",
          "text": [
            "epoch 173:  training loss:  0.39761582\n"
          ]
        },
        {
          "output_type": "stream",
          "name": "stderr",
          "text": [
            "\r 35%|███▌      | 175/500 [00:23<00:42,  7.72it/s]"
          ]
        },
        {
          "output_type": "stream",
          "name": "stdout",
          "text": [
            "epoch 174:  training loss:  0.38647792\n"
          ]
        },
        {
          "output_type": "stream",
          "name": "stderr",
          "text": [
            "\r 35%|███▌      | 176/500 [00:23<00:40,  7.93it/s]"
          ]
        },
        {
          "output_type": "stream",
          "name": "stdout",
          "text": [
            "epoch 175:  training loss:  0.38633364\n"
          ]
        },
        {
          "output_type": "stream",
          "name": "stderr",
          "text": [
            "\r 35%|███▌      | 177/500 [00:23<00:40,  8.01it/s]"
          ]
        },
        {
          "output_type": "stream",
          "name": "stdout",
          "text": [
            "epoch 176:  training loss:  0.39028278\n"
          ]
        },
        {
          "output_type": "stream",
          "name": "stderr",
          "text": [
            "\r 36%|███▌      | 178/500 [00:23<00:39,  8.13it/s]"
          ]
        },
        {
          "output_type": "stream",
          "name": "stdout",
          "text": [
            "epoch 177:  training loss:  0.3905973\n"
          ]
        },
        {
          "output_type": "stream",
          "name": "stderr",
          "text": [
            "\r 36%|███▌      | 179/500 [00:23<00:39,  8.15it/s]"
          ]
        },
        {
          "output_type": "stream",
          "name": "stdout",
          "text": [
            "epoch 178:  training loss:  0.3845523\n"
          ]
        },
        {
          "output_type": "stream",
          "name": "stderr",
          "text": [
            "\r 36%|███▌      | 180/500 [00:23<00:39,  8.20it/s]"
          ]
        },
        {
          "output_type": "stream",
          "name": "stdout",
          "text": [
            "epoch 179:  training loss:  0.3778747\n",
            "epoch 180:  training loss:  0.3895671\n"
          ]
        },
        {
          "output_type": "stream",
          "name": "stderr",
          "text": [
            "\r 36%|███▌      | 181/500 [00:24<00:49,  6.40it/s]"
          ]
        },
        {
          "output_type": "stream",
          "name": "stdout",
          "text": [
            "epoch 180:  training loss:  0.3895671 NDCG_validation:  0.3443150418886055\n"
          ]
        },
        {
          "output_type": "stream",
          "name": "stderr",
          "text": [
            "\r 36%|███▋      | 182/500 [00:24<00:47,  6.71it/s]"
          ]
        },
        {
          "output_type": "stream",
          "name": "stdout",
          "text": [
            "epoch 181:  training loss:  0.3744874\n"
          ]
        },
        {
          "output_type": "stream",
          "name": "stderr",
          "text": [
            "\r 37%|███▋      | 183/500 [00:24<00:45,  7.01it/s]"
          ]
        },
        {
          "output_type": "stream",
          "name": "stdout",
          "text": [
            "epoch 182:  training loss:  0.36751315\n"
          ]
        },
        {
          "output_type": "stream",
          "name": "stderr",
          "text": [
            "\r 37%|███▋      | 184/500 [00:24<00:43,  7.30it/s]"
          ]
        },
        {
          "output_type": "stream",
          "name": "stdout",
          "text": [
            "epoch 183:  training loss:  0.36540943\n"
          ]
        },
        {
          "output_type": "stream",
          "name": "stderr",
          "text": [
            "\r 37%|███▋      | 185/500 [00:24<00:41,  7.60it/s]"
          ]
        },
        {
          "output_type": "stream",
          "name": "stdout",
          "text": [
            "epoch 184:  training loss:  0.36285895\n"
          ]
        },
        {
          "output_type": "stream",
          "name": "stderr",
          "text": [
            "\r 37%|███▋      | 186/500 [00:24<00:40,  7.70it/s]"
          ]
        },
        {
          "output_type": "stream",
          "name": "stdout",
          "text": [
            "epoch 185:  training loss:  0.39190674\n"
          ]
        },
        {
          "output_type": "stream",
          "name": "stderr",
          "text": [
            "\r 37%|███▋      | 187/500 [00:24<00:39,  7.90it/s]"
          ]
        },
        {
          "output_type": "stream",
          "name": "stdout",
          "text": [
            "epoch 186:  training loss:  0.36681765\n"
          ]
        },
        {
          "output_type": "stream",
          "name": "stderr",
          "text": [
            "\r 38%|███▊      | 188/500 [00:25<00:39,  7.93it/s]"
          ]
        },
        {
          "output_type": "stream",
          "name": "stdout",
          "text": [
            "epoch 187:  training loss:  0.3723237\n"
          ]
        },
        {
          "output_type": "stream",
          "name": "stderr",
          "text": [
            "\r 38%|███▊      | 189/500 [00:25<00:39,  7.92it/s]"
          ]
        },
        {
          "output_type": "stream",
          "name": "stdout",
          "text": [
            "epoch 188:  training loss:  0.3658642\n"
          ]
        },
        {
          "output_type": "stream",
          "name": "stderr",
          "text": [
            "\r 38%|███▊      | 190/500 [00:25<00:38,  8.06it/s]"
          ]
        },
        {
          "output_type": "stream",
          "name": "stdout",
          "text": [
            "epoch 189:  training loss:  0.3880809\n",
            "epoch 190:  training loss:  0.34943715\n"
          ]
        },
        {
          "output_type": "stream",
          "name": "stderr",
          "text": [
            "\r 38%|███▊      | 191/500 [00:25<00:48,  6.42it/s]"
          ]
        },
        {
          "output_type": "stream",
          "name": "stdout",
          "text": [
            "epoch 190:  training loss:  0.34943715 NDCG_validation:  0.33598455938781163\n"
          ]
        },
        {
          "output_type": "stream",
          "name": "stderr",
          "text": [
            "\r 38%|███▊      | 192/500 [00:25<00:45,  6.81it/s]"
          ]
        },
        {
          "output_type": "stream",
          "name": "stdout",
          "text": [
            "epoch 191:  training loss:  0.35802323\n"
          ]
        },
        {
          "output_type": "stream",
          "name": "stderr",
          "text": [
            "\r 39%|███▊      | 193/500 [00:25<00:43,  7.12it/s]"
          ]
        },
        {
          "output_type": "stream",
          "name": "stdout",
          "text": [
            "epoch 192:  training loss:  0.39681622\n"
          ]
        },
        {
          "output_type": "stream",
          "name": "stderr",
          "text": [
            "\r 39%|███▉      | 194/500 [00:25<00:40,  7.48it/s]"
          ]
        },
        {
          "output_type": "stream",
          "name": "stdout",
          "text": [
            "epoch 193:  training loss:  0.366903\n"
          ]
        },
        {
          "output_type": "stream",
          "name": "stderr",
          "text": [
            "\r 39%|███▉      | 195/500 [00:26<00:39,  7.65it/s]"
          ]
        },
        {
          "output_type": "stream",
          "name": "stdout",
          "text": [
            "epoch 194:  training loss:  0.37815797\n"
          ]
        },
        {
          "output_type": "stream",
          "name": "stderr",
          "text": [
            "\r 39%|███▉      | 196/500 [00:26<00:38,  7.80it/s]"
          ]
        },
        {
          "output_type": "stream",
          "name": "stdout",
          "text": [
            "epoch 195:  training loss:  0.36333036\n"
          ]
        },
        {
          "output_type": "stream",
          "name": "stderr",
          "text": [
            "\r 39%|███▉      | 197/500 [00:26<00:37,  7.99it/s]"
          ]
        },
        {
          "output_type": "stream",
          "name": "stdout",
          "text": [
            "epoch 196:  training loss:  0.35714212\n"
          ]
        },
        {
          "output_type": "stream",
          "name": "stderr",
          "text": [
            "\r 40%|███▉      | 198/500 [00:26<00:37,  8.09it/s]"
          ]
        },
        {
          "output_type": "stream",
          "name": "stdout",
          "text": [
            "epoch 197:  training loss:  0.3643026\n"
          ]
        },
        {
          "output_type": "stream",
          "name": "stderr",
          "text": [
            "\r 40%|███▉      | 199/500 [00:26<00:36,  8.18it/s]"
          ]
        },
        {
          "output_type": "stream",
          "name": "stdout",
          "text": [
            "epoch 198:  training loss:  0.38329017\n"
          ]
        },
        {
          "output_type": "stream",
          "name": "stderr",
          "text": [
            "\r 40%|████      | 200/500 [00:26<00:36,  8.11it/s]"
          ]
        },
        {
          "output_type": "stream",
          "name": "stdout",
          "text": [
            "epoch 199:  training loss:  0.36488113\n",
            "epoch 200:  training loss:  0.358003\n"
          ]
        },
        {
          "output_type": "stream",
          "name": "stderr",
          "text": [
            "\r 40%|████      | 201/500 [00:26<00:47,  6.27it/s]"
          ]
        },
        {
          "output_type": "stream",
          "name": "stdout",
          "text": [
            "epoch 200:  training loss:  0.358003 NDCG_validation:  0.33576832207914237\n"
          ]
        },
        {
          "output_type": "stream",
          "name": "stderr",
          "text": [
            "\r 40%|████      | 202/500 [00:27<00:44,  6.75it/s]"
          ]
        },
        {
          "output_type": "stream",
          "name": "stdout",
          "text": [
            "epoch 201:  training loss:  0.35284424\n"
          ]
        },
        {
          "output_type": "stream",
          "name": "stderr",
          "text": [
            "\r 41%|████      | 203/500 [00:27<00:41,  7.11it/s]"
          ]
        },
        {
          "output_type": "stream",
          "name": "stdout",
          "text": [
            "epoch 202:  training loss:  0.35500544\n"
          ]
        },
        {
          "output_type": "stream",
          "name": "stderr",
          "text": [
            "\r 41%|████      | 204/500 [00:27<00:40,  7.39it/s]"
          ]
        },
        {
          "output_type": "stream",
          "name": "stdout",
          "text": [
            "epoch 203:  training loss:  0.359664\n"
          ]
        },
        {
          "output_type": "stream",
          "name": "stderr",
          "text": [
            "\r 41%|████      | 205/500 [00:27<00:39,  7.52it/s]"
          ]
        },
        {
          "output_type": "stream",
          "name": "stdout",
          "text": [
            "epoch 204:  training loss:  0.35269448\n"
          ]
        },
        {
          "output_type": "stream",
          "name": "stderr",
          "text": [
            "\r 41%|████      | 206/500 [00:27<00:37,  7.80it/s]"
          ]
        },
        {
          "output_type": "stream",
          "name": "stdout",
          "text": [
            "epoch 205:  training loss:  0.34508052\n"
          ]
        },
        {
          "output_type": "stream",
          "name": "stderr",
          "text": [
            "\r 41%|████▏     | 207/500 [00:27<00:37,  7.89it/s]"
          ]
        },
        {
          "output_type": "stream",
          "name": "stdout",
          "text": [
            "epoch 206:  training loss:  0.34393305\n"
          ]
        },
        {
          "output_type": "stream",
          "name": "stderr",
          "text": [
            "\r 42%|████▏     | 208/500 [00:27<00:36,  8.03it/s]"
          ]
        },
        {
          "output_type": "stream",
          "name": "stdout",
          "text": [
            "epoch 207:  training loss:  0.34526333\n"
          ]
        },
        {
          "output_type": "stream",
          "name": "stderr",
          "text": [
            "\r 42%|████▏     | 209/500 [00:27<00:36,  7.99it/s]"
          ]
        },
        {
          "output_type": "stream",
          "name": "stdout",
          "text": [
            "epoch 208:  training loss:  0.35086113\n"
          ]
        },
        {
          "output_type": "stream",
          "name": "stderr",
          "text": [
            "\r 42%|████▏     | 210/500 [00:27<00:36,  7.97it/s]"
          ]
        },
        {
          "output_type": "stream",
          "name": "stdout",
          "text": [
            "epoch 209:  training loss:  0.34834817\n",
            "epoch 210:  training loss:  0.3491014\n"
          ]
        },
        {
          "output_type": "stream",
          "name": "stderr",
          "text": [
            "\r 42%|████▏     | 211/500 [00:28<00:45,  6.41it/s]"
          ]
        },
        {
          "output_type": "stream",
          "name": "stdout",
          "text": [
            "epoch 210:  training loss:  0.3491014 NDCG_validation:  0.34154518737506867\n"
          ]
        },
        {
          "output_type": "stream",
          "name": "stderr",
          "text": [
            "\r 42%|████▏     | 212/500 [00:28<00:41,  6.87it/s]"
          ]
        },
        {
          "output_type": "stream",
          "name": "stdout",
          "text": [
            "epoch 211:  training loss:  0.36468717\n"
          ]
        },
        {
          "output_type": "stream",
          "name": "stderr",
          "text": [
            "\r 43%|████▎     | 213/500 [00:28<00:39,  7.28it/s]"
          ]
        },
        {
          "output_type": "stream",
          "name": "stdout",
          "text": [
            "epoch 212:  training loss:  0.35540396\n"
          ]
        },
        {
          "output_type": "stream",
          "name": "stderr",
          "text": [
            "\r 43%|████▎     | 214/500 [00:28<00:37,  7.62it/s]"
          ]
        },
        {
          "output_type": "stream",
          "name": "stdout",
          "text": [
            "epoch 213:  training loss:  0.36473495\n"
          ]
        },
        {
          "output_type": "stream",
          "name": "stderr",
          "text": [
            "\r 43%|████▎     | 215/500 [00:28<00:37,  7.70it/s]"
          ]
        },
        {
          "output_type": "stream",
          "name": "stdout",
          "text": [
            "epoch 214:  training loss:  0.33700782\n"
          ]
        },
        {
          "output_type": "stream",
          "name": "stderr",
          "text": [
            "\r 43%|████▎     | 216/500 [00:28<00:36,  7.79it/s]"
          ]
        },
        {
          "output_type": "stream",
          "name": "stdout",
          "text": [
            "epoch 215:  training loss:  0.33832377\n"
          ]
        },
        {
          "output_type": "stream",
          "name": "stderr",
          "text": [
            "\r 43%|████▎     | 217/500 [00:28<00:35,  7.94it/s]"
          ]
        },
        {
          "output_type": "stream",
          "name": "stdout",
          "text": [
            "epoch 216:  training loss:  0.36871892\n"
          ]
        },
        {
          "output_type": "stream",
          "name": "stderr",
          "text": [
            "\r 44%|████▎     | 218/500 [00:29<00:35,  7.91it/s]"
          ]
        },
        {
          "output_type": "stream",
          "name": "stdout",
          "text": [
            "epoch 217:  training loss:  0.34225577\n"
          ]
        },
        {
          "output_type": "stream",
          "name": "stderr",
          "text": [
            "\r 44%|████▍     | 219/500 [00:29<00:35,  8.00it/s]"
          ]
        },
        {
          "output_type": "stream",
          "name": "stdout",
          "text": [
            "epoch 218:  training loss:  0.3295607\n"
          ]
        },
        {
          "output_type": "stream",
          "name": "stderr",
          "text": [
            "\r 44%|████▍     | 220/500 [00:29<00:34,  8.09it/s]"
          ]
        },
        {
          "output_type": "stream",
          "name": "stdout",
          "text": [
            "epoch 219:  training loss:  0.3497508\n",
            "epoch 220:  training loss:  0.32784876\n"
          ]
        },
        {
          "output_type": "stream",
          "name": "stderr",
          "text": [
            "\r 44%|████▍     | 221/500 [00:29<00:43,  6.42it/s]"
          ]
        },
        {
          "output_type": "stream",
          "name": "stdout",
          "text": [
            "epoch 220:  training loss:  0.32784876 NDCG_validation:  0.34647117212201917\n"
          ]
        },
        {
          "output_type": "stream",
          "name": "stderr",
          "text": [
            "\r 44%|████▍     | 222/500 [00:29<00:40,  6.82it/s]"
          ]
        },
        {
          "output_type": "stream",
          "name": "stdout",
          "text": [
            "epoch 221:  training loss:  0.32950008\n"
          ]
        },
        {
          "output_type": "stream",
          "name": "stderr",
          "text": [
            "\r 45%|████▍     | 223/500 [00:29<00:38,  7.16it/s]"
          ]
        },
        {
          "output_type": "stream",
          "name": "stdout",
          "text": [
            "epoch 222:  training loss:  0.3404096\n"
          ]
        },
        {
          "output_type": "stream",
          "name": "stderr",
          "text": [
            "\r 45%|████▍     | 224/500 [00:29<00:37,  7.35it/s]"
          ]
        },
        {
          "output_type": "stream",
          "name": "stdout",
          "text": [
            "epoch 223:  training loss:  0.32828087\n"
          ]
        },
        {
          "output_type": "stream",
          "name": "stderr",
          "text": [
            "\r 45%|████▌     | 225/500 [00:30<00:36,  7.52it/s]"
          ]
        },
        {
          "output_type": "stream",
          "name": "stdout",
          "text": [
            "epoch 224:  training loss:  0.3392448\n"
          ]
        },
        {
          "output_type": "stream",
          "name": "stderr",
          "text": [
            "\r 45%|████▌     | 226/500 [00:30<00:35,  7.66it/s]"
          ]
        },
        {
          "output_type": "stream",
          "name": "stdout",
          "text": [
            "epoch 225:  training loss:  0.32611704\n"
          ]
        },
        {
          "output_type": "stream",
          "name": "stderr",
          "text": [
            "\r 45%|████▌     | 227/500 [00:30<00:35,  7.76it/s]"
          ]
        },
        {
          "output_type": "stream",
          "name": "stdout",
          "text": [
            "epoch 226:  training loss:  0.34131327\n"
          ]
        },
        {
          "output_type": "stream",
          "name": "stderr",
          "text": [
            "\r 46%|████▌     | 228/500 [00:30<00:34,  7.85it/s]"
          ]
        },
        {
          "output_type": "stream",
          "name": "stdout",
          "text": [
            "epoch 227:  training loss:  0.32382292\n"
          ]
        },
        {
          "output_type": "stream",
          "name": "stderr",
          "text": [
            "\r 46%|████▌     | 229/500 [00:30<00:34,  7.91it/s]"
          ]
        },
        {
          "output_type": "stream",
          "name": "stdout",
          "text": [
            "epoch 228:  training loss:  0.3426643\n"
          ]
        },
        {
          "output_type": "stream",
          "name": "stderr",
          "text": [
            "\r 46%|████▌     | 230/500 [00:30<00:33,  8.03it/s]"
          ]
        },
        {
          "output_type": "stream",
          "name": "stdout",
          "text": [
            "epoch 229:  training loss:  0.32925615\n",
            "epoch 230:  training loss:  0.32902208\n"
          ]
        },
        {
          "output_type": "stream",
          "name": "stderr",
          "text": [
            "\r 46%|████▌     | 231/500 [00:30<00:42,  6.26it/s]"
          ]
        },
        {
          "output_type": "stream",
          "name": "stdout",
          "text": [
            "epoch 230:  training loss:  0.32902208 NDCG_validation:  0.3328341164108417\n"
          ]
        },
        {
          "output_type": "stream",
          "name": "stderr",
          "text": [
            "\r 46%|████▋     | 232/500 [00:31<00:40,  6.69it/s]"
          ]
        },
        {
          "output_type": "stream",
          "name": "stdout",
          "text": [
            "epoch 231:  training loss:  0.3353368\n"
          ]
        },
        {
          "output_type": "stream",
          "name": "stderr",
          "text": [
            "\r 47%|████▋     | 233/500 [00:31<00:37,  7.05it/s]"
          ]
        },
        {
          "output_type": "stream",
          "name": "stdout",
          "text": [
            "epoch 232:  training loss:  0.3304424\n"
          ]
        },
        {
          "output_type": "stream",
          "name": "stderr",
          "text": [
            "\r 47%|████▋     | 234/500 [00:31<00:36,  7.33it/s]"
          ]
        },
        {
          "output_type": "stream",
          "name": "stdout",
          "text": [
            "epoch 233:  training loss:  0.32318082\n"
          ]
        },
        {
          "output_type": "stream",
          "name": "stderr",
          "text": [
            "\r 47%|████▋     | 235/500 [00:31<00:35,  7.47it/s]"
          ]
        },
        {
          "output_type": "stream",
          "name": "stdout",
          "text": [
            "epoch 234:  training loss:  0.32386807\n"
          ]
        },
        {
          "output_type": "stream",
          "name": "stderr",
          "text": [
            "\r 47%|████▋     | 236/500 [00:31<00:34,  7.70it/s]"
          ]
        },
        {
          "output_type": "stream",
          "name": "stdout",
          "text": [
            "epoch 235:  training loss:  0.3283185\n"
          ]
        },
        {
          "output_type": "stream",
          "name": "stderr",
          "text": [
            "\r 47%|████▋     | 237/500 [00:31<00:33,  7.87it/s]"
          ]
        },
        {
          "output_type": "stream",
          "name": "stdout",
          "text": [
            "epoch 236:  training loss:  0.3357253\n"
          ]
        },
        {
          "output_type": "stream",
          "name": "stderr",
          "text": [
            "\r 48%|████▊     | 238/500 [00:31<00:32,  7.99it/s]"
          ]
        },
        {
          "output_type": "stream",
          "name": "stdout",
          "text": [
            "epoch 237:  training loss:  0.30507436\n"
          ]
        },
        {
          "output_type": "stream",
          "name": "stderr",
          "text": [
            "\r 48%|████▊     | 239/500 [00:31<00:32,  7.98it/s]"
          ]
        },
        {
          "output_type": "stream",
          "name": "stdout",
          "text": [
            "epoch 238:  training loss:  0.33246535\n"
          ]
        },
        {
          "output_type": "stream",
          "name": "stderr",
          "text": [
            "\r 48%|████▊     | 240/500 [00:32<00:32,  8.01it/s]"
          ]
        },
        {
          "output_type": "stream",
          "name": "stdout",
          "text": [
            "epoch 239:  training loss:  0.32294458\n",
            "epoch 240:  training loss:  0.31783926\n"
          ]
        },
        {
          "output_type": "stream",
          "name": "stderr",
          "text": [
            "\r 48%|████▊     | 241/500 [00:32<00:42,  6.10it/s]"
          ]
        },
        {
          "output_type": "stream",
          "name": "stdout",
          "text": [
            "epoch 240:  training loss:  0.31783926 NDCG_validation:  0.3455114135940347\n"
          ]
        },
        {
          "output_type": "stream",
          "name": "stderr",
          "text": [
            "\r 48%|████▊     | 242/500 [00:32<00:39,  6.53it/s]"
          ]
        },
        {
          "output_type": "stream",
          "name": "stdout",
          "text": [
            "epoch 241:  training loss:  0.32363507\n"
          ]
        },
        {
          "output_type": "stream",
          "name": "stderr",
          "text": [
            "\r 49%|████▊     | 243/500 [00:32<00:36,  6.97it/s]"
          ]
        },
        {
          "output_type": "stream",
          "name": "stdout",
          "text": [
            "epoch 242:  training loss:  0.30670792\n"
          ]
        },
        {
          "output_type": "stream",
          "name": "stderr",
          "text": [
            "\r 49%|████▉     | 244/500 [00:32<00:34,  7.35it/s]"
          ]
        },
        {
          "output_type": "stream",
          "name": "stdout",
          "text": [
            "epoch 243:  training loss:  0.36063698\n"
          ]
        },
        {
          "output_type": "stream",
          "name": "stderr",
          "text": [
            "\r 49%|████▉     | 245/500 [00:32<00:33,  7.58it/s]"
          ]
        },
        {
          "output_type": "stream",
          "name": "stdout",
          "text": [
            "epoch 244:  training loss:  0.32177648\n"
          ]
        },
        {
          "output_type": "stream",
          "name": "stderr",
          "text": [
            "\r 49%|████▉     | 246/500 [00:32<00:32,  7.70it/s]"
          ]
        },
        {
          "output_type": "stream",
          "name": "stdout",
          "text": [
            "epoch 245:  training loss:  0.3091068\n"
          ]
        },
        {
          "output_type": "stream",
          "name": "stderr",
          "text": [
            "\r 49%|████▉     | 247/500 [00:33<00:32,  7.79it/s]"
          ]
        },
        {
          "output_type": "stream",
          "name": "stdout",
          "text": [
            "epoch 246:  training loss:  0.31048593\n"
          ]
        },
        {
          "output_type": "stream",
          "name": "stderr",
          "text": [
            "\r 50%|████▉     | 248/500 [00:33<00:32,  7.82it/s]"
          ]
        },
        {
          "output_type": "stream",
          "name": "stdout",
          "text": [
            "epoch 247:  training loss:  0.30183545\n"
          ]
        },
        {
          "output_type": "stream",
          "name": "stderr",
          "text": [
            "\r 50%|████▉     | 249/500 [00:33<00:31,  7.97it/s]"
          ]
        },
        {
          "output_type": "stream",
          "name": "stdout",
          "text": [
            "epoch 248:  training loss:  0.3052042\n"
          ]
        },
        {
          "output_type": "stream",
          "name": "stderr",
          "text": [
            "\r 50%|█████     | 250/500 [00:33<00:31,  8.04it/s]"
          ]
        },
        {
          "output_type": "stream",
          "name": "stdout",
          "text": [
            "epoch 249:  training loss:  0.31236693\n",
            "epoch 250:  training loss:  0.28421304\n"
          ]
        },
        {
          "output_type": "stream",
          "name": "stderr",
          "text": [
            "\r 50%|█████     | 251/500 [00:33<00:39,  6.35it/s]"
          ]
        },
        {
          "output_type": "stream",
          "name": "stdout",
          "text": [
            "epoch 250:  training loss:  0.28421304 NDCG_validation:  0.34720765214047544\n"
          ]
        },
        {
          "output_type": "stream",
          "name": "stderr",
          "text": [
            "\r 50%|█████     | 252/500 [00:33<00:36,  6.80it/s]"
          ]
        },
        {
          "output_type": "stream",
          "name": "stdout",
          "text": [
            "epoch 251:  training loss:  0.29917997\n"
          ]
        },
        {
          "output_type": "stream",
          "name": "stderr",
          "text": [
            "\r 51%|█████     | 253/500 [00:33<00:34,  7.13it/s]"
          ]
        },
        {
          "output_type": "stream",
          "name": "stdout",
          "text": [
            "epoch 252:  training loss:  0.3018996\n"
          ]
        },
        {
          "output_type": "stream",
          "name": "stderr",
          "text": [
            "\r 51%|█████     | 254/500 [00:33<00:33,  7.34it/s]"
          ]
        },
        {
          "output_type": "stream",
          "name": "stdout",
          "text": [
            "epoch 253:  training loss:  0.3181927\n"
          ]
        },
        {
          "output_type": "stream",
          "name": "stderr",
          "text": [
            "\r 51%|█████     | 255/500 [00:34<00:32,  7.57it/s]"
          ]
        },
        {
          "output_type": "stream",
          "name": "stdout",
          "text": [
            "epoch 254:  training loss:  0.29089323\n"
          ]
        },
        {
          "output_type": "stream",
          "name": "stderr",
          "text": [
            "\r 51%|█████     | 256/500 [00:34<00:31,  7.80it/s]"
          ]
        },
        {
          "output_type": "stream",
          "name": "stdout",
          "text": [
            "epoch 255:  training loss:  0.2961136\n"
          ]
        },
        {
          "output_type": "stream",
          "name": "stderr",
          "text": [
            "\r 51%|█████▏    | 257/500 [00:34<00:31,  7.69it/s]"
          ]
        },
        {
          "output_type": "stream",
          "name": "stdout",
          "text": [
            "epoch 256:  training loss:  0.28762576\n"
          ]
        },
        {
          "output_type": "stream",
          "name": "stderr",
          "text": [
            "\r 52%|█████▏    | 258/500 [00:34<00:30,  7.85it/s]"
          ]
        },
        {
          "output_type": "stream",
          "name": "stdout",
          "text": [
            "epoch 257:  training loss:  0.32970372\n"
          ]
        },
        {
          "output_type": "stream",
          "name": "stderr",
          "text": [
            "\r 52%|█████▏    | 259/500 [00:34<00:30,  8.00it/s]"
          ]
        },
        {
          "output_type": "stream",
          "name": "stdout",
          "text": [
            "epoch 258:  training loss:  0.30531907\n"
          ]
        },
        {
          "output_type": "stream",
          "name": "stderr",
          "text": [
            "\r 52%|█████▏    | 260/500 [00:34<00:29,  8.07it/s]"
          ]
        },
        {
          "output_type": "stream",
          "name": "stdout",
          "text": [
            "epoch 259:  training loss:  0.28346446\n",
            "epoch 260:  training loss:  0.2930813\n"
          ]
        },
        {
          "output_type": "stream",
          "name": "stderr",
          "text": [
            "\r 52%|█████▏    | 261/500 [00:34<00:38,  6.26it/s]"
          ]
        },
        {
          "output_type": "stream",
          "name": "stdout",
          "text": [
            "epoch 260:  training loss:  0.2930813 NDCG_validation:  0.3522654818513569\n"
          ]
        },
        {
          "output_type": "stream",
          "name": "stderr",
          "text": [
            "\r 52%|█████▏    | 262/500 [00:35<00:35,  6.78it/s]"
          ]
        },
        {
          "output_type": "stream",
          "name": "stdout",
          "text": [
            "epoch 261:  training loss:  0.27934232\n"
          ]
        },
        {
          "output_type": "stream",
          "name": "stderr",
          "text": [
            "\r 53%|█████▎    | 263/500 [00:35<00:33,  7.10it/s]"
          ]
        },
        {
          "output_type": "stream",
          "name": "stdout",
          "text": [
            "epoch 262:  training loss:  0.27001333\n"
          ]
        },
        {
          "output_type": "stream",
          "name": "stderr",
          "text": [
            "\r 53%|█████▎    | 264/500 [00:35<00:31,  7.42it/s]"
          ]
        },
        {
          "output_type": "stream",
          "name": "stdout",
          "text": [
            "epoch 263:  training loss:  0.2878946\n"
          ]
        },
        {
          "output_type": "stream",
          "name": "stderr",
          "text": [
            "\r 53%|█████▎    | 265/500 [00:35<00:30,  7.68it/s]"
          ]
        },
        {
          "output_type": "stream",
          "name": "stdout",
          "text": [
            "epoch 264:  training loss:  0.2970299\n"
          ]
        },
        {
          "output_type": "stream",
          "name": "stderr",
          "text": [
            "\r 53%|█████▎    | 266/500 [00:35<00:30,  7.74it/s]"
          ]
        },
        {
          "output_type": "stream",
          "name": "stdout",
          "text": [
            "epoch 265:  training loss:  0.29188764\n"
          ]
        },
        {
          "output_type": "stream",
          "name": "stderr",
          "text": [
            "\r 53%|█████▎    | 267/500 [00:35<00:29,  7.87it/s]"
          ]
        },
        {
          "output_type": "stream",
          "name": "stdout",
          "text": [
            "epoch 266:  training loss:  0.26981226\n"
          ]
        },
        {
          "output_type": "stream",
          "name": "stderr",
          "text": [
            "\r 54%|█████▎    | 268/500 [00:35<00:29,  7.94it/s]"
          ]
        },
        {
          "output_type": "stream",
          "name": "stdout",
          "text": [
            "epoch 267:  training loss:  0.29833314\n"
          ]
        },
        {
          "output_type": "stream",
          "name": "stderr",
          "text": [
            "\r 54%|█████▍    | 269/500 [00:35<00:28,  8.05it/s]"
          ]
        },
        {
          "output_type": "stream",
          "name": "stdout",
          "text": [
            "epoch 268:  training loss:  0.28280693\n"
          ]
        },
        {
          "output_type": "stream",
          "name": "stderr",
          "text": [
            "\r 54%|█████▍    | 270/500 [00:36<00:28,  7.99it/s]"
          ]
        },
        {
          "output_type": "stream",
          "name": "stdout",
          "text": [
            "epoch 269:  training loss:  0.29794702\n",
            "epoch 270:  training loss:  0.28297788\n"
          ]
        },
        {
          "output_type": "stream",
          "name": "stderr",
          "text": [
            "\r 54%|█████▍    | 271/500 [00:36<00:35,  6.36it/s]"
          ]
        },
        {
          "output_type": "stream",
          "name": "stdout",
          "text": [
            "epoch 270:  training loss:  0.28297788 NDCG_validation:  0.3559136311495211\n"
          ]
        },
        {
          "output_type": "stream",
          "name": "stderr",
          "text": [
            "\r 54%|█████▍    | 272/500 [00:36<00:33,  6.79it/s]"
          ]
        },
        {
          "output_type": "stream",
          "name": "stdout",
          "text": [
            "epoch 271:  training loss:  0.29997912\n"
          ]
        },
        {
          "output_type": "stream",
          "name": "stderr",
          "text": [
            "\r 55%|█████▍    | 273/500 [00:36<00:31,  7.18it/s]"
          ]
        },
        {
          "output_type": "stream",
          "name": "stdout",
          "text": [
            "epoch 272:  training loss:  0.28073445\n"
          ]
        },
        {
          "output_type": "stream",
          "name": "stderr",
          "text": [
            "\r 55%|█████▍    | 274/500 [00:36<00:30,  7.45it/s]"
          ]
        },
        {
          "output_type": "stream",
          "name": "stdout",
          "text": [
            "epoch 273:  training loss:  0.26435453\n"
          ]
        },
        {
          "output_type": "stream",
          "name": "stderr",
          "text": [
            "\r 55%|█████▌    | 275/500 [00:36<00:29,  7.63it/s]"
          ]
        },
        {
          "output_type": "stream",
          "name": "stdout",
          "text": [
            "epoch 274:  training loss:  0.2727187\n"
          ]
        },
        {
          "output_type": "stream",
          "name": "stderr",
          "text": [
            "\r 55%|█████▌    | 276/500 [00:36<00:28,  7.76it/s]"
          ]
        },
        {
          "output_type": "stream",
          "name": "stdout",
          "text": [
            "epoch 275:  training loss:  0.27897456\n"
          ]
        },
        {
          "output_type": "stream",
          "name": "stderr",
          "text": [
            "\r 55%|█████▌    | 277/500 [00:37<00:29,  7.62it/s]"
          ]
        },
        {
          "output_type": "stream",
          "name": "stdout",
          "text": [
            "epoch 276:  training loss:  0.25303528\n"
          ]
        },
        {
          "output_type": "stream",
          "name": "stderr",
          "text": [
            "\r 56%|█████▌    | 278/500 [00:37<00:29,  7.64it/s]"
          ]
        },
        {
          "output_type": "stream",
          "name": "stdout",
          "text": [
            "epoch 277:  training loss:  0.29184788\n"
          ]
        },
        {
          "output_type": "stream",
          "name": "stderr",
          "text": [
            "\r 56%|█████▌    | 279/500 [00:37<00:28,  7.85it/s]"
          ]
        },
        {
          "output_type": "stream",
          "name": "stdout",
          "text": [
            "epoch 278:  training loss:  0.29044512\n"
          ]
        },
        {
          "output_type": "stream",
          "name": "stderr",
          "text": [
            "\r 56%|█████▌    | 280/500 [00:37<00:27,  7.97it/s]"
          ]
        },
        {
          "output_type": "stream",
          "name": "stdout",
          "text": [
            "epoch 279:  training loss:  0.2718829\n",
            "epoch 280:  training loss:  0.24727058\n"
          ]
        },
        {
          "output_type": "stream",
          "name": "stderr",
          "text": [
            "\r 56%|█████▌    | 281/500 [00:37<00:34,  6.29it/s]"
          ]
        },
        {
          "output_type": "stream",
          "name": "stdout",
          "text": [
            "epoch 280:  training loss:  0.24727058 NDCG_validation:  0.35178305660977416\n"
          ]
        },
        {
          "output_type": "stream",
          "name": "stderr",
          "text": [
            "\r 56%|█████▋    | 282/500 [00:37<00:32,  6.77it/s]"
          ]
        },
        {
          "output_type": "stream",
          "name": "stdout",
          "text": [
            "epoch 281:  training loss:  0.27279696\n"
          ]
        },
        {
          "output_type": "stream",
          "name": "stderr",
          "text": [
            "\r 57%|█████▋    | 283/500 [00:37<00:30,  7.08it/s]"
          ]
        },
        {
          "output_type": "stream",
          "name": "stdout",
          "text": [
            "epoch 282:  training loss:  0.26761064\n"
          ]
        },
        {
          "output_type": "stream",
          "name": "stderr",
          "text": [
            "\r 57%|█████▋    | 284/500 [00:38<00:29,  7.30it/s]"
          ]
        },
        {
          "output_type": "stream",
          "name": "stdout",
          "text": [
            "epoch 283:  training loss:  0.24743097\n"
          ]
        },
        {
          "output_type": "stream",
          "name": "stderr",
          "text": [
            "\r 57%|█████▋    | 285/500 [00:38<00:28,  7.48it/s]"
          ]
        },
        {
          "output_type": "stream",
          "name": "stdout",
          "text": [
            "epoch 284:  training loss:  0.2676191\n"
          ]
        },
        {
          "output_type": "stream",
          "name": "stderr",
          "text": [
            "\r 57%|█████▋    | 286/500 [00:38<00:28,  7.47it/s]"
          ]
        },
        {
          "output_type": "stream",
          "name": "stdout",
          "text": [
            "epoch 285:  training loss:  0.2788262\n"
          ]
        },
        {
          "output_type": "stream",
          "name": "stderr",
          "text": [
            "\r 57%|█████▋    | 287/500 [00:38<00:28,  7.60it/s]"
          ]
        },
        {
          "output_type": "stream",
          "name": "stdout",
          "text": [
            "epoch 286:  training loss:  0.25419348\n"
          ]
        },
        {
          "output_type": "stream",
          "name": "stderr",
          "text": [
            "\r 58%|█████▊    | 288/500 [00:38<00:27,  7.80it/s]"
          ]
        },
        {
          "output_type": "stream",
          "name": "stdout",
          "text": [
            "epoch 287:  training loss:  0.25017792\n"
          ]
        },
        {
          "output_type": "stream",
          "name": "stderr",
          "text": [
            "\r 58%|█████▊    | 289/500 [00:38<00:26,  7.92it/s]"
          ]
        },
        {
          "output_type": "stream",
          "name": "stdout",
          "text": [
            "epoch 288:  training loss:  0.26660174\n"
          ]
        },
        {
          "output_type": "stream",
          "name": "stderr",
          "text": [
            "\r 58%|█████▊    | 290/500 [00:38<00:26,  7.98it/s]"
          ]
        },
        {
          "output_type": "stream",
          "name": "stdout",
          "text": [
            "epoch 289:  training loss:  0.2698751\n",
            "epoch 290:  training loss:  0.2533049\n"
          ]
        },
        {
          "output_type": "stream",
          "name": "stderr",
          "text": [
            "\r 58%|█████▊    | 291/500 [00:39<00:33,  6.17it/s]"
          ]
        },
        {
          "output_type": "stream",
          "name": "stdout",
          "text": [
            "epoch 290:  training loss:  0.2533049 NDCG_validation:  0.35996717831460656\n"
          ]
        },
        {
          "output_type": "stream",
          "name": "stderr",
          "text": [
            "\r 58%|█████▊    | 292/500 [00:39<00:31,  6.59it/s]"
          ]
        },
        {
          "output_type": "stream",
          "name": "stdout",
          "text": [
            "epoch 291:  training loss:  0.25459704\n"
          ]
        },
        {
          "output_type": "stream",
          "name": "stderr",
          "text": [
            "\r 59%|█████▊    | 293/500 [00:39<00:29,  6.96it/s]"
          ]
        },
        {
          "output_type": "stream",
          "name": "stdout",
          "text": [
            "epoch 292:  training loss:  0.26226237\n"
          ]
        },
        {
          "output_type": "stream",
          "name": "stderr",
          "text": [
            "\r 59%|█████▉    | 294/500 [00:39<00:28,  7.29it/s]"
          ]
        },
        {
          "output_type": "stream",
          "name": "stdout",
          "text": [
            "epoch 293:  training loss:  0.28504482\n"
          ]
        },
        {
          "output_type": "stream",
          "name": "stderr",
          "text": [
            "\r 59%|█████▉    | 295/500 [00:39<00:27,  7.54it/s]"
          ]
        },
        {
          "output_type": "stream",
          "name": "stdout",
          "text": [
            "epoch 294:  training loss:  0.2720314\n"
          ]
        },
        {
          "output_type": "stream",
          "name": "stderr",
          "text": [
            "\r 59%|█████▉    | 296/500 [00:39<00:26,  7.66it/s]"
          ]
        },
        {
          "output_type": "stream",
          "name": "stdout",
          "text": [
            "epoch 295:  training loss:  0.25399777\n"
          ]
        },
        {
          "output_type": "stream",
          "name": "stderr",
          "text": [
            "\r 59%|█████▉    | 297/500 [00:39<00:26,  7.79it/s]"
          ]
        },
        {
          "output_type": "stream",
          "name": "stdout",
          "text": [
            "epoch 296:  training loss:  0.24204376\n"
          ]
        },
        {
          "output_type": "stream",
          "name": "stderr",
          "text": [
            "\r 60%|█████▉    | 298/500 [00:39<00:25,  7.95it/s]"
          ]
        },
        {
          "output_type": "stream",
          "name": "stdout",
          "text": [
            "epoch 297:  training loss:  0.2371486\n"
          ]
        },
        {
          "output_type": "stream",
          "name": "stderr",
          "text": [
            "\r 60%|█████▉    | 299/500 [00:40<00:25,  7.95it/s]"
          ]
        },
        {
          "output_type": "stream",
          "name": "stdout",
          "text": [
            "epoch 298:  training loss:  0.26255572\n"
          ]
        },
        {
          "output_type": "stream",
          "name": "stderr",
          "text": [
            "\r 60%|██████    | 300/500 [00:40<00:25,  7.95it/s]"
          ]
        },
        {
          "output_type": "stream",
          "name": "stdout",
          "text": [
            "epoch 299:  training loss:  0.24957989\n",
            "epoch 300:  training loss:  0.27948648\n"
          ]
        },
        {
          "output_type": "stream",
          "name": "stderr",
          "text": [
            "\r 60%|██████    | 301/500 [00:40<00:32,  6.20it/s]"
          ]
        },
        {
          "output_type": "stream",
          "name": "stdout",
          "text": [
            "epoch 300:  training loss:  0.27948648 NDCG_validation:  0.35625435128602806\n"
          ]
        },
        {
          "output_type": "stream",
          "name": "stderr",
          "text": [
            "\r 60%|██████    | 302/500 [00:40<00:29,  6.66it/s]"
          ]
        },
        {
          "output_type": "stream",
          "name": "stdout",
          "text": [
            "epoch 301:  training loss:  0.2644188\n"
          ]
        },
        {
          "output_type": "stream",
          "name": "stderr",
          "text": [
            "\r 61%|██████    | 303/500 [00:40<00:27,  7.06it/s]"
          ]
        },
        {
          "output_type": "stream",
          "name": "stdout",
          "text": [
            "epoch 302:  training loss:  0.25404269\n"
          ]
        },
        {
          "output_type": "stream",
          "name": "stderr",
          "text": [
            "\r 61%|██████    | 304/500 [00:40<00:26,  7.36it/s]"
          ]
        },
        {
          "output_type": "stream",
          "name": "stdout",
          "text": [
            "epoch 303:  training loss:  0.2792598\n"
          ]
        },
        {
          "output_type": "stream",
          "name": "stderr",
          "text": [
            "\r 61%|██████    | 305/500 [00:40<00:26,  7.27it/s]"
          ]
        },
        {
          "output_type": "stream",
          "name": "stdout",
          "text": [
            "epoch 304:  training loss:  0.24413507\n"
          ]
        },
        {
          "output_type": "stream",
          "name": "stderr",
          "text": [
            "\r 61%|██████    | 306/500 [00:41<00:25,  7.50it/s]"
          ]
        },
        {
          "output_type": "stream",
          "name": "stdout",
          "text": [
            "epoch 305:  training loss:  0.22886217\n"
          ]
        },
        {
          "output_type": "stream",
          "name": "stderr",
          "text": [
            "\r 61%|██████▏   | 307/500 [00:41<00:25,  7.55it/s]"
          ]
        },
        {
          "output_type": "stream",
          "name": "stdout",
          "text": [
            "epoch 306:  training loss:  0.21089317\n"
          ]
        },
        {
          "output_type": "stream",
          "name": "stderr",
          "text": [
            "\r 62%|██████▏   | 308/500 [00:41<00:24,  7.74it/s]"
          ]
        },
        {
          "output_type": "stream",
          "name": "stdout",
          "text": [
            "epoch 307:  training loss:  0.25012115\n"
          ]
        },
        {
          "output_type": "stream",
          "name": "stderr",
          "text": [
            "\r 62%|██████▏   | 309/500 [00:41<00:24,  7.76it/s]"
          ]
        },
        {
          "output_type": "stream",
          "name": "stdout",
          "text": [
            "epoch 308:  training loss:  0.2173666\n"
          ]
        },
        {
          "output_type": "stream",
          "name": "stderr",
          "text": [
            "\r 62%|██████▏   | 310/500 [00:41<00:24,  7.91it/s]"
          ]
        },
        {
          "output_type": "stream",
          "name": "stdout",
          "text": [
            "epoch 309:  training loss:  0.25500688\n",
            "epoch 310:  training loss:  0.25942048\n"
          ]
        },
        {
          "output_type": "stream",
          "name": "stderr",
          "text": [
            "\r 62%|██████▏   | 311/500 [00:41<00:30,  6.30it/s]"
          ]
        },
        {
          "output_type": "stream",
          "name": "stdout",
          "text": [
            "epoch 310:  training loss:  0.25942048 NDCG_validation:  0.34989084129437886\n"
          ]
        },
        {
          "output_type": "stream",
          "name": "stderr",
          "text": [
            "\r 62%|██████▏   | 312/500 [00:41<00:27,  6.74it/s]"
          ]
        },
        {
          "output_type": "stream",
          "name": "stdout",
          "text": [
            "epoch 311:  training loss:  0.23844552\n"
          ]
        },
        {
          "output_type": "stream",
          "name": "stderr",
          "text": [
            "\r 63%|██████▎   | 313/500 [00:42<00:26,  7.13it/s]"
          ]
        },
        {
          "output_type": "stream",
          "name": "stdout",
          "text": [
            "epoch 312:  training loss:  0.25674215\n"
          ]
        },
        {
          "output_type": "stream",
          "name": "stderr",
          "text": [
            "\r 63%|██████▎   | 314/500 [00:42<00:25,  7.30it/s]"
          ]
        },
        {
          "output_type": "stream",
          "name": "stdout",
          "text": [
            "epoch 313:  training loss:  0.21186303\n"
          ]
        },
        {
          "output_type": "stream",
          "name": "stderr",
          "text": [
            "\r 63%|██████▎   | 315/500 [00:42<00:24,  7.52it/s]"
          ]
        },
        {
          "output_type": "stream",
          "name": "stdout",
          "text": [
            "epoch 314:  training loss:  0.21024197\n"
          ]
        },
        {
          "output_type": "stream",
          "name": "stderr",
          "text": [
            "\r 63%|██████▎   | 316/500 [00:42<00:23,  7.67it/s]"
          ]
        },
        {
          "output_type": "stream",
          "name": "stdout",
          "text": [
            "epoch 315:  training loss:  0.2348863\n"
          ]
        },
        {
          "output_type": "stream",
          "name": "stderr",
          "text": [
            "\r 63%|██████▎   | 317/500 [00:42<00:23,  7.77it/s]"
          ]
        },
        {
          "output_type": "stream",
          "name": "stdout",
          "text": [
            "epoch 316:  training loss:  0.22061835\n"
          ]
        },
        {
          "output_type": "stream",
          "name": "stderr",
          "text": [
            "\r 64%|██████▎   | 318/500 [00:42<00:22,  7.93it/s]"
          ]
        },
        {
          "output_type": "stream",
          "name": "stdout",
          "text": [
            "epoch 317:  training loss:  0.24190982\n"
          ]
        },
        {
          "output_type": "stream",
          "name": "stderr",
          "text": [
            "\r 64%|██████▍   | 319/500 [00:42<00:22,  8.03it/s]"
          ]
        },
        {
          "output_type": "stream",
          "name": "stdout",
          "text": [
            "epoch 318:  training loss:  0.22269177\n"
          ]
        },
        {
          "output_type": "stream",
          "name": "stderr",
          "text": [
            "\r 64%|██████▍   | 320/500 [00:42<00:22,  8.17it/s]"
          ]
        },
        {
          "output_type": "stream",
          "name": "stdout",
          "text": [
            "epoch 319:  training loss:  0.21353959\n",
            "epoch 320:  training loss:  0.21623264\n"
          ]
        },
        {
          "output_type": "stream",
          "name": "stderr",
          "text": [
            "\r 64%|██████▍   | 321/500 [00:43<00:29,  6.17it/s]"
          ]
        },
        {
          "output_type": "stream",
          "name": "stdout",
          "text": [
            "epoch 320:  training loss:  0.21623264 NDCG_validation:  0.3452627825896108\n"
          ]
        },
        {
          "output_type": "stream",
          "name": "stderr",
          "text": [
            "\r 64%|██████▍   | 322/500 [00:43<00:26,  6.65it/s]"
          ]
        },
        {
          "output_type": "stream",
          "name": "stdout",
          "text": [
            "epoch 321:  training loss:  0.25940174\n"
          ]
        },
        {
          "output_type": "stream",
          "name": "stderr",
          "text": [
            "\r 65%|██████▍   | 323/500 [00:43<00:25,  7.07it/s]"
          ]
        },
        {
          "output_type": "stream",
          "name": "stdout",
          "text": [
            "epoch 322:  training loss:  0.21490328\n"
          ]
        },
        {
          "output_type": "stream",
          "name": "stderr",
          "text": [
            "\r 65%|██████▍   | 324/500 [00:43<00:23,  7.35it/s]"
          ]
        },
        {
          "output_type": "stream",
          "name": "stdout",
          "text": [
            "epoch 323:  training loss:  0.2204213\n"
          ]
        },
        {
          "output_type": "stream",
          "name": "stderr",
          "text": [
            "\r 65%|██████▌   | 325/500 [00:43<00:22,  7.62it/s]"
          ]
        },
        {
          "output_type": "stream",
          "name": "stdout",
          "text": [
            "epoch 324:  training loss:  0.24043962\n"
          ]
        },
        {
          "output_type": "stream",
          "name": "stderr",
          "text": [
            "\r 65%|██████▌   | 326/500 [00:43<00:22,  7.72it/s]"
          ]
        },
        {
          "output_type": "stream",
          "name": "stdout",
          "text": [
            "epoch 325:  training loss:  0.24197038\n"
          ]
        },
        {
          "output_type": "stream",
          "name": "stderr",
          "text": [
            "\r 65%|██████▌   | 327/500 [00:43<00:22,  7.75it/s]"
          ]
        },
        {
          "output_type": "stream",
          "name": "stdout",
          "text": [
            "epoch 326:  training loss:  0.21656494\n"
          ]
        },
        {
          "output_type": "stream",
          "name": "stderr",
          "text": [
            "\r 66%|██████▌   | 328/500 [00:44<00:22,  7.71it/s]"
          ]
        },
        {
          "output_type": "stream",
          "name": "stdout",
          "text": [
            "epoch 327:  training loss:  0.22207478\n"
          ]
        },
        {
          "output_type": "stream",
          "name": "stderr",
          "text": [
            "\r 66%|██████▌   | 329/500 [00:44<00:21,  7.83it/s]"
          ]
        },
        {
          "output_type": "stream",
          "name": "stdout",
          "text": [
            "epoch 328:  training loss:  0.22615996\n"
          ]
        },
        {
          "output_type": "stream",
          "name": "stderr",
          "text": [
            "\r 66%|██████▌   | 330/500 [00:44<00:21,  7.76it/s]"
          ]
        },
        {
          "output_type": "stream",
          "name": "stdout",
          "text": [
            "epoch 329:  training loss:  0.23458005\n",
            "epoch 330:  training loss:  0.21220139\n"
          ]
        },
        {
          "output_type": "stream",
          "name": "stderr",
          "text": [
            " 66%|██████▋   | 332/500 [00:45<00:39,  4.28it/s]"
          ]
        },
        {
          "output_type": "stream",
          "name": "stdout",
          "text": [
            "epoch 330:  training loss:  0.21220139 NDCG_validation:  0.3569208451306815\n",
            "epoch 331:  training loss:  0.2105906\n"
          ]
        },
        {
          "output_type": "stream",
          "name": "stderr",
          "text": [
            " 67%|██████▋   | 334/500 [00:45<00:29,  5.60it/s]"
          ]
        },
        {
          "output_type": "stream",
          "name": "stdout",
          "text": [
            "epoch 332:  training loss:  0.22975983\n",
            "epoch 333:  training loss:  0.24233924\n"
          ]
        },
        {
          "output_type": "stream",
          "name": "stderr",
          "text": [
            " 67%|██████▋   | 336/500 [00:45<00:24,  6.60it/s]"
          ]
        },
        {
          "output_type": "stream",
          "name": "stdout",
          "text": [
            "epoch 334:  training loss:  0.212482\n",
            "epoch 335:  training loss:  0.19151954\n"
          ]
        },
        {
          "output_type": "stream",
          "name": "stderr",
          "text": [
            " 68%|██████▊   | 338/500 [00:45<00:21,  7.37it/s]"
          ]
        },
        {
          "output_type": "stream",
          "name": "stdout",
          "text": [
            "epoch 336:  training loss:  0.25870687\n",
            "epoch 337:  training loss:  0.22274862\n"
          ]
        },
        {
          "output_type": "stream",
          "name": "stderr",
          "text": [
            " 68%|██████▊   | 340/500 [00:46<00:20,  7.73it/s]"
          ]
        },
        {
          "output_type": "stream",
          "name": "stdout",
          "text": [
            "epoch 338:  training loss:  0.18860354\n",
            "epoch 339:  training loss:  0.19300339\n"
          ]
        },
        {
          "output_type": "stream",
          "name": "stderr",
          "text": [
            "\r 68%|██████▊   | 341/500 [00:46<00:26,  6.10it/s]"
          ]
        },
        {
          "output_type": "stream",
          "name": "stdout",
          "text": [
            "epoch 340:  training loss:  0.22245707\n",
            "epoch 340:  training loss:  0.22245707 NDCG_validation:  0.3693743178789556\n"
          ]
        },
        {
          "output_type": "stream",
          "name": "stderr",
          "text": [
            " 69%|██████▊   | 343/500 [00:46<00:22,  7.04it/s]"
          ]
        },
        {
          "output_type": "stream",
          "name": "stdout",
          "text": [
            "epoch 341:  training loss:  0.22030586\n",
            "epoch 342:  training loss:  0.22228009\n"
          ]
        },
        {
          "output_type": "stream",
          "name": "stderr",
          "text": [
            " 69%|██████▉   | 345/500 [00:46<00:20,  7.64it/s]"
          ]
        },
        {
          "output_type": "stream",
          "name": "stdout",
          "text": [
            "epoch 343:  training loss:  0.2217087\n",
            "epoch 344:  training loss:  0.19450293\n"
          ]
        },
        {
          "output_type": "stream",
          "name": "stderr",
          "text": [
            " 69%|██████▉   | 347/500 [00:46<00:19,  7.94it/s]"
          ]
        },
        {
          "output_type": "stream",
          "name": "stdout",
          "text": [
            "epoch 345:  training loss:  0.20065944\n",
            "epoch 346:  training loss:  0.19371349\n"
          ]
        },
        {
          "output_type": "stream",
          "name": "stderr",
          "text": [
            " 70%|██████▉   | 349/500 [00:47<00:19,  7.90it/s]"
          ]
        },
        {
          "output_type": "stream",
          "name": "stdout",
          "text": [
            "epoch 347:  training loss:  0.20278244\n",
            "epoch 348:  training loss:  0.23584133\n"
          ]
        },
        {
          "output_type": "stream",
          "name": "stderr",
          "text": [
            "\r 70%|███████   | 350/500 [00:47<00:19,  7.87it/s]"
          ]
        },
        {
          "output_type": "stream",
          "name": "stdout",
          "text": [
            "epoch 349:  training loss:  0.2252407\n",
            "epoch 350:  training loss:  0.19607025\n"
          ]
        },
        {
          "output_type": "stream",
          "name": "stderr",
          "text": [
            " 70%|███████   | 352/500 [00:47<00:21,  6.87it/s]"
          ]
        },
        {
          "output_type": "stream",
          "name": "stdout",
          "text": [
            "epoch 350:  training loss:  0.19607025 NDCG_validation:  0.36644997235179977\n",
            "epoch 351:  training loss:  0.19740139\n"
          ]
        },
        {
          "output_type": "stream",
          "name": "stderr",
          "text": [
            " 71%|███████   | 354/500 [00:47<00:19,  7.57it/s]"
          ]
        },
        {
          "output_type": "stream",
          "name": "stdout",
          "text": [
            "epoch 352:  training loss:  0.23058283\n",
            "epoch 353:  training loss:  0.18665028\n"
          ]
        },
        {
          "output_type": "stream",
          "name": "stderr",
          "text": [
            " 71%|███████   | 356/500 [00:48<00:18,  7.76it/s]"
          ]
        },
        {
          "output_type": "stream",
          "name": "stdout",
          "text": [
            "epoch 354:  training loss:  0.17805813\n",
            "epoch 355:  training loss:  0.2036462\n"
          ]
        },
        {
          "output_type": "stream",
          "name": "stderr",
          "text": [
            " 72%|███████▏  | 358/500 [00:48<00:18,  7.88it/s]"
          ]
        },
        {
          "output_type": "stream",
          "name": "stdout",
          "text": [
            "epoch 356:  training loss:  0.205263\n",
            "epoch 357:  training loss:  0.18696469\n"
          ]
        },
        {
          "output_type": "stream",
          "name": "stderr",
          "text": [
            " 72%|███████▏  | 360/500 [00:48<00:17,  8.10it/s]"
          ]
        },
        {
          "output_type": "stream",
          "name": "stdout",
          "text": [
            "epoch 358:  training loss:  0.21909444\n",
            "epoch 359:  training loss:  0.19415358\n"
          ]
        },
        {
          "output_type": "stream",
          "name": "stderr",
          "text": [
            "\r 72%|███████▏  | 361/500 [00:48<00:21,  6.40it/s]"
          ]
        },
        {
          "output_type": "stream",
          "name": "stdout",
          "text": [
            "epoch 360:  training loss:  0.18067299\n",
            "epoch 360:  training loss:  0.18067299 NDCG_validation:  0.365898104027822\n"
          ]
        },
        {
          "output_type": "stream",
          "name": "stderr",
          "text": [
            " 73%|███████▎  | 363/500 [00:49<00:18,  7.25it/s]"
          ]
        },
        {
          "output_type": "stream",
          "name": "stdout",
          "text": [
            "epoch 361:  training loss:  0.23344254\n",
            "epoch 362:  training loss:  0.17743158\n"
          ]
        },
        {
          "output_type": "stream",
          "name": "stderr",
          "text": [
            " 73%|███████▎  | 365/500 [00:49<00:17,  7.58it/s]"
          ]
        },
        {
          "output_type": "stream",
          "name": "stdout",
          "text": [
            "epoch 363:  training loss:  0.18272631\n",
            "epoch 364:  training loss:  0.17795794\n"
          ]
        },
        {
          "output_type": "stream",
          "name": "stderr",
          "text": [
            " 73%|███████▎  | 367/500 [00:49<00:16,  7.90it/s]"
          ]
        },
        {
          "output_type": "stream",
          "name": "stdout",
          "text": [
            "epoch 365:  training loss:  0.19615966\n",
            "epoch 366:  training loss:  0.17442496\n"
          ]
        },
        {
          "output_type": "stream",
          "name": "stderr",
          "text": [
            " 74%|███████▍  | 369/500 [00:49<00:16,  8.00it/s]"
          ]
        },
        {
          "output_type": "stream",
          "name": "stdout",
          "text": [
            "epoch 367:  training loss:  0.17282544\n",
            "epoch 368:  training loss:  0.17807975\n"
          ]
        },
        {
          "output_type": "stream",
          "name": "stderr",
          "text": [
            "\r 74%|███████▍  | 370/500 [00:50<00:16,  7.98it/s]"
          ]
        },
        {
          "output_type": "stream",
          "name": "stdout",
          "text": [
            "epoch 369:  training loss:  0.1792836\n",
            "epoch 370:  training loss:  0.18893155\n"
          ]
        },
        {
          "output_type": "stream",
          "name": "stderr",
          "text": [
            " 74%|███████▍  | 372/500 [00:50<00:19,  6.57it/s]"
          ]
        },
        {
          "output_type": "stream",
          "name": "stdout",
          "text": [
            "epoch 370:  training loss:  0.18893155 NDCG_validation:  0.36607447584354796\n",
            "epoch 371:  training loss:  0.17918816\n"
          ]
        },
        {
          "output_type": "stream",
          "name": "stderr",
          "text": [
            " 75%|███████▍  | 374/500 [00:50<00:17,  7.28it/s]"
          ]
        },
        {
          "output_type": "stream",
          "name": "stdout",
          "text": [
            "epoch 372:  training loss:  0.18247591\n",
            "epoch 373:  training loss:  0.16266203\n"
          ]
        },
        {
          "output_type": "stream",
          "name": "stderr",
          "text": [
            " 75%|███████▌  | 376/500 [00:50<00:15,  7.84it/s]"
          ]
        },
        {
          "output_type": "stream",
          "name": "stdout",
          "text": [
            "epoch 374:  training loss:  0.20574726\n",
            "epoch 375:  training loss:  0.20548664\n"
          ]
        },
        {
          "output_type": "stream",
          "name": "stderr",
          "text": [
            " 76%|███████▌  | 378/500 [00:51<00:15,  8.12it/s]"
          ]
        },
        {
          "output_type": "stream",
          "name": "stdout",
          "text": [
            "epoch 376:  training loss:  0.25378475\n",
            "epoch 377:  training loss:  0.20997635\n"
          ]
        },
        {
          "output_type": "stream",
          "name": "stderr",
          "text": [
            " 76%|███████▌  | 380/500 [00:51<00:15,  7.95it/s]"
          ]
        },
        {
          "output_type": "stream",
          "name": "stdout",
          "text": [
            "epoch 378:  training loss:  0.20375271\n",
            "epoch 379:  training loss:  0.1642967\n"
          ]
        },
        {
          "output_type": "stream",
          "name": "stderr",
          "text": [
            "\r 76%|███████▌  | 381/500 [00:51<00:18,  6.37it/s]"
          ]
        },
        {
          "output_type": "stream",
          "name": "stdout",
          "text": [
            "epoch 380:  training loss:  0.15722056\n",
            "epoch 380:  training loss:  0.15722056 NDCG_validation:  0.3801299346523797\n"
          ]
        },
        {
          "output_type": "stream",
          "name": "stderr",
          "text": [
            " 77%|███████▋  | 383/500 [00:51<00:16,  7.20it/s]"
          ]
        },
        {
          "output_type": "stream",
          "name": "stdout",
          "text": [
            "epoch 381:  training loss:  0.17252594\n",
            "epoch 382:  training loss:  0.18942589\n"
          ]
        },
        {
          "output_type": "stream",
          "name": "stderr",
          "text": [
            " 77%|███████▋  | 385/500 [00:52<00:15,  7.65it/s]"
          ]
        },
        {
          "output_type": "stream",
          "name": "stdout",
          "text": [
            "epoch 383:  training loss:  0.16620429\n",
            "epoch 384:  training loss:  0.18514347\n"
          ]
        },
        {
          "output_type": "stream",
          "name": "stderr",
          "text": [
            " 77%|███████▋  | 387/500 [00:52<00:14,  7.64it/s]"
          ]
        },
        {
          "output_type": "stream",
          "name": "stdout",
          "text": [
            "epoch 385:  training loss:  0.15128964\n",
            "epoch 386:  training loss:  0.13550961\n"
          ]
        },
        {
          "output_type": "stream",
          "name": "stderr",
          "text": [
            " 78%|███████▊  | 389/500 [00:52<00:13,  7.94it/s]"
          ]
        },
        {
          "output_type": "stream",
          "name": "stdout",
          "text": [
            "epoch 387:  training loss:  0.15602729\n",
            "epoch 388:  training loss:  0.1419716\n"
          ]
        },
        {
          "output_type": "stream",
          "name": "stderr",
          "text": [
            "\r 78%|███████▊  | 390/500 [00:52<00:13,  7.99it/s]"
          ]
        },
        {
          "output_type": "stream",
          "name": "stdout",
          "text": [
            "epoch 389:  training loss:  0.15607876\n",
            "epoch 390:  training loss:  0.17994298\n"
          ]
        },
        {
          "output_type": "stream",
          "name": "stderr",
          "text": [
            " 78%|███████▊  | 392/500 [00:53<00:15,  6.81it/s]"
          ]
        },
        {
          "output_type": "stream",
          "name": "stdout",
          "text": [
            "epoch 390:  training loss:  0.17994298 NDCG_validation:  0.3750865082784506\n",
            "epoch 391:  training loss:  0.16986358\n"
          ]
        },
        {
          "output_type": "stream",
          "name": "stderr",
          "text": [
            " 79%|███████▉  | 394/500 [00:53<00:14,  7.26it/s]"
          ]
        },
        {
          "output_type": "stream",
          "name": "stdout",
          "text": [
            "epoch 392:  training loss:  0.14714254\n",
            "epoch 393:  training loss:  0.22409931\n"
          ]
        },
        {
          "output_type": "stream",
          "name": "stderr",
          "text": [
            "\r 79%|███████▉  | 395/500 [00:53<00:14,  7.41it/s]"
          ]
        },
        {
          "output_type": "stream",
          "name": "stdout",
          "text": [
            "epoch 394:  training loss:  0.15249833\n"
          ]
        },
        {
          "output_type": "stream",
          "name": "stderr",
          "text": [
            "\r 79%|███████▉  | 396/500 [00:53<00:19,  5.44it/s]"
          ]
        },
        {
          "output_type": "stream",
          "name": "stdout",
          "text": [
            "epoch 395:  training loss:  0.17568919\n"
          ]
        },
        {
          "output_type": "stream",
          "name": "stderr",
          "text": [
            " 80%|███████▉  | 398/500 [00:54<00:20,  4.90it/s]"
          ]
        },
        {
          "output_type": "stream",
          "name": "stdout",
          "text": [
            "epoch 396:  training loss:  0.15086418\n",
            "epoch 397:  training loss:  0.13100709\n"
          ]
        },
        {
          "output_type": "stream",
          "name": "stderr",
          "text": [
            " 80%|████████  | 400/500 [00:54<00:16,  6.01it/s]"
          ]
        },
        {
          "output_type": "stream",
          "name": "stdout",
          "text": [
            "epoch 398:  training loss:  0.22454257\n",
            "epoch 399:  training loss:  0.17328946\n",
            "epoch 400:  training loss:  0.15819101\n"
          ]
        },
        {
          "output_type": "stream",
          "name": "stderr",
          "text": [
            "\r 80%|████████  | 401/500 [00:54<00:24,  4.11it/s]"
          ]
        },
        {
          "output_type": "stream",
          "name": "stdout",
          "text": [
            "epoch 400:  training loss:  0.15819101 NDCG_validation:  0.37491306789808876\n"
          ]
        },
        {
          "output_type": "stream",
          "name": "stderr",
          "text": [
            " 81%|████████  | 403/500 [00:55<00:22,  4.36it/s]"
          ]
        },
        {
          "output_type": "stream",
          "name": "stdout",
          "text": [
            "epoch 401:  training loss:  0.2306523\n",
            "epoch 402:  training loss:  0.18519421\n"
          ]
        },
        {
          "output_type": "stream",
          "name": "stderr",
          "text": [
            " 81%|████████  | 405/500 [00:55<00:16,  5.70it/s]"
          ]
        },
        {
          "output_type": "stream",
          "name": "stdout",
          "text": [
            "epoch 403:  training loss:  0.18382348\n",
            "epoch 404:  training loss:  0.18571398\n"
          ]
        },
        {
          "output_type": "stream",
          "name": "stderr",
          "text": [
            " 81%|████████▏ | 407/500 [00:55<00:13,  6.67it/s]"
          ]
        },
        {
          "output_type": "stream",
          "name": "stdout",
          "text": [
            "epoch 405:  training loss:  0.16597101\n",
            "epoch 406:  training loss:  0.18371809\n"
          ]
        },
        {
          "output_type": "stream",
          "name": "stderr",
          "text": [
            " 82%|████████▏ | 409/500 [00:56<00:12,  7.35it/s]"
          ]
        },
        {
          "output_type": "stream",
          "name": "stdout",
          "text": [
            "epoch 407:  training loss:  0.17086017\n",
            "epoch 408:  training loss:  0.11980963\n"
          ]
        },
        {
          "output_type": "stream",
          "name": "stderr",
          "text": [
            "\r 82%|████████▏ | 410/500 [00:56<00:11,  7.56it/s]"
          ]
        },
        {
          "output_type": "stream",
          "name": "stdout",
          "text": [
            "epoch 409:  training loss:  0.16883375\n",
            "epoch 410:  training loss:  0.18947567\n"
          ]
        },
        {
          "output_type": "stream",
          "name": "stderr",
          "text": [
            " 82%|████████▏ | 412/500 [00:56<00:13,  6.59it/s]"
          ]
        },
        {
          "output_type": "stream",
          "name": "stdout",
          "text": [
            "epoch 410:  training loss:  0.18947567 NDCG_validation:  0.3715605687932288\n",
            "epoch 411:  training loss:  0.15997487\n"
          ]
        },
        {
          "output_type": "stream",
          "name": "stderr",
          "text": [
            " 83%|████████▎ | 414/500 [00:56<00:11,  7.30it/s]"
          ]
        },
        {
          "output_type": "stream",
          "name": "stdout",
          "text": [
            "epoch 412:  training loss:  0.1304813\n",
            "epoch 413:  training loss:  0.16714737\n"
          ]
        },
        {
          "output_type": "stream",
          "name": "stderr",
          "text": [
            " 83%|████████▎ | 416/500 [00:57<00:11,  7.49it/s]"
          ]
        },
        {
          "output_type": "stream",
          "name": "stdout",
          "text": [
            "epoch 414:  training loss:  0.1364274\n",
            "epoch 415:  training loss:  0.12008611\n"
          ]
        },
        {
          "output_type": "stream",
          "name": "stderr",
          "text": [
            " 84%|████████▎ | 418/500 [00:57<00:10,  7.79it/s]"
          ]
        },
        {
          "output_type": "stream",
          "name": "stdout",
          "text": [
            "epoch 416:  training loss:  0.12955914\n",
            "epoch 417:  training loss:  0.1354177\n"
          ]
        },
        {
          "output_type": "stream",
          "name": "stderr",
          "text": [
            " 84%|████████▍ | 420/500 [00:57<00:10,  7.85it/s]"
          ]
        },
        {
          "output_type": "stream",
          "name": "stdout",
          "text": [
            "epoch 418:  training loss:  0.13560353\n",
            "epoch 419:  training loss:  0.14586332\n"
          ]
        },
        {
          "output_type": "stream",
          "name": "stderr",
          "text": [
            "\r 84%|████████▍ | 421/500 [00:57<00:12,  6.18it/s]"
          ]
        },
        {
          "output_type": "stream",
          "name": "stdout",
          "text": [
            "epoch 420:  training loss:  0.12308454\n",
            "epoch 420:  training loss:  0.12308454 NDCG_validation:  0.3659230230924052\n"
          ]
        },
        {
          "output_type": "stream",
          "name": "stderr",
          "text": [
            " 85%|████████▍ | 423/500 [00:58<00:10,  7.03it/s]"
          ]
        },
        {
          "output_type": "stream",
          "name": "stdout",
          "text": [
            "epoch 421:  training loss:  0.19135721\n",
            "epoch 422:  training loss:  0.1199645\n"
          ]
        },
        {
          "output_type": "stream",
          "name": "stderr",
          "text": [
            " 85%|████████▌ | 425/500 [00:58<00:10,  7.40it/s]"
          ]
        },
        {
          "output_type": "stream",
          "name": "stdout",
          "text": [
            "epoch 423:  training loss:  0.14424601\n",
            "epoch 424:  training loss:  0.12625766\n"
          ]
        },
        {
          "output_type": "stream",
          "name": "stderr",
          "text": [
            " 85%|████████▌ | 427/500 [00:58<00:09,  7.76it/s]"
          ]
        },
        {
          "output_type": "stream",
          "name": "stdout",
          "text": [
            "epoch 425:  training loss:  0.12534203\n",
            "epoch 426:  training loss:  0.21063519\n"
          ]
        },
        {
          "output_type": "stream",
          "name": "stderr",
          "text": [
            " 86%|████████▌ | 429/500 [00:58<00:08,  8.01it/s]"
          ]
        },
        {
          "output_type": "stream",
          "name": "stdout",
          "text": [
            "epoch 427:  training loss:  0.13728587\n",
            "epoch 428:  training loss:  0.122191675\n"
          ]
        },
        {
          "output_type": "stream",
          "name": "stderr",
          "text": [
            "\r 86%|████████▌ | 430/500 [00:59<00:08,  7.91it/s]"
          ]
        },
        {
          "output_type": "stream",
          "name": "stdout",
          "text": [
            "epoch 429:  training loss:  0.1184538\n",
            "epoch 430:  training loss:  0.14545235\n"
          ]
        },
        {
          "output_type": "stream",
          "name": "stderr",
          "text": [
            " 86%|████████▋ | 432/500 [00:59<00:10,  6.77it/s]"
          ]
        },
        {
          "output_type": "stream",
          "name": "stdout",
          "text": [
            "epoch 430:  training loss:  0.14545235 NDCG_validation:  0.3813482939870281\n",
            "epoch 431:  training loss:  0.10004122\n"
          ]
        },
        {
          "output_type": "stream",
          "name": "stderr",
          "text": [
            " 87%|████████▋ | 434/500 [00:59<00:08,  7.35it/s]"
          ]
        },
        {
          "output_type": "stream",
          "name": "stdout",
          "text": [
            "epoch 432:  training loss:  0.10205246\n",
            "epoch 433:  training loss:  0.12626332\n"
          ]
        },
        {
          "output_type": "stream",
          "name": "stderr",
          "text": [
            " 87%|████████▋ | 436/500 [00:59<00:08,  7.85it/s]"
          ]
        },
        {
          "output_type": "stream",
          "name": "stdout",
          "text": [
            "epoch 434:  training loss:  0.1558245\n",
            "epoch 435:  training loss:  0.12191609\n"
          ]
        },
        {
          "output_type": "stream",
          "name": "stderr",
          "text": [
            " 88%|████████▊ | 438/500 [01:00<00:07,  7.95it/s]"
          ]
        },
        {
          "output_type": "stream",
          "name": "stdout",
          "text": [
            "epoch 436:  training loss:  0.15158798\n",
            "epoch 437:  training loss:  0.10425774\n"
          ]
        },
        {
          "output_type": "stream",
          "name": "stderr",
          "text": [
            " 88%|████████▊ | 440/500 [01:00<00:07,  8.06it/s]"
          ]
        },
        {
          "output_type": "stream",
          "name": "stdout",
          "text": [
            "epoch 438:  training loss:  0.17732517\n",
            "epoch 439:  training loss:  0.13170978\n"
          ]
        },
        {
          "output_type": "stream",
          "name": "stderr",
          "text": [
            "\r 88%|████████▊ | 441/500 [01:00<00:09,  6.34it/s]"
          ]
        },
        {
          "output_type": "stream",
          "name": "stdout",
          "text": [
            "epoch 440:  training loss:  0.1683628\n",
            "epoch 440:  training loss:  0.1683628 NDCG_validation:  0.3803064161292008\n"
          ]
        },
        {
          "output_type": "stream",
          "name": "stderr",
          "text": [
            " 89%|████████▊ | 443/500 [01:00<00:07,  7.21it/s]"
          ]
        },
        {
          "output_type": "stream",
          "name": "stdout",
          "text": [
            "epoch 441:  training loss:  0.1528424\n",
            "epoch 442:  training loss:  0.107166685\n"
          ]
        },
        {
          "output_type": "stream",
          "name": "stderr",
          "text": [
            " 89%|████████▉ | 445/500 [01:01<00:07,  7.73it/s]"
          ]
        },
        {
          "output_type": "stream",
          "name": "stdout",
          "text": [
            "epoch 443:  training loss:  0.15623538\n",
            "epoch 444:  training loss:  0.10390622\n"
          ]
        },
        {
          "output_type": "stream",
          "name": "stderr",
          "text": [
            " 89%|████████▉ | 447/500 [01:01<00:06,  7.90it/s]"
          ]
        },
        {
          "output_type": "stream",
          "name": "stdout",
          "text": [
            "epoch 445:  training loss:  0.10017019\n",
            "epoch 446:  training loss:  0.15631025\n"
          ]
        },
        {
          "output_type": "stream",
          "name": "stderr",
          "text": [
            " 90%|████████▉ | 449/500 [01:01<00:06,  7.80it/s]"
          ]
        },
        {
          "output_type": "stream",
          "name": "stdout",
          "text": [
            "epoch 447:  training loss:  0.09674893\n",
            "epoch 448:  training loss:  0.19431318\n"
          ]
        },
        {
          "output_type": "stream",
          "name": "stderr",
          "text": [
            "\r 90%|█████████ | 450/500 [01:01<00:06,  7.95it/s]"
          ]
        },
        {
          "output_type": "stream",
          "name": "stdout",
          "text": [
            "epoch 449:  training loss:  0.10752452\n",
            "epoch 450:  training loss:  0.090922676\n"
          ]
        },
        {
          "output_type": "stream",
          "name": "stderr",
          "text": [
            " 90%|█████████ | 452/500 [01:02<00:06,  6.86it/s]"
          ]
        },
        {
          "output_type": "stream",
          "name": "stdout",
          "text": [
            "epoch 450:  training loss:  0.090922676 NDCG_validation:  0.3751362367465218\n",
            "epoch 451:  training loss:  0.092725776\n"
          ]
        },
        {
          "output_type": "stream",
          "name": "stderr",
          "text": [
            " 91%|█████████ | 454/500 [01:02<00:06,  7.49it/s]"
          ]
        },
        {
          "output_type": "stream",
          "name": "stdout",
          "text": [
            "epoch 452:  training loss:  0.15141556\n",
            "epoch 453:  training loss:  0.11196433\n"
          ]
        },
        {
          "output_type": "stream",
          "name": "stderr",
          "text": [
            " 91%|█████████ | 456/500 [01:02<00:05,  7.80it/s]"
          ]
        },
        {
          "output_type": "stream",
          "name": "stdout",
          "text": [
            "epoch 454:  training loss:  0.09910209\n",
            "epoch 455:  training loss:  0.25481007\n"
          ]
        },
        {
          "output_type": "stream",
          "name": "stderr",
          "text": [
            " 92%|█████████▏| 458/500 [01:02<00:05,  8.15it/s]"
          ]
        },
        {
          "output_type": "stream",
          "name": "stdout",
          "text": [
            "epoch 456:  training loss:  0.1375748\n",
            "epoch 457:  training loss:  0.14466439\n"
          ]
        },
        {
          "output_type": "stream",
          "name": "stderr",
          "text": [
            " 92%|█████████▏| 460/500 [01:03<00:04,  8.20it/s]"
          ]
        },
        {
          "output_type": "stream",
          "name": "stdout",
          "text": [
            "epoch 458:  training loss:  0.15377569\n",
            "epoch 459:  training loss:  0.093634434\n"
          ]
        },
        {
          "output_type": "stream",
          "name": "stderr",
          "text": [
            "\r 92%|█████████▏| 461/500 [01:03<00:06,  6.46it/s]"
          ]
        },
        {
          "output_type": "stream",
          "name": "stdout",
          "text": [
            "epoch 460:  training loss:  0.0902964\n",
            "epoch 460:  training loss:  0.0902964 NDCG_validation:  0.3726197814233726\n"
          ]
        },
        {
          "output_type": "stream",
          "name": "stderr",
          "text": [
            " 93%|█████████▎| 463/500 [01:03<00:05,  7.19it/s]"
          ]
        },
        {
          "output_type": "stream",
          "name": "stdout",
          "text": [
            "epoch 461:  training loss:  0.16542539\n",
            "epoch 462:  training loss:  0.09420077\n"
          ]
        },
        {
          "output_type": "stream",
          "name": "stderr",
          "text": [
            " 93%|█████████▎| 465/500 [01:03<00:04,  7.60it/s]"
          ]
        },
        {
          "output_type": "stream",
          "name": "stdout",
          "text": [
            "epoch 463:  training loss:  0.09249916\n",
            "epoch 464:  training loss:  0.16465051\n"
          ]
        },
        {
          "output_type": "stream",
          "name": "stderr",
          "text": [
            " 93%|█████████▎| 467/500 [01:04<00:04,  7.58it/s]"
          ]
        },
        {
          "output_type": "stream",
          "name": "stdout",
          "text": [
            "epoch 465:  training loss:  0.08899739\n",
            "epoch 466:  training loss:  0.16148056\n"
          ]
        },
        {
          "output_type": "stream",
          "name": "stderr",
          "text": [
            " 94%|█████████▍| 469/500 [01:04<00:03,  7.87it/s]"
          ]
        },
        {
          "output_type": "stream",
          "name": "stdout",
          "text": [
            "epoch 467:  training loss:  0.10678455\n",
            "epoch 468:  training loss:  0.09394465\n"
          ]
        },
        {
          "output_type": "stream",
          "name": "stderr",
          "text": [
            "\r 94%|█████████▍| 470/500 [01:04<00:03,  7.93it/s]"
          ]
        },
        {
          "output_type": "stream",
          "name": "stdout",
          "text": [
            "epoch 469:  training loss:  0.090143904\n",
            "epoch 470:  training loss:  0.08565123\n"
          ]
        },
        {
          "output_type": "stream",
          "name": "stderr",
          "text": [
            " 94%|█████████▍| 472/500 [01:04<00:04,  6.57it/s]"
          ]
        },
        {
          "output_type": "stream",
          "name": "stdout",
          "text": [
            "epoch 470:  training loss:  0.08565123 NDCG_validation:  0.38519307847461587\n",
            "epoch 471:  training loss:  0.0819875\n"
          ]
        },
        {
          "output_type": "stream",
          "name": "stderr",
          "text": [
            " 95%|█████████▍| 474/500 [01:05<00:03,  7.37it/s]"
          ]
        },
        {
          "output_type": "stream",
          "name": "stdout",
          "text": [
            "epoch 472:  training loss:  0.10901645\n",
            "epoch 473:  training loss:  0.07848403\n"
          ]
        },
        {
          "output_type": "stream",
          "name": "stderr",
          "text": [
            " 95%|█████████▌| 476/500 [01:05<00:03,  7.80it/s]"
          ]
        },
        {
          "output_type": "stream",
          "name": "stdout",
          "text": [
            "epoch 474:  training loss:  0.22188419\n",
            "epoch 475:  training loss:  0.096024714\n"
          ]
        },
        {
          "output_type": "stream",
          "name": "stderr",
          "text": [
            " 96%|█████████▌| 478/500 [01:05<00:02,  7.99it/s]"
          ]
        },
        {
          "output_type": "stream",
          "name": "stdout",
          "text": [
            "epoch 476:  training loss:  0.08751114\n",
            "epoch 477:  training loss:  0.09021603\n"
          ]
        },
        {
          "output_type": "stream",
          "name": "stderr",
          "text": [
            " 96%|█████████▌| 480/500 [01:05<00:02,  8.01it/s]"
          ]
        },
        {
          "output_type": "stream",
          "name": "stdout",
          "text": [
            "epoch 478:  training loss:  0.18673536\n",
            "epoch 479:  training loss:  0.08645593\n"
          ]
        },
        {
          "output_type": "stream",
          "name": "stderr",
          "text": [
            "\r 96%|█████████▌| 481/500 [01:05<00:02,  6.37it/s]"
          ]
        },
        {
          "output_type": "stream",
          "name": "stdout",
          "text": [
            "epoch 480:  training loss:  0.079758145\n",
            "epoch 480:  training loss:  0.079758145 NDCG_validation:  0.3649308708686661\n"
          ]
        },
        {
          "output_type": "stream",
          "name": "stderr",
          "text": [
            " 97%|█████████▋| 483/500 [01:06<00:02,  7.19it/s]"
          ]
        },
        {
          "output_type": "stream",
          "name": "stdout",
          "text": [
            "epoch 481:  training loss:  0.09816568\n",
            "epoch 482:  training loss:  0.09566204\n"
          ]
        },
        {
          "output_type": "stream",
          "name": "stderr",
          "text": [
            " 97%|█████████▋| 485/500 [01:06<00:01,  7.66it/s]"
          ]
        },
        {
          "output_type": "stream",
          "name": "stdout",
          "text": [
            "epoch 483:  training loss:  0.08255006\n",
            "epoch 484:  training loss:  0.11045569\n"
          ]
        },
        {
          "output_type": "stream",
          "name": "stderr",
          "text": [
            " 97%|█████████▋| 487/500 [01:06<00:01,  7.84it/s]"
          ]
        },
        {
          "output_type": "stream",
          "name": "stdout",
          "text": [
            "epoch 485:  training loss:  0.103285536\n",
            "epoch 486:  training loss:  0.12900472\n"
          ]
        },
        {
          "output_type": "stream",
          "name": "stderr",
          "text": [
            " 98%|█████████▊| 489/500 [01:06<00:01,  7.77it/s]"
          ]
        },
        {
          "output_type": "stream",
          "name": "stdout",
          "text": [
            "epoch 487:  training loss:  0.07994934\n",
            "epoch 488:  training loss:  0.1409991\n"
          ]
        },
        {
          "output_type": "stream",
          "name": "stderr",
          "text": [
            "\r 98%|█████████▊| 490/500 [01:07<00:01,  7.73it/s]"
          ]
        },
        {
          "output_type": "stream",
          "name": "stdout",
          "text": [
            "epoch 489:  training loss:  0.09271436\n",
            "epoch 490:  training loss:  0.07546009\n"
          ]
        },
        {
          "output_type": "stream",
          "name": "stderr",
          "text": [
            " 98%|█████████▊| 492/500 [01:07<00:01,  6.62it/s]"
          ]
        },
        {
          "output_type": "stream",
          "name": "stdout",
          "text": [
            "epoch 490:  training loss:  0.07546009 NDCG_validation:  0.3671488570582251\n",
            "epoch 491:  training loss:  0.08124932\n"
          ]
        },
        {
          "output_type": "stream",
          "name": "stderr",
          "text": [
            " 99%|█████████▉| 494/500 [01:07<00:00,  7.21it/s]"
          ]
        },
        {
          "output_type": "stream",
          "name": "stdout",
          "text": [
            "epoch 492:  training loss:  0.07846967\n",
            "epoch 493:  training loss:  0.07464762\n"
          ]
        },
        {
          "output_type": "stream",
          "name": "stderr",
          "text": [
            " 99%|█████████▉| 496/500 [01:07<00:00,  7.72it/s]"
          ]
        },
        {
          "output_type": "stream",
          "name": "stdout",
          "text": [
            "epoch 494:  training loss:  0.06629018\n",
            "epoch 495:  training loss:  0.06731996\n"
          ]
        },
        {
          "output_type": "stream",
          "name": "stderr",
          "text": [
            "100%|█████████▉| 498/500 [01:08<00:00,  7.86it/s]"
          ]
        },
        {
          "output_type": "stream",
          "name": "stdout",
          "text": [
            "epoch 496:  training loss:  0.113246575\n",
            "epoch 497:  training loss:  0.08398756\n"
          ]
        },
        {
          "output_type": "stream",
          "name": "stderr",
          "text": [
            "100%|██████████| 500/500 [01:08<00:00,  7.30it/s]"
          ]
        },
        {
          "output_type": "stream",
          "name": "stdout",
          "text": [
            "epoch 498:  training loss:  0.11039221\n",
            "epoch 499:  training loss:  0.07915241\n"
          ]
        },
        {
          "output_type": "stream",
          "name": "stderr",
          "text": [
            "\n"
          ]
        },
        {
          "output_type": "stream",
          "name": "stdout",
          "text": [
            "\n",
            "ndcg_test:  0.3792321445756188\n"
          ]
        },
        {
          "output_type": "display_data",
          "data": {
            "text/plain": [
              "<Figure size 432x288 with 1 Axes>"
            ],
            "image/png": "[encoded data removed]"
          },
          "metadata": {
            "needs_background": "light"
          }
        }
      ],
      "source": [
        "def train_base_recommendation():\n",
        "    losses_all=[]\n",
        "    ndcgs=[]\n",
        "    if gpu:\n",
        "        device = torch.device('cuda:%s' % cuda)\n",
        "    else:\n",
        "        device = 'cpu'\n",
        "    # Path(save_path).mkdir(parents=True, exist_ok=True)\n",
        "    # with open(os.path.join(save_path,dataset + \"_dataset_obj.pickle\"), 'wb') as outp:\n",
        "    #     pickle.dump(rec_dataset, outp, pickle.HIGHEST_PROTOCOL)\n",
        "\n",
        "    train_loader = DataLoader(dataset=UserItemInterDataset(rec_dataset.training_data, \n",
        "                                rec_dataset.user_feature_matrix, \n",
        "                                rec_dataset.item_feature_matrix),\n",
        "                          batch_size=batch_size,\n",
        "                          shuffle=True)\n",
        "\n",
        "    model = BaseRecModel(rec_dataset.feature_num).to(device)\n",
        "    loss_fn = torch.nn.BCELoss()\n",
        "    optimizer = torch.optim.SGD(model.parameters(), lr=lr, weight_decay=weight_decay)\n",
        "\n",
        "    out_path = os.path.join(\"./logs\", dataset + \"_logs\")\n",
        "    Path(out_path).mkdir(parents=True, exist_ok=True)\n",
        "\n",
        "    ndcg = compute_ndcg(rec_dataset.test_data, \n",
        "            rec_dataset.user_feature_matrix, \n",
        "            rec_dataset.item_feature_matrix, \n",
        "            rec_k, \n",
        "            model, \n",
        "            device)\n",
        "    print('init ndcg:', ndcg)\n",
        "    for epoch in tqdm.trange(epochs):\n",
        "        model.train()\n",
        "        optimizer.zero_grad()\n",
        "        losses = []\n",
        "        for user_behaviour_feature, item_aspect_feature, label in train_loader:\n",
        "            user_behaviour_feature = user_behaviour_feature.to(device)\n",
        "            item_aspect_feature = item_aspect_feature.to(device)\n",
        "            label = label.float().to(device)\n",
        "            out = model(user_behaviour_feature, item_aspect_feature).squeeze()\n",
        "            loss = loss_fn(out, label)\n",
        "            loss.backward()\n",
        "            optimizer.step()\n",
        "            optimizer.zero_grad()\n",
        "            losses.append(loss.to('cpu').detach().numpy())\n",
        "            ave_train = np.mean(np.array(losses))\n",
        "            losses_all.append(ave_train)\n",
        "        print('epoch %d: ' % epoch, 'training loss: ', ave_train)\n",
        "      \n",
        "        # compute necg\n",
        "        if epoch % 10 == 0:\n",
        "            ndcg = compute_ndcg(rec_dataset.test_data, \n",
        "            rec_dataset.user_feature_matrix, \n",
        "            rec_dataset.item_feature_matrix, \n",
        "            rec_k, \n",
        "            model, \n",
        "            device)\n",
        "            print('epoch %d: ' % epoch, 'training loss: ', ave_train, 'NDCG_validation: ', ndcg)\n",
        "\n",
        "            ndcgs.append(ndcg)\n",
        "    torch.save(model.state_dict(), os.path.join(save_path, \"model.model\"))\n",
        "    ndcg_test = compute_ndcg(rec_dataset.test_data, \n",
        "            rec_dataset.user_feature_matrix, \n",
        "            rec_dataset.item_feature_matrix, \n",
        "            rec_k, \n",
        "            model, \n",
        "            device)\n",
        "    print('\\nndcg_test: ',ndcg_test)\n",
        "    # plt.xlabel('iterations')\n",
        "    # plt.ylabel('train_loss')\n",
        "    # plt.xticks(np.arange(0,len(losses_all),100))\n",
        "    # plt.plot(np.arange(0,len(losses_all)),losses_all)\n",
        "    # plt.show()\n",
        "\n",
        "    plt.xlabel('iterations')\n",
        "    plt.ylabel('validation_ndcg')\n",
        "    plt.xticks(np.arange(-2,len(ndcgs)+2,2))\n",
        "    plt.plot(np.arange(1,len(ndcgs)+1),ndcgs)\n",
        "    plt.show()\n",
        "    return rec_dataset\n",
        "\n",
        "\n",
        "if __name__ == \"__main__\":\n",
        "    torch.manual_seed(0)\n",
        "    np.random.seed(0)\n",
        "    if gpu:\n",
        "        os.environ[\"CUDA_VISIBLE_DEVICES\"] =cuda\n",
        "        print(\"Using CUDA\",cuda)\n",
        "    else:\n",
        "        print(\"Using CPU\")\n",
        "    rec_dataset=train_base_recommendation()"
      ]
    },
    {
      "cell_type": "code",
      "execution_count": null,
      "metadata": {
        "id": "4ucRyXRT4mzb"
      },
      "outputs": [],
      "source": [
        "dataset=\"cell_phones\"\n",
        "base_model_path=\"/content/drive/MyDrive/cell_phone/\"\n",
        "gpu=True\n",
        "cuda='0'\n",
        "data_obj_path=\"/content/drive/MyDrive/cell_phone/\"\n",
        "rec_k=5\n",
        "lam=100\n",
        "gam=0.7\n",
        "alp=0.2\n",
        "user_mask=False\n",
        "lr=0.005\n",
        "step=1000\n",
        "mask_thresh=0.3\n",
        "test_num=-1\n",
        "# save_path=\"./explanation_objs/\""
      ]
    },
    {
      "cell_type": "code",
      "execution_count": null,
      "metadata": {
        "id": "snwXLWLePEmC"
      },
      "outputs": [],
      "source": [
        "import torch\n",
        "import pickle\n",
        "import os\n",
        "from pathlib import Path"
      ]
    },
    {
      "cell_type": "markdown",
      "metadata": {
        "id": "IC_P_74iOR-T"
      },
      "source": [
        "# User Perspective Features"
      ]
    },
    {
      "cell_type": "code",
      "execution_count": null,
      "metadata": {
        "id": "j03L6H5PA4bK"
      },
      "outputs": [],
      "source": [
        "import json\n",
        "import nltk"
      ]
    },
    {
      "cell_type": "code",
      "execution_count": null,
      "metadata": {
        "colab": {
          "base_uri": "https://localhost:8080/"
        },
        "id": "o93FnpHX60cX",
        "outputId": "639a2e23-e763-455a-fb63-c694c9988968"
      },
      "outputs": [
        {
          "output_type": "stream",
          "name": "stderr",
          "text": [
            "[nltk_data] Downloading package wordnet to /root/nltk_data...\n",
            "[nltk_data] Downloading package stopwords to /root/nltk_data...\n",
            "[nltk_data]   Unzipping corpora/stopwords.zip.\n",
            "[nltk_data] Downloading package punkt to /root/nltk_data...\n",
            "[nltk_data]   Unzipping tokenizers/punkt.zip.\n",
            "[nltk_data] Downloading package averaged_perceptron_tagger to\n",
            "[nltk_data]     /root/nltk_data...\n",
            "[nltk_data]   Unzipping taggers/averaged_perceptron_tagger.zip.\n"
          ]
        }
      ],
      "source": [
        "nltk.download('wordnet')\n",
        "nltk.download('stopwords')\n",
        "nltk.download('punkt')\n",
        "nltk.download('averaged_perceptron_tagger')\n",
        "def lemmatization(text):\n",
        "    result=''\n",
        "    wordnet = WordNetLemmatizer()\n",
        "    for token,tag in pos_tag(text):\n",
        "        pos=tag[0].lower()\n",
        "        if pos not in ['a', 'r', 'n', 'v']:\n",
        "            pos='n'\n",
        "        # if pos in ['n','a']:   \n",
        "        result+=wordnet.lemmatize(token,pos)+' '\n",
        "    return result\n",
        "def remove_stopwords(text):\n",
        "    en_stopwords = stopwords.words('english')\n",
        "    en_stopwords+=['may','could','that','without','iii','with','and','This','That','Those','These','the','The','brbr','so','it','such']\n",
        "    result = []\n",
        "    for token in text:\n",
        "        if token not in en_stopwords:\n",
        "            result.append(token)\n",
        "            \n",
        "    return result\n",
        "def remove_punct(text):\n",
        "    tokenizer = RegexpTokenizer(r\"\\w+\")\n",
        "    lst=tokenizer.tokenize(' '.join(text))\n",
        "    return lst\n",
        "\n",
        "def remove_tag(text):\n",
        "    text=' '.join(text)\n",
        "    html_pattern = re.compile('<.*?>')\n",
        "    return html_pattern.sub(r'', text)\n",
        "def remove_urls(text):\n",
        "    url_pattern = re.compile(r'https?://\\S+|www\\.\\S+')\n",
        "    return url_pattern.sub(r'', text)\n",
        "\n",
        "def preprocess(text):\n",
        "  chars=['&','%','#','@','^','>','<','\\n','\\\\','\\t',';','\"','/']\n",
        "  stwords=stopwords.words('english')\n",
        "  for ch in chars:\n",
        "    text=text.replace(ch,' ')\n",
        "  text=\" \".join(text.split())\n",
        "  # text=text.lower()\n",
        "  text_tokenized=word_tokenize(text)\n",
        "  cleaned_text= remove_stopwords(text_tokenized)\n",
        "  cleaned_text= remove_punct(cleaned_text)\n",
        "  # cleaned_text=lemmatization(cleaned_text)\n",
        "  cleaned_text=remove_tag(cleaned_text)\n",
        "  cleaned_text=remove_urls(cleaned_text)\n",
        "  cleaned_text=''.join([i for i in cleaned_text ])\n",
        "  cleaned_text=[word for word in cleaned_text.split(' ') if len(word)>1]\n",
        "  # print(cleaned_text)\n",
        "  return ' '.join(cleaned_text)"
      ]
    },
    {
      "cell_type": "code",
      "execution_count": null,
      "metadata": {
        "id": "NtlEHpkN-lCe"
      },
      "outputs": [],
      "source": [
        "def preprocess_text_first(text):\n",
        "  while '<' in text and '>' in text and text.index('<')<text.index('>'):\n",
        "    toRemove=text[int(text.index('<')):int(text.index('>'))]+'>'\n",
        "    text=text.replace(toRemove,' ')\n",
        "  list_to_replace=['mso','gte','xml','false','#',',','!','-','\\'','\\\"','[',']','/','\\\\n','\\\\','span','a-size-base','a-color-secondary','input type','header name','value','=','<a href= javascript:void(0) class= ','{','}','class=','header','<a href= javascript:void(0)','<','>','href',')','(',';','quot','&',':','javascript']\n",
        "  for char in list_to_replace:\n",
        "    text=text.replace(char,' ')\n",
        "  for i in range(15):\n",
        "    text=text.replace('  ',' ')\n",
        "  # while 'if' in text and 'endif' in text and text.index('if')<text.index('endif'):\n",
        "  #   # print(int(text.index('if')),int(text.index('endif')))\n",
        "  #   toRemove=text[int(text.index('if')):int(text.index('endif'))]+'endif'\n",
        "  #   text=text.replace(toRemove,' ')\n",
        "  new_text=''\n",
        "  for word in text.split(' '):\n",
        "    if len(word)>1 and len(word)<35:\n",
        "      new_text+=word+' '\n",
        "  # new_text=lemmatization(new_text)\n",
        "  # print(new_text)\n",
        "  return new_text"
      ]
    },
    {
      "cell_type": "code",
      "execution_count": null,
      "metadata": {
        "colab": {
          "base_uri": "https://localhost:8080/"
        },
        "id": "dQRrvFS4cifS",
        "outputId": "10b37303-98f7-4a29-a549-38242e172005"
      },
      "outputs": [
        {
          "name": "stdout",
          "output_type": "stream",
          "text": [
            "0\n",
            "5000\n",
            "10000\n",
            "15000\n",
            "20000\n",
            "25000\n",
            "30000\n",
            "35000\n"
          ]
        }
      ],
      "source": [
        "items_list=[]\n",
        "users_list=[]\n",
        "review_features={}\n",
        "f=open('/content/drive/MyDrive/cell_phone/Cell_Phones_and_Accessories')\n",
        "lines=f.readlines()\n",
        "i=0\n",
        "for line in lines:\n",
        "  if i%5000==0:\n",
        "    print(i)\n",
        "  i+=1\n",
        "  user_id = line.split('@')[0]\n",
        "  item_id = line.split('@')[1]\n",
        "  if item_id in df_meta['asin'].values:\n",
        "    users_list.append(user_id)\n",
        "    items_list.append(item_id)\n",
        "    l = len(user_id) + len(item_id)\n",
        "    fosr_data = line[l+3:]\n",
        "    for seg in fosr_data.split('||'):\n",
        "      if (user_id,item_id) not in review_features.keys():\n",
        "        review_features[(user_id,item_id)]=[]\n",
        "      fos = seg.split(':')[0].strip('|')\n",
        "      if len(fos.split('|')) > 1:\n",
        "            feature = fos.split('|')[0]\n",
        "            opinion = fos.split('|')[1]\n",
        "            sentiment = fos.split('|')[2]\n",
        "            sentence= seg.split(':')[1]\n",
        "            if sentiment=='+1':\n",
        "              senti=1\n",
        "            else:\n",
        "              senti=-1\n",
        "            review_features[(user_id,item_id)].append([feature,opinion,senti,sentence])"
      ]
    },
    {
      "cell_type": "code",
      "execution_count": null,
      "metadata": {
        "colab": {
          "base_uri": "https://localhost:8080/"
        },
        "id": "Vqg-cDlQFqIx",
        "outputId": "6f73c117-133a-4de3-befa-487095edb157"
      },
      "outputs": [
        {
          "name": "stdout",
          "output_type": "stream",
          "text": [
            "0\n",
            "5000\n",
            "10000\n",
            "15000\n"
          ]
        }
      ],
      "source": [
        "user_test_perspective={}\n",
        "i=0\n",
        "for (user_id , item_id) in review_features.keys():\n",
        "  review_feature=review_features[(user_id,item_id)]\n",
        "  if i%5000==0:\n",
        "    print(i)\n",
        "  i+=1\n",
        "  for features in review_feature:\n",
        "    sentence=features[3]\n",
        "    sentence=preprocess_text_first(sentence)\n",
        "    sentence=preprocess(sentence).lower()\n",
        "    if (user_id , item_id) not in user_test_perspective.keys():\n",
        "      final_vect=[]\n",
        "    final_vect+=sentence.split(' ')\n",
        "    for word in sentence.split(' '):\n",
        "      # tokens=list(set(df_words[df_words['word']==word]['tokenized'].values))\n",
        "      # for token in tokens:\n",
        "        final_vect+=word.split(' ')\n",
        "    final_vect=list(set(final_vect))\n",
        "    new_final_vect=[]\n",
        "    for word in final_vect:\n",
        "      if len(word)>1:\n",
        "        new_final_vect.append(word)\n",
        "    user_test_perspective[(user_id , item_id)]=new_final_vect"
      ]
    },
    {
      "cell_type": "code",
      "execution_count": null,
      "metadata": {
        "id": "W254L5obCgm6"
      },
      "outputs": [],
      "source": [
        "user_test_perspective"
      ]
    },
    {
      "cell_type": "code",
      "execution_count": null,
      "metadata": {
        "colab": {
          "base_uri": "https://localhost:8080/",
          "height": 35
        },
        "id": "cuVEpuvBde8T",
        "outputId": "f87a9d13-36eb-4bf7-afed-9aeabdd894c1"
      },
      "outputs": [
        {
          "data": {
            "application/vnd.google.colaboratory.intrinsic+json": {
              "type": "string"
            },
            "text/plain": [
              "'B00FL6ADNC'"
            ]
          },
          "execution_count": 95,
          "metadata": {},
          "output_type": "execute_result"
        }
      ],
      "source": [
        "rec_dataset.inv_item_name_dict[622]"
      ]
    },
    {
      "cell_type": "markdown",
      "metadata": {
        "id": "IdHtY0uTOppf"
      },
      "source": [
        "# Train Explaination Generator Model\n"
      ]
    },
    {
      "cell_type": "code",
      "execution_count": null,
      "metadata": {
        "id": "Bp4cMNYcPIFm"
      },
      "outputs": [],
      "source": [
        "class ExpOptimizationModel(torch.nn.Module):\n",
        "    def __init__(self, base_model, rec_dataset, device):\n",
        "        super(ExpOptimizationModel, self).__init__()\n",
        "        self.base_model = base_model\n",
        "        self.rec_dataset = rec_dataset\n",
        "        self.device = device\n",
        "        self.u_i_exp_dict = {}  # {(user, item): [f1, f2, f3 ...], ...}\n",
        "        self.user_feature_matrix = torch.from_numpy(self.rec_dataset.user_feature_matrix).to(self.device)\n",
        "        self.item_feature_matrix = torch.from_numpy(self.rec_dataset.item_feature_matrix).to(self.device)\n",
        "        self.rec_dict, self.user_perspective_test_data = self.generate_rec_dict()\n",
        "        self.dict_items_cf_feature={}\n",
        "\n",
        "    def generate_rec_dict(self):\n",
        "        rec_dict = {}\n",
        "        correct_rec_dict = {}  # used for user-side evaluation\n",
        "        for row in self.rec_dataset.test_data:\n",
        "            user = row[0]\n",
        "            items = row[1]\n",
        "            labels = row[2]\n",
        "            correct_rec_dict[user] = []\n",
        "            user_features = self.user_feature_matrix[user].repeat(len(items), 1)\n",
        "            scores = self.base_model(user_features,\n",
        "                        self.item_feature_matrix[items]).squeeze()\n",
        "            scores = np.array(scores.to('cpu'))\n",
        "            sort_index = sorted(range(len(scores)), key=lambda k: scores[k], reverse=True)\n",
        "            sorted_items = [items[i] for i in sort_index]\n",
        "            rec_dict[user] = sorted_items\n",
        "            for i in range(rec_k):  # find the correct items and add to the user side test data\n",
        "                if labels[sort_index[i]] == 1:\n",
        "                    correct_rec_dict[user].append(items[sort_index[i]])\n",
        "\n",
        "        user_perspective_test_data = {}  # {(u, i):f, (u, i): f]}\n",
        "        # for user, items in correct_rec_dict.items():\n",
        "        #     for item in items:\n",
        "        #         user_id=rec_dataset.inv_user_name_dict[user]\n",
        "        #         item_id=rec_dataset.inv_item_name_dict[item]\n",
        "        #         feature = user_test_perspective[(user_id, item_id)]\n",
        "        #         user_perspective_test_data[(user, item)] = feature\n",
        "        return rec_dict, user_perspective_test_data\n",
        "    def user_side_evaluation(self):\n",
        "        ave_pre, ave_rec, ave_f1 = evaluate_user_perspective(self.user_perspective_test_data, self.u_i_exp_dict)\n",
        "        print('user\\'s perspective:')\n",
        "        print('ave pre: ', ave_pre, '  ave rec: ', ave_rec, '  ave f1: ', ave_f1)\n",
        "    \n",
        "    def model_side_evaluation(self):\n",
        "        ave_pn, ave_ps, ave_fns = evaluate_model_perspective(\n",
        "            self.rec_dict,\n",
        "            self.u_i_exp_dict,\n",
        "            self.base_model,\n",
        "            self.rec_dataset.user_feature_matrix,\n",
        "            self.rec_dataset.item_feature_matrix,\n",
        "            rec_k,\n",
        "            self.dict_items_cf_feature,\n",
        "            self.device)\n",
        "        print('model\\'s perspective:')\n",
        "        print('ave PN: ', ave_pn, '  ave PS: ', ave_ps, '  ave F_{NS}: ', ave_fns)  \n",
        "    def generate_explanation(self):\n",
        "        # u_i_exps_dict = {}  # {(user, item): [f1, f2, f3 ...], ...}\n",
        "        exp_nums = []\n",
        "        exp_complexities = []\n",
        "        self.no_exp_count = 0\n",
        "        self.exp_count=0\n",
        "        if test_num == -1:\n",
        "            test_num1 = len(list(self.rec_dict.items()))\n",
        "        else:\n",
        "            test_num1 = test_num\n",
        "        count=0\n",
        "        for user, items in tqdm.tqdm(list(self.rec_dict.items())[:10]):\n",
        "            count+=1\n",
        "            # if count<200:\n",
        "            #   continue\n",
        "            # if count==2:\n",
        "            #   break\n",
        "            items = self.rec_dict[user]\n",
        "            margin_item = items[rec_k]\n",
        "            margin_score = self.base_model(self.user_feature_matrix[user].unsqueeze(0), \n",
        "                            self.item_feature_matrix[margin_item].unsqueeze(0)).squeeze()\n",
        "            # print(margin_score)\n",
        "            # if user_mask:\n",
        "            #     # mask_vec = self.generate_mask(user)\n",
        "            #     mask_vec = torch.where(self.user_feature_matrix[user]>0, 1., 0.).unsqueeze(0)  # only choose exps from the user cared aspects\n",
        "            # else:\n",
        "                \n",
        "            for item in items[: rec_k]:\n",
        "                item_id=rec_dataset.inv_item_name_dict[item]\n",
        "                tensor_vect_desc,tensor_vect_title,tensor_vect_feature=get_tensor_vects(item_id)\n",
        "                self.dict_items_cf_feature[item]=(tensor_vect_desc,tensor_vect_title,tensor_vect_feature)\n",
        "                # print(tensor_vect_desc.shape)\n",
        "                # print(tensor_vect_title.shape)\n",
        "                # print(tensor_vect_feature.shape)\n",
        "                explanation_features,explanation_features_words, exp_num, exp_complexity = self.explain(user,item,\n",
        "                    self.user_feature_matrix[user], \n",
        "                    self.item_feature_matrix[item], \n",
        "                    margin_score,\n",
        "                    tensor_vect_desc,tensor_vect_title,tensor_vect_feature)\n",
        "                \n",
        "                if explanation_features is None:\n",
        "                    # print('no explanation for user %d and item %d' % (user, item))\n",
        "                    self.no_exp_count += 1\n",
        "                else:\n",
        "                    self.exp_count+=1\n",
        "                    self.u_i_exp_dict[(user, item)] = explanation_features_words\n",
        "                    # print(explanation_features_words)\n",
        "                    exp_nums.append(exp_num)\n",
        "                    exp_complexities.append(exp_complexity)\n",
        "            # if count%500==0:\n",
        "            #   json1 = json.dumps(self.u_i_exp_dict)\n",
        "            #   f = open(\"drive/MyDrive/ranjbar/dict{}.json\".format(count),\"w\")\n",
        "            #   f.write(json1)\n",
        "            #   f.close()\n",
        "\n",
        "              \n",
        "        print('ave num: ', np.mean(exp_nums), 'ave complexity: ', np.mean(exp_complexities) , 'no_exp_count: ', self.no_exp_count, 'exp_count: ', self.exp_count)\n",
        "        return True\n",
        "    \n",
        "    def explain(self,user,item, user_feature, item_feature, margin_score,tensor_vect_desc,tensor_vect_title,tensor_vect_feature):\n",
        "        exp_generator = EXPGenerator(\n",
        "            self.rec_dataset, \n",
        "            self.base_model, \n",
        "            user_feature, \n",
        "            item_feature, \n",
        "            user,\n",
        "            item,\n",
        "            margin_score,\n",
        "            tensor_vect_desc,tensor_vect_title,tensor_vect_feature, \n",
        "            self.device).to(self.device)\n",
        "\n",
        "        # optimization\n",
        "        optimizer = torch.optim.SGD(exp_generator.parameters(), lr=lr, weight_decay=0)\n",
        "        exp_generator.train()\n",
        "        lowest_loss = None\n",
        "        lowest_bpr = None\n",
        "        lowest_l2 = 0\n",
        "        optimize_delta = None\n",
        "        score = exp_generator()\n",
        "        # print(score)\n",
        "        bpr, l2, l1, loss = exp_generator.loss(score)\n",
        "        # print('init: ', 0, '  train loss: ', loss, '  bpr: ', bpr, '  l2: ', l2, '  l1: ', l1)\n",
        "        lowest_loss = loss\n",
        "        lowest_bpr=bpr\n",
        "        optimize_delta = exp_generator.delta.detach().to('cpu').numpy()\n",
        "        optimize_weights=exp_generator.weights.detach().to('cpu').numpy()\n",
        "        lowest_l2 = l2\n",
        "        for epoch in range(step):\n",
        "            exp_generator.zero_grad()\n",
        "            score = exp_generator()\n",
        "            bpr, l2, l1, loss = exp_generator.loss(score)\n",
        "\n",
        "            # if epoch %100 == 0:\n",
        "            #     print(\n",
        "            #         'epoch', epoch,\n",
        "            #         'bpr: ', bpr,\n",
        "            #         'l2: ', l2,\n",
        "            #         'l1', l1,\n",
        "            #         'loss', loss)\n",
        "\n",
        "            loss.backward()\n",
        "            optimizer.step()\n",
        "            if loss < lowest_loss:\n",
        "                lowest_loss = loss\n",
        "                lowest_l2 = l2\n",
        "                lowest_bpr = bpr\n",
        "                optimize_delta = exp_generator.delta.detach().to('cpu').numpy()\n",
        "                optimize_weights=exp_generator.weights.detach().to('cpu').numpy()\n",
        "        # print(lowest_bpr)\n",
        "        # print(lam * alp)\n",
        "        # print(optimize_delta)\n",
        "        if lowest_bpr >= lam * alp:\n",
        "            explanation_features = None \n",
        "            exp_num = None\n",
        "            exp_complexity = None\n",
        "            explanation_features_words=None\n",
        "        else:\n",
        "            # optimize_delta = exp_generator.delta.detach().to('cpu').numpy()\n",
        "            # print(optimize_delta)\n",
        "            # explanation_features = np.argwhere(optimize_delta < - mask_thresh).squeeze(axis=1)\n",
        "            explanation_features = np.argwhere(optimize_weights <  mask_thresh).squeeze(axis=1)\n",
        "            # print(optimize_weights)\n",
        "            \n",
        "            # print(explanation_features)\n",
        "            if len(explanation_features) == 0:\n",
        "                explanation_features = np.array([np.argmin(optimize_weights)])\n",
        "            explanation_features_words=list(set([exp_generator.features[i] for i in explanation_features]))\n",
        "            # print(explanation_features_words)\n",
        "            # print('-------------\\n')\n",
        "            new_vect=[]\n",
        "            for word in explanation_features_words:\n",
        "              new_vect+=(str(word).split(' '))\n",
        "            new_vect=list(set(new_vect))\n",
        "            new_vect=[word for word in new_vect if len(word)>1]\n",
        "            explanation_features_words=new_vect\n",
        "            exp_num = len(explanation_features_words)\n",
        "            exp_complexity = lowest_l2.to('cpu').detach().numpy() + gam * exp_num\n",
        "        return explanation_features,explanation_features_words, exp_num, exp_complexity\n",
        "    \n"
      ]
    },
    {
      "cell_type": "code",
      "execution_count": null,
      "metadata": {
        "id": "vX0E2BXY4EBH"
      },
      "outputs": [],
      "source": [
        "def get_tensor_vect_df(df,not_in_columns):\n",
        "  df['main_word']=np.where(df['replaced_word'] == df[not_in_columns],1,0)\n",
        "  df=df[df['main_word']==1]\n",
        "  lists=df.loc[:, ~df.columns.isin([not_in_columns,'replaced_word','logit','main_word'])].values\n",
        "  words=df[not_in_columns].values\n",
        "  # print(words)\n",
        "  vects=[sub_list[0] for sub_list in lists]\n",
        "  tensor_vect=torch.FloatTensor(vects).to(device)\n",
        "  return tensor_vect"
      ]
    },
    {
      "cell_type": "code",
      "execution_count": null,
      "metadata": {
        "id": "jyzyAFFI28Va"
      },
      "outputs": [],
      "source": [
        "def get_tensor_vects(item_id):\n",
        "  tensor_vect_desc=None\n",
        "  tensor_vect_title=None\n",
        "  tensor_vect_feature=None\n",
        "  if os.path.exists(save_path+'description_bert/'+'df_bert_desc_{}.json'.format(item_id)) :\n",
        "      df_vect_desc= pd.read_json(save_path+'description_bert/'+'df_bert_desc_{}.json'.format(item_id))\n",
        "      # df_vect_desc=df_vect[0]\n",
        "      tensor_vect_desc=get_tensor_vect_df(df_vect_desc,'description_words')\n",
        "\n",
        "      df_vect_title= pd.read_json(save_path+'title_bert/'+'df_bert_title_{}.json'.format(item_id))\n",
        "      # df_vect_title=df_vect[1]\n",
        "      tensor_vect_title=get_tensor_vect_df(df_vect_title,'title_words')\n",
        "\n",
        "      df_vect_feature= pd.read_json(save_path+'feature_bert/'+'df_bert_feature_{}.json'.format(item_id))\n",
        "      # df_vect_feature=df_vect[2]\n",
        "      tensor_vect_feature=get_tensor_vect_df(df_vect_feature,'feature_words')\n",
        "      # print(tensor_vect_feature)\n",
        "  # print(tensor_vect_desc)\n",
        "  return tensor_vect_desc,tensor_vect_title,tensor_vect_feature"
      ]
    },
    {
      "cell_type": "code",
      "execution_count": null,
      "metadata": {
        "id": "OdPX3hjwemyI"
      },
      "outputs": [],
      "source": [
        "normalized_rank=get_normalized_rank(df_meta)"
      ]
    },
    {
      "cell_type": "code",
      "execution_count": null,
      "metadata": {
        "colab": {
          "base_uri": "https://localhost:8080/",
          "height": 159
        },
        "id": "zoRL5QDIkdUA",
        "outputId": "060feffe-0368-4874-942c-8583a366767b"
      },
      "outputs": [
        {
          "data": {
            "text/html": [
              "\n",
              "  <div id=\"df-3a844888-ebce-4f05-807f-586324d31b5b\">\n",
              "    <div class=\"colab-df-container\">\n",
              "      <div>\n",
              "<style scoped>\n",
              "    .dataframe tbody tr th:only-of-type {\n",
              "        vertical-align: middle;\n",
              "    }\n",
              "\n",
              "    .dataframe tbody tr th {\n",
              "        vertical-align: top;\n",
              "    }\n",
              "\n",
              "    .dataframe thead th {\n",
              "        text-align: right;\n",
              "    }\n",
              "</style>\n",
              "<table border=\"1\" class=\"dataframe\">\n",
              "  <thead>\n",
              "    <tr style=\"text-align: right;\">\n",
              "      <th></th>\n",
              "      <th>Unnamed: 0</th>\n",
              "      <th>description</th>\n",
              "      <th>title</th>\n",
              "      <th>feature</th>\n",
              "      <th>rank</th>\n",
              "      <th>price</th>\n",
              "      <th>asin</th>\n",
              "    </tr>\n",
              "  </thead>\n",
              "  <tbody>\n",
              "    <tr>\n",
              "      <th>207</th>\n",
              "      <td>2679</td>\n",
              "      <td>['The CyberPower CPH320AP Charging Dock and 3-...</td>\n",
              "      <td>CyberPower CPH320AP Charging Dock and 3 Port U...</td>\n",
              "      <td>['iPod / iPhone 3G, 3GS, 4, 4S Charging Dock',...</td>\n",
              "      <td>['&gt;#718,144 in Cell Phones &amp; Accessories (See ...</td>\n",
              "      <td>$4.00</td>\n",
              "      <td>B0006TIA8Y</td>\n",
              "    </tr>\n",
              "  </tbody>\n",
              "</table>\n",
              "</div>\n",
              "      <button class=\"colab-df-convert\" onclick=\"convertToInteractive('df-3a844888-ebce-4f05-807f-586324d31b5b')\"\n",
              "              title=\"Convert this dataframe to an interactive table.\"\n",
              "              style=\"display:none;\">\n",
              "        \n",
              "  <svg xmlns=\"http://www.w3.org/2000/svg\" height=\"24px\"viewBox=\"0 0 24 24\"\n",
              "       width=\"24px\">\n",
              "    <path d=\"M0 0h24v24H0V0z\" fill=\"none\"/>\n",
              "    <path d=\"M18.56 5.44l.94 2.06.94-2.06 2.06-.94-2.06-.94-.94-2.06-.94 2.06-2.06.94zm-11 1L8.5 8.5l.94-2.06 2.06-.94-2.06-.94L8.5 2.5l-.94 2.06-2.06.94zm10 10l.94 2.06.94-2.06 2.06-.94-2.06-.94-.94-2.06-.94 2.06-2.06.94z\"/><path d=\"M17.41 7.96l-1.37-1.37c-.4-.4-.92-.59-1.43-.59-.52 0-1.04.2-1.43.59L10.3 9.45l-7.72 7.72c-.78.78-.78 2.05 0 2.83L4 21.41c.39.39.9.59 1.41.59.51 0 1.02-.2 1.41-.59l7.78-7.78 2.81-2.81c.8-.78.8-2.07 0-2.86zM5.41 20L4 18.59l7.72-7.72 1.47 1.35L5.41 20z\"/>\n",
              "  </svg>\n",
              "      </button>\n",
              "      \n",
              "  <style>\n",
              "    .colab-df-container {\n",
              "      display:flex;\n",
              "      flex-wrap:wrap;\n",
              "      gap: 12px;\n",
              "    }\n",
              "\n",
              "    .colab-df-convert {\n",
              "      background-color: #E8F0FE;\n",
              "      border: none;\n",
              "      border-radius: 50%;\n",
              "      cursor: pointer;\n",
              "      display: none;\n",
              "      fill: #1967D2;\n",
              "      height: 32px;\n",
              "      padding: 0 0 0 0;\n",
              "      width: 32px;\n",
              "    }\n",
              "\n",
              "    .colab-df-convert:hover {\n",
              "      background-color: #E2EBFA;\n",
              "      box-shadow: 0px 1px 2px rgba(60, 64, 67, 0.3), 0px 1px 3px 1px rgba(60, 64, 67, 0.15);\n",
              "      fill: #174EA6;\n",
              "    }\n",
              "\n",
              "    [theme=dark] .colab-df-convert {\n",
              "      background-color: #3B4455;\n",
              "      fill: #D2E3FC;\n",
              "    }\n",
              "\n",
              "    [theme=dark] .colab-df-convert:hover {\n",
              "      background-color: #434B5C;\n",
              "      box-shadow: 0px 1px 3px 1px rgba(0, 0, 0, 0.15);\n",
              "      filter: drop-shadow(0px 1px 2px rgba(0, 0, 0, 0.3));\n",
              "      fill: #FFFFFF;\n",
              "    }\n",
              "  </style>\n",
              "\n",
              "      <script>\n",
              "        const buttonEl =\n",
              "          document.querySelector('#df-3a844888-ebce-4f05-807f-586324d31b5b button.colab-df-convert');\n",
              "        buttonEl.style.display =\n",
              "          google.colab.kernel.accessAllowed ? 'block' : 'none';\n",
              "\n",
              "        async function convertToInteractive(key) {\n",
              "          const element = document.querySelector('#df-3a844888-ebce-4f05-807f-586324d31b5b');\n",
              "          const dataTable =\n",
              "            await google.colab.kernel.invokeFunction('convertToInteractive',\n",
              "                                                     [key], {});\n",
              "          if (!dataTable) return;\n",
              "\n",
              "          const docLinkHtml = 'Like what you see? Visit the ' +\n",
              "            '<a target=\"_blank\" href=https://colab.research.google.com/notebooks/data_table.ipynb>data table notebook</a>'\n",
              "            + ' to learn more about interactive tables.';\n",
              "          element.innerHTML = '';\n",
              "          dataTable['output_type'] = 'display_data';\n",
              "          await google.colab.output.renderOutput(dataTable, element);\n",
              "          const docLink = document.createElement('div');\n",
              "          docLink.innerHTML = docLinkHtml;\n",
              "          element.appendChild(docLink);\n",
              "        }\n",
              "      </script>\n",
              "    </div>\n",
              "  </div>\n",
              "  "
            ],
            "text/plain": [
              "     Unnamed: 0                                        description  \\\n",
              "207        2679  ['The CyberPower CPH320AP Charging Dock and 3-...   \n",
              "\n",
              "                                                 title  \\\n",
              "207  CyberPower CPH320AP Charging Dock and 3 Port U...   \n",
              "\n",
              "                                               feature  \\\n",
              "207  ['iPod / iPhone 3G, 3GS, 4, 4S Charging Dock',...   \n",
              "\n",
              "                                                  rank  price        asin  \n",
              "207  ['>#718,144 in Cell Phones & Accessories (See ...  $4.00  B0006TIA8Y  "
            ]
          },
          "execution_count": 74,
          "metadata": {},
          "output_type": "execute_result"
        }
      ],
      "source": [
        "df_meta[df_meta['asin']=='B0006TIA8Y']"
      ]
    },
    {
      "cell_type": "code",
      "execution_count": null,
      "metadata": {
        "id": "okThcrd-kPZ2"
      },
      "outputs": [],
      "source": [
        "rec_dataset.inv_item_name_dict"
      ]
    },
    {
      "cell_type": "code",
      "execution_count": null,
      "metadata": {
        "id": "P6o-et3EvqQ9"
      },
      "outputs": [],
      "source": [
        "def get_features(item):\n",
        "  item_features=rec_dataset.item_features[item]\n",
        "  len_features=0\n",
        "  features=[]\n",
        "  # print(item)\n",
        "  # print(item_features)\n",
        "  for i in range(3):\n",
        "    len_features+=len(item_features[i])\n",
        "    features+=item_features[i]\n",
        "  # for key in item_features[3]:\n",
        "  #   len_features+=len(item_features[3][key])\n",
        "  #   features+=item_features[3][key]\n",
        "  # features+=item_features[3]\n",
        "  # len_features+=1\n",
        "  return len_features,features"
      ]
    },
    {
      "cell_type": "code",
      "execution_count": null,
      "metadata": {
        "id": "Hjd28mVPv-k3"
      },
      "outputs": [],
      "source": [
        "def get_new_item_vector(item,item_feature_name,new_weights,tensor_vect_desc,tensor_vect_title,tensor_vect_feature):\n",
        "    # item_id= rec_dataset.inv_item_name_dict[item]\n",
        "    final_vector=[]\n",
        "    # print(len(new_weights))\n",
        "    # print(len(item_feature_name[0]))\n",
        "    # print(tensor_vect_desc.shape)\n",
        "    average_vect_desc=get_average_vect_test(new_weights[0:len(item_feature_name[0])],tensor_vect_desc)\n",
        "    average_vect_title=get_average_vect_test(new_weights[len(item_feature_name[0]):len(item_feature_name[0])+len(item_feature_name[1])],tensor_vect_title)\n",
        "    average_vect_feature=get_average_vect_test(new_weights[len(item_feature_name[0])+len(item_feature_name[1]):],tensor_vect_feature)\n",
        "    # rank=normalized_rank[item_id]*new_weights[-1]\n",
        "    final_vector=torch.cat((average_vect_desc,average_vect_title,average_vect_feature))\n",
        "    # print(len(final_vector))\n",
        "    # final_vect=np.array(final_vector, dtype='float32')\n",
        "    return final_vector"
      ]
    },
    {
      "cell_type": "code",
      "execution_count": null,
      "metadata": {
        "colab": {
          "base_uri": "https://localhost:8080/"
        },
        "id": "wN92i5b1FY6Y",
        "outputId": "a6232584-f108-4bf9-d458-2fcd573b00ef"
      },
      "outputs": [
        {
          "data": {
            "text/plain": [
              "tensor([4.7803e-05])"
            ]
          },
          "execution_count": 119,
          "metadata": {},
          "output_type": "execute_result"
        }
      ],
      "source": [
        "torch.reshape(normalized_rank[item_id]*torch.tensor(0.5),(1,))"
      ]
    },
    {
      "cell_type": "code",
      "execution_count": null,
      "metadata": {
        "id": "oQ-IFon4P5O4"
      },
      "outputs": [],
      "source": [
        "class EXPGenerator(torch.nn.Module):\n",
        "    def __init__(self, rec_dataset, base_model, user_vect, item_vect,user,item, margin_score,tensor_vect_desc,tensor_vect_title,tensor_vect_feature, device):\n",
        "        super(EXPGenerator, self).__init__()\n",
        "        self.rec_dataset = rec_dataset\n",
        "        self.base_model = base_model\n",
        "        self.user_vect = user_vect\n",
        "        self.item_vect= item_vect\n",
        "        self.margin_score = margin_score\n",
        "        self.device = device\n",
        "        self.feature_length,self.features=get_features(item)\n",
        "        # print(self.features)\n",
        "        self.item=item\n",
        "        self.user=user\n",
        "        self.tensor_vect_desc=tensor_vect_desc\n",
        "        self.tensor_vect_title=tensor_vect_title\n",
        "        self.tensor_vect_feature=tensor_vect_feature\n",
        "        # self.feature_range = [0, 1]  # hard coded, should be improved later\n",
        "        self.delta_range = 1  # the maximum feature value.\n",
        "        self.delta = torch.nn.Parameter(\n",
        "            torch.FloatTensor(self.feature_length).uniform_(-self.delta_range, 0))\n",
        "        self.ws=torch.ones(self.feature_length).to(device)\n",
        "    \n",
        "    def get_masked_item_feature(self):\n",
        "        item_feature_name=self.rec_dataset.item_features[self.item]\n",
        "        # print(item_feature_name)\n",
        "        self.weights=(self.ws+ torch.clamp((self.delta), -self.delta_range,0))\n",
        "        # new_weights= 1.0/(1.0+torch.exp(-3.0*new_weights))\n",
        "        # new_weights= torch.where(new_weights>=0.5 , 1.0 , 0.0)\n",
        "        # new_weights=torch.tensor(new_weights , dtype= torch.float)\n",
        "        # print(len(self.weights))\n",
        "        item_feature_star=get_new_item_vector(self.item,item_feature_name,self.weights,self.tensor_vect_desc,self.tensor_vect_title,self.tensor_vect_feature)\n",
        "        # print(item_feature_star)\n",
        "        return item_feature_star\n",
        "    \n",
        "    def forward(self):\n",
        "        item_feature_star = self.get_masked_item_feature()\n",
        "        # print(item_feature_star.unsqueeze(0).shape)\n",
        "        # print(self.user_vect.unsqueeze(0).shape)\n",
        "        score = self.base_model(self.user_vect.unsqueeze(0), item_feature_star.unsqueeze(0))\n",
        "        # print(score)\n",
        "        return score\n",
        "    \n",
        "    def loss(self, score):\n",
        "        # print(score - self.margin_score)\n",
        "        bpr = torch.nn.functional.relu(alp + score - self.margin_score) * lam\n",
        "        # print(score - self.margin_score)\n",
        "        l2 = torch.linalg.norm(self.delta)\n",
        "        # num_removed= 1.0/(1.0+torch.exp(-1.0*self.delta))\n",
        "        # num_removed=torch.tensor(num_removed , dtype= torch.float)\n",
        "        # print(num_removed)\n",
        "        l1 = torch.linalg.norm(self.delta, ord=1) * gam\n",
        "        loss =  bpr +l1\n",
        "        return bpr, l2, l1, loss"
      ]
    },
    {
      "cell_type": "code",
      "execution_count": null,
      "metadata": {
        "id": "OfOGzq-Wsz7y"
      },
      "outputs": [],
      "source": [
        "with open(os.path.join(data_obj_path, dataset + \"_dataset_obj.pickle\"), 'rb') as inp:\n",
        "  rec_dataset = pickle.load(inp)"
      ]
    },
    {
      "cell_type": "code",
      "execution_count": null,
      "metadata": {
        "id": "1rzyaeIINiOz"
      },
      "outputs": [],
      "source": [
        "user_test_perspective"
      ]
    },
    {
      "cell_type": "code",
      "execution_count": null,
      "metadata": {
        "id": "fGywTyrWPsrh"
      },
      "outputs": [],
      "source": [
        "def evaluate_user_perspective(user_perspective_data, u_i_expl_dict):\n",
        "    pres = []\n",
        "    recs = []\n",
        "    f1s = []\n",
        "    for u_i, gt_features in user_perspective_data.items():\n",
        "        if u_i in u_i_expl_dict:\n",
        "            TP = 0\n",
        "            pre_features = u_i_expl_dict[u_i]\n",
        "            # print('f: ', gt_features, pre_features)\n",
        "            for feature in pre_features:\n",
        "                if feature in gt_features:\n",
        "                    TP += 1\n",
        "            # print(gt_features)\n",
        "            # print(pre_features)\n",
        "            pre = TP / len(pre_features)\n",
        "            rec = TP / len(gt_features)\n",
        "            if (pre + rec) != 0:\n",
        "                f1 = (2 * pre * rec) / (pre + rec)\n",
        "            else:\n",
        "                f1 = 0\n",
        "            pres.append(pre)\n",
        "            recs.append(rec)\n",
        "            f1s.append(f1)\n",
        "    ave_pre = np.mean(pres)\n",
        "    ave_rec = np.mean(recs)\n",
        "    ave_f1 = np.mean(f1s)\n",
        "    return ave_pre, ave_rec, ave_f1"
      ]
    },
    {
      "cell_type": "code",
      "execution_count": null,
      "metadata": {
        "id": "jzO5JyluPyG-"
      },
      "outputs": [],
      "source": [
        "def evaluate_model_perspective(\n",
        "        rec_dict,\n",
        "        u_i_exp_dict,\n",
        "        base_model,\n",
        "        user_feature_matrix,\n",
        "        item_feature_matrix,\n",
        "        rec_k,\n",
        "        dict_items_cf_feature,\n",
        "        device):\n",
        "    \"\"\"\n",
        "    compute PN, PS and F_NS score for the explanations\n",
        "    :param rec_dict: {u1: [i1, i2, i3, ...] , u2: [i1, i2, i3, ...]}\n",
        "    :param u_i_exp_dict: {(u, i): [f1, f2, ...], ...}\n",
        "    :param base_model: the trained base recommendation model\n",
        "    :param user_feature_matrix: |u| x |p| matrix, the attention on each feature p for each user u\n",
        "    :param item_feature_matrix: |i| x |p| matrix, the quality on each feature p for each item i\n",
        "    :param rec_k: the length of the recommendation list, only generated explanations for the items on the list\n",
        "    :param device: the device of the model\n",
        "    :return: the mean of the PN, PS and FNS scores\n",
        "    \"\"\"\n",
        "    pn_count = 0\n",
        "    ps_count = 0\n",
        "    # df_vects=rec_dataset.df_vects\n",
        "    # print(len( u_i_exp_dict))\n",
        "    i=0\n",
        "    for u_i, fs in u_i_exp_dict.items():\n",
        "        user = u_i[0]\n",
        "        target_item = u_i[1]\n",
        "        features = set(fs)\n",
        "        items = rec_dict[user]\n",
        "        target_index = items.index(target_item)\n",
        "        features=list(features)\n",
        "        if i%50==0:\n",
        "          print(i)\n",
        "        i+=1\n",
        "        # print(len(items))\n",
        "        # print(features)\n",
        "        # compute PN\n",
        "        cf_items_features1 = []\n",
        "        cf_items_features2 = []\n",
        "        for item in items:\n",
        "            # print(item)\n",
        "            # item_ori_feature = np.array(item_feature_matrix[item])\n",
        "            item_id=rec_dataset.inv_item_name_dict[item]\n",
        "            len_features,all_features=get_features(item)\n",
        "            # print(all_features)\n",
        "            item_feature_name=rec_dataset.item_features[item]\n",
        "            weights1=[0.0 if fea in features else 1.0 for fea in all_features]\n",
        "            weights2=[1.0 if fea in features else 0.0 for fea in all_features]\n",
        "            weights1=torch.from_numpy(np.array(weights1,dtype='float32')).to(device)\n",
        "            weights2=torch.from_numpy(np.array(weights2,dtype='float32')).to(device)\n",
        "            # print(len(all_features))\n",
        "            # print(all_features)\n",
        "            # weights=torch.FloatTensor(weights).to(device)\n",
        "            if item in dict_items_cf_feature.keys():\n",
        "              tensor_vect_desc,tensor_vect_title,tensor_vect_feature=dict_items_cf_feature[item]\n",
        "            else:\n",
        "              tensor_vect_desc,tensor_vect_title,tensor_vect_feature=get_tensor_vects(item_id)\n",
        "              dict_items_cf_feature[item]=(tensor_vect_desc,tensor_vect_title,tensor_vect_feature)\n",
        "            \n",
        "            item_cf_feature1=get_new_item_vector(item,item_feature_name,weights1,tensor_vect_desc,tensor_vect_title,tensor_vect_feature).detach().to('cpu').numpy()\n",
        "            item_cf_feature2=get_new_item_vector(item,item_feature_name,weights2,tensor_vect_desc,tensor_vect_title,tensor_vect_feature).detach().to('cpu').numpy()\n",
        "            cf_items_features1.append(item_cf_feature1)\n",
        "            cf_items_features2.append(item_cf_feature2)\n",
        "            # print(item_cf_feature)\n",
        "            # print(torch.from_numpy(np.array(cf_items_features,dtype='float32')).to(device))\n",
        "            # print(np.shape(item_cf_feature))\n",
        "            # print(np.shape(cf_items_features))\n",
        "        # print(np.shape(cf_items_features))\n",
        "        cf_ranking_scores1 = base_model(torch.from_numpy(np.array([user_feature_matrix[user]\n",
        "                                                                      for i in range(len(cf_items_features1))])\n",
        "                                                            ).to(device),\n",
        "                                           torch.from_numpy(np.array(cf_items_features1,dtype='float32')).to(device)).squeeze()\n",
        "        cf_score_list1 = cf_ranking_scores1.to('cpu').detach().numpy()\n",
        "        sorted_index1 = np.argsort(cf_score_list1)[::-1]\n",
        "        cf_rank1 = np.argwhere(sorted_index1 == target_index)[0, 0]  # the updated ranking of the current item\n",
        "        if cf_rank1 > rec_k - 1:\n",
        "            pn_count += 1\n",
        "        # compute NS\n",
        "        cf_ranking_scores2 = base_model(torch.from_numpy(np.array([user_feature_matrix[user]\n",
        "                                                                      for i in range(len(cf_items_features2))])\n",
        "                                                            ).to(device),\n",
        "                                           torch.from_numpy(np.array(cf_items_features2,dtype='float32')).to(device)).squeeze()\n",
        "        cf_score_list2 = cf_ranking_scores2.to('cpu').detach().numpy()\n",
        "        sorted_index2 = np.argsort(cf_score_list2)[::-1]\n",
        "        cf_rank2 = np.argwhere(sorted_index2 == target_index)[0, 0]  # the updated ranking of the current item\n",
        "        if cf_rank2 < rec_k:\n",
        "            ps_count += 1\n",
        "    if len(u_i_exp_dict) != 0:\n",
        "        pn = pn_count / len(u_i_exp_dict)\n",
        "        ps = ps_count / len(u_i_exp_dict)\n",
        "        if (pn + ps) != 0:\n",
        "            fns = (2 * pn * ps) / (pn + ps)\n",
        "        else:\n",
        "            fns = 0\n",
        "    else:\n",
        "        pn = 0\n",
        "        ps = 0\n",
        "        fns = 0\n",
        "    return pn, ps, fns"
      ]
    },
    {
      "cell_type": "code",
      "execution_count": null,
      "metadata": {
        "id": "WBYDMTkqqdz2"
      },
      "outputs": [],
      "source": [
        "with open(os.path.join(data_obj_path, dataset + \"_dataset_obj.pickle\"), 'rb') as inp:\n",
        "   rec_dataset = pickle.load(inp)"
      ]
    },
    {
      "cell_type": "code",
      "execution_count": null,
      "metadata": {
        "colab": {
          "base_uri": "https://localhost:8080/"
        },
        "id": "ol5Ikjv8PAkK",
        "outputId": "acc2d1e3-f2b9-46fd-bab9-3c07c38a0e19"
      },
      "outputs": [
        {
          "name": "stdout",
          "output_type": "stream",
          "text": [
            "cuda:0\n"
          ]
        },
        {
          "name": "stderr",
          "output_type": "stream",
          "text": [
            "100%|██████████| 93/93 [21:07<00:00, 13.62s/it]\n"
          ]
        },
        {
          "name": "stdout",
          "output_type": "stream",
          "text": [
            "ave num:  6.05 ave complexity:  6.6784915779077485 no_exp_count:  5 exp_count:  460\n",
            "user's perspective:\n",
            "ave pre:  0.10757709675533568   ave rec:  0.04972605084382754   ave f1:  0.05718869502040338\n",
            "0\n",
            "50\n",
            "100\n",
            "150\n",
            "200\n",
            "250\n",
            "300\n",
            "350\n",
            "400\n",
            "450\n",
            "model's perspective:\n",
            "ave PN:  0.9152173913043479   ave PS:  0.9717391304347827   ave F_{NS}:  0.9426317371268282\n"
          ]
        }
      ],
      "source": [
        "def generate_explanation():\n",
        "    if gpu:\n",
        "        device = torch.device('cuda:%s' %cuda)\n",
        "    else:\n",
        "        device = 'cpu'\n",
        "    print(device)\n",
        "    # import dataset\n",
        "    with open(os.path.join(data_obj_path, dataset + \"_dataset_obj.pickle\"), 'rb') as inp:\n",
        "        rec_dataset = pickle.load(inp)\n",
        "    base_model = BaseRecModel(rec_dataset.feature_num).to(device)\n",
        "    base_model.load_state_dict(torch.load(os.path.join(base_model_path,\"model.model\"),map_location=torch.device(device)))\n",
        "    base_model.eval()\n",
        "    #  fix the rec model\n",
        "    for param in base_model.parameters():\n",
        "        param.requires_grad = False\n",
        "    \n",
        "    # Create optimization model\n",
        "    opt_model = ExpOptimizationModel(\n",
        "        base_model=base_model,\n",
        "        rec_dataset=rec_dataset,\n",
        "        device = device,\n",
        "          \n",
        "    )\n",
        "\n",
        "    opt_model.generate_explanation()\n",
        "    Path(save_path).mkdir(parents=True, exist_ok=True)\n",
        "    with open(os.path.join(save_path, dataset + \"_explanation_obj.pickle\"), 'wb') as outp:\n",
        "        pickle.dump(opt_model, outp, pickle.HIGHEST_PROTOCOL)\n",
        "    # with open(os.path.join(save_path, dataset + \"_explanation_obj.pickle\"), 'rb') as opt:\n",
        "    #     opt_model = pickle.load(opt)\n",
        "    opt_model.user_side_evaluation()\n",
        "    opt_model.model_side_evaluation()\n",
        "    # print(opt_model.u_i_exp_dict)\n",
        "    # Path(save_path).mkdir(parents=True, exist_ok=True)\n",
        "    # with open(os.path.join(save_path, dataset + \"_explanation_obj.pickle\"), 'wb') as outp:\n",
        "    #     pickle.dump(opt_model, outp, pickle.HIGHEST_PROTOCOL)\n",
        "    return opt_model\n",
        "\n",
        "\n",
        "if __name__ == \"__main__\":\n",
        "    opt_model=generate_explanation()"
      ]
    },
    {
      "cell_type": "code",
      "execution_count": null,
      "metadata": {
        "id": "k2PmcsmgewMZ"
      },
      "outputs": [],
      "source": [
        "with open(os.path.join(save_path, dataset + \"_explanation_obj_main.pickle\"), 'rb') as opt:\n",
        "  opt_model = pickle.load(opt)"
      ]
    },
    {
      "cell_type": "code",
      "execution_count": null,
      "metadata": {
        "colab": {
          "base_uri": "https://localhost:8080/",
          "height": 35
        },
        "id": "3PUDuoHbl9oT",
        "outputId": "b7159e83-5cf8-4066-f474-ab6341970927"
      },
      "outputs": [
        {
          "data": {
            "application/vnd.google.colaboratory.intrinsic+json": {
              "type": "string"
            },
            "text/plain": [
              "'A1F7YU6O5RU432'"
            ]
          },
          "execution_count": 84,
          "metadata": {},
          "output_type": "execute_result"
        }
      ],
      "source": [
        "user_id=opt_model.rec_dataset.inv_user_name_dict[58]\n",
        "user_id"
      ]
    },
    {
      "cell_type": "code",
      "execution_count": null,
      "metadata": {
        "colab": {
          "base_uri": "https://localhost:8080/",
          "height": 35
        },
        "id": "qGNUs58TmEiX",
        "outputId": "5b290168-6179-40e1-8a3b-e1a89f92b3e4"
      },
      "outputs": [
        {
          "data": {
            "application/vnd.google.colaboratory.intrinsic+json": {
              "type": "string"
            },
            "text/plain": [
              "'B00Z7RQ0NC'"
            ]
          },
          "execution_count": 80,
          "metadata": {},
          "output_type": "execute_result"
        }
      ],
      "source": [
        "item_id=opt_model.rec_dataset.inv_item_name_dict[1464]\n",
        "item_id"
      ]
    },
    {
      "cell_type": "code",
      "execution_count": null,
      "metadata": {
        "colab": {
          "base_uri": "https://localhost:8080/",
          "height": 88
        },
        "id": "XUEgGXnXmJD5",
        "outputId": "700ea7df-50d4-421a-99e8-28d32064418e"
      },
      "outputs": [
        {
          "data": {
            "application/vnd.google.colaboratory.intrinsic+json": {
              "type": "string"
            },
            "text/plain": [
              "\"['Color:DATE NIGHT (BLACK/WHITE POLKA DOT GRAPHIC) | Product Packaging:Retail Packaging When it comes to your iPhone 8 Plus & iPhone 7 Plus, its not just about protection. Its also about you  your style, your personality, your life. With Symmetry Series, you dont have to choose between a protective case and a stylish one. You can make a fashion statement while you protect your phone.']\""
            ]
          },
          "execution_count": 81,
          "metadata": {},
          "output_type": "execute_result"
        }
      ],
      "source": [
        "df_meta[df_meta['asin']==item_id]['description'].values[0]"
      ]
    },
    {
      "cell_type": "code",
      "execution_count": null,
      "metadata": {
        "colab": {
          "base_uri": "https://localhost:8080/",
          "height": 88
        },
        "id": "dmtEfyYYnviq",
        "outputId": "c351d0c2-7c8a-45a4-f4f6-9d7693d23c3c"
      },
      "outputs": [
        {
          "data": {
            "application/vnd.google.colaboratory.intrinsic+json": {
              "type": "string"
            },
            "text/plain": [
              "\"['Compatible with iPhone 8 Plus & iPhone 7 Plus (ONLY)', 'Thin, sleek, stylish, pocket-friendly design, with wraparound colors and graphics add seamless style.', 'Dual-material construction absorbs shock and withstands drops, plus raised beveled edge keeps your touchscreen safe.', 'Easy installation protects and stylizes your phone in a flash.', 'Includes OtterBox limited lifetime warranty (see website for details) and 100% authentic.']\""
            ]
          },
          "execution_count": 82,
          "metadata": {},
          "output_type": "execute_result"
        }
      ],
      "source": [
        "df_meta[df_meta['asin']==item_id]['feature'].values[0]"
      ]
    },
    {
      "cell_type": "code",
      "execution_count": null,
      "metadata": {
        "colab": {
          "base_uri": "https://localhost:8080/",
          "height": 53
        },
        "id": "Q5VQzN6KnxKN",
        "outputId": "b6ad3a4b-5fa7-4375-e865-971601979b69"
      },
      "outputs": [
        {
          "data": {
            "application/vnd.google.colaboratory.intrinsic+json": {
              "type": "string"
            },
            "text/plain": [
              "'OtterBox SYMMETRY SERIES Case for  iPhone 8 Plus &amp; iPhone 7 Plus (ONLY)  - DATE NIGHT (BLACK/WHITE POLKA DOT GRAPHIC)'"
            ]
          },
          "execution_count": 85,
          "metadata": {},
          "output_type": "execute_result"
        }
      ],
      "source": [
        "df_meta[df_meta['asin']==item_id]['title'].values[0]"
      ]
    },
    {
      "cell_type": "code",
      "execution_count": null,
      "metadata": {
        "colab": {
          "base_uri": "https://localhost:8080/"
        },
        "id": "RUonR0O4ncpd",
        "outputId": "0a611e99-2e75-4e99-93e9-713eeba1f88a"
      },
      "outputs": [
        {
          "data": {
            "text/plain": [
              "<__main__.AmazonDataset at 0x7f84b07029a0>"
            ]
          },
          "execution_count": 69,
          "metadata": {},
          "output_type": "execute_result"
        }
      ],
      "source": [
        "opt_model.rec_dataset"
      ]
    },
    {
      "cell_type": "code",
      "execution_count": null,
      "metadata": {
        "id": "Sji5XivMllKV"
      },
      "outputs": [],
      "source": [
        "opt_model.rec_dataset.test_data"
      ]
    },
    {
      "cell_type": "markdown",
      "source": [
        "# Calculate Stability ..."
      ],
      "metadata": {
        "id": "jCFOLJGp_3EO"
      }
    },
    {
      "cell_type": "code",
      "source": [
        "def generate_explanation_check_stability():\n",
        "    if gpu:\n",
        "        device = torch.device('cuda:%s' %cuda)\n",
        "    else:\n",
        "        device = 'cpu'\n",
        "    print(device)\n",
        "    with open(os.path.join(data_obj_path, dataset + \"_dataset_obj.pickle\"), 'rb') as inp:\n",
        "        rec_dataset = pickle.load(inp)\n",
        "    base_model = BaseRecModel(rec_dataset.feature_num).to(device)\n",
        "    base_model.load_state_dict(torch.load(os.path.join(base_model_path,\"model.model\"),map_location=torch.device(device)))\n",
        "    base_model.eval()\n",
        "    #  fix the rec model\n",
        "    for param in base_model.parameters():\n",
        "        param.requires_grad = False\n",
        "    \n",
        "    \n",
        "    # Create optimization model\n",
        "    features_found=[]\n",
        "    for i in range(10):\n",
        "      opt_model = ExpOptimizationModel(\n",
        "        base_model=base_model,\n",
        "        rec_dataset=rec_dataset,\n",
        "        device = device,)\n",
        "      opt_model.generate_explanation()\n",
        "      features_found.append(opt_model.u_i_exp_dict)\n",
        "      \n",
        "    \n",
        "    return features_found\n",
        "\n",
        "\n",
        "if __name__ == \"__main__\":\n",
        "    features_found=generate_explanation_check_stability()"
      ],
      "metadata": {
        "colab": {
          "base_uri": "https://localhost:8080/"
        },
        "id": "Jw3vT7lYtMMH",
        "outputId": "4743f78d-60b8-48d5-e98e-ecc416d0d19d"
      },
      "execution_count": null,
      "outputs": [
        {
          "metadata": {
            "tags": null
          },
          "name": "stdout",
          "output_type": "stream",
          "text": [
            "cuda:0\n"
          ]
        },
        {
          "metadata": {
            "tags": null
          },
          "name": "stderr",
          "output_type": "stream",
          "text": [
            "100%|██████████| 10/10 [03:44<00:00, 22.43s/it]\n"
          ]
        },
        {
          "metadata": {
            "tags": null
          },
          "name": "stdout",
          "output_type": "stream",
          "text": [
            "ave num:  4.72 ave complexity:  5.463916503429413 no_exp_count:  0 exp_count:  50\n"
          ]
        },
        {
          "metadata": {
            "tags": null
          },
          "name": "stderr",
          "output_type": "stream",
          "text": [
            "100%|██████████| 10/10 [01:24<00:00,  8.42s/it]\n"
          ]
        },
        {
          "metadata": {
            "tags": null
          },
          "name": "stdout",
          "output_type": "stream",
          "text": [
            "ave num:  4.84 ave complexity:  5.555135503292082 no_exp_count:  0 exp_count:  50\n"
          ]
        },
        {
          "metadata": {
            "tags": null
          },
          "name": "stderr",
          "output_type": "stream",
          "text": [
            "100%|██████████| 10/10 [01:23<00:00,  8.37s/it]\n"
          ]
        },
        {
          "metadata": {
            "tags": null
          },
          "name": "stdout",
          "output_type": "stream",
          "text": [
            "ave num:  4.74 ave complexity:  5.4799079279899585 no_exp_count:  0 exp_count:  50\n"
          ]
        },
        {
          "metadata": {
            "tags": null
          },
          "name": "stderr",
          "output_type": "stream",
          "text": [
            "100%|██████████| 10/10 [01:23<00:00,  8.35s/it]\n"
          ]
        },
        {
          "metadata": {
            "tags": null
          },
          "name": "stdout",
          "output_type": "stream",
          "text": [
            "ave num:  4.84 ave complexity:  5.549920747756956 no_exp_count:  0 exp_count:  50\n"
          ]
        },
        {
          "metadata": {
            "tags": null
          },
          "name": "stderr",
          "output_type": "stream",
          "text": [
            "100%|██████████| 10/10 [01:24<00:00,  8.40s/it]\n"
          ]
        },
        {
          "metadata": {
            "tags": null
          },
          "name": "stdout",
          "output_type": "stream",
          "text": [
            "ave num:  4.82 ave complexity:  5.53976008439064 no_exp_count:  0 exp_count:  50\n"
          ]
        },
        {
          "output_type": "stream",
          "name": "stderr",
          "text": [
            "100%|██████████| 10/10 [01:23<00:00,  8.34s/it]\n",
            "\n"
          ]
        },
        {
          "output_type": "stream",
          "name": "stdout",
          "text": [
            "ave num:  4.9 ave complexity:  5.601808297634124 no_exp_count:  0 exp_count:  50\n",
            "ave num:  4.9 ave complexity:  5.601808297634124 no_exp_count:  0 exp_count:  50\n"
          ]
        },
        {
          "output_type": "stream",
          "name": "stderr",
          "text": [
            "100%|██████████| 10/10 [01:23<00:00,  8.40s/it]\n",
            "\n"
          ]
        },
        {
          "output_type": "stream",
          "name": "stdout",
          "text": [
            "ave num:  4.76 ave complexity:  5.494335857152938 no_exp_count:  0 exp_count:  50\n",
            "ave num:  4.76 ave complexity:  5.494335857152938 no_exp_count:  0 exp_count:  50\n"
          ]
        },
        {
          "output_type": "stream",
          "name": "stderr",
          "text": [
            "100%|██████████| 10/10 [01:24<00:00,  8.45s/it]\n",
            "\n"
          ]
        },
        {
          "output_type": "stream",
          "name": "stdout",
          "text": [
            "ave num:  4.68 ave complexity:  5.43424874639511 no_exp_count:  0 exp_count:  50\n",
            "ave num:  4.68 ave complexity:  5.43424874639511 no_exp_count:  0 exp_count:  50\n"
          ]
        },
        {
          "output_type": "stream",
          "name": "stderr",
          "text": [
            "100%|██████████| 10/10 [01:24<00:00,  8.43s/it]\n",
            "\n"
          ]
        },
        {
          "output_type": "stream",
          "name": "stdout",
          "text": [
            "ave num:  4.94 ave complexity:  5.6281217162609085 no_exp_count:  0 exp_count:  50\n",
            "ave num:  4.94 ave complexity:  5.6281217162609085 no_exp_count:  0 exp_count:  50\n"
          ]
        },
        {
          "output_type": "stream",
          "name": "stderr",
          "text": [
            "100%|██████████| 10/10 [01:24<00:00,  8.42s/it]"
          ]
        },
        {
          "output_type": "stream",
          "name": "stdout",
          "text": [
            "ave num:  4.84 ave complexity:  5.552221096038817 no_exp_count:  0 exp_count:  50\n",
            "ave num:  4.84 ave complexity:  5.552221096038817 no_exp_count:  0 exp_count:  50\n"
          ]
        },
        {
          "output_type": "stream",
          "name": "stderr",
          "text": [
            "\n",
            "\n"
          ]
        }
      ]
    },
    {
      "cell_type": "code",
      "source": [
        "dict_features={}\n",
        "for iter_feas in features_found:\n",
        "  for u_i in iter_feas.keys():\n",
        "    # feas=list(iter_feas[u_i][0][0].columns)\n",
        "    feas=iter_feas[u_i]\n",
        "    # print(iter_feas[u_i])\n",
        "    if u_i in dict_features.keys():\n",
        "      dict_features[u_i].append(feas)\n",
        "    else:\n",
        "      dict_features[u_i]=[]\n",
        "      dict_features[u_i].append(feas)"
      ],
      "metadata": {
        "id": "nHcOCida1oXF"
      },
      "execution_count": null,
      "outputs": []
    },
    {
      "cell_type": "code",
      "source": [
        "dict_features"
      ],
      "metadata": {
        "colab": {
          "base_uri": "https://localhost:8080/"
        },
        "id": "ZA9cH1yMebbr",
        "outputId": "4231f502-05e6-436f-c744-f46174a82bc0"
      },
      "execution_count": null,
      "outputs": [
        {
          "output_type": "execute_result",
          "data": {
            "text/plain": [
              "{(6, 1810): [['speck', 'grade', 'galaxy', 'samsung', 'military', 'edge'],\n",
              "  ['speck', 'grade', 'galaxy', 'samsung', 'military', 'edge'],\n",
              "  ['speck', 'grade', 'galaxy', 'samsung', 'military', 'edge'],\n",
              "  ['speck', 'grade', 'galaxy', 'samsung', 'military', 'edge'],\n",
              "  ['speck', 'grade', 'galaxy', 'samsung', 'military', 'edge'],\n",
              "  ['speck', 'grade', 'galaxy', 'samsung', 'military', 'edge'],\n",
              "  ['speck', 'grade', 'galaxy', 'samsung', 'military', 'edge'],\n",
              "  ['speck', 'grade', 'galaxy', 'samsung', 'military', 'edge'],\n",
              "  ['speck', 'grade', 'galaxy', 'samsung', 'military', 'edge'],\n",
              "  ['speck', 'grade', 'galaxy', 'samsung', 'military', 'edge']],\n",
              " (6,\n",
              "  1847): [['voice',\n",
              "   'exclusively',\n",
              "   'phones',\n",
              "   'car',\n",
              "   'android',\n",
              "   'assistant',\n",
              "   'zerotouch',\n",
              "   'mount',\n",
              "   'amazon',\n",
              "   'hands',\n",
              "   'logitech',\n",
              "   'alexa',\n",
              "   'free'], ['voice',\n",
              "   'exclusively',\n",
              "   'phones',\n",
              "   'car',\n",
              "   'android',\n",
              "   'assistant',\n",
              "   'zerotouch',\n",
              "   'mount',\n",
              "   'amazon',\n",
              "   'hands',\n",
              "   'logitech',\n",
              "   'alexa',\n",
              "   'free'], ['voice',\n",
              "   'exclusively',\n",
              "   'phones',\n",
              "   'car',\n",
              "   'android',\n",
              "   'assistant',\n",
              "   'zerotouch',\n",
              "   'mount',\n",
              "   'amazon',\n",
              "   'hands',\n",
              "   'logitech',\n",
              "   'alexa',\n",
              "   'free'], ['voice',\n",
              "   'exclusively',\n",
              "   'phones',\n",
              "   'car',\n",
              "   'android',\n",
              "   'assistant',\n",
              "   'zerotouch',\n",
              "   'mount',\n",
              "   'amazon',\n",
              "   'hands',\n",
              "   'logitech',\n",
              "   'alexa',\n",
              "   'free'], ['voice',\n",
              "   'exclusively',\n",
              "   'phones',\n",
              "   'car',\n",
              "   'android',\n",
              "   'assistant',\n",
              "   'zerotouch',\n",
              "   'mount',\n",
              "   'amazon',\n",
              "   'hands',\n",
              "   'logitech',\n",
              "   'alexa',\n",
              "   'free'], ['voice',\n",
              "   'exclusively',\n",
              "   'phones',\n",
              "   'car',\n",
              "   'android',\n",
              "   'assistant',\n",
              "   'zerotouch',\n",
              "   'mount',\n",
              "   'amazon',\n",
              "   'hands',\n",
              "   'logitech',\n",
              "   'alexa',\n",
              "   'free'], ['voice',\n",
              "   'exclusively',\n",
              "   'phones',\n",
              "   'car',\n",
              "   'android',\n",
              "   'assistant',\n",
              "   'zerotouch',\n",
              "   'mount',\n",
              "   'amazon',\n",
              "   'hands',\n",
              "   'logitech',\n",
              "   'alexa',\n",
              "   'free'], ['voice',\n",
              "   'exclusively',\n",
              "   'phones',\n",
              "   'car',\n",
              "   'android',\n",
              "   'assistant',\n",
              "   'zerotouch',\n",
              "   'mount',\n",
              "   'amazon',\n",
              "   'hands',\n",
              "   'logitech',\n",
              "   'alexa',\n",
              "   'free'], ['voice',\n",
              "   'exclusively',\n",
              "   'phones',\n",
              "   'car',\n",
              "   'android',\n",
              "   'assistant',\n",
              "   'zerotouch',\n",
              "   'mount',\n",
              "   'amazon',\n",
              "   'hands',\n",
              "   'logitech',\n",
              "   'alexa',\n",
              "   'free'], ['voice',\n",
              "   'exclusively',\n",
              "   'phones',\n",
              "   'car',\n",
              "   'android',\n",
              "   'assistant',\n",
              "   'zerotouch',\n",
              "   'mount',\n",
              "   'amazon',\n",
              "   'hands',\n",
              "   'logitech',\n",
              "   'alexa',\n",
              "   'free']],\n",
              " (6, 1174): [['phone', 'smartphones', 'android', 'iphone', 'okra', 'devices'],\n",
              "  ['phone', 'smartphones', 'android', 'iphone', 'okra'],\n",
              "  ['phone', 'smartphones', 'android', 'iphone', 'okra', 'devices'],\n",
              "  ['phone', 'smartphones', 'android', 'iphone', 'okra', 'devices'],\n",
              "  ['phone', 'smartphones', 'android', 'iphone', 'okra', 'devices'],\n",
              "  ['phone', 'smartphones', 'android', 'iphone', 'okra', 'devices'],\n",
              "  ['phone', 'smartphones', 'android', 'iphone', 'okra', 'devices'],\n",
              "  ['phone', 'smartphones', 'android', 'iphone', 'okra', 'devices'],\n",
              "  ['phone', 'smartphones', 'android', 'iphone', 'okra'],\n",
              "  ['phone', 'smartphones', 'android', 'iphone', 'okra']],\n",
              " (6, 1809): [['galaxy', 'samsung', 'speck'],\n",
              "  ['galaxy', 'samsung', 'speck'],\n",
              "  ['galaxy', 'samsung', 'speck'],\n",
              "  ['galaxy', 'purple', 'samsung', 'speck'],\n",
              "  ['speck', 'galaxy', 'orange', 'samsung', 'purple'],\n",
              "  ['galaxy', 'samsung', 'speck'],\n",
              "  ['galaxy', 'samsung', 'speck'],\n",
              "  ['galaxy', 'samsung', 'speck'],\n",
              "  ['galaxy', 'samsung', 'speck'],\n",
              "  ['galaxy', 'samsung', 'speck']],\n",
              " (6, 1311): [['purple'],\n",
              "  ['purple'],\n",
              "  ['purple'],\n",
              "  ['purple'],\n",
              "  ['purple'],\n",
              "  ['purple'],\n",
              "  ['purple'],\n",
              "  ['purple'],\n",
              "  ['galaxy', 'purple'],\n",
              "  ['purple']],\n",
              " (8,\n",
              "  911): [['provides',\n",
              "   'easily',\n",
              "   'nokia',\n",
              "   'saving',\n",
              "   'blackberry',\n",
              "   'palm',\n",
              "   'motorola',\n",
              "   'data'], ['provides',\n",
              "   'easily',\n",
              "   'usb',\n",
              "   'nokia',\n",
              "   'saving',\n",
              "   'blackberry',\n",
              "   'motorola',\n",
              "   'data'], ['provides',\n",
              "   'easily',\n",
              "   'usb',\n",
              "   'nokia',\n",
              "   'saving',\n",
              "   'blackberry',\n",
              "   'motorola',\n",
              "   'adapter',\n",
              "   'data'], ['provides',\n",
              "   'easily',\n",
              "   'carrying',\n",
              "   'saving',\n",
              "   'blackberry',\n",
              "   'motorola',\n",
              "   'adapter',\n",
              "   'data'], ['provides',\n",
              "   'easily',\n",
              "   'carrying',\n",
              "   'usb',\n",
              "   'nokia',\n",
              "   'blackberry',\n",
              "   'motorola',\n",
              "   'adapter',\n",
              "   'data'], ['provides',\n",
              "   'easily',\n",
              "   'room',\n",
              "   'nokia',\n",
              "   'saving',\n",
              "   'blackberry',\n",
              "   'palm',\n",
              "   'motorola',\n",
              "   'samsung',\n",
              "   'data'], ['provides',\n",
              "   'easily',\n",
              "   'nokia',\n",
              "   'saving',\n",
              "   'blackberry',\n",
              "   'palm',\n",
              "   'motorola',\n",
              "   'data'], ['provides',\n",
              "   'easily',\n",
              "   'nokia',\n",
              "   'saving',\n",
              "   'blackberry',\n",
              "   'motorola',\n",
              "   'adapter',\n",
              "   'data'], ['provides',\n",
              "   'easily',\n",
              "   'carrying',\n",
              "   'nokia',\n",
              "   'saving',\n",
              "   'blackberry',\n",
              "   'palm',\n",
              "   'motorola',\n",
              "   'data'], ['provides',\n",
              "   'easily',\n",
              "   'nokia',\n",
              "   'saving',\n",
              "   'blackberry',\n",
              "   'motorola',\n",
              "   'adapter',\n",
              "   'data']],\n",
              " (8,\n",
              "  951): [['etre',\n",
              "   'works',\n",
              "   'control',\n",
              "   'innovative',\n",
              "   'delivers',\n",
              "   'response',\n",
              "   'mic',\n",
              "   'aides',\n",
              "   'pair',\n",
              "   'deliver',\n",
              "   'distortion',\n",
              "   'free',\n",
              "   'isolation',\n",
              "   'high',\n",
              "   'acoustic',\n",
              "   'jeune',\n",
              "   'lover'], ['etre',\n",
              "   'works',\n",
              "   'control',\n",
              "   'innovative',\n",
              "   'delivers',\n",
              "   'response',\n",
              "   'mic',\n",
              "   'noise',\n",
              "   'jeune',\n",
              "   'pair',\n",
              "   'deliver',\n",
              "   'distortion',\n",
              "   'free',\n",
              "   'isolation',\n",
              "   'audio',\n",
              "   'acoustic',\n",
              "   'aides',\n",
              "   'lover'], ['etre',\n",
              "   'works',\n",
              "   'control',\n",
              "   'innovative',\n",
              "   '5mm',\n",
              "   'delivers',\n",
              "   'mic',\n",
              "   'response',\n",
              "   'noise',\n",
              "   'pair',\n",
              "   'android',\n",
              "   'distortion',\n",
              "   'isolation',\n",
              "   'audio',\n",
              "   'acoustic',\n",
              "   'jeune',\n",
              "   'lover'], ['etre',\n",
              "   'works',\n",
              "   'response',\n",
              "   'innovative',\n",
              "   '5mm',\n",
              "   'delivers',\n",
              "   'mic',\n",
              "   'clean',\n",
              "   'noise',\n",
              "   'pair',\n",
              "   'tonesthe',\n",
              "   'android',\n",
              "   'distortion',\n",
              "   'isolation',\n",
              "   'audio',\n",
              "   'acoustic',\n",
              "   'jeune',\n",
              "   'lover'], ['etre',\n",
              "   'works',\n",
              "   'control',\n",
              "   'innovative',\n",
              "   'delivers',\n",
              "   'response',\n",
              "   'mic',\n",
              "   'noise',\n",
              "   'pair',\n",
              "   'android',\n",
              "   'distortion',\n",
              "   'isolation',\n",
              "   'audio',\n",
              "   'acoustic',\n",
              "   'jeune',\n",
              "   'lover'], ['etre',\n",
              "   'works',\n",
              "   'control',\n",
              "   'innovative',\n",
              "   '5mm',\n",
              "   'delivers',\n",
              "   'mic',\n",
              "   'response',\n",
              "   'pair',\n",
              "   'android',\n",
              "   'distortion',\n",
              "   'isolation',\n",
              "   'audio',\n",
              "   'acoustic',\n",
              "   'jeune',\n",
              "   'lover'], ['etre',\n",
              "   'works',\n",
              "   'control',\n",
              "   'innovative',\n",
              "   'delivers',\n",
              "   'response',\n",
              "   'mic',\n",
              "   'pair',\n",
              "   'system',\n",
              "   'isolation',\n",
              "   'audio',\n",
              "   'acoustic',\n",
              "   'jeune',\n",
              "   'lover'], ['etre',\n",
              "   'works',\n",
              "   'control',\n",
              "   'innovative',\n",
              "   'delivers',\n",
              "   'response',\n",
              "   'mic',\n",
              "   'pair',\n",
              "   'distortion',\n",
              "   'isolation',\n",
              "   'audio',\n",
              "   'acoustic',\n",
              "   'jeune',\n",
              "   'lover'], ['etre',\n",
              "   'works',\n",
              "   'control',\n",
              "   'innovative',\n",
              "   'delivers',\n",
              "   'response',\n",
              "   'mic',\n",
              "   'deliver',\n",
              "   'isolation',\n",
              "   'high',\n",
              "   'audio',\n",
              "   'pair',\n",
              "   'jeune',\n",
              "   'lover'], ['etre',\n",
              "   'works',\n",
              "   'control',\n",
              "   'innovative',\n",
              "   'delivers',\n",
              "   'response',\n",
              "   'mic',\n",
              "   'pair',\n",
              "   'deliver',\n",
              "   'distortion',\n",
              "   'allows',\n",
              "   'isolation',\n",
              "   'high',\n",
              "   'audio',\n",
              "   'acoustic',\n",
              "   'jeune',\n",
              "   'lover']],\n",
              " (8, 1412): [['white', 'apple', 'speck'],\n",
              "  ['apple', 'speck'],\n",
              "  ['white', 'apple', 'speck'],\n",
              "  ['apple', 'speck'],\n",
              "  ['white', 'apple', 'speck'],\n",
              "  ['apple', 'speck'],\n",
              "  ['apple', 'speck'],\n",
              "  ['apple', 'speck'],\n",
              "  ['apple', 'speck'],\n",
              "  ['white', 'apple', 'speck']],\n",
              " (8,\n",
              "  448): [['discontinued',\n",
              "   'compact',\n",
              "   'galaxy',\n",
              "   '2600mah',\n",
              "   'battery',\n",
              "   '700mah',\n",
              "   'samsung',\n",
              "   'outlet',\n",
              "   'seconds'], ['discontinued',\n",
              "   'compact',\n",
              "   'galaxy',\n",
              "   '2600mah',\n",
              "   'battery',\n",
              "   '700mah',\n",
              "   'travel',\n",
              "   'samsung',\n",
              "   'outlet',\n",
              "   'seconds'], ['charging',\n",
              "   'discontinued',\n",
              "   'compact',\n",
              "   'galaxy',\n",
              "   '2600mah',\n",
              "   'battery',\n",
              "   '700mah',\n",
              "   'samsung',\n",
              "   'outlet',\n",
              "   'seconds'], ['discontinued',\n",
              "   'galaxy',\n",
              "   'charges',\n",
              "   '2600mah',\n",
              "   'battery',\n",
              "   '700mah',\n",
              "   'travel',\n",
              "   'samsung',\n",
              "   'outlet',\n",
              "   'seconds'], ['discontinued',\n",
              "   'compact',\n",
              "   'galaxy',\n",
              "   '2600mah',\n",
              "   'battery',\n",
              "   '700mah',\n",
              "   'samsung',\n",
              "   'outlet',\n",
              "   'seconds'], ['discontinued',\n",
              "   'compact',\n",
              "   'galaxy',\n",
              "   '2600mah',\n",
              "   'battery',\n",
              "   '700mah',\n",
              "   'travel',\n",
              "   'samsung',\n",
              "   'outlet',\n",
              "   'seconds'], ['charging',\n",
              "   'discontinued',\n",
              "   'compact',\n",
              "   'also',\n",
              "   'included',\n",
              "   'charges',\n",
              "   '700mah',\n",
              "   'outlet',\n",
              "   'travel',\n",
              "   'seconds',\n",
              "   'samsung',\n",
              "   'adapter',\n",
              "   'wall',\n",
              "   '2600mah'], ['discontinued',\n",
              "   'compact',\n",
              "   'galaxy',\n",
              "   'included',\n",
              "   '2600mah',\n",
              "   'battery',\n",
              "   '700mah',\n",
              "   'samsung',\n",
              "   'outlet',\n",
              "   'seconds'], ['charging',\n",
              "   'discontinued',\n",
              "   'compact',\n",
              "   'included',\n",
              "   'charges',\n",
              "   '700mah',\n",
              "   'outlet',\n",
              "   'travel',\n",
              "   'seconds',\n",
              "   'samsung',\n",
              "   'wall',\n",
              "   '2600mah'], ['discontinued',\n",
              "   'compact',\n",
              "   'galaxy',\n",
              "   '2600mah',\n",
              "   'battery',\n",
              "   '700mah',\n",
              "   'travel',\n",
              "   'samsung',\n",
              "   'outlet',\n",
              "   'seconds']],\n",
              " (8, 1480): [['protection', 'protector'],\n",
              "  ['protection', 'protector'],\n",
              "  ['protection', 'gunmetal'],\n",
              "  ['protection', 'protector'],\n",
              "  ['protection'],\n",
              "  ['protection', 'protector', 'gunmetal'],\n",
              "  ['protection', 'protector', 'covers'],\n",
              "  ['protection', 'protector'],\n",
              "  ['protection', 'gunmetal'],\n",
              "  ['protection', 'protector', 'gunmetal']],\n",
              " (50,\n",
              "  465): [['packaging',\n",
              "   'navy',\n",
              "   'otterbox',\n",
              "   'series',\n",
              "   'galaxy',\n",
              "   'commuter',\n",
              "   'case',\n",
              "   'carrier',\n",
              "   'samsung',\n",
              "   'gunmetal',\n",
              "   'manufacturer',\n",
              "   'discontinued'], ['packaging',\n",
              "   'navy',\n",
              "   'otterbox',\n",
              "   'series',\n",
              "   'galaxy',\n",
              "   'commuter',\n",
              "   'case',\n",
              "   'carrier',\n",
              "   'samsung',\n",
              "   'gunmetal',\n",
              "   'manufacturer',\n",
              "   'discontinued'], ['packaging',\n",
              "   'navy',\n",
              "   'otterbox',\n",
              "   'series',\n",
              "   'galaxy',\n",
              "   'commuter',\n",
              "   'case',\n",
              "   'carrier',\n",
              "   'samsung',\n",
              "   'gunmetal',\n",
              "   'manufacturer',\n",
              "   'discontinued'], ['packaging',\n",
              "   'navy',\n",
              "   'otterbox',\n",
              "   'series',\n",
              "   'galaxy',\n",
              "   'commuter',\n",
              "   'details',\n",
              "   'case',\n",
              "   'carrier',\n",
              "   'samsung',\n",
              "   'gunmetal',\n",
              "   'manufacturer',\n",
              "   'discontinued'], ['packaging',\n",
              "   'navy',\n",
              "   'otterbox',\n",
              "   'series',\n",
              "   'galaxy',\n",
              "   'commuter',\n",
              "   'details',\n",
              "   'case',\n",
              "   'carrier',\n",
              "   'samsung',\n",
              "   'gunmetal',\n",
              "   'manufacturer',\n",
              "   'discontinued'], ['packaging',\n",
              "   'navy',\n",
              "   'otterbox',\n",
              "   'series',\n",
              "   'galaxy',\n",
              "   'commuter',\n",
              "   'case',\n",
              "   'carrier',\n",
              "   'samsung',\n",
              "   'gunmetal',\n",
              "   'manufacturer',\n",
              "   'discontinued'], ['packaging',\n",
              "   'navy',\n",
              "   'otterbox',\n",
              "   'series',\n",
              "   'galaxy',\n",
              "   'commuter',\n",
              "   'case',\n",
              "   'carrier',\n",
              "   'samsung',\n",
              "   'gunmetal',\n",
              "   'manufacturer',\n",
              "   'discontinued'], ['packaging',\n",
              "   'navy',\n",
              "   'otterbox',\n",
              "   'series',\n",
              "   'galaxy',\n",
              "   'commuter',\n",
              "   'case',\n",
              "   'carrier',\n",
              "   'samsung',\n",
              "   'gunmetal',\n",
              "   'manufacturer',\n",
              "   'discontinued'], ['packaging',\n",
              "   'navy',\n",
              "   'otterbox',\n",
              "   'series',\n",
              "   'galaxy',\n",
              "   'commuter',\n",
              "   'case',\n",
              "   'carrier',\n",
              "   'samsung',\n",
              "   'gunmetal',\n",
              "   'manufacturer',\n",
              "   'discontinued'], ['packaging',\n",
              "   'navy',\n",
              "   'otterbox',\n",
              "   'series',\n",
              "   'galaxy',\n",
              "   'details',\n",
              "   'case',\n",
              "   'carrier',\n",
              "   'samsung',\n",
              "   'gunmetal',\n",
              "   'manufacturer',\n",
              "   'discontinued']],\n",
              " (50, 1799): [['composite', 'phone', 'tested', 'military', 'uag', 'light'],\n",
              "  ['composite', 'feather', 'drop', 'phone', 'military', 'uag', 'light'],\n",
              "  ['cobalt', 'composite', 'drop', 'phone', 'military', 'uag', 'light'],\n",
              "  ['composite', 'feather', 'drop', 'phone', 'military', 'uag', 'light'],\n",
              "  ['composite', 'feather', 'drop', 'phone', 'military', 'uag', 'light'],\n",
              "  ['cobalt', 'composite', 'feather', 'phone', 'military', 'uag', 'light'],\n",
              "  ['composite', 'feather', 'drop', 'phone', 'military', 'uag', 'light'],\n",
              "  ['composite', 'feather', 'drop', 'phone', 'military', 'uag', 'light'],\n",
              "  ['composite', 'feather', 'drop', 'phone', 'military', 'uag', 'light'],\n",
              "  ['composite', 'feather', 'phone', 'military', 'uag', 'light']],\n",
              " (50, 1470): [['case', 'otterbox', 'symmetry', 'series'],\n",
              "  ['case', 'otterbox', 'symmetry', 'series'],\n",
              "  ['case', 'otterbox', 'symmetry', 'series'],\n",
              "  ['case', 'otterbox', 'symmetry', 'series'],\n",
              "  ['case', 'otterbox', 'symmetry', 'series'],\n",
              "  ['case', 'otterbox', 'symmetry', 'series'],\n",
              "  ['case', 'otterbox', 'symmetry', 'series'],\n",
              "  ['case', 'otterbox', 'symmetry', 'series'],\n",
              "  ['case', 'otterbox', 'symmetry', 'series'],\n",
              "  ['case', 'otterbox', 'symmetry', 'series']],\n",
              " (50,\n",
              "  1488): [['packaging',\n",
              "   'retail',\n",
              "   'series',\n",
              "   'dual',\n",
              "   'microsoft',\n",
              "   'sim',\n",
              "   'case',\n",
              "   'lumia',\n",
              "   'symmetry'], ['packaging',\n",
              "   'retail',\n",
              "   'otterbox',\n",
              "   'series',\n",
              "   'dual',\n",
              "   'microsoft',\n",
              "   'sim',\n",
              "   'case',\n",
              "   'lumia',\n",
              "   'symmetry'], ['packaging',\n",
              "   'retail',\n",
              "   '650',\n",
              "   'series',\n",
              "   'dual',\n",
              "   'microsoft',\n",
              "   'sim',\n",
              "   'case',\n",
              "   'lumia',\n",
              "   'symmetry'], ['packaging',\n",
              "   'retail',\n",
              "   '650',\n",
              "   'otterbox',\n",
              "   'series',\n",
              "   'dual',\n",
              "   'microsoft',\n",
              "   'sim',\n",
              "   'case',\n",
              "   'lumia',\n",
              "   'symmetry'], ['packaging',\n",
              "   'retail',\n",
              "   '650',\n",
              "   'series',\n",
              "   'dual',\n",
              "   'microsoft',\n",
              "   'sim',\n",
              "   'case',\n",
              "   'symmetry'], ['packaging',\n",
              "   'retail',\n",
              "   'otterbox',\n",
              "   'series',\n",
              "   'dual',\n",
              "   'microsoft',\n",
              "   'sim',\n",
              "   'case',\n",
              "   'lumia',\n",
              "   'symmetry'], ['packaging',\n",
              "   'retail',\n",
              "   '650',\n",
              "   'series',\n",
              "   'dual',\n",
              "   'microsoft',\n",
              "   'sim',\n",
              "   'case',\n",
              "   'symmetry'], ['packaging',\n",
              "   'retail',\n",
              "   'otterbox',\n",
              "   'series',\n",
              "   'dual',\n",
              "   'microsoft',\n",
              "   'sim',\n",
              "   'case',\n",
              "   'lumia',\n",
              "   'symmetry'], ['packaging',\n",
              "   'retail',\n",
              "   '650',\n",
              "   'otterbox',\n",
              "   'series',\n",
              "   'dual',\n",
              "   'microsoft',\n",
              "   'sim',\n",
              "   'case',\n",
              "   'lumia',\n",
              "   'symmetry'], ['packaging',\n",
              "   'retail',\n",
              "   '650',\n",
              "   'series',\n",
              "   'dual',\n",
              "   'microsoft',\n",
              "   'sim',\n",
              "   'case',\n",
              "   'lumia',\n",
              "   'symmetry']],\n",
              " (50, 1311): [['purple', 'impact'],\n",
              "  ['phone', 'purple', 'impact'],\n",
              "  ['purple'],\n",
              "  ['galaxy', 'purple', 'impact'],\n",
              "  ['galaxy', 'purple'],\n",
              "  ['galaxy', 'purple', 'impact'],\n",
              "  ['galaxy', 'purple', 'impact'],\n",
              "  ['galaxy', 'purple', 'impact'],\n",
              "  ['purple', 'liberty', 'impact'],\n",
              "  ['galaxy', 'purple', 'impact']],\n",
              " (57,\n",
              "  491): [['camera',\n",
              "   'includes',\n",
              "   'helps',\n",
              "   'iphone',\n",
              "   'ipod',\n",
              "   'touch',\n",
              "   'leapfrog',\n",
              "   'app',\n",
              "   'creativity',\n",
              "   'protective'], ['camera',\n",
              "   'includes',\n",
              "   'helps',\n",
              "   'leapfrog',\n",
              "   'iphone',\n",
              "   'case',\n",
              "   'ipod',\n",
              "   'touch',\n",
              "   'ultimate',\n",
              "   'app',\n",
              "   'work',\n",
              "   'creativity'], ['camera',\n",
              "   'includes',\n",
              "   'helps',\n",
              "   'leapfrog',\n",
              "   'iphone',\n",
              "   'ipod',\n",
              "   'touch',\n",
              "   'ultimate',\n",
              "   'app',\n",
              "   'creativity'], ['camera',\n",
              "   'includes',\n",
              "   'helps',\n",
              "   'leapfrog',\n",
              "   'iphone',\n",
              "   'ipod',\n",
              "   'touch',\n",
              "   'ultimate',\n",
              "   'app',\n",
              "   'creativity'], ['camera',\n",
              "   'includes',\n",
              "   'helps',\n",
              "   'leapfrog',\n",
              "   'iphone',\n",
              "   'ipod',\n",
              "   'touch',\n",
              "   'ultimate',\n",
              "   'app',\n",
              "   'creativity'], ['camera',\n",
              "   'includes',\n",
              "   'helps',\n",
              "   'leapfrog',\n",
              "   'iphone',\n",
              "   'ipod',\n",
              "   'touch',\n",
              "   'ultimate',\n",
              "   'app',\n",
              "   'creativity',\n",
              "   'protective'], ['camera',\n",
              "   'includes',\n",
              "   'helps',\n",
              "   'leapfrog',\n",
              "   'iphone',\n",
              "   'ipod',\n",
              "   'touch',\n",
              "   'ultimate',\n",
              "   'app',\n",
              "   'creativity'], ['camera',\n",
              "   'includes',\n",
              "   'helps',\n",
              "   'iphone',\n",
              "   'case',\n",
              "   'ipod',\n",
              "   'touch',\n",
              "   'leapfrog',\n",
              "   'app',\n",
              "   'creativity'], ['camera',\n",
              "   'includes',\n",
              "   'helps',\n",
              "   'iphone',\n",
              "   'ipod',\n",
              "   'touch',\n",
              "   'leapfrog',\n",
              "   'app',\n",
              "   'creativity',\n",
              "   'protective'], ['camera',\n",
              "   'includes',\n",
              "   'helps',\n",
              "   'iphone',\n",
              "   'case',\n",
              "   'ipod',\n",
              "   'touch',\n",
              "   'leapfrog',\n",
              "   'app',\n",
              "   'creativity']],\n",
              " (57,\n",
              "  1449): [['packaging',\n",
              "   'onyx',\n",
              "   'retail',\n",
              "   'otterbox',\n",
              "   'series',\n",
              "   'iphone',\n",
              "   'limited',\n",
              "   'strada'], ['packaging',\n",
              "   'onyx',\n",
              "   'retail',\n",
              "   'otterbox',\n",
              "   'series',\n",
              "   'iphone',\n",
              "   'limited'], ['packaging',\n",
              "   'onyx',\n",
              "   'retail',\n",
              "   'otterbox',\n",
              "   'series',\n",
              "   'iphone',\n",
              "   'limited',\n",
              "   'strada'], ['packaging',\n",
              "   'onyx',\n",
              "   'retail',\n",
              "   'otterbox',\n",
              "   'series',\n",
              "   'iphone',\n",
              "   'limited',\n",
              "   'strada'], ['packaging',\n",
              "   'onyx',\n",
              "   'retail',\n",
              "   'otterbox',\n",
              "   'series',\n",
              "   'iphone',\n",
              "   'limited',\n",
              "   'strada'], ['packaging',\n",
              "   'retail',\n",
              "   'onyx',\n",
              "   'otterbox',\n",
              "   'series',\n",
              "   'edition',\n",
              "   'iphone',\n",
              "   'limited'], ['packaging',\n",
              "   'onyx',\n",
              "   'retail',\n",
              "   'otterbox',\n",
              "   'series',\n",
              "   'iphone',\n",
              "   'limited',\n",
              "   'strada'], ['packaging',\n",
              "   'onyx',\n",
              "   'retail',\n",
              "   'otterbox',\n",
              "   'series',\n",
              "   'iphone',\n",
              "   'limited',\n",
              "   'strada'], ['packaging',\n",
              "   'onyx',\n",
              "   'retail',\n",
              "   'otterbox',\n",
              "   'series',\n",
              "   'iphone',\n",
              "   'limited'], ['packaging',\n",
              "   'onyx',\n",
              "   'retail',\n",
              "   'otterbox',\n",
              "   'series',\n",
              "   'iphone',\n",
              "   'limited',\n",
              "   'strada']],\n",
              " (57,\n",
              "  1047): [['packaging',\n",
              "   'rose',\n",
              "   'otterbox',\n",
              "   'series',\n",
              "   'white',\n",
              "   'iphone',\n",
              "   'neon',\n",
              "   'protection',\n",
              "   'pink'], ['packaging',\n",
              "   'rose',\n",
              "   'otterbox',\n",
              "   'series',\n",
              "   'white',\n",
              "   'iphone',\n",
              "   'neon',\n",
              "   'protection',\n",
              "   'pink'], ['packaging',\n",
              "   'otterbox',\n",
              "   'series',\n",
              "   'white',\n",
              "   'iphone',\n",
              "   'neon',\n",
              "   'protection'], ['packaging',\n",
              "   'rose',\n",
              "   'otterbox',\n",
              "   'series',\n",
              "   'white',\n",
              "   'iphone',\n",
              "   'neon',\n",
              "   'protection',\n",
              "   'pink'], ['packaging',\n",
              "   'rose',\n",
              "   'otterbox',\n",
              "   'series',\n",
              "   'white',\n",
              "   'iphone',\n",
              "   'neon',\n",
              "   'protection'], ['packaging',\n",
              "   'otterbox',\n",
              "   'series',\n",
              "   'white',\n",
              "   'iphone',\n",
              "   'neon',\n",
              "   'protection',\n",
              "   'pink'], ['packaging',\n",
              "   'rose',\n",
              "   'otterbox',\n",
              "   'series',\n",
              "   'white',\n",
              "   'iphone',\n",
              "   'protection'], ['packaging',\n",
              "   'rose',\n",
              "   'otterbox',\n",
              "   'series',\n",
              "   'white',\n",
              "   'iphone',\n",
              "   'neon',\n",
              "   'protection',\n",
              "   'pink'], ['packaging',\n",
              "   'rose',\n",
              "   'otterbox',\n",
              "   'series',\n",
              "   'white',\n",
              "   'iphone',\n",
              "   'neon',\n",
              "   'protection',\n",
              "   'pink'], ['packaging',\n",
              "   'otterbox',\n",
              "   'series',\n",
              "   'white',\n",
              "   'iphone',\n",
              "   'neon',\n",
              "   'protection']],\n",
              " (57, 1460): [['iphone', 'date'],\n",
              "  ['iphone', 'date'],\n",
              "  ['iphone', 'date'],\n",
              "  ['iphone', 'date'],\n",
              "  ['iphone', 'date'],\n",
              "  ['iphone', 'date'],\n",
              "  ['iphone', 'date'],\n",
              "  ['iphone', 'date'],\n",
              "  ['iphone', 'date'],\n",
              "  ['iphone', 'date']],\n",
              " (57, 659): [['screen', 'gladiator'],\n",
              "  ['screen', 'gladiator'],\n",
              "  ['gladiator'],\n",
              "  ['iphone'],\n",
              "  ['gladiator'],\n",
              "  ['kyasi', 'gladiator'],\n",
              "  ['screen', 'gladiator'],\n",
              "  ['screen', 'gladiator'],\n",
              "  ['gladiator'],\n",
              "  ['screen', 'gladiator']],\n",
              " (80, 1219): [['iphone', 'angle', 'aluminum'],\n",
              "  ['iphone', 'angle', 'aluminum'],\n",
              "  ['iphone', 'angle', 'aluminum'],\n",
              "  ['iphone', 'angle', 'aluminum'],\n",
              "  ['iphone', 'angle', 'aluminum'],\n",
              "  ['iphone', 'angle', 'aluminum'],\n",
              "  ['iphone', 'angle', 'aluminum'],\n",
              "  ['iphone', 'angle', 'aluminum'],\n",
              "  ['iphone', 'angle', 'aluminum'],\n",
              "  ['iphone', 'angle', 'aluminum']],\n",
              " (80, 1318): [['international', 'wireless', 'samsung'],\n",
              "  ['international', 'wireless', 'samsung'],\n",
              "  ['international', 'wireless', 'samsung'],\n",
              "  ['international', 'wireless', 'samsung'],\n",
              "  ['international', 'wireless', 'samsung'],\n",
              "  ['international', 'wireless', 'samsung'],\n",
              "  ['international', 'wireless', 'samsung'],\n",
              "  ['international', 'wireless', 'samsung'],\n",
              "  ['international', 'wireless', 'samsung'],\n",
              "  ['international', 'wireless', 'samsung']],\n",
              " (80, 696): [['galaxy', 'samsung', 'packaging', 'data'],\n",
              "  ['galaxy', 'samsung', 'packaging', 'data'],\n",
              "  ['galaxy', 'samsung', 'packaging', 'data'],\n",
              "  ['galaxy', 'samsung', 'packaging', 'data'],\n",
              "  ['galaxy', 'samsung', 'packaging', 'data'],\n",
              "  ['galaxy', 'samsung', 'packaging', 'data'],\n",
              "  ['galaxy', 'samsung', 'packaging', 'data'],\n",
              "  ['galaxy', 'samsung', 'packaging', 'data'],\n",
              "  ['galaxy', 'samsung', 'packaging', 'data'],\n",
              "  ['galaxy', 'samsung', 'packaging', 'data']],\n",
              " (80, 1684): [['battery'],\n",
              "  ['iphone'],\n",
              "  ['battery'],\n",
              "  ['iphone'],\n",
              "  ['battery'],\n",
              "  ['battery'],\n",
              "  ['battery'],\n",
              "  ['battery'],\n",
              "  ['battery'],\n",
              "  ['battery']],\n",
              " (80, 109): [['assist', 'car', 'reduction'],\n",
              "  ['assist', 'car', 'reduction'],\n",
              "  ['sends', 'car', 'reduction', 'assist', 'time'],\n",
              "  ['sends', 'technology', 'car', 'reduction', 'assist', 'time'],\n",
              "  ['provides', 'technology', 'car', 'reduction', 'assist', 'time'],\n",
              "  ['provides', 'car', 'reduction', 'assist', 'time'],\n",
              "  ['assist', 'car', 'reduction', 'time'],\n",
              "  ['assist', 'car', 'reduction', 'time'],\n",
              "  ['sends', 'technology', 'car', 'reduction', 'assist'],\n",
              "  ['provides', 'assist', 'car', 'reduction']],\n",
              " (95, 290): [['iphone', 'apple'],\n",
              "  ['iphone', 'apple'],\n",
              "  ['iphone', 'apple'],\n",
              "  ['iphone', 'apple'],\n",
              "  ['iphone', 'apple'],\n",
              "  ['iphone', 'apple'],\n",
              "  ['iphone', 'apple'],\n",
              "  ['iphone', 'apple'],\n",
              "  ['iphone', 'apple'],\n",
              "  ['iphone', 'apple']],\n",
              " (95, 1611): [['phones', 'phone', 'galaxy', 'clickgo', 'iphone', 'smart'],\n",
              "  ['phones', 'phone', 'galaxy', 'clickgo', 'iphone', 'smart'],\n",
              "  ['phones', 'phone', 'galaxy', 'clickgo', 'iphone', 'release', 'smart'],\n",
              "  ['phones', 'phone', 'galaxy', 'clickgo', 'iphone', 'smart'],\n",
              "  ['phones', 'phone', 'galaxy', 'clickgo', 'iphone', 'smart'],\n",
              "  ['phones', 'phone', 'galaxy', 'clickgo', 'iphone', 'release', 'smart'],\n",
              "  ['phones', 'phone', 'galaxy', 'iphone', 'release', 'smart'],\n",
              "  ['phones', 'phone', 'galaxy', 'iphone', 'release', 'smart'],\n",
              "  ['phones', 'phone', 'galaxy', 'clickgo', 'iphone', 'release', 'smart'],\n",
              "  ['phones', 'phone', 'galaxy', 'iphone', 'release', 'smart']],\n",
              " (95, 1268): [['iphone', 'version', 'lifeproof'],\n",
              "  ['iphone', 'version', 'lifeproof'],\n",
              "  ['iphone', 'version'],\n",
              "  ['iphone', 'version'],\n",
              "  ['iphone', 'white', 'version'],\n",
              "  ['iphone', 'version', 'lifeproof'],\n",
              "  ['iphone', 'version'],\n",
              "  ['iphone', 'version'],\n",
              "  ['iphone', 'white', 'version'],\n",
              "  ['iphone', 'version']],\n",
              " (95, 1799): [['composite'],\n",
              "  ['composite'],\n",
              "  ['composite'],\n",
              "  ['uag'],\n",
              "  ['composite'],\n",
              "  ['composite'],\n",
              "  ['composite'],\n",
              "  ['composite'],\n",
              "  ['uag'],\n",
              "  ['composite']],\n",
              " (95, 1019): [['iphone'],\n",
              "  ['iphone'],\n",
              "  ['iphone'],\n",
              "  ['iphone'],\n",
              "  ['iphone'],\n",
              "  ['iphone'],\n",
              "  ['iphone'],\n",
              "  ['iphone'],\n",
              "  ['iphone'],\n",
              "  ['iphone']],\n",
              " (176,\n",
              "  1450): [['strada',\n",
              "   'slim',\n",
              "   'galaxy',\n",
              "   'sleek',\n",
              "   'samsung',\n",
              "   'folio',\n",
              "   'edge'], ['strada', 'slim', 'otterbox', 'galaxy', 'sleek', 'samsung', 'folio', 'edge'], ['strada',\n",
              "   'slim',\n",
              "   'otterbox',\n",
              "   'case',\n",
              "   'sleek',\n",
              "   'folio'], ['slim',\n",
              "   'galaxy',\n",
              "   'leather',\n",
              "   'phantom',\n",
              "   'samsung',\n",
              "   'strada',\n",
              "   'edge'], ['strada',\n",
              "   'slim',\n",
              "   'galaxy',\n",
              "   'phantom',\n",
              "   'samsung',\n",
              "   'folio',\n",
              "   'edge'], ['strada',\n",
              "   'slim',\n",
              "   'galaxy',\n",
              "   'sleek',\n",
              "   'samsung',\n",
              "   'folio'], ['strada', 'slim', 'combines', 'leather', 'sleek', 'folio'], ['strada',\n",
              "   'slim',\n",
              "   'otterbox',\n",
              "   'combines',\n",
              "   'case',\n",
              "   'sleek',\n",
              "   'folio'], ['strada',\n",
              "   'slim',\n",
              "   'otterbox',\n",
              "   'galaxy',\n",
              "   'phantom',\n",
              "   'sleek',\n",
              "   'samsung',\n",
              "   'folio',\n",
              "   'edge'], ['strada',\n",
              "   'slim',\n",
              "   'otterbox',\n",
              "   'galaxy',\n",
              "   'phantom',\n",
              "   'sleek',\n",
              "   'samsung',\n",
              "   'folio',\n",
              "   'edge']],\n",
              " (176, 1402): [['galaxy', 'edge', 'retail', 'samsung'],\n",
              "  ['packaging', 'retail', 'galaxy', 'samsung', 'edge'],\n",
              "  ['galaxy', 'edge', 'retail', 'samsung'],\n",
              "  ['galaxy', 'edge', 'retail', 'samsung'],\n",
              "  ['galaxy', 'edge', 'retail', 'samsung'],\n",
              "  ['packaging', 'retail', 'galaxy', 'samsung', 'edge'],\n",
              "  ['galaxy', 'edge', 'retail', 'samsung'],\n",
              "  ['retail', 'series', 'galaxy', 'samsung', 'edge'],\n",
              "  ['galaxy', 'edge', 'retail', 'samsung'],\n",
              "  ['packaging', 'retail', 'galaxy', 'samsung', 'edge']],\n",
              " (176,\n",
              "  1284): [['lightning',\n",
              "   'smartphone',\n",
              "   'reduces',\n",
              "   'android',\n",
              "   'usb',\n",
              "   'sony',\n",
              "   'feet',\n",
              "   'motorola',\n",
              "   'micro',\n",
              "   'data'], ['lightning',\n",
              "   'smartphone',\n",
              "   'reduces',\n",
              "   'android',\n",
              "   'usb',\n",
              "   'sony',\n",
              "   'feet',\n",
              "   'motorola',\n",
              "   'micro',\n",
              "   'data'], ['lightning',\n",
              "   'smartphone',\n",
              "   'reduces',\n",
              "   'android',\n",
              "   'usb',\n",
              "   'sony',\n",
              "   'feet',\n",
              "   'motorola',\n",
              "   'micro',\n",
              "   'data'], ['lightning',\n",
              "   'smartphone',\n",
              "   'reduces',\n",
              "   'usb',\n",
              "   'sony',\n",
              "   'feet',\n",
              "   'motorola',\n",
              "   'micro',\n",
              "   'charge',\n",
              "   'data'], ['lightning',\n",
              "   'smartphone',\n",
              "   'nylon',\n",
              "   'android',\n",
              "   'usb',\n",
              "   'sony',\n",
              "   'feet',\n",
              "   'motorola',\n",
              "   'micro',\n",
              "   'data'], ['makes',\n",
              "   'lightning',\n",
              "   'smartphone',\n",
              "   'reduces',\n",
              "   'nylon',\n",
              "   'usb',\n",
              "   'sony',\n",
              "   'feet',\n",
              "   'motorola',\n",
              "   'micro',\n",
              "   'data'], ['lightning',\n",
              "   'smartphone',\n",
              "   'reduces',\n",
              "   'nylon',\n",
              "   'usb',\n",
              "   'sony',\n",
              "   'feet',\n",
              "   'motorola',\n",
              "   'micro',\n",
              "   'data'], ['lightning',\n",
              "   'smartphone',\n",
              "   'reduces',\n",
              "   'usb',\n",
              "   'sony',\n",
              "   'feet',\n",
              "   'motorola',\n",
              "   'micro',\n",
              "   'data'], ['makes',\n",
              "   'lightning',\n",
              "   'smartphone',\n",
              "   'reduces',\n",
              "   'nylon',\n",
              "   'android',\n",
              "   'usb',\n",
              "   'sony',\n",
              "   'feet',\n",
              "   'motorola',\n",
              "   'micro',\n",
              "   'data'], ['makes',\n",
              "   'lightning',\n",
              "   'smartphone',\n",
              "   'nylon',\n",
              "   'usb',\n",
              "   'sony',\n",
              "   'feet',\n",
              "   'motorola',\n",
              "   'micro',\n",
              "   'data']],\n",
              " (176,\n",
              "  491): [['camera',\n",
              "   'includes',\n",
              "   'helps',\n",
              "   'iphone',\n",
              "   'teaches',\n",
              "   'ipod',\n",
              "   'leapfrog',\n",
              "   'creativity'], ['camera',\n",
              "   'includes',\n",
              "   'helps',\n",
              "   'iphone',\n",
              "   'ipod',\n",
              "   'leapfrog',\n",
              "   'app',\n",
              "   'creativity'], ['camera',\n",
              "   'includes',\n",
              "   'helps',\n",
              "   'iphone',\n",
              "   'teaches',\n",
              "   'ipod',\n",
              "   'leapfrog',\n",
              "   'creativity'], ['camera',\n",
              "   'includes',\n",
              "   'helps',\n",
              "   'iphone',\n",
              "   'ipod',\n",
              "   'leapfrog',\n",
              "   'creativity'], ['camera',\n",
              "   'includes',\n",
              "   'helps',\n",
              "   'iphone',\n",
              "   'ipod',\n",
              "   'leapfrog',\n",
              "   'app',\n",
              "   'creativity'], ['camera',\n",
              "   'includes',\n",
              "   'helps',\n",
              "   'iphone',\n",
              "   'ipod',\n",
              "   'leapfrog',\n",
              "   'app',\n",
              "   'creativity'], ['camera',\n",
              "   'includes',\n",
              "   'helps',\n",
              "   'iphone',\n",
              "   'ipod',\n",
              "   'leapfrog',\n",
              "   'creativity'], ['camera',\n",
              "   'includes',\n",
              "   'helps',\n",
              "   'iphone',\n",
              "   'ipod',\n",
              "   'leapfrog',\n",
              "   'creativity'], ['camera',\n",
              "   'includes',\n",
              "   'helps',\n",
              "   'iphone',\n",
              "   'teaches',\n",
              "   'ipod',\n",
              "   'leapfrog',\n",
              "   'creativity'], ['camera',\n",
              "   'includes',\n",
              "   'helps',\n",
              "   'iphone',\n",
              "   'teaches',\n",
              "   'ipod',\n",
              "   'leapfrog',\n",
              "   'creativity']],\n",
              " (176, 1460): [['iphone', 'date'],\n",
              "  ['iphone', 'date'],\n",
              "  ['iphone', 'date'],\n",
              "  ['iphone', 'date'],\n",
              "  ['iphone', 'date'],\n",
              "  ['iphone', 'date'],\n",
              "  ['iphone', 'date'],\n",
              "  ['iphone', 'date'],\n",
              "  ['iphone', 'date'],\n",
              "  ['iphone', 'date']],\n",
              " (183,\n",
              "  369): [['provides',\n",
              "   'charging',\n",
              "   'life',\n",
              "   'status',\n",
              "   'nearly',\n",
              "   'protective',\n",
              "   'battery',\n",
              "   'iphone',\n",
              "   'amp',\n",
              "   'hours',\n",
              "   'led',\n",
              "   'tells',\n",
              "   '5se',\n",
              "   'indicator',\n",
              "   'time'], ['provides',\n",
              "   'charging',\n",
              "   'status',\n",
              "   'nearly',\n",
              "   'protective',\n",
              "   'battery',\n",
              "   'iphone',\n",
              "   'talk',\n",
              "   'amp',\n",
              "   'hours',\n",
              "   'led',\n",
              "   'tells',\n",
              "   '5se',\n",
              "   'indicator',\n",
              "   'time'], ['provides',\n",
              "   'charging',\n",
              "   'life',\n",
              "   'status',\n",
              "   'nearly',\n",
              "   'protective',\n",
              "   'battery',\n",
              "   'iphone',\n",
              "   'amp',\n",
              "   'hours',\n",
              "   'led',\n",
              "   'tells',\n",
              "   '5se',\n",
              "   'indicator',\n",
              "   'time'], ['provides',\n",
              "   'charging',\n",
              "   'life',\n",
              "   'status',\n",
              "   'nearly',\n",
              "   'battery',\n",
              "   'warranty',\n",
              "   'iphone',\n",
              "   'amp',\n",
              "   'hours',\n",
              "   'led',\n",
              "   'tells',\n",
              "   '5se',\n",
              "   'indicator',\n",
              "   'time'], ['provides',\n",
              "   'life',\n",
              "   'status',\n",
              "   'nearly',\n",
              "   'juice',\n",
              "   'battery',\n",
              "   'recharging',\n",
              "   'iphone',\n",
              "   'amp',\n",
              "   'hours',\n",
              "   'led',\n",
              "   'tells',\n",
              "   '5se',\n",
              "   'indicator',\n",
              "   '500mah',\n",
              "   'mophie'], ['provides',\n",
              "   'charging',\n",
              "   'life',\n",
              "   'status',\n",
              "   'nearly',\n",
              "   'battery',\n",
              "   'recharging',\n",
              "   'iphone',\n",
              "   'amp',\n",
              "   'hours',\n",
              "   'led',\n",
              "   'tells',\n",
              "   '5se',\n",
              "   'indicator',\n",
              "   'time'], ['provides',\n",
              "   'charging',\n",
              "   'status',\n",
              "   'nearly',\n",
              "   'protective',\n",
              "   'battery',\n",
              "   'warranty',\n",
              "   'iphone',\n",
              "   'talk',\n",
              "   'amp',\n",
              "   'hours',\n",
              "   'led',\n",
              "   'tells',\n",
              "   '5se',\n",
              "   'indicator',\n",
              "   'time'], ['provides',\n",
              "   'charging',\n",
              "   'status',\n",
              "   'nearly',\n",
              "   'protective',\n",
              "   'battery',\n",
              "   'warranty',\n",
              "   'iphone',\n",
              "   'talk',\n",
              "   'amp',\n",
              "   'hours',\n",
              "   'led',\n",
              "   'tells',\n",
              "   '5se',\n",
              "   'indicator',\n",
              "   'time'], ['provides',\n",
              "   'charging',\n",
              "   'life',\n",
              "   'status',\n",
              "   'nearly',\n",
              "   'protective',\n",
              "   'battery',\n",
              "   'iphone',\n",
              "   'talk',\n",
              "   'amp',\n",
              "   'hours',\n",
              "   'led',\n",
              "   'tells',\n",
              "   '5se',\n",
              "   'indicator',\n",
              "   'time'], ['provides',\n",
              "   'charging',\n",
              "   'life',\n",
              "   'status',\n",
              "   'nearly',\n",
              "   'juice',\n",
              "   'battery',\n",
              "   'iphone',\n",
              "   'talk',\n",
              "   'amp',\n",
              "   'hours',\n",
              "   'led',\n",
              "   'tells',\n",
              "   'time',\n",
              "   '5se',\n",
              "   'indicator',\n",
              "   '500mah',\n",
              "   'mophie']],\n",
              " (183, 999): [['iphone'],\n",
              "  ['iphone'],\n",
              "  ['iphone'],\n",
              "  ['iphone'],\n",
              "  ['iphone'],\n",
              "  ['iphone'],\n",
              "  ['iphone'],\n",
              "  ['iphone'],\n",
              "  ['iphone'],\n",
              "  ['iphone']],\n",
              " (183, 1463): [['seashell', 'series'],\n",
              "  ['bubblegum', 'series'],\n",
              "  ['seashell', 'series'],\n",
              "  ['seashell', 'series'],\n",
              "  ['series'],\n",
              "  ['bubblegum', 'series'],\n",
              "  ['bubblegum', 'series'],\n",
              "  ['bubblegum', 'series'],\n",
              "  ['seashell', 'series'],\n",
              "  ['bubblegum', 'series']],\n",
              " (183, 1475): [['packaging'],\n",
              "  ['packaging'],\n",
              "  ['packaging'],\n",
              "  ['packaging'],\n",
              "  ['packaging'],\n",
              "  ['packaging'],\n",
              "  ['packaging'],\n",
              "  ['packaging'],\n",
              "  ['packaging'],\n",
              "  ['packaging']],\n",
              " (183, 791): [['white'],\n",
              "  ['white'],\n",
              "  ['white'],\n",
              "  ['16gb'],\n",
              "  ['white'],\n",
              "  ['white'],\n",
              "  ['white'],\n",
              "  ['white'],\n",
              "  ['white'],\n",
              "  ['white']],\n",
              " (267, 183): [['bumper', 'case', 'apple', 'premium'],\n",
              "  ['apple', 'iphone', 'bumper', 'case', 'premium'],\n",
              "  ['iphone', 'bumper', 'case', 'apple'],\n",
              "  ['apple', 'iphone', 'bumper', 'case', 'premium'],\n",
              "  ['apple', 'iphone', 'bumper', 'case', 'premium'],\n",
              "  ['iphone', 'bumper', 'apple', 'premium'],\n",
              "  ['apple', 'iphone', 'bumper', 'case', 'premium'],\n",
              "  ['iphone', 'bumper', 'apple', 'premium'],\n",
              "  ['apple', 'iphone', 'bumper', 'case', 'premium'],\n",
              "  ['bumper', 'case', 'premium']],\n",
              " (267, 333): [['findables', 'glow', 'smartphone', 'iphone', 'app'],\n",
              "  ['findables', 'glow', 'smartphone', 'iphone', 'app'],\n",
              "  ['findables', 'glow', 'smartphone', 'iphone', 'app'],\n",
              "  ['findables', 'glow', 'smartphone', 'iphone', 'app'],\n",
              "  ['findables', 'glow', 'smartphone', 'iphone', 'app'],\n",
              "  ['findables', 'glow', 'smartphone', 'iphone', 'app'],\n",
              "  ['findables', 'glow', 'smartphone', 'iphone', 'app'],\n",
              "  ['findables', 'glow', 'smartphone', 'iphone', 'app'],\n",
              "  ['findables', 'glow', 'smartphone', 'iphone', 'app'],\n",
              "  ['findables', 'glow', 'smartphone', 'iphone', 'app']],\n",
              " (267, 192): [['iphone', 'apple'],\n",
              "  ['iphone', 'apple'],\n",
              "  ['iphone', 'apple'],\n",
              "  ['iphone', 'apple'],\n",
              "  ['iphone', 'apple'],\n",
              "  ['iphone', 'apple'],\n",
              "  ['iphone', 'apple'],\n",
              "  ['iphone', 'apple'],\n",
              "  ['iphone', 'apple'],\n",
              "  ['iphone', 'apple']],\n",
              " (267, 1469): [['version', 'packaging'],\n",
              "  ['version', 'packaging'],\n",
              "  ['version', 'packaging'],\n",
              "  ['version'],\n",
              "  ['version', 'packaging'],\n",
              "  ['version', 'packaging'],\n",
              "  ['version', 'packaging'],\n",
              "  ['version'],\n",
              "  ['version', 'packaging'],\n",
              "  ['version', 'packaging']],\n",
              " (267, 1069): [['iphone'],\n",
              "  ['iphone'],\n",
              "  ['iphone'],\n",
              "  ['iphone'],\n",
              "  ['iphone'],\n",
              "  ['iphone'],\n",
              "  ['iphone'],\n",
              "  ['iphone'],\n",
              "  ['iphone'],\n",
              "  ['iphone']],\n",
              " (283, 368): [['iphone', 'life', 'juice', 'mophie'],\n",
              "  ['iphone', 'juice', 'mophie'],\n",
              "  ['iphone', 'life', 'juice', 'mophie'],\n",
              "  ['iphone', 'juice', 'mophie'],\n",
              "  ['iphone', 'life', 'juice', 'mophie'],\n",
              "  ['iphone', 'life', 'juice', 'mophie'],\n",
              "  ['iphone', 'life', 'juice', 'mophie'],\n",
              "  ['iphone', 'juice', 'mophie'],\n",
              "  ['iphone', 'life', 'juice', 'mophie'],\n",
              "  ['iphone', 'life', 'juice', 'mophie']],\n",
              " (283, 1419): [['iphone', 'mini', 'feet', 'galaxy'],\n",
              "  ['iphone', 'mini', 'feet', 'galaxy'],\n",
              "  ['iphone', 'mini', 'feet', 'galaxy'],\n",
              "  ['iphone', 'mini', 'feet', 'galaxy'],\n",
              "  ['iphone', 'mini', 'feet', 'galaxy'],\n",
              "  ['iphone', 'mini', 'feet', 'galaxy'],\n",
              "  ['iphone', 'mini', 'feet', 'galaxy'],\n",
              "  ['iphone', 'mini', 'feet', 'galaxy'],\n",
              "  ['iphone', 'mini', 'feet', 'galaxy'],\n",
              "  ['iphone', 'mini', 'feet', 'galaxy']],\n",
              " (283, 851): [['motorola'],\n",
              "  ['motorola'],\n",
              "  ['motorola'],\n",
              "  ['motorola'],\n",
              "  ['motorola'],\n",
              "  ['motorola'],\n",
              "  ['motorola'],\n",
              "  ['motorola'],\n",
              "  ['motorola'],\n",
              "  ['motorola']],\n",
              " (283, 1372): [['iphone'],\n",
              "  ['iphone'],\n",
              "  ['iphone'],\n",
              "  ['iphone'],\n",
              "  ['iphone'],\n",
              "  ['iphone'],\n",
              "  ['iphone'],\n",
              "  ['iphone'],\n",
              "  ['iphone'],\n",
              "  ['iphone']],\n",
              " (283, 552): [['phones', 'cell'],\n",
              "  ['phones', 'cell'],\n",
              "  ['phones', 'cell'],\n",
              "  ['phones', 'cell'],\n",
              "  ['phones', 'cell'],\n",
              "  ['phones', 'cell'],\n",
              "  ['phones', 'cell'],\n",
              "  ['phones', 'cell'],\n",
              "  ['phones', 'cell'],\n",
              "  ['phones', 'cell']]}"
            ]
          },
          "metadata": {},
          "execution_count": 53
        }
      ]
    },
    {
      "cell_type": "code",
      "source": [
        "stability=0\n",
        "# count_all=0\n",
        "for ui in dict_features.keys():\n",
        "  features=dict_features[ui]\n",
        "  stabs=0\n",
        "  count=0\n",
        "  if(len(features)>1):\n",
        "    # count_all+=1\n",
        "    for i in range(len(features)):\n",
        "      for j in range(len(features)):\n",
        "        # print(features[i])\n",
        "        # print(features[j])\n",
        "        if len(features[i])>0 and len(features[j])>0:\n",
        "          if i != j:\n",
        "            intersection = list(set(features[i]) & set(features[j]))\n",
        "            union = list(set(features[i]) | set(features[j]))\n",
        "            # print(features[i],features[j])\n",
        "            # print(intersection)\n",
        "            # print(union)\n",
        "            count+=1\n",
        "            stabs+=(len(intersection)/len(union))\n",
        "    # print(stabs)\n",
        "    # print(len(features)*(len(features)-1))\n",
        "    # print((stabs/(len(features)*(len(features)-1))))\n",
        "    stability+=(stabs/(9.0*10.0))\n",
        "\n",
        "stability=stability/len(dict_features)\n",
        "print(stability)"
      ],
      "metadata": {
        "colab": {
          "base_uri": "https://localhost:8080/"
        },
        "id": "YzjzCNTA5Nxu",
        "outputId": "efe97e4a-ad74-42f5-a362-4ed0529a618c"
      },
      "execution_count": null,
      "outputs": [
        {
          "output_type": "stream",
          "name": "stdout",
          "text": [
            "0.8621740065706299\n"
          ]
        }
      ]
    }
  ],
  "metadata": {
    "accelerator": "GPU",
    "colab": {
      "provenance": []
    },
    "gpuClass": "standard",
    "kernelspec": {
      "display_name": "Python 3",
      "name": "python3"
    },
    "language_info": {
      "name": "python"
    }
  },
  "nbformat": 4,
  "nbformat_minor": 0
}