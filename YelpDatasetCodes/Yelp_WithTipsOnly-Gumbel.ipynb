{
  "cells": [
    {
      "cell_type": "markdown",
      "source": [
        "Links to Yelp dataset files : https://drive.google.com/drive/folders/15_pQBF8zIOnxXSaDx19DN8eU-lXrvIeW?usp=share_link\n",
        "https://drive.google.com/drive/folders/1-9SOeLW8g97fiX2On7_7Wm1ePt2pSnDU?usp=share_link"
      ],
      "metadata": {
        "id": "JAokjBE0GxzO"
      }
    },
    {
      "cell_type": "code",
      "execution_count": null,
      "metadata": {
        "colab": {
          "base_uri": "https://localhost:8080/"
        },
        "id": "Fb2pe7dpsweT",
        "outputId": "10e32151-479d-4aae-d70b-15d5d49cf3ad"
      },
      "outputs": [
        {
          "metadata": {
            "tags": null
          },
          "name": "stdout",
          "output_type": "stream",
          "text": [
            "Mounted at /content/drive\n"
          ]
        }
      ],
      "source": [
        "from google.colab import drive\n",
        "drive.mount('/content/drive')"
      ]
    },
    {
      "cell_type": "markdown",
      "source": [
        "# Preprocessing..."
      ],
      "metadata": {
        "id": "s8Xkaw4FEons"
      }
    },
    {
      "cell_type": "code",
      "execution_count": null,
      "metadata": {
        "id": "kqmspiJd2PHt"
      },
      "outputs": [],
      "source": [
        "import pandas as pd\n",
        "import numpy as np\n",
        "import torch\n",
        "import json\n",
        "import matplotlib.pyplot as plt\n",
        "import os\n",
        "import tqdm\n",
        "import pickle\n",
        "from pathlib import Path\n",
        "from torch.utils.data import DataLoader\n",
        "from sklearn.metrics import ndcg_score\n",
        "np.random.seed(0)"
      ]
    },
    {
      "cell_type": "code",
      "execution_count": null,
      "metadata": {
        "id": "3uKVAbhA2jQh"
      },
      "outputs": [],
      "source": [
        "from nltk.corpus import stopwords\n",
        "from nltk import word_tokenize\n",
        "from nltk import FreqDist\n",
        "import re\n",
        "from nltk.tokenize import RegexpTokenizer\n",
        "import nltk\n",
        "from nltk.stem import WordNetLemmatizer\n",
        "from nltk import word_tokenize,pos_tag"
      ]
    },
    {
      "cell_type": "code",
      "execution_count": null,
      "metadata": {
        "id": "p9GEI0QDVX5a"
      },
      "outputs": [],
      "source": [
        "save_path='/content/drive/Shareddrives/Unlimited Drive | @LicenseMarket/Recommender/Yelp/'"
      ]
    },
    {
      "cell_type": "code",
      "execution_count": null,
      "metadata": {
        "id": "cW6nctMo8dyO"
      },
      "outputs": [],
      "source": [
        "save_path2='/content/drive/MyDrive/Yelp/'"
      ]
    },
    {
      "cell_type": "code",
      "execution_count": null,
      "metadata": {
        "id": "YEUH3kuU4xkF"
      },
      "outputs": [],
      "source": [
        "import torch\n",
        "import gc\n",
        "\n",
        "torch.cuda.empty_cache()\n",
        "# del checkin_df\n",
        "# del data\n",
        "# del data_file\n"
      ]
    },
    {
      "cell_type": "code",
      "execution_count": null,
      "metadata": {
        "colab": {
          "base_uri": "https://localhost:8080/"
        },
        "id": "56O38jQEbZlG",
        "outputId": "6a523617-f712-488c-b6bb-552aee331be7"
      },
      "outputs": [
        {
          "data": {
            "text/plain": [
              "0"
            ]
          },
          "execution_count": 105,
          "metadata": {},
          "output_type": "execute_result"
        }
      ],
      "source": [
        "gc.collect()"
      ]
    },
    {
      "cell_type": "code",
      "execution_count": null,
      "metadata": {
        "id": "vTj0JnJbdomZ"
      },
      "outputs": [],
      "source": [
        "import os\n",
        "os.environ['KAGGLE_CONFIG_DIR'] = \"/content/drive/Shareddrives/Unlimited Drive | @LicenseMarket/Recommender/Yelp/Kaggle/\""
      ]
    },
    {
      "cell_type": "code",
      "execution_count": null,
      "metadata": {
        "colab": {
          "base_uri": "https://localhost:8080/"
        },
        "id": "a6ug-jMcd0B7",
        "outputId": "547a31c0-9a9f-4bea-cb90-c953ba1203b8"
      },
      "outputs": [
        {
          "name": "stdout",
          "output_type": "stream",
          "text": [
            "/content/drive/Shareddrives/Unlimited Drive | @LicenseMarket/Recommender/Yelp/Kaggle\n"
          ]
        }
      ],
      "source": [
        "%cd /content/drive/Shareddrives/Unlimited Drive | @LicenseMarket/Recommender/Yelp/Kaggle/"
      ]
    },
    {
      "cell_type": "code",
      "execution_count": null,
      "metadata": {
        "colab": {
          "base_uri": "https://localhost:8080/"
        },
        "id": "qRHQP68XeHJ2",
        "outputId": "5031f10b-f71e-4351-af52-7751519d5132"
      },
      "outputs": [
        {
          "name": "stdout",
          "output_type": "stream",
          "text": [
            "Downloading yelp-dataset.zip to /content/drive/Shareddrives/Unlimited Drive | @LicenseMarket/Recommender/Yelp/Kaggle\n",
            "100% 4.06G/4.07G [02:00<00:00, 27.4MB/s]\n",
            "100% 4.07G/4.07G [02:00<00:00, 36.3MB/s]\n"
          ]
        }
      ],
      "source": [
        "!kaggle datasets download -d yelp-dataset/yelp-dataset --unzip"
      ]
    },
    {
      "cell_type": "code",
      "execution_count": null,
      "metadata": {
        "id": "J8-uBMGK4934"
      },
      "outputs": [],
      "source": [
        "import json\n",
        "import pandas as pd\n",
        "data_file = open(save_path+\"Kaggle/yelp_academic_dataset_business.json\")\n",
        "data = []\n",
        "for line in data_file:\n",
        "  data.append(json.loads(line))\n",
        "business_df = pd.DataFrame(data)\n",
        "data_file.close()"
      ]
    },
    {
      "cell_type": "code",
      "execution_count": null,
      "metadata": {
        "id": "ttrdOcdJ6Jd_"
      },
      "outputs": [],
      "source": [
        "business_df.attributes= business_df.attributes.apply(lambda y: np.nan if y==None else y)"
      ]
    },
    {
      "cell_type": "code",
      "execution_count": null,
      "metadata": {
        "id": "5x8Xxjtw61jK"
      },
      "outputs": [],
      "source": [
        "business_df.dropna(axis=0,inplace=True)"
      ]
    },
    {
      "cell_type": "code",
      "execution_count": null,
      "metadata": {
        "id": "-IgjoEhTFS8y"
      },
      "outputs": [],
      "source": [
        "business_df1=business_df[business_df['is_open']==1]"
      ]
    },
    {
      "cell_type": "code",
      "execution_count": null,
      "metadata": {
        "id": "R6Wq6g_ZFhtE"
      },
      "outputs": [],
      "source": [
        "business_df=business_df1[business_df1['review_count']>10]"
      ]
    },
    {
      "cell_type": "code",
      "execution_count": null,
      "metadata": {
        "id": "IShmy3UlKKTD"
      },
      "outputs": [],
      "source": [
        "import json\n",
        "import pandas as pd\n",
        "data_file = open(save_path+\"Kaggle/yelp_academic_dataset_tip.json\")\n",
        "data = []\n",
        "for line in data_file:\n",
        "  data.append(json.loads(line))\n",
        "tip_df = pd.DataFrame(data)\n",
        "data_file.close()"
      ]
    },
    {
      "cell_type": "code",
      "execution_count": null,
      "metadata": {
        "id": "cI8Z7jL7vy39"
      },
      "outputs": [],
      "source": [
        "tips_bus_ids=tip_df['business_id'].values\n",
        "tips_user_ids= tip_df['user_id'].values"
      ]
    },
    {
      "cell_type": "code",
      "execution_count": null,
      "metadata": {
        "colab": {
          "base_uri": "https://localhost:8080/"
        },
        "id": "p9leN5lKwhF3",
        "outputId": "668949e9-7028-4909-899c-0a7fc1ca1e57"
      },
      "outputs": [
        {
          "output_type": "stream",
          "name": "stderr",
          "text": [
            "/usr/local/lib/python3.8/dist-packages/pandas/core/frame.py:4906: SettingWithCopyWarning: \n",
            "A value is trying to be set on a copy of a slice from a DataFrame\n",
            "\n",
            "See the caveats in the documentation: https://pandas.pydata.org/pandas-docs/stable/user_guide/indexing.html#returning-a-view-versus-a-copy\n",
            "  return super().drop(\n"
          ]
        }
      ],
      "source": [
        "business_df.drop(business_df.index[~business_df['business_id'].isin(tips_bus_ids)], inplace=True)"
      ]
    },
    {
      "cell_type": "code",
      "execution_count": null,
      "metadata": {
        "id": "QPB9Kh7jObLs"
      },
      "outputs": [],
      "source": [
        "saved_bus_ids=os.listdir(save_path+'tips_bert_items_dfs/')"
      ]
    },
    {
      "cell_type": "code",
      "execution_count": null,
      "metadata": {
        "colab": {
          "base_uri": "https://localhost:8080/"
        },
        "id": "8x5BDwLcVwMZ",
        "outputId": "dfc9be11-e121-4b44-ff4b-dc1e8f4d505d"
      },
      "outputs": [
        {
          "output_type": "execute_result",
          "data": {
            "text/plain": [
              "48732"
            ]
          },
          "metadata": {},
          "execution_count": 16
        }
      ],
      "source": [
        "len(saved_bus_ids)"
      ]
    },
    {
      "cell_type": "code",
      "execution_count": null,
      "metadata": {
        "id": "yJIZmKvuK11t"
      },
      "outputs": [],
      "source": [
        "new_saved_bus_ids=[]\n",
        "for bus_id in saved_bus_ids:\n",
        "  new_saved_bus_ids.append(bus_id[:-5])"
      ]
    },
    {
      "cell_type": "code",
      "execution_count": null,
      "metadata": {
        "id": "Yx7N0vzgvJpe"
      },
      "outputs": [],
      "source": [
        "business_df.drop(business_df.index[~business_df['business_id'].isin(new_saved_bus_ids)], inplace=True)"
      ]
    },
    {
      "cell_type": "code",
      "execution_count": null,
      "metadata": {
        "id": "yMtEmRhxNA1v"
      },
      "outputs": [],
      "source": [
        "tip_df.drop(tip_df.index[~tip_df['business_id'].isin(new_saved_bus_ids)], inplace=True)\n",
        "tip_df.drop(tip_df.index[~tip_df['business_id'].isin(business_df['business_id'].values)], inplace=True)"
      ]
    },
    {
      "cell_type": "code",
      "execution_count": null,
      "metadata": {
        "id": "GgMkVn0BNPyM"
      },
      "outputs": [],
      "source": [
        "tip_df['bus_user_id']=tip_df[['business_id','user_id']].apply(tuple, axis=1)"
      ]
    },
    {
      "cell_type": "code",
      "execution_count": null,
      "metadata": {
        "id": "uxC-t71kNc6h"
      },
      "outputs": [],
      "source": [
        "tip_df"
      ]
    },
    {
      "cell_type": "code",
      "execution_count": null,
      "metadata": {
        "id": "Sff0Zc9Pwww1"
      },
      "outputs": [],
      "source": [
        "business_df.reset_index(inplace=True)"
      ]
    },
    {
      "cell_type": "code",
      "execution_count": null,
      "metadata": {
        "id": "LlenpPcQySQ1"
      },
      "outputs": [],
      "source": [
        "business_df.drop(['index'],axis=1,inplace=True)"
      ]
    },
    {
      "cell_type": "code",
      "execution_count": null,
      "metadata": {
        "id": "K6Y_WPmAzEAe"
      },
      "outputs": [],
      "source": [
        "bus_ids=business_df.business_id.values"
      ]
    },
    {
      "cell_type": "code",
      "execution_count": null,
      "metadata": {
        "colab": {
          "base_uri": "https://localhost:8080/"
        },
        "id": "yPBYVhjZzLxW",
        "outputId": "f5f57cc4-dc68-4339-a586-e7e977247d58"
      },
      "outputs": [
        {
          "output_type": "execute_result",
          "data": {
            "text/plain": [
              "48089"
            ]
          },
          "metadata": {},
          "execution_count": 24
        }
      ],
      "source": [
        "len(bus_ids)"
      ]
    },
    {
      "cell_type": "code",
      "execution_count": null,
      "metadata": {
        "id": "PncKnPtDS7wo"
      },
      "outputs": [],
      "source": [
        "# with open('badFiles.txt', 'r') as bf:\n",
        "#   lines=bf.readlines()\n",
        "#   for line in lines:\n",
        "#     if len(line)>4:\n",
        "#       try:\n",
        "#         os.remove(save_path+'tips_bert_items_dfs/'+'{}.json'.format(line.replace('\\n','')))\n",
        "#       except FileNotFoundError:\n",
        "#         print(line)"
      ]
    },
    {
      "cell_type": "code",
      "execution_count": null,
      "metadata": {
        "colab": {
          "base_uri": "https://localhost:8080/"
        },
        "id": "FJhpYIUQsasK",
        "outputId": "9e1122fa-d475-40e9-991b-9bc9eb59ff76"
      },
      "outputs": [
        {
          "name": "stdout",
          "output_type": "stream",
          "text": [
            "0\n",
            "1000\n",
            "2000\n",
            "3000\n",
            "4000\n",
            "5000\n",
            "6000\n",
            "7000\n",
            "8000\n",
            "9000\n",
            "10000\n",
            "11000\n",
            "12000\n",
            "13000\n",
            "14000\n",
            "15000\n",
            "16000\n",
            "17000\n",
            "18000\n",
            "19000\n",
            "20000\n",
            "21000\n",
            "22000\n",
            "23000\n",
            "24000\n",
            "25000\n",
            "26000\n",
            "27000\n",
            "28000\n",
            "29000\n",
            "30000\n",
            "31000\n",
            "32000\n",
            "33000\n",
            "34000\n",
            "35000\n",
            "36000\n",
            "37000\n",
            "38000\n",
            "39000\n",
            "40000\n",
            "41000\n",
            "42000\n",
            "43000\n",
            "s5cEDXoKrvD-coPgqifD8w\n",
            "FbuQkR42LQ-8AZINSD7FQQ\n",
            "RtdH6Inl8xG6RWl5PVwccg\n",
            "zIFPcIZ_yqIr2Gb3dYZvfQ\n",
            "U5vGEpfMzlHmdVMsaAxWAA\n",
            "nCQnjq8uoY7YWGMwOxP2wA\n",
            "sa0qlVEgdctgeWo8KkWEjw\n",
            "zVoivXO64KO9-4UQlMhoPA\n",
            "fiKriXSPJQLoDnMIucTXQQ\n",
            "1Hd6GDCbsev3NUaynU8hFQ\n",
            "B6wuW9wBR2qc3Q3fs4Ckkw\n",
            "HznFRGROzuvVBeM5hrwZig\n",
            "xS9q3oPQHaM4etfeSvFpew\n",
            "OM2bY0wa1-mwECTO_zrZkw\n",
            "7ogUy7wU7hwEm43pAtA8tQ\n",
            "8SEX-Mx-ZC64g6laAEj2bg\n",
            "cZwhdOCpa84XrpLQREOtaA\n",
            "hNWf3Uz8M17e2qB3eBV8jg\n",
            "wtMhl1OIcPBPc2qj-6_-OQ\n",
            "oJbhXG2IldIhNFydRWjD7A\n",
            "DsIeBV5j-1Y6X5BNnyjRzw\n",
            "xEOMVwCzxjcmwIoxQ3sCBg\n",
            "sbUASO4t6DMb2DygKN-scg\n",
            "AZmxWOK3ov1-_9hPBzSIng\n",
            "NDwoKO79_T49UEKVDlHd3A\n",
            "W0ziF4eQxT_1KkgYDHWlcw\n",
            "IjcDm_NIT0P4vxevx1obAg\n",
            "krcU3vu-4xC_O5Zb0IXqJg\n",
            "gGtvjhVT-Jojd1iGefopIg\n",
            "wn-l6xkj9WZu_VnotRAMvA\n",
            "KSR9Rv0Uea55YF-PNWXj1A\n",
            "VP6khoAuw4HWtHUUhw7gkQ\n",
            "hE2K63wovs5Po1w_bWNXdA\n",
            "1DxIGnI4mDDJyeIPkHemnw\n",
            "Kc6Pw7_Hkj7Dnvf6m3g4Eg\n",
            "UFZeonr4IJjlwZf1ELHkYw\n",
            "7Jlk2lr-nkxJfHh8JYFlFw\n",
            "KdGEUbf7gve4786Jqib1fA\n",
            "ybAfFo6Cxo6G3AZkUFWypQ\n",
            "qX1v8sZTgnzP9Y2yKeCLAQ\n",
            "IXdXM97Sii2-JVrNnDKMhA\n",
            "WUuZDppPp4FCe6gSTBr6Zw\n",
            "iMWGmFrMVEEktWNriZ2cTQ\n",
            "dZ5U0y0PsUp5R4TggYARBA\n",
            "OTXWDPg-5YXq4L5fDLJd_g\n",
            "kz9o4qVic9LKq-po1yw9mQ\n",
            "wZFTq5MMzuJqqMIfeux9bA\n",
            "gjE8AH0DuNcv7PkI7O6DIw\n",
            "xnuIhNUYIzgPZONsVfEY-Q\n",
            "gAZ9MstiZ_GkBJALwL4-SQ\n",
            "vjFUl6yKiJecvGS0wlUuuQ\n",
            "rhmCKWx_HmlegruNywTxbQ\n",
            "OExFQ-LmXSMEOQkEEC1vww\n",
            "hWjkjoeYKHEUguNXECbQSQ\n",
            "4u2Cb4A14tUnCDSk498s6Q\n",
            "0xgndgc3ZyeJXkgGlquYCw\n",
            "44000\n",
            "c6nspGxU5ZcLcuoBAMaH4w\n",
            "PxlS-biybO4qkNboQyBj1w\n",
            "pMMx70KKfZXi0onNHJYC0g\n",
            "wNvmhrTBmGimVHVZwKrmLw\n",
            "Ci5HqqB5xSfp-QGxIfqgjQ\n",
            "U-RL1o3NpObXzgZ35BwbDg\n",
            "8ql129VldhnHms0vCSmJLQ\n",
            "jK5p9WRLx0kyp0_x0cG2yw\n",
            "yoawejN_xh0mDipa5oyWZg\n",
            "NV8E7DF7_abpcTHIY6Kovw\n",
            "wqohggEOO8Ul4GMWQmIW4Q\n",
            "Pfhzbh5qt95k008DXvUoiA\n",
            "osLVo9mPzgq9aA-b9azt6w\n",
            "eO8QFh73AJJOTux00j04bg\n",
            "ly-9ojez5YXWEEU2p7iASQ\n",
            "ONbAX3k3nAv8hdMAVUsppQ\n",
            "lvF733su2iKwO9ZH3LbH8A\n",
            "cc21X3IJofZc3AUG1k645A\n",
            "kDEcA2pLIBPA3qUx5qx6hw\n",
            "GGA6vBEuBOaSfD3W0DQonw\n",
            "qHfz4Sf8LNfh0YAwXWDDtQ\n",
            "uLMyzUeEEGQYRe9-m7pIsQ\n",
            "RVdANHGo3SEhEPoNLUMkVg\n",
            "YWFcdkJn9qBhatRjBEeVhQ\n",
            "wTlXdmYeU_1y4N3EupVZqQ\n",
            "EXIXULfAW96tBzTzilM_OA\n",
            "JW96Qy44JewhfFJLGFcB3w\n",
            "6F6YYmwpcBU_Lvi0s26E6g\n",
            "Rj75-AklLkQnr9sRKT8kzw\n",
            "rYHEHpiX9qRcbXmObmdvSA\n",
            "g5_VPfSkEx--6ys2yuq60Q\n",
            "lYltjcc0ZQzTP74iW5T09w\n",
            "yGa4j4wmz2DUVXPxEqE5VA\n",
            "6fa0jPWNtj5mbZUL7UMIaA\n",
            "zCeOlV1IQpCarH5z4Dk9zA\n",
            "opjSWzLBir_lRwDuss6GHw\n",
            "xFvkI8Uf_7NDZbChS6wSYQ\n",
            "45000\n",
            "WWoeX-vaWoOty87X75p_kw\n",
            "H6ssEvfwH0LBwljZe51Y_A\n",
            "cxXhw7pnGVezBFuqJUc3Rw\n",
            "U_hCbZhxpOi7qXWlnlOlRw\n",
            "CaoZ44q_ZJCSqXpa_Ll2sw\n",
            "sheBUH9Bao7AtMKy3U-MBQ\n",
            "2FkuiaTdGKS45XkJOKMfGA\n",
            "r8xPU4YrXlidnfQjje2HqA\n",
            "jchdx5ivrDRQlIIAXwrOkA\n",
            "89-MxWu7IEfENvyZhcwI9g\n",
            "oo0Jvm-p5fpDiaUAWkuqeg\n",
            "YQECgha0JeVOyglE9ZTIrA\n",
            "81ywH2pEVg5_MHM3EvwjKA\n",
            "osAciuw9I_hvll-vT7uXPA\n",
            "wr5c3LeIUFB5HvNpxiqCeg\n",
            "V_xL4IPQdMPvKiAIufqSsw\n",
            "u6eNySvwPu_RgMRqm1-MTg\n",
            "1YHGGLZgClYR13MJxDMegg\n",
            "bbDOCJUkRVV3WOKV4RLXjQ\n",
            "iUCwgklG-ihAqg0jeP2yMA\n",
            "oIqPtFIcCVEcxC_HTmHgDg\n",
            "w25uN-y8d3g5uV4ajplJog\n",
            "cFDP-1jlq2pa_BPjC-wd4g\n",
            "YWGB8ZqbXL4h_IX48HNgPQ\n",
            "XAJK42fq_ZEFGzSrs6ajow\n",
            "zQZ6vdG4NG6KWz8VsslfBA\n",
            "dgYYdN4oFRcLcJDmIueFCg\n",
            "KGkCY7_EWVuJ-86ZPL7UtA\n",
            "Cf6p9CjO2uACyz_cSKhJhw\n",
            "IaPU79I_eiur0dZitYvNzg\n",
            "38kMOKCtqbzaRcAw3HKk7g\n",
            "Gqg17lKY1TnM72H3NpuKXQ\n",
            "SWVFDPb9Vaq112-2Bk1tzQ\n",
            "j7EtLS5_tvDy-Cen_PEfYQ\n",
            "lXeurkr0exwAATC2cxDqfQ\n",
            "9ypaZaTylIQtc1j0ZBvIaw\n",
            "R7vTnDVZry_I3ZLUTIKXMQ\n",
            "ZEU29M1MjQl_oC-Gx4ZH2Q\n",
            "vKla1VeUuHYgo2pLXVRWyg\n",
            "j2fK948drKHe0eSgezwRyA\n",
            "Fd4OmtDhowxzvYYIWA5Bcw\n",
            "SQt8mGJsvGQrIIjEi7eOrg\n",
            "CzNfFYkI5syKGZnOuWSfYw\n",
            "tl5Ag28pi4P2uhMEa6-dlA\n",
            "MFdWavlObX_pyrHtkSLWnA\n",
            "GFcWoMoHiawAOl40SVH4BA\n",
            "46000\n",
            "8X2Io4GNK8Yusa83xw9C2g\n",
            "Tqkhl0H83bXDyZJE6S66kQ\n",
            "kC6LrcrRuml9wi5NsgK4aw\n",
            "ZQLRRYAXZAk-neEZ0_W9gQ\n",
            "nh2HhCMvj3ODgBJi6EKkPA\n",
            "Oahm2FJwjr4ZJmGYqojfgA\n",
            "wkpQr18CBSltlsMB3i-6mQ\n",
            "Nbp6qquQh2MOaVE1HFQafA\n",
            "DgKpGDlX0U7T2XaKG9uvcQ\n",
            "ddhf_gQYSU9nAtvmstn_gQ\n",
            "G5gQbwb4EZUEHNlT5oYUgQ\n",
            "kJKqKjr-m6ng5ogQKMiz3Q\n",
            "UdNx91_fhJthJhhzSV4Vkg\n",
            "gHUT-hHX3qBluIy3o_7sgg\n",
            "jIKTTeJTDzxX8vJI-T7wxg\n",
            "zw1WyyRsclSpxBdQm5MOHw\n",
            "cE0NxiFWbH-Ikz6nXgv8mw\n",
            "pU7kdJq5_K5y5l3NYkHGmg\n",
            "OiRJQYaDqyPR_XAMY-pcvw\n",
            "t2IQvO-1VT-KBA0w2XtHfg\n",
            "4KJGnr4UB_0K4G4H6Y5YLQ\n",
            "Rd8UbVjam5zKSCBbb0Uv5w\n",
            "BDIJ668u-vS8HbHgCdxzmw\n",
            "G7AEvOxbIUV2Em7FMmwXGQ\n",
            "LvlrOkUiMyNMxXXhxiAXZA\n",
            "FxmuSs09zip7zrgNHTZcXw\n",
            "oq8yay4_CQcO_UspJERaNQ\n",
            "hOB1wKXu0MjpLRR5jq1x2A\n",
            "AQ34bMhOZRh036-tJPqCng\n",
            "7zpynWrIsQDZjegYvEF1kg\n",
            "ALBV0FDvwUOYN13pOLyIOg\n",
            "rA-C_of6pZhRMIXuadnYgA\n",
            "GgVfRtQa475wbnSM8nQuSg\n",
            "iHxKKQwUaFj7PzCddBEVZg\n",
            "vEoIs3OnOiPuhgeMQdjDtw\n",
            "hVbE1WSkMage3oe1Go3rhw\n",
            "AXTzVe_4Kr7338_6Nepc-w\n",
            "n_qcJZvSMAxTcs45wNTbqA\n",
            "VG713v_J04eBHKXQeOvrxA\n",
            "r61ZocVr97fL7VkV2VS2yw\n",
            "emL_W8kD8Vn4WcyZieZO2g\n",
            "wmBifxnIt93TEqQKmWfOaw\n",
            "RByw2wh4-1f_ZedpTZxa7A\n",
            "_CmLoo2n-bp-NAj-mhhW3A\n",
            "ynRiFaN_3YVS0n3kuJlNkg\n",
            "Y4PJ4gydOVur-xWMc9hX1g\n",
            "PjgCCISC-bfM3YPxWGWqpQ\n",
            "lF1r8--PvPJI_nhFhKkokA\n",
            "RKN7vQ5s9hCtgEJ50EbO3w\n",
            "dmMf5zt3FVAhqY6d3h0o9g\n",
            "47000\n",
            "q9rgxOw3WgJzf1fP8jv26w\n",
            "G2n77sQxr0XqPekhTu6HvA\n",
            "eWPush9C-gj9tH5zExmiEQ\n",
            "N1XlCYg1qwZemQNwOVjYmg\n",
            "3WgzKhDmH5nU946Yk4wbzA\n",
            "6fA4Scay0SkSI2aGrwAVlw\n",
            "RVJ9KifZn7DsX7zNi2dcuA\n",
            "8GW3J233ePBX7BlJcOAFUQ\n",
            "t2VUJzydog1DPBxlEcfQ-Q\n",
            "ML_L9pjO3mlqQNvQrb3zvA\n",
            "j9PWBcqjxXEAwq5drPRrpQ\n",
            "fX8uG5YpQ0fE-4dEzwefyw\n",
            "6gwPCC0kC41sQjvkG1uzgw\n",
            "YO5vS1DDy0d8QxeKnNnnFA\n",
            "a16P2HssDZrEEWXHl22d9Q\n",
            "NO6tZEjT8B9JB9CNbdy3uQ\n",
            "qaW-xH2tjfG0bUisSSdfAA\n",
            "GdBv_-KkdTtgLL3BC0wLBw\n",
            "ae41JbejtvTevP8pg6_Scg\n",
            "6M5WzRHQZOy8VCwQClkKqA\n",
            "MfWuOpIEVda0oUKZEbWnbg\n",
            "buKjTbT8XXoccgIvuUyk9A\n",
            "YKsxuKccY6lwcyY4koGIzg\n",
            "xp0ZanFPIL2vypgp_Eqmrw\n",
            "8zoIt_7h3gJeW1YGEflHrA\n",
            "QqDz0hQ7iPpHJAd9JOTudQ\n",
            "SarDVgT8uETPUKj2SStRMA\n",
            "y_7ZDRr5xt1GWIA6qj2-xQ\n",
            "cB00fmNTuWi07IXS6kOX1Q\n",
            "OPdNLu8aHCuTN5cqLS1MxQ\n",
            "m6Xjo7nGkjjUXenHm_yciw\n",
            "lifY5yvxWhEqGNX6bGfBAA\n",
            "qkJdBYlWWRfYOQKI6BgnQQ\n",
            "vYr5IUI8MDEAPBAuZJdNPQ\n",
            "dC1NQrfJzEGs49TUxORnBA\n",
            "CIEJp47cdiF7XQAsw5XmLQ\n",
            "cbTfQMiKtS7BTby81VJ8Bg\n",
            "eBmFZxa26_dzQ7if0FD-FA\n",
            "rK5j5HEeMEtZryDsZv0BTA\n",
            "Npn4dowvl5xiJzVfKZEV3Q\n",
            "5ysISW_Tc4YVg5VbM1-5Xg\n",
            "XSTySloUG_f7gFFwqvehOw\n",
            "2wlfXXv4iC50OPAYIxOG_A\n",
            "riQ8OcCWMrkICfs5eyGGtA\n",
            "UeY30shIL5ZhTw9fpnR8Fw\n",
            "LNMi7I89I9NI3bQz8LPetA\n",
            "7vxVNF-yKvCUfj8OhlH_Cg\n",
            "5j7_zwixmc4Wt8h3QCnNwg\n",
            "mH__Vdc_hGB6tdqEIbyU9g\n",
            "VQGr_cyToxgsjGkiNefXOw\n",
            "48000\n",
            "HGwI9OEWjdP0JU0wApZ3tA\n",
            "QnpovNwZKIk7OAiNG3ZspQ\n",
            "fU3qz9khOzzz0pBt7XHG5A\n",
            "jxHXxBESenM-Wzia5Xh2vA\n",
            "SbBkXpXdEDUVi7UhQYq36g\n",
            "Hywj7lDRT7x5V9l6fiAKpQ\n",
            "kOVYDwD9LbgBKwBkztDcag\n",
            "kUZUmdBTtQ6284Qlzc_NyA\n",
            "cL86kI1x5E5pXAahJ-LtnQ\n",
            "M9tQb56JpDIRvFgH1R75XA\n",
            "bHpYBhrWUmCwc16b87Nt8A\n",
            "56TJd6d_vdjxXr4eXQlQ_g\n",
            "nVkyxklblh_X4RAAHNFfbA\n",
            "hjqRwbtGFmqMy5_QT3ol1g\n",
            "x4MTp-LykX3ckp27JBIxjQ\n",
            "Y9xqKYrkyQBBt4XlV6EyMQ\n",
            "c1Cds6ml72ioKDheikpWVw\n",
            "tSUuNHQPBIv2UZxgH4Qy7w\n",
            "JsMn24HH8hicbavNSJxPXw\n",
            "f55q0EKmQKco_TMYFIEC3w\n",
            "S_dw8B_N8sZHxxdBlsUC_g\n",
            "slGOgDwclwZY9loX3r31LA\n",
            "tYre2lAoDzBJ19dxQ1ubVA\n",
            "7PjXC9efceMsqBXCsAe-sw\n",
            "yTxUljktDCBe8UHcZTyxfQ\n",
            "9ZLRAg2VmdZxznU4CY3F8w\n",
            "FgO-y6VVbnRdRZdpbgi1Aw\n",
            "bP1lwYkGwLvw0TqhuamnSA\n",
            "ve5pcmxq_Jywuo1Gms5SfQ\n",
            "lMmbhZAENUeuB93psLWnBw\n",
            "eSJMA_VdUVQTDkRJiV9lHw\n",
            "DWA7JiOvWZtTREq6-KA5jw\n",
            "MFXceYZg7bWOiVdZIQbWrw\n",
            "eIsszH4Jc0kRlv0UflS6hg\n",
            "uM3OgfBBEnjl2YVU3isA_g\n",
            "y8AENR609baGvVe-d_F-dg\n",
            "3bi5t-ca2ieKfhD8EXOssA\n",
            "fQOOrAipCKMcRydM_FyVEg\n",
            "xNNVZ3FHLfzF54eiqN3dYA\n",
            "smsZqRAirDU-c5uMxFaZoA\n",
            "8WNLB1Qj6PWhtJha-tE-ug\n",
            "LjSvLbbzFnFc6JScXH3r3w\n",
            "WtGHHomZhFffiL0UiKjGkw\n",
            "zLEzvyIkY_Ue7uCqMoGHMQ\n",
            "NVcuwHdZFJtyP4i-c0gx6g\n",
            "45XW28tWd2PZT8GiytW7Ng\n",
            "NvMN6SymLONl2N8zm-n4LA\n",
            "lWLOAuAJ-8e0pSTYRasHhw\n",
            "IcD4lXY6lT8zZPkGD9Flqg\n",
            "jnYo6ZG50mH1wrzbdGEo5Q\n",
            "BYB7Mj8CLW5-QsU5vCI71g\n",
            "qf1f2JJmxrr79xpNkzml-g\n",
            "XLN3BmDxsFARI8fan9WmQA\n",
            "gORlvYi644DZIy_GtXJtyA\n",
            "pmRL_ivQoQpec5BkTIwVTw\n",
            "9Lx86wtBuOMUvI63cTh6Wg\n",
            "9ml_Gj7Q3U-S39hnCP8gCQ\n",
            "s74_rg4QS6znHdRhWqNhtA\n",
            "6KeZQhjKhzHCvUZG2OuVjQ\n",
            "49000\n",
            "qejJlDN_9DdsOWI2A5xRsQ\n",
            "eU2xVsKv3d1cJicQh_q6qg\n",
            "v_PY4Lw53nf6Nej9is-3tw\n",
            "c32mGy62lMCp-ltl0Rcc5g\n",
            "xKd3zvXDAIMN9EcwnudUBA\n",
            "hxgHflucadUHaOsLbmTv1w\n",
            "2c4z-PvJY4RvPCDxaUsfpg\n",
            "rS0BLb6nI2BfBelOlcEEYA\n",
            "NxaslE3Fu4BUJN1OuT1mTw\n",
            "ENmvPOGlywu9umDkLGaR6w\n",
            "MB95qdTuKOtDUkv01Jl1Jw\n",
            "gTEWs6K1EHnrd-HFylUJRw\n",
            "-qyzTT2NndkDNhDYBIBtXQ\n",
            "NEIxfI_nZ93eB1r3SdNCyw\n",
            "PGRL9DzeBl4dJbgC-dNLhg\n",
            "qm4CUb96KIa2Qv7w6U_ZYQ\n",
            "HszIFq0D6aZKJwW2hVwWLw\n",
            "v6a3uDbBm5VmlBsMadCaUA\n",
            "q3UmH124taHQsptIJr33nQ\n",
            "bk9aS8CZ0Yt8aKjfyTDAXw\n",
            "vTGgvNOWfJkMXH6xg7iL6Q\n",
            "l_Ve7TDkIR-e9O5wG0TNjw\n",
            "2aSFQAS7hSUfyTag4SUw-g\n",
            "ArASlpn_kcbEpYVZI_GquQ\n",
            "hs2s_bOH9Rp4w4_0rhUOSg\n",
            "mwNsKIvpSJbw_bMCOgGVLA\n",
            "6FgBBNcwxdXOnzFJ3McJyg\n",
            "cW9gyMk0JIBc7ijJcUv5dw\n",
            "rXcmHrkhsYl99yzSMLqrfQ\n",
            "U0ZCGgfFPTd2zyXJnDiqXw\n",
            "tnUMk8v_M0kkX0J4Ew0cCQ\n",
            "R7LBTdnp3FQ7vDfSpaHe3w\n",
            "4fLMC6B2USFFRaPSfJSKlA\n",
            "8GclUzCTNI3wyuxLITKTug\n",
            "2o3IhmDY4mr0Vylbz0_M6Q\n",
            "qkypZ-w2OALuCHNYHTvgAg\n",
            "z6mU0N4zujiU-lwcYgzpSQ\n",
            "bGd_FR15CMmnyHX-o2YqoQ\n",
            "N9L1B3TD57wyDl7f3Awlcg\n",
            "tl5eOu8fqPQuzKZO21xTFg\n",
            "vQHLyvsUCUOpGOsPBDlP9g\n",
            "rhTLD0ZUfdNjluBUFX79eQ\n",
            "BQuU77gKRd8t1wSyPuw60w\n",
            "jhTvowxVAMCnAsObNta8kw\n",
            "h5YsedlZXmQd1nDnFrpvAQ\n",
            "iYd-OZDRt0MHa6VWQkBUQA\n",
            "50000\n",
            "fj6ShWc_jL5kCtZ4D9cajg\n",
            "WPlO4yIAWAvAilZa3KHCfg\n",
            "vb7t5_4aZ9yDgOMmFGYKgw\n"
          ]
        }
      ],
      "source": [
        "# new_bus_ids=[]\n",
        "# i=0\n",
        "# for id in bus_ids:\n",
        "#   if i%1000==0:\n",
        "#     print(i)\n",
        "#   i+=1\n",
        "#   if i<43000:\n",
        "#     continue\n",
        "#   with open(save_path+'tips_bert_items_dfs/'+'{}.json'.format(id)) as fd:\n",
        "#     lines= fd.readlines()\n",
        "#     if len(lines[0])<5:\n",
        "#       print(id)\n",
        "#       # print(lines)\n",
        "#     else:\n",
        "#       new_bus_ids.append(id)\n",
        "    "
      ]
    },
    {
      "cell_type": "code",
      "execution_count": null,
      "metadata": {
        "id": "mWprMkDz-VuX"
      },
      "outputs": [],
      "source": [
        "business_df"
      ]
    },
    {
      "cell_type": "code",
      "execution_count": null,
      "metadata": {
        "id": "VcE78VOkH06K"
      },
      "outputs": [],
      "source": [
        "# import json\n",
        "# import pandas as pd\n",
        "# data_file = open(save_path+\"Kaggle/yelp_academic_dataset_review.json\")\n",
        "# data = []\n",
        "# for line in data_file:\n",
        "#   data.append(json.loads(line))\n",
        "# review_df = pd.DataFrame(data)\n",
        "# data_file.close()"
      ]
    },
    {
      "cell_type": "code",
      "execution_count": null,
      "metadata": {
        "id": "nnFNT1-pGyBb"
      },
      "outputs": [],
      "source": [
        "# review_df"
      ]
    },
    {
      "cell_type": "code",
      "execution_count": null,
      "metadata": {
        "id": "EL93K3G-wudw"
      },
      "outputs": [],
      "source": [
        "# review_df.drop(['useful','funny','cool','date'],axis=1,inplace=True)"
      ]
    },
    {
      "cell_type": "code",
      "execution_count": null,
      "metadata": {
        "id": "rztQtur0y1EP"
      },
      "outputs": [],
      "source": [
        "# review_df.drop(review_df.index[~review_df['business_id'].isin(bus_ids)], inplace=True)"
      ]
    },
    {
      "cell_type": "code",
      "execution_count": null,
      "metadata": {
        "id": "fvLfBFlMI2rx"
      },
      "outputs": [],
      "source": [
        "# review_df.drop(review_df.index[~review_df['business_id'].isin(tips_bus_ids)], inplace=True)"
      ]
    },
    {
      "cell_type": "code",
      "execution_count": null,
      "metadata": {
        "id": "ELKmPi2UwXak"
      },
      "outputs": [],
      "source": [
        "# review_df.drop(review_df.index[~review_df['user_id'].isin(tips_user_ids)], inplace=True)"
      ]
    },
    {
      "cell_type": "code",
      "execution_count": null,
      "metadata": {
        "id": "dJd9UhP52MMs"
      },
      "outputs": [],
      "source": [
        "# review_df"
      ]
    },
    {
      "cell_type": "code",
      "execution_count": null,
      "metadata": {
        "id": "Em0ni5szxB_h"
      },
      "outputs": [],
      "source": [
        "# review_df.to_csv(save_path+'yelp_reviews.csv')"
      ]
    },
    {
      "cell_type": "code",
      "execution_count": null,
      "metadata": {
        "id": "LMeKukP2VF6w"
      },
      "outputs": [],
      "source": [
        "review_df=pd.read_csv(save_path+'yelp_reviews.csv')"
      ]
    },
    {
      "cell_type": "code",
      "execution_count": null,
      "metadata": {
        "id": "GTToXdt7BHV6"
      },
      "outputs": [],
      "source": [
        "# import json\n",
        "# import pandas as pd\n",
        "# data_file = open(save_path+\"Kaggle/yelp_academic_dataset_user.json\")\n",
        "# data = []\n",
        "# for line in data_file:\n",
        "#   data.append(json.loads(line))\n",
        "# user_df = pd.DataFrame(data)\n",
        "# data_file.close()"
      ]
    },
    {
      "cell_type": "code",
      "execution_count": null,
      "metadata": {
        "id": "uttsO3noAXcA"
      },
      "outputs": [],
      "source": [
        "# user_df=user_df[user_df['review_count']>20]"
      ]
    },
    {
      "cell_type": "code",
      "execution_count": null,
      "metadata": {
        "id": "y_ILxXWfVzON"
      },
      "outputs": [],
      "source": [
        "# user_df"
      ]
    },
    {
      "cell_type": "code",
      "execution_count": null,
      "metadata": {
        "id": "uZ-QVILfV-pI"
      },
      "outputs": [],
      "source": [
        "# user_ids=user_df['user_id'].values"
      ]
    },
    {
      "cell_type": "code",
      "execution_count": null,
      "metadata": {
        "colab": {
          "base_uri": "https://localhost:8080/"
        },
        "id": "vNBUYkedWTyn",
        "outputId": "207b3fc0-6969-489a-bfa0-9a99c5cbaff2"
      },
      "outputs": [
        {
          "data": {
            "text/plain": [
              "array(['qVc8ODYU5SZjKXVBgXdI7w', 'j14WgRoU_-2ZE1aw1dXrJg',\n",
              "       '2WnXYQFK0hXEoTxPtV2zvg', ..., '_K4X0IBlwDSnClxOrOdxVw',\n",
              "       'E7Stb54xluW_QabdPRwvog', 'fB3jbHi3m0L2KgGOxBv6uw'], dtype=object)"
            ]
          },
          "execution_count": 40,
          "metadata": {},
          "output_type": "execute_result"
        }
      ],
      "source": [
        "# user_ids"
      ]
    },
    {
      "cell_type": "code",
      "execution_count": null,
      "metadata": {
        "id": "ePOsKlVrYA0z"
      },
      "outputs": [],
      "source": [
        "# review_df.drop(review_df.index[~review_df['user_id'].isin(user_ids)], inplace=True)"
      ]
    },
    {
      "cell_type": "code",
      "execution_count": null,
      "metadata": {
        "id": "qHUBnnQW93p4"
      },
      "outputs": [],
      "source": [
        "# review_df"
      ]
    },
    {
      "cell_type": "code",
      "execution_count": null,
      "metadata": {
        "id": "WhtrGzBSqFVL"
      },
      "outputs": [],
      "source": [
        "from sklearn import preprocessing\n",
        "import numpy as np"
      ]
    },
    {
      "cell_type": "code",
      "execution_count": null,
      "metadata": {
        "id": "b6gEC__hs9Df"
      },
      "outputs": [],
      "source": [
        "business_df.drop(['name','address','city','state','postal_code'],axis=1,inplace=True)\n"
      ]
    },
    {
      "cell_type": "code",
      "execution_count": null,
      "metadata": {
        "id": "OlO_glPEuIDW"
      },
      "outputs": [],
      "source": [
        "business_df.drop(['is_open','review_count'],axis=1,inplace=True)"
      ]
    },
    {
      "cell_type": "code",
      "execution_count": null,
      "metadata": {
        "id": "hmeaCWo-GpNL"
      },
      "outputs": [],
      "source": [
        "business_df.reset_index(inplace=True)"
      ]
    },
    {
      "cell_type": "code",
      "execution_count": null,
      "metadata": {
        "id": "3sQGPhkc8Xpc"
      },
      "outputs": [],
      "source": [
        "scaled_features.to_csv(save_path+'normalized_business_dataset.csv')"
      ]
    },
    {
      "cell_type": "code",
      "execution_count": null,
      "metadata": {
        "id": "K4LAAtIzmmUD"
      },
      "outputs": [],
      "source": [
        "scaled_features=pd.read_csv(save_path+'normalized_business_dataset.csv')"
      ]
    },
    {
      "cell_type": "code",
      "execution_count": null,
      "metadata": {
        "id": "P2G4lDfNW1UW"
      },
      "outputs": [],
      "source": [
        "import pandas as pd\n",
        "import numpy as np\n",
        "import torch\n",
        "import json\n",
        "import matplotlib.pyplot as plt\n",
        "import os\n",
        "import tqdm\n",
        "import pickle\n",
        "from pathlib import Path\n",
        "from torch.utils.data import DataLoader\n",
        "from sklearn.metrics import ndcg_score\n",
        "import torch.nn.functional as F\n",
        "np.random.seed(0)"
      ]
    },
    {
      "cell_type": "code",
      "execution_count": null,
      "metadata": {
        "id": "O1H_dqLyW1UY"
      },
      "outputs": [],
      "source": [
        "from nltk.corpus import stopwords\n",
        "from nltk import word_tokenize\n",
        "from nltk import FreqDist\n",
        "import re\n",
        "from nltk.tokenize import RegexpTokenizer\n",
        "import nltk\n",
        "from nltk.stem import WordNetLemmatizer\n",
        "from nltk import word_tokenize,pos_tag\n",
        "import pandas as pd"
      ]
    },
    {
      "cell_type": "code",
      "execution_count": null,
      "metadata": {
        "id": "MRItXJfIcQuz"
      },
      "outputs": [],
      "source": [
        "# sentires_dir='/content/drive/MyDrive/Recommender/cell_phone/Cell_Phones_and_Accessories'\n",
        "test_length=5\n",
        "sample_ratio=5\n",
        "val_length=5\n",
        "neg_length=100\n",
        "dataset='yelp'\n",
        "save_path='/content/drive/Shareddrives/Unlimited Drive | @LicenseMarket/Recommender/Yelp/'"
      ]
    },
    {
      "cell_type": "code",
      "execution_count": null,
      "metadata": {
        "id": "DbJOR8L1Msak"
      },
      "outputs": [],
      "source": [
        "all_pairs=tip_df['bus_user_id'].values"
      ]
    },
    {
      "cell_type": "code",
      "execution_count": null,
      "metadata": {
        "colab": {
          "base_uri": "https://localhost:8080/"
        },
        "id": "hq8mm002N5La",
        "outputId": "348c2cdf-36b8-423a-a319-58cecd5b33e7"
      },
      "outputs": [
        {
          "data": {
            "text/plain": [
              "array([('QoezRbYQncpRqyrLH6Iqjg', 'NBN4MgHP9D3cw--SnauTkA'),\n",
              "       ('hV-bABTK-glh5wj31ps_Jw', 'FjMQVZjSqY8syIO-53KFKw'),\n",
              "       ('_uN0OudeJ3Zl_tf6nxg5ww', 'ld0AperBXk1h6UbqmM80zw'), ...,\n",
              "       ('hYnMeAO77RGyTtIzUSKYzQ', 'v48Spe6WEpqehsF2xQADpg'),\n",
              "       ('s2eyoTuJrcP7I_XyjdhUHQ', 'ckqKGM2hl7I9Chp5IpAhkw'),\n",
              "       ('_cb1Vg1NIWry8UA0jyuXnQ', '4tF1CWdMxvvwpUIgGsDygA')], dtype=object)"
            ]
          },
          "execution_count": 55,
          "metadata": {},
          "output_type": "execute_result"
        }
      ],
      "source": [
        "all_pairs"
      ]
    },
    {
      "cell_type": "code",
      "execution_count": null,
      "metadata": {
        "id": "mwGTbhQJRUG1"
      },
      "outputs": [],
      "source": [
        "def get_user_item_dict(all_pairs):\n",
        "  user_dict = {}\n",
        "  item_dict = {}\n",
        "  # user_item_pairs=[]\n",
        "  j=0\n",
        "  print(len(all_pairs))\n",
        "  for user_item in all_pairs:\n",
        "    item= user_item[0]\n",
        "    user= user_item[1]\n",
        "    # if j%1000==0:\n",
        "    #   print(j)\n",
        "    # j+=1\n",
        "    # user=row['user_id']\n",
        "    # item=row['business_id']\n",
        "    # if item in items_list:\n",
        "    # if (user,item) not in user_item_pairs:\n",
        "    # user_item_pairs.append((user,item))\n",
        "    if user not in user_dict:\n",
        "        user_dict[user] = [item]\n",
        "    else:\n",
        "        user_dict[user].append(item)\n",
        "    if item not in item_dict:\n",
        "        item_dict[item] = [user]\n",
        "    else:\n",
        "        item_dict[item].append(user)\n",
        "    # user_item_pairs=list(set(user_item_pairs))\n",
        "  return user_dict,item_dict"
      ]
    },
    {
      "cell_type": "code",
      "execution_count": null,
      "metadata": {
        "id": "H6v8XMseBgND"
      },
      "outputs": [],
      "source": [
        "import os"
      ]
    },
    {
      "cell_type": "code",
      "execution_count": null,
      "metadata": {
        "id": "uWcrf2wIcoAC"
      },
      "outputs": [],
      "source": [
        "def get_initialized_teta2(features,len_words,words_indices,val):\n",
        "  init_teta=torch.zeros(len(features), len_words)\n",
        "  indices = torch.arange(init_teta.size(0)).long()\n",
        "  init_teta[indices, torch.LongTensor(words_indices)] =val\n",
        "  init_teta = init_teta.to(device)\n",
        "  init_teta.requires_grad = True\n",
        "  return init_teta"
      ]
    },
    {
      "cell_type": "code",
      "execution_count": null,
      "metadata": {
        "id": "A4BDXqXzMbji"
      },
      "outputs": [],
      "source": [
        "def get_initialized_teta(values,matrix,num):\n",
        "  # print(matrix.shape)\n",
        "  init_teta=torch.zeros(matrix.shape[1],matrix.shape[0])\n",
        "  indices = torch.arange(init_teta.size(0)).long()\n",
        "  values1=np.array(values)\n",
        "  values_indices=[np.where((matrix.cpu().numpy()[:,i]==values[i]))[0][0] for i in range(len(values))]\n",
        "  init_teta[indices, torch.LongTensor(values_indices)] =num\n",
        "  init_teta = init_teta.to(device)\n",
        "  init_teta.requires_grad = True\n",
        "  return init_teta"
      ]
    },
    {
      "cell_type": "code",
      "execution_count": null,
      "metadata": {
        "colab": {
          "base_uri": "https://localhost:8080/"
        },
        "id": "DLE1KYCK0y0d",
        "outputId": "268e685c-8c4b-4749-d91b-e57b7e91b411"
      },
      "outputs": [
        {
          "output_type": "stream",
          "name": "stdout",
          "text": [
            "626069\n"
          ]
        }
      ],
      "source": [
        "print(len(all_pairs))"
      ]
    },
    {
      "cell_type": "code",
      "execution_count": null,
      "metadata": {
        "id": "Wc3WD4qjkLzk"
      },
      "outputs": [],
      "source": [
        "def sample_gumbel(shape, eps=1e-20):\n",
        "  U = torch.rand(shape)\n",
        "  U = U.cuda()\n",
        "  return -torch.log(-torch.log(U + eps) + eps)"
      ]
    },
    {
      "cell_type": "code",
      "execution_count": null,
      "metadata": {
        "id": "BMC87xZi-M9N"
      },
      "outputs": [],
      "source": [
        "def get_average_vect_train(item_id,not_in_columns):\n",
        "  all_words=[]\n",
        "  all_vects=[]\n",
        "  # print(item_id)\n",
        "  try:\n",
        "    df=pd.read_json(save_path+'tips_bert_items_dfs/'+'{}.json'.format(item_id))\n",
        "    df1=df.copy()\n",
        "    df1['main_word']=np.where(df1['replaced_word'] == df1[not_in_columns],1,0)\n",
        "    df1=df1[df1['main_word']==1]\n",
        "    if df1.empty:\n",
        "      df1=df.copy()\n",
        "      df1['main_word']=np.where(df1['logit']==5.0,1,0)\n",
        "      df1=df1[df1['main_word']==1]\n",
        "    if df1.empty:\n",
        "      df1=df.copy()\n",
        "      df1['main_word']=np.where(df1['logit']==12.0,1,0)\n",
        "      df1=df1[df1['main_word']==1]\n",
        "    lists=df1.loc[:, ~df1.columns.isin([not_in_columns,'replaced_word','logit','main_word'])].values\n",
        "    words=df1[not_in_columns].values\n",
        "    all_words+=list(words)\n",
        "    # print(words)\n",
        "    vects=[sub_list[0] for sub_list in lists]\n",
        "    all_vects+=vects\n",
        "    average=np.average(np.array(all_vects),axis=0)\n",
        "  except TypeError:\n",
        "    return None,None\n",
        "  # print(vects)\n",
        "  # print(average)\n",
        "  # print(df)\n",
        "  # print(words)\n",
        "  # print(df)\n",
        "  return average,all_words"
      ]
    },
    {
      "cell_type": "code",
      "execution_count": null,
      "metadata": {
        "id": "woUUSm-mdH1A"
      },
      "outputs": [],
      "source": [
        "from typing_extensions import final\n",
        "def get_item_matrix(item_name_dict,items_list,scaled_features,training_data):\n",
        "  print('----- get items matrix -------')\n",
        "  item_quality_matrix = np.zeros((len(item_name_dict), 768))\n",
        "  print((len(item_name_dict)))\n",
        "  i=0\n",
        "  features={}\n",
        "  for item_id in items_list:\n",
        "      # if item_id!='cXSyVvOr9YRN9diDkaWs0Q':\n",
        "      #   continue\n",
        "      if i%100==0:\n",
        "        print(i)\n",
        "      i+=1\n",
        "      # if i<900:\n",
        "      #   continue\n",
        "      # print(item_id)\n",
        "      item=item_name_dict[item_id]\n",
        "      features[item]=[]\n",
        "      average_vect_desc,words_tip=get_average_vect_train(item_id,'word')\n",
        "      if words_tip != None:\n",
        "        features[item].append(words_tip)\n",
        "\n",
        "      # print(features[item])\n",
        "      # print(np.array(list(average_vect_desc)))\n",
        "      # print()\n",
        "      if words_tip != None:\n",
        "        item_quality_matrix[item]=list(average_vect_desc)\n",
        "      else:\n",
        "        item_quality_matrix[item]=list(np.zeros(768))\n",
        "\n",
        "\n",
        "  item_quality_matrix = np.array(item_quality_matrix, dtype='float32')\n",
        "  # print(item_quality_matrix.shape)\n",
        "  return item_quality_matrix,features"
      ]
    },
    {
      "cell_type": "code",
      "execution_count": null,
      "metadata": {
        "id": "NecDmjj2CdtH"
      },
      "outputs": [],
      "source": [
        "review_df.drop(['Unnamed: 0','Unnamed: 0.1'],axis=1,inplace=True)"
      ]
    },
    {
      "cell_type": "code",
      "execution_count": null,
      "metadata": {
        "id": "X1EQvA6czSJ6"
      },
      "outputs": [],
      "source": [
        "review_df.drop(review_df.index[~review_df['business_id'].isin(list(scaled_features['business_id'].values))], inplace=True)"
      ]
    },
    {
      "cell_type": "code",
      "execution_count": null,
      "metadata": {
        "colab": {
          "base_uri": "https://localhost:8080/",
          "height": 424
        },
        "id": "fmtFGihXzm8p",
        "outputId": "bc295f44-e046-4a40-ad72-d85486df72c6"
      },
      "outputs": [
        {
          "data": {
            "text/html": [
              "\n",
              "  <div id=\"df-c153e1b9-9133-4561-b5ad-78b1f9863f96\">\n",
              "    <div class=\"colab-df-container\">\n",
              "      <div>\n",
              "<style scoped>\n",
              "    .dataframe tbody tr th:only-of-type {\n",
              "        vertical-align: middle;\n",
              "    }\n",
              "\n",
              "    .dataframe tbody tr th {\n",
              "        vertical-align: top;\n",
              "    }\n",
              "\n",
              "    .dataframe thead th {\n",
              "        text-align: right;\n",
              "    }\n",
              "</style>\n",
              "<table border=\"1\" class=\"dataframe\">\n",
              "  <thead>\n",
              "    <tr style=\"text-align: right;\">\n",
              "      <th></th>\n",
              "      <th>review_id</th>\n",
              "      <th>user_id</th>\n",
              "      <th>business_id</th>\n",
              "      <th>stars</th>\n",
              "      <th>text</th>\n",
              "    </tr>\n",
              "  </thead>\n",
              "  <tbody>\n",
              "    <tr>\n",
              "      <th>0</th>\n",
              "      <td>KU_O5udG6zpxOg-VcAEodg</td>\n",
              "      <td>mh_-eMZ6K5RLWhZyISBhwA</td>\n",
              "      <td>XQfwVwDr-v0ZS3_CbbE5Xw</td>\n",
              "      <td>3.0</td>\n",
              "      <td>If you decide to eat here, just be aware it is...</td>\n",
              "    </tr>\n",
              "    <tr>\n",
              "      <th>1</th>\n",
              "      <td>LnGZB0fjfgeVDVz5IHuEVA</td>\n",
              "      <td>j2wlzrntrbKwyOcOiB3l3w</td>\n",
              "      <td>rBdG_23USc7DletfZ11xGA</td>\n",
              "      <td>4.0</td>\n",
              "      <td>The hubby and I have been here on multiple occ...</td>\n",
              "    </tr>\n",
              "    <tr>\n",
              "      <th>2</th>\n",
              "      <td>Xs8Z8lmKkosqW5mw_sVAoA</td>\n",
              "      <td>IQsF3Rc6IgCzjVV9DE8KXg</td>\n",
              "      <td>eFvzHawVJofxSnD7TgbZtg</td>\n",
              "      <td>5.0</td>\n",
              "      <td>My absolute favorite cafe in the city. Their b...</td>\n",
              "    </tr>\n",
              "    <tr>\n",
              "      <th>3</th>\n",
              "      <td>J-4NdnDZ0pUQaUEEwDI9KQ</td>\n",
              "      <td>vrKkXsozqqecF3CW4cGaVQ</td>\n",
              "      <td>rjuWz_AD3WfXJc03AhIO_w</td>\n",
              "      <td>5.0</td>\n",
              "      <td>I thoroughly enjoyed the show.  Chill way to s...</td>\n",
              "    </tr>\n",
              "    <tr>\n",
              "      <th>4</th>\n",
              "      <td>qS6kE7CDoDagyPZwmueJaQ</td>\n",
              "      <td>zoBajEyVA0z4IjbFsMJksg</td>\n",
              "      <td>c-IgS6Pk6vMyax7Rbr38eA</td>\n",
              "      <td>4.0</td>\n",
              "      <td>Went for lunch. Beef brisket sandwich was awes...</td>\n",
              "    </tr>\n",
              "    <tr>\n",
              "      <th>...</th>\n",
              "      <td>...</td>\n",
              "      <td>...</td>\n",
              "      <td>...</td>\n",
              "      <td>...</td>\n",
              "      <td>...</td>\n",
              "    </tr>\n",
              "    <tr>\n",
              "      <th>1469038</th>\n",
              "      <td>wD5ZWao_vjyT2h4xmGam8Q</td>\n",
              "      <td>7L7GL5Pi2cf8mbm2Dpw4zw</td>\n",
              "      <td>e_E-jq9mwm7wk75k7Yi-Xw</td>\n",
              "      <td>5.0</td>\n",
              "      <td>It is very rare for a restaurant to be this go...</td>\n",
              "    </tr>\n",
              "    <tr>\n",
              "      <th>1469039</th>\n",
              "      <td>H0RIamZu0B0Ei0P4aeh3sQ</td>\n",
              "      <td>qskILQ3k0I_qcCMI-k6_QQ</td>\n",
              "      <td>jals67o91gcrD4DC81Vk6w</td>\n",
              "      <td>5.0</td>\n",
              "      <td>Latest addition to services from ICCU is Apple...</td>\n",
              "    </tr>\n",
              "    <tr>\n",
              "      <th>1469040</th>\n",
              "      <td>YNfNhgZlaaCO5Q_YJR4rEw</td>\n",
              "      <td>mm6E4FbCMwJmb7kPDZ5v2Q</td>\n",
              "      <td>R1khUUxidqfaJmcpmGd4aw</td>\n",
              "      <td>4.0</td>\n",
              "      <td>This Home Depot won me over when I needed to g...</td>\n",
              "    </tr>\n",
              "    <tr>\n",
              "      <th>1469041</th>\n",
              "      <td>i-I4ZOhoX70Nw5H0FwrQUA</td>\n",
              "      <td>YwAMC-jvZ1fvEUum6QkEkw</td>\n",
              "      <td>Rr9kKArrMhSLVE9a53q-aA</td>\n",
              "      <td>5.0</td>\n",
              "      <td>For when I'm feeling like ignoring my calorie-...</td>\n",
              "    </tr>\n",
              "    <tr>\n",
              "      <th>1469042</th>\n",
              "      <td>RwcKOdEuLRHNJe4M9-qpqg</td>\n",
              "      <td>6JehEvdoCvZPJ_XIxnzIIw</td>\n",
              "      <td>VAeEXLbEcI9Emt9KGYq9aA</td>\n",
              "      <td>3.0</td>\n",
              "      <td>Located in the 'Walking District' in Nashville...</td>\n",
              "    </tr>\n",
              "  </tbody>\n",
              "</table>\n",
              "<p>1426442 rows × 5 columns</p>\n",
              "</div>\n",
              "      <button class=\"colab-df-convert\" onclick=\"convertToInteractive('df-c153e1b9-9133-4561-b5ad-78b1f9863f96')\"\n",
              "              title=\"Convert this dataframe to an interactive table.\"\n",
              "              style=\"display:none;\">\n",
              "        \n",
              "  <svg xmlns=\"http://www.w3.org/2000/svg\" height=\"24px\"viewBox=\"0 0 24 24\"\n",
              "       width=\"24px\">\n",
              "    <path d=\"M0 0h24v24H0V0z\" fill=\"none\"/>\n",
              "    <path d=\"M18.56 5.44l.94 2.06.94-2.06 2.06-.94-2.06-.94-.94-2.06-.94 2.06-2.06.94zm-11 1L8.5 8.5l.94-2.06 2.06-.94-2.06-.94L8.5 2.5l-.94 2.06-2.06.94zm10 10l.94 2.06.94-2.06 2.06-.94-2.06-.94-.94-2.06-.94 2.06-2.06.94z\"/><path d=\"M17.41 7.96l-1.37-1.37c-.4-.4-.92-.59-1.43-.59-.52 0-1.04.2-1.43.59L10.3 9.45l-7.72 7.72c-.78.78-.78 2.05 0 2.83L4 21.41c.39.39.9.59 1.41.59.51 0 1.02-.2 1.41-.59l7.78-7.78 2.81-2.81c.8-.78.8-2.07 0-2.86zM5.41 20L4 18.59l7.72-7.72 1.47 1.35L5.41 20z\"/>\n",
              "  </svg>\n",
              "      </button>\n",
              "      \n",
              "  <style>\n",
              "    .colab-df-container {\n",
              "      display:flex;\n",
              "      flex-wrap:wrap;\n",
              "      gap: 12px;\n",
              "    }\n",
              "\n",
              "    .colab-df-convert {\n",
              "      background-color: #E8F0FE;\n",
              "      border: none;\n",
              "      border-radius: 50%;\n",
              "      cursor: pointer;\n",
              "      display: none;\n",
              "      fill: #1967D2;\n",
              "      height: 32px;\n",
              "      padding: 0 0 0 0;\n",
              "      width: 32px;\n",
              "    }\n",
              "\n",
              "    .colab-df-convert:hover {\n",
              "      background-color: #E2EBFA;\n",
              "      box-shadow: 0px 1px 2px rgba(60, 64, 67, 0.3), 0px 1px 3px 1px rgba(60, 64, 67, 0.15);\n",
              "      fill: #174EA6;\n",
              "    }\n",
              "\n",
              "    [theme=dark] .colab-df-convert {\n",
              "      background-color: #3B4455;\n",
              "      fill: #D2E3FC;\n",
              "    }\n",
              "\n",
              "    [theme=dark] .colab-df-convert:hover {\n",
              "      background-color: #434B5C;\n",
              "      box-shadow: 0px 1px 3px 1px rgba(0, 0, 0, 0.15);\n",
              "      filter: drop-shadow(0px 1px 2px rgba(0, 0, 0, 0.3));\n",
              "      fill: #FFFFFF;\n",
              "    }\n",
              "  </style>\n",
              "\n",
              "      <script>\n",
              "        const buttonEl =\n",
              "          document.querySelector('#df-c153e1b9-9133-4561-b5ad-78b1f9863f96 button.colab-df-convert');\n",
              "        buttonEl.style.display =\n",
              "          google.colab.kernel.accessAllowed ? 'block' : 'none';\n",
              "\n",
              "        async function convertToInteractive(key) {\n",
              "          const element = document.querySelector('#df-c153e1b9-9133-4561-b5ad-78b1f9863f96');\n",
              "          const dataTable =\n",
              "            await google.colab.kernel.invokeFunction('convertToInteractive',\n",
              "                                                     [key], {});\n",
              "          if (!dataTable) return;\n",
              "\n",
              "          const docLinkHtml = 'Like what you see? Visit the ' +\n",
              "            '<a target=\"_blank\" href=https://colab.research.google.com/notebooks/data_table.ipynb>data table notebook</a>'\n",
              "            + ' to learn more about interactive tables.';\n",
              "          element.innerHTML = '';\n",
              "          dataTable['output_type'] = 'display_data';\n",
              "          await google.colab.output.renderOutput(dataTable, element);\n",
              "          const docLink = document.createElement('div');\n",
              "          docLink.innerHTML = docLinkHtml;\n",
              "          element.appendChild(docLink);\n",
              "        }\n",
              "      </script>\n",
              "    </div>\n",
              "  </div>\n",
              "  "
            ],
            "text/plain": [
              "                      review_id                 user_id  \\\n",
              "0        KU_O5udG6zpxOg-VcAEodg  mh_-eMZ6K5RLWhZyISBhwA   \n",
              "1        LnGZB0fjfgeVDVz5IHuEVA  j2wlzrntrbKwyOcOiB3l3w   \n",
              "2        Xs8Z8lmKkosqW5mw_sVAoA  IQsF3Rc6IgCzjVV9DE8KXg   \n",
              "3        J-4NdnDZ0pUQaUEEwDI9KQ  vrKkXsozqqecF3CW4cGaVQ   \n",
              "4        qS6kE7CDoDagyPZwmueJaQ  zoBajEyVA0z4IjbFsMJksg   \n",
              "...                         ...                     ...   \n",
              "1469038  wD5ZWao_vjyT2h4xmGam8Q  7L7GL5Pi2cf8mbm2Dpw4zw   \n",
              "1469039  H0RIamZu0B0Ei0P4aeh3sQ  qskILQ3k0I_qcCMI-k6_QQ   \n",
              "1469040  YNfNhgZlaaCO5Q_YJR4rEw  mm6E4FbCMwJmb7kPDZ5v2Q   \n",
              "1469041  i-I4ZOhoX70Nw5H0FwrQUA  YwAMC-jvZ1fvEUum6QkEkw   \n",
              "1469042  RwcKOdEuLRHNJe4M9-qpqg  6JehEvdoCvZPJ_XIxnzIIw   \n",
              "\n",
              "                    business_id  stars  \\\n",
              "0        XQfwVwDr-v0ZS3_CbbE5Xw    3.0   \n",
              "1        rBdG_23USc7DletfZ11xGA    4.0   \n",
              "2        eFvzHawVJofxSnD7TgbZtg    5.0   \n",
              "3        rjuWz_AD3WfXJc03AhIO_w    5.0   \n",
              "4        c-IgS6Pk6vMyax7Rbr38eA    4.0   \n",
              "...                         ...    ...   \n",
              "1469038  e_E-jq9mwm7wk75k7Yi-Xw    5.0   \n",
              "1469039  jals67o91gcrD4DC81Vk6w    5.0   \n",
              "1469040  R1khUUxidqfaJmcpmGd4aw    4.0   \n",
              "1469041  Rr9kKArrMhSLVE9a53q-aA    5.0   \n",
              "1469042  VAeEXLbEcI9Emt9KGYq9aA    3.0   \n",
              "\n",
              "                                                      text  \n",
              "0        If you decide to eat here, just be aware it is...  \n",
              "1        The hubby and I have been here on multiple occ...  \n",
              "2        My absolute favorite cafe in the city. Their b...  \n",
              "3        I thoroughly enjoyed the show.  Chill way to s...  \n",
              "4        Went for lunch. Beef brisket sandwich was awes...  \n",
              "...                                                    ...  \n",
              "1469038  It is very rare for a restaurant to be this go...  \n",
              "1469039  Latest addition to services from ICCU is Apple...  \n",
              "1469040  This Home Depot won me over when I needed to g...  \n",
              "1469041  For when I'm feeling like ignoring my calorie-...  \n",
              "1469042  Located in the 'Walking District' in Nashville...  \n",
              "\n",
              "[1426442 rows x 5 columns]"
            ]
          },
          "execution_count": 88,
          "metadata": {},
          "output_type": "execute_result"
        }
      ],
      "source": [
        "review_df"
      ]
    },
    {
      "cell_type": "code",
      "execution_count": null,
      "metadata": {
        "id": "PEAyACg9ioIo"
      },
      "outputs": [],
      "source": [
        "tip_df"
      ]
    },
    {
      "cell_type": "code",
      "execution_count": null,
      "metadata": {
        "id": "SGne2aHvlOFh"
      },
      "outputs": [],
      "source": [
        "items_interacted={}\n",
        "for pair in all_pairs:\n",
        "  if pair[1] in items_interacted.keys():\n",
        "    items_interacted[pair[1]].append(pair[0])\n",
        "  else:\n",
        "    items_interacted[pair[1]]=[]\n",
        "    items_interacted[pair[1]].append(pair[0])"
      ]
    },
    {
      "cell_type": "code",
      "execution_count": null,
      "metadata": {
        "id": "Kh5kvUo8lvOL"
      },
      "outputs": [],
      "source": [
        "items_interacted"
      ]
    },
    {
      "cell_type": "code",
      "execution_count": null,
      "metadata": {
        "colab": {
          "base_uri": "https://localhost:8080/"
        },
        "id": "V5j_W6yDlziy",
        "outputId": "5ebee85b-3aa4-44f8-b7d1-92d9b1eb2ea8"
      },
      "outputs": [
        {
          "data": {
            "text/plain": [
              "243531"
            ]
          },
          "execution_count": 50,
          "metadata": {},
          "output_type": "execute_result"
        }
      ],
      "source": [
        "len(items_interacted)"
      ]
    },
    {
      "cell_type": "code",
      "execution_count": null,
      "metadata": {
        "id": "QRpOh_KG94WX"
      },
      "outputs": [],
      "source": [
        "def get_user_matrix(item_matrix,inv_user_name_dict,item_name_dict,scaled_features,review_df):\n",
        "  user_quality_matrix = np.zeros((len(inv_user_name_dict),768))\n",
        "  i=0\n",
        "  print('----- get users matrix -------')\n",
        "  print((len(inv_user_name_dict)))\n",
        "  for  user in inv_user_name_dict.keys():\n",
        "    if i%10000==0:\n",
        "      print(i)\n",
        "    i+=1\n",
        "    user_id= inv_user_name_dict[user]\n",
        "    final_vector=[]\n",
        "    items_interacted1=items_interacted[user_id]\n",
        "    # mean_rate=np.average(items_interacted['stars'].values)\n",
        "    # weights=[]\n",
        "    for item_id in items_interacted1:\n",
        "      if item_id in item_name_dict.keys():\n",
        "        item=item_name_dict[item_id]\n",
        "        # weight=items_interacted[items_interacted['business_id']==item_id]['stars'].values[0]-mean_rate\n",
        "        # weights.append(weight)\n",
        "        final_vector.append(item_matrix[item])\n",
        "    # if np.sum(weights)>0 or np.sum(weights)<0:\n",
        "    #   final_average=np.average(final_vector,weights=weights,axis=0)\n",
        "    # else:\n",
        "    final_average=np.average(final_vector,axis=0)\n",
        "    if ~np.isnan(np.sum(final_average)):\n",
        "      user_quality_matrix[user]=final_average\n",
        "    else:\n",
        "      print(user_id)\n",
        "  user_quality_matrix = np.array(user_quality_matrix, dtype='float32')\n",
        "  return user_quality_matrix"
      ]
    },
    {
      "cell_type": "code",
      "execution_count": null,
      "metadata": {
        "id": "Rfm9U58AAOnk"
      },
      "outputs": [],
      "source": [
        "def sample_training_pairs(user, training_items, item_set, sample_ratio=5):\n",
        "    positive_items = set(training_items)\n",
        "    negative_items = set()\n",
        "    for item in item_set:\n",
        "        if item not in positive_items:\n",
        "            negative_items.add(item)\n",
        "    neg_length = len(positive_items) * sample_ratio\n",
        "    negative_items = np.random.choice(np.array(list(negative_items)), neg_length, replace=False)\n",
        "    train_pairs = []\n",
        "    for p_item in positive_items:\n",
        "        train_pairs.append([user, p_item, 1])\n",
        "    for n_item in negative_items:\n",
        "        train_pairs.append([user, n_item, 0])\n",
        "    return train_pairs"
      ]
    },
    {
      "cell_type": "code",
      "execution_count": null,
      "metadata": {
        "colab": {
          "base_uri": "https://localhost:8080/"
        },
        "id": "AB0I523deF44",
        "outputId": "42374d65-b1b0-491c-a0f0-d604b789be57"
      },
      "outputs": [
        {
          "output_type": "stream",
          "name": "stdout",
          "text": [
            "626069\n"
          ]
        }
      ],
      "source": [
        "user_dict, item_dict = get_user_item_dict(all_pairs)  # not sorted with time"
      ]
    },
    {
      "cell_type": "code",
      "execution_count": null,
      "metadata": {
        "colab": {
          "base_uri": "https://localhost:8080/"
        },
        "id": "rDbn4th76nXY",
        "outputId": "3eef2a48-fcd3-4fd4-fbc5-ae062ac2f546"
      },
      "outputs": [
        {
          "output_type": "stream",
          "name": "stdout",
          "text": [
            "243531\n",
            "0\n",
            "10000\n",
            "20000\n",
            "30000\n",
            "40000\n",
            "50000\n",
            "60000\n",
            "70000\n",
            "80000\n",
            "90000\n",
            "100000\n",
            "110000\n",
            "120000\n",
            "130000\n",
            "140000\n",
            "150000\n",
            "160000\n",
            "170000\n",
            "180000\n",
            "190000\n",
            "200000\n",
            "210000\n",
            "220000\n",
            "230000\n",
            "240000\n"
          ]
        }
      ],
      "source": [
        "user_item_pair=[]\n",
        "print(len(user_dict))\n",
        "i=0\n",
        "for user in user_dict:\n",
        "  if i%10000==0:\n",
        "    print(i)\n",
        "  i+=1\n",
        "  for item in user_dict[user]:\n",
        "    user_item_pair.append((user,item))"
      ]
    },
    {
      "cell_type": "code",
      "execution_count": null,
      "metadata": {
        "id": "HgIIAnG07BDt"
      },
      "outputs": [],
      "source": [
        "user_item_pair=list(set(user_item_pair))"
      ]
    },
    {
      "cell_type": "code",
      "execution_count": null,
      "metadata": {
        "colab": {
          "base_uri": "https://localhost:8080/"
        },
        "id": "cIRwZfwe7LXI",
        "outputId": "5ab696a6-abe8-4a3c-d614-03d6343f01d8"
      },
      "outputs": [
        {
          "output_type": "execute_result",
          "data": {
            "text/plain": [
              "541276"
            ]
          },
          "metadata": {},
          "execution_count": 51
        }
      ],
      "source": [
        "len(user_item_pair)"
      ]
    },
    {
      "cell_type": "code",
      "execution_count": null,
      "metadata": {
        "id": "wRV2woMaQP2z"
      },
      "outputs": [],
      "source": [
        "from re import S\n",
        "import torch\n",
        "import numpy as np\n",
        "import json\n",
        "import pickle\n",
        "# from torch._C import R\n",
        "import tqdm\n",
        "from torch.random import seed\n",
        "\n",
        "\n",
        "class YelpDataset():\n",
        "    def __init__(self):\n",
        "        super().__init__()\n",
        "\n",
        "        self.user_name_dict = {}  # rename users to integer names\n",
        "        self.item_name_dict = {}\n",
        "        # self.feature_name_dict = {}\n",
        "\n",
        "        self.features = {}  # feature list\n",
        "        self.users = []\n",
        "        self.items = []\n",
        "\n",
        "        self.user_num = None\n",
        "        self.item_num = None\n",
        "        \n",
        "        # self.feature_num =len(self.all_features)# number of features\n",
        "\n",
        "        self.user_feature_matrix = None  # user aspect attention matrix\n",
        "        self.item_feature_matrix = None  # item aspect quality matrix\n",
        "\n",
        "        self.training_data = None\n",
        "        self.test_data = None\n",
        "        self.pre_processing()\n",
        "        self.sample_training()  # sample training data, for traning BPR loss\n",
        "        self.sample_test()  # sample test data\n",
        "        self.get_user_item_feature_matrix()\n",
        "      \n",
        "\n",
        "    def pre_processing(self,):\n",
        "        self.items_list=list(scaled_features['business_id'].values)\n",
        "        self.user_dict, self.item_dict ,self.user_item_pairs = user_dict, item_dict , user_item_pair\n",
        "        self.items_list=list(item_dict.keys())\n",
        "        print('num_items: ',len(self.items_list))\n",
        "        user_name_dict = {}\n",
        "        item_name_dict = {}\n",
        "        count = 0\n",
        "        for user in self.user_dict:\n",
        "            if user not in user_name_dict:\n",
        "                user_name_dict[user] = count\n",
        "                count += 1\n",
        "        count = 0\n",
        "        for item in self.item_dict:\n",
        "            if item not in item_name_dict:\n",
        "                item_name_dict[item] = count\n",
        "                count += 1\n",
        "        self.inv_user_name_dict = {v: k for k, v in user_name_dict.items()}\n",
        "        self.inv_item_name_dict = {v: k for k, v in item_name_dict.items()}\n",
        "        \n",
        "\n",
        "        self.user_hist_inter_dict = {}  # {\"u1\": [i1, i2, i3, ...], \"u2\": [i1, i2, i3, ...]}, sort with time\n",
        "        self.item_hist_inter_dict = {}\n",
        "        # ranked_user_item_dict = {}  # {\"u1\": [i1, i2, i3, ...], \"u2\": [i1, i2, i3, ...]}\n",
        "        for user_id, item_id in self.user_item_pairs:\n",
        "            user = user_name_dict[user_id]\n",
        "            item = item_name_dict[item_id]\n",
        "            if user not in self.user_hist_inter_dict:\n",
        "                self.user_hist_inter_dict[user] = [item]\n",
        "            else:\n",
        "                self.user_hist_inter_dict[user].append(item)\n",
        "            if item not in self.item_hist_inter_dict:\n",
        "                self.item_hist_inter_dict[item] = [user]\n",
        "            else:\n",
        "                self.item_hist_inter_dict[item].append(user)\n",
        "\n",
        "        users = list(self.user_hist_inter_dict.keys())\n",
        "        items = list(self.item_hist_inter_dict.keys())\n",
        "\n",
        "        # print( self.user_hist_inter_dict[0])\n",
        "        self.user_name_dict = user_name_dict\n",
        "        self.item_name_dict = item_name_dict\n",
        "        self.users = users\n",
        "        self.items = items\n",
        "        self.user_num = len(users)\n",
        "        self.item_num = len(items)\n",
        "        return True\n",
        "    \n",
        "    def get_user_item_feature_matrix(self,):\n",
        "        # exclude test data from the sentiment data to construct matrix\n",
        "        # train_u_i_set = set()\n",
        "        # for user in self.user_hist_inter_dict.keys():\n",
        "        #     items= self.user_hist_inter_dict[user]\n",
        "        #     items = items[:-test_length]\n",
        "        #     for item in items:\n",
        "        #         train_u_i_set.add((user, item))\n",
        "        # self.item_feature_matrix,self.tips_features= get_item_matrix(self.item_name_dict,self.items_list,scaled_features,self.training_data)\n",
        "        self.item_feature_matrix,self.tips_features=rec_dataset.item_feature_matrix,rec_dataset.tips_features\n",
        "        self.user_feature_matrix =  get_user_matrix(self.item_feature_matrix,self.inv_user_name_dict,self.item_name_dict,scaled_features,review_df)\n",
        "        \n",
        "        return True\n",
        "    \n",
        "    def sample_training(self):\n",
        "        print('======================= sample training data =======================')\n",
        "        # print(self.user_feature_matrix.shape, self.item_feature_matrix.shape)\n",
        "        training_data = []\n",
        "        training_pairs = np.loadtxt(save_path2+'training_data_2.txt',dtype=str)\n",
        "        for pair in training_pairs:\n",
        "          if pair[0] in self.user_name_dict.keys() and pair[1] in self.item_name_dict.keys():\n",
        "            training_data.append([self.user_name_dict[pair[0]],self.item_name_dict[pair[1]],int(pair[2])])\n",
        "\n",
        "        # item_set = set(self.items)\n",
        "        # for user, items in self.user_hist_inter_dict.items():\n",
        "        #     items = items[:-(test_length+val_length)]\n",
        "        #     training_pairs = sample_training_pairs(\n",
        "        #         user, \n",
        "        #         items, \n",
        "        #         item_set, \n",
        "        #         sample_ratio)\n",
        "        #     for pair in training_pairs:\n",
        "        #         training_data.append(pair)\n",
        "        print('# training samples :', len(training_data))\n",
        "        self.training_data = np.array(training_data)\n",
        "        return True\n",
        "    \n",
        "    def sample_test(self):\n",
        "        print('======================= sample test data =======================')\n",
        "        user_item_label_list = []  # [[u, [item1, item2, ...], [l1, l2, ...]], ...]\n",
        "        with open(save_path2+'test_data_2.pickle', 'rb') as f:\n",
        "            test_pairs= pickle.load(f)\n",
        "        for user_id in test_pairs.keys():\n",
        "          if user_id in self.user_name_dict.keys():\n",
        "            user=self.user_name_dict[user_id]\n",
        "            items_ids=test_pairs[user_id][0]\n",
        "            labels=test_pairs[user_id][1]\n",
        "            items=np.array([self.item_name_dict[item] for item in items_ids if item in self.item_name_dict.keys()])\n",
        "            labels=np.array([float(label) for label in labels])\n",
        "            user_item_label_list.append([user,items,labels])\n",
        "        \n",
        "        # for user, items in self.user_hist_inter_dict.items():\n",
        "            # items = items[-(test_length+val_length):]\n",
        "            # user_item_label_list.append([user, items, np.ones(len(items))])  # add the test items\n",
        "            # negative_items = [item for item in self.items if \n",
        "            #     item not in self.user_hist_inter_dict[user]]  # the not interacted items\n",
        "            # negative_items = np.random.choice(np.array(negative_items), neg_length, replace=False)\n",
        "            # user_item_label_list[-1][1] = np.concatenate((user_item_label_list[-1][1], negative_items), axis=0)\n",
        "            # user_item_label_list[-1][2] = np.concatenate((user_item_label_list[-1][2], np.zeros(neg_length)), axis=0)\n",
        "        print('# test samples :', len(user_item_label_list))\n",
        "        self.test_data = np.array(user_item_label_list)\n",
        "        user_item_label_list2 = []  # [[u, [item1, item2, ...], [l1, l2, ...]], ...]\n",
        "        with open(save_path2+'validation_data_2.pickle', 'rb') as f:\n",
        "            validation_pairs= pickle.load(f)\n",
        "        for user_id in validation_pairs.keys():\n",
        "          if user_id in self.user_name_dict.keys():\n",
        "            user=self.user_name_dict[user_id]\n",
        "            items_ids=validation_pairs[user_id][0]\n",
        "            labels=validation_pairs[user_id][1]\n",
        "            items=np.array([self.item_name_dict[item] for item in items_ids if item in self.item_name_dict.keys()])\n",
        "            labels=np.array([float(label) for label in labels])\n",
        "            user_item_label_list2.append([user,items,labels])\n",
        "        \n",
        "        # for user, items in self.user_hist_inter_dict.items():\n",
        "            # items = items[-(test_length+val_length):]\n",
        "            # user_item_label_list.append([user, items, np.ones(len(items))])  # add the test items\n",
        "            # negative_items = [item for item in self.items if \n",
        "            #     item not in self.user_hist_inter_dict[user]]  # the not interacted items\n",
        "            # negative_items = np.random.choice(np.array(negative_items), neg_length, replace=False)\n",
        "            # user_item_label_list[-1][1] = np.concatenate((user_item_label_list[-1][1], negative_items), axis=0)\n",
        "            # user_item_label_list[-1][2] = np.concatenate((user_item_label_list[-1][2], np.zeros(neg_length)), axis=0)\n",
        "        print('# validation samples :', len(user_item_label_list2))\n",
        "        self.validation_data = np.array(user_item_label_list2)\n",
        "        return True\n",
        "\n",
        "    def save(self, save_path):\n",
        "        return True\n",
        "    \n",
        "    def load(self):\n",
        "        return False"
      ]
    },
    {
      "cell_type": "code",
      "execution_count": null,
      "metadata": {
        "id": "mJU1IgY8LF07"
      },
      "outputs": [],
      "source": [
        "def yelp_preprocessing():\n",
        "    rec_dataset = YelpDataset()\n",
        "    return rec_dataset"
      ]
    },
    {
      "cell_type": "code",
      "execution_count": null,
      "metadata": {
        "id": "zAb2lKMWb1Zo"
      },
      "outputs": [],
      "source": [
        "dataset=\"yelp\"\n",
        "gpu=True\n",
        "cuda='0'\n",
        "weight_decay=0.00001\n",
        "lr=0.1\n",
        "epochs=200\n",
        "batch_size=128\n",
        "rec_k=5"
      ]
    },
    {
      "cell_type": "code",
      "execution_count": null,
      "metadata": {
        "id": "6ECM0Lw3NFbC"
      },
      "outputs": [],
      "source": [
        "def dataset_init():\n",
        "\tif dataset == \"yelp\":\n",
        "\t\trec_dataset = yelp_preprocessing()\n",
        "\telif dataset == \"cell_phones\" or \"kindle_store\" or \"electronic\" or \"cds_and_vinyl\":\n",
        "\t\trec_dataset = amazon_preprocessing()\n",
        "\treturn rec_dataset"
      ]
    },
    {
      "cell_type": "code",
      "execution_count": null,
      "metadata": {
        "id": "x4Zo-5mANolR"
      },
      "outputs": [],
      "source": [
        "import numpy as np\n",
        "from torch.utils.data import Dataset\n",
        "class UserItemInterDataset(Dataset):\n",
        "    def __init__(self, data, user_feature_matrix, item_feature_matrix):\n",
        "        self.data = data\n",
        "        self.user_feature_matrix = user_feature_matrix\n",
        "        self.item_feature_matrix = item_feature_matrix\n",
        "\n",
        "    def __getitem__(self, index):\n",
        "        user = self.data[index][0]\n",
        "        item = self.data[index][1]\n",
        "        label = self.data[index][2]\n",
        "        user_feature = self.user_feature_matrix[user]\n",
        "        item_feature = self.item_feature_matrix[item]\n",
        "        return user_feature, item_feature, label\n",
        "    def __len__(self):\n",
        "        return len(self.data)"
      ]
    },
    {
      "cell_type": "markdown",
      "source": [
        "# Train Black-box model ..."
      ],
      "metadata": {
        "id": "2EZBMXucEvHj"
      }
    },
    {
      "cell_type": "code",
      "execution_count": null,
      "metadata": {
        "id": "Lma7BKCoNySG"
      },
      "outputs": [],
      "source": [
        "import numpy as np\n",
        "import torch\n",
        "from sklearn.metrics import ndcg_score"
      ]
    },
    {
      "cell_type": "code",
      "execution_count": null,
      "metadata": {
        "id": "Ep5Pi9VbNtvi"
      },
      "outputs": [],
      "source": [
        "def compute_ndcg(test_data, user_feature_matrix, item_feature_matrix, k, model, device):\n",
        "    model.eval()\n",
        "    ndcgs = []\n",
        "    with torch.no_grad():\n",
        "        for row in test_data:\n",
        "            user = row[0]\n",
        "            items = row[1]\n",
        "            gt_labels = row[2]\n",
        "            # print(user)\n",
        "            # print(i)\n",
        "            user_features = np.array([user_feature_matrix[user] for i in range(len(items))])\n",
        "            item_features = np.array([item_feature_matrix[item] for item in items])\n",
        "            scores = model(torch.from_numpy(user_features).to(device),\n",
        "                                    torch.from_numpy(item_features).to(device)).squeeze()\n",
        "            scores = np.array(scores.to('cpu'))\n",
        "            ndcg = ndcg_score([gt_labels], [scores], k=k)\n",
        "            ndcgs.append(ndcg)\n",
        "    ave_ndcg = np.mean(ndcgs)\n",
        "    return ave_ndcg\n"
      ]
    },
    {
      "cell_type": "code",
      "execution_count": null,
      "metadata": {
        "id": "rnvfmuGXM-7F"
      },
      "outputs": [],
      "source": [
        "import torch\n",
        "import numpy as np\n",
        "import os\n",
        "import tqdm\n",
        "import pickle\n",
        "from pathlib import Path\n",
        "from torch.utils.data import DataLoader"
      ]
    },
    {
      "cell_type": "code",
      "execution_count": null,
      "metadata": {
        "id": "T-szQN49N-l0"
      },
      "outputs": [],
      "source": [
        "from numpy import core\n",
        "\n",
        "class BaseRecModel(torch.nn.Module):\n",
        "    def __init__(self, feature_length):\n",
        "        super(BaseRecModel, self).__init__()\n",
        "        self.fc = torch.nn.Sequential(\n",
        "            torch.nn.Linear(feature_length * 2, 512),\n",
        "            torch.nn.ReLU(),\n",
        "            torch.nn.Linear(512, 256),\n",
        "            torch.nn.ReLU(),\n",
        "            torch.nn.Linear(256, 1),\n",
        "            torch.nn.Sigmoid()\n",
        "        )\n",
        "\n",
        "    def forward(self, user_feature, item_feature):\n",
        "        fusion = torch.cat((user_feature, item_feature), 1)\n",
        "        out = self.fc(fusion)\n",
        "        return out\n"
      ]
    },
    {
      "cell_type": "code",
      "execution_count": null,
      "metadata": {
        "colab": {
          "base_uri": "https://localhost:8080/"
        },
        "id": "05LMQ0K63i30",
        "outputId": "e67102cc-a737-4d3f-eb74-6a20b4728d01"
      },
      "outputs": [
        {
          "output_type": "stream",
          "name": "stdout",
          "text": [
            "cuda:0\n"
          ]
        }
      ],
      "source": [
        "if gpu:\n",
        "  device = torch.device('cuda:%s' % cuda)\n",
        "else:\n",
        "  device = 'cpu'\n",
        "print(device)"
      ]
    },
    {
      "cell_type": "code",
      "execution_count": null,
      "metadata": {
        "colab": {
          "base_uri": "https://localhost:8080/"
        },
        "id": "9VSW0s52y3vR",
        "outputId": "23658145-5d3a-4bd6-ecfa-cdddf966be82"
      },
      "outputs": [
        {
          "output_type": "stream",
          "name": "stdout",
          "text": [
            "num_items:  48089\n",
            "======================= sample training data =======================\n",
            "# training samples : 501606\n",
            "======================= sample test data =======================\n",
            "# test samples : 3529\n",
            "# validation samples : 3529\n"
          ]
        },
        {
          "output_type": "stream",
          "name": "stderr",
          "text": [
            "<ipython-input-92-62fac04904e0>:147: VisibleDeprecationWarning: Creating an ndarray from ragged nested sequences (which is a list-or-tuple of lists-or-tuples-or ndarrays with different lengths or shapes) is deprecated. If you meant to do this, you must specify 'dtype=object' when creating the ndarray.\n",
            "  self.test_data = np.array(user_item_label_list)\n",
            "<ipython-input-92-62fac04904e0>:169: VisibleDeprecationWarning: Creating an ndarray from ragged nested sequences (which is a list-or-tuple of lists-or-tuples-or ndarrays with different lengths or shapes) is deprecated. If you meant to do this, you must specify 'dtype=object' when creating the ndarray.\n",
            "  self.validation_data = np.array(user_item_label_list2)\n"
          ]
        },
        {
          "output_type": "stream",
          "name": "stdout",
          "text": [
            "----- get users matrix -------\n",
            "243531\n",
            "0\n",
            "10000\n",
            "20000\n",
            "30000\n",
            "40000\n",
            "50000\n",
            "60000\n",
            "70000\n",
            "80000\n",
            "90000\n",
            "100000\n",
            "110000\n",
            "120000\n",
            "130000\n",
            "140000\n",
            "150000\n",
            "160000\n",
            "170000\n",
            "180000\n",
            "190000\n",
            "200000\n",
            "210000\n",
            "220000\n",
            "230000\n",
            "240000\n"
          ]
        }
      ],
      "source": [
        "rec_dataset= dataset_init()"
      ]
    },
    {
      "cell_type": "code",
      "execution_count": null,
      "metadata": {
        "id": "9idRv-gsoHRD"
      },
      "outputs": [],
      "source": [
        "rec_dataset.test_data"
      ]
    },
    {
      "cell_type": "code",
      "execution_count": null,
      "metadata": {
        "id": "taAj1CnnK50V"
      },
      "outputs": [],
      "source": [
        "with open(os.path.join(save_path2, dataset + \"_dataset_obj_onlytips.pickle\"), 'rb') as inp:\n",
        "  rec_dataset = pickle.load(inp)"
      ]
    },
    {
      "cell_type": "code",
      "execution_count": null,
      "metadata": {
        "id": "L7B-OCKL37Sx"
      },
      "outputs": [],
      "source": [
        "Path(save_path2).mkdir(parents=True, exist_ok=True)\n",
        "with open(os.path.join(save_path2,dataset + \"_dataset_obj_onlytips.pickle\"), 'wb') as outp:\n",
        "   pickle.dump(rec_dataset, outp, pickle.HIGHEST_PROTOCOL)"
      ]
    },
    {
      "cell_type": "code",
      "execution_count": null,
      "metadata": {
        "id": "stGgIm7nvgfs"
      },
      "outputs": [],
      "source": [
        "import matplotlib.pyplot as plt"
      ]
    },
    {
      "cell_type": "code",
      "execution_count": null,
      "metadata": {
        "id": "U9lrz2vR708t"
      },
      "outputs": [],
      "source": [
        "rec_dataset.user_feature_matrix"
      ]
    },
    {
      "cell_type": "code",
      "execution_count": null,
      "metadata": {
        "id": "Uf5ipZQi8Mey"
      },
      "outputs": [],
      "source": [
        "scaled_features"
      ]
    },
    {
      "cell_type": "code",
      "execution_count": null,
      "metadata": {
        "colab": {
          "base_uri": "https://localhost:8080/",
          "height": 1000
        },
        "id": "v2G66iinM9Os",
        "outputId": "d11e658c-9149-4c58-83e6-3f32d2dc0d6a"
      },
      "outputs": [
        {
          "name": "stdout",
          "output_type": "stream",
          "text": [
            "Using CUDA 0\n",
            "init ndcg: 0.07853455464548352\n"
          ]
        },
        {
          "name": "stderr",
          "output_type": "stream",
          "text": [
            "\r  0%|          | 0/200 [00:00<?, ?it/s]"
          ]
        },
        {
          "name": "stdout",
          "output_type": "stream",
          "text": [
            "epoch 0:  training loss:  0.3973871\n"
          ]
        },
        {
          "name": "stderr",
          "output_type": "stream",
          "text": [
            "\r  0%|          | 1/200 [00:24<1:22:27, 24.86s/it]"
          ]
        },
        {
          "name": "stdout",
          "output_type": "stream",
          "text": [
            "epoch 0:  training loss:  0.3973871 NDCG_validation:  0.5194107743717173\n",
            "epoch 1:  training loss:  0.3766511\n"
          ]
        },
        {
          "name": "stderr",
          "output_type": "stream",
          "text": [
            "\r  1%|          | 2/200 [00:49<1:21:54, 24.82s/it]"
          ]
        },
        {
          "name": "stdout",
          "output_type": "stream",
          "text": [
            "epoch 1:  training loss:  0.3766511 NDCG_validation:  0.508784876896337\n",
            "epoch 2:  training loss:  0.3680065\n"
          ]
        },
        {
          "name": "stderr",
          "output_type": "stream",
          "text": [
            "\r  2%|▏         | 3/200 [01:14<1:20:51, 24.63s/it]"
          ]
        },
        {
          "name": "stdout",
          "output_type": "stream",
          "text": [
            "epoch 2:  training loss:  0.3680065 NDCG_validation:  0.5259433760331886\n",
            "epoch 3:  training loss:  0.36182344\n"
          ]
        },
        {
          "name": "stderr",
          "output_type": "stream",
          "text": [
            "\r  2%|▏         | 4/200 [01:38<1:20:01, 24.50s/it]"
          ]
        },
        {
          "name": "stdout",
          "output_type": "stream",
          "text": [
            "epoch 3:  training loss:  0.36182344 NDCG_validation:  0.5446145990018787\n",
            "epoch 4:  training loss:  0.35723728\n"
          ]
        },
        {
          "name": "stderr",
          "output_type": "stream",
          "text": [
            "\r  2%|▎         | 5/200 [02:02<1:19:34, 24.49s/it]"
          ]
        },
        {
          "name": "stdout",
          "output_type": "stream",
          "text": [
            "epoch 4:  training loss:  0.35723728 NDCG_validation:  0.5514409644969158\n",
            "epoch 5:  training loss:  0.35353127\n"
          ]
        },
        {
          "name": "stderr",
          "output_type": "stream",
          "text": [
            "\r  3%|▎         | 6/200 [02:27<1:18:54, 24.40s/it]"
          ]
        },
        {
          "name": "stdout",
          "output_type": "stream",
          "text": [
            "epoch 5:  training loss:  0.35353127 NDCG_validation:  0.5661824090562787\n",
            "epoch 6:  training loss:  0.35017514\n"
          ]
        },
        {
          "name": "stderr",
          "output_type": "stream",
          "text": [
            "\r  4%|▎         | 7/200 [02:51<1:18:09, 24.30s/it]"
          ]
        },
        {
          "name": "stdout",
          "output_type": "stream",
          "text": [
            "epoch 6:  training loss:  0.35017514 NDCG_validation:  0.5594537977935171\n",
            "epoch 7:  training loss:  0.3477552\n"
          ]
        },
        {
          "name": "stderr",
          "output_type": "stream",
          "text": [
            "\r  4%|▍         | 8/200 [03:15<1:17:43, 24.29s/it]"
          ]
        },
        {
          "name": "stdout",
          "output_type": "stream",
          "text": [
            "epoch 7:  training loss:  0.3477552 NDCG_validation:  0.5632997920856773\n",
            "epoch 8:  training loss:  0.3448813\n"
          ]
        },
        {
          "name": "stderr",
          "output_type": "stream",
          "text": [
            "\r  4%|▍         | 9/200 [03:40<1:17:37, 24.39s/it]"
          ]
        },
        {
          "name": "stdout",
          "output_type": "stream",
          "text": [
            "epoch 8:  training loss:  0.3448813 NDCG_validation:  0.578770341677451\n",
            "epoch 9:  training loss:  0.34293002\n"
          ]
        },
        {
          "name": "stderr",
          "output_type": "stream",
          "text": [
            "\r  5%|▌         | 10/200 [04:04<1:17:11, 24.37s/it]"
          ]
        },
        {
          "name": "stdout",
          "output_type": "stream",
          "text": [
            "epoch 9:  training loss:  0.34293002 NDCG_validation:  0.579627209629428\n",
            "epoch 10:  training loss:  0.34054145\n"
          ]
        },
        {
          "name": "stderr",
          "output_type": "stream",
          "text": [
            "\r  6%|▌         | 11/200 [04:28<1:16:33, 24.30s/it]"
          ]
        },
        {
          "name": "stdout",
          "output_type": "stream",
          "text": [
            "epoch 10:  training loss:  0.34054145 NDCG_validation:  0.586876175189034\n",
            "epoch 11:  training loss:  0.33902925\n"
          ]
        },
        {
          "name": "stderr",
          "output_type": "stream",
          "text": [
            "\r  6%|▌         | 12/200 [04:52<1:15:48, 24.19s/it]"
          ]
        },
        {
          "name": "stdout",
          "output_type": "stream",
          "text": [
            "epoch 11:  training loss:  0.33902925 NDCG_validation:  0.5868639287689954\n",
            "epoch 12:  training loss:  0.33724087\n"
          ]
        },
        {
          "name": "stderr",
          "output_type": "stream",
          "text": [
            "\r  6%|▋         | 13/200 [05:16<1:15:21, 24.18s/it]"
          ]
        },
        {
          "name": "stdout",
          "output_type": "stream",
          "text": [
            "epoch 12:  training loss:  0.33724087 NDCG_validation:  0.5661386653987383\n",
            "epoch 13:  training loss:  0.3355619\n"
          ]
        },
        {
          "name": "stderr",
          "output_type": "stream",
          "text": [
            "\r  7%|▋         | 14/200 [05:41<1:15:22, 24.31s/it]"
          ]
        },
        {
          "name": "stdout",
          "output_type": "stream",
          "text": [
            "epoch 13:  training loss:  0.3355619 NDCG_validation:  0.5656368945517632\n",
            "epoch 14:  training loss:  0.3341863\n"
          ]
        },
        {
          "name": "stderr",
          "output_type": "stream",
          "text": [
            "\r  8%|▊         | 15/200 [06:05<1:14:47, 24.26s/it]"
          ]
        },
        {
          "name": "stdout",
          "output_type": "stream",
          "text": [
            "epoch 14:  training loss:  0.3341863 NDCG_validation:  0.5825710814792645\n",
            "epoch 15:  training loss:  0.33247948\n"
          ]
        },
        {
          "name": "stderr",
          "output_type": "stream",
          "text": [
            "\r  8%|▊         | 16/200 [06:29<1:14:10, 24.19s/it]"
          ]
        },
        {
          "name": "stdout",
          "output_type": "stream",
          "text": [
            "epoch 15:  training loss:  0.33247948 NDCG_validation:  0.5916944247329736\n",
            "epoch 16:  training loss:  0.33119312\n"
          ]
        },
        {
          "name": "stderr",
          "output_type": "stream",
          "text": [
            "\r  8%|▊         | 17/200 [06:53<1:13:31, 24.11s/it]"
          ]
        },
        {
          "name": "stdout",
          "output_type": "stream",
          "text": [
            "epoch 16:  training loss:  0.33119312 NDCG_validation:  0.5848871403270056\n",
            "epoch 17:  training loss:  0.32944563\n"
          ]
        },
        {
          "name": "stderr",
          "output_type": "stream",
          "text": [
            "\r  9%|▉         | 18/200 [07:17<1:13:10, 24.12s/it]"
          ]
        },
        {
          "name": "stdout",
          "output_type": "stream",
          "text": [
            "epoch 17:  training loss:  0.32944563 NDCG_validation:  0.5979273948140632\n",
            "epoch 18:  training loss:  0.32821366\n"
          ]
        },
        {
          "name": "stderr",
          "output_type": "stream",
          "text": [
            "\r 10%|▉         | 19/200 [07:41<1:12:55, 24.17s/it]"
          ]
        },
        {
          "name": "stdout",
          "output_type": "stream",
          "text": [
            "epoch 18:  training loss:  0.32821366 NDCG_validation:  0.5925740615169215\n",
            "epoch 19:  training loss:  0.32676923\n"
          ]
        },
        {
          "name": "stderr",
          "output_type": "stream",
          "text": [
            "\r 10%|█         | 20/200 [08:05<1:12:33, 24.19s/it]"
          ]
        },
        {
          "name": "stdout",
          "output_type": "stream",
          "text": [
            "epoch 19:  training loss:  0.32676923 NDCG_validation:  0.5877272778553139\n",
            "epoch 20:  training loss:  0.3255976\n"
          ]
        },
        {
          "name": "stderr",
          "output_type": "stream",
          "text": [
            "\r 10%|█         | 21/200 [08:29<1:11:58, 24.13s/it]"
          ]
        },
        {
          "name": "stdout",
          "output_type": "stream",
          "text": [
            "epoch 20:  training loss:  0.3255976 NDCG_validation:  0.6046124021382181\n",
            "epoch 21:  training loss:  0.32439822\n"
          ]
        },
        {
          "name": "stderr",
          "output_type": "stream",
          "text": [
            "\r 11%|█         | 22/200 [08:54<1:11:33, 24.12s/it]"
          ]
        },
        {
          "name": "stdout",
          "output_type": "stream",
          "text": [
            "epoch 21:  training loss:  0.32439822 NDCG_validation:  0.5898880083830397\n",
            "epoch 22:  training loss:  0.32313895\n"
          ]
        },
        {
          "name": "stderr",
          "output_type": "stream",
          "text": [
            "\r 12%|█▏        | 23/200 [09:18<1:11:05, 24.10s/it]"
          ]
        },
        {
          "name": "stdout",
          "output_type": "stream",
          "text": [
            "epoch 22:  training loss:  0.32313895 NDCG_validation:  0.5731612464635797\n",
            "epoch 23:  training loss:  0.32191464\n"
          ]
        },
        {
          "name": "stderr",
          "output_type": "stream",
          "text": [
            "\r 12%|█▏        | 24/200 [09:42<1:10:45, 24.12s/it]"
          ]
        },
        {
          "name": "stdout",
          "output_type": "stream",
          "text": [
            "epoch 23:  training loss:  0.32191464 NDCG_validation:  0.6081928591368653\n",
            "epoch 24:  training loss:  0.32071218\n"
          ]
        },
        {
          "name": "stderr",
          "output_type": "stream",
          "text": [
            "\r 12%|█▎        | 25/200 [10:06<1:10:09, 24.06s/it]"
          ]
        },
        {
          "name": "stdout",
          "output_type": "stream",
          "text": [
            "epoch 24:  training loss:  0.32071218 NDCG_validation:  0.6025975893553528\n",
            "epoch 25:  training loss:  0.31953627\n"
          ]
        },
        {
          "name": "stderr",
          "output_type": "stream",
          "text": [
            "\r 13%|█▎        | 26/200 [10:30<1:09:44, 24.05s/it]"
          ]
        },
        {
          "name": "stdout",
          "output_type": "stream",
          "text": [
            "epoch 25:  training loss:  0.31953627 NDCG_validation:  0.5997245237626708\n",
            "epoch 26:  training loss:  0.31838736\n"
          ]
        },
        {
          "name": "stderr",
          "output_type": "stream",
          "text": [
            "\r 14%|█▎        | 27/200 [10:53<1:09:05, 23.96s/it]"
          ]
        },
        {
          "name": "stdout",
          "output_type": "stream",
          "text": [
            "epoch 26:  training loss:  0.31838736 NDCG_validation:  0.6149439990431999\n",
            "epoch 27:  training loss:  0.31722325\n"
          ]
        },
        {
          "name": "stderr",
          "output_type": "stream",
          "text": [
            "\r 14%|█▍        | 28/200 [11:17<1:08:39, 23.95s/it]"
          ]
        },
        {
          "name": "stdout",
          "output_type": "stream",
          "text": [
            "epoch 27:  training loss:  0.31722325 NDCG_validation:  0.599622587904521\n",
            "epoch 28:  training loss:  0.31603253\n"
          ]
        },
        {
          "name": "stderr",
          "output_type": "stream",
          "text": [
            "\r 14%|█▍        | 29/200 [11:42<1:08:34, 24.06s/it]"
          ]
        },
        {
          "name": "stdout",
          "output_type": "stream",
          "text": [
            "epoch 28:  training loss:  0.31603253 NDCG_validation:  0.6043449105613766\n",
            "epoch 29:  training loss:  0.3151775\n"
          ]
        },
        {
          "name": "stderr",
          "output_type": "stream",
          "text": [
            "\r 15%|█▌        | 30/200 [12:06<1:08:25, 24.15s/it]"
          ]
        },
        {
          "name": "stdout",
          "output_type": "stream",
          "text": [
            "epoch 29:  training loss:  0.3151775 NDCG_validation:  0.6127953922921554\n",
            "epoch 30:  training loss:  0.31405556\n"
          ]
        },
        {
          "name": "stderr",
          "output_type": "stream",
          "text": [
            "\r 16%|█▌        | 31/200 [12:30<1:08:01, 24.15s/it]"
          ]
        },
        {
          "name": "stdout",
          "output_type": "stream",
          "text": [
            "epoch 30:  training loss:  0.31405556 NDCG_validation:  0.5871491818108338\n",
            "epoch 31:  training loss:  0.3128571\n"
          ]
        },
        {
          "name": "stderr",
          "output_type": "stream",
          "text": [
            "\r 16%|█▌        | 32/200 [12:54<1:07:32, 24.12s/it]"
          ]
        },
        {
          "name": "stdout",
          "output_type": "stream",
          "text": [
            "epoch 31:  training loss:  0.3128571 NDCG_validation:  0.6047854240492405\n",
            "epoch 32:  training loss:  0.31177962\n"
          ]
        },
        {
          "name": "stderr",
          "output_type": "stream",
          "text": [
            "\r 16%|█▋        | 33/200 [13:19<1:07:15, 24.16s/it]"
          ]
        },
        {
          "name": "stdout",
          "output_type": "stream",
          "text": [
            "epoch 32:  training loss:  0.31177962 NDCG_validation:  0.6136645024887695\n",
            "epoch 33:  training loss:  0.3110423\n"
          ]
        },
        {
          "name": "stderr",
          "output_type": "stream",
          "text": [
            "\r 17%|█▋        | 34/200 [13:43<1:06:49, 24.15s/it]"
          ]
        },
        {
          "name": "stdout",
          "output_type": "stream",
          "text": [
            "epoch 33:  training loss:  0.3110423 NDCG_validation:  0.6114763941130086\n",
            "epoch 34:  training loss:  0.30965647\n"
          ]
        },
        {
          "name": "stderr",
          "output_type": "stream",
          "text": [
            "\r 18%|█▊        | 35/200 [14:07<1:06:35, 24.21s/it]"
          ]
        },
        {
          "name": "stdout",
          "output_type": "stream",
          "text": [
            "epoch 34:  training loss:  0.30965647 NDCG_validation:  0.6136611051272463\n",
            "epoch 35:  training loss:  0.30872756\n"
          ]
        },
        {
          "name": "stderr",
          "output_type": "stream",
          "text": [
            "\r 18%|█▊        | 36/200 [14:31<1:06:06, 24.19s/it]"
          ]
        },
        {
          "name": "stdout",
          "output_type": "stream",
          "text": [
            "epoch 35:  training loss:  0.30872756 NDCG_validation:  0.6115339781775276\n",
            "epoch 36:  training loss:  0.30760434\n"
          ]
        },
        {
          "name": "stderr",
          "output_type": "stream",
          "text": [
            "\r 18%|█▊        | 37/200 [14:55<1:05:32, 24.13s/it]"
          ]
        },
        {
          "name": "stdout",
          "output_type": "stream",
          "text": [
            "epoch 36:  training loss:  0.30760434 NDCG_validation:  0.5944729021623018\n",
            "epoch 37:  training loss:  0.30674124\n"
          ]
        },
        {
          "name": "stderr",
          "output_type": "stream",
          "text": [
            "\r 19%|█▉        | 38/200 [15:19<1:05:11, 24.14s/it]"
          ]
        },
        {
          "name": "stdout",
          "output_type": "stream",
          "text": [
            "epoch 37:  training loss:  0.30674124 NDCG_validation:  0.6044834443580805\n",
            "epoch 38:  training loss:  0.30581525\n"
          ]
        },
        {
          "name": "stderr",
          "output_type": "stream",
          "text": [
            "\r 20%|█▉        | 39/200 [15:43<1:04:47, 24.14s/it]"
          ]
        },
        {
          "name": "stdout",
          "output_type": "stream",
          "text": [
            "epoch 38:  training loss:  0.30581525 NDCG_validation:  0.6133639617640059\n",
            "epoch 39:  training loss:  0.30479708\n"
          ]
        },
        {
          "name": "stderr",
          "output_type": "stream",
          "text": [
            "\r 20%|██        | 40/200 [16:08<1:04:26, 24.17s/it]"
          ]
        },
        {
          "name": "stdout",
          "output_type": "stream",
          "text": [
            "epoch 39:  training loss:  0.30479708 NDCG_validation:  0.6229216350016523\n",
            "epoch 40:  training loss:  0.30377603\n"
          ]
        },
        {
          "name": "stderr",
          "output_type": "stream",
          "text": [
            "\r 20%|██        | 41/200 [16:32<1:03:53, 24.11s/it]"
          ]
        },
        {
          "name": "stdout",
          "output_type": "stream",
          "text": [
            "epoch 40:  training loss:  0.30377603 NDCG_validation:  0.6192585989477076\n",
            "epoch 41:  training loss:  0.30280986\n"
          ]
        },
        {
          "name": "stderr",
          "output_type": "stream",
          "text": [
            "\r 21%|██        | 42/200 [16:56<1:03:34, 24.14s/it]"
          ]
        },
        {
          "name": "stdout",
          "output_type": "stream",
          "text": [
            "epoch 41:  training loss:  0.30280986 NDCG_validation:  0.613737855270656\n",
            "epoch 42:  training loss:  0.30192876\n"
          ]
        },
        {
          "name": "stderr",
          "output_type": "stream",
          "text": [
            "\r 22%|██▏       | 43/200 [17:20<1:03:13, 24.16s/it]"
          ]
        },
        {
          "name": "stdout",
          "output_type": "stream",
          "text": [
            "epoch 42:  training loss:  0.30192876 NDCG_validation:  0.604845832160948\n",
            "epoch 43:  training loss:  0.30093566\n"
          ]
        },
        {
          "name": "stderr",
          "output_type": "stream",
          "text": [
            "\r 22%|██▏       | 44/200 [17:44<1:02:49, 24.16s/it]"
          ]
        },
        {
          "name": "stdout",
          "output_type": "stream",
          "text": [
            "epoch 43:  training loss:  0.30093566 NDCG_validation:  0.6100151508466997\n",
            "epoch 44:  training loss:  0.29969573\n"
          ]
        },
        {
          "name": "stderr",
          "output_type": "stream",
          "text": [
            "\r 22%|██▎       | 45/200 [18:08<1:02:28, 24.18s/it]"
          ]
        },
        {
          "name": "stdout",
          "output_type": "stream",
          "text": [
            "epoch 44:  training loss:  0.29969573 NDCG_validation:  0.6152198891902767\n",
            "epoch 45:  training loss:  0.29906067\n"
          ]
        },
        {
          "name": "stderr",
          "output_type": "stream",
          "text": [
            "\r 23%|██▎       | 46/200 [18:33<1:02:00, 24.16s/it]"
          ]
        },
        {
          "name": "stdout",
          "output_type": "stream",
          "text": [
            "epoch 45:  training loss:  0.29906067 NDCG_validation:  0.6114970147122182\n",
            "epoch 46:  training loss:  0.29794714\n"
          ]
        },
        {
          "name": "stderr",
          "output_type": "stream",
          "text": [
            "\r 24%|██▎       | 47/200 [18:57<1:01:28, 24.11s/it]"
          ]
        },
        {
          "name": "stdout",
          "output_type": "stream",
          "text": [
            "epoch 46:  training loss:  0.29794714 NDCG_validation:  0.600430869574211\n",
            "epoch 47:  training loss:  0.2969937\n"
          ]
        },
        {
          "name": "stderr",
          "output_type": "stream",
          "text": [
            "\r 24%|██▍       | 48/200 [19:21<1:01:28, 24.27s/it]"
          ]
        },
        {
          "name": "stdout",
          "output_type": "stream",
          "text": [
            "epoch 47:  training loss:  0.2969937 NDCG_validation:  0.610227512392868\n",
            "epoch 48:  training loss:  0.29621774\n"
          ]
        },
        {
          "name": "stderr",
          "output_type": "stream",
          "text": [
            "\r 24%|██▍       | 49/200 [19:45<1:01:00, 24.24s/it]"
          ]
        },
        {
          "name": "stdout",
          "output_type": "stream",
          "text": [
            "epoch 48:  training loss:  0.29621774 NDCG_validation:  0.61481251740867\n",
            "epoch 49:  training loss:  0.2951871\n"
          ]
        },
        {
          "name": "stderr",
          "output_type": "stream",
          "text": [
            "\r 25%|██▌       | 50/200 [20:10<1:00:37, 24.25s/it]"
          ]
        },
        {
          "name": "stdout",
          "output_type": "stream",
          "text": [
            "epoch 49:  training loss:  0.2951871 NDCG_validation:  0.6111834357192102\n",
            "epoch 50:  training loss:  0.29444838\n"
          ]
        },
        {
          "name": "stderr",
          "output_type": "stream",
          "text": [
            "\r 26%|██▌       | 51/200 [20:34<59:59, 24.16s/it]  "
          ]
        },
        {
          "name": "stdout",
          "output_type": "stream",
          "text": [
            "epoch 50:  training loss:  0.29444838 NDCG_validation:  0.6204558477222823\n",
            "epoch 51:  training loss:  0.29342967\n"
          ]
        },
        {
          "name": "stderr",
          "output_type": "stream",
          "text": [
            "\r 26%|██▌       | 52/200 [20:58<59:36, 24.17s/it]"
          ]
        },
        {
          "name": "stdout",
          "output_type": "stream",
          "text": [
            "epoch 51:  training loss:  0.29342967 NDCG_validation:  0.6155187328619459\n",
            "epoch 52:  training loss:  0.29256237\n"
          ]
        },
        {
          "name": "stderr",
          "output_type": "stream",
          "text": [
            "\r 26%|██▋       | 53/200 [21:22<59:11, 24.16s/it]"
          ]
        },
        {
          "name": "stdout",
          "output_type": "stream",
          "text": [
            "epoch 52:  training loss:  0.29256237 NDCG_validation:  0.589719557158963\n",
            "epoch 53:  training loss:  0.2917651\n"
          ]
        },
        {
          "name": "stderr",
          "output_type": "stream",
          "text": [
            "\r 27%|██▋       | 54/200 [21:46<58:46, 24.15s/it]"
          ]
        },
        {
          "name": "stdout",
          "output_type": "stream",
          "text": [
            "epoch 53:  training loss:  0.2917651 NDCG_validation:  0.563375750416188\n",
            "epoch 54:  training loss:  0.29081178\n"
          ]
        },
        {
          "name": "stderr",
          "output_type": "stream",
          "text": [
            "\r 28%|██▊       | 55/200 [22:10<58:20, 24.14s/it]"
          ]
        },
        {
          "name": "stdout",
          "output_type": "stream",
          "text": [
            "epoch 54:  training loss:  0.29081178 NDCG_validation:  0.6166775265379708\n",
            "epoch 55:  training loss:  0.28998518\n"
          ]
        },
        {
          "name": "stderr",
          "output_type": "stream",
          "text": [
            "\r 28%|██▊       | 56/200 [22:34<57:56, 24.14s/it]"
          ]
        },
        {
          "name": "stdout",
          "output_type": "stream",
          "text": [
            "epoch 55:  training loss:  0.28998518 NDCG_validation:  0.6046629508121818\n",
            "epoch 56:  training loss:  0.28910848\n"
          ]
        },
        {
          "name": "stderr",
          "output_type": "stream",
          "text": [
            "\r 28%|██▊       | 57/200 [22:59<57:35, 24.17s/it]"
          ]
        },
        {
          "name": "stdout",
          "output_type": "stream",
          "text": [
            "epoch 56:  training loss:  0.28910848 NDCG_validation:  0.611974727015298\n",
            "epoch 57:  training loss:  0.2882241\n"
          ]
        },
        {
          "name": "stderr",
          "output_type": "stream",
          "text": [
            "\r 29%|██▉       | 58/200 [23:23<57:08, 24.14s/it]"
          ]
        },
        {
          "name": "stdout",
          "output_type": "stream",
          "text": [
            "epoch 57:  training loss:  0.2882241 NDCG_validation:  0.6192146030152388\n",
            "epoch 58:  training loss:  0.28709835\n"
          ]
        },
        {
          "name": "stderr",
          "output_type": "stream",
          "text": [
            "\r 30%|██▉       | 59/200 [23:47<56:45, 24.15s/it]"
          ]
        },
        {
          "name": "stdout",
          "output_type": "stream",
          "text": [
            "epoch 58:  training loss:  0.28709835 NDCG_validation:  0.6230842963192897\n",
            "epoch 59:  training loss:  0.28634197\n"
          ]
        },
        {
          "name": "stderr",
          "output_type": "stream",
          "text": [
            "\r 30%|███       | 60/200 [24:11<56:25, 24.18s/it]"
          ]
        },
        {
          "name": "stdout",
          "output_type": "stream",
          "text": [
            "epoch 59:  training loss:  0.28634197 NDCG_validation:  0.6198478858069973\n",
            "epoch 60:  training loss:  0.2857921\n"
          ]
        },
        {
          "name": "stderr",
          "output_type": "stream",
          "text": [
            "\r 30%|███       | 61/200 [24:35<55:55, 24.14s/it]"
          ]
        },
        {
          "name": "stdout",
          "output_type": "stream",
          "text": [
            "epoch 60:  training loss:  0.2857921 NDCG_validation:  0.6311560331406871\n",
            "epoch 61:  training loss:  0.28484055\n"
          ]
        },
        {
          "name": "stderr",
          "output_type": "stream",
          "text": [
            "\r 31%|███       | 62/200 [24:59<55:29, 24.12s/it]"
          ]
        },
        {
          "name": "stdout",
          "output_type": "stream",
          "text": [
            "epoch 61:  training loss:  0.28484055 NDCG_validation:  0.622200922944429\n",
            "epoch 62:  training loss:  0.28359035\n"
          ]
        },
        {
          "name": "stderr",
          "output_type": "stream",
          "text": [
            "\r 32%|███▏      | 63/200 [25:23<55:01, 24.10s/it]"
          ]
        },
        {
          "name": "stdout",
          "output_type": "stream",
          "text": [
            "epoch 62:  training loss:  0.28359035 NDCG_validation:  0.5996560926151232\n",
            "epoch 63:  training loss:  0.28304788\n"
          ]
        },
        {
          "name": "stderr",
          "output_type": "stream",
          "text": [
            "\r 32%|███▏      | 64/200 [25:47<54:41, 24.13s/it]"
          ]
        },
        {
          "name": "stdout",
          "output_type": "stream",
          "text": [
            "epoch 63:  training loss:  0.28304788 NDCG_validation:  0.6239617598084936\n",
            "epoch 64:  training loss:  0.28205824\n"
          ]
        },
        {
          "name": "stderr",
          "output_type": "stream",
          "text": [
            "\r 32%|███▎      | 65/200 [26:11<54:13, 24.10s/it]"
          ]
        },
        {
          "name": "stdout",
          "output_type": "stream",
          "text": [
            "epoch 64:  training loss:  0.28205824 NDCG_validation:  0.6268765215536779\n",
            "epoch 65:  training loss:  0.28135213\n"
          ]
        },
        {
          "name": "stderr",
          "output_type": "stream",
          "text": [
            "\r 33%|███▎      | 66/200 [26:36<53:50, 24.11s/it]"
          ]
        },
        {
          "name": "stdout",
          "output_type": "stream",
          "text": [
            "epoch 65:  training loss:  0.28135213 NDCG_validation:  0.613922657423798\n",
            "epoch 66:  training loss:  0.2800065\n"
          ]
        },
        {
          "name": "stderr",
          "output_type": "stream",
          "text": [
            "\r 34%|███▎      | 67/200 [27:00<53:31, 24.15s/it]"
          ]
        },
        {
          "name": "stdout",
          "output_type": "stream",
          "text": [
            "epoch 66:  training loss:  0.2800065 NDCG_validation:  0.6267732812993857\n",
            "epoch 67:  training loss:  0.27946416\n"
          ]
        },
        {
          "name": "stderr",
          "output_type": "stream",
          "text": [
            "\r 34%|███▍      | 68/200 [27:24<53:18, 24.23s/it]"
          ]
        },
        {
          "name": "stdout",
          "output_type": "stream",
          "text": [
            "epoch 67:  training loss:  0.27946416 NDCG_validation:  0.6142432816865123\n",
            "epoch 68:  training loss:  0.27879125\n"
          ]
        },
        {
          "name": "stderr",
          "output_type": "stream",
          "text": [
            "\r 34%|███▍      | 69/200 [27:49<52:54, 24.24s/it]"
          ]
        },
        {
          "name": "stdout",
          "output_type": "stream",
          "text": [
            "epoch 68:  training loss:  0.27879125 NDCG_validation:  0.5902189559582918\n",
            "epoch 69:  training loss:  0.27788603\n"
          ]
        },
        {
          "name": "stderr",
          "output_type": "stream",
          "text": [
            "\r 35%|███▌      | 70/200 [28:13<52:25, 24.20s/it]"
          ]
        },
        {
          "name": "stdout",
          "output_type": "stream",
          "text": [
            "epoch 69:  training loss:  0.27788603 NDCG_validation:  0.6322840815488806\n",
            "epoch 70:  training loss:  0.27736083\n"
          ]
        },
        {
          "name": "stderr",
          "output_type": "stream",
          "text": [
            "\r 36%|███▌      | 71/200 [28:37<51:58, 24.17s/it]"
          ]
        },
        {
          "name": "stdout",
          "output_type": "stream",
          "text": [
            "epoch 70:  training loss:  0.27736083 NDCG_validation:  0.606987541683126\n",
            "epoch 71:  training loss:  0.27641666\n"
          ]
        },
        {
          "name": "stderr",
          "output_type": "stream",
          "text": [
            "\r 36%|███▌      | 72/200 [29:01<51:37, 24.20s/it]"
          ]
        },
        {
          "name": "stdout",
          "output_type": "stream",
          "text": [
            "epoch 71:  training loss:  0.27641666 NDCG_validation:  0.6253848753656969\n",
            "epoch 72:  training loss:  0.2756025\n"
          ]
        },
        {
          "name": "stderr",
          "output_type": "stream",
          "text": [
            "\r 36%|███▋      | 73/200 [29:25<51:13, 24.20s/it]"
          ]
        },
        {
          "name": "stdout",
          "output_type": "stream",
          "text": [
            "epoch 72:  training loss:  0.2756025 NDCG_validation:  0.6283436486382404\n",
            "epoch 73:  training loss:  0.27492788\n"
          ]
        },
        {
          "name": "stderr",
          "output_type": "stream",
          "text": [
            "\r 37%|███▋      | 74/200 [29:49<50:47, 24.19s/it]"
          ]
        },
        {
          "name": "stdout",
          "output_type": "stream",
          "text": [
            "epoch 73:  training loss:  0.27492788 NDCG_validation:  0.573864196125347\n",
            "epoch 74:  training loss:  0.27385285\n"
          ]
        },
        {
          "name": "stderr",
          "output_type": "stream",
          "text": [
            "\r 38%|███▊      | 75/200 [30:13<50:12, 24.10s/it]"
          ]
        },
        {
          "name": "stdout",
          "output_type": "stream",
          "text": [
            "epoch 74:  training loss:  0.27385285 NDCG_validation:  0.5884168753863533\n",
            "epoch 75:  training loss:  0.2732012\n"
          ]
        },
        {
          "name": "stderr",
          "output_type": "stream",
          "text": [
            "\r 38%|███▊      | 76/200 [30:37<49:50, 24.11s/it]"
          ]
        },
        {
          "name": "stdout",
          "output_type": "stream",
          "text": [
            "epoch 75:  training loss:  0.2732012 NDCG_validation:  0.6297023374767701\n",
            "epoch 76:  training loss:  0.2721243\n"
          ]
        },
        {
          "name": "stderr",
          "output_type": "stream",
          "text": [
            "\r 38%|███▊      | 77/200 [31:02<49:29, 24.14s/it]"
          ]
        },
        {
          "name": "stdout",
          "output_type": "stream",
          "text": [
            "epoch 76:  training loss:  0.2721243 NDCG_validation:  0.6246818691271707\n",
            "epoch 77:  training loss:  0.27156496\n"
          ]
        },
        {
          "name": "stderr",
          "output_type": "stream",
          "text": [
            "\r 39%|███▉      | 78/200 [31:26<49:01, 24.11s/it]"
          ]
        },
        {
          "name": "stdout",
          "output_type": "stream",
          "text": [
            "epoch 77:  training loss:  0.27156496 NDCG_validation:  0.6081926469792287\n",
            "epoch 78:  training loss:  0.27082607\n"
          ]
        },
        {
          "name": "stderr",
          "output_type": "stream",
          "text": [
            "\r 40%|███▉      | 79/200 [31:50<48:38, 24.12s/it]"
          ]
        },
        {
          "name": "stdout",
          "output_type": "stream",
          "text": [
            "epoch 78:  training loss:  0.27082607 NDCG_validation:  0.6084005107326322\n",
            "epoch 79:  training loss:  0.2700206\n"
          ]
        },
        {
          "name": "stderr",
          "output_type": "stream",
          "text": [
            "\r 40%|████      | 80/200 [32:14<48:14, 24.12s/it]"
          ]
        },
        {
          "name": "stdout",
          "output_type": "stream",
          "text": [
            "epoch 79:  training loss:  0.2700206 NDCG_validation:  0.6269527965714425\n",
            "epoch 80:  training loss:  0.26949236\n"
          ]
        },
        {
          "name": "stderr",
          "output_type": "stream",
          "text": [
            "\r 40%|████      | 81/200 [32:38<47:42, 24.05s/it]"
          ]
        },
        {
          "name": "stdout",
          "output_type": "stream",
          "text": [
            "epoch 80:  training loss:  0.26949236 NDCG_validation:  0.6122762229105327\n",
            "epoch 81:  training loss:  0.26888004\n"
          ]
        },
        {
          "name": "stderr",
          "output_type": "stream",
          "text": [
            "\r 41%|████      | 82/200 [33:02<47:21, 24.08s/it]"
          ]
        },
        {
          "name": "stdout",
          "output_type": "stream",
          "text": [
            "epoch 81:  training loss:  0.26888004 NDCG_validation:  0.6174314613354417\n",
            "epoch 82:  training loss:  0.26781306\n"
          ]
        },
        {
          "name": "stderr",
          "output_type": "stream",
          "text": [
            "\r 42%|████▏     | 83/200 [33:26<46:55, 24.07s/it]"
          ]
        },
        {
          "name": "stdout",
          "output_type": "stream",
          "text": [
            "epoch 82:  training loss:  0.26781306 NDCG_validation:  0.6271907888083732\n",
            "epoch 83:  training loss:  0.2671788\n"
          ]
        },
        {
          "name": "stderr",
          "output_type": "stream",
          "text": [
            "\r 42%|████▏     | 84/200 [33:50<46:31, 24.06s/it]"
          ]
        },
        {
          "name": "stdout",
          "output_type": "stream",
          "text": [
            "epoch 83:  training loss:  0.2671788 NDCG_validation:  0.6351844169671396\n",
            "epoch 84:  training loss:  0.2658677\n"
          ]
        },
        {
          "name": "stderr",
          "output_type": "stream",
          "text": [
            "\r 42%|████▎     | 85/200 [34:14<46:03, 24.03s/it]"
          ]
        },
        {
          "name": "stdout",
          "output_type": "stream",
          "text": [
            "epoch 84:  training loss:  0.2658677 NDCG_validation:  0.5747827634500877\n",
            "epoch 85:  training loss:  0.26515296\n"
          ]
        },
        {
          "name": "stderr",
          "output_type": "stream",
          "text": [
            "\r 43%|████▎     | 86/200 [34:38<45:46, 24.09s/it]"
          ]
        },
        {
          "name": "stdout",
          "output_type": "stream",
          "text": [
            "epoch 85:  training loss:  0.26515296 NDCG_validation:  0.6133554634065828\n",
            "epoch 86:  training loss:  0.2645954\n"
          ]
        },
        {
          "name": "stderr",
          "output_type": "stream",
          "text": [
            "\r 44%|████▎     | 87/200 [35:03<45:31, 24.18s/it]"
          ]
        },
        {
          "name": "stdout",
          "output_type": "stream",
          "text": [
            "epoch 86:  training loss:  0.2645954 NDCG_validation:  0.6130546443677845\n",
            "epoch 87:  training loss:  0.26379162\n"
          ]
        },
        {
          "name": "stderr",
          "output_type": "stream",
          "text": [
            "\r 44%|████▍     | 88/200 [35:27<45:03, 24.14s/it]"
          ]
        },
        {
          "name": "stdout",
          "output_type": "stream",
          "text": [
            "epoch 87:  training loss:  0.26379162 NDCG_validation:  0.6291636534116749\n",
            "epoch 88:  training loss:  0.2632455\n"
          ]
        },
        {
          "name": "stderr",
          "output_type": "stream",
          "text": [
            "\r 44%|████▍     | 89/200 [35:51<44:40, 24.15s/it]"
          ]
        },
        {
          "name": "stdout",
          "output_type": "stream",
          "text": [
            "epoch 88:  training loss:  0.2632455 NDCG_validation:  0.614606739196142\n",
            "epoch 89:  training loss:  0.26258966\n"
          ]
        },
        {
          "name": "stderr",
          "output_type": "stream",
          "text": [
            "\r 45%|████▌     | 90/200 [36:15<44:09, 24.09s/it]"
          ]
        },
        {
          "name": "stdout",
          "output_type": "stream",
          "text": [
            "epoch 89:  training loss:  0.26258966 NDCG_validation:  0.6217992098558155\n",
            "epoch 90:  training loss:  0.2619895\n"
          ]
        },
        {
          "name": "stderr",
          "output_type": "stream",
          "text": [
            "\r 46%|████▌     | 91/200 [36:39<43:44, 24.08s/it]"
          ]
        },
        {
          "name": "stdout",
          "output_type": "stream",
          "text": [
            "epoch 90:  training loss:  0.2619895 NDCG_validation:  0.6177440776711519\n",
            "epoch 91:  training loss:  0.26070824\n"
          ]
        },
        {
          "name": "stderr",
          "output_type": "stream",
          "text": [
            "\r 46%|████▌     | 92/200 [37:03<43:22, 24.09s/it]"
          ]
        },
        {
          "name": "stdout",
          "output_type": "stream",
          "text": [
            "epoch 91:  training loss:  0.26070824 NDCG_validation:  0.6144340950515235\n",
            "epoch 92:  training loss:  0.26027387\n"
          ]
        },
        {
          "name": "stderr",
          "output_type": "stream",
          "text": [
            "\r 46%|████▋     | 93/200 [37:27<42:58, 24.10s/it]"
          ]
        },
        {
          "name": "stdout",
          "output_type": "stream",
          "text": [
            "epoch 92:  training loss:  0.26027387 NDCG_validation:  0.6196290597491493\n",
            "epoch 93:  training loss:  0.25923333\n"
          ]
        },
        {
          "name": "stderr",
          "output_type": "stream",
          "text": [
            "\r 47%|████▋     | 94/200 [37:51<42:33, 24.09s/it]"
          ]
        },
        {
          "name": "stdout",
          "output_type": "stream",
          "text": [
            "epoch 93:  training loss:  0.25923333 NDCG_validation:  0.5948329010366024\n",
            "epoch 94:  training loss:  0.25820374\n"
          ]
        },
        {
          "name": "stderr",
          "output_type": "stream",
          "text": [
            "\r 48%|████▊     | 95/200 [38:15<42:05, 24.05s/it]"
          ]
        },
        {
          "name": "stdout",
          "output_type": "stream",
          "text": [
            "epoch 94:  training loss:  0.25820374 NDCG_validation:  0.622501585728583\n",
            "epoch 95:  training loss:  0.25795746\n"
          ]
        },
        {
          "name": "stderr",
          "output_type": "stream",
          "text": [
            "\r 48%|████▊     | 96/200 [38:39<41:43, 24.07s/it]"
          ]
        },
        {
          "name": "stdout",
          "output_type": "stream",
          "text": [
            "epoch 95:  training loss:  0.25795746 NDCG_validation:  0.6161764506092426\n",
            "epoch 96:  training loss:  0.25750786\n"
          ]
        },
        {
          "name": "stderr",
          "output_type": "stream",
          "text": [
            "\r 48%|████▊     | 97/200 [39:04<41:29, 24.17s/it]"
          ]
        },
        {
          "name": "stdout",
          "output_type": "stream",
          "text": [
            "epoch 96:  training loss:  0.25750786 NDCG_validation:  0.6212233645911697\n",
            "epoch 97:  training loss:  0.25714085\n"
          ]
        },
        {
          "name": "stderr",
          "output_type": "stream",
          "text": [
            "\r 49%|████▉     | 98/200 [39:28<41:06, 24.18s/it]"
          ]
        },
        {
          "name": "stdout",
          "output_type": "stream",
          "text": [
            "epoch 97:  training loss:  0.25714085 NDCG_validation:  0.6282810977694413\n",
            "epoch 98:  training loss:  0.25614464\n"
          ]
        },
        {
          "name": "stderr",
          "output_type": "stream",
          "text": [
            "\r 50%|████▉     | 99/200 [39:52<40:44, 24.21s/it]"
          ]
        },
        {
          "name": "stdout",
          "output_type": "stream",
          "text": [
            "epoch 98:  training loss:  0.25614464 NDCG_validation:  0.623799572482592\n",
            "epoch 99:  training loss:  0.25515676\n"
          ]
        },
        {
          "name": "stderr",
          "output_type": "stream",
          "text": [
            "\r 50%|█████     | 100/200 [40:16<40:15, 24.16s/it]"
          ]
        },
        {
          "name": "stdout",
          "output_type": "stream",
          "text": [
            "epoch 99:  training loss:  0.25515676 NDCG_validation:  0.6217293425354967\n",
            "epoch 100:  training loss:  0.25425583\n"
          ]
        },
        {
          "name": "stderr",
          "output_type": "stream",
          "text": [
            "\r 50%|█████     | 101/200 [40:40<39:46, 24.11s/it]"
          ]
        },
        {
          "name": "stdout",
          "output_type": "stream",
          "text": [
            "epoch 100:  training loss:  0.25425583 NDCG_validation:  0.6111739420768729\n",
            "epoch 101:  training loss:  0.25378188\n"
          ]
        },
        {
          "name": "stderr",
          "output_type": "stream",
          "text": [
            "\r 51%|█████     | 102/200 [41:04<39:22, 24.11s/it]"
          ]
        },
        {
          "name": "stdout",
          "output_type": "stream",
          "text": [
            "epoch 101:  training loss:  0.25378188 NDCG_validation:  0.6166052378882665\n",
            "epoch 102:  training loss:  0.2530482\n"
          ]
        },
        {
          "name": "stderr",
          "output_type": "stream",
          "text": [
            "\r 52%|█████▏    | 103/200 [41:28<38:57, 24.10s/it]"
          ]
        },
        {
          "name": "stdout",
          "output_type": "stream",
          "text": [
            "epoch 102:  training loss:  0.2530482 NDCG_validation:  0.6021402548651119\n",
            "epoch 103:  training loss:  0.25231212\n"
          ]
        },
        {
          "name": "stderr",
          "output_type": "stream",
          "text": [
            "\r 52%|█████▏    | 104/200 [41:52<38:29, 24.06s/it]"
          ]
        },
        {
          "name": "stdout",
          "output_type": "stream",
          "text": [
            "epoch 103:  training loss:  0.25231212 NDCG_validation:  0.6115470519838285\n",
            "epoch 104:  training loss:  0.2516119\n"
          ]
        },
        {
          "name": "stderr",
          "output_type": "stream",
          "text": [
            "\r 52%|█████▎    | 105/200 [42:16<38:06, 24.07s/it]"
          ]
        },
        {
          "name": "stdout",
          "output_type": "stream",
          "text": [
            "epoch 104:  training loss:  0.2516119 NDCG_validation:  0.6173744887757795\n",
            "epoch 105:  training loss:  0.25114468\n"
          ]
        },
        {
          "name": "stderr",
          "output_type": "stream",
          "text": [
            "\r 53%|█████▎    | 106/200 [42:41<37:45, 24.11s/it]"
          ]
        },
        {
          "name": "stdout",
          "output_type": "stream",
          "text": [
            "epoch 105:  training loss:  0.25114468 NDCG_validation:  0.6250236971504379\n",
            "epoch 106:  training loss:  0.25027043\n"
          ]
        },
        {
          "name": "stderr",
          "output_type": "stream",
          "text": [
            "\r 54%|█████▎    | 107/200 [43:05<37:24, 24.14s/it]"
          ]
        },
        {
          "name": "stdout",
          "output_type": "stream",
          "text": [
            "epoch 106:  training loss:  0.25027043 NDCG_validation:  0.6222968135148337\n",
            "epoch 107:  training loss:  0.24970725\n"
          ]
        },
        {
          "name": "stderr",
          "output_type": "stream",
          "text": [
            "\r 54%|█████▍    | 108/200 [43:29<36:57, 24.10s/it]"
          ]
        },
        {
          "name": "stdout",
          "output_type": "stream",
          "text": [
            "epoch 107:  training loss:  0.24970725 NDCG_validation:  0.5937920863446615\n",
            "epoch 108:  training loss:  0.24850437\n"
          ]
        },
        {
          "name": "stderr",
          "output_type": "stream",
          "text": [
            "\r 55%|█████▍    | 109/200 [43:53<36:30, 24.07s/it]"
          ]
        },
        {
          "name": "stdout",
          "output_type": "stream",
          "text": [
            "epoch 108:  training loss:  0.24850437 NDCG_validation:  0.6192376782203025\n",
            "epoch 109:  training loss:  0.24841918\n"
          ]
        },
        {
          "name": "stderr",
          "output_type": "stream",
          "text": [
            "\r 55%|█████▌    | 110/200 [44:17<36:10, 24.12s/it]"
          ]
        },
        {
          "name": "stdout",
          "output_type": "stream",
          "text": [
            "epoch 109:  training loss:  0.24841918 NDCG_validation:  0.6033520716019233\n",
            "epoch 110:  training loss:  0.24699567\n"
          ]
        },
        {
          "name": "stderr",
          "output_type": "stream",
          "text": [
            "\r 56%|█████▌    | 111/200 [44:41<35:44, 24.10s/it]"
          ]
        },
        {
          "name": "stdout",
          "output_type": "stream",
          "text": [
            "epoch 110:  training loss:  0.24699567 NDCG_validation:  0.6031819420366972\n",
            "epoch 111:  training loss:  0.2472381\n"
          ]
        },
        {
          "name": "stderr",
          "output_type": "stream",
          "text": [
            "\r 56%|█████▌    | 112/200 [45:05<35:26, 24.17s/it]"
          ]
        },
        {
          "name": "stdout",
          "output_type": "stream",
          "text": [
            "epoch 111:  training loss:  0.2472381 NDCG_validation:  0.6272636876636634\n",
            "epoch 112:  training loss:  0.24642628\n"
          ]
        },
        {
          "name": "stderr",
          "output_type": "stream",
          "text": [
            "\r 56%|█████▋    | 113/200 [45:29<35:01, 24.15s/it]"
          ]
        },
        {
          "name": "stdout",
          "output_type": "stream",
          "text": [
            "epoch 112:  training loss:  0.24642628 NDCG_validation:  0.624621535338401\n",
            "epoch 113:  training loss:  0.24587353\n"
          ]
        },
        {
          "name": "stderr",
          "output_type": "stream",
          "text": [
            "\r 57%|█████▋    | 114/200 [45:53<34:30, 24.08s/it]"
          ]
        },
        {
          "name": "stdout",
          "output_type": "stream",
          "text": [
            "epoch 113:  training loss:  0.24587353 NDCG_validation:  0.6236583760741662\n",
            "epoch 114:  training loss:  0.2446557\n"
          ]
        },
        {
          "name": "stderr",
          "output_type": "stream",
          "text": [
            "\r 57%|█████▊    | 115/200 [46:17<34:07, 24.09s/it]"
          ]
        },
        {
          "name": "stdout",
          "output_type": "stream",
          "text": [
            "epoch 114:  training loss:  0.2446557 NDCG_validation:  0.628784092877851\n",
            "epoch 115:  training loss:  0.24480739\n"
          ]
        },
        {
          "name": "stderr",
          "output_type": "stream",
          "text": [
            "\r 58%|█████▊    | 116/200 [46:42<33:46, 24.13s/it]"
          ]
        },
        {
          "name": "stdout",
          "output_type": "stream",
          "text": [
            "epoch 115:  training loss:  0.24480739 NDCG_validation:  0.6074128027344381\n",
            "epoch 116:  training loss:  0.24351577\n"
          ]
        },
        {
          "name": "stderr",
          "output_type": "stream",
          "text": [
            "\r 58%|█████▊    | 117/200 [47:06<33:24, 24.16s/it]"
          ]
        },
        {
          "name": "stdout",
          "output_type": "stream",
          "text": [
            "epoch 116:  training loss:  0.24351577 NDCG_validation:  0.6103894762179187\n",
            "epoch 117:  training loss:  0.24239485\n"
          ]
        },
        {
          "name": "stderr",
          "output_type": "stream",
          "text": [
            "\r 59%|█████▉    | 118/200 [47:30<32:58, 24.13s/it]"
          ]
        },
        {
          "name": "stdout",
          "output_type": "stream",
          "text": [
            "epoch 117:  training loss:  0.24239485 NDCG_validation:  0.6029693993672754\n",
            "epoch 118:  training loss:  0.24235047\n"
          ]
        },
        {
          "name": "stderr",
          "output_type": "stream",
          "text": [
            "\r 60%|█████▉    | 119/200 [47:54<32:29, 24.07s/it]"
          ]
        },
        {
          "name": "stdout",
          "output_type": "stream",
          "text": [
            "epoch 118:  training loss:  0.24235047 NDCG_validation:  0.6175447650081823\n",
            "epoch 119:  training loss:  0.24205592\n"
          ]
        },
        {
          "name": "stderr",
          "output_type": "stream",
          "text": [
            "\r 60%|██████    | 120/200 [48:18<32:06, 24.08s/it]"
          ]
        },
        {
          "name": "stdout",
          "output_type": "stream",
          "text": [
            "epoch 119:  training loss:  0.24205592 NDCG_validation:  0.6235383237875739\n",
            "epoch 120:  training loss:  0.24120496\n"
          ]
        },
        {
          "name": "stderr",
          "output_type": "stream",
          "text": [
            "\r 60%|██████    | 121/200 [48:42<31:41, 24.07s/it]"
          ]
        },
        {
          "name": "stdout",
          "output_type": "stream",
          "text": [
            "epoch 120:  training loss:  0.24120496 NDCG_validation:  0.6130300013223072\n",
            "epoch 121:  training loss:  0.24059825\n"
          ]
        },
        {
          "name": "stderr",
          "output_type": "stream",
          "text": [
            "\r 61%|██████    | 122/200 [49:06<31:19, 24.10s/it]"
          ]
        },
        {
          "name": "stdout",
          "output_type": "stream",
          "text": [
            "epoch 121:  training loss:  0.24059825 NDCG_validation:  0.6037986919975146\n",
            "epoch 122:  training loss:  0.23963492\n"
          ]
        },
        {
          "name": "stderr",
          "output_type": "stream",
          "text": [
            "\r 62%|██████▏   | 123/200 [49:30<30:57, 24.12s/it]"
          ]
        },
        {
          "name": "stdout",
          "output_type": "stream",
          "text": [
            "epoch 122:  training loss:  0.23963492 NDCG_validation:  0.6124877073329367\n",
            "epoch 123:  training loss:  0.23900627\n"
          ]
        },
        {
          "name": "stderr",
          "output_type": "stream",
          "text": [
            "\r 62%|██████▏   | 124/200 [49:54<30:28, 24.05s/it]"
          ]
        },
        {
          "name": "stdout",
          "output_type": "stream",
          "text": [
            "epoch 123:  training loss:  0.23900627 NDCG_validation:  0.6084835378495453\n",
            "epoch 124:  training loss:  0.23863001\n"
          ]
        },
        {
          "name": "stderr",
          "output_type": "stream",
          "text": [
            "\r 62%|██████▎   | 125/200 [50:19<30:08, 24.12s/it]"
          ]
        },
        {
          "name": "stdout",
          "output_type": "stream",
          "text": [
            "epoch 124:  training loss:  0.23863001 NDCG_validation:  0.6270081826231634\n",
            "epoch 125:  training loss:  0.23832907\n"
          ]
        },
        {
          "name": "stderr",
          "output_type": "stream",
          "text": [
            "\r 63%|██████▎   | 126/200 [50:43<29:46, 24.15s/it]"
          ]
        },
        {
          "name": "stdout",
          "output_type": "stream",
          "text": [
            "epoch 125:  training loss:  0.23832907 NDCG_validation:  0.6347986962618215\n",
            "epoch 126:  training loss:  0.23760027\n"
          ]
        },
        {
          "name": "stderr",
          "output_type": "stream",
          "text": [
            "\r 64%|██████▎   | 127/200 [51:07<29:23, 24.16s/it]"
          ]
        },
        {
          "name": "stdout",
          "output_type": "stream",
          "text": [
            "epoch 126:  training loss:  0.23760027 NDCG_validation:  0.6183541661527127\n",
            "epoch 127:  training loss:  0.23662606\n"
          ]
        },
        {
          "name": "stderr",
          "output_type": "stream",
          "text": [
            "\r 64%|██████▍   | 128/200 [51:31<28:59, 24.16s/it]"
          ]
        },
        {
          "name": "stdout",
          "output_type": "stream",
          "text": [
            "epoch 127:  training loss:  0.23662606 NDCG_validation:  0.6137844621414646\n",
            "epoch 128:  training loss:  0.2363741\n"
          ]
        },
        {
          "name": "stderr",
          "output_type": "stream",
          "text": [
            "\r 64%|██████▍   | 129/200 [51:55<28:30, 24.09s/it]"
          ]
        },
        {
          "name": "stdout",
          "output_type": "stream",
          "text": [
            "epoch 128:  training loss:  0.2363741 NDCG_validation:  0.6260647442169603\n",
            "epoch 129:  training loss:  0.23512203\n"
          ]
        },
        {
          "name": "stderr",
          "output_type": "stream",
          "text": [
            "\r 65%|██████▌   | 130/200 [52:19<28:09, 24.14s/it]"
          ]
        },
        {
          "name": "stdout",
          "output_type": "stream",
          "text": [
            "epoch 129:  training loss:  0.23512203 NDCG_validation:  0.5907110818957335\n",
            "epoch 130:  training loss:  0.23510419\n"
          ]
        },
        {
          "name": "stderr",
          "output_type": "stream",
          "text": [
            "\r 66%|██████▌   | 131/200 [52:43<27:42, 24.10s/it]"
          ]
        },
        {
          "name": "stdout",
          "output_type": "stream",
          "text": [
            "epoch 130:  training loss:  0.23510419 NDCG_validation:  0.5984915331862489\n",
            "epoch 131:  training loss:  0.23417155\n"
          ]
        },
        {
          "name": "stderr",
          "output_type": "stream",
          "text": [
            "\r 66%|██████▌   | 132/200 [53:07<27:17, 24.08s/it]"
          ]
        },
        {
          "name": "stdout",
          "output_type": "stream",
          "text": [
            "epoch 131:  training loss:  0.23417155 NDCG_validation:  0.5820744127763359\n",
            "epoch 132:  training loss:  0.23403081\n"
          ]
        },
        {
          "name": "stderr",
          "output_type": "stream",
          "text": [
            "\r 66%|██████▋   | 133/200 [53:32<26:54, 24.10s/it]"
          ]
        },
        {
          "name": "stdout",
          "output_type": "stream",
          "text": [
            "epoch 132:  training loss:  0.23403081 NDCG_validation:  0.6288236882200107\n",
            "epoch 133:  training loss:  0.23307115\n"
          ]
        },
        {
          "name": "stderr",
          "output_type": "stream",
          "text": [
            "\r 67%|██████▋   | 134/200 [53:56<26:30, 24.10s/it]"
          ]
        },
        {
          "name": "stdout",
          "output_type": "stream",
          "text": [
            "epoch 133:  training loss:  0.23307115 NDCG_validation:  0.6169089593794107\n",
            "epoch 134:  training loss:  0.23295838\n"
          ]
        },
        {
          "name": "stderr",
          "output_type": "stream",
          "text": [
            "\r 68%|██████▊   | 135/200 [54:20<26:05, 24.09s/it]"
          ]
        },
        {
          "name": "stdout",
          "output_type": "stream",
          "text": [
            "epoch 134:  training loss:  0.23295838 NDCG_validation:  0.6044412122382575\n",
            "epoch 135:  training loss:  0.23139632\n"
          ]
        },
        {
          "name": "stderr",
          "output_type": "stream",
          "text": [
            "\r 68%|██████▊   | 136/200 [54:44<25:41, 24.08s/it]"
          ]
        },
        {
          "name": "stdout",
          "output_type": "stream",
          "text": [
            "epoch 135:  training loss:  0.23139632 NDCG_validation:  0.615510478739834\n",
            "epoch 136:  training loss:  0.23130089\n"
          ]
        },
        {
          "name": "stderr",
          "output_type": "stream",
          "text": [
            "\r 68%|██████▊   | 137/200 [55:08<25:19, 24.11s/it]"
          ]
        },
        {
          "name": "stdout",
          "output_type": "stream",
          "text": [
            "epoch 136:  training loss:  0.23130089 NDCG_validation:  0.5925466017913883\n",
            "epoch 137:  training loss:  0.231238\n"
          ]
        },
        {
          "name": "stderr",
          "output_type": "stream",
          "text": [
            "\r 69%|██████▉   | 138/200 [55:32<24:52, 24.07s/it]"
          ]
        },
        {
          "name": "stdout",
          "output_type": "stream",
          "text": [
            "epoch 137:  training loss:  0.231238 NDCG_validation:  0.6361396662410317\n",
            "epoch 138:  training loss:  0.22990604\n"
          ]
        },
        {
          "name": "stderr",
          "output_type": "stream",
          "text": [
            "\r 70%|██████▉   | 139/200 [55:56<24:27, 24.06s/it]"
          ]
        },
        {
          "name": "stdout",
          "output_type": "stream",
          "text": [
            "epoch 138:  training loss:  0.22990604 NDCG_validation:  0.601992619658405\n",
            "epoch 139:  training loss:  0.2294788\n"
          ]
        },
        {
          "name": "stderr",
          "output_type": "stream",
          "text": [
            "\r 70%|███████   | 140/200 [56:20<24:08, 24.14s/it]"
          ]
        },
        {
          "name": "stdout",
          "output_type": "stream",
          "text": [
            "epoch 139:  training loss:  0.2294788 NDCG_validation:  0.6123456815595497\n",
            "epoch 140:  training loss:  0.22915934\n"
          ]
        },
        {
          "name": "stderr",
          "output_type": "stream",
          "text": [
            "\r 70%|███████   | 141/200 [56:44<23:39, 24.06s/it]"
          ]
        },
        {
          "name": "stdout",
          "output_type": "stream",
          "text": [
            "epoch 140:  training loss:  0.22915934 NDCG_validation:  0.60653849397379\n",
            "epoch 141:  training loss:  0.2291252\n"
          ]
        },
        {
          "name": "stderr",
          "output_type": "stream",
          "text": [
            "\r 71%|███████   | 142/200 [57:08<23:16, 24.08s/it]"
          ]
        },
        {
          "name": "stdout",
          "output_type": "stream",
          "text": [
            "epoch 141:  training loss:  0.2291252 NDCG_validation:  0.6292413925123116\n",
            "epoch 142:  training loss:  0.22764677\n"
          ]
        },
        {
          "name": "stderr",
          "output_type": "stream",
          "text": [
            "\r 72%|███████▏  | 143/200 [57:32<22:48, 24.00s/it]"
          ]
        },
        {
          "name": "stdout",
          "output_type": "stream",
          "text": [
            "epoch 142:  training loss:  0.22764677 NDCG_validation:  0.6269421833021439\n",
            "epoch 143:  training loss:  0.22780731\n"
          ]
        },
        {
          "name": "stderr",
          "output_type": "stream",
          "text": [
            "\r 72%|███████▏  | 144/200 [57:56<22:20, 23.94s/it]"
          ]
        },
        {
          "name": "stdout",
          "output_type": "stream",
          "text": [
            "epoch 143:  training loss:  0.22780731 NDCG_validation:  0.6114314033066868\n",
            "epoch 144:  training loss:  0.22707503\n"
          ]
        },
        {
          "name": "stderr",
          "output_type": "stream",
          "text": [
            "\r 72%|███████▎  | 145/200 [58:20<21:59, 23.99s/it]"
          ]
        },
        {
          "name": "stdout",
          "output_type": "stream",
          "text": [
            "epoch 144:  training loss:  0.22707503 NDCG_validation:  0.6097191416437996\n",
            "epoch 145:  training loss:  0.2261742\n"
          ]
        },
        {
          "name": "stderr",
          "output_type": "stream",
          "text": [
            "\r 73%|███████▎  | 146/200 [58:44<21:36, 24.01s/it]"
          ]
        },
        {
          "name": "stdout",
          "output_type": "stream",
          "text": [
            "epoch 145:  training loss:  0.2261742 NDCG_validation:  0.6323381674992388\n",
            "epoch 146:  training loss:  0.22611512\n"
          ]
        },
        {
          "name": "stderr",
          "output_type": "stream",
          "text": [
            "\r 74%|███████▎  | 147/200 [59:08<21:15, 24.07s/it]"
          ]
        },
        {
          "name": "stdout",
          "output_type": "stream",
          "text": [
            "epoch 146:  training loss:  0.22611512 NDCG_validation:  0.5805484018632737\n",
            "epoch 147:  training loss:  0.22564559\n"
          ]
        },
        {
          "name": "stderr",
          "output_type": "stream",
          "text": [
            "\r 74%|███████▍  | 148/200 [59:32<20:50, 24.05s/it]"
          ]
        },
        {
          "name": "stdout",
          "output_type": "stream",
          "text": [
            "epoch 147:  training loss:  0.22564559 NDCG_validation:  0.5896573837085093\n",
            "epoch 148:  training loss:  0.2244388\n"
          ]
        },
        {
          "name": "stderr",
          "output_type": "stream",
          "text": [
            "\r 74%|███████▍  | 149/200 [59:56<20:27, 24.07s/it]"
          ]
        },
        {
          "name": "stdout",
          "output_type": "stream",
          "text": [
            "epoch 148:  training loss:  0.2244388 NDCG_validation:  0.6058857527729262\n",
            "epoch 149:  training loss:  0.22402926\n"
          ]
        },
        {
          "name": "stderr",
          "output_type": "stream",
          "text": [
            "\r 75%|███████▌  | 150/200 [1:00:21<20:05, 24.10s/it]"
          ]
        },
        {
          "name": "stdout",
          "output_type": "stream",
          "text": [
            "epoch 149:  training loss:  0.22402926 NDCG_validation:  0.6050048364601632\n",
            "epoch 150:  training loss:  0.22435775\n"
          ]
        },
        {
          "name": "stderr",
          "output_type": "stream",
          "text": [
            "\r 76%|███████▌  | 151/200 [1:00:45<19:41, 24.11s/it]"
          ]
        },
        {
          "name": "stdout",
          "output_type": "stream",
          "text": [
            "epoch 150:  training loss:  0.22435775 NDCG_validation:  0.623123198605087\n",
            "epoch 151:  training loss:  0.22324565\n"
          ]
        },
        {
          "name": "stderr",
          "output_type": "stream",
          "text": [
            "\r 76%|███████▌  | 152/200 [1:01:09<19:19, 24.15s/it]"
          ]
        },
        {
          "name": "stdout",
          "output_type": "stream",
          "text": [
            "epoch 151:  training loss:  0.22324565 NDCG_validation:  0.6045792253591742\n",
            "epoch 152:  training loss:  0.2227597\n"
          ]
        },
        {
          "name": "stderr",
          "output_type": "stream",
          "text": [
            "\r 76%|███████▋  | 153/200 [1:01:33<18:55, 24.16s/it]"
          ]
        },
        {
          "name": "stdout",
          "output_type": "stream",
          "text": [
            "epoch 152:  training loss:  0.2227597 NDCG_validation:  0.6174472118965347\n",
            "epoch 153:  training loss:  0.22242376\n"
          ]
        },
        {
          "name": "stderr",
          "output_type": "stream",
          "text": [
            "\r 77%|███████▋  | 154/200 [1:01:57<18:29, 24.13s/it]"
          ]
        },
        {
          "name": "stdout",
          "output_type": "stream",
          "text": [
            "epoch 153:  training loss:  0.22242376 NDCG_validation:  0.6200045142815864\n",
            "epoch 154:  training loss:  0.22131887\n"
          ]
        },
        {
          "name": "stderr",
          "output_type": "stream",
          "text": [
            "\r 78%|███████▊  | 155/200 [1:02:21<18:08, 24.19s/it]"
          ]
        },
        {
          "name": "stdout",
          "output_type": "stream",
          "text": [
            "epoch 154:  training loss:  0.22131887 NDCG_validation:  0.6221938919485607\n",
            "epoch 155:  training loss:  0.22091578\n"
          ]
        },
        {
          "name": "stderr",
          "output_type": "stream",
          "text": [
            "\r 78%|███████▊  | 156/200 [1:02:46<17:44, 24.20s/it]"
          ]
        },
        {
          "name": "stdout",
          "output_type": "stream",
          "text": [
            "epoch 155:  training loss:  0.22091578 NDCG_validation:  0.6136249705078161\n",
            "epoch 156:  training loss:  0.22004525\n"
          ]
        },
        {
          "name": "stderr",
          "output_type": "stream",
          "text": [
            "\r 78%|███████▊  | 157/200 [1:03:10<17:21, 24.22s/it]"
          ]
        },
        {
          "name": "stdout",
          "output_type": "stream",
          "text": [
            "epoch 156:  training loss:  0.22004525 NDCG_validation:  0.5919497453491872\n",
            "epoch 157:  training loss:  0.22043747\n"
          ]
        },
        {
          "name": "stderr",
          "output_type": "stream",
          "text": [
            "\r 79%|███████▉  | 158/200 [1:03:34<16:54, 24.16s/it]"
          ]
        },
        {
          "name": "stdout",
          "output_type": "stream",
          "text": [
            "epoch 157:  training loss:  0.22043747 NDCG_validation:  0.618377256000742\n",
            "epoch 158:  training loss:  0.21958749\n"
          ]
        },
        {
          "name": "stderr",
          "output_type": "stream",
          "text": [
            "\r 80%|███████▉  | 159/200 [1:03:58<16:31, 24.17s/it]"
          ]
        },
        {
          "name": "stdout",
          "output_type": "stream",
          "text": [
            "epoch 158:  training loss:  0.21958749 NDCG_validation:  0.6240685906470484\n",
            "epoch 159:  training loss:  0.21881874\n"
          ]
        },
        {
          "name": "stderr",
          "output_type": "stream",
          "text": [
            "\r 80%|████████  | 160/200 [1:04:22<16:07, 24.20s/it]"
          ]
        },
        {
          "name": "stdout",
          "output_type": "stream",
          "text": [
            "epoch 159:  training loss:  0.21881874 NDCG_validation:  0.6145099604873144\n",
            "epoch 160:  training loss:  0.21881455\n"
          ]
        },
        {
          "name": "stderr",
          "output_type": "stream",
          "text": [
            "\r 80%|████████  | 161/200 [1:04:47<15:44, 24.21s/it]"
          ]
        },
        {
          "name": "stdout",
          "output_type": "stream",
          "text": [
            "epoch 160:  training loss:  0.21881455 NDCG_validation:  0.6361862553527055\n",
            "epoch 161:  training loss:  0.21841878\n"
          ]
        },
        {
          "name": "stderr",
          "output_type": "stream",
          "text": [
            "\r 81%|████████  | 162/200 [1:05:11<15:18, 24.17s/it]"
          ]
        },
        {
          "name": "stdout",
          "output_type": "stream",
          "text": [
            "epoch 161:  training loss:  0.21841878 NDCG_validation:  0.6295009018947342\n",
            "epoch 162:  training loss:  0.21733643\n"
          ]
        },
        {
          "name": "stderr",
          "output_type": "stream",
          "text": [
            "\r 82%|████████▏ | 163/200 [1:05:35<14:53, 24.16s/it]"
          ]
        },
        {
          "name": "stdout",
          "output_type": "stream",
          "text": [
            "epoch 162:  training loss:  0.21733643 NDCG_validation:  0.6330803105935643\n",
            "epoch 163:  training loss:  0.21748172\n"
          ]
        },
        {
          "name": "stderr",
          "output_type": "stream",
          "text": [
            "\r 82%|████████▏ | 164/200 [1:05:59<14:33, 24.26s/it]"
          ]
        },
        {
          "name": "stdout",
          "output_type": "stream",
          "text": [
            "epoch 163:  training loss:  0.21748172 NDCG_validation:  0.6023253606859545\n",
            "epoch 164:  training loss:  0.21689612\n"
          ]
        },
        {
          "name": "stderr",
          "output_type": "stream",
          "text": [
            "\r 82%|████████▎ | 165/200 [1:06:24<14:08, 24.25s/it]"
          ]
        },
        {
          "name": "stdout",
          "output_type": "stream",
          "text": [
            "epoch 164:  training loss:  0.21689612 NDCG_validation:  0.6033187078881725\n",
            "epoch 165:  training loss:  0.2160588\n"
          ]
        },
        {
          "name": "stderr",
          "output_type": "stream",
          "text": [
            "\r 83%|████████▎ | 166/200 [1:06:48<13:43, 24.23s/it]"
          ]
        },
        {
          "name": "stdout",
          "output_type": "stream",
          "text": [
            "epoch 165:  training loss:  0.2160588 NDCG_validation:  0.6018081726529723\n",
            "epoch 166:  training loss:  0.21635966\n"
          ]
        },
        {
          "name": "stderr",
          "output_type": "stream",
          "text": [
            "\r 84%|████████▎ | 167/200 [1:07:12<13:19, 24.24s/it]"
          ]
        },
        {
          "name": "stdout",
          "output_type": "stream",
          "text": [
            "epoch 166:  training loss:  0.21635966 NDCG_validation:  0.5982270142858485\n",
            "epoch 167:  training loss:  0.2160103\n"
          ]
        },
        {
          "name": "stderr",
          "output_type": "stream",
          "text": [
            "\r 84%|████████▍ | 168/200 [1:07:36<12:53, 24.18s/it]"
          ]
        },
        {
          "name": "stdout",
          "output_type": "stream",
          "text": [
            "epoch 167:  training loss:  0.2160103 NDCG_validation:  0.610574051644454\n",
            "epoch 168:  training loss:  0.21518001\n"
          ]
        },
        {
          "name": "stderr",
          "output_type": "stream",
          "text": [
            "\r 84%|████████▍ | 169/200 [1:08:00<12:29, 24.17s/it]"
          ]
        },
        {
          "name": "stdout",
          "output_type": "stream",
          "text": [
            "epoch 168:  training loss:  0.21518001 NDCG_validation:  0.6201321935811485\n",
            "epoch 169:  training loss:  0.21425377\n"
          ]
        },
        {
          "name": "stderr",
          "output_type": "stream",
          "text": [
            "\r 85%|████████▌ | 170/200 [1:08:25<12:06, 24.20s/it]"
          ]
        },
        {
          "name": "stdout",
          "output_type": "stream",
          "text": [
            "epoch 169:  training loss:  0.21425377 NDCG_validation:  0.6233866443383431\n",
            "epoch 170:  training loss:  0.21468785\n"
          ]
        },
        {
          "name": "stderr",
          "output_type": "stream",
          "text": [
            "\r 86%|████████▌ | 171/200 [1:08:49<11:43, 24.24s/it]"
          ]
        },
        {
          "name": "stdout",
          "output_type": "stream",
          "text": [
            "epoch 170:  training loss:  0.21468785 NDCG_validation:  0.6034068213463455\n",
            "epoch 171:  training loss:  0.21299985\n"
          ]
        },
        {
          "name": "stderr",
          "output_type": "stream",
          "text": [
            "\r 86%|████████▌ | 172/200 [1:09:13<11:17, 24.19s/it]"
          ]
        },
        {
          "name": "stdout",
          "output_type": "stream",
          "text": [
            "epoch 171:  training loss:  0.21299985 NDCG_validation:  0.6216558038567507\n",
            "epoch 172:  training loss:  0.21316198\n"
          ]
        },
        {
          "name": "stderr",
          "output_type": "stream",
          "text": [
            "\r 86%|████████▋ | 173/200 [1:09:37<10:53, 24.22s/it]"
          ]
        },
        {
          "name": "stdout",
          "output_type": "stream",
          "text": [
            "epoch 172:  training loss:  0.21316198 NDCG_validation:  0.5928479232715741\n",
            "epoch 173:  training loss:  0.21321718\n"
          ]
        },
        {
          "name": "stderr",
          "output_type": "stream",
          "text": [
            "\r 87%|████████▋ | 174/200 [1:10:01<10:29, 24.21s/it]"
          ]
        },
        {
          "name": "stdout",
          "output_type": "stream",
          "text": [
            "epoch 173:  training loss:  0.21321718 NDCG_validation:  0.6048614138397185\n",
            "epoch 174:  training loss:  0.21164228\n"
          ]
        },
        {
          "name": "stderr",
          "output_type": "stream",
          "text": [
            "\r 88%|████████▊ | 175/200 [1:10:26<10:04, 24.19s/it]"
          ]
        },
        {
          "name": "stdout",
          "output_type": "stream",
          "text": [
            "epoch 174:  training loss:  0.21164228 NDCG_validation:  0.599339986154222\n",
            "epoch 175:  training loss:  0.21159722\n"
          ]
        },
        {
          "name": "stderr",
          "output_type": "stream",
          "text": [
            "\r 88%|████████▊ | 176/200 [1:10:50<09:42, 24.26s/it]"
          ]
        },
        {
          "name": "stdout",
          "output_type": "stream",
          "text": [
            "epoch 175:  training loss:  0.21159722 NDCG_validation:  0.608296853290161\n",
            "epoch 176:  training loss:  0.21120267\n"
          ]
        },
        {
          "name": "stderr",
          "output_type": "stream",
          "text": [
            "\r 88%|████████▊ | 177/200 [1:11:14<09:16, 24.21s/it]"
          ]
        },
        {
          "name": "stdout",
          "output_type": "stream",
          "text": [
            "epoch 176:  training loss:  0.21120267 NDCG_validation:  0.6297148431316537\n",
            "epoch 177:  training loss:  0.21063061\n"
          ]
        },
        {
          "name": "stderr",
          "output_type": "stream",
          "text": [
            "\r 89%|████████▉ | 178/200 [1:11:38<08:52, 24.21s/it]"
          ]
        },
        {
          "name": "stdout",
          "output_type": "stream",
          "text": [
            "epoch 177:  training loss:  0.21063061 NDCG_validation:  0.6117772318089426\n",
            "epoch 178:  training loss:  0.21055076\n"
          ]
        },
        {
          "name": "stderr",
          "output_type": "stream",
          "text": [
            "\r 90%|████████▉ | 179/200 [1:12:02<08:27, 24.16s/it]"
          ]
        },
        {
          "name": "stdout",
          "output_type": "stream",
          "text": [
            "epoch 178:  training loss:  0.21055076 NDCG_validation:  0.6147414061523702\n",
            "epoch 179:  training loss:  0.21009843\n"
          ]
        },
        {
          "name": "stderr",
          "output_type": "stream",
          "text": [
            "\r 90%|█████████ | 180/200 [1:12:27<08:03, 24.20s/it]"
          ]
        },
        {
          "name": "stdout",
          "output_type": "stream",
          "text": [
            "epoch 179:  training loss:  0.21009843 NDCG_validation:  0.6075494087590212\n",
            "epoch 180:  training loss:  0.20977147\n"
          ]
        },
        {
          "name": "stderr",
          "output_type": "stream",
          "text": [
            "\r 90%|█████████ | 181/200 [1:12:51<07:39, 24.19s/it]"
          ]
        },
        {
          "name": "stdout",
          "output_type": "stream",
          "text": [
            "epoch 180:  training loss:  0.20977147 NDCG_validation:  0.6161398237224237\n",
            "epoch 181:  training loss:  0.2089841\n"
          ]
        },
        {
          "name": "stderr",
          "output_type": "stream",
          "text": [
            "\r 91%|█████████ | 182/200 [1:13:15<07:14, 24.13s/it]"
          ]
        },
        {
          "name": "stdout",
          "output_type": "stream",
          "text": [
            "epoch 181:  training loss:  0.2089841 NDCG_validation:  0.6088920418102298\n",
            "epoch 182:  training loss:  0.20907898\n"
          ]
        },
        {
          "name": "stderr",
          "output_type": "stream",
          "text": [
            "\r 92%|█████████▏| 183/200 [1:13:39<06:50, 24.15s/it]"
          ]
        },
        {
          "name": "stdout",
          "output_type": "stream",
          "text": [
            "epoch 182:  training loss:  0.20907898 NDCG_validation:  0.6279162011649266\n",
            "epoch 183:  training loss:  0.20886308\n"
          ]
        },
        {
          "name": "stderr",
          "output_type": "stream",
          "text": [
            "\r 92%|█████████▏| 184/200 [1:14:03<06:26, 24.17s/it]"
          ]
        },
        {
          "name": "stdout",
          "output_type": "stream",
          "text": [
            "epoch 183:  training loss:  0.20886308 NDCG_validation:  0.6056026989011433\n",
            "epoch 184:  training loss:  0.20740706\n"
          ]
        },
        {
          "name": "stderr",
          "output_type": "stream",
          "text": [
            "\r 92%|█████████▎| 185/200 [1:14:28<06:04, 24.29s/it]"
          ]
        },
        {
          "name": "stdout",
          "output_type": "stream",
          "text": [
            "epoch 184:  training loss:  0.20740706 NDCG_validation:  0.6035322863595035\n",
            "epoch 185:  training loss:  0.207558\n"
          ]
        },
        {
          "name": "stderr",
          "output_type": "stream",
          "text": [
            "\r 93%|█████████▎| 186/200 [1:14:52<05:41, 24.37s/it]"
          ]
        },
        {
          "name": "stdout",
          "output_type": "stream",
          "text": [
            "epoch 185:  training loss:  0.207558 NDCG_validation:  0.5756366236663933\n",
            "epoch 186:  training loss:  0.206618\n"
          ]
        },
        {
          "name": "stderr",
          "output_type": "stream",
          "text": [
            "\r 94%|█████████▎| 187/200 [1:15:17<05:17, 24.42s/it]"
          ]
        },
        {
          "name": "stdout",
          "output_type": "stream",
          "text": [
            "epoch 186:  training loss:  0.206618 NDCG_validation:  0.6187918068839419\n",
            "epoch 187:  training loss:  0.20677528\n"
          ]
        },
        {
          "name": "stderr",
          "output_type": "stream",
          "text": [
            "\r 94%|█████████▍| 188/200 [1:15:41<04:52, 24.36s/it]"
          ]
        },
        {
          "name": "stdout",
          "output_type": "stream",
          "text": [
            "epoch 187:  training loss:  0.20677528 NDCG_validation:  0.6232718984321975\n",
            "epoch 188:  training loss:  0.20646976\n"
          ]
        },
        {
          "name": "stderr",
          "output_type": "stream",
          "text": [
            "\r 94%|█████████▍| 189/200 [1:16:05<04:27, 24.36s/it]"
          ]
        },
        {
          "name": "stdout",
          "output_type": "stream",
          "text": [
            "epoch 188:  training loss:  0.20646976 NDCG_validation:  0.6196573928221482\n",
            "epoch 189:  training loss:  0.2057728\n"
          ]
        },
        {
          "name": "stderr",
          "output_type": "stream",
          "text": [
            "\r 95%|█████████▌| 190/200 [1:16:30<04:03, 24.34s/it]"
          ]
        },
        {
          "name": "stdout",
          "output_type": "stream",
          "text": [
            "epoch 189:  training loss:  0.2057728 NDCG_validation:  0.5981448392174767\n",
            "epoch 190:  training loss:  0.20583326\n"
          ]
        },
        {
          "name": "stderr",
          "output_type": "stream",
          "text": [
            "\r 96%|█████████▌| 191/200 [1:16:54<03:38, 24.26s/it]"
          ]
        },
        {
          "name": "stdout",
          "output_type": "stream",
          "text": [
            "epoch 190:  training loss:  0.20583326 NDCG_validation:  0.5804153731438592\n",
            "epoch 191:  training loss:  0.20541254\n"
          ]
        },
        {
          "name": "stderr",
          "output_type": "stream",
          "text": [
            "\r 96%|█████████▌| 192/200 [1:17:18<03:14, 24.27s/it]"
          ]
        },
        {
          "name": "stdout",
          "output_type": "stream",
          "text": [
            "epoch 191:  training loss:  0.20541254 NDCG_validation:  0.6249133788126774\n",
            "epoch 192:  training loss:  0.20449471\n"
          ]
        },
        {
          "name": "stderr",
          "output_type": "stream",
          "text": [
            "\r 96%|█████████▋| 193/200 [1:17:42<02:50, 24.29s/it]"
          ]
        },
        {
          "name": "stdout",
          "output_type": "stream",
          "text": [
            "epoch 192:  training loss:  0.20449471 NDCG_validation:  0.613469805207706\n",
            "epoch 193:  training loss:  0.20451991\n"
          ]
        },
        {
          "name": "stderr",
          "output_type": "stream",
          "text": [
            "\r 97%|█████████▋| 194/200 [1:18:06<02:25, 24.22s/it]"
          ]
        },
        {
          "name": "stdout",
          "output_type": "stream",
          "text": [
            "epoch 193:  training loss:  0.20451991 NDCG_validation:  0.6212159619547011\n",
            "epoch 194:  training loss:  0.2033882\n"
          ]
        },
        {
          "name": "stderr",
          "output_type": "stream",
          "text": [
            "\r 98%|█████████▊| 195/200 [1:18:31<02:00, 24.19s/it]"
          ]
        },
        {
          "name": "stdout",
          "output_type": "stream",
          "text": [
            "epoch 194:  training loss:  0.2033882 NDCG_validation:  0.6104734424105485\n",
            "epoch 195:  training loss:  0.20310843\n"
          ]
        },
        {
          "name": "stderr",
          "output_type": "stream",
          "text": [
            "\r 98%|█████████▊| 196/200 [1:18:55<01:36, 24.16s/it]"
          ]
        },
        {
          "name": "stdout",
          "output_type": "stream",
          "text": [
            "epoch 195:  training loss:  0.20310843 NDCG_validation:  0.6136302144039886\n",
            "epoch 196:  training loss:  0.20288843\n"
          ]
        },
        {
          "name": "stderr",
          "output_type": "stream",
          "text": [
            "\r 98%|█████████▊| 197/200 [1:19:19<01:12, 24.15s/it]"
          ]
        },
        {
          "name": "stdout",
          "output_type": "stream",
          "text": [
            "epoch 196:  training loss:  0.20288843 NDCG_validation:  0.6112117713016637\n",
            "epoch 197:  training loss:  0.20206384\n"
          ]
        },
        {
          "name": "stderr",
          "output_type": "stream",
          "text": [
            "\r 99%|█████████▉| 198/200 [1:19:43<00:48, 24.18s/it]"
          ]
        },
        {
          "name": "stdout",
          "output_type": "stream",
          "text": [
            "epoch 197:  training loss:  0.20206384 NDCG_validation:  0.6141132108723691\n",
            "epoch 198:  training loss:  0.20190462\n"
          ]
        },
        {
          "name": "stderr",
          "output_type": "stream",
          "text": [
            "\r100%|█████████▉| 199/200 [1:20:07<00:24, 24.20s/it]"
          ]
        },
        {
          "name": "stdout",
          "output_type": "stream",
          "text": [
            "epoch 198:  training loss:  0.20190462 NDCG_validation:  0.6234309732669784\n",
            "epoch 199:  training loss:  0.20233727\n"
          ]
        },
        {
          "name": "stderr",
          "output_type": "stream",
          "text": [
            "100%|██████████| 200/200 [1:20:32<00:00, 24.16s/it]"
          ]
        },
        {
          "name": "stdout",
          "output_type": "stream",
          "text": [
            "epoch 199:  training loss:  0.20233727 NDCG_validation:  0.6183746964328243\n"
          ]
        },
        {
          "name": "stderr",
          "output_type": "stream",
          "text": [
            "\n"
          ]
        },
        {
          "name": "stdout",
          "output_type": "stream",
          "text": [
            "\n",
            "ndcg_test:  0.6172350656052702\n"
          ]
        },
        {
          "data": {
            "image/png": "[encoded data removed]",
            "text/plain": [
              "<Figure size 432x288 with 1 Axes>"
            ]
          },
          "metadata": {},
          "output_type": "display_data"
        }
      ],
      "source": [
        "def train_base_recommendation():\n",
        "    losses_all=[]\n",
        "    ndcgs=[]\n",
        "    if gpu:\n",
        "        device = torch.device('cuda:%s' % cuda)\n",
        "    else:\n",
        "        device = 'cpu'\n",
        "    # Path(save_path).mkdir(parents=True, exist_ok=True)\n",
        "    # with open(os.path.join(save_path,dataset + \"_dataset_obj.pickle\"), 'wb') as outp:\n",
        "    #     pickle.dump(rec_dataset, outp, pickle.HIGHEST_PROTOCOL)\n",
        "\n",
        "    train_loader = DataLoader(dataset=UserItemInterDataset(rec_dataset.training_data, \n",
        "                                rec_dataset.user_feature_matrix, \n",
        "                                rec_dataset.item_feature_matrix),\n",
        "                          batch_size=64,\n",
        "                          shuffle=True)\n",
        "    model = BaseRecModel(768).to(device)\n",
        "    loss_fn = torch.nn.BCELoss()\n",
        "    optimizer = torch.optim.SGD(model.parameters(), lr=lr, weight_decay=weight_decay)\n",
        "\n",
        "    out_path = os.path.join(\"./logs\", dataset + \"_logs\")\n",
        "    Path(out_path).mkdir(parents=True, exist_ok=True)\n",
        "    \n",
        "    ndcg = compute_ndcg(rec_dataset.validation_data, \n",
        "            rec_dataset.user_feature_matrix, \n",
        "            rec_dataset.item_feature_matrix, \n",
        "            rec_k, \n",
        "            model, \n",
        "            device)\n",
        "    print('init ndcg:', ndcg)\n",
        "    for epoch in tqdm.trange(epochs):\n",
        "        model.train()\n",
        "        optimizer.zero_grad()\n",
        "        losses = []\n",
        "        # print(len(train_loader))\n",
        "        for user_behaviour_feature, item_aspect_feature, label in train_loader:\n",
        "            user_behaviour_feature = user_behaviour_feature.to(device)\n",
        "            item_aspect_feature = item_aspect_feature.to(device)\n",
        "            label = label.float().to(device)\n",
        "            out = model(user_behaviour_feature, item_aspect_feature).squeeze()\n",
        "            # print(out)\n",
        "            if len(out.size())==0:\n",
        "              continue\n",
        "            # print(user_behaviour_feature)\n",
        "            # print( item_aspect_feature)\n",
        "            loss = loss_fn(out, label)\n",
        "            loss.backward()\n",
        "            optimizer.step()\n",
        "            optimizer.zero_grad()\n",
        "            losses.append(loss.to('cpu').detach().numpy())\n",
        "            ave_train = np.mean(np.array(losses))\n",
        "            losses_all.append(ave_train)\n",
        "        print('epoch %d: ' % epoch, 'training loss: ', ave_train)\n",
        "      \n",
        "        # compute necg\n",
        "        if epoch % 1 == 0:\n",
        "            ndcg = compute_ndcg(rec_dataset.validation_data, \n",
        "            rec_dataset.user_feature_matrix, \n",
        "            rec_dataset.item_feature_matrix, \n",
        "            rec_k, \n",
        "            model, \n",
        "            device)\n",
        "            print('epoch %d: ' % epoch, 'training loss: ', ave_train, 'NDCG_validation: ', ndcg)\n",
        "\n",
        "            ndcgs.append(ndcg)\n",
        "    torch.save(model.state_dict(), os.path.join(save_path2, \"modelOnlyTips.model\"))\n",
        "    ndcg_test = compute_ndcg(rec_dataset.test_data, \n",
        "            rec_dataset.user_feature_matrix, \n",
        "            rec_dataset.item_feature_matrix, \n",
        "            rec_k, \n",
        "            model, \n",
        "            device)\n",
        "    print('\\nndcg_test: ',ndcg_test)\n",
        "    # plt.xlabel('iterations')\n",
        "    # plt.ylabel('train_loss')\n",
        "    # plt.xticks(np.arange(0,len(losses_all),100))\n",
        "    # plt.plot(np.arange(0,len(losses_all)),losses_all)\n",
        "    # plt.show()\n",
        "\n",
        "    plt.xlabel('iterations')\n",
        "    plt.ylabel('validation_ndcg')\n",
        "    plt.xticks(np.arange(-5,len(ndcgs)+5,5))\n",
        "    plt.plot(np.arange(1,len(ndcgs)+1),ndcgs)\n",
        "    plt.show()\n",
        "    return rec_dataset\n",
        "\n",
        "\n",
        "if __name__ == \"__main__\":\n",
        "    torch.manual_seed(0)\n",
        "    np.random.seed(0)\n",
        "    if gpu:\n",
        "        os.environ[\"CUDA_VISIBLE_DEVICES\"] =cuda\n",
        "        print(\"Using CUDA\",cuda)\n",
        "    else:\n",
        "        print(\"Using CPU\")\n",
        "    rec_dataset=train_base_recommendation()"
      ]
    },
    {
      "cell_type": "markdown",
      "metadata": {
        "id": "GU5-lgWiKDV-"
      },
      "source": [
        "# Save Train and Test Data To File"
      ]
    },
    {
      "cell_type": "code",
      "execution_count": null,
      "metadata": {
        "id": "8XM1V8Hhskut"
      },
      "outputs": [],
      "source": [
        "training_data=[]\n",
        "for train_data in rec_dataset.training_data:\n",
        "  user=train_data[0]\n",
        "  item=train_data[1]\n",
        "  label=train_data[2]\n",
        "  user_id=rec_dataset.inv_user_name_dict[user]\n",
        "  item_id=rec_dataset.inv_item_name_dict[item]\n",
        "  training_data.append([user_id,item_id,label])"
      ]
    },
    {
      "cell_type": "code",
      "execution_count": null,
      "metadata": {
        "id": "htzdic-Y5qdN"
      },
      "outputs": [],
      "source": [
        "np.savetxt('training_data_2.txt', training_data, fmt='%s')\n",
        "b = np.loadtxt('training_data_2.txt',dtype=str)"
      ]
    },
    {
      "cell_type": "code",
      "execution_count": null,
      "metadata": {
        "id": "z63k8gEo-Cio"
      },
      "outputs": [],
      "source": [
        "import pickle\n",
        "pet_stats = {'name':\"\", 'int':1, 'bool':False}\n",
        "\n",
        "def pet_save(pet,name):\n",
        "    with open('{}_data_2.pickle'.format(name), 'wb') as f:\n",
        "        pickle.dump(pet, f, pickle.HIGHEST_PROTOCOL)\n",
        "\n",
        "def digimon_load():\n",
        "    with open('test_data.pickle', 'rb') as f:\n",
        "        return pickle.load(f)"
      ]
    },
    {
      "cell_type": "code",
      "execution_count": null,
      "metadata": {
        "id": "oEWe8RSEtkNV"
      },
      "outputs": [],
      "source": [
        "testing_data={}\n",
        "for ts_data in rec_dataset.test_data:\n",
        "  user=ts_data[0]\n",
        "  items=ts_data[1]\n",
        "  labels=ts_data[2]\n",
        "  # print(user , item, label)\n",
        "  user_id=rec_dataset.inv_user_name_dict[user]\n",
        "  items_id=[rec_dataset.inv_item_name_dict[item] for item in items]\n",
        "  testing_data[user_id]=[items_id,labels]"
      ]
    },
    {
      "cell_type": "code",
      "execution_count": null,
      "metadata": {
        "id": "fET26ltJwksQ"
      },
      "outputs": [],
      "source": [
        "pet_save(testing_data,'test')"
      ]
    },
    {
      "cell_type": "code",
      "execution_count": null,
      "metadata": {
        "id": "jfuHtKLav-kE"
      },
      "outputs": [],
      "source": [
        "validation_data={}\n",
        "for ts_data in rec_dataset.validation_data:\n",
        "  user=ts_data[0]\n",
        "  items=ts_data[1]\n",
        "  labels=ts_data[2]\n",
        "  # print(user , item, label)\n",
        "  user_id=rec_dataset.inv_user_name_dict[user]\n",
        "  items_id=[rec_dataset.inv_item_name_dict[item] for item in items]\n",
        "  validation_data[user_id]=[items_id,labels]"
      ]
    },
    {
      "cell_type": "code",
      "execution_count": null,
      "metadata": {
        "id": "EdpaQHRWwGVX"
      },
      "outputs": [],
      "source": [
        "pet_save(validation_data,'validation')"
      ]
    },
    {
      "cell_type": "markdown",
      "metadata": {
        "id": "u0lgiQZ-KKDy"
      },
      "source": [
        "# Generate Explanations"
      ]
    },
    {
      "cell_type": "code",
      "execution_count": null,
      "metadata": {
        "id": "4ucRyXRT4mzb"
      },
      "outputs": [],
      "source": [
        "dataset=\"yelp\"\n",
        "base_model_path=\"/content/drive/Shareddrives/Unlimited Drive | @LicenseMarket/Recommender/Yelp/\"\n",
        "gpu=True\n",
        "cuda='0'\n",
        "data_obj_path=\"/content/drive/Shareddrives/Unlimited Drive | @LicenseMarket/Recommender/Yelp/\"\n",
        "rec_k=5\n",
        "lam=100\n",
        "gam=0.5\n",
        "alp=0.2\n",
        "user_mask=False\n",
        "lr=0.4\n",
        "step=500\n",
        "mask_thresh=0.3\n",
        "test_num=-1\n",
        "# save_path=\"./explanation_objs/\""
      ]
    },
    {
      "cell_type": "code",
      "execution_count": null,
      "metadata": {
        "id": "snwXLWLePEmC"
      },
      "outputs": [],
      "source": [
        "import torch\n",
        "import pickle\n",
        "import os\n",
        "from pathlib import Path"
      ]
    },
    {
      "cell_type": "markdown",
      "metadata": {
        "id": "IC_P_74iOR-T"
      },
      "source": [
        "# User Perspective Features"
      ]
    },
    {
      "cell_type": "code",
      "execution_count": null,
      "metadata": {
        "id": "j03L6H5PA4bK"
      },
      "outputs": [],
      "source": [
        "import json\n",
        "import nltk"
      ]
    },
    {
      "cell_type": "code",
      "execution_count": null,
      "metadata": {
        "colab": {
          "base_uri": "https://localhost:8080/"
        },
        "id": "o93FnpHX60cX",
        "outputId": "254eae6e-6fe9-4779-a4ad-bdd28d2d07bc"
      },
      "outputs": [
        {
          "output_type": "stream",
          "name": "stderr",
          "text": [
            "[nltk_data] Downloading package wordnet to /root/nltk_data...\n",
            "[nltk_data] Downloading package stopwords to /root/nltk_data...\n",
            "[nltk_data]   Unzipping corpora/stopwords.zip.\n",
            "[nltk_data] Downloading package punkt to /root/nltk_data...\n",
            "[nltk_data]   Unzipping tokenizers/punkt.zip.\n",
            "[nltk_data] Downloading package averaged_perceptron_tagger to\n",
            "[nltk_data]     /root/nltk_data...\n",
            "[nltk_data]   Unzipping taggers/averaged_perceptron_tagger.zip.\n"
          ]
        }
      ],
      "source": [
        "nltk.download('wordnet')\n",
        "nltk.download('stopwords')\n",
        "nltk.download('punkt')\n",
        "nltk.download('averaged_perceptron_tagger')\n",
        "def lemmatization(text):\n",
        "    result=''\n",
        "    wordnet = WordNetLemmatizer()\n",
        "    for token,tag in pos_tag(text):\n",
        "        pos=tag[0].lower()\n",
        "        if pos not in ['a', 'r', 'n', 'v']:\n",
        "            pos='n'\n",
        "        # if pos in ['n','a']:   \n",
        "        result+=wordnet.lemmatize(token,pos)+' '\n",
        "    return result\n",
        "def remove_stopwords(text):\n",
        "    en_stopwords = stopwords.words('english')\n",
        "    en_stopwords+=['may','could','that','without','iii','with','and','This','That','Those','These','the','The','brbr','so','it','such']\n",
        "    result = []\n",
        "    for token in text:\n",
        "        if token not in en_stopwords:\n",
        "            result.append(token)\n",
        "            \n",
        "    return result\n",
        "def remove_punct(text):\n",
        "    tokenizer = RegexpTokenizer(r\"\\w+\")\n",
        "    lst=tokenizer.tokenize(' '.join(text))\n",
        "    return lst\n",
        "\n",
        "def remove_tag(text):\n",
        "    text=' '.join(text)\n",
        "    html_pattern = re.compile('<.*?>')\n",
        "    return html_pattern.sub(r'', text)\n",
        "def remove_urls(text):\n",
        "    url_pattern = re.compile(r'https?://\\S+|www\\.\\S+')\n",
        "    return url_pattern.sub(r'', text)\n",
        "\n",
        "def preprocess(text):\n",
        "  chars=['&','%','#','@','^','>','<','\\n','\\\\','\\t',';','\"','/']\n",
        "  stwords=stopwords.words('english')\n",
        "  for ch in chars:\n",
        "    text=text.replace(ch,' ')\n",
        "  text=\" \".join(text.split())\n",
        "  # text=text.lower()\n",
        "  text_tokenized=word_tokenize(text)\n",
        "  cleaned_text= remove_stopwords(text_tokenized)\n",
        "  cleaned_text= remove_punct(cleaned_text)\n",
        "  # cleaned_text=lemmatization(cleaned_text)\n",
        "  cleaned_text=remove_tag(cleaned_text)\n",
        "  cleaned_text=remove_urls(cleaned_text)\n",
        "  cleaned_text=''.join([i for i in cleaned_text ])\n",
        "  cleaned_text=[word for word in cleaned_text.split(' ') if len(word)>1]\n",
        "  # print(cleaned_text)\n",
        "  return ' '.join(cleaned_text)"
      ]
    },
    {
      "cell_type": "code",
      "execution_count": null,
      "metadata": {
        "id": "NtlEHpkN-lCe"
      },
      "outputs": [],
      "source": [
        "def preprocess_text_first(text):\n",
        "  while '<' in text and '>' in text and text.index('<')<text.index('>'):\n",
        "    toRemove=text[int(text.index('<')):int(text.index('>'))]+'>'\n",
        "    text=text.replace(toRemove,' ')\n",
        "  list_to_replace=['mso','gte','xml','false','#',',','!','-','\\'','\\\"','[',']','/','\\\\n','\\\\','span','a-size-base','a-color-secondary','input type','header name','value','=','<a href= javascript:void(0) class= ','{','}','class=','header','<a href= javascript:void(0)','<','>','href',')','(',';','quot','&',':','javascript']\n",
        "  for char in list_to_replace:\n",
        "    text=text.replace(char,' ')\n",
        "  for i in range(15):\n",
        "    text=text.replace('  ',' ')\n",
        "  new_text=''\n",
        "  for word in text.split(' '):\n",
        "    if len(word)>1 and len(word)<35:\n",
        "      new_text+=word+' '\n",
        "  # new_text=lemmatization(new_text)\n",
        "  # print(new_text)\n",
        "  return new_text"
      ]
    },
    {
      "cell_type": "code",
      "execution_count": null,
      "metadata": {
        "colab": {
          "base_uri": "https://localhost:8080/"
        },
        "id": "dQRrvFS4cifS",
        "outputId": "e26457d2-29c5-423b-b595-16dd54281908"
      },
      "outputs": [
        {
          "name": "stdout",
          "output_type": "stream",
          "text": [
            "0\n",
            "100000\n",
            "200000\n",
            "300000\n",
            "400000\n",
            "500000\n",
            "1Xw_npZXLcsWBvlLYCiW_A fKrmWy4GFsrgdOYhN9pyZA\n",
            "600000\n",
            "700000\n",
            "800000\n",
            "900000\n",
            "1000000\n",
            "1100000\n",
            "1200000\n",
            "1300000\n"
          ]
        }
      ],
      "source": [
        "items_list1=[]\n",
        "users_list=[]\n",
        "review_features={}\n",
        "f=open(save_path+'Yelp')\n",
        "lines=f.readlines()\n",
        "i=0\n",
        "for line in lines:\n",
        "  if i%100000==0:\n",
        "    print(i)\n",
        "  i+=1\n",
        "  user_id = line.split('@')[0]\n",
        "  item_id = line.split('@')[1]\n",
        "  # if item_id in items_list:\n",
        "  users_list.append(user_id)\n",
        "  items_list1.append(item_id)\n",
        "  l = len(user_id) + len(item_id)\n",
        "  fosr_data = line[l+3:]\n",
        "  for seg in fosr_data.split('||'):\n",
        "    if (user_id,item_id) not in review_features.keys():\n",
        "      review_features[(user_id,item_id)]=[]\n",
        "    fos = seg.split(':')[0].strip('|')\n",
        "    if len(fos.split('|')) > 1:\n",
        "          feature = fos.split('|')[0]\n",
        "          opinion = fos.split('|')[1]\n",
        "          sentiment = fos.split('|')[2]\n",
        "          sentence= seg.split(':')[1]\n",
        "          if sentiment=='+1':\n",
        "            senti=1\n",
        "          else:\n",
        "            senti=-1\n",
        "          review_features[(user_id,item_id)].append([feature,opinion,senti,sentence])\n",
        "    else:\n",
        "      print(user_id,item_id)"
      ]
    },
    {
      "cell_type": "code",
      "execution_count": null,
      "metadata": {
        "colab": {
          "base_uri": "https://localhost:8080/"
        },
        "id": "mKSrNLK4Qpgr",
        "outputId": "17b8166c-47b8-4bd0-cbba-4a709b673799"
      },
      "outputs": [
        {
          "name": "stdout",
          "output_type": "stream",
          "text": [
            "('mh_-eMZ6K5RLWhZyISBhwA', 'XQfwVwDr-v0ZS3_CbbE5Xw')\n"
          ]
        }
      ],
      "source": [
        "print(list(review_features.keys())[0])"
      ]
    },
    {
      "cell_type": "code",
      "execution_count": null,
      "metadata": {
        "colab": {
          "base_uri": "https://localhost:8080/"
        },
        "id": "0mMqEqC-0iaf",
        "outputId": "88ad56f8-3a8c-48ad-ad64-9b21fabc99f5"
      },
      "outputs": [
        {
          "name": "stdout",
          "output_type": "stream",
          "text": [
            "1130440\n"
          ]
        }
      ],
      "source": [
        "print(len(review_features))"
      ]
    },
    {
      "cell_type": "code",
      "execution_count": null,
      "metadata": {
        "id": "X7RcQfozbCAb"
      },
      "outputs": [],
      "source": [
        "tip_df"
      ]
    },
    {
      "cell_type": "code",
      "execution_count": null,
      "metadata": {
        "colab": {
          "base_uri": "https://localhost:8080/"
        },
        "id": "YMy1ZitRcjNj",
        "outputId": "5c181ffc-3b16-4adc-8ce7-da05a4188174"
      },
      "outputs": [
        {
          "data": {
            "text/plain": [
              "541276"
            ]
          },
          "execution_count": 71,
          "metadata": {},
          "output_type": "execute_result"
        }
      ],
      "source": [
        "len(list(set(tip_df['bus_user_id'].values)))"
      ]
    },
    {
      "cell_type": "code",
      "execution_count": null,
      "metadata": {
        "id": "dC-MEYnmip3r"
      },
      "outputs": [],
      "source": [
        "pairs_texts=tip_df[['bus_user_id','text']].apply(tuple, axis=1)"
      ]
    },
    {
      "cell_type": "code",
      "execution_count": null,
      "metadata": {
        "colab": {
          "base_uri": "https://localhost:8080/"
        },
        "id": "HqmyBZiPjDZw",
        "outputId": "a0976ba7-2d53-4f52-e333-2c6a53080643"
      },
      "outputs": [
        {
          "data": {
            "text/plain": [
              "(('QoezRbYQncpRqyrLH6Iqjg', 'NBN4MgHP9D3cw--SnauTkA'),\n",
              " 'They have lots of good deserts and tasty cuban sandwiches')"
            ]
          },
          "execution_count": 75,
          "metadata": {},
          "output_type": "execute_result"
        }
      ],
      "source": [
        "pairs_texts.values[0]"
      ]
    },
    {
      "cell_type": "code",
      "execution_count": null,
      "metadata": {
        "colab": {
          "base_uri": "https://localhost:8080/"
        },
        "id": "bBVGW8k1aL45",
        "outputId": "bcca279b-151f-4687-9720-183cde850ccd"
      },
      "outputs": [
        {
          "name": "stdout",
          "output_type": "stream",
          "text": [
            "0\n",
            "50000\n",
            "100000\n",
            "150000\n",
            "200000\n",
            "250000\n",
            "300000\n",
            "350000\n",
            "400000\n",
            "450000\n",
            "500000\n",
            "550000\n",
            "600000\n",
            "650000\n",
            "700000\n",
            "750000\n",
            "800000\n",
            "850000\n",
            "900000\n",
            "950000\n",
            "1000000\n",
            "1050000\n",
            "1100000\n"
          ]
        }
      ],
      "source": [
        "user_test_perspective={}\n",
        "i=0\n",
        "for (user_id , item_id) in review_features.keys():\n",
        "  review_feature=review_features[(user_id,item_id)]\n",
        "  if i%50000==0:\n",
        "    print(i)\n",
        "  i+=1\n",
        "  for features in review_feature:\n",
        "    sentence=features[3]\n",
        "    sentence=preprocess_text_first(sentence)\n",
        "    sentence=preprocess(sentence).lower()\n",
        "    final_vect=[]\n",
        "    if (user_id , item_id) not in user_test_perspective.keys():\n",
        "      new_final_vect=[]\n",
        "    else:\n",
        "      new_final_vect=user_test_perspective[(user_id , item_id)]\n",
        "    final_vect+=sentence.split(' ')\n",
        "    for word in sentence.split(' '):\n",
        "      # tokens=list(set(df_words[df_words['word']==word]['tokenized'].values))\n",
        "      # for token in tokens:\n",
        "        final_vect+=word.split(' ')\n",
        "    final_vect=list(set(final_vect))\n",
        "    for word in final_vect:\n",
        "      if len(word)>1:\n",
        "        new_final_vect.append(word)\n",
        "    user_test_perspective[(user_id , item_id)]=list(set(new_final_vect))"
      ]
    },
    {
      "cell_type": "code",
      "execution_count": null,
      "metadata": {
        "colab": {
          "base_uri": "https://localhost:8080/"
        },
        "id": "0rmDMnldUV1c",
        "outputId": "3bf22520-4172-466e-c6a8-49416570160c"
      },
      "outputs": [
        {
          "data": {
            "text/plain": [
              "('NBN4MgHP9D3cw--SnauTkA', 'QoezRbYQncpRqyrLH6Iqjg')"
            ]
          },
          "execution_count": 77,
          "metadata": {},
          "output_type": "execute_result"
        }
      ],
      "source": [
        "list(user_test_perspective.keys())[0]"
      ]
    },
    {
      "cell_type": "code",
      "execution_count": null,
      "metadata": {
        "id": "oTUKKMVw5xlc"
      },
      "outputs": [],
      "source": [
        "from torch.optim.lr_scheduler import StepLR"
      ]
    },
    {
      "cell_type": "code",
      "execution_count": null,
      "metadata": {
        "id": "Bp4cMNYcPIFm"
      },
      "outputs": [],
      "source": [
        "temp_min =1.0\n",
        "ANNEAL_RATE = 0.00003\n",
        "class ExpOptimizationModel(torch.nn.Module):\n",
        "    def __init__(self, base_model, rec_dataset, device):\n",
        "        super(ExpOptimizationModel, self).__init__()\n",
        "        self.base_model = base_model\n",
        "        self.rec_dataset = rec_dataset\n",
        "        self.device = device\n",
        "        self.u_i_exp_dict = {}  # {(user, item): [f1, f2, f3 ...], ...}\n",
        "        self.user_feature_matrix = torch.from_numpy(self.rec_dataset.user_feature_matrix).to(self.device)\n",
        "        self.item_feature_matrix = torch.from_numpy(self.rec_dataset.item_feature_matrix).to(self.device)\n",
        "        self.rec_dict, self.user_perspective_test_data = self.generate_rec_dict()\n",
        "        self.dict_items_cf_feature={}\n",
        "\n",
        "    def generate_rec_dict(self):\n",
        "        rec_dict = {}\n",
        "        correct_rec_dict = {}  # used for user-side evaluation\n",
        "        for row in self.rec_dataset.test_data:\n",
        "            user = row[0]\n",
        "            items = row[1]\n",
        "            labels = row[2]\n",
        "            user_id=rec_dataset.inv_user_name_dict[user]\n",
        "            for j in range(len(items)):\n",
        "                item=items[j]\n",
        "                label=labels[j]\n",
        "                item_id=rec_dataset.inv_item_name_dict[item]    \n",
        "            correct_rec_dict[user] = []\n",
        "            user_features = self.user_feature_matrix[user].repeat(len(items), 1)\n",
        "            scores = self.base_model(user_features,\n",
        "                        self.item_feature_matrix[items]).squeeze()\n",
        "            scores = np.array(scores.to('cpu'))\n",
        "            sort_index = sorted(range(len(scores)), key=lambda k: scores[k], reverse=True)\n",
        "            \n",
        "            sorted_items = [items[i] for i in sort_index]\n",
        "            rec_dict[user] = sorted_items\n",
        "            for i in range(rec_k):  # find the correct items and add to the user side test data\n",
        "                if labels[sort_index[i]] == 1:\n",
        "                    correct_rec_dict[user].append(items[sort_index[i]])\n",
        "\n",
        "        user_perspective_test_data = {}  # {(u, i):f, (u, i): f]}\n",
        "        return rec_dict, user_perspective_test_data\n",
        "    def user_side_evaluation(self):\n",
        "        ave_pre, ave_rec, ave_f1 = evaluate_user_perspective(self.user_perspective_test_data, self.u_i_exp_dict)\n",
        "        print('user\\'s perspective:')\n",
        "        print('ave pre: ', ave_pre, '  ave rec: ', ave_rec, '  ave f1: ', ave_f1)\n",
        "        return ave_pre,ave_rec,ave_f1\n",
        "    \n",
        "    def model_side_evaluation(self):\n",
        "        ave_pn, ave_ps, ave_fns = evaluate_model_perspective(\n",
        "            self.rec_dict,\n",
        "            self.u_i_exp_dict,\n",
        "            self.base_model,\n",
        "            self.rec_dataset.user_feature_matrix,\n",
        "            self.rec_dataset.item_feature_matrix,\n",
        "            rec_k,\n",
        "            self.dict_items_cf_feature,\n",
        "            self.device)\n",
        "        print('model\\'s perspective:')\n",
        "        print('ave PN: ', ave_pn, '  ave PS: ', ave_ps, '  ave F_{NS}: ', ave_fns)  \n",
        "        return ave_pn , ave_ps , ave_fns\n",
        "    def generate_explanation(self,lr,temp,a,b,c):\n",
        "        exp_nums = []\n",
        "        exp_complexities = []\n",
        "        self.no_exp_count = 0\n",
        "        self.exp_count=0\n",
        "        if test_num == -1:\n",
        "            test_num1 = len(list(self.rec_dict.items()))\n",
        "        else:\n",
        "            test_num1 = test_num\n",
        "        count=0\n",
        "        for user, items in tqdm.tqdm(list(self.rec_dict.items())[:10]):\n",
        "            count+=1\n",
        "            items = self.rec_dict[user]\n",
        "            margin_item = items[rec_k]\n",
        "            margin_score = self.base_model(self.user_feature_matrix[user].unsqueeze(0), \n",
        "                            self.item_feature_matrix[margin_item].unsqueeze(0)).squeeze()\n",
        "                \n",
        "            for item in items[: rec_k]:\n",
        "                item_id=rec_dataset.inv_item_name_dict[item]\n",
        "                # print(item_id)\n",
        "                \n",
        "                main_score = self.base_model(self.user_feature_matrix[user].unsqueeze(0), \n",
        "                            self.item_feature_matrix[item].unsqueeze(0)).squeeze()\n",
        "                explanation_features,exp_num = self.explain(user,item,\n",
        "                    self.user_feature_matrix[user], \n",
        "                    self.item_feature_matrix[item], \n",
        "                    margin_score,\n",
        "                    lr, temp,a,b,c)\n",
        "             \n",
        "                if explanation_features==None or len(explanation_features)==0 :\n",
        "                    self.no_exp_count += 1\n",
        "                else:\n",
        "                    self.exp_count+=1\n",
        "                    self.u_i_exp_dict[(user, item)] = explanation_features\n",
        "                    exp_nums.append(exp_num)\n",
        "              \n",
        "        print('ave num: ', np.mean(exp_nums),  'no_exp_count: ', self.no_exp_count, 'exp_count: ', self.exp_count)\n",
        "        return  np.mean(exp_nums), self.no_exp_count,  self.exp_count\n",
        "    \n",
        "    def explain(self,user,item, user_feature, item_feature, margin_score, lr, temp,a, b, c):\n",
        "        self.exp_generator = EXPGenerator(\n",
        "            self.rec_dataset, \n",
        "            self.base_model, \n",
        "            user_feature, \n",
        "            item_feature, \n",
        "            user,\n",
        "            item,\n",
        "            margin_score,\n",
        "            self.device).to(self.device)\n",
        "        # optimization\n",
        "        optimizer = torch.optim.SGD(self.exp_generator.parameters(), lr=lr, weight_decay=0.000001)\n",
        "        # scheduler = StepLR(optimizer, step_size=10, gamma=0.0001)\n",
        "        self.exp_generator.train()\n",
        "        lowest_loss = None\n",
        "        lowest_bpr = None\n",
        "        optimized_pi3= None\n",
        "        explanation_features_words_replaced=[]\n",
        "        explanation_features=[]\n",
        "        score = self.exp_generator(temp)\n",
        "\n",
        "        bpr,l12, l13,main_loss = self.exp_generator.loss(a,b,c,score)\n",
        "        lowest_loss = main_loss\n",
        "        lowest_bpr=bpr\n",
        "        optimize_pi3 = self.exp_generator.pi3\n",
        "\n",
        "        for epoch in range(step):\n",
        "            self.exp_generator.zero_grad()\n",
        "            score = self.exp_generator(temp)\n",
        "            bpr, l12,l13,main_loss = self.exp_generator.loss(a,b,c,score)\n",
        "            if epoch %10==0:\n",
        "               temp = np.minimum(temp * np.exp(-ANNEAL_RATE * epoch), temp)\n",
        "\n",
        "            # if epoch %100 == 0:\n",
        "            #    print(\n",
        "            #         'temp',temp,\n",
        "            #         'epoch', epoch,\n",
        "            #         'bpr: ', bpr,\n",
        "            #         'loss', main_loss,\n",
        "            #          'l12',l12,\n",
        "            #          'l13',l13\n",
        "                    \n",
        "            #          )\n",
        "               \n",
        "            main_loss.backward(retain_graph=True)\n",
        "\n",
        "            optimizer.step()\n",
        "            # scheduler.step()\n",
        "            if main_loss < lowest_loss:\n",
        "                lowest_loss = main_loss\n",
        "                lowest_bpr = bpr\n",
        "                optimize_pi3 = self.exp_generator.pi3\n",
        "        if lowest_bpr >= a * alp:\n",
        "            # explanation_features_continues = None \n",
        "            exp_num = None\n",
        "            exp_complexity = None\n",
        "            explanation_features=None\n",
        "            explanation_features_replaced=None\n",
        "        else:\n",
        "            main_features_tips=self.exp_generator.features_tips\n",
        "            new_features_inds3=torch.argmax(optimize_pi3,axis=1)\n",
        "            new_features3=[self.exp_generator.replaced_words[i] for i in new_features_inds3]\n",
        "            explanation_features_words= [main_features_tips[i] for i in range(len(main_features_tips)) if main_features_tips[i] != new_features3[i]]\n",
        "            explanation_features_words_replaced=[new_features3[i] for i in range(len(main_features_tips)) if main_features_tips[i] != new_features3[i]]\n",
        "    \n",
        "            explanation_features.append([list(set(explanation_features_words)),list(set(explanation_features_words_replaced))])\n",
        "            exp_num = len(list(set(explanation_features_words)))\n",
        "        \n",
        "        return explanation_features,exp_num"
      ]
    },
    {
      "cell_type": "code",
      "execution_count": null,
      "metadata": {
        "id": "qQENHty-VDpP"
      },
      "outputs": [],
      "source": [
        "def get_all_logits(len_features,df_desc,main_words):\n",
        "  len_words=len(main_words)\n",
        "  all_logits=np.zeros((len_words,len_features))\n",
        "  j=0\n",
        "  len_desc=0\n",
        "  for i, row in df_desc.iterrows():\n",
        "    len_desc+=1\n",
        "    if row['word'] != main_words[j]:\n",
        "      j+=1\n",
        "    all_logits[j][i]=row['logit']\n",
        "  \n",
        "  return all_logits"
      ]
    },
    {
      "cell_type": "code",
      "execution_count": null,
      "metadata": {
        "id": "F0G_l9dYUOMK"
      },
      "outputs": [],
      "source": [
        "def get_replaced_words_vects(item_id):\n",
        "    replaced_words=[]\n",
        "    replaced_logits=[]\n",
        "    replaced_vects=[]\n",
        "    words_indices=[]\n",
        "    main_words=[]\n",
        "    i=0\n",
        "\n",
        "    df_vect_desc_item= pd.read_json(save_path+'tips_bert_items_dfs/'+'{}.json'.format(item_id))\n",
        "    replaced_words_desc=df_vect_desc_item['replaced_word'].values\n",
        "    vects_desc=df_vect_desc_item['vect'].values\n",
        "    replaced_words=list(replaced_words_desc)\n",
        "\n",
        "    vects1=[sub_list for sub_list in  vects_desc]\n",
        "    replaced_vects=vects1\n",
        "    replaced_vects=torch.FloatTensor(replaced_vects).to(device)\n",
        "\n",
        "    df_vect_desc_item1=df_vect_desc_item.copy()\n",
        "    df_vect_desc_item1['main_word']=np.where(df_vect_desc_item1['replaced_word'] == df_vect_desc_item1['word'],1,0)\n",
        "    df_vect_desc_item1=df_vect_desc_item1[df_vect_desc_item1['main_word']==1]\n",
        "    if df_vect_desc_item1.empty:\n",
        "      df_vect_desc_item1=df_vect_desc_item.copy()\n",
        "      df_vect_desc_item1['main_word']=np.where(df_vect_desc_item1['logit']==5.0,1,0)\n",
        "      df_vect_desc_item1=df_vect_desc_item1[df_vect_desc_item1['main_word']==1]\n",
        "    if df_vect_desc_item1.empty:\n",
        "      df_vect_desc_item1=df_vect_desc_item.copy()\n",
        "      df_vect_desc_item1['main_word']=np.where(df_vect_desc_item1['logit']==12.0,1,0)\n",
        "      df_vect_desc_item1=df_vect_desc_item1[df_vect_desc_item1['main_word']==1]\n",
        "    indexes=df_vect_desc_item1.index\n",
        "    main_words=list(df_vect_desc_item1['word'].values)\n",
        "    for ind in indexes:\n",
        "      words_indices.append(i+ind)\n",
        "    i=df_vect_desc_item.shape[0]\n",
        "    \n",
        "    replaced_logits= get_all_logits(len(replaced_words),df_vect_desc_item,main_words)\n",
        "    final_logits_tensor=torch.FloatTensor(replaced_logits).to(device)\n",
        "    return replaced_words,replaced_vects,final_logits_tensor,words_indices"
      ]
    },
    {
      "cell_type": "code",
      "execution_count": null,
      "metadata": {
        "id": "rDmnr96MWlXn"
      },
      "outputs": [],
      "source": [
        "def get_new_item_vector(replaced_vects,item,item_feature_name,pi):\n",
        "    # print(pi.shape)\n",
        "    # print(replaced_vects)\n",
        "    # print(pi)\n",
        "    final_vector=torch.mm(pi,replaced_vects)\n",
        "    desc_vect=final_vector\n",
        "\n",
        "    if len(desc_vect)>0:\n",
        "      average_descriptions=torch.mean(desc_vect,axis=0).to(device)\n",
        "    else:\n",
        "      average_descriptions=torch.zeros(768).to(device)\n",
        "    # print(final_vector)\n",
        "    # final_vect=np.array(final_vector, dtype='float32')\n",
        "    return average_descriptions"
      ]
    },
    {
      "cell_type": "code",
      "execution_count": null,
      "metadata": {
        "colab": {
          "base_uri": "https://localhost:8080/"
        },
        "id": "IOqQndrZihzY",
        "outputId": "684edddb-38f0-48dc-c51d-fd311ad21036"
      },
      "outputs": [
        {
          "data": {
            "text/plain": [
              "3.015325457098988"
            ]
          },
          "execution_count": 86,
          "metadata": {},
          "output_type": "execute_result"
        }
      ],
      "source": [
        "scaled_features['latitude'].max()"
      ]
    },
    {
      "cell_type": "code",
      "execution_count": null,
      "metadata": {
        "id": "oQ-IFon4P5O4"
      },
      "outputs": [],
      "source": [
        "class EXPGenerator(torch.nn.Module):\n",
        "    def __init__(self, rec_dataset, base_model, user_vect, item_vect,user,item, margin_score, device):\n",
        "        super(EXPGenerator, self).__init__()\n",
        "        self.rec_dataset = rec_dataset\n",
        "        self.base_model = base_model\n",
        "        self.user_vect = user_vect\n",
        "        self.item_vect= item_vect\n",
        "        self.margin_score = margin_score\n",
        "        self.device = device\n",
        "        # self.features=rec_dataset.features\n",
        "        # self.len_features=len(self.features)\n",
        "        self.features_tips=rec_dataset.tips_features[item][0]\n",
        "        self.len_features_tips=len(self.features_tips)\n",
        "        self.item=item\n",
        "        self.user=user\n",
        "        self.replaced_words,self.replaced_vects,self.logits_tensor,self.words_indices=get_replaced_words_vects(rec_dataset.inv_item_name_dict[item])\n",
        "        self.logits_tensor=torch.where(self.logits_tensor==12.0,torch.tensor(-0.1).to(device),self.logits_tensor).to(device)\n",
        "        self.logits_tensor=torch.where(self.logits_tensor==5.0,torch.tensor(-0.1).to(device),self.logits_tensor).to(device)\n",
        "        self.logits_tensor=torch.where(self.logits_tensor==0.0,torch.tensor(-1.0).to(device),self.logits_tensor).to(device)\n",
        "        teta_par3=get_initialized_teta2(self.features_tips,len(self.replaced_words),self.words_indices,16.0)\n",
        "        self.teta3 =  torch.nn.Parameter(teta_par3)\n",
        "        self.main_pi3 = F.softmax((self.teta3 + self.sample_gumbel((self.len_features_tips,len(self.replaced_words)))) /0.00001, dim=-1)\n",
        "        self.item=item\n",
        "        self.user=user\n",
        "    \n",
        "    def get_masked_item_feature(self,temp):\n",
        "        item_feature_name=self.features_tips\n",
        "        \n",
        "        self.pi3 = F.softmax((self.teta3 + self.sample_gumbel((self.len_features_tips,len(self.replaced_words)))) /temp, dim=-1)\n",
        "  \n",
        "        item_feature_tip=get_new_item_vector(self.replaced_vects,self.item,item_feature_name,self.pi3)\n",
        "        item_feature_star=item_feature_tip\n",
        "        return item_feature_star\n",
        "\n",
        "    def sample_gumbel(self,shape, eps=1e-20):\n",
        "      U = torch.rand(shape)\n",
        "      U = U.cuda()\n",
        "      return -torch.log(-torch.log(U + eps) + eps)\n",
        "    \n",
        "    def forward(self,temp):\n",
        "        item_feature_star = self.get_masked_item_feature(temp)\n",
        "        score = self.base_model(self.user_vect.unsqueeze(0), item_feature_star.unsqueeze(0))\n",
        "        return score\n",
        "    \n",
        "    def loss(self, a,b,c, score):\n",
        "        bpr = torch.nn.functional.relu(alp + score - self.margin_score) * a\n",
        "        l12=c*(1.0/(torch.linalg.norm(torch.mul(self.pi3,self.logits_tensor),ord=1)))\n",
        "        l13 = torch.linalg.norm(self.main_pi3-self.pi3,ord=1)*b\n",
        "        loss=bpr+l12+l13\n",
        "        return bpr,l12 ,l13,loss"
      ]
    },
    {
      "cell_type": "code",
      "execution_count": null,
      "metadata": {
        "id": "fGywTyrWPsrh"
      },
      "outputs": [],
      "source": [
        "def evaluate_user_perspective(user_perspective_data, u_i_expl_dict):\n",
        "    pres = []\n",
        "    recs = []\n",
        "    f1s = []\n",
        "    for u_i, gt_features in user_perspective_data.items():\n",
        "        if u_i in u_i_expl_dict:\n",
        "            pre_features = u_i_expl_dict[u_i][0][0]\n",
        "            if len(pre_features)>0:\n",
        "              TP = 0\n",
        "              for feature in pre_features:\n",
        "                  if feature in gt_features:\n",
        "                      TP += 1\n",
        "              \n",
        "              pre = TP / len(pre_features)\n",
        "              rec = TP / len(gt_features)\n",
        "              if (pre + rec) != 0:\n",
        "                  f1 = (2 * pre * rec) / (pre + rec)\n",
        "              else:\n",
        "                  f1 = 0\n",
        "              pres.append(pre)\n",
        "              recs.append(rec)\n",
        "              f1s.append(f1)\n",
        "    ave_pre = np.mean(pres)\n",
        "    ave_rec = np.mean(recs)\n",
        "    ave_f1 = np.mean(f1s)\n",
        "    return ave_pre, ave_rec, ave_f1"
      ]
    },
    {
      "cell_type": "code",
      "execution_count": null,
      "metadata": {
        "id": "9HwulmiX_eIl"
      },
      "outputs": [],
      "source": [
        "def get_tensor_vect_df(df,not_in_columns):\n",
        "  df1=df.copy()\n",
        "  df1['main_word']=np.where(df1['replaced_word'] == df1[not_in_columns],1,0)\n",
        "  df1=df1[df1['main_word']==1]\n",
        "  if df1.empty:\n",
        "    df1=df.copy()\n",
        "    df1['main_word']=np.where(df1['logit']==5.0,1,0)\n",
        "    df1=df1[df1['main_word']==1]\n",
        "  if df1.empty:\n",
        "    df1=df.copy()\n",
        "    df1['main_word']=np.where(df1['logit']==12.0,1,0)\n",
        "    df1=df1[df1['main_word']==1]\n",
        "  lists=df1.loc[:, ~df1.columns.isin([not_in_columns,'replaced_word','logit','main_word'])].values\n",
        "  words=df1[not_in_columns].values\n",
        "  # print(words)\n",
        "  vects=[sub_list[0] for sub_list in lists]\n",
        "  tensor_vect=torch.FloatTensor(vects).to(device)\n",
        "  return tensor_vect"
      ]
    },
    {
      "cell_type": "code",
      "execution_count": null,
      "metadata": {
        "id": "LB4NGF38-6K4"
      },
      "outputs": [],
      "source": [
        "def get_tensor_vects(item_id):\n",
        "  tensor_vect_desc=None\n",
        "  df_vect_tip= pd.read_json(save_path+'tips_bert_items_dfs/'+'{}.json'.format(item_id))\n",
        "  # df_vect_desc=df_vect[0]\n",
        "  tensor_vect_tip=get_tensor_vect_df(df_vect_tip,'word')\n",
        "  return tensor_vect_tip"
      ]
    },
    {
      "cell_type": "code",
      "execution_count": null,
      "metadata": {
        "id": "gwSKU5evADm_"
      },
      "outputs": [],
      "source": [
        "def get_average_vect_test(weights,tensor_vect):\n",
        "  weights=torch.transpose(weights.repeat(tensor_vect.shape[1],1),0,1)\n",
        "  average=torch.mean(weights*tensor_vect,axis=0).to(device)\n",
        "  return average"
      ]
    },
    {
      "cell_type": "code",
      "execution_count": null,
      "metadata": {
        "id": "cX9vHMvA_3xr"
      },
      "outputs": [],
      "source": [
        "def get_new_item_vector2(item,new_weights,tensor_vect_tip):\n",
        "    final_vector=[]\n",
        "    average_vect_tips=get_average_vect_test(new_weights,tensor_vect_tip)\n",
        "    final_vector=average_vect_tips\n",
        "    return final_vector"
      ]
    },
    {
      "cell_type": "code",
      "execution_count": null,
      "metadata": {
        "colab": {
          "base_uri": "https://localhost:8080/"
        },
        "id": "J3Yv5X293BBS",
        "outputId": "db7156d2-ff67-4e0f-f7cd-2f971ee369ef"
      },
      "outputs": [
        {
          "data": {
            "text/plain": [
              "1"
            ]
          },
          "execution_count": 310,
          "metadata": {},
          "output_type": "execute_result"
        }
      ],
      "source": [
        "list(scaled_features.columns).index('latitude')"
      ]
    },
    {
      "cell_type": "code",
      "execution_count": null,
      "metadata": {
        "id": "jzO5JyluPyG-"
      },
      "outputs": [],
      "source": [
        "def sample_gumbel(shape, eps=1e-20):\n",
        "      U = torch.rand(shape)\n",
        "      U = U.cuda()\n",
        "      return -torch.log(-torch.log(U + eps) + eps)\n",
        "def evaluate_model_perspective(\n",
        "        rec_dict,\n",
        "        u_i_exp_dict,\n",
        "        base_model,\n",
        "        user_feature_matrix,\n",
        "        item_feature_matrix,\n",
        "        rec_k,\n",
        "        dict_items_cf_feature,\n",
        "        device):\n",
        "    \"\"\"\n",
        "    compute PN, PS and F_NS score for the explanations\n",
        "    :param rec_dict: {u1: [i1, i2, i3, ...] , u2: [i1, i2, i3, ...]}\n",
        "    :param u_i_exp_dict: {(u, i): [f1, f2, ...], ...}\n",
        "    :param base_model: the trained base recommendation model\n",
        "    :param user_feature_matrix: |u| x |p| matrix, the attention on each feature p for each user u\n",
        "    :param item_feature_matrix: |i| x |p| matrix, the quality on each feature p for each item i\n",
        "    :param rec_k: the length of the recommendation list, only generated explanations for the items on the list\n",
        "    :param device: the device of the model\n",
        "    :return: the mean of the PN, PS and FNS scores\n",
        "    \"\"\"\n",
        "    pn_count = 0\n",
        "    ps_count = 0\n",
        "    i=0\n",
        "    count_all=0\n",
        "    dict_items={}\n",
        "    for u_i, fs in u_i_exp_dict.items():\n",
        "        user = u_i[0]\n",
        "        target_item = u_i[1]\n",
        "        features = fs\n",
        "        items = rec_dict[user]\n",
        "        target_index = items.index(target_item)\n",
        "        features_words=list(set(features[0][0]))\n",
        "        count_all+=1\n",
        "    \n",
        "\n",
        "        # compute PN\n",
        "        cf_items_features1 = []\n",
        "        cf_items_features2 = []\n",
        "        for item in items:\n",
        "            item_id=rec_dataset.inv_item_name_dict[item]\n",
        "            item_feature_words=rec_dataset.tips_features[item][0]\n",
        "            weights1=[0.0 if fea in features_words else 1.0 for fea in  item_feature_words]\n",
        "            weights2=[1.0 if fea in features_words else 0.0 for fea in  item_feature_words]\n",
        "            weights1=torch.from_numpy(np.array(weights1,dtype='float32')).to(device)\n",
        "            weights2=torch.from_numpy(np.array(weights2,dtype='float32')).to(device)\n",
        "            if item in dict_items_cf_feature.keys():\n",
        "              tensor_vect_tip=dict_items_cf_feature[item]\n",
        "            else:\n",
        "              tensor_vect_tip=get_tensor_vects(item_id)\n",
        "              dict_items_cf_feature[item]=tensor_vect_tip\n",
        "            \n",
        "            item_cf_feature1=get_new_item_vector2(item,weights1,tensor_vect_tip).detach().to('cpu').numpy()\n",
        "            item_cf_feature2=get_new_item_vector2(item,weights2,tensor_vect_tip).detach().to('cpu').numpy()\n",
        "            cf_items_features1.append(item_cf_feature1)\n",
        "            cf_items_features2.append(item_cf_feature2)\n",
        "\n",
        "        cf_ranking_scores1 = base_model(torch.from_numpy(np.array([user_feature_matrix[user]\n",
        "                                                                      for i in range(len(cf_items_features1))])\n",
        "                                                            ).to(device),\n",
        "                                          torch.from_numpy(np.array(cf_items_features1,dtype='float32')).to(device)).squeeze()\n",
        "        cf_score_list1 = cf_ranking_scores1.to('cpu').detach().numpy()\n",
        "        # print(np.sort( cf_score_list1)[::-1])\n",
        "        sorted_index1 = np.argsort(cf_score_list1)[::-1]\n",
        "        # print(sorted_index1)\n",
        "        cf_rank1 = np.argwhere(sorted_index1 == target_index)[0, 0]  # the updated ranking of the current item\n",
        "        # print(cf_rank1)\n",
        "        if cf_rank1 > rec_k - 1:\n",
        "            pn_count += 1\n",
        "        # compute NS\n",
        "        cf_ranking_scores2 = base_model(torch.from_numpy(np.array([user_feature_matrix[user]\n",
        "                                                                      for i in range(len(cf_items_features2))])\n",
        "                                                            ).to(device),\n",
        "                                          torch.from_numpy(np.array(cf_items_features2,dtype='float32')).to(device)).squeeze()\n",
        "        cf_score_list2 = cf_ranking_scores2.to('cpu').detach().numpy()\n",
        "        sorted_index2 = np.argsort(cf_score_list2)[::-1]\n",
        "        cf_rank2 = np.argwhere(sorted_index2 == target_index)[0, 0]  # the updated ranking of the current item\n",
        "        if cf_rank2 < rec_k:\n",
        "            ps_count += 1\n",
        "    if len(u_i_exp_dict) != 0:\n",
        "        pn = pn_count / count_all\n",
        "        ps = ps_count / count_all\n",
        "        if (pn + ps) != 0:\n",
        "            fns = (2 * pn * ps) / (pn + ps)\n",
        "        else:\n",
        "            fns = 0\n",
        "    else:\n",
        "        pn = 0\n",
        "        ps = 0\n",
        "        fns = 0\n",
        "    return pn, ps, fns"
      ]
    },
    {
      "cell_type": "code",
      "execution_count": null,
      "metadata": {
        "colab": {
          "base_uri": "https://localhost:8080/"
        },
        "id": "ol5Ikjv8PAkK",
        "outputId": "07ff27f3-0240-4a5c-d57a-28386dc6c3cf"
      },
      "outputs": [
        {
          "output_type": "stream",
          "name": "stdout",
          "text": [
            "cpu\n",
            "lr: 0.5    temp: 1.4    l1_b: 2.0 cs: 10.0\n"
          ]
        },
        {
          "output_type": "stream",
          "name": "stderr",
          "text": [
            "100%|██████████| 15/15 [1:44:07<00:00, 416.47s/it]\n"
          ]
        },
        {
          "output_type": "stream",
          "name": "stdout",
          "text": [
            "ave num:  14.226415094339623 no_exp_count:  22 exp_count:  53\n",
            "model's perspective:\n",
            "ave PN:  0.7924528301886793   ave PS:  0.9056603773584906   ave F_{NS}:  0.8452830188679246\n"
          ]
        }
      ],
      "source": [
        "def generate_explanation():\n",
        "    if gpu:\n",
        "        device = torch.device('cuda:%s' %cuda)\n",
        "    else:\n",
        "        device = 'cpu'\n",
        "    print(device)\n",
        "    # import dataset\n",
        "    \n",
        "    base_model = BaseRecModel(768).to(device)\n",
        "    base_model.load_state_dict(torch.load(os.path.join(save_path2,\"modelOnlyTips.model\"),map_location=torch.device(device)))\n",
        "    base_model.eval()\n",
        "    #  fix the rec model\n",
        "    for param in base_model.parameters():\n",
        "        param.requires_grad = False\n",
        "    \n",
        "    a=100.0\n",
        "    lrs=[0.5]\n",
        "    temps=[1.4]\n",
        "    bs=[2.0]\n",
        "    cs=[10.0]\n",
        "    with open(save_path+'result_validation.txt','w') as result_file:\n",
        "      for lr in lrs:\n",
        "        for temp in temps:\n",
        "          for b in bs:\n",
        "            for c in cs:\n",
        "              print('lr:', lr , '   temp:', temp , '   l1_b:', b , 'cs:', c)\n",
        "              opt_model = ExpOptimizationModel(base_model=base_model,rec_dataset=rec_dataset,device = device)\n",
        "              ave_num,no_exp_count,exp_count=opt_model.generate_explanation(lr,temp,a,b,c)\n",
        "              ave_pn,ave_ps,ave_fns=opt_model.model_side_evaluation()\n",
        "    return opt_model\n",
        "\n",
        "\n",
        "if __name__ == \"__main__\":\n",
        "    opt_model=generate_explanation()"
      ]
    },
    {
      "cell_type": "code",
      "source": [
        "opt_model.u_i_exp_dict"
      ],
      "metadata": {
        "colab": {
          "base_uri": "https://localhost:8080/"
        },
        "id": "6i1W18BdMUpg",
        "outputId": "bcd7b98c-c73c-43e2-83be-b0262fc31762"
      },
      "execution_count": null,
      "outputs": [
        {
          "output_type": "execute_result",
          "data": {
            "text/plain": [
              "{(1717,\n",
              "  3027): [[['away',\n",
              "    'printers',\n",
              "    'also',\n",
              "    'need',\n",
              "    'bin',\n",
              "    'donate',\n",
              "    'old',\n",
              "    'items'],\n",
              "   ['top', 'ever', 'also', 'and', 'this', '?', 'section', 'takes']]],\n",
              " (1717,\n",
              "  8101): [[['restroom',\n",
              "    'love',\n",
              "    'transaction',\n",
              "    'drinks',\n",
              "    'ever',\n",
              "    'hell',\n",
              "    'beat',\n",
              "    'post',\n",
              "    'fantastic',\n",
              "    'food',\n",
              "    'eclectic',\n",
              "    'great',\n",
              "    'get',\n",
              "    'atm',\n",
              "    'another',\n",
              "    'hidden',\n",
              "    'steak',\n",
              "    'worry',\n",
              "    'beer',\n",
              "    'crunk',\n",
              "    'often',\n",
              "    'best',\n",
              "    'reggae',\n",
              "    'bathroom',\n",
              "    'music',\n",
              "    'yeah',\n",
              "    'band',\n",
              "    'bottle',\n",
              "    'nice',\n",
              "    'tamales',\n",
              "    'credit',\n",
              "    'even',\n",
              "    'smoke',\n",
              "    'frenchman',\n",
              "    'pork',\n",
              "    'yes',\n",
              "    'live'],\n",
              "   ['|',\n",
              "    'evening',\n",
              "    'boy',\n",
              "    'see',\n",
              "    'place',\n",
              "    'country',\n",
              "    'food',\n",
              "    'performance',\n",
              "    '!',\n",
              "    'lead',\n",
              "    '-',\n",
              "    'beer',\n",
              "    'at',\n",
              "    'little',\n",
              "    'a',\n",
              "    'wedding',\n",
              "    'air',\n",
              "    'song',\n",
              "    'pop',\n",
              "    ';',\n",
              "    'the',\n",
              "    ',',\n",
              "    'they',\n",
              "    'music',\n",
              "    'heading',\n",
              "    'mood',\n",
              "    'nights',\n",
              "    'mic',\n",
              "    'our',\n",
              "    'ways',\n",
              "    'room',\n",
              "    'screen',\n",
              "    'modern',\n",
              "    '2',\n",
              "    '?',\n",
              "    'head',\n",
              "    'find',\n",
              "    'live',\n",
              "    'crew']]],\n",
              " (1717,\n",
              "  18204): [[['wine',\n",
              "    'glasses',\n",
              "    'best',\n",
              "    'free',\n",
              "    'really',\n",
              "    'beer',\n",
              "    'glass',\n",
              "    'average',\n",
              "    'right',\n",
              "    'like'],\n",
              "   ['love',\n",
              "    '|',\n",
              "    'restaurant',\n",
              "    '\"',\n",
              "    'own',\n",
              "    ';',\n",
              "    'devil',\n",
              "    'and',\n",
              "    'the',\n",
              "    ',',\n",
              "    'have',\n",
              "    'we']]],\n",
              " (1717, 21857): [[['baconator', 'hwy'], ['the', 'fast']]],\n",
              " (6708,\n",
              "  12469): [[['casual',\n",
              "    'spot',\n",
              "    'setting',\n",
              "    'special',\n",
              "    'atmosphere',\n",
              "    'ambience',\n",
              "    'dozen',\n",
              "    'delicious',\n",
              "    'enjoy',\n",
              "    'drink',\n",
              "    'spicy',\n",
              "    'door',\n",
              "    'beverage',\n",
              "    'going',\n",
              "    'brunch',\n",
              "    'feel',\n",
              "    'fresh',\n",
              "    'restraint',\n",
              "    'bar',\n",
              "    'choose',\n",
              "    'seated',\n",
              "    'josh',\n",
              "    'time',\n",
              "    'grab'],\n",
              "   ['|',\n",
              "    'potato',\n",
              "    'menu',\n",
              "    'except',\n",
              "    'long',\n",
              "    'fish',\n",
              "    'great',\n",
              "    'loved',\n",
              "    'emergency',\n",
              "    'sea',\n",
              "    'cool',\n",
              "    'sweet',\n",
              "    'this',\n",
              "    'the',\n",
              "    'name',\n",
              "    'courtesy',\n",
              "    'unlimited',\n",
              "    'all',\n",
              "    'his',\n",
              "    'some',\n",
              "    'nice',\n",
              "    'beautiful',\n",
              "    'and',\n",
              "    'good']]],\n",
              " (6708,\n",
              "  7081): [[['atmosphere',\n",
              "    'tahini',\n",
              "    'delicious',\n",
              "    'fantastic',\n",
              "    'botanical',\n",
              "    'food',\n",
              "    'huge',\n",
              "    'great',\n",
              "    'multigrain',\n",
              "    'fifteen',\n",
              "    'years',\n",
              "    'another',\n",
              "    'choices',\n",
              "    'cobb',\n",
              "    'since',\n",
              "    'reason',\n",
              "    'bread',\n",
              "    'amazing',\n",
              "    'etc',\n",
              "    'best',\n",
              "    'albacore',\n",
              "    'hit',\n",
              "    'meat',\n",
              "    'arugula',\n",
              "    'dishes',\n",
              "    'nice',\n",
              "    'quite',\n",
              "    'perfect',\n",
              "    'good',\n",
              "    'much'],\n",
              "   ['strategically',\n",
              "    'their',\n",
              "    'high',\n",
              "    'tell',\n",
              "    'burrito',\n",
              "    'but',\n",
              "    'food',\n",
              "    'he',\n",
              "    'more',\n",
              "    '!',\n",
              "    '-',\n",
              "    'you',\n",
              "    'clean',\n",
              "    'soup',\n",
              "    'wedding',\n",
              "    'everyone',\n",
              "    ';',\n",
              "    'watching',\n",
              "    'watched',\n",
              "    'as',\n",
              "    '.',\n",
              "    'day',\n",
              "    'the',\n",
              "    'i',\n",
              "    'and',\n",
              "    '?',\n",
              "    'good',\n",
              "    'shop',\n",
              "    'sense',\n",
              "    'on']]],\n",
              " (6708,\n",
              "  3795): [[['wow',\n",
              "    'excellent',\n",
              "    'staff',\n",
              "    'mad',\n",
              "    'nerd',\n",
              "    'really',\n",
              "    'food',\n",
              "    'great',\n",
              "    'sandwiches',\n",
              "    'chance',\n",
              "    'heck',\n",
              "    'looks',\n",
              "    'plentiful',\n",
              "    'mazing',\n",
              "    'yeah',\n",
              "    'point',\n",
              "    'bowls',\n",
              "    'friendly',\n",
              "    'work',\n",
              "    'salads',\n",
              "    'bye',\n",
              "    'coffee',\n",
              "    'personal',\n",
              "    'waitresses'],\n",
              "   [':',\n",
              "    'difference',\n",
              "    'red',\n",
              "    'excellent',\n",
              "    'sauce',\n",
              "    'two',\n",
              "    'lake',\n",
              "    'enjoy',\n",
              "    'sandwiches',\n",
              "    'get',\n",
              "    '!',\n",
              "    '-',\n",
              "    'in',\n",
              "    'getting',\n",
              "    'breakfast',\n",
              "    'up',\n",
              "    'anything',\n",
              "    'fruit',\n",
              "    'soup',\n",
              "    'mother',\n",
              "    'patty',\n",
              "    ';',\n",
              "    'people',\n",
              "    '.',\n",
              "    'the',\n",
              "    ',',\n",
              "    'home',\n",
              "    'and',\n",
              "    'work',\n",
              "    'clarified',\n",
              "    'time',\n",
              "    '?',\n",
              "    'head',\n",
              "    'good',\n",
              "    'eating',\n",
              "    'prize',\n",
              "    'apple']]],\n",
              " (6708,\n",
              "  4394): [[['refreshing',\n",
              "    'beef',\n",
              "    'inexpensive',\n",
              "    'perfect',\n",
              "    'lucayan',\n",
              "    'needed'],\n",
              "   ['sweet', '-', 'delicious', 'made', 'making', 'lunch', 'tea']]],\n",
              " (8694,\n",
              "  18797): [[['sushi', 'roll', 'deliver', 'miss'],\n",
              "   ['favourite', 'cute', 'favorite', 'would', 'amazingly', 'because']]],\n",
              " (8694,\n",
              "  2563): [[['friends',\n",
              "    'chips',\n",
              "    'whiskey',\n",
              "    'excited',\n",
              "    'street',\n",
              "    'ginger',\n",
              "    'trendy',\n",
              "    'sucks',\n",
              "    'groups',\n",
              "    'yam',\n",
              "    'dinner',\n",
              "    'food',\n",
              "    'drink',\n",
              "    'fish',\n",
              "    'chicken',\n",
              "    'get',\n",
              "    'patio',\n",
              "    'irish',\n",
              "    'yum',\n",
              "    'cobb',\n",
              "    'meeting',\n",
              "    'ahhh',\n",
              "    'nightcap',\n",
              "    'sours',\n",
              "    'yeeeeee',\n",
              "    'relaxing',\n",
              "    'fries',\n",
              "    'continues',\n",
              "    'best',\n",
              "    'lotusenergydrink',\n",
              "    'bomb',\n",
              "    'crazies',\n",
              "    'pitchers',\n",
              "    'name',\n",
              "    'watery',\n",
              "    'tomato',\n",
              "    'cocktail',\n",
              "    'rawartists',\n",
              "    'girl',\n",
              "    'bad',\n",
              "    'blt',\n",
              "    'green',\n",
              "    'meh',\n",
              "    'nashville'],\n",
              "   ['love',\n",
              "    '|',\n",
              "    'fans',\n",
              "    'ever',\n",
              "    'atmosphere',\n",
              "    'to',\n",
              "    'delicious',\n",
              "    'absolutely',\n",
              "    'eat',\n",
              "    'selective',\n",
              "    'awesome',\n",
              "    'chicken',\n",
              "    'use',\n",
              "    'show',\n",
              "    '!',\n",
              "    'it',\n",
              "    'free',\n",
              "    'another',\n",
              "    'suitable',\n",
              "    'loved',\n",
              "    'whole',\n",
              "    'so',\n",
              "    'you',\n",
              "    'allowed',\n",
              "    'salad',\n",
              "    'a',\n",
              "    'loyalty',\n",
              "    'always',\n",
              "    'other',\n",
              "    'each',\n",
              "    'cooler',\n",
              "    'let',\n",
              "    'saturday',\n",
              "    '.',\n",
              "    'lamps',\n",
              "    'the',\n",
              "    'or',\n",
              "    ',',\n",
              "    'right',\n",
              "    'meat',\n",
              "    'hungry',\n",
              "    'required',\n",
              "    '\"',\n",
              "    'enough',\n",
              "    'new',\n",
              "    'blt',\n",
              "    'times',\n",
              "    'time',\n",
              "    'even',\n",
              "    '?',\n",
              "    'i',\n",
              "    'with']]],\n",
              " (8694,\n",
              "  3620): [[['love',\n",
              "    'location',\n",
              "    'yummy',\n",
              "    'places',\n",
              "    'loud',\n",
              "    'yum',\n",
              "    'bad',\n",
              "    'fast',\n",
              "    'peppermint',\n",
              "    'delicious',\n",
              "    'small',\n",
              "    'food'],\n",
              "   ['away',\n",
              "    'slow',\n",
              "    'and',\n",
              "    '.',\n",
              "    'peppermint',\n",
              "    'far',\n",
              "    'guys',\n",
              "    'next',\n",
              "    'second',\n",
              "    'good',\n",
              "    'a',\n",
              "    'night']]],\n",
              " (20172,\n",
              "  8852): [[['museum',\n",
              "    'beef',\n",
              "    'wait',\n",
              "    'tahini',\n",
              "    'stopped',\n",
              "    'thursday',\n",
              "    'insane',\n",
              "    'notch',\n",
              "    'locally',\n",
              "    'get',\n",
              "    'hot',\n",
              "    'town',\n",
              "    'come',\n",
              "    'falafel',\n",
              "    'often',\n",
              "    'shawarma',\n",
              "    'burger',\n",
              "    'heading',\n",
              "    'operated',\n",
              "    'taste',\n",
              "    'try',\n",
              "    'dipping',\n",
              "    'baba'],\n",
              "   ['|',\n",
              "    'high',\n",
              "    'we',\n",
              "    'great',\n",
              "    'chicken',\n",
              "    'stayed',\n",
              "    '!',\n",
              "    'recommended',\n",
              "    'milk',\n",
              "    'little',\n",
              "    'few',\n",
              "    'people',\n",
              "    'products',\n",
              "    'the',\n",
              "    ',',\n",
              "    'home',\n",
              "    'enough',\n",
              "    'and',\n",
              "    '?',\n",
              "    'even',\n",
              "    'went',\n",
              "    'authentic',\n",
              "    '##a']]],\n",
              " (20172,\n",
              "  2934): [[['spot',\n",
              "    'wine',\n",
              "    'lobster',\n",
              "    'shrimp',\n",
              "    'great',\n",
              "    'fish',\n",
              "    'flair',\n",
              "    'trout',\n",
              "    'cheese',\n",
              "    'beer',\n",
              "    'worth',\n",
              "    'happy',\n",
              "    'density',\n",
              "    'check',\n",
              "    'indy',\n",
              "    'allergic',\n",
              "    'seafood',\n",
              "    'tuna',\n",
              "    'even'],\n",
              "   ['ordered',\n",
              "    'have',\n",
              "    'horrible',\n",
              "    'get',\n",
              "    'pay',\n",
              "    'birthday',\n",
              "    'in',\n",
              "    'eaten',\n",
              "    'better',\n",
              "    'as',\n",
              "    '.',\n",
              "    'ten',\n",
              "    'day',\n",
              "    ',',\n",
              "    'and',\n",
              "    '?',\n",
              "    'even',\n",
              "    'with',\n",
              "    'on',\n",
              "    'several']]],\n",
              " (20172,\n",
              "  9658): [[['every',\n",
              "    'trust',\n",
              "    'best',\n",
              "    'nice',\n",
              "    'chopped',\n",
              "    'cheap',\n",
              "    'clean',\n",
              "    'personal',\n",
              "    'like',\n",
              "    'food'],\n",
              "   ['|',\n",
              "    'singapore',\n",
              "    ';',\n",
              "    'and',\n",
              "    '.',\n",
              "    'bar',\n",
              "    'tell',\n",
              "    'to',\n",
              "    'this',\n",
              "    'topping',\n",
              "    'at',\n",
              "    'rings',\n",
              "    'leslie']]],\n",
              " (1669,\n",
              "  3851): [[['place',\n",
              "    'grilled',\n",
              "    'menu',\n",
              "    'delicious',\n",
              "    'strip',\n",
              "    'food',\n",
              "    'great',\n",
              "    'chicken',\n",
              "    'steaks',\n",
              "    'comida',\n",
              "    'patio',\n",
              "    'thank',\n",
              "    'steak',\n",
              "    'baked',\n",
              "    'said',\n",
              "    'vegetarians',\n",
              "    'por',\n",
              "    'attentive',\n",
              "    'muy',\n",
              "    'restaurante',\n",
              "    'new',\n",
              "    'monique',\n",
              "    'york',\n",
              "    'salads',\n",
              "    'even',\n",
              "    'much'],\n",
              "   ['love',\n",
              "    'one',\n",
              "    'excellent',\n",
              "    'any',\n",
              "    'usual',\n",
              "    'to',\n",
              "    'lyrics',\n",
              "    'quality',\n",
              "    'that',\n",
              "    '!',\n",
              "    'another',\n",
              "    'kids',\n",
              "    ';',\n",
              "    '.',\n",
              "    'the',\n",
              "    'dog',\n",
              "    'are',\n",
              "    ',',\n",
              "    'music',\n",
              "    '?',\n",
              "    'station',\n",
              "    'good',\n",
              "    'service']]],\n",
              " (1669,\n",
              "  6460): [[['staff',\n",
              "    'thai',\n",
              "    'place',\n",
              "    'atmosphere',\n",
              "    'delicious',\n",
              "    'low',\n",
              "    'truly',\n",
              "    'food',\n",
              "    'terrible',\n",
              "    'lunch',\n",
              "    'great',\n",
              "    'impressive',\n",
              "    'cone',\n",
              "    'spring',\n",
              "    'amazing',\n",
              "    'best',\n",
              "    'fresh',\n",
              "    'tampa',\n",
              "    'small',\n",
              "    'first',\n",
              "    'try',\n",
              "    'friendly',\n",
              "    'coming',\n",
              "    'covid',\n",
              "    'good',\n",
              "    'service'],\n",
              "   [':',\n",
              "    '|',\n",
              "    'red',\n",
              "    'sauces',\n",
              "    'thai',\n",
              "    'duck',\n",
              "    'dining',\n",
              "    'special',\n",
              "    'fried',\n",
              "    'days',\n",
              "    'shrimp',\n",
              "    'have',\n",
              "    'he',\n",
              "    'learn',\n",
              "    '!',\n",
              "    '-',\n",
              "    'it',\n",
              "    'beer',\n",
              "    'hot',\n",
              "    'meant',\n",
              "    'popular',\n",
              "    'pie',\n",
              "    'looking',\n",
              "    ';',\n",
              "    'each',\n",
              "    'fresh',\n",
              "    'also',\n",
              "    '.',\n",
              "    'were',\n",
              "    ',',\n",
              "    'tofu',\n",
              "    'will',\n",
              "    'everything',\n",
              "    'counter',\n",
              "    'working',\n",
              "    'friendly',\n",
              "    'stir',\n",
              "    'customers',\n",
              "    '?',\n",
              "    'treat',\n",
              "    'good',\n",
              "    'find',\n",
              "    'curry']]],\n",
              " (1669, 832): [[['pop', 'ticket'], ['no']]],\n",
              " (1669, 5788): [[['long', 'service'], ['these', 'plays']]],\n",
              " (1669, 996): [[['person', 'somewhere'], ['|', 'helps']]],\n",
              " (502,\n",
              "  1815): [[['chicken',\n",
              "    'one',\n",
              "    'sauce',\n",
              "    'tea',\n",
              "    'cane',\n",
              "    'disco',\n",
              "    'toast',\n",
              "    'white',\n",
              "    'lemonade',\n",
              "    'inside',\n",
              "    'texas',\n",
              "    'simple',\n",
              "    'strips',\n",
              "    'fingers',\n",
              "    'ball',\n",
              "    'iced',\n",
              "    'reminds'],\n",
              "   ['see',\n",
              "    'information',\n",
              "    'quality',\n",
              "    'that',\n",
              "    'drink',\n",
              "    'chicken',\n",
              "    'straight',\n",
              "    'more',\n",
              "    'dig',\n",
              "    '-',\n",
              "    'another',\n",
              "    'loved',\n",
              "    'kids',\n",
              "    'egg',\n",
              "    'bread',\n",
              "    ';',\n",
              "    'meal',\n",
              "    'the',\n",
              "    'expressway',\n",
              "    'eating',\n",
              "    'like',\n",
              "    'much',\n",
              "    'with',\n",
              "    'service']]],\n",
              " (502, 10963): [[['still'], ['.']]],\n",
              " (502,\n",
              "  5096): [[['nutella',\n",
              "    'sandwiches',\n",
              "    'loves',\n",
              "    'coast',\n",
              "    'cinnamon',\n",
              "    'green',\n",
              "    'carp',\n",
              "    'mmmmmm',\n",
              "    'sandwich',\n",
              "    'hummus',\n",
              "    'awesome',\n",
              "    'peanut'],\n",
              "   ['totally',\n",
              "    'sandwiches',\n",
              "    'very',\n",
              "    'got',\n",
              "    'see',\n",
              "    'offers',\n",
              "    \"'\",\n",
              "    '.',\n",
              "    'hot',\n",
              "    'not',\n",
              "    'so',\n",
              "    ',',\n",
              "    'next',\n",
              "    'instead',\n",
              "    'service']]],\n",
              " (502,\n",
              "  13547): [[['place',\n",
              "    'atmosphere',\n",
              "    'roof',\n",
              "    'beet',\n",
              "    'jamaican',\n",
              "    'food',\n",
              "    'jalapeno',\n",
              "    'restaurant',\n",
              "    'soy',\n",
              "    'door',\n",
              "    'town',\n",
              "    'spring',\n",
              "    'amazing',\n",
              "    'english',\n",
              "    'fries',\n",
              "    'best',\n",
              "    'top',\n",
              "    'might',\n",
              "    'sunset',\n",
              "    'voodoo',\n",
              "    'service'],\n",
              "   [':',\n",
              "    'that',\n",
              "    'full',\n",
              "    'brings',\n",
              "    'great',\n",
              "    '-',\n",
              "    'it',\n",
              "    'lovely',\n",
              "    'bring',\n",
              "    'cooks',\n",
              "    'after',\n",
              "    'happen',\n",
              "    ',',\n",
              "    'support',\n",
              "    'couple',\n",
              "    'all',\n",
              "    'new',\n",
              "    'number',\n",
              "    'work',\n",
              "    'coffee',\n",
              "    'i']]],\n",
              " (50, 25621): [[[], []]],\n",
              " (50,\n",
              "  2716): [[['parking',\n",
              "    'weapon',\n",
              "    'chicken',\n",
              "    'reasonable',\n",
              "    'concealed',\n",
              "    'least',\n",
              "    'fish',\n",
              "    'best',\n",
              "    'salmon',\n",
              "    'fresh',\n",
              "    'fast',\n",
              "    'whole',\n",
              "    'salad',\n",
              "    'town'],\n",
              "   [':',\n",
              "    'nueva',\n",
              "    'restaurant',\n",
              "    'flavour',\n",
              "    'your',\n",
              "    '|',\n",
              "    'best',\n",
              "    'and',\n",
              "    'her',\n",
              "    'me',\n",
              "    '?',\n",
              "    'at',\n",
              "    'restaurants',\n",
              "    'fruit']]],\n",
              " (50,\n",
              "  9171): [[['great',\n",
              "    'kitchen',\n",
              "    'staff',\n",
              "    'best',\n",
              "    'boys',\n",
              "    'last',\n",
              "    'hollywood',\n",
              "    'wonderful',\n",
              "    'water'],\n",
              "   ['!', 'get', 'it', ';', 'such', 'month', 'take', 'dating', 'soft']]],\n",
              " (50, 5706): [[[], []]],\n",
              " (1129,\n",
              "  11787): [[['friends',\n",
              "    'friday',\n",
              "    'place',\n",
              "    'something',\n",
              "    'looks',\n",
              "    'setup',\n",
              "    'selection',\n",
              "    'cute',\n",
              "    'come',\n",
              "    'indy',\n",
              "    'music',\n",
              "    'winery',\n",
              "    'lot',\n",
              "    'company',\n",
              "    'bottles',\n",
              "    'pizza',\n",
              "    'beautiful',\n",
              "    'jerry',\n",
              "    'room',\n",
              "    'garden',\n",
              "    'time',\n",
              "    'limited',\n",
              "    'party',\n",
              "    'unexpected'],\n",
              "   ['tuesday',\n",
              "    'jimmy',\n",
              "    'epicure',\n",
              "    'your',\n",
              "    'champagne',\n",
              "    'woods',\n",
              "    'meant',\n",
              "    'tasting',\n",
              "    'items',\n",
              "    'said',\n",
              "    'raise',\n",
              "    'estate',\n",
              "    'most',\n",
              "    '.',\n",
              "    ',',\n",
              "    'everything',\n",
              "    '2nd',\n",
              "    'tender',\n",
              "    'nice',\n",
              "    'would',\n",
              "    'next',\n",
              "    'of',\n",
              "    'same',\n",
              "    'delight']]],\n",
              " (1129, 4637): [[['ask'], ['milk']]],\n",
              " (1129, 6585): [[[], []]],\n",
              " (1129, 8643): [[['crispy'], ['homemade']]],\n",
              " (7063,\n",
              "  36716): [[['perfect', 'combo', 'min', 'eve'],\n",
              "   ['all', 'my', '|', \"'\", '.', 'but', 'that', 'same', 'festival']]],\n",
              " (7063,\n",
              "  1305): [[['parking',\n",
              "    'drinks',\n",
              "    'seasonal',\n",
              "    'bike',\n",
              "    'ginger',\n",
              "    'bar',\n",
              "    'beer',\n",
              "    'open',\n",
              "    'outside',\n",
              "    'park'],\n",
              "   [':',\n",
              "    'was',\n",
              "    'any',\n",
              "    'street',\n",
              "    'administrative',\n",
              "    'mia',\n",
              "    'way',\n",
              "    '?',\n",
              "    'cream',\n",
              "    'river']]],\n",
              " (7063,\n",
              "  4926): [[['drinks',\n",
              "    'friday',\n",
              "    'late',\n",
              "    'staff',\n",
              "    'mad',\n",
              "    'curds',\n",
              "    'came',\n",
              "    'beg',\n",
              "    'reservation',\n",
              "    'vibe',\n",
              "    'despite',\n",
              "    'men',\n",
              "    'dinner',\n",
              "    'food',\n",
              "    'drink',\n",
              "    'long',\n",
              "    'waiting',\n",
              "    'die',\n",
              "    'hang',\n",
              "    'retro',\n",
              "    'options',\n",
              "    'inside',\n",
              "    'happy',\n",
              "    'deals',\n",
              "    'exceptionally',\n",
              "    'heavy',\n",
              "    'brunch',\n",
              "    'selection',\n",
              "    'sit',\n",
              "    'hour',\n",
              "    'greet',\n",
              "    'foobooz',\n",
              "    'colin',\n",
              "    'today',\n",
              "    'lamb',\n",
              "    'cocktail',\n",
              "    'salt',\n",
              "    'specials',\n",
              "    'order',\n",
              "    'decor',\n",
              "    'holy',\n",
              "    'coming',\n",
              "    'including',\n",
              "    'scallops',\n",
              "    'pouches',\n",
              "    'wings',\n",
              "    'week',\n",
              "    'early',\n",
              "    'arrive'],\n",
              "   ['|',\n",
              "    'excellent',\n",
              "    'sauce',\n",
              "    'stomach',\n",
              "    'expensive',\n",
              "    'their',\n",
              "    'maybe',\n",
              "    'fried',\n",
              "    'vibe',\n",
              "    'uncomfortable',\n",
              "    'definitely',\n",
              "    'that',\n",
              "    'food',\n",
              "    'he',\n",
              "    'cultural',\n",
              "    'chicken',\n",
              "    'just',\n",
              "    '!',\n",
              "    'get',\n",
              "    '-',\n",
              "    'birthday',\n",
              "    'so',\n",
              "    'http',\n",
              "    'grandparents',\n",
              "    'spring',\n",
              "    'a',\n",
              "    'timing',\n",
              "    ';',\n",
              "    'attentive',\n",
              "    '.',\n",
              "    'this',\n",
              "    'dog',\n",
              "    'table',\n",
              "    '\"',\n",
              "    'sad',\n",
              "    'ribs',\n",
              "    'and',\n",
              "    'fast',\n",
              "    '?',\n",
              "    'delivery',\n",
              "    'good',\n",
              "    'of']]],\n",
              " (7063,\n",
              "  11489): [[['decent',\n",
              "    'friday',\n",
              "    'miller',\n",
              "    'point',\n",
              "    'ranch',\n",
              "    'beer',\n",
              "    'wings',\n",
              "    'bartender',\n",
              "    'food',\n",
              "    'drink',\n",
              "    'darts'],\n",
              "   ['probably',\n",
              "    'services',\n",
              "    '!',\n",
              "    ';',\n",
              "    'comedy',\n",
              "    '.',\n",
              "    '?',\n",
              "    'lites',\n",
              "    'appetite',\n",
              "    'tv',\n",
              "    'lunch',\n",
              "    'night']]],\n",
              " (7063,\n",
              "  3411): [[['salsa', 'single', 'patio', 'variety'],\n",
              "   ['said', 'a', 'reason', 'mexican']]],\n",
              " (55141,\n",
              "  10040): [[['rather', 'place', 'olive', 'constantly', 'midwest', 'lunch'],\n",
              "   ['sit', 'get', 'back', '.', '?', 'delicious', 'dress']]],\n",
              " (55141,\n",
              "  2907): [[['one',\n",
              "    'visit',\n",
              "    'late',\n",
              "    'sundance',\n",
              "    'please',\n",
              "    'never',\n",
              "    'dead',\n",
              "    'roy',\n",
              "    'night',\n",
              "    'fish',\n",
              "    'flooded',\n",
              "    'cold',\n",
              "    'worth',\n",
              "    'hanging',\n",
              "    'grass',\n",
              "    'reason',\n",
              "    'literally',\n",
              "    'bench',\n",
              "    'day',\n",
              "    'today',\n",
              "    'area',\n",
              "    'sunny',\n",
              "    'carter',\n",
              "    'nice',\n",
              "    'beautiful',\n",
              "    'went',\n",
              "    'heat',\n",
              "    'flowers',\n",
              "    'boarding'],\n",
              "   ['load',\n",
              "    '|',\n",
              "    'run',\n",
              "    'be',\n",
              "    'here',\n",
              "    'amount',\n",
              "    'wall',\n",
              "    'enjoy',\n",
              "    'long',\n",
              "    'particularly',\n",
              "    'got',\n",
              "    'colleges',\n",
              "    '-',\n",
              "    'bike',\n",
              "    'lots',\n",
              "    'worry',\n",
              "    'around',\n",
              "    'memorial',\n",
              "    'butts',\n",
              "    'nature',\n",
              "    'clothes',\n",
              "    'saturday',\n",
              "    '.',\n",
              "    'the',\n",
              "    'west',\n",
              "    'help',\n",
              "    'well',\n",
              "    'pleasant',\n",
              "    'quite']]],\n",
              " (55141,\n",
              "  12670): [[['dollars', 'cards', 'worth', 'talking', 'cash'],\n",
              "   ['owner', 'it', '?', 'around', 'by']]],\n",
              " (90027,\n",
              "  3055): [[['parking',\n",
              "    'thai',\n",
              "    'laab',\n",
              "    'lunch',\n",
              "    'philly',\n",
              "    'kiddies',\n",
              "    'die',\n",
              "    'slower',\n",
              "    'bit',\n",
              "    'extended',\n",
              "    'best',\n",
              "    'rice',\n",
              "    'lao',\n",
              "    'credit',\n",
              "    'restaurants',\n",
              "    'bomb',\n",
              "    'coconut',\n",
              "    'service',\n",
              "    'curry'],\n",
              "   ['side',\n",
              "    'excellent',\n",
              "    'place',\n",
              "    'thai',\n",
              "    'thailand',\n",
              "    'locally',\n",
              "    'india',\n",
              "    'it',\n",
              "    'network',\n",
              "    'so',\n",
              "    'due',\n",
              "    'mouth',\n",
              "    'cute',\n",
              "    'houses',\n",
              "    ';',\n",
              "    'most',\n",
              "    '.',\n",
              "    ',',\n",
              "    'holiday',\n",
              "    'green',\n",
              "    'i',\n",
              "    'tended']]],\n",
              " (90027,\n",
              "  26416): [[['get', 'wrong', 'nye', 'soups', 'sitting'],\n",
              "   ['healthy', 'table', 'wooden', 'drinking', 'selling']]],\n",
              " (12712, 2841): [[['guy', 'window'], ['come', 'not', 'to', '.']]],\n",
              " (12712,\n",
              "  1474): [[['love',\n",
              "    'croissant',\n",
              "    'visitors',\n",
              "    'place',\n",
              "    'make',\n",
              "    'lol',\n",
              "    'food',\n",
              "    'lunch',\n",
              "    'enjoy',\n",
              "    'philly',\n",
              "    'get',\n",
              "    'mouthgasm',\n",
              "    'ginormous',\n",
              "    'imaginable',\n",
              "    'chance',\n",
              "    'around',\n",
              "    'come',\n",
              "    'sampling',\n",
              "    'fresh',\n",
              "    'produce',\n",
              "    'check',\n",
              "    'people',\n",
              "    'epic',\n",
              "    'fancy',\n",
              "    'market',\n",
              "    'amish',\n",
              "    'even',\n",
              "    'coffee',\n",
              "    'like',\n",
              "    'pork'],\n",
              "   ['|',\n",
              "    'see',\n",
              "    'city',\n",
              "    'variety',\n",
              "    'cops',\n",
              "    'themed',\n",
              "    'money',\n",
              "    'frequently',\n",
              "    'unfit',\n",
              "    'food',\n",
              "    'we',\n",
              "    'philly',\n",
              "    'face',\n",
              "    'get',\n",
              "    '-',\n",
              "    'another',\n",
              "    'open',\n",
              "    'no',\n",
              "    'heaven',\n",
              "    'a',\n",
              "    'anywhere',\n",
              "    'ready',\n",
              "    '.',\n",
              "    'this',\n",
              "    'bar',\n",
              "    ',',\n",
              "    'vegetables',\n",
              "    'park',\n",
              "    'favourite',\n",
              "    'involves',\n",
              "    'where',\n",
              "    'and',\n",
              "    'el',\n",
              "    '?',\n",
              "    'good',\n",
              "    'sandwich']]],\n",
              " (12712, 24283): [[['rite', 'avoid', 'lines'], ['no', 'bad', 'the']]],\n",
              " (12712, 7065): [[['happens'], ['bread']]],\n",
              " (1120,\n",
              "  427): [[['state',\n",
              "    'soooo',\n",
              "    'discovered',\n",
              "    'wait',\n",
              "    'visiting',\n",
              "    'nashville',\n",
              "    'never',\n",
              "    'jenni',\n",
              "    'absolutely',\n",
              "    'addict',\n",
              "    'mmmm',\n",
              "    'something',\n",
              "    'dinner',\n",
              "    'water',\n",
              "    'game',\n",
              "    'grand',\n",
              "    'much',\n",
              "    'trip',\n",
              "    'away',\n",
              "    'meet',\n",
              "    'reason',\n",
              "    'mouth',\n",
              "    'seasonal',\n",
              "    'bangkok',\n",
              "    'pop',\n",
              "    'ohio',\n",
              "    'tampa',\n",
              "    'choose',\n",
              "    'buckeye',\n",
              "    'area',\n",
              "    'jeni',\n",
              "    'first',\n",
              "    'scare',\n",
              "    'brand',\n",
              "    'pumpkin',\n",
              "    'world',\n",
              "    'opening',\n",
              "    'try',\n",
              "    'columbus',\n",
              "    'chocolate',\n",
              "    'anniversary',\n",
              "    'deciding',\n",
              "    'time',\n",
              "    'find',\n",
              "    'met',\n",
              "    'trouble'],\n",
              "   [':',\n",
              "    'be',\n",
              "    'post',\n",
              "    'american',\n",
              "    'drink',\n",
              "    'hard',\n",
              "    'local',\n",
              "    '!',\n",
              "    '-',\n",
              "    'another',\n",
              "    'milk',\n",
              "    'worth',\n",
              "    'smell',\n",
              "    'cream',\n",
              "    'mexico',\n",
              "    'sweet',\n",
              "    'ice',\n",
              "    ';',\n",
              "    'best',\n",
              "    'left',\n",
              "    'cooked',\n",
              "    'magic',\n",
              "    '.',\n",
              "    'this',\n",
              "    'the',\n",
              "    ',',\n",
              "    'covered',\n",
              "    'down',\n",
              "    'kitchen',\n",
              "    'nice',\n",
              "    'chocolate',\n",
              "    'and',\n",
              "    'call',\n",
              "    'additional',\n",
              "    '?',\n",
              "    'of',\n",
              "    'whip',\n",
              "    'with',\n",
              "    'peanut']]],\n",
              " (1120,\n",
              "  12837): [[['japanese',\n",
              "    'restaurant',\n",
              "    'double',\n",
              "    'fork',\n",
              "    'trying',\n",
              "    'bangkok',\n",
              "    'sauce',\n",
              "    'really',\n",
              "    'menu',\n",
              "    'cold',\n",
              "    'kraft',\n",
              "    'greeted',\n",
              "    'spring',\n",
              "    'curry'],\n",
              "   ['sexy',\n",
              "    'season',\n",
              "    'any',\n",
              "    'beef',\n",
              "    'stuff',\n",
              "    'areas',\n",
              "    'japanese',\n",
              "    'chicken',\n",
              "    'every',\n",
              "    '!',\n",
              "    'cheese',\n",
              "    'in',\n",
              "    'noodles',\n",
              "    ';',\n",
              "    'britain',\n",
              "    'equal',\n",
              "    'rosa',\n",
              "    '.',\n",
              "    'skip',\n",
              "    'beans',\n",
              "    ',',\n",
              "    'dust',\n",
              "    'tastes',\n",
              "    'work',\n",
              "    'brother']]],\n",
              " (1120,\n",
              "  1321): [[['southern',\n",
              "    'saturdays',\n",
              "    'best',\n",
              "    'hills',\n",
              "    'locations',\n",
              "    'rules',\n",
              "    'bar',\n",
              "    'guys',\n",
              "    'today',\n",
              "    'wonderful',\n",
              "    'awesome'],\n",
              "   ['noon',\n",
              "    'was',\n",
              "    'any',\n",
              "    'village',\n",
              "    ';',\n",
              "    'did',\n",
              "    'also',\n",
              "    'sausage',\n",
              "    'like',\n",
              "    'get',\n",
              "    '.',\n",
              "    'to',\n",
              "    'eat',\n",
              "    'little']]],\n",
              " (1097,\n",
              "  5224): [[['opening', 'staff', 'option', 'app', 'available'],\n",
              "   ['excellent', 'place', 'darren', 'community', '?']]],\n",
              " (1097,\n",
              "  834): [[['photo',\n",
              "    'wine',\n",
              "    'cheers',\n",
              "    'cider',\n",
              "    'blue',\n",
              "    'slightly',\n",
              "    'awesome',\n",
              "    'great',\n",
              "    'beer',\n",
              "    'glass',\n",
              "    'fruit',\n",
              "    'jordan',\n",
              "    'cocktails',\n",
              "    'fresh',\n",
              "    'indy',\n",
              "    'people',\n",
              "    'cherry',\n",
              "    'cocktail',\n",
              "    'velvet',\n",
              "    'washington',\n",
              "    'first',\n",
              "    'new',\n",
              "    'experience',\n",
              "    'mead',\n",
              "    'lost'],\n",
              "   ['tickets',\n",
              "    'saying',\n",
              "    '|',\n",
              "    'was',\n",
              "    'blue',\n",
              "    'awesome',\n",
              "    '!',\n",
              "    'art',\n",
              "    '-',\n",
              "    'you',\n",
              "    'little',\n",
              "    'a',\n",
              "    'sweet',\n",
              "    ';',\n",
              "    '.',\n",
              "    'are',\n",
              "    'the',\n",
              "    ',',\n",
              "    'do',\n",
              "    'new',\n",
              "    'our',\n",
              "    'nice',\n",
              "    '?',\n",
              "    'figure']]],\n",
              " (5526,\n",
              "  4958): [[['parking',\n",
              "    'order',\n",
              "    'rice',\n",
              "    'online',\n",
              "    'granlund',\n",
              "    'try',\n",
              "    'mobile',\n",
              "    'outdoor',\n",
              "    'finally',\n",
              "    'app',\n",
              "    'gate',\n",
              "    'park',\n",
              "    'lot'],\n",
              "   ['|',\n",
              "    'over',\n",
              "    'our',\n",
              "    'nice',\n",
              "    'it',\n",
              "    'also',\n",
              "    ';',\n",
              "    'chipotle',\n",
              "    '?',\n",
              "    'way',\n",
              "    ',',\n",
              "    'good',\n",
              "    'hearing',\n",
              "    'stay',\n",
              "    'candies']]],\n",
              " (5526,\n",
              "  571): [[['casual',\n",
              "    'cheers',\n",
              "    'rule',\n",
              "    'black',\n",
              "    'sausage',\n",
              "    'cooking',\n",
              "    'menu',\n",
              "    'list',\n",
              "    'tonight',\n",
              "    'truly',\n",
              "    'dinner',\n",
              "    'lunch',\n",
              "    'curated',\n",
              "    'night',\n",
              "    'pre',\n",
              "    'great',\n",
              "    'restaurant',\n",
              "    'ale',\n",
              "    'crowded',\n",
              "    'options',\n",
              "    'afternoon',\n",
              "    'share',\n",
              "    'posted',\n",
              "    'zickgraf',\n",
              "    'tap',\n",
              "    'garlic',\n",
              "    'ipa',\n",
              "    'amazing',\n",
              "    'selection',\n",
              "    'ditch',\n",
              "    'fries',\n",
              "    'affordable',\n",
              "    'aioli',\n",
              "    'rye',\n",
              "    'indy',\n",
              "    'ruben',\n",
              "    'burger',\n",
              "    'might',\n",
              "    'porter',\n",
              "    'brussel',\n",
              "    'bells',\n",
              "    'barnyard',\n",
              "    'resin',\n",
              "    'brugge',\n",
              "    'french',\n",
              "    'scene',\n",
              "    'bavarian',\n",
              "    'kalamazoo',\n",
              "    'amber',\n",
              "    'pork',\n",
              "    'grub'],\n",
              "   [':',\n",
              "    '|',\n",
              "    'was',\n",
              "    'excellent',\n",
              "    'wrath',\n",
              "    'takeover',\n",
              "    'their',\n",
              "    'not',\n",
              "    'pale',\n",
              "    'to',\n",
              "    'three',\n",
              "    'low',\n",
              "    'make',\n",
              "    'many',\n",
              "    'awesome',\n",
              "    'dinners',\n",
              "    '20th',\n",
              "    'television',\n",
              "    '!',\n",
              "    'cheese',\n",
              "    'beer',\n",
              "    'sipped',\n",
              "    'so',\n",
              "    'differnt',\n",
              "    'up',\n",
              "    'you',\n",
              "    'shut',\n",
              "    'for',\n",
              "    'closed',\n",
              "    ';',\n",
              "    'must',\n",
              "    'best',\n",
              "    'meal',\n",
              "    'people',\n",
              "    '.',\n",
              "    'the',\n",
              "    'or',\n",
              "    'burger',\n",
              "    ',',\n",
              "    'right',\n",
              "    'summer',\n",
              "    'craft',\n",
              "    'trips',\n",
              "    'market',\n",
              "    'fly',\n",
              "    'and',\n",
              "    '?',\n",
              "    'strength',\n",
              "    'detroit']]],\n",
              " (5526, 12113): [[[], []]]}"
            ]
          },
          "metadata": {},
          "execution_count": 97
        }
      ]
    },
    {
      "cell_type": "markdown",
      "metadata": {
        "id": "IlvGrOE7lSpk"
      },
      "source": [
        "lr: 0.5    temp: 1.4    l1_b: 2.0 cs: 10.0\n",
        "\n",
        "100%|██████████| 200/200 [2:37:11<00:00, 47.16s/it] \n",
        "\n",
        "ave num:  12.73656618610747 no_exp_count:  237 exp_count:  763\n",
        "user's perspective:\n",
        "ave pre:  0.06542674154676258   ave rec:  0.04574986471781075   ave f1:  0.04060025430478858\n",
        "model's perspective:\n",
        "ave PN:  0.6513761467889908   ave PS:  0.9108781127129751   ave F_{NS}:  0.7595745335878332\n"
      ]
    },
    {
      "cell_type": "markdown",
      "metadata": {
        "id": "4ww1elIBvrVk"
      },
      "source": [
        "lr: 0.5    temp: 1.4    l1_b: 2.0 cs: 10.0\n",
        "\n",
        "100%|██████████| 200/200 [2:31:14<00:00, 45.37s/it]\n",
        "\n",
        "ave num:  12.801756587202007 no_exp_count:  203 exp_count:  797\n",
        "user's perspective:\n",
        "ave pre:  0.07273435096275331   ave rec:  0.0448605054045677   ave f1:  0.039685455756249474\n",
        "model's perspective:\n",
        "ave PN:  0.6813048933500627   ave PS:  0.8833124215809285   ave F_{NS}:  0.769268075250111\n"
      ]
    },
    {
      "cell_type": "markdown",
      "metadata": {
        "id": "-E7OLqtTvqNc"
      },
      "source": [
        "# New Section"
      ]
    },
    {
      "cell_type": "markdown",
      "metadata": {
        "id": "G8RUTsUfsvRV"
      },
      "source": [
        "lr: 0.7    temp: 1.2    l1_b: 2.0 cs: 10.0\n",
        "\n",
        "100%|██████████| 160/160 [1:58:38<00:00, 44.49s/it]\n",
        "\n",
        "ave num:  11.4508547008547 no_exp_count:  332 exp_count:  468\n",
        "user's perspective:\n",
        "ave pre:  0.09528669307967574   ave rec:  0.04494932370462986   ave f1:  0.04668845323830457\n",
        "model's perspective:\n",
        "ave PN:  0.7799145299145299   ave PS:  0.9209401709401709   ave F_{NS}:  0.8445808100330713\n"
      ]
    },
    {
      "cell_type": "markdown",
      "metadata": {
        "id": "Yv17Nk7v90tC"
      },
      "source": [
        "lr: 0.7    temp: 1.2    l1_b: 2.0 cs: 10.0\n",
        "\n",
        "100%|██████████| 130/130 [1:12:46<00:00, 33.59s/it]\n",
        "\n",
        "ave num:  13.377659574468085 no_exp_count:  274 exp_count:  376\n",
        "user's perspective:\n",
        "ave pre:  0.06692572301548495   ave rec:  0.04813532637790303   ave f1:  0.04328188431893596\n",
        "model's perspective:\n",
        "ave PN:  0.7632978723404256   ave PS:  0.9361702127659575   ave F_{NS}:  0.8409416308727067\n"
      ]
    },
    {
      "cell_type": "markdown",
      "metadata": {
        "id": "ICtRrmrqhHZl"
      },
      "source": [
        "lr: 0.7    temp: 1.2    l1_b: 2.0 cs: 10.0\n",
        "\n",
        "100%|██████████| 200/200 [3:31:55<00:00, 63.58s/it]\n",
        "\n",
        "ave num:  11.532663316582914 no_exp_count:  403 exp_count:  597\n",
        "user's perspective:\n",
        "ave pre:  0.08450514386828445   ave rec:  0.03730606773452507   ave f1:  0.04369822320577645\n",
        "model's perspective:\n",
        "ave PN:  0.7671691792294807   ave PS:  0.9028475711892797   ave F_{NS}:  0.8294968658068006\n"
      ]
    },
    {
      "cell_type": "markdown",
      "metadata": {
        "id": "Nbj0KMkxm-f8"
      },
      "source": [
        "\n",
        "lr: 0.7    temp: 1.2    l1_b: 2.0 cs: 10.0\n",
        "\n",
        "100%|██████████| 100/100 [1:03:43<00:00, 38.23s/it] \n",
        "\n",
        "ave num:  10.17056856187291 no_exp_count:  201 exp_count:  299\n",
        "user's perspective:\n",
        "ave pre:  0.08266659270360377   ave rec:  0.03907212233116995   ave f1:  0.042609951271159775\n",
        "model's perspective:\n",
        "ave PN:  0.7491638795986622   ave PS:  0.9498327759197325   ave F_{NS}:  0.8376478023859059\n"
      ]
    },
    {
      "cell_type": "markdown",
      "metadata": {
        "id": "U8hXhpAXTL72"
      },
      "source": [
        "lr: 0.7    temp: 1.2    l1_b: 2.0 cs: 10.0\n",
        "\n",
        "100%|██████████| 100/100 [1:29:37<00:00, 53.78s/it]\n",
        "\n",
        "ave num:  10.40484429065744 no_exp_count:  211 exp_count:  289\n",
        "user's perspective:\n",
        "ave pre:  0.054272136011683   ave rec:  0.04006411950225267   ave f1:  0.03439557575234619\n",
        "model's perspective:\n",
        "ave PN:  0.7162629757785467   ave PS:  0.9307958477508651   ave F_{NS}:  0.8095577331278532\n"
      ]
    },
    {
      "cell_type": "markdown",
      "metadata": {
        "id": "3prna73mvT-D"
      },
      "source": [
        "lr: 0.7    temp: 1.2    l1_b: 2.0 cs: 10.0\n",
        "\n",
        "100%|██████████| 200/200 [2:31:08<00:00, 45.34s/it]\n",
        "\n",
        "ave num:  11.47444089456869 no_exp_count:  374 exp_count:  626\n",
        "user's perspective:\n",
        "ave pre:  0.073860877582081   ave rec:  0.03676897238619055   ave f1:  0.03876999960564884\n",
        "model's perspective:\n",
        "ave PN:  0.7651757188498403   ave PS:  0.8993610223642172   ave F_{NS}:  0.8268597499279464\n"
      ]
    },
    {
      "cell_type": "code",
      "execution_count": null,
      "metadata": {
        "colab": {
          "base_uri": "https://localhost:8080/",
          "height": 35
        },
        "id": "497jotT0jLDQ",
        "outputId": "d0ae2215-304e-482e-9d6b-8235b3f04506"
      },
      "outputs": [
        {
          "data": {
            "application/vnd.google.colaboratory.intrinsic+json": {
              "type": "string"
            },
            "text/plain": [
              "'WkcmS4_R6iCUdxuNEEcM-Q'"
            ]
          },
          "execution_count": 159,
          "metadata": {},
          "output_type": "execute_result"
        }
      ],
      "source": [
        "rec_dataset.inv_item_name_dict[29792]"
      ]
    },
    {
      "cell_type": "code",
      "execution_count": null,
      "metadata": {
        "colab": {
          "base_uri": "https://localhost:8080/",
          "height": 35
        },
        "id": "hMNiNGVcjef0",
        "outputId": "17d7b653-15b7-4949-a1ea-cbe8ccc01aaa"
      },
      "outputs": [
        {
          "data": {
            "application/vnd.google.colaboratory.intrinsic+json": {
              "type": "string"
            },
            "text/plain": [
              "'EuopqHg-cCgb0MjbIRCWJQ'"
            ]
          },
          "execution_count": 160,
          "metadata": {},
          "output_type": "execute_result"
        }
      ],
      "source": [
        "rec_dataset.inv_user_name_dict[3468]"
      ]
    },
    {
      "cell_type": "code",
      "execution_count": null,
      "metadata": {
        "colab": {
          "base_uri": "https://localhost:8080/",
          "height": 191
        },
        "id": "beV1zWiT0mcF",
        "outputId": "05e34026-a4e7-44c3-8b0d-274e75b1df2f"
      },
      "outputs": [
        {
          "data": {
            "text/html": [
              "\n",
              "  <div id=\"df-0dffb6d1-0d84-4039-a6f9-301c5422ca00\">\n",
              "    <div class=\"colab-df-container\">\n",
              "      <div>\n",
              "<style scoped>\n",
              "    .dataframe tbody tr th:only-of-type {\n",
              "        vertical-align: middle;\n",
              "    }\n",
              "\n",
              "    .dataframe tbody tr th {\n",
              "        vertical-align: top;\n",
              "    }\n",
              "\n",
              "    .dataframe thead th {\n",
              "        text-align: right;\n",
              "    }\n",
              "</style>\n",
              "<table border=\"1\" class=\"dataframe\">\n",
              "  <thead>\n",
              "    <tr style=\"text-align: right;\">\n",
              "      <th></th>\n",
              "      <th>business_id</th>\n",
              "      <th>latitude</th>\n",
              "      <th>longitude</th>\n",
              "      <th>extensions</th>\n",
              "      <th>tesday</th>\n",
              "      <th>karaoke</th>\n",
              "      <th>crly</th>\n",
              "      <th>BusinessParking</th>\n",
              "      <th>GoodForKids</th>\n",
              "      <th>soy-free</th>\n",
              "      <th>...</th>\n",
              "      <th>Sunday-14</th>\n",
              "      <th>Sunday-15</th>\n",
              "      <th>Sunday-16</th>\n",
              "      <th>Sunday-17</th>\n",
              "      <th>Sunday-18</th>\n",
              "      <th>Sunday-19</th>\n",
              "      <th>Sunday-20</th>\n",
              "      <th>Sunday-21</th>\n",
              "      <th>Sunday-22</th>\n",
              "      <th>Sunday-23</th>\n",
              "    </tr>\n",
              "  </thead>\n",
              "  <tbody>\n",
              "    <tr>\n",
              "      <th>5073</th>\n",
              "      <td>cXSyVvOr9YRN9diDkaWs0Q</td>\n",
              "      <td>0.617278</td>\n",
              "      <td>0.962269</td>\n",
              "      <td>-0.016158</td>\n",
              "      <td>0.199551</td>\n",
              "      <td>0.265498</td>\n",
              "      <td>-0.038524</td>\n",
              "      <td>0.0</td>\n",
              "      <td>1.081264</td>\n",
              "      <td>0.01214</td>\n",
              "      <td>...</td>\n",
              "      <td>0.682789</td>\n",
              "      <td>-1.406415</td>\n",
              "      <td>-1.366261</td>\n",
              "      <td>-1.203323</td>\n",
              "      <td>-1.045674</td>\n",
              "      <td>-0.964793</td>\n",
              "      <td>-0.837287</td>\n",
              "      <td>-0.638478</td>\n",
              "      <td>-0.45292</td>\n",
              "      <td>-0.386191</td>\n",
              "    </tr>\n",
              "  </tbody>\n",
              "</table>\n",
              "<p>1 rows × 258 columns</p>\n",
              "</div>\n",
              "      <button class=\"colab-df-convert\" onclick=\"convertToInteractive('df-0dffb6d1-0d84-4039-a6f9-301c5422ca00')\"\n",
              "              title=\"Convert this dataframe to an interactive table.\"\n",
              "              style=\"display:none;\">\n",
              "        \n",
              "  <svg xmlns=\"http://www.w3.org/2000/svg\" height=\"24px\"viewBox=\"0 0 24 24\"\n",
              "       width=\"24px\">\n",
              "    <path d=\"M0 0h24v24H0V0z\" fill=\"none\"/>\n",
              "    <path d=\"M18.56 5.44l.94 2.06.94-2.06 2.06-.94-2.06-.94-.94-2.06-.94 2.06-2.06.94zm-11 1L8.5 8.5l.94-2.06 2.06-.94-2.06-.94L8.5 2.5l-.94 2.06-2.06.94zm10 10l.94 2.06.94-2.06 2.06-.94-2.06-.94-.94-2.06-.94 2.06-2.06.94z\"/><path d=\"M17.41 7.96l-1.37-1.37c-.4-.4-.92-.59-1.43-.59-.52 0-1.04.2-1.43.59L10.3 9.45l-7.72 7.72c-.78.78-.78 2.05 0 2.83L4 21.41c.39.39.9.59 1.41.59.51 0 1.02-.2 1.41-.59l7.78-7.78 2.81-2.81c.8-.78.8-2.07 0-2.86zM5.41 20L4 18.59l7.72-7.72 1.47 1.35L5.41 20z\"/>\n",
              "  </svg>\n",
              "      </button>\n",
              "      \n",
              "  <style>\n",
              "    .colab-df-container {\n",
              "      display:flex;\n",
              "      flex-wrap:wrap;\n",
              "      gap: 12px;\n",
              "    }\n",
              "\n",
              "    .colab-df-convert {\n",
              "      background-color: #E8F0FE;\n",
              "      border: none;\n",
              "      border-radius: 50%;\n",
              "      cursor: pointer;\n",
              "      display: none;\n",
              "      fill: #1967D2;\n",
              "      height: 32px;\n",
              "      padding: 0 0 0 0;\n",
              "      width: 32px;\n",
              "    }\n",
              "\n",
              "    .colab-df-convert:hover {\n",
              "      background-color: #E2EBFA;\n",
              "      box-shadow: 0px 1px 2px rgba(60, 64, 67, 0.3), 0px 1px 3px 1px rgba(60, 64, 67, 0.15);\n",
              "      fill: #174EA6;\n",
              "    }\n",
              "\n",
              "    [theme=dark] .colab-df-convert {\n",
              "      background-color: #3B4455;\n",
              "      fill: #D2E3FC;\n",
              "    }\n",
              "\n",
              "    [theme=dark] .colab-df-convert:hover {\n",
              "      background-color: #434B5C;\n",
              "      box-shadow: 0px 1px 3px 1px rgba(0, 0, 0, 0.15);\n",
              "      filter: drop-shadow(0px 1px 2px rgba(0, 0, 0, 0.3));\n",
              "      fill: #FFFFFF;\n",
              "    }\n",
              "  </style>\n",
              "\n",
              "      <script>\n",
              "        const buttonEl =\n",
              "          document.querySelector('#df-0dffb6d1-0d84-4039-a6f9-301c5422ca00 button.colab-df-convert');\n",
              "        buttonEl.style.display =\n",
              "          google.colab.kernel.accessAllowed ? 'block' : 'none';\n",
              "\n",
              "        async function convertToInteractive(key) {\n",
              "          const element = document.querySelector('#df-0dffb6d1-0d84-4039-a6f9-301c5422ca00');\n",
              "          const dataTable =\n",
              "            await google.colab.kernel.invokeFunction('convertToInteractive',\n",
              "                                                     [key], {});\n",
              "          if (!dataTable) return;\n",
              "\n",
              "          const docLinkHtml = 'Like what you see? Visit the ' +\n",
              "            '<a target=\"_blank\" href=https://colab.research.google.com/notebooks/data_table.ipynb>data table notebook</a>'\n",
              "            + ' to learn more about interactive tables.';\n",
              "          element.innerHTML = '';\n",
              "          dataTable['output_type'] = 'display_data';\n",
              "          await google.colab.output.renderOutput(dataTable, element);\n",
              "          const docLink = document.createElement('div');\n",
              "          docLink.innerHTML = docLinkHtml;\n",
              "          element.appendChild(docLink);\n",
              "        }\n",
              "      </script>\n",
              "    </div>\n",
              "  </div>\n",
              "  "
            ],
            "text/plain": [
              "                 business_id  latitude  longitude  extensions    tesday  \\\n",
              "5073  cXSyVvOr9YRN9diDkaWs0Q  0.617278   0.962269   -0.016158  0.199551   \n",
              "\n",
              "       karaoke      crly  BusinessParking  GoodForKids  soy-free  ...  \\\n",
              "5073  0.265498 -0.038524              0.0     1.081264   0.01214  ...   \n",
              "\n",
              "      Sunday-14  Sunday-15  Sunday-16  Sunday-17  Sunday-18  Sunday-19  \\\n",
              "5073   0.682789  -1.406415  -1.366261  -1.203323  -1.045674  -0.964793   \n",
              "\n",
              "      Sunday-20  Sunday-21  Sunday-22  Sunday-23  \n",
              "5073  -0.837287  -0.638478   -0.45292  -0.386191  \n",
              "\n",
              "[1 rows x 258 columns]"
            ]
          },
          "execution_count": 146,
          "metadata": {},
          "output_type": "execute_result"
        }
      ],
      "source": [
        "scaled_features[scaled_features['business_id']=='cXSyVvOr9YRN9diDkaWs0Q']"
      ]
    },
    {
      "cell_type": "code",
      "execution_count": null,
      "metadata": {
        "colab": {
          "base_uri": "https://localhost:8080/"
        },
        "id": "tpvmvsuu0wnS",
        "outputId": "a5039612-e32b-4547-80a7-81c363be59c0"
      },
      "outputs": [
        {
          "data": {
            "text/plain": [
              "87"
            ]
          },
          "execution_count": 147,
          "metadata": {},
          "output_type": "execute_result"
        }
      ],
      "source": [
        "rec_dataset.item_name_dict['cXSyVvOr9YRN9diDkaWs0Q']"
      ]
    },
    {
      "cell_type": "code",
      "execution_count": null,
      "metadata": {
        "colab": {
          "base_uri": "https://localhost:8080/"
        },
        "id": "qgOJ5o_spPDs",
        "outputId": "e7d6c12e-7bbd-47a7-fa2e-d097951d9cd2"
      },
      "outputs": [
        {
          "data": {
            "text/plain": [
              "10.813683527586809"
            ]
          },
          "execution_count": 99,
          "metadata": {},
          "output_type": "execute_result"
        }
      ],
      "source": [
        "scaled_features['extensions'].max()"
      ]
    },
    {
      "cell_type": "code",
      "execution_count": null,
      "metadata": {
        "colab": {
          "base_uri": "https://localhost:8080/"
        },
        "id": "BfIfoZ208Js2",
        "outputId": "34f404d6-81e8-4ed2-f6e1-5e76da992edd"
      },
      "outputs": [
        {
          "data": {
            "text/plain": [
              "[54.923122700510184, -54.91502985278389, 0.004046423863150696]"
            ]
          },
          "execution_count": 272,
          "metadata": {},
          "output_type": "execute_result"
        }
      ],
      "source": [
        "list(set(scaled_features.iloc[:,90].values))"
      ]
    },
    {
      "cell_type": "code",
      "execution_count": null,
      "metadata": {
        "colab": {
          "base_uri": "https://localhost:8080/"
        },
        "id": "Oj-L-ZGYz8oS",
        "outputId": "737e7cc4-e166-44b4-aa63-5b189cf6f1c0"
      },
      "outputs": [
        {
          "data": {
            "text/plain": [
              "1130440"
            ]
          },
          "execution_count": 120,
          "metadata": {},
          "output_type": "execute_result"
        }
      ],
      "source": [
        "len(user_test_perspective.keys())"
      ]
    },
    {
      "cell_type": "markdown",
      "source": [
        "# Calculate Stabillity ..."
      ],
      "metadata": {
        "id": "nPd372dAGLcU"
      }
    },
    {
      "cell_type": "code",
      "source": [
        "def generate_explanation_check_stability():\n",
        "    if gpu:\n",
        "        device = torch.device('cuda:%s' %cuda)\n",
        "    else:\n",
        "        device = 'cpu'\n",
        "    print(device)\n",
        "    \n",
        "    base_model = BaseRecModel(768).to(device)\n",
        "    base_model.load_state_dict(torch.load(os.path.join(save_path2,\"modelOnlyTips.model\"),map_location=torch.device(device)))\n",
        "    base_model.eval()\n",
        "    #  fix the rec model\n",
        "    for param in base_model.parameters():\n",
        "        param.requires_grad = False\n",
        "    \n",
        "    a=100.0\n",
        "    lr=0.5\n",
        "    temp=1.4\n",
        "    b=2.0\n",
        "    c=10.0\n",
        "    features_found=[]\n",
        "    for i in range(10):\n",
        "      opt_model = ExpOptimizationModel(\n",
        "        base_model=base_model,\n",
        "        rec_dataset=rec_dataset,\n",
        "        device = device,)\n",
        "      opt_model.generate_explanation(lr,temp,a,b,c)\n",
        "      features_found.append(opt_model.u_i_exp_dict)\n",
        "      \n",
        "    \n",
        "    return features_found\n",
        "\n",
        "\n",
        "if __name__ == \"__main__\":\n",
        "    features_found=generate_explanation_check_stability()"
      ],
      "metadata": {
        "colab": {
          "base_uri": "https://localhost:8080/"
        },
        "id": "Jw3vT7lYtMMH",
        "outputId": "21c0aedd-953e-4db9-c8ea-6ef13f0e2fff"
      },
      "execution_count": null,
      "outputs": [
        {
          "output_type": "stream",
          "name": "stdout",
          "text": [
            "cuda:0\n"
          ]
        },
        {
          "output_type": "stream",
          "name": "stderr",
          "text": [
            "100%|██████████| 10/10 [03:31<00:00, 21.19s/it]\n"
          ]
        },
        {
          "output_type": "stream",
          "name": "stdout",
          "text": [
            "ave num:  14.378378378378379 no_exp_count:  13 exp_count:  37\n"
          ]
        },
        {
          "output_type": "stream",
          "name": "stderr",
          "text": [
            "100%|██████████| 10/10 [02:28<00:00, 14.87s/it]\n"
          ]
        },
        {
          "output_type": "stream",
          "name": "stdout",
          "text": [
            "ave num:  14.868421052631579 no_exp_count:  12 exp_count:  38\n"
          ]
        },
        {
          "output_type": "stream",
          "name": "stderr",
          "text": [
            "100%|██████████| 10/10 [02:28<00:00, 14.83s/it]\n"
          ]
        },
        {
          "output_type": "stream",
          "name": "stdout",
          "text": [
            "ave num:  14.256410256410257 no_exp_count:  11 exp_count:  39\n"
          ]
        },
        {
          "output_type": "stream",
          "name": "stderr",
          "text": [
            "100%|██████████| 10/10 [02:27<00:00, 14.76s/it]\n"
          ]
        },
        {
          "output_type": "stream",
          "name": "stdout",
          "text": [
            "ave num:  14.256410256410257 no_exp_count:  11 exp_count:  39\n"
          ]
        },
        {
          "output_type": "stream",
          "name": "stderr",
          "text": [
            "100%|██████████| 10/10 [02:28<00:00, 14.81s/it]\n"
          ]
        },
        {
          "output_type": "stream",
          "name": "stdout",
          "text": [
            "ave num:  14.41025641025641 no_exp_count:  11 exp_count:  39\n"
          ]
        },
        {
          "output_type": "stream",
          "name": "stderr",
          "text": [
            "100%|██████████| 10/10 [02:27<00:00, 14.78s/it]\n"
          ]
        },
        {
          "output_type": "stream",
          "name": "stdout",
          "text": [
            "ave num:  14.394736842105264 no_exp_count:  12 exp_count:  38\n"
          ]
        },
        {
          "output_type": "stream",
          "name": "stderr",
          "text": [
            "100%|██████████| 10/10 [02:27<00:00, 14.77s/it]\n"
          ]
        },
        {
          "output_type": "stream",
          "name": "stdout",
          "text": [
            "ave num:  15.68421052631579 no_exp_count:  12 exp_count:  38\n"
          ]
        },
        {
          "output_type": "stream",
          "name": "stderr",
          "text": [
            "100%|██████████| 10/10 [02:26<00:00, 14.65s/it]\n"
          ]
        },
        {
          "output_type": "stream",
          "name": "stdout",
          "text": [
            "ave num:  14.131578947368421 no_exp_count:  12 exp_count:  38\n"
          ]
        },
        {
          "output_type": "stream",
          "name": "stderr",
          "text": [
            "100%|██████████| 10/10 [02:26<00:00, 14.64s/it]\n"
          ]
        },
        {
          "output_type": "stream",
          "name": "stdout",
          "text": [
            "ave num:  14.68421052631579 no_exp_count:  12 exp_count:  38\n"
          ]
        },
        {
          "output_type": "stream",
          "name": "stderr",
          "text": [
            "100%|██████████| 10/10 [02:29<00:00, 14.96s/it]"
          ]
        },
        {
          "output_type": "stream",
          "name": "stdout",
          "text": [
            "ave num:  14.157894736842104 no_exp_count:  12 exp_count:  38\n"
          ]
        },
        {
          "output_type": "stream",
          "name": "stderr",
          "text": [
            "\n"
          ]
        }
      ]
    },
    {
      "cell_type": "code",
      "source": [
        "dict_features={}\n",
        "for iter_feas in features_found:\n",
        "  for u_i in iter_feas.keys():\n",
        "    # feas=list(iter_feas[u_i][0][0].columns)\n",
        "    feas=iter_feas[u_i][0][0]\n",
        "    # print(iter_feas[u_i][0][0])\n",
        "    if u_i in dict_features.keys():\n",
        "      dict_features[u_i].append(feas)\n",
        "    else:\n",
        "      dict_features[u_i]=[]\n",
        "      dict_features[u_i].append(feas)"
      ],
      "metadata": {
        "id": "nHcOCida1oXF"
      },
      "execution_count": null,
      "outputs": []
    },
    {
      "cell_type": "code",
      "source": [
        "dict_features"
      ],
      "metadata": {
        "id": "3J-zJC-yNKVh",
        "outputId": "f7f77117-492f-4f2b-820c-373790f3582c",
        "colab": {
          "base_uri": "https://localhost:8080/"
        }
      },
      "execution_count": null,
      "outputs": [
        {
          "output_type": "execute_result",
          "data": {
            "text/plain": [
              "{(1717,\n",
              "  3027): [['also',\n",
              "   'need',\n",
              "   'printers',\n",
              "   'old',\n",
              "   'items',\n",
              "   'away',\n",
              "   'bin',\n",
              "   'donate'], ['also',\n",
              "   'need',\n",
              "   'printers',\n",
              "   'old',\n",
              "   'items',\n",
              "   'away',\n",
              "   'bin',\n",
              "   'donate'], ['also',\n",
              "   'need',\n",
              "   'printers',\n",
              "   'old',\n",
              "   'items',\n",
              "   'away',\n",
              "   'bin',\n",
              "   'donate'], ['also',\n",
              "   'need',\n",
              "   'old',\n",
              "   'items',\n",
              "   'away',\n",
              "   'bin',\n",
              "   'donate'], ['also', 'need', 'old', 'items', 'away', 'bin', 'donate'], ['also',\n",
              "   'need',\n",
              "   'printers',\n",
              "   'old',\n",
              "   'items',\n",
              "   'away',\n",
              "   'bin',\n",
              "   'donate'], ['also',\n",
              "   'need',\n",
              "   'printers',\n",
              "   'old',\n",
              "   'items',\n",
              "   'away',\n",
              "   'bin',\n",
              "   'donate'], ['also',\n",
              "   'need',\n",
              "   'printers',\n",
              "   'old',\n",
              "   'items',\n",
              "   'away',\n",
              "   'bin',\n",
              "   'donate'], ['also',\n",
              "   'need',\n",
              "   'printers',\n",
              "   'old',\n",
              "   'items',\n",
              "   'away',\n",
              "   'bin',\n",
              "   'donate'], ['also', 'need', 'old', 'items', 'away', 'bin', 'donate']],\n",
              " (1717,\n",
              "  8101): [['fantastic',\n",
              "   'great',\n",
              "   'cover',\n",
              "   'hell',\n",
              "   'eclectic',\n",
              "   'credit',\n",
              "   'restroom',\n",
              "   'fun',\n",
              "   'yes',\n",
              "   'transaction',\n",
              "   'upstairs',\n",
              "   'beer',\n",
              "   'bathroom',\n",
              "   'post',\n",
              "   'pineapple',\n",
              "   'hidden',\n",
              "   'reggae',\n",
              "   'atm',\n",
              "   'best',\n",
              "   'live',\n",
              "   'worry',\n",
              "   'frenchman',\n",
              "   'steak',\n",
              "   'another',\n",
              "   'smoke',\n",
              "   'get',\n",
              "   'fee',\n",
              "   'bottle',\n",
              "   'drinks',\n",
              "   'love',\n",
              "   'beat',\n",
              "   'food',\n",
              "   'often',\n",
              "   'band',\n",
              "   'pork'], ['fantastic',\n",
              "   'great',\n",
              "   'cover',\n",
              "   'hell',\n",
              "   'eclectic',\n",
              "   'credit',\n",
              "   'crunk',\n",
              "   'restroom',\n",
              "   'fun',\n",
              "   'yes',\n",
              "   'yeah',\n",
              "   'transaction',\n",
              "   'upstairs',\n",
              "   'beer',\n",
              "   'post',\n",
              "   'even',\n",
              "   'hidden',\n",
              "   'reggae',\n",
              "   'atm',\n",
              "   'ever',\n",
              "   'best',\n",
              "   'live',\n",
              "   'worry',\n",
              "   'frenchman',\n",
              "   'steak',\n",
              "   'another',\n",
              "   'smoke',\n",
              "   'get',\n",
              "   'fee',\n",
              "   'bottle',\n",
              "   'nice',\n",
              "   'drinks',\n",
              "   'love',\n",
              "   'beat',\n",
              "   'food',\n",
              "   'often',\n",
              "   'band',\n",
              "   'pork',\n",
              "   'tamales'], ['fantastic',\n",
              "   'great',\n",
              "   'cover',\n",
              "   'hell',\n",
              "   'eclectic',\n",
              "   'credit',\n",
              "   'crunk',\n",
              "   'restroom',\n",
              "   'fun',\n",
              "   'yes',\n",
              "   'yeah',\n",
              "   'beer',\n",
              "   'bathroom',\n",
              "   'post',\n",
              "   'even',\n",
              "   'pineapple',\n",
              "   'hidden',\n",
              "   'reggae',\n",
              "   'atm',\n",
              "   'ever',\n",
              "   'best',\n",
              "   'live',\n",
              "   'worry',\n",
              "   'frenchman',\n",
              "   'steak',\n",
              "   'another',\n",
              "   'smoke',\n",
              "   'get',\n",
              "   'fee',\n",
              "   'bottle',\n",
              "   'drinks',\n",
              "   'love',\n",
              "   'beat',\n",
              "   'food',\n",
              "   'often',\n",
              "   'band',\n",
              "   'pork',\n",
              "   'tamales'], ['fantastic',\n",
              "   'great',\n",
              "   'hell',\n",
              "   'eclectic',\n",
              "   'credit',\n",
              "   'crunk',\n",
              "   'restroom',\n",
              "   'fun',\n",
              "   'yes',\n",
              "   'transaction',\n",
              "   'upstairs',\n",
              "   'beer',\n",
              "   'bathroom',\n",
              "   'post',\n",
              "   'even',\n",
              "   'pineapple',\n",
              "   'hidden',\n",
              "   'reggae',\n",
              "   'atm',\n",
              "   'lock',\n",
              "   'best',\n",
              "   'live',\n",
              "   'screen',\n",
              "   'frenchman',\n",
              "   'steak',\n",
              "   'another',\n",
              "   'smoke',\n",
              "   'get',\n",
              "   'bottle',\n",
              "   'nice',\n",
              "   'drinks',\n",
              "   'love',\n",
              "   'beat',\n",
              "   'food',\n",
              "   'often',\n",
              "   'band',\n",
              "   'pork',\n",
              "   'tamales'], ['twice',\n",
              "   'great',\n",
              "   'cover',\n",
              "   'hell',\n",
              "   'eclectic',\n",
              "   'credit',\n",
              "   'crunk',\n",
              "   'restroom',\n",
              "   'fun',\n",
              "   'yes',\n",
              "   'yeah',\n",
              "   'transaction',\n",
              "   'upstairs',\n",
              "   'beer',\n",
              "   'bathroom',\n",
              "   'post',\n",
              "   'even',\n",
              "   'pineapple',\n",
              "   'hidden',\n",
              "   'reggae',\n",
              "   'atm',\n",
              "   'ever',\n",
              "   'best',\n",
              "   'live',\n",
              "   'worry',\n",
              "   'frenchman',\n",
              "   'steak',\n",
              "   'another',\n",
              "   'smoke',\n",
              "   'get',\n",
              "   'bottle',\n",
              "   'drinks',\n",
              "   'love',\n",
              "   'beat',\n",
              "   'food',\n",
              "   'often',\n",
              "   'band',\n",
              "   'pork',\n",
              "   'tamales'], ['great',\n",
              "   'hell',\n",
              "   'eclectic',\n",
              "   'credit',\n",
              "   'yeah',\n",
              "   'restroom',\n",
              "   'fun',\n",
              "   'yes',\n",
              "   'beer',\n",
              "   'bathroom',\n",
              "   'post',\n",
              "   'even',\n",
              "   'pineapple',\n",
              "   'hidden',\n",
              "   'reggae',\n",
              "   'atm',\n",
              "   'miss',\n",
              "   'best',\n",
              "   'live',\n",
              "   'worry',\n",
              "   'screen',\n",
              "   'frenchman',\n",
              "   'steak',\n",
              "   'another',\n",
              "   'smoke',\n",
              "   'get',\n",
              "   'bottle',\n",
              "   'nice',\n",
              "   'drinks',\n",
              "   'love',\n",
              "   'beat',\n",
              "   'food',\n",
              "   'often',\n",
              "   'band',\n",
              "   'pork',\n",
              "   'tamales'], ['fantastic',\n",
              "   'great',\n",
              "   'hell',\n",
              "   'eclectic',\n",
              "   'credit',\n",
              "   'crunk',\n",
              "   'restroom',\n",
              "   'fun',\n",
              "   'yes',\n",
              "   'yeah',\n",
              "   'transaction',\n",
              "   'upstairs',\n",
              "   'beer',\n",
              "   'bathroom',\n",
              "   'post',\n",
              "   'even',\n",
              "   'pineapple',\n",
              "   'hidden',\n",
              "   'reggae',\n",
              "   'atm',\n",
              "   'ever',\n",
              "   'best',\n",
              "   'live',\n",
              "   'worry',\n",
              "   'screen',\n",
              "   'frenchman',\n",
              "   'steak',\n",
              "   'another',\n",
              "   'smoke',\n",
              "   'get',\n",
              "   'bottle',\n",
              "   'nice',\n",
              "   'drinks',\n",
              "   'love',\n",
              "   'beat',\n",
              "   'food',\n",
              "   'often',\n",
              "   'band',\n",
              "   'pork',\n",
              "   'tamales'], ['fantastic',\n",
              "   'great',\n",
              "   'hell',\n",
              "   'eclectic',\n",
              "   'good',\n",
              "   'crunk',\n",
              "   'restroom',\n",
              "   'fun',\n",
              "   'yes',\n",
              "   'yeah',\n",
              "   'transaction',\n",
              "   'upstairs',\n",
              "   'bathroom',\n",
              "   'post',\n",
              "   'even',\n",
              "   'pineapple',\n",
              "   'hidden',\n",
              "   'reggae',\n",
              "   'atm',\n",
              "   'ever',\n",
              "   'best',\n",
              "   'live',\n",
              "   'worry',\n",
              "   'frenchman',\n",
              "   'steak',\n",
              "   'another',\n",
              "   'smoke',\n",
              "   'get',\n",
              "   'fee',\n",
              "   'bottle',\n",
              "   'drinks',\n",
              "   'love',\n",
              "   'food',\n",
              "   'often',\n",
              "   'band',\n",
              "   'pork'], ['fantastic',\n",
              "   'great',\n",
              "   'hell',\n",
              "   'eclectic',\n",
              "   'credit',\n",
              "   'crunk',\n",
              "   'restroom',\n",
              "   'fun',\n",
              "   'yes',\n",
              "   'yeah',\n",
              "   'transaction',\n",
              "   'upstairs',\n",
              "   'bathroom',\n",
              "   'post',\n",
              "   'pineapple',\n",
              "   'hidden',\n",
              "   'reggae',\n",
              "   'atm',\n",
              "   'ever',\n",
              "   'best',\n",
              "   'worry',\n",
              "   'frenchman',\n",
              "   'steak',\n",
              "   'smoke',\n",
              "   'get',\n",
              "   'fee',\n",
              "   'bottle',\n",
              "   'drinks',\n",
              "   'love',\n",
              "   'beat',\n",
              "   'food',\n",
              "   'often',\n",
              "   'band',\n",
              "   'pork',\n",
              "   'tamales'], ['fantastic',\n",
              "   'great',\n",
              "   'cover',\n",
              "   'hell',\n",
              "   'eclectic',\n",
              "   'credit',\n",
              "   'crunk',\n",
              "   'restroom',\n",
              "   'fun',\n",
              "   'yes',\n",
              "   'yeah',\n",
              "   'beer',\n",
              "   'bathroom',\n",
              "   'post',\n",
              "   'even',\n",
              "   'pineapple',\n",
              "   'hidden',\n",
              "   'reggae',\n",
              "   'atm',\n",
              "   'ever',\n",
              "   'best',\n",
              "   'live',\n",
              "   'worry',\n",
              "   'frenchman',\n",
              "   'steak',\n",
              "   'another',\n",
              "   'smoke',\n",
              "   'get',\n",
              "   'bottle',\n",
              "   'drinks',\n",
              "   'love',\n",
              "   'beat',\n",
              "   'food',\n",
              "   'pork',\n",
              "   'tamales']],\n",
              " (1717,\n",
              "  18204): [['glass',\n",
              "   'free',\n",
              "   'tasting',\n",
              "   'beer',\n",
              "   'salad',\n",
              "   'even',\n",
              "   'service',\n",
              "   'really',\n",
              "   'tasty',\n",
              "   'glasses',\n",
              "   'wine',\n",
              "   'best'], ['glass',\n",
              "   'free',\n",
              "   'tasting',\n",
              "   'beer',\n",
              "   'salad',\n",
              "   'decent',\n",
              "   'gluten',\n",
              "   'right',\n",
              "   'even',\n",
              "   'make',\n",
              "   'still',\n",
              "   'really',\n",
              "   'new',\n",
              "   'glasses',\n",
              "   'orleans',\n",
              "   'wine',\n",
              "   'tasty',\n",
              "   'best'], ['glass',\n",
              "   'free',\n",
              "   'tasting',\n",
              "   'beer',\n",
              "   'service',\n",
              "   'glasses',\n",
              "   'wine',\n",
              "   'like',\n",
              "   'best'], ['glass',\n",
              "   'free',\n",
              "   'tasting',\n",
              "   'beer',\n",
              "   'salad',\n",
              "   'even',\n",
              "   'glasses',\n",
              "   'wine',\n",
              "   'best'], ['glass',\n",
              "   'average',\n",
              "   'salad',\n",
              "   'beer',\n",
              "   'right',\n",
              "   'even',\n",
              "   'make',\n",
              "   'service',\n",
              "   'really',\n",
              "   'new',\n",
              "   'glasses',\n",
              "   'tasty',\n",
              "   'wine',\n",
              "   'best'], ['glass',\n",
              "   'salad',\n",
              "   'tasting',\n",
              "   'beer',\n",
              "   'free',\n",
              "   'decent',\n",
              "   'right',\n",
              "   'margarita',\n",
              "   'even',\n",
              "   'service',\n",
              "   'really',\n",
              "   'new',\n",
              "   'glasses',\n",
              "   'tasty',\n",
              "   'wine',\n",
              "   'best'], ['glass',\n",
              "   'average',\n",
              "   'free',\n",
              "   'tasting',\n",
              "   'beer',\n",
              "   'salad',\n",
              "   'gluten',\n",
              "   'right',\n",
              "   'really',\n",
              "   'tasty',\n",
              "   'glasses',\n",
              "   'wine',\n",
              "   'like',\n",
              "   'best'], ['glass',\n",
              "   'average',\n",
              "   'free',\n",
              "   'salad',\n",
              "   'gluten',\n",
              "   'make',\n",
              "   'service',\n",
              "   'hour',\n",
              "   'new',\n",
              "   'glasses',\n",
              "   'wine',\n",
              "   'best'], ['glass',\n",
              "   'free',\n",
              "   'tasting',\n",
              "   'beer',\n",
              "   'decent',\n",
              "   'gluten',\n",
              "   'right',\n",
              "   'even',\n",
              "   'make',\n",
              "   'tasty',\n",
              "   'glasses',\n",
              "   'wine',\n",
              "   'sure',\n",
              "   'like',\n",
              "   'best'], ['glass',\n",
              "   'average',\n",
              "   'free',\n",
              "   'beer',\n",
              "   'one',\n",
              "   'decent',\n",
              "   'right',\n",
              "   'really',\n",
              "   'new',\n",
              "   'glasses',\n",
              "   'wine',\n",
              "   'best']],\n",
              " (1717, 21857): [['baconator'],\n",
              "  ['brioche'],\n",
              "  ['baconator'],\n",
              "  ['baconator', 'brioche'],\n",
              "  ['baconator'],\n",
              "  ['baconator'],\n",
              "  ['baconator', 'brioche'],\n",
              "  ['baconator', 'brioche'],\n",
              "  [],\n",
              "  ['baconator']],\n",
              " (6708,\n",
              "  12469): [['brunch',\n",
              "   'setting',\n",
              "   'good',\n",
              "   'cool',\n",
              "   'atmosphere',\n",
              "   'spot',\n",
              "   'bar',\n",
              "   'grab',\n",
              "   'seated',\n",
              "   'door',\n",
              "   'spicy',\n",
              "   'perfection',\n",
              "   'sure',\n",
              "   'choose',\n",
              "   'drink',\n",
              "   'feel',\n",
              "   'restraint',\n",
              "   'change',\n",
              "   'special',\n",
              "   'efficient',\n",
              "   'get',\n",
              "   'going',\n",
              "   'delicious',\n",
              "   'time',\n",
              "   'josh',\n",
              "   'enjoy'], ['brunch',\n",
              "   'setting',\n",
              "   'cool',\n",
              "   'atmosphere',\n",
              "   'spot',\n",
              "   'bar',\n",
              "   'ambience',\n",
              "   'grab',\n",
              "   'place',\n",
              "   'casual',\n",
              "   'beverage',\n",
              "   'door',\n",
              "   'spicy',\n",
              "   'perfection',\n",
              "   'sure',\n",
              "   'drink',\n",
              "   'feel',\n",
              "   'restraint',\n",
              "   'change',\n",
              "   'special',\n",
              "   'efficient',\n",
              "   'get',\n",
              "   'delicious',\n",
              "   'time',\n",
              "   'josh',\n",
              "   'enjoy'], ['brunch',\n",
              "   'cool',\n",
              "   'atmosphere',\n",
              "   'spot',\n",
              "   'bar',\n",
              "   'ambience',\n",
              "   'seated',\n",
              "   'grab',\n",
              "   'casual',\n",
              "   'beverage',\n",
              "   'door',\n",
              "   'spicy',\n",
              "   'perfection',\n",
              "   'sure',\n",
              "   'choose',\n",
              "   'feel',\n",
              "   'restraint',\n",
              "   'change',\n",
              "   'special',\n",
              "   'dozen',\n",
              "   'time',\n",
              "   'josh',\n",
              "   'enjoy'], ['brunch',\n",
              "   'setting',\n",
              "   'cool',\n",
              "   'atmosphere',\n",
              "   'spot',\n",
              "   'bar',\n",
              "   'seated',\n",
              "   'enjoy',\n",
              "   'casual',\n",
              "   'door',\n",
              "   'spicy',\n",
              "   'perfection',\n",
              "   'sure',\n",
              "   'choose',\n",
              "   'feel',\n",
              "   'restraint',\n",
              "   'special',\n",
              "   'efficient',\n",
              "   'get',\n",
              "   'dozen',\n",
              "   'time',\n",
              "   'josh',\n",
              "   'change'], ['brunch',\n",
              "   'setting',\n",
              "   'good',\n",
              "   'cool',\n",
              "   'atmosphere',\n",
              "   'spot',\n",
              "   'bar',\n",
              "   'grab',\n",
              "   'seated',\n",
              "   'ambience',\n",
              "   'place',\n",
              "   'casual',\n",
              "   'beverage',\n",
              "   'door',\n",
              "   'fresh',\n",
              "   'spicy',\n",
              "   'perfection',\n",
              "   'sure',\n",
              "   'choose',\n",
              "   'feel',\n",
              "   'restraint',\n",
              "   'special',\n",
              "   'get',\n",
              "   'dozen',\n",
              "   'going',\n",
              "   'delicious',\n",
              "   'time',\n",
              "   'josh',\n",
              "   'enjoy'], ['brunch',\n",
              "   'setting',\n",
              "   'good',\n",
              "   'cool',\n",
              "   'atmosphere',\n",
              "   'spot',\n",
              "   'bar',\n",
              "   'ambience',\n",
              "   'grab',\n",
              "   'seated',\n",
              "   'casual',\n",
              "   'beverage',\n",
              "   'door',\n",
              "   'spicy',\n",
              "   'perfection',\n",
              "   'sure',\n",
              "   'drink',\n",
              "   'restraint',\n",
              "   'change',\n",
              "   'special',\n",
              "   'management',\n",
              "   'efficient',\n",
              "   'going',\n",
              "   'delicious',\n",
              "   'time',\n",
              "   'josh',\n",
              "   'enjoy'], ['brunch',\n",
              "   'setting',\n",
              "   'cool',\n",
              "   'atmosphere',\n",
              "   'spot',\n",
              "   'bar',\n",
              "   'ambience',\n",
              "   'seated',\n",
              "   'grab',\n",
              "   'casual',\n",
              "   'beverage',\n",
              "   'door',\n",
              "   'spicy',\n",
              "   'perfection',\n",
              "   'sure',\n",
              "   'choose',\n",
              "   'drink',\n",
              "   'feel',\n",
              "   'restraint',\n",
              "   'special',\n",
              "   'efficient',\n",
              "   'dozen',\n",
              "   'nice',\n",
              "   'going',\n",
              "   'time',\n",
              "   'josh',\n",
              "   'enjoy'], ['brunch',\n",
              "   'setting',\n",
              "   'cool',\n",
              "   'atmosphere',\n",
              "   'spot',\n",
              "   'ambience',\n",
              "   'seated',\n",
              "   'grab',\n",
              "   'casual',\n",
              "   'beverage',\n",
              "   'fresh',\n",
              "   'spicy',\n",
              "   'perfection',\n",
              "   'sure',\n",
              "   'choose',\n",
              "   'feel',\n",
              "   'restraint',\n",
              "   'special',\n",
              "   'dozen',\n",
              "   'going',\n",
              "   'delicious',\n",
              "   'josh',\n",
              "   'enjoy'], ['brunch',\n",
              "   'setting',\n",
              "   'cool',\n",
              "   'atmosphere',\n",
              "   'spot',\n",
              "   'bar',\n",
              "   'ambience',\n",
              "   'grab',\n",
              "   'seated',\n",
              "   'casual',\n",
              "   'beverage',\n",
              "   'door',\n",
              "   'spicy',\n",
              "   'perfection',\n",
              "   'sure',\n",
              "   'drink',\n",
              "   'feel',\n",
              "   'restraint',\n",
              "   'change',\n",
              "   'special',\n",
              "   'get',\n",
              "   'dozen',\n",
              "   'going',\n",
              "   'delicious',\n",
              "   'time',\n",
              "   'josh',\n",
              "   'enjoy'], ['brunch',\n",
              "   'cool',\n",
              "   'atmosphere',\n",
              "   'bar',\n",
              "   'ambience',\n",
              "   'seated',\n",
              "   'grab',\n",
              "   'casual',\n",
              "   'beverage',\n",
              "   'door',\n",
              "   'spicy',\n",
              "   'perfection',\n",
              "   'sure',\n",
              "   'choose',\n",
              "   'drink',\n",
              "   'right',\n",
              "   'feel',\n",
              "   'restraint',\n",
              "   'change',\n",
              "   'special',\n",
              "   'get',\n",
              "   'dozen',\n",
              "   'going',\n",
              "   'delicious',\n",
              "   'time',\n",
              "   'josh',\n",
              "   'enjoy']],\n",
              " (6708,\n",
              "  7081): [['great',\n",
              "   'etc',\n",
              "   'fantastic',\n",
              "   'albacore',\n",
              "   'good',\n",
              "   'choices',\n",
              "   'hit',\n",
              "   'meat',\n",
              "   'atmosphere',\n",
              "   'early',\n",
              "   'botanical',\n",
              "   'makes',\n",
              "   'always',\n",
              "   'fifteen',\n",
              "   'quite',\n",
              "   'best',\n",
              "   'arugula',\n",
              "   'since',\n",
              "   'right',\n",
              "   'huge',\n",
              "   'years',\n",
              "   'bread',\n",
              "   'tuna',\n",
              "   'another',\n",
              "   'nice',\n",
              "   'much',\n",
              "   'cobb',\n",
              "   'amazing',\n",
              "   'tahini',\n",
              "   'delicious',\n",
              "   'perfect',\n",
              "   'food',\n",
              "   'reason',\n",
              "   'attached'], ['great',\n",
              "   'etc',\n",
              "   'fantastic',\n",
              "   'albacore',\n",
              "   'good',\n",
              "   'choices',\n",
              "   'hit',\n",
              "   'meat',\n",
              "   'atmosphere',\n",
              "   'early',\n",
              "   'botanical',\n",
              "   'always',\n",
              "   'fifteen',\n",
              "   'quite',\n",
              "   'chicken',\n",
              "   'best',\n",
              "   'arugula',\n",
              "   'right',\n",
              "   'huge',\n",
              "   'years',\n",
              "   'another',\n",
              "   'nice',\n",
              "   'much',\n",
              "   'cobb',\n",
              "   'amazing',\n",
              "   'tahini',\n",
              "   'delicious',\n",
              "   'perfect',\n",
              "   'food'], ['great',\n",
              "   'etc',\n",
              "   'fantastic',\n",
              "   'good',\n",
              "   'choices',\n",
              "   'hit',\n",
              "   'meat',\n",
              "   'botanical',\n",
              "   'makes',\n",
              "   'always',\n",
              "   'fifteen',\n",
              "   'quite',\n",
              "   'best',\n",
              "   'arugula',\n",
              "   'since',\n",
              "   'huge',\n",
              "   'years',\n",
              "   'bread',\n",
              "   'another',\n",
              "   'nice',\n",
              "   'cobb',\n",
              "   'much',\n",
              "   'amazing',\n",
              "   'tahini',\n",
              "   'delicious',\n",
              "   'food'], ['great',\n",
              "   'etc',\n",
              "   'fantastic',\n",
              "   'albacore',\n",
              "   'good',\n",
              "   'choices',\n",
              "   'hit',\n",
              "   'atmosphere',\n",
              "   'botanical',\n",
              "   'fifteen',\n",
              "   'quite',\n",
              "   'chicken',\n",
              "   'best',\n",
              "   'arugula',\n",
              "   'right',\n",
              "   'huge',\n",
              "   'bread',\n",
              "   'another',\n",
              "   'cobb',\n",
              "   'amazing',\n",
              "   'tahini',\n",
              "   'delicious',\n",
              "   'perfect',\n",
              "   'food',\n",
              "   'reason'], ['great',\n",
              "   'etc',\n",
              "   'fantastic',\n",
              "   'albacore',\n",
              "   'good',\n",
              "   'choices',\n",
              "   'hit',\n",
              "   'meat',\n",
              "   'atmosphere',\n",
              "   'botanical',\n",
              "   'always',\n",
              "   'quite',\n",
              "   'chicken',\n",
              "   'best',\n",
              "   'arugula',\n",
              "   'since',\n",
              "   'right',\n",
              "   'huge',\n",
              "   'years',\n",
              "   'bread',\n",
              "   'another',\n",
              "   'salads',\n",
              "   'nice',\n",
              "   'cobb',\n",
              "   'much',\n",
              "   'amazing',\n",
              "   'tahini',\n",
              "   'delicious',\n",
              "   'perfect',\n",
              "   'food',\n",
              "   'attached'], ['great',\n",
              "   'etc',\n",
              "   'fantastic',\n",
              "   'albacore',\n",
              "   'good',\n",
              "   'hit',\n",
              "   'meat',\n",
              "   'atmosphere',\n",
              "   'botanical',\n",
              "   'always',\n",
              "   'fifteen',\n",
              "   'quite',\n",
              "   'best',\n",
              "   'arugula',\n",
              "   'right',\n",
              "   'huge',\n",
              "   'years',\n",
              "   'bread',\n",
              "   'another',\n",
              "   'nice',\n",
              "   'cobb',\n",
              "   'much',\n",
              "   'amazing',\n",
              "   'multigrain',\n",
              "   'delicious',\n",
              "   'food',\n",
              "   'reason'], ['great',\n",
              "   'etc',\n",
              "   'fantastic',\n",
              "   'good',\n",
              "   'choices',\n",
              "   'hit',\n",
              "   'meat',\n",
              "   'atmosphere',\n",
              "   'shaking',\n",
              "   'always',\n",
              "   'fifteen',\n",
              "   'quite',\n",
              "   'chicken',\n",
              "   'best',\n",
              "   'arugula',\n",
              "   'right',\n",
              "   'huge',\n",
              "   'years',\n",
              "   'bread',\n",
              "   'another',\n",
              "   'cobb',\n",
              "   'much',\n",
              "   'amazing',\n",
              "   'tahini',\n",
              "   'multigrain',\n",
              "   'delicious',\n",
              "   'perfect',\n",
              "   'food'], ['great',\n",
              "   'etc',\n",
              "   'fantastic',\n",
              "   'good',\n",
              "   'choices',\n",
              "   'hit',\n",
              "   'meat',\n",
              "   'atmosphere',\n",
              "   'early',\n",
              "   'botanical',\n",
              "   'always',\n",
              "   'fifteen',\n",
              "   'quite',\n",
              "   'best',\n",
              "   'arugula',\n",
              "   'right',\n",
              "   'huge',\n",
              "   'years',\n",
              "   'another',\n",
              "   'cobb',\n",
              "   'amazing',\n",
              "   'tahini',\n",
              "   'delicious',\n",
              "   'perfect',\n",
              "   'food'], ['great',\n",
              "   'etc',\n",
              "   'fantastic',\n",
              "   'albacore',\n",
              "   'good',\n",
              "   'choices',\n",
              "   'hit',\n",
              "   'atmosphere',\n",
              "   'botanical',\n",
              "   'fifteen',\n",
              "   'chicken',\n",
              "   'best',\n",
              "   'arugula',\n",
              "   'right',\n",
              "   'huge',\n",
              "   'years',\n",
              "   'bread',\n",
              "   'another',\n",
              "   'nice',\n",
              "   'cobb',\n",
              "   'amazing',\n",
              "   'delicious',\n",
              "   'perfect',\n",
              "   'food',\n",
              "   'bland'], ['great',\n",
              "   'etc',\n",
              "   'fantastic',\n",
              "   'albacore',\n",
              "   'choices',\n",
              "   'hit',\n",
              "   'meat',\n",
              "   'atmosphere',\n",
              "   'botanical',\n",
              "   'makes',\n",
              "   'always',\n",
              "   'fifteen',\n",
              "   'quite',\n",
              "   'best',\n",
              "   'arugula',\n",
              "   'right',\n",
              "   'huge',\n",
              "   'years',\n",
              "   'bread',\n",
              "   'another',\n",
              "   'cobb',\n",
              "   'much',\n",
              "   'amazing',\n",
              "   'tahini',\n",
              "   'delicious',\n",
              "   'perfect',\n",
              "   'food']],\n",
              " (6708,\n",
              "  3795): [['big',\n",
              "   'great',\n",
              "   'yeah',\n",
              "   'nerd',\n",
              "   'mad',\n",
              "   'coffee',\n",
              "   'bye',\n",
              "   'mazing',\n",
              "   'point',\n",
              "   'looks',\n",
              "   'bowls',\n",
              "   'sandwiches',\n",
              "   'work',\n",
              "   'wow',\n",
              "   'waitresses',\n",
              "   'staff',\n",
              "   'friendly',\n",
              "   'heck',\n",
              "   'personal',\n",
              "   'chance',\n",
              "   'really',\n",
              "   'plentiful',\n",
              "   'time',\n",
              "   'food',\n",
              "   'excellent'], ['big',\n",
              "   'great',\n",
              "   'coffee',\n",
              "   'cant',\n",
              "   'bye',\n",
              "   'mazing',\n",
              "   'looks',\n",
              "   'bowls',\n",
              "   'sandwiches',\n",
              "   'work',\n",
              "   'wow',\n",
              "   'waitresses',\n",
              "   'staff',\n",
              "   'friendly',\n",
              "   'heck',\n",
              "   'personal',\n",
              "   'chance',\n",
              "   'really',\n",
              "   'plentiful',\n",
              "   'food',\n",
              "   'excellent'], ['big',\n",
              "   'great',\n",
              "   'yeah',\n",
              "   'mad',\n",
              "   'coffee',\n",
              "   'mazing',\n",
              "   'looks',\n",
              "   'bowls',\n",
              "   'sandwiches',\n",
              "   'work',\n",
              "   'make',\n",
              "   'wow',\n",
              "   'waitresses',\n",
              "   'salads',\n",
              "   'staff',\n",
              "   'friendly',\n",
              "   'heck',\n",
              "   'personal',\n",
              "   'chance',\n",
              "   'really',\n",
              "   'plentiful',\n",
              "   'food',\n",
              "   'excellent'], ['big',\n",
              "   'great',\n",
              "   'yeah',\n",
              "   'mad',\n",
              "   'coffee',\n",
              "   'cant',\n",
              "   'mazing',\n",
              "   'looks',\n",
              "   'bowls',\n",
              "   'sandwiches',\n",
              "   'work',\n",
              "   'wow',\n",
              "   'waitresses',\n",
              "   'salads',\n",
              "   'staff',\n",
              "   'friendly',\n",
              "   'heck',\n",
              "   'personal',\n",
              "   'chance',\n",
              "   'really',\n",
              "   'plentiful',\n",
              "   'time',\n",
              "   'delicious',\n",
              "   'food',\n",
              "   'excellent'], ['big',\n",
              "   'great',\n",
              "   'yeah',\n",
              "   'mad',\n",
              "   'coffee',\n",
              "   'cant',\n",
              "   'mazing',\n",
              "   'point',\n",
              "   'looks',\n",
              "   'bowls',\n",
              "   'sandwiches',\n",
              "   'work',\n",
              "   'wow',\n",
              "   'waitresses',\n",
              "   'salads',\n",
              "   'staff',\n",
              "   'friendly',\n",
              "   'personal',\n",
              "   'chance',\n",
              "   'really',\n",
              "   'plentiful',\n",
              "   'delicious',\n",
              "   'food',\n",
              "   'excellent'], ['big',\n",
              "   'great',\n",
              "   'yeah',\n",
              "   'mad',\n",
              "   'coffee',\n",
              "   'cant',\n",
              "   'bye',\n",
              "   'mazing',\n",
              "   'point',\n",
              "   'looks',\n",
              "   'bowls',\n",
              "   'sandwiches',\n",
              "   'work',\n",
              "   'wow',\n",
              "   'waitresses',\n",
              "   'salads',\n",
              "   'staff',\n",
              "   'friendly',\n",
              "   'heck',\n",
              "   'personal',\n",
              "   'chance',\n",
              "   'really',\n",
              "   'plentiful',\n",
              "   'food',\n",
              "   'excellent'], ['great',\n",
              "   'yeah',\n",
              "   'nerd',\n",
              "   'mad',\n",
              "   'coffee',\n",
              "   'cant',\n",
              "   'mazing',\n",
              "   'looks',\n",
              "   'bowls',\n",
              "   'sandwiches',\n",
              "   'work',\n",
              "   'waitresses',\n",
              "   'staff',\n",
              "   'friendly',\n",
              "   'heck',\n",
              "   'personal',\n",
              "   'chance',\n",
              "   'really',\n",
              "   'plentiful',\n",
              "   'time',\n",
              "   'food',\n",
              "   'excellent'], ['big',\n",
              "   'great',\n",
              "   'yeah',\n",
              "   'nerd',\n",
              "   'coffee',\n",
              "   'cant',\n",
              "   'mazing',\n",
              "   'looks',\n",
              "   'bowls',\n",
              "   'sandwiches',\n",
              "   'work',\n",
              "   'wow',\n",
              "   'staff',\n",
              "   'friendly',\n",
              "   'heck',\n",
              "   'personal',\n",
              "   'chance',\n",
              "   'plentiful',\n",
              "   'delicious',\n",
              "   'food',\n",
              "   'excellent'], ['big',\n",
              "   'great',\n",
              "   'yeah',\n",
              "   'nerd',\n",
              "   'mad',\n",
              "   'coffee',\n",
              "   'bye',\n",
              "   'mazing',\n",
              "   'point',\n",
              "   'looks',\n",
              "   'bowls',\n",
              "   'sandwiches',\n",
              "   'work',\n",
              "   'wow',\n",
              "   'waitresses',\n",
              "   'salads',\n",
              "   'heck',\n",
              "   'personal',\n",
              "   'chance',\n",
              "   'really',\n",
              "   'plentiful',\n",
              "   'time',\n",
              "   'food',\n",
              "   'excellent'], ['big',\n",
              "   'great',\n",
              "   'yeah',\n",
              "   'mad',\n",
              "   'coffee',\n",
              "   'bye',\n",
              "   'mazing',\n",
              "   'bowls',\n",
              "   'sandwiches',\n",
              "   'work',\n",
              "   'wow',\n",
              "   'waitresses',\n",
              "   'salads',\n",
              "   'staff',\n",
              "   'heck',\n",
              "   'personal',\n",
              "   'chance',\n",
              "   'really',\n",
              "   'plentiful',\n",
              "   'excellent']],\n",
              " (6708,\n",
              "  4394): [['lucayan',\n",
              "   'back',\n",
              "   'beef',\n",
              "   'prices',\n",
              "   'delicious',\n",
              "   'perfect',\n",
              "   'inexpensive',\n",
              "   'needed'], ['lucayan',\n",
              "   'back',\n",
              "   'refreshing',\n",
              "   'beef',\n",
              "   'prices',\n",
              "   'needed'], ['lucayan', 'beef', 'perfect', 'inexpensive', 'needed'], ['quick',\n",
              "   'lucayan',\n",
              "   'refreshing',\n",
              "   'beef',\n",
              "   'prices',\n",
              "   'seating',\n",
              "   'perfect',\n",
              "   'inexpensive',\n",
              "   'needed'], ['lucayan',\n",
              "   'beef',\n",
              "   'prices',\n",
              "   'perfect',\n",
              "   'inexpensive',\n",
              "   'needed'], ['lucayan',\n",
              "   'beef',\n",
              "   'prices',\n",
              "   'delicious',\n",
              "   'perfect',\n",
              "   'needed'], ['lucayan',\n",
              "   'back',\n",
              "   'refreshing',\n",
              "   'beef',\n",
              "   'prices',\n",
              "   'seating',\n",
              "   'perfect',\n",
              "   'inexpensive',\n",
              "   'needed'], ['quick',\n",
              "   'lucayan',\n",
              "   'back',\n",
              "   'refreshing',\n",
              "   'beef',\n",
              "   'prices',\n",
              "   'delicious',\n",
              "   'perfect',\n",
              "   'inexpensive',\n",
              "   'needed'], ['lucayan',\n",
              "   'back',\n",
              "   'beef',\n",
              "   'prices',\n",
              "   'perfect',\n",
              "   'inexpensive',\n",
              "   'needed'], ['back',\n",
              "   'prices',\n",
              "   'seating',\n",
              "   'perfect',\n",
              "   'inexpensive',\n",
              "   'lucayan',\n",
              "   'needed']],\n",
              " (8694, 18797): [['sushi', 'deliver', 'miss', 'roll'],\n",
              "  ['sushi', 'deliver', 'miss', 'roll'],\n",
              "  ['sushi', 'miss', 'roll'],\n",
              "  ['sushi', 'deliver', 'miss', 'roll'],\n",
              "  ['sushi', 'deliver', 'miss', 'roll'],\n",
              "  ['deliver', 'miss', 'roll'],\n",
              "  ['sushi', 'deliver', 'miss', 'roll'],\n",
              "  ['sushi', 'deliver', 'miss', 'roll'],\n",
              "  ['sushi', 'deliver', 'miss', 'roll'],\n",
              "  ['sushi', 'deliver', 'miss', 'roll']],\n",
              " (8694,\n",
              "  2563): [['lotusenergydrink',\n",
              "   'tomato',\n",
              "   'cocktail',\n",
              "   'wings',\n",
              "   'tuesday',\n",
              "   'meh',\n",
              "   'buffalo',\n",
              "   'irish',\n",
              "   'green',\n",
              "   'ahhh',\n",
              "   'portions',\n",
              "   'groups',\n",
              "   'food',\n",
              "   'dinner',\n",
              "   'nashville',\n",
              "   'fish',\n",
              "   'whiskey',\n",
              "   'beer',\n",
              "   'street',\n",
              "   'yum',\n",
              "   'fried',\n",
              "   'trendy',\n",
              "   'friends',\n",
              "   'ginger',\n",
              "   'sours',\n",
              "   'chicken',\n",
              "   'rawartists',\n",
              "   'fries',\n",
              "   'best',\n",
              "   'drink',\n",
              "   'nightcap',\n",
              "   'yeeeeee',\n",
              "   'sucks',\n",
              "   'booths',\n",
              "   'get',\n",
              "   'patio',\n",
              "   'relaxing',\n",
              "   'continues',\n",
              "   'meeting',\n",
              "   'crazies',\n",
              "   'bomb',\n",
              "   'cobb',\n",
              "   'girl',\n",
              "   'pitchers',\n",
              "   'excited',\n",
              "   'sun',\n",
              "   'yam',\n",
              "   'burger',\n",
              "   'chips',\n",
              "   'rocks',\n",
              "   'blt',\n",
              "   'watery'], ['lotusenergydrink',\n",
              "   'tomato',\n",
              "   'cocktail',\n",
              "   'wings',\n",
              "   'meh',\n",
              "   'buffalo',\n",
              "   'green',\n",
              "   'ahhh',\n",
              "   'portions',\n",
              "   'groups',\n",
              "   'food',\n",
              "   'dinner',\n",
              "   'parking',\n",
              "   'nashville',\n",
              "   'fish',\n",
              "   'whiskey',\n",
              "   'beer',\n",
              "   'street',\n",
              "   'yum',\n",
              "   'fried',\n",
              "   'trendy',\n",
              "   'friends',\n",
              "   'ginger',\n",
              "   'sours',\n",
              "   'rawartists',\n",
              "   'fries',\n",
              "   'best',\n",
              "   'drink',\n",
              "   'yeeeeee',\n",
              "   'sucks',\n",
              "   'get',\n",
              "   'patio',\n",
              "   'meeting',\n",
              "   'crazies',\n",
              "   'bomb',\n",
              "   'girl',\n",
              "   'pitchers',\n",
              "   'excited',\n",
              "   'yam',\n",
              "   'burger',\n",
              "   'chips',\n",
              "   'rocks',\n",
              "   'blt',\n",
              "   'watery'], ['lotusenergydrink',\n",
              "   'tomato',\n",
              "   'cocktail',\n",
              "   'wings',\n",
              "   'meh',\n",
              "   'irish',\n",
              "   'green',\n",
              "   'ahhh',\n",
              "   'portions',\n",
              "   'food',\n",
              "   'dinner',\n",
              "   'nashville',\n",
              "   'fish',\n",
              "   'whiskey',\n",
              "   'street',\n",
              "   'yum',\n",
              "   'trendy',\n",
              "   'friends',\n",
              "   'ginger',\n",
              "   'sours',\n",
              "   'chicken',\n",
              "   'rawartists',\n",
              "   'fries',\n",
              "   'best',\n",
              "   'bourbon',\n",
              "   'drink',\n",
              "   'nightcap',\n",
              "   'yeeeeee',\n",
              "   'sucks',\n",
              "   'booths',\n",
              "   'patio',\n",
              "   'relaxing',\n",
              "   'continues',\n",
              "   'meeting',\n",
              "   'crazies',\n",
              "   'bomb',\n",
              "   'cobb',\n",
              "   'girl',\n",
              "   'pitchers',\n",
              "   'excited',\n",
              "   'sun',\n",
              "   'yam',\n",
              "   'burger',\n",
              "   'chips',\n",
              "   'name',\n",
              "   'rocks',\n",
              "   'blt',\n",
              "   'bad',\n",
              "   'watery'], ['lotusenergydrink',\n",
              "   'tomato',\n",
              "   'cocktail',\n",
              "   'tuesday',\n",
              "   'meh',\n",
              "   'green',\n",
              "   'ahhh',\n",
              "   'portions',\n",
              "   'groups',\n",
              "   'food',\n",
              "   'dinner',\n",
              "   'nashville',\n",
              "   'fish',\n",
              "   'whiskey',\n",
              "   'beer',\n",
              "   'street',\n",
              "   'yum',\n",
              "   'fried',\n",
              "   'trendy',\n",
              "   'friends',\n",
              "   'ginger',\n",
              "   'sours',\n",
              "   'rawartists',\n",
              "   'fries',\n",
              "   'best',\n",
              "   'bourbon',\n",
              "   'drink',\n",
              "   'nightcap',\n",
              "   'yeeeeee',\n",
              "   'sucks',\n",
              "   'booths',\n",
              "   'patio',\n",
              "   'relaxing',\n",
              "   'continues',\n",
              "   'meeting',\n",
              "   'crazies',\n",
              "   'bomb',\n",
              "   'cobb',\n",
              "   'girl',\n",
              "   'excited',\n",
              "   'sun',\n",
              "   'yam',\n",
              "   'burger',\n",
              "   'chips',\n",
              "   'name',\n",
              "   'blt',\n",
              "   'bad',\n",
              "   'watery'], ['lotusenergydrink',\n",
              "   'tomato',\n",
              "   'cocktail',\n",
              "   'wings',\n",
              "   'meh',\n",
              "   'green',\n",
              "   'ahhh',\n",
              "   'groups',\n",
              "   'dinner',\n",
              "   'nashville',\n",
              "   'fish',\n",
              "   'whiskey',\n",
              "   'beer',\n",
              "   'street',\n",
              "   'yum',\n",
              "   'fried',\n",
              "   'trendy',\n",
              "   'friends',\n",
              "   'ginger',\n",
              "   'sours',\n",
              "   'chicken',\n",
              "   'rawartists',\n",
              "   'fries',\n",
              "   'best',\n",
              "   'bourbon',\n",
              "   'drink',\n",
              "   'nightcap',\n",
              "   'rocks',\n",
              "   'yeeeeee',\n",
              "   'sucks',\n",
              "   'booths',\n",
              "   'get',\n",
              "   'patio',\n",
              "   'relaxing',\n",
              "   'continues',\n",
              "   'meeting',\n",
              "   'crazies',\n",
              "   'bomb',\n",
              "   'pitchers',\n",
              "   'sun',\n",
              "   'yam',\n",
              "   'burger',\n",
              "   'food',\n",
              "   'chips',\n",
              "   'name',\n",
              "   'blt',\n",
              "   'watery'], ['lotusenergydrink',\n",
              "   'tomato',\n",
              "   'cocktail',\n",
              "   'meh',\n",
              "   'irish',\n",
              "   'green',\n",
              "   'ahhh',\n",
              "   'groups',\n",
              "   'dinner',\n",
              "   'nashville',\n",
              "   'fish',\n",
              "   'whiskey',\n",
              "   'beer',\n",
              "   'street',\n",
              "   'yum',\n",
              "   'fried',\n",
              "   'trendy',\n",
              "   'ginger',\n",
              "   'sours',\n",
              "   'rawartists',\n",
              "   'fries',\n",
              "   'best',\n",
              "   'bourbon',\n",
              "   'drink',\n",
              "   'nightcap',\n",
              "   'sucks',\n",
              "   'get',\n",
              "   'patio',\n",
              "   'relaxing',\n",
              "   'continues',\n",
              "   'meeting',\n",
              "   'crazies',\n",
              "   'bomb',\n",
              "   'cobb',\n",
              "   'girl',\n",
              "   'pitchers',\n",
              "   'excited',\n",
              "   'sun',\n",
              "   'burger',\n",
              "   'chips',\n",
              "   'food',\n",
              "   'name',\n",
              "   'rocks',\n",
              "   'blt',\n",
              "   'bad',\n",
              "   'watery'], ['lotusenergydrink',\n",
              "   'tomato',\n",
              "   'cocktail',\n",
              "   'tuesday',\n",
              "   'meh',\n",
              "   'irish',\n",
              "   'green',\n",
              "   'ahhh',\n",
              "   'portions',\n",
              "   'food',\n",
              "   'dinner',\n",
              "   'nashville',\n",
              "   'fish',\n",
              "   'whiskey',\n",
              "   'beer',\n",
              "   'street',\n",
              "   'yum',\n",
              "   'fried',\n",
              "   'trendy',\n",
              "   'friends',\n",
              "   'ginger',\n",
              "   'sours',\n",
              "   'chicken',\n",
              "   'rawartists',\n",
              "   'fries',\n",
              "   'best',\n",
              "   'bourbon',\n",
              "   'uber',\n",
              "   'nightcap',\n",
              "   'yeeeeee',\n",
              "   'sucks',\n",
              "   'booths',\n",
              "   'get',\n",
              "   'patio',\n",
              "   'continues',\n",
              "   'meeting',\n",
              "   'crazies',\n",
              "   'bomb',\n",
              "   'cobb',\n",
              "   'girl',\n",
              "   'pitchers',\n",
              "   'excited',\n",
              "   'sun',\n",
              "   'yam',\n",
              "   'burger',\n",
              "   'chips',\n",
              "   'name',\n",
              "   'rocks',\n",
              "   'blt',\n",
              "   'bad',\n",
              "   'watery'], ['lotusenergydrink',\n",
              "   'tomato',\n",
              "   'cocktail',\n",
              "   'wings',\n",
              "   'tuesday',\n",
              "   'meh',\n",
              "   'irish',\n",
              "   'green',\n",
              "   'ahhh',\n",
              "   'groups',\n",
              "   'food',\n",
              "   'dinner',\n",
              "   'nashville',\n",
              "   'fish',\n",
              "   'whiskey',\n",
              "   'beer',\n",
              "   'street',\n",
              "   'yum',\n",
              "   'trendy',\n",
              "   'friends',\n",
              "   'ginger',\n",
              "   'sours',\n",
              "   'rawartists',\n",
              "   'fries',\n",
              "   'best',\n",
              "   'bourbon',\n",
              "   'drink',\n",
              "   'nightcap',\n",
              "   'yeeeeee',\n",
              "   'sucks',\n",
              "   'get',\n",
              "   'patio',\n",
              "   'relaxing',\n",
              "   'continues',\n",
              "   'meeting',\n",
              "   'crazies',\n",
              "   'bomb',\n",
              "   'cobb',\n",
              "   'girl',\n",
              "   'pitchers',\n",
              "   'excited',\n",
              "   'sun',\n",
              "   'yam',\n",
              "   'burger',\n",
              "   'chips',\n",
              "   'blt',\n",
              "   'bad',\n",
              "   'watery'], ['lotusenergydrink',\n",
              "   'tomato',\n",
              "   'cocktail',\n",
              "   'tuesday',\n",
              "   'meh',\n",
              "   'buffalo',\n",
              "   'irish',\n",
              "   'favor',\n",
              "   'green',\n",
              "   'ahhh',\n",
              "   'portions',\n",
              "   'groups',\n",
              "   'food',\n",
              "   'dinner',\n",
              "   'nashville',\n",
              "   'fish',\n",
              "   'whiskey',\n",
              "   'beer',\n",
              "   'street',\n",
              "   'yum',\n",
              "   'fried',\n",
              "   'friends',\n",
              "   'ginger',\n",
              "   'sours',\n",
              "   'chicken',\n",
              "   'rawartists',\n",
              "   'fries',\n",
              "   'best',\n",
              "   'drink',\n",
              "   'nightcap',\n",
              "   'yeeeeee',\n",
              "   'sucks',\n",
              "   'booths',\n",
              "   'patio',\n",
              "   'relaxing',\n",
              "   'meeting',\n",
              "   'crazies',\n",
              "   'bomb',\n",
              "   'cobb',\n",
              "   'girl',\n",
              "   'pitchers',\n",
              "   'excited',\n",
              "   'sun',\n",
              "   'yam',\n",
              "   'burger',\n",
              "   'chips',\n",
              "   'rocks',\n",
              "   'blt',\n",
              "   'watery'], ['lotusenergydrink',\n",
              "   'tomato',\n",
              "   'cocktail',\n",
              "   'table',\n",
              "   'wings',\n",
              "   'meh',\n",
              "   'irish',\n",
              "   'green',\n",
              "   'ahhh',\n",
              "   'portions',\n",
              "   'groups',\n",
              "   'food',\n",
              "   'dinner',\n",
              "   'nashville',\n",
              "   'fish',\n",
              "   'whiskey',\n",
              "   'beer',\n",
              "   'street',\n",
              "   'yum',\n",
              "   'fried',\n",
              "   'trendy',\n",
              "   'friends',\n",
              "   'ginger',\n",
              "   'sours',\n",
              "   'chicken',\n",
              "   'rawartists',\n",
              "   'fries',\n",
              "   'best',\n",
              "   'bourbon',\n",
              "   'nightcap',\n",
              "   'yeeeeee',\n",
              "   'sucks',\n",
              "   'get',\n",
              "   'patio',\n",
              "   'relaxing',\n",
              "   'meeting',\n",
              "   'crazies',\n",
              "   'bomb',\n",
              "   'cobb',\n",
              "   'girl',\n",
              "   'pitchers',\n",
              "   'excited',\n",
              "   'yam',\n",
              "   'burger',\n",
              "   'chips',\n",
              "   'name',\n",
              "   'blt',\n",
              "   'bad',\n",
              "   'watery']],\n",
              " (20172,\n",
              "  8852): [['heading',\n",
              "   'try',\n",
              "   'thursday',\n",
              "   'falafel',\n",
              "   'town',\n",
              "   'taste',\n",
              "   'insane',\n",
              "   'baba',\n",
              "   'museum',\n",
              "   'operated',\n",
              "   'notch',\n",
              "   'dipping',\n",
              "   'locally',\n",
              "   'stopped',\n",
              "   'get',\n",
              "   'like',\n",
              "   'wait',\n",
              "   'wish',\n",
              "   'favorite',\n",
              "   'burger',\n",
              "   'come',\n",
              "   'often'], ['heading',\n",
              "   'try',\n",
              "   'thursday',\n",
              "   'hot',\n",
              "   'beef',\n",
              "   'taste',\n",
              "   'museum',\n",
              "   'baba',\n",
              "   'insane',\n",
              "   'operated',\n",
              "   'notch',\n",
              "   'dipping',\n",
              "   'locally',\n",
              "   'stopped',\n",
              "   'get',\n",
              "   'wait',\n",
              "   'tahini',\n",
              "   'burger',\n",
              "   'come',\n",
              "   'often',\n",
              "   'shawarma'], ['heading',\n",
              "   'try',\n",
              "   'thursday',\n",
              "   'hot',\n",
              "   'falafel',\n",
              "   'lunch',\n",
              "   'town',\n",
              "   'taste',\n",
              "   'museum',\n",
              "   'baba',\n",
              "   'insane',\n",
              "   'operated',\n",
              "   'notch',\n",
              "   'dipping',\n",
              "   'locally',\n",
              "   'stopped',\n",
              "   'get',\n",
              "   'wait',\n",
              "   'tahini',\n",
              "   'favorite',\n",
              "   'burger',\n",
              "   'come',\n",
              "   'often',\n",
              "   'shawarma'], ['heading',\n",
              "   'try',\n",
              "   'thursday',\n",
              "   'hot',\n",
              "   'falafel',\n",
              "   'beef',\n",
              "   'town',\n",
              "   'taste',\n",
              "   'museum',\n",
              "   'baba',\n",
              "   'insane',\n",
              "   'operated',\n",
              "   'notch',\n",
              "   'dipping',\n",
              "   'locally',\n",
              "   'stopped',\n",
              "   'get',\n",
              "   'wait',\n",
              "   'wish',\n",
              "   'tahini',\n",
              "   'favorite',\n",
              "   'burger',\n",
              "   'come',\n",
              "   'often'], ['heading',\n",
              "   'try',\n",
              "   'thursday',\n",
              "   'hot',\n",
              "   'beef',\n",
              "   'taste',\n",
              "   'museum',\n",
              "   'side',\n",
              "   'baba',\n",
              "   'insane',\n",
              "   'operated',\n",
              "   'notch',\n",
              "   'dipping',\n",
              "   'locally',\n",
              "   'stopped',\n",
              "   'get',\n",
              "   'wait',\n",
              "   'tahini',\n",
              "   'favorite',\n",
              "   'burger',\n",
              "   'come',\n",
              "   'often',\n",
              "   'shawarma'], ['heading',\n",
              "   'try',\n",
              "   'thursday',\n",
              "   'falafel',\n",
              "   'lunch',\n",
              "   'town',\n",
              "   'taste',\n",
              "   'insane',\n",
              "   'baba',\n",
              "   'museum',\n",
              "   'operated',\n",
              "   'notch',\n",
              "   'dipping',\n",
              "   'stopped',\n",
              "   'get',\n",
              "   'wait',\n",
              "   'tahini',\n",
              "   'favorite',\n",
              "   'burger',\n",
              "   'come',\n",
              "   'often',\n",
              "   'shawarma'], ['heading',\n",
              "   'try',\n",
              "   'thursday',\n",
              "   'hot',\n",
              "   'lunch',\n",
              "   'beef',\n",
              "   'town',\n",
              "   'taste',\n",
              "   'museum',\n",
              "   'baba',\n",
              "   'insane',\n",
              "   'operated',\n",
              "   'notch',\n",
              "   'dipping',\n",
              "   'locally',\n",
              "   'stopped',\n",
              "   'get',\n",
              "   'wait',\n",
              "   'tahini',\n",
              "   'burger',\n",
              "   'come',\n",
              "   'often',\n",
              "   'shawarma'], ['heading',\n",
              "   'try',\n",
              "   'thursday',\n",
              "   'hot',\n",
              "   'falafel',\n",
              "   'lunch',\n",
              "   'beef',\n",
              "   'town',\n",
              "   'taste',\n",
              "   'museum',\n",
              "   'baba',\n",
              "   'insane',\n",
              "   'operated',\n",
              "   'notch',\n",
              "   'dipping',\n",
              "   'locally',\n",
              "   'stopped',\n",
              "   'get',\n",
              "   'wait',\n",
              "   'tahini',\n",
              "   'favorite',\n",
              "   'burger',\n",
              "   'come',\n",
              "   'often',\n",
              "   'shawarma'], ['heading',\n",
              "   'try',\n",
              "   'thursday',\n",
              "   'hot',\n",
              "   'falafel',\n",
              "   'beef',\n",
              "   'taste',\n",
              "   'museum',\n",
              "   'baba',\n",
              "   'insane',\n",
              "   'operated',\n",
              "   'notch',\n",
              "   'dipping',\n",
              "   'locally',\n",
              "   'stopped',\n",
              "   'get',\n",
              "   'wait',\n",
              "   'tahini',\n",
              "   'favorite',\n",
              "   'burger',\n",
              "   'often',\n",
              "   'shawarma'], ['heading',\n",
              "   'try',\n",
              "   'thursday',\n",
              "   'hot',\n",
              "   'falafel',\n",
              "   'lunch',\n",
              "   'town',\n",
              "   'taste',\n",
              "   'museum',\n",
              "   'baba',\n",
              "   'insane',\n",
              "   'operated',\n",
              "   'notch',\n",
              "   'dipping',\n",
              "   'locally',\n",
              "   'stopped',\n",
              "   'get',\n",
              "   'wait',\n",
              "   'tahini',\n",
              "   'burger',\n",
              "   'come',\n",
              "   'often',\n",
              "   'shawarma']],\n",
              " (20172,\n",
              "  2934): [['great',\n",
              "   'try',\n",
              "   'airline',\n",
              "   'shrimp',\n",
              "   'worth',\n",
              "   'happy',\n",
              "   'wine',\n",
              "   'density',\n",
              "   'cheese',\n",
              "   'beer',\n",
              "   'fish',\n",
              "   'even',\n",
              "   'best',\n",
              "   'seafood',\n",
              "   'check',\n",
              "   'tuna',\n",
              "   'lobster',\n",
              "   'allergic',\n",
              "   'indy',\n",
              "   'burger'], ['seafood',\n",
              "   'fish',\n",
              "   'beer',\n",
              "   'great',\n",
              "   'flair',\n",
              "   'try',\n",
              "   'indy',\n",
              "   'even',\n",
              "   'star',\n",
              "   'lobster',\n",
              "   'check',\n",
              "   'shrimp',\n",
              "   'worth',\n",
              "   'tuna',\n",
              "   'wine',\n",
              "   'allergic',\n",
              "   'density',\n",
              "   'best'], ['great',\n",
              "   'try',\n",
              "   'airline',\n",
              "   'shrimp',\n",
              "   'worth',\n",
              "   'happy',\n",
              "   'wine',\n",
              "   'density',\n",
              "   'cheese',\n",
              "   'beer',\n",
              "   'fish',\n",
              "   'even',\n",
              "   'best',\n",
              "   'seafood',\n",
              "   'check',\n",
              "   'tuna',\n",
              "   'lobster',\n",
              "   'indy',\n",
              "   'burger'], ['great',\n",
              "   'try',\n",
              "   'shrimp',\n",
              "   'worth',\n",
              "   'wine',\n",
              "   'density',\n",
              "   'cheese',\n",
              "   'beer',\n",
              "   'fish',\n",
              "   'even',\n",
              "   'fresh',\n",
              "   'seafood',\n",
              "   'trout',\n",
              "   'check',\n",
              "   'tuna',\n",
              "   'allergic',\n",
              "   'flair',\n",
              "   'indy',\n",
              "   'alone'], ['seafood',\n",
              "   'trout',\n",
              "   'cheese',\n",
              "   'beer',\n",
              "   'great',\n",
              "   'check',\n",
              "   'indy',\n",
              "   'try',\n",
              "   'even',\n",
              "   'star',\n",
              "   'alone',\n",
              "   'shrimp',\n",
              "   'wine',\n",
              "   'yeah',\n",
              "   'allergic',\n",
              "   'density'], ['seafood',\n",
              "   'cheese',\n",
              "   'fish',\n",
              "   'great',\n",
              "   'check',\n",
              "   'try',\n",
              "   'indy',\n",
              "   'even',\n",
              "   'lobster',\n",
              "   'airline',\n",
              "   'shrimp',\n",
              "   'worth',\n",
              "   'wine',\n",
              "   'pound',\n",
              "   'allergic',\n",
              "   'density'], ['seafood',\n",
              "   'trout',\n",
              "   'fish',\n",
              "   'great',\n",
              "   'flair',\n",
              "   'check',\n",
              "   'indy',\n",
              "   'try',\n",
              "   'even',\n",
              "   'star',\n",
              "   'shrimp',\n",
              "   'worth',\n",
              "   'tuna',\n",
              "   'happy',\n",
              "   'wine',\n",
              "   'allergic',\n",
              "   'density',\n",
              "   'best'], ['great',\n",
              "   'try',\n",
              "   'airline',\n",
              "   'shrimp',\n",
              "   'worth',\n",
              "   'wine',\n",
              "   'yeah',\n",
              "   'density',\n",
              "   'cheese',\n",
              "   'beer',\n",
              "   'fish',\n",
              "   'even',\n",
              "   'star',\n",
              "   'best',\n",
              "   'seafood',\n",
              "   'trout',\n",
              "   'check',\n",
              "   'tuna',\n",
              "   'lobster',\n",
              "   'allergic',\n",
              "   'flair',\n",
              "   'indy',\n",
              "   'burger'], ['great',\n",
              "   'try',\n",
              "   'shrimp',\n",
              "   'worth',\n",
              "   'wine',\n",
              "   'density',\n",
              "   'cheese',\n",
              "   'fish',\n",
              "   'even',\n",
              "   'star',\n",
              "   'best',\n",
              "   'seafood',\n",
              "   'trout',\n",
              "   'check',\n",
              "   'tuna',\n",
              "   'allergic',\n",
              "   'flair',\n",
              "   'indy',\n",
              "   'burger'], ['seafood',\n",
              "   'trout',\n",
              "   'fish',\n",
              "   'beer',\n",
              "   'great',\n",
              "   'flair',\n",
              "   'try',\n",
              "   'indy',\n",
              "   'check',\n",
              "   'airline',\n",
              "   'shrimp',\n",
              "   'worth',\n",
              "   'tuna',\n",
              "   'happy',\n",
              "   'wine',\n",
              "   'allergic',\n",
              "   'density',\n",
              "   'best']],\n",
              " (20172,\n",
              "  9658): [['nice',\n",
              "   'place',\n",
              "   'love',\n",
              "   'clean',\n",
              "   'trust',\n",
              "   'cheap',\n",
              "   'chopped',\n",
              "   'food',\n",
              "   'every',\n",
              "   'like',\n",
              "   'best'], ['great',\n",
              "   'nice',\n",
              "   'place',\n",
              "   'love',\n",
              "   'personal',\n",
              "   'clean',\n",
              "   'waffle',\n",
              "   'trust',\n",
              "   'cheap',\n",
              "   'food',\n",
              "   'every',\n",
              "   'like',\n",
              "   'best'], ['great',\n",
              "   'nice',\n",
              "   'place',\n",
              "   'love',\n",
              "   'personal',\n",
              "   'clean',\n",
              "   'waffle',\n",
              "   'trust',\n",
              "   'chopped',\n",
              "   'food',\n",
              "   'every',\n",
              "   'like',\n",
              "   'best'], ['place',\n",
              "   'love',\n",
              "   'personal',\n",
              "   'clean',\n",
              "   'trust',\n",
              "   'cheap',\n",
              "   'chopped',\n",
              "   'food',\n",
              "   'every',\n",
              "   'like',\n",
              "   'best'], ['place',\n",
              "   'love',\n",
              "   'personal',\n",
              "   'clean',\n",
              "   'trust',\n",
              "   'cheap',\n",
              "   'chopped',\n",
              "   'food',\n",
              "   'every',\n",
              "   'like',\n",
              "   'best'], ['nice',\n",
              "   'place',\n",
              "   'love',\n",
              "   'clean',\n",
              "   'trust',\n",
              "   'cheap',\n",
              "   'chopped',\n",
              "   'food',\n",
              "   'every',\n",
              "   'like',\n",
              "   'best'], ['nice',\n",
              "   'place',\n",
              "   'love',\n",
              "   'personal',\n",
              "   'clean',\n",
              "   'trust',\n",
              "   'cheap',\n",
              "   'chopped',\n",
              "   'food',\n",
              "   'every',\n",
              "   'like',\n",
              "   'best'], ['great',\n",
              "   'nice',\n",
              "   'place',\n",
              "   'love',\n",
              "   'personal',\n",
              "   'trust',\n",
              "   'cheap',\n",
              "   'chopped',\n",
              "   'clean',\n",
              "   'every',\n",
              "   'like',\n",
              "   'best'], ['great',\n",
              "   'nice',\n",
              "   'place',\n",
              "   'love',\n",
              "   'personal',\n",
              "   'clean',\n",
              "   'trust',\n",
              "   'cheap',\n",
              "   'chopped',\n",
              "   'food',\n",
              "   'every',\n",
              "   'like',\n",
              "   'best'], ['great',\n",
              "   'nice',\n",
              "   'personal',\n",
              "   'clean',\n",
              "   'cheap',\n",
              "   'chopped',\n",
              "   'food',\n",
              "   'every',\n",
              "   'like',\n",
              "   'best']],\n",
              " (1669,\n",
              "  6460): [['truly',\n",
              "   'great',\n",
              "   'try',\n",
              "   'good',\n",
              "   'service',\n",
              "   'terrible',\n",
              "   'atmosphere',\n",
              "   'lunch',\n",
              "   'place',\n",
              "   'cone',\n",
              "   'warm',\n",
              "   'small',\n",
              "   'fresh',\n",
              "   'spring',\n",
              "   'impressive',\n",
              "   'best',\n",
              "   'also',\n",
              "   'check',\n",
              "   'basil',\n",
              "   'tampa',\n",
              "   'staff',\n",
              "   'friendly',\n",
              "   'low',\n",
              "   'amazing',\n",
              "   'delicious',\n",
              "   'food',\n",
              "   'thai',\n",
              "   'first'], ['truly',\n",
              "   'great',\n",
              "   'try',\n",
              "   'good',\n",
              "   'service',\n",
              "   'terrible',\n",
              "   'atmosphere',\n",
              "   'lunch',\n",
              "   'place',\n",
              "   'warm',\n",
              "   'small',\n",
              "   'fresh',\n",
              "   'spring',\n",
              "   'impressive',\n",
              "   'best',\n",
              "   'check',\n",
              "   'tampa',\n",
              "   'staff',\n",
              "   'friendly',\n",
              "   'low',\n",
              "   'amazing',\n",
              "   'delicious',\n",
              "   'food',\n",
              "   'thai',\n",
              "   'first'], ['truly',\n",
              "   'great',\n",
              "   'try',\n",
              "   'good',\n",
              "   'service',\n",
              "   'terrible',\n",
              "   'atmosphere',\n",
              "   'lunch',\n",
              "   'place',\n",
              "   'cone',\n",
              "   'warm',\n",
              "   'small',\n",
              "   'fresh',\n",
              "   'spring',\n",
              "   'impressive',\n",
              "   'best',\n",
              "   'check',\n",
              "   'arriving',\n",
              "   'basil',\n",
              "   'tampa',\n",
              "   'tastes',\n",
              "   'staff',\n",
              "   'friendly',\n",
              "   'low',\n",
              "   'amazing',\n",
              "   'delicious',\n",
              "   'food',\n",
              "   'thai',\n",
              "   'first'], ['truly',\n",
              "   'great',\n",
              "   'try',\n",
              "   'good',\n",
              "   'service',\n",
              "   'terrible',\n",
              "   'atmosphere',\n",
              "   'lunch',\n",
              "   'place',\n",
              "   'cone',\n",
              "   'small',\n",
              "   'fresh',\n",
              "   'spring',\n",
              "   'impressive',\n",
              "   'best',\n",
              "   'also',\n",
              "   'tampa',\n",
              "   'tastes',\n",
              "   'staff',\n",
              "   'friendly',\n",
              "   'low',\n",
              "   'amazing',\n",
              "   'delicious',\n",
              "   'food',\n",
              "   'thai',\n",
              "   'first'], ['truly',\n",
              "   'great',\n",
              "   'try',\n",
              "   'good',\n",
              "   'service',\n",
              "   'terrible',\n",
              "   'atmosphere',\n",
              "   'lunch',\n",
              "   'cone',\n",
              "   'restaurant',\n",
              "   'warm',\n",
              "   'small',\n",
              "   'fresh',\n",
              "   'spring',\n",
              "   'impressive',\n",
              "   'check',\n",
              "   'arriving',\n",
              "   'basil',\n",
              "   'tampa',\n",
              "   'coming',\n",
              "   'staff',\n",
              "   'friendly',\n",
              "   'low',\n",
              "   'amazing',\n",
              "   'delicious',\n",
              "   'food',\n",
              "   'thai',\n",
              "   'first'], ['truly',\n",
              "   'great',\n",
              "   'try',\n",
              "   'good',\n",
              "   'service',\n",
              "   'atmosphere',\n",
              "   'lunch',\n",
              "   'place',\n",
              "   'cone',\n",
              "   'warm',\n",
              "   'small',\n",
              "   'spring',\n",
              "   'fresh',\n",
              "   'impressive',\n",
              "   'best',\n",
              "   'also',\n",
              "   'check',\n",
              "   'basil',\n",
              "   'tampa',\n",
              "   'tastes',\n",
              "   'staff',\n",
              "   'friendly',\n",
              "   'low',\n",
              "   'amazing',\n",
              "   'delicious',\n",
              "   'food',\n",
              "   'thai',\n",
              "   'first'], ['truly',\n",
              "   'great',\n",
              "   'try',\n",
              "   'good',\n",
              "   'service',\n",
              "   'terrible',\n",
              "   'atmosphere',\n",
              "   'lunch',\n",
              "   'place',\n",
              "   'cone',\n",
              "   'warm',\n",
              "   'small',\n",
              "   'fresh',\n",
              "   'spring',\n",
              "   'impressive',\n",
              "   'best',\n",
              "   'check',\n",
              "   'tampa',\n",
              "   'tastes',\n",
              "   'staff',\n",
              "   'friendly',\n",
              "   'low',\n",
              "   'delicious',\n",
              "   'food',\n",
              "   'thai',\n",
              "   'first'], ['tom',\n",
              "   'truly',\n",
              "   'great',\n",
              "   'try',\n",
              "   'good',\n",
              "   'service',\n",
              "   'terrible',\n",
              "   'lunch',\n",
              "   'place',\n",
              "   'cone',\n",
              "   'warm',\n",
              "   'small',\n",
              "   'fresh',\n",
              "   'spring',\n",
              "   'impressive',\n",
              "   'best',\n",
              "   'basil',\n",
              "   'tampa',\n",
              "   'coming',\n",
              "   'staff',\n",
              "   'friendly',\n",
              "   'low',\n",
              "   'amazing',\n",
              "   'delicious',\n",
              "   'food',\n",
              "   'thai',\n",
              "   'first'], ['tom',\n",
              "   'truly',\n",
              "   'great',\n",
              "   'good',\n",
              "   'service',\n",
              "   'terrible',\n",
              "   'lunch',\n",
              "   'place',\n",
              "   'cone',\n",
              "   'warm',\n",
              "   'small',\n",
              "   'fresh',\n",
              "   'spring',\n",
              "   'impressive',\n",
              "   'best',\n",
              "   'also',\n",
              "   'check',\n",
              "   'basil',\n",
              "   'tampa',\n",
              "   'staff',\n",
              "   'friendly',\n",
              "   'low',\n",
              "   'amazing',\n",
              "   'delicious',\n",
              "   'food',\n",
              "   'thai',\n",
              "   'first'], ['truly',\n",
              "   'great',\n",
              "   'try',\n",
              "   'good',\n",
              "   'service',\n",
              "   'terrible',\n",
              "   'atmosphere',\n",
              "   'lunch',\n",
              "   'place',\n",
              "   'cone',\n",
              "   'warm',\n",
              "   'small',\n",
              "   'fresh',\n",
              "   'spring',\n",
              "   'impressive',\n",
              "   'best',\n",
              "   'check',\n",
              "   'basil',\n",
              "   'tampa',\n",
              "   'tastes',\n",
              "   'coming',\n",
              "   'staff',\n",
              "   'friendly',\n",
              "   'low',\n",
              "   'amazing',\n",
              "   'delicious',\n",
              "   'food',\n",
              "   'thai',\n",
              "   'first']],\n",
              " (1669, 832): [[],\n",
              "  ['ticket', 'lunch'],\n",
              "  [],\n",
              "  [],\n",
              "  ['ipa', 'ticket', 'artichoke'],\n",
              "  [],\n",
              "  ['ticket', 'artichoke'],\n",
              "  ['artichoke'],\n",
              "  ['lunch', 'artichoke', 'wabberson'],\n",
              "  ['ipa', 'ticket', 'pop', 'specials']],\n",
              " (1669, 5788): [['taste', 'good', 'service', 'long'],\n",
              "  ['good', 'long'],\n",
              "  ['good', 'chopped', 'long'],\n",
              "  ['good', 'chopped', 'long'],\n",
              "  ['good', 'long'],\n",
              "  ['good', 'long'],\n",
              "  ['taste', 'clean', 'chopped', 'good'],\n",
              "  ['good', 'clean', 'service', 'long'],\n",
              "  ['taste', 'good', 'long'],\n",
              "  ['taste', 'good', 'long']],\n",
              " (1669, 996): [[],\n",
              "  ['food', 'good', 'wonderful', 'person'],\n",
              "  ['eat'],\n",
              "  ['breakfast'],\n",
              "  ['somewhere', 'person'],\n",
              "  ['person', 'eat', 'really', 'breakfast', 'somewhere'],\n",
              "  ['really', 'person'],\n",
              "  ['person'],\n",
              "  ['food', 'eat'],\n",
              "  ['really', 'eat']],\n",
              " (502,\n",
              "  1815): [['reminds',\n",
              "   'kids',\n",
              "   'bomb',\n",
              "   'wish',\n",
              "   'finger',\n",
              "   'iced',\n",
              "   'strips',\n",
              "   'really',\n",
              "   'busy',\n",
              "   'disco',\n",
              "   'fingers',\n",
              "   'inside',\n",
              "   'college',\n",
              "   'toast',\n",
              "   'tea',\n",
              "   'chicken',\n",
              "   'cane'], ['caniac',\n",
              "   'lemonade',\n",
              "   'tea',\n",
              "   'reminds',\n",
              "   'menu',\n",
              "   'disco',\n",
              "   'combo',\n",
              "   'chicken',\n",
              "   'cane',\n",
              "   'best',\n",
              "   'one',\n",
              "   'texas',\n",
              "   'fingers',\n",
              "   'toast',\n",
              "   'white',\n",
              "   'bomb',\n",
              "   'wish',\n",
              "   'iced',\n",
              "   'inside',\n",
              "   'eating',\n",
              "   'come'], ['dip',\n",
              "   'lemonade',\n",
              "   'tea',\n",
              "   'reminds',\n",
              "   'kids',\n",
              "   'strips',\n",
              "   'soda',\n",
              "   'disco',\n",
              "   'combo',\n",
              "   'chicken',\n",
              "   'cane',\n",
              "   'one',\n",
              "   'finger',\n",
              "   'texas',\n",
              "   'fingers',\n",
              "   'toast',\n",
              "   'simple',\n",
              "   'patio',\n",
              "   'ball',\n",
              "   'bomb',\n",
              "   'wish',\n",
              "   'iced',\n",
              "   'busy',\n",
              "   'inside',\n",
              "   'college'], ['lemonade',\n",
              "   'reminds',\n",
              "   'kids',\n",
              "   'strips',\n",
              "   'menu',\n",
              "   'sauce',\n",
              "   'disco',\n",
              "   'chicken',\n",
              "   'cane',\n",
              "   'best',\n",
              "   'one',\n",
              "   'finger',\n",
              "   'make',\n",
              "   'fingers',\n",
              "   'sucks',\n",
              "   'toast',\n",
              "   'patio',\n",
              "   'ball',\n",
              "   'white',\n",
              "   'bomb',\n",
              "   'wait',\n",
              "   'iced',\n",
              "   'inside',\n",
              "   'college'], ['besides',\n",
              "   'dip',\n",
              "   'lemonade',\n",
              "   'reminds',\n",
              "   'kids',\n",
              "   'bueno',\n",
              "   'strips',\n",
              "   'disco',\n",
              "   'sauce',\n",
              "   'chicken',\n",
              "   'cane',\n",
              "   'best',\n",
              "   'one',\n",
              "   'finger',\n",
              "   'make',\n",
              "   'texas',\n",
              "   'fingers',\n",
              "   'toast',\n",
              "   'simple',\n",
              "   'patio',\n",
              "   'ball',\n",
              "   'white',\n",
              "   'bomb',\n",
              "   'wait',\n",
              "   'wish',\n",
              "   'iced',\n",
              "   'really',\n",
              "   'inside',\n",
              "   'eating',\n",
              "   'college'], ['dip',\n",
              "   'lemonade',\n",
              "   'tea',\n",
              "   'kids',\n",
              "   'strips',\n",
              "   'disco',\n",
              "   'sauce',\n",
              "   'combo',\n",
              "   'chicken',\n",
              "   'cane',\n",
              "   'one',\n",
              "   'finger',\n",
              "   'make',\n",
              "   'texas',\n",
              "   'fingers',\n",
              "   'toast',\n",
              "   'white',\n",
              "   'bomb',\n",
              "   'iced',\n",
              "   'busy',\n",
              "   'inside',\n",
              "   'eating',\n",
              "   'college'], ['lemonade',\n",
              "   'reminds',\n",
              "   'strips',\n",
              "   'menu',\n",
              "   'disco',\n",
              "   'chicken',\n",
              "   'cane',\n",
              "   'one',\n",
              "   'make',\n",
              "   'texas',\n",
              "   'fingers',\n",
              "   'toast',\n",
              "   'simple',\n",
              "   'patio',\n",
              "   'white',\n",
              "   'bomb',\n",
              "   'iced',\n",
              "   'inside',\n",
              "   'delicious',\n",
              "   'college',\n",
              "   'come'], ['lemonade',\n",
              "   'reminds',\n",
              "   'kids',\n",
              "   'strips',\n",
              "   'soda',\n",
              "   'anymore',\n",
              "   'disco',\n",
              "   'chicken',\n",
              "   'cane',\n",
              "   'fingers',\n",
              "   'toast',\n",
              "   'ball',\n",
              "   'iced',\n",
              "   'really',\n",
              "   'inside',\n",
              "   'eating',\n",
              "   'delicious',\n",
              "   'college',\n",
              "   'come'], ['lemonade',\n",
              "   'tea',\n",
              "   'reminds',\n",
              "   'strips',\n",
              "   'soda',\n",
              "   'menu',\n",
              "   'disco',\n",
              "   'chicken',\n",
              "   'cane',\n",
              "   'finger',\n",
              "   'make',\n",
              "   'texas',\n",
              "   'fingers',\n",
              "   'toast',\n",
              "   'patio',\n",
              "   'bomb',\n",
              "   'wish',\n",
              "   'iced',\n",
              "   'busy',\n",
              "   'college',\n",
              "   'come'], ['dip',\n",
              "   'lemonade',\n",
              "   'tea',\n",
              "   'reminds',\n",
              "   'kids',\n",
              "   'soda',\n",
              "   'anymore',\n",
              "   'disco',\n",
              "   'combo',\n",
              "   'chicken',\n",
              "   'cane',\n",
              "   'best',\n",
              "   'one',\n",
              "   'finger',\n",
              "   'make',\n",
              "   'texas',\n",
              "   'fingers',\n",
              "   'toast',\n",
              "   'patio',\n",
              "   'ball',\n",
              "   'white',\n",
              "   'bomb',\n",
              "   'iced',\n",
              "   'inside',\n",
              "   'come']],\n",
              " (502, 10963): [[],\n",
              "  ['still'],\n",
              "  ['looking', 'still'],\n",
              "  ['still'],\n",
              "  ['still'],\n",
              "  [],\n",
              "  ['looking', 'still'],\n",
              "  ['looking', 'still'],\n",
              "  ['looking', 'still'],\n",
              "  ['looking', 'still']],\n",
              " (502,\n",
              "  5096): [['peanut',\n",
              "   'sandwiches',\n",
              "   'cinnamon',\n",
              "   'coast',\n",
              "   'wish',\n",
              "   'awesome',\n",
              "   'green',\n",
              "   'mmmmmm',\n",
              "   'carp',\n",
              "   'nutella',\n",
              "   'sandwich',\n",
              "   'hummus',\n",
              "   'spinach'], ['sandwiches',\n",
              "   'cinnamon',\n",
              "   'loves',\n",
              "   'coast',\n",
              "   'wish',\n",
              "   'awesome',\n",
              "   'green',\n",
              "   'mmmmmm',\n",
              "   'carp',\n",
              "   'nutella',\n",
              "   'apple'], ['peanut',\n",
              "   'cinnamon',\n",
              "   'loves',\n",
              "   'coast',\n",
              "   'wish',\n",
              "   'awesome',\n",
              "   'green',\n",
              "   'mmmmmm',\n",
              "   'carp',\n",
              "   'sandwich',\n",
              "   'nutella',\n",
              "   'apple'], ['peanut',\n",
              "   'sandwiches',\n",
              "   'cinnamon',\n",
              "   'loves',\n",
              "   'coast',\n",
              "   'awesome',\n",
              "   'green',\n",
              "   'mmmmmm',\n",
              "   'carp',\n",
              "   'sandwich',\n",
              "   'apple'], ['cinnamon',\n",
              "   'loves',\n",
              "   'coast',\n",
              "   'wish',\n",
              "   'awesome',\n",
              "   'green',\n",
              "   'mmmmmm',\n",
              "   'carp',\n",
              "   'sandwich',\n",
              "   'nutella',\n",
              "   'apple'], ['peanut',\n",
              "   'cinnamon',\n",
              "   'loves',\n",
              "   'coast',\n",
              "   'serves',\n",
              "   'awesome',\n",
              "   'green',\n",
              "   'carp',\n",
              "   'nutella',\n",
              "   'sandwich',\n",
              "   'hummus',\n",
              "   'apple'], ['peanut',\n",
              "   'cinnamon',\n",
              "   'loves',\n",
              "   'coast',\n",
              "   'wish',\n",
              "   'awesome',\n",
              "   'green',\n",
              "   'mmmmmm',\n",
              "   'carp',\n",
              "   'sandwich',\n",
              "   'hummus',\n",
              "   'apple'], ['peanut',\n",
              "   'sandwiches',\n",
              "   'salad',\n",
              "   'loves',\n",
              "   'cinnamon',\n",
              "   'coast',\n",
              "   'wish',\n",
              "   'awesome',\n",
              "   'green',\n",
              "   'mmmmmm',\n",
              "   'carp',\n",
              "   'sandwich',\n",
              "   'apple'], ['peanut',\n",
              "   'salad',\n",
              "   'loves',\n",
              "   'cinnamon',\n",
              "   'coast',\n",
              "   'awesome',\n",
              "   'maple',\n",
              "   'green',\n",
              "   'mmmmmm',\n",
              "   'carp',\n",
              "   'sandwich',\n",
              "   'apple'], ['sandwiches',\n",
              "   'cinnamon',\n",
              "   'loves',\n",
              "   'coast',\n",
              "   'awesome',\n",
              "   'green',\n",
              "   'forget',\n",
              "   'carp',\n",
              "   'nutella',\n",
              "   'sandwich',\n",
              "   'hummus',\n",
              "   'apple']],\n",
              " (502,\n",
              "  13547): [['soy',\n",
              "   'english',\n",
              "   'might',\n",
              "   'jamaican',\n",
              "   'restaurant',\n",
              "   'amazing',\n",
              "   'town',\n",
              "   'voodoo',\n",
              "   'top',\n",
              "   'service',\n",
              "   'jalapeno',\n",
              "   'door',\n",
              "   'atmosphere',\n",
              "   'spring',\n",
              "   'food',\n",
              "   'chicken',\n",
              "   'fries',\n",
              "   'best'], ['english',\n",
              "   'service',\n",
              "   'jalapeno',\n",
              "   'atmosphere',\n",
              "   'bar',\n",
              "   'place',\n",
              "   'restaurant',\n",
              "   'roof',\n",
              "   'voodoo',\n",
              "   'potatoes',\n",
              "   'spring',\n",
              "   'chicken',\n",
              "   'fries',\n",
              "   'best',\n",
              "   'might',\n",
              "   'sunset',\n",
              "   'top',\n",
              "   'soy',\n",
              "   'jamaican',\n",
              "   'amazing',\n",
              "   'food'], ['english',\n",
              "   'service',\n",
              "   'jalapeno',\n",
              "   'atmosphere',\n",
              "   'place',\n",
              "   'restaurant',\n",
              "   'roof',\n",
              "   'town',\n",
              "   'voodoo',\n",
              "   'door',\n",
              "   'spring',\n",
              "   'fries',\n",
              "   'best',\n",
              "   'might',\n",
              "   'sunset',\n",
              "   'top',\n",
              "   'soy',\n",
              "   'jamaican',\n",
              "   'amazing',\n",
              "   'food'], ['english',\n",
              "   'service',\n",
              "   'jalapeno',\n",
              "   'atmosphere',\n",
              "   'place',\n",
              "   'restaurant',\n",
              "   'roof',\n",
              "   'voodoo',\n",
              "   'door',\n",
              "   'spring',\n",
              "   'chicken',\n",
              "   'best',\n",
              "   'beet',\n",
              "   'might',\n",
              "   'sunset',\n",
              "   'soy',\n",
              "   'jamaican',\n",
              "   'amazing',\n",
              "   'cough',\n",
              "   'food'], ['soy',\n",
              "   'place',\n",
              "   'might',\n",
              "   'sunset',\n",
              "   'roof',\n",
              "   'town',\n",
              "   'voodoo',\n",
              "   'top',\n",
              "   'service',\n",
              "   'jalapeno',\n",
              "   'potatoes',\n",
              "   'door',\n",
              "   'atmosphere',\n",
              "   'early',\n",
              "   'food',\n",
              "   'spring'], ['service',\n",
              "   'jalapeno',\n",
              "   'atmosphere',\n",
              "   'place',\n",
              "   'restaurant',\n",
              "   'roof',\n",
              "   'town',\n",
              "   'voodoo',\n",
              "   'door',\n",
              "   'spring',\n",
              "   'chicken',\n",
              "   'best',\n",
              "   'might',\n",
              "   'sunset',\n",
              "   'top',\n",
              "   'soy',\n",
              "   'jamaican',\n",
              "   'amazing',\n",
              "   'food'], ['english',\n",
              "   'service',\n",
              "   'atmosphere',\n",
              "   'place',\n",
              "   'roof',\n",
              "   'voodoo',\n",
              "   'potatoes',\n",
              "   'door',\n",
              "   'spring',\n",
              "   'chicken',\n",
              "   'fries',\n",
              "   'best',\n",
              "   'beet',\n",
              "   'might',\n",
              "   'sunset',\n",
              "   'top',\n",
              "   'soy',\n",
              "   'jamaican',\n",
              "   'amazing',\n",
              "   'food'], ['soy',\n",
              "   'place',\n",
              "   'might',\n",
              "   'sunset',\n",
              "   'amazing',\n",
              "   'roof',\n",
              "   'town',\n",
              "   'voodoo',\n",
              "   'jalapeno',\n",
              "   'door',\n",
              "   'atmosphere',\n",
              "   'spring',\n",
              "   'food',\n",
              "   'chicken',\n",
              "   'bar',\n",
              "   'fries',\n",
              "   'best',\n",
              "   'beet'], ['soy',\n",
              "   'place',\n",
              "   'jamaican',\n",
              "   'sunset',\n",
              "   'amazing',\n",
              "   'might',\n",
              "   'voodoo',\n",
              "   'top',\n",
              "   'service',\n",
              "   'jalapeno',\n",
              "   'door',\n",
              "   'atmosphere',\n",
              "   'spring',\n",
              "   'food',\n",
              "   'chicken',\n",
              "   'fries',\n",
              "   'best'], ['service',\n",
              "   'jalapeno',\n",
              "   'bar',\n",
              "   'restaurant',\n",
              "   'roof',\n",
              "   'voodoo',\n",
              "   'door',\n",
              "   'spring',\n",
              "   'chicken',\n",
              "   'fries',\n",
              "   'best',\n",
              "   'beet',\n",
              "   'might',\n",
              "   'sunset',\n",
              "   'top',\n",
              "   'soy',\n",
              "   'jamaican',\n",
              "   'amazing',\n",
              "   'food']],\n",
              " (50, 25621): [['court'],\n",
              "  [],\n",
              "  [],\n",
              "  ['house'],\n",
              "  ['court'],\n",
              "  ['corner'],\n",
              "  [],\n",
              "  ['court'],\n",
              "  []],\n",
              " (50,\n",
              "  2716): [['concealed',\n",
              "   'fish',\n",
              "   'reminder',\n",
              "   'weapon',\n",
              "   'pita',\n",
              "   'salmon',\n",
              "   'whole',\n",
              "   'new',\n",
              "   'fresh',\n",
              "   'chicken',\n",
              "   'best'], ['salad',\n",
              "   'fish',\n",
              "   'reminder',\n",
              "   'weapon',\n",
              "   'salmon',\n",
              "   'fresh',\n",
              "   'chicken'], ['least',\n",
              "   'concealed',\n",
              "   'fish',\n",
              "   'salmon',\n",
              "   'whole',\n",
              "   'reasonable',\n",
              "   'fresh',\n",
              "   'chicken',\n",
              "   'best'], ['least',\n",
              "   'fish',\n",
              "   'reminder',\n",
              "   'weapon',\n",
              "   'pita',\n",
              "   'salmon',\n",
              "   'whole',\n",
              "   'reasonable',\n",
              "   'new',\n",
              "   'fresh',\n",
              "   'chicken',\n",
              "   'best'], ['least',\n",
              "   'concealed',\n",
              "   'fish',\n",
              "   'reminder',\n",
              "   'weapon',\n",
              "   'salad',\n",
              "   'openly',\n",
              "   'reasonable',\n",
              "   'new',\n",
              "   'fresh',\n",
              "   'chicken',\n",
              "   'best'], ['least',\n",
              "   'chicken',\n",
              "   'fish',\n",
              "   'reminder',\n",
              "   'weapon',\n",
              "   'fast',\n",
              "   'salad',\n",
              "   'pita',\n",
              "   'place',\n",
              "   'salmon',\n",
              "   'reasonable',\n",
              "   'new',\n",
              "   'fresh',\n",
              "   'get',\n",
              "   'best'], ['least',\n",
              "   'salad',\n",
              "   'fish',\n",
              "   'salmon',\n",
              "   'weapon',\n",
              "   'fast',\n",
              "   'pita',\n",
              "   'town',\n",
              "   'whole',\n",
              "   'reasonable',\n",
              "   'new',\n",
              "   'fresh',\n",
              "   'chicken',\n",
              "   'best'], ['reminder',\n",
              "   'weapon',\n",
              "   'salmon',\n",
              "   'whole',\n",
              "   'fresh',\n",
              "   'chicken'], ['least', 'parking', 'fish', 'reminder', 'weapon', 'fast', 'pita', 'salmon', 'packed', 'new', 'fresh', 'chicken', 'best'], ['fish',\n",
              "   'reminder',\n",
              "   'weapon',\n",
              "   'fast',\n",
              "   'salmon',\n",
              "   'openly',\n",
              "   'whole',\n",
              "   'reasonable',\n",
              "   'new',\n",
              "   'fresh',\n",
              "   'chicken',\n",
              "   'best']],\n",
              " (50,\n",
              "  9171): [['last',\n",
              "   'water',\n",
              "   'independent',\n",
              "   'beef',\n",
              "   'action',\n",
              "   'jam',\n",
              "   'summer',\n",
              "   'taste',\n",
              "   'wonderful',\n",
              "   'boys',\n",
              "   'front',\n",
              "   'bar',\n",
              "   'best'], ['side',\n",
              "   'great',\n",
              "   'water',\n",
              "   'part',\n",
              "   'independent',\n",
              "   'friendly',\n",
              "   'beef',\n",
              "   'closes',\n",
              "   'jam',\n",
              "   'hollywood',\n",
              "   'summer',\n",
              "   'festive',\n",
              "   'wonderful',\n",
              "   'last',\n",
              "   'kitchen',\n",
              "   'action',\n",
              "   'bar',\n",
              "   'best'], ['last',\n",
              "   'great',\n",
              "   'water',\n",
              "   'staff',\n",
              "   'beef',\n",
              "   'closes',\n",
              "   'jam',\n",
              "   'hollywood',\n",
              "   'taste',\n",
              "   'boys',\n",
              "   'front',\n",
              "   'best'], ['last',\n",
              "   'side',\n",
              "   'great',\n",
              "   'water',\n",
              "   'independent',\n",
              "   'closes',\n",
              "   'summer',\n",
              "   'festive',\n",
              "   'taste',\n",
              "   'boys',\n",
              "   'action',\n",
              "   'frank',\n",
              "   'best'], ['last',\n",
              "   'side',\n",
              "   'independent',\n",
              "   'beef',\n",
              "   'closes',\n",
              "   'festive',\n",
              "   'taste',\n",
              "   'boys',\n",
              "   'kitchen',\n",
              "   'action',\n",
              "   'bar'], ['great',\n",
              "   'water',\n",
              "   'beef',\n",
              "   'closes',\n",
              "   'summer',\n",
              "   'festive',\n",
              "   'taste',\n",
              "   'wonderful',\n",
              "   'last',\n",
              "   'front',\n",
              "   'bar'], ['last',\n",
              "   'side',\n",
              "   'great',\n",
              "   'water',\n",
              "   'staff',\n",
              "   'independent',\n",
              "   'friendly',\n",
              "   'closes',\n",
              "   'action',\n",
              "   'hollywood',\n",
              "   'summer',\n",
              "   'taste',\n",
              "   'boys',\n",
              "   'kitchen',\n",
              "   'front',\n",
              "   'bar',\n",
              "   'frank',\n",
              "   'best'], ['side',\n",
              "   'great',\n",
              "   'water',\n",
              "   'staff',\n",
              "   'independent',\n",
              "   'beef',\n",
              "   'hollywood',\n",
              "   'summer',\n",
              "   'festive',\n",
              "   'taste',\n",
              "   'wonderful',\n",
              "   'last',\n",
              "   'action',\n",
              "   'bar',\n",
              "   'best'], ['last',\n",
              "   'side',\n",
              "   'great',\n",
              "   'water',\n",
              "   'independent',\n",
              "   'hollywood',\n",
              "   'festive',\n",
              "   'wonderful',\n",
              "   'boys'], ['great',\n",
              "   'water',\n",
              "   'independent',\n",
              "   'beef',\n",
              "   'hollywood',\n",
              "   'festive',\n",
              "   'taste',\n",
              "   'wonderful',\n",
              "   'side',\n",
              "   'action',\n",
              "   'bar',\n",
              "   'best']],\n",
              " (50, 5706): [[], [], [], [], ['sit'], ['want'], ['want'], [], [], ['want']],\n",
              " (1129,\n",
              "  11787): [['tour',\n",
              "   'bottles',\n",
              "   'pizza',\n",
              "   'party',\n",
              "   'friday',\n",
              "   'beautiful',\n",
              "   'place',\n",
              "   'setup',\n",
              "   'friends',\n",
              "   'looks',\n",
              "   'dave',\n",
              "   'lot',\n",
              "   'garden',\n",
              "   'room',\n",
              "   'jerry',\n",
              "   'indy',\n",
              "   'deliver',\n",
              "   'cute',\n",
              "   'selection',\n",
              "   'something',\n",
              "   'time',\n",
              "   'come',\n",
              "   'unexpected',\n",
              "   'company',\n",
              "   'music'], ['bottles',\n",
              "   'pizza',\n",
              "   'winery',\n",
              "   'party',\n",
              "   'friday',\n",
              "   'beautiful',\n",
              "   'place',\n",
              "   'setup',\n",
              "   'friends',\n",
              "   'looks',\n",
              "   'dave',\n",
              "   'lot',\n",
              "   'garden',\n",
              "   'room',\n",
              "   'limited',\n",
              "   'jerry',\n",
              "   'indy',\n",
              "   'deliver',\n",
              "   'cute',\n",
              "   'selection',\n",
              "   'something',\n",
              "   'time',\n",
              "   'come',\n",
              "   'unexpected',\n",
              "   'company',\n",
              "   'music'], ['bottles',\n",
              "   'pizza',\n",
              "   'winery',\n",
              "   'party',\n",
              "   'friday',\n",
              "   'beautiful',\n",
              "   'place',\n",
              "   'setup',\n",
              "   'friends',\n",
              "   'looks',\n",
              "   'dave',\n",
              "   'lot',\n",
              "   'garden',\n",
              "   'room',\n",
              "   'limited',\n",
              "   'jerry',\n",
              "   'indy',\n",
              "   'cute',\n",
              "   'selection',\n",
              "   'something',\n",
              "   'time',\n",
              "   'come',\n",
              "   'unexpected',\n",
              "   'company',\n",
              "   'music'], ['bottles',\n",
              "   'pizza',\n",
              "   'winery',\n",
              "   'party',\n",
              "   'friday',\n",
              "   'beautiful',\n",
              "   'place',\n",
              "   'setup',\n",
              "   'friends',\n",
              "   'looks',\n",
              "   'dave',\n",
              "   'lot',\n",
              "   'garden',\n",
              "   'room',\n",
              "   'jerry',\n",
              "   'indy',\n",
              "   'cute',\n",
              "   'selection',\n",
              "   'something',\n",
              "   'time',\n",
              "   'come',\n",
              "   'unexpected',\n",
              "   'company',\n",
              "   'music'], ['bottles',\n",
              "   'pizza',\n",
              "   'winery',\n",
              "   'party',\n",
              "   'friday',\n",
              "   'beautiful',\n",
              "   'place',\n",
              "   'setup',\n",
              "   'friends',\n",
              "   'looks',\n",
              "   'dave',\n",
              "   'lot',\n",
              "   'garden',\n",
              "   'room',\n",
              "   'limited',\n",
              "   'jerry',\n",
              "   'indy',\n",
              "   'deliver',\n",
              "   'cute',\n",
              "   'selection',\n",
              "   'something',\n",
              "   'time',\n",
              "   'come',\n",
              "   'unexpected',\n",
              "   'company',\n",
              "   'music'], ['tour',\n",
              "   'bottles',\n",
              "   'pizza',\n",
              "   'winery',\n",
              "   'party',\n",
              "   'friday',\n",
              "   'beautiful',\n",
              "   'place',\n",
              "   'setup',\n",
              "   'friends',\n",
              "   'looks',\n",
              "   'dave',\n",
              "   'lot',\n",
              "   'garden',\n",
              "   'room',\n",
              "   'jerry',\n",
              "   'indy',\n",
              "   'cute',\n",
              "   'selection',\n",
              "   'something',\n",
              "   'time',\n",
              "   'come',\n",
              "   'unexpected',\n",
              "   'company',\n",
              "   'music'], ['bottles',\n",
              "   'pizza',\n",
              "   'winery',\n",
              "   'party',\n",
              "   'friday',\n",
              "   'beautiful',\n",
              "   'place',\n",
              "   'setup',\n",
              "   'friends',\n",
              "   'looks',\n",
              "   'dave',\n",
              "   'lot',\n",
              "   'garden',\n",
              "   'room',\n",
              "   'jerry',\n",
              "   'indy',\n",
              "   'cute',\n",
              "   'selection',\n",
              "   'something',\n",
              "   'come',\n",
              "   'unexpected',\n",
              "   'company',\n",
              "   'music'], ['tour',\n",
              "   'bottles',\n",
              "   'pizza',\n",
              "   'winery',\n",
              "   'party',\n",
              "   'friday',\n",
              "   'beautiful',\n",
              "   'place',\n",
              "   'setup',\n",
              "   'friends',\n",
              "   'looks',\n",
              "   'dave',\n",
              "   'lot',\n",
              "   'garden',\n",
              "   'room',\n",
              "   'limited',\n",
              "   'jerry',\n",
              "   'indy',\n",
              "   'cute',\n",
              "   'selection',\n",
              "   'something',\n",
              "   'come',\n",
              "   'unexpected',\n",
              "   'company',\n",
              "   'music'], ['tour',\n",
              "   'bottles',\n",
              "   'pizza',\n",
              "   'winery',\n",
              "   'party',\n",
              "   'friday',\n",
              "   'beautiful',\n",
              "   'place',\n",
              "   'setup',\n",
              "   'friends',\n",
              "   'looks',\n",
              "   'lot',\n",
              "   'garden',\n",
              "   'room',\n",
              "   'limited',\n",
              "   'jerry',\n",
              "   'indy',\n",
              "   'deliver',\n",
              "   'cute',\n",
              "   'selection',\n",
              "   'something',\n",
              "   'time',\n",
              "   'come',\n",
              "   'unexpected',\n",
              "   'company',\n",
              "   'music'], ['bottles',\n",
              "   'pizza',\n",
              "   'winery',\n",
              "   'party',\n",
              "   'friday',\n",
              "   'beautiful',\n",
              "   'place',\n",
              "   'setup',\n",
              "   'friends',\n",
              "   'looks',\n",
              "   'lot',\n",
              "   'garden',\n",
              "   'room',\n",
              "   'jerry',\n",
              "   'indy',\n",
              "   'cute',\n",
              "   'selection',\n",
              "   'something',\n",
              "   'time',\n",
              "   'come',\n",
              "   'unexpected',\n",
              "   'company',\n",
              "   'music']],\n",
              " (1129, 4637): [['hang', 'love', 'tonight', 'huge'],\n",
              "  ['hang', 'glass', 'fish', 'work', 'ask', 'spot'],\n",
              "  ['hang', 'love', 'ask', 'weekends', 'full'],\n",
              "  ['hang', 'fish', 'portion', 'food', 'order'],\n",
              "  ['food', 'fairly', 'ask', 'portion'],\n",
              "  ['food', 'spot', 'fairly', 'owners'],\n",
              "  ['food',\n",
              "   'fairly',\n",
              "   'work',\n",
              "   'love',\n",
              "   'server',\n",
              "   'ask',\n",
              "   'meat',\n",
              "   'breakfast',\n",
              "   'keg'],\n",
              "  ['food', 'love', 'meat', 'eat'],\n",
              "  ['fairly', 'work', 'portion', 'love', 'ask', 'pepper', 'order'],\n",
              "  ['hang', 'glass', 'fish', 'fairly', 'work']],\n",
              " (1129, 6585): [['hole'], [], [], [], [], [], [], [], [], []],\n",
              " (1129, 8643): [[],\n",
              "  [],\n",
              "  ['crispy'],\n",
              "  ['vegan', 'crispy'],\n",
              "  ['chicken', 'crispy', 'time', 'long'],\n",
              "  ['time'],\n",
              "  ['crispy', 'long'],\n",
              "  ['long'],\n",
              "  ['crispy', 'long'],\n",
              "  []],\n",
              " (7063, 36716): [['min', 'combo', 'eve'],\n",
              "  ['perfect', 'min', 'combo', 'eve'],\n",
              "  ['min', 'combo', 'eve'],\n",
              "  ['min', 'combo', 'eve'],\n",
              "  ['min', 'combo', 'eve'],\n",
              "  ['min', 'combo', 'eve'],\n",
              "  ['min', 'combo', 'eve'],\n",
              "  ['min', 'combo', 'eve'],\n",
              "  ['min', 'combo', 'eve'],\n",
              "  ['min', 'combo', 'eve']],\n",
              " (7063,\n",
              "  1305): [['gin',\n",
              "   'beer',\n",
              "   'drinks',\n",
              "   'still',\n",
              "   'validate',\n",
              "   'wine',\n",
              "   'dog',\n",
              "   'race',\n",
              "   'sicilian'], ['open',\n",
              "   'parking',\n",
              "   'staff',\n",
              "   'seasonal',\n",
              "   'ginger',\n",
              "   'wine'], ['parking', 'gin', 'cocktail', 'beer', 'staff', 'drinks', 'light', 'snap', 'outside', 'ginger', 'wine', 'park'], ['drinks',\n",
              "   'hour',\n",
              "   'seasonal',\n",
              "   'ginger',\n",
              "   'wine'], ['open',\n",
              "   'parking',\n",
              "   'gin',\n",
              "   'cocktail',\n",
              "   'beer',\n",
              "   'staff',\n",
              "   'drinks',\n",
              "   'validate',\n",
              "   'seasonal',\n",
              "   'ginger',\n",
              "   'wine',\n",
              "   'park',\n",
              "   'bar'], ['open',\n",
              "   'parking',\n",
              "   'gin',\n",
              "   'cocktail',\n",
              "   'beer',\n",
              "   'staff',\n",
              "   'drinks',\n",
              "   'light',\n",
              "   'love',\n",
              "   'snap',\n",
              "   'still',\n",
              "   'validate',\n",
              "   'seasonal',\n",
              "   'ginger',\n",
              "   'wine',\n",
              "   'dog',\n",
              "   'damper'], ['open',\n",
              "   'parking',\n",
              "   'cocktail',\n",
              "   'beer',\n",
              "   'validate',\n",
              "   'seasonal',\n",
              "   'ginger',\n",
              "   'wine',\n",
              "   'dog',\n",
              "   'bar'], ['open',\n",
              "   'parking',\n",
              "   'gin',\n",
              "   'beer',\n",
              "   'staff',\n",
              "   'service',\n",
              "   'seasonal',\n",
              "   'ginger',\n",
              "   'wine',\n",
              "   'dog',\n",
              "   'park'], ['open',\n",
              "   'parking',\n",
              "   'gin',\n",
              "   'beer',\n",
              "   'staff',\n",
              "   'drinks',\n",
              "   'snap',\n",
              "   'service',\n",
              "   'validate',\n",
              "   'bar',\n",
              "   'birley',\n",
              "   'seasonal',\n",
              "   'ginger',\n",
              "   'wine',\n",
              "   'dog',\n",
              "   'race',\n",
              "   'damper',\n",
              "   'sicilian'], ['parking',\n",
              "   'cocktail',\n",
              "   'beer',\n",
              "   'staff',\n",
              "   'drinks',\n",
              "   'snap',\n",
              "   'hour',\n",
              "   'validate',\n",
              "   'still',\n",
              "   'squash']],\n",
              " (7063,\n",
              "  4926): [['heavy',\n",
              "   'die',\n",
              "   'cocktail',\n",
              "   'hospitality',\n",
              "   'brunch',\n",
              "   'vibe',\n",
              "   'retro',\n",
              "   'hour',\n",
              "   'celebrating',\n",
              "   'today',\n",
              "   'foobooz',\n",
              "   'happy',\n",
              "   'food',\n",
              "   'friday',\n",
              "   'troegenator',\n",
              "   'dinner',\n",
              "   'specials',\n",
              "   'waiting',\n",
              "   'mad',\n",
              "   'greet',\n",
              "   'ruined',\n",
              "   'nashville',\n",
              "   'cheese',\n",
              "   'lunch',\n",
              "   'curds',\n",
              "   'pouches',\n",
              "   'holy',\n",
              "   'came',\n",
              "   'despite',\n",
              "   'ribs',\n",
              "   'late',\n",
              "   'chicken',\n",
              "   'hang',\n",
              "   'scallops',\n",
              "   'instead',\n",
              "   'deals',\n",
              "   'exceptionally',\n",
              "   'decor',\n",
              "   'order',\n",
              "   'arrive',\n",
              "   'biscuits',\n",
              "   'coming',\n",
              "   'men',\n",
              "   'staff',\n",
              "   'plain',\n",
              "   'drinks',\n",
              "   'sit',\n",
              "   'salt',\n",
              "   'charming',\n",
              "   'selection',\n",
              "   'inside',\n",
              "   'beg',\n",
              "   'colin',\n",
              "   'bud',\n",
              "   'week',\n",
              "   'including',\n",
              "   'ate'], ['heavy',\n",
              "   'cocktail',\n",
              "   'hospitality',\n",
              "   'wings',\n",
              "   'brunch',\n",
              "   'vibe',\n",
              "   'try',\n",
              "   'retro',\n",
              "   'hour',\n",
              "   'celebrating',\n",
              "   'today',\n",
              "   'foobooz',\n",
              "   'happy',\n",
              "   'early',\n",
              "   'food',\n",
              "   'friday',\n",
              "   'fun',\n",
              "   'troegenator',\n",
              "   'waiting',\n",
              "   'specials',\n",
              "   'mad',\n",
              "   'greet',\n",
              "   'ruined',\n",
              "   'nashville',\n",
              "   'cheese',\n",
              "   'lunch',\n",
              "   'curds',\n",
              "   'pouches',\n",
              "   'holy',\n",
              "   'came',\n",
              "   'despite',\n",
              "   'late',\n",
              "   'chicken',\n",
              "   'hang',\n",
              "   'scallops',\n",
              "   'drink',\n",
              "   'instead',\n",
              "   'exceptionally',\n",
              "   'options',\n",
              "   'decor',\n",
              "   'lamb',\n",
              "   'order',\n",
              "   'reservation',\n",
              "   'arrive',\n",
              "   'biscuits',\n",
              "   'coming',\n",
              "   'men',\n",
              "   'fast',\n",
              "   'staff',\n",
              "   'plain',\n",
              "   'drinks',\n",
              "   'sit',\n",
              "   'salt',\n",
              "   'charming',\n",
              "   'selection',\n",
              "   'stroganoff',\n",
              "   'beg',\n",
              "   'inside',\n",
              "   'colin',\n",
              "   'bud',\n",
              "   'week',\n",
              "   'including',\n",
              "   'ate'], ['cocktail',\n",
              "   'hospitality',\n",
              "   'wings',\n",
              "   'brunch',\n",
              "   'try',\n",
              "   'retro',\n",
              "   'hour',\n",
              "   'celebrating',\n",
              "   'foobooz',\n",
              "   'happy',\n",
              "   'food',\n",
              "   'friday',\n",
              "   'fun',\n",
              "   'troegenator',\n",
              "   'dinner',\n",
              "   'specials',\n",
              "   'waiting',\n",
              "   'mad',\n",
              "   'greet',\n",
              "   'ruined',\n",
              "   'cheese',\n",
              "   'lunch',\n",
              "   'curds',\n",
              "   'fried',\n",
              "   'pouches',\n",
              "   'holy',\n",
              "   'came',\n",
              "   'despite',\n",
              "   'ribs',\n",
              "   'late',\n",
              "   'hang',\n",
              "   'scallops',\n",
              "   'drink',\n",
              "   'deals',\n",
              "   'instead',\n",
              "   'exceptionally',\n",
              "   'options',\n",
              "   'order',\n",
              "   'reservation',\n",
              "   'arrive',\n",
              "   'biscuits',\n",
              "   'coming',\n",
              "   'men',\n",
              "   'fast',\n",
              "   'staff',\n",
              "   'plain',\n",
              "   'drinks',\n",
              "   'sit',\n",
              "   'salt',\n",
              "   'selection',\n",
              "   'stroganoff',\n",
              "   'beg',\n",
              "   'inside',\n",
              "   'colin',\n",
              "   'bud',\n",
              "   'week',\n",
              "   'tables',\n",
              "   'including',\n",
              "   'ate'], ['heavy',\n",
              "   'die',\n",
              "   'cocktail',\n",
              "   'hospitality',\n",
              "   'wings',\n",
              "   'brunch',\n",
              "   'try',\n",
              "   'retro',\n",
              "   'hour',\n",
              "   'celebrating',\n",
              "   'today',\n",
              "   'foobooz',\n",
              "   'happy',\n",
              "   'food',\n",
              "   'friday',\n",
              "   'greet',\n",
              "   'dinner',\n",
              "   'waiting',\n",
              "   'mad',\n",
              "   'ruined',\n",
              "   'nashville',\n",
              "   'cheese',\n",
              "   'lunch',\n",
              "   'curds',\n",
              "   'use',\n",
              "   'pouches',\n",
              "   'prepare',\n",
              "   'holy',\n",
              "   'came',\n",
              "   'despite',\n",
              "   'ribs',\n",
              "   'late',\n",
              "   'chicken',\n",
              "   'scallops',\n",
              "   'drink',\n",
              "   'deals',\n",
              "   'instead',\n",
              "   'exceptionally',\n",
              "   'decor',\n",
              "   'order',\n",
              "   'reservation',\n",
              "   'arrive',\n",
              "   'coming',\n",
              "   'fast',\n",
              "   'drinks',\n",
              "   'selection',\n",
              "   'stroganoff',\n",
              "   'beg',\n",
              "   'colin',\n",
              "   'bud',\n",
              "   'week',\n",
              "   'ate'], ['heavy',\n",
              "   'die',\n",
              "   'cocktail',\n",
              "   'hospitality',\n",
              "   'wings',\n",
              "   'brunch',\n",
              "   'vibe',\n",
              "   'retro',\n",
              "   'hour',\n",
              "   'reasonable',\n",
              "   'today',\n",
              "   'foobooz',\n",
              "   'food',\n",
              "   'friday',\n",
              "   'troegenator',\n",
              "   'bar',\n",
              "   'mad',\n",
              "   'greet',\n",
              "   'nashville',\n",
              "   'cheese',\n",
              "   'lunch',\n",
              "   'curds',\n",
              "   'pouches',\n",
              "   'holy',\n",
              "   'despite',\n",
              "   'late',\n",
              "   'chicken',\n",
              "   'scallops',\n",
              "   'drink',\n",
              "   'deals',\n",
              "   'instead',\n",
              "   'exceptionally',\n",
              "   'order',\n",
              "   'arrive',\n",
              "   'biscuits',\n",
              "   'coming',\n",
              "   'men',\n",
              "   'fast',\n",
              "   'staff',\n",
              "   'drinks',\n",
              "   'sit',\n",
              "   'salt',\n",
              "   'selection',\n",
              "   'stroganoff',\n",
              "   'inside',\n",
              "   'colin',\n",
              "   'week',\n",
              "   'ate'], ['heavy',\n",
              "   'die',\n",
              "   'cocktail',\n",
              "   'hospitality',\n",
              "   'wings',\n",
              "   'brunch',\n",
              "   'vibe',\n",
              "   'yards',\n",
              "   'retro',\n",
              "   'hour',\n",
              "   'celebrating',\n",
              "   'today',\n",
              "   'early',\n",
              "   'food',\n",
              "   'friday',\n",
              "   'troegenator',\n",
              "   'dinner',\n",
              "   'specials',\n",
              "   'waiting',\n",
              "   'mad',\n",
              "   'greet',\n",
              "   'ruined',\n",
              "   'cheese',\n",
              "   'lunch',\n",
              "   'curds',\n",
              "   'pouches',\n",
              "   'holy',\n",
              "   'came',\n",
              "   'despite',\n",
              "   'ribs',\n",
              "   'late',\n",
              "   'chicken',\n",
              "   'hang',\n",
              "   'scallops',\n",
              "   'drink',\n",
              "   'deals',\n",
              "   'instead',\n",
              "   'exceptionally',\n",
              "   'decor',\n",
              "   'order',\n",
              "   'reservation',\n",
              "   'arrive',\n",
              "   'coming',\n",
              "   'fast',\n",
              "   'staff',\n",
              "   'drinks',\n",
              "   'selection',\n",
              "   'inside',\n",
              "   'beg',\n",
              "   'colin',\n",
              "   'bud',\n",
              "   'week',\n",
              "   'including',\n",
              "   'ate'], ['die',\n",
              "   'cocktail',\n",
              "   'hospitality',\n",
              "   'great',\n",
              "   'brunch',\n",
              "   'vibe',\n",
              "   'try',\n",
              "   'retro',\n",
              "   'hour',\n",
              "   'celebrating',\n",
              "   'today',\n",
              "   'foobooz',\n",
              "   'happy',\n",
              "   'food',\n",
              "   'troegenator',\n",
              "   'dinner',\n",
              "   'specials',\n",
              "   'waiting',\n",
              "   'mad',\n",
              "   'greet',\n",
              "   'cheese',\n",
              "   'lunch',\n",
              "   'curds',\n",
              "   'pouches',\n",
              "   'holy',\n",
              "   'came',\n",
              "   'despite',\n",
              "   'ribs',\n",
              "   'late',\n",
              "   'frosé',\n",
              "   'chicken',\n",
              "   'hang',\n",
              "   'scallops',\n",
              "   'instead',\n",
              "   'deals',\n",
              "   'exceptionally',\n",
              "   'options',\n",
              "   'decor',\n",
              "   'order',\n",
              "   'reservation',\n",
              "   'arrive',\n",
              "   'biscuits',\n",
              "   'coming',\n",
              "   'men',\n",
              "   'fast',\n",
              "   'staff',\n",
              "   'plain',\n",
              "   'drinks',\n",
              "   'sit',\n",
              "   'colin',\n",
              "   'inside',\n",
              "   'beg',\n",
              "   'bud',\n",
              "   'week',\n",
              "   'ate'], ['heavy',\n",
              "   'die',\n",
              "   'cocktail',\n",
              "   'wings',\n",
              "   'brunch',\n",
              "   'vibe',\n",
              "   'retro',\n",
              "   'hour',\n",
              "   'celebrating',\n",
              "   'today',\n",
              "   'foobooz',\n",
              "   'happy',\n",
              "   'early',\n",
              "   'food',\n",
              "   'friday',\n",
              "   'fun',\n",
              "   'troegenator',\n",
              "   'waiting',\n",
              "   'mad',\n",
              "   'greet',\n",
              "   'cheese',\n",
              "   'lunch',\n",
              "   'curds',\n",
              "   'pouches',\n",
              "   'holy',\n",
              "   'came',\n",
              "   'despite',\n",
              "   'ribs',\n",
              "   'late',\n",
              "   'frosé',\n",
              "   'chicken',\n",
              "   'hang',\n",
              "   'scallops',\n",
              "   'deals',\n",
              "   'exceptionally',\n",
              "   'options',\n",
              "   'decor',\n",
              "   'order',\n",
              "   'reservation',\n",
              "   'arrive',\n",
              "   'biscuits',\n",
              "   'coming',\n",
              "   'men',\n",
              "   'fast',\n",
              "   'drinks',\n",
              "   'sit',\n",
              "   'salt',\n",
              "   'colin',\n",
              "   'stroganoff',\n",
              "   'beg',\n",
              "   'inside',\n",
              "   'week',\n",
              "   'including',\n",
              "   'ate'], ['heavy',\n",
              "   'die',\n",
              "   'cocktail',\n",
              "   'hospitality',\n",
              "   'wings',\n",
              "   'brunch',\n",
              "   'vibe',\n",
              "   'retro',\n",
              "   'hour',\n",
              "   'celebrating',\n",
              "   'today',\n",
              "   'foobooz',\n",
              "   'happy',\n",
              "   'early',\n",
              "   'food',\n",
              "   'friday',\n",
              "   'greet',\n",
              "   'waiting',\n",
              "   'mad',\n",
              "   'ruined',\n",
              "   'nashville',\n",
              "   'cheese',\n",
              "   'curds',\n",
              "   'pouches',\n",
              "   'holy',\n",
              "   'came',\n",
              "   'despite',\n",
              "   'ribs',\n",
              "   'late',\n",
              "   'chicken',\n",
              "   'scallops',\n",
              "   'drink',\n",
              "   'instead',\n",
              "   'exceptionally',\n",
              "   'options',\n",
              "   'decor',\n",
              "   'lamb',\n",
              "   'order',\n",
              "   'arrive',\n",
              "   'biscuits',\n",
              "   'coming',\n",
              "   'men',\n",
              "   'fast',\n",
              "   'staff',\n",
              "   'drinks',\n",
              "   'sit',\n",
              "   'salt',\n",
              "   'selection',\n",
              "   'stroganoff',\n",
              "   'beg',\n",
              "   'inside',\n",
              "   'colin',\n",
              "   'bud',\n",
              "   'week'], ['heavy',\n",
              "   'die',\n",
              "   'cocktail',\n",
              "   'hospitality',\n",
              "   'wings',\n",
              "   'brunch',\n",
              "   'retro',\n",
              "   'hour',\n",
              "   'today',\n",
              "   'foobooz',\n",
              "   'happy',\n",
              "   'early',\n",
              "   'food',\n",
              "   'friday',\n",
              "   'troegenator',\n",
              "   'dinner',\n",
              "   'specials',\n",
              "   'mad',\n",
              "   'greet',\n",
              "   'ruined',\n",
              "   'nashville',\n",
              "   'cheese',\n",
              "   'lunch',\n",
              "   'curds',\n",
              "   'despite',\n",
              "   'ribs',\n",
              "   'late',\n",
              "   'hang',\n",
              "   'scallops',\n",
              "   'drink',\n",
              "   'deals',\n",
              "   'instead',\n",
              "   'exceptionally',\n",
              "   'decor',\n",
              "   'reservation',\n",
              "   'arrive',\n",
              "   'biscuits',\n",
              "   'coming',\n",
              "   'men',\n",
              "   'fast',\n",
              "   'staff',\n",
              "   'plain',\n",
              "   'drinks',\n",
              "   'sit',\n",
              "   'salt',\n",
              "   'selection',\n",
              "   'inside',\n",
              "   'colin',\n",
              "   'bud',\n",
              "   'week',\n",
              "   'including',\n",
              "   'ate']],\n",
              " (7063,\n",
              "  11489): [['drink',\n",
              "   'fast',\n",
              "   'wings',\n",
              "   'ranch',\n",
              "   'bartender',\n",
              "   'crab',\n",
              "   'darts',\n",
              "   'miller',\n",
              "   'food',\n",
              "   'specials'], ['beer',\n",
              "   'drink',\n",
              "   'fast',\n",
              "   'decent',\n",
              "   'night',\n",
              "   'bartender',\n",
              "   'wings',\n",
              "   'ranch',\n",
              "   'darts',\n",
              "   'miller',\n",
              "   'friday',\n",
              "   'specials'], ['beer',\n",
              "   'drink',\n",
              "   'decent',\n",
              "   'fast',\n",
              "   'wings',\n",
              "   'bartender',\n",
              "   'crab',\n",
              "   'darts',\n",
              "   'miller',\n",
              "   'food',\n",
              "   'specials'], ['beer',\n",
              "   'wings',\n",
              "   'fast',\n",
              "   'decent',\n",
              "   'ranch',\n",
              "   'bartender',\n",
              "   'crab',\n",
              "   'darts',\n",
              "   'miller',\n",
              "   'food',\n",
              "   'friday'], ['beer',\n",
              "   'drink',\n",
              "   'fast',\n",
              "   'decent',\n",
              "   'wings',\n",
              "   'bartender',\n",
              "   'crab',\n",
              "   'ranch',\n",
              "   'darts',\n",
              "   'miller',\n",
              "   'friday'], ['beer',\n",
              "   'drink',\n",
              "   'fast',\n",
              "   'decent',\n",
              "   'wings',\n",
              "   'bartender',\n",
              "   'crab',\n",
              "   'ranch',\n",
              "   'darts',\n",
              "   'miller',\n",
              "   'point',\n",
              "   'friday',\n",
              "   'specials'], ['beer',\n",
              "   'wings',\n",
              "   'fast',\n",
              "   'decent',\n",
              "   'ranch',\n",
              "   'bartender',\n",
              "   'darts',\n",
              "   'miller',\n",
              "   'food',\n",
              "   'friday',\n",
              "   'specials'], ['beer',\n",
              "   'drink',\n",
              "   'fast',\n",
              "   'decent',\n",
              "   'wings',\n",
              "   'bartender',\n",
              "   'darts',\n",
              "   'miller',\n",
              "   'point',\n",
              "   'friday',\n",
              "   'specials'], ['beer',\n",
              "   'drink',\n",
              "   'fast',\n",
              "   'decent',\n",
              "   'wings',\n",
              "   'bartender',\n",
              "   'ranch',\n",
              "   'darts',\n",
              "   'miller',\n",
              "   'food',\n",
              "   'friday'], ['beer',\n",
              "   'drink',\n",
              "   'fast',\n",
              "   'decent',\n",
              "   'wings',\n",
              "   'bartender',\n",
              "   'crab',\n",
              "   'ranch',\n",
              "   'darts',\n",
              "   'miller',\n",
              "   'friday',\n",
              "   'specials']],\n",
              " (7063,\n",
              "  3411): [['red',\n",
              "   'cocktail',\n",
              "   'variety',\n",
              "   'happy',\n",
              "   'time',\n",
              "   'fresh',\n",
              "   'bother',\n",
              "   'careful',\n",
              "   'get',\n",
              "   'patio'], ['variety',\n",
              "   'hour',\n",
              "   'happy',\n",
              "   'single',\n",
              "   'full',\n",
              "   'careful',\n",
              "   'get'], ['shrimp', 'bother', 'full', 'get', 'patio'], ['try',\n",
              "   'variety',\n",
              "   'shrimp',\n",
              "   'happy',\n",
              "   'single',\n",
              "   'full',\n",
              "   'careful',\n",
              "   'get',\n",
              "   'salsa'], ['full', 'patio', 'shrimp'], ['patio', 'happy'], ['variety',\n",
              "   'shrimp',\n",
              "   'happy',\n",
              "   'time',\n",
              "   'single',\n",
              "   'bother',\n",
              "   'salsa'], ['full', 'get', 'patio', 'cocktail'], ['salsas',\n",
              "   'hour',\n",
              "   'shrimp',\n",
              "   'single',\n",
              "   'full',\n",
              "   'careful',\n",
              "   'get',\n",
              "   'patio'], ['salsas',\n",
              "   'tortillas',\n",
              "   'cocktail',\n",
              "   'shrimp',\n",
              "   'happy',\n",
              "   'single',\n",
              "   'get',\n",
              "   'patio']],\n",
              " (55141,\n",
              "  10040): [['constantly',\n",
              "   'lunch',\n",
              "   'olive',\n",
              "   'place',\n",
              "   'dynamite',\n",
              "   'beating',\n",
              "   'rather',\n",
              "   'new',\n",
              "   'midwest',\n",
              "   'thai',\n",
              "   'trying'], ['lunch',\n",
              "   'olive',\n",
              "   'place',\n",
              "   'rather',\n",
              "   'midwest',\n",
              "   'thai',\n",
              "   'trying'], ['constantly',\n",
              "   'lunch',\n",
              "   'olive',\n",
              "   'place',\n",
              "   'dynamite',\n",
              "   'beating',\n",
              "   'rather',\n",
              "   'class',\n",
              "   'midwest',\n",
              "   'thai',\n",
              "   'trying'], ['constantly',\n",
              "   'lunch',\n",
              "   'olive',\n",
              "   'place',\n",
              "   'dynamite',\n",
              "   'beating',\n",
              "   'rather',\n",
              "   'midwest',\n",
              "   'thai',\n",
              "   'trying'], ['constantly',\n",
              "   'lunch',\n",
              "   'olive',\n",
              "   'place',\n",
              "   'dynamite',\n",
              "   'beating',\n",
              "   'rather',\n",
              "   'thai',\n",
              "   'trying'], ['constantly',\n",
              "   'lunch',\n",
              "   'olive',\n",
              "   'place',\n",
              "   'dynamite',\n",
              "   'beating',\n",
              "   'rather',\n",
              "   'thai'], ['constantly',\n",
              "   'lunch',\n",
              "   'olive',\n",
              "   'place',\n",
              "   'dynamite',\n",
              "   'beating',\n",
              "   'thai',\n",
              "   'midwest'], ['constantly',\n",
              "   'lunch',\n",
              "   'olive',\n",
              "   'place',\n",
              "   'dynamite',\n",
              "   'beating',\n",
              "   'rather',\n",
              "   'thai',\n",
              "   'trying'], ['constantly',\n",
              "   'lunch',\n",
              "   'olive',\n",
              "   'place',\n",
              "   'dynamite',\n",
              "   'beating',\n",
              "   'rather',\n",
              "   'midwest',\n",
              "   'thai',\n",
              "   'trying'], ['lunch',\n",
              "   'olive',\n",
              "   'place',\n",
              "   'always',\n",
              "   'dynamite',\n",
              "   'rather',\n",
              "   'thai']],\n",
              " (55141,\n",
              "  2907): [['literally',\n",
              "   'roy',\n",
              "   'today',\n",
              "   'sundance',\n",
              "   'worth',\n",
              "   'day',\n",
              "   'sunny',\n",
              "   'beautiful',\n",
              "   'carter',\n",
              "   'fish',\n",
              "   'never',\n",
              "   'went',\n",
              "   'visit',\n",
              "   'area',\n",
              "   'also',\n",
              "   'one',\n",
              "   'bench',\n",
              "   'flowers',\n",
              "   'grass',\n",
              "   'smoke',\n",
              "   'flooded',\n",
              "   'cold',\n",
              "   'please',\n",
              "   'nice',\n",
              "   'night',\n",
              "   'boarding',\n",
              "   'reason',\n",
              "   'heat',\n",
              "   'hanging'], ['dead',\n",
              "   'literally',\n",
              "   'roy',\n",
              "   'today',\n",
              "   'sundance',\n",
              "   'worth',\n",
              "   'day',\n",
              "   'sunny',\n",
              "   'beautiful',\n",
              "   'carter',\n",
              "   'fish',\n",
              "   'never',\n",
              "   'went',\n",
              "   'visit',\n",
              "   'late',\n",
              "   'area',\n",
              "   'one',\n",
              "   'bench',\n",
              "   'flowers',\n",
              "   'grass',\n",
              "   'smoke',\n",
              "   'flooded',\n",
              "   'cold',\n",
              "   'please',\n",
              "   'nice',\n",
              "   'night',\n",
              "   'reason',\n",
              "   'heat',\n",
              "   'hanging'], ['dead',\n",
              "   'literally',\n",
              "   'roy',\n",
              "   'today',\n",
              "   'sundance',\n",
              "   'worth',\n",
              "   'day',\n",
              "   'sunny',\n",
              "   'beautiful',\n",
              "   'carter',\n",
              "   'fish',\n",
              "   'never',\n",
              "   'went',\n",
              "   'visit',\n",
              "   'late',\n",
              "   'area',\n",
              "   'one',\n",
              "   'bench',\n",
              "   'flowers',\n",
              "   'grass',\n",
              "   'smoke',\n",
              "   'flooded',\n",
              "   'cold',\n",
              "   'please',\n",
              "   'nice',\n",
              "   'night',\n",
              "   'boarding',\n",
              "   'reason',\n",
              "   'heat',\n",
              "   'hanging'], ['dead',\n",
              "   'literally',\n",
              "   'roy',\n",
              "   'sundance',\n",
              "   'worth',\n",
              "   'day',\n",
              "   'sunny',\n",
              "   'beautiful',\n",
              "   'carter',\n",
              "   'fish',\n",
              "   'never',\n",
              "   'went',\n",
              "   'visit',\n",
              "   'late',\n",
              "   'area',\n",
              "   'one',\n",
              "   'bench',\n",
              "   'flowers',\n",
              "   'grass',\n",
              "   'smoke',\n",
              "   'flooded',\n",
              "   'cold',\n",
              "   'please',\n",
              "   'nice',\n",
              "   'night',\n",
              "   'boarding',\n",
              "   'reason',\n",
              "   'heat',\n",
              "   'hanging'], ['dead',\n",
              "   'literally',\n",
              "   'roy',\n",
              "   'today',\n",
              "   'sundance',\n",
              "   'worth',\n",
              "   'day',\n",
              "   'sunny',\n",
              "   'beautiful',\n",
              "   'carter',\n",
              "   'fish',\n",
              "   'never',\n",
              "   'went',\n",
              "   'visit',\n",
              "   'area',\n",
              "   'one',\n",
              "   'bench',\n",
              "   'flowers',\n",
              "   'grass',\n",
              "   'smoke',\n",
              "   'flooded',\n",
              "   'cold',\n",
              "   'please',\n",
              "   'nice',\n",
              "   'night',\n",
              "   'reason',\n",
              "   'heat',\n",
              "   'hanging'], ['dead',\n",
              "   'literally',\n",
              "   'roy',\n",
              "   'today',\n",
              "   'sundance',\n",
              "   'worth',\n",
              "   'day',\n",
              "   'sunny',\n",
              "   'beautiful',\n",
              "   'carter',\n",
              "   'fish',\n",
              "   'never',\n",
              "   'went',\n",
              "   'visit',\n",
              "   'late',\n",
              "   'area',\n",
              "   'one',\n",
              "   'bench',\n",
              "   'flowers',\n",
              "   'grass',\n",
              "   'flooded',\n",
              "   'cold',\n",
              "   'please',\n",
              "   'nice',\n",
              "   'night',\n",
              "   'eating',\n",
              "   'reason',\n",
              "   'heat',\n",
              "   'hanging'], ['dead',\n",
              "   'literally',\n",
              "   'roy',\n",
              "   'today',\n",
              "   'sundance',\n",
              "   'day',\n",
              "   'sunny',\n",
              "   'beautiful',\n",
              "   'carter',\n",
              "   'fish',\n",
              "   'gorgeous',\n",
              "   'never',\n",
              "   'went',\n",
              "   'visit',\n",
              "   'late',\n",
              "   'area',\n",
              "   'one',\n",
              "   'bench',\n",
              "   'flowers',\n",
              "   'grass',\n",
              "   'smoke',\n",
              "   'cold',\n",
              "   'please',\n",
              "   'nice',\n",
              "   'night',\n",
              "   'boarding',\n",
              "   'reason',\n",
              "   'heat',\n",
              "   'hanging'], ['dead',\n",
              "   'literally',\n",
              "   'roy',\n",
              "   'today',\n",
              "   'sundance',\n",
              "   'worth',\n",
              "   'day',\n",
              "   'sunny',\n",
              "   'beautiful',\n",
              "   'carter',\n",
              "   'fish',\n",
              "   'never',\n",
              "   'went',\n",
              "   'visit',\n",
              "   'late',\n",
              "   'area',\n",
              "   'one',\n",
              "   'bench',\n",
              "   'flowers',\n",
              "   'grass',\n",
              "   'smoke',\n",
              "   'flooded',\n",
              "   'cold',\n",
              "   'please',\n",
              "   'nice',\n",
              "   'night',\n",
              "   'boarding',\n",
              "   'reason',\n",
              "   'heat',\n",
              "   'hanging'], ['dead',\n",
              "   'literally',\n",
              "   'roy',\n",
              "   'today',\n",
              "   'sundance',\n",
              "   'worth',\n",
              "   'sunny',\n",
              "   'beautiful',\n",
              "   'carter',\n",
              "   'fish',\n",
              "   'never',\n",
              "   'went',\n",
              "   'visit',\n",
              "   'late',\n",
              "   'area',\n",
              "   'one',\n",
              "   'bench',\n",
              "   'flowers',\n",
              "   'grass',\n",
              "   'smoke',\n",
              "   'flooded',\n",
              "   'cold',\n",
              "   'please',\n",
              "   'nice',\n",
              "   'night',\n",
              "   'boarding',\n",
              "   'reason',\n",
              "   'heat',\n",
              "   'hanging'], ['dead',\n",
              "   'literally',\n",
              "   'roy',\n",
              "   'today',\n",
              "   'sundance',\n",
              "   'worth',\n",
              "   'day',\n",
              "   'sunny',\n",
              "   'beautiful',\n",
              "   'fish',\n",
              "   'never',\n",
              "   'went',\n",
              "   'visit',\n",
              "   'late',\n",
              "   'area',\n",
              "   'one',\n",
              "   'bench',\n",
              "   'flowers',\n",
              "   'grass',\n",
              "   'smoke',\n",
              "   'flooded',\n",
              "   'cold',\n",
              "   'please',\n",
              "   'nice',\n",
              "   'night',\n",
              "   'reason',\n",
              "   'heat',\n",
              "   'hanging']],\n",
              " (55141,\n",
              "  12670): [['heaven',\n",
              "   'white',\n",
              "   'dollars',\n",
              "   'street',\n",
              "   'eat',\n",
              "   'cash',\n",
              "   'worth',\n",
              "   'around',\n",
              "   'consistent',\n",
              "   'charlie'], ['heaven',\n",
              "   'white',\n",
              "   'dollars',\n",
              "   'debit',\n",
              "   'peppers',\n",
              "   'eat',\n",
              "   'cash',\n",
              "   'customer',\n",
              "   'worth',\n",
              "   'blvd',\n",
              "   'steak',\n",
              "   'vince',\n",
              "   'boulevard'], ['heaven',\n",
              "   'worth',\n",
              "   'around',\n",
              "   'grant',\n",
              "   'question',\n",
              "   'pie',\n",
              "   'charlie'], ['white',\n",
              "   'dollars',\n",
              "   'debit',\n",
              "   'cash',\n",
              "   'customer',\n",
              "   'worth',\n",
              "   'grant',\n",
              "   'philly',\n",
              "   'boulevard',\n",
              "   'charlie'], ['heaven',\n",
              "   'cheese',\n",
              "   'peppers',\n",
              "   'cards',\n",
              "   'blvd',\n",
              "   'grant'], ['heaven', 'white', 'cash'], ['white',\n",
              "   'guys',\n",
              "   'eat',\n",
              "   'worth',\n",
              "   'vince',\n",
              "   'grant',\n",
              "   'boulevard'], ['street', 'worth', 'steak', 'grant', 'boulevard'], ['cash',\n",
              "   'worth',\n",
              "   'vince',\n",
              "   'grant',\n",
              "   'talking',\n",
              "   'charlie'], ['dollars', 'cheese', 'said', 'eat', 'cash', 'boulevard']],\n",
              " (20172,\n",
              "  7380): [['awesome',\n",
              "   'three',\n",
              "   'seriously',\n",
              "   'enough',\n",
              "   'tastes',\n",
              "   'words'], ['awesome', 'three', 'seriously', 'enough', 'tastes', 'words']],\n",
              " (1669,\n",
              "  3851): [['thank',\n",
              "   'great',\n",
              "   'muy',\n",
              "   'place',\n",
              "   'por',\n",
              "   'even',\n",
              "   'disgusting',\n",
              "   'said',\n",
              "   'menu',\n",
              "   'vegetarians',\n",
              "   'chicken',\n",
              "   'restaurante',\n",
              "   'steaks',\n",
              "   'strip',\n",
              "   'new',\n",
              "   'steak',\n",
              "   'patio',\n",
              "   'salads',\n",
              "   'baked',\n",
              "   'much',\n",
              "   'comida',\n",
              "   'attentive',\n",
              "   'york',\n",
              "   'delicious',\n",
              "   'food',\n",
              "   'grilled'], ['thank',\n",
              "   'bus',\n",
              "   'great',\n",
              "   'muy',\n",
              "   'place',\n",
              "   'por',\n",
              "   'even',\n",
              "   'disgusting',\n",
              "   'said',\n",
              "   'menu',\n",
              "   'vegetarians',\n",
              "   'chicken',\n",
              "   'restaurante',\n",
              "   'steaks',\n",
              "   'strip',\n",
              "   'new',\n",
              "   'steak',\n",
              "   'patio',\n",
              "   'salads',\n",
              "   'baked',\n",
              "   'much',\n",
              "   'comida',\n",
              "   'attentive',\n",
              "   'york',\n",
              "   'delicious',\n",
              "   'food',\n",
              "   'grilled'], ['thank',\n",
              "   'bus',\n",
              "   'great',\n",
              "   'waiting',\n",
              "   'muy',\n",
              "   'place',\n",
              "   'por',\n",
              "   'disgusting',\n",
              "   'said',\n",
              "   'menu',\n",
              "   'vegetarians',\n",
              "   'chicken',\n",
              "   'restaurante',\n",
              "   'steaks',\n",
              "   'strip',\n",
              "   'new',\n",
              "   'steak',\n",
              "   'patio',\n",
              "   'salads',\n",
              "   'baked',\n",
              "   'much',\n",
              "   'comida',\n",
              "   'attentive',\n",
              "   'york',\n",
              "   'delicious',\n",
              "   'food',\n",
              "   'grilled'], ['thank',\n",
              "   'bus',\n",
              "   'great',\n",
              "   'muy',\n",
              "   'place',\n",
              "   'por',\n",
              "   'said',\n",
              "   'menu',\n",
              "   'vegetarians',\n",
              "   'chicken',\n",
              "   'restaurante',\n",
              "   'steaks',\n",
              "   'strip',\n",
              "   'new',\n",
              "   'steak',\n",
              "   'patio',\n",
              "   'salads',\n",
              "   'baked',\n",
              "   'much',\n",
              "   'comida',\n",
              "   'attentive',\n",
              "   'york',\n",
              "   'delicious',\n",
              "   'food',\n",
              "   'grilled'], ['thank',\n",
              "   'bus',\n",
              "   'great',\n",
              "   'muy',\n",
              "   'place',\n",
              "   'por',\n",
              "   'disgusting',\n",
              "   'said',\n",
              "   'menu',\n",
              "   'vegetarians',\n",
              "   'chicken',\n",
              "   'monique',\n",
              "   'restaurante',\n",
              "   'steaks',\n",
              "   'strip',\n",
              "   'new',\n",
              "   'patio',\n",
              "   'salads',\n",
              "   'baked',\n",
              "   'much',\n",
              "   'delish',\n",
              "   'comida',\n",
              "   'attentive',\n",
              "   'york',\n",
              "   'delicious',\n",
              "   'food',\n",
              "   'grilled'], ['thank',\n",
              "   'great',\n",
              "   'muy',\n",
              "   'place',\n",
              "   'por',\n",
              "   'even',\n",
              "   'disgusting',\n",
              "   'said',\n",
              "   'menu',\n",
              "   'vegetarians',\n",
              "   'chicken',\n",
              "   'restaurante',\n",
              "   'strip',\n",
              "   'new',\n",
              "   'steak',\n",
              "   'patio',\n",
              "   'salads',\n",
              "   'baked',\n",
              "   'much',\n",
              "   'comida',\n",
              "   'attentive',\n",
              "   'york',\n",
              "   'delicious',\n",
              "   'food',\n",
              "   'grilled'], ['thank',\n",
              "   'bus',\n",
              "   'great',\n",
              "   'muy',\n",
              "   'place',\n",
              "   'even',\n",
              "   'disgusting',\n",
              "   'said',\n",
              "   'menu',\n",
              "   'vegetarians',\n",
              "   'chicken',\n",
              "   'monique',\n",
              "   'restaurante',\n",
              "   'steaks',\n",
              "   'strip',\n",
              "   'new',\n",
              "   'patio',\n",
              "   'salads',\n",
              "   'baked',\n",
              "   'much',\n",
              "   'comida',\n",
              "   'attentive',\n",
              "   'york',\n",
              "   'delicious',\n",
              "   'food',\n",
              "   'grilled'], ['thank',\n",
              "   'bus',\n",
              "   'great',\n",
              "   'muy',\n",
              "   'place',\n",
              "   'even',\n",
              "   'said',\n",
              "   'menu',\n",
              "   'vegetarians',\n",
              "   'chicken',\n",
              "   'restaurante',\n",
              "   'steaks',\n",
              "   'strip',\n",
              "   'new',\n",
              "   'patio',\n",
              "   'salads',\n",
              "   'baked',\n",
              "   'much',\n",
              "   'comida',\n",
              "   'attentive',\n",
              "   'york',\n",
              "   'delicious',\n",
              "   'food']],\n",
              " (8694,\n",
              "  3620): [['food',\n",
              "   'fast',\n",
              "   'news',\n",
              "   'kinds',\n",
              "   'love',\n",
              "   'yum',\n",
              "   'places',\n",
              "   'peppermint',\n",
              "   'delicious',\n",
              "   'small',\n",
              "   'loud',\n",
              "   'location',\n",
              "   'bad',\n",
              "   'yummy'], ['food',\n",
              "   'fast',\n",
              "   'love',\n",
              "   'yum',\n",
              "   'places',\n",
              "   'peppermint',\n",
              "   'delicious',\n",
              "   'small',\n",
              "   'loud',\n",
              "   'location',\n",
              "   'bad',\n",
              "   'yummy']],\n",
              " (502,\n",
              "  1034): [['tour',\n",
              "   'little',\n",
              "   'try',\n",
              "   'sweat',\n",
              "   'specialty',\n",
              "   'service',\n",
              "   'hour',\n",
              "   'period',\n",
              "   'recommend',\n",
              "   'outside',\n",
              "   'today',\n",
              "   'seating',\n",
              "   'atmosphere',\n",
              "   'beers',\n",
              "   'specials',\n",
              "   'parking',\n",
              "   'beer',\n",
              "   'stop',\n",
              "   'back',\n",
              "   'place',\n",
              "   'home',\n",
              "   'sunday',\n",
              "   'football',\n",
              "   'flavor',\n",
              "   'menu',\n",
              "   'help',\n",
              "   'life',\n",
              "   'sample',\n",
              "   'highly',\n",
              "   'move',\n",
              "   'puppy',\n",
              "   'salad',\n",
              "   'business',\n",
              "   'beth',\n",
              "   'top',\n",
              "   'ipa',\n",
              "   'birthday',\n",
              "   'tasting',\n",
              "   'temple',\n",
              "   'patio',\n",
              "   'relaxing',\n",
              "   'get',\n",
              "   'ruff',\n",
              "   'expect',\n",
              "   'tap',\n",
              "   'favorite',\n",
              "   'frequently',\n",
              "   'love',\n",
              "   'porter',\n",
              "   'delicious',\n",
              "   'started']]}"
            ]
          },
          "metadata": {},
          "execution_count": 88
        }
      ]
    },
    {
      "cell_type": "code",
      "source": [
        "stability=0\n",
        "# count_all=0\n",
        "for ui in dict_features.keys():\n",
        "  features=dict_features[ui]\n",
        "  stabs=0\n",
        "  count=0\n",
        "  if(len(features)>1):\n",
        "    # count_all+=1\n",
        "    for i in range(len(features)):\n",
        "      for j in range(len(features)):\n",
        "        # print(features[i])\n",
        "        # print(features[j])\n",
        "        if len(features[i])>0 and len(features[j])>0:\n",
        "          if i != j:\n",
        "            intersection = list(set(features[i]) & set(features[j]))\n",
        "            union = list(set(features[i]) | set(features[j]))\n",
        "            # print(features[i],features[j])\n",
        "            # print(intersection)\n",
        "            # print(union)\n",
        "            count+=1\n",
        "            stabs+=(len(intersection)/len(union))\n",
        "    # print(stabs)\n",
        "    # print(len(features)*(len(features)-1))\n",
        "    # print((stabs/(len(features)*(len(features)-1))))\n",
        "    stability+=(stabs/(9.0*10.0))\n",
        "\n",
        "stability=stability/len(dict_features)\n",
        "print(stability)"
      ],
      "metadata": {
        "colab": {
          "base_uri": "https://localhost:8080/"
        },
        "id": "YzjzCNTA5Nxu",
        "outputId": "77db4f65-cdbe-4671-c7f4-46724282e852"
      },
      "execution_count": null,
      "outputs": [
        {
          "output_type": "stream",
          "name": "stdout",
          "text": [
            "0.5183605598525111\n"
          ]
        }
      ]
    }
  ],
  "metadata": {
    "colab": {
      "machine_shape": "hm",
      "provenance": []
    },
    "gpuClass": "standard",
    "kernelspec": {
      "display_name": "Python 3",
      "name": "python3"
    },
    "language_info": {
      "name": "python"
    },
    "accelerator": "GPU"
  },
  "nbformat": 4,
  "nbformat_minor": 0
}