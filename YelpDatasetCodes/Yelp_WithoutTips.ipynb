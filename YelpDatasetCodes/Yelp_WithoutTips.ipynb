{
  "cells": [
    {
      "cell_type": "markdown",
      "source": [
        "Links to Yelp dataset files : https://drive.google.com/drive/folders/15_pQBF8zIOnxXSaDx19DN8eU-lXrvIeW?usp=share_link https://drive.google.com/drive/folders/1-9SOeLW8g97fiX2On7_7Wm1ePt2pSnDU?usp=share_link"
      ],
      "metadata": {
        "id": "JykcC67AMV_i"
      }
    },
    {
      "cell_type": "code",
      "execution_count": null,
      "metadata": {
        "colab": {
          "base_uri": "https://localhost:8080/"
        },
        "id": "Fb2pe7dpsweT",
        "outputId": "4f65959a-d966-475c-cb53-4aa867fe6662"
      },
      "outputs": [
        {
          "output_type": "stream",
          "name": "stdout",
          "text": [
            "Mounted at /content/drive\n"
          ]
        }
      ],
      "source": [
        "from google.colab import drive\n",
        "drive.mount('/content/drive')"
      ]
    },
    {
      "cell_type": "markdown",
      "source": [
        "# Preprocessing..."
      ],
      "metadata": {
        "id": "cP8Xpab5LjXZ"
      }
    },
    {
      "cell_type": "code",
      "execution_count": null,
      "metadata": {
        "id": "kqmspiJd2PHt"
      },
      "outputs": [],
      "source": [
        "import pandas as pd\n",
        "import numpy as np\n",
        "import torch\n",
        "import json\n",
        "import matplotlib.pyplot as plt\n",
        "import os\n",
        "import tqdm\n",
        "import pickle\n",
        "from pathlib import Path\n",
        "from torch.utils.data import DataLoader\n",
        "from sklearn.metrics import ndcg_score\n",
        "np.random.seed(0)"
      ]
    },
    {
      "cell_type": "code",
      "execution_count": null,
      "metadata": {
        "id": "3uKVAbhA2jQh"
      },
      "outputs": [],
      "source": [
        "from nltk.corpus import stopwords\n",
        "from nltk import word_tokenize\n",
        "from nltk import FreqDist\n",
        "import re\n",
        "from nltk.tokenize import RegexpTokenizer\n",
        "import nltk\n",
        "from nltk.stem import WordNetLemmatizer\n",
        "from nltk import word_tokenize,pos_tag"
      ]
    },
    {
      "cell_type": "code",
      "execution_count": null,
      "metadata": {
        "id": "p9GEI0QDVX5a"
      },
      "outputs": [],
      "source": [
        "save_path='/content/drive/Shareddrives/Unlimited Drive | @LicenseMarket/Recommender/Yelp/'"
      ]
    },
    {
      "cell_type": "code",
      "execution_count": null,
      "metadata": {
        "id": "YEUH3kuU4xkF"
      },
      "outputs": [],
      "source": [
        "import torch\n",
        "import gc\n",
        "for i in range(10000):\n",
        "  torch.cuda.empty_cache()\n",
        "# del checkin_df\n",
        "# del data\n",
        "# del data_file\n"
      ]
    },
    {
      "cell_type": "code",
      "execution_count": null,
      "metadata": {
        "colab": {
          "base_uri": "https://localhost:8080/"
        },
        "id": "56O38jQEbZlG",
        "outputId": "8ce9c42e-021f-457c-bf98-8d7e8a85e0d8"
      },
      "outputs": [
        {
          "data": {
            "text/plain": [
              "0"
            ]
          },
          "execution_count": 6,
          "metadata": {},
          "output_type": "execute_result"
        }
      ],
      "source": [
        "gc.collect()"
      ]
    },
    {
      "cell_type": "code",
      "execution_count": null,
      "metadata": {
        "id": "vTj0JnJbdomZ"
      },
      "outputs": [],
      "source": [
        "import os\n",
        "os.environ['KAGGLE_CONFIG_DIR'] = \"/content/drive/Shareddrives/Unlimited Drive | @LicenseMarket/Recommender/Yelp/Kaggle/\""
      ]
    },
    {
      "cell_type": "code",
      "execution_count": null,
      "metadata": {
        "colab": {
          "base_uri": "https://localhost:8080/"
        },
        "id": "a6ug-jMcd0B7",
        "outputId": "547a31c0-9a9f-4bea-cb90-c953ba1203b8"
      },
      "outputs": [
        {
          "name": "stdout",
          "output_type": "stream",
          "text": [
            "/content/drive/Shareddrives/Unlimited Drive | @LicenseMarket/Recommender/Yelp/Kaggle\n"
          ]
        }
      ],
      "source": [
        "%cd /content/drive/Shareddrives/Unlimited Drive | @LicenseMarket/Recommender/Yelp/Kaggle/"
      ]
    },
    {
      "cell_type": "code",
      "execution_count": null,
      "metadata": {
        "colab": {
          "base_uri": "https://localhost:8080/"
        },
        "id": "qRHQP68XeHJ2",
        "outputId": "5031f10b-f71e-4351-af52-7751519d5132"
      },
      "outputs": [
        {
          "name": "stdout",
          "output_type": "stream",
          "text": [
            "Downloading yelp-dataset.zip to /content/drive/Shareddrives/Unlimited Drive | @LicenseMarket/Recommender/Yelp/Kaggle\n",
            "100% 4.06G/4.07G [02:00<00:00, 27.4MB/s]\n",
            "100% 4.07G/4.07G [02:00<00:00, 36.3MB/s]\n"
          ]
        }
      ],
      "source": [
        "!kaggle datasets download -d yelp-dataset/yelp-dataset --unzip"
      ]
    },
    {
      "cell_type": "code",
      "execution_count": null,
      "metadata": {
        "id": "J8-uBMGK4934"
      },
      "outputs": [],
      "source": [
        "import json\n",
        "import pandas as pd\n",
        "data_file = open(save_path+\"Kaggle/yelp_academic_dataset_business.json\")\n",
        "data = []\n",
        "for line in data_file:\n",
        "  data.append(json.loads(line))\n",
        "business_df = pd.DataFrame(data)\n",
        "data_file.close()"
      ]
    },
    {
      "cell_type": "code",
      "execution_count": null,
      "metadata": {
        "id": "ttrdOcdJ6Jd_"
      },
      "outputs": [],
      "source": [
        "business_df.attributes= business_df.attributes.apply(lambda y: np.nan if y==None else y)"
      ]
    },
    {
      "cell_type": "code",
      "execution_count": null,
      "metadata": {
        "id": "5x8Xxjtw61jK"
      },
      "outputs": [],
      "source": [
        "business_df.dropna(axis=0,inplace=True)"
      ]
    },
    {
      "cell_type": "code",
      "execution_count": null,
      "metadata": {
        "id": "-IgjoEhTFS8y"
      },
      "outputs": [],
      "source": [
        "business_df1=business_df[business_df['is_open']==1]"
      ]
    },
    {
      "cell_type": "code",
      "execution_count": null,
      "metadata": {
        "id": "R6Wq6g_ZFhtE"
      },
      "outputs": [],
      "source": [
        "business_df=business_df1[business_df1['review_count']>10]"
      ]
    },
    {
      "cell_type": "code",
      "execution_count": null,
      "metadata": {
        "id": "IShmy3UlKKTD"
      },
      "outputs": [],
      "source": [
        "import json\n",
        "import pandas as pd\n",
        "data_file = open(save_path+\"Kaggle/yelp_academic_dataset_tip.json\")\n",
        "data = []\n",
        "for line in data_file:\n",
        "  data.append(json.loads(line))\n",
        "tip_df = pd.DataFrame(data)\n",
        "data_file.close()"
      ]
    },
    {
      "cell_type": "code",
      "execution_count": null,
      "metadata": {
        "id": "cI8Z7jL7vy39"
      },
      "outputs": [],
      "source": [
        "tips_bus_ids=tip_df['business_id'].values\n",
        "tips_user_ids= tip_df['user_id'].values"
      ]
    },
    {
      "cell_type": "code",
      "execution_count": null,
      "metadata": {
        "colab": {
          "base_uri": "https://localhost:8080/"
        },
        "id": "p9leN5lKwhF3",
        "outputId": "3d378f94-ab15-4cfc-ccce-bcdba030e276"
      },
      "outputs": [
        {
          "output_type": "stream",
          "name": "stderr",
          "text": [
            "/usr/local/lib/python3.8/dist-packages/pandas/core/frame.py:4906: SettingWithCopyWarning: \n",
            "A value is trying to be set on a copy of a slice from a DataFrame\n",
            "\n",
            "See the caveats in the documentation: https://pandas.pydata.org/pandas-docs/stable/user_guide/indexing.html#returning-a-view-versus-a-copy\n",
            "  return super().drop(\n"
          ]
        }
      ],
      "source": [
        "business_df.drop(business_df.index[~business_df['business_id'].isin(tips_bus_ids)], inplace=True)"
      ]
    },
    {
      "cell_type": "code",
      "execution_count": null,
      "metadata": {
        "id": "QPB9Kh7jObLs"
      },
      "outputs": [],
      "source": [
        "saved_bus_ids=os.listdir(save_path+'tips_bert_items_dfs/')"
      ]
    },
    {
      "cell_type": "code",
      "execution_count": null,
      "metadata": {
        "colab": {
          "base_uri": "https://localhost:8080/"
        },
        "id": "8x5BDwLcVwMZ",
        "outputId": "b4095a96-9876-40cb-e8d5-f6a2cacaaa6b"
      },
      "outputs": [
        {
          "output_type": "execute_result",
          "data": {
            "text/plain": [
              "48732"
            ]
          },
          "metadata": {},
          "execution_count": 16
        }
      ],
      "source": [
        "len(saved_bus_ids)"
      ]
    },
    {
      "cell_type": "code",
      "execution_count": null,
      "metadata": {
        "id": "yJIZmKvuK11t"
      },
      "outputs": [],
      "source": [
        "new_saved_bus_ids=[]\n",
        "for bus_id in saved_bus_ids:\n",
        "  new_saved_bus_ids.append(bus_id[:-5])"
      ]
    },
    {
      "cell_type": "code",
      "execution_count": null,
      "metadata": {
        "id": "Yx7N0vzgvJpe"
      },
      "outputs": [],
      "source": [
        "business_df.drop(business_df.index[~business_df['business_id'].isin(new_saved_bus_ids)], inplace=True)"
      ]
    },
    {
      "cell_type": "code",
      "execution_count": null,
      "metadata": {
        "id": "yMtEmRhxNA1v"
      },
      "outputs": [],
      "source": [
        "tip_df.drop(tip_df.index[~tip_df['business_id'].isin(new_saved_bus_ids)], inplace=True)\n",
        "tip_df.drop(tip_df.index[~tip_df['business_id'].isin(business_df['business_id'].values)], inplace=True)"
      ]
    },
    {
      "cell_type": "code",
      "execution_count": null,
      "metadata": {
        "id": "GgMkVn0BNPyM"
      },
      "outputs": [],
      "source": [
        "tip_df['bus_user_id']=tip_df[['business_id','user_id']].apply(tuple, axis=1)"
      ]
    },
    {
      "cell_type": "code",
      "execution_count": null,
      "metadata": {
        "id": "uxC-t71kNc6h"
      },
      "outputs": [],
      "source": [
        "tip_df"
      ]
    },
    {
      "cell_type": "code",
      "execution_count": null,
      "metadata": {
        "id": "Sff0Zc9Pwww1"
      },
      "outputs": [],
      "source": [
        "business_df.reset_index(inplace=True)"
      ]
    },
    {
      "cell_type": "code",
      "execution_count": null,
      "metadata": {
        "id": "LlenpPcQySQ1"
      },
      "outputs": [],
      "source": [
        "business_df.drop(['index'],axis=1,inplace=True)"
      ]
    },
    {
      "cell_type": "code",
      "execution_count": null,
      "metadata": {
        "colab": {
          "base_uri": "https://localhost:8080/",
          "height": 1000
        },
        "id": "_FgvXAjByY7V",
        "outputId": "e0c4a1a1-fc37-4ff0-c9f8-75139b4952c8"
      },
      "outputs": [
        {
          "data": {
            "text/html": [
              "\n",
              "  <div id=\"df-7b5cf0bd-603a-494c-b541-5b91dcfbb823\">\n",
              "    <div class=\"colab-df-container\">\n",
              "      <div>\n",
              "<style scoped>\n",
              "    .dataframe tbody tr th:only-of-type {\n",
              "        vertical-align: middle;\n",
              "    }\n",
              "\n",
              "    .dataframe tbody tr th {\n",
              "        vertical-align: top;\n",
              "    }\n",
              "\n",
              "    .dataframe thead th {\n",
              "        text-align: right;\n",
              "    }\n",
              "</style>\n",
              "<table border=\"1\" class=\"dataframe\">\n",
              "  <thead>\n",
              "    <tr style=\"text-align: right;\">\n",
              "      <th></th>\n",
              "      <th>business_id</th>\n",
              "      <th>name</th>\n",
              "      <th>address</th>\n",
              "      <th>city</th>\n",
              "      <th>state</th>\n",
              "      <th>postal_code</th>\n",
              "      <th>latitude</th>\n",
              "      <th>longitude</th>\n",
              "      <th>stars</th>\n",
              "      <th>review_count</th>\n",
              "      <th>is_open</th>\n",
              "      <th>attributes</th>\n",
              "      <th>categories</th>\n",
              "      <th>hours</th>\n",
              "    </tr>\n",
              "  </thead>\n",
              "  <tbody>\n",
              "    <tr>\n",
              "      <th>0</th>\n",
              "      <td>mpf3x-BjTdTEA3yCZrAYPw</td>\n",
              "      <td>The UPS Store</td>\n",
              "      <td>87 Grasso Plaza Shopping Center</td>\n",
              "      <td>Affton</td>\n",
              "      <td>MO</td>\n",
              "      <td>63123</td>\n",
              "      <td>38.551126</td>\n",
              "      <td>-90.335695</td>\n",
              "      <td>3.0</td>\n",
              "      <td>15</td>\n",
              "      <td>1</td>\n",
              "      <td>{'BusinessAcceptsCreditCards': 'True'}</td>\n",
              "      <td>Shipping Centers, Local Services, Notaries, Ma...</td>\n",
              "      <td>{'Monday': '0:0-0:0', 'Tuesday': '8:0-18:30', ...</td>\n",
              "    </tr>\n",
              "    <tr>\n",
              "      <th>1</th>\n",
              "      <td>MTSW4McQd7CbVtyjqoe9mw</td>\n",
              "      <td>St Honore Pastries</td>\n",
              "      <td>935 Race St</td>\n",
              "      <td>Philadelphia</td>\n",
              "      <td>PA</td>\n",
              "      <td>19107</td>\n",
              "      <td>39.955505</td>\n",
              "      <td>-75.155564</td>\n",
              "      <td>4.0</td>\n",
              "      <td>80</td>\n",
              "      <td>1</td>\n",
              "      <td>{'RestaurantsDelivery': 'False', 'OutdoorSeati...</td>\n",
              "      <td>Restaurants, Food, Bubble Tea, Coffee &amp; Tea, B...</td>\n",
              "      <td>{'Monday': '7:0-20:0', 'Tuesday': '7:0-20:0', ...</td>\n",
              "    </tr>\n",
              "    <tr>\n",
              "      <th>2</th>\n",
              "      <td>mWMc6_wTdE0EUBKIGXDVfA</td>\n",
              "      <td>Perkiomen Valley Brewery</td>\n",
              "      <td>101 Walnut St</td>\n",
              "      <td>Green Lane</td>\n",
              "      <td>PA</td>\n",
              "      <td>18054</td>\n",
              "      <td>40.338183</td>\n",
              "      <td>-75.471659</td>\n",
              "      <td>4.5</td>\n",
              "      <td>13</td>\n",
              "      <td>1</td>\n",
              "      <td>{'BusinessAcceptsCreditCards': 'True', 'Wheelc...</td>\n",
              "      <td>Brewpubs, Breweries, Food</td>\n",
              "      <td>{'Wednesday': '14:0-22:0', 'Thursday': '16:0-2...</td>\n",
              "    </tr>\n",
              "    <tr>\n",
              "      <th>3</th>\n",
              "      <td>n_0UpQx1hsNbnPUSlodU8w</td>\n",
              "      <td>Famous Footwear</td>\n",
              "      <td>8522 Eager Road, Dierbergs Brentwood Point</td>\n",
              "      <td>Brentwood</td>\n",
              "      <td>MO</td>\n",
              "      <td>63144</td>\n",
              "      <td>38.627695</td>\n",
              "      <td>-90.340465</td>\n",
              "      <td>2.5</td>\n",
              "      <td>13</td>\n",
              "      <td>1</td>\n",
              "      <td>{'BusinessAcceptsCreditCards': 'True', 'Restau...</td>\n",
              "      <td>Sporting Goods, Fashion, Shoe Stores, Shopping...</td>\n",
              "      <td>{'Monday': '0:0-0:0', 'Tuesday': '10:0-18:0', ...</td>\n",
              "    </tr>\n",
              "    <tr>\n",
              "      <th>4</th>\n",
              "      <td>il_Ro8jwPlHresjw9EGmBg</td>\n",
              "      <td>Denny's</td>\n",
              "      <td>8901 US 31 S</td>\n",
              "      <td>Indianapolis</td>\n",
              "      <td>IN</td>\n",
              "      <td>46227</td>\n",
              "      <td>39.637133</td>\n",
              "      <td>-86.127217</td>\n",
              "      <td>2.5</td>\n",
              "      <td>28</td>\n",
              "      <td>1</td>\n",
              "      <td>{'RestaurantsReservations': 'False', 'Restaura...</td>\n",
              "      <td>American (Traditional), Restaurants, Diners, B...</td>\n",
              "      <td>{'Monday': '6:0-22:0', 'Tuesday': '6:0-22:0', ...</td>\n",
              "    </tr>\n",
              "    <tr>\n",
              "      <th>...</th>\n",
              "      <td>...</td>\n",
              "      <td>...</td>\n",
              "      <td>...</td>\n",
              "      <td>...</td>\n",
              "      <td>...</td>\n",
              "      <td>...</td>\n",
              "      <td>...</td>\n",
              "      <td>...</td>\n",
              "      <td>...</td>\n",
              "      <td>...</td>\n",
              "      <td>...</td>\n",
              "      <td>...</td>\n",
              "      <td>...</td>\n",
              "      <td>...</td>\n",
              "    </tr>\n",
              "    <tr>\n",
              "      <th>50063</th>\n",
              "      <td>9U1Igcpe954LoWZRmNc-zg</td>\n",
              "      <td>Hand &amp; Stone Massage And Facial Spa</td>\n",
              "      <td>1100 S Columbus Blvd, Ste 24</td>\n",
              "      <td>Philadelphia</td>\n",
              "      <td>PA</td>\n",
              "      <td>19147</td>\n",
              "      <td>39.932756</td>\n",
              "      <td>-75.144504</td>\n",
              "      <td>3.0</td>\n",
              "      <td>32</td>\n",
              "      <td>1</td>\n",
              "      <td>{'BusinessAcceptsCreditCards': 'True', 'Wheelc...</td>\n",
              "      <td>Day Spas, Beauty &amp; Spas, Skin Care, Massage</td>\n",
              "      <td>{'Monday': '9:0-22:0', 'Tuesday': '9:0-22:0', ...</td>\n",
              "    </tr>\n",
              "    <tr>\n",
              "      <th>50064</th>\n",
              "      <td>GeEveoOaU2YKD7jJtEfA_g</td>\n",
              "      <td>DeVons Jewelers</td>\n",
              "      <td>13981 S Virginia St, 402A</td>\n",
              "      <td>Reno</td>\n",
              "      <td>NV</td>\n",
              "      <td>89511</td>\n",
              "      <td>39.404552</td>\n",
              "      <td>-119.750986</td>\n",
              "      <td>5.0</td>\n",
              "      <td>34</td>\n",
              "      <td>1</td>\n",
              "      <td>{'BusinessParking': '{'garage': False, 'street...</td>\n",
              "      <td>Shopping, Watches, Jewelry</td>\n",
              "      <td>{'Monday': '10:0-19:0', 'Tuesday': '10:0-19:0'...</td>\n",
              "    </tr>\n",
              "    <tr>\n",
              "      <th>50065</th>\n",
              "      <td>qQ7FHvkGEMqoPKKXPk4gjA</td>\n",
              "      <td>La Quinta by Wyndham NW Tucson Marana</td>\n",
              "      <td>6020 West Hospitality Rd</td>\n",
              "      <td>Tucson</td>\n",
              "      <td>AZ</td>\n",
              "      <td>85743</td>\n",
              "      <td>32.358587</td>\n",
              "      <td>-111.093308</td>\n",
              "      <td>2.5</td>\n",
              "      <td>67</td>\n",
              "      <td>1</td>\n",
              "      <td>{'RestaurantsPriceRange2': '2', 'BusinessAccep...</td>\n",
              "      <td>Hotels &amp; Travel, Hotels, Event Planning &amp; Serv...</td>\n",
              "      <td>{'Monday': '0:0-0:0', 'Tuesday': '0:0-0:0', 'W...</td>\n",
              "    </tr>\n",
              "    <tr>\n",
              "      <th>50066</th>\n",
              "      <td>LJ4GjQ1HL6kqvIPpNUNNaQ</td>\n",
              "      <td>Shanti Yoga and Ayurveda</td>\n",
              "      <td>1638 Pine St, Fl 1</td>\n",
              "      <td>Philadelphia</td>\n",
              "      <td>PA</td>\n",
              "      <td>19103</td>\n",
              "      <td>39.945966</td>\n",
              "      <td>-75.169666</td>\n",
              "      <td>4.5</td>\n",
              "      <td>39</td>\n",
              "      <td>1</td>\n",
              "      <td>{'ByAppointmentOnly': 'True', 'GoodForKids': '...</td>\n",
              "      <td>Health &amp; Medical, Yoga, Shopping, Naturopathic...</td>\n",
              "      <td>{'Monday': '7:0-20:0', 'Tuesday': '7:0-20:0', ...</td>\n",
              "    </tr>\n",
              "    <tr>\n",
              "      <th>50067</th>\n",
              "      <td>WnT9NIzQgLlILjPT0kEcsQ</td>\n",
              "      <td>Adelita Taqueria &amp; Restaurant</td>\n",
              "      <td>1108 S 9th St</td>\n",
              "      <td>Philadelphia</td>\n",
              "      <td>PA</td>\n",
              "      <td>19147</td>\n",
              "      <td>39.935982</td>\n",
              "      <td>-75.158665</td>\n",
              "      <td>4.5</td>\n",
              "      <td>35</td>\n",
              "      <td>1</td>\n",
              "      <td>{'WheelchairAccessible': 'False', 'Restaurants...</td>\n",
              "      <td>Restaurants, Mexican</td>\n",
              "      <td>{'Monday': '11:0-22:0', 'Tuesday': '11:0-22:0'...</td>\n",
              "    </tr>\n",
              "  </tbody>\n",
              "</table>\n",
              "<p>50068 rows × 14 columns</p>\n",
              "</div>\n",
              "      <button class=\"colab-df-convert\" onclick=\"convertToInteractive('df-7b5cf0bd-603a-494c-b541-5b91dcfbb823')\"\n",
              "              title=\"Convert this dataframe to an interactive table.\"\n",
              "              style=\"display:none;\">\n",
              "        \n",
              "  <svg xmlns=\"http://www.w3.org/2000/svg\" height=\"24px\"viewBox=\"0 0 24 24\"\n",
              "       width=\"24px\">\n",
              "    <path d=\"M0 0h24v24H0V0z\" fill=\"none\"/>\n",
              "    <path d=\"M18.56 5.44l.94 2.06.94-2.06 2.06-.94-2.06-.94-.94-2.06-.94 2.06-2.06.94zm-11 1L8.5 8.5l.94-2.06 2.06-.94-2.06-.94L8.5 2.5l-.94 2.06-2.06.94zm10 10l.94 2.06.94-2.06 2.06-.94-2.06-.94-.94-2.06-.94 2.06-2.06.94z\"/><path d=\"M17.41 7.96l-1.37-1.37c-.4-.4-.92-.59-1.43-.59-.52 0-1.04.2-1.43.59L10.3 9.45l-7.72 7.72c-.78.78-.78 2.05 0 2.83L4 21.41c.39.39.9.59 1.41.59.51 0 1.02-.2 1.41-.59l7.78-7.78 2.81-2.81c.8-.78.8-2.07 0-2.86zM5.41 20L4 18.59l7.72-7.72 1.47 1.35L5.41 20z\"/>\n",
              "  </svg>\n",
              "      </button>\n",
              "      \n",
              "  <style>\n",
              "    .colab-df-container {\n",
              "      display:flex;\n",
              "      flex-wrap:wrap;\n",
              "      gap: 12px;\n",
              "    }\n",
              "\n",
              "    .colab-df-convert {\n",
              "      background-color: #E8F0FE;\n",
              "      border: none;\n",
              "      border-radius: 50%;\n",
              "      cursor: pointer;\n",
              "      display: none;\n",
              "      fill: #1967D2;\n",
              "      height: 32px;\n",
              "      padding: 0 0 0 0;\n",
              "      width: 32px;\n",
              "    }\n",
              "\n",
              "    .colab-df-convert:hover {\n",
              "      background-color: #E2EBFA;\n",
              "      box-shadow: 0px 1px 2px rgba(60, 64, 67, 0.3), 0px 1px 3px 1px rgba(60, 64, 67, 0.15);\n",
              "      fill: #174EA6;\n",
              "    }\n",
              "\n",
              "    [theme=dark] .colab-df-convert {\n",
              "      background-color: #3B4455;\n",
              "      fill: #D2E3FC;\n",
              "    }\n",
              "\n",
              "    [theme=dark] .colab-df-convert:hover {\n",
              "      background-color: #434B5C;\n",
              "      box-shadow: 0px 1px 3px 1px rgba(0, 0, 0, 0.15);\n",
              "      filter: drop-shadow(0px 1px 2px rgba(0, 0, 0, 0.3));\n",
              "      fill: #FFFFFF;\n",
              "    }\n",
              "  </style>\n",
              "\n",
              "      <script>\n",
              "        const buttonEl =\n",
              "          document.querySelector('#df-7b5cf0bd-603a-494c-b541-5b91dcfbb823 button.colab-df-convert');\n",
              "        buttonEl.style.display =\n",
              "          google.colab.kernel.accessAllowed ? 'block' : 'none';\n",
              "\n",
              "        async function convertToInteractive(key) {\n",
              "          const element = document.querySelector('#df-7b5cf0bd-603a-494c-b541-5b91dcfbb823');\n",
              "          const dataTable =\n",
              "            await google.colab.kernel.invokeFunction('convertToInteractive',\n",
              "                                                     [key], {});\n",
              "          if (!dataTable) return;\n",
              "\n",
              "          const docLinkHtml = 'Like what you see? Visit the ' +\n",
              "            '<a target=\"_blank\" href=https://colab.research.google.com/notebooks/data_table.ipynb>data table notebook</a>'\n",
              "            + ' to learn more about interactive tables.';\n",
              "          element.innerHTML = '';\n",
              "          dataTable['output_type'] = 'display_data';\n",
              "          await google.colab.output.renderOutput(dataTable, element);\n",
              "          const docLink = document.createElement('div');\n",
              "          docLink.innerHTML = docLinkHtml;\n",
              "          element.appendChild(docLink);\n",
              "        }\n",
              "      </script>\n",
              "    </div>\n",
              "  </div>\n",
              "  "
            ],
            "text/plain": [
              "                  business_id                                   name  \\\n",
              "0      mpf3x-BjTdTEA3yCZrAYPw                          The UPS Store   \n",
              "1      MTSW4McQd7CbVtyjqoe9mw                     St Honore Pastries   \n",
              "2      mWMc6_wTdE0EUBKIGXDVfA               Perkiomen Valley Brewery   \n",
              "3      n_0UpQx1hsNbnPUSlodU8w                        Famous Footwear   \n",
              "4      il_Ro8jwPlHresjw9EGmBg                                Denny's   \n",
              "...                       ...                                    ...   \n",
              "50063  9U1Igcpe954LoWZRmNc-zg    Hand & Stone Massage And Facial Spa   \n",
              "50064  GeEveoOaU2YKD7jJtEfA_g                        DeVons Jewelers   \n",
              "50065  qQ7FHvkGEMqoPKKXPk4gjA  La Quinta by Wyndham NW Tucson Marana   \n",
              "50066  LJ4GjQ1HL6kqvIPpNUNNaQ               Shanti Yoga and Ayurveda   \n",
              "50067  WnT9NIzQgLlILjPT0kEcsQ          Adelita Taqueria & Restaurant   \n",
              "\n",
              "                                          address          city state  \\\n",
              "0                 87 Grasso Plaza Shopping Center        Affton    MO   \n",
              "1                                     935 Race St  Philadelphia    PA   \n",
              "2                                   101 Walnut St    Green Lane    PA   \n",
              "3      8522 Eager Road, Dierbergs Brentwood Point     Brentwood    MO   \n",
              "4                                    8901 US 31 S  Indianapolis    IN   \n",
              "...                                           ...           ...   ...   \n",
              "50063                1100 S Columbus Blvd, Ste 24  Philadelphia    PA   \n",
              "50064                   13981 S Virginia St, 402A          Reno    NV   \n",
              "50065                    6020 West Hospitality Rd        Tucson    AZ   \n",
              "50066                          1638 Pine St, Fl 1  Philadelphia    PA   \n",
              "50067                               1108 S 9th St  Philadelphia    PA   \n",
              "\n",
              "      postal_code   latitude   longitude  stars  review_count  is_open  \\\n",
              "0           63123  38.551126  -90.335695    3.0            15        1   \n",
              "1           19107  39.955505  -75.155564    4.0            80        1   \n",
              "2           18054  40.338183  -75.471659    4.5            13        1   \n",
              "3           63144  38.627695  -90.340465    2.5            13        1   \n",
              "4           46227  39.637133  -86.127217    2.5            28        1   \n",
              "...           ...        ...         ...    ...           ...      ...   \n",
              "50063       19147  39.932756  -75.144504    3.0            32        1   \n",
              "50064       89511  39.404552 -119.750986    5.0            34        1   \n",
              "50065       85743  32.358587 -111.093308    2.5            67        1   \n",
              "50066       19103  39.945966  -75.169666    4.5            39        1   \n",
              "50067       19147  39.935982  -75.158665    4.5            35        1   \n",
              "\n",
              "                                              attributes  \\\n",
              "0                 {'BusinessAcceptsCreditCards': 'True'}   \n",
              "1      {'RestaurantsDelivery': 'False', 'OutdoorSeati...   \n",
              "2      {'BusinessAcceptsCreditCards': 'True', 'Wheelc...   \n",
              "3      {'BusinessAcceptsCreditCards': 'True', 'Restau...   \n",
              "4      {'RestaurantsReservations': 'False', 'Restaura...   \n",
              "...                                                  ...   \n",
              "50063  {'BusinessAcceptsCreditCards': 'True', 'Wheelc...   \n",
              "50064  {'BusinessParking': '{'garage': False, 'street...   \n",
              "50065  {'RestaurantsPriceRange2': '2', 'BusinessAccep...   \n",
              "50066  {'ByAppointmentOnly': 'True', 'GoodForKids': '...   \n",
              "50067  {'WheelchairAccessible': 'False', 'Restaurants...   \n",
              "\n",
              "                                              categories  \\\n",
              "0      Shipping Centers, Local Services, Notaries, Ma...   \n",
              "1      Restaurants, Food, Bubble Tea, Coffee & Tea, B...   \n",
              "2                              Brewpubs, Breweries, Food   \n",
              "3      Sporting Goods, Fashion, Shoe Stores, Shopping...   \n",
              "4      American (Traditional), Restaurants, Diners, B...   \n",
              "...                                                  ...   \n",
              "50063        Day Spas, Beauty & Spas, Skin Care, Massage   \n",
              "50064                         Shopping, Watches, Jewelry   \n",
              "50065  Hotels & Travel, Hotels, Event Planning & Serv...   \n",
              "50066  Health & Medical, Yoga, Shopping, Naturopathic...   \n",
              "50067                               Restaurants, Mexican   \n",
              "\n",
              "                                                   hours  \n",
              "0      {'Monday': '0:0-0:0', 'Tuesday': '8:0-18:30', ...  \n",
              "1      {'Monday': '7:0-20:0', 'Tuesday': '7:0-20:0', ...  \n",
              "2      {'Wednesday': '14:0-22:0', 'Thursday': '16:0-2...  \n",
              "3      {'Monday': '0:0-0:0', 'Tuesday': '10:0-18:0', ...  \n",
              "4      {'Monday': '6:0-22:0', 'Tuesday': '6:0-22:0', ...  \n",
              "...                                                  ...  \n",
              "50063  {'Monday': '9:0-22:0', 'Tuesday': '9:0-22:0', ...  \n",
              "50064  {'Monday': '10:0-19:0', 'Tuesday': '10:0-19:0'...  \n",
              "50065  {'Monday': '0:0-0:0', 'Tuesday': '0:0-0:0', 'W...  \n",
              "50066  {'Monday': '7:0-20:0', 'Tuesday': '7:0-20:0', ...  \n",
              "50067  {'Monday': '11:0-22:0', 'Tuesday': '11:0-22:0'...  \n",
              "\n",
              "[50068 rows x 14 columns]"
            ]
          },
          "execution_count": 47,
          "metadata": {},
          "output_type": "execute_result"
        }
      ],
      "source": [
        "business_df"
      ]
    },
    {
      "cell_type": "code",
      "execution_count": null,
      "metadata": {
        "id": "K6Y_WPmAzEAe"
      },
      "outputs": [],
      "source": [
        "bus_ids=business_df.business_id.values"
      ]
    },
    {
      "cell_type": "code",
      "execution_count": null,
      "metadata": {
        "colab": {
          "base_uri": "https://localhost:8080/"
        },
        "id": "yPBYVhjZzLxW",
        "outputId": "24c4a31b-42b7-4e94-ca9f-ec165f88182f"
      },
      "outputs": [
        {
          "output_type": "execute_result",
          "data": {
            "text/plain": [
              "48089"
            ]
          },
          "metadata": {},
          "execution_count": 24
        }
      ],
      "source": [
        "len(bus_ids)"
      ]
    },
    {
      "cell_type": "code",
      "execution_count": null,
      "metadata": {
        "id": "PncKnPtDS7wo"
      },
      "outputs": [],
      "source": [
        "# with open('badFiles.txt', 'r') as bf:\n",
        "#   lines=bf.readlines()\n",
        "#   for line in lines:\n",
        "#     if len(line)>4:\n",
        "#       try:\n",
        "#         os.remove(save_path+'tips_bert_items_dfs/'+'{}.json'.format(line.replace('\\n','')))\n",
        "#       except FileNotFoundError:\n",
        "#         print(line)"
      ]
    },
    {
      "cell_type": "code",
      "execution_count": null,
      "metadata": {
        "colab": {
          "base_uri": "https://localhost:8080/"
        },
        "id": "FJhpYIUQsasK",
        "outputId": "9e1122fa-d475-40e9-991b-9bc9eb59ff76"
      },
      "outputs": [
        {
          "name": "stdout",
          "output_type": "stream",
          "text": [
            "0\n",
            "1000\n",
            "2000\n",
            "3000\n",
            "4000\n",
            "5000\n",
            "6000\n",
            "7000\n",
            "8000\n",
            "9000\n",
            "10000\n",
            "11000\n",
            "12000\n",
            "13000\n",
            "14000\n",
            "15000\n",
            "16000\n",
            "17000\n",
            "18000\n",
            "19000\n",
            "20000\n",
            "21000\n",
            "22000\n",
            "23000\n",
            "24000\n",
            "25000\n",
            "26000\n",
            "27000\n",
            "28000\n",
            "29000\n",
            "30000\n",
            "31000\n",
            "32000\n",
            "33000\n",
            "34000\n",
            "35000\n",
            "36000\n",
            "37000\n",
            "38000\n",
            "39000\n",
            "40000\n",
            "41000\n",
            "42000\n",
            "43000\n",
            "s5cEDXoKrvD-coPgqifD8w\n",
            "FbuQkR42LQ-8AZINSD7FQQ\n",
            "RtdH6Inl8xG6RWl5PVwccg\n",
            "zIFPcIZ_yqIr2Gb3dYZvfQ\n",
            "U5vGEpfMzlHmdVMsaAxWAA\n",
            "nCQnjq8uoY7YWGMwOxP2wA\n",
            "sa0qlVEgdctgeWo8KkWEjw\n",
            "zVoivXO64KO9-4UQlMhoPA\n",
            "fiKriXSPJQLoDnMIucTXQQ\n",
            "1Hd6GDCbsev3NUaynU8hFQ\n",
            "B6wuW9wBR2qc3Q3fs4Ckkw\n",
            "HznFRGROzuvVBeM5hrwZig\n",
            "xS9q3oPQHaM4etfeSvFpew\n",
            "OM2bY0wa1-mwECTO_zrZkw\n",
            "7ogUy7wU7hwEm43pAtA8tQ\n",
            "8SEX-Mx-ZC64g6laAEj2bg\n",
            "cZwhdOCpa84XrpLQREOtaA\n",
            "hNWf3Uz8M17e2qB3eBV8jg\n",
            "wtMhl1OIcPBPc2qj-6_-OQ\n",
            "oJbhXG2IldIhNFydRWjD7A\n",
            "DsIeBV5j-1Y6X5BNnyjRzw\n",
            "xEOMVwCzxjcmwIoxQ3sCBg\n",
            "sbUASO4t6DMb2DygKN-scg\n",
            "AZmxWOK3ov1-_9hPBzSIng\n",
            "NDwoKO79_T49UEKVDlHd3A\n",
            "W0ziF4eQxT_1KkgYDHWlcw\n",
            "IjcDm_NIT0P4vxevx1obAg\n",
            "krcU3vu-4xC_O5Zb0IXqJg\n",
            "gGtvjhVT-Jojd1iGefopIg\n",
            "wn-l6xkj9WZu_VnotRAMvA\n",
            "KSR9Rv0Uea55YF-PNWXj1A\n",
            "VP6khoAuw4HWtHUUhw7gkQ\n",
            "hE2K63wovs5Po1w_bWNXdA\n",
            "1DxIGnI4mDDJyeIPkHemnw\n",
            "Kc6Pw7_Hkj7Dnvf6m3g4Eg\n",
            "UFZeonr4IJjlwZf1ELHkYw\n",
            "7Jlk2lr-nkxJfHh8JYFlFw\n",
            "KdGEUbf7gve4786Jqib1fA\n",
            "ybAfFo6Cxo6G3AZkUFWypQ\n",
            "qX1v8sZTgnzP9Y2yKeCLAQ\n",
            "IXdXM97Sii2-JVrNnDKMhA\n",
            "WUuZDppPp4FCe6gSTBr6Zw\n",
            "iMWGmFrMVEEktWNriZ2cTQ\n",
            "dZ5U0y0PsUp5R4TggYARBA\n",
            "OTXWDPg-5YXq4L5fDLJd_g\n",
            "kz9o4qVic9LKq-po1yw9mQ\n",
            "wZFTq5MMzuJqqMIfeux9bA\n",
            "gjE8AH0DuNcv7PkI7O6DIw\n",
            "xnuIhNUYIzgPZONsVfEY-Q\n",
            "gAZ9MstiZ_GkBJALwL4-SQ\n",
            "vjFUl6yKiJecvGS0wlUuuQ\n",
            "rhmCKWx_HmlegruNywTxbQ\n",
            "OExFQ-LmXSMEOQkEEC1vww\n",
            "hWjkjoeYKHEUguNXECbQSQ\n",
            "4u2Cb4A14tUnCDSk498s6Q\n",
            "0xgndgc3ZyeJXkgGlquYCw\n",
            "44000\n",
            "c6nspGxU5ZcLcuoBAMaH4w\n",
            "PxlS-biybO4qkNboQyBj1w\n",
            "pMMx70KKfZXi0onNHJYC0g\n",
            "wNvmhrTBmGimVHVZwKrmLw\n",
            "Ci5HqqB5xSfp-QGxIfqgjQ\n",
            "U-RL1o3NpObXzgZ35BwbDg\n",
            "8ql129VldhnHms0vCSmJLQ\n",
            "jK5p9WRLx0kyp0_x0cG2yw\n",
            "yoawejN_xh0mDipa5oyWZg\n",
            "NV8E7DF7_abpcTHIY6Kovw\n",
            "wqohggEOO8Ul4GMWQmIW4Q\n",
            "Pfhzbh5qt95k008DXvUoiA\n",
            "osLVo9mPzgq9aA-b9azt6w\n",
            "eO8QFh73AJJOTux00j04bg\n",
            "ly-9ojez5YXWEEU2p7iASQ\n",
            "ONbAX3k3nAv8hdMAVUsppQ\n",
            "lvF733su2iKwO9ZH3LbH8A\n",
            "cc21X3IJofZc3AUG1k645A\n",
            "kDEcA2pLIBPA3qUx5qx6hw\n",
            "GGA6vBEuBOaSfD3W0DQonw\n",
            "qHfz4Sf8LNfh0YAwXWDDtQ\n",
            "uLMyzUeEEGQYRe9-m7pIsQ\n",
            "RVdANHGo3SEhEPoNLUMkVg\n",
            "YWFcdkJn9qBhatRjBEeVhQ\n",
            "wTlXdmYeU_1y4N3EupVZqQ\n",
            "EXIXULfAW96tBzTzilM_OA\n",
            "JW96Qy44JewhfFJLGFcB3w\n",
            "6F6YYmwpcBU_Lvi0s26E6g\n",
            "Rj75-AklLkQnr9sRKT8kzw\n",
            "rYHEHpiX9qRcbXmObmdvSA\n",
            "g5_VPfSkEx--6ys2yuq60Q\n",
            "lYltjcc0ZQzTP74iW5T09w\n",
            "yGa4j4wmz2DUVXPxEqE5VA\n",
            "6fa0jPWNtj5mbZUL7UMIaA\n",
            "zCeOlV1IQpCarH5z4Dk9zA\n",
            "opjSWzLBir_lRwDuss6GHw\n",
            "xFvkI8Uf_7NDZbChS6wSYQ\n",
            "45000\n",
            "WWoeX-vaWoOty87X75p_kw\n",
            "H6ssEvfwH0LBwljZe51Y_A\n",
            "cxXhw7pnGVezBFuqJUc3Rw\n",
            "U_hCbZhxpOi7qXWlnlOlRw\n",
            "CaoZ44q_ZJCSqXpa_Ll2sw\n",
            "sheBUH9Bao7AtMKy3U-MBQ\n",
            "2FkuiaTdGKS45XkJOKMfGA\n",
            "r8xPU4YrXlidnfQjje2HqA\n",
            "jchdx5ivrDRQlIIAXwrOkA\n",
            "89-MxWu7IEfENvyZhcwI9g\n",
            "oo0Jvm-p5fpDiaUAWkuqeg\n",
            "YQECgha0JeVOyglE9ZTIrA\n",
            "81ywH2pEVg5_MHM3EvwjKA\n",
            "osAciuw9I_hvll-vT7uXPA\n",
            "wr5c3LeIUFB5HvNpxiqCeg\n",
            "V_xL4IPQdMPvKiAIufqSsw\n",
            "u6eNySvwPu_RgMRqm1-MTg\n",
            "1YHGGLZgClYR13MJxDMegg\n",
            "bbDOCJUkRVV3WOKV4RLXjQ\n",
            "iUCwgklG-ihAqg0jeP2yMA\n",
            "oIqPtFIcCVEcxC_HTmHgDg\n",
            "w25uN-y8d3g5uV4ajplJog\n",
            "cFDP-1jlq2pa_BPjC-wd4g\n",
            "YWGB8ZqbXL4h_IX48HNgPQ\n",
            "XAJK42fq_ZEFGzSrs6ajow\n",
            "zQZ6vdG4NG6KWz8VsslfBA\n",
            "dgYYdN4oFRcLcJDmIueFCg\n",
            "KGkCY7_EWVuJ-86ZPL7UtA\n",
            "Cf6p9CjO2uACyz_cSKhJhw\n",
            "IaPU79I_eiur0dZitYvNzg\n",
            "38kMOKCtqbzaRcAw3HKk7g\n",
            "Gqg17lKY1TnM72H3NpuKXQ\n",
            "SWVFDPb9Vaq112-2Bk1tzQ\n",
            "j7EtLS5_tvDy-Cen_PEfYQ\n",
            "lXeurkr0exwAATC2cxDqfQ\n",
            "9ypaZaTylIQtc1j0ZBvIaw\n",
            "R7vTnDVZry_I3ZLUTIKXMQ\n",
            "ZEU29M1MjQl_oC-Gx4ZH2Q\n",
            "vKla1VeUuHYgo2pLXVRWyg\n",
            "j2fK948drKHe0eSgezwRyA\n",
            "Fd4OmtDhowxzvYYIWA5Bcw\n",
            "SQt8mGJsvGQrIIjEi7eOrg\n",
            "CzNfFYkI5syKGZnOuWSfYw\n",
            "tl5Ag28pi4P2uhMEa6-dlA\n",
            "MFdWavlObX_pyrHtkSLWnA\n",
            "GFcWoMoHiawAOl40SVH4BA\n",
            "46000\n",
            "8X2Io4GNK8Yusa83xw9C2g\n",
            "Tqkhl0H83bXDyZJE6S66kQ\n",
            "kC6LrcrRuml9wi5NsgK4aw\n",
            "ZQLRRYAXZAk-neEZ0_W9gQ\n",
            "nh2HhCMvj3ODgBJi6EKkPA\n",
            "Oahm2FJwjr4ZJmGYqojfgA\n",
            "wkpQr18CBSltlsMB3i-6mQ\n",
            "Nbp6qquQh2MOaVE1HFQafA\n",
            "DgKpGDlX0U7T2XaKG9uvcQ\n",
            "ddhf_gQYSU9nAtvmstn_gQ\n",
            "G5gQbwb4EZUEHNlT5oYUgQ\n",
            "kJKqKjr-m6ng5ogQKMiz3Q\n",
            "UdNx91_fhJthJhhzSV4Vkg\n",
            "gHUT-hHX3qBluIy3o_7sgg\n",
            "jIKTTeJTDzxX8vJI-T7wxg\n",
            "zw1WyyRsclSpxBdQm5MOHw\n",
            "cE0NxiFWbH-Ikz6nXgv8mw\n",
            "pU7kdJq5_K5y5l3NYkHGmg\n",
            "OiRJQYaDqyPR_XAMY-pcvw\n",
            "t2IQvO-1VT-KBA0w2XtHfg\n",
            "4KJGnr4UB_0K4G4H6Y5YLQ\n",
            "Rd8UbVjam5zKSCBbb0Uv5w\n",
            "BDIJ668u-vS8HbHgCdxzmw\n",
            "G7AEvOxbIUV2Em7FMmwXGQ\n",
            "LvlrOkUiMyNMxXXhxiAXZA\n",
            "FxmuSs09zip7zrgNHTZcXw\n",
            "oq8yay4_CQcO_UspJERaNQ\n",
            "hOB1wKXu0MjpLRR5jq1x2A\n",
            "AQ34bMhOZRh036-tJPqCng\n",
            "7zpynWrIsQDZjegYvEF1kg\n",
            "ALBV0FDvwUOYN13pOLyIOg\n",
            "rA-C_of6pZhRMIXuadnYgA\n",
            "GgVfRtQa475wbnSM8nQuSg\n",
            "iHxKKQwUaFj7PzCddBEVZg\n",
            "vEoIs3OnOiPuhgeMQdjDtw\n",
            "hVbE1WSkMage3oe1Go3rhw\n",
            "AXTzVe_4Kr7338_6Nepc-w\n",
            "n_qcJZvSMAxTcs45wNTbqA\n",
            "VG713v_J04eBHKXQeOvrxA\n",
            "r61ZocVr97fL7VkV2VS2yw\n",
            "emL_W8kD8Vn4WcyZieZO2g\n",
            "wmBifxnIt93TEqQKmWfOaw\n",
            "RByw2wh4-1f_ZedpTZxa7A\n",
            "_CmLoo2n-bp-NAj-mhhW3A\n",
            "ynRiFaN_3YVS0n3kuJlNkg\n",
            "Y4PJ4gydOVur-xWMc9hX1g\n",
            "PjgCCISC-bfM3YPxWGWqpQ\n",
            "lF1r8--PvPJI_nhFhKkokA\n",
            "RKN7vQ5s9hCtgEJ50EbO3w\n",
            "dmMf5zt3FVAhqY6d3h0o9g\n",
            "47000\n",
            "q9rgxOw3WgJzf1fP8jv26w\n",
            "G2n77sQxr0XqPekhTu6HvA\n",
            "eWPush9C-gj9tH5zExmiEQ\n",
            "N1XlCYg1qwZemQNwOVjYmg\n",
            "3WgzKhDmH5nU946Yk4wbzA\n",
            "6fA4Scay0SkSI2aGrwAVlw\n",
            "RVJ9KifZn7DsX7zNi2dcuA\n",
            "8GW3J233ePBX7BlJcOAFUQ\n",
            "t2VUJzydog1DPBxlEcfQ-Q\n",
            "ML_L9pjO3mlqQNvQrb3zvA\n",
            "j9PWBcqjxXEAwq5drPRrpQ\n",
            "fX8uG5YpQ0fE-4dEzwefyw\n",
            "6gwPCC0kC41sQjvkG1uzgw\n",
            "YO5vS1DDy0d8QxeKnNnnFA\n",
            "a16P2HssDZrEEWXHl22d9Q\n",
            "NO6tZEjT8B9JB9CNbdy3uQ\n",
            "qaW-xH2tjfG0bUisSSdfAA\n",
            "GdBv_-KkdTtgLL3BC0wLBw\n",
            "ae41JbejtvTevP8pg6_Scg\n",
            "6M5WzRHQZOy8VCwQClkKqA\n",
            "MfWuOpIEVda0oUKZEbWnbg\n",
            "buKjTbT8XXoccgIvuUyk9A\n",
            "YKsxuKccY6lwcyY4koGIzg\n",
            "xp0ZanFPIL2vypgp_Eqmrw\n",
            "8zoIt_7h3gJeW1YGEflHrA\n",
            "QqDz0hQ7iPpHJAd9JOTudQ\n",
            "SarDVgT8uETPUKj2SStRMA\n",
            "y_7ZDRr5xt1GWIA6qj2-xQ\n",
            "cB00fmNTuWi07IXS6kOX1Q\n",
            "OPdNLu8aHCuTN5cqLS1MxQ\n",
            "m6Xjo7nGkjjUXenHm_yciw\n",
            "lifY5yvxWhEqGNX6bGfBAA\n",
            "qkJdBYlWWRfYOQKI6BgnQQ\n",
            "vYr5IUI8MDEAPBAuZJdNPQ\n",
            "dC1NQrfJzEGs49TUxORnBA\n",
            "CIEJp47cdiF7XQAsw5XmLQ\n",
            "cbTfQMiKtS7BTby81VJ8Bg\n",
            "eBmFZxa26_dzQ7if0FD-FA\n",
            "rK5j5HEeMEtZryDsZv0BTA\n",
            "Npn4dowvl5xiJzVfKZEV3Q\n",
            "5ysISW_Tc4YVg5VbM1-5Xg\n",
            "XSTySloUG_f7gFFwqvehOw\n",
            "2wlfXXv4iC50OPAYIxOG_A\n",
            "riQ8OcCWMrkICfs5eyGGtA\n",
            "UeY30shIL5ZhTw9fpnR8Fw\n",
            "LNMi7I89I9NI3bQz8LPetA\n",
            "7vxVNF-yKvCUfj8OhlH_Cg\n",
            "5j7_zwixmc4Wt8h3QCnNwg\n",
            "mH__Vdc_hGB6tdqEIbyU9g\n",
            "VQGr_cyToxgsjGkiNefXOw\n",
            "48000\n",
            "HGwI9OEWjdP0JU0wApZ3tA\n",
            "QnpovNwZKIk7OAiNG3ZspQ\n",
            "fU3qz9khOzzz0pBt7XHG5A\n",
            "jxHXxBESenM-Wzia5Xh2vA\n",
            "SbBkXpXdEDUVi7UhQYq36g\n",
            "Hywj7lDRT7x5V9l6fiAKpQ\n",
            "kOVYDwD9LbgBKwBkztDcag\n",
            "kUZUmdBTtQ6284Qlzc_NyA\n",
            "cL86kI1x5E5pXAahJ-LtnQ\n",
            "M9tQb56JpDIRvFgH1R75XA\n",
            "bHpYBhrWUmCwc16b87Nt8A\n",
            "56TJd6d_vdjxXr4eXQlQ_g\n",
            "nVkyxklblh_X4RAAHNFfbA\n",
            "hjqRwbtGFmqMy5_QT3ol1g\n",
            "x4MTp-LykX3ckp27JBIxjQ\n",
            "Y9xqKYrkyQBBt4XlV6EyMQ\n",
            "c1Cds6ml72ioKDheikpWVw\n",
            "tSUuNHQPBIv2UZxgH4Qy7w\n",
            "JsMn24HH8hicbavNSJxPXw\n",
            "f55q0EKmQKco_TMYFIEC3w\n",
            "S_dw8B_N8sZHxxdBlsUC_g\n",
            "slGOgDwclwZY9loX3r31LA\n",
            "tYre2lAoDzBJ19dxQ1ubVA\n",
            "7PjXC9efceMsqBXCsAe-sw\n",
            "yTxUljktDCBe8UHcZTyxfQ\n",
            "9ZLRAg2VmdZxznU4CY3F8w\n",
            "FgO-y6VVbnRdRZdpbgi1Aw\n",
            "bP1lwYkGwLvw0TqhuamnSA\n",
            "ve5pcmxq_Jywuo1Gms5SfQ\n",
            "lMmbhZAENUeuB93psLWnBw\n",
            "eSJMA_VdUVQTDkRJiV9lHw\n",
            "DWA7JiOvWZtTREq6-KA5jw\n",
            "MFXceYZg7bWOiVdZIQbWrw\n",
            "eIsszH4Jc0kRlv0UflS6hg\n",
            "uM3OgfBBEnjl2YVU3isA_g\n",
            "y8AENR609baGvVe-d_F-dg\n",
            "3bi5t-ca2ieKfhD8EXOssA\n",
            "fQOOrAipCKMcRydM_FyVEg\n",
            "xNNVZ3FHLfzF54eiqN3dYA\n",
            "smsZqRAirDU-c5uMxFaZoA\n",
            "8WNLB1Qj6PWhtJha-tE-ug\n",
            "LjSvLbbzFnFc6JScXH3r3w\n",
            "WtGHHomZhFffiL0UiKjGkw\n",
            "zLEzvyIkY_Ue7uCqMoGHMQ\n",
            "NVcuwHdZFJtyP4i-c0gx6g\n",
            "45XW28tWd2PZT8GiytW7Ng\n",
            "NvMN6SymLONl2N8zm-n4LA\n",
            "lWLOAuAJ-8e0pSTYRasHhw\n",
            "IcD4lXY6lT8zZPkGD9Flqg\n",
            "jnYo6ZG50mH1wrzbdGEo5Q\n",
            "BYB7Mj8CLW5-QsU5vCI71g\n",
            "qf1f2JJmxrr79xpNkzml-g\n",
            "XLN3BmDxsFARI8fan9WmQA\n",
            "gORlvYi644DZIy_GtXJtyA\n",
            "pmRL_ivQoQpec5BkTIwVTw\n",
            "9Lx86wtBuOMUvI63cTh6Wg\n",
            "9ml_Gj7Q3U-S39hnCP8gCQ\n",
            "s74_rg4QS6znHdRhWqNhtA\n",
            "6KeZQhjKhzHCvUZG2OuVjQ\n",
            "49000\n",
            "qejJlDN_9DdsOWI2A5xRsQ\n",
            "eU2xVsKv3d1cJicQh_q6qg\n",
            "v_PY4Lw53nf6Nej9is-3tw\n",
            "c32mGy62lMCp-ltl0Rcc5g\n",
            "xKd3zvXDAIMN9EcwnudUBA\n",
            "hxgHflucadUHaOsLbmTv1w\n",
            "2c4z-PvJY4RvPCDxaUsfpg\n",
            "rS0BLb6nI2BfBelOlcEEYA\n",
            "NxaslE3Fu4BUJN1OuT1mTw\n",
            "ENmvPOGlywu9umDkLGaR6w\n",
            "MB95qdTuKOtDUkv01Jl1Jw\n",
            "gTEWs6K1EHnrd-HFylUJRw\n",
            "-qyzTT2NndkDNhDYBIBtXQ\n",
            "NEIxfI_nZ93eB1r3SdNCyw\n",
            "PGRL9DzeBl4dJbgC-dNLhg\n",
            "qm4CUb96KIa2Qv7w6U_ZYQ\n",
            "HszIFq0D6aZKJwW2hVwWLw\n",
            "v6a3uDbBm5VmlBsMadCaUA\n",
            "q3UmH124taHQsptIJr33nQ\n",
            "bk9aS8CZ0Yt8aKjfyTDAXw\n",
            "vTGgvNOWfJkMXH6xg7iL6Q\n",
            "l_Ve7TDkIR-e9O5wG0TNjw\n",
            "2aSFQAS7hSUfyTag4SUw-g\n",
            "ArASlpn_kcbEpYVZI_GquQ\n",
            "hs2s_bOH9Rp4w4_0rhUOSg\n",
            "mwNsKIvpSJbw_bMCOgGVLA\n",
            "6FgBBNcwxdXOnzFJ3McJyg\n",
            "cW9gyMk0JIBc7ijJcUv5dw\n",
            "rXcmHrkhsYl99yzSMLqrfQ\n",
            "U0ZCGgfFPTd2zyXJnDiqXw\n",
            "tnUMk8v_M0kkX0J4Ew0cCQ\n",
            "R7LBTdnp3FQ7vDfSpaHe3w\n",
            "4fLMC6B2USFFRaPSfJSKlA\n",
            "8GclUzCTNI3wyuxLITKTug\n",
            "2o3IhmDY4mr0Vylbz0_M6Q\n",
            "qkypZ-w2OALuCHNYHTvgAg\n",
            "z6mU0N4zujiU-lwcYgzpSQ\n",
            "bGd_FR15CMmnyHX-o2YqoQ\n",
            "N9L1B3TD57wyDl7f3Awlcg\n",
            "tl5eOu8fqPQuzKZO21xTFg\n",
            "vQHLyvsUCUOpGOsPBDlP9g\n",
            "rhTLD0ZUfdNjluBUFX79eQ\n",
            "BQuU77gKRd8t1wSyPuw60w\n",
            "jhTvowxVAMCnAsObNta8kw\n",
            "h5YsedlZXmQd1nDnFrpvAQ\n",
            "iYd-OZDRt0MHa6VWQkBUQA\n",
            "50000\n",
            "fj6ShWc_jL5kCtZ4D9cajg\n",
            "WPlO4yIAWAvAilZa3KHCfg\n",
            "vb7t5_4aZ9yDgOMmFGYKgw\n"
          ]
        }
      ],
      "source": [
        "# new_bus_ids=[]\n",
        "# i=0\n",
        "# for id in bus_ids:\n",
        "#   if i%1000==0:\n",
        "#     print(i)\n",
        "#   i+=1\n",
        "#   if i<43000:\n",
        "#     continue\n",
        "#   with open(save_path+'tips_bert_items_dfs/'+'{}.json'.format(id)) as fd:\n",
        "#     lines= fd.readlines()\n",
        "#     if len(lines[0])<5:\n",
        "#       print(id)\n",
        "#       # print(lines)\n",
        "#     else:\n",
        "#       new_bus_ids.append(id)\n",
        "    "
      ]
    },
    {
      "cell_type": "code",
      "execution_count": null,
      "metadata": {
        "id": "mWprMkDz-VuX"
      },
      "outputs": [],
      "source": [
        "business_df"
      ]
    },
    {
      "cell_type": "code",
      "execution_count": null,
      "metadata": {
        "id": "VcE78VOkH06K"
      },
      "outputs": [],
      "source": [
        "# import json\n",
        "# import pandas as pd\n",
        "# data_file = open(save_path+\"Kaggle/yelp_academic_dataset_review.json\")\n",
        "# data = []\n",
        "# for line in data_file:\n",
        "#   data.append(json.loads(line))\n",
        "# review_df = pd.DataFrame(data)\n",
        "# data_file.close()"
      ]
    },
    {
      "cell_type": "code",
      "execution_count": null,
      "metadata": {
        "id": "nnFNT1-pGyBb"
      },
      "outputs": [],
      "source": [
        "# review_df"
      ]
    },
    {
      "cell_type": "code",
      "execution_count": null,
      "metadata": {
        "id": "EL93K3G-wudw"
      },
      "outputs": [],
      "source": [
        "# review_df.drop(['useful','funny','cool','date'],axis=1,inplace=True)"
      ]
    },
    {
      "cell_type": "code",
      "execution_count": null,
      "metadata": {
        "id": "rztQtur0y1EP"
      },
      "outputs": [],
      "source": [
        "# review_df.drop(review_df.index[~review_df['business_id'].isin(bus_ids)], inplace=True)"
      ]
    },
    {
      "cell_type": "code",
      "execution_count": null,
      "metadata": {
        "id": "fvLfBFlMI2rx"
      },
      "outputs": [],
      "source": [
        "# review_df.drop(review_df.index[~review_df['business_id'].isin(tips_bus_ids)], inplace=True)"
      ]
    },
    {
      "cell_type": "code",
      "execution_count": null,
      "metadata": {
        "id": "ELKmPi2UwXak"
      },
      "outputs": [],
      "source": [
        "# review_df.drop(review_df.index[~review_df['user_id'].isin(tips_user_ids)], inplace=True)"
      ]
    },
    {
      "cell_type": "code",
      "execution_count": null,
      "metadata": {
        "id": "dJd9UhP52MMs"
      },
      "outputs": [],
      "source": [
        "# review_df"
      ]
    },
    {
      "cell_type": "code",
      "execution_count": null,
      "metadata": {
        "id": "Em0ni5szxB_h"
      },
      "outputs": [],
      "source": [
        "# review_df.to_csv(save_path+'yelp_reviews.csv')"
      ]
    },
    {
      "cell_type": "code",
      "execution_count": null,
      "metadata": {
        "id": "LMeKukP2VF6w"
      },
      "outputs": [],
      "source": [
        "review_df=pd.read_csv(save_path+'yelp_reviews.csv')"
      ]
    },
    {
      "cell_type": "code",
      "execution_count": null,
      "metadata": {
        "id": "GTToXdt7BHV6"
      },
      "outputs": [],
      "source": [
        "# import json\n",
        "# import pandas as pd\n",
        "# data_file = open(save_path+\"Kaggle/yelp_academic_dataset_user.json\")\n",
        "# data = []\n",
        "# for line in data_file:\n",
        "#   data.append(json.loads(line))\n",
        "# user_df = pd.DataFrame(data)\n",
        "# data_file.close()"
      ]
    },
    {
      "cell_type": "code",
      "execution_count": null,
      "metadata": {
        "id": "uttsO3noAXcA"
      },
      "outputs": [],
      "source": [
        "# user_df=user_df[user_df['review_count']>20]"
      ]
    },
    {
      "cell_type": "code",
      "execution_count": null,
      "metadata": {
        "id": "y_ILxXWfVzON"
      },
      "outputs": [],
      "source": [
        "# user_df"
      ]
    },
    {
      "cell_type": "code",
      "execution_count": null,
      "metadata": {
        "id": "uZ-QVILfV-pI"
      },
      "outputs": [],
      "source": [
        "# user_ids=user_df['user_id'].values"
      ]
    },
    {
      "cell_type": "code",
      "execution_count": null,
      "metadata": {
        "colab": {
          "base_uri": "https://localhost:8080/"
        },
        "id": "vNBUYkedWTyn",
        "outputId": "207b3fc0-6969-489a-bfa0-9a99c5cbaff2"
      },
      "outputs": [
        {
          "data": {
            "text/plain": [
              "array(['qVc8ODYU5SZjKXVBgXdI7w', 'j14WgRoU_-2ZE1aw1dXrJg',\n",
              "       '2WnXYQFK0hXEoTxPtV2zvg', ..., '_K4X0IBlwDSnClxOrOdxVw',\n",
              "       'E7Stb54xluW_QabdPRwvog', 'fB3jbHi3m0L2KgGOxBv6uw'], dtype=object)"
            ]
          },
          "execution_count": 40,
          "metadata": {},
          "output_type": "execute_result"
        }
      ],
      "source": [
        "# user_ids"
      ]
    },
    {
      "cell_type": "code",
      "execution_count": null,
      "metadata": {
        "id": "ePOsKlVrYA0z"
      },
      "outputs": [],
      "source": [
        "# review_df.drop(review_df.index[~review_df['user_id'].isin(user_ids)], inplace=True)"
      ]
    },
    {
      "cell_type": "code",
      "execution_count": null,
      "metadata": {
        "id": "qHUBnnQW93p4"
      },
      "outputs": [],
      "source": [
        "# review_df"
      ]
    },
    {
      "cell_type": "code",
      "execution_count": null,
      "metadata": {
        "id": "WhtrGzBSqFVL"
      },
      "outputs": [],
      "source": [
        "from sklearn import preprocessing\n",
        "import numpy as np"
      ]
    },
    {
      "cell_type": "code",
      "execution_count": null,
      "metadata": {
        "id": "yHrhGwa1p5r1"
      },
      "outputs": [],
      "source": [
        "# min_max_scaler1 = preprocessing.MinMaxScaler(feature_range=(0,1))\n",
        "# # min_max_scaler2 = preprocessing.MinMaxScaler(feature_range=(-1,0))\n",
        "# latitudes=business_df['latitude'].values.reshape(-1, 1)\n",
        "# longitudes=business_df['longitude'].values.reshape(-1, 1)\n",
        "# # minmax1 = min_max_scaler1.fit_transform(latitudes)\n",
        "# minmax2 = min_max_scaler1.fit_transform(longitudes)"
      ]
    },
    {
      "cell_type": "code",
      "execution_count": null,
      "metadata": {
        "id": "ZTk0mNj5srfs"
      },
      "outputs": [],
      "source": [
        "# business_df['normalized_latitude']=minmax1\n",
        "# business_df['normalized_longitude']=minmax2"
      ]
    },
    {
      "cell_type": "code",
      "execution_count": null,
      "metadata": {
        "id": "b6gEC__hs9Df"
      },
      "outputs": [],
      "source": [
        "business_df.drop(['name','address','city','state','postal_code'],axis=1,inplace=True)"
      ]
    },
    {
      "cell_type": "code",
      "execution_count": null,
      "metadata": {
        "id": "XF2zcxcdt-_s"
      },
      "outputs": [],
      "source": [
        "# business_df.drop(['latitude','longitude'],axis=1,inplace=True)"
      ]
    },
    {
      "cell_type": "code",
      "execution_count": null,
      "metadata": {
        "id": "IxgwqPSJuaY7"
      },
      "outputs": [],
      "source": [
        "# stars=business_df['stars'].values.reshape(-1, 1)\n",
        "# minmax3 = min_max_scaler1.fit_transform(stars)\n",
        "# business_df['normalized_stars']=minmax3"
      ]
    },
    {
      "cell_type": "code",
      "execution_count": null,
      "metadata": {
        "id": "VKnvqxIqvBdv"
      },
      "outputs": [],
      "source": [
        "# business_df.drop(['stars'],axis=1,inplace=True)"
      ]
    },
    {
      "cell_type": "code",
      "execution_count": null,
      "metadata": {
        "id": "OlO_glPEuIDW"
      },
      "outputs": [],
      "source": [
        "business_df.drop(['is_open','review_count'],axis=1,inplace=True)"
      ]
    },
    {
      "cell_type": "code",
      "execution_count": null,
      "metadata": {
        "colab": {
          "base_uri": "https://localhost:8080/",
          "height": 337
        },
        "id": "9AbgjEQBvSHg",
        "outputId": "7b261b3b-efd1-4b3c-fc0c-e5411b579cb9"
      },
      "outputs": [
        {
          "data": {
            "text/html": [
              "\n",
              "  <div id=\"df-811f092d-de0f-4087-a1b5-338772d9328f\">\n",
              "    <div class=\"colab-df-container\">\n",
              "      <div>\n",
              "<style scoped>\n",
              "    .dataframe tbody tr th:only-of-type {\n",
              "        vertical-align: middle;\n",
              "    }\n",
              "\n",
              "    .dataframe tbody tr th {\n",
              "        vertical-align: top;\n",
              "    }\n",
              "\n",
              "    .dataframe thead th {\n",
              "        text-align: right;\n",
              "    }\n",
              "</style>\n",
              "<table border=\"1\" class=\"dataframe\">\n",
              "  <thead>\n",
              "    <tr style=\"text-align: right;\">\n",
              "      <th></th>\n",
              "      <th>business_id</th>\n",
              "      <th>latitude</th>\n",
              "      <th>longitude</th>\n",
              "      <th>stars</th>\n",
              "      <th>attributes</th>\n",
              "      <th>categories</th>\n",
              "      <th>hours</th>\n",
              "    </tr>\n",
              "  </thead>\n",
              "  <tbody>\n",
              "    <tr>\n",
              "      <th>0</th>\n",
              "      <td>mpf3x-BjTdTEA3yCZrAYPw</td>\n",
              "      <td>38.551126</td>\n",
              "      <td>-90.335695</td>\n",
              "      <td>3.0</td>\n",
              "      <td>{'BusinessAcceptsCreditCards': 'True'}</td>\n",
              "      <td>Shipping Centers, Local Services, Notaries, Ma...</td>\n",
              "      <td>{'Monday': '0:0-0:0', 'Tuesday': '8:0-18:30', ...</td>\n",
              "    </tr>\n",
              "    <tr>\n",
              "      <th>1</th>\n",
              "      <td>MTSW4McQd7CbVtyjqoe9mw</td>\n",
              "      <td>39.955505</td>\n",
              "      <td>-75.155564</td>\n",
              "      <td>4.0</td>\n",
              "      <td>{'RestaurantsDelivery': 'False', 'OutdoorSeati...</td>\n",
              "      <td>Restaurants, Food, Bubble Tea, Coffee &amp; Tea, B...</td>\n",
              "      <td>{'Monday': '7:0-20:0', 'Tuesday': '7:0-20:0', ...</td>\n",
              "    </tr>\n",
              "    <tr>\n",
              "      <th>2</th>\n",
              "      <td>n_0UpQx1hsNbnPUSlodU8w</td>\n",
              "      <td>38.627695</td>\n",
              "      <td>-90.340465</td>\n",
              "      <td>2.5</td>\n",
              "      <td>{'BusinessAcceptsCreditCards': 'True', 'Restau...</td>\n",
              "      <td>Sporting Goods, Fashion, Shoe Stores, Shopping...</td>\n",
              "      <td>{'Monday': '0:0-0:0', 'Tuesday': '10:0-18:0', ...</td>\n",
              "    </tr>\n",
              "    <tr>\n",
              "      <th>3</th>\n",
              "      <td>il_Ro8jwPlHresjw9EGmBg</td>\n",
              "      <td>39.637133</td>\n",
              "      <td>-86.127217</td>\n",
              "      <td>2.5</td>\n",
              "      <td>{'RestaurantsReservations': 'False', 'Restaura...</td>\n",
              "      <td>American (Traditional), Restaurants, Diners, B...</td>\n",
              "      <td>{'Monday': '6:0-22:0', 'Tuesday': '6:0-22:0', ...</td>\n",
              "    </tr>\n",
              "    <tr>\n",
              "      <th>4</th>\n",
              "      <td>MUTTqe8uqyMdBl186RmNeA</td>\n",
              "      <td>39.953949</td>\n",
              "      <td>-75.143226</td>\n",
              "      <td>4.0</td>\n",
              "      <td>{'RestaurantsReservations': 'True', 'Restauran...</td>\n",
              "      <td>Sushi Bars, Restaurants, Japanese</td>\n",
              "      <td>{'Tuesday': '13:30-22:0', 'Wednesday': '13:30-...</td>\n",
              "    </tr>\n",
              "  </tbody>\n",
              "</table>\n",
              "</div>\n",
              "      <button class=\"colab-df-convert\" onclick=\"convertToInteractive('df-811f092d-de0f-4087-a1b5-338772d9328f')\"\n",
              "              title=\"Convert this dataframe to an interactive table.\"\n",
              "              style=\"display:none;\">\n",
              "        \n",
              "  <svg xmlns=\"http://www.w3.org/2000/svg\" height=\"24px\"viewBox=\"0 0 24 24\"\n",
              "       width=\"24px\">\n",
              "    <path d=\"M0 0h24v24H0V0z\" fill=\"none\"/>\n",
              "    <path d=\"M18.56 5.44l.94 2.06.94-2.06 2.06-.94-2.06-.94-.94-2.06-.94 2.06-2.06.94zm-11 1L8.5 8.5l.94-2.06 2.06-.94-2.06-.94L8.5 2.5l-.94 2.06-2.06.94zm10 10l.94 2.06.94-2.06 2.06-.94-2.06-.94-.94-2.06-.94 2.06-2.06.94z\"/><path d=\"M17.41 7.96l-1.37-1.37c-.4-.4-.92-.59-1.43-.59-.52 0-1.04.2-1.43.59L10.3 9.45l-7.72 7.72c-.78.78-.78 2.05 0 2.83L4 21.41c.39.39.9.59 1.41.59.51 0 1.02-.2 1.41-.59l7.78-7.78 2.81-2.81c.8-.78.8-2.07 0-2.86zM5.41 20L4 18.59l7.72-7.72 1.47 1.35L5.41 20z\"/>\n",
              "  </svg>\n",
              "      </button>\n",
              "      \n",
              "  <style>\n",
              "    .colab-df-container {\n",
              "      display:flex;\n",
              "      flex-wrap:wrap;\n",
              "      gap: 12px;\n",
              "    }\n",
              "\n",
              "    .colab-df-convert {\n",
              "      background-color: #E8F0FE;\n",
              "      border: none;\n",
              "      border-radius: 50%;\n",
              "      cursor: pointer;\n",
              "      display: none;\n",
              "      fill: #1967D2;\n",
              "      height: 32px;\n",
              "      padding: 0 0 0 0;\n",
              "      width: 32px;\n",
              "    }\n",
              "\n",
              "    .colab-df-convert:hover {\n",
              "      background-color: #E2EBFA;\n",
              "      box-shadow: 0px 1px 2px rgba(60, 64, 67, 0.3), 0px 1px 3px 1px rgba(60, 64, 67, 0.15);\n",
              "      fill: #174EA6;\n",
              "    }\n",
              "\n",
              "    [theme=dark] .colab-df-convert {\n",
              "      background-color: #3B4455;\n",
              "      fill: #D2E3FC;\n",
              "    }\n",
              "\n",
              "    [theme=dark] .colab-df-convert:hover {\n",
              "      background-color: #434B5C;\n",
              "      box-shadow: 0px 1px 3px 1px rgba(0, 0, 0, 0.15);\n",
              "      filter: drop-shadow(0px 1px 2px rgba(0, 0, 0, 0.3));\n",
              "      fill: #FFFFFF;\n",
              "    }\n",
              "  </style>\n",
              "\n",
              "      <script>\n",
              "        const buttonEl =\n",
              "          document.querySelector('#df-811f092d-de0f-4087-a1b5-338772d9328f button.colab-df-convert');\n",
              "        buttonEl.style.display =\n",
              "          google.colab.kernel.accessAllowed ? 'block' : 'none';\n",
              "\n",
              "        async function convertToInteractive(key) {\n",
              "          const element = document.querySelector('#df-811f092d-de0f-4087-a1b5-338772d9328f');\n",
              "          const dataTable =\n",
              "            await google.colab.kernel.invokeFunction('convertToInteractive',\n",
              "                                                     [key], {});\n",
              "          if (!dataTable) return;\n",
              "\n",
              "          const docLinkHtml = 'Like what you see? Visit the ' +\n",
              "            '<a target=\"_blank\" href=https://colab.research.google.com/notebooks/data_table.ipynb>data table notebook</a>'\n",
              "            + ' to learn more about interactive tables.';\n",
              "          element.innerHTML = '';\n",
              "          dataTable['output_type'] = 'display_data';\n",
              "          await google.colab.output.renderOutput(dataTable, element);\n",
              "          const docLink = document.createElement('div');\n",
              "          docLink.innerHTML = docLinkHtml;\n",
              "          element.appendChild(docLink);\n",
              "        }\n",
              "      </script>\n",
              "    </div>\n",
              "  </div>\n",
              "  "
            ],
            "text/plain": [
              "              business_id   latitude  longitude  stars  \\\n",
              "0  mpf3x-BjTdTEA3yCZrAYPw  38.551126 -90.335695    3.0   \n",
              "1  MTSW4McQd7CbVtyjqoe9mw  39.955505 -75.155564    4.0   \n",
              "2  n_0UpQx1hsNbnPUSlodU8w  38.627695 -90.340465    2.5   \n",
              "3  il_Ro8jwPlHresjw9EGmBg  39.637133 -86.127217    2.5   \n",
              "4  MUTTqe8uqyMdBl186RmNeA  39.953949 -75.143226    4.0   \n",
              "\n",
              "                                          attributes  \\\n",
              "0             {'BusinessAcceptsCreditCards': 'True'}   \n",
              "1  {'RestaurantsDelivery': 'False', 'OutdoorSeati...   \n",
              "2  {'BusinessAcceptsCreditCards': 'True', 'Restau...   \n",
              "3  {'RestaurantsReservations': 'False', 'Restaura...   \n",
              "4  {'RestaurantsReservations': 'True', 'Restauran...   \n",
              "\n",
              "                                          categories  \\\n",
              "0  Shipping Centers, Local Services, Notaries, Ma...   \n",
              "1  Restaurants, Food, Bubble Tea, Coffee & Tea, B...   \n",
              "2  Sporting Goods, Fashion, Shoe Stores, Shopping...   \n",
              "3  American (Traditional), Restaurants, Diners, B...   \n",
              "4                  Sushi Bars, Restaurants, Japanese   \n",
              "\n",
              "                                               hours  \n",
              "0  {'Monday': '0:0-0:0', 'Tuesday': '8:0-18:30', ...  \n",
              "1  {'Monday': '7:0-20:0', 'Tuesday': '7:0-20:0', ...  \n",
              "2  {'Monday': '0:0-0:0', 'Tuesday': '10:0-18:0', ...  \n",
              "3  {'Monday': '6:0-22:0', 'Tuesday': '6:0-22:0', ...  \n",
              "4  {'Tuesday': '13:30-22:0', 'Wednesday': '13:30-...  "
            ]
          },
          "execution_count": 29,
          "metadata": {},
          "output_type": "execute_result"
        }
      ],
      "source": [
        "business_df.head()"
      ]
    },
    {
      "cell_type": "code",
      "execution_count": null,
      "metadata": {
        "id": "HWcAFhRS5dXN"
      },
      "outputs": [],
      "source": [
        "all_attributes=[]\n",
        "values=[]\n",
        "for attr in business_df['attributes'].values:\n",
        "  for key in attr.keys():\n",
        "    res=attr[key].replace('\\'','\\\"').replace('False','-1').replace('True','1').replace('None','0').replace('none','0').replace('u','').replace('yes','1')\n",
        "    # print(res)\n",
        "    if '{' in res:\n",
        "      # print(res)\n",
        "      res = json.loads(res)\n",
        "      all_attributes+=res.keys()\n",
        "    elif '\\\"' not in res and int(res)<2:\n",
        "      all_attributes.append(key)\n",
        "all_attributes=list(set(all_attributes))"
      ]
    },
    {
      "cell_type": "code",
      "execution_count": null,
      "metadata": {
        "colab": {
          "base_uri": "https://localhost:8080/"
        },
        "id": "as0JNbkw8O6Q",
        "outputId": "35f52a3d-2dbf-4a83-d162-dbc83b1d1441"
      },
      "outputs": [
        {
          "output_type": "execute_result",
          "data": {
            "text/plain": [
              "87"
            ]
          },
          "metadata": {},
          "execution_count": 30
        }
      ],
      "source": [
        "len(all_attributes)"
      ]
    },
    {
      "cell_type": "code",
      "execution_count": null,
      "metadata": {
        "id": "WS9cZzIlwjhb"
      },
      "outputs": [],
      "source": [
        "attributes=[]\n",
        "i=0\n",
        "for attr in business_df['attributes'].values:\n",
        "  att=np.zeros(87)\n",
        "  for key in  attr.keys():\n",
        "    res=attr[key].replace('\\'','\\\"').replace('False','-1').replace('True','1').replace('None','0').replace('none','0').replace('u','')\n",
        "    if '{' in res:\n",
        "      res = json.loads(res)\n",
        "      for key2 in res.keys():\n",
        "        ind=all_attributes.index(key2)\n",
        "        att[ind]=res[key2]\n",
        "    elif '\\\"' not in res  and int(res)<2:\n",
        "      ind=all_attributes.index(key)\n",
        "      att[ind]=int(res)\n",
        "  attributes.append(att)"
      ]
    },
    {
      "cell_type": "code",
      "execution_count": null,
      "metadata": {
        "id": "1ZS5yMly3554"
      },
      "outputs": [],
      "source": [
        "attributes_array=np.array(attributes)"
      ]
    },
    {
      "cell_type": "code",
      "execution_count": null,
      "metadata": {
        "id": "N1B6dlXyJxkh"
      },
      "outputs": [],
      "source": [
        "# normalized_attributes_array=preprocessing.scale(attributes_array)"
      ]
    },
    {
      "cell_type": "code",
      "execution_count": null,
      "metadata": {
        "id": "R_6Oo-0IKlow"
      },
      "outputs": [],
      "source": [
        "# normalized_attributes_array"
      ]
    },
    {
      "cell_type": "code",
      "execution_count": null,
      "metadata": {
        "id": "hmeaCWo-GpNL"
      },
      "outputs": [],
      "source": [
        "business_df.reset_index(inplace=True)"
      ]
    },
    {
      "cell_type": "code",
      "execution_count": null,
      "metadata": {
        "id": "SmadUp8jGvLl"
      },
      "outputs": [],
      "source": [
        "business_df.drop(['index'],axis=1,inplace=True)"
      ]
    },
    {
      "cell_type": "code",
      "execution_count": null,
      "metadata": {
        "id": "Djpsp_FDGShM"
      },
      "outputs": [],
      "source": [
        "business_df=pd.concat([business_df, pd.DataFrame(attributes_array,columns=all_attributes)], axis=1)"
      ]
    },
    {
      "cell_type": "code",
      "execution_count": null,
      "metadata": {
        "id": "wjfINdYj5xDq"
      },
      "outputs": [],
      "source": [
        "business_df.drop(['attributes'],axis=1,inplace=True)"
      ]
    },
    {
      "cell_type": "code",
      "execution_count": null,
      "metadata": {
        "colab": {
          "base_uri": "https://localhost:8080/",
          "height": 1000
        },
        "id": "8wBlApWp59cM",
        "outputId": "e27abc2d-6520-4faa-ecc9-b57525f82358"
      },
      "outputs": [
        {
          "data": {
            "text/html": [
              "\n",
              "  <div id=\"df-c2dd603a-7275-4ca3-9138-2e5379390646\">\n",
              "    <div class=\"colab-df-container\">\n",
              "      <div>\n",
              "<style scoped>\n",
              "    .dataframe tbody tr th:only-of-type {\n",
              "        vertical-align: middle;\n",
              "    }\n",
              "\n",
              "    .dataframe tbody tr th {\n",
              "        vertical-align: top;\n",
              "    }\n",
              "\n",
              "    .dataframe thead th {\n",
              "        text-align: right;\n",
              "    }\n",
              "</style>\n",
              "<table border=\"1\" class=\"dataframe\">\n",
              "  <thead>\n",
              "    <tr style=\"text-align: right;\">\n",
              "      <th></th>\n",
              "      <th>business_id</th>\n",
              "      <th>latitude</th>\n",
              "      <th>longitude</th>\n",
              "      <th>stars</th>\n",
              "      <th>categories</th>\n",
              "      <th>hours</th>\n",
              "      <th>lot</th>\n",
              "      <th>pscale</th>\n",
              "      <th>breakfast</th>\n",
              "      <th>asian</th>\n",
              "      <th>...</th>\n",
              "      <th>latenight</th>\n",
              "      <th>dj</th>\n",
              "      <th>vegan</th>\n",
              "      <th>satrday</th>\n",
              "      <th>divey</th>\n",
              "      <th>WiFi</th>\n",
              "      <th>glten-free</th>\n",
              "      <th>jkebox</th>\n",
              "      <th>Ambience</th>\n",
              "      <th>HasTV</th>\n",
              "    </tr>\n",
              "  </thead>\n",
              "  <tbody>\n",
              "    <tr>\n",
              "      <th>0</th>\n",
              "      <td>MTSW4McQd7CbVtyjqoe9mw</td>\n",
              "      <td>39.955505</td>\n",
              "      <td>-75.155564</td>\n",
              "      <td>4.0</td>\n",
              "      <td>Restaurants, Food, Bubble Tea, Coffee &amp; Tea, B...</td>\n",
              "      <td>{'Monday': '7:0-20:0', 'Tuesday': '7:0-20:0', ...</td>\n",
              "      <td>-1.0</td>\n",
              "      <td>0.0</td>\n",
              "      <td>0.0</td>\n",
              "      <td>0.0</td>\n",
              "      <td>...</td>\n",
              "      <td>0.0</td>\n",
              "      <td>0.0</td>\n",
              "      <td>0.0</td>\n",
              "      <td>0.0</td>\n",
              "      <td>0.0</td>\n",
              "      <td>0.0</td>\n",
              "      <td>0.0</td>\n",
              "      <td>0.0</td>\n",
              "      <td>0.0</td>\n",
              "      <td>0.0</td>\n",
              "    </tr>\n",
              "    <tr>\n",
              "      <th>1</th>\n",
              "      <td>MUTTqe8uqyMdBl186RmNeA</td>\n",
              "      <td>39.953949</td>\n",
              "      <td>-75.143226</td>\n",
              "      <td>4.0</td>\n",
              "      <td>Sushi Bars, Restaurants, Japanese</td>\n",
              "      <td>{'Tuesday': '13:30-22:0', 'Wednesday': '13:30-...</td>\n",
              "      <td>-1.0</td>\n",
              "      <td>-1.0</td>\n",
              "      <td>0.0</td>\n",
              "      <td>0.0</td>\n",
              "      <td>...</td>\n",
              "      <td>0.0</td>\n",
              "      <td>0.0</td>\n",
              "      <td>0.0</td>\n",
              "      <td>0.0</td>\n",
              "      <td>-1.0</td>\n",
              "      <td>0.0</td>\n",
              "      <td>0.0</td>\n",
              "      <td>0.0</td>\n",
              "      <td>0.0</td>\n",
              "      <td>-1.0</td>\n",
              "    </tr>\n",
              "    <tr>\n",
              "      <th>2</th>\n",
              "      <td>ROeacJQwBeh05Rqg7F6TCg</td>\n",
              "      <td>39.943223</td>\n",
              "      <td>-75.162568</td>\n",
              "      <td>4.5</td>\n",
              "      <td>Korean, Restaurants</td>\n",
              "      <td>{'Monday': '11:30-20:30', 'Tuesday': '11:30-20...</td>\n",
              "      <td>-1.0</td>\n",
              "      <td>-1.0</td>\n",
              "      <td>-1.0</td>\n",
              "      <td>0.0</td>\n",
              "      <td>...</td>\n",
              "      <td>-1.0</td>\n",
              "      <td>0.0</td>\n",
              "      <td>0.0</td>\n",
              "      <td>0.0</td>\n",
              "      <td>-1.0</td>\n",
              "      <td>0.0</td>\n",
              "      <td>0.0</td>\n",
              "      <td>0.0</td>\n",
              "      <td>0.0</td>\n",
              "      <td>1.0</td>\n",
              "    </tr>\n",
              "    <tr>\n",
              "      <th>3</th>\n",
              "      <td>qhDdDeI3K4jy2KyzwFN53w</td>\n",
              "      <td>39.913820</td>\n",
              "      <td>-86.105739</td>\n",
              "      <td>4.0</td>\n",
              "      <td>Shopping, Books, Mags, Music &amp; Video, Bookstores</td>\n",
              "      <td>{'Monday': '10:0-21:0', 'Tuesday': '10:0-21:0'...</td>\n",
              "      <td>1.0</td>\n",
              "      <td>0.0</td>\n",
              "      <td>0.0</td>\n",
              "      <td>0.0</td>\n",
              "      <td>...</td>\n",
              "      <td>0.0</td>\n",
              "      <td>0.0</td>\n",
              "      <td>0.0</td>\n",
              "      <td>0.0</td>\n",
              "      <td>0.0</td>\n",
              "      <td>0.0</td>\n",
              "      <td>0.0</td>\n",
              "      <td>0.0</td>\n",
              "      <td>0.0</td>\n",
              "      <td>0.0</td>\n",
              "    </tr>\n",
              "    <tr>\n",
              "      <th>4</th>\n",
              "      <td>9OG5YkX1g2GReZM0AskizA</td>\n",
              "      <td>39.476117</td>\n",
              "      <td>-119.789339</td>\n",
              "      <td>2.5</td>\n",
              "      <td>Restaurants, Italian</td>\n",
              "      <td>{'Monday': '11:0-22:0', 'Tuesday': '11:0-22:0'...</td>\n",
              "      <td>1.0</td>\n",
              "      <td>-1.0</td>\n",
              "      <td>-1.0</td>\n",
              "      <td>0.0</td>\n",
              "      <td>...</td>\n",
              "      <td>-1.0</td>\n",
              "      <td>0.0</td>\n",
              "      <td>0.0</td>\n",
              "      <td>0.0</td>\n",
              "      <td>-1.0</td>\n",
              "      <td>0.0</td>\n",
              "      <td>0.0</td>\n",
              "      <td>0.0</td>\n",
              "      <td>0.0</td>\n",
              "      <td>1.0</td>\n",
              "    </tr>\n",
              "    <tr>\n",
              "      <th>...</th>\n",
              "      <td>...</td>\n",
              "      <td>...</td>\n",
              "      <td>...</td>\n",
              "      <td>...</td>\n",
              "      <td>...</td>\n",
              "      <td>...</td>\n",
              "      <td>...</td>\n",
              "      <td>...</td>\n",
              "      <td>...</td>\n",
              "      <td>...</td>\n",
              "      <td>...</td>\n",
              "      <td>...</td>\n",
              "      <td>...</td>\n",
              "      <td>...</td>\n",
              "      <td>...</td>\n",
              "      <td>...</td>\n",
              "      <td>...</td>\n",
              "      <td>...</td>\n",
              "      <td>...</td>\n",
              "      <td>...</td>\n",
              "      <td>...</td>\n",
              "    </tr>\n",
              "    <tr>\n",
              "      <th>16297</th>\n",
              "      <td>lCo7sEuxlfFeT-nAOR-sbA</td>\n",
              "      <td>30.005648</td>\n",
              "      <td>-90.157396</td>\n",
              "      <td>3.0</td>\n",
              "      <td>IT Services &amp; Computer Repair, Mobile Phones, ...</td>\n",
              "      <td>{'Monday': '10:0-21:0', 'Tuesday': '10:0-21:0'...</td>\n",
              "      <td>0.0</td>\n",
              "      <td>0.0</td>\n",
              "      <td>0.0</td>\n",
              "      <td>0.0</td>\n",
              "      <td>...</td>\n",
              "      <td>0.0</td>\n",
              "      <td>0.0</td>\n",
              "      <td>0.0</td>\n",
              "      <td>0.0</td>\n",
              "      <td>0.0</td>\n",
              "      <td>0.0</td>\n",
              "      <td>0.0</td>\n",
              "      <td>0.0</td>\n",
              "      <td>0.0</td>\n",
              "      <td>0.0</td>\n",
              "    </tr>\n",
              "    <tr>\n",
              "      <th>16298</th>\n",
              "      <td>wVxXRFf10zTTAs11nr4xeA</td>\n",
              "      <td>40.032483</td>\n",
              "      <td>-75.214430</td>\n",
              "      <td>3.0</td>\n",
              "      <td>Restaurants, Specialty Food, Food, Sandwiches,...</td>\n",
              "      <td>{'Monday': '10:0-21:0', 'Tuesday': '10:0-21:0'...</td>\n",
              "      <td>1.0</td>\n",
              "      <td>-1.0</td>\n",
              "      <td>-1.0</td>\n",
              "      <td>0.0</td>\n",
              "      <td>...</td>\n",
              "      <td>-1.0</td>\n",
              "      <td>0.0</td>\n",
              "      <td>0.0</td>\n",
              "      <td>0.0</td>\n",
              "      <td>-1.0</td>\n",
              "      <td>0.0</td>\n",
              "      <td>0.0</td>\n",
              "      <td>0.0</td>\n",
              "      <td>0.0</td>\n",
              "      <td>1.0</td>\n",
              "    </tr>\n",
              "    <tr>\n",
              "      <th>16299</th>\n",
              "      <td>WXNag-tmudrFHFlfNLogWg</td>\n",
              "      <td>38.641988</td>\n",
              "      <td>-90.261655</td>\n",
              "      <td>4.0</td>\n",
              "      <td>Health Markets, Specialty Food, Food, Grocery</td>\n",
              "      <td>{'Monday': '0:0-0:0', 'Tuesday': '7:0-22:0', '...</td>\n",
              "      <td>-1.0</td>\n",
              "      <td>0.0</td>\n",
              "      <td>0.0</td>\n",
              "      <td>0.0</td>\n",
              "      <td>...</td>\n",
              "      <td>0.0</td>\n",
              "      <td>0.0</td>\n",
              "      <td>0.0</td>\n",
              "      <td>0.0</td>\n",
              "      <td>0.0</td>\n",
              "      <td>0.0</td>\n",
              "      <td>0.0</td>\n",
              "      <td>0.0</td>\n",
              "      <td>0.0</td>\n",
              "      <td>0.0</td>\n",
              "    </tr>\n",
              "    <tr>\n",
              "      <th>16300</th>\n",
              "      <td>w_4xUt-1AyY2ZwKtnjW0Xg</td>\n",
              "      <td>43.616590</td>\n",
              "      <td>-116.202383</td>\n",
              "      <td>4.5</td>\n",
              "      <td>Bars, Gastropubs, Sandwiches, Nightlife, Resta...</td>\n",
              "      <td>{'Monday': '0:0-0:0', 'Tuesday': '11:0-22:0', ...</td>\n",
              "      <td>-1.0</td>\n",
              "      <td>-1.0</td>\n",
              "      <td>-1.0</td>\n",
              "      <td>0.0</td>\n",
              "      <td>...</td>\n",
              "      <td>1.0</td>\n",
              "      <td>-1.0</td>\n",
              "      <td>0.0</td>\n",
              "      <td>1.0</td>\n",
              "      <td>-1.0</td>\n",
              "      <td>0.0</td>\n",
              "      <td>0.0</td>\n",
              "      <td>-1.0</td>\n",
              "      <td>0.0</td>\n",
              "      <td>1.0</td>\n",
              "    </tr>\n",
              "    <tr>\n",
              "      <th>16301</th>\n",
              "      <td>1jx1sfgjgVg0nM6n3p0xWA</td>\n",
              "      <td>32.409552</td>\n",
              "      <td>-110.943073</td>\n",
              "      <td>4.5</td>\n",
              "      <td>Specialty Food, Food, Coffee &amp; Tea, Coffee Roa...</td>\n",
              "      <td>{'Monday': '0:0-0:0', 'Tuesday': '6:0-14:0', '...</td>\n",
              "      <td>1.0</td>\n",
              "      <td>0.0</td>\n",
              "      <td>0.0</td>\n",
              "      <td>0.0</td>\n",
              "      <td>...</td>\n",
              "      <td>0.0</td>\n",
              "      <td>0.0</td>\n",
              "      <td>0.0</td>\n",
              "      <td>0.0</td>\n",
              "      <td>0.0</td>\n",
              "      <td>0.0</td>\n",
              "      <td>0.0</td>\n",
              "      <td>0.0</td>\n",
              "      <td>0.0</td>\n",
              "      <td>0.0</td>\n",
              "    </tr>\n",
              "  </tbody>\n",
              "</table>\n",
              "<p>16302 rows × 91 columns</p>\n",
              "</div>\n",
              "      <button class=\"colab-df-convert\" onclick=\"convertToInteractive('df-c2dd603a-7275-4ca3-9138-2e5379390646')\"\n",
              "              title=\"Convert this dataframe to an interactive table.\"\n",
              "              style=\"display:none;\">\n",
              "        \n",
              "  <svg xmlns=\"http://www.w3.org/2000/svg\" height=\"24px\"viewBox=\"0 0 24 24\"\n",
              "       width=\"24px\">\n",
              "    <path d=\"M0 0h24v24H0V0z\" fill=\"none\"/>\n",
              "    <path d=\"M18.56 5.44l.94 2.06.94-2.06 2.06-.94-2.06-.94-.94-2.06-.94 2.06-2.06.94zm-11 1L8.5 8.5l.94-2.06 2.06-.94-2.06-.94L8.5 2.5l-.94 2.06-2.06.94zm10 10l.94 2.06.94-2.06 2.06-.94-2.06-.94-.94-2.06-.94 2.06-2.06.94z\"/><path d=\"M17.41 7.96l-1.37-1.37c-.4-.4-.92-.59-1.43-.59-.52 0-1.04.2-1.43.59L10.3 9.45l-7.72 7.72c-.78.78-.78 2.05 0 2.83L4 21.41c.39.39.9.59 1.41.59.51 0 1.02-.2 1.41-.59l7.78-7.78 2.81-2.81c.8-.78.8-2.07 0-2.86zM5.41 20L4 18.59l7.72-7.72 1.47 1.35L5.41 20z\"/>\n",
              "  </svg>\n",
              "      </button>\n",
              "      \n",
              "  <style>\n",
              "    .colab-df-container {\n",
              "      display:flex;\n",
              "      flex-wrap:wrap;\n",
              "      gap: 12px;\n",
              "    }\n",
              "\n",
              "    .colab-df-convert {\n",
              "      background-color: #E8F0FE;\n",
              "      border: none;\n",
              "      border-radius: 50%;\n",
              "      cursor: pointer;\n",
              "      display: none;\n",
              "      fill: #1967D2;\n",
              "      height: 32px;\n",
              "      padding: 0 0 0 0;\n",
              "      width: 32px;\n",
              "    }\n",
              "\n",
              "    .colab-df-convert:hover {\n",
              "      background-color: #E2EBFA;\n",
              "      box-shadow: 0px 1px 2px rgba(60, 64, 67, 0.3), 0px 1px 3px 1px rgba(60, 64, 67, 0.15);\n",
              "      fill: #174EA6;\n",
              "    }\n",
              "\n",
              "    [theme=dark] .colab-df-convert {\n",
              "      background-color: #3B4455;\n",
              "      fill: #D2E3FC;\n",
              "    }\n",
              "\n",
              "    [theme=dark] .colab-df-convert:hover {\n",
              "      background-color: #434B5C;\n",
              "      box-shadow: 0px 1px 3px 1px rgba(0, 0, 0, 0.15);\n",
              "      filter: drop-shadow(0px 1px 2px rgba(0, 0, 0, 0.3));\n",
              "      fill: #FFFFFF;\n",
              "    }\n",
              "  </style>\n",
              "\n",
              "      <script>\n",
              "        const buttonEl =\n",
              "          document.querySelector('#df-c2dd603a-7275-4ca3-9138-2e5379390646 button.colab-df-convert');\n",
              "        buttonEl.style.display =\n",
              "          google.colab.kernel.accessAllowed ? 'block' : 'none';\n",
              "\n",
              "        async function convertToInteractive(key) {\n",
              "          const element = document.querySelector('#df-c2dd603a-7275-4ca3-9138-2e5379390646');\n",
              "          const dataTable =\n",
              "            await google.colab.kernel.invokeFunction('convertToInteractive',\n",
              "                                                     [key], {});\n",
              "          if (!dataTable) return;\n",
              "\n",
              "          const docLinkHtml = 'Like what you see? Visit the ' +\n",
              "            '<a target=\"_blank\" href=https://colab.research.google.com/notebooks/data_table.ipynb>data table notebook</a>'\n",
              "            + ' to learn more about interactive tables.';\n",
              "          element.innerHTML = '';\n",
              "          dataTable['output_type'] = 'display_data';\n",
              "          await google.colab.output.renderOutput(dataTable, element);\n",
              "          const docLink = document.createElement('div');\n",
              "          docLink.innerHTML = docLinkHtml;\n",
              "          element.appendChild(docLink);\n",
              "        }\n",
              "      </script>\n",
              "    </div>\n",
              "  </div>\n",
              "  "
            ],
            "text/plain": [
              "                  business_id   latitude   longitude  stars  \\\n",
              "0      MTSW4McQd7CbVtyjqoe9mw  39.955505  -75.155564    4.0   \n",
              "1      MUTTqe8uqyMdBl186RmNeA  39.953949  -75.143226    4.0   \n",
              "2      ROeacJQwBeh05Rqg7F6TCg  39.943223  -75.162568    4.5   \n",
              "3      qhDdDeI3K4jy2KyzwFN53w  39.913820  -86.105739    4.0   \n",
              "4      9OG5YkX1g2GReZM0AskizA  39.476117 -119.789339    2.5   \n",
              "...                       ...        ...         ...    ...   \n",
              "16297  lCo7sEuxlfFeT-nAOR-sbA  30.005648  -90.157396    3.0   \n",
              "16298  wVxXRFf10zTTAs11nr4xeA  40.032483  -75.214430    3.0   \n",
              "16299  WXNag-tmudrFHFlfNLogWg  38.641988  -90.261655    4.0   \n",
              "16300  w_4xUt-1AyY2ZwKtnjW0Xg  43.616590 -116.202383    4.5   \n",
              "16301  1jx1sfgjgVg0nM6n3p0xWA  32.409552 -110.943073    4.5   \n",
              "\n",
              "                                              categories  \\\n",
              "0      Restaurants, Food, Bubble Tea, Coffee & Tea, B...   \n",
              "1                      Sushi Bars, Restaurants, Japanese   \n",
              "2                                    Korean, Restaurants   \n",
              "3       Shopping, Books, Mags, Music & Video, Bookstores   \n",
              "4                                   Restaurants, Italian   \n",
              "...                                                  ...   \n",
              "16297  IT Services & Computer Repair, Mobile Phones, ...   \n",
              "16298  Restaurants, Specialty Food, Food, Sandwiches,...   \n",
              "16299      Health Markets, Specialty Food, Food, Grocery   \n",
              "16300  Bars, Gastropubs, Sandwiches, Nightlife, Resta...   \n",
              "16301  Specialty Food, Food, Coffee & Tea, Coffee Roa...   \n",
              "\n",
              "                                                   hours  lot  pscale  \\\n",
              "0      {'Monday': '7:0-20:0', 'Tuesday': '7:0-20:0', ... -1.0     0.0   \n",
              "1      {'Tuesday': '13:30-22:0', 'Wednesday': '13:30-... -1.0    -1.0   \n",
              "2      {'Monday': '11:30-20:30', 'Tuesday': '11:30-20... -1.0    -1.0   \n",
              "3      {'Monday': '10:0-21:0', 'Tuesday': '10:0-21:0'...  1.0     0.0   \n",
              "4      {'Monday': '11:0-22:0', 'Tuesday': '11:0-22:0'...  1.0    -1.0   \n",
              "...                                                  ...  ...     ...   \n",
              "16297  {'Monday': '10:0-21:0', 'Tuesday': '10:0-21:0'...  0.0     0.0   \n",
              "16298  {'Monday': '10:0-21:0', 'Tuesday': '10:0-21:0'...  1.0    -1.0   \n",
              "16299  {'Monday': '0:0-0:0', 'Tuesday': '7:0-22:0', '... -1.0     0.0   \n",
              "16300  {'Monday': '0:0-0:0', 'Tuesday': '11:0-22:0', ... -1.0    -1.0   \n",
              "16301  {'Monday': '0:0-0:0', 'Tuesday': '6:0-14:0', '...  1.0     0.0   \n",
              "\n",
              "       breakfast  asian  ...  latenight   dj  vegan  satrday  divey  WiFi  \\\n",
              "0            0.0    0.0  ...        0.0  0.0    0.0      0.0    0.0   0.0   \n",
              "1            0.0    0.0  ...        0.0  0.0    0.0      0.0   -1.0   0.0   \n",
              "2           -1.0    0.0  ...       -1.0  0.0    0.0      0.0   -1.0   0.0   \n",
              "3            0.0    0.0  ...        0.0  0.0    0.0      0.0    0.0   0.0   \n",
              "4           -1.0    0.0  ...       -1.0  0.0    0.0      0.0   -1.0   0.0   \n",
              "...          ...    ...  ...        ...  ...    ...      ...    ...   ...   \n",
              "16297        0.0    0.0  ...        0.0  0.0    0.0      0.0    0.0   0.0   \n",
              "16298       -1.0    0.0  ...       -1.0  0.0    0.0      0.0   -1.0   0.0   \n",
              "16299        0.0    0.0  ...        0.0  0.0    0.0      0.0    0.0   0.0   \n",
              "16300       -1.0    0.0  ...        1.0 -1.0    0.0      1.0   -1.0   0.0   \n",
              "16301        0.0    0.0  ...        0.0  0.0    0.0      0.0    0.0   0.0   \n",
              "\n",
              "       glten-free  jkebox  Ambience  HasTV  \n",
              "0             0.0     0.0       0.0    0.0  \n",
              "1             0.0     0.0       0.0   -1.0  \n",
              "2             0.0     0.0       0.0    1.0  \n",
              "3             0.0     0.0       0.0    0.0  \n",
              "4             0.0     0.0       0.0    1.0  \n",
              "...           ...     ...       ...    ...  \n",
              "16297         0.0     0.0       0.0    0.0  \n",
              "16298         0.0     0.0       0.0    1.0  \n",
              "16299         0.0     0.0       0.0    0.0  \n",
              "16300         0.0    -1.0       0.0    1.0  \n",
              "16301         0.0     0.0       0.0    0.0  \n",
              "\n",
              "[16302 rows x 91 columns]"
            ]
          },
          "execution_count": 99,
          "metadata": {},
          "output_type": "execute_result"
        }
      ],
      "source": [
        "business_df"
      ]
    },
    {
      "cell_type": "code",
      "execution_count": null,
      "metadata": {
        "id": "uxQqhK43_Udo"
      },
      "outputs": [],
      "source": [
        "# all_categories=[]\n",
        "# for cats in business_df['categories'].values:\n",
        "#   all_cats=cats.split(',')\n",
        "#   for cat in all_cats:\n",
        "#     all_categories.append(cat.strip())\n",
        "# all_categories=list(set(all_categories))"
      ]
    },
    {
      "cell_type": "code",
      "execution_count": null,
      "metadata": {
        "colab": {
          "base_uri": "https://localhost:8080/"
        },
        "id": "5pktRXcNAwgg",
        "outputId": "2bcf7ddb-7995-413f-b635-94043871c26f"
      },
      "outputs": [
        {
          "data": {
            "text/plain": [
              "1193"
            ]
          },
          "execution_count": 31,
          "metadata": {},
          "output_type": "execute_result"
        }
      ],
      "source": [
        "# len(all_categories)"
      ]
    },
    {
      "cell_type": "code",
      "execution_count": null,
      "metadata": {
        "id": "YLT_SnK08ycy"
      },
      "outputs": [],
      "source": [
        "# categories=[]\n",
        "# for cats in business_df['categories'].values:\n",
        "#   cats_a=np.zeros(len(all_categories))\n",
        "#   cats=cats.split(',')\n",
        "#   for cat in cats:\n",
        "#     ind=all_categories.index(cat.strip())\n",
        "#     cats_a[ind]=1.0\n",
        "#   categories.append(cats_a)"
      ]
    },
    {
      "cell_type": "code",
      "execution_count": null,
      "metadata": {
        "id": "QYBFM1c69Yty"
      },
      "outputs": [],
      "source": [
        "# categories_array=np.array(categories)"
      ]
    },
    {
      "cell_type": "code",
      "execution_count": null,
      "metadata": {
        "id": "NAfE2vazII88"
      },
      "outputs": [],
      "source": [
        "# business_df=pd.concat([business_df, pd.DataFrame(categories_array,columns=all_categories)], axis=1)"
      ]
    },
    {
      "cell_type": "code",
      "execution_count": null,
      "metadata": {
        "id": "8OtKUyUTMQ6O"
      },
      "outputs": [],
      "source": [
        "business_df.drop(['categories'],axis=1,inplace=True)"
      ]
    },
    {
      "cell_type": "code",
      "execution_count": null,
      "metadata": {
        "colab": {
          "base_uri": "https://localhost:8080/",
          "height": 1000
        },
        "id": "9OmWxMniIOHI",
        "outputId": "ff5cb39f-d3fa-4175-ada0-32834c8c5cca"
      },
      "outputs": [
        {
          "data": {
            "text/html": [
              "\n",
              "  <div id=\"df-27ec6fbf-378b-4cae-903b-56542f9f56da\">\n",
              "    <div class=\"colab-df-container\">\n",
              "      <div>\n",
              "<style scoped>\n",
              "    .dataframe tbody tr th:only-of-type {\n",
              "        vertical-align: middle;\n",
              "    }\n",
              "\n",
              "    .dataframe tbody tr th {\n",
              "        vertical-align: top;\n",
              "    }\n",
              "\n",
              "    .dataframe thead th {\n",
              "        text-align: right;\n",
              "    }\n",
              "</style>\n",
              "<table border=\"1\" class=\"dataframe\">\n",
              "  <thead>\n",
              "    <tr style=\"text-align: right;\">\n",
              "      <th></th>\n",
              "      <th>business_id</th>\n",
              "      <th>latitude</th>\n",
              "      <th>longitude</th>\n",
              "      <th>stars</th>\n",
              "      <th>hours</th>\n",
              "      <th>lot</th>\n",
              "      <th>pscale</th>\n",
              "      <th>breakfast</th>\n",
              "      <th>asian</th>\n",
              "      <th>CoatCheck</th>\n",
              "      <th>...</th>\n",
              "      <th>latenight</th>\n",
              "      <th>dj</th>\n",
              "      <th>vegan</th>\n",
              "      <th>satrday</th>\n",
              "      <th>divey</th>\n",
              "      <th>WiFi</th>\n",
              "      <th>glten-free</th>\n",
              "      <th>jkebox</th>\n",
              "      <th>Ambience</th>\n",
              "      <th>HasTV</th>\n",
              "    </tr>\n",
              "  </thead>\n",
              "  <tbody>\n",
              "    <tr>\n",
              "      <th>0</th>\n",
              "      <td>MTSW4McQd7CbVtyjqoe9mw</td>\n",
              "      <td>39.955505</td>\n",
              "      <td>-75.155564</td>\n",
              "      <td>4.0</td>\n",
              "      <td>{'Monday': '7:0-20:0', 'Tuesday': '7:0-20:0', ...</td>\n",
              "      <td>-1.0</td>\n",
              "      <td>0.0</td>\n",
              "      <td>0.0</td>\n",
              "      <td>0.0</td>\n",
              "      <td>0.0</td>\n",
              "      <td>...</td>\n",
              "      <td>0.0</td>\n",
              "      <td>0.0</td>\n",
              "      <td>0.0</td>\n",
              "      <td>0.0</td>\n",
              "      <td>0.0</td>\n",
              "      <td>0.0</td>\n",
              "      <td>0.0</td>\n",
              "      <td>0.0</td>\n",
              "      <td>0.0</td>\n",
              "      <td>0.0</td>\n",
              "    </tr>\n",
              "    <tr>\n",
              "      <th>1</th>\n",
              "      <td>MUTTqe8uqyMdBl186RmNeA</td>\n",
              "      <td>39.953949</td>\n",
              "      <td>-75.143226</td>\n",
              "      <td>4.0</td>\n",
              "      <td>{'Tuesday': '13:30-22:0', 'Wednesday': '13:30-...</td>\n",
              "      <td>-1.0</td>\n",
              "      <td>-1.0</td>\n",
              "      <td>0.0</td>\n",
              "      <td>0.0</td>\n",
              "      <td>0.0</td>\n",
              "      <td>...</td>\n",
              "      <td>0.0</td>\n",
              "      <td>0.0</td>\n",
              "      <td>0.0</td>\n",
              "      <td>0.0</td>\n",
              "      <td>-1.0</td>\n",
              "      <td>0.0</td>\n",
              "      <td>0.0</td>\n",
              "      <td>0.0</td>\n",
              "      <td>0.0</td>\n",
              "      <td>-1.0</td>\n",
              "    </tr>\n",
              "    <tr>\n",
              "      <th>2</th>\n",
              "      <td>ROeacJQwBeh05Rqg7F6TCg</td>\n",
              "      <td>39.943223</td>\n",
              "      <td>-75.162568</td>\n",
              "      <td>4.5</td>\n",
              "      <td>{'Monday': '11:30-20:30', 'Tuesday': '11:30-20...</td>\n",
              "      <td>-1.0</td>\n",
              "      <td>-1.0</td>\n",
              "      <td>-1.0</td>\n",
              "      <td>0.0</td>\n",
              "      <td>0.0</td>\n",
              "      <td>...</td>\n",
              "      <td>-1.0</td>\n",
              "      <td>0.0</td>\n",
              "      <td>0.0</td>\n",
              "      <td>0.0</td>\n",
              "      <td>-1.0</td>\n",
              "      <td>0.0</td>\n",
              "      <td>0.0</td>\n",
              "      <td>0.0</td>\n",
              "      <td>0.0</td>\n",
              "      <td>1.0</td>\n",
              "    </tr>\n",
              "    <tr>\n",
              "      <th>3</th>\n",
              "      <td>qhDdDeI3K4jy2KyzwFN53w</td>\n",
              "      <td>39.913820</td>\n",
              "      <td>-86.105739</td>\n",
              "      <td>4.0</td>\n",
              "      <td>{'Monday': '10:0-21:0', 'Tuesday': '10:0-21:0'...</td>\n",
              "      <td>1.0</td>\n",
              "      <td>0.0</td>\n",
              "      <td>0.0</td>\n",
              "      <td>0.0</td>\n",
              "      <td>0.0</td>\n",
              "      <td>...</td>\n",
              "      <td>0.0</td>\n",
              "      <td>0.0</td>\n",
              "      <td>0.0</td>\n",
              "      <td>0.0</td>\n",
              "      <td>0.0</td>\n",
              "      <td>0.0</td>\n",
              "      <td>0.0</td>\n",
              "      <td>0.0</td>\n",
              "      <td>0.0</td>\n",
              "      <td>0.0</td>\n",
              "    </tr>\n",
              "    <tr>\n",
              "      <th>4</th>\n",
              "      <td>9OG5YkX1g2GReZM0AskizA</td>\n",
              "      <td>39.476117</td>\n",
              "      <td>-119.789339</td>\n",
              "      <td>2.5</td>\n",
              "      <td>{'Monday': '11:0-22:0', 'Tuesday': '11:0-22:0'...</td>\n",
              "      <td>1.0</td>\n",
              "      <td>-1.0</td>\n",
              "      <td>-1.0</td>\n",
              "      <td>0.0</td>\n",
              "      <td>0.0</td>\n",
              "      <td>...</td>\n",
              "      <td>-1.0</td>\n",
              "      <td>0.0</td>\n",
              "      <td>0.0</td>\n",
              "      <td>0.0</td>\n",
              "      <td>-1.0</td>\n",
              "      <td>0.0</td>\n",
              "      <td>0.0</td>\n",
              "      <td>0.0</td>\n",
              "      <td>0.0</td>\n",
              "      <td>1.0</td>\n",
              "    </tr>\n",
              "    <tr>\n",
              "      <th>...</th>\n",
              "      <td>...</td>\n",
              "      <td>...</td>\n",
              "      <td>...</td>\n",
              "      <td>...</td>\n",
              "      <td>...</td>\n",
              "      <td>...</td>\n",
              "      <td>...</td>\n",
              "      <td>...</td>\n",
              "      <td>...</td>\n",
              "      <td>...</td>\n",
              "      <td>...</td>\n",
              "      <td>...</td>\n",
              "      <td>...</td>\n",
              "      <td>...</td>\n",
              "      <td>...</td>\n",
              "      <td>...</td>\n",
              "      <td>...</td>\n",
              "      <td>...</td>\n",
              "      <td>...</td>\n",
              "      <td>...</td>\n",
              "      <td>...</td>\n",
              "    </tr>\n",
              "    <tr>\n",
              "      <th>16297</th>\n",
              "      <td>lCo7sEuxlfFeT-nAOR-sbA</td>\n",
              "      <td>30.005648</td>\n",
              "      <td>-90.157396</td>\n",
              "      <td>3.0</td>\n",
              "      <td>{'Monday': '10:0-21:0', 'Tuesday': '10:0-21:0'...</td>\n",
              "      <td>0.0</td>\n",
              "      <td>0.0</td>\n",
              "      <td>0.0</td>\n",
              "      <td>0.0</td>\n",
              "      <td>0.0</td>\n",
              "      <td>...</td>\n",
              "      <td>0.0</td>\n",
              "      <td>0.0</td>\n",
              "      <td>0.0</td>\n",
              "      <td>0.0</td>\n",
              "      <td>0.0</td>\n",
              "      <td>0.0</td>\n",
              "      <td>0.0</td>\n",
              "      <td>0.0</td>\n",
              "      <td>0.0</td>\n",
              "      <td>0.0</td>\n",
              "    </tr>\n",
              "    <tr>\n",
              "      <th>16298</th>\n",
              "      <td>wVxXRFf10zTTAs11nr4xeA</td>\n",
              "      <td>40.032483</td>\n",
              "      <td>-75.214430</td>\n",
              "      <td>3.0</td>\n",
              "      <td>{'Monday': '10:0-21:0', 'Tuesday': '10:0-21:0'...</td>\n",
              "      <td>1.0</td>\n",
              "      <td>-1.0</td>\n",
              "      <td>-1.0</td>\n",
              "      <td>0.0</td>\n",
              "      <td>0.0</td>\n",
              "      <td>...</td>\n",
              "      <td>-1.0</td>\n",
              "      <td>0.0</td>\n",
              "      <td>0.0</td>\n",
              "      <td>0.0</td>\n",
              "      <td>-1.0</td>\n",
              "      <td>0.0</td>\n",
              "      <td>0.0</td>\n",
              "      <td>0.0</td>\n",
              "      <td>0.0</td>\n",
              "      <td>1.0</td>\n",
              "    </tr>\n",
              "    <tr>\n",
              "      <th>16299</th>\n",
              "      <td>WXNag-tmudrFHFlfNLogWg</td>\n",
              "      <td>38.641988</td>\n",
              "      <td>-90.261655</td>\n",
              "      <td>4.0</td>\n",
              "      <td>{'Monday': '0:0-0:0', 'Tuesday': '7:0-22:0', '...</td>\n",
              "      <td>-1.0</td>\n",
              "      <td>0.0</td>\n",
              "      <td>0.0</td>\n",
              "      <td>0.0</td>\n",
              "      <td>0.0</td>\n",
              "      <td>...</td>\n",
              "      <td>0.0</td>\n",
              "      <td>0.0</td>\n",
              "      <td>0.0</td>\n",
              "      <td>0.0</td>\n",
              "      <td>0.0</td>\n",
              "      <td>0.0</td>\n",
              "      <td>0.0</td>\n",
              "      <td>0.0</td>\n",
              "      <td>0.0</td>\n",
              "      <td>0.0</td>\n",
              "    </tr>\n",
              "    <tr>\n",
              "      <th>16300</th>\n",
              "      <td>w_4xUt-1AyY2ZwKtnjW0Xg</td>\n",
              "      <td>43.616590</td>\n",
              "      <td>-116.202383</td>\n",
              "      <td>4.5</td>\n",
              "      <td>{'Monday': '0:0-0:0', 'Tuesday': '11:0-22:0', ...</td>\n",
              "      <td>-1.0</td>\n",
              "      <td>-1.0</td>\n",
              "      <td>-1.0</td>\n",
              "      <td>0.0</td>\n",
              "      <td>0.0</td>\n",
              "      <td>...</td>\n",
              "      <td>1.0</td>\n",
              "      <td>-1.0</td>\n",
              "      <td>0.0</td>\n",
              "      <td>1.0</td>\n",
              "      <td>-1.0</td>\n",
              "      <td>0.0</td>\n",
              "      <td>0.0</td>\n",
              "      <td>-1.0</td>\n",
              "      <td>0.0</td>\n",
              "      <td>1.0</td>\n",
              "    </tr>\n",
              "    <tr>\n",
              "      <th>16301</th>\n",
              "      <td>1jx1sfgjgVg0nM6n3p0xWA</td>\n",
              "      <td>32.409552</td>\n",
              "      <td>-110.943073</td>\n",
              "      <td>4.5</td>\n",
              "      <td>{'Monday': '0:0-0:0', 'Tuesday': '6:0-14:0', '...</td>\n",
              "      <td>1.0</td>\n",
              "      <td>0.0</td>\n",
              "      <td>0.0</td>\n",
              "      <td>0.0</td>\n",
              "      <td>0.0</td>\n",
              "      <td>...</td>\n",
              "      <td>0.0</td>\n",
              "      <td>0.0</td>\n",
              "      <td>0.0</td>\n",
              "      <td>0.0</td>\n",
              "      <td>0.0</td>\n",
              "      <td>0.0</td>\n",
              "      <td>0.0</td>\n",
              "      <td>0.0</td>\n",
              "      <td>0.0</td>\n",
              "      <td>0.0</td>\n",
              "    </tr>\n",
              "  </tbody>\n",
              "</table>\n",
              "<p>16302 rows × 90 columns</p>\n",
              "</div>\n",
              "      <button class=\"colab-df-convert\" onclick=\"convertToInteractive('df-27ec6fbf-378b-4cae-903b-56542f9f56da')\"\n",
              "              title=\"Convert this dataframe to an interactive table.\"\n",
              "              style=\"display:none;\">\n",
              "        \n",
              "  <svg xmlns=\"http://www.w3.org/2000/svg\" height=\"24px\"viewBox=\"0 0 24 24\"\n",
              "       width=\"24px\">\n",
              "    <path d=\"M0 0h24v24H0V0z\" fill=\"none\"/>\n",
              "    <path d=\"M18.56 5.44l.94 2.06.94-2.06 2.06-.94-2.06-.94-.94-2.06-.94 2.06-2.06.94zm-11 1L8.5 8.5l.94-2.06 2.06-.94-2.06-.94L8.5 2.5l-.94 2.06-2.06.94zm10 10l.94 2.06.94-2.06 2.06-.94-2.06-.94-.94-2.06-.94 2.06-2.06.94z\"/><path d=\"M17.41 7.96l-1.37-1.37c-.4-.4-.92-.59-1.43-.59-.52 0-1.04.2-1.43.59L10.3 9.45l-7.72 7.72c-.78.78-.78 2.05 0 2.83L4 21.41c.39.39.9.59 1.41.59.51 0 1.02-.2 1.41-.59l7.78-7.78 2.81-2.81c.8-.78.8-2.07 0-2.86zM5.41 20L4 18.59l7.72-7.72 1.47 1.35L5.41 20z\"/>\n",
              "  </svg>\n",
              "      </button>\n",
              "      \n",
              "  <style>\n",
              "    .colab-df-container {\n",
              "      display:flex;\n",
              "      flex-wrap:wrap;\n",
              "      gap: 12px;\n",
              "    }\n",
              "\n",
              "    .colab-df-convert {\n",
              "      background-color: #E8F0FE;\n",
              "      border: none;\n",
              "      border-radius: 50%;\n",
              "      cursor: pointer;\n",
              "      display: none;\n",
              "      fill: #1967D2;\n",
              "      height: 32px;\n",
              "      padding: 0 0 0 0;\n",
              "      width: 32px;\n",
              "    }\n",
              "\n",
              "    .colab-df-convert:hover {\n",
              "      background-color: #E2EBFA;\n",
              "      box-shadow: 0px 1px 2px rgba(60, 64, 67, 0.3), 0px 1px 3px 1px rgba(60, 64, 67, 0.15);\n",
              "      fill: #174EA6;\n",
              "    }\n",
              "\n",
              "    [theme=dark] .colab-df-convert {\n",
              "      background-color: #3B4455;\n",
              "      fill: #D2E3FC;\n",
              "    }\n",
              "\n",
              "    [theme=dark] .colab-df-convert:hover {\n",
              "      background-color: #434B5C;\n",
              "      box-shadow: 0px 1px 3px 1px rgba(0, 0, 0, 0.15);\n",
              "      filter: drop-shadow(0px 1px 2px rgba(0, 0, 0, 0.3));\n",
              "      fill: #FFFFFF;\n",
              "    }\n",
              "  </style>\n",
              "\n",
              "      <script>\n",
              "        const buttonEl =\n",
              "          document.querySelector('#df-27ec6fbf-378b-4cae-903b-56542f9f56da button.colab-df-convert');\n",
              "        buttonEl.style.display =\n",
              "          google.colab.kernel.accessAllowed ? 'block' : 'none';\n",
              "\n",
              "        async function convertToInteractive(key) {\n",
              "          const element = document.querySelector('#df-27ec6fbf-378b-4cae-903b-56542f9f56da');\n",
              "          const dataTable =\n",
              "            await google.colab.kernel.invokeFunction('convertToInteractive',\n",
              "                                                     [key], {});\n",
              "          if (!dataTable) return;\n",
              "\n",
              "          const docLinkHtml = 'Like what you see? Visit the ' +\n",
              "            '<a target=\"_blank\" href=https://colab.research.google.com/notebooks/data_table.ipynb>data table notebook</a>'\n",
              "            + ' to learn more about interactive tables.';\n",
              "          element.innerHTML = '';\n",
              "          dataTable['output_type'] = 'display_data';\n",
              "          await google.colab.output.renderOutput(dataTable, element);\n",
              "          const docLink = document.createElement('div');\n",
              "          docLink.innerHTML = docLinkHtml;\n",
              "          element.appendChild(docLink);\n",
              "        }\n",
              "      </script>\n",
              "    </div>\n",
              "  </div>\n",
              "  "
            ],
            "text/plain": [
              "                  business_id   latitude   longitude  stars  \\\n",
              "0      MTSW4McQd7CbVtyjqoe9mw  39.955505  -75.155564    4.0   \n",
              "1      MUTTqe8uqyMdBl186RmNeA  39.953949  -75.143226    4.0   \n",
              "2      ROeacJQwBeh05Rqg7F6TCg  39.943223  -75.162568    4.5   \n",
              "3      qhDdDeI3K4jy2KyzwFN53w  39.913820  -86.105739    4.0   \n",
              "4      9OG5YkX1g2GReZM0AskizA  39.476117 -119.789339    2.5   \n",
              "...                       ...        ...         ...    ...   \n",
              "16297  lCo7sEuxlfFeT-nAOR-sbA  30.005648  -90.157396    3.0   \n",
              "16298  wVxXRFf10zTTAs11nr4xeA  40.032483  -75.214430    3.0   \n",
              "16299  WXNag-tmudrFHFlfNLogWg  38.641988  -90.261655    4.0   \n",
              "16300  w_4xUt-1AyY2ZwKtnjW0Xg  43.616590 -116.202383    4.5   \n",
              "16301  1jx1sfgjgVg0nM6n3p0xWA  32.409552 -110.943073    4.5   \n",
              "\n",
              "                                                   hours  lot  pscale  \\\n",
              "0      {'Monday': '7:0-20:0', 'Tuesday': '7:0-20:0', ... -1.0     0.0   \n",
              "1      {'Tuesday': '13:30-22:0', 'Wednesday': '13:30-... -1.0    -1.0   \n",
              "2      {'Monday': '11:30-20:30', 'Tuesday': '11:30-20... -1.0    -1.0   \n",
              "3      {'Monday': '10:0-21:0', 'Tuesday': '10:0-21:0'...  1.0     0.0   \n",
              "4      {'Monday': '11:0-22:0', 'Tuesday': '11:0-22:0'...  1.0    -1.0   \n",
              "...                                                  ...  ...     ...   \n",
              "16297  {'Monday': '10:0-21:0', 'Tuesday': '10:0-21:0'...  0.0     0.0   \n",
              "16298  {'Monday': '10:0-21:0', 'Tuesday': '10:0-21:0'...  1.0    -1.0   \n",
              "16299  {'Monday': '0:0-0:0', 'Tuesday': '7:0-22:0', '... -1.0     0.0   \n",
              "16300  {'Monday': '0:0-0:0', 'Tuesday': '11:0-22:0', ... -1.0    -1.0   \n",
              "16301  {'Monday': '0:0-0:0', 'Tuesday': '6:0-14:0', '...  1.0     0.0   \n",
              "\n",
              "       breakfast  asian  CoatCheck  ...  latenight   dj  vegan  satrday  \\\n",
              "0            0.0    0.0        0.0  ...        0.0  0.0    0.0      0.0   \n",
              "1            0.0    0.0        0.0  ...        0.0  0.0    0.0      0.0   \n",
              "2           -1.0    0.0        0.0  ...       -1.0  0.0    0.0      0.0   \n",
              "3            0.0    0.0        0.0  ...        0.0  0.0    0.0      0.0   \n",
              "4           -1.0    0.0        0.0  ...       -1.0  0.0    0.0      0.0   \n",
              "...          ...    ...        ...  ...        ...  ...    ...      ...   \n",
              "16297        0.0    0.0        0.0  ...        0.0  0.0    0.0      0.0   \n",
              "16298       -1.0    0.0        0.0  ...       -1.0  0.0    0.0      0.0   \n",
              "16299        0.0    0.0        0.0  ...        0.0  0.0    0.0      0.0   \n",
              "16300       -1.0    0.0        0.0  ...        1.0 -1.0    0.0      1.0   \n",
              "16301        0.0    0.0        0.0  ...        0.0  0.0    0.0      0.0   \n",
              "\n",
              "       divey  WiFi  glten-free  jkebox  Ambience  HasTV  \n",
              "0        0.0   0.0         0.0     0.0       0.0    0.0  \n",
              "1       -1.0   0.0         0.0     0.0       0.0   -1.0  \n",
              "2       -1.0   0.0         0.0     0.0       0.0    1.0  \n",
              "3        0.0   0.0         0.0     0.0       0.0    0.0  \n",
              "4       -1.0   0.0         0.0     0.0       0.0    1.0  \n",
              "...      ...   ...         ...     ...       ...    ...  \n",
              "16297    0.0   0.0         0.0     0.0       0.0    0.0  \n",
              "16298   -1.0   0.0         0.0     0.0       0.0    1.0  \n",
              "16299    0.0   0.0         0.0     0.0       0.0    0.0  \n",
              "16300   -1.0   0.0         0.0    -1.0       0.0    1.0  \n",
              "16301    0.0   0.0         0.0     0.0       0.0    0.0  \n",
              "\n",
              "[16302 rows x 90 columns]"
            ]
          },
          "execution_count": 101,
          "metadata": {},
          "output_type": "execute_result"
        }
      ],
      "source": [
        "business_df"
      ]
    },
    {
      "cell_type": "code",
      "execution_count": null,
      "metadata": {
        "id": "3gA3v-gpCfql"
      },
      "outputs": [],
      "source": [
        "all_hours=[]\n",
        "for days in business_df['hours'].values:\n",
        "  # print(days)\n",
        "  all_hours+=days.values()\n",
        "all_hours=list(set(all_hours))  "
      ]
    },
    {
      "cell_type": "code",
      "execution_count": null,
      "metadata": {
        "id": "UnWe7YvUMshS"
      },
      "outputs": [],
      "source": [
        "days_dict={'Monday':0, 'Tuesday':1, 'Wednesday':2 , 'Thursday': 3 , 'Friday':4 , 'Saturday':5 , 'Sunday':6}"
      ]
    },
    {
      "cell_type": "code",
      "execution_count": null,
      "metadata": {
        "colab": {
          "base_uri": "https://localhost:8080/"
        },
        "id": "mLD3KfnSaF72",
        "outputId": "2da9fc98-7e36-4d62-f63d-7c6a0c82a2a3"
      },
      "outputs": [
        {
          "output_type": "stream",
          "name": "stdout",
          "text": [
            "['Monday-0', 'Monday-1', 'Monday-2', 'Monday-3', 'Monday-4', 'Monday-5', 'Monday-6', 'Monday-7', 'Monday-8', 'Monday-9', 'Monday-10', 'Monday-11', 'Monday-12', 'Monday-13', 'Monday-14', 'Monday-15', 'Monday-16', 'Monday-17', 'Monday-18', 'Monday-19', 'Monday-20', 'Monday-21', 'Monday-22', 'Monday-23', 'Tuesday-0', 'Tuesday-1', 'Tuesday-2', 'Tuesday-3', 'Tuesday-4', 'Tuesday-5', 'Tuesday-6', 'Tuesday-7', 'Tuesday-8', 'Tuesday-9', 'Tuesday-10', 'Tuesday-11', 'Tuesday-12', 'Tuesday-13', 'Tuesday-14', 'Tuesday-15', 'Tuesday-16', 'Tuesday-17', 'Tuesday-18', 'Tuesday-19', 'Tuesday-20', 'Tuesday-21', 'Tuesday-22', 'Tuesday-23', 'Wednesday-0', 'Wednesday-1', 'Wednesday-2', 'Wednesday-3', 'Wednesday-4', 'Wednesday-5', 'Wednesday-6', 'Wednesday-7', 'Wednesday-8', 'Wednesday-9', 'Wednesday-10', 'Wednesday-11', 'Wednesday-12', 'Wednesday-13', 'Wednesday-14', 'Wednesday-15', 'Wednesday-16', 'Wednesday-17', 'Wednesday-18', 'Wednesday-19', 'Wednesday-20', 'Wednesday-21', 'Wednesday-22', 'Wednesday-23', 'Thursday-0', 'Thursday-1', 'Thursday-2', 'Thursday-3', 'Thursday-4', 'Thursday-5', 'Thursday-6', 'Thursday-7', 'Thursday-8', 'Thursday-9', 'Thursday-10', 'Thursday-11', 'Thursday-12', 'Thursday-13', 'Thursday-14', 'Thursday-15', 'Thursday-16', 'Thursday-17', 'Thursday-18', 'Thursday-19', 'Thursday-20', 'Thursday-21', 'Thursday-22', 'Thursday-23', 'Friday-0', 'Friday-1', 'Friday-2', 'Friday-3', 'Friday-4', 'Friday-5', 'Friday-6', 'Friday-7', 'Friday-8', 'Friday-9', 'Friday-10', 'Friday-11', 'Friday-12', 'Friday-13', 'Friday-14', 'Friday-15', 'Friday-16', 'Friday-17', 'Friday-18', 'Friday-19', 'Friday-20', 'Friday-21', 'Friday-22', 'Friday-23', 'Saturday-0', 'Saturday-1', 'Saturday-2', 'Saturday-3', 'Saturday-4', 'Saturday-5', 'Saturday-6', 'Saturday-7', 'Saturday-8', 'Saturday-9', 'Saturday-10', 'Saturday-11', 'Saturday-12', 'Saturday-13', 'Saturday-14', 'Saturday-15', 'Saturday-16', 'Saturday-17', 'Saturday-18', 'Saturday-19', 'Saturday-20', 'Saturday-21', 'Saturday-22', 'Saturday-23', 'Sunday-0', 'Sunday-1', 'Sunday-2', 'Sunday-3', 'Sunday-4', 'Sunday-5', 'Sunday-6', 'Sunday-7', 'Sunday-8', 'Sunday-9', 'Sunday-10', 'Sunday-11', 'Sunday-12', 'Sunday-13', 'Sunday-14', 'Sunday-15', 'Sunday-16', 'Sunday-17', 'Sunday-18', 'Sunday-19', 'Sunday-20', 'Sunday-21', 'Sunday-22', 'Sunday-23']\n"
          ]
        }
      ],
      "source": [
        "all_days_hours=[]\n",
        "for day in days_dict.keys():\n",
        "  for i in range(24):\n",
        "    all_days_hours.append(day+'-'+str(i))\n",
        "print(all_days_hours)"
      ]
    },
    {
      "cell_type": "code",
      "execution_count": null,
      "metadata": {
        "colab": {
          "base_uri": "https://localhost:8080/"
        },
        "id": "Gw8hqoOZaYEe",
        "outputId": "f18b2864-eda7-46f5-bdfd-d1e0ac65328c"
      },
      "outputs": [
        {
          "output_type": "stream",
          "name": "stdout",
          "text": [
            "168\n"
          ]
        }
      ],
      "source": [
        "print(len(all_days_hours))"
      ]
    },
    {
      "cell_type": "code",
      "execution_count": null,
      "metadata": {
        "id": "qsQM2m-8DJZX"
      },
      "outputs": [],
      "source": [
        "all_twf_hours=[]\n",
        "for days in business_df['hours'].values:\n",
        "  twf_day_hours= [np.zeros(24)] * 7\n",
        "  for day in days.keys():\n",
        "    twf_hours=np.zeros(24)\n",
        "    hour=days[day]\n",
        "    first,second=hour.split('-')[:]\n",
        "    first=int(first.split(':')[0])\n",
        "    second_hour=int(second.split(':')[0])\n",
        "    minute= int(second.split(':')[1])\n",
        "    if minute>=30:\n",
        "      second_hour+=1\n",
        "    if first<second_hour:\n",
        "      for i in range(first,second_hour):\n",
        "        twf_hours[i]=1\n",
        "    else:\n",
        "      for i in range(first,24):\n",
        "        twf_hours[i]=1\n",
        "      for i in range(0,second_hour):\n",
        "        twf_hours[i]=1\n",
        "    twf_day_hours[days_dict[day]]=twf_hours\n",
        "  all_twf_hours.append(np.array(twf_day_hours).flatten())"
      ]
    },
    {
      "cell_type": "code",
      "execution_count": null,
      "metadata": {
        "id": "AI4XCxwZYF6W"
      },
      "outputs": [],
      "source": [
        "hours_array=np.array(all_twf_hours)"
      ]
    },
    {
      "cell_type": "code",
      "execution_count": null,
      "metadata": {
        "id": "T6Fry1BHZbky"
      },
      "outputs": [],
      "source": [
        "business_df=pd.concat([business_df, pd.DataFrame(hours_array,columns=all_days_hours)], axis=1)"
      ]
    },
    {
      "cell_type": "code",
      "execution_count": null,
      "metadata": {
        "id": "ia2MB0JhagZK"
      },
      "outputs": [],
      "source": [
        "business_df.drop(['hours'],axis=1,inplace=True)"
      ]
    },
    {
      "cell_type": "code",
      "execution_count": null,
      "metadata": {
        "id": "jTwefl3zapuG"
      },
      "outputs": [],
      "source": [
        "scaled_features = business_df.copy()\n",
        "\n",
        "col_names = [col for col in business_df if col != 'business_id']\n",
        "features = scaled_features[col_names]\n",
        "\n",
        "# Use scaler of choice; here Standard scaler is used\n",
        "scaler = preprocessing.StandardScaler().fit(features.values)\n",
        "features = scaler.transform(features.values)\n",
        "\n",
        "scaled_features[col_names] = features"
      ]
    },
    {
      "cell_type": "code",
      "execution_count": null,
      "metadata": {
        "id": "E-62G4iQtP5S"
      },
      "outputs": [],
      "source": [
        "scaled_features.drop(['stars'],axis=1,inplace=True)"
      ]
    },
    {
      "cell_type": "code",
      "execution_count": null,
      "metadata": {
        "colab": {
          "base_uri": "https://localhost:8080/",
          "height": 487
        },
        "id": "DIYPzH6vj7R5",
        "outputId": "b286eafc-0fd7-4bab-ac63-65c40823e6ad"
      },
      "outputs": [
        {
          "output_type": "execute_result",
          "data": {
            "text/plain": [
              "                  business_id  latitude  longitude     HasTV  \\\n",
              "0      mpf3x-BjTdTEA3yCZrAYPw  0.373923  -0.065817 -0.454125   \n",
              "1      MTSW4McQd7CbVtyjqoe9mw  0.620503   0.963523 -0.454125   \n",
              "2      n_0UpQx1hsNbnPUSlodU8w  0.387366  -0.066141 -0.454125   \n",
              "3      il_Ro8jwPlHresjw9EGmBg  0.564603   0.219553  1.126079   \n",
              "4      MUTTqe8uqyMdBl186RmNeA  0.620229   0.964360 -2.034330   \n",
              "...                       ...       ...        ...       ...   \n",
              "48084  9U1Igcpe954LoWZRmNc-zg  0.616508   0.964273 -0.454125   \n",
              "48085  GeEveoOaU2YKD7jJtEfA_g  0.523766  -2.060422 -0.454125   \n",
              "48086  qQ7FHvkGEMqoPKKXPk4gjA -0.713360  -1.473358 -0.454125   \n",
              "48087  LJ4GjQ1HL6kqvIPpNUNNaQ  0.618828   0.962567 -0.454125   \n",
              "48088  WnT9NIzQgLlILjPT0kEcsQ  0.617075   0.963313  1.126079   \n",
              "\n",
              "       RestaurantsGoodForGroups  backgrond_msic   toristy   jkebox      kids  \\\n",
              "0                     -0.600948        0.318772  0.810794  0.24072  0.001389   \n",
              "1                     -0.600948        0.318772  0.810794  0.24072  0.001389   \n",
              "2                     -0.600948        0.318772  0.810794  0.24072  0.001389   \n",
              "3                      1.125085        0.318772  0.810794  0.24072  0.001389   \n",
              "4                      1.125085        0.318772 -1.187478  0.24072  0.001389   \n",
              "...                         ...             ...       ...      ...       ...   \n",
              "48084                 -0.600948        0.318772  0.810794  0.24072  0.001389   \n",
              "48085                 -0.600948        0.318772  0.810794  0.24072  0.001389   \n",
              "48086                 -0.600948        0.318772  0.810794  0.24072  0.001389   \n",
              "48087                 -0.600948        0.318772  0.810794  0.24072  0.001389   \n",
              "48088                  1.125085        0.318772  0.810794  0.24072  0.001389   \n",
              "\n",
              "         classy  ...  Sunday-14  Sunday-15  Sunday-16  Sunday-17  Sunday-18  \\\n",
              "0      0.377872  ...  -1.503935  -1.441422  -1.405371  -1.244470  -1.080030   \n",
              "1      0.377872  ...   0.664923   0.693760   0.711556   0.803555   0.925901   \n",
              "2      0.377872  ...   0.664923   0.693760   0.711556   0.803555  -1.080030   \n",
              "3      0.377872  ...   0.664923   0.693760   0.711556   0.803555   0.925901   \n",
              "4      2.037214  ...   0.664923   0.693760   0.711556   0.803555   0.925901   \n",
              "...         ...  ...        ...        ...        ...        ...        ...   \n",
              "48084  0.377872  ...   0.664923   0.693760   0.711556   0.803555   0.925901   \n",
              "48085  0.377872  ...   0.664923   0.693760   0.711556   0.803555  -1.080030   \n",
              "48086  0.377872  ...   0.664923   0.693760   0.711556   0.803555   0.925901   \n",
              "48087  0.377872  ...   0.664923   0.693760   0.711556   0.803555   0.925901   \n",
              "48088  0.377872  ...   0.664923   0.693760   0.711556   0.803555   0.925901   \n",
              "\n",
              "       Sunday-19  Sunday-20  Sunday-21  Sunday-22  Sunday-23  \n",
              "0      -0.995539  -0.861344  -0.650096  -0.455663  -0.387281  \n",
              "1       1.004481   1.160976  -0.650096  -0.455663  -0.387281  \n",
              "2      -0.995539  -0.861344  -0.650096  -0.455663  -0.387281  \n",
              "3       1.004481   1.160976   1.538234  -0.455663  -0.387281  \n",
              "4       1.004481   1.160976   1.538234  -0.455663  -0.387281  \n",
              "...          ...        ...        ...        ...        ...  \n",
              "48084   1.004481  -0.861344  -0.650096  -0.455663  -0.387281  \n",
              "48085  -0.995539  -0.861344  -0.650096  -0.455663  -0.387281  \n",
              "48086   1.004481   1.160976   1.538234   2.194602   2.582102  \n",
              "48087   1.004481  -0.861344  -0.650096  -0.455663  -0.387281  \n",
              "48088   1.004481   1.160976   1.538234  -0.455663  -0.387281  \n",
              "\n",
              "[48089 rows x 258 columns]"
            ],
            "text/html": [
              "\n",
              "  <div id=\"df-987733cb-f8ac-41b6-9c47-1066a4e0390e\">\n",
              "    <div class=\"colab-df-container\">\n",
              "      <div>\n",
              "<style scoped>\n",
              "    .dataframe tbody tr th:only-of-type {\n",
              "        vertical-align: middle;\n",
              "    }\n",
              "\n",
              "    .dataframe tbody tr th {\n",
              "        vertical-align: top;\n",
              "    }\n",
              "\n",
              "    .dataframe thead th {\n",
              "        text-align: right;\n",
              "    }\n",
              "</style>\n",
              "<table border=\"1\" class=\"dataframe\">\n",
              "  <thead>\n",
              "    <tr style=\"text-align: right;\">\n",
              "      <th></th>\n",
              "      <th>business_id</th>\n",
              "      <th>latitude</th>\n",
              "      <th>longitude</th>\n",
              "      <th>HasTV</th>\n",
              "      <th>RestaurantsGoodForGroups</th>\n",
              "      <th>backgrond_msic</th>\n",
              "      <th>toristy</th>\n",
              "      <th>jkebox</th>\n",
              "      <th>kids</th>\n",
              "      <th>classy</th>\n",
              "      <th>...</th>\n",
              "      <th>Sunday-14</th>\n",
              "      <th>Sunday-15</th>\n",
              "      <th>Sunday-16</th>\n",
              "      <th>Sunday-17</th>\n",
              "      <th>Sunday-18</th>\n",
              "      <th>Sunday-19</th>\n",
              "      <th>Sunday-20</th>\n",
              "      <th>Sunday-21</th>\n",
              "      <th>Sunday-22</th>\n",
              "      <th>Sunday-23</th>\n",
              "    </tr>\n",
              "  </thead>\n",
              "  <tbody>\n",
              "    <tr>\n",
              "      <th>0</th>\n",
              "      <td>mpf3x-BjTdTEA3yCZrAYPw</td>\n",
              "      <td>0.373923</td>\n",
              "      <td>-0.065817</td>\n",
              "      <td>-0.454125</td>\n",
              "      <td>-0.600948</td>\n",
              "      <td>0.318772</td>\n",
              "      <td>0.810794</td>\n",
              "      <td>0.24072</td>\n",
              "      <td>0.001389</td>\n",
              "      <td>0.377872</td>\n",
              "      <td>...</td>\n",
              "      <td>-1.503935</td>\n",
              "      <td>-1.441422</td>\n",
              "      <td>-1.405371</td>\n",
              "      <td>-1.244470</td>\n",
              "      <td>-1.080030</td>\n",
              "      <td>-0.995539</td>\n",
              "      <td>-0.861344</td>\n",
              "      <td>-0.650096</td>\n",
              "      <td>-0.455663</td>\n",
              "      <td>-0.387281</td>\n",
              "    </tr>\n",
              "    <tr>\n",
              "      <th>1</th>\n",
              "      <td>MTSW4McQd7CbVtyjqoe9mw</td>\n",
              "      <td>0.620503</td>\n",
              "      <td>0.963523</td>\n",
              "      <td>-0.454125</td>\n",
              "      <td>-0.600948</td>\n",
              "      <td>0.318772</td>\n",
              "      <td>0.810794</td>\n",
              "      <td>0.24072</td>\n",
              "      <td>0.001389</td>\n",
              "      <td>0.377872</td>\n",
              "      <td>...</td>\n",
              "      <td>0.664923</td>\n",
              "      <td>0.693760</td>\n",
              "      <td>0.711556</td>\n",
              "      <td>0.803555</td>\n",
              "      <td>0.925901</td>\n",
              "      <td>1.004481</td>\n",
              "      <td>1.160976</td>\n",
              "      <td>-0.650096</td>\n",
              "      <td>-0.455663</td>\n",
              "      <td>-0.387281</td>\n",
              "    </tr>\n",
              "    <tr>\n",
              "      <th>2</th>\n",
              "      <td>n_0UpQx1hsNbnPUSlodU8w</td>\n",
              "      <td>0.387366</td>\n",
              "      <td>-0.066141</td>\n",
              "      <td>-0.454125</td>\n",
              "      <td>-0.600948</td>\n",
              "      <td>0.318772</td>\n",
              "      <td>0.810794</td>\n",
              "      <td>0.24072</td>\n",
              "      <td>0.001389</td>\n",
              "      <td>0.377872</td>\n",
              "      <td>...</td>\n",
              "      <td>0.664923</td>\n",
              "      <td>0.693760</td>\n",
              "      <td>0.711556</td>\n",
              "      <td>0.803555</td>\n",
              "      <td>-1.080030</td>\n",
              "      <td>-0.995539</td>\n",
              "      <td>-0.861344</td>\n",
              "      <td>-0.650096</td>\n",
              "      <td>-0.455663</td>\n",
              "      <td>-0.387281</td>\n",
              "    </tr>\n",
              "    <tr>\n",
              "      <th>3</th>\n",
              "      <td>il_Ro8jwPlHresjw9EGmBg</td>\n",
              "      <td>0.564603</td>\n",
              "      <td>0.219553</td>\n",
              "      <td>1.126079</td>\n",
              "      <td>1.125085</td>\n",
              "      <td>0.318772</td>\n",
              "      <td>0.810794</td>\n",
              "      <td>0.24072</td>\n",
              "      <td>0.001389</td>\n",
              "      <td>0.377872</td>\n",
              "      <td>...</td>\n",
              "      <td>0.664923</td>\n",
              "      <td>0.693760</td>\n",
              "      <td>0.711556</td>\n",
              "      <td>0.803555</td>\n",
              "      <td>0.925901</td>\n",
              "      <td>1.004481</td>\n",
              "      <td>1.160976</td>\n",
              "      <td>1.538234</td>\n",
              "      <td>-0.455663</td>\n",
              "      <td>-0.387281</td>\n",
              "    </tr>\n",
              "    <tr>\n",
              "      <th>4</th>\n",
              "      <td>MUTTqe8uqyMdBl186RmNeA</td>\n",
              "      <td>0.620229</td>\n",
              "      <td>0.964360</td>\n",
              "      <td>-2.034330</td>\n",
              "      <td>1.125085</td>\n",
              "      <td>0.318772</td>\n",
              "      <td>-1.187478</td>\n",
              "      <td>0.24072</td>\n",
              "      <td>0.001389</td>\n",
              "      <td>2.037214</td>\n",
              "      <td>...</td>\n",
              "      <td>0.664923</td>\n",
              "      <td>0.693760</td>\n",
              "      <td>0.711556</td>\n",
              "      <td>0.803555</td>\n",
              "      <td>0.925901</td>\n",
              "      <td>1.004481</td>\n",
              "      <td>1.160976</td>\n",
              "      <td>1.538234</td>\n",
              "      <td>-0.455663</td>\n",
              "      <td>-0.387281</td>\n",
              "    </tr>\n",
              "    <tr>\n",
              "      <th>...</th>\n",
              "      <td>...</td>\n",
              "      <td>...</td>\n",
              "      <td>...</td>\n",
              "      <td>...</td>\n",
              "      <td>...</td>\n",
              "      <td>...</td>\n",
              "      <td>...</td>\n",
              "      <td>...</td>\n",
              "      <td>...</td>\n",
              "      <td>...</td>\n",
              "      <td>...</td>\n",
              "      <td>...</td>\n",
              "      <td>...</td>\n",
              "      <td>...</td>\n",
              "      <td>...</td>\n",
              "      <td>...</td>\n",
              "      <td>...</td>\n",
              "      <td>...</td>\n",
              "      <td>...</td>\n",
              "      <td>...</td>\n",
              "      <td>...</td>\n",
              "    </tr>\n",
              "    <tr>\n",
              "      <th>48084</th>\n",
              "      <td>9U1Igcpe954LoWZRmNc-zg</td>\n",
              "      <td>0.616508</td>\n",
              "      <td>0.964273</td>\n",
              "      <td>-0.454125</td>\n",
              "      <td>-0.600948</td>\n",
              "      <td>0.318772</td>\n",
              "      <td>0.810794</td>\n",
              "      <td>0.24072</td>\n",
              "      <td>0.001389</td>\n",
              "      <td>0.377872</td>\n",
              "      <td>...</td>\n",
              "      <td>0.664923</td>\n",
              "      <td>0.693760</td>\n",
              "      <td>0.711556</td>\n",
              "      <td>0.803555</td>\n",
              "      <td>0.925901</td>\n",
              "      <td>1.004481</td>\n",
              "      <td>-0.861344</td>\n",
              "      <td>-0.650096</td>\n",
              "      <td>-0.455663</td>\n",
              "      <td>-0.387281</td>\n",
              "    </tr>\n",
              "    <tr>\n",
              "      <th>48085</th>\n",
              "      <td>GeEveoOaU2YKD7jJtEfA_g</td>\n",
              "      <td>0.523766</td>\n",
              "      <td>-2.060422</td>\n",
              "      <td>-0.454125</td>\n",
              "      <td>-0.600948</td>\n",
              "      <td>0.318772</td>\n",
              "      <td>0.810794</td>\n",
              "      <td>0.24072</td>\n",
              "      <td>0.001389</td>\n",
              "      <td>0.377872</td>\n",
              "      <td>...</td>\n",
              "      <td>0.664923</td>\n",
              "      <td>0.693760</td>\n",
              "      <td>0.711556</td>\n",
              "      <td>0.803555</td>\n",
              "      <td>-1.080030</td>\n",
              "      <td>-0.995539</td>\n",
              "      <td>-0.861344</td>\n",
              "      <td>-0.650096</td>\n",
              "      <td>-0.455663</td>\n",
              "      <td>-0.387281</td>\n",
              "    </tr>\n",
              "    <tr>\n",
              "      <th>48086</th>\n",
              "      <td>qQ7FHvkGEMqoPKKXPk4gjA</td>\n",
              "      <td>-0.713360</td>\n",
              "      <td>-1.473358</td>\n",
              "      <td>-0.454125</td>\n",
              "      <td>-0.600948</td>\n",
              "      <td>0.318772</td>\n",
              "      <td>0.810794</td>\n",
              "      <td>0.24072</td>\n",
              "      <td>0.001389</td>\n",
              "      <td>0.377872</td>\n",
              "      <td>...</td>\n",
              "      <td>0.664923</td>\n",
              "      <td>0.693760</td>\n",
              "      <td>0.711556</td>\n",
              "      <td>0.803555</td>\n",
              "      <td>0.925901</td>\n",
              "      <td>1.004481</td>\n",
              "      <td>1.160976</td>\n",
              "      <td>1.538234</td>\n",
              "      <td>2.194602</td>\n",
              "      <td>2.582102</td>\n",
              "    </tr>\n",
              "    <tr>\n",
              "      <th>48087</th>\n",
              "      <td>LJ4GjQ1HL6kqvIPpNUNNaQ</td>\n",
              "      <td>0.618828</td>\n",
              "      <td>0.962567</td>\n",
              "      <td>-0.454125</td>\n",
              "      <td>-0.600948</td>\n",
              "      <td>0.318772</td>\n",
              "      <td>0.810794</td>\n",
              "      <td>0.24072</td>\n",
              "      <td>0.001389</td>\n",
              "      <td>0.377872</td>\n",
              "      <td>...</td>\n",
              "      <td>0.664923</td>\n",
              "      <td>0.693760</td>\n",
              "      <td>0.711556</td>\n",
              "      <td>0.803555</td>\n",
              "      <td>0.925901</td>\n",
              "      <td>1.004481</td>\n",
              "      <td>-0.861344</td>\n",
              "      <td>-0.650096</td>\n",
              "      <td>-0.455663</td>\n",
              "      <td>-0.387281</td>\n",
              "    </tr>\n",
              "    <tr>\n",
              "      <th>48088</th>\n",
              "      <td>WnT9NIzQgLlILjPT0kEcsQ</td>\n",
              "      <td>0.617075</td>\n",
              "      <td>0.963313</td>\n",
              "      <td>1.126079</td>\n",
              "      <td>1.125085</td>\n",
              "      <td>0.318772</td>\n",
              "      <td>0.810794</td>\n",
              "      <td>0.24072</td>\n",
              "      <td>0.001389</td>\n",
              "      <td>0.377872</td>\n",
              "      <td>...</td>\n",
              "      <td>0.664923</td>\n",
              "      <td>0.693760</td>\n",
              "      <td>0.711556</td>\n",
              "      <td>0.803555</td>\n",
              "      <td>0.925901</td>\n",
              "      <td>1.004481</td>\n",
              "      <td>1.160976</td>\n",
              "      <td>1.538234</td>\n",
              "      <td>-0.455663</td>\n",
              "      <td>-0.387281</td>\n",
              "    </tr>\n",
              "  </tbody>\n",
              "</table>\n",
              "<p>48089 rows × 258 columns</p>\n",
              "</div>\n",
              "      <button class=\"colab-df-convert\" onclick=\"convertToInteractive('df-987733cb-f8ac-41b6-9c47-1066a4e0390e')\"\n",
              "              title=\"Convert this dataframe to an interactive table.\"\n",
              "              style=\"display:none;\">\n",
              "        \n",
              "  <svg xmlns=\"http://www.w3.org/2000/svg\" height=\"24px\"viewBox=\"0 0 24 24\"\n",
              "       width=\"24px\">\n",
              "    <path d=\"M0 0h24v24H0V0z\" fill=\"none\"/>\n",
              "    <path d=\"M18.56 5.44l.94 2.06.94-2.06 2.06-.94-2.06-.94-.94-2.06-.94 2.06-2.06.94zm-11 1L8.5 8.5l.94-2.06 2.06-.94-2.06-.94L8.5 2.5l-.94 2.06-2.06.94zm10 10l.94 2.06.94-2.06 2.06-.94-2.06-.94-.94-2.06-.94 2.06-2.06.94z\"/><path d=\"M17.41 7.96l-1.37-1.37c-.4-.4-.92-.59-1.43-.59-.52 0-1.04.2-1.43.59L10.3 9.45l-7.72 7.72c-.78.78-.78 2.05 0 2.83L4 21.41c.39.39.9.59 1.41.59.51 0 1.02-.2 1.41-.59l7.78-7.78 2.81-2.81c.8-.78.8-2.07 0-2.86zM5.41 20L4 18.59l7.72-7.72 1.47 1.35L5.41 20z\"/>\n",
              "  </svg>\n",
              "      </button>\n",
              "      \n",
              "  <style>\n",
              "    .colab-df-container {\n",
              "      display:flex;\n",
              "      flex-wrap:wrap;\n",
              "      gap: 12px;\n",
              "    }\n",
              "\n",
              "    .colab-df-convert {\n",
              "      background-color: #E8F0FE;\n",
              "      border: none;\n",
              "      border-radius: 50%;\n",
              "      cursor: pointer;\n",
              "      display: none;\n",
              "      fill: #1967D2;\n",
              "      height: 32px;\n",
              "      padding: 0 0 0 0;\n",
              "      width: 32px;\n",
              "    }\n",
              "\n",
              "    .colab-df-convert:hover {\n",
              "      background-color: #E2EBFA;\n",
              "      box-shadow: 0px 1px 2px rgba(60, 64, 67, 0.3), 0px 1px 3px 1px rgba(60, 64, 67, 0.15);\n",
              "      fill: #174EA6;\n",
              "    }\n",
              "\n",
              "    [theme=dark] .colab-df-convert {\n",
              "      background-color: #3B4455;\n",
              "      fill: #D2E3FC;\n",
              "    }\n",
              "\n",
              "    [theme=dark] .colab-df-convert:hover {\n",
              "      background-color: #434B5C;\n",
              "      box-shadow: 0px 1px 3px 1px rgba(0, 0, 0, 0.15);\n",
              "      filter: drop-shadow(0px 1px 2px rgba(0, 0, 0, 0.3));\n",
              "      fill: #FFFFFF;\n",
              "    }\n",
              "  </style>\n",
              "\n",
              "      <script>\n",
              "        const buttonEl =\n",
              "          document.querySelector('#df-987733cb-f8ac-41b6-9c47-1066a4e0390e button.colab-df-convert');\n",
              "        buttonEl.style.display =\n",
              "          google.colab.kernel.accessAllowed ? 'block' : 'none';\n",
              "\n",
              "        async function convertToInteractive(key) {\n",
              "          const element = document.querySelector('#df-987733cb-f8ac-41b6-9c47-1066a4e0390e');\n",
              "          const dataTable =\n",
              "            await google.colab.kernel.invokeFunction('convertToInteractive',\n",
              "                                                     [key], {});\n",
              "          if (!dataTable) return;\n",
              "\n",
              "          const docLinkHtml = 'Like what you see? Visit the ' +\n",
              "            '<a target=\"_blank\" href=https://colab.research.google.com/notebooks/data_table.ipynb>data table notebook</a>'\n",
              "            + ' to learn more about interactive tables.';\n",
              "          element.innerHTML = '';\n",
              "          dataTable['output_type'] = 'display_data';\n",
              "          await google.colab.output.renderOutput(dataTable, element);\n",
              "          const docLink = document.createElement('div');\n",
              "          docLink.innerHTML = docLinkHtml;\n",
              "          element.appendChild(docLink);\n",
              "        }\n",
              "      </script>\n",
              "    </div>\n",
              "  </div>\n",
              "  "
            ]
          },
          "metadata": {},
          "execution_count": 48
        }
      ],
      "source": [
        "scaled_features"
      ]
    },
    {
      "cell_type": "code",
      "execution_count": null,
      "metadata": {
        "id": "3sQGPhkc8Xpc"
      },
      "outputs": [],
      "source": [
        "scaled_features.to_csv(save_path+'normalized_business_dataset.csv')"
      ]
    },
    {
      "cell_type": "code",
      "execution_count": null,
      "metadata": {
        "id": "K4LAAtIzmmUD"
      },
      "outputs": [],
      "source": [
        "scaled_features=pd.read_csv(save_path+'normalized_business_dataset.csv')"
      ]
    },
    {
      "cell_type": "code",
      "execution_count": null,
      "metadata": {
        "id": "dHfZn0okAOl5"
      },
      "outputs": [],
      "source": [
        "# import json\n",
        "# import pandas as pd\n",
        "# data_file = open(save_path+\"Kaggle/yelp_academic_dataset_checkin.json\")\n",
        "# data = []\n",
        "# for line in data_file:\n",
        "#   data.append(json.loads(line))\n",
        "# check_df = pd.DataFrame(data)\n",
        "# data_file.close()"
      ]
    },
    {
      "cell_type": "code",
      "execution_count": null,
      "metadata": {
        "id": "un15VsvpBOhj"
      },
      "outputs": [],
      "source": [
        "# check_df"
      ]
    },
    {
      "cell_type": "code",
      "execution_count": null,
      "metadata": {
        "id": "P2G4lDfNW1UW"
      },
      "outputs": [],
      "source": [
        "import pandas as pd\n",
        "import numpy as np\n",
        "import torch\n",
        "import json\n",
        "import matplotlib.pyplot as plt\n",
        "import os\n",
        "import tqdm\n",
        "import pickle\n",
        "from pathlib import Path\n",
        "from torch.utils.data import DataLoader\n",
        "from sklearn.metrics import ndcg_score\n",
        "import torch.nn.functional as F\n",
        "np.random.seed(0)"
      ]
    },
    {
      "cell_type": "code",
      "execution_count": null,
      "metadata": {
        "id": "O1H_dqLyW1UY"
      },
      "outputs": [],
      "source": [
        "from nltk.corpus import stopwords\n",
        "from nltk import word_tokenize\n",
        "from nltk import FreqDist\n",
        "import re\n",
        "from nltk.tokenize import RegexpTokenizer\n",
        "import nltk\n",
        "from nltk.stem import WordNetLemmatizer\n",
        "from nltk import word_tokenize,pos_tag\n",
        "import pandas as pd"
      ]
    },
    {
      "cell_type": "code",
      "execution_count": null,
      "metadata": {
        "id": "MRItXJfIcQuz"
      },
      "outputs": [],
      "source": [
        "# sentires_dir='/content/drive/MyDrive/Recommender/cell_phone/Cell_Phones_and_Accessories'\n",
        "test_length=5\n",
        "sample_ratio=5\n",
        "val_length=5\n",
        "neg_length=100\n",
        "dataset='yelp'\n",
        "save_path='/content/drive/Shareddrives/Unlimited Drive | @LicenseMarket/Recommender/Yelp/'"
      ]
    },
    {
      "cell_type": "code",
      "execution_count": null,
      "metadata": {
        "id": "DbJOR8L1Msak"
      },
      "outputs": [],
      "source": [
        "all_pairs=tip_df['bus_user_id'].values"
      ]
    },
    {
      "cell_type": "code",
      "execution_count": null,
      "metadata": {
        "colab": {
          "base_uri": "https://localhost:8080/"
        },
        "id": "hq8mm002N5La",
        "outputId": "d5f1ef60-61f0-489b-ba33-103a0a7349c7"
      },
      "outputs": [
        {
          "data": {
            "text/plain": [
              "array([('QoezRbYQncpRqyrLH6Iqjg', 'NBN4MgHP9D3cw--SnauTkA'),\n",
              "       ('hV-bABTK-glh5wj31ps_Jw', 'FjMQVZjSqY8syIO-53KFKw'),\n",
              "       ('_uN0OudeJ3Zl_tf6nxg5ww', 'ld0AperBXk1h6UbqmM80zw'), ...,\n",
              "       ('hYnMeAO77RGyTtIzUSKYzQ', 'v48Spe6WEpqehsF2xQADpg'),\n",
              "       ('s2eyoTuJrcP7I_XyjdhUHQ', 'ckqKGM2hl7I9Chp5IpAhkw'),\n",
              "       ('_cb1Vg1NIWry8UA0jyuXnQ', '4tF1CWdMxvvwpUIgGsDygA')], dtype=object)"
            ]
          },
          "execution_count": 53,
          "metadata": {},
          "output_type": "execute_result"
        }
      ],
      "source": [
        "all_pairs"
      ]
    },
    {
      "cell_type": "code",
      "execution_count": null,
      "metadata": {
        "id": "mwGTbhQJRUG1"
      },
      "outputs": [],
      "source": [
        "def get_user_item_dict(all_pairs):\n",
        "  user_dict = {}\n",
        "  item_dict = {}\n",
        "  # user_item_pairs=[]\n",
        "  j=0\n",
        "  print(len(all_pairs))\n",
        "  for user_item in all_pairs:\n",
        "    item= user_item[0]\n",
        "    user= user_item[1]\n",
        "    # if j%1000==0:\n",
        "    #   print(j)\n",
        "    # j+=1\n",
        "    # user=row['user_id']\n",
        "    # item=row['business_id']\n",
        "    # if item in items_list:\n",
        "    # if (user,item) not in user_item_pairs:\n",
        "    # user_item_pairs.append((user,item))\n",
        "    if user not in user_dict:\n",
        "        user_dict[user] = [item]\n",
        "    else:\n",
        "        user_dict[user].append(item)\n",
        "    if item not in item_dict:\n",
        "        item_dict[item] = [user]\n",
        "    else:\n",
        "        item_dict[item].append(user)\n",
        "    # user_item_pairs=list(set(user_item_pairs))\n",
        "  return user_dict,item_dict"
      ]
    },
    {
      "cell_type": "code",
      "execution_count": null,
      "metadata": {
        "id": "H6v8XMseBgND"
      },
      "outputs": [],
      "source": [
        "import os"
      ]
    },
    {
      "cell_type": "code",
      "execution_count": null,
      "metadata": {
        "id": "uWcrf2wIcoAC"
      },
      "outputs": [],
      "source": [
        "def get_initialized_teta2(features,len_words,words_indices,val):\n",
        "  init_teta=torch.zeros(len(features), len_words)\n",
        "  indices = torch.arange(init_teta.size(0)).long()\n",
        "  init_teta[indices, torch.LongTensor(words_indices)] =val\n",
        "  init_teta = init_teta.to(device)\n",
        "  init_teta.requires_grad = True\n",
        "  return init_teta"
      ]
    },
    {
      "cell_type": "code",
      "execution_count": null,
      "metadata": {
        "id": "A4BDXqXzMbji"
      },
      "outputs": [],
      "source": [
        "def get_initialized_teta(values,matrix,num):\n",
        "  # print(matrix.shape)\n",
        "  init_teta=torch.zeros(matrix.shape[1],matrix.shape[0])\n",
        "  indices = torch.arange(init_teta.size(0)).long()\n",
        "  values1=np.array(values)\n",
        "  values_indices=[np.where((matrix.cpu().numpy()[:,i]==values[i]))[0][0] for i in range(len(values))]\n",
        "  init_teta[indices, torch.LongTensor(values_indices)] =num\n",
        "  init_teta = init_teta.to(device)\n",
        "  init_teta.requires_grad = True\n",
        "  return init_teta"
      ]
    },
    {
      "cell_type": "code",
      "execution_count": null,
      "metadata": {
        "id": "KUMPwCxkYuw7"
      },
      "outputs": [],
      "source": [
        "def get_features_matrix():\n",
        "  attributes_matrix=torch.zeros((3,len(all_attributes)),device=device)\n",
        "  for i in range(3,len(all_attributes)+3):\n",
        "    values=np.sort(list(set(scaled_features.iloc[:,i].values)))\n",
        "    # print(values)\n",
        "    for j in range(len(values)):\n",
        "      attributes_matrix[j][i-3]=values[j]\n",
        "   ########################################   \n",
        "  # categories_matrix=torch.zeros((2,len(all_categories)),device=device)\n",
        "  # for i in range(len(all_attributes)+4,len(all_attributes)+len(all_categories)+4):\n",
        "  #   values=list(set(scaled_features.iloc[:,i].values))\n",
        "  #   # if i <100:\n",
        "  #   #   print(i,values)\n",
        "  #   #   print('------------')\n",
        "  #   for j in range(len(values)):\n",
        "  #     categories_matrix[j][i-(len(all_attributes)+4)]=values[j]\n",
        "  ##########################################\n",
        "  days_hours_matrix=torch.zeros((2,len(all_days_hours)),device=device)\n",
        "  for i in range(len(all_attributes)+3,len(all_days_hours)+len(all_attributes)+3):\n",
        "    values=np.sort(list(set(scaled_features.iloc[:,i].values)))\n",
        "    # print(values)\n",
        "    for j in range(len(values)):\n",
        "      days_hours_matrix[j][i-(len(all_attributes)+3)]=values[j]\n",
        "\n",
        "  return attributes_matrix,days_hours_matrix"
      ]
    },
    {
      "cell_type": "code",
      "execution_count": null,
      "metadata": {
        "colab": {
          "base_uri": "https://localhost:8080/"
        },
        "id": "UVvjllW4Q1CE",
        "outputId": "cd8687a3-f4bd-4916-a4b7-2f44f78bcad3"
      },
      "outputs": [
        {
          "output_type": "stream",
          "name": "stdout",
          "text": [
            "87\n",
            "168\n"
          ]
        }
      ],
      "source": [
        "print(len(all_attributes))\n",
        "# print(len(all_categories))\n",
        "print(len(all_days_hours))"
      ]
    },
    {
      "cell_type": "code",
      "execution_count": null,
      "metadata": {
        "id": "dL7R4sReOdaJ"
      },
      "outputs": [],
      "source": [
        "# tip_df.drop(tip_df.index[~tip_df['business_id'].isin(scaled_features['business_id'].values)], inplace=True)"
      ]
    },
    {
      "cell_type": "code",
      "execution_count": null,
      "metadata": {
        "id": "MK9zWAJt0IwH"
      },
      "outputs": [],
      "source": [
        "# tip_df"
      ]
    },
    {
      "cell_type": "code",
      "execution_count": null,
      "metadata": {
        "colab": {
          "base_uri": "https://localhost:8080/"
        },
        "id": "DLE1KYCK0y0d",
        "outputId": "373789b8-0e93-49f5-edd2-9b431cf113d0"
      },
      "outputs": [
        {
          "output_type": "stream",
          "name": "stdout",
          "text": [
            "626069\n"
          ]
        }
      ],
      "source": [
        "print(len(all_pairs))"
      ]
    },
    {
      "cell_type": "code",
      "execution_count": null,
      "metadata": {
        "id": "Wc3WD4qjkLzk"
      },
      "outputs": [],
      "source": [
        "def sample_gumbel(shape, eps=1e-20):\n",
        "  U = torch.rand(shape)\n",
        "  U = U.cuda()\n",
        "  return -torch.log(-torch.log(U + eps) + eps)"
      ]
    },
    {
      "cell_type": "code",
      "execution_count": null,
      "metadata": {
        "id": "Dgp6OjkmP9Er"
      },
      "outputs": [],
      "source": [
        "def get_features_indices(item_id):\n",
        "  row=scaled_features[scaled_features['business_id']==item_id]\n",
        "  # print(item_id)\n",
        "  # print(row)\n",
        "  continues_features_values=row.loc[:,['latitude','longitude']].values[0]\n",
        "  # print(continues_features_values)\n",
        "  features_attributes=scaled_features.columns[3:3+len(all_attributes)]\n",
        "  # features_categories=scaled_features.columns[4+len(all_attributes):4+len(all_attributes)]\n",
        "  features_days_hours=scaled_features.columns[3+len(all_attributes):]\n",
        "  values_attributes=row.loc[:,features_attributes].values[0]\n",
        "  # values_categories=row.loc[:,features_categories].values[0]\n",
        "  values_days_hours=row.loc[:,features_days_hours].values[0]\n",
        "  # print(values_categories.shape)\n",
        "  # print('categories_values: ')\n",
        "  # print(values_categories[:20])\n",
        "    # print(value[:20])\n",
        "  # print('--------')\n",
        "  # print(values_days_hours)\n",
        "  return continues_features_values,features_attributes,features_days_hours,values_attributes,values_days_hours"
      ]
    },
    {
      "cell_type": "code",
      "execution_count": null,
      "metadata": {
        "id": "BMC87xZi-M9N"
      },
      "outputs": [],
      "source": [
        "def get_average_vect_train(item_id,not_in_columns):\n",
        "  all_words=[]\n",
        "  all_vects=[]\n",
        "  # print(item_id)\n",
        "  try:\n",
        "    df=pd.read_json(save_path+'tips_bert_items_dfs/'+'{}.json'.format(item_id))\n",
        "    df1=df.copy()\n",
        "    df1['main_word']=np.where(df1['replaced_word'] == df1[not_in_columns],1,0)\n",
        "    df1=df1[df1['main_word']==1]\n",
        "    if df1.empty:\n",
        "      df1=df.copy()\n",
        "      df1['main_word']=np.where(df1['logit']==5.0,1,0)\n",
        "      df1=df1[df1['main_word']==1]\n",
        "    if df1.empty:\n",
        "      df1=df.copy()\n",
        "      df1['main_word']=np.where(df1['logit']==12.0,1,0)\n",
        "      df1=df1[df1['main_word']==1]\n",
        "    lists=df1.loc[:, ~df1.columns.isin([not_in_columns,'replaced_word','logit','main_word'])].values\n",
        "    words=df1[not_in_columns].values\n",
        "    all_words+=list(words)\n",
        "    # print(words)\n",
        "    vects=[sub_list[0] for sub_list in lists]\n",
        "    all_vects+=vects\n",
        "    average=np.average(np.array(all_vects),axis=0)\n",
        "  except TypeError:\n",
        "    return None,None\n",
        "  # print(vects)\n",
        "  # print(average)\n",
        "  # print(df)\n",
        "  # print(words)\n",
        "  # print(df)\n",
        "  return average,all_words"
      ]
    },
    {
      "cell_type": "code",
      "execution_count": null,
      "metadata": {
        "id": "woUUSm-mdH1A"
      },
      "outputs": [],
      "source": [
        "from typing_extensions import final\n",
        "def get_item_matrix(item_name_dict,items_list,all_features,scaled_features):\n",
        "  print('----- get items matrix -------')\n",
        "  item_quality_matrix = np.zeros((len(item_name_dict), len(all_features)))\n",
        "  print((len(item_name_dict)))\n",
        "  i=0\n",
        "  features={}\n",
        "  attributes_matrix,days_hours_matrix=get_features_matrix()\n",
        "  for item_id in items_list:\n",
        "      # if item_id!='cXSyVvOr9YRN9diDkaWs0Q':\n",
        "      #   continue\n",
        "      if i%100==0:\n",
        "        print(i)\n",
        "      i+=1\n",
        "      # if i<900:\n",
        "      #   continue\n",
        "      # print(item_id)\n",
        "      item=item_name_dict[item_id]\n",
        "      # print(item)\n",
        "      continues_features_values,features_attributes,features_days_hours,values_attributes,values_days_hours=get_features_indices(item_id)\n",
        "      teta1=get_initialized_teta(values_attributes,attributes_matrix,16.0)\n",
        "      teta3=get_initialized_teta(values_days_hours,days_hours_matrix,16.0)\n",
        "      pi1 = F.softmax((teta1 + sample_gumbel((attributes_matrix.shape[1],attributes_matrix.shape[0]))) /1.0 ,dim=-1)\n",
        "      pi3 = F.softmax((teta3 + sample_gumbel((days_hours_matrix.shape[1],days_hours_matrix.shape[0]))) /1.0, dim=-1)\n",
        "      item_feature1=continues_features_values[0]\n",
        "      item_feature2=continues_features_values[1]\n",
        "      item_feature_4=torch.mm(pi1,attributes_matrix)\n",
        "      item_feature_4=torch.diagonal(item_feature_4, 0)\n",
        "      item_feature_6=torch.mm(pi3,days_hours_matrix)\n",
        "      item_feature_6=torch.diagonal(item_feature_6, 0)\n",
        "      item_feature_star=torch.concat([torch.Tensor([item_feature1]).to(device),torch.Tensor([item_feature2]).to(device),item_feature_4,item_feature_6])\n",
        "     \n",
        "      # average_vect_desc,words_tip=get_average_vect_train(item_id,'word')\n",
        "      # if words_tip != None:\n",
        "      #   features[item].append(words_tip)\n",
        "\n",
        "      # print(features[item])\n",
        "      # print(np.array(list(average_vect_desc)))\n",
        "      # print()\n",
        "    \n",
        "      item_quality_matrix[item]=np.array(list(item_feature_star.cpu().detach().numpy()))\n",
        "\n",
        "\n",
        "  item_quality_matrix = np.array(item_quality_matrix, dtype='float32')\n",
        "  # print(item_quality_matrix.shape)\n",
        "  return item_quality_matrix"
      ]
    },
    {
      "cell_type": "code",
      "execution_count": null,
      "metadata": {
        "id": "NecDmjj2CdtH"
      },
      "outputs": [],
      "source": [
        "review_df.drop(['Unnamed: 0','Unnamed: 0.1'],axis=1,inplace=True)"
      ]
    },
    {
      "cell_type": "code",
      "execution_count": null,
      "metadata": {
        "id": "X1EQvA6czSJ6"
      },
      "outputs": [],
      "source": [
        "review_df.drop(review_df.index[~review_df['business_id'].isin(list(scaled_features['business_id'].values))], inplace=True)"
      ]
    },
    {
      "cell_type": "code",
      "execution_count": null,
      "metadata": {
        "colab": {
          "base_uri": "https://localhost:8080/",
          "height": 424
        },
        "id": "fmtFGihXzm8p",
        "outputId": "bc295f44-e046-4a40-ad72-d85486df72c6"
      },
      "outputs": [
        {
          "data": {
            "text/html": [
              "\n",
              "  <div id=\"df-c153e1b9-9133-4561-b5ad-78b1f9863f96\">\n",
              "    <div class=\"colab-df-container\">\n",
              "      <div>\n",
              "<style scoped>\n",
              "    .dataframe tbody tr th:only-of-type {\n",
              "        vertical-align: middle;\n",
              "    }\n",
              "\n",
              "    .dataframe tbody tr th {\n",
              "        vertical-align: top;\n",
              "    }\n",
              "\n",
              "    .dataframe thead th {\n",
              "        text-align: right;\n",
              "    }\n",
              "</style>\n",
              "<table border=\"1\" class=\"dataframe\">\n",
              "  <thead>\n",
              "    <tr style=\"text-align: right;\">\n",
              "      <th></th>\n",
              "      <th>review_id</th>\n",
              "      <th>user_id</th>\n",
              "      <th>business_id</th>\n",
              "      <th>stars</th>\n",
              "      <th>text</th>\n",
              "    </tr>\n",
              "  </thead>\n",
              "  <tbody>\n",
              "    <tr>\n",
              "      <th>0</th>\n",
              "      <td>KU_O5udG6zpxOg-VcAEodg</td>\n",
              "      <td>mh_-eMZ6K5RLWhZyISBhwA</td>\n",
              "      <td>XQfwVwDr-v0ZS3_CbbE5Xw</td>\n",
              "      <td>3.0</td>\n",
              "      <td>If you decide to eat here, just be aware it is...</td>\n",
              "    </tr>\n",
              "    <tr>\n",
              "      <th>1</th>\n",
              "      <td>LnGZB0fjfgeVDVz5IHuEVA</td>\n",
              "      <td>j2wlzrntrbKwyOcOiB3l3w</td>\n",
              "      <td>rBdG_23USc7DletfZ11xGA</td>\n",
              "      <td>4.0</td>\n",
              "      <td>The hubby and I have been here on multiple occ...</td>\n",
              "    </tr>\n",
              "    <tr>\n",
              "      <th>2</th>\n",
              "      <td>Xs8Z8lmKkosqW5mw_sVAoA</td>\n",
              "      <td>IQsF3Rc6IgCzjVV9DE8KXg</td>\n",
              "      <td>eFvzHawVJofxSnD7TgbZtg</td>\n",
              "      <td>5.0</td>\n",
              "      <td>My absolute favorite cafe in the city. Their b...</td>\n",
              "    </tr>\n",
              "    <tr>\n",
              "      <th>3</th>\n",
              "      <td>J-4NdnDZ0pUQaUEEwDI9KQ</td>\n",
              "      <td>vrKkXsozqqecF3CW4cGaVQ</td>\n",
              "      <td>rjuWz_AD3WfXJc03AhIO_w</td>\n",
              "      <td>5.0</td>\n",
              "      <td>I thoroughly enjoyed the show.  Chill way to s...</td>\n",
              "    </tr>\n",
              "    <tr>\n",
              "      <th>4</th>\n",
              "      <td>qS6kE7CDoDagyPZwmueJaQ</td>\n",
              "      <td>zoBajEyVA0z4IjbFsMJksg</td>\n",
              "      <td>c-IgS6Pk6vMyax7Rbr38eA</td>\n",
              "      <td>4.0</td>\n",
              "      <td>Went for lunch. Beef brisket sandwich was awes...</td>\n",
              "    </tr>\n",
              "    <tr>\n",
              "      <th>...</th>\n",
              "      <td>...</td>\n",
              "      <td>...</td>\n",
              "      <td>...</td>\n",
              "      <td>...</td>\n",
              "      <td>...</td>\n",
              "    </tr>\n",
              "    <tr>\n",
              "      <th>1469038</th>\n",
              "      <td>wD5ZWao_vjyT2h4xmGam8Q</td>\n",
              "      <td>7L7GL5Pi2cf8mbm2Dpw4zw</td>\n",
              "      <td>e_E-jq9mwm7wk75k7Yi-Xw</td>\n",
              "      <td>5.0</td>\n",
              "      <td>It is very rare for a restaurant to be this go...</td>\n",
              "    </tr>\n",
              "    <tr>\n",
              "      <th>1469039</th>\n",
              "      <td>H0RIamZu0B0Ei0P4aeh3sQ</td>\n",
              "      <td>qskILQ3k0I_qcCMI-k6_QQ</td>\n",
              "      <td>jals67o91gcrD4DC81Vk6w</td>\n",
              "      <td>5.0</td>\n",
              "      <td>Latest addition to services from ICCU is Apple...</td>\n",
              "    </tr>\n",
              "    <tr>\n",
              "      <th>1469040</th>\n",
              "      <td>YNfNhgZlaaCO5Q_YJR4rEw</td>\n",
              "      <td>mm6E4FbCMwJmb7kPDZ5v2Q</td>\n",
              "      <td>R1khUUxidqfaJmcpmGd4aw</td>\n",
              "      <td>4.0</td>\n",
              "      <td>This Home Depot won me over when I needed to g...</td>\n",
              "    </tr>\n",
              "    <tr>\n",
              "      <th>1469041</th>\n",
              "      <td>i-I4ZOhoX70Nw5H0FwrQUA</td>\n",
              "      <td>YwAMC-jvZ1fvEUum6QkEkw</td>\n",
              "      <td>Rr9kKArrMhSLVE9a53q-aA</td>\n",
              "      <td>5.0</td>\n",
              "      <td>For when I'm feeling like ignoring my calorie-...</td>\n",
              "    </tr>\n",
              "    <tr>\n",
              "      <th>1469042</th>\n",
              "      <td>RwcKOdEuLRHNJe4M9-qpqg</td>\n",
              "      <td>6JehEvdoCvZPJ_XIxnzIIw</td>\n",
              "      <td>VAeEXLbEcI9Emt9KGYq9aA</td>\n",
              "      <td>3.0</td>\n",
              "      <td>Located in the 'Walking District' in Nashville...</td>\n",
              "    </tr>\n",
              "  </tbody>\n",
              "</table>\n",
              "<p>1426442 rows × 5 columns</p>\n",
              "</div>\n",
              "      <button class=\"colab-df-convert\" onclick=\"convertToInteractive('df-c153e1b9-9133-4561-b5ad-78b1f9863f96')\"\n",
              "              title=\"Convert this dataframe to an interactive table.\"\n",
              "              style=\"display:none;\">\n",
              "        \n",
              "  <svg xmlns=\"http://www.w3.org/2000/svg\" height=\"24px\"viewBox=\"0 0 24 24\"\n",
              "       width=\"24px\">\n",
              "    <path d=\"M0 0h24v24H0V0z\" fill=\"none\"/>\n",
              "    <path d=\"M18.56 5.44l.94 2.06.94-2.06 2.06-.94-2.06-.94-.94-2.06-.94 2.06-2.06.94zm-11 1L8.5 8.5l.94-2.06 2.06-.94-2.06-.94L8.5 2.5l-.94 2.06-2.06.94zm10 10l.94 2.06.94-2.06 2.06-.94-2.06-.94-.94-2.06-.94 2.06-2.06.94z\"/><path d=\"M17.41 7.96l-1.37-1.37c-.4-.4-.92-.59-1.43-.59-.52 0-1.04.2-1.43.59L10.3 9.45l-7.72 7.72c-.78.78-.78 2.05 0 2.83L4 21.41c.39.39.9.59 1.41.59.51 0 1.02-.2 1.41-.59l7.78-7.78 2.81-2.81c.8-.78.8-2.07 0-2.86zM5.41 20L4 18.59l7.72-7.72 1.47 1.35L5.41 20z\"/>\n",
              "  </svg>\n",
              "      </button>\n",
              "      \n",
              "  <style>\n",
              "    .colab-df-container {\n",
              "      display:flex;\n",
              "      flex-wrap:wrap;\n",
              "      gap: 12px;\n",
              "    }\n",
              "\n",
              "    .colab-df-convert {\n",
              "      background-color: #E8F0FE;\n",
              "      border: none;\n",
              "      border-radius: 50%;\n",
              "      cursor: pointer;\n",
              "      display: none;\n",
              "      fill: #1967D2;\n",
              "      height: 32px;\n",
              "      padding: 0 0 0 0;\n",
              "      width: 32px;\n",
              "    }\n",
              "\n",
              "    .colab-df-convert:hover {\n",
              "      background-color: #E2EBFA;\n",
              "      box-shadow: 0px 1px 2px rgba(60, 64, 67, 0.3), 0px 1px 3px 1px rgba(60, 64, 67, 0.15);\n",
              "      fill: #174EA6;\n",
              "    }\n",
              "\n",
              "    [theme=dark] .colab-df-convert {\n",
              "      background-color: #3B4455;\n",
              "      fill: #D2E3FC;\n",
              "    }\n",
              "\n",
              "    [theme=dark] .colab-df-convert:hover {\n",
              "      background-color: #434B5C;\n",
              "      box-shadow: 0px 1px 3px 1px rgba(0, 0, 0, 0.15);\n",
              "      filter: drop-shadow(0px 1px 2px rgba(0, 0, 0, 0.3));\n",
              "      fill: #FFFFFF;\n",
              "    }\n",
              "  </style>\n",
              "\n",
              "      <script>\n",
              "        const buttonEl =\n",
              "          document.querySelector('#df-c153e1b9-9133-4561-b5ad-78b1f9863f96 button.colab-df-convert');\n",
              "        buttonEl.style.display =\n",
              "          google.colab.kernel.accessAllowed ? 'block' : 'none';\n",
              "\n",
              "        async function convertToInteractive(key) {\n",
              "          const element = document.querySelector('#df-c153e1b9-9133-4561-b5ad-78b1f9863f96');\n",
              "          const dataTable =\n",
              "            await google.colab.kernel.invokeFunction('convertToInteractive',\n",
              "                                                     [key], {});\n",
              "          if (!dataTable) return;\n",
              "\n",
              "          const docLinkHtml = 'Like what you see? Visit the ' +\n",
              "            '<a target=\"_blank\" href=https://colab.research.google.com/notebooks/data_table.ipynb>data table notebook</a>'\n",
              "            + ' to learn more about interactive tables.';\n",
              "          element.innerHTML = '';\n",
              "          dataTable['output_type'] = 'display_data';\n",
              "          await google.colab.output.renderOutput(dataTable, element);\n",
              "          const docLink = document.createElement('div');\n",
              "          docLink.innerHTML = docLinkHtml;\n",
              "          element.appendChild(docLink);\n",
              "        }\n",
              "      </script>\n",
              "    </div>\n",
              "  </div>\n",
              "  "
            ],
            "text/plain": [
              "                      review_id                 user_id  \\\n",
              "0        KU_O5udG6zpxOg-VcAEodg  mh_-eMZ6K5RLWhZyISBhwA   \n",
              "1        LnGZB0fjfgeVDVz5IHuEVA  j2wlzrntrbKwyOcOiB3l3w   \n",
              "2        Xs8Z8lmKkosqW5mw_sVAoA  IQsF3Rc6IgCzjVV9DE8KXg   \n",
              "3        J-4NdnDZ0pUQaUEEwDI9KQ  vrKkXsozqqecF3CW4cGaVQ   \n",
              "4        qS6kE7CDoDagyPZwmueJaQ  zoBajEyVA0z4IjbFsMJksg   \n",
              "...                         ...                     ...   \n",
              "1469038  wD5ZWao_vjyT2h4xmGam8Q  7L7GL5Pi2cf8mbm2Dpw4zw   \n",
              "1469039  H0RIamZu0B0Ei0P4aeh3sQ  qskILQ3k0I_qcCMI-k6_QQ   \n",
              "1469040  YNfNhgZlaaCO5Q_YJR4rEw  mm6E4FbCMwJmb7kPDZ5v2Q   \n",
              "1469041  i-I4ZOhoX70Nw5H0FwrQUA  YwAMC-jvZ1fvEUum6QkEkw   \n",
              "1469042  RwcKOdEuLRHNJe4M9-qpqg  6JehEvdoCvZPJ_XIxnzIIw   \n",
              "\n",
              "                    business_id  stars  \\\n",
              "0        XQfwVwDr-v0ZS3_CbbE5Xw    3.0   \n",
              "1        rBdG_23USc7DletfZ11xGA    4.0   \n",
              "2        eFvzHawVJofxSnD7TgbZtg    5.0   \n",
              "3        rjuWz_AD3WfXJc03AhIO_w    5.0   \n",
              "4        c-IgS6Pk6vMyax7Rbr38eA    4.0   \n",
              "...                         ...    ...   \n",
              "1469038  e_E-jq9mwm7wk75k7Yi-Xw    5.0   \n",
              "1469039  jals67o91gcrD4DC81Vk6w    5.0   \n",
              "1469040  R1khUUxidqfaJmcpmGd4aw    4.0   \n",
              "1469041  Rr9kKArrMhSLVE9a53q-aA    5.0   \n",
              "1469042  VAeEXLbEcI9Emt9KGYq9aA    3.0   \n",
              "\n",
              "                                                      text  \n",
              "0        If you decide to eat here, just be aware it is...  \n",
              "1        The hubby and I have been here on multiple occ...  \n",
              "2        My absolute favorite cafe in the city. Their b...  \n",
              "3        I thoroughly enjoyed the show.  Chill way to s...  \n",
              "4        Went for lunch. Beef brisket sandwich was awes...  \n",
              "...                                                    ...  \n",
              "1469038  It is very rare for a restaurant to be this go...  \n",
              "1469039  Latest addition to services from ICCU is Apple...  \n",
              "1469040  This Home Depot won me over when I needed to g...  \n",
              "1469041  For when I'm feeling like ignoring my calorie-...  \n",
              "1469042  Located in the 'Walking District' in Nashville...  \n",
              "\n",
              "[1426442 rows x 5 columns]"
            ]
          },
          "execution_count": 88,
          "metadata": {},
          "output_type": "execute_result"
        }
      ],
      "source": [
        "review_df"
      ]
    },
    {
      "cell_type": "code",
      "execution_count": null,
      "metadata": {
        "id": "PEAyACg9ioIo"
      },
      "outputs": [],
      "source": [
        "tip_df"
      ]
    },
    {
      "cell_type": "code",
      "execution_count": null,
      "metadata": {
        "id": "SGne2aHvlOFh"
      },
      "outputs": [],
      "source": [
        "items_interacted={}\n",
        "for pair in all_pairs:\n",
        "  if pair[1] in items_interacted.keys():\n",
        "    items_interacted[pair[1]].append(pair[0])\n",
        "  else:\n",
        "    items_interacted[pair[1]]=[]\n",
        "    items_interacted[pair[1]].append(pair[0])"
      ]
    },
    {
      "cell_type": "code",
      "execution_count": null,
      "metadata": {
        "id": "Kh5kvUo8lvOL"
      },
      "outputs": [],
      "source": [
        "items_interacted"
      ]
    },
    {
      "cell_type": "code",
      "execution_count": null,
      "metadata": {
        "colab": {
          "base_uri": "https://localhost:8080/"
        },
        "id": "V5j_W6yDlziy",
        "outputId": "2b97ea46-1157-4ef9-b270-0b9dae673f71"
      },
      "outputs": [
        {
          "output_type": "execute_result",
          "data": {
            "text/plain": [
              "243531"
            ]
          },
          "metadata": {},
          "execution_count": 66
        }
      ],
      "source": [
        "len(items_interacted)"
      ]
    },
    {
      "cell_type": "code",
      "execution_count": null,
      "metadata": {
        "id": "QRpOh_KG94WX"
      },
      "outputs": [],
      "source": [
        "def get_user_matrix(item_matrix,inv_user_name_dict,item_name_dict,all_features,scaled_features,review_df):\n",
        "  user_quality_matrix = np.zeros((len(inv_user_name_dict), len(all_features)))\n",
        "  i=0\n",
        "  print('----- get users matrix -------')\n",
        "  print((len(inv_user_name_dict)))\n",
        "  for  user in inv_user_name_dict.keys():\n",
        "    if i%10000==0:\n",
        "      print(i)\n",
        "    i+=1\n",
        "    user_id= inv_user_name_dict[user]\n",
        "    final_vector=[]\n",
        "    items_interacted1=items_interacted[user_id]\n",
        "    # mean_rate=np.average(items_interacted['stars'].values)\n",
        "    # weights=[]\n",
        "    for item_id in items_interacted1:\n",
        "      if item_id in item_name_dict.keys():\n",
        "        item=item_name_dict[item_id]\n",
        "        # weight=items_interacted[items_interacted['business_id']==item_id]['stars'].values[0]-mean_rate\n",
        "        # weights.append(weight)\n",
        "        final_vector.append(item_matrix[item])\n",
        "    # if np.sum(weights)>0 or np.sum(weights)<0:\n",
        "    #   final_average=np.average(final_vector,weights=weights,axis=0)\n",
        "    # else:\n",
        "    final_average=np.average(final_vector,axis=0)\n",
        "    if ~np.isnan(np.sum(final_average)):\n",
        "      user_quality_matrix[user]=final_average\n",
        "    else:\n",
        "      print(user_id)\n",
        "  user_quality_matrix = np.array(user_quality_matrix, dtype='float32')\n",
        "  return user_quality_matrix"
      ]
    },
    {
      "cell_type": "code",
      "execution_count": null,
      "metadata": {
        "id": "Rfm9U58AAOnk"
      },
      "outputs": [],
      "source": [
        "def sample_training_pairs(user, training_items, item_set, sample_ratio=5):\n",
        "    positive_items = set(training_items)\n",
        "    negative_items = set()\n",
        "    for item in item_set:\n",
        "        if item not in positive_items:\n",
        "            negative_items.add(item)\n",
        "    neg_length = len(positive_items) * sample_ratio\n",
        "    negative_items = np.random.choice(np.array(list(negative_items)), neg_length, replace=False)\n",
        "    train_pairs = []\n",
        "    for p_item in positive_items:\n",
        "        train_pairs.append([user, p_item, 1])\n",
        "    for n_item in negative_items:\n",
        "        train_pairs.append([user, n_item, 0])\n",
        "    return train_pairs"
      ]
    },
    {
      "cell_type": "code",
      "execution_count": null,
      "metadata": {
        "colab": {
          "base_uri": "https://localhost:8080/"
        },
        "id": "AB0I523deF44",
        "outputId": "855995ec-f104-47df-90fb-5d7b53548462"
      },
      "outputs": [
        {
          "output_type": "stream",
          "name": "stdout",
          "text": [
            "626069\n"
          ]
        }
      ],
      "source": [
        "user_dict, item_dict = get_user_item_dict(all_pairs)  # not sorted with time"
      ]
    },
    {
      "cell_type": "code",
      "execution_count": null,
      "metadata": {
        "colab": {
          "base_uri": "https://localhost:8080/"
        },
        "id": "rDbn4th76nXY",
        "outputId": "cfc620e4-a4a5-42ed-e4fb-edc905211a7c"
      },
      "outputs": [
        {
          "output_type": "stream",
          "name": "stdout",
          "text": [
            "243531\n",
            "0\n",
            "10000\n",
            "20000\n",
            "30000\n",
            "40000\n",
            "50000\n",
            "60000\n",
            "70000\n",
            "80000\n",
            "90000\n",
            "100000\n",
            "110000\n",
            "120000\n",
            "130000\n",
            "140000\n",
            "150000\n",
            "160000\n",
            "170000\n",
            "180000\n",
            "190000\n",
            "200000\n",
            "210000\n",
            "220000\n",
            "230000\n",
            "240000\n"
          ]
        }
      ],
      "source": [
        "user_item_pair=[]\n",
        "print(len(user_dict))\n",
        "i=0\n",
        "for user in user_dict:\n",
        "  if i%10000==0:\n",
        "    print(i)\n",
        "  i+=1\n",
        "  for item in user_dict[user]:\n",
        "    user_item_pair.append((user,item))"
      ]
    },
    {
      "cell_type": "code",
      "execution_count": null,
      "metadata": {
        "id": "HgIIAnG07BDt"
      },
      "outputs": [],
      "source": [
        "user_item_pair=list(set(user_item_pair))"
      ]
    },
    {
      "cell_type": "code",
      "execution_count": null,
      "metadata": {
        "colab": {
          "base_uri": "https://localhost:8080/"
        },
        "id": "cIRwZfwe7LXI",
        "outputId": "d42598c1-2a8e-4c25-e7df-95f397043d07"
      },
      "outputs": [
        {
          "output_type": "execute_result",
          "data": {
            "text/plain": [
              "541276"
            ]
          },
          "metadata": {},
          "execution_count": 72
        }
      ],
      "source": [
        "len(user_item_pair)"
      ]
    },
    {
      "cell_type": "code",
      "execution_count": null,
      "metadata": {
        "id": "1w-fUvJ8vv75"
      },
      "outputs": [],
      "source": [
        "save_path2='/content/drive/MyDrive/Yelp/'"
      ]
    },
    {
      "cell_type": "code",
      "execution_count": null,
      "metadata": {
        "id": "wRV2woMaQP2z"
      },
      "outputs": [],
      "source": [
        "from re import S\n",
        "import torch\n",
        "import numpy as np\n",
        "import json\n",
        "import pickle\n",
        "# from torch._C import R\n",
        "import tqdm\n",
        "from torch.random import seed\n",
        "\n",
        "\n",
        "class YelpDataset():\n",
        "    def __init__(self):\n",
        "        super().__init__()\n",
        "\n",
        "        self.user_name_dict = {}  # rename users to integer names\n",
        "        self.item_name_dict = {}\n",
        "        # self.feature_name_dict = {}\n",
        "\n",
        "        self.features = {}  # feature list\n",
        "        self.users = []\n",
        "        self.items = []\n",
        "\n",
        "        self.user_num = None\n",
        "        self.item_num = None\n",
        "        self.features=['latitude', 'longitude']\n",
        "        self.features+=all_attributes\n",
        "        # self.all_features+=all_categories\n",
        "        self.features+=all_days_hours\n",
        "        \n",
        "        # self.feature_num =len(self.all_features)# number of features\n",
        "\n",
        "        self.user_feature_matrix = None  # user aspect attention matrix\n",
        "        self.item_feature_matrix = None  # item aspect quality matrix\n",
        "\n",
        "        self.training_data = None\n",
        "        self.test_data = None\n",
        "        self.pre_processing()\n",
        "        self.get_user_item_feature_matrix()\n",
        "        self.sample_training()  # sample training data, for traning BPR loss\n",
        "        self.sample_test()  # sample test data\n",
        "\n",
        "    def pre_processing(self,):\n",
        "        self.items_list=list(scaled_features['business_id'].values)\n",
        "        self.user_dict, self.item_dict ,self.user_item_pairs = user_dict, item_dict , user_item_pair\n",
        "        self.items_list=list(item_dict.keys())\n",
        "        print('num_items: ',len(self.items_list))\n",
        "        user_name_dict = {}\n",
        "        item_name_dict = {}\n",
        "        count = 0\n",
        "        for user in self.user_dict:\n",
        "            if user not in user_name_dict:\n",
        "                user_name_dict[user] = count\n",
        "                count += 1\n",
        "        count = 0\n",
        "        for item in self.item_dict:\n",
        "            if item not in item_name_dict:\n",
        "                item_name_dict[item] = count\n",
        "                count += 1\n",
        "        self.inv_user_name_dict = {v: k for k, v in user_name_dict.items()}\n",
        "        self.inv_item_name_dict = {v: k for k, v in item_name_dict.items()}\n",
        "        \n",
        "\n",
        "        self.user_hist_inter_dict = {}  # {\"u1\": [i1, i2, i3, ...], \"u2\": [i1, i2, i3, ...]}, sort with time\n",
        "        self.item_hist_inter_dict = {}\n",
        "        # ranked_user_item_dict = {}  # {\"u1\": [i1, i2, i3, ...], \"u2\": [i1, i2, i3, ...]}\n",
        "        for user_id, item_id in self.user_item_pairs:\n",
        "            user = user_name_dict[user_id]\n",
        "            item = item_name_dict[item_id]\n",
        "            if user not in self.user_hist_inter_dict:\n",
        "                self.user_hist_inter_dict[user] = [item]\n",
        "            else:\n",
        "                self.user_hist_inter_dict[user].append(item)\n",
        "            if item not in self.item_hist_inter_dict:\n",
        "                self.item_hist_inter_dict[item] = [user]\n",
        "            else:\n",
        "                self.item_hist_inter_dict[item].append(user)\n",
        "\n",
        "        users = list(self.user_hist_inter_dict.keys())\n",
        "        items = list(self.item_hist_inter_dict.keys())\n",
        "\n",
        "        # print( self.user_hist_inter_dict[0])\n",
        "        self.user_name_dict = user_name_dict\n",
        "        self.item_name_dict = item_name_dict\n",
        "        self.users = users\n",
        "        self.items = items\n",
        "        self.user_num = len(users)\n",
        "        self.item_num = len(items)\n",
        "        return True\n",
        "    \n",
        "    def get_user_item_feature_matrix(self,):\n",
        "        # exclude test data from the sentiment data to construct matrix\n",
        "        train_u_i_set = set()\n",
        "        for user in self.user_hist_inter_dict.keys():\n",
        "            items= self.user_hist_inter_dict[user]\n",
        "            items = items[:-test_length]\n",
        "            for item in items:\n",
        "                train_u_i_set.add((user, item))\n",
        "        self.item_feature_matrix= get_item_matrix(self.item_name_dict,self.items_list,self.features,scaled_features)\n",
        "        # self.item_feature_matrix,self.tips_features=rec_dataset.item_feature_matrix,rec_dataset.tips_features\n",
        "        self.user_feature_matrix = get_user_matrix(self.item_feature_matrix,self.inv_user_name_dict,self.item_name_dict,self.features,scaled_features,review_df)\n",
        "        \n",
        "        return True\n",
        "    \n",
        "    def sample_training(self):\n",
        "        print('======================= sample training data =======================')\n",
        "        # print(self.user_feature_matrix.shape, self.item_feature_matrix.shape)\n",
        "        training_data = []\n",
        "        training_pairs = np.loadtxt(save_path2+'training_data_2.txt',dtype=str)\n",
        "        for pair in training_pairs:\n",
        "          if pair[0] in self.user_name_dict.keys() and pair[1] in self.item_name_dict.keys():\n",
        "            training_data.append([self.user_name_dict[pair[0]],self.item_name_dict[pair[1]],int(pair[2])])\n",
        "\n",
        "        # item_set = set(self.items)\n",
        "        # for user, items in self.user_hist_inter_dict.items():\n",
        "        #     items = items[:-(test_length+val_length)]\n",
        "        #     training_pairs = sample_training_pairs(\n",
        "        #         user, \n",
        "        #         items, \n",
        "        #         item_set, \n",
        "        #         sample_ratio)\n",
        "        #     for pair in training_pairs:\n",
        "        #         training_data.append(pair)\n",
        "        print('# training samples :', len(training_data))\n",
        "        self.training_data = np.array(training_data)\n",
        "        return True\n",
        "    \n",
        "    def sample_test(self):\n",
        "        print('======================= sample test data =======================')\n",
        "        user_item_label_list = []  # [[u, [item1, item2, ...], [l1, l2, ...]], ...]\n",
        "        with open(save_path2+'test_data_2.pickle', 'rb') as f:\n",
        "            test_pairs= pickle.load(f)\n",
        "        for user_id in test_pairs.keys():\n",
        "          if user_id in self.user_name_dict.keys():\n",
        "            user=self.user_name_dict[user_id]\n",
        "            items_ids=test_pairs[user_id][0]\n",
        "            labels=test_pairs[user_id][1]\n",
        "            items=np.array([self.item_name_dict[item] for item in items_ids if item in self.item_name_dict.keys()])\n",
        "            labels=np.array([float(label) for label in labels])\n",
        "            user_item_label_list.append([user,items,labels])\n",
        "        \n",
        "        # for user, items in self.user_hist_inter_dict.items():\n",
        "            # items = items[-(test_length+val_length):]\n",
        "            # user_item_label_list.append([user, items, np.ones(len(items))])  # add the test items\n",
        "            # negative_items = [item for item in self.items if \n",
        "            #     item not in self.user_hist_inter_dict[user]]  # the not interacted items\n",
        "            # negative_items = np.random.choice(np.array(negative_items), neg_length, replace=False)\n",
        "            # user_item_label_list[-1][1] = np.concatenate((user_item_label_list[-1][1], negative_items), axis=0)\n",
        "            # user_item_label_list[-1][2] = np.concatenate((user_item_label_list[-1][2], np.zeros(neg_length)), axis=0)\n",
        "        print('# test samples :', len(user_item_label_list))\n",
        "        self.test_data = np.array(user_item_label_list)\n",
        "        user_item_label_list2 = []  # [[u, [item1, item2, ...], [l1, l2, ...]], ...]\n",
        "        with open(save_path2+'validation_data_2.pickle', 'rb') as f:\n",
        "            validation_pairs= pickle.load(f)\n",
        "        for user_id in validation_pairs.keys():\n",
        "          if user_id in self.user_name_dict.keys():\n",
        "            user=self.user_name_dict[user_id]\n",
        "            items_ids=validation_pairs[user_id][0]\n",
        "            labels=validation_pairs[user_id][1]\n",
        "            items=np.array([self.item_name_dict[item] for item in items_ids if item in self.item_name_dict.keys()])\n",
        "            labels=np.array([float(label) for label in labels])\n",
        "            user_item_label_list2.append([user,items,labels])\n",
        "        \n",
        "        # for user, items in self.user_hist_inter_dict.items():\n",
        "            # items = items[-(test_length+val_length):]\n",
        "            # user_item_label_list.append([user, items, np.ones(len(items))])  # add the test items\n",
        "            # negative_items = [item for item in self.items if \n",
        "            #     item not in self.user_hist_inter_dict[user]]  # the not interacted items\n",
        "            # negative_items = np.random.choice(np.array(negative_items), neg_length, replace=False)\n",
        "            # user_item_label_list[-1][1] = np.concatenate((user_item_label_list[-1][1], negative_items), axis=0)\n",
        "            # user_item_label_list[-1][2] = np.concatenate((user_item_label_list[-1][2], np.zeros(neg_length)), axis=0)\n",
        "        print('# validation samples :', len(user_item_label_list2))\n",
        "        self.validation_data = np.array(user_item_label_list2)\n",
        "        return True\n",
        "\n",
        "    def save(self, save_path):\n",
        "        return True\n",
        "    \n",
        "    def load(self):\n",
        "        return False"
      ]
    },
    {
      "cell_type": "code",
      "execution_count": null,
      "metadata": {
        "id": "mJU1IgY8LF07"
      },
      "outputs": [],
      "source": [
        "def yelp_preprocessing():\n",
        "    rec_dataset = YelpDataset()\n",
        "    return rec_dataset"
      ]
    },
    {
      "cell_type": "code",
      "execution_count": null,
      "metadata": {
        "id": "zAb2lKMWb1Zo"
      },
      "outputs": [],
      "source": [
        "dataset=\"yelp\"\n",
        "gpu=True\n",
        "cuda='0'\n",
        "weight_decay=0.00001\n",
        "lr=0.01\n",
        "epochs=22\n",
        "batch_size=128\n",
        "rec_k=5"
      ]
    },
    {
      "cell_type": "code",
      "execution_count": null,
      "metadata": {
        "id": "6ECM0Lw3NFbC"
      },
      "outputs": [],
      "source": [
        "def dataset_init():\n",
        "\tif dataset == \"yelp\":\n",
        "\t\trec_dataset = yelp_preprocessing()\n",
        "\telif dataset == \"cell_phones\" or \"kindle_store\" or \"electronic\" or \"cds_and_vinyl\":\n",
        "\t\trec_dataset = amazon_preprocessing()\n",
        "\treturn rec_dataset"
      ]
    },
    {
      "cell_type": "code",
      "execution_count": null,
      "metadata": {
        "id": "x4Zo-5mANolR"
      },
      "outputs": [],
      "source": [
        "import numpy as np\n",
        "from torch.utils.data import Dataset\n",
        "class UserItemInterDataset(Dataset):\n",
        "    def __init__(self, data, user_feature_matrix, item_feature_matrix):\n",
        "        self.data = data\n",
        "        self.user_feature_matrix = user_feature_matrix\n",
        "        self.item_feature_matrix = item_feature_matrix\n",
        "\n",
        "    def __getitem__(self, index):\n",
        "        user = self.data[index][0]\n",
        "        item = self.data[index][1]\n",
        "        label = self.data[index][2]\n",
        "        user_feature = self.user_feature_matrix[user]\n",
        "        item_feature = self.item_feature_matrix[item]\n",
        "        return user_feature, item_feature, label\n",
        "    def __len__(self):\n",
        "        return len(self.data)"
      ]
    },
    {
      "cell_type": "markdown",
      "source": [
        "# Train Black-box model..."
      ],
      "metadata": {
        "id": "kREutQNjLtRk"
      }
    },
    {
      "cell_type": "code",
      "execution_count": null,
      "metadata": {
        "id": "Lma7BKCoNySG"
      },
      "outputs": [],
      "source": [
        "import numpy as np\n",
        "import torch\n",
        "from sklearn.metrics import ndcg_score"
      ]
    },
    {
      "cell_type": "code",
      "execution_count": null,
      "metadata": {
        "id": "Ep5Pi9VbNtvi"
      },
      "outputs": [],
      "source": [
        "def compute_ndcg(test_data, user_feature_matrix, item_feature_matrix, k, model, device):\n",
        "    model.eval()\n",
        "    ndcgs = []\n",
        "    with torch.no_grad():\n",
        "        for row in test_data:\n",
        "            user = row[0]\n",
        "            items = row[1]\n",
        "            gt_labels = row[2]\n",
        "            # print(user)\n",
        "            # print(i)\n",
        "            user_features = np.array([user_feature_matrix[user] for i in range(len(items))])\n",
        "            item_features = np.array([item_feature_matrix[item] for item in items])\n",
        "            scores = model(torch.from_numpy(user_features).to(device),\n",
        "                                    torch.from_numpy(item_features).to(device)).squeeze()\n",
        "            scores = np.array(scores.to('cpu'))\n",
        "            ndcg = ndcg_score([gt_labels], [scores], k=k)\n",
        "            ndcgs.append(ndcg)\n",
        "    ave_ndcg = np.mean(ndcgs)\n",
        "    return ave_ndcg\n"
      ]
    },
    {
      "cell_type": "code",
      "execution_count": null,
      "metadata": {
        "id": "e9bKFx0qJvsC"
      },
      "outputs": [],
      "source": [
        "rec_dataset.test_data"
      ]
    },
    {
      "cell_type": "code",
      "execution_count": null,
      "metadata": {
        "id": "rnvfmuGXM-7F"
      },
      "outputs": [],
      "source": [
        "import torch\n",
        "import numpy as np\n",
        "import os\n",
        "import tqdm\n",
        "import pickle\n",
        "from pathlib import Path\n",
        "from torch.utils.data import DataLoader"
      ]
    },
    {
      "cell_type": "code",
      "execution_count": null,
      "metadata": {
        "id": "T-szQN49N-l0"
      },
      "outputs": [],
      "source": [
        "from numpy import core\n",
        "\n",
        "class BaseRecModel(torch.nn.Module):\n",
        "    def __init__(self, feature_length):\n",
        "        super(BaseRecModel, self).__init__()\n",
        "        self.fc = torch.nn.Sequential(\n",
        "            torch.nn.Linear(feature_length * 2, 512),\n",
        "            torch.nn.ReLU(),\n",
        "            torch.nn.Linear(512, 256),\n",
        "            torch.nn.ReLU(),\n",
        "            torch.nn.Linear(256, 1),\n",
        "            torch.nn.Sigmoid()\n",
        "        )\n",
        "\n",
        "    def forward(self, user_feature, item_feature):\n",
        "        fusion = torch.cat((user_feature, item_feature), 1)\n",
        "        out = self.fc(fusion)\n",
        "        return out\n"
      ]
    },
    {
      "cell_type": "code",
      "execution_count": null,
      "metadata": {
        "colab": {
          "base_uri": "https://localhost:8080/"
        },
        "id": "05LMQ0K63i30",
        "outputId": "fc345ddd-2730-4d3a-9c70-5e8f33311fcd"
      },
      "outputs": [
        {
          "output_type": "stream",
          "name": "stdout",
          "text": [
            "cuda:0\n"
          ]
        }
      ],
      "source": [
        "if gpu:\n",
        "  device = torch.device('cuda:%s' % cuda)\n",
        "else:\n",
        "  device = 'cpu'\n",
        "print(device)"
      ]
    },
    {
      "cell_type": "code",
      "execution_count": null,
      "metadata": {
        "colab": {
          "base_uri": "https://localhost:8080/"
        },
        "id": "9VSW0s52y3vR",
        "outputId": "e6bedaec-7238-4ac0-ed9e-62525cb8f177"
      },
      "outputs": [
        {
          "output_type": "stream",
          "name": "stdout",
          "text": [
            "num_items:  48089\n",
            "----- get items matrix -------\n",
            "48089\n",
            "0\n",
            "100\n",
            "200\n",
            "300\n",
            "400\n",
            "500\n",
            "600\n",
            "700\n",
            "800\n",
            "900\n",
            "1000\n",
            "1100\n",
            "1200\n",
            "1300\n",
            "1400\n",
            "1500\n",
            "1600\n",
            "1700\n",
            "1800\n",
            "1900\n",
            "2000\n",
            "2100\n",
            "2200\n",
            "2300\n",
            "2400\n",
            "2500\n",
            "2600\n",
            "2700\n",
            "2800\n",
            "2900\n",
            "3000\n",
            "3100\n",
            "3200\n",
            "3300\n",
            "3400\n",
            "3500\n",
            "3600\n",
            "3700\n",
            "3800\n",
            "3900\n",
            "4000\n",
            "4100\n",
            "4200\n",
            "4300\n",
            "4400\n",
            "4500\n",
            "4600\n",
            "4700\n",
            "4800\n",
            "4900\n",
            "5000\n",
            "5100\n",
            "5200\n",
            "5300\n",
            "5400\n",
            "5500\n",
            "5600\n",
            "5700\n",
            "5800\n",
            "5900\n",
            "6000\n",
            "6100\n",
            "6200\n",
            "6300\n",
            "6400\n",
            "6500\n",
            "6600\n",
            "6700\n",
            "6800\n",
            "6900\n",
            "7000\n",
            "7100\n",
            "7200\n",
            "7300\n",
            "7400\n",
            "7500\n",
            "7600\n",
            "7700\n",
            "7800\n",
            "7900\n",
            "8000\n",
            "8100\n",
            "8200\n",
            "8300\n",
            "8400\n",
            "8500\n",
            "8600\n",
            "8700\n",
            "8800\n",
            "8900\n",
            "9000\n",
            "9100\n",
            "9200\n",
            "9300\n",
            "9400\n",
            "9500\n",
            "9600\n",
            "9700\n",
            "9800\n",
            "9900\n",
            "10000\n",
            "10100\n",
            "10200\n",
            "10300\n",
            "10400\n",
            "10500\n",
            "10600\n",
            "10700\n",
            "10800\n",
            "10900\n",
            "11000\n",
            "11100\n",
            "11200\n",
            "11300\n",
            "11400\n",
            "11500\n",
            "11600\n",
            "11700\n",
            "11800\n",
            "11900\n",
            "12000\n",
            "12100\n",
            "12200\n",
            "12300\n",
            "12400\n",
            "12500\n",
            "12600\n",
            "12700\n",
            "12800\n",
            "12900\n",
            "13000\n",
            "13100\n",
            "13200\n",
            "13300\n",
            "13400\n",
            "13500\n",
            "13600\n",
            "13700\n",
            "13800\n",
            "13900\n",
            "14000\n",
            "14100\n",
            "14200\n",
            "14300\n",
            "14400\n",
            "14500\n",
            "14600\n",
            "14700\n",
            "14800\n",
            "14900\n",
            "15000\n",
            "15100\n",
            "15200\n",
            "15300\n",
            "15400\n",
            "15500\n",
            "15600\n",
            "15700\n",
            "15800\n",
            "15900\n",
            "16000\n",
            "16100\n",
            "16200\n",
            "16300\n",
            "16400\n",
            "16500\n",
            "16600\n",
            "16700\n",
            "16800\n",
            "16900\n",
            "17000\n",
            "17100\n",
            "17200\n",
            "17300\n",
            "17400\n",
            "17500\n",
            "17600\n",
            "17700\n",
            "17800\n",
            "17900\n",
            "18000\n",
            "18100\n",
            "18200\n",
            "18300\n",
            "18400\n",
            "18500\n",
            "18600\n",
            "18700\n",
            "18800\n",
            "18900\n",
            "19000\n",
            "19100\n",
            "19200\n",
            "19300\n",
            "19400\n",
            "19500\n",
            "19600\n",
            "19700\n",
            "19800\n",
            "19900\n",
            "20000\n",
            "20100\n",
            "20200\n",
            "20300\n",
            "20400\n",
            "20500\n",
            "20600\n",
            "20700\n",
            "20800\n",
            "20900\n",
            "21000\n",
            "21100\n",
            "21200\n",
            "21300\n",
            "21400\n",
            "21500\n",
            "21600\n",
            "21700\n",
            "21800\n",
            "21900\n",
            "22000\n",
            "22100\n",
            "22200\n",
            "22300\n",
            "22400\n",
            "22500\n",
            "22600\n",
            "22700\n",
            "22800\n",
            "22900\n",
            "23000\n",
            "23100\n",
            "23200\n",
            "23300\n",
            "23400\n",
            "23500\n",
            "23600\n",
            "23700\n",
            "23800\n",
            "23900\n",
            "24000\n",
            "24100\n",
            "24200\n",
            "24300\n",
            "24400\n",
            "24500\n",
            "24600\n",
            "24700\n",
            "24800\n",
            "24900\n",
            "25000\n",
            "25100\n",
            "25200\n",
            "25300\n",
            "25400\n",
            "25500\n",
            "25600\n",
            "25700\n",
            "25800\n",
            "25900\n",
            "26000\n",
            "26100\n",
            "26200\n",
            "26300\n",
            "26400\n",
            "26500\n",
            "26600\n",
            "26700\n",
            "26800\n",
            "26900\n",
            "27000\n",
            "27100\n",
            "27200\n",
            "27300\n",
            "27400\n",
            "27500\n",
            "27600\n",
            "27700\n",
            "27800\n",
            "27900\n",
            "28000\n",
            "28100\n",
            "28200\n",
            "28300\n",
            "28400\n",
            "28500\n",
            "28600\n",
            "28700\n",
            "28800\n",
            "28900\n",
            "29000\n",
            "29100\n",
            "29200\n",
            "29300\n",
            "29400\n",
            "29500\n",
            "29600\n",
            "29700\n",
            "29800\n",
            "29900\n",
            "30000\n",
            "30100\n",
            "30200\n",
            "30300\n",
            "30400\n",
            "30500\n",
            "30600\n",
            "30700\n",
            "30800\n",
            "30900\n",
            "31000\n",
            "31100\n",
            "31200\n",
            "31300\n",
            "31400\n",
            "31500\n",
            "31600\n",
            "31700\n",
            "31800\n",
            "31900\n",
            "32000\n",
            "32100\n",
            "32200\n",
            "32300\n",
            "32400\n",
            "32500\n",
            "32600\n",
            "32700\n",
            "32800\n",
            "32900\n",
            "33000\n",
            "33100\n",
            "33200\n",
            "33300\n",
            "33400\n",
            "33500\n",
            "33600\n",
            "33700\n",
            "33800\n",
            "33900\n",
            "34000\n",
            "34100\n",
            "34200\n",
            "34300\n",
            "34400\n",
            "34500\n",
            "34600\n",
            "34700\n",
            "34800\n",
            "34900\n",
            "35000\n",
            "35100\n",
            "35200\n",
            "35300\n",
            "35400\n",
            "35500\n",
            "35600\n",
            "35700\n",
            "35800\n",
            "35900\n",
            "36000\n",
            "36100\n",
            "36200\n",
            "36300\n",
            "36400\n",
            "36500\n",
            "36600\n",
            "36700\n",
            "36800\n",
            "36900\n",
            "37000\n",
            "37100\n",
            "37200\n",
            "37300\n",
            "37400\n",
            "37500\n",
            "37600\n",
            "37700\n",
            "37800\n",
            "37900\n",
            "38000\n",
            "38100\n",
            "38200\n",
            "38300\n",
            "38400\n",
            "38500\n",
            "38600\n",
            "38700\n",
            "38800\n",
            "38900\n",
            "39000\n",
            "39100\n",
            "39200\n",
            "39300\n",
            "39400\n",
            "39500\n",
            "39600\n",
            "39700\n",
            "39800\n",
            "39900\n",
            "40000\n",
            "40100\n",
            "40200\n",
            "40300\n",
            "40400\n",
            "40500\n",
            "40600\n",
            "40700\n",
            "40800\n",
            "40900\n",
            "41000\n",
            "41100\n",
            "41200\n",
            "41300\n",
            "41400\n",
            "41500\n",
            "41600\n",
            "41700\n",
            "41800\n",
            "41900\n",
            "42000\n",
            "42100\n",
            "42200\n",
            "42300\n",
            "42400\n",
            "42500\n",
            "42600\n",
            "42700\n",
            "42800\n",
            "42900\n",
            "43000\n",
            "43100\n",
            "43200\n",
            "43300\n",
            "43400\n",
            "43500\n",
            "43600\n",
            "43700\n",
            "43800\n",
            "43900\n",
            "44000\n",
            "44100\n",
            "44200\n",
            "44300\n",
            "44400\n",
            "44500\n",
            "44600\n",
            "44700\n",
            "44800\n",
            "44900\n",
            "45000\n",
            "45100\n",
            "45200\n",
            "45300\n",
            "45400\n",
            "45500\n",
            "45600\n",
            "45700\n",
            "45800\n",
            "45900\n",
            "46000\n",
            "46100\n",
            "46200\n",
            "46300\n",
            "46400\n",
            "46500\n",
            "46600\n",
            "46700\n",
            "46800\n",
            "46900\n",
            "47000\n",
            "47100\n",
            "47200\n",
            "47300\n",
            "47400\n",
            "47500\n",
            "47600\n",
            "47700\n",
            "47800\n",
            "47900\n",
            "48000\n",
            "----- get users matrix -------\n",
            "243531\n",
            "0\n",
            "10000\n",
            "20000\n",
            "30000\n",
            "40000\n",
            "50000\n",
            "60000\n",
            "70000\n",
            "80000\n",
            "90000\n",
            "100000\n",
            "110000\n",
            "120000\n",
            "130000\n",
            "140000\n",
            "150000\n",
            "160000\n",
            "170000\n",
            "180000\n",
            "190000\n",
            "200000\n",
            "210000\n",
            "220000\n",
            "230000\n",
            "240000\n",
            "======================= sample training data =======================\n",
            "# training samples : 501606\n",
            "======================= sample test data =======================\n",
            "# test samples : 3529\n"
          ]
        },
        {
          "output_type": "stream",
          "name": "stderr",
          "text": [
            "<ipython-input-73-a77d368b8ef8>:150: VisibleDeprecationWarning: Creating an ndarray from ragged nested sequences (which is a list-or-tuple of lists-or-tuples-or ndarrays with different lengths or shapes) is deprecated. If you meant to do this, you must specify 'dtype=object' when creating the ndarray.\n",
            "  self.test_data = np.array(user_item_label_list)\n"
          ]
        },
        {
          "output_type": "stream",
          "name": "stdout",
          "text": [
            "# validation samples : 3529\n"
          ]
        },
        {
          "output_type": "stream",
          "name": "stderr",
          "text": [
            "<ipython-input-73-a77d368b8ef8>:172: VisibleDeprecationWarning: Creating an ndarray from ragged nested sequences (which is a list-or-tuple of lists-or-tuples-or ndarrays with different lengths or shapes) is deprecated. If you meant to do this, you must specify 'dtype=object' when creating the ndarray.\n",
            "  self.validation_data = np.array(user_item_label_list2)\n"
          ]
        }
      ],
      "source": [
        "rec_dataset = dataset_init()"
      ]
    },
    {
      "cell_type": "code",
      "execution_count": null,
      "metadata": {
        "id": "taAj1CnnK50V"
      },
      "outputs": [],
      "source": [
        "with open(os.path.join(save_path2, dataset + \"_dataset_obj_withoutTips.pickle\"), 'rb') as inp:\n",
        "  rec_dataset = pickle.load(inp)"
      ]
    },
    {
      "cell_type": "code",
      "execution_count": null,
      "metadata": {
        "id": "L7B-OCKL37Sx"
      },
      "outputs": [],
      "source": [
        "Path(save_path).mkdir(parents=True, exist_ok=True)\n",
        "with open(os.path.join(save_path2,dataset + \"_dataset_obj_withoutTips.pickle\"), 'wb') as outp:\n",
        "   pickle.dump(rec_dataset, outp, pickle.HIGHEST_PROTOCOL)"
      ]
    },
    {
      "cell_type": "code",
      "execution_count": null,
      "metadata": {
        "id": "stGgIm7nvgfs"
      },
      "outputs": [],
      "source": [
        "import matplotlib.pyplot as plt"
      ]
    },
    {
      "cell_type": "code",
      "execution_count": null,
      "metadata": {
        "colab": {
          "base_uri": "https://localhost:8080/"
        },
        "id": "U9lrz2vR708t",
        "outputId": "a31ba2a1-4209-4a24-d3e2-c8583813ad1b"
      },
      "outputs": [
        {
          "data": {
            "text/plain": [
              "array([[-1.4899749 ,  0.47077498, -0.22727573, ..., -0.1635441 ,\n",
              "         0.08686002, -0.21068434],\n",
              "       [-1.4898361 ,  0.46430883,  0.6331469 , ..., -0.13600901,\n",
              "         0.15316674, -0.24108018],\n",
              "       [-0.05029662,  0.17465161,  0.9212896 , ..., -0.13314569,\n",
              "         0.12223015, -0.25017524],\n",
              "       ...,\n",
              "       [-0.3525786 , -2.0562143 , -0.08716274, ..., -0.12038459,\n",
              "         0.18916178, -0.14250538],\n",
              "       [ 0.6115156 ,  0.22457992, -0.08720664, ..., -0.2311714 ,\n",
              "         0.26518103, -0.10811824],\n",
              "       [-1.473618  ,  0.49086747, -1.7680341 , ..., -0.24405138,\n",
              "         0.13527094, -0.25338197]], dtype=float32)"
            ]
          },
          "execution_count": 85,
          "metadata": {},
          "output_type": "execute_result"
        }
      ],
      "source": [
        "rec_dataset.user_feature_matrix"
      ]
    },
    {
      "cell_type": "code",
      "execution_count": null,
      "metadata": {
        "id": "Uf5ipZQi8Mey"
      },
      "outputs": [],
      "source": [
        "scaled_features"
      ]
    },
    {
      "cell_type": "code",
      "execution_count": null,
      "metadata": {
        "colab": {
          "base_uri": "https://localhost:8080/",
          "height": 1000
        },
        "id": "v2G66iinM9Os",
        "outputId": "6ac9df71-e9a8-4cd1-c7d7-fbcbfc1c1a9c"
      },
      "outputs": [
        {
          "name": "stdout",
          "output_type": "stream",
          "text": [
            "Using CPU\n",
            "init ndcg: 0.21729920116914853\n"
          ]
        },
        {
          "name": "stderr",
          "output_type": "stream",
          "text": [
            "\r  0%|          | 0/22 [00:00<?, ?it/s]"
          ]
        },
        {
          "name": "stdout",
          "output_type": "stream",
          "text": [
            "epoch 0:  training loss:  0.40162122\n"
          ]
        },
        {
          "name": "stderr",
          "output_type": "stream",
          "text": [
            "\r  5%|▍         | 1/22 [01:26<30:25, 86.95s/it]"
          ]
        },
        {
          "name": "stdout",
          "output_type": "stream",
          "text": [
            "epoch 0:  training loss:  0.40162122 NDCG_validation:  0.518767618960749\n",
            "epoch 1:  training loss:  0.29033178\n"
          ]
        },
        {
          "name": "stderr",
          "output_type": "stream",
          "text": [
            "\r  9%|▉         | 2/22 [02:54<29:05, 87.28s/it]"
          ]
        },
        {
          "name": "stdout",
          "output_type": "stream",
          "text": [
            "epoch 1:  training loss:  0.29033178 NDCG_validation:  0.7831377382781642\n",
            "epoch 2:  training loss:  0.20202112\n"
          ]
        },
        {
          "name": "stderr",
          "output_type": "stream",
          "text": [
            "\r 14%|█▎        | 3/22 [04:18<27:09, 85.76s/it]"
          ]
        },
        {
          "name": "stdout",
          "output_type": "stream",
          "text": [
            "epoch 2:  training loss:  0.20202112 NDCG_validation:  0.8066415312280758\n",
            "epoch 3:  training loss:  0.19153981\n"
          ]
        },
        {
          "name": "stderr",
          "output_type": "stream",
          "text": [
            "\r 18%|█▊        | 4/22 [05:42<25:31, 85.10s/it]"
          ]
        },
        {
          "name": "stdout",
          "output_type": "stream",
          "text": [
            "epoch 3:  training loss:  0.19153981 NDCG_validation:  0.8168875977122333\n",
            "epoch 4:  training loss:  0.18631265\n"
          ]
        },
        {
          "name": "stderr",
          "output_type": "stream",
          "text": [
            "\r 23%|██▎       | 5/22 [07:07<24:06, 85.06s/it]"
          ]
        },
        {
          "name": "stdout",
          "output_type": "stream",
          "text": [
            "epoch 4:  training loss:  0.18631265 NDCG_validation:  0.8204620732946293\n",
            "epoch 5:  training loss:  0.18198976\n"
          ]
        },
        {
          "name": "stderr",
          "output_type": "stream",
          "text": [
            "\r 27%|██▋       | 6/22 [08:33<22:46, 85.39s/it]"
          ]
        },
        {
          "name": "stdout",
          "output_type": "stream",
          "text": [
            "epoch 5:  training loss:  0.18198976 NDCG_validation:  0.8183587167160882\n",
            "epoch 6:  training loss:  0.17816614\n"
          ]
        },
        {
          "name": "stderr",
          "output_type": "stream",
          "text": [
            "\r 32%|███▏      | 7/22 [09:58<21:16, 85.11s/it]"
          ]
        },
        {
          "name": "stdout",
          "output_type": "stream",
          "text": [
            "epoch 6:  training loss:  0.17816614 NDCG_validation:  0.8252577812535682\n",
            "epoch 7:  training loss:  0.17419274\n"
          ]
        },
        {
          "name": "stderr",
          "output_type": "stream",
          "text": [
            "\r 36%|███▋      | 8/22 [11:26<20:06, 86.16s/it]"
          ]
        },
        {
          "name": "stdout",
          "output_type": "stream",
          "text": [
            "epoch 7:  training loss:  0.17419274 NDCG_validation:  0.8236450776130473\n",
            "epoch 8:  training loss:  0.1711764\n"
          ]
        },
        {
          "name": "stderr",
          "output_type": "stream",
          "text": [
            "\r 41%|████      | 9/22 [12:49<18:28, 85.23s/it]"
          ]
        },
        {
          "name": "stdout",
          "output_type": "stream",
          "text": [
            "epoch 8:  training loss:  0.1711764 NDCG_validation:  0.8337519065510582\n",
            "epoch 9:  training loss:  0.16788344\n"
          ]
        },
        {
          "name": "stderr",
          "output_type": "stream",
          "text": [
            "\r 45%|████▌     | 10/22 [14:13<16:56, 84.70s/it]"
          ]
        },
        {
          "name": "stdout",
          "output_type": "stream",
          "text": [
            "epoch 9:  training loss:  0.16788344 NDCG_validation:  0.8289140764205266\n",
            "epoch 10:  training loss:  0.16449448\n"
          ]
        },
        {
          "name": "stderr",
          "output_type": "stream",
          "text": [
            "\r 50%|█████     | 11/22 [15:35<15:24, 84.04s/it]"
          ]
        },
        {
          "name": "stdout",
          "output_type": "stream",
          "text": [
            "epoch 10:  training loss:  0.16449448 NDCG_validation:  0.8292038964372161\n",
            "epoch 11:  training loss:  0.16212685\n"
          ]
        },
        {
          "name": "stderr",
          "output_type": "stream",
          "text": [
            "\r 55%|█████▍    | 12/22 [16:58<13:56, 83.61s/it]"
          ]
        },
        {
          "name": "stdout",
          "output_type": "stream",
          "text": [
            "epoch 11:  training loss:  0.16212685 NDCG_validation:  0.8295061356746917\n",
            "epoch 12:  training loss:  0.15945852\n"
          ]
        },
        {
          "name": "stderr",
          "output_type": "stream",
          "text": [
            "\r 59%|█████▉    | 13/22 [18:21<12:30, 83.40s/it]"
          ]
        },
        {
          "name": "stdout",
          "output_type": "stream",
          "text": [
            "epoch 12:  training loss:  0.15945852 NDCG_validation:  0.8205631058084929\n",
            "epoch 13:  training loss:  0.1568663\n"
          ]
        },
        {
          "name": "stderr",
          "output_type": "stream",
          "text": [
            "\r 64%|██████▎   | 14/22 [19:44<11:05, 83.20s/it]"
          ]
        },
        {
          "name": "stdout",
          "output_type": "stream",
          "text": [
            "epoch 13:  training loss:  0.1568663 NDCG_validation:  0.8332601286093168\n",
            "epoch 14:  training loss:  0.15328637\n"
          ]
        },
        {
          "name": "stderr",
          "output_type": "stream",
          "text": [
            "\r 68%|██████▊   | 15/22 [21:06<09:41, 83.02s/it]"
          ]
        },
        {
          "name": "stdout",
          "output_type": "stream",
          "text": [
            "epoch 14:  training loss:  0.15328637 NDCG_validation:  0.8380844301933067\n",
            "epoch 15:  training loss:  0.14931992\n"
          ]
        },
        {
          "name": "stderr",
          "output_type": "stream",
          "text": [
            "\r 73%|███████▎  | 16/22 [22:31<08:22, 83.71s/it]"
          ]
        },
        {
          "name": "stdout",
          "output_type": "stream",
          "text": [
            "epoch 15:  training loss:  0.14931992 NDCG_validation:  0.845263335015199\n",
            "epoch 16:  training loss:  0.14695878\n"
          ]
        },
        {
          "name": "stderr",
          "output_type": "stream",
          "text": [
            "\r 77%|███████▋  | 17/22 [23:53<06:55, 83.19s/it]"
          ]
        },
        {
          "name": "stdout",
          "output_type": "stream",
          "text": [
            "epoch 16:  training loss:  0.14695878 NDCG_validation:  0.8407519828147306\n",
            "epoch 17:  training loss:  0.14481181\n"
          ]
        },
        {
          "name": "stderr",
          "output_type": "stream",
          "text": [
            "\r 82%|████████▏ | 18/22 [25:15<05:31, 82.84s/it]"
          ]
        },
        {
          "name": "stdout",
          "output_type": "stream",
          "text": [
            "epoch 17:  training loss:  0.14481181 NDCG_validation:  0.840004851324917\n",
            "epoch 18:  training loss:  0.142827\n"
          ]
        },
        {
          "name": "stderr",
          "output_type": "stream",
          "text": [
            "\r 86%|████████▋ | 19/22 [26:39<04:09, 83.15s/it]"
          ]
        },
        {
          "name": "stdout",
          "output_type": "stream",
          "text": [
            "epoch 18:  training loss:  0.142827 NDCG_validation:  0.8410130128993187\n",
            "epoch 19:  training loss:  0.1410582\n"
          ]
        },
        {
          "name": "stderr",
          "output_type": "stream",
          "text": [
            "\r 91%|█████████ | 20/22 [28:02<02:45, 82.94s/it]"
          ]
        },
        {
          "name": "stdout",
          "output_type": "stream",
          "text": [
            "epoch 19:  training loss:  0.1410582 NDCG_validation:  0.8305675978248238\n",
            "epoch 20:  training loss:  0.13957056\n"
          ]
        },
        {
          "name": "stderr",
          "output_type": "stream",
          "text": [
            "\r 95%|█████████▌| 21/22 [29:25<01:22, 82.89s/it]"
          ]
        },
        {
          "name": "stdout",
          "output_type": "stream",
          "text": [
            "epoch 20:  training loss:  0.13957056 NDCG_validation:  0.8421570868491798\n",
            "epoch 21:  training loss:  0.13747126\n"
          ]
        },
        {
          "name": "stderr",
          "output_type": "stream",
          "text": [
            "100%|██████████| 22/22 [30:49<00:00, 84.05s/it]"
          ]
        },
        {
          "name": "stdout",
          "output_type": "stream",
          "text": [
            "epoch 21:  training loss:  0.13747126 NDCG_validation:  0.8447096271656462\n"
          ]
        },
        {
          "name": "stderr",
          "output_type": "stream",
          "text": [
            "\n"
          ]
        },
        {
          "name": "stdout",
          "output_type": "stream",
          "text": [
            "\n",
            "ndcg_test:  0.8434295629152769\n"
          ]
        },
        {
          "data": {
            "image/png": "[encoded data removed]",
            "text/plain": [
              "<Figure size 432x288 with 1 Axes>"
            ]
          },
          "metadata": {},
          "output_type": "display_data"
        }
      ],
      "source": [
        "def train_base_recommendation():\n",
        "    losses_all=[]\n",
        "    ndcgs=[]\n",
        "    if gpu:\n",
        "        device = torch.device('cuda:%s' % cuda)\n",
        "    else:\n",
        "        device = 'cpu'\n",
        "    # Path(save_path).mkdir(parents=True, exist_ok=True)\n",
        "    # with open(os.path.join(save_path,dataset + \"_dataset_obj.pickle\"), 'wb') as outp:\n",
        "    #     pickle.dump(rec_dataset, outp, pickle.HIGHEST_PROTOCOL)\n",
        "\n",
        "    train_loader = DataLoader(dataset=UserItemInterDataset(rec_dataset.training_data, \n",
        "                                rec_dataset.user_feature_matrix, \n",
        "                                rec_dataset.item_feature_matrix),\n",
        "                          batch_size=64,\n",
        "                          shuffle=True)\n",
        "    model = BaseRecModel(len(rec_dataset.features)).to(device)\n",
        "    loss_fn = torch.nn.BCELoss()\n",
        "    optimizer = torch.optim.SGD(model.parameters(), lr=lr, weight_decay=weight_decay)\n",
        "\n",
        "    out_path = os.path.join(\"./logs\", dataset + \"_logs\")\n",
        "    Path(out_path).mkdir(parents=True, exist_ok=True)\n",
        "    \n",
        "    ndcg = compute_ndcg(rec_dataset.validation_data, \n",
        "            rec_dataset.user_feature_matrix, \n",
        "            rec_dataset.item_feature_matrix, \n",
        "            rec_k, \n",
        "            model, \n",
        "            device)\n",
        "    print('init ndcg:', ndcg)\n",
        "    for epoch in tqdm.trange(epochs):\n",
        "        model.train()\n",
        "        optimizer.zero_grad()\n",
        "        losses = []\n",
        "        # print(len(train_loader))\n",
        "        for user_behaviour_feature, item_aspect_feature, label in train_loader:\n",
        "            user_behaviour_feature = user_behaviour_feature.to(device)\n",
        "            item_aspect_feature = item_aspect_feature.to(device)\n",
        "            label = label.float().to(device)\n",
        "            out = model(user_behaviour_feature, item_aspect_feature).squeeze()\n",
        "            # print(out)\n",
        "            if len(out.size())==0:\n",
        "              continue\n",
        "            # print(user_behaviour_feature)\n",
        "            # print( item_aspect_feature)\n",
        "            loss = loss_fn(out, label)\n",
        "            loss.backward()\n",
        "            optimizer.step()\n",
        "            optimizer.zero_grad()\n",
        "            losses.append(loss.to('cpu').detach().numpy())\n",
        "            ave_train = np.mean(np.array(losses))\n",
        "            losses_all.append(ave_train)\n",
        "        print('epoch %d: ' % epoch, 'training loss: ', ave_train)\n",
        "      \n",
        "        # compute necg\n",
        "        if epoch % 1 == 0:\n",
        "            ndcg = compute_ndcg(rec_dataset.validation_data, \n",
        "            rec_dataset.user_feature_matrix, \n",
        "            rec_dataset.item_feature_matrix, \n",
        "            rec_k, \n",
        "            model, \n",
        "            device)\n",
        "            print('epoch %d: ' % epoch, 'training loss: ', ave_train, 'NDCG_validation: ', ndcg)\n",
        "\n",
        "            ndcgs.append(ndcg)\n",
        "    torch.save(model.state_dict(), os.path.join(save_path2, \"model_withoutTips.model\"))\n",
        "    ndcg_test = compute_ndcg(rec_dataset.test_data, \n",
        "            rec_dataset.user_feature_matrix, \n",
        "            rec_dataset.item_feature_matrix, \n",
        "            rec_k, \n",
        "            model, \n",
        "            device)\n",
        "    print('\\nndcg_test: ',ndcg_test)\n",
        "    # plt.xlabel('iterations')\n",
        "    # plt.ylabel('train_loss')\n",
        "    # plt.xticks(np.arange(0,len(losses_all),100))\n",
        "    # plt.plot(np.arange(0,len(losses_all)),losses_all)\n",
        "    # plt.show()\n",
        "\n",
        "    plt.xlabel('iterations')\n",
        "    plt.ylabel('validation_ndcg')\n",
        "    plt.xticks(np.arange(-2,len(ndcgs)+2,2))\n",
        "    plt.plot(np.arange(1,len(ndcgs)+1),ndcgs)\n",
        "    plt.show()\n",
        "    return rec_dataset\n",
        "\n",
        "\n",
        "if __name__ == \"__main__\":\n",
        "    torch.manual_seed(0)\n",
        "    np.random.seed(0)\n",
        "    if gpu:\n",
        "        os.environ[\"CUDA_VISIBLE_DEVICES\"] =cuda\n",
        "        print(\"Using CUDA\",cuda)\n",
        "    else:\n",
        "        print(\"Using CPU\")\n",
        "    rec_dataset=train_base_recommendation()"
      ]
    },
    {
      "cell_type": "markdown",
      "metadata": {
        "id": "GU5-lgWiKDV-"
      },
      "source": [
        "# Save Train and Test Data To File"
      ]
    },
    {
      "cell_type": "code",
      "execution_count": null,
      "metadata": {
        "id": "8XM1V8Hhskut"
      },
      "outputs": [],
      "source": [
        "training_data=[]\n",
        "for train_data in rec_dataset.training_data:\n",
        "  user=train_data[0]\n",
        "  item=train_data[1]\n",
        "  label=train_data[2]\n",
        "  user_id=rec_dataset.inv_user_name_dict[user]\n",
        "  item_id=rec_dataset.inv_item_name_dict[item]\n",
        "  training_data.append([user_id,item_id,label])"
      ]
    },
    {
      "cell_type": "code",
      "execution_count": null,
      "metadata": {
        "id": "htzdic-Y5qdN"
      },
      "outputs": [],
      "source": [
        "np.savetxt('training_data_2.txt', training_data, fmt='%s')\n",
        "b = np.loadtxt('training_data_2.txt',dtype=str)"
      ]
    },
    {
      "cell_type": "code",
      "execution_count": null,
      "metadata": {
        "id": "z63k8gEo-Cio"
      },
      "outputs": [],
      "source": [
        "import pickle\n",
        "pet_stats = {'name':\"\", 'int':1, 'bool':False}\n",
        "\n",
        "def pet_save(pet,name):\n",
        "    with open('{}_data_2.pickle'.format(name), 'wb') as f:\n",
        "        pickle.dump(pet, f, pickle.HIGHEST_PROTOCOL)\n",
        "\n",
        "def digimon_load():\n",
        "    with open('test_data.pickle', 'rb') as f:\n",
        "        return pickle.load(f)"
      ]
    },
    {
      "cell_type": "code",
      "execution_count": null,
      "metadata": {
        "id": "oEWe8RSEtkNV"
      },
      "outputs": [],
      "source": [
        "testing_data={}\n",
        "for ts_data in rec_dataset.test_data:\n",
        "  user=ts_data[0]\n",
        "  items=ts_data[1]\n",
        "  labels=ts_data[2]\n",
        "  # print(user , item, label)\n",
        "  user_id=rec_dataset.inv_user_name_dict[user]\n",
        "  items_id=[rec_dataset.inv_item_name_dict[item] for item in items]\n",
        "  testing_data[user_id]=[items_id,labels]"
      ]
    },
    {
      "cell_type": "code",
      "execution_count": null,
      "metadata": {
        "id": "fET26ltJwksQ"
      },
      "outputs": [],
      "source": [
        "pet_save(testing_data,'test')"
      ]
    },
    {
      "cell_type": "code",
      "execution_count": null,
      "metadata": {
        "id": "jfuHtKLav-kE"
      },
      "outputs": [],
      "source": [
        "validation_data={}\n",
        "for ts_data in rec_dataset.validation_data:\n",
        "  user=ts_data[0]\n",
        "  items=ts_data[1]\n",
        "  labels=ts_data[2]\n",
        "  # print(user , item, label)\n",
        "  user_id=rec_dataset.inv_user_name_dict[user]\n",
        "  items_id=[rec_dataset.inv_item_name_dict[item] for item in items]\n",
        "  validation_data[user_id]=[items_id,labels]"
      ]
    },
    {
      "cell_type": "code",
      "execution_count": null,
      "metadata": {
        "id": "EdpaQHRWwGVX"
      },
      "outputs": [],
      "source": [
        "pet_save(validation_data,'validation')"
      ]
    },
    {
      "cell_type": "markdown",
      "metadata": {
        "id": "u0lgiQZ-KKDy"
      },
      "source": [
        "# Generate Explanations"
      ]
    },
    {
      "cell_type": "code",
      "execution_count": null,
      "metadata": {
        "id": "4ucRyXRT4mzb"
      },
      "outputs": [],
      "source": [
        "dataset=\"yelp\"\n",
        "base_model_path=\"/content/drive/Shareddrives/Unlimited Drive | @LicenseMarket/Recommender/Yelp/\"\n",
        "gpu=True\n",
        "cuda='0'\n",
        "data_obj_path=\"/content/drive/Shareddrives/Unlimited Drive | @LicenseMarket/Recommender/Yelp/\"\n",
        "rec_k=5\n",
        "lam=100\n",
        "gam=0.5\n",
        "alp=0.2\n",
        "user_mask=False\n",
        "lr=0.4\n",
        "step=500\n",
        "mask_thresh=0.3\n",
        "test_num=-1\n",
        "# save_path=\"./explanation_objs/\""
      ]
    },
    {
      "cell_type": "code",
      "execution_count": null,
      "metadata": {
        "id": "snwXLWLePEmC"
      },
      "outputs": [],
      "source": [
        "import torch\n",
        "import pickle\n",
        "import os\n",
        "from pathlib import Path"
      ]
    },
    {
      "cell_type": "markdown",
      "metadata": {
        "id": "IC_P_74iOR-T"
      },
      "source": [
        "# User Perspective Features"
      ]
    },
    {
      "cell_type": "code",
      "execution_count": null,
      "metadata": {
        "id": "j03L6H5PA4bK"
      },
      "outputs": [],
      "source": [
        "import json\n",
        "import nltk"
      ]
    },
    {
      "cell_type": "code",
      "execution_count": null,
      "metadata": {
        "colab": {
          "base_uri": "https://localhost:8080/"
        },
        "id": "o93FnpHX60cX",
        "outputId": "af039049-7e83-421f-a31a-025aab71a15f"
      },
      "outputs": [
        {
          "output_type": "stream",
          "name": "stderr",
          "text": [
            "[nltk_data] Downloading package wordnet to /root/nltk_data...\n",
            "[nltk_data] Downloading package stopwords to /root/nltk_data...\n",
            "[nltk_data]   Unzipping corpora/stopwords.zip.\n",
            "[nltk_data] Downloading package punkt to /root/nltk_data...\n",
            "[nltk_data]   Unzipping tokenizers/punkt.zip.\n",
            "[nltk_data] Downloading package averaged_perceptron_tagger to\n",
            "[nltk_data]     /root/nltk_data...\n",
            "[nltk_data]   Unzipping taggers/averaged_perceptron_tagger.zip.\n"
          ]
        }
      ],
      "source": [
        "nltk.download('wordnet')\n",
        "nltk.download('stopwords')\n",
        "nltk.download('punkt')\n",
        "nltk.download('averaged_perceptron_tagger')\n",
        "def lemmatization(text):\n",
        "    result=''\n",
        "    wordnet = WordNetLemmatizer()\n",
        "    for token,tag in pos_tag(text):\n",
        "        pos=tag[0].lower()\n",
        "        if pos not in ['a', 'r', 'n', 'v']:\n",
        "            pos='n'\n",
        "        # if pos in ['n','a']:   \n",
        "        result+=wordnet.lemmatize(token,pos)+' '\n",
        "    return result\n",
        "def remove_stopwords(text):\n",
        "    en_stopwords = stopwords.words('english')\n",
        "    en_stopwords+=['may','could','that','without','iii','with','and','This','That','Those','These','the','The','brbr','so','it','such']\n",
        "    result = []\n",
        "    for token in text:\n",
        "        if token not in en_stopwords:\n",
        "            result.append(token)\n",
        "            \n",
        "    return result\n",
        "def remove_punct(text):\n",
        "    tokenizer = RegexpTokenizer(r\"\\w+\")\n",
        "    lst=tokenizer.tokenize(' '.join(text))\n",
        "    return lst\n",
        "\n",
        "def remove_tag(text):\n",
        "    text=' '.join(text)\n",
        "    html_pattern = re.compile('<.*?>')\n",
        "    return html_pattern.sub(r'', text)\n",
        "def remove_urls(text):\n",
        "    url_pattern = re.compile(r'https?://\\S+|www\\.\\S+')\n",
        "    return url_pattern.sub(r'', text)\n",
        "\n",
        "def preprocess(text):\n",
        "  chars=['&','%','#','@','^','>','<','\\n','\\\\','\\t',';','\"','/']\n",
        "  stwords=stopwords.words('english')\n",
        "  for ch in chars:\n",
        "    text=text.replace(ch,' ')\n",
        "  text=\" \".join(text.split())\n",
        "  # text=text.lower()\n",
        "  text_tokenized=word_tokenize(text)\n",
        "  cleaned_text= remove_stopwords(text_tokenized)\n",
        "  cleaned_text= remove_punct(cleaned_text)\n",
        "  # cleaned_text=lemmatization(cleaned_text)\n",
        "  cleaned_text=remove_tag(cleaned_text)\n",
        "  cleaned_text=remove_urls(cleaned_text)\n",
        "  cleaned_text=''.join([i for i in cleaned_text ])\n",
        "  cleaned_text=[word for word in cleaned_text.split(' ') if len(word)>1]\n",
        "  # print(cleaned_text)\n",
        "  return ' '.join(cleaned_text)"
      ]
    },
    {
      "cell_type": "code",
      "execution_count": null,
      "metadata": {
        "id": "NtlEHpkN-lCe"
      },
      "outputs": [],
      "source": [
        "def preprocess_text_first(text):\n",
        "  while '<' in text and '>' in text and text.index('<')<text.index('>'):\n",
        "    toRemove=text[int(text.index('<')):int(text.index('>'))]+'>'\n",
        "    text=text.replace(toRemove,' ')\n",
        "  list_to_replace=['mso','gte','xml','false','#',',','!','-','\\'','\\\"','[',']','/','\\\\n','\\\\','span','a-size-base','a-color-secondary','input type','header name','value','=','<a href= javascript:void(0) class= ','{','}','class=','header','<a href= javascript:void(0)','<','>','href',')','(',';','quot','&',':','javascript']\n",
        "  for char in list_to_replace:\n",
        "    text=text.replace(char,' ')\n",
        "  for i in range(15):\n",
        "    text=text.replace('  ',' ')\n",
        "  # while 'if' in text and 'endif' in text and text.index('if')<text.index('endif'):\n",
        "  #   # print(int(text.index('if')),int(text.index('endif')))\n",
        "  #   toRemove=text[int(text.index('if')):int(text.index('endif'))]+'endif'\n",
        "  #   text=text.replace(toRemove,' ')\n",
        "  new_text=''\n",
        "  for word in text.split(' '):\n",
        "    if len(word)>1 and len(word)<35:\n",
        "      new_text+=word+' '\n",
        "  # new_text=lemmatization(new_text)\n",
        "  # print(new_text)\n",
        "  return new_text"
      ]
    },
    {
      "cell_type": "code",
      "execution_count": null,
      "metadata": {
        "colab": {
          "base_uri": "https://localhost:8080/"
        },
        "id": "dQRrvFS4cifS",
        "outputId": "b127564a-4c9e-4917-bcc0-edd8c5134c92"
      },
      "outputs": [
        {
          "output_type": "stream",
          "name": "stdout",
          "text": [
            "0\n",
            "100000\n",
            "200000\n",
            "300000\n",
            "400000\n",
            "500000\n",
            "1Xw_npZXLcsWBvlLYCiW_A fKrmWy4GFsrgdOYhN9pyZA\n",
            "600000\n",
            "700000\n",
            "800000\n",
            "900000\n",
            "1000000\n",
            "1100000\n",
            "1200000\n",
            "1300000\n"
          ]
        }
      ],
      "source": [
        "items_list1=[]\n",
        "users_list=[]\n",
        "review_features={}\n",
        "f=open(save_path+'Yelp')\n",
        "lines=f.readlines()\n",
        "i=0\n",
        "for line in lines:\n",
        "  if i%100000==0:\n",
        "    print(i)\n",
        "  i+=1\n",
        "  user_id = line.split('@')[0]\n",
        "  item_id = line.split('@')[1]\n",
        "  # if item_id in items_list:\n",
        "  users_list.append(user_id)\n",
        "  items_list1.append(item_id)\n",
        "  l = len(user_id) + len(item_id)\n",
        "  fosr_data = line[l+3:]\n",
        "  for seg in fosr_data.split('||'):\n",
        "    if (user_id,item_id) not in review_features.keys():\n",
        "      review_features[(user_id,item_id)]=[]\n",
        "    fos = seg.split(':')[0].strip('|')\n",
        "    if len(fos.split('|')) > 1:\n",
        "          feature = fos.split('|')[0]\n",
        "          opinion = fos.split('|')[1]\n",
        "          sentiment = fos.split('|')[2]\n",
        "          sentence= seg.split(':')[1]\n",
        "          if sentiment=='+1':\n",
        "            senti=1\n",
        "          else:\n",
        "            senti=-1\n",
        "          review_features[(user_id,item_id)].append([feature,opinion,senti,sentence])\n",
        "    else:\n",
        "      print(user_id,item_id)"
      ]
    },
    {
      "cell_type": "code",
      "execution_count": null,
      "metadata": {
        "colab": {
          "base_uri": "https://localhost:8080/"
        },
        "id": "0mMqEqC-0iaf",
        "outputId": "d7fd35f7-7141-4f8c-bb82-0949f7fa83c8"
      },
      "outputs": [
        {
          "output_type": "stream",
          "name": "stdout",
          "text": [
            "1130440\n"
          ]
        }
      ],
      "source": [
        "print(len(review_features))"
      ]
    },
    {
      "cell_type": "code",
      "execution_count": null,
      "metadata": {
        "colab": {
          "base_uri": "https://localhost:8080/"
        },
        "id": "Vqg-cDlQFqIx",
        "outputId": "5284533f-c9cf-40ad-a48d-f754e059bf0a"
      },
      "outputs": [
        {
          "output_type": "stream",
          "name": "stdout",
          "text": [
            "0\n",
            "50000\n",
            "100000\n",
            "150000\n",
            "200000\n",
            "250000\n",
            "300000\n",
            "350000\n",
            "400000\n",
            "450000\n",
            "500000\n",
            "550000\n",
            "600000\n",
            "650000\n",
            "700000\n",
            "750000\n",
            "800000\n",
            "850000\n",
            "900000\n",
            "950000\n",
            "1000000\n",
            "1050000\n",
            "1100000\n"
          ]
        }
      ],
      "source": [
        "user_test_perspective={}\n",
        "i=0\n",
        "for (user_id , item_id) in review_features.keys():\n",
        "  review_feature=review_features[(user_id,item_id)]\n",
        "  if i%50000==0:\n",
        "    print(i)\n",
        "  i+=1\n",
        "  for features in review_feature:\n",
        "    sentence=features[3]\n",
        "    sentence=preprocess_text_first(sentence)\n",
        "    sentence=preprocess(sentence).lower()\n",
        "    if (user_id , item_id) not in user_test_perspective.keys():\n",
        "      final_vect=[]\n",
        "    final_vect+=sentence.split(' ')\n",
        "    for word in sentence.split(' '):\n",
        "      # tokens=list(set(df_words[df_words['word']==word]['tokenized'].values))\n",
        "      # for token in tokens:\n",
        "        final_vect+=word.split(' ')\n",
        "    final_vect=list(set(final_vect))\n",
        "    new_final_vect=[]\n",
        "    for word in final_vect:\n",
        "      if len(word)>1:\n",
        "        new_final_vect.append(word)\n",
        "    user_test_perspective[(user_id , item_id)]=new_final_vect"
      ]
    },
    {
      "cell_type": "markdown",
      "source": [
        "# Train Explanation Generation Model..."
      ],
      "metadata": {
        "id": "mkGi7a4FL-wW"
      }
    },
    {
      "cell_type": "code",
      "execution_count": null,
      "metadata": {
        "id": "Bp4cMNYcPIFm"
      },
      "outputs": [],
      "source": [
        "temp_min =1.0\n",
        "ANNEAL_RATE = 0.00003\n",
        "class ExpOptimizationModel(torch.nn.Module):\n",
        "    def __init__(self, base_model, rec_dataset, device):\n",
        "        super(ExpOptimizationModel, self).__init__()\n",
        "        self.base_model = base_model\n",
        "        self.rec_dataset = rec_dataset\n",
        "        self.device = device\n",
        "        self.u_i_exp_dict = {}  # {(user, item): [f1, f2, f3 ...], ...}\n",
        "        self.user_feature_matrix = torch.from_numpy(self.rec_dataset.user_feature_matrix).to(self.device)\n",
        "        self.item_feature_matrix = torch.from_numpy(self.rec_dataset.item_feature_matrix).to(self.device)\n",
        "        self.rec_dict, self.user_perspective_test_data = self.generate_rec_dict()\n",
        "        self.dict_items_cf_feature={}\n",
        "\n",
        "    def generate_rec_dict(self):\n",
        "        rec_dict = {}\n",
        "        correct_rec_dict = {}  # used for user-side evaluation\n",
        "        for row in self.rec_dataset.test_data:\n",
        "            user = row[0]\n",
        "            items = row[1]\n",
        "            labels = row[2]\n",
        "            # items1=[]\n",
        "            # labels1=[]\n",
        "            user_id=rec_dataset.inv_user_name_dict[user]\n",
        "            for j in range(len(items)):\n",
        "                item=items[j]\n",
        "                label=labels[j]\n",
        "                item_id=rec_dataset.inv_item_name_dict[item]    \n",
        "                # if (user_id,item_id) in user_test_perspective.keys():\n",
        "                #   items1.append(item)\n",
        "                #   labels1.append(label)\n",
        "            correct_rec_dict[user] = []\n",
        "            user_features = self.user_feature_matrix[user].repeat(len(items), 1)\n",
        "            scores = self.base_model(user_features,\n",
        "                        self.item_feature_matrix[items]).squeeze()\n",
        "            scores = np.array(scores.to('cpu'))\n",
        "            # print(scores)\n",
        "            sort_index = sorted(range(len(scores)), key=lambda k: scores[k], reverse=True)\n",
        "            \n",
        "            sorted_items = [items[i] for i in sort_index]\n",
        "            # print(sorted_items)\n",
        "            # print(np.sort(scores))\n",
        "            rec_dict[user] = sorted_items\n",
        "            for i in range(rec_k):  # find the correct items and add to the user side test data\n",
        "                # print(len(labels1))\n",
        "                # print(len(labels))\n",
        "                # print(sort_index[i])\n",
        "                if labels[sort_index[i]] == 1:\n",
        "                    correct_rec_dict[user].append(items[sort_index[i]])\n",
        "\n",
        "        user_perspective_test_data = {}  # {(u, i):f, (u, i): f]}\n",
        "        # for user, items in correct_rec_dict.items():\n",
        "        #     for item in items:\n",
        "        #         user_id=rec_dataset.inv_user_name_dict[user]\n",
        "        #         item_id=rec_dataset.inv_item_name_dict[item]\n",
        "        #         if (user_id,item_id) in user_test_perspective.keys():\n",
        "        #           feature = user_test_perspective[(user_id, item_id)]\n",
        "        #           user_perspective_test_data[(user, item)] = feature\n",
        "        return rec_dict, user_perspective_test_data\n",
        "    def user_side_evaluation(self):\n",
        "        ave_pre, ave_rec, ave_f1 = evaluate_user_perspective(self.user_perspective_test_data, self.u_i_exp_dict)\n",
        "        print('user\\'s perspective:')\n",
        "        print('ave pre: ', ave_pre, '  ave rec: ', ave_rec, '  ave f1: ', ave_f1)\n",
        "        return ave_pre,ave_rec,ave_f1\n",
        "    \n",
        "    def model_side_evaluation(self):\n",
        "        ave_pn, ave_ps, ave_fns = evaluate_model_perspective(\n",
        "            self.rec_dict,\n",
        "            self.u_i_exp_dict,\n",
        "            self.base_model,\n",
        "            self.rec_dataset.user_feature_matrix,\n",
        "            self.rec_dataset.item_feature_matrix,\n",
        "            rec_k,\n",
        "            self.dict_items_cf_feature,\n",
        "            self.device)\n",
        "        print('model\\'s perspective:')\n",
        "        print('ave PN: ', ave_pn, '  ave PS: ', ave_ps, '  ave F_{NS}: ', ave_fns)  \n",
        "        return ave_pn , ave_ps , ave_fns\n",
        "    def generate_explanation(self,lr,temp,a,b,c):\n",
        "        # u_i_exps_dict = {}  # {(user, item): [f1, f2, f3 ...], ...}\n",
        "        exp_nums = []\n",
        "        exp_complexities = []\n",
        "        self.no_exp_count = 0\n",
        "        self.exp_count=0\n",
        "        if test_num == -1:\n",
        "            test_num1 = len(list(self.rec_dict.items()))\n",
        "        else:\n",
        "            test_num1 = test_num\n",
        "        count=0\n",
        "        for user, items in tqdm.tqdm(list(self.rec_dict.items())[:10]):\n",
        "            count+=1\n",
        "            # if count<200:\n",
        "            #   continue\n",
        "            # if count==2:\n",
        "            #   break\n",
        "            items = self.rec_dict[user]\n",
        "            margin_item = items[rec_k]\n",
        "            margin_score = self.base_model(self.user_feature_matrix[user].unsqueeze(0), \n",
        "                            self.item_feature_matrix[margin_item].unsqueeze(0)).squeeze()\n",
        "            # print('margin_score:',margin_score)\n",
        "            if margin_score>0:\n",
        "            # if user_mask:\n",
        "            #     # mask_vec = self.generate_mask(user)\n",
        "            #     mask_vec = torch.where(self.user_feature_matrix[user]>0, 1., 0.).unsqueeze(0)  # only choose exps from the user cared aspects\n",
        "            # else:\n",
        "                \n",
        "              for item in items[: rec_k]:\n",
        "                  item_id=rec_dataset.inv_item_name_dict[item]\n",
        "                  # print(item_id)\n",
        "                  \n",
        "                  main_score = self.base_model(self.user_feature_matrix[user].unsqueeze(0), \n",
        "                              self.item_feature_matrix[item].unsqueeze(0)).squeeze()\n",
        "                  # print('main_score:',main_score)\n",
        "                  # print(self.item_feature_matrix[item])\n",
        "                  # tensor_vect_desc,tensor_vect_title,tensor_vect_feature=get_tensor_vects(item_id)\n",
        "                  # self.dict_items_cf_feature[item]=(tensor_vect_desc,tensor_vect_title,tensor_vect_feature)\n",
        "                  # print(tensor_vect_desc.shape)\n",
        "                  # print(tensor_vect_title.shape)\n",
        "                  # print(tensor_vect_feature.shape)\n",
        "                  explanation_features,exp_num = self.explain(user,item,\n",
        "                      self.user_feature_matrix[user], \n",
        "                      self.item_feature_matrix[item], \n",
        "                      margin_score,\n",
        "                      lr, temp,a,b,c)\n",
        "                  # or (len(explanation_features[0][0])<3 and len(explanation_features[2][0])==0)\n",
        "                  if explanation_features==None or len(explanation_features)==0 :\n",
        "                      # print('no explanation for user %d and item %d' % (user, item))\n",
        "                      self.no_exp_count += 1\n",
        "                  else:\n",
        "                      self.exp_count+=1\n",
        "                      self.u_i_exp_dict[(user, item)] = explanation_features\n",
        "                      # print(explanation_features_words)\n",
        "                      exp_nums.append(exp_num)\n",
        "                      # exp_complexities.append(exp_complexity)\n",
        "              # if count%500==0:\n",
        "              #   json1 = json.dumps(self.u_i_exp_dict)\n",
        "              #   f = open(\"drive/MyDrive/ranjbar/dict{}.json\".format(count),\"w\")\n",
        "              #   f.write(json1)\n",
        "              #   f.close()\n",
        "\n",
        "              \n",
        "        print('ave num: ', np.mean(exp_nums),  'no_exp_count: ', self.no_exp_count, 'exp_count: ', self.exp_count)\n",
        "        return  np.mean(exp_nums), self.no_exp_count,  self.exp_count\n",
        "    \n",
        "    def explain(self,user,item, user_feature, item_feature, margin_score, lr, temp,a, b, c):\n",
        "        self.exp_generator = EXPGenerator(\n",
        "            self.rec_dataset, \n",
        "            self.base_model, \n",
        "            user_feature, \n",
        "            item_feature, \n",
        "            user,\n",
        "            item,\n",
        "            margin_score,\n",
        "            self.device).to(self.device)\n",
        "        # optimization\n",
        "        optimizer = torch.optim.SGD(self.exp_generator.parameters(), lr=lr, weight_decay=0)\n",
        "        self.exp_generator.train()\n",
        "        lowest_loss = None\n",
        "        lowest_bpr = None\n",
        "        optimized_pi1= None\n",
        "        optimized_pi2= None\n",
        "        # optimized_pi3= None\n",
        "        optimized_delta= None\n",
        "        explanation_features_words_replaced=[]\n",
        "        # temp=1.0\n",
        "        score = self.exp_generator(temp)\n",
        "        # print(score)\n",
        "        bpr, l11,l12,l14,l2,main_loss = self.exp_generator.loss(a,b,c,score)\n",
        "        # print('init: ', 0, '  train loss: ', loss, '  bpr: ', bpr, '  l2: ', l2, '  l1: ', l1)\n",
        "        lowest_loss = main_loss\n",
        "        lowest_bpr=bpr\n",
        "        optimize_pi1 = self.exp_generator.pi1\n",
        "        optimize_pi2 = self.exp_generator.pi2\n",
        "        # optimize_pi3 = self.exp_generator.pi3\n",
        "        optimize_delta = self.exp_generator.delta\n",
        "\n",
        "        for epoch in range(step):\n",
        "            self.exp_generator.zero_grad()\n",
        "            score = self.exp_generator(temp)\n",
        "            bpr, l11,l12,l14,l2,main_loss = self.exp_generator.loss(a,b,c,score)\n",
        "            # break\n",
        "            if epoch %10==0:\n",
        "               temp = np.minimum(temp * np.exp(-ANNEAL_RATE * epoch), temp)\n",
        "            # if epoch %100 == 0:\n",
        "            #    print(\n",
        "            #         'temp',temp,\n",
        "            #         'epoch', epoch,\n",
        "            #         'bpr: ', bpr,\n",
        "            #         'loss', main_loss,\n",
        "            #          'l11',l11,\n",
        "            #          'l12',l12,\n",
        "            #         #  'l13',l13,\n",
        "            #          'l14',l14,\n",
        "            #          'l2',l2\n",
        "            #          )\n",
        "\n",
        "            main_loss.backward(retain_graph=True)\n",
        "            # bpr.backward(retain_graph=True)\n",
        "            # l1.backward(retain_graph=True)\n",
        "\n",
        "            optimizer.step()\n",
        "            if main_loss < lowest_loss:\n",
        "                lowest_loss = main_loss\n",
        "                lowest_bpr = bpr\n",
        "                optimize_pi1 = self.exp_generator.pi1\n",
        "                optimize_pi2 = self.exp_generator.pi2\n",
        "                # optimize_pi3 = self.exp_generator.pi3\n",
        "                optimize_delta = self.exp_generator.delta\n",
        "        # print(lowest_bpr)\n",
        "        # print(lam * alp)\n",
        "        # print(optimize_delta)\n",
        "        if lowest_bpr >= a * alp:\n",
        "            explanation_features_continues = None \n",
        "            exp_num = None\n",
        "            exp_complexity = None\n",
        "            explanation_features=None\n",
        "            explanation_features_replaced=None\n",
        "        else:\n",
        "            # optimize_delta = self.exp_generator.delta.detach().to('cpu').numpy()\n",
        "            # print(optimize_delta)\n",
        "            new_features_not_scaled=[]\n",
        "            item_feature1 = torch.clamp(\n",
        "            (self.exp_generator.continues_features_values[0] +torch.clamp(optimize_delta[0],-0.00001,0.00001)),\n",
        "             torch.tensor(self.exp_generator.min_feature1).to(device), torch.tensor(self.exp_generator.max_feature1).to(device))\n",
        "            item_feature2 = torch.clamp(\n",
        "            (self.exp_generator.continues_features_values[1] +torch.clamp(optimize_delta[1],-0.00001,0.00001)),\n",
        "             torch.tensor(self.exp_generator.min_feature2).to(device), torch.tensor(self.exp_generator.max_feature2).to(device))\n",
        "            \n",
        "            # explanation_features = np.argwhere(np.abs(optimize_delta.detach().to('cpu').numpy()) > 0.00001 ).squeeze(axis=1)\n",
        "            # print(explanation_features)\n",
        "            # print(self.exp_generator.main_pi1.shape)\n",
        "            # print(torch.argmax(self.exp_generator.main_pi1,axis=1))\n",
        "            # print(torch.argmax(self.exp_generator.main_pi1,axis=1))\n",
        "            # print(self.exp_generator.main_pi1)\n",
        "            # print(optimize_pi1)\n",
        "\n",
        "            features_inds1=torch.argmax(self.exp_generator.main_pi1,axis=1)\n",
        "            new_features_inds1=torch.argmax(optimize_pi1,axis=1)\n",
        "\n",
        "            # features_inds2=torch.argmax(self.exp_generator.main_pi2,axis=1)\n",
        "            # new_features_inds2=torch.argmax(optimize_pi2,axis=1)\n",
        "\n",
        "            features_inds2=torch.argmax(self.exp_generator.main_pi2,axis=1)\n",
        "            new_features_inds2=torch.argmax(optimize_pi2,axis=1)\n",
        "            # print(self.exp_generator.main_pi1)\n",
        "            # print(optimize_pi1)\n",
        "            inds1=torch.where(new_features_inds1!=features_inds1)[0]\n",
        "            inds2=torch.where(new_features_inds2!=features_inds2)[0]\n",
        "            # print(features_inds3)\n",
        "            # print(new_features_inds3)\n",
        "            # print(inds3)\n",
        "            col_names = ['latitude','longitude']\n",
        "            y_new=[item_feature1.detach().to('cpu').numpy(),item_feature2.detach().to('cpu').numpy()]\n",
        "            for ind in inds1:\n",
        "              # print('attribute:',all_attributes[ind])\n",
        "              col_names.append(all_attributes[ind])\n",
        "              y_new.append(self.exp_generator.attributes_matrix[new_features_inds1[ind]][ind].detach().to('cpu').numpy())\n",
        "              # print('old_value:',self.exp_generator.attributes_matrix[features_inds1[ind]][ind])\n",
        "              # print('new_value:',self.exp_generator.attributes_matrix[new_features_inds1[ind]][ind])\n",
        "            # for ind in inds2:\n",
        "              # print('category: ',all_categories[ind])\n",
        "              # print('old_value:',self.exp_generator.categories_matrix[features_inds2[ind]][ind])\n",
        "              # print('new_value:',self.exp_generator.categories_matrix[new_features_inds2[ind]][ind])\n",
        "            for ind in inds2:\n",
        "              # print(all_days_hours)\n",
        "              # print('day_hour: ',all_days_hours[ind])\n",
        "              col_names.append(all_days_hours[ind])\n",
        "              y_new.append(self.exp_generator.days_hours_matrix[new_features_inds2[ind]][ind].detach().to('cpu').numpy())\n",
        "              # print('old_value:',self.exp_generator.days_hours_matrix[features_inds2[ind]][ind])\n",
        "              # print('new_value:',self.exp_generator.days_hours_matrix[new_features_inds2[ind]][ind])\n",
        "\n",
        "            new_features_not_scaled+=y_new\n",
        "            features = business_df[col_names]\n",
        "            scaler = preprocessing.StandardScaler().fit(features.values)\n",
        "            new_features = scaler.inverse_transform(np.array(y_new).reshape(1,-1))\n",
        "            old_features = business_df[business_df['business_id']==rec_dataset.inv_item_name_dict[item]][col_names]\n",
        "            # print(old_features)\n",
        "            # print(new_features[0])\n",
        "\n",
        "            explanation_features=[[old_features,new_features[0]],new_features_not_scaled]\n",
        "\n",
        "            # main_features_tips=self.exp_generator.features_tips\n",
        "            # new_features_inds3=torch.argmax(optimize_pi3,axis=1)\n",
        "            # # print(torch.sort(optimize_pi))\n",
        "            # # print(torch.sort(exp_generator.pi))\n",
        "            # # print(torch.sort(exp_generator.main_pi))\n",
        "            # new_features3=[self.exp_generator.replaced_words[i] for i in new_features_inds3]\n",
        "            # # print(main_features)\n",
        "            # # print(new_features)\n",
        "            # explanation_features_words= [main_features_tips[i] for i in range(len(main_features_tips)) if main_features_tips[i] != new_features3[i]]\n",
        "            # explanation_features_words_replaced=[new_features3[i] for i in range(len(main_features_tips)) if main_features_tips[i] != new_features3[i]]\n",
        "            # print(torch.sort(optimize_pi))\n",
        "            # print(torch.sort(exp_generator.pi))\n",
        "            # print(torch.sort(exp_generator.main_pi))\n",
        "            # new_features=[self.exp_generator.replaced_words[i] for i in new_features_inds]\n",
        "            # print(main_features)\n",
        "            # print(new_features)\n",
        "            # explanation_features_words= [main_features[i] for i in range(len(main_features)) if main_features[i] != new_features[i]]\n",
        "            # explanation_features_words_replaced=[new_features[i] for i in range(len(main_features)) if main_features[i] != new_features[i]]\n",
        "            # print([main_features[i].tolist() for i in explanation_features_inds[0]])\n",
        "            # print(new_features[explanation_features_inds[0]])\n",
        "            # print(main_features[explanation_features_inds[0]])\n",
        "            \n",
        "            # explanation_features_words=main_features[explanation_features_inds[0]]\n",
        "            # print(explanation_features_words)\n",
        "            # print(explanation_features_words_replaced)\n",
        "            # explanation_features.append([explanation_features_words,explanation_features_words_replaced])\n",
        "            # print('-------------\\n')\n",
        "            # new_vect=[]\n",
        "            # for word in explanation_features_words:\n",
        "            #   new_vect+=(str(word).split(' '))\n",
        "            # new_vect=list(set(new_vect))\n",
        "            # new_vect=[word for word in new_vect if len(word)>1]\n",
        "            # explanation_features_words=new_vect\n",
        "            exp_num = len(explanation_features[0][1])\n",
        "            # exp_complexity = lowest_l2.to('cpu').detach().numpy() + gam * exp_num\n",
        "        return explanation_features,exp_num\n",
        "    \n"
      ]
    },
    {
      "cell_type": "code",
      "execution_count": null,
      "metadata": {
        "id": "qQENHty-VDpP"
      },
      "outputs": [],
      "source": [
        "def get_all_logits(len_features,df_desc,main_words):\n",
        "  len_words=len(main_words)\n",
        "  all_logits=np.zeros((len_words,len_features))\n",
        "  j=0\n",
        "  len_desc=0\n",
        "  for i, row in df_desc.iterrows():\n",
        "    len_desc+=1\n",
        "    if row['word'] != main_words[j]:\n",
        "      j+=1\n",
        "    all_logits[j][i]=row['logit']\n",
        "  \n",
        "  return all_logits"
      ]
    },
    {
      "cell_type": "code",
      "execution_count": null,
      "metadata": {
        "id": "F0G_l9dYUOMK"
      },
      "outputs": [],
      "source": [
        "def get_replaced_words_vects(item_id):\n",
        "    replaced_words=[]\n",
        "    replaced_logits=[]\n",
        "    replaced_vects=[]\n",
        "    words_indices=[]\n",
        "    main_words=[]\n",
        "    i=0\n",
        "\n",
        "    df_vect_desc_item= pd.read_json(save_path+'tips_bert_items_dfs/'+'{}.json'.format(item_id))\n",
        "    replaced_words_desc=df_vect_desc_item['replaced_word'].values\n",
        "    vects_desc=df_vect_desc_item['vect'].values\n",
        "    replaced_words=list(replaced_words_desc)\n",
        "\n",
        "    vects1=[sub_list for sub_list in  vects_desc]\n",
        "    replaced_vects=vects1\n",
        "    replaced_vects=torch.FloatTensor(replaced_vects).to(device)\n",
        "\n",
        "    df_vect_desc_item1=df_vect_desc_item.copy()\n",
        "    df_vect_desc_item1['main_word']=np.where(df_vect_desc_item1['replaced_word'] == df_vect_desc_item1['word'],1,0)\n",
        "    df_vect_desc_item1=df_vect_desc_item1[df_vect_desc_item1['main_word']==1]\n",
        "    if df_vect_desc_item1.empty:\n",
        "      df_vect_desc_item1=df_vect_desc_item.copy()\n",
        "      df_vect_desc_item1['main_word']=np.where(df_vect_desc_item1['logit']==5.0,1,0)\n",
        "      df_vect_desc_item1=df_vect_desc_item1[df_vect_desc_item1['main_word']==1]\n",
        "    if df_vect_desc_item1.empty:\n",
        "      df_vect_desc_item1=df_vect_desc_item.copy()\n",
        "      df_vect_desc_item1['main_word']=np.where(df_vect_desc_item1['logit']==12.0,1,0)\n",
        "      df_vect_desc_item1=df_vect_desc_item1[df_vect_desc_item1['main_word']==1]\n",
        "    indexes=df_vect_desc_item1.index\n",
        "    main_words=list(df_vect_desc_item1['word'].values)\n",
        "    for ind in indexes:\n",
        "      words_indices.append(i+ind)\n",
        "    i=df_vect_desc_item.shape[0]\n",
        "    \n",
        "    replaced_logits= get_all_logits(len(replaced_words),df_vect_desc_item,main_words)\n",
        "    final_logits_tensor=torch.FloatTensor(replaced_logits).to(device)\n",
        "    return replaced_words,replaced_vects,final_logits_tensor,words_indices"
      ]
    },
    {
      "cell_type": "code",
      "execution_count": null,
      "metadata": {
        "id": "rDmnr96MWlXn"
      },
      "outputs": [],
      "source": [
        "def get_new_item_vector(replaced_vects,item,item_feature_name,pi):\n",
        "    # print(pi.shape)\n",
        "    # print(replaced_vects)\n",
        "    # print(pi)\n",
        "    final_vector=torch.mm(pi,replaced_vects)\n",
        "    desc_vect=final_vector\n",
        "\n",
        "    if len(desc_vect)>0:\n",
        "      average_descriptions=torch.mean(desc_vect,axis=0).to(device)\n",
        "    else:\n",
        "      average_descriptions=torch.zeros(768).to(device)\n",
        "    # print(final_vector)\n",
        "    # final_vect=np.array(final_vector, dtype='float32')\n",
        "    return average_descriptions"
      ]
    },
    {
      "cell_type": "code",
      "execution_count": null,
      "metadata": {
        "colab": {
          "base_uri": "https://localhost:8080/"
        },
        "id": "IOqQndrZihzY",
        "outputId": "684edddb-38f0-48dc-c51d-fd311ad21036"
      },
      "outputs": [
        {
          "data": {
            "text/plain": [
              "3.015325457098988"
            ]
          },
          "execution_count": 86,
          "metadata": {},
          "output_type": "execute_result"
        }
      ],
      "source": [
        "scaled_features['latitude'].max()"
      ]
    },
    {
      "cell_type": "code",
      "execution_count": null,
      "metadata": {
        "id": "oQ-IFon4P5O4"
      },
      "outputs": [],
      "source": [
        "from matplotlib.transforms import ScaledTranslation\n",
        "class EXPGenerator(torch.nn.Module):\n",
        "    def __init__(self, rec_dataset, base_model, user_vect, item_vect,user,item, margin_score, device):\n",
        "        super(EXPGenerator, self).__init__()\n",
        "        self.rec_dataset = rec_dataset\n",
        "        self.base_model = base_model\n",
        "        self.user_vect = user_vect\n",
        "        self.item_vect= item_vect\n",
        "        self.margin_score = margin_score\n",
        "        self.device = device\n",
        "        self.features=rec_dataset.features\n",
        "        self.len_features=len(self.features)\n",
        "        # self.features_tips=rec_dataset.tips_features[item][0]\n",
        "        # self.len_features_tips=len(self.features_tips)\n",
        "        self.item=item\n",
        "        self.user=user\n",
        "        self.max_feature1=scaled_features['latitude'].max()\n",
        "        self.min_feature1=scaled_features['latitude'].min()\n",
        "        self.max_feature2=scaled_features['longitude'].max()\n",
        "        self.min_feature2=scaled_features['longitude'].min()\n",
        "        # self.max_feature3=scaled_features['stars'].max()\n",
        "        # self.min_feature3=scaled_features['stars'].min()\n",
        "        self.attributes_matrix,self.days_hours_matrix=get_features_matrix()\n",
        "        # print(self.attributes_matrix.shape)\n",
        "        # print(self.attributes_matrix)\n",
        "        self.continues_features_values,self.features_attributes,self.features_days_hours,self.values_attributes,self.values_days_hours=get_features_indices(rec_dataset.inv_item_name_dict[item])\n",
        "        # print(self.features_days_hours)\n",
        "        # print(self.values_days_hours)\n",
        "        teta_par1=get_initialized_teta(self.values_attributes,self.attributes_matrix,16.0)\n",
        "        # print(teta_par1)\n",
        "        # print(self.values_attributes)\n",
        "        # print(self.attributes_matrix)\n",
        "        # print('----------')\n",
        "        teta_par2=get_initialized_teta(self.values_days_hours,self.days_hours_matrix,16.0)\n",
        "        # self.replaced_words,self.replaced_vects,self.logits_tensor,self.words_indices=get_replaced_words_vects(rec_dataset.inv_item_name_dict[item])\n",
        "        # self.logits_tensor=torch.where(self.logits_tensor==12.0,torch.tensor(-0.1).to(device),self.logits_tensor).to(device)\n",
        "        # self.logits_tensor=torch.where(self.logits_tensor==5.0,torch.tensor(-0.1).to(device),self.logits_tensor).to(device)\n",
        "        # self.logits_tensor=torch.where(self.logits_tensor==0.0,torch.tensor(-1.0).to(device),self.logits_tensor).to(device)\n",
        "        # print(self.logits_tensor)\n",
        "        # self.feature_range = [0, 1]  # hard coded, should be improved later\n",
        "        # print(self.features)\n",
        "        # teta_par3=get_initialized_teta2(self.features_tips,len(self.replaced_words),self.words_indices,12.0)\n",
        "        \n",
        "       \n",
        "      \n",
        "        self.teta1 =  torch.nn.Parameter(teta_par1)\n",
        "        self.teta2 =  torch.nn.Parameter(teta_par2)\n",
        "        # self.teta3 =  torch.nn.Parameter(teta_par3)\n",
        "        self.delta = torch.nn.Parameter(torch.FloatTensor(2).uniform_(-0.0001, 0.0001))\n",
        "        # print(self.attributes_matrix)\n",
        "        \n",
        "        self.main_pi1 = F.softmax((self.teta1 + self.sample_gumbel((self.attributes_matrix.shape[1],self.attributes_matrix.shape[0]))) /1.0, dim=-1)\n",
        "        self.main_pi2 = F.softmax((self.teta2 + self.sample_gumbel((self.days_hours_matrix.shape[1],self.days_hours_matrix.shape[0]))) /1.0, dim=-1)\n",
        "        # print(self.main_pi1)\n",
        "        # self.main_pi3 = F.softmax((self.teta3 + self.sample_gumbel((self.len_features_tips,len(self.replaced_words)))) /0.000000000001, dim=-1)\n",
        "        # self.main_pi=torch.clamp((self.teta), 0,1)\n",
        "        # print(self.features)\n",
        "\n",
        "        self.item=item\n",
        "        self.user=user\n",
        "    \n",
        "    def get_masked_item_feature(self,temp):\n",
        "        # item_feature_name=self.features_tips\n",
        "        # print(self.teta1)\n",
        "        \n",
        "        self.pi1 = F.softmax((self.teta1 + self.sample_gumbel((self.attributes_matrix.shape[1],self.attributes_matrix.shape[0]))) /temp, dim=-1)\n",
        "        self.pi2 = F.softmax((self.teta2 + self.sample_gumbel((self.days_hours_matrix.shape[1],self.days_hours_matrix.shape[0]))) /temp, dim=-1)\n",
        "        # self.pi3 = F.softmax((self.teta3 + self.sample_gumbel((self.len_features_tips,len(self.replaced_words)))) /temp, dim=-1)\n",
        "  \n",
        "        # item_feature_tip=get_new_item_vector(self.replaced_vects,self.item,item_feature_name,self.pi3)\n",
        "\n",
        "        item_feature1 = torch.clamp(\n",
        "            (self.continues_features_values[0] +torch.clamp(self.delta[0],-0.00001,0.00001)),\n",
        "             torch.tensor(self.min_feature1).to(device), torch.tensor(self.max_feature1).to(device))\n",
        "        item_feature2 = torch.clamp(\n",
        "            (self.continues_features_values[1] +torch.clamp(self.delta[1],-0.00001,0.00001)),\n",
        "             torch.tensor(self.min_feature2).to(device), torch.tensor(self.max_feature2).to(device))\n",
        "        # item_feature3 = torch.clamp(\n",
        "        #     (self.continues_features_values[2] + self.delta[2]),\n",
        "        #      torch.tensor(self.min_feature3).to(device),torch.tensor(self.max_feature3).to(device))\n",
        "        # item_feature1=self.continues_features_values[0]\n",
        "        # item_feature2=self.continues_features_values[1]\n",
        "        # item_feature3=self.continues_features_values[2]\n",
        "        # print(self.attributes_matrix)\n",
        "        item_feature_4=torch.mm(self.pi1,self.attributes_matrix)\n",
        "        item_feature_4=torch.diagonal(item_feature_4, 0)\n",
        "        # print(item_feature_4)\n",
        "        # print('--------------')\n",
        "        # item_feature_5=torch.mm(self.pi2,self.categories_matrix)\n",
        "        # item_feature_5=torch.diagonal(item_feature_5, 0)\n",
        "        item_feature_5=torch.mm(self.pi2,self.days_hours_matrix)\n",
        "        item_feature_5=torch.diagonal(item_feature_5, 0)\n",
        "        # print(item_feature_tip)\n",
        "        # print(np.shape(item_feature_tip))\n",
        "        # item_feature_star=torch.concat([torch.Tensor([item_feature1]).to(device),torch.Tensor([item_feature2]).to(device),item_feature_4,item_feature_5])\n",
        "        item_feature_star=torch.concat([torch.Tensor([item_feature1]).to(device),torch.Tensor([item_feature2]).to(device),item_feature_4,item_feature_5])\n",
        "        # if self.item==311 and temp>1.4:\n",
        "        #   print(scaled_features[scaled_features['business_id']==rec_dataset.inv_item_name_dict[313]])\n",
        "        #   print(item_feature_star.detach().cpu().numpy())\n",
        "        #   print(rec_dataset.item_feature_matrix[self.item])\n",
        "        #   print(np.abs(item_feature_star.detach().cpu().numpy()-rec_dataset.item_feature_matrix[self.item]))\n",
        "        #   # print()\n",
        "        #   print('---------')\n",
        "        # break\n",
        "        # print(item_feature_4.shape)\n",
        "        # print(item_feature_5.shape)\n",
        "        # print(item_feature_6.shape)\n",
        "        # print(item_feature_star.shape)\n",
        "        \n",
        "        return item_feature_star\n",
        "\n",
        "    def sample_gumbel(self,shape, eps=1e-20):\n",
        "      U = torch.rand(shape)\n",
        "      U = U.cuda()\n",
        "      return -torch.log(-torch.log(U + eps) + eps)\n",
        "    \n",
        "    def forward(self,temp):\n",
        "        # print('temp',temp)\n",
        "        item_feature_star = self.get_masked_item_feature(temp)\n",
        "        # print('item_feature_star: ')\n",
        "        # print(item_feature_star)\n",
        "        # print('item_vect: ')\n",
        "        # print(self.item_vect)\n",
        "        score = self.base_model(self.user_vect.unsqueeze(0), item_feature_star.unsqueeze(0))\n",
        "        # print(score)\n",
        "        return score\n",
        "    \n",
        "    def loss(self, a,b,c, score):\n",
        "        # print(score)\n",
        "        # print(self.margin_score)\n",
        "        bpr = torch.nn.functional.relu(alp + score - self.margin_score) * a\n",
        "\n",
        "        l11 = torch.linalg.norm(self.main_pi1-self.pi1,ord=1)*1.0\n",
        "        l12 = torch.linalg.norm(self.main_pi2-self.pi2,ord=1)*1.0\n",
        "        # l13 = torch.linalg.norm(self.main_pi3-self.pi3,ord=1)*1.0\n",
        "        l14 = torch.linalg.norm(self.delta,ord=1)*1.0\n",
        "\n",
        "        l2=torch.linalg.norm(self.delta)*1.0\n",
        "        loss=bpr+l2+l14\n",
        "        return bpr, l11,l12,l14,l2,loss"
      ]
    },
    {
      "cell_type": "code",
      "execution_count": null,
      "metadata": {
        "id": "fGywTyrWPsrh"
      },
      "outputs": [],
      "source": [
        "def evaluate_user_perspective(user_perspective_data, u_i_expl_dict):\n",
        "    pres = []\n",
        "    recs = []\n",
        "    f1s = []\n",
        "    for u_i, gt_features in user_perspective_data.items():\n",
        "        if u_i in u_i_expl_dict:\n",
        "            pre_features = u_i_expl_dict[u_i][2][0]\n",
        "            if len(pre_features)>0:\n",
        "              TP = 0\n",
        "            # print('f: ', gt_features, pre_features)\n",
        "              for feature in pre_features:\n",
        "                  if feature in gt_features:\n",
        "                      TP += 1\n",
        "              # print(gt_features)\n",
        "              # print(pre_features)\n",
        "              pre = TP / len(pre_features)\n",
        "              rec = TP / len(gt_features)\n",
        "              if (pre + rec) != 0:\n",
        "                  f1 = (2 * pre * rec) / (pre + rec)\n",
        "              else:\n",
        "                  f1 = 0\n",
        "              pres.append(pre)\n",
        "              recs.append(rec)\n",
        "              f1s.append(f1)\n",
        "    ave_pre = np.mean(pres)\n",
        "    ave_rec = np.mean(recs)\n",
        "    ave_f1 = np.mean(f1s)\n",
        "    return ave_pre, ave_rec, ave_f1"
      ]
    },
    {
      "cell_type": "code",
      "execution_count": null,
      "metadata": {
        "id": "9HwulmiX_eIl"
      },
      "outputs": [],
      "source": [
        "def get_tensor_vect_df(df,not_in_columns):\n",
        "  df1=df.copy()\n",
        "  df1['main_word']=np.where(df1['replaced_word'] == df1[not_in_columns],1,0)\n",
        "  df1=df1[df1['main_word']==1]\n",
        "  if df1.empty:\n",
        "    df1=df.copy()\n",
        "    df1['main_word']=np.where(df1['logit']==5.0,1,0)\n",
        "    df1=df1[df1['main_word']==1]\n",
        "  if df1.empty:\n",
        "    df1=df.copy()\n",
        "    df1['main_word']=np.where(df1['logit']==12.0,1,0)\n",
        "    df1=df1[df1['main_word']==1]\n",
        "  lists=df1.loc[:, ~df1.columns.isin([not_in_columns,'replaced_word','logit','main_word'])].values\n",
        "  words=df1[not_in_columns].values\n",
        "  # print(words)\n",
        "  vects=[sub_list[0] for sub_list in lists]\n",
        "  tensor_vect=torch.FloatTensor(vects).to(device)\n",
        "  return tensor_vect"
      ]
    },
    {
      "cell_type": "code",
      "execution_count": null,
      "metadata": {
        "id": "LB4NGF38-6K4"
      },
      "outputs": [],
      "source": [
        "def get_tensor_vects(item_id):\n",
        "  tensor_vect_desc=None\n",
        "  # print(item_id)\n",
        "  # if os.path.exists(save_path+'descriptions_bert/'+'df_bert_desc_{}.json'.format(item_id)) :\n",
        "  df_vect_tip= pd.read_json(save_path+'tips_bert_items_dfs/'+'{}.json'.format(item_id))\n",
        "  # df_vect_desc=df_vect[0]\n",
        "  tensor_vect_tip=get_tensor_vect_df(df_vect_tip,'word')\n",
        "  return tensor_vect_tip"
      ]
    },
    {
      "cell_type": "code",
      "execution_count": null,
      "metadata": {
        "id": "gwSKU5evADm_"
      },
      "outputs": [],
      "source": [
        "def get_average_vect_test(weights,tensor_vect):\n",
        "  # weights=torch.FloatTensor(weights).to(device)\n",
        "  # weights=torch.transpose(weights.repeat(tensor_vect.shape[1],1),0,1)\n",
        "  # print(weights.shape)\n",
        "  # print(tensor_vect.shape)\n",
        "  # print('-------------')\n",
        "  average=(torch.mul(weights,tensor_vect)/torch.sum(weights))[0].to(device)\n",
        "  # print(average.shape)\n",
        "  return average"
      ]
    },
    {
      "cell_type": "code",
      "execution_count": null,
      "metadata": {
        "id": "cX9vHMvA_3xr"
      },
      "outputs": [],
      "source": [
        "def get_new_item_vector2(item,new_weights):\n",
        "    # item_id= rec_dataset.inv_item_name_dict[item]\n",
        "    final_vector=[]\n",
        "    # print(len(new_weights))\n",
        "    # print(len(item_feature_name[0]))\n",
        "    # print(tensor_vect_desc.shape)\n",
        "    # print(new_weights.shape)\n",
        "    # print(rec_dataset.item_feature_matrix[item][:].shape)\n",
        "    # print('*************')\n",
        "    average_vect_other_features= get_average_vect_test(new_weights[0:len(rec_dataset.features)],torch.FloatTensor(rec_dataset.item_feature_matrix[item][:].reshape(1,-1)).to(device))\n",
        "    # average_vect_tips=get_average_vect_test(new_weights[len(rec_dataset.features):len(rec_dataset.features)+len(rec_dataset.tips_features)])\n",
        "    # average_vect_feature=get_average_vect_test(new_weights[len(item_feature_name[0])+len(item_feature_name[1]):],tensor_vect_feature)\n",
        "    # rank=normalized_rank[item_id]*new_weights[-1]\n",
        "    final_vector=average_vect_other_features\n",
        "    # print(len(final_vector))\n",
        "    # final_vect=np.array(final_vector, dtype='float32')\n",
        "    return final_vector"
      ]
    },
    {
      "cell_type": "code",
      "execution_count": null,
      "metadata": {
        "colab": {
          "base_uri": "https://localhost:8080/"
        },
        "id": "J3Yv5X293BBS",
        "outputId": "db7156d2-ff67-4e0f-f7cd-2f971ee369ef"
      },
      "outputs": [
        {
          "data": {
            "text/plain": [
              "1"
            ]
          },
          "execution_count": 310,
          "metadata": {},
          "output_type": "execute_result"
        }
      ],
      "source": [
        "list(scaled_features.columns).index('latitude')"
      ]
    },
    {
      "cell_type": "code",
      "execution_count": null,
      "metadata": {
        "id": "jzO5JyluPyG-"
      },
      "outputs": [],
      "source": [
        "def sample_gumbel(shape, eps=1e-20):\n",
        "      U = torch.rand(shape)\n",
        "      U = U.cuda()\n",
        "      return -torch.log(-torch.log(U + eps) + eps)\n",
        "def evaluate_model_perspective(\n",
        "        rec_dict,\n",
        "        u_i_exp_dict,\n",
        "        base_model,\n",
        "        user_feature_matrix,\n",
        "        item_feature_matrix,\n",
        "        rec_k,\n",
        "        dict_items_cf_feature,\n",
        "        device):\n",
        "    \"\"\"\n",
        "    compute PN, PS and F_NS score for the explanations\n",
        "    :param rec_dict: {u1: [i1, i2, i3, ...] , u2: [i1, i2, i3, ...]}\n",
        "    :param u_i_exp_dict: {(u, i): [f1, f2, ...], ...}\n",
        "    :param base_model: the trained base recommendation model\n",
        "    :param user_feature_matrix: |u| x |p| matrix, the attention on each feature p for each user u\n",
        "    :param item_feature_matrix: |i| x |p| matrix, the quality on each feature p for each item i\n",
        "    :param rec_k: the length of the recommendation list, only generated explanations for the items on the list\n",
        "    :param device: the device of the model\n",
        "    :return: the mean of the PN, PS and FNS scores\n",
        "    \"\"\"\n",
        "    pn_count = 0\n",
        "    ps_count = 0\n",
        "    # df_vects=rec_dataset.df_vects\n",
        "    # print(len( u_i_exp_dict))\n",
        "    i=0\n",
        "    count_all=0\n",
        "    dict_items={}\n",
        "    for u_i, fs in u_i_exp_dict.items():\n",
        "        # if i%100==0:\n",
        "        #   print(i)\n",
        "        # i+=1\n",
        "        # if i>15600 and i<16000: \n",
        "        #   continue\n",
        "        user = u_i[0]\n",
        "        target_item = u_i[1]\n",
        "        features = fs\n",
        "        items = rec_dict[user]\n",
        "        target_index = items.index(target_item)\n",
        "        \n",
        "        new_features_not_scaled=features[1]\n",
        "        # features_words=list(set(features[2][0]))\n",
        "        # if len(features_words)>0 or len(new_features_not_scaled)>2:\n",
        "        count_all+=1\n",
        "        other_features=list(features[0][0].columns)\n",
        "        # print(other_features)\n",
        "        # print(len(items))\n",
        "\n",
        "        # compute PN\n",
        "        cf_items_features1 = []\n",
        "        cf_items_features2 = []\n",
        "        for item in items:\n",
        "          # if item in dict_items.keys():\n",
        "          #   replaced_words,replaced_vects,logits_tensor,words_indices=dict_items.get(item)\n",
        "          # else:\n",
        "          #   replaced_words,replaced_vects,logits_tensor,words_indices=get_replaced_words_vects(rec_dataset.inv_item_name_dict[item])\n",
        "          #   dict_items[item]=(replaced_words,replaced_vects,logits_tensor,words_indices)\n",
        "\n",
        "          # item_id=rec_dataset.inv_item_name_dict[item]\n",
        "          # item_cf_feature1,item_cf_feature2=get_item_vector1(item,features,replaced_words,replaced_vects,logits_tensor,words_indices)\n",
        "  \n",
        "          # cf_items_features1.append(item_cf_feature1)\n",
        "          # cf_items_features2.append(item_cf_feature2)\n",
        "            item_id=rec_dataset.inv_item_name_dict[item]\n",
        "            # all_features_words=rec_dataset.tips_features[item][0]\n",
        "            # print(all_features)\n",
        "            # print(features)\n",
        "            # item_feature_words=rec_dataset.tips_features[item][0]\n",
        "            item_feature_names=rec_dataset.features\n",
        "            if len(new_features_not_scaled)<3:\n",
        "              weights1=np.ones(len(item_feature_names))\n",
        "              weights1[0:2]=0.0\n",
        "              weights2=np.zeros(len(item_feature_names))\n",
        "              weights2[0:2]=1.0\n",
        "            else:\n",
        "              weights1=[1.0,1.0]\n",
        "              weights1+=[0.0 if fea in other_features else 1.0 for fea in item_feature_names[2:]]\n",
        "              # weights1+=[0.0 if fea in features_words else 1.0 for fea in  item_feature_words]\n",
        "              weights2=[1.0,1.0]\n",
        "              weights2+=[1.0 if fea in other_features else 0.0 for fea in item_feature_names[2:]]\n",
        "              # weights2+=[1.0 if fea in features_words else 0.0 for fea in  item_feature_words]\n",
        "            weights1=torch.from_numpy(np.array(weights1,dtype='float32')).to(device)\n",
        "            weights2=torch.from_numpy(np.array(weights2,dtype='float32')).to(device)\n",
        "            # print(len(all_features))\n",
        "            # print(all_features)\n",
        "            # weights=torch.FloatTensor(weights).to(device)\n",
        "            # if item in dict_items_cf_feature.keys():\n",
        "            #   tensor_vect_tip=dict_items_cf_feature[item]\n",
        "            # else:\n",
        "            #   tensor_vect_tip=get_tensor_vects(item_id)\n",
        "            #   dict_items_cf_feature[item]=tensor_vect_tip\n",
        "            \n",
        "            item_cf_feature1=get_new_item_vector2(item,weights1).detach().to('cpu').numpy()\n",
        "            item_cf_feature2=get_new_item_vector2(item,weights2).detach().to('cpu').numpy()\n",
        "            # print(item_cf_feature1)\n",
        "            for col_i in range(2,len(other_features)):\n",
        "              col_name=other_features[col_i]\n",
        "              ind=list(scaled_features.columns).index(col_name)-1\n",
        "              item_cf_feature1[ind]=new_features_not_scaled[col_i]\n",
        "            # for col_i in range(2,len(other_features)):\n",
        "            #   col_name=other_features[col_i]\n",
        "            #   ind=list(scaled_features.columns).index(col_name)-1\n",
        "            #   item_cf_feature2[ind]=new_features_not_scaled[col_i]\n",
        "            # print(item_cf_feature1)\n",
        "            cf_items_features1.append(item_cf_feature1)\n",
        "            cf_items_features2.append(item_cf_feature2)\n",
        "\n",
        "        cf_ranking_scores1 = base_model(torch.from_numpy(np.array([user_feature_matrix[user]\n",
        "                                                                      for i in range(len(cf_items_features1))])\n",
        "                                                            ).to(device),\n",
        "                                          torch.from_numpy(np.array(cf_items_features1,dtype='float32')).to(device)).squeeze()\n",
        "        cf_score_list1 = cf_ranking_scores1.to('cpu').detach().numpy()\n",
        "        # print(np.sort( cf_score_list1)[::-1])\n",
        "        sorted_index1 = np.argsort(cf_score_list1)[::-1]\n",
        "        # print(sorted_index1)\n",
        "        cf_rank1 = np.argwhere(sorted_index1 == target_index)[0, 0]  # the updated ranking of the current item\n",
        "        # print(cf_rank1)\n",
        "        if cf_rank1 > rec_k - 1:\n",
        "            pn_count += 1\n",
        "        # compute NS\n",
        "        cf_ranking_scores2 = base_model(torch.from_numpy(np.array([user_feature_matrix[user]\n",
        "                                                                      for i in range(len(cf_items_features2))])\n",
        "                                                            ).to(device),\n",
        "                                          torch.from_numpy(np.array(cf_items_features2,dtype='float32')).to(device)).squeeze()\n",
        "        cf_score_list2 = cf_ranking_scores2.to('cpu').detach().numpy()\n",
        "        sorted_index2 = np.argsort(cf_score_list2)[::-1]\n",
        "        cf_rank2 = np.argwhere(sorted_index2 == target_index)[0, 0]  # the updated ranking of the current item\n",
        "        if cf_rank2 < rec_k:\n",
        "            ps_count += 1\n",
        "    if len(u_i_exp_dict) != 0:\n",
        "        pn = pn_count / count_all\n",
        "        ps = ps_count / count_all\n",
        "        if (pn + ps) != 0:\n",
        "            fns = (2 * pn * ps) / (pn + ps)\n",
        "        else:\n",
        "            fns = 0\n",
        "    else:\n",
        "        pn = 0\n",
        "        ps = 0\n",
        "        fns = 0\n",
        "    return pn, ps, fns"
      ]
    },
    {
      "cell_type": "code",
      "source": [
        "a = torch.arange(60.)\n",
        "b = torch.ones(60)\n",
        "print(a.shape)\n",
        "print(b.shape)\n",
        "torch.mul(a,b)"
      ],
      "metadata": {
        "colab": {
          "base_uri": "https://localhost:8080/"
        },
        "id": "-ZTWhGvkOuvI",
        "outputId": "031e6db6-7de1-4b7e-9f4d-422fd2efe25e"
      },
      "execution_count": null,
      "outputs": [
        {
          "output_type": "stream",
          "name": "stdout",
          "text": [
            "torch.Size([60])\n",
            "torch.Size([60])\n"
          ]
        },
        {
          "output_type": "execute_result",
          "data": {
            "text/plain": [
              "tensor([ 0.,  1.,  2.,  3.,  4.,  5.,  6.,  7.,  8.,  9., 10., 11., 12., 13.,\n",
              "        14., 15., 16., 17., 18., 19., 20., 21., 22., 23., 24., 25., 26., 27.,\n",
              "        28., 29., 30., 31., 32., 33., 34., 35., 36., 37., 38., 39., 40., 41.,\n",
              "        42., 43., 44., 45., 46., 47., 48., 49., 50., 51., 52., 53., 54., 55.,\n",
              "        56., 57., 58., 59.])"
            ]
          },
          "metadata": {},
          "execution_count": 190
        }
      ]
    },
    {
      "cell_type": "code",
      "execution_count": null,
      "metadata": {
        "colab": {
          "base_uri": "https://localhost:8080/"
        },
        "id": "ol5Ikjv8PAkK",
        "outputId": "217f2458-3844-4d09-d2eb-e8f9c4584b91"
      },
      "outputs": [
        {
          "output_type": "stream",
          "name": "stdout",
          "text": [
            "cpu\n",
            "lr: 0.5    temp: 2.0    l1_b: 2.0 cs: 1000.0\n"
          ]
        },
        {
          "output_type": "stream",
          "name": "stderr",
          "text": [
            "100%|██████████| 15/15 [02:31<00:00, 10.13s/it]\n"
          ]
        },
        {
          "output_type": "stream",
          "name": "stdout",
          "text": [
            "ave num:  2.6142857142857143 no_exp_count:  5 exp_count:  70\n",
            "model's perspective:\n",
            "ave PN:  0.6714285714285714   ave PS:  0.4142857142857143   ave F_{NS}:  0.5124060150375941\n"
          ]
        }
      ],
      "source": [
        "def generate_explanation():\n",
        "    if gpu:\n",
        "        device = torch.device('cuda:%s' %cuda)\n",
        "    else:\n",
        "        device = 'cpu'\n",
        "    print(device)\n",
        "    # import dataset\n",
        "    \n",
        "    base_model = BaseRecModel(len(rec_dataset.features)).to(device)\n",
        "    base_model.load_state_dict(torch.load(os.path.join(save_path2,\"model_withoutTips.model\"),map_location=torch.device(device)))\n",
        "    base_model.eval()\n",
        "    #  fix the rec model\n",
        "    for param in base_model.parameters():\n",
        "        param.requires_grad = False\n",
        "    \n",
        "    # Create optimization model\n",
        "   \n",
        "    # lrs=[0.3,0.5,0.7,0.9]\n",
        "    # temps=[1.5,2.0,2.5,3.0]\n",
        "    a=100.0\n",
        "    # bs=[1.0,2.0,10.0]\n",
        "    # cs=[1000.0,2000.0,10000.0]\n",
        "    lrs=[0.5]\n",
        "    temps=[2.0]\n",
        "    bs=[2.0]\n",
        "    cs=[1000.0]\n",
        "    with open(save_path+'result_validation.txt','w') as result_file:\n",
        "      for lr in lrs:\n",
        "        for temp in temps:\n",
        "          for b in bs:\n",
        "            for c in cs:\n",
        "              print('lr:', lr , '   temp:', temp , '   l1_b:', b , 'cs:', c)\n",
        "              opt_model = ExpOptimizationModel(base_model=base_model,rec_dataset=rec_dataset,device = device)\n",
        "              ave_num,no_exp_count,exp_count=opt_model.generate_explanation(lr,temp,a,b,c)\n",
        "              # ave_pre,ave_rec,ave_f1=opt_model.user_side_evaluation()\n",
        "              ave_pn,ave_ps,ave_fns=opt_model.model_side_evaluation()\n",
        "              # result_file.write(str(lr)+'#'+str(temp)+'#'+str(b)+'#'+str(c)+'#'+str(ave_num)+'#'+str(no_exp_count)+'#'+str(exp_count)+'#'+str(ave_pn)+'#'+str(ave_ps)+'#'+str(ave_fns))\n",
        "              # result_file.write('\\n')\n",
        "    # Path(save_path).mkdir(parents=True, exist_ok=True)\n",
        "    # with open(os.path.join(save_path, dataset + \"_explanation_obj.pickle\"), 'wb') as outp:\n",
        "    #     pickle.dump(opt_model, outp, pickle.HIGHEST_PROTOCOL)\n",
        "    \n",
        "    # with open(os.path.join(save_path, dataset + \"_explanation_obj.pickle\"), 'rb') as opt:\n",
        "    #     opt_model = pickle.load(opt)\n",
        "            \n",
        "    # print(opt_model.u_i_exp_dict)\n",
        "    # Path(save_path).mkdir(parents=True, exist_ok=True)\n",
        "    # with open(os.path.join(save_path, dataset + \"_explanation_obj.pickle\"), 'wb') as outp:\n",
        "    #     pickle.dump(opt_model, outp, pickle.HIGHEST_PROTOCOL)\n",
        "    return opt_model\n",
        "\n",
        "\n",
        "if __name__ == \"__main__\":\n",
        "    opt_model=generate_explanation()"
      ]
    },
    {
      "cell_type": "code",
      "source": [
        "print(rec_dataset.item_name_dict['0vTc7-wiDBDKKmGvC0EzFg'])\n",
        "print(rec_dataset.item_name_dict['QbAZz0bNDECP9fKh2HXwEA'])\n",
        "print(rec_dataset.item_name_dict['tU692E8N0xBQ7Ogc78gN2g'])\n",
        "print(rec_dataset.item_name_dict['7JhQXpiMml41sxN34CUcKQ'])\n",
        "print(rec_dataset.item_name_dict['_V6hl1oGkTV2KbGeax_HPA'])\n",
        "print(rec_dataset.item_name_dict['tqmi9HYujFk3zphlLkyFUw'])"
      ],
      "metadata": {
        "colab": {
          "base_uri": "https://localhost:8080/"
        },
        "id": "XC1K3CipmAmT",
        "outputId": "8eaa5f5a-4356-423b-ed66-41654f9465bf"
      },
      "execution_count": null,
      "outputs": [
        {
          "output_type": "stream",
          "name": "stdout",
          "text": [
            "12469\n",
            "2261\n",
            "6988\n",
            "3766\n",
            "1379\n",
            "4398\n"
          ]
        }
      ]
    },
    {
      "cell_type": "code",
      "source": [
        "rec_dataset.inv_item_name_dict[13200]"
      ],
      "metadata": {
        "colab": {
          "base_uri": "https://localhost:8080/",
          "height": 35
        },
        "id": "dh4eL20_mPU6",
        "outputId": "36e5d57a-2971-4025-c963-05192692b0c3"
      },
      "execution_count": null,
      "outputs": [
        {
          "output_type": "execute_result",
          "data": {
            "text/plain": [
              "'pJtvP5aHophr2gjIVvX-YA'"
            ],
            "application/vnd.google.colaboratory.intrinsic+json": {
              "type": "string"
            }
          },
          "metadata": {},
          "execution_count": 107
        }
      ]
    },
    {
      "cell_type": "markdown",
      "source": [
        " [[        latitude  longitude  soy-free\n",
        "   45738  40.074097 -75.430998       0.0,\n",
        "   array([ 40.07404047, -75.43085025,  -1.00000001])],"
      ],
      "metadata": {
        "id": "Y69aSjmJolxG"
      }
    },
    {
      "cell_type": "code",
      "source": [
        "business_df[business_df['business_id']=='pJtvP5aHophr2gjIVvX-YA']['attributes'].values"
      ],
      "metadata": {
        "outputId": "8cd03cc7-49a7-4c5b-9346-4176c2330a7f",
        "colab": {
          "base_uri": "https://localhost:8080/"
        },
        "id": "Ij2AlwIse0W2"
      },
      "execution_count": null,
      "outputs": [
        {
          "output_type": "execute_result",
          "data": {
            "text/plain": [
              "array([{'Ambience': \"{'romantic': False, 'intimate': False, 'touristy': False, 'hipster': False, 'divey': False, 'classy': False, 'trendy': False, 'upscale': False, 'casual': True}\", 'BusinessAcceptsCreditCards': 'True', 'GoodForKids': 'True', 'BikeParking': 'True', 'HasTV': 'False', 'NoiseLevel': \"u'average'\", 'Caters': 'True', 'RestaurantsAttire': \"u'casual'\", 'BusinessParking': \"{'garage': False, 'street': False, 'validated': False, 'lot': True, 'valet': False}\", 'RestaurantsPriceRange2': '2', 'Alcohol': \"u'none'\", 'WiFi': \"u'no'\", 'RestaurantsReservations': 'False', 'RestaurantsGoodForGroups': 'True', 'RestaurantsDelivery': 'None', 'GoodForMeal': \"{'dessert': None, 'latenight': False, 'lunch': True, 'dinner': True, 'brunch': False, 'breakfast': False}\", 'RestaurantsTakeOut': 'None', 'OutdoorSeating': 'None'}],\n",
              "      dtype=object)"
            ]
          },
          "metadata": {},
          "execution_count": 109
        }
      ]
    },
    {
      "cell_type": "code",
      "source": [
        "business_df[business_df['business_id']=='pJtvP5aHophr2gjIVvX-YA']['hours'].values"
      ],
      "metadata": {
        "outputId": "00dd65b4-0d38-4855-a14d-fd95a872b003",
        "colab": {
          "base_uri": "https://localhost:8080/"
        },
        "id": "gXEJne9ie0W4"
      },
      "execution_count": null,
      "outputs": [
        {
          "output_type": "execute_result",
          "data": {
            "text/plain": [
              "array([{'Monday': '11:0-20:0', 'Tuesday': '11:0-20:0', 'Wednesday': '11:0-20:0', 'Thursday': '11:0-20:0', 'Friday': '11:0-20:0', 'Saturday': '11:0-20:0', 'Sunday': '11:0-20:0'}],\n",
              "      dtype=object)"
            ]
          },
          "metadata": {},
          "execution_count": 110
        }
      ]
    },
    {
      "cell_type": "markdown",
      "source": [
        "(1120, 1321): [[       latitude  longitude  halal\n",
        "   5472  36.103133   -86.8185    0.0,\n",
        "   array([ 36.10318994, -86.81864752,  -0.99999997])],"
      ],
      "metadata": {
        "id": "XCh1ShJao97_"
      }
    },
    {
      "cell_type": "markdown",
      "source": [
        "(1097, 13448): [[        latitude  longitude  soy-free  Open24Hours\n",
        "   24511  39.781303 -86.162359       0.0          0.0,\n",
        "   array([ 39.78135986, -86.16221174,  -1.00000001,  -1.00000002])],"
      ],
      "metadata": {
        "id": "JSaFhdl_pfEP"
      }
    },
    {
      "cell_type": "code",
      "source": [
        "opt_model.u_i_exp_dict"
      ],
      "metadata": {
        "colab": {
          "base_uri": "https://localhost:8080/"
        },
        "id": "N4aQk4zrlQS6",
        "outputId": "b9dbd08f-e231-4362-814c-a3348f114903"
      },
      "execution_count": null,
      "outputs": [
        {
          "output_type": "execute_result",
          "data": {
            "text/plain": [
              "{(1717, 8101): [[        latitude  longitude  RestaurantsCounterService\n",
              "   31476  29.963765 -90.057946                        0.0,\n",
              "   array([ 29.96382196, -90.05779827,  -1.00000001])],\n",
              "  [array(-1.13383102), array(-0.04697368), array(-54.841824, dtype=float32)]],\n",
              " (1717, 27406): [[        latitude  longitude  Open24Hours\n",
              "   30162  29.960329 -90.063783          0.0,\n",
              "   array([ 29.96027242, -90.06393083,   1.00000002])],\n",
              "  [array(-1.13445425), array(-0.04738952), array(43.017372, dtype=float32)]],\n",
              " (1717, 23075): [[       latitude  longitude  glten-free\n",
              "   43050  29.91637 -90.064801         0.0,\n",
              "   array([ 29.91631256, -90.06465333,   1.00000001])],\n",
              "  [array(-1.14217269), array(-0.04743851), array(51.67903, dtype=float32)]],\n",
              " (1717, 18204): [[        latitude  longitude  glten-free\n",
              "   23544  29.981451  -90.10724         0.0,\n",
              "   array([ 29.98150788, -90.10709253,   1.00000001])],\n",
              "  [array(-1.13072574), array(-0.05031624), array(51.67903, dtype=float32)]],\n",
              " (1717, 3027): [[       latitude  longitude\n",
              "   5456  29.964349 -90.100307, array([ 29.96440653, -90.10045486])],\n",
              "  [array(-1.13372838), array(-0.04986615)]],\n",
              " (6708, 8787): [[        latitude  longitude\n",
              "   33531  36.111524 -86.753715, array([ 36.11158085, -86.75386233])],\n",
              "  [array(-0.0544113), array(0.17706098)]],\n",
              " (6708, 40212): [[        latitude  longitude\n",
              "   31827  36.012471 -86.545945, array([ 36.01252775, -86.54579761])],\n",
              "  [array(-0.07180298), array(0.19116952)]],\n",
              " (6708, 46824): [[        latitude  longitude\n",
              "   32026  38.517212 -89.955368, array([ 38.51715545, -89.95551548])],\n",
              "  [array(0.36795801), array(-0.04003805)]],\n",
              " (6708, 16253): [[        latitude  longitude\n",
              "   25607  39.690403 -75.661977, array([ 39.69045957, -75.6621245 ])],\n",
              "  [array(0.57396603), array(0.92917413)]],\n",
              " (6708, 4394): [[       latitude  longitude\n",
              "   8692  36.112379 -86.763248, array([ 36.11243594, -86.76339547])],\n",
              "  [array(-0.05426116), array(0.17641455)]],\n",
              " (8694, 4438): [[        latitude  longitude  kosher\n",
              "   28152  36.041854 -86.780035     0.0,\n",
              "   array([ 36.04179674, -86.78018269,  -1.        ])],\n",
              "  [array(-0.06666395), array(0.17527623), array(-51.677956, dtype=float32)]],\n",
              " (8694, 13006): [[        latitude  longitude\n",
              "   30532  36.160876 -86.775849, array([ 36.16093295, -86.77599638])],\n",
              "  [array(-0.04574609), array(0.1755601)]],\n",
              " (8694, 6988): [[        latitude  longitude\n",
              "   24923  36.177038 -86.749691, array([ 36.17698086, -86.7495435 ])],\n",
              "  [array(-0.04292841), array(0.17735383)]],\n",
              " (8694, 164): [[      latitude  longitude\n",
              "   4770   36.1509 -86.797012, array([ 36.15084295, -86.7968642 ])],\n",
              "  [array(-0.04751768), array(0.17414509)]],\n",
              " (8694, 39039): [[        latitude  longitude\n",
              "   15340  36.087423 -86.729044, array([ 36.08747965, -86.72919122])],\n",
              "  [array(-0.05864297), array(0.17873389)]],\n",
              " (20172, 12278): [[        latitude  longitude\n",
              "   15069  27.785442 -82.638328, array([ 27.78538507, -82.6381807 ])],\n",
              "  [array(-1.51631963), array(0.45613882)]],\n",
              " (20172, 7380): [[        latitude  longitude  glten-free\n",
              "   23831  27.771332 -82.647866         0.0,\n",
              "   array([ 27.77138856, -82.64801337,   1.00000001])],\n",
              "  [array(-1.51877713), array(0.45547208), array(51.67903, dtype=float32)]],\n",
              " (20172, 432): [[       latitude  longitude\n",
              "   4907  27.965888 -82.800545, array([ 27.96594521, -82.80069264])],\n",
              "  [array(-1.48461699), array(0.44511914)]],\n",
              " (20172, 20093): [[        latitude  longitude\n",
              "   31469  27.773275 -82.646465, array([ 27.77321832, -82.64631775])],\n",
              "  [array(-1.51845586), array(0.45558706)]],\n",
              " (20172, 8852): [[        latitude  longitude\n",
              "   35394  27.770858 -82.655347, array([ 27.77091465, -82.65519932])],\n",
              "  [array(-1.51886034), array(0.45498481)]],\n",
              " (1669,\n",
              "  996): [[        latitude  longitude  vegetarian  RestaurantsCounterService\n",
              "   23409  27.985983 -82.826803         0.0                        0.0,\n",
              "   array([ 27.98604003, -82.82695103,  -0.99999998,  -1.00000001])], [array(-1.48108876),\n",
              "   array(0.4433386),\n",
              "   array(-51.683807, dtype=float32),\n",
              "   array(-54.841824, dtype=float32)]],\n",
              " (1669, 3851): [[        latitude  longitude\n",
              "   32929  28.190628  -82.37966, array([ 28.19068518, -82.37980773])],\n",
              "  [array(-1.44515729), array(0.47365868)]],\n",
              " (1669, 34458): [[      latitude  longitude\n",
              "   2604  27.96737  -82.74922, array([ 27.96742667, -82.74936737])],\n",
              "  [array(-1.48435688), array(0.44859943)]],\n",
              " (1669, 6460): [[        latitude  longitude\n",
              "   17741  27.945109 -82.503044, array([ 27.94505194, -82.50319205])],\n",
              "  [array(-1.48828542), array(0.46529219)]],\n",
              " (1669, 832): [[        latitude  longitude\n",
              "   11746  28.086025 -82.580234, array([ 28.08596829, -82.58008613])],\n",
              "  [array(-1.46354342), array(0.46007812)]],\n",
              " (502, 1034): [[        latitude  longitude  kosher\n",
              "   27833  34.412031 -119.69577     0.0,\n",
              "   array([  34.41197419, -119.69562305,   -1.        ])],\n",
              "  [array(-0.35282719), array(-2.05666757), array(-51.677956, dtype=float32)]],\n",
              " (502, 32152): [[        latitude   longitude  halal\n",
              "   41959  34.395238 -119.511628    0.0,\n",
              "   array([  34.39529481, -119.51147985,   -0.99999997])],\n",
              "  [array(-0.35575575), array(-2.04418111), array(-51.678074, dtype=float32)]],\n",
              " (502, 41209): [[       latitude   longitude\n",
              "   41713  39.53867 -119.762343, array([  39.53861283, -119.76219616])],\n",
              "  [array(0.54730487), array(-2.06118178)]],\n",
              " (50, 4398): [[        latitude  longitude\n",
              "   41596  40.094322  -75.28936, array([ 40.09426497, -75.28921273])],\n",
              "  [array(0.64486593), array(0.95446068)]],\n",
              " (50, 9): [[        latitude  longitude  soy-free\n",
              "   45081  40.112013 -75.288165       0.0,\n",
              "   array([ 40.11206971, -75.28801727,  -1.00000001])],\n",
              "  [array(0.64799207), array(0.95454174), array(-51.67903, dtype=float32)]],\n",
              " (50, 5706): [[       latitude  longitude  halal\n",
              "   6592  40.132499 -75.335002    0.0,\n",
              "   array([ 40.13244189, -75.33515008,  -0.99999997])],\n",
              "  [array(0.65156901), array(0.95134574), array(-51.678074, dtype=float32)]],\n",
              " (50, 25621): [[        latitude  longitude  RestaurantsCounterService\n",
              "   32899  40.116361 -75.343605                        0.0,\n",
              "   array([ 40.11630431, -75.34345766,  -1.00000001])],\n",
              "  [array(0.64873558), array(0.95078242), array(-54.841824, dtype=float32)]],\n",
              " (50, 12104): [[        latitude  longitude\n",
              "   30390  40.104865  -75.29608, array([ 40.10480734, -75.29622728])],\n",
              "  [array(0.64671695), array(0.95398504)]],\n",
              " (1129, 24013): [[       latitude   longitude  kosher\n",
              "   17055  39.48979 -119.797464     0.0,\n",
              "   array([  39.48973298, -119.79731459,   -1.        ])],\n",
              "  [array(0.53872257), array(-2.06356311), array(-51.677956, dtype=float32)]],\n",
              " (1129, 4637): [[        latitude   longitude  kosher\n",
              "   20732  39.497774 -119.798993     0.0,\n",
              "   array([  39.4978308 , -119.79913942,   -1.        ])],\n",
              "  [array(0.54014438), array(-2.06368685), array(-51.677956, dtype=float32)]],\n",
              " (1129, 15357): [[       latitude   longitude  Open24Hours\n",
              "   37801  39.52361 -119.779254          0.0,\n",
              "   array([  39.52355342, -119.7791049 ,    1.00000002])],\n",
              "  [array(0.54466075), array(-2.06232834), array(43.017372, dtype=float32)]],\n",
              " (1129, 15406): [[        latitude   longitude  glten-free\n",
              "   34221  34.442981 -119.832205         0.0,\n",
              "   array([  34.44303759, -119.8320568 ,   -1.00000002])],\n",
              "  [array(-0.3473731), array(-2.06591892), array(-51.70483, dtype=float32)]],\n",
              " (7063, 44656): [[        latitude  longitude\n",
              "   20660  39.811336 -75.016611, array([ 39.81139245, -75.01675837])],\n",
              "  [array(0.59519935), array(0.97293538)]],\n",
              " (7063, 3966): [[       latitude  longitude\n",
              "   1741  40.116322 -75.283792, array([ 40.11626527, -75.28364417])],\n",
              "  [array(0.64872873), array(0.95483828)]],\n",
              " (7063, 13200): [[        latitude  longitude  soy-free\n",
              "   45738  40.074097 -75.430998       0.0,\n",
              "   array([ 40.07404047, -75.43085025,  -1.00000001])],\n",
              "  [array(0.64131492), array(0.94485646), array(-51.67903, dtype=float32)]],\n",
              " (7063, 36716): [[        latitude  longitude  kosher\n",
              "   22261  40.026658  -75.22612     0.0,\n",
              "   array([ 40.02671507, -75.22626819,  -1.        ])],\n",
              "  [array(0.63300556), array(0.95872885), array(-51.677956, dtype=float32)]],\n",
              " (7063, 25018): [[       latitude  longitude\n",
              "   4335  40.040339 -75.223423, array([ 40.04039554, -75.2235705 ])],\n",
              "  [array(0.63540757), array(0.95891178)]],\n",
              " (55141, 10040): [[       latitude  longitude  kosher\n",
              "   16575  38.67076  -90.43329     0.0,\n",
              "   array([ 38.67070295, -90.43343746,  -1.        ])],\n",
              "  [array(0.39491779), array(-0.07244518), array(-51.677956, dtype=float32)]],\n",
              " (55141, 31843): [[        latitude  longitude\n",
              "   34999  38.721819 -90.368048, array([ 38.72187646, -90.36790059])],\n",
              "  [array(0.4039028), array(-0.06800123)]],\n",
              " (55141, 41818): [[       latitude  longitude\n",
              "   4688  39.770329  -86.16616, array([ 39.77038636, -86.16601304])],\n",
              "  [array(0.58799952), array(0.2169221)]],\n",
              " (55141, 39096): [[       latitude  longitude  soy-free\n",
              "   1398  38.632279 -90.200733       0.0,\n",
              "   array([ 38.63233645, -90.20058554,  -1.00000001])],\n",
              "  [array(0.38818142), array(-0.05665586), array(-51.67903, dtype=float32)]],\n",
              " (55141, 3556): [[       latitude  longitude  Open24Hours\n",
              "   2823  38.760552 -90.429324          0.0,\n",
              "   array([ 38.76049486, -90.42917698,  -1.00000002])],\n",
              "  [array(0.41068339), array(-0.07215628), array(-42.999485, dtype=float32)]],\n",
              " (90027, 3055): [[      latitude  longitude  halal\n",
              "   895  39.948309  -75.21789    0.0,\n",
              "   array([ 39.94836582, -75.21774262,  -0.99999997])],\n",
              "  [array(0.61924905), array(0.95930696), array(-51.678074, dtype=float32)]],\n",
              " (90027, 616): [[        latitude  longitude\n",
              "   21059  39.950007 -75.162158, array([ 39.95006387, -75.16201041])],\n",
              "  [array(0.61954719), array(0.96308607)]],\n",
              " (90027, 20291): [[        latitude  longitude  soy-free\n",
              "   16227  39.955232 -75.155813       0.0,\n",
              "   array([ 39.95528939, -75.15566567,  -1.00000001])],\n",
              "  [array(0.62046468), array(0.96351629), array(-51.67903, dtype=float32)]],\n",
              " (90027, 30975): [[        latitude  longitude\n",
              "   34927  40.179454 -75.105872, array([ 40.17939726, -75.10572441])],\n",
              "  [array(0.6598134), array(0.96690273)]],\n",
              " (90027, 1379): [[        latitude  longitude\n",
              "   33748  39.956399 -75.154287, array([ 39.95645548, -75.15443505])],\n",
              "  [array(0.62066942), array(0.96359974)]],\n",
              " (12712, 1474): [[        latitude  longitude  glten-free\n",
              "   45820  39.953341 -75.158855         0.0,\n",
              "   array([ 39.95339852, -75.15870707,  -1.00000002])],\n",
              "  [array(0.62013268), array(0.96331006), array(-51.70483, dtype=float32)]],\n",
              " (12712, 7065): [[       latitude  longitude  soy-free\n",
              "   47810    39.963 -75.163959       0.0,\n",
              "   array([ 39.96294317, -75.16381151,  -1.00000001])],\n",
              "  [array(0.62180853), array(0.96296394), array(-51.67903, dtype=float32)]],\n",
              " (12712, 2841): [[        latitude  longitude  vegan\n",
              "   23249  39.967441 -75.170014    0.0,\n",
              "   array([ 39.96738451, -75.16986617,   0.99999997])],\n",
              "  [array(0.62258834), array(0.96255338), array(51.692406, dtype=float32)]],\n",
              " (12712, 4803): [[        latitude  longitude\n",
              "   24957  39.934744 -75.024516, array([ 39.93468705, -75.02436801])],\n",
              "  [array(0.61684734), array(0.97241938)]],\n",
              " (12712, 11234): [[        latitude  longitude  glten-free\n",
              "   47504  40.117321 -75.282309         0.0,\n",
              "   array([ 40.117264  , -75.28216127,  -1.00000002])],\n",
              "  [array(0.64890409), array(0.95493883), array(-51.70483, dtype=float32)]],\n",
              " (1120, 1321): [[       latitude  longitude  halal\n",
              "   5472  36.103133   -86.8185    0.0,\n",
              "   array([ 36.10318994, -86.81864752,  -0.99999997])],\n",
              "  [array(-0.05588457), array(0.172668), array(-51.678074, dtype=float32)]],\n",
              " (1120, 12837): [[       latitude  longitude  kosher\n",
              "   6078  36.108581 -86.813227     0.0,\n",
              "   array([ 36.10852376, -86.81337409,  -1.        ])],\n",
              "  [array(-0.05494806), array(0.17302558), array(-51.677956, dtype=float32)]],\n",
              " (1120, 1574): [[        latitude  longitude  kosher\n",
              "   34602  36.136985 -86.799299     0.0,\n",
              "   array([ 36.13692814, -86.79915118,  -1.        ])],\n",
              "  [array(-0.04996084), array(0.17399001), array(-51.677956, dtype=float32)]],\n",
              " (1097, 6708): [[        latitude  longitude  glten-free\n",
              "   37439  39.969726 -86.127815         0.0,\n",
              "   array([ 39.96978358, -86.127962  ,  -1.00000002])],\n",
              "  [array(0.62300956), array(0.21950229), array(-51.70483, dtype=float32)]],\n",
              " (1097, 5224): [[        latitude  longitude  vegetarian  halal\n",
              "   13618  39.870106 -86.084014         0.0    0.0,\n",
              "   array([ 39.87004915, -86.08386619,  -0.99999998,  -0.99999997])],\n",
              "  [array(0.60549825),\n",
              "   array(0.22249235),\n",
              "   array(-51.683807, dtype=float32),\n",
              "   array(-51.678074, dtype=float32)]],\n",
              " (1097, 1214): [[       latitude  longitude  vegan\n",
              "   4431  39.926474 -86.228911    0.0,\n",
              "   array([ 39.92653119, -86.22905823,   0.99999997])],\n",
              "  [array(0.61541533), array(0.21264711), array(51.692406, dtype=float32)]],\n",
              " (1097, 13448): [[        latitude  longitude  soy-free  Open24Hours\n",
              "   24511  39.781303 -86.162359       0.0          0.0,\n",
              "   array([ 39.78135986, -86.16221174,  -1.00000001,  -1.00000002])],\n",
              "  [array(0.58992624),\n",
              "   array(0.21717986),\n",
              "   array(-51.67903, dtype=float32),\n",
              "   array(-42.999485, dtype=float32)]],\n",
              " (1097, 834): [[       latitude  longitude\n",
              "   2276  39.782987 -86.135068, array([ 39.78292993, -86.13521519])],\n",
              "  [array(0.59020191), array(0.21901046)]],\n",
              " (5526, 15340): [[        latitude  longitude  glten-free  halal\n",
              "   47854  39.771116 -86.067118         0.0    0.0,\n",
              "   array([ 39.77117259, -86.06697085,   1.00000001,  -0.99999997])],\n",
              "  [array(0.58813757),\n",
              "   array(0.223638),\n",
              "   array(51.67903, dtype=float32),\n",
              "   array(-51.678074, dtype=float32)]],\n",
              " (5526, 571): [[       latitude  longitude  kosher\n",
              "   6636  39.851248 -86.145981     0.0,\n",
              "   array([ 39.85119069, -86.14612839,  -1.        ])],\n",
              "  [array(0.6021871), array(0.21827045), array(-51.677956, dtype=float32)]],\n",
              " (5526, 4958): [[      latitude  longitude  soy-free\n",
              "   824  39.912878 -86.134275       0.0,\n",
              "   array([ 39.91282085, -86.13442254,  -1.00000001])],\n",
              "  [array(0.61300808), array(0.21906421), array(-51.67903, dtype=float32)]],\n",
              " (5526, 6704): [[        latitude  longitude  glten-free\n",
              "   25800  39.768684  -86.15345         0.0,\n",
              "   array([ 39.76874059, -86.15359738,   1.00000001])],\n",
              "  [array(0.58771056), array(0.21776399), array(51.67903, dtype=float32)]],\n",
              " (5526, 23784): [[        latitude  longitude  vegan\n",
              "   44642  39.911682 -86.119385    0.0,\n",
              "   array([ 39.91173894, -86.11953268,  -0.99999998])],\n",
              "  [array(0.61281812), array(0.22007386), array(-51.683807, dtype=float32)]]}"
            ]
          },
          "metadata": {},
          "execution_count": 104
        }
      ]
    },
    {
      "cell_type": "code",
      "source": [
        "scaled_features.drop(['Unnamed: 0'],axis=1,inplace=True)"
      ],
      "metadata": {
        "id": "N1hh0AIk1rP-"
      },
      "execution_count": null,
      "outputs": []
    },
    {
      "cell_type": "markdown",
      "source": [
        "cpu\n",
        "lr: 0.7    temp: 1.2    l1_b: 2.0 cs: 1000.0\n",
        "\n",
        "100%|██████████| 500/500 [59:22<00:00,  7.13s/it]\n",
        "\n",
        "ave num:  2.162861491628615 no_exp_count:  1843 exp_count:  657\n",
        "model's perspective:\n",
        "ave PN:  0.7138508371385084   ave PS:  0.45662100456621   ave F_{NS}:  0.5569707441912939"
      ],
      "metadata": {
        "id": "UvtX_YzA_hvW"
      }
    },
    {
      "cell_type": "markdown",
      "source": [
        "lr: 0.7    temp: 1.2    l1_b: 2.0 cs: 1000.0\n",
        "\n",
        "100%|██████████| 500/500 [59:20<00:00,  7.12s/it]\n",
        "\n",
        "ave num:  2.178060413354531 no_exp_count:  1871 exp_count:  629\n",
        "model's perspective:\n",
        "ave PN:  0.6947535771065183   ave PS:  0.5119236883942766   ave F_{NS}:  0.5894878836055307\n"
      ],
      "metadata": {
        "id": "VJpC2bNyxdPl"
      }
    },
    {
      "cell_type": "markdown",
      "source": [
        "cuda:0\n",
        "lr: 0.5    temp: 2.0    l1_b: 2.0 cs: 1000.0\n",
        "\n",
        "100%|██████████| 500/500 [1:24:16<00:00, 10.11s/it]\n",
        "\n",
        "ave num:  2.601012231126107 no_exp_count:  129 exp_count:  2371\n",
        "model's perspective:\n",
        "ave PN:  0.579924082665542   ave PS:  0.5141290594685787   ave F_{NS}:  0.5450481547951392"
      ],
      "metadata": {
        "id": "69uLiJsLRsQx"
      }
    },
    {
      "cell_type": "markdown",
      "source": [
        "cuda:0\n",
        "lr: 0.5    temp: 2.0    l1_b: 2.0 cs: 1000.0\n",
        "\n",
        "100%|██████████| 500/500 [1:24:32<00:00, 10.15s/it]\n",
        "\n",
        "ave num:  2.8620527306967984 no_exp_count:  376 exp_count:  2124\n",
        "model's perspective:\n",
        "ave PN:  0.7142184557438794   ave PS:  0.4769303201506591   ave F_{NS}:  0.5719393641648616\n"
      ],
      "metadata": {
        "id": "1M1uaWZRsaWr"
      }
    },
    {
      "cell_type": "code",
      "source": [
        "print(scaled_features[scaled_features['business_id']==rec_dataset.inv_item_name_dict[313]])\n",
        "# print(item_feature_star.detach().cpu().numpy())\n",
        "print(rec_dataset.item_feature_matrix[313])"
      ],
      "metadata": {
        "id": "spyWL-66zh-C"
      },
      "execution_count": null,
      "outputs": []
    },
    {
      "cell_type": "code",
      "execution_count": null,
      "metadata": {
        "colab": {
          "base_uri": "https://localhost:8080/"
        },
        "id": "UW5200nGzIVL",
        "outputId": "959a8ef9-7737-4f35-929b-0f37d7842ce3"
      },
      "outputs": [
        {
          "name": "stdout",
          "output_type": "stream",
          "text": [
            "Sat Dec  3 14:38:26 2022       \n",
            "+-----------------------------------------------------------------------------+\n",
            "| NVIDIA-SMI 460.32.03    Driver Version: 460.32.03    CUDA Version: 11.2     |\n",
            "|-------------------------------+----------------------+----------------------+\n",
            "| GPU  Name        Persistence-M| Bus-Id        Disp.A | Volatile Uncorr. ECC |\n",
            "| Fan  Temp  Perf  Pwr:Usage/Cap|         Memory-Usage | GPU-Util  Compute M. |\n",
            "|                               |                      |               MIG M. |\n",
            "|===============================+======================+======================|\n",
            "|   0  Tesla T4            Off  | 00000000:00:04.0 Off |                    0 |\n",
            "| N/A   77C    P0    32W /  70W |  11450MiB / 15109MiB |      0%      Default |\n",
            "|                               |                      |                  N/A |\n",
            "+-------------------------------+----------------------+----------------------+\n",
            "                                                                               \n",
            "+-----------------------------------------------------------------------------+\n",
            "| Processes:                                                                  |\n",
            "|  GPU   GI   CI        PID   Type   Process name                  GPU Memory |\n",
            "|        ID   ID                                                   Usage      |\n",
            "|=============================================================================|\n",
            "+-----------------------------------------------------------------------------+\n"
          ]
        }
      ],
      "source": [
        "!nvidia-smi"
      ]
    },
    {
      "cell_type": "code",
      "source": [
        "scaled_features[scaled_features['business_id']==rec_dataset.inv_item_name_dict[313]].values"
      ],
      "metadata": {
        "colab": {
          "base_uri": "https://localhost:8080/"
        },
        "id": "fgq2zR8UuwEB",
        "outputId": "e70fac8e-0e3c-47d6-dc52-f4fc9b11dc4e"
      },
      "execution_count": null,
      "outputs": [
        {
          "output_type": "execute_result",
          "data": {
            "text/plain": [
              "array([['117cztVQvB0ujB7u_wsnqw', -1.4980904708431637,\n",
              "        0.46681412305154973, -0.0376529817885355, 0.0,\n",
              "        0.2119479010160372, 0.0, -0.04407956832248244,\n",
              "        -0.5895735997856777, 0.20133638516134778, 0.00894350637861649,\n",
              "        -1.2814712608788843, -0.01620751147108067, 1.5936217334538345,\n",
              "        -0.012899065488495188, 0.004299370572541429, 0.8138050121286367,\n",
              "        0.32550282083735993, 2.295358654302332, 1.4159386284550264,\n",
              "        0.22495975578037114, -0.05833921949534602, 0.0,\n",
              "        -1.280698281064274, 0.31877166147304414, 0.8107942224173016,\n",
              "        0.008598979571271433, 0.0, 1.3612050440463725,\n",
              "        0.20763369234843287, -1.4337871241891178, 0.0, 0.0,\n",
              "        0.32405493998230156, 0.41376152647521236, 1.5300479087053305,\n",
              "        0.0, 0.0013890341829850203, 0.0, 1.5861148011328192,\n",
              "        -1.541012369633422, -1.155679248447159, -0.032877591967836184,\n",
              "        0.2790486480582958, 0.12628650459915802, 1.1250852090965502,\n",
              "        -1.2532262572886546, 0.2833420469148356, 0.0069453317219932914,\n",
              "        0.24183831059851105, -0.01368166729484101, 0.03332426512846966,\n",
              "        -1.2512524318351719, 0.49381355253831516, 0.14512670305634076,\n",
              "        0.012899065488495188, 0.0, 0.07006666363920558,\n",
              "        0.12348726125807373, -1.1785119927266918, 0.01719986694879385,\n",
              "        -0.8858566738167669, 1.1067421368667072, 1.0282294139000765,\n",
              "        -1.2161109491757132, -2.0343295774178394, 0.8738313338757632,\n",
              "        0.2770356244260422, -1.2220430550557437, 0.2407197626398825, 0.0,\n",
              "        -0.5924630506573991, 0.16904404827896216, 1.8222360353498328,\n",
              "        0.014074257310899443, 0.0, -1.3796844937558101, 0.0,\n",
              "        -0.053786905114440266, -0.0873055682378571, 0.0,\n",
              "        0.4513671786647395, -0.5295712673771318, 0.039434644515299155,\n",
              "        0.004299370572541429, -0.5695675023923331, -0.037066312521776196,\n",
              "        0.019350610630247133, -1.4868050855694437, 0.32193501314150347,\n",
              "        -0.734632962070444, -0.7171998946373982, -0.690637568653934,\n",
              "        -0.678941260093918, -0.6821138167240444, -0.7125838597636847,\n",
              "        -0.7696776740802275, -0.8700555796776257, -0.9932643814461388,\n",
              "        -1.185297847039823, -1.5210233475206378, -2.2746347578349595,\n",
              "        -2.44076229933434, -2.4498760859158693, -2.3912794439705674,\n",
              "        -2.3327942476801025, -2.381320939312416, -2.090328438071033,\n",
              "        -1.7728799450986297, -1.5495676533469953, -1.3315925818321992,\n",
              "        -1.0652802370671062, -0.8480106193380686, -0.7803330503340276,\n",
              "        -0.33602630460946536, -0.31316576339072405, -0.27530435496701855,\n",
              "        -0.2575769334894986, -0.2633578351673007, -0.31607945765882756,\n",
              "        -0.39982630511580897, -0.5442099997861866, -0.6956348163354306,\n",
              "        -0.9137273888571694, -1.2819573658179302, -2.2578799371986005,\n",
              "        0.39905633208209934, 0.39705827283531303, 0.4139561240352617,\n",
              "        0.4312845499043109, 0.4145073766773606, 0.4912502356349131,\n",
              "        -1.5622358830935639, -1.2879287385845657, -1.031415049125268,\n",
              "        -0.7350356300249893, -0.4784921798358553, -0.39982630511580897,\n",
              "        -0.3397316933326099, -0.3161988312774584, -0.2767875874599082,\n",
              "        -0.25808146346998156, -0.263989325373925, -0.3161192520533283,\n",
              "        -0.39933639951285316, -0.5468094185806553, -0.7019958420743586,\n",
              "        -0.9246229912718095, -1.3047560351741643, -2.4145090005964125,\n",
              "        0.3634078366978911, 0.36021027860835747, 0.3776724853647498,\n",
              "        0.39442224258115677, 0.3692861076609898, 0.4412127835226734,\n",
              "        -1.7088570408540513, -1.379700854363181, -1.0872872589700606,\n",
              "        -0.7603874655928544, -0.48939049271504365, -0.40648367727196477,\n",
              "        -0.34711032417247073, -0.3215021301281621, -0.2811175604958293,\n",
              "        -0.2603655358810469, -0.2649794176517371, -0.3163579515034109,\n",
              "        -0.40021104203465657, -0.5473869310641931, -0.7049353531637336,\n",
              "        -0.9275674886986702, -1.3134125082552661, -2.4683542819775557,\n",
              "        0.35313556421212455, 0.35085956386563155, 0.37001290051924446,\n",
              "        0.3900813967554539, 0.36699181835322714, 0.4378111967510591,\n",
              "        -1.702243615916938, -1.3682155735517365, -1.0762417508487192,\n",
              "        -0.7559999654182651, -0.4937600438855372, -0.41285270294615023,\n",
              "        -0.38628661605484027, -0.3509716913218322, -0.29600223721689695,\n",
              "        -0.2677551402280812, -0.26904624068079375, -0.3161192520533283,\n",
              "        -0.39582912668798903, -0.5399715796203846, -0.702590029398272,\n",
              "        -0.9346513095692983, -1.3283561410130416, -2.5524655690773197,\n",
              "        0.33256647740529166, 0.3328363467587286, 0.3593992775539513,\n",
              "        0.389373429018265, 0.3824738316330386, 0.459883594885119,\n",
              "        0.6133296877380108, -1.3399195968246662, -1.0938678354610183,\n",
              "        -0.8416491544753681, -0.6021656108347927, -0.45892097752282235,\n",
              "        -0.3882748721499458, -0.3519053071127318, -0.2953785264478485,\n",
              "        -0.2664147028726647, -0.26623560373345845, -0.29766113373706415,\n",
              "        -0.3674658563582797, -0.4857642393879151, -0.6313049006327218,\n",
              "        -0.8670711159611172, -1.2294052325494347, -2.101582235761843,\n",
              "        0.4047803608633592, 0.41026170525195155, 0.4409773276228576,\n",
              "        0.4794108791624161, 0.4984138913205237, 0.570554710178113,\n",
              "        0.6912616401867009, -1.2627893266754115, -1.0883352042697652,\n",
              "        -0.8537489625352523, -0.6124950029851078, -0.46756323296235014,\n",
              "        -0.32842470538628815, -0.30809509330878215, -0.27539176246345054,\n",
              "        -0.25798978583552057, -0.2616834666514731, -0.2906086106845512,\n",
              "        -0.3506352485512838, -0.4456447433855199, -0.5338328900606205,\n",
              "        -0.623515651524265, -0.8247778855226658, -1.2459370837253747,\n",
              "        0.6514236890842067, 0.6438223065385993, 0.6649225471003488,\n",
              "        0.6937595878237562, 0.7115558080514899, 0.8035546093866855,\n",
              "        -1.0800295998573393, -0.995539072920044, -0.8613438818863474,\n",
              "        -0.6500963088497799, -0.45566340691710666, -0.38728135438513506]],\n",
              "      dtype=object)"
            ]
          },
          "metadata": {},
          "execution_count": 308
        }
      ]
    },
    {
      "cell_type": "code",
      "execution_count": null,
      "metadata": {
        "id": "BoUX1pBU0_ku"
      },
      "outputs": [],
      "source": [
        "import os\n",
        "os.environ['CUDA_VISIBLE_DEVICES']='2, 3'\n"
      ]
    },
    {
      "cell_type": "code",
      "execution_count": null,
      "metadata": {
        "id": "GMpjQ8rrzsQF"
      },
      "outputs": [],
      "source": [
        "torch.cuda.empty_cache()"
      ]
    },
    {
      "cell_type": "code",
      "execution_count": null,
      "metadata": {
        "colab": {
          "base_uri": "https://localhost:8080/"
        },
        "id": "eD2mPYDxeHNB",
        "outputId": "6192c2f8-8336-40ac-9c13-101239ed13ba"
      },
      "outputs": [
        {
          "data": {
            "text/plain": [
              "0"
            ]
          },
          "execution_count": 196,
          "metadata": {},
          "output_type": "execute_result"
        }
      ],
      "source": [
        "gc.collect()"
      ]
    },
    {
      "cell_type": "code",
      "execution_count": null,
      "metadata": {
        "colab": {
          "base_uri": "https://localhost:8080/",
          "height": 191
        },
        "id": "beV1zWiT0mcF",
        "outputId": "05e34026-a4e7-44c3-8b0d-274e75b1df2f"
      },
      "outputs": [
        {
          "data": {
            "text/html": [
              "\n",
              "  <div id=\"df-0dffb6d1-0d84-4039-a6f9-301c5422ca00\">\n",
              "    <div class=\"colab-df-container\">\n",
              "      <div>\n",
              "<style scoped>\n",
              "    .dataframe tbody tr th:only-of-type {\n",
              "        vertical-align: middle;\n",
              "    }\n",
              "\n",
              "    .dataframe tbody tr th {\n",
              "        vertical-align: top;\n",
              "    }\n",
              "\n",
              "    .dataframe thead th {\n",
              "        text-align: right;\n",
              "    }\n",
              "</style>\n",
              "<table border=\"1\" class=\"dataframe\">\n",
              "  <thead>\n",
              "    <tr style=\"text-align: right;\">\n",
              "      <th></th>\n",
              "      <th>business_id</th>\n",
              "      <th>latitude</th>\n",
              "      <th>longitude</th>\n",
              "      <th>extensions</th>\n",
              "      <th>tesday</th>\n",
              "      <th>karaoke</th>\n",
              "      <th>crly</th>\n",
              "      <th>BusinessParking</th>\n",
              "      <th>GoodForKids</th>\n",
              "      <th>soy-free</th>\n",
              "      <th>...</th>\n",
              "      <th>Sunday-14</th>\n",
              "      <th>Sunday-15</th>\n",
              "      <th>Sunday-16</th>\n",
              "      <th>Sunday-17</th>\n",
              "      <th>Sunday-18</th>\n",
              "      <th>Sunday-19</th>\n",
              "      <th>Sunday-20</th>\n",
              "      <th>Sunday-21</th>\n",
              "      <th>Sunday-22</th>\n",
              "      <th>Sunday-23</th>\n",
              "    </tr>\n",
              "  </thead>\n",
              "  <tbody>\n",
              "    <tr>\n",
              "      <th>5073</th>\n",
              "      <td>cXSyVvOr9YRN9diDkaWs0Q</td>\n",
              "      <td>0.617278</td>\n",
              "      <td>0.962269</td>\n",
              "      <td>-0.016158</td>\n",
              "      <td>0.199551</td>\n",
              "      <td>0.265498</td>\n",
              "      <td>-0.038524</td>\n",
              "      <td>0.0</td>\n",
              "      <td>1.081264</td>\n",
              "      <td>0.01214</td>\n",
              "      <td>...</td>\n",
              "      <td>0.682789</td>\n",
              "      <td>-1.406415</td>\n",
              "      <td>-1.366261</td>\n",
              "      <td>-1.203323</td>\n",
              "      <td>-1.045674</td>\n",
              "      <td>-0.964793</td>\n",
              "      <td>-0.837287</td>\n",
              "      <td>-0.638478</td>\n",
              "      <td>-0.45292</td>\n",
              "      <td>-0.386191</td>\n",
              "    </tr>\n",
              "  </tbody>\n",
              "</table>\n",
              "<p>1 rows × 258 columns</p>\n",
              "</div>\n",
              "      <button class=\"colab-df-convert\" onclick=\"convertToInteractive('df-0dffb6d1-0d84-4039-a6f9-301c5422ca00')\"\n",
              "              title=\"Convert this dataframe to an interactive table.\"\n",
              "              style=\"display:none;\">\n",
              "        \n",
              "  <svg xmlns=\"http://www.w3.org/2000/svg\" height=\"24px\"viewBox=\"0 0 24 24\"\n",
              "       width=\"24px\">\n",
              "    <path d=\"M0 0h24v24H0V0z\" fill=\"none\"/>\n",
              "    <path d=\"M18.56 5.44l.94 2.06.94-2.06 2.06-.94-2.06-.94-.94-2.06-.94 2.06-2.06.94zm-11 1L8.5 8.5l.94-2.06 2.06-.94-2.06-.94L8.5 2.5l-.94 2.06-2.06.94zm10 10l.94 2.06.94-2.06 2.06-.94-2.06-.94-.94-2.06-.94 2.06-2.06.94z\"/><path d=\"M17.41 7.96l-1.37-1.37c-.4-.4-.92-.59-1.43-.59-.52 0-1.04.2-1.43.59L10.3 9.45l-7.72 7.72c-.78.78-.78 2.05 0 2.83L4 21.41c.39.39.9.59 1.41.59.51 0 1.02-.2 1.41-.59l7.78-7.78 2.81-2.81c.8-.78.8-2.07 0-2.86zM5.41 20L4 18.59l7.72-7.72 1.47 1.35L5.41 20z\"/>\n",
              "  </svg>\n",
              "      </button>\n",
              "      \n",
              "  <style>\n",
              "    .colab-df-container {\n",
              "      display:flex;\n",
              "      flex-wrap:wrap;\n",
              "      gap: 12px;\n",
              "    }\n",
              "\n",
              "    .colab-df-convert {\n",
              "      background-color: #E8F0FE;\n",
              "      border: none;\n",
              "      border-radius: 50%;\n",
              "      cursor: pointer;\n",
              "      display: none;\n",
              "      fill: #1967D2;\n",
              "      height: 32px;\n",
              "      padding: 0 0 0 0;\n",
              "      width: 32px;\n",
              "    }\n",
              "\n",
              "    .colab-df-convert:hover {\n",
              "      background-color: #E2EBFA;\n",
              "      box-shadow: 0px 1px 2px rgba(60, 64, 67, 0.3), 0px 1px 3px 1px rgba(60, 64, 67, 0.15);\n",
              "      fill: #174EA6;\n",
              "    }\n",
              "\n",
              "    [theme=dark] .colab-df-convert {\n",
              "      background-color: #3B4455;\n",
              "      fill: #D2E3FC;\n",
              "    }\n",
              "\n",
              "    [theme=dark] .colab-df-convert:hover {\n",
              "      background-color: #434B5C;\n",
              "      box-shadow: 0px 1px 3px 1px rgba(0, 0, 0, 0.15);\n",
              "      filter: drop-shadow(0px 1px 2px rgba(0, 0, 0, 0.3));\n",
              "      fill: #FFFFFF;\n",
              "    }\n",
              "  </style>\n",
              "\n",
              "      <script>\n",
              "        const buttonEl =\n",
              "          document.querySelector('#df-0dffb6d1-0d84-4039-a6f9-301c5422ca00 button.colab-df-convert');\n",
              "        buttonEl.style.display =\n",
              "          google.colab.kernel.accessAllowed ? 'block' : 'none';\n",
              "\n",
              "        async function convertToInteractive(key) {\n",
              "          const element = document.querySelector('#df-0dffb6d1-0d84-4039-a6f9-301c5422ca00');\n",
              "          const dataTable =\n",
              "            await google.colab.kernel.invokeFunction('convertToInteractive',\n",
              "                                                     [key], {});\n",
              "          if (!dataTable) return;\n",
              "\n",
              "          const docLinkHtml = 'Like what you see? Visit the ' +\n",
              "            '<a target=\"_blank\" href=https://colab.research.google.com/notebooks/data_table.ipynb>data table notebook</a>'\n",
              "            + ' to learn more about interactive tables.';\n",
              "          element.innerHTML = '';\n",
              "          dataTable['output_type'] = 'display_data';\n",
              "          await google.colab.output.renderOutput(dataTable, element);\n",
              "          const docLink = document.createElement('div');\n",
              "          docLink.innerHTML = docLinkHtml;\n",
              "          element.appendChild(docLink);\n",
              "        }\n",
              "      </script>\n",
              "    </div>\n",
              "  </div>\n",
              "  "
            ],
            "text/plain": [
              "                 business_id  latitude  longitude  extensions    tesday  \\\n",
              "5073  cXSyVvOr9YRN9diDkaWs0Q  0.617278   0.962269   -0.016158  0.199551   \n",
              "\n",
              "       karaoke      crly  BusinessParking  GoodForKids  soy-free  ...  \\\n",
              "5073  0.265498 -0.038524              0.0     1.081264   0.01214  ...   \n",
              "\n",
              "      Sunday-14  Sunday-15  Sunday-16  Sunday-17  Sunday-18  Sunday-19  \\\n",
              "5073   0.682789  -1.406415  -1.366261  -1.203323  -1.045674  -0.964793   \n",
              "\n",
              "      Sunday-20  Sunday-21  Sunday-22  Sunday-23  \n",
              "5073  -0.837287  -0.638478   -0.45292  -0.386191  \n",
              "\n",
              "[1 rows x 258 columns]"
            ]
          },
          "execution_count": 146,
          "metadata": {},
          "output_type": "execute_result"
        }
      ],
      "source": [
        "scaled_features[scaled_features['business_id']=='cXSyVvOr9YRN9diDkaWs0Q']"
      ]
    },
    {
      "cell_type": "code",
      "execution_count": null,
      "metadata": {
        "colab": {
          "base_uri": "https://localhost:8080/"
        },
        "id": "tpvmvsuu0wnS",
        "outputId": "a5039612-e32b-4547-80a7-81c363be59c0"
      },
      "outputs": [
        {
          "data": {
            "text/plain": [
              "87"
            ]
          },
          "execution_count": 147,
          "metadata": {},
          "output_type": "execute_result"
        }
      ],
      "source": [
        "rec_dataset.item_name_dict['cXSyVvOr9YRN9diDkaWs0Q']"
      ]
    },
    {
      "cell_type": "code",
      "execution_count": null,
      "metadata": {
        "colab": {
          "base_uri": "https://localhost:8080/"
        },
        "id": "Z4BLdtkz02CG",
        "outputId": "f77fbfbc-65b3-40d5-bb25-6a2854874b73"
      },
      "outputs": [
        {
          "data": {
            "text/plain": [
              "array([ 6.1727804e-01,  9.6226919e-01, -6.2152386e-01,  1.4352431e+00,\n",
              "        2.6718395e+00, -5.3733215e-02, -1.2551033e+00,  4.1024658e-01,\n",
              "        1.2135880e-02, -1.2225970e+00, -1.3012578e+00, -6.4647146e-02,\n",
              "        0.0000000e+00,  0.0000000e+00, -3.8524136e-02,  2.6754642e-01,\n",
              "        1.1805184e+00,  4.0002968e-02,  1.2099340e-01,  4.5542073e+00,\n",
              "        2.3202303e-01,  1.6083758e-01,  2.3357999e-01, -1.3787478e+00,\n",
              "        9.2035896e-01,  1.6095901e+00,  1.4662104e+00,  0.0000000e+00,\n",
              "        1.8960987e+00,  1.4208582e-01, -4.4105849e+00,  0.0000000e+00,\n",
              "        7.4279788e-03,  0.0000000e+00,  1.6107263e-02,  1.1435419e+00,\n",
              "       -1.2140231e-02,  1.8206900e-02,  8.4562075e-01, -1.9275221e+00,\n",
              "        1.3727969e-02,  2.0366924e-01,  5.7547635e-01,  3.9616646e-03,\n",
              "       -2.8771944e-02,  0.0000000e+00, -3.1991590e-02, -1.6311872e+00,\n",
              "        3.1009293e-01,  4.0794546e-03,  0.0000000e+00, -4.9025949e-02,\n",
              "        2.6549846e-01,  2.0782132e+00,  1.1929584e-01, -1.6151328e-02,\n",
              "       -2.4084027e+00,  1.9416340e-01,  1.1924105e+00,  1.5514977e+00,\n",
              "        2.4528048e+00,  0.0000000e+00, -5.6240541e-01,  3.0494913e-01,\n",
              "        1.4440956e+00,  1.0812588e+00,  2.4101400e+00,  8.0699753e-03,\n",
              "        3.1136349e-01, -1.8079814e+00,  3.5957217e-02, -6.0231155e-01,\n",
              "        1.9955039e-01, -1.9962901e-04,  0.0000000e+00,  2.1622695e-01,\n",
              "        0.0000000e+00, -5.7623672e-01,  2.6611674e-01,  0.0000000e+00,\n",
              "       -1.3172898e+00,  8.1778569e-03, -1.2825866e+00,  0.0000000e+00,\n",
              "       -1.2872460e-02, -1.5671667e+00,  0.0000000e+00, -1.3185376e-01,\n",
              "       -1.2452461e+00, -7.2907740e-01, -7.1249568e-01, -6.8705451e-01,\n",
              "       -6.7601210e-01, -6.7913729e-01, -7.0964718e-01, -7.6560128e-01,\n",
              "       -8.6701214e-01, -9.9981803e-01,  8.2887954e-01,  6.4316821e-01,\n",
              "        4.3438798e-01,  4.0496975e-01,  4.0317649e-01, -2.4251995e+00,\n",
              "       -2.3673828e+00, -2.4033129e+00, -2.0708039e+00, -1.7351402e+00,\n",
              "       -1.5121696e+00, -1.2994765e+00, -1.0462911e+00, -8.3993006e-01,\n",
              "       -7.7443272e-01, -3.3565116e-01, -3.1374088e-01, -2.7788356e-01,\n",
              "       -2.6118070e-01, -2.6697302e-01, -3.1871000e-01, -4.0021208e-01,\n",
              "       -5.4564112e-01, -7.0709443e-01,  1.0629654e+00,  7.5347883e-01,\n",
              "        4.3355373e-01,  3.9057651e-01,  3.8839161e-01, -2.4721396e+00,\n",
              "       -2.3723152e+00, -2.4477541e+00, -2.0110960e+00, -1.5209639e+00,\n",
              "       -1.2499007e+00, -1.0011209e+00, -7.1911764e-01, -4.7494027e-01,\n",
              "       -3.9838308e-01, -3.3907169e-01, -3.1653062e-01, -2.7919969e-01,\n",
              "       -2.6166916e-01, -2.6756576e-01, -3.1870955e-01, -3.9974740e-01,\n",
              "       -5.4805672e-01, -7.1340191e-01,  1.0507044e+00,  7.3997653e-01,\n",
              "        4.0487772e-01,  3.5522887e-01,  3.5196501e-01, -2.7133815e+00,\n",
              "       -2.5957437e+00, -2.7437122e+00, -2.2270899e+00, -1.6545763e+00,\n",
              "       -1.3337084e+00, -1.0526068e+00, -7.4308705e-01, -4.8510620e-01,\n",
              "       -4.0460035e-01, -3.4618512e-01, -3.2189003e-01, -2.8339630e-01,\n",
              "       -2.6383221e-01, -2.6847425e-01, -3.1892014e-01, -4.0052211e-01,\n",
              "       -5.4865348e-01, -7.1616936e-01,  1.0471777e+00,  7.3462671e-01,\n",
              "        3.9552251e-01,  3.4475040e-01,  3.4230334e-01, -2.7724068e+00,\n",
              "       -2.6265719e+00, -2.7674050e+00, -2.2466779e+00, -1.6503879e+00,\n",
              "       -1.3235314e+00, -1.0430521e+00, -7.3929894e-01, -4.8973757e-01,\n",
              "       -4.1080594e-01, -3.8477293e-01, -3.4991178e-01, -2.9763442e-01,\n",
              "       -2.7083278e-01, -2.7247483e-01, -3.1881562e-01, -3.9626998e-01,\n",
              "       -5.4151803e-01, -7.1384770e-01,  1.0389422e+00,  7.2629416e-01,\n",
              "        3.8287479e-01,  3.2526112e-01,  3.2595223e-01, -2.8411899e+00,\n",
              "       -2.6174231e+00, -2.6329348e+00, -2.1258914e+00, -1.5767365e+00,\n",
              "       -1.2943171e+00, -1.0586815e+00, -8.1867284e-01, -5.9220535e-01,\n",
              "       -4.5525122e-01, -3.8678944e-01, -3.5067451e-01, -2.9705122e-01,\n",
              "       -2.6965496e-01, -2.6973417e-01, -2.9986936e-01, -3.6715564e-01,\n",
              "       -4.8452759e-01,  1.5795807e+00,  1.1385492e+00,  7.9802072e-01,\n",
              "        4.7840214e-01,  4.1227555e-01,  4.1925353e-01,  4.4987482e-01,\n",
              "       -2.0468652e+00, -1.9490551e+00, -1.6849687e+00, -1.3909343e+00,\n",
              "       -1.2143540e+00, -1.0516361e+00, -8.3005029e-01, -6.0196978e-01,\n",
              "       -4.6357235e-01, -3.2840261e-01, -3.0881819e-01, -2.7758932e-01,\n",
              "       -2.6142633e-01, -2.6514697e-01, -2.9302999e-01, -3.5084033e-01,\n",
              "       -4.4287178e-01,  1.8866422e+00,  1.6083367e+00,  1.2173312e+00,\n",
              "        8.1983411e-01,  6.7029101e-01,  6.6276872e-01,  6.8278772e-01,\n",
              "       -1.4064136e+00, -1.3662614e+00, -1.2033224e+00, -1.0456704e+00,\n",
              "       -9.6479166e-01, -8.3728313e-01, -6.3847148e-01, -4.5291671e-01,\n",
              "       -3.8619125e-01], dtype=float32)"
            ]
          },
          "execution_count": 156,
          "metadata": {},
          "output_type": "execute_result"
        }
      ],
      "source": [
        "rec_dataset.item_feature_matrix[87]"
      ]
    },
    {
      "cell_type": "code",
      "execution_count": null,
      "metadata": {
        "colab": {
          "base_uri": "https://localhost:8080/"
        },
        "id": "qgOJ5o_spPDs",
        "outputId": "e7d6c12e-7bbd-47a7-fa2e-d097951d9cd2"
      },
      "outputs": [
        {
          "data": {
            "text/plain": [
              "10.813683527586809"
            ]
          },
          "execution_count": 99,
          "metadata": {},
          "output_type": "execute_result"
        }
      ],
      "source": [
        "scaled_features['extensions'].max()"
      ]
    },
    {
      "cell_type": "code",
      "execution_count": null,
      "metadata": {
        "colab": {
          "base_uri": "https://localhost:8080/"
        },
        "id": "BfIfoZ208Js2",
        "outputId": "34f404d6-81e8-4ed2-f6e1-5e76da992edd"
      },
      "outputs": [
        {
          "data": {
            "text/plain": [
              "[54.923122700510184, -54.91502985278389, 0.004046423863150696]"
            ]
          },
          "execution_count": 272,
          "metadata": {},
          "output_type": "execute_result"
        }
      ],
      "source": [
        "list(set(scaled_features.iloc[:,90].values))"
      ]
    },
    {
      "cell_type": "code",
      "execution_count": null,
      "metadata": {
        "colab": {
          "base_uri": "https://localhost:8080/"
        },
        "id": "Oj-L-ZGYz8oS",
        "outputId": "737e7cc4-e166-44b4-aa63-5b189cf6f1c0"
      },
      "outputs": [
        {
          "data": {
            "text/plain": [
              "1130440"
            ]
          },
          "execution_count": 120,
          "metadata": {},
          "output_type": "execute_result"
        }
      ],
      "source": [
        "len(user_test_perspective.keys())"
      ]
    },
    {
      "cell_type": "markdown",
      "source": [
        "# calculate Stability..."
      ],
      "metadata": {
        "id": "ObHWONIiMJ4L"
      }
    },
    {
      "cell_type": "code",
      "source": [
        "def generate_explanation_check_stability():\n",
        "    if gpu:\n",
        "        device = torch.device('cuda:%s' %cuda)\n",
        "    else:\n",
        "        device = 'cpu'\n",
        "    print(device)\n",
        "    # import dataset\n",
        "    # with open(os.path.join(data_obj_path, dataset + \"_dataset_obj_4.pickle\"), 'rb') as inp:\n",
        "    #     rec_dataset = pickle.load(inp)\n",
        "    \n",
        "    base_model = BaseRecModel(len(rec_dataset.features)).to(device)\n",
        "    base_model.load_state_dict(torch.load(os.path.join(save_path2,\"model_withoutTips.model\"),map_location=torch.device(device)))\n",
        "    base_model.eval()\n",
        "    #  fix the rec model\n",
        "    for param in base_model.parameters():\n",
        "        param.requires_grad = False\n",
        "    \n",
        "    \n",
        "    # Create optimization model\n",
        "    a=100.0\n",
        "    # bs=[1.0,2.0]\n",
        "    # cs=[1000.0,2000.0,10000.0]\n",
        "    lr=0.5\n",
        "    temp=2.0\n",
        "    b=2.0\n",
        "    c=1000.0\n",
        "    features_found=[]\n",
        "    for i in range(10):\n",
        "      opt_model = ExpOptimizationModel(\n",
        "        base_model=base_model,\n",
        "        rec_dataset=rec_dataset,\n",
        "        device = device,)\n",
        "      opt_model.generate_explanation(lr,temp,a,b,c)\n",
        "      features_found.append(opt_model.u_i_exp_dict)\n",
        "      \n",
        "    \n",
        "    return features_found\n",
        "\n",
        "\n",
        "if __name__ == \"__main__\":\n",
        "    features_found=generate_explanation_check_stability()"
      ],
      "metadata": {
        "colab": {
          "base_uri": "https://localhost:8080/"
        },
        "id": "Jw3vT7lYtMMH",
        "outputId": "42ee90c3-45fd-41c4-af37-bc180385a353"
      },
      "execution_count": null,
      "outputs": [
        {
          "output_type": "stream",
          "name": "stdout",
          "text": [
            "cuda:0\n"
          ]
        },
        {
          "output_type": "stream",
          "name": "stderr",
          "text": [
            "100%|██████████| 10/10 [01:51<00:00, 11.18s/it]\n"
          ]
        },
        {
          "output_type": "stream",
          "name": "stdout",
          "text": [
            "ave num:  2.739130434782609 no_exp_count:  4 exp_count:  46\n"
          ]
        },
        {
          "output_type": "stream",
          "name": "stderr",
          "text": [
            "100%|██████████| 10/10 [01:48<00:00, 10.84s/it]\n"
          ]
        },
        {
          "output_type": "stream",
          "name": "stdout",
          "text": [
            "ave num:  2.6 no_exp_count:  5 exp_count:  45\n"
          ]
        },
        {
          "output_type": "stream",
          "name": "stderr",
          "text": [
            "100%|██████████| 10/10 [01:48<00:00, 10.82s/it]\n"
          ]
        },
        {
          "output_type": "stream",
          "name": "stdout",
          "text": [
            "ave num:  2.6818181818181817 no_exp_count:  6 exp_count:  44\n"
          ]
        },
        {
          "output_type": "stream",
          "name": "stderr",
          "text": [
            "100%|██████████| 10/10 [01:48<00:00, 10.83s/it]\n"
          ]
        },
        {
          "output_type": "stream",
          "name": "stdout",
          "text": [
            "ave num:  2.652173913043478 no_exp_count:  4 exp_count:  46\n"
          ]
        },
        {
          "output_type": "stream",
          "name": "stderr",
          "text": [
            "100%|██████████| 10/10 [01:47<00:00, 10.79s/it]\n"
          ]
        },
        {
          "output_type": "stream",
          "name": "stdout",
          "text": [
            "ave num:  2.7333333333333334 no_exp_count:  5 exp_count:  45\n"
          ]
        },
        {
          "output_type": "stream",
          "name": "stderr",
          "text": [
            "100%|██████████| 10/10 [01:48<00:00, 10.81s/it]\n"
          ]
        },
        {
          "output_type": "stream",
          "name": "stdout",
          "text": [
            "ave num:  2.7111111111111112 no_exp_count:  5 exp_count:  45\n"
          ]
        },
        {
          "output_type": "stream",
          "name": "stderr",
          "text": [
            "100%|██████████| 10/10 [01:48<00:00, 10.83s/it]\n"
          ]
        },
        {
          "output_type": "stream",
          "name": "stdout",
          "text": [
            "ave num:  2.6956521739130435 no_exp_count:  4 exp_count:  46\n"
          ]
        },
        {
          "output_type": "stream",
          "name": "stderr",
          "text": [
            "100%|██████████| 10/10 [01:47<00:00, 10.74s/it]\n"
          ]
        },
        {
          "output_type": "stream",
          "name": "stdout",
          "text": [
            "ave num:  2.6 no_exp_count:  5 exp_count:  45\n"
          ]
        },
        {
          "output_type": "stream",
          "name": "stderr",
          "text": [
            "100%|██████████| 10/10 [01:52<00:00, 11.28s/it]\n"
          ]
        },
        {
          "output_type": "stream",
          "name": "stdout",
          "text": [
            "ave num:  2.7954545454545454 no_exp_count:  6 exp_count:  44\n"
          ]
        },
        {
          "output_type": "stream",
          "name": "stderr",
          "text": [
            "100%|██████████| 10/10 [01:51<00:00, 11.13s/it]"
          ]
        },
        {
          "output_type": "stream",
          "name": "stdout",
          "text": [
            "ave num:  2.727272727272727 no_exp_count:  6 exp_count:  44\n"
          ]
        },
        {
          "output_type": "stream",
          "name": "stderr",
          "text": [
            "\n"
          ]
        }
      ]
    },
    {
      "cell_type": "code",
      "source": [
        "dict_features={}\n",
        "for iter_feas in features_found:\n",
        "  for u_i in iter_feas.keys():\n",
        "    feas=list(iter_feas[u_i][0][0].columns)\n",
        "    # feas+=iter_feas[u_i][2][0]\n",
        "    if u_i in dict_features.keys():\n",
        "      dict_features[u_i].append(feas)\n",
        "    else:\n",
        "      dict_features[u_i]=[]\n",
        "      dict_features[u_i].append(feas)"
      ],
      "metadata": {
        "id": "nHcOCida1oXF"
      },
      "execution_count": null,
      "outputs": []
    },
    {
      "cell_type": "code",
      "source": [
        "dict_features"
      ],
      "metadata": {
        "id": "3J-zJC-yNKVh",
        "outputId": "78bb47e5-ff1d-4568-9200-7d1dad821b75",
        "colab": {
          "base_uri": "https://localhost:8080/"
        }
      },
      "execution_count": null,
      "outputs": [
        {
          "output_type": "execute_result",
          "data": {
            "text/plain": [
              "{(1717, 8101): [['latitude', 'longitude', 'dairy-free'],\n",
              "  ['latitude', 'longitude', 'dairy-free'],\n",
              "  ['latitude', 'longitude', 'dairy-free'],\n",
              "  ['latitude', 'longitude', 'halal'],\n",
              "  ['latitude', 'longitude', 'halal'],\n",
              "  ['latitude', 'longitude', 'dairy-free'],\n",
              "  ['latitude', 'longitude', 'dairy-free'],\n",
              "  ['latitude', 'longitude'],\n",
              "  ['latitude', 'longitude', 'dairy-free'],\n",
              "  ['latitude', 'longitude', 'dairy-free']],\n",
              " (1717, 27406): [['latitude', 'longitude', 'vegetarian'],\n",
              "  ['latitude', 'longitude', 'vegetarian'],\n",
              "  ['latitude', 'longitude', 'vegetarian'],\n",
              "  ['latitude', 'longitude', 'vegetarian'],\n",
              "  ['latitude', 'longitude', 'vegetarian'],\n",
              "  ['latitude', 'longitude', 'vegetarian'],\n",
              "  ['latitude', 'longitude', 'vegetarian'],\n",
              "  ['latitude', 'longitude'],\n",
              "  ['latitude', 'longitude', 'vegetarian'],\n",
              "  ['latitude', 'longitude', 'vegetarian']],\n",
              " (1717,\n",
              "  23075): [['latitude',\n",
              "   'longitude',\n",
              "   'RestaurantsCounterService',\n",
              "   'vegan'], ['latitude', 'longitude', 'glten-free'], ['latitude',\n",
              "   'longitude',\n",
              "   'RestaurantsCounterService',\n",
              "   'vegan'], ['latitude', 'longitude'], ['latitude',\n",
              "   'longitude',\n",
              "   'RestaurantsCounterService',\n",
              "   'glten-free',\n",
              "   'vegan'], ['latitude', 'longitude', 'vegan'], ['latitude',\n",
              "   'longitude',\n",
              "   'vegan'], ['latitude',\n",
              "   'longitude',\n",
              "   'RestaurantsCounterService',\n",
              "   'vegan'], ['latitude', 'longitude', 'RestaurantsCounterService', 'vegan'], ['latitude',\n",
              "   'longitude',\n",
              "   'vegan']],\n",
              " (1717, 18204): [['latitude', 'longitude', 'RestaurantsCounterService'],\n",
              "  ['latitude', 'longitude', 'RestaurantsCounterService'],\n",
              "  ['latitude', 'longitude', 'RestaurantsCounterService'],\n",
              "  ['latitude', 'longitude', 'RestaurantsCounterService'],\n",
              "  ['latitude', 'longitude', 'RestaurantsCounterService'],\n",
              "  ['latitude', 'longitude', 'RestaurantsCounterService'],\n",
              "  ['latitude', 'longitude', 'RestaurantsCounterService'],\n",
              "  ['latitude', 'longitude', 'soy-free'],\n",
              "  ['latitude', 'longitude', 'RestaurantsCounterService'],\n",
              "  ['latitude', 'longitude', 'RestaurantsCounterService']],\n",
              " (1717, 3027): [['latitude', 'longitude', 'RestaurantsCounterService'],\n",
              "  ['latitude', 'longitude', 'RestaurantsCounterService'],\n",
              "  ['latitude', 'longitude', 'glten-free'],\n",
              "  ['latitude', 'longitude', 'glten-free'],\n",
              "  ['latitude', 'longitude', 'soy-free'],\n",
              "  ['latitude', 'longitude', 'dairy-free'],\n",
              "  ['latitude', 'longitude', 'glten-free'],\n",
              "  ['latitude', 'longitude', 'glten-free'],\n",
              "  ['latitude', 'longitude', 'dairy-free'],\n",
              "  ['latitude', 'longitude', 'glten-free']],\n",
              " (6708, 8787): [['latitude', 'longitude'],\n",
              "  ['latitude', 'longitude'],\n",
              "  ['latitude', 'longitude'],\n",
              "  ['latitude', 'longitude', 'soy-free'],\n",
              "  ['latitude', 'longitude'],\n",
              "  ['latitude', 'longitude'],\n",
              "  ['latitude', 'longitude'],\n",
              "  ['latitude', 'longitude'],\n",
              "  ['latitude', 'longitude', 'soy-free'],\n",
              "  ['latitude', 'longitude']],\n",
              " (6708, 40212): [['latitude', 'longitude'],\n",
              "  ['latitude', 'longitude'],\n",
              "  ['latitude', 'longitude'],\n",
              "  ['latitude', 'longitude'],\n",
              "  ['latitude', 'longitude']],\n",
              " (6708, 46824): [['latitude', 'longitude', 'vegetarian'],\n",
              "  ['latitude', 'longitude', 'vegetarian'],\n",
              "  ['latitude', 'longitude', 'vegetarian'],\n",
              "  ['latitude', 'longitude', 'dairy-free'],\n",
              "  ['latitude', 'longitude', 'dairy-free'],\n",
              "  ['latitude', 'longitude', 'dairy-free'],\n",
              "  ['latitude', 'longitude', 'vegetarian'],\n",
              "  ['latitude', 'longitude', 'vegetarian'],\n",
              "  ['latitude', 'longitude', 'vegetarian'],\n",
              "  ['latitude', 'longitude', 'vegetarian']],\n",
              " (6708, 16253): [['latitude', 'longitude'],\n",
              "  ['latitude', 'longitude'],\n",
              "  ['latitude', 'longitude'],\n",
              "  ['latitude', 'longitude'],\n",
              "  ['latitude', 'longitude'],\n",
              "  ['latitude', 'longitude'],\n",
              "  ['latitude', 'longitude'],\n",
              "  ['latitude', 'longitude'],\n",
              "  ['latitude', 'longitude'],\n",
              "  ['latitude', 'longitude']],\n",
              " (6708, 4394): [['latitude', 'longitude', 'halal'],\n",
              "  ['latitude', 'longitude'],\n",
              "  ['latitude', 'longitude'],\n",
              "  ['latitude', 'longitude', 'halal'],\n",
              "  ['latitude', 'longitude', 'halal'],\n",
              "  ['latitude', 'longitude', 'halal'],\n",
              "  ['latitude', 'longitude', 'halal'],\n",
              "  ['latitude', 'longitude', 'halal'],\n",
              "  ['latitude', 'longitude', 'halal'],\n",
              "  ['latitude', 'longitude', 'halal']],\n",
              " (8694, 4438): [['latitude', 'longitude', 'vegetarian'],\n",
              "  ['latitude', 'longitude', 'vegetarian'],\n",
              "  ['latitude', 'longitude', 'vegetarian'],\n",
              "  ['latitude', 'longitude'],\n",
              "  ['latitude', 'longitude', 'glten-free'],\n",
              "  ['latitude', 'longitude', 'vegetarian'],\n",
              "  ['latitude', 'longitude', 'vegetarian'],\n",
              "  ['latitude', 'longitude'],\n",
              "  ['latitude', 'longitude', 'vegetarian'],\n",
              "  ['latitude', 'longitude']],\n",
              " (8694, 13006): [['latitude', 'longitude'],\n",
              "  ['latitude', 'longitude'],\n",
              "  ['latitude', 'longitude'],\n",
              "  ['latitude', 'longitude'],\n",
              "  ['latitude', 'longitude'],\n",
              "  ['latitude', 'longitude'],\n",
              "  ['latitude', 'longitude'],\n",
              "  ['latitude', 'longitude'],\n",
              "  ['latitude', 'longitude'],\n",
              "  ['latitude', 'longitude']],\n",
              " (8694, 6988): [['latitude', 'longitude', 'soy-free'],\n",
              "  ['latitude', 'longitude'],\n",
              "  ['latitude', 'longitude', 'soy-free'],\n",
              "  ['latitude', 'longitude'],\n",
              "  ['latitude', 'longitude', 'soy-free'],\n",
              "  ['latitude', 'longitude', 'soy-free'],\n",
              "  ['latitude', 'longitude', 'soy-free'],\n",
              "  ['latitude', 'longitude', 'soy-free'],\n",
              "  ['latitude', 'longitude'],\n",
              "  ['latitude', 'longitude']],\n",
              " (8694, 164): [['latitude', 'longitude'],\n",
              "  ['latitude', 'longitude'],\n",
              "  ['latitude', 'longitude'],\n",
              "  ['latitude', 'longitude'],\n",
              "  ['latitude', 'longitude'],\n",
              "  ['latitude', 'longitude'],\n",
              "  ['latitude', 'longitude'],\n",
              "  ['latitude', 'longitude'],\n",
              "  ['latitude', 'longitude'],\n",
              "  ['latitude', 'longitude', 'vegetarian']],\n",
              " (8694, 39039): [['latitude', 'longitude'],\n",
              "  ['latitude', 'longitude'],\n",
              "  ['latitude', 'longitude', 'vegetarian'],\n",
              "  ['latitude', 'longitude'],\n",
              "  ['latitude', 'longitude', 'dairy-free'],\n",
              "  ['latitude', 'longitude'],\n",
              "  ['latitude', 'longitude', 'vegetarian'],\n",
              "  ['latitude', 'longitude'],\n",
              "  ['latitude', 'longitude', 'vegetarian'],\n",
              "  ['latitude', 'longitude', 'vegetarian']],\n",
              " (20172, 7380): [['latitude', 'longitude', 'glten-free', 'vegan'],\n",
              "  ['latitude', 'longitude', 'glten-free', 'vegan'],\n",
              "  ['latitude', 'longitude', 'glten-free', 'vegan'],\n",
              "  ['latitude', 'longitude', 'glten-free'],\n",
              "  ['latitude', 'longitude', 'vegan'],\n",
              "  ['latitude', 'longitude', 'soy-free', 'vegan'],\n",
              "  ['latitude', 'longitude', 'vegan'],\n",
              "  ['latitude', 'longitude', 'glten-free'],\n",
              "  ['latitude', 'longitude', 'vegan', 'dairy-free'],\n",
              "  ['latitude', 'longitude', 'vegan', 'dairy-free']],\n",
              " (20172, 432): [['latitude', 'longitude', 'dairy-free'],\n",
              "  ['latitude', 'longitude', 'dairy-free'],\n",
              "  ['latitude', 'longitude', 'dairy-free'],\n",
              "  ['latitude', 'longitude', 'dairy-free'],\n",
              "  ['latitude', 'longitude', 'dairy-free'],\n",
              "  ['latitude', 'longitude', 'dairy-free'],\n",
              "  ['latitude', 'longitude'],\n",
              "  ['latitude', 'longitude', 'dairy-free'],\n",
              "  ['latitude', 'longitude', 'dairy-free'],\n",
              "  ['latitude', 'longitude', 'dairy-free']],\n",
              " (20172, 20093): [['latitude', 'longitude'],\n",
              "  ['latitude', 'longitude'],\n",
              "  ['latitude', 'longitude'],\n",
              "  ['latitude', 'longitude'],\n",
              "  ['latitude', 'longitude'],\n",
              "  ['latitude', 'longitude'],\n",
              "  ['latitude', 'longitude'],\n",
              "  ['latitude', 'longitude'],\n",
              "  ['latitude', 'longitude', 'vegetarian'],\n",
              "  ['latitude', 'longitude']],\n",
              " (20172, 8852): [['latitude', 'longitude'],\n",
              "  ['latitude', 'longitude'],\n",
              "  ['latitude', 'longitude'],\n",
              "  ['latitude', 'longitude'],\n",
              "  ['latitude', 'longitude'],\n",
              "  ['latitude', 'longitude'],\n",
              "  ['latitude', 'longitude'],\n",
              "  ['latitude', 'longitude'],\n",
              "  ['latitude', 'longitude', 'vegetarian'],\n",
              "  ['latitude', 'longitude']],\n",
              " (1669, 996): [['latitude', 'longitude'],\n",
              "  ['latitude', 'longitude'],\n",
              "  ['latitude', 'longitude', 'glten-free'],\n",
              "  ['latitude', 'longitude'],\n",
              "  ['latitude', 'longitude'],\n",
              "  ['latitude', 'longitude', 'glten-free'],\n",
              "  ['latitude', 'longitude'],\n",
              "  ['latitude', 'longitude'],\n",
              "  ['latitude', 'longitude'],\n",
              "  ['latitude', 'longitude']],\n",
              " (1669, 3851): [['latitude', 'longitude', 'glten-free', 'vegan'],\n",
              "  ['latitude', 'longitude', 'vegan'],\n",
              "  ['latitude', 'longitude', 'glten-free'],\n",
              "  ['latitude', 'longitude', 'glten-free'],\n",
              "  ['latitude', 'longitude', 'glten-free'],\n",
              "  ['latitude', 'longitude', 'vegan'],\n",
              "  ['latitude', 'longitude', 'glten-free', 'vegan'],\n",
              "  ['latitude', 'longitude', 'vegan'],\n",
              "  ['latitude', 'longitude', 'glten-free'],\n",
              "  ['latitude', 'longitude', 'glten-free', 'vegan']],\n",
              " (1669, 34458): [['latitude', 'longitude', 'vegan'],\n",
              "  ['latitude', 'longitude', 'vegetarian'],\n",
              "  ['latitude', 'longitude', 'vegetarian'],\n",
              "  ['latitude', 'longitude', 'vegetarian', 'kosher'],\n",
              "  ['latitude', 'longitude', 'vegetarian'],\n",
              "  ['latitude', 'longitude', 'vegetarian', 'vegan'],\n",
              "  ['latitude', 'longitude', 'vegetarian', 'kosher'],\n",
              "  ['latitude', 'longitude', 'kosher', 'vegan'],\n",
              "  ['latitude', 'longitude', 'vegetarian'],\n",
              "  ['latitude', 'longitude', 'vegetarian']],\n",
              " (1669, 6460): [['latitude', 'longitude', 'vegetarian'],\n",
              "  ['latitude', 'longitude', 'vegetarian'],\n",
              "  ['latitude', 'longitude', 'vegetarian'],\n",
              "  ['latitude', 'longitude', 'vegetarian'],\n",
              "  ['latitude', 'longitude'],\n",
              "  ['latitude', 'longitude', 'vegetarian'],\n",
              "  ['latitude', 'longitude', 'vegetarian'],\n",
              "  ['latitude', 'longitude', 'vegetarian'],\n",
              "  ['latitude', 'longitude'],\n",
              "  ['latitude', 'longitude']],\n",
              " (502, 32152): [['latitude', 'longitude', 'glten-free'],\n",
              "  ['latitude', 'longitude'],\n",
              "  ['latitude', 'longitude', 'glten-free'],\n",
              "  ['latitude', 'longitude', 'vegetarian', 'glten-free'],\n",
              "  ['latitude', 'longitude', 'glten-free'],\n",
              "  ['latitude', 'longitude', 'glten-free'],\n",
              "  ['latitude', 'longitude', 'glten-free'],\n",
              "  ['latitude', 'longitude', 'glten-free'],\n",
              "  ['latitude', 'longitude', 'vegetarian', 'soy-free', 'vegan'],\n",
              "  ['latitude', 'longitude', 'vegetarian', 'glten-free']],\n",
              " (502, 15510): [['latitude', 'longitude', 'glten-free'],\n",
              "  ['latitude', 'longitude'],\n",
              "  ['latitude', 'longitude', 'glten-free'],\n",
              "  ['latitude', 'longitude'],\n",
              "  ['latitude', 'longitude', 'glten-free'],\n",
              "  ['latitude', 'longitude', 'glten-free'],\n",
              "  ['latitude', 'longitude'],\n",
              "  ['latitude', 'longitude', 'glten-free'],\n",
              "  ['latitude', 'longitude', 'glten-free'],\n",
              "  ['latitude', 'longitude', 'glten-free']],\n",
              " (502, 41209): [['latitude', 'longitude', 'soy-free'],\n",
              "  ['latitude', 'longitude', 'halal'],\n",
              "  ['latitude', 'longitude'],\n",
              "  ['latitude', 'longitude', 'soy-free'],\n",
              "  ['latitude', 'longitude', 'vegetarian'],\n",
              "  ['latitude', 'longitude'],\n",
              "  ['latitude', 'longitude', 'soy-free'],\n",
              "  ['latitude', 'longitude'],\n",
              "  ['latitude', 'longitude', 'soy-free'],\n",
              "  ['latitude', 'longitude']],\n",
              " (50, 4398): [['latitude', 'longitude', 'glten-free'],\n",
              "  ['latitude', 'longitude', 'vegetarian'],\n",
              "  ['latitude', 'longitude', 'halal'],\n",
              "  ['latitude', 'longitude', 'vegetarian'],\n",
              "  ['latitude', 'longitude', 'glten-free'],\n",
              "  ['latitude', 'longitude', 'vegetarian', 'kosher'],\n",
              "  ['latitude', 'longitude'],\n",
              "  ['latitude', 'longitude', 'vegetarian'],\n",
              "  ['latitude', 'longitude'],\n",
              "  ['latitude', 'longitude', 'glten-free']],\n",
              " (50, 9): [['latitude', 'longitude'],\n",
              "  ['latitude', 'longitude', 'glten-free', 'vegan'],\n",
              "  ['latitude', 'longitude'],\n",
              "  ['latitude', 'longitude'],\n",
              "  ['latitude', 'longitude'],\n",
              "  ['latitude', 'longitude'],\n",
              "  ['latitude', 'longitude'],\n",
              "  ['latitude', 'longitude'],\n",
              "  ['latitude', 'longitude'],\n",
              "  ['latitude', 'longitude', 'Open24Hours']],\n",
              " (50, 5706): [['latitude', 'longitude', 'vegan'],\n",
              "  ['latitude', 'longitude', 'glten-free'],\n",
              "  ['latitude', 'longitude', 'vegetarian'],\n",
              "  ['latitude', 'longitude', 'vegetarian'],\n",
              "  ['latitude', 'longitude', 'vegan'],\n",
              "  ['latitude', 'longitude'],\n",
              "  ['latitude', 'longitude', 'glten-free', 'vegan'],\n",
              "  ['latitude', 'longitude', 'vegetarian'],\n",
              "  ['latitude', 'longitude', 'glten-free'],\n",
              "  ['latitude', 'longitude', 'vegan']],\n",
              " (50, 25621): [['latitude', 'longitude'],\n",
              "  ['latitude', 'longitude'],\n",
              "  ['latitude', 'longitude'],\n",
              "  ['latitude', 'longitude'],\n",
              "  ['latitude', 'longitude', 'glten-free'],\n",
              "  ['latitude', 'longitude'],\n",
              "  ['latitude', 'longitude'],\n",
              "  ['latitude', 'longitude'],\n",
              "  ['latitude', 'longitude'],\n",
              "  ['latitude', 'longitude']],\n",
              " (50, 12104): [['latitude', 'longitude', 'dairy-free'],\n",
              "  ['latitude', 'longitude'],\n",
              "  ['latitude', 'longitude', 'dairy-free'],\n",
              "  ['latitude', 'longitude'],\n",
              "  ['latitude', 'longitude'],\n",
              "  ['latitude', 'longitude'],\n",
              "  ['latitude', 'longitude', 'dairy-free'],\n",
              "  ['latitude', 'longitude', 'dairy-free'],\n",
              "  ['latitude', 'longitude'],\n",
              "  ['latitude', 'longitude', 'dairy-free']],\n",
              " (1129, 8510): [['latitude', 'longitude', 'soy-free'],\n",
              "  ['latitude', 'longitude', 'soy-free'],\n",
              "  ['latitude', 'longitude', 'soy-free'],\n",
              "  ['latitude', 'longitude', 'soy-free'],\n",
              "  ['latitude', 'longitude', 'soy-free'],\n",
              "  ['latitude', 'longitude', 'soy-free'],\n",
              "  ['latitude', 'longitude', 'soy-free'],\n",
              "  ['latitude', 'longitude', 'soy-free'],\n",
              "  ['latitude', 'longitude', 'soy-free'],\n",
              "  ['latitude', 'longitude', 'soy-free']],\n",
              " (1129, 24013): [['latitude', 'longitude', 'vegetarian'],\n",
              "  ['latitude', 'longitude', 'vegetarian', 'soy-free'],\n",
              "  ['latitude', 'longitude', 'vegetarian'],\n",
              "  ['latitude', 'longitude', 'vegetarian'],\n",
              "  ['latitude', 'longitude', 'Open24Hours'],\n",
              "  ['latitude', 'longitude', 'Open24Hours'],\n",
              "  ['latitude', 'longitude', 'vegetarian'],\n",
              "  ['latitude', 'longitude', 'vegetarian', 'Open24Hours'],\n",
              "  ['latitude', 'longitude', 'vegetarian', 'soy-free'],\n",
              "  ['latitude', 'longitude', 'Open24Hours']],\n",
              " (1129, 4637): [['latitude', 'longitude', 'soy-free'],\n",
              "  ['latitude', 'longitude', 'soy-free'],\n",
              "  ['latitude', 'longitude', 'soy-free'],\n",
              "  ['latitude', 'longitude', 'soy-free'],\n",
              "  ['latitude', 'longitude', 'soy-free'],\n",
              "  ['latitude', 'longitude', 'soy-free'],\n",
              "  ['latitude', 'longitude', 'soy-free'],\n",
              "  ['latitude', 'longitude', 'soy-free'],\n",
              "  ['latitude', 'longitude', 'soy-free'],\n",
              "  ['latitude', 'longitude', 'soy-free']],\n",
              " (1129, 15357): [['latitude', 'longitude', 'Open24Hours'],\n",
              "  ['latitude', 'longitude', 'RestaurantsCounterService'],\n",
              "  ['latitude', 'longitude', 'RestaurantsCounterService'],\n",
              "  ['latitude', 'longitude', 'RestaurantsCounterService', 'kosher'],\n",
              "  ['latitude', 'longitude', 'RestaurantsCounterService'],\n",
              "  ['latitude', 'longitude', 'RestaurantsCounterService'],\n",
              "  ['latitude', 'longitude', 'RestaurantsCounterService'],\n",
              "  ['latitude', 'longitude', 'RestaurantsCounterService'],\n",
              "  ['latitude', 'longitude', 'RestaurantsCounterService'],\n",
              "  ['latitude', 'longitude', 'RestaurantsCounterService']],\n",
              " (1129, 15406): [['latitude', 'longitude', 'dairy-free'],\n",
              "  ['latitude', 'longitude', 'dairy-free'],\n",
              "  ['latitude', 'longitude', 'dairy-free'],\n",
              "  ['latitude', 'longitude', 'dairy-free'],\n",
              "  ['latitude', 'longitude', 'RestaurantsCounterService'],\n",
              "  ['latitude', 'longitude', 'dairy-free'],\n",
              "  ['latitude', 'longitude', 'dairy-free'],\n",
              "  ['latitude', 'longitude', 'dairy-free'],\n",
              "  ['latitude', 'longitude', 'dairy-free'],\n",
              "  ['latitude', 'longitude', 'dairy-free']],\n",
              " (7063, 44656): [['latitude', 'longitude'],\n",
              "  ['latitude', 'longitude'],\n",
              "  ['latitude', 'longitude'],\n",
              "  ['latitude', 'longitude'],\n",
              "  ['latitude', 'longitude'],\n",
              "  ['latitude', 'longitude'],\n",
              "  ['latitude', 'longitude'],\n",
              "  ['latitude', 'longitude'],\n",
              "  ['latitude', 'longitude'],\n",
              "  ['latitude', 'longitude']],\n",
              " (7063, 3966): [['latitude', 'longitude'],\n",
              "  ['latitude', 'longitude'],\n",
              "  ['latitude', 'longitude'],\n",
              "  ['latitude', 'longitude'],\n",
              "  ['latitude', 'longitude'],\n",
              "  ['latitude', 'longitude', 'vegetarian'],\n",
              "  ['latitude', 'longitude'],\n",
              "  ['latitude', 'longitude'],\n",
              "  ['latitude', 'longitude'],\n",
              "  ['latitude', 'longitude']],\n",
              " (7063, 13200): [['latitude', 'longitude'],\n",
              "  ['latitude', 'longitude'],\n",
              "  ['latitude', 'longitude'],\n",
              "  ['latitude', 'longitude'],\n",
              "  ['latitude', 'longitude'],\n",
              "  ['latitude', 'longitude'],\n",
              "  ['latitude', 'longitude'],\n",
              "  ['latitude', 'longitude'],\n",
              "  ['latitude', 'longitude'],\n",
              "  ['latitude', 'longitude']],\n",
              " (7063, 36716): [['latitude', 'longitude', 'vegetarian'],\n",
              "  ['latitude', 'longitude', 'vegetarian'],\n",
              "  ['latitude', 'longitude', 'vegetarian'],\n",
              "  ['latitude', 'longitude', 'vegetarian'],\n",
              "  ['latitude', 'longitude', 'vegetarian'],\n",
              "  ['latitude', 'longitude', 'vegetarian'],\n",
              "  ['latitude', 'longitude', 'vegetarian'],\n",
              "  ['latitude', 'longitude', 'vegetarian'],\n",
              "  ['latitude', 'longitude', 'vegetarian'],\n",
              "  ['latitude', 'longitude']],\n",
              " (7063, 25018): [['latitude', 'longitude', 'halal'],\n",
              "  ['latitude', 'longitude', 'halal'],\n",
              "  ['latitude', 'longitude', 'halal'],\n",
              "  ['latitude', 'longitude', 'halal'],\n",
              "  ['latitude', 'longitude', 'halal'],\n",
              "  ['latitude', 'longitude'],\n",
              "  ['latitude', 'longitude', 'halal'],\n",
              "  ['latitude', 'longitude'],\n",
              "  ['latitude', 'longitude'],\n",
              "  ['latitude', 'longitude', 'halal']],\n",
              " (55141, 10040): [['latitude', 'longitude', 'glten-free'],\n",
              "  ['latitude', 'longitude'],\n",
              "  ['latitude', 'longitude'],\n",
              "  ['latitude', 'longitude', 'glten-free'],\n",
              "  ['latitude', 'longitude'],\n",
              "  ['latitude', 'longitude', 'glten-free'],\n",
              "  ['latitude', 'longitude'],\n",
              "  ['latitude', 'longitude', 'glten-free'],\n",
              "  ['latitude', 'longitude', 'glten-free'],\n",
              "  ['latitude', 'longitude', 'glten-free']],\n",
              " (55141, 31843): [['latitude', 'longitude'],\n",
              "  ['latitude', 'longitude', 'glten-free'],\n",
              "  ['latitude', 'longitude'],\n",
              "  ['latitude', 'longitude', 'glten-free'],\n",
              "  ['latitude', 'longitude', 'glten-free'],\n",
              "  ['latitude', 'longitude', 'glten-free'],\n",
              "  ['latitude', 'longitude', 'glten-free'],\n",
              "  ['latitude', 'longitude'],\n",
              "  ['latitude', 'longitude', 'glten-free'],\n",
              "  ['latitude', 'longitude', 'glten-free']],\n",
              " (55141, 41818): [['latitude', 'longitude', 'glten-free'],\n",
              "  ['latitude', 'longitude'],\n",
              "  ['latitude', 'longitude'],\n",
              "  ['latitude', 'longitude', 'glten-free'],\n",
              "  ['latitude', 'longitude', 'glten-free'],\n",
              "  ['latitude', 'longitude', 'glten-free'],\n",
              "  ['latitude', 'longitude', 'glten-free'],\n",
              "  ['latitude', 'longitude', 'glten-free'],\n",
              "  ['latitude', 'longitude', 'glten-free'],\n",
              "  ['latitude', 'longitude', 'glten-free']],\n",
              " (55141, 39096): [['latitude', 'longitude', 'RestaurantsCounterService'],\n",
              "  ['latitude', 'longitude', 'dairy-free'],\n",
              "  ['latitude', 'longitude', 'glten-free']],\n",
              " (55141, 3556): [['latitude', 'longitude', 'dairy-free'],\n",
              "  ['latitude', 'longitude'],\n",
              "  ['latitude', 'longitude', 'dairy-free'],\n",
              "  ['latitude', 'longitude'],\n",
              "  ['latitude', 'longitude', 'dairy-free'],\n",
              "  ['latitude', 'longitude', 'dairy-free'],\n",
              "  ['latitude', 'longitude', 'dairy-free'],\n",
              "  ['latitude', 'longitude'],\n",
              "  ['latitude', 'longitude', 'dairy-free'],\n",
              "  ['latitude', 'longitude', 'dairy-free']],\n",
              " (20172, 12278): [['latitude', 'longitude', 'vegetarian']],\n",
              " (502, 1034): [['latitude', 'longitude']]}"
            ]
          },
          "metadata": {},
          "execution_count": 108
        }
      ]
    },
    {
      "cell_type": "code",
      "source": [
        "stability=0\n",
        "# count_all=0\n",
        "for ui in dict_features.keys():\n",
        "  features=dict_features[ui]\n",
        "  stabs=0\n",
        "  count=0\n",
        "  if(len(features)>1):\n",
        "    # count_all+=1\n",
        "    for i in range(len(features)):\n",
        "      for j in range(len(features)):\n",
        "        if i != j:\n",
        "          intersection = list(set(features[i]) & set(features[j]))\n",
        "          union = list(set(features[i]) | set(features[j]))\n",
        "          # print(features[i],features[j])\n",
        "          # print(intersection)\n",
        "          # print(union)\n",
        "          count+=1\n",
        "          stabs+=(len(intersection)/len(union))\n",
        "    # print(stabs)\n",
        "    # print(len(features)*(len(features)-1))\n",
        "    # print((stabs/(len(features)*(len(features)-1))))\n",
        "    stability+=(stabs/(9.0*10.0))\n",
        "\n",
        "stability=stability/len(dict_features)\n",
        "print(stability)"
      ],
      "metadata": {
        "colab": {
          "base_uri": "https://localhost:8080/"
        },
        "id": "YzjzCNTA5Nxu",
        "outputId": "599a4b68-357d-427e-97bd-fc20100c035b"
      },
      "execution_count": null,
      "outputs": [
        {
          "output_type": "stream",
          "name": "stdout",
          "text": [
            "0.7793595679012343\n"
          ]
        }
      ]
    }
  ],
  "metadata": {
    "accelerator": "GPU",
    "colab": {
      "machine_shape": "hm",
      "provenance": [],
      "collapsed_sections": [
        "GU5-lgWiKDV-"
      ]
    },
    "gpuClass": "standard",
    "kernelspec": {
      "display_name": "Python 3",
      "name": "python3"
    },
    "language_info": {
      "name": "python"
    }
  },
  "nbformat": 4,
  "nbformat_minor": 0
}