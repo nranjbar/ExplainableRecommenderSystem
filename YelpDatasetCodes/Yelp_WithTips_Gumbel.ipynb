{
  "cells": [
    {
      "cell_type": "markdown",
      "source": [
        "Links to Yelp dataset files : https://drive.google.com/drive/folders/15_pQBF8zIOnxXSaDx19DN8eU-lXrvIeW?usp=share_link https://drive.google.com/drive/folders/1-9SOeLW8g97fiX2On7_7Wm1ePt2pSnDU?usp=share_link"
      ],
      "metadata": {
        "id": "X4rUbKJnLXFx"
      }
    },
    {
      "cell_type": "code",
      "execution_count": null,
      "metadata": {
        "colab": {
          "base_uri": "https://localhost:8080/"
        },
        "id": "Fb2pe7dpsweT",
        "outputId": "adc3cfc4-9ca4-4064-9500-695b82618159"
      },
      "outputs": [
        {
          "output_type": "stream",
          "name": "stdout",
          "text": [
            "Mounted at /content/drive\n"
          ]
        }
      ],
      "source": [
        "from google.colab import drive\n",
        "drive.mount('/content/drive')"
      ]
    },
    {
      "cell_type": "markdown",
      "source": [
        "# Preprocessing..."
      ],
      "metadata": {
        "id": "g88ngjiKKqnr"
      }
    },
    {
      "cell_type": "code",
      "execution_count": null,
      "metadata": {
        "id": "kqmspiJd2PHt"
      },
      "outputs": [],
      "source": [
        "import pandas as pd\n",
        "import numpy as np\n",
        "import torch\n",
        "import json\n",
        "import matplotlib.pyplot as plt\n",
        "import os\n",
        "import tqdm\n",
        "import pickle\n",
        "from pathlib import Path\n",
        "from torch.utils.data import DataLoader\n",
        "from sklearn.metrics import ndcg_score\n",
        "np.random.seed(0)"
      ]
    },
    {
      "cell_type": "code",
      "execution_count": null,
      "metadata": {
        "id": "3uKVAbhA2jQh"
      },
      "outputs": [],
      "source": [
        "from nltk.corpus import stopwords\n",
        "from nltk import word_tokenize\n",
        "from nltk import FreqDist\n",
        "import re\n",
        "from nltk.tokenize import RegexpTokenizer\n",
        "import nltk\n",
        "from nltk.stem import WordNetLemmatizer\n",
        "from nltk import word_tokenize,pos_tag"
      ]
    },
    {
      "cell_type": "code",
      "execution_count": null,
      "metadata": {
        "id": "p9GEI0QDVX5a"
      },
      "outputs": [],
      "source": [
        "save_path='/content/drive/Shareddrives/Unlimited Drive | @LicenseMarket/Recommender/Yelp/'"
      ]
    },
    {
      "cell_type": "code",
      "execution_count": null,
      "metadata": {
        "id": "YEUH3kuU4xkF"
      },
      "outputs": [],
      "source": [
        "import torch\n",
        "import gc\n",
        "for i in range(10000):\n",
        "  torch.cuda.empty_cache()\n",
        "# del checkin_df\n",
        "# del data\n",
        "# del data_file\n"
      ]
    },
    {
      "cell_type": "code",
      "source": [
        "gc.collect()"
      ],
      "metadata": {
        "colab": {
          "base_uri": "https://localhost:8080/"
        },
        "id": "56O38jQEbZlG",
        "outputId": "1bc54275-099c-4f02-8d44-b86010b560dd"
      },
      "execution_count": null,
      "outputs": [
        {
          "output_type": "execute_result",
          "data": {
            "text/plain": [
              "0"
            ]
          },
          "metadata": {},
          "execution_count": 111
        }
      ]
    },
    {
      "cell_type": "code",
      "execution_count": null,
      "metadata": {
        "id": "vTj0JnJbdomZ"
      },
      "outputs": [],
      "source": [
        "import os\n",
        "os.environ['KAGGLE_CONFIG_DIR'] = \"/content/drive/Shareddrives/Unlimited Drive | @LicenseMarket/Recommender/Yelp/Kaggle/\""
      ]
    },
    {
      "cell_type": "code",
      "execution_count": null,
      "metadata": {
        "colab": {
          "base_uri": "https://localhost:8080/"
        },
        "id": "a6ug-jMcd0B7",
        "outputId": "547a31c0-9a9f-4bea-cb90-c953ba1203b8"
      },
      "outputs": [
        {
          "name": "stdout",
          "output_type": "stream",
          "text": [
            "/content/drive/Shareddrives/Unlimited Drive | @LicenseMarket/Recommender/Yelp/Kaggle\n"
          ]
        }
      ],
      "source": [
        "%cd /content/drive/Shareddrives/Unlimited Drive | @LicenseMarket/Recommender/Yelp/Kaggle/"
      ]
    },
    {
      "cell_type": "code",
      "execution_count": null,
      "metadata": {
        "colab": {
          "base_uri": "https://localhost:8080/"
        },
        "id": "qRHQP68XeHJ2",
        "outputId": "5031f10b-f71e-4351-af52-7751519d5132"
      },
      "outputs": [
        {
          "name": "stdout",
          "output_type": "stream",
          "text": [
            "Downloading yelp-dataset.zip to /content/drive/Shareddrives/Unlimited Drive | @LicenseMarket/Recommender/Yelp/Kaggle\n",
            "100% 4.06G/4.07G [02:00<00:00, 27.4MB/s]\n",
            "100% 4.07G/4.07G [02:00<00:00, 36.3MB/s]\n"
          ]
        }
      ],
      "source": [
        "!kaggle datasets download -d yelp-dataset/yelp-dataset --unzip"
      ]
    },
    {
      "cell_type": "code",
      "execution_count": null,
      "metadata": {
        "id": "J8-uBMGK4934"
      },
      "outputs": [],
      "source": [
        "import json\n",
        "import pandas as pd\n",
        "data_file = open(save_path+\"Kaggle/yelp_academic_dataset_business.json\")\n",
        "data = []\n",
        "for line in data_file:\n",
        "  data.append(json.loads(line))\n",
        "business_df = pd.DataFrame(data)\n",
        "data_file.close()"
      ]
    },
    {
      "cell_type": "code",
      "execution_count": null,
      "metadata": {
        "id": "ttrdOcdJ6Jd_"
      },
      "outputs": [],
      "source": [
        "business_df.attributes= business_df.attributes.apply(lambda y: np.nan if y==None else y)"
      ]
    },
    {
      "cell_type": "code",
      "execution_count": null,
      "metadata": {
        "id": "5x8Xxjtw61jK"
      },
      "outputs": [],
      "source": [
        "business_df.dropna(axis=0,inplace=True)"
      ]
    },
    {
      "cell_type": "code",
      "execution_count": null,
      "metadata": {
        "id": "-IgjoEhTFS8y"
      },
      "outputs": [],
      "source": [
        "business_df1=business_df[business_df['is_open']==1]"
      ]
    },
    {
      "cell_type": "code",
      "execution_count": null,
      "metadata": {
        "id": "R6Wq6g_ZFhtE"
      },
      "outputs": [],
      "source": [
        "business_df=business_df1[business_df1['review_count']>10]"
      ]
    },
    {
      "cell_type": "code",
      "execution_count": null,
      "metadata": {
        "id": "IShmy3UlKKTD"
      },
      "outputs": [],
      "source": [
        "import json\n",
        "import pandas as pd\n",
        "data_file = open(save_path+\"Kaggle/yelp_academic_dataset_tip.json\")\n",
        "data = []\n",
        "for line in data_file:\n",
        "  data.append(json.loads(line))\n",
        "tip_df = pd.DataFrame(data)\n",
        "data_file.close()"
      ]
    },
    {
      "cell_type": "code",
      "execution_count": null,
      "metadata": {
        "id": "cI8Z7jL7vy39"
      },
      "outputs": [],
      "source": [
        "tips_bus_ids=tip_df['business_id'].values\n",
        "tips_user_ids= tip_df['user_id'].values"
      ]
    },
    {
      "cell_type": "code",
      "execution_count": null,
      "metadata": {
        "colab": {
          "base_uri": "https://localhost:8080/"
        },
        "id": "p9leN5lKwhF3",
        "outputId": "5bebe100-c216-42ab-e292-80675cfcdf1f"
      },
      "outputs": [
        {
          "output_type": "stream",
          "name": "stderr",
          "text": [
            "/usr/local/lib/python3.8/dist-packages/pandas/core/frame.py:4906: SettingWithCopyWarning: \n",
            "A value is trying to be set on a copy of a slice from a DataFrame\n",
            "\n",
            "See the caveats in the documentation: https://pandas.pydata.org/pandas-docs/stable/user_guide/indexing.html#returning-a-view-versus-a-copy\n",
            "  return super().drop(\n"
          ]
        }
      ],
      "source": [
        "business_df.drop(business_df.index[~business_df['business_id'].isin(tips_bus_ids)], inplace=True)"
      ]
    },
    {
      "cell_type": "code",
      "execution_count": null,
      "metadata": {
        "id": "QPB9Kh7jObLs"
      },
      "outputs": [],
      "source": [
        "saved_bus_ids=os.listdir(save_path+'tips_bert_items_dfs/')"
      ]
    },
    {
      "cell_type": "code",
      "execution_count": null,
      "metadata": {
        "id": "8x5BDwLcVwMZ",
        "colab": {
          "base_uri": "https://localhost:8080/"
        },
        "outputId": "d009627e-14b0-448a-b075-1b3fc08f5b84"
      },
      "outputs": [
        {
          "output_type": "execute_result",
          "data": {
            "text/plain": [
              "48732"
            ]
          },
          "metadata": {},
          "execution_count": 15
        }
      ],
      "source": [
        "len(saved_bus_ids)"
      ]
    },
    {
      "cell_type": "code",
      "execution_count": null,
      "metadata": {
        "id": "yJIZmKvuK11t"
      },
      "outputs": [],
      "source": [
        "new_saved_bus_ids=[]\n",
        "for bus_id in saved_bus_ids:\n",
        "  new_saved_bus_ids.append(bus_id[:-5])"
      ]
    },
    {
      "cell_type": "code",
      "execution_count": null,
      "metadata": {
        "id": "Yx7N0vzgvJpe"
      },
      "outputs": [],
      "source": [
        "business_df.drop(business_df.index[~business_df['business_id'].isin(new_saved_bus_ids)], inplace=True)"
      ]
    },
    {
      "cell_type": "code",
      "execution_count": null,
      "metadata": {
        "id": "yMtEmRhxNA1v"
      },
      "outputs": [],
      "source": [
        "tip_df.drop(tip_df.index[~tip_df['business_id'].isin(new_saved_bus_ids)], inplace=True)\n",
        "tip_df.drop(tip_df.index[~tip_df['business_id'].isin(business_df['business_id'].values)], inplace=True)"
      ]
    },
    {
      "cell_type": "code",
      "execution_count": null,
      "metadata": {
        "id": "GgMkVn0BNPyM"
      },
      "outputs": [],
      "source": [
        "tip_df['bus_user_id']=tip_df[['business_id','user_id']].apply(tuple, axis=1)"
      ]
    },
    {
      "cell_type": "code",
      "execution_count": null,
      "metadata": {
        "id": "uxC-t71kNc6h"
      },
      "outputs": [],
      "source": [
        "tip_df"
      ]
    },
    {
      "cell_type": "code",
      "execution_count": null,
      "metadata": {
        "id": "Sff0Zc9Pwww1"
      },
      "outputs": [],
      "source": [
        "business_df.reset_index(inplace=True)"
      ]
    },
    {
      "cell_type": "code",
      "execution_count": null,
      "metadata": {
        "id": "LlenpPcQySQ1"
      },
      "outputs": [],
      "source": [
        "business_df.drop(['index'],axis=1,inplace=True)"
      ]
    },
    {
      "cell_type": "code",
      "execution_count": null,
      "metadata": {
        "colab": {
          "base_uri": "https://localhost:8080/",
          "height": 1000
        },
        "id": "_FgvXAjByY7V",
        "outputId": "95ce4d46-2383-4e28-c6f0-5f377995b357"
      },
      "outputs": [
        {
          "output_type": "execute_result",
          "data": {
            "text/plain": [
              "                  business_id                                   name  \\\n",
              "0      mpf3x-BjTdTEA3yCZrAYPw                          The UPS Store   \n",
              "1      MTSW4McQd7CbVtyjqoe9mw                     St Honore Pastries   \n",
              "2      n_0UpQx1hsNbnPUSlodU8w                        Famous Footwear   \n",
              "3      il_Ro8jwPlHresjw9EGmBg                                Denny's   \n",
              "4      MUTTqe8uqyMdBl186RmNeA                               Tuna Bar   \n",
              "...                       ...                                    ...   \n",
              "48084  9U1Igcpe954LoWZRmNc-zg    Hand & Stone Massage And Facial Spa   \n",
              "48085  GeEveoOaU2YKD7jJtEfA_g                        DeVons Jewelers   \n",
              "48086  qQ7FHvkGEMqoPKKXPk4gjA  La Quinta by Wyndham NW Tucson Marana   \n",
              "48087  LJ4GjQ1HL6kqvIPpNUNNaQ               Shanti Yoga and Ayurveda   \n",
              "48088  WnT9NIzQgLlILjPT0kEcsQ          Adelita Taqueria & Restaurant   \n",
              "\n",
              "                                          address          city state  \\\n",
              "0                 87 Grasso Plaza Shopping Center        Affton    MO   \n",
              "1                                     935 Race St  Philadelphia    PA   \n",
              "2      8522 Eager Road, Dierbergs Brentwood Point     Brentwood    MO   \n",
              "3                                    8901 US 31 S  Indianapolis    IN   \n",
              "4                                     205 Race St  Philadelphia    PA   \n",
              "...                                           ...           ...   ...   \n",
              "48084                1100 S Columbus Blvd, Ste 24  Philadelphia    PA   \n",
              "48085                   13981 S Virginia St, 402A          Reno    NV   \n",
              "48086                    6020 West Hospitality Rd        Tucson    AZ   \n",
              "48087                          1638 Pine St, Fl 1  Philadelphia    PA   \n",
              "48088                               1108 S 9th St  Philadelphia    PA   \n",
              "\n",
              "      postal_code   latitude   longitude  stars  review_count  is_open  \\\n",
              "0           63123  38.551126  -90.335695    3.0            15        1   \n",
              "1           19107  39.955505  -75.155564    4.0            80        1   \n",
              "2           63144  38.627695  -90.340465    2.5            13        1   \n",
              "3           46227  39.637133  -86.127217    2.5            28        1   \n",
              "4           19106  39.953949  -75.143226    4.0           245        1   \n",
              "...           ...        ...         ...    ...           ...      ...   \n",
              "48084       19147  39.932756  -75.144504    3.0            32        1   \n",
              "48085       89511  39.404552 -119.750986    5.0            34        1   \n",
              "48086       85743  32.358587 -111.093308    2.5            67        1   \n",
              "48087       19103  39.945966  -75.169666    4.5            39        1   \n",
              "48088       19147  39.935982  -75.158665    4.5            35        1   \n",
              "\n",
              "                                              attributes  \\\n",
              "0                 {'BusinessAcceptsCreditCards': 'True'}   \n",
              "1      {'RestaurantsDelivery': 'False', 'OutdoorSeati...   \n",
              "2      {'BusinessAcceptsCreditCards': 'True', 'Restau...   \n",
              "3      {'RestaurantsReservations': 'False', 'Restaura...   \n",
              "4      {'RestaurantsReservations': 'True', 'Restauran...   \n",
              "...                                                  ...   \n",
              "48084  {'BusinessAcceptsCreditCards': 'True', 'Wheelc...   \n",
              "48085  {'BusinessParking': '{'garage': False, 'street...   \n",
              "48086  {'RestaurantsPriceRange2': '2', 'BusinessAccep...   \n",
              "48087  {'ByAppointmentOnly': 'True', 'GoodForKids': '...   \n",
              "48088  {'WheelchairAccessible': 'False', 'Restaurants...   \n",
              "\n",
              "                                              categories  \\\n",
              "0      Shipping Centers, Local Services, Notaries, Ma...   \n",
              "1      Restaurants, Food, Bubble Tea, Coffee & Tea, B...   \n",
              "2      Sporting Goods, Fashion, Shoe Stores, Shopping...   \n",
              "3      American (Traditional), Restaurants, Diners, B...   \n",
              "4                      Sushi Bars, Restaurants, Japanese   \n",
              "...                                                  ...   \n",
              "48084        Day Spas, Beauty & Spas, Skin Care, Massage   \n",
              "48085                         Shopping, Watches, Jewelry   \n",
              "48086  Hotels & Travel, Hotels, Event Planning & Serv...   \n",
              "48087  Health & Medical, Yoga, Shopping, Naturopathic...   \n",
              "48088                               Restaurants, Mexican   \n",
              "\n",
              "                                                   hours  \n",
              "0      {'Monday': '0:0-0:0', 'Tuesday': '8:0-18:30', ...  \n",
              "1      {'Monday': '7:0-20:0', 'Tuesday': '7:0-20:0', ...  \n",
              "2      {'Monday': '0:0-0:0', 'Tuesday': '10:0-18:0', ...  \n",
              "3      {'Monday': '6:0-22:0', 'Tuesday': '6:0-22:0', ...  \n",
              "4      {'Tuesday': '13:30-22:0', 'Wednesday': '13:30-...  \n",
              "...                                                  ...  \n",
              "48084  {'Monday': '9:0-22:0', 'Tuesday': '9:0-22:0', ...  \n",
              "48085  {'Monday': '10:0-19:0', 'Tuesday': '10:0-19:0'...  \n",
              "48086  {'Monday': '0:0-0:0', 'Tuesday': '0:0-0:0', 'W...  \n",
              "48087  {'Monday': '7:0-20:0', 'Tuesday': '7:0-20:0', ...  \n",
              "48088  {'Monday': '11:0-22:0', 'Tuesday': '11:0-22:0'...  \n",
              "\n",
              "[48089 rows x 14 columns]"
            ],
            "text/html": [
              "\n",
              "  <div id=\"df-3d2e2eca-aee9-45e3-a093-0dd4672c3e53\">\n",
              "    <div class=\"colab-df-container\">\n",
              "      <div>\n",
              "<style scoped>\n",
              "    .dataframe tbody tr th:only-of-type {\n",
              "        vertical-align: middle;\n",
              "    }\n",
              "\n",
              "    .dataframe tbody tr th {\n",
              "        vertical-align: top;\n",
              "    }\n",
              "\n",
              "    .dataframe thead th {\n",
              "        text-align: right;\n",
              "    }\n",
              "</style>\n",
              "<table border=\"1\" class=\"dataframe\">\n",
              "  <thead>\n",
              "    <tr style=\"text-align: right;\">\n",
              "      <th></th>\n",
              "      <th>business_id</th>\n",
              "      <th>name</th>\n",
              "      <th>address</th>\n",
              "      <th>city</th>\n",
              "      <th>state</th>\n",
              "      <th>postal_code</th>\n",
              "      <th>latitude</th>\n",
              "      <th>longitude</th>\n",
              "      <th>stars</th>\n",
              "      <th>review_count</th>\n",
              "      <th>is_open</th>\n",
              "      <th>attributes</th>\n",
              "      <th>categories</th>\n",
              "      <th>hours</th>\n",
              "    </tr>\n",
              "  </thead>\n",
              "  <tbody>\n",
              "    <tr>\n",
              "      <th>0</th>\n",
              "      <td>mpf3x-BjTdTEA3yCZrAYPw</td>\n",
              "      <td>The UPS Store</td>\n",
              "      <td>87 Grasso Plaza Shopping Center</td>\n",
              "      <td>Affton</td>\n",
              "      <td>MO</td>\n",
              "      <td>63123</td>\n",
              "      <td>38.551126</td>\n",
              "      <td>-90.335695</td>\n",
              "      <td>3.0</td>\n",
              "      <td>15</td>\n",
              "      <td>1</td>\n",
              "      <td>{'BusinessAcceptsCreditCards': 'True'}</td>\n",
              "      <td>Shipping Centers, Local Services, Notaries, Ma...</td>\n",
              "      <td>{'Monday': '0:0-0:0', 'Tuesday': '8:0-18:30', ...</td>\n",
              "    </tr>\n",
              "    <tr>\n",
              "      <th>1</th>\n",
              "      <td>MTSW4McQd7CbVtyjqoe9mw</td>\n",
              "      <td>St Honore Pastries</td>\n",
              "      <td>935 Race St</td>\n",
              "      <td>Philadelphia</td>\n",
              "      <td>PA</td>\n",
              "      <td>19107</td>\n",
              "      <td>39.955505</td>\n",
              "      <td>-75.155564</td>\n",
              "      <td>4.0</td>\n",
              "      <td>80</td>\n",
              "      <td>1</td>\n",
              "      <td>{'RestaurantsDelivery': 'False', 'OutdoorSeati...</td>\n",
              "      <td>Restaurants, Food, Bubble Tea, Coffee &amp; Tea, B...</td>\n",
              "      <td>{'Monday': '7:0-20:0', 'Tuesday': '7:0-20:0', ...</td>\n",
              "    </tr>\n",
              "    <tr>\n",
              "      <th>2</th>\n",
              "      <td>n_0UpQx1hsNbnPUSlodU8w</td>\n",
              "      <td>Famous Footwear</td>\n",
              "      <td>8522 Eager Road, Dierbergs Brentwood Point</td>\n",
              "      <td>Brentwood</td>\n",
              "      <td>MO</td>\n",
              "      <td>63144</td>\n",
              "      <td>38.627695</td>\n",
              "      <td>-90.340465</td>\n",
              "      <td>2.5</td>\n",
              "      <td>13</td>\n",
              "      <td>1</td>\n",
              "      <td>{'BusinessAcceptsCreditCards': 'True', 'Restau...</td>\n",
              "      <td>Sporting Goods, Fashion, Shoe Stores, Shopping...</td>\n",
              "      <td>{'Monday': '0:0-0:0', 'Tuesday': '10:0-18:0', ...</td>\n",
              "    </tr>\n",
              "    <tr>\n",
              "      <th>3</th>\n",
              "      <td>il_Ro8jwPlHresjw9EGmBg</td>\n",
              "      <td>Denny's</td>\n",
              "      <td>8901 US 31 S</td>\n",
              "      <td>Indianapolis</td>\n",
              "      <td>IN</td>\n",
              "      <td>46227</td>\n",
              "      <td>39.637133</td>\n",
              "      <td>-86.127217</td>\n",
              "      <td>2.5</td>\n",
              "      <td>28</td>\n",
              "      <td>1</td>\n",
              "      <td>{'RestaurantsReservations': 'False', 'Restaura...</td>\n",
              "      <td>American (Traditional), Restaurants, Diners, B...</td>\n",
              "      <td>{'Monday': '6:0-22:0', 'Tuesday': '6:0-22:0', ...</td>\n",
              "    </tr>\n",
              "    <tr>\n",
              "      <th>4</th>\n",
              "      <td>MUTTqe8uqyMdBl186RmNeA</td>\n",
              "      <td>Tuna Bar</td>\n",
              "      <td>205 Race St</td>\n",
              "      <td>Philadelphia</td>\n",
              "      <td>PA</td>\n",
              "      <td>19106</td>\n",
              "      <td>39.953949</td>\n",
              "      <td>-75.143226</td>\n",
              "      <td>4.0</td>\n",
              "      <td>245</td>\n",
              "      <td>1</td>\n",
              "      <td>{'RestaurantsReservations': 'True', 'Restauran...</td>\n",
              "      <td>Sushi Bars, Restaurants, Japanese</td>\n",
              "      <td>{'Tuesday': '13:30-22:0', 'Wednesday': '13:30-...</td>\n",
              "    </tr>\n",
              "    <tr>\n",
              "      <th>...</th>\n",
              "      <td>...</td>\n",
              "      <td>...</td>\n",
              "      <td>...</td>\n",
              "      <td>...</td>\n",
              "      <td>...</td>\n",
              "      <td>...</td>\n",
              "      <td>...</td>\n",
              "      <td>...</td>\n",
              "      <td>...</td>\n",
              "      <td>...</td>\n",
              "      <td>...</td>\n",
              "      <td>...</td>\n",
              "      <td>...</td>\n",
              "      <td>...</td>\n",
              "    </tr>\n",
              "    <tr>\n",
              "      <th>48084</th>\n",
              "      <td>9U1Igcpe954LoWZRmNc-zg</td>\n",
              "      <td>Hand &amp; Stone Massage And Facial Spa</td>\n",
              "      <td>1100 S Columbus Blvd, Ste 24</td>\n",
              "      <td>Philadelphia</td>\n",
              "      <td>PA</td>\n",
              "      <td>19147</td>\n",
              "      <td>39.932756</td>\n",
              "      <td>-75.144504</td>\n",
              "      <td>3.0</td>\n",
              "      <td>32</td>\n",
              "      <td>1</td>\n",
              "      <td>{'BusinessAcceptsCreditCards': 'True', 'Wheelc...</td>\n",
              "      <td>Day Spas, Beauty &amp; Spas, Skin Care, Massage</td>\n",
              "      <td>{'Monday': '9:0-22:0', 'Tuesday': '9:0-22:0', ...</td>\n",
              "    </tr>\n",
              "    <tr>\n",
              "      <th>48085</th>\n",
              "      <td>GeEveoOaU2YKD7jJtEfA_g</td>\n",
              "      <td>DeVons Jewelers</td>\n",
              "      <td>13981 S Virginia St, 402A</td>\n",
              "      <td>Reno</td>\n",
              "      <td>NV</td>\n",
              "      <td>89511</td>\n",
              "      <td>39.404552</td>\n",
              "      <td>-119.750986</td>\n",
              "      <td>5.0</td>\n",
              "      <td>34</td>\n",
              "      <td>1</td>\n",
              "      <td>{'BusinessParking': '{'garage': False, 'street...</td>\n",
              "      <td>Shopping, Watches, Jewelry</td>\n",
              "      <td>{'Monday': '10:0-19:0', 'Tuesday': '10:0-19:0'...</td>\n",
              "    </tr>\n",
              "    <tr>\n",
              "      <th>48086</th>\n",
              "      <td>qQ7FHvkGEMqoPKKXPk4gjA</td>\n",
              "      <td>La Quinta by Wyndham NW Tucson Marana</td>\n",
              "      <td>6020 West Hospitality Rd</td>\n",
              "      <td>Tucson</td>\n",
              "      <td>AZ</td>\n",
              "      <td>85743</td>\n",
              "      <td>32.358587</td>\n",
              "      <td>-111.093308</td>\n",
              "      <td>2.5</td>\n",
              "      <td>67</td>\n",
              "      <td>1</td>\n",
              "      <td>{'RestaurantsPriceRange2': '2', 'BusinessAccep...</td>\n",
              "      <td>Hotels &amp; Travel, Hotels, Event Planning &amp; Serv...</td>\n",
              "      <td>{'Monday': '0:0-0:0', 'Tuesday': '0:0-0:0', 'W...</td>\n",
              "    </tr>\n",
              "    <tr>\n",
              "      <th>48087</th>\n",
              "      <td>LJ4GjQ1HL6kqvIPpNUNNaQ</td>\n",
              "      <td>Shanti Yoga and Ayurveda</td>\n",
              "      <td>1638 Pine St, Fl 1</td>\n",
              "      <td>Philadelphia</td>\n",
              "      <td>PA</td>\n",
              "      <td>19103</td>\n",
              "      <td>39.945966</td>\n",
              "      <td>-75.169666</td>\n",
              "      <td>4.5</td>\n",
              "      <td>39</td>\n",
              "      <td>1</td>\n",
              "      <td>{'ByAppointmentOnly': 'True', 'GoodForKids': '...</td>\n",
              "      <td>Health &amp; Medical, Yoga, Shopping, Naturopathic...</td>\n",
              "      <td>{'Monday': '7:0-20:0', 'Tuesday': '7:0-20:0', ...</td>\n",
              "    </tr>\n",
              "    <tr>\n",
              "      <th>48088</th>\n",
              "      <td>WnT9NIzQgLlILjPT0kEcsQ</td>\n",
              "      <td>Adelita Taqueria &amp; Restaurant</td>\n",
              "      <td>1108 S 9th St</td>\n",
              "      <td>Philadelphia</td>\n",
              "      <td>PA</td>\n",
              "      <td>19147</td>\n",
              "      <td>39.935982</td>\n",
              "      <td>-75.158665</td>\n",
              "      <td>4.5</td>\n",
              "      <td>35</td>\n",
              "      <td>1</td>\n",
              "      <td>{'WheelchairAccessible': 'False', 'Restaurants...</td>\n",
              "      <td>Restaurants, Mexican</td>\n",
              "      <td>{'Monday': '11:0-22:0', 'Tuesday': '11:0-22:0'...</td>\n",
              "    </tr>\n",
              "  </tbody>\n",
              "</table>\n",
              "<p>48089 rows × 14 columns</p>\n",
              "</div>\n",
              "      <button class=\"colab-df-convert\" onclick=\"convertToInteractive('df-3d2e2eca-aee9-45e3-a093-0dd4672c3e53')\"\n",
              "              title=\"Convert this dataframe to an interactive table.\"\n",
              "              style=\"display:none;\">\n",
              "        \n",
              "  <svg xmlns=\"http://www.w3.org/2000/svg\" height=\"24px\"viewBox=\"0 0 24 24\"\n",
              "       width=\"24px\">\n",
              "    <path d=\"M0 0h24v24H0V0z\" fill=\"none\"/>\n",
              "    <path d=\"M18.56 5.44l.94 2.06.94-2.06 2.06-.94-2.06-.94-.94-2.06-.94 2.06-2.06.94zm-11 1L8.5 8.5l.94-2.06 2.06-.94-2.06-.94L8.5 2.5l-.94 2.06-2.06.94zm10 10l.94 2.06.94-2.06 2.06-.94-2.06-.94-.94-2.06-.94 2.06-2.06.94z\"/><path d=\"M17.41 7.96l-1.37-1.37c-.4-.4-.92-.59-1.43-.59-.52 0-1.04.2-1.43.59L10.3 9.45l-7.72 7.72c-.78.78-.78 2.05 0 2.83L4 21.41c.39.39.9.59 1.41.59.51 0 1.02-.2 1.41-.59l7.78-7.78 2.81-2.81c.8-.78.8-2.07 0-2.86zM5.41 20L4 18.59l7.72-7.72 1.47 1.35L5.41 20z\"/>\n",
              "  </svg>\n",
              "      </button>\n",
              "      \n",
              "  <style>\n",
              "    .colab-df-container {\n",
              "      display:flex;\n",
              "      flex-wrap:wrap;\n",
              "      gap: 12px;\n",
              "    }\n",
              "\n",
              "    .colab-df-convert {\n",
              "      background-color: #E8F0FE;\n",
              "      border: none;\n",
              "      border-radius: 50%;\n",
              "      cursor: pointer;\n",
              "      display: none;\n",
              "      fill: #1967D2;\n",
              "      height: 32px;\n",
              "      padding: 0 0 0 0;\n",
              "      width: 32px;\n",
              "    }\n",
              "\n",
              "    .colab-df-convert:hover {\n",
              "      background-color: #E2EBFA;\n",
              "      box-shadow: 0px 1px 2px rgba(60, 64, 67, 0.3), 0px 1px 3px 1px rgba(60, 64, 67, 0.15);\n",
              "      fill: #174EA6;\n",
              "    }\n",
              "\n",
              "    [theme=dark] .colab-df-convert {\n",
              "      background-color: #3B4455;\n",
              "      fill: #D2E3FC;\n",
              "    }\n",
              "\n",
              "    [theme=dark] .colab-df-convert:hover {\n",
              "      background-color: #434B5C;\n",
              "      box-shadow: 0px 1px 3px 1px rgba(0, 0, 0, 0.15);\n",
              "      filter: drop-shadow(0px 1px 2px rgba(0, 0, 0, 0.3));\n",
              "      fill: #FFFFFF;\n",
              "    }\n",
              "  </style>\n",
              "\n",
              "      <script>\n",
              "        const buttonEl =\n",
              "          document.querySelector('#df-3d2e2eca-aee9-45e3-a093-0dd4672c3e53 button.colab-df-convert');\n",
              "        buttonEl.style.display =\n",
              "          google.colab.kernel.accessAllowed ? 'block' : 'none';\n",
              "\n",
              "        async function convertToInteractive(key) {\n",
              "          const element = document.querySelector('#df-3d2e2eca-aee9-45e3-a093-0dd4672c3e53');\n",
              "          const dataTable =\n",
              "            await google.colab.kernel.invokeFunction('convertToInteractive',\n",
              "                                                     [key], {});\n",
              "          if (!dataTable) return;\n",
              "\n",
              "          const docLinkHtml = 'Like what you see? Visit the ' +\n",
              "            '<a target=\"_blank\" href=https://colab.research.google.com/notebooks/data_table.ipynb>data table notebook</a>'\n",
              "            + ' to learn more about interactive tables.';\n",
              "          element.innerHTML = '';\n",
              "          dataTable['output_type'] = 'display_data';\n",
              "          await google.colab.output.renderOutput(dataTable, element);\n",
              "          const docLink = document.createElement('div');\n",
              "          docLink.innerHTML = docLinkHtml;\n",
              "          element.appendChild(docLink);\n",
              "        }\n",
              "      </script>\n",
              "    </div>\n",
              "  </div>\n",
              "  "
            ]
          },
          "metadata": {},
          "execution_count": 107
        }
      ],
      "source": [
        "business_df"
      ]
    },
    {
      "cell_type": "code",
      "execution_count": null,
      "metadata": {
        "id": "K6Y_WPmAzEAe"
      },
      "outputs": [],
      "source": [
        "bus_ids=business_df.business_id.values"
      ]
    },
    {
      "cell_type": "code",
      "execution_count": null,
      "metadata": {
        "colab": {
          "base_uri": "https://localhost:8080/"
        },
        "id": "yPBYVhjZzLxW",
        "outputId": "26715ea5-0025-4a51-db15-390a1b82ddab"
      },
      "outputs": [
        {
          "output_type": "execute_result",
          "data": {
            "text/plain": [
              "48089"
            ]
          },
          "metadata": {},
          "execution_count": 109
        }
      ],
      "source": [
        "len(bus_ids)"
      ]
    },
    {
      "cell_type": "code",
      "execution_count": null,
      "metadata": {
        "id": "PncKnPtDS7wo"
      },
      "outputs": [],
      "source": [
        "# with open('badFiles.txt', 'r') as bf:\n",
        "#   lines=bf.readlines()\n",
        "#   for line in lines:\n",
        "#     if len(line)>4:\n",
        "#       try:\n",
        "#         os.remove(save_path+'tips_bert_items_dfs/'+'{}.json'.format(line.replace('\\n','')))\n",
        "#       except FileNotFoundError:\n",
        "#         print(line)"
      ]
    },
    {
      "cell_type": "code",
      "execution_count": null,
      "metadata": {
        "colab": {
          "base_uri": "https://localhost:8080/"
        },
        "id": "FJhpYIUQsasK",
        "outputId": "9e1122fa-d475-40e9-991b-9bc9eb59ff76"
      },
      "outputs": [
        {
          "name": "stdout",
          "output_type": "stream",
          "text": [
            "0\n",
            "1000\n",
            "2000\n",
            "3000\n",
            "4000\n",
            "5000\n",
            "6000\n",
            "7000\n",
            "8000\n",
            "9000\n",
            "10000\n",
            "11000\n",
            "12000\n",
            "13000\n",
            "14000\n",
            "15000\n",
            "16000\n",
            "17000\n",
            "18000\n",
            "19000\n",
            "20000\n",
            "21000\n",
            "22000\n",
            "23000\n",
            "24000\n",
            "25000\n",
            "26000\n",
            "27000\n",
            "28000\n",
            "29000\n",
            "30000\n",
            "31000\n",
            "32000\n",
            "33000\n",
            "34000\n",
            "35000\n",
            "36000\n",
            "37000\n",
            "38000\n",
            "39000\n",
            "40000\n",
            "41000\n",
            "42000\n",
            "43000\n",
            "s5cEDXoKrvD-coPgqifD8w\n",
            "FbuQkR42LQ-8AZINSD7FQQ\n",
            "RtdH6Inl8xG6RWl5PVwccg\n",
            "zIFPcIZ_yqIr2Gb3dYZvfQ\n",
            "U5vGEpfMzlHmdVMsaAxWAA\n",
            "nCQnjq8uoY7YWGMwOxP2wA\n",
            "sa0qlVEgdctgeWo8KkWEjw\n",
            "zVoivXO64KO9-4UQlMhoPA\n",
            "fiKriXSPJQLoDnMIucTXQQ\n",
            "1Hd6GDCbsev3NUaynU8hFQ\n",
            "B6wuW9wBR2qc3Q3fs4Ckkw\n",
            "HznFRGROzuvVBeM5hrwZig\n",
            "xS9q3oPQHaM4etfeSvFpew\n",
            "OM2bY0wa1-mwECTO_zrZkw\n",
            "7ogUy7wU7hwEm43pAtA8tQ\n",
            "8SEX-Mx-ZC64g6laAEj2bg\n",
            "cZwhdOCpa84XrpLQREOtaA\n",
            "hNWf3Uz8M17e2qB3eBV8jg\n",
            "wtMhl1OIcPBPc2qj-6_-OQ\n",
            "oJbhXG2IldIhNFydRWjD7A\n",
            "DsIeBV5j-1Y6X5BNnyjRzw\n",
            "xEOMVwCzxjcmwIoxQ3sCBg\n",
            "sbUASO4t6DMb2DygKN-scg\n",
            "AZmxWOK3ov1-_9hPBzSIng\n",
            "NDwoKO79_T49UEKVDlHd3A\n",
            "W0ziF4eQxT_1KkgYDHWlcw\n",
            "IjcDm_NIT0P4vxevx1obAg\n",
            "krcU3vu-4xC_O5Zb0IXqJg\n",
            "gGtvjhVT-Jojd1iGefopIg\n",
            "wn-l6xkj9WZu_VnotRAMvA\n",
            "KSR9Rv0Uea55YF-PNWXj1A\n",
            "VP6khoAuw4HWtHUUhw7gkQ\n",
            "hE2K63wovs5Po1w_bWNXdA\n",
            "1DxIGnI4mDDJyeIPkHemnw\n",
            "Kc6Pw7_Hkj7Dnvf6m3g4Eg\n",
            "UFZeonr4IJjlwZf1ELHkYw\n",
            "7Jlk2lr-nkxJfHh8JYFlFw\n",
            "KdGEUbf7gve4786Jqib1fA\n",
            "ybAfFo6Cxo6G3AZkUFWypQ\n",
            "qX1v8sZTgnzP9Y2yKeCLAQ\n",
            "IXdXM97Sii2-JVrNnDKMhA\n",
            "WUuZDppPp4FCe6gSTBr6Zw\n",
            "iMWGmFrMVEEktWNriZ2cTQ\n",
            "dZ5U0y0PsUp5R4TggYARBA\n",
            "OTXWDPg-5YXq4L5fDLJd_g\n",
            "kz9o4qVic9LKq-po1yw9mQ\n",
            "wZFTq5MMzuJqqMIfeux9bA\n",
            "gjE8AH0DuNcv7PkI7O6DIw\n",
            "xnuIhNUYIzgPZONsVfEY-Q\n",
            "gAZ9MstiZ_GkBJALwL4-SQ\n",
            "vjFUl6yKiJecvGS0wlUuuQ\n",
            "rhmCKWx_HmlegruNywTxbQ\n",
            "OExFQ-LmXSMEOQkEEC1vww\n",
            "hWjkjoeYKHEUguNXECbQSQ\n",
            "4u2Cb4A14tUnCDSk498s6Q\n",
            "0xgndgc3ZyeJXkgGlquYCw\n",
            "44000\n",
            "c6nspGxU5ZcLcuoBAMaH4w\n",
            "PxlS-biybO4qkNboQyBj1w\n",
            "pMMx70KKfZXi0onNHJYC0g\n",
            "wNvmhrTBmGimVHVZwKrmLw\n",
            "Ci5HqqB5xSfp-QGxIfqgjQ\n",
            "U-RL1o3NpObXzgZ35BwbDg\n",
            "8ql129VldhnHms0vCSmJLQ\n",
            "jK5p9WRLx0kyp0_x0cG2yw\n",
            "yoawejN_xh0mDipa5oyWZg\n",
            "NV8E7DF7_abpcTHIY6Kovw\n",
            "wqohggEOO8Ul4GMWQmIW4Q\n",
            "Pfhzbh5qt95k008DXvUoiA\n",
            "osLVo9mPzgq9aA-b9azt6w\n",
            "eO8QFh73AJJOTux00j04bg\n",
            "ly-9ojez5YXWEEU2p7iASQ\n",
            "ONbAX3k3nAv8hdMAVUsppQ\n",
            "lvF733su2iKwO9ZH3LbH8A\n",
            "cc21X3IJofZc3AUG1k645A\n",
            "kDEcA2pLIBPA3qUx5qx6hw\n",
            "GGA6vBEuBOaSfD3W0DQonw\n",
            "qHfz4Sf8LNfh0YAwXWDDtQ\n",
            "uLMyzUeEEGQYRe9-m7pIsQ\n",
            "RVdANHGo3SEhEPoNLUMkVg\n",
            "YWFcdkJn9qBhatRjBEeVhQ\n",
            "wTlXdmYeU_1y4N3EupVZqQ\n",
            "EXIXULfAW96tBzTzilM_OA\n",
            "JW96Qy44JewhfFJLGFcB3w\n",
            "6F6YYmwpcBU_Lvi0s26E6g\n",
            "Rj75-AklLkQnr9sRKT8kzw\n",
            "rYHEHpiX9qRcbXmObmdvSA\n",
            "g5_VPfSkEx--6ys2yuq60Q\n",
            "lYltjcc0ZQzTP74iW5T09w\n",
            "yGa4j4wmz2DUVXPxEqE5VA\n",
            "6fa0jPWNtj5mbZUL7UMIaA\n",
            "zCeOlV1IQpCarH5z4Dk9zA\n",
            "opjSWzLBir_lRwDuss6GHw\n",
            "xFvkI8Uf_7NDZbChS6wSYQ\n",
            "45000\n",
            "WWoeX-vaWoOty87X75p_kw\n",
            "H6ssEvfwH0LBwljZe51Y_A\n",
            "cxXhw7pnGVezBFuqJUc3Rw\n",
            "U_hCbZhxpOi7qXWlnlOlRw\n",
            "CaoZ44q_ZJCSqXpa_Ll2sw\n",
            "sheBUH9Bao7AtMKy3U-MBQ\n",
            "2FkuiaTdGKS45XkJOKMfGA\n",
            "r8xPU4YrXlidnfQjje2HqA\n",
            "jchdx5ivrDRQlIIAXwrOkA\n",
            "89-MxWu7IEfENvyZhcwI9g\n",
            "oo0Jvm-p5fpDiaUAWkuqeg\n",
            "YQECgha0JeVOyglE9ZTIrA\n",
            "81ywH2pEVg5_MHM3EvwjKA\n",
            "osAciuw9I_hvll-vT7uXPA\n",
            "wr5c3LeIUFB5HvNpxiqCeg\n",
            "V_xL4IPQdMPvKiAIufqSsw\n",
            "u6eNySvwPu_RgMRqm1-MTg\n",
            "1YHGGLZgClYR13MJxDMegg\n",
            "bbDOCJUkRVV3WOKV4RLXjQ\n",
            "iUCwgklG-ihAqg0jeP2yMA\n",
            "oIqPtFIcCVEcxC_HTmHgDg\n",
            "w25uN-y8d3g5uV4ajplJog\n",
            "cFDP-1jlq2pa_BPjC-wd4g\n",
            "YWGB8ZqbXL4h_IX48HNgPQ\n",
            "XAJK42fq_ZEFGzSrs6ajow\n",
            "zQZ6vdG4NG6KWz8VsslfBA\n",
            "dgYYdN4oFRcLcJDmIueFCg\n",
            "KGkCY7_EWVuJ-86ZPL7UtA\n",
            "Cf6p9CjO2uACyz_cSKhJhw\n",
            "IaPU79I_eiur0dZitYvNzg\n",
            "38kMOKCtqbzaRcAw3HKk7g\n",
            "Gqg17lKY1TnM72H3NpuKXQ\n",
            "SWVFDPb9Vaq112-2Bk1tzQ\n",
            "j7EtLS5_tvDy-Cen_PEfYQ\n",
            "lXeurkr0exwAATC2cxDqfQ\n",
            "9ypaZaTylIQtc1j0ZBvIaw\n",
            "R7vTnDVZry_I3ZLUTIKXMQ\n",
            "ZEU29M1MjQl_oC-Gx4ZH2Q\n",
            "vKla1VeUuHYgo2pLXVRWyg\n",
            "j2fK948drKHe0eSgezwRyA\n",
            "Fd4OmtDhowxzvYYIWA5Bcw\n",
            "SQt8mGJsvGQrIIjEi7eOrg\n",
            "CzNfFYkI5syKGZnOuWSfYw\n",
            "tl5Ag28pi4P2uhMEa6-dlA\n",
            "MFdWavlObX_pyrHtkSLWnA\n",
            "GFcWoMoHiawAOl40SVH4BA\n",
            "46000\n",
            "8X2Io4GNK8Yusa83xw9C2g\n",
            "Tqkhl0H83bXDyZJE6S66kQ\n",
            "kC6LrcrRuml9wi5NsgK4aw\n",
            "ZQLRRYAXZAk-neEZ0_W9gQ\n",
            "nh2HhCMvj3ODgBJi6EKkPA\n",
            "Oahm2FJwjr4ZJmGYqojfgA\n",
            "wkpQr18CBSltlsMB3i-6mQ\n",
            "Nbp6qquQh2MOaVE1HFQafA\n",
            "DgKpGDlX0U7T2XaKG9uvcQ\n",
            "ddhf_gQYSU9nAtvmstn_gQ\n",
            "G5gQbwb4EZUEHNlT5oYUgQ\n",
            "kJKqKjr-m6ng5ogQKMiz3Q\n",
            "UdNx91_fhJthJhhzSV4Vkg\n",
            "gHUT-hHX3qBluIy3o_7sgg\n",
            "jIKTTeJTDzxX8vJI-T7wxg\n",
            "zw1WyyRsclSpxBdQm5MOHw\n",
            "cE0NxiFWbH-Ikz6nXgv8mw\n",
            "pU7kdJq5_K5y5l3NYkHGmg\n",
            "OiRJQYaDqyPR_XAMY-pcvw\n",
            "t2IQvO-1VT-KBA0w2XtHfg\n",
            "4KJGnr4UB_0K4G4H6Y5YLQ\n",
            "Rd8UbVjam5zKSCBbb0Uv5w\n",
            "BDIJ668u-vS8HbHgCdxzmw\n",
            "G7AEvOxbIUV2Em7FMmwXGQ\n",
            "LvlrOkUiMyNMxXXhxiAXZA\n",
            "FxmuSs09zip7zrgNHTZcXw\n",
            "oq8yay4_CQcO_UspJERaNQ\n",
            "hOB1wKXu0MjpLRR5jq1x2A\n",
            "AQ34bMhOZRh036-tJPqCng\n",
            "7zpynWrIsQDZjegYvEF1kg\n",
            "ALBV0FDvwUOYN13pOLyIOg\n",
            "rA-C_of6pZhRMIXuadnYgA\n",
            "GgVfRtQa475wbnSM8nQuSg\n",
            "iHxKKQwUaFj7PzCddBEVZg\n",
            "vEoIs3OnOiPuhgeMQdjDtw\n",
            "hVbE1WSkMage3oe1Go3rhw\n",
            "AXTzVe_4Kr7338_6Nepc-w\n",
            "n_qcJZvSMAxTcs45wNTbqA\n",
            "VG713v_J04eBHKXQeOvrxA\n",
            "r61ZocVr97fL7VkV2VS2yw\n",
            "emL_W8kD8Vn4WcyZieZO2g\n",
            "wmBifxnIt93TEqQKmWfOaw\n",
            "RByw2wh4-1f_ZedpTZxa7A\n",
            "_CmLoo2n-bp-NAj-mhhW3A\n",
            "ynRiFaN_3YVS0n3kuJlNkg\n",
            "Y4PJ4gydOVur-xWMc9hX1g\n",
            "PjgCCISC-bfM3YPxWGWqpQ\n",
            "lF1r8--PvPJI_nhFhKkokA\n",
            "RKN7vQ5s9hCtgEJ50EbO3w\n",
            "dmMf5zt3FVAhqY6d3h0o9g\n",
            "47000\n",
            "q9rgxOw3WgJzf1fP8jv26w\n",
            "G2n77sQxr0XqPekhTu6HvA\n",
            "eWPush9C-gj9tH5zExmiEQ\n",
            "N1XlCYg1qwZemQNwOVjYmg\n",
            "3WgzKhDmH5nU946Yk4wbzA\n",
            "6fA4Scay0SkSI2aGrwAVlw\n",
            "RVJ9KifZn7DsX7zNi2dcuA\n",
            "8GW3J233ePBX7BlJcOAFUQ\n",
            "t2VUJzydog1DPBxlEcfQ-Q\n",
            "ML_L9pjO3mlqQNvQrb3zvA\n",
            "j9PWBcqjxXEAwq5drPRrpQ\n",
            "fX8uG5YpQ0fE-4dEzwefyw\n",
            "6gwPCC0kC41sQjvkG1uzgw\n",
            "YO5vS1DDy0d8QxeKnNnnFA\n",
            "a16P2HssDZrEEWXHl22d9Q\n",
            "NO6tZEjT8B9JB9CNbdy3uQ\n",
            "qaW-xH2tjfG0bUisSSdfAA\n",
            "GdBv_-KkdTtgLL3BC0wLBw\n",
            "ae41JbejtvTevP8pg6_Scg\n",
            "6M5WzRHQZOy8VCwQClkKqA\n",
            "MfWuOpIEVda0oUKZEbWnbg\n",
            "buKjTbT8XXoccgIvuUyk9A\n",
            "YKsxuKccY6lwcyY4koGIzg\n",
            "xp0ZanFPIL2vypgp_Eqmrw\n",
            "8zoIt_7h3gJeW1YGEflHrA\n",
            "QqDz0hQ7iPpHJAd9JOTudQ\n",
            "SarDVgT8uETPUKj2SStRMA\n",
            "y_7ZDRr5xt1GWIA6qj2-xQ\n",
            "cB00fmNTuWi07IXS6kOX1Q\n",
            "OPdNLu8aHCuTN5cqLS1MxQ\n",
            "m6Xjo7nGkjjUXenHm_yciw\n",
            "lifY5yvxWhEqGNX6bGfBAA\n",
            "qkJdBYlWWRfYOQKI6BgnQQ\n",
            "vYr5IUI8MDEAPBAuZJdNPQ\n",
            "dC1NQrfJzEGs49TUxORnBA\n",
            "CIEJp47cdiF7XQAsw5XmLQ\n",
            "cbTfQMiKtS7BTby81VJ8Bg\n",
            "eBmFZxa26_dzQ7if0FD-FA\n",
            "rK5j5HEeMEtZryDsZv0BTA\n",
            "Npn4dowvl5xiJzVfKZEV3Q\n",
            "5ysISW_Tc4YVg5VbM1-5Xg\n",
            "XSTySloUG_f7gFFwqvehOw\n",
            "2wlfXXv4iC50OPAYIxOG_A\n",
            "riQ8OcCWMrkICfs5eyGGtA\n",
            "UeY30shIL5ZhTw9fpnR8Fw\n",
            "LNMi7I89I9NI3bQz8LPetA\n",
            "7vxVNF-yKvCUfj8OhlH_Cg\n",
            "5j7_zwixmc4Wt8h3QCnNwg\n",
            "mH__Vdc_hGB6tdqEIbyU9g\n",
            "VQGr_cyToxgsjGkiNefXOw\n",
            "48000\n",
            "HGwI9OEWjdP0JU0wApZ3tA\n",
            "QnpovNwZKIk7OAiNG3ZspQ\n",
            "fU3qz9khOzzz0pBt7XHG5A\n",
            "jxHXxBESenM-Wzia5Xh2vA\n",
            "SbBkXpXdEDUVi7UhQYq36g\n",
            "Hywj7lDRT7x5V9l6fiAKpQ\n",
            "kOVYDwD9LbgBKwBkztDcag\n",
            "kUZUmdBTtQ6284Qlzc_NyA\n",
            "cL86kI1x5E5pXAahJ-LtnQ\n",
            "M9tQb56JpDIRvFgH1R75XA\n",
            "bHpYBhrWUmCwc16b87Nt8A\n",
            "56TJd6d_vdjxXr4eXQlQ_g\n",
            "nVkyxklblh_X4RAAHNFfbA\n",
            "hjqRwbtGFmqMy5_QT3ol1g\n",
            "x4MTp-LykX3ckp27JBIxjQ\n",
            "Y9xqKYrkyQBBt4XlV6EyMQ\n",
            "c1Cds6ml72ioKDheikpWVw\n",
            "tSUuNHQPBIv2UZxgH4Qy7w\n",
            "JsMn24HH8hicbavNSJxPXw\n",
            "f55q0EKmQKco_TMYFIEC3w\n",
            "S_dw8B_N8sZHxxdBlsUC_g\n",
            "slGOgDwclwZY9loX3r31LA\n",
            "tYre2lAoDzBJ19dxQ1ubVA\n",
            "7PjXC9efceMsqBXCsAe-sw\n",
            "yTxUljktDCBe8UHcZTyxfQ\n",
            "9ZLRAg2VmdZxznU4CY3F8w\n",
            "FgO-y6VVbnRdRZdpbgi1Aw\n",
            "bP1lwYkGwLvw0TqhuamnSA\n",
            "ve5pcmxq_Jywuo1Gms5SfQ\n",
            "lMmbhZAENUeuB93psLWnBw\n",
            "eSJMA_VdUVQTDkRJiV9lHw\n",
            "DWA7JiOvWZtTREq6-KA5jw\n",
            "MFXceYZg7bWOiVdZIQbWrw\n",
            "eIsszH4Jc0kRlv0UflS6hg\n",
            "uM3OgfBBEnjl2YVU3isA_g\n",
            "y8AENR609baGvVe-d_F-dg\n",
            "3bi5t-ca2ieKfhD8EXOssA\n",
            "fQOOrAipCKMcRydM_FyVEg\n",
            "xNNVZ3FHLfzF54eiqN3dYA\n",
            "smsZqRAirDU-c5uMxFaZoA\n",
            "8WNLB1Qj6PWhtJha-tE-ug\n",
            "LjSvLbbzFnFc6JScXH3r3w\n",
            "WtGHHomZhFffiL0UiKjGkw\n",
            "zLEzvyIkY_Ue7uCqMoGHMQ\n",
            "NVcuwHdZFJtyP4i-c0gx6g\n",
            "45XW28tWd2PZT8GiytW7Ng\n",
            "NvMN6SymLONl2N8zm-n4LA\n",
            "lWLOAuAJ-8e0pSTYRasHhw\n",
            "IcD4lXY6lT8zZPkGD9Flqg\n",
            "jnYo6ZG50mH1wrzbdGEo5Q\n",
            "BYB7Mj8CLW5-QsU5vCI71g\n",
            "qf1f2JJmxrr79xpNkzml-g\n",
            "XLN3BmDxsFARI8fan9WmQA\n",
            "gORlvYi644DZIy_GtXJtyA\n",
            "pmRL_ivQoQpec5BkTIwVTw\n",
            "9Lx86wtBuOMUvI63cTh6Wg\n",
            "9ml_Gj7Q3U-S39hnCP8gCQ\n",
            "s74_rg4QS6znHdRhWqNhtA\n",
            "6KeZQhjKhzHCvUZG2OuVjQ\n",
            "49000\n",
            "qejJlDN_9DdsOWI2A5xRsQ\n",
            "eU2xVsKv3d1cJicQh_q6qg\n",
            "v_PY4Lw53nf6Nej9is-3tw\n",
            "c32mGy62lMCp-ltl0Rcc5g\n",
            "xKd3zvXDAIMN9EcwnudUBA\n",
            "hxgHflucadUHaOsLbmTv1w\n",
            "2c4z-PvJY4RvPCDxaUsfpg\n",
            "rS0BLb6nI2BfBelOlcEEYA\n",
            "NxaslE3Fu4BUJN1OuT1mTw\n",
            "ENmvPOGlywu9umDkLGaR6w\n",
            "MB95qdTuKOtDUkv01Jl1Jw\n",
            "gTEWs6K1EHnrd-HFylUJRw\n",
            "-qyzTT2NndkDNhDYBIBtXQ\n",
            "NEIxfI_nZ93eB1r3SdNCyw\n",
            "PGRL9DzeBl4dJbgC-dNLhg\n",
            "qm4CUb96KIa2Qv7w6U_ZYQ\n",
            "HszIFq0D6aZKJwW2hVwWLw\n",
            "v6a3uDbBm5VmlBsMadCaUA\n",
            "q3UmH124taHQsptIJr33nQ\n",
            "bk9aS8CZ0Yt8aKjfyTDAXw\n",
            "vTGgvNOWfJkMXH6xg7iL6Q\n",
            "l_Ve7TDkIR-e9O5wG0TNjw\n",
            "2aSFQAS7hSUfyTag4SUw-g\n",
            "ArASlpn_kcbEpYVZI_GquQ\n",
            "hs2s_bOH9Rp4w4_0rhUOSg\n",
            "mwNsKIvpSJbw_bMCOgGVLA\n",
            "6FgBBNcwxdXOnzFJ3McJyg\n",
            "cW9gyMk0JIBc7ijJcUv5dw\n",
            "rXcmHrkhsYl99yzSMLqrfQ\n",
            "U0ZCGgfFPTd2zyXJnDiqXw\n",
            "tnUMk8v_M0kkX0J4Ew0cCQ\n",
            "R7LBTdnp3FQ7vDfSpaHe3w\n",
            "4fLMC6B2USFFRaPSfJSKlA\n",
            "8GclUzCTNI3wyuxLITKTug\n",
            "2o3IhmDY4mr0Vylbz0_M6Q\n",
            "qkypZ-w2OALuCHNYHTvgAg\n",
            "z6mU0N4zujiU-lwcYgzpSQ\n",
            "bGd_FR15CMmnyHX-o2YqoQ\n",
            "N9L1B3TD57wyDl7f3Awlcg\n",
            "tl5eOu8fqPQuzKZO21xTFg\n",
            "vQHLyvsUCUOpGOsPBDlP9g\n",
            "rhTLD0ZUfdNjluBUFX79eQ\n",
            "BQuU77gKRd8t1wSyPuw60w\n",
            "jhTvowxVAMCnAsObNta8kw\n",
            "h5YsedlZXmQd1nDnFrpvAQ\n",
            "iYd-OZDRt0MHa6VWQkBUQA\n",
            "50000\n",
            "fj6ShWc_jL5kCtZ4D9cajg\n",
            "WPlO4yIAWAvAilZa3KHCfg\n",
            "vb7t5_4aZ9yDgOMmFGYKgw\n"
          ]
        }
      ],
      "source": [
        "# new_bus_ids=[]\n",
        "# i=0\n",
        "# for id in bus_ids:\n",
        "#   if i%1000==0:\n",
        "#     print(i)\n",
        "#   i+=1\n",
        "#   if i<43000:\n",
        "#     continue\n",
        "#   with open(save_path+'tips_bert_items_dfs/'+'{}.json'.format(id)) as fd:\n",
        "#     lines= fd.readlines()\n",
        "#     if len(lines[0])<5:\n",
        "#       print(id)\n",
        "#       # print(lines)\n",
        "#     else:\n",
        "#       new_bus_ids.append(id)\n",
        "    "
      ]
    },
    {
      "cell_type": "code",
      "execution_count": null,
      "metadata": {
        "id": "mWprMkDz-VuX"
      },
      "outputs": [],
      "source": [
        "business_df"
      ]
    },
    {
      "cell_type": "code",
      "execution_count": null,
      "metadata": {
        "id": "VcE78VOkH06K"
      },
      "outputs": [],
      "source": [
        "# import json\n",
        "# import pandas as pd\n",
        "# data_file = open(save_path+\"Kaggle/yelp_academic_dataset_review.json\")\n",
        "# data = []\n",
        "# for line in data_file:\n",
        "#   data.append(json.loads(line))\n",
        "# review_df = pd.DataFrame(data)\n",
        "# data_file.close()"
      ]
    },
    {
      "cell_type": "code",
      "execution_count": null,
      "metadata": {
        "id": "nnFNT1-pGyBb"
      },
      "outputs": [],
      "source": [
        "# review_df"
      ]
    },
    {
      "cell_type": "code",
      "execution_count": null,
      "metadata": {
        "id": "EL93K3G-wudw"
      },
      "outputs": [],
      "source": [
        "# review_df.drop(['useful','funny','cool','date'],axis=1,inplace=True)"
      ]
    },
    {
      "cell_type": "code",
      "execution_count": null,
      "metadata": {
        "id": "rztQtur0y1EP"
      },
      "outputs": [],
      "source": [
        "# review_df.drop(review_df.index[~review_df['business_id'].isin(bus_ids)], inplace=True)"
      ]
    },
    {
      "cell_type": "code",
      "execution_count": null,
      "metadata": {
        "id": "fvLfBFlMI2rx"
      },
      "outputs": [],
      "source": [
        "# review_df.drop(review_df.index[~review_df['business_id'].isin(tips_bus_ids)], inplace=True)"
      ]
    },
    {
      "cell_type": "code",
      "execution_count": null,
      "metadata": {
        "id": "ELKmPi2UwXak"
      },
      "outputs": [],
      "source": [
        "# review_df.drop(review_df.index[~review_df['user_id'].isin(tips_user_ids)], inplace=True)"
      ]
    },
    {
      "cell_type": "code",
      "execution_count": null,
      "metadata": {
        "id": "dJd9UhP52MMs"
      },
      "outputs": [],
      "source": [
        "# review_df"
      ]
    },
    {
      "cell_type": "code",
      "execution_count": null,
      "metadata": {
        "id": "Em0ni5szxB_h"
      },
      "outputs": [],
      "source": [
        "# review_df.to_csv(save_path+'yelp_reviews.csv')"
      ]
    },
    {
      "cell_type": "code",
      "execution_count": null,
      "metadata": {
        "id": "LMeKukP2VF6w"
      },
      "outputs": [],
      "source": [
        "review_df=pd.read_csv(save_path+'yelp_reviews.csv')"
      ]
    },
    {
      "cell_type": "code",
      "execution_count": null,
      "metadata": {
        "id": "GTToXdt7BHV6"
      },
      "outputs": [],
      "source": [
        "# import json\n",
        "# import pandas as pd\n",
        "# data_file = open(save_path+\"Kaggle/yelp_academic_dataset_user.json\")\n",
        "# data = []\n",
        "# for line in data_file:\n",
        "#   data.append(json.loads(line))\n",
        "# user_df = pd.DataFrame(data)\n",
        "# data_file.close()"
      ]
    },
    {
      "cell_type": "code",
      "execution_count": null,
      "metadata": {
        "id": "uttsO3noAXcA"
      },
      "outputs": [],
      "source": [
        "# user_df=user_df[user_df['review_count']>20]"
      ]
    },
    {
      "cell_type": "code",
      "execution_count": null,
      "metadata": {
        "id": "y_ILxXWfVzON"
      },
      "outputs": [],
      "source": [
        "# user_df"
      ]
    },
    {
      "cell_type": "code",
      "execution_count": null,
      "metadata": {
        "id": "uZ-QVILfV-pI"
      },
      "outputs": [],
      "source": [
        "# user_ids=user_df['user_id'].values"
      ]
    },
    {
      "cell_type": "code",
      "execution_count": null,
      "metadata": {
        "colab": {
          "base_uri": "https://localhost:8080/"
        },
        "id": "vNBUYkedWTyn",
        "outputId": "207b3fc0-6969-489a-bfa0-9a99c5cbaff2"
      },
      "outputs": [
        {
          "data": {
            "text/plain": [
              "array(['qVc8ODYU5SZjKXVBgXdI7w', 'j14WgRoU_-2ZE1aw1dXrJg',\n",
              "       '2WnXYQFK0hXEoTxPtV2zvg', ..., '_K4X0IBlwDSnClxOrOdxVw',\n",
              "       'E7Stb54xluW_QabdPRwvog', 'fB3jbHi3m0L2KgGOxBv6uw'], dtype=object)"
            ]
          },
          "execution_count": 40,
          "metadata": {},
          "output_type": "execute_result"
        }
      ],
      "source": [
        "# user_ids"
      ]
    },
    {
      "cell_type": "code",
      "execution_count": null,
      "metadata": {
        "id": "ePOsKlVrYA0z"
      },
      "outputs": [],
      "source": [
        "# review_df.drop(review_df.index[~review_df['user_id'].isin(user_ids)], inplace=True)"
      ]
    },
    {
      "cell_type": "code",
      "execution_count": null,
      "metadata": {
        "id": "qHUBnnQW93p4"
      },
      "outputs": [],
      "source": [
        "# review_df"
      ]
    },
    {
      "cell_type": "code",
      "execution_count": null,
      "metadata": {
        "id": "WhtrGzBSqFVL"
      },
      "outputs": [],
      "source": [
        "from sklearn import preprocessing\n",
        "import numpy as np"
      ]
    },
    {
      "cell_type": "code",
      "execution_count": null,
      "metadata": {
        "id": "yHrhGwa1p5r1"
      },
      "outputs": [],
      "source": [
        "# min_max_scaler1 = preprocessing.MinMaxScaler(feature_range=(0,1))\n",
        "# # min_max_scaler2 = preprocessing.MinMaxScaler(feature_range=(-1,0))\n",
        "# latitudes=business_df['latitude'].values.reshape(-1, 1)\n",
        "# longitudes=business_df['longitude'].values.reshape(-1, 1)\n",
        "# # minmax1 = min_max_scaler1.fit_transform(latitudes)\n",
        "# minmax2 = min_max_scaler1.fit_transform(longitudes)"
      ]
    },
    {
      "cell_type": "code",
      "execution_count": null,
      "metadata": {
        "id": "ZTk0mNj5srfs"
      },
      "outputs": [],
      "source": [
        "# business_df['normalized_latitude']=minmax1\n",
        "# business_df['normalized_longitude']=minmax2"
      ]
    },
    {
      "cell_type": "code",
      "execution_count": null,
      "metadata": {
        "id": "b6gEC__hs9Df",
        "colab": {
          "base_uri": "https://localhost:8080/"
        },
        "outputId": "31bdeca3-c128-43a8-ae38-d6f0a3042404"
      },
      "outputs": [
        {
          "output_type": "stream",
          "name": "stderr",
          "text": [
            "/usr/local/lib/python3.8/dist-packages/pandas/core/frame.py:4906: SettingWithCopyWarning: \n",
            "A value is trying to be set on a copy of a slice from a DataFrame\n",
            "\n",
            "See the caveats in the documentation: https://pandas.pydata.org/pandas-docs/stable/user_guide/indexing.html#returning-a-view-versus-a-copy\n",
            "  return super().drop(\n"
          ]
        }
      ],
      "source": [
        "business_df.drop(['name','address','city','state','postal_code'],axis=1,inplace=True)"
      ]
    },
    {
      "cell_type": "code",
      "execution_count": null,
      "metadata": {
        "id": "XF2zcxcdt-_s"
      },
      "outputs": [],
      "source": [
        "# business_df.drop(['latitude','longitude'],axis=1,inplace=True)"
      ]
    },
    {
      "cell_type": "code",
      "execution_count": null,
      "metadata": {
        "id": "IxgwqPSJuaY7"
      },
      "outputs": [],
      "source": [
        "# stars=business_df['stars'].values.reshape(-1, 1)\n",
        "# minmax3 = min_max_scaler1.fit_transform(stars)\n",
        "# business_df['normalized_stars']=minmax3"
      ]
    },
    {
      "cell_type": "code",
      "execution_count": null,
      "metadata": {
        "id": "VKnvqxIqvBdv"
      },
      "outputs": [],
      "source": [
        "# business_df.drop(['stars'],axis=1,inplace=True)"
      ]
    },
    {
      "cell_type": "code",
      "execution_count": null,
      "metadata": {
        "id": "OlO_glPEuIDW"
      },
      "outputs": [],
      "source": [
        "business_df.drop(['is_open','review_count'],axis=1,inplace=True)"
      ]
    },
    {
      "cell_type": "code",
      "execution_count": null,
      "metadata": {
        "colab": {
          "base_uri": "https://localhost:8080/",
          "height": 476
        },
        "id": "9AbgjEQBvSHg",
        "outputId": "d0b18eea-1917-4e8a-d181-a164681358e4"
      },
      "outputs": [
        {
          "output_type": "execute_result",
          "data": {
            "text/plain": [
              "              business_id   latitude  longitude  stars  \\\n",
              "0  mpf3x-BjTdTEA3yCZrAYPw  38.551126 -90.335695    3.0   \n",
              "1  MTSW4McQd7CbVtyjqoe9mw  39.955505 -75.155564    4.0   \n",
              "2  n_0UpQx1hsNbnPUSlodU8w  38.627695 -90.340465    2.5   \n",
              "3  il_Ro8jwPlHresjw9EGmBg  39.637133 -86.127217    2.5   \n",
              "4  MUTTqe8uqyMdBl186RmNeA  39.953949 -75.143226    4.0   \n",
              "\n",
              "                                          attributes  \\\n",
              "0             {'BusinessAcceptsCreditCards': 'True'}   \n",
              "1  {'RestaurantsDelivery': 'False', 'OutdoorSeati...   \n",
              "2  {'BusinessAcceptsCreditCards': 'True', 'Restau...   \n",
              "3  {'RestaurantsReservations': 'False', 'Restaura...   \n",
              "4  {'RestaurantsReservations': 'True', 'Restauran...   \n",
              "\n",
              "                                          categories  \\\n",
              "0  Shipping Centers, Local Services, Notaries, Ma...   \n",
              "1  Restaurants, Food, Bubble Tea, Coffee & Tea, B...   \n",
              "2  Sporting Goods, Fashion, Shoe Stores, Shopping...   \n",
              "3  American (Traditional), Restaurants, Diners, B...   \n",
              "4                  Sushi Bars, Restaurants, Japanese   \n",
              "\n",
              "                                               hours  \n",
              "0  {'Monday': '0:0-0:0', 'Tuesday': '8:0-18:30', ...  \n",
              "1  {'Monday': '7:0-20:0', 'Tuesday': '7:0-20:0', ...  \n",
              "2  {'Monday': '0:0-0:0', 'Tuesday': '10:0-18:0', ...  \n",
              "3  {'Monday': '6:0-22:0', 'Tuesday': '6:0-22:0', ...  \n",
              "4  {'Tuesday': '13:30-22:0', 'Wednesday': '13:30-...  "
            ],
            "text/html": [
              "\n",
              "  <div id=\"df-d12e0f0d-4cd5-469a-b223-e3fae7704f96\">\n",
              "    <div class=\"colab-df-container\">\n",
              "      <div>\n",
              "<style scoped>\n",
              "    .dataframe tbody tr th:only-of-type {\n",
              "        vertical-align: middle;\n",
              "    }\n",
              "\n",
              "    .dataframe tbody tr th {\n",
              "        vertical-align: top;\n",
              "    }\n",
              "\n",
              "    .dataframe thead th {\n",
              "        text-align: right;\n",
              "    }\n",
              "</style>\n",
              "<table border=\"1\" class=\"dataframe\">\n",
              "  <thead>\n",
              "    <tr style=\"text-align: right;\">\n",
              "      <th></th>\n",
              "      <th>business_id</th>\n",
              "      <th>latitude</th>\n",
              "      <th>longitude</th>\n",
              "      <th>stars</th>\n",
              "      <th>attributes</th>\n",
              "      <th>categories</th>\n",
              "      <th>hours</th>\n",
              "    </tr>\n",
              "  </thead>\n",
              "  <tbody>\n",
              "    <tr>\n",
              "      <th>0</th>\n",
              "      <td>mpf3x-BjTdTEA3yCZrAYPw</td>\n",
              "      <td>38.551126</td>\n",
              "      <td>-90.335695</td>\n",
              "      <td>3.0</td>\n",
              "      <td>{'BusinessAcceptsCreditCards': 'True'}</td>\n",
              "      <td>Shipping Centers, Local Services, Notaries, Ma...</td>\n",
              "      <td>{'Monday': '0:0-0:0', 'Tuesday': '8:0-18:30', ...</td>\n",
              "    </tr>\n",
              "    <tr>\n",
              "      <th>1</th>\n",
              "      <td>MTSW4McQd7CbVtyjqoe9mw</td>\n",
              "      <td>39.955505</td>\n",
              "      <td>-75.155564</td>\n",
              "      <td>4.0</td>\n",
              "      <td>{'RestaurantsDelivery': 'False', 'OutdoorSeati...</td>\n",
              "      <td>Restaurants, Food, Bubble Tea, Coffee &amp; Tea, B...</td>\n",
              "      <td>{'Monday': '7:0-20:0', 'Tuesday': '7:0-20:0', ...</td>\n",
              "    </tr>\n",
              "    <tr>\n",
              "      <th>2</th>\n",
              "      <td>n_0UpQx1hsNbnPUSlodU8w</td>\n",
              "      <td>38.627695</td>\n",
              "      <td>-90.340465</td>\n",
              "      <td>2.5</td>\n",
              "      <td>{'BusinessAcceptsCreditCards': 'True', 'Restau...</td>\n",
              "      <td>Sporting Goods, Fashion, Shoe Stores, Shopping...</td>\n",
              "      <td>{'Monday': '0:0-0:0', 'Tuesday': '10:0-18:0', ...</td>\n",
              "    </tr>\n",
              "    <tr>\n",
              "      <th>3</th>\n",
              "      <td>il_Ro8jwPlHresjw9EGmBg</td>\n",
              "      <td>39.637133</td>\n",
              "      <td>-86.127217</td>\n",
              "      <td>2.5</td>\n",
              "      <td>{'RestaurantsReservations': 'False', 'Restaura...</td>\n",
              "      <td>American (Traditional), Restaurants, Diners, B...</td>\n",
              "      <td>{'Monday': '6:0-22:0', 'Tuesday': '6:0-22:0', ...</td>\n",
              "    </tr>\n",
              "    <tr>\n",
              "      <th>4</th>\n",
              "      <td>MUTTqe8uqyMdBl186RmNeA</td>\n",
              "      <td>39.953949</td>\n",
              "      <td>-75.143226</td>\n",
              "      <td>4.0</td>\n",
              "      <td>{'RestaurantsReservations': 'True', 'Restauran...</td>\n",
              "      <td>Sushi Bars, Restaurants, Japanese</td>\n",
              "      <td>{'Tuesday': '13:30-22:0', 'Wednesday': '13:30-...</td>\n",
              "    </tr>\n",
              "  </tbody>\n",
              "</table>\n",
              "</div>\n",
              "      <button class=\"colab-df-convert\" onclick=\"convertToInteractive('df-d12e0f0d-4cd5-469a-b223-e3fae7704f96')\"\n",
              "              title=\"Convert this dataframe to an interactive table.\"\n",
              "              style=\"display:none;\">\n",
              "        \n",
              "  <svg xmlns=\"http://www.w3.org/2000/svg\" height=\"24px\"viewBox=\"0 0 24 24\"\n",
              "       width=\"24px\">\n",
              "    <path d=\"M0 0h24v24H0V0z\" fill=\"none\"/>\n",
              "    <path d=\"M18.56 5.44l.94 2.06.94-2.06 2.06-.94-2.06-.94-.94-2.06-.94 2.06-2.06.94zm-11 1L8.5 8.5l.94-2.06 2.06-.94-2.06-.94L8.5 2.5l-.94 2.06-2.06.94zm10 10l.94 2.06.94-2.06 2.06-.94-2.06-.94-.94-2.06-.94 2.06-2.06.94z\"/><path d=\"M17.41 7.96l-1.37-1.37c-.4-.4-.92-.59-1.43-.59-.52 0-1.04.2-1.43.59L10.3 9.45l-7.72 7.72c-.78.78-.78 2.05 0 2.83L4 21.41c.39.39.9.59 1.41.59.51 0 1.02-.2 1.41-.59l7.78-7.78 2.81-2.81c.8-.78.8-2.07 0-2.86zM5.41 20L4 18.59l7.72-7.72 1.47 1.35L5.41 20z\"/>\n",
              "  </svg>\n",
              "      </button>\n",
              "      \n",
              "  <style>\n",
              "    .colab-df-container {\n",
              "      display:flex;\n",
              "      flex-wrap:wrap;\n",
              "      gap: 12px;\n",
              "    }\n",
              "\n",
              "    .colab-df-convert {\n",
              "      background-color: #E8F0FE;\n",
              "      border: none;\n",
              "      border-radius: 50%;\n",
              "      cursor: pointer;\n",
              "      display: none;\n",
              "      fill: #1967D2;\n",
              "      height: 32px;\n",
              "      padding: 0 0 0 0;\n",
              "      width: 32px;\n",
              "    }\n",
              "\n",
              "    .colab-df-convert:hover {\n",
              "      background-color: #E2EBFA;\n",
              "      box-shadow: 0px 1px 2px rgba(60, 64, 67, 0.3), 0px 1px 3px 1px rgba(60, 64, 67, 0.15);\n",
              "      fill: #174EA6;\n",
              "    }\n",
              "\n",
              "    [theme=dark] .colab-df-convert {\n",
              "      background-color: #3B4455;\n",
              "      fill: #D2E3FC;\n",
              "    }\n",
              "\n",
              "    [theme=dark] .colab-df-convert:hover {\n",
              "      background-color: #434B5C;\n",
              "      box-shadow: 0px 1px 3px 1px rgba(0, 0, 0, 0.15);\n",
              "      filter: drop-shadow(0px 1px 2px rgba(0, 0, 0, 0.3));\n",
              "      fill: #FFFFFF;\n",
              "    }\n",
              "  </style>\n",
              "\n",
              "      <script>\n",
              "        const buttonEl =\n",
              "          document.querySelector('#df-d12e0f0d-4cd5-469a-b223-e3fae7704f96 button.colab-df-convert');\n",
              "        buttonEl.style.display =\n",
              "          google.colab.kernel.accessAllowed ? 'block' : 'none';\n",
              "\n",
              "        async function convertToInteractive(key) {\n",
              "          const element = document.querySelector('#df-d12e0f0d-4cd5-469a-b223-e3fae7704f96');\n",
              "          const dataTable =\n",
              "            await google.colab.kernel.invokeFunction('convertToInteractive',\n",
              "                                                     [key], {});\n",
              "          if (!dataTable) return;\n",
              "\n",
              "          const docLinkHtml = 'Like what you see? Visit the ' +\n",
              "            '<a target=\"_blank\" href=https://colab.research.google.com/notebooks/data_table.ipynb>data table notebook</a>'\n",
              "            + ' to learn more about interactive tables.';\n",
              "          element.innerHTML = '';\n",
              "          dataTable['output_type'] = 'display_data';\n",
              "          await google.colab.output.renderOutput(dataTable, element);\n",
              "          const docLink = document.createElement('div');\n",
              "          docLink.innerHTML = docLinkHtml;\n",
              "          element.appendChild(docLink);\n",
              "        }\n",
              "      </script>\n",
              "    </div>\n",
              "  </div>\n",
              "  "
            ]
          },
          "metadata": {},
          "execution_count": 113
        }
      ],
      "source": [
        "business_df.head()"
      ]
    },
    {
      "cell_type": "code",
      "execution_count": null,
      "metadata": {
        "id": "HWcAFhRS5dXN"
      },
      "outputs": [],
      "source": [
        "all_attributes=[]\n",
        "values=[]\n",
        "for attr in business_df['attributes'].values:\n",
        "  for key in attr.keys():\n",
        "    res=attr[key].replace('\\'','\\\"').replace('False','-1').replace('True','1').replace('None','0').replace('none','0').replace('u','').replace('yes','1')\n",
        "    # print(res)\n",
        "    if '{' in res:\n",
        "      # print(res)\n",
        "      res = json.loads(res)\n",
        "      all_attributes+=res.keys()\n",
        "    elif '\\\"' not in res and int(res)<2:\n",
        "      all_attributes.append(key)\n",
        "all_attributes=list(set(all_attributes))"
      ]
    },
    {
      "cell_type": "code",
      "execution_count": null,
      "metadata": {
        "colab": {
          "base_uri": "https://localhost:8080/"
        },
        "id": "as0JNbkw8O6Q",
        "outputId": "8ed1f24b-4872-451e-8b90-234c24437046"
      },
      "outputs": [
        {
          "output_type": "execute_result",
          "data": {
            "text/plain": [
              "87"
            ]
          },
          "metadata": {},
          "execution_count": 115
        }
      ],
      "source": [
        "len(all_attributes)"
      ]
    },
    {
      "cell_type": "code",
      "execution_count": null,
      "metadata": {
        "id": "WS9cZzIlwjhb"
      },
      "outputs": [],
      "source": [
        "attributes=[]\n",
        "i=0\n",
        "for attr in business_df['attributes'].values:\n",
        "  att=np.zeros(87)\n",
        "  for key in  attr.keys():\n",
        "    res=attr[key].replace('\\'','\\\"').replace('False','-1').replace('True','1').replace('None','0').replace('none','0').replace('u','')\n",
        "    if '{' in res:\n",
        "      res = json.loads(res)\n",
        "      for key2 in res.keys():\n",
        "        ind=all_attributes.index(key2)\n",
        "        att[ind]=res[key2]\n",
        "    elif '\\\"' not in res  and int(res)<2:\n",
        "      ind=all_attributes.index(key)\n",
        "      att[ind]=int(res)\n",
        "  attributes.append(att)"
      ]
    },
    {
      "cell_type": "code",
      "execution_count": null,
      "metadata": {
        "id": "1ZS5yMly3554"
      },
      "outputs": [],
      "source": [
        "attributes_array=np.array(attributes)"
      ]
    },
    {
      "cell_type": "code",
      "execution_count": null,
      "metadata": {
        "id": "N1B6dlXyJxkh"
      },
      "outputs": [],
      "source": [
        "# normalized_attributes_array=preprocessing.scale(attributes_array)"
      ]
    },
    {
      "cell_type": "code",
      "execution_count": null,
      "metadata": {
        "id": "R_6Oo-0IKlow"
      },
      "outputs": [],
      "source": [
        "# normalized_attributes_array"
      ]
    },
    {
      "cell_type": "code",
      "execution_count": null,
      "metadata": {
        "id": "hmeaCWo-GpNL"
      },
      "outputs": [],
      "source": [
        "business_df.reset_index(inplace=True)"
      ]
    },
    {
      "cell_type": "code",
      "execution_count": null,
      "metadata": {
        "id": "SmadUp8jGvLl",
        "colab": {
          "base_uri": "https://localhost:8080/"
        },
        "outputId": "3eceda22-009d-4d36-b914-b9c7698a6b84"
      },
      "outputs": [
        {
          "output_type": "stream",
          "name": "stderr",
          "text": [
            "/usr/local/lib/python3.8/dist-packages/pandas/core/frame.py:4906: SettingWithCopyWarning: \n",
            "A value is trying to be set on a copy of a slice from a DataFrame\n",
            "\n",
            "See the caveats in the documentation: https://pandas.pydata.org/pandas-docs/stable/user_guide/indexing.html#returning-a-view-versus-a-copy\n",
            "  return super().drop(\n"
          ]
        }
      ],
      "source": [
        "business_df.drop(['index'],axis=1,inplace=True)"
      ]
    },
    {
      "cell_type": "code",
      "execution_count": null,
      "metadata": {
        "id": "Djpsp_FDGShM"
      },
      "outputs": [],
      "source": [
        "business_df=pd.concat([business_df, pd.DataFrame(attributes_array,columns=all_attributes)], axis=1)"
      ]
    },
    {
      "cell_type": "code",
      "execution_count": null,
      "metadata": {
        "id": "wjfINdYj5xDq"
      },
      "outputs": [],
      "source": [
        "business_df.drop(['attributes'],axis=1,inplace=True)"
      ]
    },
    {
      "cell_type": "code",
      "execution_count": null,
      "metadata": {
        "colab": {
          "base_uri": "https://localhost:8080/",
          "height": 1000
        },
        "id": "8wBlApWp59cM",
        "outputId": "115db07b-4aeb-4428-c649-195f87e9dc33"
      },
      "outputs": [
        {
          "output_type": "execute_result",
          "data": {
            "text/plain": [
              "                  business_id                                   name  \\\n",
              "0      mpf3x-BjTdTEA3yCZrAYPw                          The UPS Store   \n",
              "1      MTSW4McQd7CbVtyjqoe9mw                     St Honore Pastries   \n",
              "2      n_0UpQx1hsNbnPUSlodU8w                        Famous Footwear   \n",
              "3      il_Ro8jwPlHresjw9EGmBg                                Denny's   \n",
              "4      MUTTqe8uqyMdBl186RmNeA                               Tuna Bar   \n",
              "...                       ...                                    ...   \n",
              "48084  9U1Igcpe954LoWZRmNc-zg    Hand & Stone Massage And Facial Spa   \n",
              "48085  GeEveoOaU2YKD7jJtEfA_g                        DeVons Jewelers   \n",
              "48086  qQ7FHvkGEMqoPKKXPk4gjA  La Quinta by Wyndham NW Tucson Marana   \n",
              "48087  LJ4GjQ1HL6kqvIPpNUNNaQ               Shanti Yoga and Ayurveda   \n",
              "48088  WnT9NIzQgLlILjPT0kEcsQ          Adelita Taqueria & Restaurant   \n",
              "\n",
              "                                          address          city state  \\\n",
              "0                 87 Grasso Plaza Shopping Center        Affton    MO   \n",
              "1                                     935 Race St  Philadelphia    PA   \n",
              "2      8522 Eager Road, Dierbergs Brentwood Point     Brentwood    MO   \n",
              "3                                    8901 US 31 S  Indianapolis    IN   \n",
              "4                                     205 Race St  Philadelphia    PA   \n",
              "...                                           ...           ...   ...   \n",
              "48084                1100 S Columbus Blvd, Ste 24  Philadelphia    PA   \n",
              "48085                   13981 S Virginia St, 402A          Reno    NV   \n",
              "48086                    6020 West Hospitality Rd        Tucson    AZ   \n",
              "48087                          1638 Pine St, Fl 1  Philadelphia    PA   \n",
              "48088                               1108 S 9th St  Philadelphia    PA   \n",
              "\n",
              "      postal_code   latitude   longitude  stars  \\\n",
              "0           63123  38.551126  -90.335695    3.0   \n",
              "1           19107  39.955505  -75.155564    4.0   \n",
              "2           63144  38.627695  -90.340465    2.5   \n",
              "3           46227  39.637133  -86.127217    2.5   \n",
              "4           19106  39.953949  -75.143226    4.0   \n",
              "...           ...        ...         ...    ...   \n",
              "48084       19147  39.932756  -75.144504    3.0   \n",
              "48085       89511  39.404552 -119.750986    5.0   \n",
              "48086       85743  32.358587 -111.093308    2.5   \n",
              "48087       19103  39.945966  -75.169666    4.5   \n",
              "48088       19147  39.935982  -75.158665    4.5   \n",
              "\n",
              "                                              categories  ... africanamerican  \\\n",
              "0      Shipping Centers, Local Services, Notaries, Ma...  ...             0.0   \n",
              "1      Restaurants, Food, Bubble Tea, Coffee & Tea, B...  ...             0.0   \n",
              "2      Sporting Goods, Fashion, Shoe Stores, Shopping...  ...             0.0   \n",
              "3      American (Traditional), Restaurants, Diners, B...  ...             0.0   \n",
              "4                      Sushi Bars, Restaurants, Japanese  ...             0.0   \n",
              "...                                                  ...  ...             ...   \n",
              "48084        Day Spas, Beauty & Spas, Skin Care, Massage  ...             0.0   \n",
              "48085                         Shopping, Watches, Jewelry  ...             0.0   \n",
              "48086  Hotels & Travel, Hotels, Event Planning & Serv...  ...             0.0   \n",
              "48087  Health & Medical, Yoga, Shopping, Naturopathic...  ...             0.0   \n",
              "48088                               Restaurants, Mexican  ...             0.0   \n",
              "\n",
              "       latenight  BusinessParking  Open24Hours  WheelchairAccessible  \\\n",
              "0            0.0              0.0          0.0                   0.0   \n",
              "1            0.0              0.0          0.0                   0.0   \n",
              "2            0.0              0.0          0.0                   0.0   \n",
              "3           -1.0              0.0          0.0                   0.0   \n",
              "4            0.0              0.0          0.0                   1.0   \n",
              "...          ...              ...          ...                   ...   \n",
              "48084        0.0              0.0          0.0                   1.0   \n",
              "48085        0.0              0.0          0.0                   0.0   \n",
              "48086        0.0              0.0          0.0                   0.0   \n",
              "48087        0.0              0.0          0.0                   0.0   \n",
              "48088        0.0              0.0          0.0                  -1.0   \n",
              "\n",
              "       RestaurantsTakeOut  karaoke  jkebox  Music  casal  \n",
              "0                     0.0      0.0     0.0    0.0    0.0  \n",
              "1                     1.0      0.0     0.0    0.0    0.0  \n",
              "2                     0.0      0.0     0.0    0.0    0.0  \n",
              "3                     1.0      0.0     0.0    0.0    1.0  \n",
              "4                     1.0      0.0     0.0    0.0   -1.0  \n",
              "...                   ...      ...     ...    ...    ...  \n",
              "48084                 0.0      0.0     0.0    0.0    0.0  \n",
              "48085                 0.0      0.0     0.0    0.0    0.0  \n",
              "48086                 0.0      0.0     0.0    0.0    0.0  \n",
              "48087                 0.0      0.0     0.0    0.0    0.0  \n",
              "48088                 1.0      0.0     0.0    0.0    1.0  \n",
              "\n",
              "[48089 rows x 98 columns]"
            ],
            "text/html": [
              "\n",
              "  <div id=\"df-3ecc078b-deaa-45f3-8a5a-56491aa604d5\">\n",
              "    <div class=\"colab-df-container\">\n",
              "      <div>\n",
              "<style scoped>\n",
              "    .dataframe tbody tr th:only-of-type {\n",
              "        vertical-align: middle;\n",
              "    }\n",
              "\n",
              "    .dataframe tbody tr th {\n",
              "        vertical-align: top;\n",
              "    }\n",
              "\n",
              "    .dataframe thead th {\n",
              "        text-align: right;\n",
              "    }\n",
              "</style>\n",
              "<table border=\"1\" class=\"dataframe\">\n",
              "  <thead>\n",
              "    <tr style=\"text-align: right;\">\n",
              "      <th></th>\n",
              "      <th>business_id</th>\n",
              "      <th>name</th>\n",
              "      <th>address</th>\n",
              "      <th>city</th>\n",
              "      <th>state</th>\n",
              "      <th>postal_code</th>\n",
              "      <th>latitude</th>\n",
              "      <th>longitude</th>\n",
              "      <th>stars</th>\n",
              "      <th>categories</th>\n",
              "      <th>...</th>\n",
              "      <th>africanamerican</th>\n",
              "      <th>latenight</th>\n",
              "      <th>BusinessParking</th>\n",
              "      <th>Open24Hours</th>\n",
              "      <th>WheelchairAccessible</th>\n",
              "      <th>RestaurantsTakeOut</th>\n",
              "      <th>karaoke</th>\n",
              "      <th>jkebox</th>\n",
              "      <th>Music</th>\n",
              "      <th>casal</th>\n",
              "    </tr>\n",
              "  </thead>\n",
              "  <tbody>\n",
              "    <tr>\n",
              "      <th>0</th>\n",
              "      <td>mpf3x-BjTdTEA3yCZrAYPw</td>\n",
              "      <td>The UPS Store</td>\n",
              "      <td>87 Grasso Plaza Shopping Center</td>\n",
              "      <td>Affton</td>\n",
              "      <td>MO</td>\n",
              "      <td>63123</td>\n",
              "      <td>38.551126</td>\n",
              "      <td>-90.335695</td>\n",
              "      <td>3.0</td>\n",
              "      <td>Shipping Centers, Local Services, Notaries, Ma...</td>\n",
              "      <td>...</td>\n",
              "      <td>0.0</td>\n",
              "      <td>0.0</td>\n",
              "      <td>0.0</td>\n",
              "      <td>0.0</td>\n",
              "      <td>0.0</td>\n",
              "      <td>0.0</td>\n",
              "      <td>0.0</td>\n",
              "      <td>0.0</td>\n",
              "      <td>0.0</td>\n",
              "      <td>0.0</td>\n",
              "    </tr>\n",
              "    <tr>\n",
              "      <th>1</th>\n",
              "      <td>MTSW4McQd7CbVtyjqoe9mw</td>\n",
              "      <td>St Honore Pastries</td>\n",
              "      <td>935 Race St</td>\n",
              "      <td>Philadelphia</td>\n",
              "      <td>PA</td>\n",
              "      <td>19107</td>\n",
              "      <td>39.955505</td>\n",
              "      <td>-75.155564</td>\n",
              "      <td>4.0</td>\n",
              "      <td>Restaurants, Food, Bubble Tea, Coffee &amp; Tea, B...</td>\n",
              "      <td>...</td>\n",
              "      <td>0.0</td>\n",
              "      <td>0.0</td>\n",
              "      <td>0.0</td>\n",
              "      <td>0.0</td>\n",
              "      <td>0.0</td>\n",
              "      <td>1.0</td>\n",
              "      <td>0.0</td>\n",
              "      <td>0.0</td>\n",
              "      <td>0.0</td>\n",
              "      <td>0.0</td>\n",
              "    </tr>\n",
              "    <tr>\n",
              "      <th>2</th>\n",
              "      <td>n_0UpQx1hsNbnPUSlodU8w</td>\n",
              "      <td>Famous Footwear</td>\n",
              "      <td>8522 Eager Road, Dierbergs Brentwood Point</td>\n",
              "      <td>Brentwood</td>\n",
              "      <td>MO</td>\n",
              "      <td>63144</td>\n",
              "      <td>38.627695</td>\n",
              "      <td>-90.340465</td>\n",
              "      <td>2.5</td>\n",
              "      <td>Sporting Goods, Fashion, Shoe Stores, Shopping...</td>\n",
              "      <td>...</td>\n",
              "      <td>0.0</td>\n",
              "      <td>0.0</td>\n",
              "      <td>0.0</td>\n",
              "      <td>0.0</td>\n",
              "      <td>0.0</td>\n",
              "      <td>0.0</td>\n",
              "      <td>0.0</td>\n",
              "      <td>0.0</td>\n",
              "      <td>0.0</td>\n",
              "      <td>0.0</td>\n",
              "    </tr>\n",
              "    <tr>\n",
              "      <th>3</th>\n",
              "      <td>il_Ro8jwPlHresjw9EGmBg</td>\n",
              "      <td>Denny's</td>\n",
              "      <td>8901 US 31 S</td>\n",
              "      <td>Indianapolis</td>\n",
              "      <td>IN</td>\n",
              "      <td>46227</td>\n",
              "      <td>39.637133</td>\n",
              "      <td>-86.127217</td>\n",
              "      <td>2.5</td>\n",
              "      <td>American (Traditional), Restaurants, Diners, B...</td>\n",
              "      <td>...</td>\n",
              "      <td>0.0</td>\n",
              "      <td>-1.0</td>\n",
              "      <td>0.0</td>\n",
              "      <td>0.0</td>\n",
              "      <td>0.0</td>\n",
              "      <td>1.0</td>\n",
              "      <td>0.0</td>\n",
              "      <td>0.0</td>\n",
              "      <td>0.0</td>\n",
              "      <td>1.0</td>\n",
              "    </tr>\n",
              "    <tr>\n",
              "      <th>4</th>\n",
              "      <td>MUTTqe8uqyMdBl186RmNeA</td>\n",
              "      <td>Tuna Bar</td>\n",
              "      <td>205 Race St</td>\n",
              "      <td>Philadelphia</td>\n",
              "      <td>PA</td>\n",
              "      <td>19106</td>\n",
              "      <td>39.953949</td>\n",
              "      <td>-75.143226</td>\n",
              "      <td>4.0</td>\n",
              "      <td>Sushi Bars, Restaurants, Japanese</td>\n",
              "      <td>...</td>\n",
              "      <td>0.0</td>\n",
              "      <td>0.0</td>\n",
              "      <td>0.0</td>\n",
              "      <td>0.0</td>\n",
              "      <td>1.0</td>\n",
              "      <td>1.0</td>\n",
              "      <td>0.0</td>\n",
              "      <td>0.0</td>\n",
              "      <td>0.0</td>\n",
              "      <td>-1.0</td>\n",
              "    </tr>\n",
              "    <tr>\n",
              "      <th>...</th>\n",
              "      <td>...</td>\n",
              "      <td>...</td>\n",
              "      <td>...</td>\n",
              "      <td>...</td>\n",
              "      <td>...</td>\n",
              "      <td>...</td>\n",
              "      <td>...</td>\n",
              "      <td>...</td>\n",
              "      <td>...</td>\n",
              "      <td>...</td>\n",
              "      <td>...</td>\n",
              "      <td>...</td>\n",
              "      <td>...</td>\n",
              "      <td>...</td>\n",
              "      <td>...</td>\n",
              "      <td>...</td>\n",
              "      <td>...</td>\n",
              "      <td>...</td>\n",
              "      <td>...</td>\n",
              "      <td>...</td>\n",
              "      <td>...</td>\n",
              "    </tr>\n",
              "    <tr>\n",
              "      <th>48084</th>\n",
              "      <td>9U1Igcpe954LoWZRmNc-zg</td>\n",
              "      <td>Hand &amp; Stone Massage And Facial Spa</td>\n",
              "      <td>1100 S Columbus Blvd, Ste 24</td>\n",
              "      <td>Philadelphia</td>\n",
              "      <td>PA</td>\n",
              "      <td>19147</td>\n",
              "      <td>39.932756</td>\n",
              "      <td>-75.144504</td>\n",
              "      <td>3.0</td>\n",
              "      <td>Day Spas, Beauty &amp; Spas, Skin Care, Massage</td>\n",
              "      <td>...</td>\n",
              "      <td>0.0</td>\n",
              "      <td>0.0</td>\n",
              "      <td>0.0</td>\n",
              "      <td>0.0</td>\n",
              "      <td>1.0</td>\n",
              "      <td>0.0</td>\n",
              "      <td>0.0</td>\n",
              "      <td>0.0</td>\n",
              "      <td>0.0</td>\n",
              "      <td>0.0</td>\n",
              "    </tr>\n",
              "    <tr>\n",
              "      <th>48085</th>\n",
              "      <td>GeEveoOaU2YKD7jJtEfA_g</td>\n",
              "      <td>DeVons Jewelers</td>\n",
              "      <td>13981 S Virginia St, 402A</td>\n",
              "      <td>Reno</td>\n",
              "      <td>NV</td>\n",
              "      <td>89511</td>\n",
              "      <td>39.404552</td>\n",
              "      <td>-119.750986</td>\n",
              "      <td>5.0</td>\n",
              "      <td>Shopping, Watches, Jewelry</td>\n",
              "      <td>...</td>\n",
              "      <td>0.0</td>\n",
              "      <td>0.0</td>\n",
              "      <td>0.0</td>\n",
              "      <td>0.0</td>\n",
              "      <td>0.0</td>\n",
              "      <td>0.0</td>\n",
              "      <td>0.0</td>\n",
              "      <td>0.0</td>\n",
              "      <td>0.0</td>\n",
              "      <td>0.0</td>\n",
              "    </tr>\n",
              "    <tr>\n",
              "      <th>48086</th>\n",
              "      <td>qQ7FHvkGEMqoPKKXPk4gjA</td>\n",
              "      <td>La Quinta by Wyndham NW Tucson Marana</td>\n",
              "      <td>6020 West Hospitality Rd</td>\n",
              "      <td>Tucson</td>\n",
              "      <td>AZ</td>\n",
              "      <td>85743</td>\n",
              "      <td>32.358587</td>\n",
              "      <td>-111.093308</td>\n",
              "      <td>2.5</td>\n",
              "      <td>Hotels &amp; Travel, Hotels, Event Planning &amp; Serv...</td>\n",
              "      <td>...</td>\n",
              "      <td>0.0</td>\n",
              "      <td>0.0</td>\n",
              "      <td>0.0</td>\n",
              "      <td>0.0</td>\n",
              "      <td>0.0</td>\n",
              "      <td>0.0</td>\n",
              "      <td>0.0</td>\n",
              "      <td>0.0</td>\n",
              "      <td>0.0</td>\n",
              "      <td>0.0</td>\n",
              "    </tr>\n",
              "    <tr>\n",
              "      <th>48087</th>\n",
              "      <td>LJ4GjQ1HL6kqvIPpNUNNaQ</td>\n",
              "      <td>Shanti Yoga and Ayurveda</td>\n",
              "      <td>1638 Pine St, Fl 1</td>\n",
              "      <td>Philadelphia</td>\n",
              "      <td>PA</td>\n",
              "      <td>19103</td>\n",
              "      <td>39.945966</td>\n",
              "      <td>-75.169666</td>\n",
              "      <td>4.5</td>\n",
              "      <td>Health &amp; Medical, Yoga, Shopping, Naturopathic...</td>\n",
              "      <td>...</td>\n",
              "      <td>0.0</td>\n",
              "      <td>0.0</td>\n",
              "      <td>0.0</td>\n",
              "      <td>0.0</td>\n",
              "      <td>0.0</td>\n",
              "      <td>0.0</td>\n",
              "      <td>0.0</td>\n",
              "      <td>0.0</td>\n",
              "      <td>0.0</td>\n",
              "      <td>0.0</td>\n",
              "    </tr>\n",
              "    <tr>\n",
              "      <th>48088</th>\n",
              "      <td>WnT9NIzQgLlILjPT0kEcsQ</td>\n",
              "      <td>Adelita Taqueria &amp; Restaurant</td>\n",
              "      <td>1108 S 9th St</td>\n",
              "      <td>Philadelphia</td>\n",
              "      <td>PA</td>\n",
              "      <td>19147</td>\n",
              "      <td>39.935982</td>\n",
              "      <td>-75.158665</td>\n",
              "      <td>4.5</td>\n",
              "      <td>Restaurants, Mexican</td>\n",
              "      <td>...</td>\n",
              "      <td>0.0</td>\n",
              "      <td>0.0</td>\n",
              "      <td>0.0</td>\n",
              "      <td>0.0</td>\n",
              "      <td>-1.0</td>\n",
              "      <td>1.0</td>\n",
              "      <td>0.0</td>\n",
              "      <td>0.0</td>\n",
              "      <td>0.0</td>\n",
              "      <td>1.0</td>\n",
              "    </tr>\n",
              "  </tbody>\n",
              "</table>\n",
              "<p>48089 rows × 98 columns</p>\n",
              "</div>\n",
              "      <button class=\"colab-df-convert\" onclick=\"convertToInteractive('df-3ecc078b-deaa-45f3-8a5a-56491aa604d5')\"\n",
              "              title=\"Convert this dataframe to an interactive table.\"\n",
              "              style=\"display:none;\">\n",
              "        \n",
              "  <svg xmlns=\"http://www.w3.org/2000/svg\" height=\"24px\"viewBox=\"0 0 24 24\"\n",
              "       width=\"24px\">\n",
              "    <path d=\"M0 0h24v24H0V0z\" fill=\"none\"/>\n",
              "    <path d=\"M18.56 5.44l.94 2.06.94-2.06 2.06-.94-2.06-.94-.94-2.06-.94 2.06-2.06.94zm-11 1L8.5 8.5l.94-2.06 2.06-.94-2.06-.94L8.5 2.5l-.94 2.06-2.06.94zm10 10l.94 2.06.94-2.06 2.06-.94-2.06-.94-.94-2.06-.94 2.06-2.06.94z\"/><path d=\"M17.41 7.96l-1.37-1.37c-.4-.4-.92-.59-1.43-.59-.52 0-1.04.2-1.43.59L10.3 9.45l-7.72 7.72c-.78.78-.78 2.05 0 2.83L4 21.41c.39.39.9.59 1.41.59.51 0 1.02-.2 1.41-.59l7.78-7.78 2.81-2.81c.8-.78.8-2.07 0-2.86zM5.41 20L4 18.59l7.72-7.72 1.47 1.35L5.41 20z\"/>\n",
              "  </svg>\n",
              "      </button>\n",
              "      \n",
              "  <style>\n",
              "    .colab-df-container {\n",
              "      display:flex;\n",
              "      flex-wrap:wrap;\n",
              "      gap: 12px;\n",
              "    }\n",
              "\n",
              "    .colab-df-convert {\n",
              "      background-color: #E8F0FE;\n",
              "      border: none;\n",
              "      border-radius: 50%;\n",
              "      cursor: pointer;\n",
              "      display: none;\n",
              "      fill: #1967D2;\n",
              "      height: 32px;\n",
              "      padding: 0 0 0 0;\n",
              "      width: 32px;\n",
              "    }\n",
              "\n",
              "    .colab-df-convert:hover {\n",
              "      background-color: #E2EBFA;\n",
              "      box-shadow: 0px 1px 2px rgba(60, 64, 67, 0.3), 0px 1px 3px 1px rgba(60, 64, 67, 0.15);\n",
              "      fill: #174EA6;\n",
              "    }\n",
              "\n",
              "    [theme=dark] .colab-df-convert {\n",
              "      background-color: #3B4455;\n",
              "      fill: #D2E3FC;\n",
              "    }\n",
              "\n",
              "    [theme=dark] .colab-df-convert:hover {\n",
              "      background-color: #434B5C;\n",
              "      box-shadow: 0px 1px 3px 1px rgba(0, 0, 0, 0.15);\n",
              "      filter: drop-shadow(0px 1px 2px rgba(0, 0, 0, 0.3));\n",
              "      fill: #FFFFFF;\n",
              "    }\n",
              "  </style>\n",
              "\n",
              "      <script>\n",
              "        const buttonEl =\n",
              "          document.querySelector('#df-3ecc078b-deaa-45f3-8a5a-56491aa604d5 button.colab-df-convert');\n",
              "        buttonEl.style.display =\n",
              "          google.colab.kernel.accessAllowed ? 'block' : 'none';\n",
              "\n",
              "        async function convertToInteractive(key) {\n",
              "          const element = document.querySelector('#df-3ecc078b-deaa-45f3-8a5a-56491aa604d5');\n",
              "          const dataTable =\n",
              "            await google.colab.kernel.invokeFunction('convertToInteractive',\n",
              "                                                     [key], {});\n",
              "          if (!dataTable) return;\n",
              "\n",
              "          const docLinkHtml = 'Like what you see? Visit the ' +\n",
              "            '<a target=\"_blank\" href=https://colab.research.google.com/notebooks/data_table.ipynb>data table notebook</a>'\n",
              "            + ' to learn more about interactive tables.';\n",
              "          element.innerHTML = '';\n",
              "          dataTable['output_type'] = 'display_data';\n",
              "          await google.colab.output.renderOutput(dataTable, element);\n",
              "          const docLink = document.createElement('div');\n",
              "          docLink.innerHTML = docLinkHtml;\n",
              "          element.appendChild(docLink);\n",
              "        }\n",
              "      </script>\n",
              "    </div>\n",
              "  </div>\n",
              "  "
            ]
          },
          "metadata": {},
          "execution_count": 85
        }
      ],
      "source": [
        "business_df"
      ]
    },
    {
      "cell_type": "code",
      "execution_count": null,
      "metadata": {
        "id": "uxQqhK43_Udo"
      },
      "outputs": [],
      "source": [
        "# all_categories=[]\n",
        "# for cats in business_df['categories'].values:\n",
        "#   all_cats=cats.split(',')\n",
        "#   for cat in all_cats:\n",
        "#     all_categories.append(cat.strip())\n",
        "# all_categories=list(set(all_categories))"
      ]
    },
    {
      "cell_type": "code",
      "execution_count": null,
      "metadata": {
        "colab": {
          "base_uri": "https://localhost:8080/"
        },
        "id": "5pktRXcNAwgg",
        "outputId": "2bcf7ddb-7995-413f-b635-94043871c26f"
      },
      "outputs": [
        {
          "data": {
            "text/plain": [
              "1193"
            ]
          },
          "execution_count": 31,
          "metadata": {},
          "output_type": "execute_result"
        }
      ],
      "source": [
        "# len(all_categories)"
      ]
    },
    {
      "cell_type": "code",
      "execution_count": null,
      "metadata": {
        "id": "YLT_SnK08ycy"
      },
      "outputs": [],
      "source": [
        "# categories=[]\n",
        "# for cats in business_df['categories'].values:\n",
        "#   cats_a=np.zeros(len(all_categories))\n",
        "#   cats=cats.split(',')\n",
        "#   for cat in cats:\n",
        "#     ind=all_categories.index(cat.strip())\n",
        "#     cats_a[ind]=1.0\n",
        "#   categories.append(cats_a)"
      ]
    },
    {
      "cell_type": "code",
      "execution_count": null,
      "metadata": {
        "id": "QYBFM1c69Yty"
      },
      "outputs": [],
      "source": [
        "# categories_array=np.array(categories)"
      ]
    },
    {
      "cell_type": "code",
      "execution_count": null,
      "metadata": {
        "id": "NAfE2vazII88"
      },
      "outputs": [],
      "source": [
        "# business_df=pd.concat([business_df, pd.DataFrame(categories_array,columns=all_categories)], axis=1)"
      ]
    },
    {
      "cell_type": "code",
      "execution_count": null,
      "metadata": {
        "id": "8OtKUyUTMQ6O"
      },
      "outputs": [],
      "source": [
        "business_df.drop(['categories'],axis=1,inplace=True)"
      ]
    },
    {
      "cell_type": "code",
      "execution_count": null,
      "metadata": {
        "colab": {
          "base_uri": "https://localhost:8080/",
          "height": 1000
        },
        "id": "9OmWxMniIOHI",
        "outputId": "a0dc5013-7f29-49a7-85ff-6fee18882367"
      },
      "outputs": [
        {
          "output_type": "execute_result",
          "data": {
            "text/plain": [
              "                  business_id                                   name  \\\n",
              "0      mpf3x-BjTdTEA3yCZrAYPw                          The UPS Store   \n",
              "1      MTSW4McQd7CbVtyjqoe9mw                     St Honore Pastries   \n",
              "2      n_0UpQx1hsNbnPUSlodU8w                        Famous Footwear   \n",
              "3      il_Ro8jwPlHresjw9EGmBg                                Denny's   \n",
              "4      MUTTqe8uqyMdBl186RmNeA                               Tuna Bar   \n",
              "...                       ...                                    ...   \n",
              "48084  9U1Igcpe954LoWZRmNc-zg    Hand & Stone Massage And Facial Spa   \n",
              "48085  GeEveoOaU2YKD7jJtEfA_g                        DeVons Jewelers   \n",
              "48086  qQ7FHvkGEMqoPKKXPk4gjA  La Quinta by Wyndham NW Tucson Marana   \n",
              "48087  LJ4GjQ1HL6kqvIPpNUNNaQ               Shanti Yoga and Ayurveda   \n",
              "48088  WnT9NIzQgLlILjPT0kEcsQ          Adelita Taqueria & Restaurant   \n",
              "\n",
              "                                          address          city state  \\\n",
              "0                 87 Grasso Plaza Shopping Center        Affton    MO   \n",
              "1                                     935 Race St  Philadelphia    PA   \n",
              "2      8522 Eager Road, Dierbergs Brentwood Point     Brentwood    MO   \n",
              "3                                    8901 US 31 S  Indianapolis    IN   \n",
              "4                                     205 Race St  Philadelphia    PA   \n",
              "...                                           ...           ...   ...   \n",
              "48084                1100 S Columbus Blvd, Ste 24  Philadelphia    PA   \n",
              "48085                   13981 S Virginia St, 402A          Reno    NV   \n",
              "48086                    6020 West Hospitality Rd        Tucson    AZ   \n",
              "48087                          1638 Pine St, Fl 1  Philadelphia    PA   \n",
              "48088                               1108 S 9th St  Philadelphia    PA   \n",
              "\n",
              "      postal_code   latitude   longitude  stars  \\\n",
              "0           63123  38.551126  -90.335695    3.0   \n",
              "1           19107  39.955505  -75.155564    4.0   \n",
              "2           63144  38.627695  -90.340465    2.5   \n",
              "3           46227  39.637133  -86.127217    2.5   \n",
              "4           19106  39.953949  -75.143226    4.0   \n",
              "...           ...        ...         ...    ...   \n",
              "48084       19147  39.932756  -75.144504    3.0   \n",
              "48085       89511  39.404552 -119.750986    5.0   \n",
              "48086       85743  32.358587 -111.093308    2.5   \n",
              "48087       19103  39.945966  -75.169666    4.5   \n",
              "48088       19147  39.935982  -75.158665    4.5   \n",
              "\n",
              "                                                   hours  ...  \\\n",
              "0      {'Monday': '0:0-0:0', 'Tuesday': '8:0-18:30', ...  ...   \n",
              "1      {'Monday': '7:0-20:0', 'Tuesday': '7:0-20:0', ...  ...   \n",
              "2      {'Monday': '0:0-0:0', 'Tuesday': '10:0-18:0', ...  ...   \n",
              "3      {'Monday': '6:0-22:0', 'Tuesday': '6:0-22:0', ...  ...   \n",
              "4      {'Tuesday': '13:30-22:0', 'Wednesday': '13:30-...  ...   \n",
              "...                                                  ...  ...   \n",
              "48084  {'Monday': '9:0-22:0', 'Tuesday': '9:0-22:0', ...  ...   \n",
              "48085  {'Monday': '10:0-19:0', 'Tuesday': '10:0-19:0'...  ...   \n",
              "48086  {'Monday': '0:0-0:0', 'Tuesday': '0:0-0:0', 'W...  ...   \n",
              "48087  {'Monday': '7:0-20:0', 'Tuesday': '7:0-20:0', ...  ...   \n",
              "48088  {'Monday': '11:0-22:0', 'Tuesday': '11:0-22:0'...  ...   \n",
              "\n",
              "       africanamerican  latenight  BusinessParking  Open24Hours  \\\n",
              "0                  0.0        0.0              0.0          0.0   \n",
              "1                  0.0        0.0              0.0          0.0   \n",
              "2                  0.0        0.0              0.0          0.0   \n",
              "3                  0.0       -1.0              0.0          0.0   \n",
              "4                  0.0        0.0              0.0          0.0   \n",
              "...                ...        ...              ...          ...   \n",
              "48084              0.0        0.0              0.0          0.0   \n",
              "48085              0.0        0.0              0.0          0.0   \n",
              "48086              0.0        0.0              0.0          0.0   \n",
              "48087              0.0        0.0              0.0          0.0   \n",
              "48088              0.0        0.0              0.0          0.0   \n",
              "\n",
              "       WheelchairAccessible  RestaurantsTakeOut  karaoke  jkebox  Music  casal  \n",
              "0                       0.0                 0.0      0.0     0.0    0.0    0.0  \n",
              "1                       0.0                 1.0      0.0     0.0    0.0    0.0  \n",
              "2                       0.0                 0.0      0.0     0.0    0.0    0.0  \n",
              "3                       0.0                 1.0      0.0     0.0    0.0    1.0  \n",
              "4                       1.0                 1.0      0.0     0.0    0.0   -1.0  \n",
              "...                     ...                 ...      ...     ...    ...    ...  \n",
              "48084                   1.0                 0.0      0.0     0.0    0.0    0.0  \n",
              "48085                   0.0                 0.0      0.0     0.0    0.0    0.0  \n",
              "48086                   0.0                 0.0      0.0     0.0    0.0    0.0  \n",
              "48087                   0.0                 0.0      0.0     0.0    0.0    0.0  \n",
              "48088                  -1.0                 1.0      0.0     0.0    0.0    1.0  \n",
              "\n",
              "[48089 rows x 97 columns]"
            ],
            "text/html": [
              "\n",
              "  <div id=\"df-9054b360-f6e7-4115-b72c-7d5563db5a07\">\n",
              "    <div class=\"colab-df-container\">\n",
              "      <div>\n",
              "<style scoped>\n",
              "    .dataframe tbody tr th:only-of-type {\n",
              "        vertical-align: middle;\n",
              "    }\n",
              "\n",
              "    .dataframe tbody tr th {\n",
              "        vertical-align: top;\n",
              "    }\n",
              "\n",
              "    .dataframe thead th {\n",
              "        text-align: right;\n",
              "    }\n",
              "</style>\n",
              "<table border=\"1\" class=\"dataframe\">\n",
              "  <thead>\n",
              "    <tr style=\"text-align: right;\">\n",
              "      <th></th>\n",
              "      <th>business_id</th>\n",
              "      <th>name</th>\n",
              "      <th>address</th>\n",
              "      <th>city</th>\n",
              "      <th>state</th>\n",
              "      <th>postal_code</th>\n",
              "      <th>latitude</th>\n",
              "      <th>longitude</th>\n",
              "      <th>stars</th>\n",
              "      <th>hours</th>\n",
              "      <th>...</th>\n",
              "      <th>africanamerican</th>\n",
              "      <th>latenight</th>\n",
              "      <th>BusinessParking</th>\n",
              "      <th>Open24Hours</th>\n",
              "      <th>WheelchairAccessible</th>\n",
              "      <th>RestaurantsTakeOut</th>\n",
              "      <th>karaoke</th>\n",
              "      <th>jkebox</th>\n",
              "      <th>Music</th>\n",
              "      <th>casal</th>\n",
              "    </tr>\n",
              "  </thead>\n",
              "  <tbody>\n",
              "    <tr>\n",
              "      <th>0</th>\n",
              "      <td>mpf3x-BjTdTEA3yCZrAYPw</td>\n",
              "      <td>The UPS Store</td>\n",
              "      <td>87 Grasso Plaza Shopping Center</td>\n",
              "      <td>Affton</td>\n",
              "      <td>MO</td>\n",
              "      <td>63123</td>\n",
              "      <td>38.551126</td>\n",
              "      <td>-90.335695</td>\n",
              "      <td>3.0</td>\n",
              "      <td>{'Monday': '0:0-0:0', 'Tuesday': '8:0-18:30', ...</td>\n",
              "      <td>...</td>\n",
              "      <td>0.0</td>\n",
              "      <td>0.0</td>\n",
              "      <td>0.0</td>\n",
              "      <td>0.0</td>\n",
              "      <td>0.0</td>\n",
              "      <td>0.0</td>\n",
              "      <td>0.0</td>\n",
              "      <td>0.0</td>\n",
              "      <td>0.0</td>\n",
              "      <td>0.0</td>\n",
              "    </tr>\n",
              "    <tr>\n",
              "      <th>1</th>\n",
              "      <td>MTSW4McQd7CbVtyjqoe9mw</td>\n",
              "      <td>St Honore Pastries</td>\n",
              "      <td>935 Race St</td>\n",
              "      <td>Philadelphia</td>\n",
              "      <td>PA</td>\n",
              "      <td>19107</td>\n",
              "      <td>39.955505</td>\n",
              "      <td>-75.155564</td>\n",
              "      <td>4.0</td>\n",
              "      <td>{'Monday': '7:0-20:0', 'Tuesday': '7:0-20:0', ...</td>\n",
              "      <td>...</td>\n",
              "      <td>0.0</td>\n",
              "      <td>0.0</td>\n",
              "      <td>0.0</td>\n",
              "      <td>0.0</td>\n",
              "      <td>0.0</td>\n",
              "      <td>1.0</td>\n",
              "      <td>0.0</td>\n",
              "      <td>0.0</td>\n",
              "      <td>0.0</td>\n",
              "      <td>0.0</td>\n",
              "    </tr>\n",
              "    <tr>\n",
              "      <th>2</th>\n",
              "      <td>n_0UpQx1hsNbnPUSlodU8w</td>\n",
              "      <td>Famous Footwear</td>\n",
              "      <td>8522 Eager Road, Dierbergs Brentwood Point</td>\n",
              "      <td>Brentwood</td>\n",
              "      <td>MO</td>\n",
              "      <td>63144</td>\n",
              "      <td>38.627695</td>\n",
              "      <td>-90.340465</td>\n",
              "      <td>2.5</td>\n",
              "      <td>{'Monday': '0:0-0:0', 'Tuesday': '10:0-18:0', ...</td>\n",
              "      <td>...</td>\n",
              "      <td>0.0</td>\n",
              "      <td>0.0</td>\n",
              "      <td>0.0</td>\n",
              "      <td>0.0</td>\n",
              "      <td>0.0</td>\n",
              "      <td>0.0</td>\n",
              "      <td>0.0</td>\n",
              "      <td>0.0</td>\n",
              "      <td>0.0</td>\n",
              "      <td>0.0</td>\n",
              "    </tr>\n",
              "    <tr>\n",
              "      <th>3</th>\n",
              "      <td>il_Ro8jwPlHresjw9EGmBg</td>\n",
              "      <td>Denny's</td>\n",
              "      <td>8901 US 31 S</td>\n",
              "      <td>Indianapolis</td>\n",
              "      <td>IN</td>\n",
              "      <td>46227</td>\n",
              "      <td>39.637133</td>\n",
              "      <td>-86.127217</td>\n",
              "      <td>2.5</td>\n",
              "      <td>{'Monday': '6:0-22:0', 'Tuesday': '6:0-22:0', ...</td>\n",
              "      <td>...</td>\n",
              "      <td>0.0</td>\n",
              "      <td>-1.0</td>\n",
              "      <td>0.0</td>\n",
              "      <td>0.0</td>\n",
              "      <td>0.0</td>\n",
              "      <td>1.0</td>\n",
              "      <td>0.0</td>\n",
              "      <td>0.0</td>\n",
              "      <td>0.0</td>\n",
              "      <td>1.0</td>\n",
              "    </tr>\n",
              "    <tr>\n",
              "      <th>4</th>\n",
              "      <td>MUTTqe8uqyMdBl186RmNeA</td>\n",
              "      <td>Tuna Bar</td>\n",
              "      <td>205 Race St</td>\n",
              "      <td>Philadelphia</td>\n",
              "      <td>PA</td>\n",
              "      <td>19106</td>\n",
              "      <td>39.953949</td>\n",
              "      <td>-75.143226</td>\n",
              "      <td>4.0</td>\n",
              "      <td>{'Tuesday': '13:30-22:0', 'Wednesday': '13:30-...</td>\n",
              "      <td>...</td>\n",
              "      <td>0.0</td>\n",
              "      <td>0.0</td>\n",
              "      <td>0.0</td>\n",
              "      <td>0.0</td>\n",
              "      <td>1.0</td>\n",
              "      <td>1.0</td>\n",
              "      <td>0.0</td>\n",
              "      <td>0.0</td>\n",
              "      <td>0.0</td>\n",
              "      <td>-1.0</td>\n",
              "    </tr>\n",
              "    <tr>\n",
              "      <th>...</th>\n",
              "      <td>...</td>\n",
              "      <td>...</td>\n",
              "      <td>...</td>\n",
              "      <td>...</td>\n",
              "      <td>...</td>\n",
              "      <td>...</td>\n",
              "      <td>...</td>\n",
              "      <td>...</td>\n",
              "      <td>...</td>\n",
              "      <td>...</td>\n",
              "      <td>...</td>\n",
              "      <td>...</td>\n",
              "      <td>...</td>\n",
              "      <td>...</td>\n",
              "      <td>...</td>\n",
              "      <td>...</td>\n",
              "      <td>...</td>\n",
              "      <td>...</td>\n",
              "      <td>...</td>\n",
              "      <td>...</td>\n",
              "      <td>...</td>\n",
              "    </tr>\n",
              "    <tr>\n",
              "      <th>48084</th>\n",
              "      <td>9U1Igcpe954LoWZRmNc-zg</td>\n",
              "      <td>Hand &amp; Stone Massage And Facial Spa</td>\n",
              "      <td>1100 S Columbus Blvd, Ste 24</td>\n",
              "      <td>Philadelphia</td>\n",
              "      <td>PA</td>\n",
              "      <td>19147</td>\n",
              "      <td>39.932756</td>\n",
              "      <td>-75.144504</td>\n",
              "      <td>3.0</td>\n",
              "      <td>{'Monday': '9:0-22:0', 'Tuesday': '9:0-22:0', ...</td>\n",
              "      <td>...</td>\n",
              "      <td>0.0</td>\n",
              "      <td>0.0</td>\n",
              "      <td>0.0</td>\n",
              "      <td>0.0</td>\n",
              "      <td>1.0</td>\n",
              "      <td>0.0</td>\n",
              "      <td>0.0</td>\n",
              "      <td>0.0</td>\n",
              "      <td>0.0</td>\n",
              "      <td>0.0</td>\n",
              "    </tr>\n",
              "    <tr>\n",
              "      <th>48085</th>\n",
              "      <td>GeEveoOaU2YKD7jJtEfA_g</td>\n",
              "      <td>DeVons Jewelers</td>\n",
              "      <td>13981 S Virginia St, 402A</td>\n",
              "      <td>Reno</td>\n",
              "      <td>NV</td>\n",
              "      <td>89511</td>\n",
              "      <td>39.404552</td>\n",
              "      <td>-119.750986</td>\n",
              "      <td>5.0</td>\n",
              "      <td>{'Monday': '10:0-19:0', 'Tuesday': '10:0-19:0'...</td>\n",
              "      <td>...</td>\n",
              "      <td>0.0</td>\n",
              "      <td>0.0</td>\n",
              "      <td>0.0</td>\n",
              "      <td>0.0</td>\n",
              "      <td>0.0</td>\n",
              "      <td>0.0</td>\n",
              "      <td>0.0</td>\n",
              "      <td>0.0</td>\n",
              "      <td>0.0</td>\n",
              "      <td>0.0</td>\n",
              "    </tr>\n",
              "    <tr>\n",
              "      <th>48086</th>\n",
              "      <td>qQ7FHvkGEMqoPKKXPk4gjA</td>\n",
              "      <td>La Quinta by Wyndham NW Tucson Marana</td>\n",
              "      <td>6020 West Hospitality Rd</td>\n",
              "      <td>Tucson</td>\n",
              "      <td>AZ</td>\n",
              "      <td>85743</td>\n",
              "      <td>32.358587</td>\n",
              "      <td>-111.093308</td>\n",
              "      <td>2.5</td>\n",
              "      <td>{'Monday': '0:0-0:0', 'Tuesday': '0:0-0:0', 'W...</td>\n",
              "      <td>...</td>\n",
              "      <td>0.0</td>\n",
              "      <td>0.0</td>\n",
              "      <td>0.0</td>\n",
              "      <td>0.0</td>\n",
              "      <td>0.0</td>\n",
              "      <td>0.0</td>\n",
              "      <td>0.0</td>\n",
              "      <td>0.0</td>\n",
              "      <td>0.0</td>\n",
              "      <td>0.0</td>\n",
              "    </tr>\n",
              "    <tr>\n",
              "      <th>48087</th>\n",
              "      <td>LJ4GjQ1HL6kqvIPpNUNNaQ</td>\n",
              "      <td>Shanti Yoga and Ayurveda</td>\n",
              "      <td>1638 Pine St, Fl 1</td>\n",
              "      <td>Philadelphia</td>\n",
              "      <td>PA</td>\n",
              "      <td>19103</td>\n",
              "      <td>39.945966</td>\n",
              "      <td>-75.169666</td>\n",
              "      <td>4.5</td>\n",
              "      <td>{'Monday': '7:0-20:0', 'Tuesday': '7:0-20:0', ...</td>\n",
              "      <td>...</td>\n",
              "      <td>0.0</td>\n",
              "      <td>0.0</td>\n",
              "      <td>0.0</td>\n",
              "      <td>0.0</td>\n",
              "      <td>0.0</td>\n",
              "      <td>0.0</td>\n",
              "      <td>0.0</td>\n",
              "      <td>0.0</td>\n",
              "      <td>0.0</td>\n",
              "      <td>0.0</td>\n",
              "    </tr>\n",
              "    <tr>\n",
              "      <th>48088</th>\n",
              "      <td>WnT9NIzQgLlILjPT0kEcsQ</td>\n",
              "      <td>Adelita Taqueria &amp; Restaurant</td>\n",
              "      <td>1108 S 9th St</td>\n",
              "      <td>Philadelphia</td>\n",
              "      <td>PA</td>\n",
              "      <td>19147</td>\n",
              "      <td>39.935982</td>\n",
              "      <td>-75.158665</td>\n",
              "      <td>4.5</td>\n",
              "      <td>{'Monday': '11:0-22:0', 'Tuesday': '11:0-22:0'...</td>\n",
              "      <td>...</td>\n",
              "      <td>0.0</td>\n",
              "      <td>0.0</td>\n",
              "      <td>0.0</td>\n",
              "      <td>0.0</td>\n",
              "      <td>-1.0</td>\n",
              "      <td>1.0</td>\n",
              "      <td>0.0</td>\n",
              "      <td>0.0</td>\n",
              "      <td>0.0</td>\n",
              "      <td>1.0</td>\n",
              "    </tr>\n",
              "  </tbody>\n",
              "</table>\n",
              "<p>48089 rows × 97 columns</p>\n",
              "</div>\n",
              "      <button class=\"colab-df-convert\" onclick=\"convertToInteractive('df-9054b360-f6e7-4115-b72c-7d5563db5a07')\"\n",
              "              title=\"Convert this dataframe to an interactive table.\"\n",
              "              style=\"display:none;\">\n",
              "        \n",
              "  <svg xmlns=\"http://www.w3.org/2000/svg\" height=\"24px\"viewBox=\"0 0 24 24\"\n",
              "       width=\"24px\">\n",
              "    <path d=\"M0 0h24v24H0V0z\" fill=\"none\"/>\n",
              "    <path d=\"M18.56 5.44l.94 2.06.94-2.06 2.06-.94-2.06-.94-.94-2.06-.94 2.06-2.06.94zm-11 1L8.5 8.5l.94-2.06 2.06-.94-2.06-.94L8.5 2.5l-.94 2.06-2.06.94zm10 10l.94 2.06.94-2.06 2.06-.94-2.06-.94-.94-2.06-.94 2.06-2.06.94z\"/><path d=\"M17.41 7.96l-1.37-1.37c-.4-.4-.92-.59-1.43-.59-.52 0-1.04.2-1.43.59L10.3 9.45l-7.72 7.72c-.78.78-.78 2.05 0 2.83L4 21.41c.39.39.9.59 1.41.59.51 0 1.02-.2 1.41-.59l7.78-7.78 2.81-2.81c.8-.78.8-2.07 0-2.86zM5.41 20L4 18.59l7.72-7.72 1.47 1.35L5.41 20z\"/>\n",
              "  </svg>\n",
              "      </button>\n",
              "      \n",
              "  <style>\n",
              "    .colab-df-container {\n",
              "      display:flex;\n",
              "      flex-wrap:wrap;\n",
              "      gap: 12px;\n",
              "    }\n",
              "\n",
              "    .colab-df-convert {\n",
              "      background-color: #E8F0FE;\n",
              "      border: none;\n",
              "      border-radius: 50%;\n",
              "      cursor: pointer;\n",
              "      display: none;\n",
              "      fill: #1967D2;\n",
              "      height: 32px;\n",
              "      padding: 0 0 0 0;\n",
              "      width: 32px;\n",
              "    }\n",
              "\n",
              "    .colab-df-convert:hover {\n",
              "      background-color: #E2EBFA;\n",
              "      box-shadow: 0px 1px 2px rgba(60, 64, 67, 0.3), 0px 1px 3px 1px rgba(60, 64, 67, 0.15);\n",
              "      fill: #174EA6;\n",
              "    }\n",
              "\n",
              "    [theme=dark] .colab-df-convert {\n",
              "      background-color: #3B4455;\n",
              "      fill: #D2E3FC;\n",
              "    }\n",
              "\n",
              "    [theme=dark] .colab-df-convert:hover {\n",
              "      background-color: #434B5C;\n",
              "      box-shadow: 0px 1px 3px 1px rgba(0, 0, 0, 0.15);\n",
              "      filter: drop-shadow(0px 1px 2px rgba(0, 0, 0, 0.3));\n",
              "      fill: #FFFFFF;\n",
              "    }\n",
              "  </style>\n",
              "\n",
              "      <script>\n",
              "        const buttonEl =\n",
              "          document.querySelector('#df-9054b360-f6e7-4115-b72c-7d5563db5a07 button.colab-df-convert');\n",
              "        buttonEl.style.display =\n",
              "          google.colab.kernel.accessAllowed ? 'block' : 'none';\n",
              "\n",
              "        async function convertToInteractive(key) {\n",
              "          const element = document.querySelector('#df-9054b360-f6e7-4115-b72c-7d5563db5a07');\n",
              "          const dataTable =\n",
              "            await google.colab.kernel.invokeFunction('convertToInteractive',\n",
              "                                                     [key], {});\n",
              "          if (!dataTable) return;\n",
              "\n",
              "          const docLinkHtml = 'Like what you see? Visit the ' +\n",
              "            '<a target=\"_blank\" href=https://colab.research.google.com/notebooks/data_table.ipynb>data table notebook</a>'\n",
              "            + ' to learn more about interactive tables.';\n",
              "          element.innerHTML = '';\n",
              "          dataTable['output_type'] = 'display_data';\n",
              "          await google.colab.output.renderOutput(dataTable, element);\n",
              "          const docLink = document.createElement('div');\n",
              "          docLink.innerHTML = docLinkHtml;\n",
              "          element.appendChild(docLink);\n",
              "        }\n",
              "      </script>\n",
              "    </div>\n",
              "  </div>\n",
              "  "
            ]
          },
          "metadata": {},
          "execution_count": 87
        }
      ],
      "source": [
        "business_df"
      ]
    },
    {
      "cell_type": "code",
      "execution_count": null,
      "metadata": {
        "id": "3gA3v-gpCfql"
      },
      "outputs": [],
      "source": [
        "all_hours=[]\n",
        "for days in business_df['hours'].values:\n",
        "  # print(days)\n",
        "  all_hours+=days.values()\n",
        "all_hours=list(set(all_hours))  "
      ]
    },
    {
      "cell_type": "code",
      "execution_count": null,
      "metadata": {
        "id": "UnWe7YvUMshS"
      },
      "outputs": [],
      "source": [
        "days_dict={'Monday':0, 'Tuesday':1, 'Wednesday':2 , 'Thursday': 3 , 'Friday':4 , 'Saturday':5 , 'Sunday':6}"
      ]
    },
    {
      "cell_type": "code",
      "execution_count": null,
      "metadata": {
        "colab": {
          "base_uri": "https://localhost:8080/"
        },
        "id": "mLD3KfnSaF72",
        "outputId": "1c1c275a-5ef8-4efe-b463-69b6f796df73"
      },
      "outputs": [
        {
          "output_type": "stream",
          "name": "stdout",
          "text": [
            "['Monday-0', 'Monday-1', 'Monday-2', 'Monday-3', 'Monday-4', 'Monday-5', 'Monday-6', 'Monday-7', 'Monday-8', 'Monday-9', 'Monday-10', 'Monday-11', 'Monday-12', 'Monday-13', 'Monday-14', 'Monday-15', 'Monday-16', 'Monday-17', 'Monday-18', 'Monday-19', 'Monday-20', 'Monday-21', 'Monday-22', 'Monday-23', 'Tuesday-0', 'Tuesday-1', 'Tuesday-2', 'Tuesday-3', 'Tuesday-4', 'Tuesday-5', 'Tuesday-6', 'Tuesday-7', 'Tuesday-8', 'Tuesday-9', 'Tuesday-10', 'Tuesday-11', 'Tuesday-12', 'Tuesday-13', 'Tuesday-14', 'Tuesday-15', 'Tuesday-16', 'Tuesday-17', 'Tuesday-18', 'Tuesday-19', 'Tuesday-20', 'Tuesday-21', 'Tuesday-22', 'Tuesday-23', 'Wednesday-0', 'Wednesday-1', 'Wednesday-2', 'Wednesday-3', 'Wednesday-4', 'Wednesday-5', 'Wednesday-6', 'Wednesday-7', 'Wednesday-8', 'Wednesday-9', 'Wednesday-10', 'Wednesday-11', 'Wednesday-12', 'Wednesday-13', 'Wednesday-14', 'Wednesday-15', 'Wednesday-16', 'Wednesday-17', 'Wednesday-18', 'Wednesday-19', 'Wednesday-20', 'Wednesday-21', 'Wednesday-22', 'Wednesday-23', 'Thursday-0', 'Thursday-1', 'Thursday-2', 'Thursday-3', 'Thursday-4', 'Thursday-5', 'Thursday-6', 'Thursday-7', 'Thursday-8', 'Thursday-9', 'Thursday-10', 'Thursday-11', 'Thursday-12', 'Thursday-13', 'Thursday-14', 'Thursday-15', 'Thursday-16', 'Thursday-17', 'Thursday-18', 'Thursday-19', 'Thursday-20', 'Thursday-21', 'Thursday-22', 'Thursday-23', 'Friday-0', 'Friday-1', 'Friday-2', 'Friday-3', 'Friday-4', 'Friday-5', 'Friday-6', 'Friday-7', 'Friday-8', 'Friday-9', 'Friday-10', 'Friday-11', 'Friday-12', 'Friday-13', 'Friday-14', 'Friday-15', 'Friday-16', 'Friday-17', 'Friday-18', 'Friday-19', 'Friday-20', 'Friday-21', 'Friday-22', 'Friday-23', 'Saturday-0', 'Saturday-1', 'Saturday-2', 'Saturday-3', 'Saturday-4', 'Saturday-5', 'Saturday-6', 'Saturday-7', 'Saturday-8', 'Saturday-9', 'Saturday-10', 'Saturday-11', 'Saturday-12', 'Saturday-13', 'Saturday-14', 'Saturday-15', 'Saturday-16', 'Saturday-17', 'Saturday-18', 'Saturday-19', 'Saturday-20', 'Saturday-21', 'Saturday-22', 'Saturday-23', 'Sunday-0', 'Sunday-1', 'Sunday-2', 'Sunday-3', 'Sunday-4', 'Sunday-5', 'Sunday-6', 'Sunday-7', 'Sunday-8', 'Sunday-9', 'Sunday-10', 'Sunday-11', 'Sunday-12', 'Sunday-13', 'Sunday-14', 'Sunday-15', 'Sunday-16', 'Sunday-17', 'Sunday-18', 'Sunday-19', 'Sunday-20', 'Sunday-21', 'Sunday-22', 'Sunday-23']\n"
          ]
        }
      ],
      "source": [
        "all_days_hours=[]\n",
        "for day in days_dict.keys():\n",
        "  for i in range(24):\n",
        "    all_days_hours.append(day+'-'+str(i))\n",
        "print(all_days_hours)"
      ]
    },
    {
      "cell_type": "code",
      "execution_count": null,
      "metadata": {
        "colab": {
          "base_uri": "https://localhost:8080/"
        },
        "id": "Gw8hqoOZaYEe",
        "outputId": "02c4d2d7-772e-4108-cae4-cc54ca2ab07a"
      },
      "outputs": [
        {
          "output_type": "stream",
          "name": "stdout",
          "text": [
            "168\n"
          ]
        }
      ],
      "source": [
        "print(len(all_days_hours))"
      ]
    },
    {
      "cell_type": "code",
      "execution_count": null,
      "metadata": {
        "id": "qsQM2m-8DJZX"
      },
      "outputs": [],
      "source": [
        "all_twf_hours=[]\n",
        "for days in business_df['hours'].values:\n",
        "  twf_day_hours= [np.zeros(24)] * 7\n",
        "  for day in days.keys():\n",
        "    twf_hours=np.zeros(24)\n",
        "    hour=days[day]\n",
        "    first,second=hour.split('-')[:]\n",
        "    first=int(first.split(':')[0])\n",
        "    second_hour=int(second.split(':')[0])\n",
        "    minute= int(second.split(':')[1])\n",
        "    if minute>=30:\n",
        "      second_hour+=1\n",
        "    if first<second_hour:\n",
        "      for i in range(first,second_hour):\n",
        "        twf_hours[i]=1\n",
        "    else:\n",
        "      for i in range(first,24):\n",
        "        twf_hours[i]=1\n",
        "      for i in range(0,second_hour):\n",
        "        twf_hours[i]=1\n",
        "    twf_day_hours[days_dict[day]]=twf_hours\n",
        "  all_twf_hours.append(np.array(twf_day_hours).flatten())"
      ]
    },
    {
      "cell_type": "code",
      "execution_count": null,
      "metadata": {
        "id": "AI4XCxwZYF6W"
      },
      "outputs": [],
      "source": [
        "hours_array=np.array(all_twf_hours)"
      ]
    },
    {
      "cell_type": "code",
      "execution_count": null,
      "metadata": {
        "id": "T6Fry1BHZbky"
      },
      "outputs": [],
      "source": [
        "business_df=pd.concat([business_df, pd.DataFrame(hours_array,columns=all_days_hours)], axis=1)"
      ]
    },
    {
      "cell_type": "code",
      "execution_count": null,
      "metadata": {
        "id": "ia2MB0JhagZK"
      },
      "outputs": [],
      "source": [
        "business_df.drop(['hours'],axis=1,inplace=True)"
      ]
    },
    {
      "cell_type": "code",
      "execution_count": null,
      "metadata": {
        "id": "jTwefl3zapuG"
      },
      "outputs": [],
      "source": [
        "scaled_features = business_df.copy()\n",
        "\n",
        "col_names = [col for col in business_df if col != 'business_id']\n",
        "features = scaled_features[col_names]\n",
        "\n",
        "# Use scaler of choice; here Standard scaler is used\n",
        "scaler = preprocessing.StandardScaler().fit(features.values)\n",
        "features = scaler.transform(features.values)\n",
        "\n",
        "scaled_features[col_names] = features"
      ]
    },
    {
      "cell_type": "code",
      "execution_count": null,
      "metadata": {
        "id": "E-62G4iQtP5S"
      },
      "outputs": [],
      "source": [
        "scaled_features.drop(['stars'],axis=1,inplace=True)"
      ]
    },
    {
      "cell_type": "code",
      "execution_count": null,
      "metadata": {
        "colab": {
          "base_uri": "https://localhost:8080/",
          "height": 487
        },
        "id": "DIYPzH6vj7R5",
        "outputId": "09405d08-cacc-42d9-cdd2-2fbc90a030eb"
      },
      "outputs": [
        {
          "output_type": "execute_result",
          "data": {
            "text/plain": [
              "                  business_id  latitude  longitude     brnch    garage  \\\n",
              "0      mpf3x-BjTdTEA3yCZrAYPw  0.373923  -0.065817  0.451367  1.208710   \n",
              "1      MTSW4McQd7CbVtyjqoe9mw  0.620503   0.963523  0.451367 -0.592463   \n",
              "2      n_0UpQx1hsNbnPUSlodU8w  0.387366  -0.066141  0.451367 -0.592463   \n",
              "3      il_Ro8jwPlHresjw9EGmBg  0.564603   0.219553 -1.501471  1.208710   \n",
              "4      MUTTqe8uqyMdBl186RmNeA  0.620229   0.964360  0.451367  1.208710   \n",
              "...                       ...       ...        ...       ...       ...   \n",
              "48084  9U1Igcpe954LoWZRmNc-zg  0.616508   0.964273  0.451367 -0.592463   \n",
              "48085  GeEveoOaU2YKD7jJtEfA_g  0.523766  -2.060422  0.451367 -0.592463   \n",
              "48086  qQ7FHvkGEMqoPKKXPk4gjA -0.713360  -1.473358  0.451367  1.208710   \n",
              "48087  LJ4GjQ1HL6kqvIPpNUNNaQ  0.618828   0.962567  0.451367 -0.592463   \n",
              "48088  WnT9NIzQgLlILjPT0kEcsQ  0.617075   0.963313  0.451367  1.208710   \n",
              "\n",
              "       BusinessAcceptsCreditCards   satrday  BestNights    friday   thrsday  \\\n",
              "0                        0.321935 -0.032878         0.0 -0.037653  0.123487   \n",
              "1                       -4.487488 -0.032878         0.0 -0.037653  0.123487   \n",
              "2                        0.321935 -0.032878         0.0 -0.037653  0.123487   \n",
              "3                        0.321935 -0.032878         0.0 -0.037653  0.123487   \n",
              "4                        0.321935 -0.032878         0.0 -0.037653  0.123487   \n",
              "...                           ...       ...         ...       ...       ...   \n",
              "48084                    0.321935 -0.032878         0.0 -0.037653  0.123487   \n",
              "48085                    0.321935 -0.032878         0.0 -0.037653  0.123487   \n",
              "48086                    0.321935 -0.032878         0.0 -0.037653  0.123487   \n",
              "48087                    0.321935 -0.032878         0.0 -0.037653  0.123487   \n",
              "48088                    0.321935 -0.032878         0.0 -0.037653  0.123487   \n",
              "\n",
              "       ...  Sunday-14  Sunday-15  Sunday-16  Sunday-17  Sunday-18  Sunday-19  \\\n",
              "0      ...  -1.503935  -1.441422  -1.405371  -1.244470  -1.080030  -0.995539   \n",
              "1      ...   0.664923   0.693760   0.711556   0.803555   0.925901   1.004481   \n",
              "2      ...   0.664923   0.693760   0.711556   0.803555  -1.080030  -0.995539   \n",
              "3      ...   0.664923   0.693760   0.711556   0.803555   0.925901   1.004481   \n",
              "4      ...   0.664923   0.693760   0.711556   0.803555   0.925901   1.004481   \n",
              "...    ...        ...        ...        ...        ...        ...        ...   \n",
              "48084  ...   0.664923   0.693760   0.711556   0.803555   0.925901   1.004481   \n",
              "48085  ...   0.664923   0.693760   0.711556   0.803555  -1.080030  -0.995539   \n",
              "48086  ...   0.664923   0.693760   0.711556   0.803555   0.925901   1.004481   \n",
              "48087  ...   0.664923   0.693760   0.711556   0.803555   0.925901   1.004481   \n",
              "48088  ...   0.664923   0.693760   0.711556   0.803555   0.925901   1.004481   \n",
              "\n",
              "       Sunday-20  Sunday-21  Sunday-22  Sunday-23  \n",
              "0      -0.861344  -0.650096  -0.455663  -0.387281  \n",
              "1       1.160976  -0.650096  -0.455663  -0.387281  \n",
              "2      -0.861344  -0.650096  -0.455663  -0.387281  \n",
              "3       1.160976   1.538234  -0.455663  -0.387281  \n",
              "4       1.160976   1.538234  -0.455663  -0.387281  \n",
              "...          ...        ...        ...        ...  \n",
              "48084  -0.861344  -0.650096  -0.455663  -0.387281  \n",
              "48085  -0.861344  -0.650096  -0.455663  -0.387281  \n",
              "48086   1.160976   1.538234   2.194602   2.582102  \n",
              "48087  -0.861344  -0.650096  -0.455663  -0.387281  \n",
              "48088   1.160976   1.538234  -0.455663  -0.387281  \n",
              "\n",
              "[48089 rows x 258 columns]"
            ],
            "text/html": [
              "\n",
              "  <div id=\"df-0b2ee7c1-c9d0-4246-9716-68765124bfbe\">\n",
              "    <div class=\"colab-df-container\">\n",
              "      <div>\n",
              "<style scoped>\n",
              "    .dataframe tbody tr th:only-of-type {\n",
              "        vertical-align: middle;\n",
              "    }\n",
              "\n",
              "    .dataframe tbody tr th {\n",
              "        vertical-align: top;\n",
              "    }\n",
              "\n",
              "    .dataframe thead th {\n",
              "        text-align: right;\n",
              "    }\n",
              "</style>\n",
              "<table border=\"1\" class=\"dataframe\">\n",
              "  <thead>\n",
              "    <tr style=\"text-align: right;\">\n",
              "      <th></th>\n",
              "      <th>business_id</th>\n",
              "      <th>latitude</th>\n",
              "      <th>longitude</th>\n",
              "      <th>brnch</th>\n",
              "      <th>garage</th>\n",
              "      <th>BusinessAcceptsCreditCards</th>\n",
              "      <th>satrday</th>\n",
              "      <th>BestNights</th>\n",
              "      <th>friday</th>\n",
              "      <th>thrsday</th>\n",
              "      <th>...</th>\n",
              "      <th>Sunday-14</th>\n",
              "      <th>Sunday-15</th>\n",
              "      <th>Sunday-16</th>\n",
              "      <th>Sunday-17</th>\n",
              "      <th>Sunday-18</th>\n",
              "      <th>Sunday-19</th>\n",
              "      <th>Sunday-20</th>\n",
              "      <th>Sunday-21</th>\n",
              "      <th>Sunday-22</th>\n",
              "      <th>Sunday-23</th>\n",
              "    </tr>\n",
              "  </thead>\n",
              "  <tbody>\n",
              "    <tr>\n",
              "      <th>0</th>\n",
              "      <td>mpf3x-BjTdTEA3yCZrAYPw</td>\n",
              "      <td>0.373923</td>\n",
              "      <td>-0.065817</td>\n",
              "      <td>0.451367</td>\n",
              "      <td>1.208710</td>\n",
              "      <td>0.321935</td>\n",
              "      <td>-0.032878</td>\n",
              "      <td>0.0</td>\n",
              "      <td>-0.037653</td>\n",
              "      <td>0.123487</td>\n",
              "      <td>...</td>\n",
              "      <td>-1.503935</td>\n",
              "      <td>-1.441422</td>\n",
              "      <td>-1.405371</td>\n",
              "      <td>-1.244470</td>\n",
              "      <td>-1.080030</td>\n",
              "      <td>-0.995539</td>\n",
              "      <td>-0.861344</td>\n",
              "      <td>-0.650096</td>\n",
              "      <td>-0.455663</td>\n",
              "      <td>-0.387281</td>\n",
              "    </tr>\n",
              "    <tr>\n",
              "      <th>1</th>\n",
              "      <td>MTSW4McQd7CbVtyjqoe9mw</td>\n",
              "      <td>0.620503</td>\n",
              "      <td>0.963523</td>\n",
              "      <td>0.451367</td>\n",
              "      <td>-0.592463</td>\n",
              "      <td>-4.487488</td>\n",
              "      <td>-0.032878</td>\n",
              "      <td>0.0</td>\n",
              "      <td>-0.037653</td>\n",
              "      <td>0.123487</td>\n",
              "      <td>...</td>\n",
              "      <td>0.664923</td>\n",
              "      <td>0.693760</td>\n",
              "      <td>0.711556</td>\n",
              "      <td>0.803555</td>\n",
              "      <td>0.925901</td>\n",
              "      <td>1.004481</td>\n",
              "      <td>1.160976</td>\n",
              "      <td>-0.650096</td>\n",
              "      <td>-0.455663</td>\n",
              "      <td>-0.387281</td>\n",
              "    </tr>\n",
              "    <tr>\n",
              "      <th>2</th>\n",
              "      <td>n_0UpQx1hsNbnPUSlodU8w</td>\n",
              "      <td>0.387366</td>\n",
              "      <td>-0.066141</td>\n",
              "      <td>0.451367</td>\n",
              "      <td>-0.592463</td>\n",
              "      <td>0.321935</td>\n",
              "      <td>-0.032878</td>\n",
              "      <td>0.0</td>\n",
              "      <td>-0.037653</td>\n",
              "      <td>0.123487</td>\n",
              "      <td>...</td>\n",
              "      <td>0.664923</td>\n",
              "      <td>0.693760</td>\n",
              "      <td>0.711556</td>\n",
              "      <td>0.803555</td>\n",
              "      <td>-1.080030</td>\n",
              "      <td>-0.995539</td>\n",
              "      <td>-0.861344</td>\n",
              "      <td>-0.650096</td>\n",
              "      <td>-0.455663</td>\n",
              "      <td>-0.387281</td>\n",
              "    </tr>\n",
              "    <tr>\n",
              "      <th>3</th>\n",
              "      <td>il_Ro8jwPlHresjw9EGmBg</td>\n",
              "      <td>0.564603</td>\n",
              "      <td>0.219553</td>\n",
              "      <td>-1.501471</td>\n",
              "      <td>1.208710</td>\n",
              "      <td>0.321935</td>\n",
              "      <td>-0.032878</td>\n",
              "      <td>0.0</td>\n",
              "      <td>-0.037653</td>\n",
              "      <td>0.123487</td>\n",
              "      <td>...</td>\n",
              "      <td>0.664923</td>\n",
              "      <td>0.693760</td>\n",
              "      <td>0.711556</td>\n",
              "      <td>0.803555</td>\n",
              "      <td>0.925901</td>\n",
              "      <td>1.004481</td>\n",
              "      <td>1.160976</td>\n",
              "      <td>1.538234</td>\n",
              "      <td>-0.455663</td>\n",
              "      <td>-0.387281</td>\n",
              "    </tr>\n",
              "    <tr>\n",
              "      <th>4</th>\n",
              "      <td>MUTTqe8uqyMdBl186RmNeA</td>\n",
              "      <td>0.620229</td>\n",
              "      <td>0.964360</td>\n",
              "      <td>0.451367</td>\n",
              "      <td>1.208710</td>\n",
              "      <td>0.321935</td>\n",
              "      <td>-0.032878</td>\n",
              "      <td>0.0</td>\n",
              "      <td>-0.037653</td>\n",
              "      <td>0.123487</td>\n",
              "      <td>...</td>\n",
              "      <td>0.664923</td>\n",
              "      <td>0.693760</td>\n",
              "      <td>0.711556</td>\n",
              "      <td>0.803555</td>\n",
              "      <td>0.925901</td>\n",
              "      <td>1.004481</td>\n",
              "      <td>1.160976</td>\n",
              "      <td>1.538234</td>\n",
              "      <td>-0.455663</td>\n",
              "      <td>-0.387281</td>\n",
              "    </tr>\n",
              "    <tr>\n",
              "      <th>...</th>\n",
              "      <td>...</td>\n",
              "      <td>...</td>\n",
              "      <td>...</td>\n",
              "      <td>...</td>\n",
              "      <td>...</td>\n",
              "      <td>...</td>\n",
              "      <td>...</td>\n",
              "      <td>...</td>\n",
              "      <td>...</td>\n",
              "      <td>...</td>\n",
              "      <td>...</td>\n",
              "      <td>...</td>\n",
              "      <td>...</td>\n",
              "      <td>...</td>\n",
              "      <td>...</td>\n",
              "      <td>...</td>\n",
              "      <td>...</td>\n",
              "      <td>...</td>\n",
              "      <td>...</td>\n",
              "      <td>...</td>\n",
              "      <td>...</td>\n",
              "    </tr>\n",
              "    <tr>\n",
              "      <th>48084</th>\n",
              "      <td>9U1Igcpe954LoWZRmNc-zg</td>\n",
              "      <td>0.616508</td>\n",
              "      <td>0.964273</td>\n",
              "      <td>0.451367</td>\n",
              "      <td>-0.592463</td>\n",
              "      <td>0.321935</td>\n",
              "      <td>-0.032878</td>\n",
              "      <td>0.0</td>\n",
              "      <td>-0.037653</td>\n",
              "      <td>0.123487</td>\n",
              "      <td>...</td>\n",
              "      <td>0.664923</td>\n",
              "      <td>0.693760</td>\n",
              "      <td>0.711556</td>\n",
              "      <td>0.803555</td>\n",
              "      <td>0.925901</td>\n",
              "      <td>1.004481</td>\n",
              "      <td>-0.861344</td>\n",
              "      <td>-0.650096</td>\n",
              "      <td>-0.455663</td>\n",
              "      <td>-0.387281</td>\n",
              "    </tr>\n",
              "    <tr>\n",
              "      <th>48085</th>\n",
              "      <td>GeEveoOaU2YKD7jJtEfA_g</td>\n",
              "      <td>0.523766</td>\n",
              "      <td>-2.060422</td>\n",
              "      <td>0.451367</td>\n",
              "      <td>-0.592463</td>\n",
              "      <td>0.321935</td>\n",
              "      <td>-0.032878</td>\n",
              "      <td>0.0</td>\n",
              "      <td>-0.037653</td>\n",
              "      <td>0.123487</td>\n",
              "      <td>...</td>\n",
              "      <td>0.664923</td>\n",
              "      <td>0.693760</td>\n",
              "      <td>0.711556</td>\n",
              "      <td>0.803555</td>\n",
              "      <td>-1.080030</td>\n",
              "      <td>-0.995539</td>\n",
              "      <td>-0.861344</td>\n",
              "      <td>-0.650096</td>\n",
              "      <td>-0.455663</td>\n",
              "      <td>-0.387281</td>\n",
              "    </tr>\n",
              "    <tr>\n",
              "      <th>48086</th>\n",
              "      <td>qQ7FHvkGEMqoPKKXPk4gjA</td>\n",
              "      <td>-0.713360</td>\n",
              "      <td>-1.473358</td>\n",
              "      <td>0.451367</td>\n",
              "      <td>1.208710</td>\n",
              "      <td>0.321935</td>\n",
              "      <td>-0.032878</td>\n",
              "      <td>0.0</td>\n",
              "      <td>-0.037653</td>\n",
              "      <td>0.123487</td>\n",
              "      <td>...</td>\n",
              "      <td>0.664923</td>\n",
              "      <td>0.693760</td>\n",
              "      <td>0.711556</td>\n",
              "      <td>0.803555</td>\n",
              "      <td>0.925901</td>\n",
              "      <td>1.004481</td>\n",
              "      <td>1.160976</td>\n",
              "      <td>1.538234</td>\n",
              "      <td>2.194602</td>\n",
              "      <td>2.582102</td>\n",
              "    </tr>\n",
              "    <tr>\n",
              "      <th>48087</th>\n",
              "      <td>LJ4GjQ1HL6kqvIPpNUNNaQ</td>\n",
              "      <td>0.618828</td>\n",
              "      <td>0.962567</td>\n",
              "      <td>0.451367</td>\n",
              "      <td>-0.592463</td>\n",
              "      <td>0.321935</td>\n",
              "      <td>-0.032878</td>\n",
              "      <td>0.0</td>\n",
              "      <td>-0.037653</td>\n",
              "      <td>0.123487</td>\n",
              "      <td>...</td>\n",
              "      <td>0.664923</td>\n",
              "      <td>0.693760</td>\n",
              "      <td>0.711556</td>\n",
              "      <td>0.803555</td>\n",
              "      <td>0.925901</td>\n",
              "      <td>1.004481</td>\n",
              "      <td>-0.861344</td>\n",
              "      <td>-0.650096</td>\n",
              "      <td>-0.455663</td>\n",
              "      <td>-0.387281</td>\n",
              "    </tr>\n",
              "    <tr>\n",
              "      <th>48088</th>\n",
              "      <td>WnT9NIzQgLlILjPT0kEcsQ</td>\n",
              "      <td>0.617075</td>\n",
              "      <td>0.963313</td>\n",
              "      <td>0.451367</td>\n",
              "      <td>1.208710</td>\n",
              "      <td>0.321935</td>\n",
              "      <td>-0.032878</td>\n",
              "      <td>0.0</td>\n",
              "      <td>-0.037653</td>\n",
              "      <td>0.123487</td>\n",
              "      <td>...</td>\n",
              "      <td>0.664923</td>\n",
              "      <td>0.693760</td>\n",
              "      <td>0.711556</td>\n",
              "      <td>0.803555</td>\n",
              "      <td>0.925901</td>\n",
              "      <td>1.004481</td>\n",
              "      <td>1.160976</td>\n",
              "      <td>1.538234</td>\n",
              "      <td>-0.455663</td>\n",
              "      <td>-0.387281</td>\n",
              "    </tr>\n",
              "  </tbody>\n",
              "</table>\n",
              "<p>48089 rows × 258 columns</p>\n",
              "</div>\n",
              "      <button class=\"colab-df-convert\" onclick=\"convertToInteractive('df-0b2ee7c1-c9d0-4246-9716-68765124bfbe')\"\n",
              "              title=\"Convert this dataframe to an interactive table.\"\n",
              "              style=\"display:none;\">\n",
              "        \n",
              "  <svg xmlns=\"http://www.w3.org/2000/svg\" height=\"24px\"viewBox=\"0 0 24 24\"\n",
              "       width=\"24px\">\n",
              "    <path d=\"M0 0h24v24H0V0z\" fill=\"none\"/>\n",
              "    <path d=\"M18.56 5.44l.94 2.06.94-2.06 2.06-.94-2.06-.94-.94-2.06-.94 2.06-2.06.94zm-11 1L8.5 8.5l.94-2.06 2.06-.94-2.06-.94L8.5 2.5l-.94 2.06-2.06.94zm10 10l.94 2.06.94-2.06 2.06-.94-2.06-.94-.94-2.06-.94 2.06-2.06.94z\"/><path d=\"M17.41 7.96l-1.37-1.37c-.4-.4-.92-.59-1.43-.59-.52 0-1.04.2-1.43.59L10.3 9.45l-7.72 7.72c-.78.78-.78 2.05 0 2.83L4 21.41c.39.39.9.59 1.41.59.51 0 1.02-.2 1.41-.59l7.78-7.78 2.81-2.81c.8-.78.8-2.07 0-2.86zM5.41 20L4 18.59l7.72-7.72 1.47 1.35L5.41 20z\"/>\n",
              "  </svg>\n",
              "      </button>\n",
              "      \n",
              "  <style>\n",
              "    .colab-df-container {\n",
              "      display:flex;\n",
              "      flex-wrap:wrap;\n",
              "      gap: 12px;\n",
              "    }\n",
              "\n",
              "    .colab-df-convert {\n",
              "      background-color: #E8F0FE;\n",
              "      border: none;\n",
              "      border-radius: 50%;\n",
              "      cursor: pointer;\n",
              "      display: none;\n",
              "      fill: #1967D2;\n",
              "      height: 32px;\n",
              "      padding: 0 0 0 0;\n",
              "      width: 32px;\n",
              "    }\n",
              "\n",
              "    .colab-df-convert:hover {\n",
              "      background-color: #E2EBFA;\n",
              "      box-shadow: 0px 1px 2px rgba(60, 64, 67, 0.3), 0px 1px 3px 1px rgba(60, 64, 67, 0.15);\n",
              "      fill: #174EA6;\n",
              "    }\n",
              "\n",
              "    [theme=dark] .colab-df-convert {\n",
              "      background-color: #3B4455;\n",
              "      fill: #D2E3FC;\n",
              "    }\n",
              "\n",
              "    [theme=dark] .colab-df-convert:hover {\n",
              "      background-color: #434B5C;\n",
              "      box-shadow: 0px 1px 3px 1px rgba(0, 0, 0, 0.15);\n",
              "      filter: drop-shadow(0px 1px 2px rgba(0, 0, 0, 0.3));\n",
              "      fill: #FFFFFF;\n",
              "    }\n",
              "  </style>\n",
              "\n",
              "      <script>\n",
              "        const buttonEl =\n",
              "          document.querySelector('#df-0b2ee7c1-c9d0-4246-9716-68765124bfbe button.colab-df-convert');\n",
              "        buttonEl.style.display =\n",
              "          google.colab.kernel.accessAllowed ? 'block' : 'none';\n",
              "\n",
              "        async function convertToInteractive(key) {\n",
              "          const element = document.querySelector('#df-0b2ee7c1-c9d0-4246-9716-68765124bfbe');\n",
              "          const dataTable =\n",
              "            await google.colab.kernel.invokeFunction('convertToInteractive',\n",
              "                                                     [key], {});\n",
              "          if (!dataTable) return;\n",
              "\n",
              "          const docLinkHtml = 'Like what you see? Visit the ' +\n",
              "            '<a target=\"_blank\" href=https://colab.research.google.com/notebooks/data_table.ipynb>data table notebook</a>'\n",
              "            + ' to learn more about interactive tables.';\n",
              "          element.innerHTML = '';\n",
              "          dataTable['output_type'] = 'display_data';\n",
              "          await google.colab.output.renderOutput(dataTable, element);\n",
              "          const docLink = document.createElement('div');\n",
              "          docLink.innerHTML = docLinkHtml;\n",
              "          element.appendChild(docLink);\n",
              "        }\n",
              "      </script>\n",
              "    </div>\n",
              "  </div>\n",
              "  "
            ]
          },
          "metadata": {},
          "execution_count": 47
        }
      ],
      "source": [
        "scaled_features"
      ]
    },
    {
      "cell_type": "code",
      "execution_count": null,
      "metadata": {
        "id": "3sQGPhkc8Xpc"
      },
      "outputs": [],
      "source": [
        "scaled_features.to_csv(save_path+'normalized_business_dataset.csv')"
      ]
    },
    {
      "cell_type": "code",
      "execution_count": null,
      "metadata": {
        "id": "K4LAAtIzmmUD"
      },
      "outputs": [],
      "source": [
        "scaled_features=pd.read_csv(save_path+'normalized_business_dataset.csv')"
      ]
    },
    {
      "cell_type": "code",
      "execution_count": null,
      "metadata": {
        "id": "dHfZn0okAOl5"
      },
      "outputs": [],
      "source": [
        "# import json\n",
        "# import pandas as pd\n",
        "# data_file = open(save_path+\"Kaggle/yelp_academic_dataset_checkin.json\")\n",
        "# data = []\n",
        "# for line in data_file:\n",
        "#   data.append(json.loads(line))\n",
        "# check_df = pd.DataFrame(data)\n",
        "# data_file.close()"
      ]
    },
    {
      "cell_type": "code",
      "execution_count": null,
      "metadata": {
        "id": "un15VsvpBOhj"
      },
      "outputs": [],
      "source": [
        "# check_df"
      ]
    },
    {
      "cell_type": "code",
      "execution_count": null,
      "metadata": {
        "id": "P2G4lDfNW1UW"
      },
      "outputs": [],
      "source": [
        "import pandas as pd\n",
        "import numpy as np\n",
        "import torch\n",
        "import json\n",
        "import matplotlib.pyplot as plt\n",
        "import os\n",
        "import tqdm\n",
        "import pickle\n",
        "from pathlib import Path\n",
        "from torch.utils.data import DataLoader\n",
        "from sklearn.metrics import ndcg_score\n",
        "import torch.nn.functional as F\n",
        "np.random.seed(0)"
      ]
    },
    {
      "cell_type": "code",
      "execution_count": null,
      "metadata": {
        "id": "O1H_dqLyW1UY"
      },
      "outputs": [],
      "source": [
        "from nltk.corpus import stopwords\n",
        "from nltk import word_tokenize\n",
        "from nltk import FreqDist\n",
        "import re\n",
        "from nltk.tokenize import RegexpTokenizer\n",
        "import nltk\n",
        "from nltk.stem import WordNetLemmatizer\n",
        "from nltk import word_tokenize,pos_tag\n",
        "import pandas as pd"
      ]
    },
    {
      "cell_type": "code",
      "execution_count": null,
      "metadata": {
        "id": "MRItXJfIcQuz"
      },
      "outputs": [],
      "source": [
        "# sentires_dir='/content/drive/MyDrive/Recommender/cell_phone/Cell_Phones_and_Accessories'\n",
        "test_length=5\n",
        "sample_ratio=5\n",
        "val_length=5\n",
        "neg_length=100\n",
        "dataset='yelp'\n",
        "save_path='/content/drive/Shareddrives/Unlimited Drive | @LicenseMarket/Recommender/Yelp/'"
      ]
    },
    {
      "cell_type": "code",
      "execution_count": null,
      "metadata": {
        "id": "DbJOR8L1Msak"
      },
      "outputs": [],
      "source": [
        "all_pairs=tip_df['bus_user_id'].values"
      ]
    },
    {
      "cell_type": "code",
      "execution_count": null,
      "metadata": {
        "colab": {
          "base_uri": "https://localhost:8080/"
        },
        "id": "hq8mm002N5La",
        "outputId": "d5f1ef60-61f0-489b-ba33-103a0a7349c7"
      },
      "outputs": [
        {
          "output_type": "execute_result",
          "data": {
            "text/plain": [
              "array([('QoezRbYQncpRqyrLH6Iqjg', 'NBN4MgHP9D3cw--SnauTkA'),\n",
              "       ('hV-bABTK-glh5wj31ps_Jw', 'FjMQVZjSqY8syIO-53KFKw'),\n",
              "       ('_uN0OudeJ3Zl_tf6nxg5ww', 'ld0AperBXk1h6UbqmM80zw'), ...,\n",
              "       ('hYnMeAO77RGyTtIzUSKYzQ', 'v48Spe6WEpqehsF2xQADpg'),\n",
              "       ('s2eyoTuJrcP7I_XyjdhUHQ', 'ckqKGM2hl7I9Chp5IpAhkw'),\n",
              "       ('_cb1Vg1NIWry8UA0jyuXnQ', '4tF1CWdMxvvwpUIgGsDygA')], dtype=object)"
            ]
          },
          "metadata": {},
          "execution_count": 53
        }
      ],
      "source": [
        "all_pairs"
      ]
    },
    {
      "cell_type": "code",
      "execution_count": null,
      "metadata": {
        "id": "mwGTbhQJRUG1"
      },
      "outputs": [],
      "source": [
        "def get_user_item_dict(all_pairs):\n",
        "  user_dict = {}\n",
        "  item_dict = {}\n",
        "  # user_item_pairs=[]\n",
        "  j=0\n",
        "  print(len(all_pairs))\n",
        "  for user_item in all_pairs:\n",
        "    item= user_item[0]\n",
        "    user= user_item[1]\n",
        "    # if j%1000==0:\n",
        "    #   print(j)\n",
        "    # j+=1\n",
        "    # user=row['user_id']\n",
        "    # item=row['business_id']\n",
        "    # if item in items_list:\n",
        "    # if (user,item) not in user_item_pairs:\n",
        "    # user_item_pairs.append((user,item))\n",
        "    if user not in user_dict:\n",
        "        user_dict[user] = [item]\n",
        "    else:\n",
        "        user_dict[user].append(item)\n",
        "    if item not in item_dict:\n",
        "        item_dict[item] = [user]\n",
        "    else:\n",
        "        item_dict[item].append(user)\n",
        "    # user_item_pairs=list(set(user_item_pairs))\n",
        "  return user_dict,item_dict"
      ]
    },
    {
      "cell_type": "code",
      "execution_count": null,
      "metadata": {
        "id": "H6v8XMseBgND"
      },
      "outputs": [],
      "source": [
        "import os"
      ]
    },
    {
      "cell_type": "code",
      "execution_count": null,
      "metadata": {
        "id": "uWcrf2wIcoAC"
      },
      "outputs": [],
      "source": [
        "def get_initialized_teta2(features,len_words,words_indices,val):\n",
        "  init_teta=torch.zeros(len(features), len_words)\n",
        "  indices = torch.arange(init_teta.size(0)).long()\n",
        "  init_teta[indices, torch.LongTensor(words_indices)] =val\n",
        "  init_teta = init_teta.to(device)\n",
        "  init_teta.requires_grad = True\n",
        "  return init_teta"
      ]
    },
    {
      "cell_type": "code",
      "execution_count": null,
      "metadata": {
        "id": "A4BDXqXzMbji"
      },
      "outputs": [],
      "source": [
        "def get_initialized_teta(values,matrix,num):\n",
        "  # print(matrix.shape)\n",
        "  init_teta=torch.zeros(matrix.shape[1],matrix.shape[0])\n",
        "  indices = torch.arange(init_teta.size(0)).long()\n",
        "  values1=np.array(values)\n",
        "  values_indices=[np.where((matrix.cpu().numpy()[:,i]==values[i]))[0][0] for i in range(len(values))]\n",
        "  init_teta[indices, torch.LongTensor(values_indices)] =num\n",
        "  init_teta = init_teta.to(device)\n",
        "  init_teta.requires_grad = True\n",
        "  return init_teta"
      ]
    },
    {
      "cell_type": "code",
      "execution_count": null,
      "metadata": {
        "id": "KUMPwCxkYuw7"
      },
      "outputs": [],
      "source": [
        "def get_features_matrix():\n",
        "  attributes_matrix=torch.zeros((3,len(all_attributes)),device=device)\n",
        "  for i in range(3,len(all_attributes)+3):\n",
        "    values=list(set(scaled_features.iloc[:,i].values))\n",
        "    for j in range(len(values)):\n",
        "      attributes_matrix[j][i-3]=values[j]\n",
        "   ########################################   \n",
        "  # categories_matrix=torch.zeros((2,len(all_categories)),device=device)\n",
        "  # for i in range(len(all_attributes)+4,len(all_attributes)+len(all_categories)+4):\n",
        "  #   values=list(set(scaled_features.iloc[:,i].values))\n",
        "  #   # if i <100:\n",
        "  #   #   print(i,values)\n",
        "  #   #   print('------------')\n",
        "  #   for j in range(len(values)):\n",
        "  #     categories_matrix[j][i-(len(all_attributes)+4)]=values[j]\n",
        "  ##########################################\n",
        "  days_hours_matrix=torch.zeros((2,len(all_days_hours)),device=device)\n",
        "  for i in range(len(all_attributes)+3,len(all_days_hours)+len(all_attributes)+3):\n",
        "    values=list(set(scaled_features.iloc[:,i].values))\n",
        "    for j in range(len(values)):\n",
        "      days_hours_matrix[j][i-(len(all_attributes)+3)]=values[j]\n",
        "\n",
        "  return attributes_matrix,days_hours_matrix"
      ]
    },
    {
      "cell_type": "code",
      "execution_count": null,
      "metadata": {
        "colab": {
          "base_uri": "https://localhost:8080/"
        },
        "id": "UVvjllW4Q1CE",
        "outputId": "16aa201c-5de7-4e1b-9cc2-1c4a70c628a4"
      },
      "outputs": [
        {
          "output_type": "stream",
          "name": "stdout",
          "text": [
            "87\n",
            "168\n"
          ]
        }
      ],
      "source": [
        "print(len(all_attributes))\n",
        "# print(len(all_categories))\n",
        "print(len(all_days_hours))"
      ]
    },
    {
      "cell_type": "code",
      "execution_count": null,
      "metadata": {
        "id": "dL7R4sReOdaJ"
      },
      "outputs": [],
      "source": [
        "# tip_df.drop(tip_df.index[~tip_df['business_id'].isin(scaled_features['business_id'].values)], inplace=True)"
      ]
    },
    {
      "cell_type": "code",
      "execution_count": null,
      "metadata": {
        "id": "MK9zWAJt0IwH"
      },
      "outputs": [],
      "source": [
        "# tip_df"
      ]
    },
    {
      "cell_type": "code",
      "execution_count": null,
      "metadata": {
        "colab": {
          "base_uri": "https://localhost:8080/"
        },
        "id": "DLE1KYCK0y0d",
        "outputId": "ad580fbe-b925-4121-be14-96db3b000894"
      },
      "outputs": [
        {
          "output_type": "stream",
          "name": "stdout",
          "text": [
            "626069\n"
          ]
        }
      ],
      "source": [
        "print(len(all_pairs))"
      ]
    },
    {
      "cell_type": "code",
      "execution_count": null,
      "metadata": {
        "id": "Wc3WD4qjkLzk"
      },
      "outputs": [],
      "source": [
        "def sample_gumbel(shape, eps=1e-20):\n",
        "  U = torch.rand(shape)\n",
        "  U = U.cuda()\n",
        "  return -torch.log(-torch.log(U + eps) + eps)"
      ]
    },
    {
      "cell_type": "code",
      "execution_count": null,
      "metadata": {
        "id": "Dgp6OjkmP9Er"
      },
      "outputs": [],
      "source": [
        "def get_features_indices(item_id):\n",
        "  row=scaled_features[scaled_features['business_id']==item_id]\n",
        "  # print(item_id)\n",
        "  # print(row)\n",
        "  continues_features_values=row.loc[:,['latitude','longitude']].values[0]\n",
        "  # print(continues_features_values)\n",
        "  features_attributes=scaled_features.columns[3:3+len(all_attributes)]\n",
        "  # features_categories=scaled_features.columns[4+len(all_attributes):4+len(all_attributes)]\n",
        "  features_days_hours=scaled_features.columns[3+len(all_attributes):]\n",
        "  values_attributes=row.loc[:,features_attributes].values[0]\n",
        "  # values_categories=row.loc[:,features_categories].values[0]\n",
        "  values_days_hours=row.loc[:,features_days_hours].values[0]\n",
        "  # print(values_categories.shape)\n",
        "  # print('categories_values: ')\n",
        "  # print(values_categories[:20])\n",
        "    # print(value[:20])\n",
        "  # print('--------')\n",
        "  # print(values_days_hours)\n",
        "  return continues_features_values,features_attributes,features_days_hours,values_attributes,values_days_hours"
      ]
    },
    {
      "cell_type": "code",
      "execution_count": null,
      "metadata": {
        "id": "BMC87xZi-M9N"
      },
      "outputs": [],
      "source": [
        "def get_average_vect_train(item_id,not_in_columns):\n",
        "  all_words=[]\n",
        "  all_vects=[]\n",
        "  # print(item_id)\n",
        "  try:\n",
        "    df=pd.read_json(save_path+'tips_bert_items_dfs/'+'{}.json'.format(item_id))\n",
        "    df1=df.copy()\n",
        "    df1['main_word']=np.where(df1['replaced_word'] == df1[not_in_columns],1,0)\n",
        "    df1=df1[df1['main_word']==1]\n",
        "    if df1.empty:\n",
        "      df1=df.copy()\n",
        "      df1['main_word']=np.where(df1['logit']==5.0,1,0)\n",
        "      df1=df1[df1['main_word']==1]\n",
        "    if df1.empty:\n",
        "      df1=df.copy()\n",
        "      df1['main_word']=np.where(df1['logit']==12.0,1,0)\n",
        "      df1=df1[df1['main_word']==1]\n",
        "    lists=df1.loc[:, ~df1.columns.isin([not_in_columns,'replaced_word','logit','main_word'])].values\n",
        "    words=df1[not_in_columns].values\n",
        "    all_words+=list(words)\n",
        "    # print(words)\n",
        "    vects=[sub_list[0] for sub_list in lists]\n",
        "    all_vects+=vects\n",
        "    average=np.average(np.array(all_vects),axis=0)\n",
        "  except TypeError:\n",
        "    return None,None\n",
        "  # print(vects)\n",
        "  # print(average)\n",
        "  # print(df)\n",
        "  # print(words)\n",
        "  # print(df)\n",
        "  return average,all_words"
      ]
    },
    {
      "cell_type": "code",
      "execution_count": null,
      "metadata": {
        "id": "woUUSm-mdH1A"
      },
      "outputs": [],
      "source": [
        "from typing_extensions import final\n",
        "def get_item_matrix(item_name_dict,items_list,all_features,scaled_features):\n",
        "  print('----- get items matrix -------')\n",
        "  item_quality_matrix = np.zeros((len(item_name_dict), len(all_features)+768))\n",
        "  print((len(item_name_dict)))\n",
        "  i=0\n",
        "  features={}\n",
        "  attributes_matrix,days_hours_matrix=get_features_matrix()\n",
        "  for item_id in items_list:\n",
        "      # if item_id!='cXSyVvOr9YRN9diDkaWs0Q':\n",
        "      #   continue\n",
        "      if i%100==0:\n",
        "        print(i)\n",
        "      i+=1\n",
        "      # if i<900:\n",
        "      #   continue\n",
        "      # print(item_id)\n",
        "      item=item_name_dict[item_id]\n",
        "      # print(item)\n",
        "      continues_features_values,features_attributes,features_days_hours,values_attributes,values_days_hours=get_features_indices(item_id)\n",
        "      teta1=get_initialized_teta(values_attributes,attributes_matrix,16.0)\n",
        "      teta3=get_initialized_teta(values_days_hours,days_hours_matrix,16.0)\n",
        "      pi1 = F.softmax((teta1 + sample_gumbel((attributes_matrix.shape[1],attributes_matrix.shape[0]))) /1.0 ,dim=-1)\n",
        "      pi3 = F.softmax((teta3 + sample_gumbel((days_hours_matrix.shape[1],days_hours_matrix.shape[0]))) /1.0, dim=-1)\n",
        "      item_feature1=continues_features_values[0]\n",
        "      item_feature2=continues_features_values[1]\n",
        "      item_feature_4=torch.mm(pi1,attributes_matrix)\n",
        "      item_feature_4=torch.diagonal(item_feature_4, 0)\n",
        "      item_feature_6=torch.mm(pi3,days_hours_matrix)\n",
        "      item_feature_6=torch.diagonal(item_feature_6, 0)\n",
        "      item_feature_star=torch.concat([torch.Tensor([item_feature1]).to(device),torch.Tensor([item_feature2]).to(device),item_feature_4,item_feature_6])\n",
        "      features[item]=[]\n",
        "      average_vect_desc,words_tip=get_average_vect_train(item_id,'word')\n",
        "      if words_tip != None:\n",
        "        features[item].append(words_tip)\n",
        "\n",
        "      # print(features[item])\n",
        "      # print(np.array(list(average_vect_desc)))\n",
        "      # print()\n",
        "      if words_tip != None:\n",
        "        item_quality_matrix[item]=np.array(list(item_feature_star.cpu().detach().numpy())+ list(average_vect_desc))\n",
        "      else:\n",
        "        item_quality_matrix[item]=np.array(list(item_feature_star.cpu().detach().numpy())+ list(np.zeros(768)))\n",
        "\n",
        "\n",
        "  item_quality_matrix = np.array(item_quality_matrix, dtype='float32')\n",
        "  # print(item_quality_matrix.shape)\n",
        "  return item_quality_matrix,features"
      ]
    },
    {
      "cell_type": "code",
      "execution_count": null,
      "metadata": {
        "id": "NecDmjj2CdtH"
      },
      "outputs": [],
      "source": [
        "review_df.drop(['Unnamed: 0','Unnamed: 0.1'],axis=1,inplace=True)"
      ]
    },
    {
      "cell_type": "code",
      "execution_count": null,
      "metadata": {
        "id": "X1EQvA6czSJ6"
      },
      "outputs": [],
      "source": [
        "review_df.drop(review_df.index[~review_df['business_id'].isin(list(scaled_features['business_id'].values))], inplace=True)"
      ]
    },
    {
      "cell_type": "code",
      "execution_count": null,
      "metadata": {
        "colab": {
          "base_uri": "https://localhost:8080/",
          "height": 424
        },
        "id": "fmtFGihXzm8p",
        "outputId": "bc295f44-e046-4a40-ad72-d85486df72c6"
      },
      "outputs": [
        {
          "data": {
            "text/html": [
              "\n",
              "  <div id=\"df-c153e1b9-9133-4561-b5ad-78b1f9863f96\">\n",
              "    <div class=\"colab-df-container\">\n",
              "      <div>\n",
              "<style scoped>\n",
              "    .dataframe tbody tr th:only-of-type {\n",
              "        vertical-align: middle;\n",
              "    }\n",
              "\n",
              "    .dataframe tbody tr th {\n",
              "        vertical-align: top;\n",
              "    }\n",
              "\n",
              "    .dataframe thead th {\n",
              "        text-align: right;\n",
              "    }\n",
              "</style>\n",
              "<table border=\"1\" class=\"dataframe\">\n",
              "  <thead>\n",
              "    <tr style=\"text-align: right;\">\n",
              "      <th></th>\n",
              "      <th>review_id</th>\n",
              "      <th>user_id</th>\n",
              "      <th>business_id</th>\n",
              "      <th>stars</th>\n",
              "      <th>text</th>\n",
              "    </tr>\n",
              "  </thead>\n",
              "  <tbody>\n",
              "    <tr>\n",
              "      <th>0</th>\n",
              "      <td>KU_O5udG6zpxOg-VcAEodg</td>\n",
              "      <td>mh_-eMZ6K5RLWhZyISBhwA</td>\n",
              "      <td>XQfwVwDr-v0ZS3_CbbE5Xw</td>\n",
              "      <td>3.0</td>\n",
              "      <td>If you decide to eat here, just be aware it is...</td>\n",
              "    </tr>\n",
              "    <tr>\n",
              "      <th>1</th>\n",
              "      <td>LnGZB0fjfgeVDVz5IHuEVA</td>\n",
              "      <td>j2wlzrntrbKwyOcOiB3l3w</td>\n",
              "      <td>rBdG_23USc7DletfZ11xGA</td>\n",
              "      <td>4.0</td>\n",
              "      <td>The hubby and I have been here on multiple occ...</td>\n",
              "    </tr>\n",
              "    <tr>\n",
              "      <th>2</th>\n",
              "      <td>Xs8Z8lmKkosqW5mw_sVAoA</td>\n",
              "      <td>IQsF3Rc6IgCzjVV9DE8KXg</td>\n",
              "      <td>eFvzHawVJofxSnD7TgbZtg</td>\n",
              "      <td>5.0</td>\n",
              "      <td>My absolute favorite cafe in the city. Their b...</td>\n",
              "    </tr>\n",
              "    <tr>\n",
              "      <th>3</th>\n",
              "      <td>J-4NdnDZ0pUQaUEEwDI9KQ</td>\n",
              "      <td>vrKkXsozqqecF3CW4cGaVQ</td>\n",
              "      <td>rjuWz_AD3WfXJc03AhIO_w</td>\n",
              "      <td>5.0</td>\n",
              "      <td>I thoroughly enjoyed the show.  Chill way to s...</td>\n",
              "    </tr>\n",
              "    <tr>\n",
              "      <th>4</th>\n",
              "      <td>qS6kE7CDoDagyPZwmueJaQ</td>\n",
              "      <td>zoBajEyVA0z4IjbFsMJksg</td>\n",
              "      <td>c-IgS6Pk6vMyax7Rbr38eA</td>\n",
              "      <td>4.0</td>\n",
              "      <td>Went for lunch. Beef brisket sandwich was awes...</td>\n",
              "    </tr>\n",
              "    <tr>\n",
              "      <th>...</th>\n",
              "      <td>...</td>\n",
              "      <td>...</td>\n",
              "      <td>...</td>\n",
              "      <td>...</td>\n",
              "      <td>...</td>\n",
              "    </tr>\n",
              "    <tr>\n",
              "      <th>1469038</th>\n",
              "      <td>wD5ZWao_vjyT2h4xmGam8Q</td>\n",
              "      <td>7L7GL5Pi2cf8mbm2Dpw4zw</td>\n",
              "      <td>e_E-jq9mwm7wk75k7Yi-Xw</td>\n",
              "      <td>5.0</td>\n",
              "      <td>It is very rare for a restaurant to be this go...</td>\n",
              "    </tr>\n",
              "    <tr>\n",
              "      <th>1469039</th>\n",
              "      <td>H0RIamZu0B0Ei0P4aeh3sQ</td>\n",
              "      <td>qskILQ3k0I_qcCMI-k6_QQ</td>\n",
              "      <td>jals67o91gcrD4DC81Vk6w</td>\n",
              "      <td>5.0</td>\n",
              "      <td>Latest addition to services from ICCU is Apple...</td>\n",
              "    </tr>\n",
              "    <tr>\n",
              "      <th>1469040</th>\n",
              "      <td>YNfNhgZlaaCO5Q_YJR4rEw</td>\n",
              "      <td>mm6E4FbCMwJmb7kPDZ5v2Q</td>\n",
              "      <td>R1khUUxidqfaJmcpmGd4aw</td>\n",
              "      <td>4.0</td>\n",
              "      <td>This Home Depot won me over when I needed to g...</td>\n",
              "    </tr>\n",
              "    <tr>\n",
              "      <th>1469041</th>\n",
              "      <td>i-I4ZOhoX70Nw5H0FwrQUA</td>\n",
              "      <td>YwAMC-jvZ1fvEUum6QkEkw</td>\n",
              "      <td>Rr9kKArrMhSLVE9a53q-aA</td>\n",
              "      <td>5.0</td>\n",
              "      <td>For when I'm feeling like ignoring my calorie-...</td>\n",
              "    </tr>\n",
              "    <tr>\n",
              "      <th>1469042</th>\n",
              "      <td>RwcKOdEuLRHNJe4M9-qpqg</td>\n",
              "      <td>6JehEvdoCvZPJ_XIxnzIIw</td>\n",
              "      <td>VAeEXLbEcI9Emt9KGYq9aA</td>\n",
              "      <td>3.0</td>\n",
              "      <td>Located in the 'Walking District' in Nashville...</td>\n",
              "    </tr>\n",
              "  </tbody>\n",
              "</table>\n",
              "<p>1426442 rows × 5 columns</p>\n",
              "</div>\n",
              "      <button class=\"colab-df-convert\" onclick=\"convertToInteractive('df-c153e1b9-9133-4561-b5ad-78b1f9863f96')\"\n",
              "              title=\"Convert this dataframe to an interactive table.\"\n",
              "              style=\"display:none;\">\n",
              "        \n",
              "  <svg xmlns=\"http://www.w3.org/2000/svg\" height=\"24px\"viewBox=\"0 0 24 24\"\n",
              "       width=\"24px\">\n",
              "    <path d=\"M0 0h24v24H0V0z\" fill=\"none\"/>\n",
              "    <path d=\"M18.56 5.44l.94 2.06.94-2.06 2.06-.94-2.06-.94-.94-2.06-.94 2.06-2.06.94zm-11 1L8.5 8.5l.94-2.06 2.06-.94-2.06-.94L8.5 2.5l-.94 2.06-2.06.94zm10 10l.94 2.06.94-2.06 2.06-.94-2.06-.94-.94-2.06-.94 2.06-2.06.94z\"/><path d=\"M17.41 7.96l-1.37-1.37c-.4-.4-.92-.59-1.43-.59-.52 0-1.04.2-1.43.59L10.3 9.45l-7.72 7.72c-.78.78-.78 2.05 0 2.83L4 21.41c.39.39.9.59 1.41.59.51 0 1.02-.2 1.41-.59l7.78-7.78 2.81-2.81c.8-.78.8-2.07 0-2.86zM5.41 20L4 18.59l7.72-7.72 1.47 1.35L5.41 20z\"/>\n",
              "  </svg>\n",
              "      </button>\n",
              "      \n",
              "  <style>\n",
              "    .colab-df-container {\n",
              "      display:flex;\n",
              "      flex-wrap:wrap;\n",
              "      gap: 12px;\n",
              "    }\n",
              "\n",
              "    .colab-df-convert {\n",
              "      background-color: #E8F0FE;\n",
              "      border: none;\n",
              "      border-radius: 50%;\n",
              "      cursor: pointer;\n",
              "      display: none;\n",
              "      fill: #1967D2;\n",
              "      height: 32px;\n",
              "      padding: 0 0 0 0;\n",
              "      width: 32px;\n",
              "    }\n",
              "\n",
              "    .colab-df-convert:hover {\n",
              "      background-color: #E2EBFA;\n",
              "      box-shadow: 0px 1px 2px rgba(60, 64, 67, 0.3), 0px 1px 3px 1px rgba(60, 64, 67, 0.15);\n",
              "      fill: #174EA6;\n",
              "    }\n",
              "\n",
              "    [theme=dark] .colab-df-convert {\n",
              "      background-color: #3B4455;\n",
              "      fill: #D2E3FC;\n",
              "    }\n",
              "\n",
              "    [theme=dark] .colab-df-convert:hover {\n",
              "      background-color: #434B5C;\n",
              "      box-shadow: 0px 1px 3px 1px rgba(0, 0, 0, 0.15);\n",
              "      filter: drop-shadow(0px 1px 2px rgba(0, 0, 0, 0.3));\n",
              "      fill: #FFFFFF;\n",
              "    }\n",
              "  </style>\n",
              "\n",
              "      <script>\n",
              "        const buttonEl =\n",
              "          document.querySelector('#df-c153e1b9-9133-4561-b5ad-78b1f9863f96 button.colab-df-convert');\n",
              "        buttonEl.style.display =\n",
              "          google.colab.kernel.accessAllowed ? 'block' : 'none';\n",
              "\n",
              "        async function convertToInteractive(key) {\n",
              "          const element = document.querySelector('#df-c153e1b9-9133-4561-b5ad-78b1f9863f96');\n",
              "          const dataTable =\n",
              "            await google.colab.kernel.invokeFunction('convertToInteractive',\n",
              "                                                     [key], {});\n",
              "          if (!dataTable) return;\n",
              "\n",
              "          const docLinkHtml = 'Like what you see? Visit the ' +\n",
              "            '<a target=\"_blank\" href=https://colab.research.google.com/notebooks/data_table.ipynb>data table notebook</a>'\n",
              "            + ' to learn more about interactive tables.';\n",
              "          element.innerHTML = '';\n",
              "          dataTable['output_type'] = 'display_data';\n",
              "          await google.colab.output.renderOutput(dataTable, element);\n",
              "          const docLink = document.createElement('div');\n",
              "          docLink.innerHTML = docLinkHtml;\n",
              "          element.appendChild(docLink);\n",
              "        }\n",
              "      </script>\n",
              "    </div>\n",
              "  </div>\n",
              "  "
            ],
            "text/plain": [
              "                      review_id                 user_id  \\\n",
              "0        KU_O5udG6zpxOg-VcAEodg  mh_-eMZ6K5RLWhZyISBhwA   \n",
              "1        LnGZB0fjfgeVDVz5IHuEVA  j2wlzrntrbKwyOcOiB3l3w   \n",
              "2        Xs8Z8lmKkosqW5mw_sVAoA  IQsF3Rc6IgCzjVV9DE8KXg   \n",
              "3        J-4NdnDZ0pUQaUEEwDI9KQ  vrKkXsozqqecF3CW4cGaVQ   \n",
              "4        qS6kE7CDoDagyPZwmueJaQ  zoBajEyVA0z4IjbFsMJksg   \n",
              "...                         ...                     ...   \n",
              "1469038  wD5ZWao_vjyT2h4xmGam8Q  7L7GL5Pi2cf8mbm2Dpw4zw   \n",
              "1469039  H0RIamZu0B0Ei0P4aeh3sQ  qskILQ3k0I_qcCMI-k6_QQ   \n",
              "1469040  YNfNhgZlaaCO5Q_YJR4rEw  mm6E4FbCMwJmb7kPDZ5v2Q   \n",
              "1469041  i-I4ZOhoX70Nw5H0FwrQUA  YwAMC-jvZ1fvEUum6QkEkw   \n",
              "1469042  RwcKOdEuLRHNJe4M9-qpqg  6JehEvdoCvZPJ_XIxnzIIw   \n",
              "\n",
              "                    business_id  stars  \\\n",
              "0        XQfwVwDr-v0ZS3_CbbE5Xw    3.0   \n",
              "1        rBdG_23USc7DletfZ11xGA    4.0   \n",
              "2        eFvzHawVJofxSnD7TgbZtg    5.0   \n",
              "3        rjuWz_AD3WfXJc03AhIO_w    5.0   \n",
              "4        c-IgS6Pk6vMyax7Rbr38eA    4.0   \n",
              "...                         ...    ...   \n",
              "1469038  e_E-jq9mwm7wk75k7Yi-Xw    5.0   \n",
              "1469039  jals67o91gcrD4DC81Vk6w    5.0   \n",
              "1469040  R1khUUxidqfaJmcpmGd4aw    4.0   \n",
              "1469041  Rr9kKArrMhSLVE9a53q-aA    5.0   \n",
              "1469042  VAeEXLbEcI9Emt9KGYq9aA    3.0   \n",
              "\n",
              "                                                      text  \n",
              "0        If you decide to eat here, just be aware it is...  \n",
              "1        The hubby and I have been here on multiple occ...  \n",
              "2        My absolute favorite cafe in the city. Their b...  \n",
              "3        I thoroughly enjoyed the show.  Chill way to s...  \n",
              "4        Went for lunch. Beef brisket sandwich was awes...  \n",
              "...                                                    ...  \n",
              "1469038  It is very rare for a restaurant to be this go...  \n",
              "1469039  Latest addition to services from ICCU is Apple...  \n",
              "1469040  This Home Depot won me over when I needed to g...  \n",
              "1469041  For when I'm feeling like ignoring my calorie-...  \n",
              "1469042  Located in the 'Walking District' in Nashville...  \n",
              "\n",
              "[1426442 rows x 5 columns]"
            ]
          },
          "execution_count": 88,
          "metadata": {},
          "output_type": "execute_result"
        }
      ],
      "source": [
        "review_df"
      ]
    },
    {
      "cell_type": "code",
      "execution_count": null,
      "metadata": {
        "id": "PEAyACg9ioIo"
      },
      "outputs": [],
      "source": [
        "tip_df"
      ]
    },
    {
      "cell_type": "code",
      "execution_count": null,
      "metadata": {
        "id": "SGne2aHvlOFh"
      },
      "outputs": [],
      "source": [
        "items_interacted={}\n",
        "for pair in all_pairs:\n",
        "  if pair[1] in items_interacted.keys():\n",
        "    items_interacted[pair[1]].append(pair[0])\n",
        "  else:\n",
        "    items_interacted[pair[1]]=[]\n",
        "    items_interacted[pair[1]].append(pair[0])"
      ]
    },
    {
      "cell_type": "code",
      "execution_count": null,
      "metadata": {
        "id": "Kh5kvUo8lvOL"
      },
      "outputs": [],
      "source": [
        "items_interacted"
      ]
    },
    {
      "cell_type": "code",
      "execution_count": null,
      "metadata": {
        "colab": {
          "base_uri": "https://localhost:8080/"
        },
        "id": "V5j_W6yDlziy",
        "outputId": "cbc60086-bc5e-4f4a-87fa-7356036f8cda"
      },
      "outputs": [
        {
          "output_type": "execute_result",
          "data": {
            "text/plain": [
              "243531"
            ]
          },
          "metadata": {},
          "execution_count": 150
        }
      ],
      "source": [
        "len(items_interacted)"
      ]
    },
    {
      "cell_type": "code",
      "execution_count": null,
      "metadata": {
        "id": "QRpOh_KG94WX"
      },
      "outputs": [],
      "source": [
        "def get_user_matrix(item_matrix,inv_user_name_dict,item_name_dict,all_features,scaled_features,review_df):\n",
        "  user_quality_matrix = np.zeros((len(inv_user_name_dict), len(all_features)+768))\n",
        "  i=0\n",
        "  print('----- get users matrix -------')\n",
        "  print((len(inv_user_name_dict)))\n",
        "  for  user in inv_user_name_dict.keys():\n",
        "    if i%10000==0:\n",
        "      print(i)\n",
        "    i+=1\n",
        "    user_id= inv_user_name_dict[user]\n",
        "    final_vector=[]\n",
        "    items_interacted1=items_interacted[user_id]\n",
        "    # mean_rate=np.average(items_interacted['stars'].values)\n",
        "    # weights=[]\n",
        "    for item_id in items_interacted1:\n",
        "      if item_id in item_name_dict.keys():\n",
        "        item=item_name_dict[item_id]\n",
        "        # weight=items_interacted[items_interacted['business_id']==item_id]['stars'].values[0]-mean_rate\n",
        "        # weights.append(weight)\n",
        "        final_vector.append(item_matrix[item])\n",
        "    # if np.sum(weights)>0 or np.sum(weights)<0:\n",
        "    #   final_average=np.average(final_vector,weights=weights,axis=0)\n",
        "    # else:\n",
        "    final_average=np.average(final_vector,axis=0)\n",
        "    if ~np.isnan(np.sum(final_average)):\n",
        "      user_quality_matrix[user]=final_average\n",
        "    else:\n",
        "      print(user_id)\n",
        "  user_quality_matrix = np.array(user_quality_matrix, dtype='float32')\n",
        "  return user_quality_matrix"
      ]
    },
    {
      "cell_type": "code",
      "execution_count": null,
      "metadata": {
        "id": "Rfm9U58AAOnk"
      },
      "outputs": [],
      "source": [
        "def sample_training_pairs(user, training_items, item_set, sample_ratio=5):\n",
        "    positive_items = set(training_items)\n",
        "    negative_items = set()\n",
        "    for item in item_set:\n",
        "        if item not in positive_items:\n",
        "            negative_items.add(item)\n",
        "    neg_length = len(positive_items) * sample_ratio\n",
        "    negative_items = np.random.choice(np.array(list(negative_items)), neg_length, replace=False)\n",
        "    train_pairs = []\n",
        "    for p_item in positive_items:\n",
        "        train_pairs.append([user, p_item, 1])\n",
        "    for n_item in negative_items:\n",
        "        train_pairs.append([user, n_item, 0])\n",
        "    return train_pairs"
      ]
    },
    {
      "cell_type": "code",
      "execution_count": null,
      "metadata": {
        "colab": {
          "base_uri": "https://localhost:8080/"
        },
        "id": "AB0I523deF44",
        "outputId": "12dfee8d-2e11-4c7e-be74-d926e4ba43ea"
      },
      "outputs": [
        {
          "output_type": "stream",
          "name": "stdout",
          "text": [
            "626069\n"
          ]
        }
      ],
      "source": [
        "user_dict, item_dict = get_user_item_dict(all_pairs)  # not sorted with time"
      ]
    },
    {
      "cell_type": "code",
      "execution_count": null,
      "metadata": {
        "colab": {
          "base_uri": "https://localhost:8080/"
        },
        "id": "rDbn4th76nXY",
        "outputId": "13dfcf60-6e08-437c-8edb-0bc790c5bdb1"
      },
      "outputs": [
        {
          "output_type": "stream",
          "name": "stdout",
          "text": [
            "243531\n",
            "0\n",
            "10000\n",
            "20000\n",
            "30000\n",
            "40000\n",
            "50000\n",
            "60000\n",
            "70000\n",
            "80000\n",
            "90000\n",
            "100000\n",
            "110000\n",
            "120000\n",
            "130000\n",
            "140000\n",
            "150000\n",
            "160000\n",
            "170000\n",
            "180000\n",
            "190000\n",
            "200000\n",
            "210000\n",
            "220000\n",
            "230000\n",
            "240000\n"
          ]
        }
      ],
      "source": [
        "user_item_pair=[]\n",
        "print(len(user_dict))\n",
        "i=0\n",
        "for user in user_dict:\n",
        "  if i%10000==0:\n",
        "    print(i)\n",
        "  i+=1\n",
        "  for item in user_dict[user]:\n",
        "    user_item_pair.append((user,item))"
      ]
    },
    {
      "cell_type": "code",
      "execution_count": null,
      "metadata": {
        "id": "HgIIAnG07BDt"
      },
      "outputs": [],
      "source": [
        "user_item_pair=list(set(user_item_pair))"
      ]
    },
    {
      "cell_type": "code",
      "execution_count": null,
      "metadata": {
        "colab": {
          "base_uri": "https://localhost:8080/"
        },
        "id": "cIRwZfwe7LXI",
        "outputId": "f0d4f1d4-892e-4163-b8f4-81be3b064a3a"
      },
      "outputs": [
        {
          "output_type": "execute_result",
          "data": {
            "text/plain": [
              "541276"
            ]
          },
          "metadata": {},
          "execution_count": 156
        }
      ],
      "source": [
        "len(user_item_pair)"
      ]
    },
    {
      "cell_type": "code",
      "execution_count": null,
      "metadata": {
        "id": "wRV2woMaQP2z"
      },
      "outputs": [],
      "source": [
        "from re import S\n",
        "import torch\n",
        "import numpy as np\n",
        "import json\n",
        "import pickle\n",
        "# from torch._C import R\n",
        "import tqdm\n",
        "from torch.random import seed\n",
        "\n",
        "\n",
        "class YelpDataset():\n",
        "    def __init__(self):\n",
        "        super().__init__()\n",
        "\n",
        "        self.user_name_dict = {}  # rename users to integer names\n",
        "        self.item_name_dict = {}\n",
        "        # self.feature_name_dict = {}\n",
        "\n",
        "        self.features = {}  # feature list\n",
        "        self.users = []\n",
        "        self.items = []\n",
        "\n",
        "        self.user_num = None\n",
        "        self.item_num = None\n",
        "        self.features=['latitude', 'longitude']\n",
        "        self.features+=all_attributes\n",
        "        # self.all_features+=all_categories\n",
        "        self.features+=all_days_hours\n",
        "        \n",
        "        # self.feature_num =len(self.all_features)# number of features\n",
        "\n",
        "        self.user_feature_matrix = None  # user aspect attention matrix\n",
        "        self.item_feature_matrix = None  # item aspect quality matrix\n",
        "\n",
        "        self.training_data = None\n",
        "        self.test_data = None\n",
        "        self.pre_processing()\n",
        "        self.get_user_item_feature_matrix()\n",
        "        self.sample_training()  # sample training data, for traning BPR loss\n",
        "        self.sample_test()  # sample test data\n",
        "\n",
        "    def pre_processing(self,):\n",
        "        self.items_list=list(scaled_features['business_id'].values)\n",
        "        self.user_dict, self.item_dict ,self.user_item_pairs = user_dict, item_dict , user_item_pair\n",
        "        self.items_list=list(item_dict.keys())\n",
        "        print('num_items: ',len(self.items_list))\n",
        "        user_name_dict = {}\n",
        "        item_name_dict = {}\n",
        "        count = 0\n",
        "        for user in self.user_dict:\n",
        "            if user not in user_name_dict:\n",
        "                user_name_dict[user] = count\n",
        "                count += 1\n",
        "        count = 0\n",
        "        for item in self.item_dict:\n",
        "            if item not in item_name_dict:\n",
        "                item_name_dict[item] = count\n",
        "                count += 1\n",
        "        self.inv_user_name_dict = {v: k for k, v in user_name_dict.items()}\n",
        "        self.inv_item_name_dict = {v: k for k, v in item_name_dict.items()}\n",
        "        \n",
        "\n",
        "        self.user_hist_inter_dict = {}  # {\"u1\": [i1, i2, i3, ...], \"u2\": [i1, i2, i3, ...]}, sort with time\n",
        "        self.item_hist_inter_dict = {}\n",
        "        # ranked_user_item_dict = {}  # {\"u1\": [i1, i2, i3, ...], \"u2\": [i1, i2, i3, ...]}\n",
        "        for user_id, item_id in self.user_item_pairs:\n",
        "            user = user_name_dict[user_id]\n",
        "            item = item_name_dict[item_id]\n",
        "            if user not in self.user_hist_inter_dict:\n",
        "                self.user_hist_inter_dict[user] = [item]\n",
        "            else:\n",
        "                self.user_hist_inter_dict[user].append(item)\n",
        "            if item not in self.item_hist_inter_dict:\n",
        "                self.item_hist_inter_dict[item] = [user]\n",
        "            else:\n",
        "                self.item_hist_inter_dict[item].append(user)\n",
        "\n",
        "        users = list(self.user_hist_inter_dict.keys())\n",
        "        items = list(self.item_hist_inter_dict.keys())\n",
        "\n",
        "        # print( self.user_hist_inter_dict[0])\n",
        "        self.user_name_dict = user_name_dict\n",
        "        self.item_name_dict = item_name_dict\n",
        "        self.users = users\n",
        "        self.items = items\n",
        "        self.user_num = len(users)\n",
        "        self.item_num = len(items)\n",
        "        return True\n",
        "    \n",
        "    def get_user_item_feature_matrix(self,):\n",
        "        # exclude test data from the sentiment data to construct matrix\n",
        "        train_u_i_set = set()\n",
        "        for user in self.user_hist_inter_dict.keys():\n",
        "            items= self.user_hist_inter_dict[user]\n",
        "            items = items[:-test_length]\n",
        "            for item in items:\n",
        "                train_u_i_set.add((user, item))\n",
        "        # self.item_feature_matrix,self.tips_features= get_item_matrix(self.item_name_dict,self.items_list,self.features,scaled_features)\n",
        "        self.item_feature_matrix,self.tips_features=rec_dataset.item_feature_matrix,rec_dataset.tips_features\n",
        "        self.user_feature_matrix = get_user_matrix(self.item_feature_matrix,self.inv_user_name_dict,self.item_name_dict,self.features,scaled_features,review_df)\n",
        "        \n",
        "        return True\n",
        "    \n",
        "    def sample_training(self):\n",
        "        print('======================= sample training data =======================')\n",
        "        # print(self.user_feature_matrix.shape, self.item_feature_matrix.shape)\n",
        "        training_data = []\n",
        "        item_set = set(self.items)\n",
        "        for user in self.user_hist_inter_dict.keys():\n",
        "            items= self.user_hist_inter_dict[user]\n",
        "            if len(items)>15:\n",
        "              items = items[:-(test_length+val_length)]\n",
        "              training_pairs = sample_training_pairs(\n",
        "                  user, \n",
        "                  items, \n",
        "                  item_set, \n",
        "                  sample_ratio)\n",
        "              for pair in training_pairs:\n",
        "                  training_data.append(pair)\n",
        "        print('# training samples :', len(training_data))\n",
        "        self.training_data = np.array(training_data)\n",
        "      \n",
        "        return True\n",
        "    \n",
        "    def sample_test(self):\n",
        "        print('======================= sample test data =======================')\n",
        "        user_item_label_list = []  # [[u, [item1, item2, ...], [l1, l2, ...]], ...]\n",
        "        validation_data=[]\n",
        "        for user in self.user_hist_inter_dict.keys():\n",
        "          items= self.user_hist_inter_dict[user]\n",
        "          if len(items)>15:\n",
        "            # print(items)\n",
        "            items1 = items[-(test_length+val_length):-(val_length)]\n",
        "            items2 = items[-(val_length):]\n",
        "            # print(items1)\n",
        "            # print(items2)\n",
        "            user_item_label_list.append([user, items1, np.ones(len(items1))])  # add the test items\n",
        "            validation_data.append([user, items2, np.ones(len(items2))])\n",
        "            neg_length1=len(items1)*5\n",
        "            neg_length2=len(items2)*5\n",
        "            negative_items = [item for item in self.items if \n",
        "                item not in items]  # the not interacted items\n",
        "            # print(len(negative_items))\n",
        "            negative_items1 = np.random.choice(np.array(negative_items), neg_length1, replace=False)\n",
        "            negative_items2 = np.random.choice(np.array(negative_items), neg_length2, replace=False)\n",
        "\n",
        "            user_item_label_list[-1][1] = np.concatenate((user_item_label_list[-1][1], negative_items1), axis=0)\n",
        "            user_item_label_list[-1][2] = np.concatenate((user_item_label_list[-1][2], np.zeros(neg_length1)), axis=0)\n",
        "\n",
        "            validation_data[-1][1] = np.concatenate((validation_data[-1][1], negative_items2), axis=0)\n",
        "            validation_data[-1][2] = np.concatenate((validation_data[-1][2], np.zeros(neg_length2)), axis=0)\n",
        "        print('# test samples :', len(user_item_label_list))\n",
        "        print('# validation samples :', len(validation_data))\n",
        "        self.test_data = np.array(user_item_label_list)\n",
        "        self.validation_data=np.array(validation_data)\n",
        "        return True\n",
        "\n",
        "    def save(self, save_path):\n",
        "        return True\n",
        "    \n",
        "    def load(self):\n",
        "        return False"
      ]
    },
    {
      "cell_type": "code",
      "execution_count": null,
      "metadata": {
        "id": "mJU1IgY8LF07"
      },
      "outputs": [],
      "source": [
        "def yelp_preprocessing():\n",
        "    rec_dataset = YelpDataset()\n",
        "    return rec_dataset"
      ]
    },
    {
      "cell_type": "code",
      "execution_count": null,
      "metadata": {
        "id": "zAb2lKMWb1Zo"
      },
      "outputs": [],
      "source": [
        "dataset=\"yelp\"\n",
        "gpu=True\n",
        "cuda='0'\n",
        "weight_decay=0.00001\n",
        "lr=0.01\n",
        "epochs=22\n",
        "batch_size=128\n",
        "rec_k=5"
      ]
    },
    {
      "cell_type": "code",
      "execution_count": null,
      "metadata": {
        "id": "6ECM0Lw3NFbC"
      },
      "outputs": [],
      "source": [
        "def dataset_init():\n",
        "\tif dataset == \"yelp\":\n",
        "\t\trec_dataset = yelp_preprocessing()\n",
        "\telif dataset == \"cell_phones\" or \"kindle_store\" or \"electronic\" or \"cds_and_vinyl\":\n",
        "\t\trec_dataset = amazon_preprocessing()\n",
        "\treturn rec_dataset"
      ]
    },
    {
      "cell_type": "code",
      "execution_count": null,
      "metadata": {
        "id": "x4Zo-5mANolR"
      },
      "outputs": [],
      "source": [
        "import numpy as np\n",
        "from torch.utils.data import Dataset\n",
        "class UserItemInterDataset(Dataset):\n",
        "    def __init__(self, data, user_feature_matrix, item_feature_matrix):\n",
        "        self.data = data\n",
        "        self.user_feature_matrix = user_feature_matrix\n",
        "        self.item_feature_matrix = item_feature_matrix\n",
        "\n",
        "    def __getitem__(self, index):\n",
        "        user = self.data[index][0]\n",
        "        item = self.data[index][1]\n",
        "        label = self.data[index][2]\n",
        "        user_feature = self.user_feature_matrix[user]\n",
        "        item_feature = self.item_feature_matrix[item]\n",
        "        return user_feature, item_feature, label\n",
        "    def __len__(self):\n",
        "        return len(self.data)"
      ]
    },
    {
      "cell_type": "markdown",
      "source": [
        "# Train Black-Box model..."
      ],
      "metadata": {
        "id": "5gKaEs4KK0DP"
      }
    },
    {
      "cell_type": "code",
      "execution_count": null,
      "metadata": {
        "id": "Lma7BKCoNySG"
      },
      "outputs": [],
      "source": [
        "import numpy as np\n",
        "import torch\n",
        "from sklearn.metrics import ndcg_score"
      ]
    },
    {
      "cell_type": "code",
      "execution_count": null,
      "metadata": {
        "id": "Ep5Pi9VbNtvi"
      },
      "outputs": [],
      "source": [
        "def compute_ndcg(test_data, user_feature_matrix, item_feature_matrix, k, model, device):\n",
        "    model.eval()\n",
        "    ndcgs = []\n",
        "    with torch.no_grad():\n",
        "        for row in test_data:\n",
        "            user = row[0]\n",
        "            items = row[1]\n",
        "            gt_labels = row[2]\n",
        "            # print(user)\n",
        "            # print(i)\n",
        "            user_features = np.array([user_feature_matrix[user] for i in range(len(items))])\n",
        "            item_features = np.array([item_feature_matrix[item] for item in items])\n",
        "            scores = model(torch.from_numpy(user_features).to(device),\n",
        "                                    torch.from_numpy(item_features).to(device)).squeeze()\n",
        "            scores = np.array(scores.to('cpu'))\n",
        "            ndcg = ndcg_score([gt_labels], [scores], k=k)\n",
        "            ndcgs.append(ndcg)\n",
        "    ave_ndcg = np.mean(ndcgs)\n",
        "    return ave_ndcg\n"
      ]
    },
    {
      "cell_type": "code",
      "execution_count": null,
      "metadata": {
        "id": "e9bKFx0qJvsC"
      },
      "outputs": [],
      "source": [
        "rec_dataset.test_data"
      ]
    },
    {
      "cell_type": "code",
      "execution_count": null,
      "metadata": {
        "id": "rnvfmuGXM-7F"
      },
      "outputs": [],
      "source": [
        "import torch\n",
        "import numpy as np\n",
        "import os\n",
        "import tqdm\n",
        "import pickle\n",
        "from pathlib import Path\n",
        "from torch.utils.data import DataLoader"
      ]
    },
    {
      "cell_type": "code",
      "execution_count": null,
      "metadata": {
        "id": "T-szQN49N-l0"
      },
      "outputs": [],
      "source": [
        "from numpy import core\n",
        "\n",
        "class BaseRecModel(torch.nn.Module):\n",
        "    def __init__(self, feature_length):\n",
        "        super(BaseRecModel, self).__init__()\n",
        "        self.fc = torch.nn.Sequential(\n",
        "            torch.nn.Linear(feature_length * 2, 512),\n",
        "            torch.nn.ReLU(),\n",
        "            torch.nn.Linear(512, 256),\n",
        "            torch.nn.ReLU(),\n",
        "            torch.nn.Linear(256, 1),\n",
        "            torch.nn.Sigmoid()\n",
        "        )\n",
        "\n",
        "    def forward(self, user_feature, item_feature):\n",
        "        fusion = torch.cat((user_feature, item_feature), 1)\n",
        "        out = self.fc(fusion)\n",
        "        return out\n"
      ]
    },
    {
      "cell_type": "code",
      "execution_count": null,
      "metadata": {
        "colab": {
          "base_uri": "https://localhost:8080/"
        },
        "id": "05LMQ0K63i30",
        "outputId": "8906604c-575d-42b4-86a1-26c0d16e3c54"
      },
      "outputs": [
        {
          "output_type": "stream",
          "name": "stdout",
          "text": [
            "cuda:0\n"
          ]
        }
      ],
      "source": [
        "if gpu:\n",
        "  device = torch.device('cuda:%s' % cuda)\n",
        "else:\n",
        "  device = 'cpu'\n",
        "print(device)"
      ]
    },
    {
      "cell_type": "code",
      "execution_count": null,
      "metadata": {
        "colab": {
          "base_uri": "https://localhost:8080/"
        },
        "id": "9VSW0s52y3vR",
        "outputId": "22ea1761-0ecf-4d3f-c164-34db0b092150"
      },
      "outputs": [
        {
          "name": "stdout",
          "output_type": "stream",
          "text": [
            "num_items:  48089\n",
            "----- get users matrix -------\n",
            "243531\n",
            "0\n",
            "10000\n",
            "20000\n",
            "30000\n",
            "40000\n",
            "50000\n",
            "60000\n",
            "70000\n",
            "80000\n",
            "90000\n",
            "100000\n",
            "110000\n",
            "120000\n",
            "130000\n",
            "140000\n",
            "150000\n",
            "160000\n",
            "170000\n",
            "180000\n",
            "190000\n",
            "200000\n",
            "210000\n",
            "220000\n",
            "230000\n",
            "240000\n",
            "======================= sample training data =======================\n",
            "# training samples : 501606\n",
            "======================= sample test data =======================\n",
            "# test samples : 3529\n",
            "# validation samples : 3529\n"
          ]
        },
        {
          "name": "stderr",
          "output_type": "stream",
          "text": [
            "/usr/local/lib/python3.7/dist-packages/ipykernel_launcher.py:154: VisibleDeprecationWarning: Creating an ndarray from ragged nested sequences (which is a list-or-tuple of lists-or-tuples-or ndarrays with different lengths or shapes) is deprecated. If you meant to do this, you must specify 'dtype=object' when creating the ndarray.\n",
            "/usr/local/lib/python3.7/dist-packages/ipykernel_launcher.py:155: VisibleDeprecationWarning: Creating an ndarray from ragged nested sequences (which is a list-or-tuple of lists-or-tuples-or ndarrays with different lengths or shapes) is deprecated. If you meant to do this, you must specify 'dtype=object' when creating the ndarray.\n"
          ]
        }
      ],
      "source": [
        "rec_dataset2 = dataset_init()"
      ]
    },
    {
      "cell_type": "code",
      "execution_count": null,
      "metadata": {
        "id": "9idRv-gsoHRD"
      },
      "outputs": [],
      "source": [
        "rec_dataset=rec_dataset2"
      ]
    },
    {
      "cell_type": "code",
      "execution_count": null,
      "metadata": {
        "id": "taAj1CnnK50V"
      },
      "outputs": [],
      "source": [
        "with open(os.path.join(save_path, dataset + \"_dataset_obj_4.pickle\"), 'rb') as inp:\n",
        "  rec_dataset = pickle.load(inp)"
      ]
    },
    {
      "cell_type": "code",
      "execution_count": null,
      "metadata": {
        "id": "L7B-OCKL37Sx"
      },
      "outputs": [],
      "source": [
        "Path(save_path).mkdir(parents=True, exist_ok=True)\n",
        "with open(os.path.join(save_path,dataset + \"_dataset_obj_4.pickle\"), 'wb') as outp:\n",
        "   pickle.dump(rec_dataset, outp, pickle.HIGHEST_PROTOCOL)"
      ]
    },
    {
      "cell_type": "code",
      "execution_count": null,
      "metadata": {
        "id": "stGgIm7nvgfs"
      },
      "outputs": [],
      "source": [
        "import matplotlib.pyplot as plt"
      ]
    },
    {
      "cell_type": "code",
      "execution_count": null,
      "metadata": {
        "colab": {
          "base_uri": "https://localhost:8080/"
        },
        "id": "U9lrz2vR708t",
        "outputId": "a31ba2a1-4209-4a24-d3e2-c8583813ad1b"
      },
      "outputs": [
        {
          "data": {
            "text/plain": [
              "array([[-1.4899749 ,  0.47077498, -0.22727573, ..., -0.1635441 ,\n",
              "         0.08686002, -0.21068434],\n",
              "       [-1.4898361 ,  0.46430883,  0.6331469 , ..., -0.13600901,\n",
              "         0.15316674, -0.24108018],\n",
              "       [-0.05029662,  0.17465161,  0.9212896 , ..., -0.13314569,\n",
              "         0.12223015, -0.25017524],\n",
              "       ...,\n",
              "       [-0.3525786 , -2.0562143 , -0.08716274, ..., -0.12038459,\n",
              "         0.18916178, -0.14250538],\n",
              "       [ 0.6115156 ,  0.22457992, -0.08720664, ..., -0.2311714 ,\n",
              "         0.26518103, -0.10811824],\n",
              "       [-1.473618  ,  0.49086747, -1.7680341 , ..., -0.24405138,\n",
              "         0.13527094, -0.25338197]], dtype=float32)"
            ]
          },
          "execution_count": 85,
          "metadata": {},
          "output_type": "execute_result"
        }
      ],
      "source": [
        "rec_dataset.user_feature_matrix"
      ]
    },
    {
      "cell_type": "code",
      "execution_count": null,
      "metadata": {
        "id": "Uf5ipZQi8Mey"
      },
      "outputs": [],
      "source": [
        "scaled_features"
      ]
    },
    {
      "cell_type": "code",
      "execution_count": null,
      "metadata": {
        "colab": {
          "base_uri": "https://localhost:8080/",
          "height": 1000
        },
        "id": "v2G66iinM9Os",
        "outputId": "6e6f1f11-ece6-43d3-a8a9-c180304bab8c"
      },
      "outputs": [
        {
          "name": "stdout",
          "output_type": "stream",
          "text": [
            "Using CUDA 0\n",
            "init ndcg: 0.16311022688263735\n"
          ]
        },
        {
          "name": "stderr",
          "output_type": "stream",
          "text": [
            "\r  0%|          | 0/22 [00:00<?, ?it/s]"
          ]
        },
        {
          "name": "stdout",
          "output_type": "stream",
          "text": [
            "epoch 0:  training loss:  0.3967634\n"
          ]
        },
        {
          "name": "stderr",
          "output_type": "stream",
          "text": [
            "\r  5%|▍         | 1/22 [00:25<09:02, 25.85s/it]"
          ]
        },
        {
          "name": "stdout",
          "output_type": "stream",
          "text": [
            "epoch 0:  training loss:  0.3967634 NDCG_validation:  0.5454711955027101\n",
            "epoch 1:  training loss:  0.25288904\n"
          ]
        },
        {
          "name": "stderr",
          "output_type": "stream",
          "text": [
            "\r  9%|▉         | 2/22 [00:52<08:44, 26.20s/it]"
          ]
        },
        {
          "name": "stdout",
          "output_type": "stream",
          "text": [
            "epoch 1:  training loss:  0.25288904 NDCG_validation:  0.804787930364194\n",
            "epoch 2:  training loss:  0.1900927\n"
          ]
        },
        {
          "name": "stderr",
          "output_type": "stream",
          "text": [
            "\r 14%|█▎        | 3/22 [01:18<08:15, 26.06s/it]"
          ]
        },
        {
          "name": "stdout",
          "output_type": "stream",
          "text": [
            "epoch 2:  training loss:  0.1900927 NDCG_validation:  0.8231034688662227\n",
            "epoch 3:  training loss:  0.1807823\n"
          ]
        },
        {
          "name": "stderr",
          "output_type": "stream",
          "text": [
            "\r 18%|█▊        | 4/22 [01:44<07:49, 26.07s/it]"
          ]
        },
        {
          "name": "stdout",
          "output_type": "stream",
          "text": [
            "epoch 3:  training loss:  0.1807823 NDCG_validation:  0.8309421841944629\n",
            "epoch 4:  training loss:  0.17468306\n"
          ]
        },
        {
          "name": "stderr",
          "output_type": "stream",
          "text": [
            "\r 23%|██▎       | 5/22 [02:10<07:22, 26.02s/it]"
          ]
        },
        {
          "name": "stdout",
          "output_type": "stream",
          "text": [
            "epoch 4:  training loss:  0.17468306 NDCG_validation:  0.8286381758944036\n",
            "epoch 5:  training loss:  0.16953677\n"
          ]
        },
        {
          "name": "stderr",
          "output_type": "stream",
          "text": [
            "\r 27%|██▋       | 6/22 [02:36<06:57, 26.08s/it]"
          ]
        },
        {
          "name": "stdout",
          "output_type": "stream",
          "text": [
            "epoch 5:  training loss:  0.16953677 NDCG_validation:  0.8409640772707002\n",
            "epoch 6:  training loss:  0.1652228\n"
          ]
        },
        {
          "name": "stderr",
          "output_type": "stream",
          "text": [
            "\r 32%|███▏      | 7/22 [03:02<06:31, 26.08s/it]"
          ]
        },
        {
          "name": "stdout",
          "output_type": "stream",
          "text": [
            "epoch 6:  training loss:  0.1652228 NDCG_validation:  0.8390778987295034\n",
            "epoch 7:  training loss:  0.1615061\n"
          ]
        },
        {
          "name": "stderr",
          "output_type": "stream",
          "text": [
            "\r 36%|███▋      | 8/22 [03:28<06:06, 26.15s/it]"
          ]
        },
        {
          "name": "stdout",
          "output_type": "stream",
          "text": [
            "epoch 7:  training loss:  0.1615061 NDCG_validation:  0.8423180374793421\n",
            "epoch 8:  training loss:  0.15789771\n"
          ]
        },
        {
          "name": "stderr",
          "output_type": "stream",
          "text": [
            "\r 41%|████      | 9/22 [03:54<05:39, 26.12s/it]"
          ]
        },
        {
          "name": "stdout",
          "output_type": "stream",
          "text": [
            "epoch 8:  training loss:  0.15789771 NDCG_validation:  0.8434100177580398\n",
            "epoch 9:  training loss:  0.15432347\n"
          ]
        },
        {
          "name": "stderr",
          "output_type": "stream",
          "text": [
            "\r 45%|████▌     | 10/22 [04:20<05:12, 26.07s/it]"
          ]
        },
        {
          "name": "stdout",
          "output_type": "stream",
          "text": [
            "epoch 9:  training loss:  0.15432347 NDCG_validation:  0.8448154849266041\n",
            "epoch 10:  training loss:  0.15097463\n"
          ]
        },
        {
          "name": "stderr",
          "output_type": "stream",
          "text": [
            "\r 50%|█████     | 11/22 [04:46<04:46, 26.05s/it]"
          ]
        },
        {
          "name": "stdout",
          "output_type": "stream",
          "text": [
            "epoch 10:  training loss:  0.15097463 NDCG_validation:  0.8431735335826406\n",
            "epoch 11:  training loss:  0.14771442\n"
          ]
        },
        {
          "name": "stderr",
          "output_type": "stream",
          "text": [
            "\r 55%|█████▍    | 12/22 [05:12<04:20, 26.02s/it]"
          ]
        },
        {
          "name": "stdout",
          "output_type": "stream",
          "text": [
            "epoch 11:  training loss:  0.14771442 NDCG_validation:  0.8523389124349636\n",
            "epoch 12:  training loss:  0.14496306\n"
          ]
        },
        {
          "name": "stderr",
          "output_type": "stream",
          "text": [
            "\r 59%|█████▉    | 13/22 [05:38<03:54, 26.03s/it]"
          ]
        },
        {
          "name": "stdout",
          "output_type": "stream",
          "text": [
            "epoch 12:  training loss:  0.14496306 NDCG_validation:  0.8500387312499634\n",
            "epoch 13:  training loss:  0.1418793\n"
          ]
        },
        {
          "name": "stderr",
          "output_type": "stream",
          "text": [
            "\r 64%|██████▎   | 14/22 [06:04<03:27, 25.98s/it]"
          ]
        },
        {
          "name": "stdout",
          "output_type": "stream",
          "text": [
            "epoch 13:  training loss:  0.1418793 NDCG_validation:  0.8533044318587265\n",
            "epoch 14:  training loss:  0.13923797\n"
          ]
        },
        {
          "name": "stderr",
          "output_type": "stream",
          "text": [
            "\r 68%|██████▊   | 15/22 [06:30<03:01, 25.94s/it]"
          ]
        },
        {
          "name": "stdout",
          "output_type": "stream",
          "text": [
            "epoch 14:  training loss:  0.13923797 NDCG_validation:  0.8509480513114538\n",
            "epoch 15:  training loss:  0.13619058\n"
          ]
        },
        {
          "name": "stderr",
          "output_type": "stream",
          "text": [
            "\r 73%|███████▎  | 16/22 [06:56<02:35, 25.99s/it]"
          ]
        },
        {
          "name": "stdout",
          "output_type": "stream",
          "text": [
            "epoch 15:  training loss:  0.13619058 NDCG_validation:  0.854539675512469\n",
            "epoch 16:  training loss:  0.133606\n"
          ]
        },
        {
          "name": "stderr",
          "output_type": "stream",
          "text": [
            "\r 77%|███████▋  | 17/22 [07:22<02:10, 26.02s/it]"
          ]
        },
        {
          "name": "stdout",
          "output_type": "stream",
          "text": [
            "epoch 16:  training loss:  0.133606 NDCG_validation:  0.8479162131348936\n",
            "epoch 17:  training loss:  0.13131182\n"
          ]
        },
        {
          "name": "stderr",
          "output_type": "stream",
          "text": [
            "\r 82%|████████▏ | 18/22 [07:48<01:44, 26.04s/it]"
          ]
        },
        {
          "name": "stdout",
          "output_type": "stream",
          "text": [
            "epoch 17:  training loss:  0.13131182 NDCG_validation:  0.8477339832847677\n",
            "epoch 18:  training loss:  0.12882565\n"
          ]
        },
        {
          "name": "stderr",
          "output_type": "stream",
          "text": [
            "\r 86%|████████▋ | 19/22 [08:14<01:18, 26.01s/it]"
          ]
        },
        {
          "name": "stdout",
          "output_type": "stream",
          "text": [
            "epoch 18:  training loss:  0.12882565 NDCG_validation:  0.8512338335358492\n",
            "epoch 19:  training loss:  0.12662627\n"
          ]
        },
        {
          "name": "stderr",
          "output_type": "stream",
          "text": [
            "\r 91%|█████████ | 20/22 [08:40<00:51, 25.98s/it]"
          ]
        },
        {
          "name": "stdout",
          "output_type": "stream",
          "text": [
            "epoch 19:  training loss:  0.12662627 NDCG_validation:  0.8515356458782996\n",
            "epoch 20:  training loss:  0.12457668\n"
          ]
        },
        {
          "name": "stderr",
          "output_type": "stream",
          "text": [
            "\r 95%|█████████▌| 21/22 [09:06<00:26, 26.01s/it]"
          ]
        },
        {
          "name": "stdout",
          "output_type": "stream",
          "text": [
            "epoch 20:  training loss:  0.12457668 NDCG_validation:  0.8472102978098132\n",
            "epoch 21:  training loss:  0.122316115\n"
          ]
        },
        {
          "name": "stderr",
          "output_type": "stream",
          "text": [
            "100%|██████████| 22/22 [09:32<00:00, 26.04s/it]"
          ]
        },
        {
          "name": "stdout",
          "output_type": "stream",
          "text": [
            "epoch 21:  training loss:  0.122316115 NDCG_validation:  0.8493906024855752\n"
          ]
        },
        {
          "name": "stderr",
          "output_type": "stream",
          "text": [
            "\n"
          ]
        },
        {
          "name": "stdout",
          "output_type": "stream",
          "text": [
            "\n",
            "ndcg_test:  0.8499315854222439\n"
          ]
        },
        {
          "data": {
            "image/png": "[encoded data removed]",
            "text/plain": [
              "<Figure size 432x288 with 1 Axes>"
            ]
          },
          "metadata": {},
          "output_type": "display_data"
        }
      ],
      "source": [
        "def train_base_recommendation():\n",
        "    losses_all=[]\n",
        "    ndcgs=[]\n",
        "    if gpu:\n",
        "        device = torch.device('cuda:%s' % cuda)\n",
        "    else:\n",
        "        device = 'cpu'\n",
        "    # Path(save_path).mkdir(parents=True, exist_ok=True)\n",
        "    # with open(os.path.join(save_path,dataset + \"_dataset_obj.pickle\"), 'wb') as outp:\n",
        "    #     pickle.dump(rec_dataset, outp, pickle.HIGHEST_PROTOCOL)\n",
        "\n",
        "    train_loader = DataLoader(dataset=UserItemInterDataset(rec_dataset.training_data, \n",
        "                                rec_dataset.user_feature_matrix, \n",
        "                                rec_dataset.item_feature_matrix),\n",
        "                          batch_size=64,\n",
        "                          shuffle=True)\n",
        "    model = BaseRecModel(len(rec_dataset.features)+768).to(device)\n",
        "    loss_fn = torch.nn.BCELoss()\n",
        "    optimizer = torch.optim.SGD(model.parameters(), lr=lr, weight_decay=weight_decay)\n",
        "\n",
        "    out_path = os.path.join(\"./logs\", dataset + \"_logs\")\n",
        "    Path(out_path).mkdir(parents=True, exist_ok=True)\n",
        "    \n",
        "    ndcg = compute_ndcg(rec_dataset.validation_data, \n",
        "            rec_dataset.user_feature_matrix, \n",
        "            rec_dataset.item_feature_matrix, \n",
        "            rec_k, \n",
        "            model, \n",
        "            device)\n",
        "    print('init ndcg:', ndcg)\n",
        "    for epoch in tqdm.trange(epochs):\n",
        "        model.train()\n",
        "        optimizer.zero_grad()\n",
        "        losses = []\n",
        "        # print(len(train_loader))\n",
        "        for user_behaviour_feature, item_aspect_feature, label in train_loader:\n",
        "            user_behaviour_feature = user_behaviour_feature.to(device)\n",
        "            item_aspect_feature = item_aspect_feature.to(device)\n",
        "            label = label.float().to(device)\n",
        "            out = model(user_behaviour_feature, item_aspect_feature).squeeze()\n",
        "            # print(out)\n",
        "            if len(out.size())==0:\n",
        "              continue\n",
        "            # print(user_behaviour_feature)\n",
        "            # print( item_aspect_feature)\n",
        "            loss = loss_fn(out, label)\n",
        "            loss.backward()\n",
        "            optimizer.step()\n",
        "            optimizer.zero_grad()\n",
        "            losses.append(loss.to('cpu').detach().numpy())\n",
        "            ave_train = np.mean(np.array(losses))\n",
        "            losses_all.append(ave_train)\n",
        "        print('epoch %d: ' % epoch, 'training loss: ', ave_train)\n",
        "      \n",
        "        # compute necg\n",
        "        if epoch % 1 == 0:\n",
        "            ndcg = compute_ndcg(rec_dataset.validation_data, \n",
        "            rec_dataset.user_feature_matrix, \n",
        "            rec_dataset.item_feature_matrix, \n",
        "            rec_k, \n",
        "            model, \n",
        "            device)\n",
        "            print('epoch %d: ' % epoch, 'training loss: ', ave_train, 'NDCG_validation: ', ndcg)\n",
        "\n",
        "            ndcgs.append(ndcg)\n",
        "    torch.save(model.state_dict(), os.path.join(save_path, \"model3.model\"))\n",
        "    ndcg_test = compute_ndcg(rec_dataset.test_data, \n",
        "            rec_dataset.user_feature_matrix, \n",
        "            rec_dataset.item_feature_matrix, \n",
        "            rec_k, \n",
        "            model, \n",
        "            device)\n",
        "    print('\\nndcg_test: ',ndcg_test)\n",
        "    # plt.xlabel('iterations')\n",
        "    # plt.ylabel('train_loss')\n",
        "    # plt.xticks(np.arange(0,len(losses_all),100))\n",
        "    # plt.plot(np.arange(0,len(losses_all)),losses_all)\n",
        "    # plt.show()\n",
        "\n",
        "    plt.xlabel('iterations')\n",
        "    plt.ylabel('validation_ndcg')\n",
        "    plt.xticks(np.arange(-2,len(ndcgs)+2,2))\n",
        "    plt.plot(np.arange(1,len(ndcgs)+1),ndcgs)\n",
        "    plt.show()\n",
        "    return rec_dataset\n",
        "\n",
        "\n",
        "if __name__ == \"__main__\":\n",
        "    torch.manual_seed(0)\n",
        "    np.random.seed(0)\n",
        "    if gpu:\n",
        "        os.environ[\"CUDA_VISIBLE_DEVICES\"] =cuda\n",
        "        print(\"Using CUDA\",cuda)\n",
        "    else:\n",
        "        print(\"Using CPU\")\n",
        "    rec_dataset=train_base_recommendation()"
      ]
    },
    {
      "cell_type": "markdown",
      "metadata": {
        "id": "GU5-lgWiKDV-"
      },
      "source": [
        "# Save Train and Test Data To File"
      ]
    },
    {
      "cell_type": "code",
      "execution_count": null,
      "metadata": {
        "id": "8XM1V8Hhskut"
      },
      "outputs": [],
      "source": [
        "training_data=[]\n",
        "for train_data in rec_dataset.training_data:\n",
        "  user=train_data[0]\n",
        "  item=train_data[1]\n",
        "  label=train_data[2]\n",
        "  user_id=rec_dataset.inv_user_name_dict[user]\n",
        "  item_id=rec_dataset.inv_item_name_dict[item]\n",
        "  training_data.append([user_id,item_id,label])"
      ]
    },
    {
      "cell_type": "code",
      "execution_count": null,
      "metadata": {
        "id": "htzdic-Y5qdN"
      },
      "outputs": [],
      "source": [
        "np.savetxt('training_data_2.txt', training_data, fmt='%s')\n",
        "b = np.loadtxt('training_data_2.txt',dtype=str)"
      ]
    },
    {
      "cell_type": "code",
      "execution_count": null,
      "metadata": {
        "id": "z63k8gEo-Cio"
      },
      "outputs": [],
      "source": [
        "import pickle\n",
        "pet_stats = {'name':\"\", 'int':1, 'bool':False}\n",
        "\n",
        "def pet_save(pet,name):\n",
        "    with open('{}_data_2.pickle'.format(name), 'wb') as f:\n",
        "        pickle.dump(pet, f, pickle.HIGHEST_PROTOCOL)\n",
        "\n",
        "def digimon_load():\n",
        "    with open('test_data.pickle', 'rb') as f:\n",
        "        return pickle.load(f)"
      ]
    },
    {
      "cell_type": "code",
      "execution_count": null,
      "metadata": {
        "id": "oEWe8RSEtkNV"
      },
      "outputs": [],
      "source": [
        "testing_data={}\n",
        "for ts_data in rec_dataset.test_data:\n",
        "  user=ts_data[0]\n",
        "  items=ts_data[1]\n",
        "  labels=ts_data[2]\n",
        "  # print(user , item, label)\n",
        "  user_id=rec_dataset.inv_user_name_dict[user]\n",
        "  items_id=[rec_dataset.inv_item_name_dict[item] for item in items]\n",
        "  testing_data[user_id]=[items_id,labels]"
      ]
    },
    {
      "cell_type": "code",
      "execution_count": null,
      "metadata": {
        "id": "fET26ltJwksQ"
      },
      "outputs": [],
      "source": [
        "pet_save(testing_data,'test')"
      ]
    },
    {
      "cell_type": "code",
      "execution_count": null,
      "metadata": {
        "id": "jfuHtKLav-kE"
      },
      "outputs": [],
      "source": [
        "validation_data={}\n",
        "for ts_data in rec_dataset.validation_data:\n",
        "  user=ts_data[0]\n",
        "  items=ts_data[1]\n",
        "  labels=ts_data[2]\n",
        "  # print(user , item, label)\n",
        "  user_id=rec_dataset.inv_user_name_dict[user]\n",
        "  items_id=[rec_dataset.inv_item_name_dict[item] for item in items]\n",
        "  validation_data[user_id]=[items_id,labels]"
      ]
    },
    {
      "cell_type": "code",
      "execution_count": null,
      "metadata": {
        "id": "EdpaQHRWwGVX"
      },
      "outputs": [],
      "source": [
        "pet_save(validation_data,'validation')"
      ]
    },
    {
      "cell_type": "markdown",
      "metadata": {
        "id": "u0lgiQZ-KKDy"
      },
      "source": [
        "# Generate Explanations"
      ]
    },
    {
      "cell_type": "code",
      "execution_count": null,
      "metadata": {
        "id": "4ucRyXRT4mzb"
      },
      "outputs": [],
      "source": [
        "dataset=\"yelp\"\n",
        "base_model_path=\"/content/drive/Shareddrives/Unlimited Drive | @LicenseMarket/Recommender/Yelp/\"\n",
        "gpu=True\n",
        "cuda='0'\n",
        "data_obj_path=\"/content/drive/Shareddrives/Unlimited Drive | @LicenseMarket/Recommender/Yelp/\"\n",
        "rec_k=5\n",
        "lam=100\n",
        "gam=0.5\n",
        "alp=0.2\n",
        "user_mask=False\n",
        "lr=0.4\n",
        "step=500\n",
        "mask_thresh=0.3\n",
        "test_num=-1\n",
        "# save_path=\"./explanation_objs/\""
      ]
    },
    {
      "cell_type": "code",
      "execution_count": null,
      "metadata": {
        "id": "snwXLWLePEmC"
      },
      "outputs": [],
      "source": [
        "import torch\n",
        "import pickle\n",
        "import os\n",
        "from pathlib import Path"
      ]
    },
    {
      "cell_type": "markdown",
      "metadata": {
        "id": "IC_P_74iOR-T"
      },
      "source": [
        "# User Perspective Features"
      ]
    },
    {
      "cell_type": "code",
      "execution_count": null,
      "metadata": {
        "id": "j03L6H5PA4bK"
      },
      "outputs": [],
      "source": [
        "import json\n",
        "import nltk"
      ]
    },
    {
      "cell_type": "code",
      "execution_count": null,
      "metadata": {
        "colab": {
          "base_uri": "https://localhost:8080/"
        },
        "id": "o93FnpHX60cX",
        "outputId": "88bfee6e-3668-4b85-952e-975b334e5d3f"
      },
      "outputs": [
        {
          "output_type": "stream",
          "name": "stderr",
          "text": [
            "[nltk_data] Downloading package wordnet to /root/nltk_data...\n",
            "[nltk_data] Downloading package stopwords to /root/nltk_data...\n",
            "[nltk_data]   Unzipping corpora/stopwords.zip.\n",
            "[nltk_data] Downloading package punkt to /root/nltk_data...\n",
            "[nltk_data]   Unzipping tokenizers/punkt.zip.\n",
            "[nltk_data] Downloading package averaged_perceptron_tagger to\n",
            "[nltk_data]     /root/nltk_data...\n",
            "[nltk_data]   Unzipping taggers/averaged_perceptron_tagger.zip.\n"
          ]
        }
      ],
      "source": [
        "nltk.download('wordnet')\n",
        "nltk.download('stopwords')\n",
        "nltk.download('punkt')\n",
        "nltk.download('averaged_perceptron_tagger')\n",
        "def lemmatization(text):\n",
        "    result=''\n",
        "    wordnet = WordNetLemmatizer()\n",
        "    for token,tag in pos_tag(text):\n",
        "        pos=tag[0].lower()\n",
        "        if pos not in ['a', 'r', 'n', 'v']:\n",
        "            pos='n'\n",
        "        # if pos in ['n','a']:   \n",
        "        result+=wordnet.lemmatize(token,pos)+' '\n",
        "    return result\n",
        "def remove_stopwords(text):\n",
        "    en_stopwords = stopwords.words('english')\n",
        "    en_stopwords+=['may','could','that','without','iii','with','and','This','That','Those','These','the','The','brbr','so','it','such']\n",
        "    result = []\n",
        "    for token in text:\n",
        "        if token not in en_stopwords:\n",
        "            result.append(token)\n",
        "            \n",
        "    return result\n",
        "def remove_punct(text):\n",
        "    tokenizer = RegexpTokenizer(r\"\\w+\")\n",
        "    lst=tokenizer.tokenize(' '.join(text))\n",
        "    return lst\n",
        "\n",
        "def remove_tag(text):\n",
        "    text=' '.join(text)\n",
        "    html_pattern = re.compile('<.*?>')\n",
        "    return html_pattern.sub(r'', text)\n",
        "def remove_urls(text):\n",
        "    url_pattern = re.compile(r'https?://\\S+|www\\.\\S+')\n",
        "    return url_pattern.sub(r'', text)\n",
        "\n",
        "def preprocess(text):\n",
        "  chars=['&','%','#','@','^','>','<','\\n','\\\\','\\t',';','\"','/']\n",
        "  stwords=stopwords.words('english')\n",
        "  for ch in chars:\n",
        "    text=text.replace(ch,' ')\n",
        "  text=\" \".join(text.split())\n",
        "  # text=text.lower()\n",
        "  text_tokenized=word_tokenize(text)\n",
        "  cleaned_text= remove_stopwords(text_tokenized)\n",
        "  cleaned_text= remove_punct(cleaned_text)\n",
        "  # cleaned_text=lemmatization(cleaned_text)\n",
        "  cleaned_text=remove_tag(cleaned_text)\n",
        "  cleaned_text=remove_urls(cleaned_text)\n",
        "  cleaned_text=''.join([i for i in cleaned_text ])\n",
        "  cleaned_text=[word for word in cleaned_text.split(' ') if len(word)>1]\n",
        "  # print(cleaned_text)\n",
        "  return ' '.join(cleaned_text)"
      ]
    },
    {
      "cell_type": "code",
      "execution_count": null,
      "metadata": {
        "id": "NtlEHpkN-lCe"
      },
      "outputs": [],
      "source": [
        "def preprocess_text_first(text):\n",
        "  while '<' in text and '>' in text and text.index('<')<text.index('>'):\n",
        "    toRemove=text[int(text.index('<')):int(text.index('>'))]+'>'\n",
        "    text=text.replace(toRemove,' ')\n",
        "  list_to_replace=['mso','gte','xml','false','#',',','!','-','\\'','\\\"','[',']','/','\\\\n','\\\\','span','a-size-base','a-color-secondary','input type','header name','value','=','<a href= javascript:void(0) class= ','{','}','class=','header','<a href= javascript:void(0)','<','>','href',')','(',';','quot','&',':','javascript']\n",
        "  for char in list_to_replace:\n",
        "    text=text.replace(char,' ')\n",
        "  for i in range(15):\n",
        "    text=text.replace('  ',' ')\n",
        "  # while 'if' in text and 'endif' in text and text.index('if')<text.index('endif'):\n",
        "  #   # print(int(text.index('if')),int(text.index('endif')))\n",
        "  #   toRemove=text[int(text.index('if')):int(text.index('endif'))]+'endif'\n",
        "  #   text=text.replace(toRemove,' ')\n",
        "  new_text=''\n",
        "  for word in text.split(' '):\n",
        "    if len(word)>1 and len(word)<35:\n",
        "      new_text+=word+' '\n",
        "  # new_text=lemmatization(new_text)\n",
        "  # print(new_text)\n",
        "  return new_text"
      ]
    },
    {
      "cell_type": "code",
      "execution_count": null,
      "metadata": {
        "colab": {
          "base_uri": "https://localhost:8080/"
        },
        "id": "dQRrvFS4cifS",
        "outputId": "99a8775d-322c-4339-f0a7-344859a91ca2"
      },
      "outputs": [
        {
          "output_type": "stream",
          "name": "stdout",
          "text": [
            "0\n",
            "100000\n",
            "200000\n",
            "300000\n",
            "400000\n",
            "500000\n",
            "1Xw_npZXLcsWBvlLYCiW_A fKrmWy4GFsrgdOYhN9pyZA\n",
            "600000\n",
            "700000\n",
            "800000\n",
            "900000\n",
            "1000000\n",
            "1100000\n",
            "1200000\n",
            "1300000\n"
          ]
        }
      ],
      "source": [
        "items_list1=[]\n",
        "users_list=[]\n",
        "review_features={}\n",
        "f=open(save_path+'Yelp')\n",
        "lines=f.readlines()\n",
        "i=0\n",
        "for line in lines:\n",
        "  if i%100000==0:\n",
        "    print(i)\n",
        "  i+=1\n",
        "  user_id = line.split('@')[0]\n",
        "  item_id = line.split('@')[1]\n",
        "  # if item_id in items_list:\n",
        "  users_list.append(user_id)\n",
        "  items_list1.append(item_id)\n",
        "  l = len(user_id) + len(item_id)\n",
        "  fosr_data = line[l+3:]\n",
        "  for seg in fosr_data.split('||'):\n",
        "    if (user_id,item_id) not in review_features.keys():\n",
        "      review_features[(user_id,item_id)]=[]\n",
        "    fos = seg.split(':')[0].strip('|')\n",
        "    if len(fos.split('|')) > 1:\n",
        "          feature = fos.split('|')[0]\n",
        "          opinion = fos.split('|')[1]\n",
        "          sentiment = fos.split('|')[2]\n",
        "          sentence= seg.split(':')[1]\n",
        "          if sentiment=='+1':\n",
        "            senti=1\n",
        "          else:\n",
        "            senti=-1\n",
        "          review_features[(user_id,item_id)].append([feature,opinion,senti,sentence])\n",
        "    else:\n",
        "      print(user_id,item_id)"
      ]
    },
    {
      "cell_type": "code",
      "execution_count": null,
      "metadata": {
        "colab": {
          "base_uri": "https://localhost:8080/"
        },
        "id": "0mMqEqC-0iaf",
        "outputId": "fd2a37c8-b6e3-4ead-ef08-aea1bb4ef554"
      },
      "outputs": [
        {
          "output_type": "stream",
          "name": "stdout",
          "text": [
            "1130440\n"
          ]
        }
      ],
      "source": [
        "print(len(review_features))"
      ]
    },
    {
      "cell_type": "code",
      "source": [
        "review_features[('nlReKgQoRz6uPfVaEG93mw','tU692E8N0xBQ7Ogc78gN2g')]"
      ],
      "metadata": {
        "colab": {
          "base_uri": "https://localhost:8080/"
        },
        "id": "DrbSvEbv-rUB",
        "outputId": "5612a8c9-1248-48bc-93a9-3146abd0b95c"
      },
      "execution_count": null,
      "outputs": [
        {
          "output_type": "execute_result",
          "data": {
            "text/plain": [
              "[['place',\n",
              "  'awesome',\n",
              "  1,\n",
              "  \"It's an awesome place to drop in and eat or get something to go\\n\"]]"
            ]
          },
          "metadata": {},
          "execution_count": 105
        }
      ]
    },
    {
      "cell_type": "code",
      "source": [
        "tip_df[tip_df['business_id']=='0vTc7-wiDBDKKmGvC0EzFg']"
      ],
      "metadata": {
        "id": "lLCd3q3CHxXm"
      },
      "execution_count": null,
      "outputs": []
    },
    {
      "cell_type": "code",
      "execution_count": null,
      "metadata": {
        "colab": {
          "base_uri": "https://localhost:8080/"
        },
        "id": "Vqg-cDlQFqIx",
        "outputId": "6f9960f2-6f35-4460-c381-f9b3672e2faa"
      },
      "outputs": [
        {
          "output_type": "stream",
          "name": "stdout",
          "text": [
            "0\n",
            "50000\n",
            "100000\n",
            "150000\n",
            "200000\n",
            "250000\n",
            "300000\n",
            "350000\n",
            "400000\n",
            "450000\n",
            "500000\n",
            "550000\n",
            "600000\n",
            "650000\n",
            "700000\n",
            "750000\n",
            "800000\n",
            "850000\n",
            "900000\n",
            "950000\n",
            "1000000\n",
            "1050000\n",
            "1100000\n"
          ]
        }
      ],
      "source": [
        "user_test_perspective={}\n",
        "i=0\n",
        "for (user_id , item_id) in review_features.keys():\n",
        "  review_feature=review_features[(user_id,item_id)]\n",
        "  if i%50000==0:\n",
        "    print(i)\n",
        "  i+=1\n",
        "  for features in review_feature:\n",
        "    sentence=features[3]\n",
        "    sentence=preprocess_text_first(sentence)\n",
        "    sentence=preprocess(sentence).lower()\n",
        "    if (user_id , item_id) not in user_test_perspective.keys():\n",
        "      final_vect=[]\n",
        "    final_vect+=sentence.split(' ')\n",
        "    for word in sentence.split(' '):\n",
        "      # tokens=list(set(df_words[df_words['word']==word]['tokenized'].values))\n",
        "      # for token in tokens:\n",
        "        final_vect+=word.split(' ')\n",
        "    final_vect=list(set(final_vect))\n",
        "    new_final_vect=[]\n",
        "    for word in final_vect:\n",
        "      if len(word)>1:\n",
        "        new_final_vect.append(word)\n",
        "    user_test_perspective[(user_id , item_id)]=new_final_vect"
      ]
    },
    {
      "cell_type": "markdown",
      "source": [
        "# Train Explanation Generation model..."
      ],
      "metadata": {
        "id": "e0mmTuO3K_ew"
      }
    },
    {
      "cell_type": "code",
      "execution_count": null,
      "metadata": {
        "id": "Bp4cMNYcPIFm"
      },
      "outputs": [],
      "source": [
        "temp_min =1.0\n",
        "ANNEAL_RATE = 0.00003\n",
        "class ExpOptimizationModel(torch.nn.Module):\n",
        "    def __init__(self, base_model, rec_dataset, device):\n",
        "        super(ExpOptimizationModel, self).__init__()\n",
        "        self.base_model = base_model\n",
        "        self.rec_dataset = rec_dataset\n",
        "        self.device = device\n",
        "        self.u_i_exp_dict = {}  # {(user, item): [f1, f2, f3 ...], ...}\n",
        "        self.user_feature_matrix = torch.from_numpy(self.rec_dataset.user_feature_matrix).to(self.device)\n",
        "        self.item_feature_matrix = torch.from_numpy(self.rec_dataset.item_feature_matrix).to(self.device)\n",
        "        self.rec_dict, self.user_perspective_test_data = self.generate_rec_dict()\n",
        "        self.dict_items_cf_feature={}\n",
        "\n",
        "    def generate_rec_dict(self):\n",
        "        rec_dict = {}\n",
        "        correct_rec_dict = {}  # used for user-side evaluation\n",
        "        for row in self.rec_dataset.test_data:\n",
        "            user = row[0]\n",
        "            items = row[1]\n",
        "            labels = row[2]\n",
        "            # items1=[]\n",
        "            # labels1=[]\n",
        "            user_id=rec_dataset.inv_user_name_dict[user]\n",
        "            for j in range(len(items)):\n",
        "                item=items[j]\n",
        "                label=labels[j]\n",
        "                item_id=rec_dataset.inv_item_name_dict[item]    \n",
        "                # if (user_id,item_id) in user_test_perspective.keys():\n",
        "                #   items1.append(item)\n",
        "                #   labels1.append(label)\n",
        "            correct_rec_dict[user] = []\n",
        "            user_features = self.user_feature_matrix[user].repeat(len(items), 1)\n",
        "            scores = self.base_model(user_features,\n",
        "                        self.item_feature_matrix[items]).squeeze()\n",
        "            scores = np.array(scores.to('cpu'))\n",
        "            # print(scores)\n",
        "            sort_index = sorted(range(len(scores)), key=lambda k: scores[k], reverse=True)\n",
        "            \n",
        "            sorted_items = [items[i] for i in sort_index]\n",
        "            # print(sorted_items)\n",
        "            # print(np.sort(scores))\n",
        "            rec_dict[user] = sorted_items\n",
        "            for i in range(rec_k):  # find the correct items and add to the user side test data\n",
        "                # print(len(labels1))\n",
        "                # print(len(labels))\n",
        "                # print(sort_index[i])\n",
        "                if labels[sort_index[i]] == 1:\n",
        "                    correct_rec_dict[user].append(items[sort_index[i]])\n",
        "\n",
        "        user_perspective_test_data = {}  # {(u, i):f, (u, i): f]}\n",
        "        # for user, items in correct_rec_dict.items():\n",
        "        #     for item in items:\n",
        "        #         user_id=rec_dataset.inv_user_name_dict[user]\n",
        "        #         item_id=rec_dataset.inv_item_name_dict[item]\n",
        "        #         if (user_id,item_id) in user_test_perspective.keys():\n",
        "        #           feature = user_test_perspective[(user_id, item_id)]\n",
        "        #           user_perspective_test_data[(user, item)] = feature\n",
        "        return rec_dict, user_perspective_test_data\n",
        "    def user_side_evaluation(self):\n",
        "        ave_pre, ave_rec, ave_f1 = evaluate_user_perspective(self.user_perspective_test_data, self.u_i_exp_dict)\n",
        "        print('user\\'s perspective:')\n",
        "        print('ave pre: ', ave_pre, '  ave rec: ', ave_rec, '  ave f1: ', ave_f1)\n",
        "        return ave_pre,ave_rec,ave_f1\n",
        "    \n",
        "    def model_side_evaluation(self):\n",
        "        ave_pn, ave_ps, ave_fns = evaluate_model_perspective(\n",
        "            self.rec_dict,\n",
        "            self.u_i_exp_dict,\n",
        "            self.base_model,\n",
        "            self.rec_dataset.user_feature_matrix,\n",
        "            self.rec_dataset.item_feature_matrix,\n",
        "            rec_k,\n",
        "            self.dict_items_cf_feature,\n",
        "            self.device)\n",
        "        print('model\\'s perspective:')\n",
        "        print('ave PN: ', ave_pn, '  ave PS: ', ave_ps, '  ave F_{NS}: ', ave_fns)  \n",
        "        return ave_pn , ave_ps , ave_fns\n",
        "    def generate_explanation(self,lr,temp,a,b,c):\n",
        "        # u_i_exps_dict = {}  # {(user, item): [f1, f2, f3 ...], ...}\n",
        "        exp_nums = []\n",
        "        exp_complexities = []\n",
        "        self.no_exp_count = 0\n",
        "        self.exp_count=0\n",
        "        if test_num == -1:\n",
        "            test_num1 = len(list(self.rec_dict.items()))\n",
        "        else:\n",
        "            test_num1 = test_num\n",
        "        count=0\n",
        "        for user, items in tqdm.tqdm(list(self.rec_dict.items())[:5]):\n",
        "            count+=1\n",
        "            # if count<200:\n",
        "            #   continue\n",
        "            # if count==2:\n",
        "            #   break\n",
        "            items = self.rec_dict[user]\n",
        "            margin_item = items[rec_k]\n",
        "            margin_score = self.base_model(self.user_feature_matrix[user].unsqueeze(0), \n",
        "                            self.item_feature_matrix[margin_item].unsqueeze(0)).squeeze()\n",
        "            # print('margin_score:',margin_score)\n",
        "            # if user_mask:\n",
        "            #     # mask_vec = self.generate_mask(user)\n",
        "            #     mask_vec = torch.where(self.user_feature_matrix[user]>0, 1., 0.).unsqueeze(0)  # only choose exps from the user cared aspects\n",
        "            # else:\n",
        "                \n",
        "            for item in items[: rec_k]:\n",
        "                item_id=rec_dataset.inv_item_name_dict[item]\n",
        "                # print(item_id)\n",
        "                \n",
        "                main_score = self.base_model(self.user_feature_matrix[user].unsqueeze(0), \n",
        "                            self.item_feature_matrix[item].unsqueeze(0)).squeeze()\n",
        "                # print('main_score:',main_score)\n",
        "                # print(self.item_feature_matrix[item])\n",
        "                # tensor_vect_desc,tensor_vect_title,tensor_vect_feature=get_tensor_vects(item_id)\n",
        "                # self.dict_items_cf_feature[item]=(tensor_vect_desc,tensor_vect_title,tensor_vect_feature)\n",
        "                # print(tensor_vect_desc.shape)\n",
        "                # print(tensor_vect_title.shape)\n",
        "                # print(tensor_vect_feature.shape)\n",
        "                explanation_features,exp_num = self.explain(user,item,\n",
        "                    self.user_feature_matrix[user], \n",
        "                    self.item_feature_matrix[item], \n",
        "                    margin_score,\n",
        "                    lr, temp,a,b,c)\n",
        "                # or (len(explanation_features[0][0])<3 and len(explanation_features[2][0])==0)\n",
        "                if explanation_features==None or len(explanation_features)==0 :\n",
        "                    # print('no explanation for user %d and item %d' % (user, item))\n",
        "                    self.no_exp_count += 1\n",
        "                else:\n",
        "                    self.exp_count+=1\n",
        "                    self.u_i_exp_dict[(user, item)] = explanation_features\n",
        "                    # print(explanation_features_words)\n",
        "                    exp_nums.append(exp_num)\n",
        "                    # exp_complexities.append(exp_complexity)\n",
        "            # if count%500==0:\n",
        "            #   json1 = json.dumps(self.u_i_exp_dict)\n",
        "            #   f = open(\"drive/MyDrive/ranjbar/dict{}.json\".format(count),\"w\")\n",
        "            #   f.write(json1)\n",
        "            #   f.close()\n",
        "\n",
        "              \n",
        "        print('ave num: ', np.mean(exp_nums),  'no_exp_count: ', self.no_exp_count, 'exp_count: ', self.exp_count)\n",
        "        return  np.mean(exp_nums), self.no_exp_count,  self.exp_count\n",
        "    \n",
        "    def explain(self,user,item, user_feature, item_feature, margin_score, lr, temp,a, b, c):\n",
        "        self.exp_generator = EXPGenerator(\n",
        "            self.rec_dataset, \n",
        "            self.base_model, \n",
        "            user_feature, \n",
        "            item_feature, \n",
        "            user,\n",
        "            item,\n",
        "            margin_score,\n",
        "            self.device).to(self.device)\n",
        "        # optimization\n",
        "        optimizer = torch.optim.SGD(self.exp_generator.parameters(), lr=lr, weight_decay=0)\n",
        "        self.exp_generator.train()\n",
        "        lowest_loss = None\n",
        "        lowest_bpr = None\n",
        "        optimized_pi1= None\n",
        "        optimized_pi2= None\n",
        "        optimized_pi3= None\n",
        "        optimized_delta= None\n",
        "        explanation_features_words_replaced=[]\n",
        "        # temp=1.0\n",
        "        score = self.exp_generator(temp)\n",
        "        # print(score)\n",
        "        bpr, l11,l12,l13,l14,l15,l2,main_loss = self.exp_generator.loss(a,b,c,score)\n",
        "        # print('init: ', 0, '  train loss: ', loss, '  bpr: ', bpr, '  l2: ', l2, '  l1: ', l1)\n",
        "        lowest_loss = main_loss\n",
        "        lowest_bpr=bpr\n",
        "        optimize_pi1 = self.exp_generator.pi1\n",
        "        optimize_pi2 = self.exp_generator.pi2\n",
        "        optimize_pi3 = self.exp_generator.pi3\n",
        "        optimize_delta = self.exp_generator.delta\n",
        "\n",
        "        for epoch in range(step):\n",
        "            self.exp_generator.zero_grad()\n",
        "            score = self.exp_generator(temp)\n",
        "            bpr, l11,l12,l13,l14,l15,l2,main_loss = self.exp_generator.loss(a,b,c,score)\n",
        "            if epoch %10==0:\n",
        "               temp = np.minimum(temp * np.exp(-ANNEAL_RATE * epoch), temp)\n",
        "            # if epoch %100 == 0:\n",
        "            #    print(\n",
        "            #         'temp',temp,\n",
        "            #         'epoch', epoch,\n",
        "            #         'bpr: ', bpr,\n",
        "            #         'loss', main_loss,\n",
        "            #          'l11',l11,\n",
        "            #          'l12',l12,\n",
        "            #          'l13',l13,\n",
        "            #          'l14',l14,\n",
        "            #          'l15',l15,\n",
        "            #          'l2',l2\n",
        "            #          )\n",
        "\n",
        "            main_loss.backward(retain_graph=True)\n",
        "            # bpr.backward(retain_graph=True)\n",
        "            # l1.backward(retain_graph=True)\n",
        "\n",
        "            optimizer.step()\n",
        "            if main_loss < lowest_loss:\n",
        "                lowest_loss = main_loss\n",
        "                lowest_bpr = bpr\n",
        "                optimize_pi1 = self.exp_generator.pi1\n",
        "                optimize_pi2 = self.exp_generator.pi2\n",
        "                optimize_pi3 = self.exp_generator.pi3\n",
        "                optimize_delta = self.exp_generator.delta\n",
        "        # print(lowest_bpr)\n",
        "        # print(lam * alp)\n",
        "        # print(optimize_delta)\n",
        "        if lowest_bpr >= a * alp:\n",
        "            explanation_features_continues = None \n",
        "            exp_num = None\n",
        "            exp_complexity = None\n",
        "            explanation_features=None\n",
        "            explanation_features_replaced=None\n",
        "        else:\n",
        "            # optimize_delta = self.exp_generator.delta.detach().to('cpu').numpy()\n",
        "            # print(optimize_delta)\n",
        "            new_features_not_scaled=[]\n",
        "            item_feature1 = torch.clamp(\n",
        "            (self.exp_generator.continues_features_values[0] +torch.clamp(optimize_delta[0],-0.0001,0.0001)),\n",
        "             torch.tensor(self.exp_generator.min_feature1).to(device), torch.tensor(self.exp_generator.max_feature1).to(device))\n",
        "            item_feature2 = torch.clamp(\n",
        "            (self.exp_generator.continues_features_values[1] +torch.clamp(optimize_delta[1],-0.0001,0.0001)),\n",
        "             torch.tensor(self.exp_generator.min_feature2).to(device), torch.tensor(self.exp_generator.max_feature2).to(device))\n",
        "            \n",
        "            # explanation_features = np.argwhere(np.abs(optimize_delta.detach().to('cpu').numpy()) > 0.00001 ).squeeze(axis=1)\n",
        "            # print(explanation_features)\n",
        "            # print(self.exp_generator.main_pi1.shape)\n",
        "            # print(torch.argmax(self.exp_generator.main_pi1,axis=1))\n",
        "            # print(torch.argmax(self.exp_generator.main_pi1,axis=1))\n",
        "            # print(self.exp_generator.main_pi1)\n",
        "            # print(optimize_pi1)\n",
        "\n",
        "            features_inds1=torch.argmax(self.exp_generator.main_pi1,axis=1)\n",
        "            new_features_inds1=torch.argmax(optimize_pi1,axis=1)\n",
        "\n",
        "            # features_inds2=torch.argmax(self.exp_generator.main_pi2,axis=1)\n",
        "            # new_features_inds2=torch.argmax(optimize_pi2,axis=1)\n",
        "\n",
        "            features_inds2=torch.argmax(self.exp_generator.main_pi2,axis=1)\n",
        "            new_features_inds2=torch.argmax(optimize_pi2,axis=1)\n",
        "            # print(self.exp_generator.main_pi1)\n",
        "            # print(optimize_pi1)\n",
        "            inds1=torch.where(new_features_inds1!=features_inds1)[0]\n",
        "            inds2=torch.where(new_features_inds2!=features_inds2)[0]\n",
        "            # print(features_inds3)\n",
        "            # print(new_features_inds3)\n",
        "            # print(inds3)\n",
        "            col_names = ['latitude','longitude']\n",
        "            y_new=[item_feature1.detach().to('cpu').numpy(),item_feature2.detach().to('cpu').numpy()]\n",
        "            for ind in inds1:\n",
        "              # print('attribute:',all_attributes[ind])\n",
        "              col_names.append(all_attributes[ind])\n",
        "              y_new.append(self.exp_generator.attributes_matrix[new_features_inds1[ind]][ind].detach().to('cpu').numpy())\n",
        "              # print('old_value:',self.exp_generator.attributes_matrix[features_inds1[ind]][ind])\n",
        "              # print('new_value:',self.exp_generator.attributes_matrix[new_features_inds1[ind]][ind])\n",
        "            # for ind in inds2:\n",
        "            #   print('category: ',all_categories[ind])\n",
        "            #   print('old_value:',self.exp_generator.categories_matrix[features_inds2[ind]][ind])\n",
        "            #   print('new_value:',self.exp_generator.categories_matrix[new_features_inds2[ind]][ind])\n",
        "            for ind in inds2:\n",
        "              # print('day_hour: ',all_days_hours[ind])\n",
        "              col_names.append[all_days_hours[ind]]\n",
        "              y_new.append(self.exp_generator.days_hours_matrix[new_features_inds2[ind]][ind].detach().to('cpu').numpy())\n",
        "              # print('old_value:',self.exp_generator.days_hours_matrix[features_inds2[ind]][ind])\n",
        "              # print('new_value:',self.exp_generator.days_hours_matrix[new_features_inds2[ind]][ind])\n",
        "\n",
        "            new_features_not_scaled+=y_new\n",
        "            features = business_df[col_names]\n",
        "            scaler = preprocessing.StandardScaler().fit(features.values)\n",
        "            new_features = scaler.inverse_transform(np.array(y_new).reshape(1,-1))\n",
        "            old_features = business_df[business_df['business_id']==rec_dataset.inv_item_name_dict[item]][col_names]\n",
        "            # print(old_features)\n",
        "            # print(new_features[0])\n",
        "\n",
        "            explanation_features=[[old_features,new_features[0]],new_features_not_scaled]\n",
        "            # print(explanation_features)\n",
        "            main_features_tips=self.exp_generator.features_tips\n",
        "            new_features_inds3=torch.argmax(optimize_pi3,axis=1)\n",
        "            # print(torch.sort(optimize_pi))\n",
        "            # print(torch.sort(exp_generator.pi))\n",
        "            # print(torch.sort(exp_generator.main_pi))\n",
        "            new_features3=[self.exp_generator.replaced_words[i] for i in new_features_inds3]\n",
        "            # print(main_features)\n",
        "            # print(new_features)\n",
        "            explanation_features_words= [main_features_tips[i] for i in range(len(main_features_tips)) if main_features_tips[i] != new_features3[i]]\n",
        "            explanation_features_words_replaced=[new_features3[i] for i in range(len(main_features_tips)) if main_features_tips[i] != new_features3[i]]\n",
        "            # print(torch.sort(optimize_pi))\n",
        "            # print(torch.sort(exp_generator.pi))\n",
        "            # print(torch.sort(exp_generator.main_pi))\n",
        "            # new_features=[self.exp_generator.replaced_words[i] for i in new_features_inds]\n",
        "            # print(main_features)\n",
        "            # print(new_features)\n",
        "            # explanation_features_words= [main_features[i] for i in range(len(main_features)) if main_features[i] != new_features[i]]\n",
        "            # explanation_features_words_replaced=[new_features[i] for i in range(len(main_features)) if main_features[i] != new_features[i]]\n",
        "            # print([main_features[i].tolist() for i in explanation_features_inds[0]])\n",
        "            # print(new_features[explanation_features_inds[0]])\n",
        "            # print(main_features[explanation_features_inds[0]])\n",
        "            \n",
        "            # explanation_features_words=main_features[explanation_features_inds[0]]\n",
        "            # print(explanation_features_words)\n",
        "            # print(explanation_features_words_replaced)\n",
        "            explanation_features.append([explanation_features_words,explanation_features_words_replaced])\n",
        "            # print('-------------\\n')\n",
        "            # new_vect=[]\n",
        "            # for word in explanation_features_words:\n",
        "            #   new_vect+=(str(word).split(' '))\n",
        "            # new_vect=list(set(new_vect))\n",
        "            # new_vect=[word for word in new_vect if len(word)>1]\n",
        "            # explanation_features_words=new_vect\n",
        "            exp_num = len(explanation_features_words)+len(explanation_features[0][0])-2\n",
        "            # exp_complexity = lowest_l2.to('cpu').detach().numpy() + gam * exp_num\n",
        "        return explanation_features,exp_num\n",
        "    \n"
      ]
    },
    {
      "cell_type": "code",
      "execution_count": null,
      "metadata": {
        "id": "qQENHty-VDpP"
      },
      "outputs": [],
      "source": [
        "def get_all_logits(len_features,df_desc,main_words):\n",
        "  len_words=len(main_words)\n",
        "  all_logits=np.zeros((len_words,len_features))\n",
        "  j=0\n",
        "  len_desc=0\n",
        "  for i, row in df_desc.iterrows():\n",
        "    len_desc+=1\n",
        "    if row['word'] != main_words[j]:\n",
        "      j+=1\n",
        "    all_logits[j][i]=row['logit']\n",
        "  \n",
        "  return all_logits"
      ]
    },
    {
      "cell_type": "code",
      "execution_count": null,
      "metadata": {
        "id": "F0G_l9dYUOMK"
      },
      "outputs": [],
      "source": [
        "def get_replaced_words_vects(item_id):\n",
        "    replaced_words=[]\n",
        "    replaced_logits=[]\n",
        "    replaced_vects=[]\n",
        "    words_indices=[]\n",
        "    main_words=[]\n",
        "    i=0\n",
        "\n",
        "    df_vect_desc_item= pd.read_json(save_path+'tips_bert_items_dfs/'+'{}.json'.format(item_id))\n",
        "    replaced_words_desc=df_vect_desc_item['replaced_word'].values\n",
        "    vects_desc=df_vect_desc_item['vect'].values\n",
        "    replaced_words=list(replaced_words_desc)\n",
        "\n",
        "    vects1=[sub_list for sub_list in  vects_desc]\n",
        "    replaced_vects=vects1\n",
        "    replaced_vects=torch.FloatTensor(replaced_vects).to(device)\n",
        "\n",
        "    df_vect_desc_item1=df_vect_desc_item.copy()\n",
        "    df_vect_desc_item1['main_word']=np.where(df_vect_desc_item1['replaced_word'] == df_vect_desc_item1['word'],1,0)\n",
        "    df_vect_desc_item1=df_vect_desc_item1[df_vect_desc_item1['main_word']==1]\n",
        "    if df_vect_desc_item1.empty:\n",
        "      df_vect_desc_item1=df_vect_desc_item.copy()\n",
        "      df_vect_desc_item1['main_word']=np.where(df_vect_desc_item1['logit']==5.0,1,0)\n",
        "      df_vect_desc_item1=df_vect_desc_item1[df_vect_desc_item1['main_word']==1]\n",
        "    if df_vect_desc_item1.empty:\n",
        "      df_vect_desc_item1=df_vect_desc_item.copy()\n",
        "      df_vect_desc_item1['main_word']=np.where(df_vect_desc_item1['logit']==12.0,1,0)\n",
        "      df_vect_desc_item1=df_vect_desc_item1[df_vect_desc_item1['main_word']==1]\n",
        "    indexes=df_vect_desc_item1.index\n",
        "    main_words=list(df_vect_desc_item1['word'].values)\n",
        "    for ind in indexes:\n",
        "      words_indices.append(i+ind)\n",
        "    i=df_vect_desc_item.shape[0]\n",
        "    \n",
        "    replaced_logits= get_all_logits(len(replaced_words),df_vect_desc_item,main_words)\n",
        "    final_logits_tensor=torch.FloatTensor(replaced_logits).to(device)\n",
        "    return replaced_words,replaced_vects,final_logits_tensor,words_indices"
      ]
    },
    {
      "cell_type": "code",
      "execution_count": null,
      "metadata": {
        "id": "rDmnr96MWlXn"
      },
      "outputs": [],
      "source": [
        "def get_new_item_vector(replaced_vects,item,item_feature_name,pi):\n",
        "    # print(pi.shape)\n",
        "    # print(replaced_vects)\n",
        "    # print(pi)\n",
        "    final_vector=torch.mm(pi,replaced_vects)\n",
        "    desc_vect=final_vector\n",
        "\n",
        "    if len(desc_vect)>0:\n",
        "      average_descriptions=torch.mean(desc_vect,axis=0).to(device)\n",
        "    else:\n",
        "      average_descriptions=torch.zeros(768).to(device)\n",
        "    # print(final_vector)\n",
        "    # final_vect=np.array(final_vector, dtype='float32')\n",
        "    return average_descriptions"
      ]
    },
    {
      "cell_type": "code",
      "execution_count": null,
      "metadata": {
        "colab": {
          "base_uri": "https://localhost:8080/"
        },
        "id": "IOqQndrZihzY",
        "outputId": "684edddb-38f0-48dc-c51d-fd311ad21036"
      },
      "outputs": [
        {
          "data": {
            "text/plain": [
              "3.015325457098988"
            ]
          },
          "execution_count": 86,
          "metadata": {},
          "output_type": "execute_result"
        }
      ],
      "source": [
        "scaled_features['latitude'].max()"
      ]
    },
    {
      "cell_type": "code",
      "execution_count": null,
      "metadata": {
        "id": "oQ-IFon4P5O4"
      },
      "outputs": [],
      "source": [
        "class EXPGenerator(torch.nn.Module):\n",
        "    def __init__(self, rec_dataset, base_model, user_vect, item_vect,user,item, margin_score, device):\n",
        "        super(EXPGenerator, self).__init__()\n",
        "        self.rec_dataset = rec_dataset\n",
        "        self.base_model = base_model\n",
        "        self.user_vect = user_vect\n",
        "        self.item_vect= item_vect\n",
        "        self.margin_score = margin_score\n",
        "        self.device = device\n",
        "        self.features=rec_dataset.features\n",
        "        self.len_features=len(self.features)\n",
        "        self.features_tips=rec_dataset.tips_features[item][0]\n",
        "        self.len_features_tips=len(self.features_tips)\n",
        "        self.item=item\n",
        "        self.user=user\n",
        "        self.max_feature1=scaled_features['latitude'].max()\n",
        "        self.min_feature1=scaled_features['latitude'].min()\n",
        "        self.max_feature2=scaled_features['longitude'].max()\n",
        "        self.min_feature2=scaled_features['longitude'].min()\n",
        "        # self.max_feature3=scaled_features['stars'].max()\n",
        "        # self.min_feature3=scaled_features['stars'].min()\n",
        "        self.attributes_matrix,self.days_hours_matrix=get_features_matrix()\n",
        "        # print(self.attributes_matrix.shape)\n",
        "        # print(self.attributes_matrix)\n",
        "        self.continues_features_values,self.features_attributes,self.features_days_hours,self.values_attributes,self.values_days_hours=get_features_indices(rec_dataset.inv_item_name_dict[item])\n",
        "        teta_par1=get_initialized_teta(self.values_attributes,self.attributes_matrix,16.0)\n",
        "        teta_par2=get_initialized_teta(self.values_days_hours,self.days_hours_matrix,16.0)\n",
        "        self.replaced_words,self.replaced_vects,self.logits_tensor,self.words_indices=get_replaced_words_vects(rec_dataset.inv_item_name_dict[item])\n",
        "        self.logits_tensor=torch.where(self.logits_tensor==12.0,torch.tensor(-0.1).to(device),self.logits_tensor).to(device)\n",
        "        self.logits_tensor=torch.where(self.logits_tensor==5.0,torch.tensor(-0.1).to(device),self.logits_tensor).to(device)\n",
        "        self.logits_tensor=torch.where(self.logits_tensor==0.0,torch.tensor(-1.0).to(device),self.logits_tensor).to(device)\n",
        "        # print(self.logits_tensor)\n",
        "        # self.feature_range = [0, 1]  # hard coded, should be improved later\n",
        "        # print(self.features)\n",
        "        teta_par3=get_initialized_teta2(self.features_tips,len(self.replaced_words),self.words_indices,12.0)\n",
        "        \n",
        "       \n",
        "      \n",
        "        self.teta1 =  torch.nn.Parameter(teta_par1)\n",
        "        self.teta2 =  torch.nn.Parameter(teta_par2)\n",
        "        self.teta3 =  torch.nn.Parameter(teta_par3)\n",
        "        self.delta = torch.nn.Parameter(torch.FloatTensor(2).uniform_(-0.0001, 0.0001))\n",
        "        \n",
        "        self.main_pi1 = F.softmax((self.teta1 + self.sample_gumbel((self.attributes_matrix.shape[1],self.attributes_matrix.shape[0]))) /1.0, dim=-1)\n",
        "        self.main_pi2 = F.softmax((self.teta2 + self.sample_gumbel((self.days_hours_matrix.shape[1],self.days_hours_matrix.shape[0]))) /1.0, dim=-1)\n",
        "        self.main_pi3 = F.softmax((self.teta3 + self.sample_gumbel((self.len_features_tips,len(self.replaced_words)))) /0.000000000001, dim=-1)\n",
        "        # self.main_pi=torch.clamp((self.teta), 0,1)\n",
        "        # print(self.features)\n",
        "\n",
        "        self.item=item\n",
        "        self.user=user\n",
        "    \n",
        "    def get_masked_item_feature(self,temp):\n",
        "        item_feature_name=self.features_tips\n",
        "        \n",
        "        self.pi1 = F.softmax((self.teta1 + self.sample_gumbel((self.attributes_matrix.shape[1],self.attributes_matrix.shape[0]))) /temp, dim=-1)\n",
        "        self.pi2 = F.softmax((self.teta2 + self.sample_gumbel((self.days_hours_matrix.shape[1],self.days_hours_matrix.shape[0]))) /temp, dim=-1)\n",
        "        self.pi3 = F.softmax((self.teta3 + self.sample_gumbel((self.len_features_tips,len(self.replaced_words)))) /temp, dim=-1)\n",
        "  \n",
        "        item_feature_tip=get_new_item_vector(self.replaced_vects,self.item,item_feature_name,self.pi3)\n",
        "\n",
        "        item_feature1 = torch.clamp(\n",
        "            (self.continues_features_values[0] +torch.clamp(self.delta[0],-0.0001,0.0001)),\n",
        "             torch.tensor(self.min_feature1).to(device), torch.tensor(self.max_feature1).to(device))\n",
        "        item_feature2 = torch.clamp(\n",
        "            (self.continues_features_values[1] +torch.clamp(self.delta[1],-0.0001,0.0001)),\n",
        "             torch.tensor(self.min_feature2).to(device), torch.tensor(self.max_feature2).to(device))\n",
        "        # item_feature3 = torch.clamp(\n",
        "        #     (self.continues_features_values[2] + self.delta[2]),\n",
        "        #      torch.tensor(self.min_feature3).to(device),torch.tensor(self.max_feature3).to(device))\n",
        "        # item_feature1=self.continues_features_values[0]\n",
        "        # item_feature2=self.continues_features_values[1]\n",
        "        # item_feature3=self.continues_features_values[2]\n",
        "        # print(self.attributes_matrix)\n",
        "        item_feature_4=torch.mm(self.pi1,self.attributes_matrix)\n",
        "        item_feature_4=torch.diagonal(item_feature_4, 0)\n",
        "        # print(item_feature_4)\n",
        "        # print('--------------')\n",
        "        # item_feature_5=torch.mm(self.pi2,self.categories_matrix)\n",
        "        # item_feature_5=torch.diagonal(item_feature_5, 0)\n",
        "        item_feature_5=torch.mm(self.pi2,self.days_hours_matrix)\n",
        "        item_feature_5=torch.diagonal(item_feature_5, 0)\n",
        "        # print(item_feature_tip)\n",
        "        # print(np.shape(item_feature_tip))\n",
        "        item_feature_star=torch.concat([torch.Tensor([item_feature1]).to(device),torch.Tensor([item_feature2]).to(device),item_feature_4,item_feature_5,item_feature_tip])\n",
        "        # print(item_feature_star)\n",
        "        # print(item_feature_4.shape)\n",
        "        # print(item_feature_5.shape)\n",
        "        # print(item_feature_6.shape)\n",
        "        # print(item_feature_star.shape)\n",
        "        \n",
        "        return item_feature_star\n",
        "\n",
        "    def sample_gumbel(self,shape, eps=1e-20):\n",
        "      U = torch.rand(shape)\n",
        "      U = U.cuda()\n",
        "      return -torch.log(-torch.log(U + eps) + eps)\n",
        "    \n",
        "    def forward(self,temp):\n",
        "        # print('temp',temp)\n",
        "        item_feature_star = self.get_masked_item_feature(temp)\n",
        "        # print('item_feature_star: ')\n",
        "        # print(item_feature_star)\n",
        "        # print('item_vect: ')\n",
        "        # print(self.item_vect)\n",
        "        score = self.base_model(self.user_vect.unsqueeze(0), item_feature_star.unsqueeze(0))\n",
        "        # print(score)\n",
        "        return score\n",
        "    \n",
        "    def loss(self, a,b,c, score):\n",
        "        # print(score)\n",
        "        # print(self.margin_score)\n",
        "        bpr = torch.nn.functional.relu(alp + score - self.margin_score) * a\n",
        "\n",
        "        l11 = torch.linalg.norm(self.main_pi1-self.pi1,ord=1)*b\n",
        "        l12 = torch.linalg.norm(self.main_pi2-self.pi2,ord=1)*b\n",
        "        l13 = torch.linalg.norm(self.main_pi3-self.pi3,ord=1)*b\n",
        "        l14 = torch.linalg.norm(self.delta,ord=1)*1.0\n",
        "        l15=c*(1.0/(torch.linalg.norm(torch.mul(self.pi3,self.logits_tensor),ord=1)))\n",
        "\n",
        "        l2=torch.linalg.norm(self.delta)\n",
        "        loss=bpr+l11+l12+l13+l14+l2+l15\n",
        "        return bpr, l11,l12,l13,l14,l15,l2,loss"
      ]
    },
    {
      "cell_type": "code",
      "execution_count": null,
      "metadata": {
        "id": "fGywTyrWPsrh"
      },
      "outputs": [],
      "source": [
        "def evaluate_user_perspective(user_perspective_data, u_i_expl_dict):\n",
        "    pres = []\n",
        "    recs = []\n",
        "    f1s = []\n",
        "    for u_i, gt_features in user_perspective_data.items():\n",
        "        if u_i in u_i_expl_dict:\n",
        "            pre_features = u_i_expl_dict[u_i][2][0]\n",
        "            if len(pre_features)>0:\n",
        "              TP = 0\n",
        "            # print('f: ', gt_features, pre_features)\n",
        "              for feature in pre_features:\n",
        "                  if feature in gt_features:\n",
        "                      TP += 1\n",
        "              # print(gt_features)\n",
        "              # print(pre_features)\n",
        "              pre = TP / len(pre_features)\n",
        "              rec = TP / len(gt_features)\n",
        "              if (pre + rec) != 0:\n",
        "                  f1 = (2 * pre * rec) / (pre + rec)\n",
        "              else:\n",
        "                  f1 = 0\n",
        "              pres.append(pre)\n",
        "              recs.append(rec)\n",
        "              f1s.append(f1)\n",
        "    ave_pre = np.mean(pres)\n",
        "    ave_rec = np.mean(recs)\n",
        "    ave_f1 = np.mean(f1s)\n",
        "    return ave_pre, ave_rec, ave_f1"
      ]
    },
    {
      "cell_type": "code",
      "execution_count": null,
      "metadata": {
        "id": "9HwulmiX_eIl"
      },
      "outputs": [],
      "source": [
        "def get_tensor_vect_df(df,not_in_columns):\n",
        "  df1=df.copy()\n",
        "  df1['main_word']=np.where(df1['replaced_word'] == df1[not_in_columns],1,0)\n",
        "  df1=df1[df1['main_word']==1]\n",
        "  if df1.empty:\n",
        "    df1=df.copy()\n",
        "    df1['main_word']=np.where(df1['logit']==5.0,1,0)\n",
        "    df1=df1[df1['main_word']==1]\n",
        "  if df1.empty:\n",
        "    df1=df.copy()\n",
        "    df1['main_word']=np.where(df1['logit']==12.0,1,0)\n",
        "    df1=df1[df1['main_word']==1]\n",
        "  lists=df1.loc[:, ~df1.columns.isin([not_in_columns,'replaced_word','logit','main_word'])].values\n",
        "  words=df1[not_in_columns].values\n",
        "  # print(words)\n",
        "  vects=[sub_list[0] for sub_list in lists]\n",
        "  tensor_vect=torch.FloatTensor(vects).to(device)\n",
        "  return tensor_vect"
      ]
    },
    {
      "cell_type": "code",
      "execution_count": null,
      "metadata": {
        "id": "LB4NGF38-6K4"
      },
      "outputs": [],
      "source": [
        "def get_tensor_vects(item_id):\n",
        "  tensor_vect_desc=None\n",
        "  # print(item_id)\n",
        "  # if os.path.exists(save_path+'descriptions_bert/'+'df_bert_desc_{}.json'.format(item_id)) :\n",
        "  df_vect_tip= pd.read_json(save_path+'tips_bert_items_dfs/'+'{}.json'.format(item_id))\n",
        "  # df_vect_desc=df_vect[0]\n",
        "  tensor_vect_tip=get_tensor_vect_df(df_vect_tip,'word')\n",
        "  return tensor_vect_tip"
      ]
    },
    {
      "cell_type": "code",
      "execution_count": null,
      "metadata": {
        "id": "gwSKU5evADm_"
      },
      "outputs": [],
      "source": [
        "def get_average_vect_test(weights,tensor_vect):\n",
        "  # weights=torch.FloatTensor(weights).to(device)\n",
        "\n",
        "  # average=(torch.mul(weights,tensor_vect)/torch.sum(weights)).to(device)\n",
        "  weights=torch.transpose(weights.repeat(tensor_vect.shape[1],1),0,1)\n",
        "  # print(weights)\n",
        "  # print(tensor_vect)\n",
        "  average=torch.mean(weights*tensor_vect,axis=0).to(device)\n",
        "  return average"
      ]
    },
    {
      "cell_type": "code",
      "source": [
        "def get_average_vect_test_other_features(weights,tensor_vect):\n",
        "    average=(torch.mul(weights,tensor_vect[0])/torch.sum(weights)).to(device)\n",
        "    # print(weights.shape)\n",
        "    # print(tensor_vect[0].shape)\n",
        "    return average"
      ],
      "metadata": {
        "id": "HDJwWjFgIgZZ"
      },
      "execution_count": null,
      "outputs": []
    },
    {
      "cell_type": "code",
      "execution_count": null,
      "metadata": {
        "id": "cX9vHMvA_3xr"
      },
      "outputs": [],
      "source": [
        "def get_new_item_vector2(item,new_weights,tensor_vect_tip):\n",
        "    # item_id= rec_dataset.inv_item_name_dict[item]\n",
        "    final_vector=[]\n",
        "    # print(len(new_weights))\n",
        "    # print(len(item_feature_name[0]))\n",
        "    # print(tensor_vect_desc.shape)\n",
        "    \n",
        "    average_vect_other_features= get_average_vect_test_other_features(new_weights[0:len(rec_dataset.features)],torch.FloatTensor(rec_dataset.item_feature_matrix[item][:-768].reshape(1,-1)).to(device))\n",
        "    average_vect_tips=get_average_vect_test(new_weights[len(rec_dataset.features):len(rec_dataset.features)+len(rec_dataset.tips_features)],tensor_vect_tip)\n",
        "    # average_vect_feature=get_average_vect_test(new_weights[len(item_feature_name[0])+len(item_feature_name[1]):],tensor_vect_feature)\n",
        "    # rank=normalized_rank[item_id]*new_weights[-1]\n",
        "    final_vector=torch.cat((average_vect_other_features,average_vect_tips))\n",
        "    # print(len(final_vector))\n",
        "    # final_vect=np.array(final_vector, dtype='float32')\n",
        "    return final_vector"
      ]
    },
    {
      "cell_type": "code",
      "execution_count": null,
      "metadata": {
        "colab": {
          "base_uri": "https://localhost:8080/"
        },
        "id": "J3Yv5X293BBS",
        "outputId": "db7156d2-ff67-4e0f-f7cd-2f971ee369ef"
      },
      "outputs": [
        {
          "data": {
            "text/plain": [
              "1"
            ]
          },
          "execution_count": 310,
          "metadata": {},
          "output_type": "execute_result"
        }
      ],
      "source": [
        "list(scaled_features.columns).index('latitude')"
      ]
    },
    {
      "cell_type": "code",
      "execution_count": null,
      "metadata": {
        "id": "jzO5JyluPyG-"
      },
      "outputs": [],
      "source": [
        "def sample_gumbel(shape, eps=1e-20):\n",
        "      U = torch.rand(shape)\n",
        "      U = U.cuda()\n",
        "      return -torch.log(-torch.log(U + eps) + eps)\n",
        "def evaluate_model_perspective(\n",
        "        rec_dict,\n",
        "        u_i_exp_dict,\n",
        "        base_model,\n",
        "        user_feature_matrix,\n",
        "        item_feature_matrix,\n",
        "        rec_k,\n",
        "        dict_items_cf_feature,\n",
        "        device):\n",
        "    \"\"\"\n",
        "    compute PN, PS and F_NS score for the explanations\n",
        "    :param rec_dict: {u1: [i1, i2, i3, ...] , u2: [i1, i2, i3, ...]}\n",
        "    :param u_i_exp_dict: {(u, i): [f1, f2, ...], ...}\n",
        "    :param base_model: the trained base recommendation model\n",
        "    :param user_feature_matrix: |u| x |p| matrix, the attention on each feature p for each user u\n",
        "    :param item_feature_matrix: |i| x |p| matrix, the quality on each feature p for each item i\n",
        "    :param rec_k: the length of the recommendation list, only generated explanations for the items on the list\n",
        "    :param device: the device of the model\n",
        "    :return: the mean of the PN, PS and FNS scores\n",
        "    \"\"\"\n",
        "    pn_count = 0\n",
        "    ps_count = 0\n",
        "    # df_vects=rec_dataset.df_vects\n",
        "    # print(len( u_i_exp_dict))\n",
        "    i=0\n",
        "    count_all=0\n",
        "    dict_items={}\n",
        "    for u_i, fs in u_i_exp_dict.items():\n",
        "        # if i%100==0:\n",
        "        #   print(i)\n",
        "        # i+=1\n",
        "        # if i>15600 and i<16000: \n",
        "        #   continue\n",
        "        user = u_i[0]\n",
        "        target_item = u_i[1]\n",
        "        features = fs\n",
        "        items = rec_dict[user]\n",
        "        target_index = items.index(target_item)\n",
        "        \n",
        "        new_features_not_scaled=features[1]\n",
        "        features_words=list(set(features[2][0]))\n",
        "        # if len(features_words)>0 or len(new_features_not_scaled)>2:\n",
        "        count_all+=1\n",
        "        other_features=list(features[0][0].columns)\n",
        "        # print(other_features)\n",
        "        # print(len(items))\n",
        "\n",
        "        # compute PN\n",
        "        cf_items_features1 = []\n",
        "        cf_items_features2 = []\n",
        "        for item in items:\n",
        "          # if item in dict_items.keys():\n",
        "          #   replaced_words,replaced_vects,logits_tensor,words_indices=dict_items.get(item)\n",
        "          # else:\n",
        "          #   replaced_words,replaced_vects,logits_tensor,words_indices=get_replaced_words_vects(rec_dataset.inv_item_name_dict[item])\n",
        "          #   dict_items[item]=(replaced_words,replaced_vects,logits_tensor,words_indices)\n",
        "\n",
        "          # item_id=rec_dataset.inv_item_name_dict[item]\n",
        "          # item_cf_feature1,item_cf_feature2=get_item_vector1(item,features,replaced_words,replaced_vects,logits_tensor,words_indices)\n",
        "  \n",
        "          # cf_items_features1.append(item_cf_feature1)\n",
        "          # cf_items_features2.append(item_cf_feature2)\n",
        "            item_id=rec_dataset.inv_item_name_dict[item]\n",
        "            # all_features_words=rec_dataset.tips_features[item][0]\n",
        "            # print(all_features)\n",
        "            # print(features)\n",
        "            item_feature_words=rec_dataset.tips_features[item][0]\n",
        "            item_feature_names=rec_dataset.features\n",
        "            if len(new_features_not_scaled)<3 and len(features_words)==0:\n",
        "              weights1=np.ones(len(item_feature_names)+len(item_feature_words))\n",
        "              weights1[0:2]=0.0\n",
        "              weights2=np.zeros(len(item_feature_names)+len(item_feature_words))\n",
        "              weights2[0:2]=1.0\n",
        "            else:\n",
        "              weights1=[1.0,1.0]\n",
        "              weights1+=[0.0 if fea in other_features else 1.0 for fea in item_feature_names[2:]]\n",
        "              weights1+=[0.0 if fea in features_words else 1.0 for fea in  item_feature_words]\n",
        "              weights2=[1.0,1.0]\n",
        "              weights2+=[1.0 if fea in other_features else 0.0 for fea in item_feature_names[2:]]\n",
        "              weights2+=[1.0 if fea in features_words else 0.0 for fea in  item_feature_words]\n",
        "            weights1=torch.from_numpy(np.array(weights1,dtype='float32')).to(device)\n",
        "            weights2=torch.from_numpy(np.array(weights2,dtype='float32')).to(device)\n",
        "            # print(len(all_features))\n",
        "            # print(all_features)\n",
        "            # weights=torch.FloatTensor(weights).to(device)\n",
        "            if item in dict_items_cf_feature.keys():\n",
        "              tensor_vect_tip=dict_items_cf_feature[item]\n",
        "            else:\n",
        "              tensor_vect_tip=get_tensor_vects(item_id)\n",
        "              dict_items_cf_feature[item]=tensor_vect_tip\n",
        "            \n",
        "            item_cf_feature1=get_new_item_vector2(item,weights1,tensor_vect_tip).detach().to('cpu').numpy()\n",
        "            item_cf_feature2=get_new_item_vector2(item,weights2,tensor_vect_tip).detach().to('cpu').numpy()\n",
        "            # print(item_cf_feature1)\n",
        "            for col_i in range(2,len(other_features)):\n",
        "              col_name=other_features[col_i]\n",
        "              ind=list(scaled_features.columns).index(col_name)-1\n",
        "              item_cf_feature1[ind]=new_features_not_scaled[col_i]\n",
        "            # print(item_cf_feature1)\n",
        "            cf_items_features1.append(item_cf_feature1)\n",
        "            cf_items_features2.append(item_cf_feature2)\n",
        "\n",
        "        cf_ranking_scores1 = base_model(torch.from_numpy(np.array([user_feature_matrix[user]\n",
        "                                                                      for i in range(len(cf_items_features1))])\n",
        "                                                            ).to(device),\n",
        "                                          torch.from_numpy(np.array(cf_items_features1,dtype='float32')).to(device)).squeeze()\n",
        "        cf_score_list1 = cf_ranking_scores1.to('cpu').detach().numpy()\n",
        "        # print(np.sort( cf_score_list1)[::-1])\n",
        "        sorted_index1 = np.argsort(cf_score_list1)[::-1]\n",
        "        # print(sorted_index1)\n",
        "        cf_rank1 = np.argwhere(sorted_index1 == target_index)[0, 0]  # the updated ranking of the current item\n",
        "        # print(cf_rank1)\n",
        "        if cf_rank1 > rec_k - 1:\n",
        "            pn_count += 1\n",
        "        # compute NS\n",
        "        cf_ranking_scores2 = base_model(torch.from_numpy(np.array([user_feature_matrix[user]\n",
        "                                                                      for i in range(len(cf_items_features2))])\n",
        "                                                            ).to(device),\n",
        "                                          torch.from_numpy(np.array(cf_items_features2,dtype='float32')).to(device)).squeeze()\n",
        "        cf_score_list2 = cf_ranking_scores2.to('cpu').detach().numpy()\n",
        "        sorted_index2 = np.argsort(cf_score_list2)[::-1]\n",
        "        cf_rank2 = np.argwhere(sorted_index2 == target_index)[0, 0]  # the updated ranking of the current item\n",
        "        if cf_rank2 < rec_k:\n",
        "            ps_count += 1\n",
        "    if len(u_i_exp_dict) != 0:\n",
        "        pn = pn_count / count_all\n",
        "        ps = ps_count / count_all\n",
        "        if (pn + ps) != 0:\n",
        "            fns = (2 * pn * ps) / (pn + ps)\n",
        "        else:\n",
        "            fns = 0\n",
        "    else:\n",
        "        pn = 0\n",
        "        ps = 0\n",
        "        fns = 0\n",
        "    return pn, ps, fns"
      ]
    },
    {
      "cell_type": "code",
      "execution_count": null,
      "metadata": {
        "colab": {
          "base_uri": "https://localhost:8080/"
        },
        "id": "ol5Ikjv8PAkK",
        "outputId": "a004860d-3842-45f0-f633-274d17b7a427"
      },
      "outputs": [
        {
          "output_type": "stream",
          "name": "stdout",
          "text": [
            "cuda:0\n",
            "lr: 0.5    temp: 2.1    l1_b: 2.0 cs: 10.0\n"
          ]
        },
        {
          "output_type": "stream",
          "name": "stderr",
          "text": [
            "100%|██████████| 10/10 [14:54<00:00, 89.40s/it]\n"
          ]
        },
        {
          "output_type": "stream",
          "name": "stdout",
          "text": [
            "ave num:  14.653061224489797 no_exp_count:  1 exp_count:  49\n"
          ]
        }
      ],
      "source": [
        "def generate_explanation():\n",
        "    if gpu:\n",
        "        device = torch.device('cuda:%s' %cuda)\n",
        "    else:\n",
        "        device = 'cpu'\n",
        "    print(device)\n",
        "    # import dataset\n",
        "    \n",
        "    base_model = BaseRecModel(len(rec_dataset.features)+768).to(device)\n",
        "    base_model.load_state_dict(torch.load(os.path.join(base_model_path,\"model3.model\"),map_location=torch.device(device)))\n",
        "    base_model.eval()\n",
        "    #  fix the rec model\n",
        "    for param in base_model.parameters():\n",
        "        param.requires_grad = False\n",
        "    \n",
        "    # Create optimization model\n",
        "   \n",
        "    lrs=[0.5]\n",
        "    temps=[2.1]\n",
        "    a=100.0\n",
        "    bs=[2.0]\n",
        "    cs=[10.0]\n",
        "    # lrs=[0.3]\n",
        "    # temps=[2.0]\n",
        "    # bs=[1.0]\n",
        "    # cs=[10000.0]\n",
        "    with open(save_path+'result_validation.txt','w') as result_file:\n",
        "      for lr in lrs:\n",
        "        for temp in temps:\n",
        "          for b in bs:\n",
        "            for c in cs:\n",
        "              print('lr:', lr , '   temp:', temp , '   l1_b:', b , 'cs:', c)\n",
        "              opt_model = ExpOptimizationModel(base_model=base_model,rec_dataset=rec_dataset,device = device)\n",
        "              ave_num,no_exp_count,exp_count=opt_model.generate_explanation(lr,temp,a,b,c)\n",
        "              # ave_pre,ave_rec,ave_f1=opt_model.user_side_evaluation()\n",
        "              # ave_pn,ave_ps,ave_fns=opt_model.model_side_evaluation()\n",
        "              # result_file.write(str(lr)+'#'+str(temp)+'#'+str(b)+'#'+str(c)+'#'+str(ave_num)+'#'+str(no_exp_count)+'#'+str(exp_count)+'#'+str(ave_pre)+'#'+str(ave_rec)+'#'+str(ave_f1)+'#'+str(ave_pn)+'#'+str(ave_ps)+'#'+str(ave_fns))\n",
        "              # result_file.write('\\n')\n",
        "    Path(save_path).mkdir(parents=True, exist_ok=True)\n",
        "    with open(os.path.join(save_path, dataset + \"_explanation_obj.pickle\"), 'wb') as outp:\n",
        "        pickle.dump(opt_model, outp, pickle.HIGHEST_PROTOCOL)\n",
        "    \n",
        "    # with open(os.path.join(save_path, dataset + \"_explanation_obj.pickle\"), 'rb') as opt:\n",
        "    #     opt_model = pickle.load(opt)\n",
        "            \n",
        "    # print(opt_model.u_i_exp_dict)\n",
        "    # Path(save_path).mkdir(parents=True, exist_ok=True)\n",
        "    # with open(os.path.join(save_path, dataset + \"_explanation_obj.pickle\"), 'wb') as outp:\n",
        "    #     pickle.dump(opt_model, outp, pickle.HIGHEST_PROTOCOL)\n",
        "    return opt_model\n",
        "\n",
        "\n",
        "if __name__ == \"__main__\":\n",
        "    opt_model=generate_explanation()"
      ]
    },
    {
      "cell_type": "code",
      "source": [
        "print(rec_dataset.inv_item_name_dict[1379])\n",
        "print(rec_dataset.inv_item_name_dict[4398])"
      ],
      "metadata": {
        "colab": {
          "base_uri": "https://localhost:8080/"
        },
        "id": "piVZMIzUdSI3",
        "outputId": "e2f4501d-d150-4984-f1f5-6d24659ba274"
      },
      "execution_count": null,
      "outputs": [
        {
          "output_type": "stream",
          "name": "stdout",
          "text": [
            "_V6hl1oGkTV2KbGeax_HPA\n",
            "tqmi9HYujFk3zphlLkyFUw\n"
          ]
        }
      ]
    },
    {
      "cell_type": "code",
      "source": [
        "rec_dataset.inv_user_name_dict[90027]"
      ],
      "metadata": {
        "colab": {
          "base_uri": "https://localhost:8080/",
          "height": 35
        },
        "id": "8e9f0bZ5v4Nb",
        "outputId": "7eb1f976-2413-4f52-d7a0-f70948f6e720"
      },
      "execution_count": null,
      "outputs": [
        {
          "output_type": "execute_result",
          "data": {
            "text/plain": [
              "'jllqb6ymVR_SW_TbbtNypA'"
            ],
            "application/vnd.google.colaboratory.intrinsic+json": {
              "type": "string"
            }
          },
          "metadata": {},
          "execution_count": 102
        }
      ]
    },
    {
      "cell_type": "markdown",
      "source": [
        "(90027, 1379): [[        latitude  longitude\n",
        "   33748  39.956399 -75.154287, array([ 39.95696809, -75.15576236])],\n",
        "  [array(0.62075943), array(0.96350974)],\n",
        "  [['fatty', 'regret', 'takeout', 'ribs', 'soup', 'noodles', 'dont'],\n",
        "   ['good', 'large', 'noodle', 'duck', 'stood', 'make', 'good']]],"
      ],
      "metadata": {
        "id": "MVTTzM6wczZC"
      }
    },
    {
      "cell_type": "code",
      "source": [
        "tip_df[tip_df['business_id']=='_V6hl1oGkTV2KbGeax_HPA']['text'].values"
      ],
      "metadata": {
        "id": "rgXDMcCedepp"
      },
      "execution_count": null,
      "outputs": []
    },
    {
      "cell_type": "code",
      "source": [
        "business_df[business_df['business_id']=='_V6hl1oGkTV2KbGeax_HPA']['attributes'].values"
      ],
      "metadata": {
        "colab": {
          "base_uri": "https://localhost:8080/"
        },
        "id": "gpDvVT7Gdqal",
        "outputId": "2ee7511b-f826-4e15-ada4-e2f71074a88b"
      },
      "execution_count": null,
      "outputs": [
        {
          "output_type": "execute_result",
          "data": {
            "text/plain": [
              "array([{'Alcohol': \"u'full_bar'\", 'BikeParking': 'True', 'RestaurantsGoodForGroups': 'True', 'RestaurantsReservations': 'True', 'Caters': 'True', 'OutdoorSeating': 'False', 'BusinessAcceptsCreditCards': 'True', 'RestaurantsTakeOut': 'True', 'GoodForKids': 'True', 'Corkage': 'False', 'RestaurantsPriceRange2': '2', 'BusinessParking': \"{'garage': False, 'street': True, 'validated': False, 'lot': False, 'valet': False}\", 'BYOBCorkage': \"'yes_free'\", 'RestaurantsAttire': \"'casual'\", 'WiFi': \"u'no'\", 'NoiseLevel': \"u'average'\", 'ByAppointmentOnly': 'False', 'DogsAllowed': 'False', 'Ambience': \"{'touristy': False, 'hipster': False, 'romantic': False, 'divey': False, 'intimate': False, 'trendy': False, 'upscale': False, 'classy': True, 'casual': True}\", 'RestaurantsTableService': 'True', 'BusinessAcceptsBitcoin': 'False', 'RestaurantsDelivery': 'True', 'BYOB': 'False', 'HappyHour': 'False', 'GoodForMeal': \"{u'breakfast': False, u'brunch': None, u'lunch': True, u'dinner': True, u'latenight': None, u'dessert': False}\", 'WheelchairAccessible': 'True', 'HasTV': 'False'}],\n",
              "      dtype=object)"
            ]
          },
          "metadata": {},
          "execution_count": 108
        }
      ]
    },
    {
      "cell_type": "code",
      "source": [
        "business_df[business_df['business_id']=='_V6hl1oGkTV2KbGeax_HPA']['hours'].values"
      ],
      "metadata": {
        "colab": {
          "base_uri": "https://localhost:8080/"
        },
        "id": "UeMr3t8Eee2N",
        "outputId": "53cbea62-0021-4a26-c735-fa6049a30336"
      },
      "execution_count": null,
      "outputs": [
        {
          "output_type": "execute_result",
          "data": {
            "text/plain": [
              "array([{'Monday': '0:0-0:0', 'Tuesday': '10:0-20:30', 'Wednesday': '10:0-20:30', 'Thursday': '10:0-20:30', 'Friday': '10:0-20:30', 'Saturday': '10:0-20:30', 'Sunday': '10:0-20:30'}],\n",
              "      dtype=object)"
            ]
          },
          "metadata": {},
          "execution_count": 113
        }
      ]
    },
    {
      "cell_type": "markdown",
      "source": [
        "(50, 4398): [[        latitude  longitude  vegan\n",
        "   41596  40.094322  -75.28936    0.0,\n",
        "   array([ 40.09375237, -75.2908354 ,   0.99999997])],"
      ],
      "metadata": {
        "id": "oJBjIsI2dMk_"
      }
    },
    {
      "cell_type": "code",
      "source": [
        "tip_df[tip_df['business_id']=='tqmi9HYujFk3zphlLkyFUw']['text'].values"
      ],
      "metadata": {
        "colab": {
          "base_uri": "https://localhost:8080/"
        },
        "id": "-K8eqTtfe0W1",
        "outputId": "8aa0c503-c692-40be-c8ff-9eae50c2af37"
      },
      "execution_count": null,
      "outputs": [
        {
          "output_type": "execute_result",
          "data": {
            "text/plain": [
              "array(['Conshohocken staple. Cathering is great.',\n",
              "       'largest takeout menu ever!', 'Ask for wings well done!',\n",
              "       'Best Italian takeout in the area but a little pricy',\n",
              "       'Yum Yum. Eggplant italnio', 'Delivery..best way to go about it',\n",
              "       \"Great sandwiches that come with fries for $7 or $8 and they're big. Can't go wrong here.\",\n",
              "       'They close late which is a plus',\n",
              "       \"Shrimp Vesuvio  is a favorite. Ask to add sun dried tomatoes and you won't be dissapointed.\",\n",
              "       \"T'dori is consistently good and sets the standard for Italian take out in the area.\",\n",
              "       'Ordered take out cheese fries were soggy. Buffalo chicken cheesesteak was  lacking flavor and chicken was very chewy.'],\n",
              "      dtype=object)"
            ]
          },
          "metadata": {},
          "execution_count": 114
        }
      ]
    },
    {
      "cell_type": "code",
      "source": [
        "business_df[business_df['business_id']=='tqmi9HYujFk3zphlLkyFUw']['attributes'].values"
      ],
      "metadata": {
        "outputId": "2e46ea6a-c41f-4024-a1b0-8969fd86238e",
        "colab": {
          "base_uri": "https://localhost:8080/"
        },
        "id": "Ij2AlwIse0W2"
      },
      "execution_count": null,
      "outputs": [
        {
          "output_type": "execute_result",
          "data": {
            "text/plain": [
              "array([{'BusinessAcceptsCreditCards': 'True', 'Alcohol': \"u'none'\", 'RestaurantsPriceRange2': '1', 'RestaurantsTakeOut': 'True', 'OutdoorSeating': 'False', 'RestaurantsGoodForGroups': 'True', 'RestaurantsDelivery': 'True', 'RestaurantsReservations': 'False', 'RestaurantsAttire': \"'casual'\", 'GoodForKids': 'True', 'WiFi': \"u'no'\", 'NoiseLevel': \"u'average'\", 'BusinessParking': \"{'garage': False, 'street': False, 'validated': False, 'lot': True, 'valet': False}\", 'BikeParking': 'True', 'Caters': 'True', 'HasTV': 'True', 'GoodForMeal': \"{'dessert': False, 'latenight': False, 'lunch': False, 'dinner': True, 'brunch': False, 'breakfast': False}\", 'RestaurantsTableService': 'False', 'Ambience': \"{u'divey': None, u'hipster': False, u'casual': True, u'touristy': False, u'trendy': False, u'intimate': False, u'romantic': False, u'classy': False, u'upscale': None}\"}],\n",
              "      dtype=object)"
            ]
          },
          "metadata": {},
          "execution_count": 115
        }
      ]
    },
    {
      "cell_type": "code",
      "source": [
        "business_df[business_df['business_id']=='tqmi9HYujFk3zphlLkyFUw']['hours'].values"
      ],
      "metadata": {
        "outputId": "4523e497-8818-43c7-f52a-ca117940ae70",
        "colab": {
          "base_uri": "https://localhost:8080/"
        },
        "id": "gXEJne9ie0W4"
      },
      "execution_count": null,
      "outputs": [
        {
          "output_type": "execute_result",
          "data": {
            "text/plain": [
              "array([{'Monday': '0:0-0:0', 'Tuesday': '10:0-21:0', 'Wednesday': '10:0-21:0', 'Thursday': '10:0-20:0', 'Friday': '10:0-20:0', 'Saturday': '10:0-21:30', 'Sunday': '10:0-21:0'}],\n",
              "      dtype=object)"
            ]
          },
          "metadata": {},
          "execution_count": 116
        }
      ]
    },
    {
      "cell_type": "markdown",
      "source": [
        "(7063, 13200): [[        latitude  longitude  soy-free\n",
        "   45738  40.074097 -75.430998       0.0,\n",
        "   array([ 40.07466714, -75.43247292,  -1.00000001])],"
      ],
      "metadata": {
        "id": "f0O2Y3IfoBEQ"
      }
    },
    {
      "cell_type": "markdown",
      "source": [
        " (1120, 1321): [[       latitude  longitude  Open24Hours\n",
        "   5472  36.103133   -86.8185          0.0,\n",
        "   array([ 36.10256344, -86.81997484,   1.00000002])],"
      ],
      "metadata": {
        "id": "vISdXeUlpGwo"
      }
    },
    {
      "cell_type": "markdown",
      "source": [
        "(1097, 13448): [[        latitude  longitude  vegan\n",
        "   24511  39.781303 -86.162359    0.0,\n",
        "   array([ 39.78187247, -86.16088442,  -0.99999998])],"
      ],
      "metadata": {
        "id": "kyTnEzF_pbWI"
      }
    },
    {
      "cell_type": "code",
      "source": [
        "review_features[('0du93EkEwKuxRG_x6hqVUg','KnsY8rh5tigp5t6WpilGdA')]"
      ],
      "metadata": {
        "colab": {
          "base_uri": "https://localhost:8080/"
        },
        "id": "neV7sWdIMY51",
        "outputId": "0b44fe87-79db-4f74-853b-09e1ec252237"
      },
      "execution_count": null,
      "outputs": [
        {
          "output_type": "execute_result",
          "data": {
            "text/plain": [
              "[['cheese', 'interesting', 1, \"You'll find interesting cheese\"],\n",
              " ['chicken salad', 'awesome', 1, 'and awesome chicken salad'],\n",
              " ['foods', 'prepared', -1, 'Their prepared foods are also pretty awesome\\n']]"
            ]
          },
          "metadata": {},
          "execution_count": 23
        }
      ]
    },
    {
      "cell_type": "code",
      "source": [
        "rec_dataset.inv_item_name_dict[1321]"
      ],
      "metadata": {
        "colab": {
          "base_uri": "https://localhost:8080/",
          "height": 35
        },
        "id": "zrvKl7TALImH",
        "outputId": "a04765c3-ecee-411b-bf75-15ef9cabe96a"
      },
      "execution_count": null,
      "outputs": [
        {
          "output_type": "execute_result",
          "data": {
            "text/plain": [
              "'KnsY8rh5tigp5t6WpilGdA'"
            ],
            "application/vnd.google.colaboratory.intrinsic+json": {
              "type": "string"
            }
          },
          "metadata": {},
          "execution_count": 13
        }
      ]
    },
    {
      "cell_type": "code",
      "source": [
        "rec_dataset.inv_user_name_dict[1120]"
      ],
      "metadata": {
        "colab": {
          "base_uri": "https://localhost:8080/",
          "height": 35
        },
        "id": "e3jzG7XaLNYV",
        "outputId": "edeb3f96-352f-4e44-94e8-beaab00238b1"
      },
      "execution_count": null,
      "outputs": [
        {
          "output_type": "execute_result",
          "data": {
            "text/plain": [
              "'0du93EkEwKuxRG_x6hqVUg'"
            ],
            "application/vnd.google.colaboratory.intrinsic+json": {
              "type": "string"
            }
          },
          "metadata": {},
          "execution_count": 14
        }
      ]
    },
    {
      "cell_type": "code",
      "source": [
        "review_df[review_df['business_id']=='KnsY8rh5tigp5t6WpilGdA'][review_df['user_id']=='0du93EkEwKuxRG_x6hqVUg']['text'].values[0]"
      ],
      "metadata": {
        "colab": {
          "base_uri": "https://localhost:8080/",
          "height": 409
        },
        "id": "UMd-GCjZLY6-",
        "outputId": "fb76d532-2d66-4287-d1ed-c36ef7e62f9a"
      },
      "execution_count": null,
      "outputs": [
        {
          "output_type": "stream",
          "name": "stderr",
          "text": [
            "<ipython-input-18-a4d69e6aa614>:1: UserWarning: Boolean Series key will be reindexed to match DataFrame index.\n",
            "  review_df[review_df['business_id']=='KnsY8rh5tigp5t6WpilGdA'][review_df['user_id']=='0du93EkEwKuxRG_x6hqVUg']['text'].values[0]\n"
          ]
        },
        {
          "output_type": "execute_result",
          "data": {
            "text/plain": [
              "'Okay, I don\\'t usually like rating the chains with 5 stars.  I also don\\'t usually enjoy reviewing them in general, unless I have something truly ground breaking to say about it.  Well, Whole Foods, you\\'ve broken ground with me.\\n\\nI\\'ve always shopped here because I like trying interesting and different foods, and I usually can\\'t find my random needs at Publix.  You\\'ll find interesting cheese, more variety of beer, and well, the salad bar is easily my most frequented spot in Whole Foods.  Their prepared foods are also pretty awesome, and I tend to over indulge when I come here.\\n\\nLast night, I experienced my very first \"LOVE of Whole Foods\" moment.  Yeah, they have killer tofu, and awesome chicken salad, but last night was an entirely different bag.\\n\\nAfter searching for matcha (green tea powder) for a delicious plan to make green tea cupcakes, I figured WF would have the stuff.  I asked the lady at customer service, and she directed me to maca, which sounds a lot like matcha, and is used in tea/smoothies/etc, but is a root.  I was looking for something different.  I went up to her again, and she actually directed me to Whole Body (next door).  Perfect!\\n\\nI went next door, and the man helping me first pointed to maca, to which I counter offered and suggested that we find matcha instead.  He realized what I meant, and walked me over to a counter up front.  Nothing.  They didn\\'t have it in those fun, little apothecary looking jars.\\n\\nFortunately, he said \"follow me\" and he high-tailed it, with me kind of chasing him and looking behind me every so often to make sure boyfriend was keeping up.  This guy was speed walking!  Anyways, the 3 of us ended up back in WF, where he snaked us through the aisles until alas, a lady in the cheese department directed us to the right spot.  MATCHA!  And quite the variety, actually!\\n\\nThe Whole Body employee apologized for the wild goose chase, but what for?  He was utterly fantastic and helpful.\\n\\nThanks for the MATCHA Whole Foods!  You rock!  \\n\\nOh, and well done, because I\\'m probably going to go back and get some maca.  After reading its health benefits, it actually sounds pretty great!'"
            ],
            "application/vnd.google.colaboratory.intrinsic+json": {
              "type": "string"
            }
          },
          "metadata": {},
          "execution_count": 18
        }
      ]
    },
    {
      "cell_type": "code",
      "source": [
        "opt_model.u_i_exp_dict"
      ],
      "metadata": {
        "colab": {
          "base_uri": "https://localhost:8080/"
        },
        "id": "BbacpblGbMMF",
        "outputId": "9b24edd2-6341-4d17-b2e4-b088d0d3d5b6"
      },
      "execution_count": null,
      "outputs": [
        {
          "output_type": "execute_result",
          "data": {
            "text/plain": [
              "{(502, 1034): [[        latitude  longitude\n",
              "   27833  34.412031 -119.69577, array([  34.41146175, -119.69724395])],\n",
              "  [array(-0.35291716), array(-2.05677748)],\n",
              "  [['hour',\n",
              "    'sign',\n",
              "    'apricot',\n",
              "    'good',\n",
              "    'sunday',\n",
              "    'beer',\n",
              "    'shrimp',\n",
              "    'wait',\n",
              "    'recommend',\n",
              "    'great',\n",
              "    'food',\n",
              "    'disappointing'],\n",
              "   ['product',\n",
              "    'their',\n",
              "    'room',\n",
              "    'eat',\n",
              "    'now',\n",
              "    'someone',\n",
              "    ';',\n",
              "    'food',\n",
              "    'student',\n",
              "    ',',\n",
              "    'that',\n",
              "    'we']]],\n",
              " (502, 15510): [[       latitude  longitude  RestaurantsCounterService\n",
              "   41113  34.42052 -119.60174                        0.0,\n",
              "   array([  34.4199503 , -119.60321391,   -1.00000001])],\n",
              "  [array(-0.35142675), array(-2.05040145), array(-54.841824, dtype=float32)],\n",
              "  [[], []]],\n",
              " (502, 3592): [[       latitude   longitude  glten-free\n",
              "   11169  34.44006 -119.737794         0.0,\n",
              "   array([  34.44062953, -119.73926792,    1.00000001])],\n",
              "  [array(-0.3477959), array(-2.05962706), array(51.67903, dtype=float32)],\n",
              "  [[], []]],\n",
              " (502, 32152): [[        latitude   longitude  RestaurantsCounterService\n",
              "   41959  34.395238 -119.511628                        0.0,\n",
              "   array([  34.39580725, -119.5101543 ,   -1.00000001])],\n",
              "  [array(-0.35566577), array(-2.04409122), array(-54.841824, dtype=float32)],\n",
              "  [[], []]],\n",
              " (50, 4398): [[        latitude  longitude  vegan\n",
              "   41596  40.094322  -75.28936    0.0,\n",
              "   array([ 40.09375237, -75.2908354 ,   0.99999997])],\n",
              "  [array(0.64477593), array(0.95435065), array(51.692406, dtype=float32)],\n",
              "  [[], []]],\n",
              " (50, 12104): [[        latitude  longitude\n",
              "   30390  40.104865  -75.29608, array([ 40.10543401, -75.29460461])],\n",
              "  [array(0.64682698), array(0.95409507)],\n",
              "  [[], []]],\n",
              " (50, 5706): [[       latitude  longitude  RestaurantsCounterService\n",
              "   6592  40.132499 -75.335002                        0.0,\n",
              "   array([ 40.13306856, -75.3364774 ,   1.00000002])],\n",
              "  [array(0.65167904), array(0.95125574), array(54.81446, dtype=float32)],\n",
              "  [['fresh', 'bar'], ['only', 'all']]],\n",
              " (50, 9): [[        latitude  longitude\n",
              "   45081  40.112013 -75.288165, array([ 40.11144304, -75.28668996])],\n",
              "  [array(0.64788204), array(0.95463175)],\n",
              "  [['side'], [';']]],\n",
              " (50, 25621): [[        latitude  longitude\n",
              "   32899  40.116361 -75.343605, array([ 40.1157917 , -75.34213034])],\n",
              "  [array(0.64864558), array(0.95087242)],\n",
              "  [[], []]],\n",
              " (1129, 8510): [[        latitude   longitude\n",
              "   19824  39.414924 -119.755498, array([  39.41549306, -119.75402483])],\n",
              "  [array(0.52568758), array(-2.0606277)],\n",
              "  [[], []]],\n",
              " (1129, 15357): [[       latitude   longitude\n",
              "   37801  39.52361 -119.779254, array([  39.52418009, -119.77777935])],\n",
              "  [array(0.54477078), array(-2.06223845)],\n",
              "  [[], []]],\n",
              " (1129, 4637): [[        latitude   longitude\n",
              "   20732  39.497774 -119.798993, array([  39.49720413, -119.79751852])],\n",
              "  [array(0.54003435), array(-2.06357694)],\n",
              "  [['day', 'pay', 'great'], ['chips', '-', '-']]],\n",
              " (1129, 24013): [[       latitude   longitude\n",
              "   17055  39.48979 -119.797464, array([  39.48922038, -119.79598903])],\n",
              "  [array(0.53863257), array(-2.06347322)],\n",
              "  [[], []]],\n",
              " (1129, 11787): [[        latitude  longitude\n",
              "   18979  39.769861 -86.145222, array([ 39.77043117, -86.14374758])],\n",
              "  [array(0.58800739), array(0.21843189)],\n",
              "  [['lots'], ['same']]],\n",
              " (7063, 11489): [[        latitude  longitude\n",
              "   31589  40.024586 -75.221048, array([ 40.02401693, -75.21957273])],\n",
              "  [array(0.63253182), array(0.95918286)],\n",
              "  [[], []]],\n",
              " (7063, 1305): [[        latitude  longitude\n",
              "   14326  40.025925 -75.224182, array([ 40.02535548, -75.2256564 ])],\n",
              "  [array(0.63276684), array(0.95877033)],\n",
              "  [[], []]],\n",
              " (7063, 4926): [[        latitude  longitude\n",
              "   33877  39.947787 -75.162293, array([ 39.94721738, -75.16376756])],\n",
              "  [array(0.6190474), array(0.96296692)],\n",
              "  [['food', 'bun', 'decor', 'great'], ['|', 'cocktail', 'worth', 'every']]],\n",
              " (7063, 13200): [[        latitude  longitude  soy-free\n",
              "   45738  40.074097 -75.430998       0.0,\n",
              "   array([ 40.07466714, -75.43247292,  -1.00000001])],\n",
              "  [array(0.64142495), array(0.94474643), array(-51.67903, dtype=float32)],\n",
              "  [['best'], ['tasty']]],\n",
              " (7063, 3966): [[       latitude  longitude\n",
              "   1741  40.116322 -75.283792, array([ 40.11575266, -75.28526683])],\n",
              "  [array(0.64863873), array(0.95472825)],\n",
              "  [[], []]],\n",
              " (55141, 26255): [[       latitude  longitude\n",
              "   1209  38.651334 -90.197874, array([ 38.65076446, -90.19639923])],\n",
              "  [array(0.391417), array(-0.05637199)],\n",
              "  [['call', 'raspberry', 'line'], ['good', 'was', 'red']]],\n",
              " (55141, 56): [[        latitude  longitude\n",
              "   29936  38.655807 -90.304956, array([ 38.65637664, -90.3064306 ])],\n",
              "  [array(0.39240238), array(-0.06383304)],\n",
              "  [['service',\n",
              "    'eat',\n",
              "    'cheese',\n",
              "    'tonight',\n",
              "    'hill',\n",
              "    'father',\n",
              "    'right',\n",
              "    'great',\n",
              "    'lousy',\n",
              "    'chuck'],\n",
              "   ['!',\n",
              "    'burger',\n",
              "    'time',\n",
              "    'or',\n",
              "    '.',\n",
              "    '|',\n",
              "    'think',\n",
              "    'backwards',\n",
              "    'tasting',\n",
              "    'spicy']]],\n",
              " (55141, 2907): [[        latitude  longitude  RestaurantsCounterService\n",
              "   22389  38.709089 -90.491467                        0.0,\n",
              "   array([ 38.70851985, -90.49294131,  -1.00000001])],\n",
              "  [array(0.40155765), array(-0.07648004), array(-54.841824, dtype=float32)],\n",
              "  [['stairs', 'served'], ['sun', 'distance']]],\n",
              " (55141, 3556): [[       latitude  longitude\n",
              "   2823  38.760552 -90.429324, array([ 38.75998242, -90.42784967])],\n",
              "  [array(0.41059342), array(-0.07206628)],\n",
              "  [[], []]],\n",
              " (55141, 10040): [[       latitude  longitude\n",
              "   16575  38.67076  -90.43329, array([ 38.67132945, -90.43476477])],\n",
              "  [array(0.39502779), array(-0.07253518)],\n",
              "  [['caramel'], ['adrenaline']]],\n",
              " (90027, 1379): [[        latitude  longitude\n",
              "   33748  39.956399 -75.154287, array([ 39.95696809, -75.15576236])],\n",
              "  [array(0.62075943), array(0.96350974)],\n",
              "  [['fatty', 'regret', 'takeout', 'ribs', 'soup', 'noodles', 'dont'],\n",
              "   ['good', 'large', 'noodle', 'duck', 'stood', 'make', 'good']]],\n",
              " (90027, 616): [[        latitude  longitude\n",
              "   21059  39.950007 -75.162158, array([ 39.9494372 , -75.16068309])],\n",
              "  [array(0.61943716), array(0.96317607)],\n",
              "  [['must',\n",
              "    'cheese',\n",
              "    'prepared',\n",
              "    'night',\n",
              "    'sheep',\n",
              "    'grilled',\n",
              "    'vegetarian',\n",
              "    'pizza',\n",
              "    'pizza',\n",
              "    'food',\n",
              "    'salted',\n",
              "    'sit',\n",
              "    'words',\n",
              "    'bad',\n",
              "    'love',\n",
              "    'try',\n",
              "    'words',\n",
              "    'pricy',\n",
              "    'really',\n",
              "    'amazing',\n",
              "    'like',\n",
              "    'vegetable',\n",
              "    'heaven',\n",
              "    'kitchen',\n",
              "    'tank',\n",
              "    'try',\n",
              "    'philadelphia',\n",
              "    'life',\n",
              "    'cured',\n",
              "    'marguerita',\n",
              "    'already',\n",
              "    'way',\n",
              "    'sit',\n",
              "    'counter',\n",
              "    'night',\n",
              "    'makes',\n",
              "    'place',\n",
              "    'cocktails',\n",
              "    'ray',\n",
              "    'services',\n",
              "    'burrata',\n",
              "    'service',\n",
              "    'vibe',\n",
              "    'place',\n",
              "    'food',\n",
              "    'ravioli',\n",
              "    'lemonade',\n",
              "    'sheep',\n",
              "    'really',\n",
              "    'busy'],\n",
              "   ['best',\n",
              "    'food',\n",
              "    'found',\n",
              "    '|',\n",
              "    'had',\n",
              "    '?',\n",
              "    'thursday',\n",
              "    'a',\n",
              "    'amazing',\n",
              "    'already',\n",
              "    'campanelle',\n",
              "    'show',\n",
              "    'site',\n",
              "    'back',\n",
              "    'five',\n",
              "    '!',\n",
              "    'blow',\n",
              "    'down',\n",
              "    'caramel',\n",
              "    '.',\n",
              "    'licked',\n",
              "    '.',\n",
              "    '-',\n",
              "    'father',\n",
              "    'favourite',\n",
              "    'for',\n",
              "    'salted',\n",
              "    '-',\n",
              "    ';',\n",
              "    'pig',\n",
              "    'person',\n",
              "    'dollar',\n",
              "    'thing',\n",
              "    'kids',\n",
              "    'always',\n",
              "    'much',\n",
              "    'days',\n",
              "    'spaghetti',\n",
              "    '.',\n",
              "    '!',\n",
              "    'wine',\n",
              "    '-',\n",
              "    'have',\n",
              "    'general',\n",
              "    'glancing',\n",
              "    'least',\n",
              "    'else',\n",
              "    'his',\n",
              "    'good',\n",
              "    'popular']]],\n",
              " (90027, 3055): [[      latitude  longitude\n",
              "   895  39.948309  -75.21789, array([ 39.94773915, -75.21641531])],\n",
              "  [array(0.61913902), array(0.95939696)],\n",
              "  [['excellent'], ['hot']]],\n",
              " (90027, 20291): [[        latitude  longitude\n",
              "   16227  39.955232 -75.155813, array([ 39.95466272, -75.15433836])],\n",
              "  [array(0.62035465), array(0.9636063)],\n",
              "  [[], []]],\n",
              " (90027, 27395): [[       latitude  longitude  vegetarian\n",
              "   25021  40.24792 -75.243756         0.0,\n",
              "   array([ 40.24848973, -75.24228122,   0.99999997])],\n",
              "  [array(0.67194462), array(0.95764303), array(51.692406, dtype=float32)],\n",
              "  [[], []]],\n",
              " (12712, 1474): [[        latitude  longitude\n",
              "   45820  39.953341 -75.158855, array([ 39.95391113, -75.15737975])],\n",
              "  [array(0.62022269), array(0.96340007)],\n",
              "  [['classic',\n",
              "    'philly',\n",
              "    'choices',\n",
              "    'food',\n",
              "    'always',\n",
              "    'religious',\n",
              "    'materials',\n",
              "    'festive',\n",
              "    'free',\n",
              "    'sounds',\n",
              "    'sat',\n",
              "    'parking',\n",
              "    'festival',\n",
              "    'known',\n",
              "    'renowned',\n",
              "    'steaks',\n",
              "    'variety',\n",
              "    'love',\n",
              "    'foods',\n",
              "    'aiming',\n",
              "    'owner',\n",
              "    'gluttony',\n",
              "    'dollar',\n",
              "    'pack',\n",
              "    'market',\n",
              "    'amish',\n",
              "    'discount',\n",
              "    'parking',\n",
              "    'hours',\n",
              "    'arxh',\n",
              "    'wine',\n",
              "    'dumplings',\n",
              "    'great',\n",
              "    'veggies',\n",
              "    'last',\n",
              "    'variety',\n",
              "    'lines',\n",
              "    'getting',\n",
              "    'delicious',\n",
              "    'supplies',\n",
              "    'something',\n",
              "    'student',\n",
              "    'decision',\n",
              "    'ice',\n",
              "    'sandwich',\n",
              "    'food',\n",
              "    'lol',\n",
              "    'busy',\n",
              "    'going',\n",
              "    'tondo',\n",
              "    'covered',\n",
              "    'caramels',\n",
              "    'mondays',\n",
              "    'need',\n",
              "    'expect',\n",
              "    'even',\n",
              "    'food',\n",
              "    'market',\n",
              "    'good',\n",
              "    'fit',\n",
              "    'validate',\n",
              "    'even',\n",
              "    'mouth',\n",
              "    'yes',\n",
              "    'delicious',\n",
              "    'produce',\n",
              "    'amazing',\n",
              "    'fresh',\n",
              "    'everything',\n",
              "    'buy',\n",
              "    'meats',\n",
              "    'one',\n",
              "    'restaurants',\n",
              "    'eating',\n",
              "    'check',\n",
              "    'must',\n",
              "    'white',\n",
              "    'tourist',\n",
              "    'dream',\n",
              "    'reading',\n",
              "    'terminal',\n",
              "    'insulated',\n",
              "    'authentic',\n",
              "    'grab',\n",
              "    'though',\n",
              "    'food',\n",
              "    'simply',\n",
              "    'amazing',\n",
              "    'place',\n",
              "    'grab',\n",
              "    'redding',\n",
              "    'place',\n",
              "    'roast',\n",
              "    'leave',\n",
              "    'worth',\n",
              "    'breakfast',\n",
              "    'quality',\n",
              "    'parking',\n",
              "    'save',\n",
              "    'validated',\n",
              "    'anyone',\n",
              "    'thinks',\n",
              "    'insult',\n",
              "    'weee',\n",
              "    'dogs',\n",
              "    'twist',\n",
              "    'millers',\n",
              "    'eat',\n",
              "    'stand',\n",
              "    'another',\n",
              "    'city',\n",
              "    'bakery',\n",
              "    'parking',\n",
              "    'spend',\n",
              "    'mediocre',\n",
              "    'fresh',\n",
              "    'produce',\n",
              "    'different',\n",
              "    'arch',\n",
              "    'defending',\n",
              "    'spot',\n",
              "    'fresh',\n",
              "    'hungry',\n",
              "    'amazing',\n",
              "    'lot',\n",
              "    'interesting',\n",
              "    'folks',\n",
              "    'love',\n",
              "    'say',\n",
              "    'eating',\n",
              "    'sure',\n",
              "    'get',\n",
              "    'seat',\n",
              "    'finish',\n",
              "    'stare',\n",
              "    'get',\n",
              "    'huge',\n",
              "    'shop',\n",
              "    'least',\n",
              "    'validate',\n",
              "    'atmosphere',\n",
              "    'spots',\n",
              "    'mmm',\n",
              "    'iconic',\n",
              "    'toast',\n",
              "    'love',\n",
              "    'seating',\n",
              "    'love',\n",
              "    'great',\n",
              "    'food',\n",
              "    'particularly',\n",
              "    'turn',\n",
              "    'gets',\n",
              "    'sale',\n",
              "    'bread',\n",
              "    'love',\n",
              "    'love',\n",
              "    'philly',\n",
              "    'mini',\n",
              "    'mmmmmmmm',\n",
              "    'amish',\n",
              "    'market',\n",
              "    'awesome',\n",
              "    'come',\n",
              "    'prepare',\n",
              "    'time',\n",
              "    'favorite',\n",
              "    'best',\n",
              "    'places',\n",
              "    'amish',\n",
              "    'ones',\n",
              "    'variety',\n",
              "    'summer',\n",
              "    'market',\n",
              "    'edible',\n",
              "    'food',\n",
              "    'concentrate',\n",
              "    'burger',\n",
              "    'coffee',\n",
              "    'hunger',\n",
              "    'place',\n",
              "    'foods',\n",
              "    'bread',\n",
              "    'loaves',\n",
              "    'hellooooo',\n",
              "    'bread',\n",
              "    'candy',\n",
              "    'festival',\n",
              "    'get',\n",
              "    'meat',\n",
              "    'must',\n",
              "    'spend',\n",
              "    'entire',\n",
              "    'concentrate',\n",
              "    'beers',\n",
              "    'visit',\n",
              "    'place',\n",
              "    'coffee',\n",
              "    'cookbooks',\n",
              "    'burgers',\n",
              "    'amish',\n",
              "    'disneyland',\n",
              "    'yeah',\n",
              "    'coming',\n",
              "    'types',\n",
              "    'aisles',\n",
              "    'tourists',\n",
              "    'cxxxx',\n",
              "    'early',\n",
              "    'notice',\n",
              "    'many',\n",
              "    'check',\n",
              "    'hall',\n",
              "    'allways',\n",
              "    'nyc',\n",
              "    'better',\n",
              "    'beautiful',\n",
              "    'waiting',\n",
              "    'dinic',\n",
              "    'crowded',\n",
              "    'way',\n",
              "    'fresh',\n",
              "    'see',\n",
              "    'eat',\n",
              "    'amazing',\n",
              "    'food',\n",
              "    'know',\n",
              "    'crowds',\n",
              "    'iovine',\n",
              "    'find',\n",
              "    'place',\n",
              "    'much',\n",
              "    'drooling',\n",
              "    'unaffordable',\n",
              "    'stop',\n",
              "    'dream',\n",
              "    'eat',\n",
              "    'food',\n",
              "    'service',\n",
              "    'many',\n",
              "    'stores',\n",
              "    'choose',\n",
              "    'place',\n",
              "    'grab',\n",
              "    'take',\n",
              "    'lots',\n",
              "    'back',\n",
              "    'markets',\n",
              "    'people',\n",
              "    'watching',\n",
              "    'lovely',\n",
              "    'selection',\n",
              "    'though',\n",
              "    'food',\n",
              "    'city',\n",
              "    'food',\n",
              "    'food',\n",
              "    'pork',\n",
              "    'sandwich',\n",
              "    'iconic',\n",
              "    'weekends',\n",
              "    'packed',\n",
              "    'comfort',\n",
              "    'never',\n",
              "    'place',\n",
              "    'parking',\n",
              "    'place',\n",
              "    'huge',\n",
              "    'get',\n",
              "    'american',\n",
              "    'eat',\n",
              "    'philly',\n",
              "    'monkey',\n",
              "    'tip',\n",
              "    'everyone',\n",
              "    'figure',\n",
              "    'great',\n",
              "    'validation',\n",
              "    'come',\n",
              "    'busy',\n",
              "    'dining',\n",
              "    'arch',\n",
              "    'filbert',\n",
              "    'hours',\n",
              "    'purchase',\n",
              "    'parking',\n",
              "    'burger',\n",
              "    'mac',\n",
              "    'avoid',\n",
              "    'coz',\n",
              "    'told',\n",
              "    'flying',\n",
              "    'try',\n",
              "    'meats',\n",
              "    'lunch',\n",
              "    'soon',\n",
              "    'spend',\n",
              "    'everything',\n",
              "    'packed',\n",
              "    'fresh',\n",
              "    'favorite',\n",
              "    'tastings',\n",
              "    'coffee',\n",
              "    'french',\n",
              "    'place',\n",
              "    'crowded',\n",
              "    'russian',\n",
              "    'decandant',\n",
              "    'love',\n",
              "    'get',\n",
              "    'recommend',\n",
              "    'heath',\n",
              "    'choices',\n",
              "    'food',\n",
              "    'love',\n",
              "    'love',\n",
              "    'mmmmmmmm',\n",
              "    'amish',\n",
              "    'food',\n",
              "    'like',\n",
              "    'sample',\n",
              "    'pressed',\n",
              "    'reading',\n",
              "    'downtown',\n",
              "    'possible',\n",
              "    'little',\n",
              "    'crowded',\n",
              "    'friendly',\n",
              "    'try',\n",
              "    'rabe',\n",
              "    'everything',\n",
              "    'spend',\n",
              "    'beers',\n",
              "    'ginormous',\n",
              "    'stick',\n",
              "    'long',\n",
              "    'fancy',\n",
              "    'love',\n",
              "    'place',\n",
              "    'cornucopia',\n",
              "    'cornucopia',\n",
              "    'amish',\n",
              "    'market',\n",
              "    'walking',\n",
              "    'beers',\n",
              "    'essentials',\n",
              "    'love',\n",
              "    'products',\n",
              "    'amish',\n",
              "    'validated',\n",
              "    'philadelphia',\n",
              "    'heaven',\n",
              "    'would',\n",
              "    'exploring',\n",
              "    'smells',\n",
              "    'heaven',\n",
              "    'still',\n",
              "    'near',\n",
              "    'breakfast',\n",
              "    'cream',\n",
              "    'eating',\n",
              "    'stuff',\n",
              "    'experience',\n",
              "    'parking',\n",
              "    'getting',\n",
              "    'bro',\n",
              "    'bassett',\n",
              "    'tiramisu',\n",
              "    'early',\n",
              "    'eat',\n",
              "    'takeout',\n",
              "    'sorry',\n",
              "    'place',\n",
              "    'later',\n",
              "    'anything',\n",
              "    'philly',\n",
              "    'little',\n",
              "    'soon',\n",
              "    'park',\n",
              "    'streets',\n",
              "    'purchase',\n",
              "    'epic',\n",
              "    'adventurous',\n",
              "    'food',\n",
              "    'great',\n",
              "    'whenever',\n",
              "    'anything',\n",
              "    'late',\n",
              "    'close',\n",
              "    'see',\n",
              "    'tip',\n",
              "    'eagles',\n",
              "    'court',\n",
              "    'tip',\n",
              "    'lunch',\n",
              "    'molly',\n",
              "    'food',\n",
              "    'great',\n",
              "    'appetite',\n",
              "    'everything',\n",
              "    'little',\n",
              "    'cooler',\n",
              "    'park',\n",
              "    'place',\n",
              "    'got',\n",
              "    'watch',\n",
              "    'prep',\n",
              "    'amazing',\n",
              "    'nice',\n",
              "    'variety',\n",
              "    'must',\n",
              "    'today',\n",
              "    'pamphlet',\n",
              "    'map',\n",
              "    'history',\n",
              "    'times',\n",
              "    'duper',\n",
              "    'best',\n",
              "    'place',\n",
              "    'food',\n",
              "    'one',\n",
              "    'premiere',\n",
              "    'philly',\n",
              "    'options',\n",
              "    'tourists',\n",
              "    'regular',\n",
              "    'yes',\n",
              "    'city',\n",
              "    'love',\n",
              "    'lunch',\n",
              "    'culture',\n",
              "    'masked',\n",
              "    'customers',\n",
              "    'classic',\n",
              "    'spot',\n",
              "    'best',\n",
              "    'candy',\n",
              "    'place',\n",
              "    'busy',\n",
              "    'philly',\n",
              "    'south',\n",
              "    'philly',\n",
              "    'fun',\n",
              "    'awesome',\n",
              "    'choose',\n",
              "    'handcrafted',\n",
              "    'make',\n",
              "    'walk',\n",
              "    'around',\n",
              "    'market',\n",
              "    'many',\n",
              "    'love',\n",
              "    'try',\n",
              "    'mushroom',\n",
              "    'turkey',\n",
              "    'many',\n",
              "    'close',\n",
              "    'george',\n",
              "    'chelsea',\n",
              "    'food',\n",
              "    'donut',\n",
              "    'best',\n",
              "    'moses',\n",
              "    'try',\n",
              "    'good',\n",
              "    'parking',\n",
              "    'validate',\n",
              "    'vendors',\n",
              "    'market',\n",
              "    'foodie',\n",
              "    'way',\n",
              "    'variety',\n",
              "    'place',\n",
              "    'many',\n",
              "    'vendors',\n",
              "    'would',\n",
              "    'apple',\n",
              "    'happy',\n",
              "    'around',\n",
              "    'place',\n",
              "    'food',\n",
              "    'best',\n",
              "    'destination',\n",
              "    'philadelphia',\n",
              "    'sworn',\n",
              "    'breaking',\n",
              "    'coulda',\n",
              "    'love',\n",
              "    'place',\n",
              "    'wait',\n",
              "    'great',\n",
              "    'stuff',\n",
              "    'starts',\n",
              "    'minutes',\n",
              "    'face',\n",
              "    'favorites',\n",
              "    'shop',\n",
              "    'see',\n",
              "    'food',\n",
              "    'giant',\n",
              "    'farmers',\n",
              "    'type',\n",
              "    'place',\n",
              "    'get',\n",
              "    'hours',\n",
              "    'parking',\n",
              "    'options',\n",
              "    'parking',\n",
              "    'ticket',\n",
              "    'eat',\n",
              "    'philly',\n",
              "    'food',\n",
              "    'destination',\n",
              "    'clap',\n",
              "    'possibly',\n",
              "    'amish',\n",
              "    'convention',\n",
              "    'stuff',\n",
              "    'hour',\n",
              "    'garages',\n",
              "    'moment',\n",
              "    'garage',\n",
              "    'another',\n",
              "    'best',\n",
              "    'love',\n",
              "    'food',\n",
              "    'favorites',\n",
              "    'want',\n",
              "    'anyone',\n",
              "    'try',\n",
              "    'think',\n",
              "    'place',\n",
              "    'purchase',\n",
              "    'crowded',\n",
              "    'daytime',\n",
              "    'reading',\n",
              "    'food',\n",
              "    'food',\n",
              "    'said',\n",
              "    'wrong',\n",
              "    'fee',\n",
              "    'find',\n",
              "    'day',\n",
              "    'location',\n",
              "    'healthy',\n",
              "    'alligator',\n",
              "    'crowded',\n",
              "    'saturday',\n",
              "    'price',\n",
              "    'want',\n",
              "    'watching',\n",
              "    'style',\n",
              "    'super',\n",
              "    'crowded',\n",
              "    'deals',\n",
              "    'visitors',\n",
              "    'visit',\n",
              "    'nice',\n",
              "    'place',\n",
              "    'produce',\n",
              "    'like',\n",
              "    'market',\n",
              "    'sweet',\n",
              "    'place',\n",
              "    'food',\n",
              "    'variety',\n",
              "    'quick',\n",
              "    'get',\n",
              "    'place',\n",
              "    'enjoy',\n",
              "    'amazing',\n",
              "    'everything',\n",
              "    'brisket',\n",
              "    'dnics',\n",
              "    'eats',\n",
              "    'roast',\n",
              "    'genius',\n",
              "    'closed',\n",
              "    'market',\n",
              "    'gem',\n",
              "    'found',\n",
              "    'stop',\n",
              "    'wants',\n",
              "    'eat',\n",
              "    'foodie',\n",
              "    'cards',\n",
              "    'food',\n",
              "    'good',\n",
              "    'tho',\n",
              "    'place',\n",
              "    'malloy',\n",
              "    'choices',\n",
              "    'place',\n",
              "    'anything',\n",
              "    'grilled',\n",
              "    'time',\n",
              "    'lol',\n",
              "    'enjoy',\n",
              "    'food',\n",
              "    'whoo',\n",
              "    'vibe',\n",
              "    'imaginable',\n",
              "    'vibe',\n",
              "    'every',\n",
              "    'tommy',\n",
              "    'reading',\n",
              "    'maple',\n",
              "    'good',\n",
              "    'visit',\n",
              "    'selection',\n",
              "    'real',\n",
              "    'place'],\n",
              "   ['first',\n",
              "    '|',\n",
              "    'wish',\n",
              "    'stand',\n",
              "    'upper',\n",
              "    'for',\n",
              "    'everything',\n",
              "    'place',\n",
              "    'call',\n",
              "    '.',\n",
              "    'to',\n",
              "    ';',\n",
              "    'save',\n",
              "    'future',\n",
              "    'retail',\n",
              "    '?',\n",
              "    'will',\n",
              "    'old',\n",
              "    'can',\n",
              "    'have',\n",
              "    'room',\n",
              "    'but',\n",
              "    'merchants',\n",
              "    '!',\n",
              "    'place',\n",
              "    'sit',\n",
              "    'spaces',\n",
              "    'it',\n",
              "    'pay',\n",
              "    'place',\n",
              "    'meals',\n",
              "    'issue',\n",
              "    'smelling',\n",
              "    '?',\n",
              "    'black',\n",
              "    'sweet',\n",
              "    'pink',\n",
              "    '.',\n",
              "    'what',\n",
              "    'or',\n",
              "    'tyson',\n",
              "    ';',\n",
              "    'makes',\n",
              "    'get',\n",
              "    'one',\n",
              "    'coke',\n",
              "    'come',\n",
              "    '?',\n",
              "    ',',\n",
              "    '-',\n",
              "    'side',\n",
              "    '-',\n",
              "    '!',\n",
              "    'coming',\n",
              "    '?',\n",
              "    '|',\n",
              "    'my',\n",
              "    'good',\n",
              "    ';',\n",
              "    'center',\n",
              "    'them',\n",
              "    'all',\n",
              "    'whole',\n",
              "    '.',\n",
              "    'street',\n",
              "    'off',\n",
              "    'dinic',\n",
              "    'love',\n",
              "    'facebook',\n",
              "    'let',\n",
              "    ';',\n",
              "    '?',\n",
              "    'and',\n",
              "    'eat',\n",
              "    'bit',\n",
              "    'get',\n",
              "    '!',\n",
              "    '?',\n",
              "    ';',\n",
              "    'under',\n",
              "    'much',\n",
              "    'break',\n",
              "    'largest',\n",
              "    'thousands',\n",
              "    'interesting',\n",
              "    'that',\n",
              "    '|',\n",
              "    'better',\n",
              "    'instead',\n",
              "    'car',\n",
              "    'great',\n",
              "    'pork',\n",
              "    'another',\n",
              "    'great',\n",
              "    'its',\n",
              "    '?',\n",
              "    'a',\n",
              "    'pamphlets',\n",
              "    'shops',\n",
              "    'one',\n",
              "    'food',\n",
              "    'blueberry',\n",
              "    'might',\n",
              "    'start',\n",
              "    ';',\n",
              "    'plenty',\n",
              "    'try',\n",
              "    'what',\n",
              "    '!',\n",
              "    'burger',\n",
              "    'island',\n",
              "    'street',\n",
              "    'through',\n",
              "    ',',\n",
              "    'an',\n",
              "    'worth',\n",
              "    '!',\n",
              "    'said',\n",
              "    '?',\n",
              "    '?',\n",
              "    'validated',\n",
              "    'park',\n",
              "    '?',\n",
              "    'for',\n",
              "    'pleasant',\n",
              "    'dog',\n",
              "    'use',\n",
              "    ';',\n",
              "    ',',\n",
              "    'are',\n",
              "    'sauce',\n",
              "    'hungry',\n",
              "    'distant',\n",
              "    'run',\n",
              "    'great',\n",
              "    'love',\n",
              "    'lunch',\n",
              "    'great',\n",
              "    'star',\n",
              "    'validated',\n",
              "    'bucket',\n",
              "    '?',\n",
              "    'own',\n",
              "    '?',\n",
              "    '|',\n",
              "    '.',\n",
              "    '-',\n",
              "    'coming',\n",
              "    'room',\n",
              "    'the',\n",
              "    'good',\n",
              "    'some',\n",
              "    'makes',\n",
              "    'front',\n",
              "    'foodie',\n",
              "    'food',\n",
              "    'delicious',\n",
              "    'here',\n",
              "    'food',\n",
              "    'walks',\n",
              "    'campus',\n",
              "    'are',\n",
              "    'and',\n",
              "    ',',\n",
              "    '5th',\n",
              "    '!',\n",
              "    'old',\n",
              "    'back',\n",
              "    'is',\n",
              "    'bread',\n",
              "    'sesame',\n",
              "    'with',\n",
              "    'few',\n",
              "    'are',\n",
              "    'best',\n",
              "    'the',\n",
              "    'spring',\n",
              "    'restaurant',\n",
              "    'though',\n",
              "    'seemed',\n",
              "    'several',\n",
              "    '.',\n",
              "    'quiet',\n",
              "    '?',\n",
              "    '!',\n",
              "    '-',\n",
              "    'making',\n",
              "    '\"',\n",
              "    'hell',\n",
              "    'hours',\n",
              "    'and',\n",
              "    '.',\n",
              "    'sauce',\n",
              "    '.',\n",
              "    'stations',\n",
              "    '\"',\n",
              "    '!',\n",
              "    'you',\n",
              "    'this',\n",
              "    'paper',\n",
              "    '.',\n",
              "    'peruse',\n",
              "    'toast',\n",
              "    'he',\n",
              "    'beautiful',\n",
              "    '!',\n",
              "    'small',\n",
              "    '\"',\n",
              "    ',',\n",
              "    'ignorant',\n",
              "    'be',\n",
              "    'fried',\n",
              "    ';',\n",
              "    'includes',\n",
              "    'indoors',\n",
              "    'on',\n",
              "    'be',\n",
              "    '.',\n",
              "    'or',\n",
              "    'good',\n",
              "    'distinguished',\n",
              "    'is',\n",
              "    '?',\n",
              "    'sweet',\n",
              "    ';',\n",
              "    '-',\n",
              "    'chicken',\n",
              "    'warm',\n",
              "    'pit',\n",
              "    'once',\n",
              "    ',',\n",
              "    '?',\n",
              "    'faster',\n",
              "    'place',\n",
              "    'you',\n",
              "    '|',\n",
              "    'so',\n",
              "    'today',\n",
              "    'little',\n",
              "    '-',\n",
              "    'was',\n",
              "    'happen',\n",
              "    'animal',\n",
              "    'about',\n",
              "    'at',\n",
              "    'boat',\n",
              "    '&',\n",
              "    'corner',\n",
              "    'authentic',\n",
              "    'contest',\n",
              "    'not',\n",
              "    '?',\n",
              "    'red',\n",
              "    'come',\n",
              "    'red',\n",
              "    '|',\n",
              "    'visit',\n",
              "    'books',\n",
              "    'just',\n",
              "    'ed',\n",
              "    ';',\n",
              "    'what',\n",
              "    'good',\n",
              "    \"'\",\n",
              "    '.',\n",
              "    'good',\n",
              "    'a',\n",
              "    'find',\n",
              "    'seafood',\n",
              "    '.',\n",
              "    'good',\n",
              "    'frank',\n",
              "    'paying',\n",
              "    'shop',\n",
              "    'a',\n",
              "    'stay',\n",
              "    'sold',\n",
              "    'in',\n",
              "    'lot',\n",
              "    ';',\n",
              "    'place',\n",
              "    'work',\n",
              "    'with',\n",
              "    'is',\n",
              "    '=',\n",
              "    'too',\n",
              "    'one',\n",
              "    '.',\n",
              "    'with',\n",
              "    'down',\n",
              "    'bakery',\n",
              "    'to',\n",
              "    'nice',\n",
              "    'for',\n",
              "    'close',\n",
              "    'earth',\n",
              "    'new',\n",
              "    'good',\n",
              "    'known',\n",
              "    'our',\n",
              "    'meal',\n",
              "    'places',\n",
              "    'enjoy',\n",
              "    'camp',\n",
              "    'almost',\n",
              "    ',',\n",
              "    'got',\n",
              "    'places',\n",
              "    'putting',\n",
              "    'attractions',\n",
              "    'food',\n",
              "    'market',\n",
              "    'all',\n",
              "    'have',\n",
              "    '.',\n",
              "    ';',\n",
              "    'gardens',\n",
              "    'proportions',\n",
              "    'fresh',\n",
              "    'will',\n",
              "    'city',\n",
              "    'while',\n",
              "    'three',\n",
              "    'love',\n",
              "    'good',\n",
              "    'way',\n",
              "    'typical',\n",
              "    'that',\n",
              "    'market',\n",
              "    'get',\n",
              "    'stories',\n",
              "    '.',\n",
              "    'urge',\n",
              "    'at',\n",
              "    'street',\n",
              "    'else',\n",
              "    'miss',\n",
              "    'say',\n",
              "    'green',\n",
              "    'the',\n",
              "    'ground',\n",
              "    'may',\n",
              "    'fresh',\n",
              "    'sold',\n",
              "    'feel',\n",
              "    'other',\n",
              "    'what',\n",
              "    'wish',\n",
              "    'to',\n",
              "    'come',\n",
              "    'thought',\n",
              "    'delicious',\n",
              "    'travel',\n",
              "    'lots',\n",
              "    'dinner',\n",
              "    'take',\n",
              "    'meal',\n",
              "    'just',\n",
              "    'understand',\n",
              "    'night',\n",
              "    'ground',\n",
              "    'destination',\n",
              "    '?',\n",
              "    'all',\n",
              "    'stocking',\n",
              "    'a',\n",
              "    'daily',\n",
              "    '!',\n",
              "    'much',\n",
              "    'often',\n",
              "    'central',\n",
              "    'pork',\n",
              "    'prices',\n",
              "    'fancy',\n",
              "    'lunch',\n",
              "    'way',\n",
              "    'banana',\n",
              "    'place',\n",
              "    'later',\n",
              "    'destination',\n",
              "    'little',\n",
              "    'see',\n",
              "    'will',\n",
              "    '!',\n",
              "    'market',\n",
              "    'not',\n",
              "    '!',\n",
              "    'long',\n",
              "    'gigantic',\n",
              "    'whipped',\n",
              "    'flesh',\n",
              "    'goes',\n",
              "    'something',\n",
              "    'not',\n",
              "    'spending',\n",
              "    'nothing',\n",
              "    '.',\n",
              "    'monkey',\n",
              "    'me',\n",
              "    'parking',\n",
              "    'place',\n",
              "    'may',\n",
              "    'player',\n",
              "    '!',\n",
              "    'minimum',\n",
              "    'never',\n",
              "    'philly',\n",
              "    'lots',\n",
              "    'on',\n",
              "    'also',\n",
              "    'parking',\n",
              "    'local',\n",
              "    'store',\n",
              "    'food',\n",
              "    'fresh',\n",
              "    'rain',\n",
              "    ';',\n",
              "    'maybe',\n",
              "    'not',\n",
              "    '!',\n",
              "    'creole',\n",
              "    '?',\n",
              "    'perfect',\n",
              "    'game',\n",
              "    'my',\n",
              "    'early',\n",
              "    'good',\n",
              "    'no',\n",
              "    'bakers',\n",
              "    'music',\n",
              "    'coulda',\n",
              "    '-',\n",
              "    'and',\n",
              "    'heart',\n",
              "    'walking',\n",
              "    'restaurants',\n",
              "    '|',\n",
              "    'range',\n",
              "    '!',\n",
              "    'after',\n",
              "    'took',\n",
              "    'chicken',\n",
              "    'stage',\n",
              "    ';',\n",
              "    'on',\n",
              "    '.',\n",
              "    'must',\n",
              "    'hours',\n",
              "    '?',\n",
              "    'he',\n",
              "    'impulse',\n",
              "    'excellent',\n",
              "    'mall',\n",
              "    'back',\n",
              "    'worst',\n",
              "    'great',\n",
              "    'other',\n",
              "    'always',\n",
              "    'preferred',\n",
              "    'get',\n",
              "    'periods',\n",
              "    '!',\n",
              "    '!',\n",
              "    'come',\n",
              "    '?',\n",
              "    'choices',\n",
              "    ',',\n",
              "    'ancient',\n",
              "    'hot',\n",
              "    'hour',\n",
              "    'instead',\n",
              "    'stay',\n",
              "    'house',\n",
              "    'place',\n",
              "    'dog',\n",
              "    'philly',\n",
              "    'each',\n",
              "    '-',\n",
              "    'escape',\n",
              "    'leaving',\n",
              "    'open',\n",
              "    '!',\n",
              "    ';',\n",
              "    'drinking',\n",
              "    'no',\n",
              "    'with',\n",
              "    'ever',\n",
              "    'larger',\n",
              "    'goods',\n",
              "    'remember',\n",
              "    'for',\n",
              "    '|',\n",
              "    'heck',\n",
              "    'four',\n",
              "    'expensive',\n",
              "    'sitting',\n",
              "    'neverending',\n",
              "    'their',\n",
              "    '.',\n",
              "    '|',\n",
              "    ';',\n",
              "    'hope',\n",
              "    'high',\n",
              "    'best',\n",
              "    'somewhere',\n",
              "    'chicken',\n",
              "    'another',\n",
              "    '!',\n",
              "    'back',\n",
              "    ';',\n",
              "    'was',\n",
              "    'looking',\n",
              "    'and',\n",
              "    ';',\n",
              "    'early',\n",
              "    'the',\n",
              "    'food',\n",
              "    'he',\n",
              "    'monkey',\n",
              "    'coffee',\n",
              "    '!',\n",
              "    'example',\n",
              "    'cookbooks',\n",
              "    ':',\n",
              "    'something',\n",
              "    'girl',\n",
              "    'a',\n",
              "    'and',\n",
              "    'the',\n",
              "    'made',\n",
              "    'later',\n",
              "    'plate',\n",
              "    'city',\n",
              "    'food',\n",
              "    'it',\n",
              "    'place',\n",
              "    'on',\n",
              "    '?',\n",
              "    'know',\n",
              "    ';',\n",
              "    'way',\n",
              "    'donut',\n",
              "    'you',\n",
              "    'plenty',\n",
              "    'was',\n",
              "    'the',\n",
              "    'great',\n",
              "    '!',\n",
              "    'school',\n",
              "    'one',\n",
              "    'great',\n",
              "    'elsewhere',\n",
              "    'any',\n",
              "    'to',\n",
              "    '|',\n",
              "    'freaking',\n",
              "    ';',\n",
              "    'bud',\n",
              "    '!',\n",
              "    'lunch',\n",
              "    'wonder',\n",
              "    'rear',\n",
              "    'restaurant',\n",
              "    '.',\n",
              "    ';',\n",
              "    'prices',\n",
              "    'with',\n",
              "    '?',\n",
              "    ';',\n",
              "    'and',\n",
              "    ';',\n",
              "    'school',\n",
              "    '?',\n",
              "    'people',\n",
              "    'hot',\n",
              "    'small',\n",
              "    ',',\n",
              "    'afternoon',\n",
              "    '.',\n",
              "    'the',\n",
              "    'year',\n",
              "    '•',\n",
              "    'the',\n",
              "    'buying',\n",
              "    '.',\n",
              "    '.',\n",
              "    '|',\n",
              "    '!',\n",
              "    'had',\n",
              "    'learning',\n",
              "    'most',\n",
              "    'car',\n",
              "    'we',\n",
              "    'more',\n",
              "    'football',\n",
              "    'makes',\n",
              "    'asking',\n",
              "    'breakfast',\n",
              "    '.',\n",
              "    'available',\n",
              "    '?',\n",
              "    'reasons',\n",
              "    'whipped',\n",
              "    'example',\n",
              "    'toll',\n",
              "    '|',\n",
              "    'this',\n",
              "    'get',\n",
              "    '|',\n",
              "    'find',\n",
              "    '|',\n",
              "    'the']]],\n",
              " (12712, 4803): [[        latitude  longitude\n",
              "   24957  39.934744 -75.024516, array([ 39.93417444, -75.02599067])],\n",
              "  [array(0.61675733), array(0.97230935)],\n",
              "  [[], []]],\n",
              " (12712, 24283): [[        latitude  longitude  RestaurantsCounterService\n",
              "   31614  39.919698 -75.188382                        0.0,\n",
              "   array([ 39.91912828, -75.18690676,   1.00000002])],\n",
              "  [array(0.61411554), array(0.96139789), array(54.81446, dtype=float32)],\n",
              "  [[], []]],\n",
              " (12712, 2841): [[        latitude  longitude\n",
              "   23249  39.967441 -75.170014, array([ 39.96801118, -75.16853885])],\n",
              "  [array(0.62269837), array(0.96264338)],\n",
              "  [[], []]],\n",
              " (12712, 7065): [[       latitude  longitude\n",
              "   47810    39.963 -75.163959, array([ 39.96356984, -75.16543417])],\n",
              "  [array(0.62191856), array(0.96285391)],\n",
              "  [[], []]],\n",
              " (1120, 427): [[        latitude  longitude  Open24Hours\n",
              "   16171  36.182422 -86.735517          0.0,\n",
              "   array([ 36.18185284, -86.73404229,   1.00000002])],\n",
              "  [array(-0.04207299), array(0.17840494), array(43.017372, dtype=float32)],\n",
              "  [['grief',\n",
              "    'good',\n",
              "    'mouth',\n",
              "    'plum',\n",
              "    'wait',\n",
              "    'chocolate',\n",
              "    'cream',\n",
              "    'wait',\n",
              "    'yummy',\n",
              "    'goat',\n",
              "    'brand',\n",
              "    'give',\n",
              "    'selection',\n",
              "    'eggnog',\n",
              "    'service',\n",
              "    'cheese',\n",
              "    'good'],\n",
              "   ['only',\n",
              "    'wonderful',\n",
              "    'good',\n",
              "    'was',\n",
              "    'wild',\n",
              "    ';',\n",
              "    '!',\n",
              "    'sea',\n",
              "    'soup',\n",
              "    ';',\n",
              "    'the',\n",
              "    'three',\n",
              "    ';',\n",
              "    '.',\n",
              "    '!',\n",
              "    'bean',\n",
              "    'preferred']]],\n",
              " (1120, 1321): [[       latitude  longitude  Open24Hours\n",
              "   5472  36.103133   -86.8185          0.0,\n",
              "   array([ 36.10256344, -86.81997484,   1.00000002])],\n",
              "  [array(-0.05599457), array(0.17257799), array(43.017372, dtype=float32)],\n",
              "  [['bars',\n",
              "    'gallon',\n",
              "    'sunday',\n",
              "    'bag',\n",
              "    'girl',\n",
              "    'sausage',\n",
              "    'breakfast',\n",
              "    'better',\n",
              "    'awesome'],\n",
              "   ['chef', '?', 'red', 'guy', 'salad', 'foods', 'you', 'start', 'dawn']]],\n",
              " (1120, 1598): [[        latitude  longitude\n",
              "   26972  36.106041 -86.762134, array([ 36.10547161, -86.76065865])],\n",
              "  [array(-0.05548396), array(0.17660013)],\n",
              "  [['location'], ['a']]],\n",
              " (1120, 12837): [[       latitude  longitude\n",
              "   6078  36.108581 -86.813227, array([ 36.10801115, -86.8147014 ])],\n",
              "  [array(-0.05503806), array(0.17293558)],\n",
              "  [[], []]],\n",
              " (1120, 21480): [[       latitude  longitude\n",
              "   6099  36.152238 -86.846954, array([ 36.15166885, -86.84547969])],\n",
              "  [array(-0.04737267), array(0.17084855)],\n",
              "  [[], []]],\n",
              " (1097, 6708): [[        latitude  longitude  halal\n",
              "   37439  39.969726 -86.127815    0.0,\n",
              "   array([ 39.97029618, -86.12928931,   1.        ])],\n",
              "  [array(0.62309957), array(0.21941228), array(51.712475, dtype=float32)],\n",
              "  [[], []]],\n",
              " (1097, 834): [[       latitude  longitude\n",
              "   2276  39.782987 -86.135068, array([ 39.7835566 , -86.13654251])],\n",
              "  [array(0.59031194), array(0.21892045)],\n",
              "  [['solid', 'light', 'magpie', 'indy'], [',', 'year', 'united', '?']]],\n",
              " (1097, 13448): [[        latitude  longitude  vegan\n",
              "   24511  39.781303 -86.162359    0.0,\n",
              "   array([ 39.78187247, -86.16088442,  -0.99999998])],\n",
              "  [array(0.59001625), array(0.21726987), array(-51.683807, dtype=float32)],\n",
              "  [[], []]],\n",
              " (1097, 5224): [[        latitude  longitude  vegan\n",
              "   13618  39.870106 -86.084014    0.0,\n",
              "   array([ 39.86953655, -86.08253887,   0.99999997])],\n",
              "  [array(0.60540825), array(0.22258236), array(51.692406, dtype=float32)],\n",
              "  [[], []]],\n",
              " (1097, 1214): [[       latitude  longitude  Open24Hours\n",
              "   4431  39.926474 -86.228911          0.0,\n",
              "   array([ 39.92704379, -86.23038554,   1.00000002])],\n",
              "  [array(0.61550534), array(0.21255711), array(43.017372, dtype=float32)],\n",
              "  [[], []]],\n",
              " (5526, 6704): [[        latitude  longitude  vegetarian\n",
              "   25800  39.768684  -86.15345         0.0,\n",
              "   array([ 39.7692532 , -86.1549247 ,  -0.99999998])],\n",
              "  [array(0.58780056), array(0.21767399), array(-51.683807, dtype=float32)],\n",
              "  [['people',\n",
              "    'free',\n",
              "    'sharpe',\n",
              "    'catacombs',\n",
              "    'love',\n",
              "    'visit',\n",
              "    'come',\n",
              "    'opening'],\n",
              "   ['this', 'grass', 'number', 'love', 'today', 'my', 'old', 'outside']]],\n",
              " (5526, 571): [[       latitude  longitude\n",
              "   6636  39.851248 -86.145981, array([ 39.85181736, -86.1474557 ])],\n",
              "  [array(0.60229713), array(0.21818045)],\n",
              "  [['things',\n",
              "    'like',\n",
              "    'menu',\n",
              "    'price',\n",
              "    'eat',\n",
              "    'beer',\n",
              "    'hands',\n",
              "    'jam',\n",
              "    'burger',\n",
              "    'meal',\n",
              "    'read',\n",
              "    'first',\n",
              "    'fries',\n",
              "    'quick',\n",
              "    'good',\n",
              "    'fab',\n",
              "    'good'],\n",
              "   ['!',\n",
              "    'awesome',\n",
              "    'all',\n",
              "    'and',\n",
              "    'tuesday',\n",
              "    'indicating',\n",
              "    'burger',\n",
              "    '|',\n",
              "    'green',\n",
              "    'life',\n",
              "    'pale',\n",
              "    '!',\n",
              "    '!',\n",
              "    '|',\n",
              "    ';',\n",
              "    'payday',\n",
              "    'going']]],\n",
              " (5526, 830): [[       latitude  longitude\n",
              "   4590  39.776174 -86.148584, array([ 39.77674369, -86.15005869])],\n",
              "  [array(0.58911574), array(0.21800394)],\n",
              "  [['home'], ['breakfast']]],\n",
              " (5526, 4958): [[      latitude  longitude\n",
              "   824  39.912878 -86.134275, array([ 39.91344752, -86.13280032])],\n",
              "  [array(0.61311811), array(0.21917421)],\n",
              "  [[], []]],\n",
              " (5526, 15340): [[        latitude  longitude  kosher\n",
              "   47854  39.771116 -86.067118     0.0,\n",
              "   array([ 39.77168519, -86.06564354,  -1.        ])],\n",
              "  [array(0.58822757), array(0.223728), array(-51.677956, dtype=float32)],\n",
              "  [[], []]]}"
            ]
          },
          "metadata": {},
          "execution_count": 100
        }
      ]
    },
    {
      "cell_type": "code",
      "source": [
        "print(rec_dataset.inv_item_name_dict[12469])\n",
        "print(rec_dataset.inv_item_name_dict[2261])\n",
        "print(rec_dataset.inv_item_name_dict[6988])\n",
        "print(rec_dataset.inv_item_name_dict[3766])"
      ],
      "metadata": {
        "colab": {
          "base_uri": "https://localhost:8080/"
        },
        "id": "JNCwyBnwe08z",
        "outputId": "416ca9c7-2b55-488e-e627-a44eed245471"
      },
      "execution_count": null,
      "outputs": [
        {
          "output_type": "stream",
          "name": "stdout",
          "text": [
            "0vTc7-wiDBDKKmGvC0EzFg\n",
            "QbAZz0bNDECP9fKh2HXwEA\n",
            "tU692E8N0xBQ7Ogc78gN2g\n",
            "7JhQXpiMml41sxN34CUcKQ\n"
          ]
        }
      ]
    },
    {
      "cell_type": "markdown",
      "source": [
        "(6708, 12469): [[       latitude  longitude  vegetarian\n",
        "   43784  27.77134 -82.636484         0.0,\n",
        "   array([ 27.77077003, -82.63795875,  -0.99999998])],\n",
        "  [array(-1.51888573), array(0.45615387), array(-51.683807, dtype=float32)],\n",
        "  [['raw', 'brunch', 'food'], ['back', 'grab', '!']]],"
      ],
      "metadata": {
        "id": "gHVg0FVyh6Vk"
      }
    },
    {
      "cell_type": "code",
      "source": [
        "print(rec_dataset.inv_user_name_dict[6708])"
      ],
      "metadata": {
        "colab": {
          "base_uri": "https://localhost:8080/"
        },
        "id": "GYjIOckWDglX",
        "outputId": "430adeef-3106-41de-9244-cdc4ae62abd8"
      },
      "execution_count": null,
      "outputs": [
        {
          "output_type": "stream",
          "name": "stdout",
          "text": [
            "_MZgpTdm-0HoTl6y9rVHgA\n"
          ]
        }
      ]
    },
    {
      "cell_type": "code",
      "source": [
        "tip_df[tip_df['business_id']=='0vTc7-wiDBDKKmGvC0EzFg']['text'].values"
      ],
      "metadata": {
        "id": "ITbsQOU_gQEW"
      },
      "execution_count": null,
      "outputs": []
    },
    {
      "cell_type": "code",
      "source": [
        "business_df[business_df['business_id']=='0vTc7-wiDBDKKmGvC0EzFg']['attributes'].values"
      ],
      "metadata": {
        "outputId": "6268e276-afdc-4346-dcc6-880cb56f1bbb",
        "colab": {
          "base_uri": "https://localhost:8080/"
        },
        "id": "Pmbxq8MPfSb1"
      },
      "execution_count": null,
      "outputs": [
        {
          "output_type": "execute_result",
          "data": {
            "text/plain": [
              "array([{'GoodForKids': 'False', 'RestaurantsPriceRange2': '2', 'RestaurantsAttire': \"u'casual'\", 'RestaurantsReservations': 'True', 'NoiseLevel': \"u'average'\", 'BikeParking': 'True', 'Alcohol': \"u'full_bar'\", 'RestaurantsGoodForGroups': 'True', 'WiFi': \"u'free'\", 'Smoking': \"u'outdoor'\", 'BestNights': \"{'monday': False, 'tuesday': True, 'friday': True, 'wednesday': False, 'thursday': False, 'sunday': False, 'saturday': True}\", 'GoodForDancing': 'False', 'HasTV': 'True', 'OutdoorSeating': 'True', 'BYOB': 'False', 'DogsAllowed': 'True', 'Music': \"{'dj': False, 'background_music': False, 'no_music': False, 'jukebox': False, 'live': False, 'video': False, 'karaoke': False}\", 'Ambience': \"{u'divey': False, u'hipster': None, u'casual': True, u'touristy': False, u'trendy': True, u'intimate': False, u'romantic': None, u'classy': None, u'upscale': False}\", 'CoatCheck': 'False', 'RestaurantsTableService': 'True', 'Caters': 'True', 'HappyHour': 'True', 'GoodForMeal': \"{u'breakfast': False, u'brunch': None, u'lunch': True, u'dinner': True, u'latenight': True, u'dessert': None}\", 'RestaurantsDelivery': 'True', 'BusinessAcceptsBitcoin': 'False', 'Corkage': 'False', 'BusinessAcceptsCreditCards': 'True', 'BusinessParking': \"{'garage': True, 'street': True, 'validated': False, 'lot': False, 'valet': False}\", 'WheelchairAccessible': 'True', 'RestaurantsTakeOut': 'True', 'ByAppointmentOnly': 'False'}],\n",
              "      dtype=object)"
            ]
          },
          "metadata": {},
          "execution_count": 117
        }
      ]
    },
    {
      "cell_type": "code",
      "source": [
        "business_df[business_df['business_id']=='0vTc7-wiDBDKKmGvC0EzFg']['hours'].values"
      ],
      "metadata": {
        "outputId": "c02c8e8e-0e74-4c3e-9120-0f9c448a8c08",
        "colab": {
          "base_uri": "https://localhost:8080/"
        },
        "id": "TODkYmJOfSb1"
      },
      "execution_count": null,
      "outputs": [
        {
          "output_type": "execute_result",
          "data": {
            "text/plain": [
              "array([{'Monday': '11:0-0:0', 'Tuesday': '11:0-0:0', 'Wednesday': '11:0-0:0', 'Thursday': '11:0-0:0', 'Friday': '11:0-3:0', 'Saturday': '11:0-3:0', 'Sunday': '11:0-0:0'}],\n",
              "      dtype=object)"
            ]
          },
          "metadata": {},
          "execution_count": 118
        }
      ]
    },
    {
      "cell_type": "markdown",
      "source": [
        "(6708, 2261): [[        latitude  longitude\n",
        "   43907  27.798844 -82.638975, array([ 27.79827422, -82.63750078])],\n",
        "  [array(-1.51405656), array(0.45618492)],\n",
        "  [['meat', 'great', 'manager'], ['protein', 'burger', '?']]],"
      ],
      "metadata": {
        "id": "_T-CKW3MiTib"
      }
    },
    {
      "cell_type": "code",
      "source": [
        "tip_df[tip_df['business_id']=='QbAZz0bNDECP9fKh2HXwEA']['text'].values"
      ],
      "metadata": {
        "id": "TGEd6W9Yh-91"
      },
      "execution_count": null,
      "outputs": []
    },
    {
      "cell_type": "code",
      "source": [
        "business_df[business_df['business_id']=='QbAZz0bNDECP9fKh2HXwEA']['attributes'].values"
      ],
      "metadata": {
        "outputId": "daa3babc-65de-4d2a-f58a-b8240a685832",
        "colab": {
          "base_uri": "https://localhost:8080/"
        },
        "id": "KRD1uFvhfhmE"
      },
      "execution_count": null,
      "outputs": [
        {
          "output_type": "execute_result",
          "data": {
            "text/plain": [
              "array([{'BusinessParking': \"{'garage': False, 'street': False, 'validated': False, 'lot': True, 'valet': False}\", 'RestaurantsPriceRange2': '2', 'BikeParking': 'True', 'BusinessAcceptsCreditCards': 'True', 'RestaurantsTakeOut': 'True', 'DogsAllowed': 'False', 'Caters': 'True', 'NoiseLevel': \"u'quiet'\", 'GoodForKids': 'True', 'RestaurantsDelivery': 'True'}],\n",
              "      dtype=object)"
            ]
          },
          "metadata": {},
          "execution_count": 119
        }
      ]
    },
    {
      "cell_type": "code",
      "source": [
        "business_df[business_df['business_id']=='QbAZz0bNDECP9fKh2HXwEA']['hours'].values"
      ],
      "metadata": {
        "outputId": "1a6c30ae-4dbd-45a9-9db4-c8dd471d719d",
        "colab": {
          "base_uri": "https://localhost:8080/"
        },
        "id": "4Z6G1_5QfhmF"
      },
      "execution_count": null,
      "outputs": [
        {
          "output_type": "execute_result",
          "data": {
            "text/plain": [
              "array([{'Monday': '8:0-21:0', 'Tuesday': '7:0-22:0', 'Wednesday': '7:0-22:0', 'Thursday': '7:0-16:0', 'Friday': '8:0-21:0', 'Saturday': '8:0-21:0', 'Sunday': '8:0-16:0'}],\n",
              "      dtype=object)"
            ]
          },
          "metadata": {},
          "execution_count": 120
        }
      ]
    },
    {
      "cell_type": "markdown",
      "source": [
        "(8694, 6988): [[        latitude  longitude  vegetarian\n",
        "   24923  36.177038 -86.749691         0.0,\n",
        "   array([ 36.17760736, -86.75116573,   0.99999997])],\n",
        "  [array(-0.0428184), array(0.17724383), array(51.692406, dtype=float32)],\n",
        "  [['order', 'iced', 'hangout'], ['cream', '|', ';']]],"
      ],
      "metadata": {
        "id": "tn-gQwCri0gP"
      }
    },
    {
      "cell_type": "code",
      "source": [
        "tip_df[tip_df['business_id']=='tU692E8N0xBQ7Ogc78gN2g']['text'].values"
      ],
      "metadata": {
        "id": "IUtwm9MsiYed"
      },
      "execution_count": null,
      "outputs": []
    },
    {
      "cell_type": "code",
      "source": [
        "business_df[business_df['business_id']=='tU692E8N0xBQ7Ogc78gN2g']['attributes'].values"
      ],
      "metadata": {
        "outputId": "bb8fb127-9265-4398-d312-de1bb59b25f6",
        "colab": {
          "base_uri": "https://localhost:8080/"
        },
        "id": "NpkTU9FNgReC"
      },
      "execution_count": null,
      "outputs": [
        {
          "output_type": "execute_result",
          "data": {
            "text/plain": [
              "array([{'BusinessAcceptsCreditCards': 'True', 'RestaurantsGoodForGroups': 'True', 'RestaurantsAttire': \"'casual'\", 'RestaurantsPriceRange2': '1', 'RestaurantsReservations': 'False', 'BusinessParking': \"{'garage': False, 'street': True, 'validated': False, 'lot': True, 'valet': False}\", 'BikeParking': 'True', 'WiFi': \"'free'\", 'Ambience': \"{'touristy': False, 'hipster': True, 'romantic': False, 'divey': False, 'intimate': False, 'trendy': False, 'upscale': False, 'classy': False, 'casual': True}\", 'NoiseLevel': \"u'average'\", 'Caters': 'False', 'OutdoorSeating': 'True', 'GoodForKids': 'True', 'HasTV': 'False', 'RestaurantsTableService': 'False', 'BusinessAcceptsBitcoin': 'False', 'GoodForMeal': \"{'dessert': False, 'latenight': False, 'lunch': True, 'dinner': False, 'brunch': False, 'breakfast': True}\", 'RestaurantsDelivery': 'True', 'WheelchairAccessible': 'True', 'HappyHour': 'False', 'RestaurantsTakeOut': 'True', 'Alcohol': \"u'none'\", 'DogsAllowed': 'False', 'BYOB': 'False'}],\n",
              "      dtype=object)"
            ]
          },
          "metadata": {},
          "execution_count": 121
        }
      ]
    },
    {
      "cell_type": "code",
      "source": [
        "business_df[business_df['business_id']=='tU692E8N0xBQ7Ogc78gN2g']['hours'].values"
      ],
      "metadata": {
        "outputId": "5cb29c98-bf0c-49a7-8865-2d42a115c62a",
        "colab": {
          "base_uri": "https://localhost:8080/"
        },
        "id": "uIlzdqvvgReE"
      },
      "execution_count": null,
      "outputs": [
        {
          "output_type": "execute_result",
          "data": {
            "text/plain": [
              "array([{'Monday': '0:0-0:0', 'Tuesday': '7:0-22:0', 'Wednesday': '7:0-22:0', 'Thursday': '7:0-22:0', 'Friday': '7:0-22:0', 'Saturday': '7:0-22:0', 'Sunday': '7:0-22:0'}],\n",
              "      dtype=object)"
            ]
          },
          "metadata": {},
          "execution_count": 122
        }
      ]
    },
    {
      "cell_type": "markdown",
      "source": [
        "(1717, 3766): [[        latitude  longitude\n",
        "   24470  29.925246 -90.070297, array([ 29.92467585, -90.07177187])],\n",
        "  [array(-1.14070427), array(-0.04792121)],\n",
        "  [['korean', 'times'], ['bigger', 'everywhere']]],"
      ],
      "metadata": {
        "id": "Lu987jeWjCqp"
      }
    },
    {
      "cell_type": "code",
      "source": [
        "tip_df[tip_df['business_id']=='7JhQXpiMml41sxN34CUcKQ']['text'].values"
      ],
      "metadata": {
        "id": "ENTKv02di67L"
      },
      "execution_count": null,
      "outputs": []
    },
    {
      "cell_type": "code",
      "source": [
        "business_df[business_df['business_id']=='7JhQXpiMml41sxN34CUcKQ']['attributes'].values"
      ],
      "metadata": {
        "outputId": "08ccc3e6-a2c9-404e-e872-5683e7fe17ed",
        "colab": {
          "base_uri": "https://localhost:8080/"
        },
        "id": "X25mcCcdgkbI"
      },
      "execution_count": null,
      "outputs": [
        {
          "output_type": "execute_result",
          "data": {
            "text/plain": [
              "array([{'BikeParking': 'True', 'BusinessParking': \"{'garage': False, 'street': False, 'validated': False, 'lot': True, 'valet': False}\", 'BusinessAcceptsCreditCards': 'True', 'RestaurantsPriceRange2': '2', 'WheelchairAccessible': 'True', 'DogsAllowed': 'False', 'Caters': 'False', 'RestaurantsDelivery': 'True', 'RestaurantsTakeOut': 'True'}],\n",
              "      dtype=object)"
            ]
          },
          "metadata": {},
          "execution_count": 123
        }
      ]
    },
    {
      "cell_type": "code",
      "source": [
        "business_df[business_df['business_id']=='7JhQXpiMml41sxN34CUcKQ']['hours'].values"
      ],
      "metadata": {
        "outputId": "4b7a3cb9-699f-4f1f-f9db-b2765cfc3d20",
        "colab": {
          "base_uri": "https://localhost:8080/"
        },
        "id": "e4Sii4gigkbK"
      },
      "execution_count": null,
      "outputs": [
        {
          "output_type": "execute_result",
          "data": {
            "text/plain": [
              "array([{'Monday': '8:0-17:0', 'Tuesday': '8:0-17:0', 'Wednesday': '8:0-17:0', 'Thursday': '8:0-17:0', 'Friday': '8:0-17:0', 'Saturday': '8:0-17:0', 'Sunday': '8:0-17:0'}],\n",
              "      dtype=object)"
            ]
          },
          "metadata": {},
          "execution_count": 124
        }
      ]
    },
    {
      "cell_type": "code",
      "source": [
        "opt_model.u_i_exp_dict"
      ],
      "metadata": {
        "colab": {
          "base_uri": "https://localhost:8080/"
        },
        "id": "tEFQhcnYeIZA",
        "outputId": "e05d839a-06ec-464b-e15e-37e94d0ffe23"
      },
      "execution_count": null,
      "outputs": [
        {
          "output_type": "execute_result",
          "data": {
            "text/plain": [
              "{(1717, 8101): [[        latitude  longitude\n",
              "   31476  29.963765 -90.057946, array([ 29.96433456, -90.05647096])],\n",
              "  [array(-1.13374102), array(-0.04688368)],\n",
              "  [['esp', 'ever', 'upbeat'], ['hanging', 'afternoon', 'and']]],\n",
              " (1717, 3766): [[        latitude  longitude\n",
              "   24470  29.925246 -90.070297, array([ 29.92467585, -90.07177187])],\n",
              "  [array(-1.14070427), array(-0.04792121)],\n",
              "  [['korean', 'times'], ['bigger', 'everywhere']]],\n",
              " (1717, 3027): [[       latitude  longitude\n",
              "   5456  29.964349 -90.100307, array([ 29.96491914, -90.09883264])],\n",
              "  [array(-1.13363838), array(-0.04975615)],\n",
              "  [[], []]],\n",
              " (1717, 18204): [[        latitude  longitude\n",
              "   23544  29.981451  -90.10724, array([ 29.98202048, -90.10871475])],\n",
              "  [array(-1.13063574), array(-0.05042624)],\n",
              "  [['hidden', 'pizza'], ['with', 'informs']]],\n",
              " (1717, 27406): [[        latitude  longitude\n",
              "   30162  29.960329 -90.063783, array([ 29.95975981, -90.06525815])],\n",
              "  [array(-1.13454425), array(-0.04747952)],\n",
              "  [['crawfish', 'gumbo', 'boy', 'delicious', 'hole', 'good'],\n",
              "   ['three', 'dawn', 'fun', 'weather', 'game', 'came']]],\n",
              " (6708, 3795): [[       latitude  longitude  dairy-free\n",
              "   17519   27.9485 -82.459561         0.0,\n",
              "   array([ 27.94906995, -82.46103535,  -1.00000001])],\n",
              "  [array(-1.48757994), array(0.46815076), array(-51.680943, dtype=float32)],\n",
              "  [['quick', 'cuban'], [';', 'so']]],\n",
              " (6708, 129): [[        latitude  longitude\n",
              "   43542  27.765963  -82.63158, array([ 27.76653204, -82.63010562])],\n",
              "  [array(-1.51962984), array(0.45668638)],\n",
              "  [['remember',\n",
              "    'see',\n",
              "    'inspiring',\n",
              "    'come',\n",
              "    'garages',\n",
              "    'know',\n",
              "    'ids',\n",
              "    'headphones',\n",
              "    'idiots',\n",
              "    'dali',\n",
              "    'check',\n",
              "    'line',\n",
              "    'deal',\n",
              "    'age',\n",
              "    'dreams',\n",
              "    'make',\n",
              "    'check'],\n",
              "   ['one',\n",
              "    'hard',\n",
              "    'college',\n",
              "    'tour',\n",
              "    'classy',\n",
              "    'worker',\n",
              "    'becomes',\n",
              "    'have',\n",
              "    'and',\n",
              "    'have',\n",
              "    'of',\n",
              "    'antique',\n",
              "    'works',\n",
              "    'date',\n",
              "    '.',\n",
              "    'especially',\n",
              "    'avoid']]],\n",
              " (6708, 12469): [[       latitude  longitude  vegetarian\n",
              "   43784  27.77134 -82.636484         0.0,\n",
              "   array([ 27.77077003, -82.63795875,  -0.99999998])],\n",
              "  [array(-1.51888573), array(0.45615387), array(-51.683807, dtype=float32)],\n",
              "  [['raw', 'brunch', 'food'], ['back', 'grab', '!']]],\n",
              " (6708, 2261): [[        latitude  longitude\n",
              "   43907  27.798844 -82.638975, array([ 27.79827422, -82.63750078])],\n",
              "  [array(-1.51405656), array(0.45618492)],\n",
              "  [['meat', 'great', 'manager'], ['protein', 'burger', '?']]],\n",
              " (6708, 4394): [[       latitude  longitude\n",
              "   8692  36.112379 -86.763248, array([ 36.11294855, -86.76177325])],\n",
              "  [array(-0.05417116), array(0.17652455)],\n",
              "  [[], []]],\n",
              " (8694, 6988): [[        latitude  longitude  vegetarian\n",
              "   24923  36.177038 -86.749691         0.0,\n",
              "   array([ 36.17760736, -86.75116573,   0.99999997])],\n",
              "  [array(-0.0428184), array(0.17724383), array(51.692406, dtype=float32)],\n",
              "  [['order', 'iced', 'hangout'], ['cream', '|', ';']]],\n",
              " (8694, 164): [[      latitude  longitude\n",
              "   4770   36.1509 -86.797012, array([ 36.15033035, -86.79848643])],\n",
              "  [array(-0.04760769), array(0.17403509)],\n",
              "  [['jamison',\n",
              "    'went',\n",
              "    'loved',\n",
              "    'melt',\n",
              "    'great',\n",
              "    'hate',\n",
              "    'brunches',\n",
              "    'rancheros',\n",
              "    'salty',\n",
              "    'representation',\n",
              "    'check',\n",
              "    'wednesday',\n",
              "    'valet',\n",
              "    'catfish',\n",
              "    'sara',\n",
              "    'live',\n",
              "    'great',\n",
              "    'trash',\n",
              "    'service',\n",
              "    'bathrooms',\n",
              "    'looked',\n",
              "    'special',\n",
              "    'good',\n",
              "    'perfect',\n",
              "    'great',\n",
              "    'legit',\n",
              "    'early'],\n",
              "   ['car',\n",
              "    '.',\n",
              "    'air',\n",
              "    '?',\n",
              "    'daily',\n",
              "    'cocktails',\n",
              "    'coffee',\n",
              "    'the',\n",
              "    '|',\n",
              "    '.',\n",
              "    'and',\n",
              "    'salad',\n",
              "    'heart',\n",
              "    'place',\n",
              "    '!',\n",
              "    'and',\n",
              "    '!',\n",
              "    'chicken',\n",
              "    'bellini',\n",
              "    'good',\n",
              "    'awesome',\n",
              "    'only',\n",
              "    'line',\n",
              "    'talent',\n",
              "    'make',\n",
              "    'or',\n",
              "    'it']]],\n",
              " (8694, 39039): [[        latitude  longitude  glten-free\n",
              "   15340  36.087423 -86.729044         0.0,\n",
              "   array([ 36.08685315, -86.73051853,   1.00000001])],\n",
              "  [array(-0.05875297), array(0.17864388), array(51.67903, dtype=float32)],\n",
              "  [[], []]],\n",
              " (8694, 2563): [[        latitude  longitude\n",
              "   34947  36.155476 -86.786445, array([ 36.15604545, -86.78791978])],\n",
              "  [array(-0.04660423), array(0.17475159)],\n",
              "  [['food', 'oooh', 'min', 'food', 'service', 'meh'],\n",
              "   ['|', 'that', '!', 'champagne', 'boston', 'all']]],\n",
              " (8694, 13006): [[        latitude  longitude\n",
              "   30532  36.160876 -86.775849, array([ 36.16030645, -86.77437415])],\n",
              "  [array(-0.04585609), array(0.1756701)],\n",
              "  [[], []]],\n",
              " (20172, 20093): [[        latitude  longitude  Open24Hours\n",
              "   31469  27.773275 -82.646465          0.0,\n",
              "   array([ 27.77384499, -82.64499087,  -1.00000002])],\n",
              "  [array(-1.51834583), array(0.45567703), array(-42.999485, dtype=float32)],\n",
              "  [[], []]],\n",
              " (20172, 432): [[       latitude  longitude\n",
              "   4907  27.965888 -82.800545, array([ 27.96645781, -82.80201951])],\n",
              "  [array(-1.48452699), array(0.44502917)],\n",
              "  [[], []]],\n",
              " (20172, 7380): [[        latitude  longitude\n",
              "   23831  27.771332 -82.647866, array([ 27.77190116, -82.64639114])],\n",
              "  [array(-1.51868713), array(0.45558208)],\n",
              "  [[], []]],\n",
              " (20172, 12278): [[        latitude  longitude\n",
              "   15069  27.785442 -82.638328, array([ 27.78487247, -82.63980292])],\n",
              "  [array(-1.51640964), array(0.45602882)],\n",
              "  [[], []]],\n",
              " (20172, 8852): [[        latitude  longitude\n",
              "   35394  27.770858 -82.655347, array([ 27.77142726, -82.65387245])],\n",
              "  [array(-1.51877034), array(0.45507479)],\n",
              "  [[], []]],\n",
              " (1669, 3851): [[        latitude  longitude\n",
              "   32929  28.190628  -82.37966, array([ 28.19119778, -82.3811346 ])],\n",
              "  [array(-1.44506729), array(0.47356871)],\n",
              "  [['great'], ['way']]],\n",
              " (1669, 6460): [[        latitude  longitude\n",
              "   17741  27.945109 -82.503044, array([ 27.94453933, -82.50451893])],\n",
              "  [array(-1.48837543), array(0.46520221)],\n",
              "  [['pad'], ['-']]],\n",
              " (1669, 16042): [[        latitude  longitude\n",
              "   38013  27.960776 -82.441861, array([ 27.96134601, -82.44038596])],\n",
              "  [array(-1.48542452), array(0.46955097)],\n",
              "  [[], []]],\n",
              " (1669, 15274): [[       latitude  longitude\n",
              "   4641  27.837718 -82.683277, array([ 27.83828735, -82.68475094])],\n",
              "  [array(-1.50703108), array(0.45298097)],\n",
              "  [[], []]],\n",
              " (1669, 13743): [[        latitude  longitude  glten-free\n",
              "   30132  28.186654 -82.440389         0.0,\n",
              "   array([ 28.18608462, -82.43891449,   1.00000001])],\n",
              "  [array(-1.44596505), array(0.46965075), array(51.67903, dtype=float32)],\n",
              "  [[], []]]}"
            ]
          },
          "metadata": {},
          "execution_count": 97
        }
      ]
    },
    {
      "cell_type": "markdown",
      "source": [
        "lr: 0.5    temp: 2.1    l1_b: 2.0 cs: 10.0\n",
        "\n",
        "100%|██████████| 200/200 [3:05:05<00:00, 55.53s/it]\n",
        "\n",
        "ave num:  7.604272634791455 no_exp_count:  17 exp_count:  983\n",
        "user's perspective:\n",
        "ave pre:  0.10146565224073595   ave rec:  0.0596981436812725   ave f1:  0.044375734057597545\n",
        "model's perspective:\n",
        "ave PN:  0.6073245167853509   ave PS:  0.6093591047812817   ave F_{NS}:  0.6083401096227847\n"
      ],
      "metadata": {
        "id": "6qorSlyUnMtq"
      }
    },
    {
      "cell_type": "markdown",
      "source": [],
      "metadata": {
        "id": "hO4FcyrknKQr"
      }
    },
    {
      "cell_type": "markdown",
      "source": [
        "cuda:0\n",
        "lr: 0.5    temp: 1.2    l1_b: 2.0 cs: 10.0\n",
        "\n",
        "100%|██████████| 20/20 [12:58<00:00, 38.93s/it]\n",
        "\n",
        "ave num:  11.545454545454545 no_exp_count:  56 exp_count:  44\n",
        "user's perspective:\n",
        "ave pre:  0.21838954696097554   ave rec:  0.14158176670886308   ave f1:  0.07718844089065417\n",
        "model's perspective:\n",
        "ave PN:  0.5909090909090909   ave PS:  0.7727272727272727   ave F_{NS}:  0.6696969696969697\n",
        "lr: 0.5    temp: 1.4    l1_b: 2.0 cs: 10.0\n",
        "\n",
        "100%|██████████| 20/20 [12:07<00:00, 36.40s/it]\n",
        "\n",
        "ave num:  11.962962962962964 no_exp_count:  46 exp_count:  54\n",
        "user's perspective:\n",
        "ave pre:  0.11443329397874852   ave rec:  0.048335890864539995   ave f1:  0.055200767874523146\n",
        "model's perspective:\n",
        "ave PN:  0.6111111111111112   ave PS:  0.7777777777777778   ave F_{NS}:  0.6844444444444445\n",
        "lr: 0.5    temp: 1.6    l1_b: 2.0 cs: 10.0\n",
        "\n",
        "100%|██████████| 20/20 [12:05<00:00, 36.27s/it]\n",
        "\n",
        "ave num:  7.864197530864198 no_exp_count:  19 exp_count:  81\n",
        "user's perspective:\n",
        "ave pre:  0.05103307186640519   ave rec:  0.030622997934398957   ave f1:  0.030397184870655028\n",
        "model's perspective:\n",
        "ave PN:  0.6172839506172839   ave PS:  0.7283950617283951   ave F_{NS}:  0.6682523502095368\n",
        "lr: 0.5    temp: 2.0    l1_b: 2.0 cs: 10.0\n",
        "\n",
        "100%|██████████| 20/20 [12:10<00:00, 36.53s/it]\n",
        "\n",
        "ave num:  4.818181818181818 no_exp_count:  1 exp_count:  99\n",
        "user's perspective:\n",
        "ave pre:  0.03797009442170732   ave rec:  0.03272272433036809   ave f1:  0.030745361285086394\n",
        "model's perspective:\n",
        "ave PN:  0.6060606060606061   ave PS:  0.7474747474747475   ave F_{NS}:  0.6693803708729082\n",
        "lr: 0.6    temp: 1.2    l1_b: 2.0 cs: 10.0\n",
        "\n",
        "100%|██████████| 20/20 [12:07<00:00, 36.39s/it]\n",
        "\n",
        "ave num:  11.891304347826088 no_exp_count:  54 exp_count:  46\n",
        "user's perspective:\n",
        "ave pre:  0.041746031746031746   ave rec:  0.04388211382113821   ave f1:  0.03756410256410256\n",
        "model's perspective:\n",
        "ave PN:  0.5652173913043478   ave PS:  0.717391304347826   ave F_{NS}:  0.632277081798084\n",
        "lr: 0.6    temp: 1.4    l1_b: 2.0 cs: 10.0\n",
        "\n",
        "100%|██████████| 20/20 [12:05<00:00, 36.27s/it]\n",
        "\n",
        "ave num:  11.384615384615385 no_exp_count:  48 exp_count:  52\n",
        "user's perspective:\n",
        "ave pre:  0.08272580881276533   ave rec:  0.08860615688874035   ave f1:  0.06701232570248103\n",
        "model's perspective:\n",
        "ave PN:  0.5961538461538461   ave PS:  0.7307692307692307   ave F_{NS}:  0.6566332218506131\n",
        "lr: 0.6    temp: 1.6    l1_b: 2.0 cs: 10.0\n",
        "\n",
        "100%|██████████| 20/20 [12:12<00:00, 36.63s/it]\n",
        "\n",
        "ave num:  7.650602409638554 no_exp_count:  17 exp_count:  83\n",
        "user's perspective:\n",
        "ave pre:  0.07514619883040935   ave rec:  0.03668190614818185   ave f1:  0.03791842198627664\n",
        "model's perspective:\n",
        "ave PN:  0.6144578313253012   ave PS:  0.7228915662650602   ave F_{NS}:  0.6642787365678932\n",
        "lr: 0.6    temp: 2.0    l1_b: 2.0 cs: 10.0\n",
        "\n",
        "100%|██████████| 20/20 [12:10<00:00, 36.53s/it]\n",
        "\n",
        "ave num:  4.79 no_exp_count:  0 exp_count:  100\n",
        "user's perspective:\n",
        "ave pre:  0.04858906525573192   ave rec:  0.033783354646206305   ave f1:  0.03552937292472176\n",
        "model's perspective:\n",
        "ave PN:  0.65   ave PS:  0.7   ave F_{NS}:  0.6740740740740739\n",
        "lr: 0.7    temp: 1.2    l1_b: 2.0 cs: 10.0\n",
        "\n",
        "100%|██████████| 20/20 [12:02<00:00, 36.14s/it]\n",
        "\n",
        "ave num:  16.51063829787234 no_exp_count:  53 exp_count:  47\n",
        "user's perspective:\n",
        "ave pre:  0.096986531986532   ave rec:  0.11798664670868786   ave f1:  0.06129446650455054\n",
        "model's perspective:\n",
        "ave PN:  0.48936170212765956   ave PS:  0.723404255319149   ave F_{NS}:  0.5837999253452781\n",
        "lr: 0.7    temp: 1.4    l1_b: 2.0 cs: 10.0\n",
        "\n",
        "100%|██████████| 20/20 [12:00<00:00, 36.00s/it]\n",
        "\n",
        "ave num:  14.266666666666667 no_exp_count:  40 exp_count:  60\n",
        "user's perspective:\n",
        "ave pre:  0.08449494346233477   ave rec:  0.1445242732494123   ave f1:  0.08686288552404228\n",
        "model's perspective:\n",
        "ave PN:  0.5666666666666667   ave PS:  0.7333333333333333   ave F_{NS}:  0.6393162393162394\n",
        "lr: 0.7    temp: 1.6    l1_b: 2.0 cs: 10.0\n",
        "\n",
        "100%|██████████| 20/20 [12:00<00:00, 36.03s/it]\n",
        "\n",
        "ave num:  6.848837209302325 no_exp_count:  14 exp_count:  86\n",
        "user's perspective:\n",
        "ave pre:  0.0606516290726817   ave rec:  0.029545237991568683   ave f1:  0.03406649287656153\n",
        "model's perspective:\n",
        "ave PN:  0.5930232558139535   ave PS:  0.7441860465116279   ave F_{NS}:  0.6600606673407482\n",
        "lr: 0.7    temp: 2.0    l1_b: 2.0 cs: 10.0\n",
        "\n",
        "100%|██████████| 20/20 [12:00<00:00, 36.04s/it]\n",
        "\n",
        "ave num:  4.6 no_exp_count:  0 exp_count:  100\n",
        "user's perspective:\n",
        "ave pre:  0.15701486013986013   ave rec:  0.030546655237147714   ave f1:  0.035520726541576265\n",
        "model's perspective:\n",
        "ave PN:  0.64   ave PS:  0.64   ave F_{NS}:  0.64\n"
      ],
      "metadata": {
        "id": "fjAcS7CIUgXr"
      }
    },
    {
      "cell_type": "code",
      "source": [
        "!nvidia-smi"
      ],
      "metadata": {
        "colab": {
          "base_uri": "https://localhost:8080/"
        },
        "id": "UW5200nGzIVL",
        "outputId": "959a8ef9-7737-4f35-929b-0f37d7842ce3"
      },
      "execution_count": null,
      "outputs": [
        {
          "output_type": "stream",
          "name": "stdout",
          "text": [
            "Sat Dec  3 14:38:26 2022       \n",
            "+-----------------------------------------------------------------------------+\n",
            "| NVIDIA-SMI 460.32.03    Driver Version: 460.32.03    CUDA Version: 11.2     |\n",
            "|-------------------------------+----------------------+----------------------+\n",
            "| GPU  Name        Persistence-M| Bus-Id        Disp.A | Volatile Uncorr. ECC |\n",
            "| Fan  Temp  Perf  Pwr:Usage/Cap|         Memory-Usage | GPU-Util  Compute M. |\n",
            "|                               |                      |               MIG M. |\n",
            "|===============================+======================+======================|\n",
            "|   0  Tesla T4            Off  | 00000000:00:04.0 Off |                    0 |\n",
            "| N/A   77C    P0    32W /  70W |  11450MiB / 15109MiB |      0%      Default |\n",
            "|                               |                      |                  N/A |\n",
            "+-------------------------------+----------------------+----------------------+\n",
            "                                                                               \n",
            "+-----------------------------------------------------------------------------+\n",
            "| Processes:                                                                  |\n",
            "|  GPU   GI   CI        PID   Type   Process name                  GPU Memory |\n",
            "|        ID   ID                                                   Usage      |\n",
            "|=============================================================================|\n",
            "+-----------------------------------------------------------------------------+\n"
          ]
        }
      ]
    },
    {
      "cell_type": "code",
      "source": [
        "import os\n",
        "os.environ['CUDA_VISIBLE_DEVICES']='2, 3'\n"
      ],
      "metadata": {
        "id": "BoUX1pBU0_ku"
      },
      "execution_count": null,
      "outputs": []
    },
    {
      "cell_type": "code",
      "source": [
        "torch.cuda.empty_cache()"
      ],
      "metadata": {
        "id": "GMpjQ8rrzsQF"
      },
      "execution_count": null,
      "outputs": []
    },
    {
      "cell_type": "code",
      "source": [
        "gc.collect()"
      ],
      "metadata": {
        "colab": {
          "base_uri": "https://localhost:8080/"
        },
        "id": "eD2mPYDxeHNB",
        "outputId": "6192c2f8-8336-40ac-9c13-101239ed13ba"
      },
      "execution_count": null,
      "outputs": [
        {
          "output_type": "execute_result",
          "data": {
            "text/plain": [
              "0"
            ]
          },
          "metadata": {},
          "execution_count": 196
        }
      ]
    },
    {
      "cell_type": "code",
      "execution_count": null,
      "metadata": {
        "colab": {
          "base_uri": "https://localhost:8080/",
          "height": 191
        },
        "id": "beV1zWiT0mcF",
        "outputId": "05e34026-a4e7-44c3-8b0d-274e75b1df2f"
      },
      "outputs": [
        {
          "data": {
            "text/html": [
              "\n",
              "  <div id=\"df-0dffb6d1-0d84-4039-a6f9-301c5422ca00\">\n",
              "    <div class=\"colab-df-container\">\n",
              "      <div>\n",
              "<style scoped>\n",
              "    .dataframe tbody tr th:only-of-type {\n",
              "        vertical-align: middle;\n",
              "    }\n",
              "\n",
              "    .dataframe tbody tr th {\n",
              "        vertical-align: top;\n",
              "    }\n",
              "\n",
              "    .dataframe thead th {\n",
              "        text-align: right;\n",
              "    }\n",
              "</style>\n",
              "<table border=\"1\" class=\"dataframe\">\n",
              "  <thead>\n",
              "    <tr style=\"text-align: right;\">\n",
              "      <th></th>\n",
              "      <th>business_id</th>\n",
              "      <th>latitude</th>\n",
              "      <th>longitude</th>\n",
              "      <th>extensions</th>\n",
              "      <th>tesday</th>\n",
              "      <th>karaoke</th>\n",
              "      <th>crly</th>\n",
              "      <th>BusinessParking</th>\n",
              "      <th>GoodForKids</th>\n",
              "      <th>soy-free</th>\n",
              "      <th>...</th>\n",
              "      <th>Sunday-14</th>\n",
              "      <th>Sunday-15</th>\n",
              "      <th>Sunday-16</th>\n",
              "      <th>Sunday-17</th>\n",
              "      <th>Sunday-18</th>\n",
              "      <th>Sunday-19</th>\n",
              "      <th>Sunday-20</th>\n",
              "      <th>Sunday-21</th>\n",
              "      <th>Sunday-22</th>\n",
              "      <th>Sunday-23</th>\n",
              "    </tr>\n",
              "  </thead>\n",
              "  <tbody>\n",
              "    <tr>\n",
              "      <th>5073</th>\n",
              "      <td>cXSyVvOr9YRN9diDkaWs0Q</td>\n",
              "      <td>0.617278</td>\n",
              "      <td>0.962269</td>\n",
              "      <td>-0.016158</td>\n",
              "      <td>0.199551</td>\n",
              "      <td>0.265498</td>\n",
              "      <td>-0.038524</td>\n",
              "      <td>0.0</td>\n",
              "      <td>1.081264</td>\n",
              "      <td>0.01214</td>\n",
              "      <td>...</td>\n",
              "      <td>0.682789</td>\n",
              "      <td>-1.406415</td>\n",
              "      <td>-1.366261</td>\n",
              "      <td>-1.203323</td>\n",
              "      <td>-1.045674</td>\n",
              "      <td>-0.964793</td>\n",
              "      <td>-0.837287</td>\n",
              "      <td>-0.638478</td>\n",
              "      <td>-0.45292</td>\n",
              "      <td>-0.386191</td>\n",
              "    </tr>\n",
              "  </tbody>\n",
              "</table>\n",
              "<p>1 rows × 258 columns</p>\n",
              "</div>\n",
              "      <button class=\"colab-df-convert\" onclick=\"convertToInteractive('df-0dffb6d1-0d84-4039-a6f9-301c5422ca00')\"\n",
              "              title=\"Convert this dataframe to an interactive table.\"\n",
              "              style=\"display:none;\">\n",
              "        \n",
              "  <svg xmlns=\"http://www.w3.org/2000/svg\" height=\"24px\"viewBox=\"0 0 24 24\"\n",
              "       width=\"24px\">\n",
              "    <path d=\"M0 0h24v24H0V0z\" fill=\"none\"/>\n",
              "    <path d=\"M18.56 5.44l.94 2.06.94-2.06 2.06-.94-2.06-.94-.94-2.06-.94 2.06-2.06.94zm-11 1L8.5 8.5l.94-2.06 2.06-.94-2.06-.94L8.5 2.5l-.94 2.06-2.06.94zm10 10l.94 2.06.94-2.06 2.06-.94-2.06-.94-.94-2.06-.94 2.06-2.06.94z\"/><path d=\"M17.41 7.96l-1.37-1.37c-.4-.4-.92-.59-1.43-.59-.52 0-1.04.2-1.43.59L10.3 9.45l-7.72 7.72c-.78.78-.78 2.05 0 2.83L4 21.41c.39.39.9.59 1.41.59.51 0 1.02-.2 1.41-.59l7.78-7.78 2.81-2.81c.8-.78.8-2.07 0-2.86zM5.41 20L4 18.59l7.72-7.72 1.47 1.35L5.41 20z\"/>\n",
              "  </svg>\n",
              "      </button>\n",
              "      \n",
              "  <style>\n",
              "    .colab-df-container {\n",
              "      display:flex;\n",
              "      flex-wrap:wrap;\n",
              "      gap: 12px;\n",
              "    }\n",
              "\n",
              "    .colab-df-convert {\n",
              "      background-color: #E8F0FE;\n",
              "      border: none;\n",
              "      border-radius: 50%;\n",
              "      cursor: pointer;\n",
              "      display: none;\n",
              "      fill: #1967D2;\n",
              "      height: 32px;\n",
              "      padding: 0 0 0 0;\n",
              "      width: 32px;\n",
              "    }\n",
              "\n",
              "    .colab-df-convert:hover {\n",
              "      background-color: #E2EBFA;\n",
              "      box-shadow: 0px 1px 2px rgba(60, 64, 67, 0.3), 0px 1px 3px 1px rgba(60, 64, 67, 0.15);\n",
              "      fill: #174EA6;\n",
              "    }\n",
              "\n",
              "    [theme=dark] .colab-df-convert {\n",
              "      background-color: #3B4455;\n",
              "      fill: #D2E3FC;\n",
              "    }\n",
              "\n",
              "    [theme=dark] .colab-df-convert:hover {\n",
              "      background-color: #434B5C;\n",
              "      box-shadow: 0px 1px 3px 1px rgba(0, 0, 0, 0.15);\n",
              "      filter: drop-shadow(0px 1px 2px rgba(0, 0, 0, 0.3));\n",
              "      fill: #FFFFFF;\n",
              "    }\n",
              "  </style>\n",
              "\n",
              "      <script>\n",
              "        const buttonEl =\n",
              "          document.querySelector('#df-0dffb6d1-0d84-4039-a6f9-301c5422ca00 button.colab-df-convert');\n",
              "        buttonEl.style.display =\n",
              "          google.colab.kernel.accessAllowed ? 'block' : 'none';\n",
              "\n",
              "        async function convertToInteractive(key) {\n",
              "          const element = document.querySelector('#df-0dffb6d1-0d84-4039-a6f9-301c5422ca00');\n",
              "          const dataTable =\n",
              "            await google.colab.kernel.invokeFunction('convertToInteractive',\n",
              "                                                     [key], {});\n",
              "          if (!dataTable) return;\n",
              "\n",
              "          const docLinkHtml = 'Like what you see? Visit the ' +\n",
              "            '<a target=\"_blank\" href=https://colab.research.google.com/notebooks/data_table.ipynb>data table notebook</a>'\n",
              "            + ' to learn more about interactive tables.';\n",
              "          element.innerHTML = '';\n",
              "          dataTable['output_type'] = 'display_data';\n",
              "          await google.colab.output.renderOutput(dataTable, element);\n",
              "          const docLink = document.createElement('div');\n",
              "          docLink.innerHTML = docLinkHtml;\n",
              "          element.appendChild(docLink);\n",
              "        }\n",
              "      </script>\n",
              "    </div>\n",
              "  </div>\n",
              "  "
            ],
            "text/plain": [
              "                 business_id  latitude  longitude  extensions    tesday  \\\n",
              "5073  cXSyVvOr9YRN9diDkaWs0Q  0.617278   0.962269   -0.016158  0.199551   \n",
              "\n",
              "       karaoke      crly  BusinessParking  GoodForKids  soy-free  ...  \\\n",
              "5073  0.265498 -0.038524              0.0     1.081264   0.01214  ...   \n",
              "\n",
              "      Sunday-14  Sunday-15  Sunday-16  Sunday-17  Sunday-18  Sunday-19  \\\n",
              "5073   0.682789  -1.406415  -1.366261  -1.203323  -1.045674  -0.964793   \n",
              "\n",
              "      Sunday-20  Sunday-21  Sunday-22  Sunday-23  \n",
              "5073  -0.837287  -0.638478   -0.45292  -0.386191  \n",
              "\n",
              "[1 rows x 258 columns]"
            ]
          },
          "execution_count": 146,
          "metadata": {},
          "output_type": "execute_result"
        }
      ],
      "source": [
        "scaled_features[scaled_features['business_id']=='cXSyVvOr9YRN9diDkaWs0Q']"
      ]
    },
    {
      "cell_type": "code",
      "execution_count": null,
      "metadata": {
        "colab": {
          "base_uri": "https://localhost:8080/"
        },
        "id": "tpvmvsuu0wnS",
        "outputId": "a5039612-e32b-4547-80a7-81c363be59c0"
      },
      "outputs": [
        {
          "data": {
            "text/plain": [
              "87"
            ]
          },
          "execution_count": 147,
          "metadata": {},
          "output_type": "execute_result"
        }
      ],
      "source": [
        "rec_dataset.item_name_dict['cXSyVvOr9YRN9diDkaWs0Q']"
      ]
    },
    {
      "cell_type": "code",
      "execution_count": null,
      "metadata": {
        "colab": {
          "base_uri": "https://localhost:8080/"
        },
        "id": "Z4BLdtkz02CG",
        "outputId": "f77fbfbc-65b3-40d5-bb25-6a2854874b73"
      },
      "outputs": [
        {
          "data": {
            "text/plain": [
              "array([ 6.1727804e-01,  9.6226919e-01, -6.2152386e-01,  1.4352431e+00,\n",
              "        2.6718395e+00, -5.3733215e-02, -1.2551033e+00,  4.1024658e-01,\n",
              "        1.2135880e-02, -1.2225970e+00, -1.3012578e+00, -6.4647146e-02,\n",
              "        0.0000000e+00,  0.0000000e+00, -3.8524136e-02,  2.6754642e-01,\n",
              "        1.1805184e+00,  4.0002968e-02,  1.2099340e-01,  4.5542073e+00,\n",
              "        2.3202303e-01,  1.6083758e-01,  2.3357999e-01, -1.3787478e+00,\n",
              "        9.2035896e-01,  1.6095901e+00,  1.4662104e+00,  0.0000000e+00,\n",
              "        1.8960987e+00,  1.4208582e-01, -4.4105849e+00,  0.0000000e+00,\n",
              "        7.4279788e-03,  0.0000000e+00,  1.6107263e-02,  1.1435419e+00,\n",
              "       -1.2140231e-02,  1.8206900e-02,  8.4562075e-01, -1.9275221e+00,\n",
              "        1.3727969e-02,  2.0366924e-01,  5.7547635e-01,  3.9616646e-03,\n",
              "       -2.8771944e-02,  0.0000000e+00, -3.1991590e-02, -1.6311872e+00,\n",
              "        3.1009293e-01,  4.0794546e-03,  0.0000000e+00, -4.9025949e-02,\n",
              "        2.6549846e-01,  2.0782132e+00,  1.1929584e-01, -1.6151328e-02,\n",
              "       -2.4084027e+00,  1.9416340e-01,  1.1924105e+00,  1.5514977e+00,\n",
              "        2.4528048e+00,  0.0000000e+00, -5.6240541e-01,  3.0494913e-01,\n",
              "        1.4440956e+00,  1.0812588e+00,  2.4101400e+00,  8.0699753e-03,\n",
              "        3.1136349e-01, -1.8079814e+00,  3.5957217e-02, -6.0231155e-01,\n",
              "        1.9955039e-01, -1.9962901e-04,  0.0000000e+00,  2.1622695e-01,\n",
              "        0.0000000e+00, -5.7623672e-01,  2.6611674e-01,  0.0000000e+00,\n",
              "       -1.3172898e+00,  8.1778569e-03, -1.2825866e+00,  0.0000000e+00,\n",
              "       -1.2872460e-02, -1.5671667e+00,  0.0000000e+00, -1.3185376e-01,\n",
              "       -1.2452461e+00, -7.2907740e-01, -7.1249568e-01, -6.8705451e-01,\n",
              "       -6.7601210e-01, -6.7913729e-01, -7.0964718e-01, -7.6560128e-01,\n",
              "       -8.6701214e-01, -9.9981803e-01,  8.2887954e-01,  6.4316821e-01,\n",
              "        4.3438798e-01,  4.0496975e-01,  4.0317649e-01, -2.4251995e+00,\n",
              "       -2.3673828e+00, -2.4033129e+00, -2.0708039e+00, -1.7351402e+00,\n",
              "       -1.5121696e+00, -1.2994765e+00, -1.0462911e+00, -8.3993006e-01,\n",
              "       -7.7443272e-01, -3.3565116e-01, -3.1374088e-01, -2.7788356e-01,\n",
              "       -2.6118070e-01, -2.6697302e-01, -3.1871000e-01, -4.0021208e-01,\n",
              "       -5.4564112e-01, -7.0709443e-01,  1.0629654e+00,  7.5347883e-01,\n",
              "        4.3355373e-01,  3.9057651e-01,  3.8839161e-01, -2.4721396e+00,\n",
              "       -2.3723152e+00, -2.4477541e+00, -2.0110960e+00, -1.5209639e+00,\n",
              "       -1.2499007e+00, -1.0011209e+00, -7.1911764e-01, -4.7494027e-01,\n",
              "       -3.9838308e-01, -3.3907169e-01, -3.1653062e-01, -2.7919969e-01,\n",
              "       -2.6166916e-01, -2.6756576e-01, -3.1870955e-01, -3.9974740e-01,\n",
              "       -5.4805672e-01, -7.1340191e-01,  1.0507044e+00,  7.3997653e-01,\n",
              "        4.0487772e-01,  3.5522887e-01,  3.5196501e-01, -2.7133815e+00,\n",
              "       -2.5957437e+00, -2.7437122e+00, -2.2270899e+00, -1.6545763e+00,\n",
              "       -1.3337084e+00, -1.0526068e+00, -7.4308705e-01, -4.8510620e-01,\n",
              "       -4.0460035e-01, -3.4618512e-01, -3.2189003e-01, -2.8339630e-01,\n",
              "       -2.6383221e-01, -2.6847425e-01, -3.1892014e-01, -4.0052211e-01,\n",
              "       -5.4865348e-01, -7.1616936e-01,  1.0471777e+00,  7.3462671e-01,\n",
              "        3.9552251e-01,  3.4475040e-01,  3.4230334e-01, -2.7724068e+00,\n",
              "       -2.6265719e+00, -2.7674050e+00, -2.2466779e+00, -1.6503879e+00,\n",
              "       -1.3235314e+00, -1.0430521e+00, -7.3929894e-01, -4.8973757e-01,\n",
              "       -4.1080594e-01, -3.8477293e-01, -3.4991178e-01, -2.9763442e-01,\n",
              "       -2.7083278e-01, -2.7247483e-01, -3.1881562e-01, -3.9626998e-01,\n",
              "       -5.4151803e-01, -7.1384770e-01,  1.0389422e+00,  7.2629416e-01,\n",
              "        3.8287479e-01,  3.2526112e-01,  3.2595223e-01, -2.8411899e+00,\n",
              "       -2.6174231e+00, -2.6329348e+00, -2.1258914e+00, -1.5767365e+00,\n",
              "       -1.2943171e+00, -1.0586815e+00, -8.1867284e-01, -5.9220535e-01,\n",
              "       -4.5525122e-01, -3.8678944e-01, -3.5067451e-01, -2.9705122e-01,\n",
              "       -2.6965496e-01, -2.6973417e-01, -2.9986936e-01, -3.6715564e-01,\n",
              "       -4.8452759e-01,  1.5795807e+00,  1.1385492e+00,  7.9802072e-01,\n",
              "        4.7840214e-01,  4.1227555e-01,  4.1925353e-01,  4.4987482e-01,\n",
              "       -2.0468652e+00, -1.9490551e+00, -1.6849687e+00, -1.3909343e+00,\n",
              "       -1.2143540e+00, -1.0516361e+00, -8.3005029e-01, -6.0196978e-01,\n",
              "       -4.6357235e-01, -3.2840261e-01, -3.0881819e-01, -2.7758932e-01,\n",
              "       -2.6142633e-01, -2.6514697e-01, -2.9302999e-01, -3.5084033e-01,\n",
              "       -4.4287178e-01,  1.8866422e+00,  1.6083367e+00,  1.2173312e+00,\n",
              "        8.1983411e-01,  6.7029101e-01,  6.6276872e-01,  6.8278772e-01,\n",
              "       -1.4064136e+00, -1.3662614e+00, -1.2033224e+00, -1.0456704e+00,\n",
              "       -9.6479166e-01, -8.3728313e-01, -6.3847148e-01, -4.5291671e-01,\n",
              "       -3.8619125e-01], dtype=float32)"
            ]
          },
          "execution_count": 156,
          "metadata": {},
          "output_type": "execute_result"
        }
      ],
      "source": [
        "rec_dataset.item_feature_matrix[87]"
      ]
    },
    {
      "cell_type": "code",
      "execution_count": null,
      "metadata": {
        "colab": {
          "base_uri": "https://localhost:8080/"
        },
        "id": "qgOJ5o_spPDs",
        "outputId": "e7d6c12e-7bbd-47a7-fa2e-d097951d9cd2"
      },
      "outputs": [
        {
          "data": {
            "text/plain": [
              "10.813683527586809"
            ]
          },
          "execution_count": 99,
          "metadata": {},
          "output_type": "execute_result"
        }
      ],
      "source": [
        "scaled_features['extensions'].max()"
      ]
    },
    {
      "cell_type": "code",
      "execution_count": null,
      "metadata": {
        "colab": {
          "base_uri": "https://localhost:8080/"
        },
        "id": "BfIfoZ208Js2",
        "outputId": "34f404d6-81e8-4ed2-f6e1-5e76da992edd"
      },
      "outputs": [
        {
          "data": {
            "text/plain": [
              "[54.923122700510184, -54.91502985278389, 0.004046423863150696]"
            ]
          },
          "execution_count": 272,
          "metadata": {},
          "output_type": "execute_result"
        }
      ],
      "source": [
        "list(set(scaled_features.iloc[:,90].values))"
      ]
    },
    {
      "cell_type": "code",
      "execution_count": null,
      "metadata": {
        "colab": {
          "base_uri": "https://localhost:8080/"
        },
        "id": "Oj-L-ZGYz8oS",
        "outputId": "737e7cc4-e166-44b4-aa63-5b189cf6f1c0"
      },
      "outputs": [
        {
          "data": {
            "text/plain": [
              "1130440"
            ]
          },
          "execution_count": 120,
          "metadata": {},
          "output_type": "execute_result"
        }
      ],
      "source": [
        "len(user_test_perspective.keys())"
      ]
    },
    {
      "cell_type": "markdown",
      "source": [
        "# Calculate Stability..."
      ],
      "metadata": {
        "id": "bnajzGunLKaI"
      }
    },
    {
      "cell_type": "code",
      "source": [
        "with open(os.path.join(data_obj_path, dataset + \"_dataset_obj_4.pickle\"), 'rb') as inp:\n",
        "        rec_dataset = pickle.load(inp)"
      ],
      "metadata": {
        "id": "VFQ19m61bTGf"
      },
      "execution_count": null,
      "outputs": []
    },
    {
      "cell_type": "code",
      "source": [
        "def generate_explanation_check_stability():\n",
        "    if gpu:\n",
        "        device = torch.device('cuda:%s' %cuda)\n",
        "    else:\n",
        "        device = 'cpu'\n",
        "    print(device)\n",
        "    # import dataset\n",
        "    # with open(os.path.join(data_obj_path, dataset + \"_dataset_obj_4.pickle\"), 'rb') as inp:\n",
        "    #     rec_dataset = pickle.load(inp)\n",
        "    \n",
        "    base_model = BaseRecModel(len(rec_dataset.features)+768).to(device)\n",
        "    base_model.load_state_dict(torch.load(os.path.join(base_model_path,\"model3.model\"),map_location=torch.device(device)))\n",
        "    base_model.eval()\n",
        "    #  fix the rec model\n",
        "    for param in base_model.parameters():\n",
        "        param.requires_grad = False\n",
        "    \n",
        "    \n",
        "    # Create optimization model\n",
        "    a=100.0\n",
        "    # bs=[1.0,2.0]\n",
        "    # cs=[1000.0,2000.0,10000.0]\n",
        "    lr=0.5\n",
        "    temp=2.1\n",
        "    b=2.0\n",
        "    c=10.0\n",
        "    features_found=[]\n",
        "    for i in range(10):\n",
        "      opt_model = ExpOptimizationModel(\n",
        "        base_model=base_model,\n",
        "        rec_dataset=rec_dataset,\n",
        "        device = device,)\n",
        "      opt_model.generate_explanation(lr,temp,a,b,c)\n",
        "      features_found.append(opt_model.u_i_exp_dict)\n",
        "      \n",
        "    \n",
        "    return features_found\n",
        "\n",
        "\n",
        "if __name__ == \"__main__\":\n",
        "    features_found=generate_explanation_check_stability()"
      ],
      "metadata": {
        "colab": {
          "base_uri": "https://localhost:8080/"
        },
        "id": "Jw3vT7lYtMMH",
        "outputId": "98044819-3085-43f7-aebe-2f9610a3b122"
      },
      "execution_count": null,
      "outputs": [
        {
          "output_type": "stream",
          "name": "stdout",
          "text": [
            "cuda:0\n"
          ]
        },
        {
          "output_type": "stream",
          "name": "stderr",
          "text": [
            "100%|██████████| 5/5 [02:32<00:00, 30.47s/it]\n"
          ]
        },
        {
          "output_type": "stream",
          "name": "stdout",
          "text": [
            "ave num:  2.0 no_exp_count:  0 exp_count:  25\n"
          ]
        },
        {
          "output_type": "stream",
          "name": "stderr",
          "text": [
            "100%|██████████| 5/5 [02:17<00:00, 27.55s/it]\n"
          ]
        },
        {
          "output_type": "stream",
          "name": "stdout",
          "text": [
            "ave num:  1.52 no_exp_count:  0 exp_count:  25\n"
          ]
        },
        {
          "output_type": "stream",
          "name": "stderr",
          "text": [
            "100%|██████████| 5/5 [02:16<00:00, 27.40s/it]\n"
          ]
        },
        {
          "output_type": "stream",
          "name": "stdout",
          "text": [
            "ave num:  1.72 no_exp_count:  0 exp_count:  25\n"
          ]
        },
        {
          "output_type": "stream",
          "name": "stderr",
          "text": [
            "100%|██████████| 5/5 [02:16<00:00, 27.30s/it]\n"
          ]
        },
        {
          "output_type": "stream",
          "name": "stdout",
          "text": [
            "ave num:  1.44 no_exp_count:  0 exp_count:  25\n"
          ]
        },
        {
          "output_type": "stream",
          "name": "stderr",
          "text": [
            "100%|██████████| 5/5 [02:16<00:00, 27.25s/it]\n"
          ]
        },
        {
          "output_type": "stream",
          "name": "stdout",
          "text": [
            "ave num:  1.92 no_exp_count:  0 exp_count:  25\n"
          ]
        },
        {
          "output_type": "stream",
          "name": "stderr",
          "text": [
            "100%|██████████| 5/5 [02:16<00:00, 27.21s/it]\n"
          ]
        },
        {
          "output_type": "stream",
          "name": "stdout",
          "text": [
            "ave num:  1.6 no_exp_count:  0 exp_count:  25\n"
          ]
        },
        {
          "output_type": "stream",
          "name": "stderr",
          "text": [
            "100%|██████████| 5/5 [02:15<00:00, 27.14s/it]\n"
          ]
        },
        {
          "output_type": "stream",
          "name": "stdout",
          "text": [
            "ave num:  1.96 no_exp_count:  0 exp_count:  25\n"
          ]
        },
        {
          "output_type": "stream",
          "name": "stderr",
          "text": [
            "100%|██████████| 5/5 [02:15<00:00, 27.12s/it]\n"
          ]
        },
        {
          "output_type": "stream",
          "name": "stdout",
          "text": [
            "ave num:  2.08 no_exp_count:  0 exp_count:  25\n"
          ]
        },
        {
          "output_type": "stream",
          "name": "stderr",
          "text": [
            "100%|██████████| 5/5 [02:15<00:00, 27.08s/it]\n"
          ]
        },
        {
          "output_type": "stream",
          "name": "stdout",
          "text": [
            "ave num:  2.04 no_exp_count:  0 exp_count:  25\n"
          ]
        },
        {
          "output_type": "stream",
          "name": "stderr",
          "text": [
            "100%|██████████| 5/5 [02:15<00:00, 27.08s/it]"
          ]
        },
        {
          "output_type": "stream",
          "name": "stdout",
          "text": [
            "ave num:  2.0 no_exp_count:  0 exp_count:  25\n"
          ]
        },
        {
          "output_type": "stream",
          "name": "stderr",
          "text": [
            "\n"
          ]
        }
      ]
    },
    {
      "cell_type": "code",
      "source": [
        "dict_features={}\n",
        "for iter_feas in features_found:\n",
        "  for u_i in iter_feas.keys():\n",
        "    feas=list(iter_feas[u_i][0][0].columns)\n",
        "    feas+=iter_feas[u_i][2][0]\n",
        "    if u_i in dict_features.keys():\n",
        "      dict_features[u_i].append(feas)\n",
        "    else:\n",
        "      dict_features[u_i]=[]\n",
        "      dict_features[u_i].append(feas)"
      ],
      "metadata": {
        "id": "nHcOCida1oXF"
      },
      "execution_count": null,
      "outputs": []
    },
    {
      "cell_type": "code",
      "source": [
        "dict_features"
      ],
      "metadata": {
        "id": "3J-zJC-yNKVh",
        "outputId": "9f83db97-68de-46fb-a75a-88454443dbe3",
        "colab": {
          "base_uri": "https://localhost:8080/"
        }
      },
      "execution_count": null,
      "outputs": [
        {
          "output_type": "execute_result",
          "data": {
            "text/plain": [
              "{(1717, 8101): [['latitude', 'longitude', 'past', 'groove', 'pork', 'beat'],\n",
              "  ['latitude', 'longitude', 'Open24Hours'],\n",
              "  ['latitude', 'longitude', 'reggae'],\n",
              "  ['latitude', 'longitude', 'Open24Hours'],\n",
              "  ['latitude', 'longitude', 'packed'],\n",
              "  ['latitude', 'longitude', 'Open24Hours', 'pork', 'place'],\n",
              "  ['latitude', 'longitude', 'Open24Hours', 'frenchman', 'music'],\n",
              "  ['latitude', 'longitude', 'Open24Hours', 'place', 'bottle'],\n",
              "  ['latitude', 'longitude', 'chill', 'crunk'],\n",
              "  ['latitude', 'longitude', 'make', 'frenchman']],\n",
              " (1717,\n",
              "  3766): [['latitude',\n",
              "   'longitude',\n",
              "   'walmart',\n",
              "   'like',\n",
              "   'everything',\n",
              "   'service',\n",
              "   'lazy',\n",
              "   'welcome'], ['latitude', 'longitude', 'aka', 'rude'], ['latitude',\n",
              "   'longitude',\n",
              "   'back',\n",
              "   'clowns',\n",
              "   'really',\n",
              "   'packs'], ['latitude', 'longitude', 'real', 'plan', 'history'], ['latitude',\n",
              "   'longitude',\n",
              "   'even',\n",
              "   'shambles',\n",
              "   'clowns',\n",
              "   'ugh'], ['latitude',\n",
              "   'longitude',\n",
              "   'vegetarian',\n",
              "   'crowds',\n",
              "   'currently',\n",
              "   'circus',\n",
              "   'keys'], ['latitude',\n",
              "   'longitude',\n",
              "   'dairy-free',\n",
              "   'cut',\n",
              "   'keys',\n",
              "   'smoking'], ['latitude',\n",
              "   'longitude',\n",
              "   'apple',\n",
              "   'hands',\n",
              "   'clowns'], ['latitude', 'longitude', 'use', 'sharpie'], ['latitude',\n",
              "   'longitude',\n",
              "   'section',\n",
              "   'worst',\n",
              "   'packs',\n",
              "   'visit']],\n",
              " (1717, 3027): [['latitude', 'longitude'],\n",
              "  ['latitude', 'longitude'],\n",
              "  ['latitude', 'longitude'],\n",
              "  ['latitude', 'longitude'],\n",
              "  ['latitude', 'longitude'],\n",
              "  ['latitude', 'longitude'],\n",
              "  ['latitude', 'longitude'],\n",
              "  ['latitude', 'longitude'],\n",
              "  ['latitude', 'longitude'],\n",
              "  ['latitude', 'longitude']],\n",
              " (1717, 18204): [['latitude', 'longitude', 'week'],\n",
              "  ['latitude', 'longitude', 'server', 'like', 'salad', 'pick'],\n",
              "  ['latitude', 'longitude', 'nice'],\n",
              "  ['latitude', 'longitude'],\n",
              "  ['latitude', 'longitude', 'service', 'pizza', 'hidden'],\n",
              "  ['latitude', 'longitude', 'whoop', 'wine'],\n",
              "  ['latitude', 'longitude', 'feel', 'small', 'wide'],\n",
              "  ['latitude', 'longitude', 'hummus', 'narcissist', 'wheat', 'wings'],\n",
              "  ['latitude', 'longitude'],\n",
              "  ['latitude', 'longitude', 'beer', 'pizza']],\n",
              " (1717,\n",
              "  27406): [['latitude',\n",
              "   'longitude',\n",
              "   'get',\n",
              "   'absolutely',\n",
              "   'hole',\n",
              "   'ice',\n",
              "   'bucks',\n",
              "   'restaurant',\n",
              "   'non',\n",
              "   'worth'], ['latitude', 'longitude', 'roast', 'level', 'bris'], ['latitude',\n",
              "   'longitude',\n",
              "   'gumbo',\n",
              "   'dank',\n",
              "   'never',\n",
              "   'boudin'], ['latitude',\n",
              "   'longitude',\n",
              "   'felt',\n",
              "   'late',\n",
              "   'poboys',\n",
              "   'bourbon',\n",
              "   'orleans',\n",
              "   'great',\n",
              "   'well',\n",
              "   'never'], ['latitude',\n",
              "   'longitude',\n",
              "   'worst',\n",
              "   'crawfish',\n",
              "   'poboy',\n",
              "   'best',\n",
              "   'poboy',\n",
              "   'level',\n",
              "   'mouths',\n",
              "   'find',\n",
              "   'exit',\n",
              "   'opinion'], ['latitude',\n",
              "   'longitude',\n",
              "   'really',\n",
              "   'amazing',\n",
              "   'pbr',\n",
              "   'boudin'], ['latitude',\n",
              "   'longitude',\n",
              "   'quarter',\n",
              "   'want',\n",
              "   'authentic',\n",
              "   'hungover',\n",
              "   'boy',\n",
              "   'amazing',\n",
              "   'indicated',\n",
              "   'close',\n",
              "   'side'], ['latitude',\n",
              "   'longitude',\n",
              "   'good',\n",
              "   'counter',\n",
              "   'worth',\n",
              "   'end',\n",
              "   'lucky'], ['latitude',\n",
              "   'longitude',\n",
              "   'expect',\n",
              "   'turf',\n",
              "   'raw',\n",
              "   'native'], ['latitude', 'longitude', 'fast', 'spicy', 'come', 'awesome', 'colored']],\n",
              " (6708, 3795): [['latitude', 'longitude'],\n",
              "  ['latitude', 'longitude', 'hours'],\n",
              "  ['latitude', 'longitude'],\n",
              "  ['latitude', 'longitude', 'bye'],\n",
              "  ['latitude', 'longitude', 'friendly'],\n",
              "  ['latitude', 'longitude', 'much', 'coffee'],\n",
              "  ['latitude', 'longitude', 'friendly'],\n",
              "  ['latitude', 'longitude'],\n",
              "  ['latitude', 'longitude', 'reuben'],\n",
              "  ['latitude',\n",
              "   'longitude',\n",
              "   'waitresses',\n",
              "   'chances',\n",
              "   'cuban',\n",
              "   'going',\n",
              "   'seems',\n",
              "   'downtown']],\n",
              " (6708,\n",
              "  129): [['latitude',\n",
              "   'longitude',\n",
              "   'Open24Hours',\n",
              "   'school',\n",
              "   'stuff',\n",
              "   'try',\n",
              "   'parking',\n",
              "   'place',\n",
              "   'lines',\n",
              "   'cheaper',\n",
              "   'back',\n",
              "   'hundreds',\n",
              "   'must',\n",
              "   'take',\n",
              "   'enjoy'], ['latitude',\n",
              "   'longitude',\n",
              "   'right',\n",
              "   'admission',\n",
              "   'looong',\n",
              "   'try',\n",
              "   'audio',\n",
              "   'security',\n",
              "   'bunch',\n",
              "   'tickets',\n",
              "   'well',\n",
              "   'pay',\n",
              "   'love',\n",
              "   'time',\n",
              "   'building',\n",
              "   'museum',\n",
              "   'awesome'], ['latitude',\n",
              "   'longitude',\n",
              "   'Open24Hours',\n",
              "   'gives',\n",
              "   'sure',\n",
              "   'get',\n",
              "   'min',\n",
              "   'family',\n",
              "   'germaphobe',\n",
              "   'friendly',\n",
              "   'close',\n",
              "   'tickets',\n",
              "   'discounts',\n",
              "   'varied',\n",
              "   'architecture',\n",
              "   'beautiful'], ['latitude',\n",
              "   'longitude',\n",
              "   'soy-free',\n",
              "   'loved',\n",
              "   'quiche',\n",
              "   'classy',\n",
              "   'brochures',\n",
              "   'friendly',\n",
              "   'going',\n",
              "   'tickets',\n",
              "   'kids',\n",
              "   'highly',\n",
              "   'knows',\n",
              "   'non',\n",
              "   'dali',\n",
              "   'usually',\n",
              "   'sure',\n",
              "   'location',\n",
              "   'must'], ['latitude',\n",
              "   'longitude',\n",
              "   'Open24Hours',\n",
              "   'take',\n",
              "   'thursday',\n",
              "   'see',\n",
              "   'plus',\n",
              "   'need',\n",
              "   'distancing',\n",
              "   'free',\n",
              "   'frida',\n",
              "   'hundreds',\n",
              "   'garden',\n",
              "   'sure',\n",
              "   'incredible',\n",
              "   'nice',\n",
              "   'petersburg'], ['latitude',\n",
              "   'longitude',\n",
              "   'open',\n",
              "   'building',\n",
              "   'stuff',\n",
              "   'treasure',\n",
              "   'tips',\n",
              "   'art',\n",
              "   'downloaded',\n",
              "   'cheaper',\n",
              "   'prices',\n",
              "   'museum',\n",
              "   'worker',\n",
              "   'take',\n",
              "   'place',\n",
              "   'new',\n",
              "   'varied',\n",
              "   'access',\n",
              "   'shop',\n",
              "   'never'], ['latitude',\n",
              "   'longitude',\n",
              "   'soy-free',\n",
              "   'holidays',\n",
              "   'exhibit',\n",
              "   'tour',\n",
              "   'surrealist',\n",
              "   'tour',\n",
              "   'fest',\n",
              "   'advance',\n",
              "   'recommend',\n",
              "   'museum',\n",
              "   'dali',\n",
              "   'easy'], ['latitude',\n",
              "   'longitude',\n",
              "   'saw',\n",
              "   'enjoyable',\n",
              "   'audio',\n",
              "   'unfriendly',\n",
              "   'online',\n",
              "   'discounts',\n",
              "   'card',\n",
              "   'amazing',\n",
              "   'park',\n",
              "   'knowing',\n",
              "   'art',\n",
              "   'nice',\n",
              "   'time',\n",
              "   'especially',\n",
              "   'gift'], ['latitude',\n",
              "   'longitude',\n",
              "   'Open24Hours',\n",
              "   'extremely',\n",
              "   'like',\n",
              "   'taste',\n",
              "   'brochures',\n",
              "   'bunch',\n",
              "   'cheaper',\n",
              "   'discounts',\n",
              "   'even',\n",
              "   'allowed',\n",
              "   'invasive',\n",
              "   'pay',\n",
              "   'new',\n",
              "   'works',\n",
              "   'time',\n",
              "   'purchase',\n",
              "   'access',\n",
              "   'come',\n",
              "   'must',\n",
              "   'dtsp'], ['latitude',\n",
              "   'longitude',\n",
              "   'Open24Hours',\n",
              "   'tree',\n",
              "   'weekends',\n",
              "   'see',\n",
              "   'die',\n",
              "   'dali',\n",
              "   'work',\n",
              "   'tour',\n",
              "   'staff',\n",
              "   'see',\n",
              "   'advanced',\n",
              "   'super',\n",
              "   'spots',\n",
              "   'check',\n",
              "   'take',\n",
              "   'art',\n",
              "   'cozy',\n",
              "   'especially',\n",
              "   'visited']],\n",
              " (6708, 12469): [['latitude', 'longitude', 'get', 'quiet', 'spicy', 'thank'],\n",
              "  ['latitude', 'longitude', 'hungry', 'bartenders', 'oysters', 'food'],\n",
              "  ['latitude',\n",
              "   'longitude',\n",
              "   'front',\n",
              "   'shrimp',\n",
              "   'guitar',\n",
              "   'change',\n",
              "   'oysters',\n",
              "   'eating',\n",
              "   'nice'],\n",
              "  ['latitude',\n",
              "   'longitude',\n",
              "   'oysters',\n",
              "   'friendly',\n",
              "   'crawfish',\n",
              "   'fresh',\n",
              "   'priced',\n",
              "   'pie',\n",
              "   'selection',\n",
              "   'great'],\n",
              "  ['latitude',\n",
              "   'longitude',\n",
              "   'way',\n",
              "   'fish',\n",
              "   'brunch',\n",
              "   'points',\n",
              "   'little',\n",
              "   'yum'],\n",
              "  ['latitude', 'longitude', 'josh', 'great', 'pie', 'fresh', 'love'],\n",
              "  ['latitude', 'longitude', 'eating', 'great'],\n",
              "  ['latitude',\n",
              "   'longitude',\n",
              "   'advantage',\n",
              "   'friendly',\n",
              "   'grab',\n",
              "   'drink',\n",
              "   'overpriced'],\n",
              "  ['latitude',\n",
              "   'longitude',\n",
              "   'lovers',\n",
              "   'playing',\n",
              "   'grouper',\n",
              "   'grab',\n",
              "   'food',\n",
              "   'phenomenal',\n",
              "   'bloody',\n",
              "   'sunday',\n",
              "   'great',\n",
              "   'thank'],\n",
              "  ['latitude', 'longitude', 'days', 'amateur', 'usual']],\n",
              " (6708, 2261): [['latitude', 'longitude', 'cakes', 'counter'],\n",
              "  ['latitude', 'longitude'],\n",
              "  ['latitude', 'longitude', 'great', 'clean', 'manager'],\n",
              "  ['latitude', 'longitude', 'til', 'cakes', 'sundays', 'place'],\n",
              "  ['latitude', 'longitude'],\n",
              "  ['latitude', 'longitude', 'produce', 'always', 'stuff'],\n",
              "  ['latitude', 'longitude', 'quiet', 'even'],\n",
              "  ['latitude', 'longitude', 'fabulous', 'tues', 'try', 'service'],\n",
              "  ['latitude', 'longitude', 'apple'],\n",
              "  ['latitude', 'longitude', 'high']],\n",
              " (6708, 4394): [['latitude', 'longitude', 'black'],\n",
              "  ['latitude', 'longitude'],\n",
              "  ['latitude', 'longitude'],\n",
              "  ['latitude', 'longitude'],\n",
              "  ['latitude', 'longitude', 'caribbean', 'nachos'],\n",
              "  ['latitude', 'longitude'],\n",
              "  ['latitude', 'longitude'],\n",
              "  ['latitude', 'longitude', 'caribbean', 'late'],\n",
              "  ['latitude', 'longitude'],\n",
              "  ['latitude', 'longitude', 'soy-free', 'perfect', 'fruit']],\n",
              " (8694,\n",
              "  6988): [['latitude',\n",
              "   'longitude',\n",
              "   'RestaurantsCounterService',\n",
              "   'great'], ['latitude', 'longitude', 'mine', 'sliced', 'place'], ['latitude',\n",
              "   'longitude'], ['latitude',\n",
              "   'longitude',\n",
              "   'RestaurantsCounterService'], ['latitude', 'longitude', 'fair'], ['latitude',\n",
              "   'longitude',\n",
              "   'RestaurantsCounterService'], ['latitude', 'longitude'], ['latitude',\n",
              "   'longitude'], ['latitude', 'longitude'], ['latitude',\n",
              "   'longitude',\n",
              "   'RestaurantsCounterService',\n",
              "   'nashville',\n",
              "   'simple',\n",
              "   'man']],\n",
              " (8694,\n",
              "  164): [['latitude',\n",
              "   'longitude',\n",
              "   'Open24Hours',\n",
              "   'bring',\n",
              "   'wonderful',\n",
              "   'peppers',\n",
              "   'hash',\n",
              "   'turn',\n",
              "   'hungry',\n",
              "   'drink',\n",
              "   'good',\n",
              "   'saturday',\n",
              "   'sunday',\n",
              "   'great',\n",
              "   'must',\n",
              "   'brunch',\n",
              "   'tavern',\n",
              "   'sandwich',\n",
              "   'representation',\n",
              "   'instead',\n",
              "   'customers',\n",
              "   'burger',\n",
              "   'friendly',\n",
              "   'service',\n",
              "   'early',\n",
              "   'food',\n",
              "   'tacos',\n",
              "   'tvs',\n",
              "   'good',\n",
              "   'amazing',\n",
              "   'white',\n",
              "   'well'], ['latitude',\n",
              "   'longitude',\n",
              "   'cheddar',\n",
              "   'forget',\n",
              "   'garlic',\n",
              "   'slow',\n",
              "   'gnat',\n",
              "   'best',\n",
              "   'burger',\n",
              "   'fish',\n",
              "   'crispy',\n",
              "   'vegan',\n",
              "   'salty',\n",
              "   'kat',\n",
              "   'cauliflower',\n",
              "   'tacos',\n",
              "   'guac',\n",
              "   'steak',\n",
              "   'egg',\n",
              "   'tho',\n",
              "   'kept'], ['latitude',\n",
              "   'longitude',\n",
              "   'Open24Hours',\n",
              "   'must',\n",
              "   'trash',\n",
              "   'eggrolls',\n",
              "   'chicken',\n",
              "   'summer',\n",
              "   'chips',\n",
              "   'selection',\n",
              "   'appetizer',\n",
              "   'sunday',\n",
              "   'mary',\n",
              "   'sunday',\n",
              "   'came',\n",
              "   'fancy',\n",
              "   'appetizer',\n",
              "   'busy',\n",
              "   'still',\n",
              "   'great',\n",
              "   'beer',\n",
              "   'great',\n",
              "   'great',\n",
              "   'rancheros',\n",
              "   'kept',\n",
              "   'salad'], ['latitude',\n",
              "   'longitude',\n",
              "   'Open24Hours',\n",
              "   'awesome',\n",
              "   'white',\n",
              "   'hungry',\n",
              "   'adventure',\n",
              "   'wednesday',\n",
              "   'guacamole',\n",
              "   'staring',\n",
              "   'much',\n",
              "   'omelette',\n",
              "   'incredible',\n",
              "   'menu'], ['latitude',\n",
              "   'longitude',\n",
              "   'Open24Hours',\n",
              "   'delicious',\n",
              "   'cool',\n",
              "   'must',\n",
              "   'ready',\n",
              "   'turn',\n",
              "   'brought',\n",
              "   'great',\n",
              "   'cheese',\n",
              "   'one',\n",
              "   'bun',\n",
              "   'garbage',\n",
              "   'sans',\n",
              "   'olives',\n",
              "   'drinks',\n",
              "   'drinks',\n",
              "   'service',\n",
              "   'place',\n",
              "   'nashville',\n",
              "   'service',\n",
              "   'chimichanga',\n",
              "   'tried',\n",
              "   'follow',\n",
              "   'tvs',\n",
              "   'white',\n",
              "   'food',\n",
              "   'menu',\n",
              "   'legendary'], ['latitude',\n",
              "   'longitude',\n",
              "   'soy-free',\n",
              "   'late',\n",
              "   'night',\n",
              "   'yam',\n",
              "   'two',\n",
              "   'try',\n",
              "   'hash',\n",
              "   'amazing',\n",
              "   'guys',\n",
              "   'game',\n",
              "   'totally',\n",
              "   'blah',\n",
              "   'highly',\n",
              "   'coleslaw',\n",
              "   'strip',\n",
              "   'done',\n",
              "   'better'], ['latitude',\n",
              "   'longitude',\n",
              "   'Open24Hours',\n",
              "   'rag',\n",
              "   'parking',\n",
              "   'wow',\n",
              "   'chicken',\n",
              "   'first',\n",
              "   'grilled',\n",
              "   'summer',\n",
              "   'selection',\n",
              "   'one',\n",
              "   'order',\n",
              "   'heart',\n",
              "   'awesome',\n",
              "   'pepperoncinis',\n",
              "   'amazing',\n",
              "   'using',\n",
              "   'black',\n",
              "   'uses',\n",
              "   'vegan',\n",
              "   'hospitality',\n",
              "   'least',\n",
              "   'place',\n",
              "   'nashville',\n",
              "   'skins',\n",
              "   'tacos',\n",
              "   'ordered',\n",
              "   'noon',\n",
              "   'sat',\n",
              "   'fav',\n",
              "   'bring',\n",
              "   'sunday',\n",
              "   'specialties',\n",
              "   'spicy',\n",
              "   'food',\n",
              "   'options'], ['latitude',\n",
              "   'longitude',\n",
              "   'Open24Hours',\n",
              "   'outside',\n",
              "   'white',\n",
              "   'cheesesteak',\n",
              "   'burger',\n",
              "   'cheese',\n",
              "   'july',\n",
              "   'guacamole',\n",
              "   'great',\n",
              "   'towards',\n",
              "   'around',\n",
              "   'wednesdays',\n",
              "   'stoli',\n",
              "   'falafel',\n",
              "   'good',\n",
              "   'recommend',\n",
              "   'menu',\n",
              "   'great',\n",
              "   'excellent',\n",
              "   'atmosphere',\n",
              "   'section',\n",
              "   'bathrooms',\n",
              "   'philly',\n",
              "   'town'], ['latitude',\n",
              "   'longitude',\n",
              "   'Open24Hours',\n",
              "   'delicious',\n",
              "   'black',\n",
              "   'martini',\n",
              "   'also',\n",
              "   'chicken',\n",
              "   'food',\n",
              "   'service',\n",
              "   'beer',\n",
              "   'drinks',\n",
              "   'tired',\n",
              "   'ride',\n",
              "   'representation',\n",
              "   'like',\n",
              "   'received',\n",
              "   'great',\n",
              "   'atmosphere',\n",
              "   'try',\n",
              "   'major',\n",
              "   'selection',\n",
              "   'called',\n",
              "   'guac',\n",
              "   'cocktails',\n",
              "   'flavors',\n",
              "   'vibe',\n",
              "   'ask',\n",
              "   'restaurant',\n",
              "   'dos',\n",
              "   'brunch',\n",
              "   'crave'], ['latitude',\n",
              "   'longitude',\n",
              "   'Open24Hours',\n",
              "   'lobster',\n",
              "   'ready',\n",
              "   'late',\n",
              "   'wraps',\n",
              "   'service',\n",
              "   'ones',\n",
              "   'great',\n",
              "   'food',\n",
              "   'amazing',\n",
              "   'still',\n",
              "   'grey',\n",
              "   'ask',\n",
              "   'away',\n",
              "   'time',\n",
              "   'meh',\n",
              "   'shoulda',\n",
              "   'kale',\n",
              "   'nashville',\n",
              "   'menu',\n",
              "   'stellar',\n",
              "   'town']],\n",
              " (8694, 39039): [['latitude', 'longitude', 'halal'],\n",
              "  ['latitude', 'longitude', 'halal'],\n",
              "  ['latitude', 'longitude', 'halal'],\n",
              "  ['latitude', 'longitude', 'halal'],\n",
              "  ['latitude', 'longitude', 'halal'],\n",
              "  ['latitude', 'longitude', 'halal'],\n",
              "  ['latitude', 'longitude', 'Open24Hours'],\n",
              "  ['latitude', 'longitude', 'halal'],\n",
              "  ['latitude', 'longitude', 'halal'],\n",
              "  ['latitude', 'longitude', 'halal']],\n",
              " (8694, 2563): [['latitude', 'longitude', 'ambience', 'yummy'],\n",
              "  ['latitude',\n",
              "   'longitude',\n",
              "   'great',\n",
              "   'blt',\n",
              "   'selection',\n",
              "   'dinner',\n",
              "   'definitely',\n",
              "   'turned'],\n",
              "  ['latitude',\n",
              "   'longitude',\n",
              "   'pizza',\n",
              "   'good',\n",
              "   'lighting',\n",
              "   'food',\n",
              "   'turned',\n",
              "   'true'],\n",
              "  ['latitude', 'longitude', 'dinner', 'meh', 'southern'],\n",
              "  ['latitude', 'longitude', 'dude', 'whiskey', 'pizzas'],\n",
              "  ['latitude',\n",
              "   'longitude',\n",
              "   'good',\n",
              "   'wrap',\n",
              "   'bomb',\n",
              "   'excellent',\n",
              "   'favor',\n",
              "   'good'],\n",
              "  ['latitude', 'longitude', 'outside', 'warm', 'good'],\n",
              "  ['latitude',\n",
              "   'longitude',\n",
              "   'gets',\n",
              "   'drinks',\n",
              "   'pic',\n",
              "   'turned',\n",
              "   'really',\n",
              "   'fun',\n",
              "   'southern'],\n",
              "  ['latitude', 'longitude', 'night', 'blt', 'aubrey'],\n",
              "  ['latitude', 'longitude', 'parking', 'ginger', 'friday']],\n",
              " (8694, 13006): [['latitude', 'longitude'],\n",
              "  ['latitude', 'longitude'],\n",
              "  ['latitude', 'longitude'],\n",
              "  ['latitude', 'longitude', 'gift'],\n",
              "  ['latitude', 'longitude'],\n",
              "  ['latitude', 'longitude'],\n",
              "  ['latitude', 'longitude'],\n",
              "  ['latitude', 'longitude'],\n",
              "  ['latitude', 'longitude'],\n",
              "  ['latitude', 'longitude', 'johnny']],\n",
              " (20172, 20093): [['latitude', 'longitude', 'halal'],\n",
              "  ['latitude', 'longitude', 'halal'],\n",
              "  ['latitude', 'longitude', 'halal'],\n",
              "  ['latitude', 'longitude', 'halal'],\n",
              "  ['latitude', 'longitude', 'halal'],\n",
              "  ['latitude', 'longitude', 'halal'],\n",
              "  ['latitude', 'longitude', 'halal'],\n",
              "  ['latitude', 'longitude', 'halal'],\n",
              "  ['latitude', 'longitude', 'halal'],\n",
              "  ['latitude', 'longitude', 'halal']],\n",
              " (20172, 432): [['latitude', 'longitude'],\n",
              "  ['latitude', 'longitude'],\n",
              "  ['latitude', 'longitude'],\n",
              "  ['latitude', 'longitude'],\n",
              "  ['latitude', 'longitude'],\n",
              "  ['latitude', 'longitude'],\n",
              "  ['latitude', 'longitude'],\n",
              "  ['latitude', 'longitude'],\n",
              "  ['latitude', 'longitude'],\n",
              "  ['latitude', 'longitude']],\n",
              " (20172, 7380): [['latitude', 'longitude'],\n",
              "  ['latitude', 'longitude'],\n",
              "  ['latitude', 'longitude'],\n",
              "  ['latitude', 'longitude'],\n",
              "  ['latitude', 'longitude'],\n",
              "  ['latitude', 'longitude'],\n",
              "  ['latitude', 'longitude'],\n",
              "  ['latitude', 'longitude', 'sauce', 'carne'],\n",
              "  ['latitude', 'longitude'],\n",
              "  ['latitude', 'longitude']],\n",
              " (20172, 12278): [['latitude', 'longitude'],\n",
              "  ['latitude', 'longitude'],\n",
              "  ['latitude', 'longitude'],\n",
              "  ['latitude', 'longitude'],\n",
              "  ['latitude', 'longitude'],\n",
              "  ['latitude', 'longitude'],\n",
              "  ['latitude', 'longitude', 'ask'],\n",
              "  ['latitude', 'longitude'],\n",
              "  ['latitude', 'longitude'],\n",
              "  ['latitude', 'longitude']],\n",
              " (20172, 8852): [['latitude', 'longitude', 'least'],\n",
              "  ['latitude', 'longitude'],\n",
              "  ['latitude', 'longitude'],\n",
              "  ['latitude', 'longitude', 'ask', 'ever'],\n",
              "  ['latitude', 'longitude'],\n",
              "  ['latitude', 'longitude'],\n",
              "  ['latitude', 'longitude'],\n",
              "  ['latitude', 'longitude'],\n",
              "  ['latitude', 'longitude'],\n",
              "  ['latitude', 'longitude']],\n",
              " (1669, 3851): [['latitude', 'longitude', 'rotten'],\n",
              "  ['latitude', 'longitude', 'different'],\n",
              "  ['latitude', 'longitude', 'new', 'menu'],\n",
              "  ['latitude', 'longitude'],\n",
              "  ['latitude', 'longitude'],\n",
              "  ['latitude', 'longitude', 'food'],\n",
              "  ['latitude', 'longitude'],\n",
              "  ['latitude', 'longitude', 'food'],\n",
              "  ['latitude', 'longitude', 'tonight'],\n",
              "  ['latitude', 'longitude', 'make']],\n",
              " (1669, 6460): [['latitude', 'longitude', 'americanized', 'brandon'],\n",
              "  ['latitude', 'longitude', 'atmosphere', 'fresh', 'mango'],\n",
              "  ['latitude', 'longitude', 'unless', 'runnerstales', 'spicy'],\n",
              "  ['latitude', 'longitude', 'chicken', 'pumpkin', 'refilling'],\n",
              "  ['latitude', 'longitude', 'treat'],\n",
              "  ['latitude', 'longitude', 'chicken', 'tastes'],\n",
              "  ['latitude', 'longitude', 'duck', 'prik', 'tom'],\n",
              "  ['latitude', 'longitude', 'rolls', 'curry', 'refilling'],\n",
              "  ['latitude', 'longitude', 'red', 'pumpkin', 'pumpkin'],\n",
              "  ['latitude', 'longitude', 'unless', 'dish', 'first']],\n",
              " (1669, 16042): [['latitude', 'longitude', 'coming'],\n",
              "  ['latitude', 'longitude'],\n",
              "  ['latitude', 'longitude', 'program'],\n",
              "  ['latitude', 'longitude'],\n",
              "  ['latitude', 'longitude'],\n",
              "  ['latitude', 'longitude'],\n",
              "  ['latitude', 'longitude'],\n",
              "  ['latitude', 'longitude'],\n",
              "  ['latitude', 'longitude'],\n",
              "  ['latitude', 'longitude']],\n",
              " (1669, 15274): [['latitude', 'longitude'],\n",
              "  ['latitude', 'longitude'],\n",
              "  ['latitude', 'longitude'],\n",
              "  ['latitude', 'longitude'],\n",
              "  ['latitude', 'longitude'],\n",
              "  ['latitude', 'longitude'],\n",
              "  ['latitude', 'longitude'],\n",
              "  ['latitude', 'longitude', 'party'],\n",
              "  ['latitude', 'longitude', 'nice'],\n",
              "  ['latitude', 'longitude']],\n",
              " (1669, 13743): [['latitude', 'longitude'],\n",
              "  ['latitude', 'longitude', 'nog', 'omg'],\n",
              "  ['latitude', 'longitude', 'soy-free'],\n",
              "  ['latitude', 'longitude', 'Open24Hours', 'baristas'],\n",
              "  ['latitude', 'longitude'],\n",
              "  ['latitude', 'longitude'],\n",
              "  ['latitude', 'longitude'],\n",
              "  ['latitude', 'longitude'],\n",
              "  ['latitude', 'longitude'],\n",
              "  ['latitude', 'longitude']]}"
            ]
          },
          "metadata": {},
          "execution_count": 189
        }
      ]
    },
    {
      "cell_type": "code",
      "source": [
        "stability=0\n",
        "# count_all=0\n",
        "for ui in dict_features.keys():\n",
        "  features=dict_features[ui]\n",
        "  stabs=0\n",
        "  count=0\n",
        "  if(len(features)>1):\n",
        "    # count_all+=1\n",
        "    for i in range(len(features)):\n",
        "      for j in range(len(features)):\n",
        "        if i != j:\n",
        "          intersection = list(set(features[i]) & set(features[j]))\n",
        "          union = list(set(features[i]) | set(features[j]))\n",
        "          # print(features[i],features[j])\n",
        "          # print(intersection)\n",
        "          # print(union)\n",
        "          count+=1\n",
        "          stabs+=(len(intersection)/len(union))\n",
        "    # print(stabs)\n",
        "    # print(len(features)*(len(features)-1))\n",
        "    # print((stabs/(len(features)*(len(features)-1))))\n",
        "    stability+=(stabs/(9.0*10.0))\n",
        "\n",
        "stability=stability/len(dict_features)\n",
        "print(stability)"
      ],
      "metadata": {
        "colab": {
          "base_uri": "https://localhost:8080/"
        },
        "id": "YzjzCNTA5Nxu",
        "outputId": "817e1677-163d-4102-ea30-7296a8d8123c"
      },
      "execution_count": null,
      "outputs": [
        {
          "output_type": "stream",
          "name": "stdout",
          "text": [
            "0.5928502183757306\n"
          ]
        }
      ]
    }
  ],
  "metadata": {
    "colab": {
      "machine_shape": "hm",
      "provenance": [],
      "collapsed_sections": [
        "GU5-lgWiKDV-"
      ]
    },
    "gpuClass": "standard",
    "kernelspec": {
      "display_name": "Python 3",
      "name": "python3"
    },
    "language_info": {
      "name": "python"
    },
    "accelerator": "GPU"
  },
  "nbformat": 4,
  "nbformat_minor": 0
}